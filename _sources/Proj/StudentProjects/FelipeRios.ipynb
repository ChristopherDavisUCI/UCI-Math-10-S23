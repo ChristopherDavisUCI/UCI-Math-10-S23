{
 "cells": [
  {
   "cell_type": "markdown",
   "metadata": {
    "cell_id": "97c9cf9e04434d5a955f4a43863d5589",
    "deepnote_cell_type": "markdown",
    "tags": []
   },
   "source": [
    "# Predicting Forza Horizon Car Classes and Ratings\n",
    "\n",
    "Author: Felipe I Rios\n",
    "\n",
    "Course Project, UC Irvine, Math 10, S23"
   ]
  },
  {
   "cell_type": "markdown",
   "metadata": {
    "cell_id": "a983a630dc45483a9adc544f3873021b",
    "deepnote_cell_type": "markdown",
    "tags": []
   },
   "source": [
    "## Introduction"
   ]
  },
  {
   "cell_type": "markdown",
   "metadata": {
    "cell_id": "0ec700540fbd4d5e955acca962a808a3",
    "deepnote_cell_type": "markdown"
   },
   "source": [
    "Since I was younger, my favorite genre of video games have always been racing or driving simulator games and I remembered how it is that cars have stats to determine how good they are in the game. One game in particular, Forza Horizon, not only has stats to determine how good the cars are, but the game also has a classification in system in place that corresponds to how good the game is. As such, this will serve as the basis for this project, where I will see if the machine can accurately predict the classification classes bases on the various stats. "
   ]
  },
  {
   "cell_type": "markdown",
   "metadata": {
    "cell_id": "bcee1cf38a6748d18b30085bdbfbf1f3",
    "deepnote_cell_type": "markdown",
    "tags": []
   },
   "source": [
    "## Cleaning up the Data & Determining Inputs\n",
    "\n"
   ]
  },
  {
   "cell_type": "code",
   "execution_count": 1,
   "metadata": {
    "cell_id": "f874b52f09a34037b7fa0973366cf2f4",
    "deepnote_cell_type": "code",
    "deepnote_to_be_reexecuted": false,
    "execution_millis": 148,
    "execution_start": 1686781805894,
    "source_hash": "7baafd37"
   },
   "outputs": [],
   "source": [
    "import numpy as np\n",
    "import pandas as pd\n",
    "import altair as alt"
   ]
  },
  {
   "cell_type": "code",
   "execution_count": 2,
   "metadata": {
    "cell_id": "2a2fb540333a4f4bbb3dbcb49bf9316f",
    "deepnote_cell_type": "code",
    "deepnote_to_be_reexecuted": false,
    "execution_millis": 274,
    "execution_start": 1686781806047,
    "source_hash": "da533731"
   },
   "outputs": [
    {
     "data": {
      "application/vnd.deepnote.dataframe.v3+json": {
       "column_count": 22,
       "columns": [
        {
         "dtype": "object",
         "name": "Car_Image",
         "stats": {
          "categories": [
           {
            "count": 1,
            "name": "https://www.kudosprime.com/fh5/images/cars/side/fh5_car_001.jpg?v=1"
           },
           {
            "count": 1,
            "name": "https://www.kudosprime.com/fh5/images/cars/side/fh5_car_002.jpg?v=1"
           },
           {
            "count": 537,
            "name": "537 others"
           }
          ],
          "nan_count": 0,
          "unique_count": 539
         }
        },
        {
         "dtype": "object",
         "name": "Name_and_model",
         "stats": {
          "categories": [
           {
            "count": 1,
            "name": "2001 Acura Integra Type R"
           },
           {
            "count": 1,
            "name": "2002 Acura RSX Type S"
           },
           {
            "count": 537,
            "name": "537 others"
           }
          ],
          "nan_count": 0,
          "unique_count": 539
         }
        },
        {
         "dtype": "object",
         "name": "Model_type",
         "stats": {
          "categories": [
           {
            "count": 36,
            "name": "RETRO SPORTS CARS"
           },
           {
            "count": 32,
            "name": "TRACK TOYS"
           },
           {
            "count": 471,
            "name": "37 others"
           }
          ],
          "nan_count": 0,
          "unique_count": 39
         }
        },
        {
         "dtype": "object",
         "name": "In_Game_Price",
         "stats": {
          "categories": [
           {
            "count": 41,
            "name": "500,000"
           },
           {
            "count": 32,
            "name": "25,000"
           },
           {
            "count": 466,
            "name": "162 others"
           }
          ],
          "nan_count": 0,
          "unique_count": 164
         }
        },
        {
         "dtype": "object",
         "name": "car_source",
         "stats": {
          "categories": [
           {
            "count": 431,
            "name": "Autoshow"
           },
           {
            "count": 48,
            "name": "Wheelspin"
           },
           {
            "count": 60,
            "name": "7 others"
           }
          ],
          "nan_count": 0,
          "unique_count": 9
         }
        },
        {
         "dtype": "object",
         "name": "stock_specs",
         "stats": {
          "categories": [
           {
            "count": 122,
            "name": "S1"
           },
           {
            "count": 113,
            "name": "A"
           },
           {
            "count": 304,
            "name": "5 others"
           }
          ],
          "nan_count": 0,
          "unique_count": 7
         }
        },
        {
         "dtype": "object",
         "name": "Stock_Rating",
         "stats": {
          "categories": [
           {
            "count": 11,
            "name": "100.0"
           },
           {
            "count": 9,
            "name": "800.0"
           },
           {
            "count": 519,
            "name": "346 others"
           }
          ],
          "nan_count": 0,
          "unique_count": 348
         }
        },
        {
         "dtype": "object",
         "name": "Drive_Type",
         "stats": {
          "categories": [
           {
            "count": 348,
            "name": "RWD"
           },
           {
            "count": 157,
            "name": "AWD"
           },
           {
            "count": 34,
            "name": "2 others"
           }
          ],
          "nan_count": 0,
          "unique_count": 4
         }
        },
        {
         "dtype": "object",
         "name": "speed",
         "stats": {
          "categories": [
           {
            "count": 21,
            "name": "7.6"
           },
           {
            "count": 20,
            "name": "6.7"
           },
           {
            "count": 498,
            "name": "74 others"
           }
          ],
          "nan_count": 0,
          "unique_count": 76
         }
        },
        {
         "dtype": "object",
         "name": "handling",
         "stats": {
          "categories": [
           {
            "count": 21,
            "name": "5.5"
           },
           {
            "count": 19,
            "name": "5.3"
           },
           {
            "count": 499,
            "name": "71 others"
           }
          ],
          "nan_count": 0,
          "unique_count": 73
         }
        },
        {
         "dtype": "object",
         "name": "acceleration",
         "stats": {
          "categories": [
           {
            "count": 20,
            "name": "5.2"
           },
           {
            "count": 17,
            "name": "5.0"
           },
           {
            "count": 502,
            "name": "85 others"
           }
          ],
          "nan_count": 0,
          "unique_count": 87
         }
        },
        {
         "dtype": "object",
         "name": "launch",
         "stats": {
          "categories": [
           {
            "count": 18,
            "name": "3.1"
           },
           {
            "count": 17,
            "name": "10.0"
           },
           {
            "count": 504,
            "name": "85 others"
           }
          ],
          "nan_count": 0,
          "unique_count": 87
         }
        },
        {
         "dtype": "object",
         "name": "braking",
         "stats": {
          "categories": [
           {
            "count": 21,
            "name": "10.0"
           },
           {
            "count": 20,
            "name": "3.7"
           },
           {
            "count": 498,
            "name": "79 others"
           }
          ],
          "nan_count": 0,
          "unique_count": 81
         }
        },
        {
         "dtype": "object",
         "name": "Offroad",
         "stats": {
          "categories": [
           {
            "count": 34,
            "name": "4.7"
           },
           {
            "count": 34,
            "name": "4.6"
           },
           {
            "count": 471,
            "name": "62 others"
           }
          ],
          "nan_count": 0,
          "unique_count": 64
         }
        },
        {
         "dtype": "object",
         "name": "Top_Speed",
         "stats": {
          "categories": [
           {
            "count": 399,
            "name": "info_not_found"
           },
           {
            "count": 5,
            "name": "0.0 Mph"
           },
           {
            "count": 135,
            "name": "129 others"
           }
          ],
          "nan_count": 0,
          "unique_count": 131
         }
        },
        {
         "dtype": "object",
         "name": "0-60_Mph",
         "stats": {
          "categories": [
           {
            "count": 399,
            "name": "info_not_found"
           },
           {
            "count": 15,
            "name": "2.8s"
           },
           {
            "count": 125,
            "name": "56 others"
           }
          ],
          "nan_count": 0,
          "unique_count": 58
         }
        },
        {
         "dtype": "object",
         "name": "0-100_Mph",
         "stats": {
          "categories": [
           {
            "count": 399,
            "name": "info_not_found"
           },
           {
            "count": 4,
            "name": "5.1s"
           },
           {
            "count": 136,
            "name": "92 others"
           }
          ],
          "nan_count": 0,
          "unique_count": 94
         }
        },
        {
         "dtype": "object",
         "name": "g-force",
         "stats": {
          "categories": [
           {
            "count": 399,
            "name": "info_not_found"
           },
           {
            "count": 9,
            "name": "0.92 g"
           },
           {
            "count": 131,
            "name": "63 others"
           }
          ],
          "nan_count": 0,
          "unique_count": 65
         }
        },
        {
         "dtype": "object",
         "name": "car_source_1",
         "stats": {
          "categories": [
           {
            "count": 390,
            "name": "Wheelspin"
           },
           {
            "count": 62,
            "name": "info_not_found"
           },
           {
            "count": 87,
            "name": "4 others"
           }
          ],
          "nan_count": 0,
          "unique_count": 6
         }
        },
        {
         "dtype": "object",
         "name": "car_source_2",
         "stats": {
          "categories": [
           {
            "count": 416,
            "name": "info_not_found"
           },
           {
            "count": 51,
            "name": "Accolade"
           },
           {
            "count": 72,
            "name": "3 others"
           }
          ],
          "nan_count": 0,
          "unique_count": 5
         }
        },
        {
         "dtype": "object",
         "name": "Horse_Power",
         "stats": {
          "categories": [
           {
            "count": 9,
            "name": "450"
           },
           {
            "count": 8,
            "name": "375"
           },
           {
            "count": 522,
            "name": "309 others"
           }
          ],
          "nan_count": 0,
          "unique_count": 311
         }
        },
        {
         "dtype": "object",
         "name": "Weight_lbs",
         "stats": {
          "categories": [
           {
            "count": 9,
            "name": "2,800"
           },
           {
            "count": 6,
            "name": "2,425"
           },
           {
            "count": 524,
            "name": "399 others"
           }
          ],
          "nan_count": 0,
          "unique_count": 401
         }
        },
        {
         "dtype": "int64",
         "name": "_deepnote_index_column"
        }
       ],
       "row_count": 539,
       "rows": [
        {
         "0-100_Mph": "14.7s",
         "0-60_Mph": "6.2s",
         "Car_Image": "https://www.kudosprime.com/fh5/images/cars/side/fh5_car_001.jpg?v=1",
         "Drive_Type": "FWD",
         "Horse_Power": "195",
         "In_Game_Price": "25,000",
         "Model_type": "RETRO HOT HATCH",
         "Name_and_model": "2001 Acura Integra Type R",
         "Offroad": "5.1",
         "Stock_Rating": "596.0",
         "Top_Speed": "155.5 Mph",
         "Weight_lbs": "2,639",
         "_deepnote_index_column": 0,
         "acceleration": "3.9",
         "braking": "3.4",
         "car_source": "Autoshow",
         "car_source_1": "info_not_found",
         "car_source_2": "info_not_found",
         "g-force": "0.90 g",
         "handling": "5.1",
         "launch": "3.1",
         "speed": "5.6",
         "stock_specs": "C"
        },
        {
         "0-100_Mph": "info_not_found",
         "0-60_Mph": "info_not_found",
         "Car_Image": "https://www.kudosprime.com/fh5/images/cars/side/fh5_car_002.jpg?v=1",
         "Drive_Type": "FWD",
         "Horse_Power": "200",
         "In_Game_Price": "25,000",
         "Model_type": "RETRO HOT HATCH",
         "Name_and_model": "2002 Acura RSX Type S",
         "Offroad": "5.3",
         "Stock_Rating": "585.0",
         "Top_Speed": "info_not_found",
         "Weight_lbs": "2,820",
         "_deepnote_index_column": 1,
         "acceleration": "3.9",
         "braking": "3.5",
         "car_source": "Autoshow",
         "car_source_1": "info_not_found",
         "car_source_2": "info_not_found",
         "g-force": "info_not_found",
         "handling": "5.1",
         "launch": "3.0",
         "speed": "5.6",
         "stock_specs": "C"
        },
        {
         "0-100_Mph": "info_not_found",
         "0-60_Mph": "info_not_found",
         "Car_Image": "https://www.kudosprime.com/fh5/images/cars/side/fh5_car_003.jpg?v=1",
         "Drive_Type": "AWD",
         "Horse_Power": "573",
         "In_Game_Price": "170,000",
         "Model_type": "MODERN SUPERCARS",
         "Name_and_model": "2017 Acura NSX",
         "Offroad": "4.7",
         "Stock_Rating": "831.0",
         "Top_Speed": "info_not_found",
         "Weight_lbs": "3,803",
         "_deepnote_index_column": 2,
         "acceleration": "9.2",
         "braking": "7.1",
         "car_source": "Autoshow",
         "car_source_1": "info_not_found",
         "car_source_2": "info_not_found",
         "g-force": "info_not_found",
         "handling": "7.0",
         "launch": "10.0",
         "speed": "7.0",
         "stock_specs": "S1"
        },
        {
         "0-100_Mph": "20.6s",
         "0-60_Mph": "7.0s",
         "Car_Image": "https://www.kudosprime.com/fh5/images/cars/side/fh5_car_004.jpg?v=1",
         "Drive_Type": "RWD",
         "Horse_Power": "123",
         "In_Game_Price": "98,000",
         "Model_type": "CLASSIC RALLY",
         "Name_and_model": "1973 Alpine A110 1600s",
         "Offroad": "5.3",
         "Stock_Rating": "550.0",
         "Top_Speed": "138.0 Mph",
         "Weight_lbs": "1,576",
         "_deepnote_index_column": 3,
         "acceleration": "4.1",
         "braking": "3.0",
         "car_source": "Autoshow",
         "car_source_1": "info_not_found",
         "car_source_2": "info_not_found",
         "g-force": "0.84 g",
         "handling": "4.4",
         "launch": "3.1",
         "speed": "5.0",
         "stock_specs": "C"
        },
        {
         "0-100_Mph": "info_not_found",
         "0-60_Mph": "info_not_found",
         "Car_Image": "https://www.kudosprime.com/fh5/images/cars/side/fh5_car_005.jpg?v=1",
         "Drive_Type": "RWD",
         "Horse_Power": "248",
         "In_Game_Price": "67,500",
         "Model_type": "MODERN SPORTS CARS",
         "Name_and_model": "2017 Alpine A110",
         "Offroad": "4.2",
         "Stock_Rating": "694.0",
         "Top_Speed": "info_not_found",
         "Weight_lbs": "2,432",
         "_deepnote_index_column": 4,
         "acceleration": "5.4",
         "braking": "4.2",
         "car_source": "Wheelspin",
         "car_source_1": "Season Event",
         "car_source_2": "Festival Playlist",
         "g-force": "info_not_found",
         "handling": "6.4",
         "launch": "5.7",
         "speed": "6.0",
         "stock_specs": "B"
        },
        {
         "0-100_Mph": "info_not_found",
         "0-60_Mph": "info_not_found",
         "Car_Image": "https://www.kudosprime.com/fh5/images/cars/side/fh5_car_006.jpg?v=1",
         "Drive_Type": "RWD",
         "Horse_Power": "196",
         "In_Game_Price": "300,000",
         "Model_type": "UNLIMITED BUGGIES",
         "Name_and_model": "2015 Alumi Craft Class 10 Race Car",
         "Offroad": "10.0",
         "Stock_Rating": "642.0",
         "Top_Speed": "info_not_found",
         "Weight_lbs": "2,200",
         "_deepnote_index_column": 5,
         "acceleration": "5.0",
         "braking": "4.8",
         "car_source": "Autoshow",
         "car_source_1": "Wheelspin",
         "car_source_2": "info_not_found",
         "g-force": "info_not_found",
         "handling": "3.8",
         "launch": "4.1",
         "speed": "4.4",
         "stock_specs": "B"
        },
        {
         "0-100_Mph": "25.1s",
         "0-60_Mph": "9.6s",
         "Car_Image": "https://www.kudosprime.com/fh5/images/cars/side/fh5_car_007.jpg?v=1",
         "Drive_Type": "RWD",
         "Horse_Power": "150",
         "In_Game_Price": "35,000",
         "Model_type": "CULT CARS",
         "Name_and_model": "1973 AMC Gremlin X",
         "Offroad": "5.2",
         "Stock_Rating": "403.0",
         "Top_Speed": "112.0 Mph",
         "Weight_lbs": "2,840",
         "_deepnote_index_column": 6,
         "acceleration": "3.4",
         "braking": "2.3",
         "car_source": "Autoshow",
         "car_source_1": "Wheelspin",
         "car_source_2": "info_not_found",
         "g-force": "0.78 g",
         "handling": "3.9",
         "launch": "3.4",
         "speed": "4.0",
         "stock_specs": "D"
        },
        {
         "0-100_Mph": "9.2s",
         "0-60_Mph": "3.5s",
         "Car_Image": "https://www.kudosprime.com/fh5/images/cars/side/fh5_car_008.jpg?v=1",
         "Drive_Type": "AWD",
         "Horse_Power": "720",
         "In_Game_Price": "850,000",
         "Model_type": "UNLIMITED OFFROAD",
         "Name_and_model": "2554 AMG TRANSPORT DYNAMICS M12S Warthog CST",
         "Offroad": "10.0",
         "Stock_Rating": "719.0",
         "Top_Speed": "116.9 Mph",
         "Weight_lbs": "5,071",
         "_deepnote_index_column": 7,
         "acceleration": "8.6",
         "braking": "6.7",
         "car_source": "Autoshow",
         "car_source_1": "Wheelspin",
         "car_source_2": "info_not_found",
         "g-force": "0.96 g",
         "handling": "4.1",
         "launch": "10.0",
         "speed": "4.2",
         "stock_specs": "A"
        },
        {
         "0-100_Mph": "5.0s",
         "0-60_Mph": "2.6s",
         "Car_Image": "https://www.kudosprime.com/fh5/images/cars/side/fh5_car_009.jpg?v=1",
         "Drive_Type": "RWD",
         "Horse_Power": "780",
         "In_Game_Price": "1,500,000",
         "Model_type": "EXTREME TRACK TOYS",
         "Name_and_model": "2018 Apollo Intensa Emozione",
         "Offroad": "3.9",
         "Stock_Rating": "963.0",
         "Top_Speed": "204.5 Mph",
         "Weight_lbs": "2,756",
         "_deepnote_index_column": 8,
         "acceleration": "7.7",
         "braking": "10.0",
         "car_source": "Autoshow",
         "car_source_1": "Wheelspin",
         "car_source_2": "Forza Shop",
         "g-force": "1.73 g",
         "handling": "10.0",
         "launch": "8.4",
         "speed": "7.4",
         "stock_specs": "S2"
        },
        {
         "0-100_Mph": "info_not_found",
         "0-60_Mph": "info_not_found",
         "Car_Image": "https://www.kudosprime.com/fh5/images/cars/side/fh5_car_010.jpg?v=1",
         "Drive_Type": "RWD",
         "Horse_Power": "930",
         "In_Game_Price": "1,500,000",
         "Model_type": "EXTREME TRACK TOYS",
         "Name_and_model": "2018 Apollo Intensa Emozione \"Welcome Pack\"",
         "Offroad": "3.8",
         "Stock_Rating": "998.0",
         "Top_Speed": "info_not_found",
         "Weight_lbs": "2,480",
         "_deepnote_index_column": 9,
         "acceleration": "7.9",
         "braking": "10.0",
         "car_source": "Autoshow",
         "car_source_1": "info_not_found",
         "car_source_2": "info_not_found",
         "g-force": "info_not_found",
         "handling": "10.0",
         "launch": "8.6",
         "speed": "7.6",
         "stock_specs": "S2"
        }
       ]
      },
      "text/html": [
       "<div>\n",
       "<style scoped>\n",
       "    .dataframe tbody tr th:only-of-type {\n",
       "        vertical-align: middle;\n",
       "    }\n",
       "\n",
       "    .dataframe tbody tr th {\n",
       "        vertical-align: top;\n",
       "    }\n",
       "\n",
       "    .dataframe thead th {\n",
       "        text-align: right;\n",
       "    }\n",
       "</style>\n",
       "<table border=\"1\" class=\"dataframe\">\n",
       "  <thead>\n",
       "    <tr style=\"text-align: right;\">\n",
       "      <th></th>\n",
       "      <th>Car_Image</th>\n",
       "      <th>Name_and_model</th>\n",
       "      <th>Model_type</th>\n",
       "      <th>In_Game_Price</th>\n",
       "      <th>car_source</th>\n",
       "      <th>stock_specs</th>\n",
       "      <th>Stock_Rating</th>\n",
       "      <th>Drive_Type</th>\n",
       "      <th>speed</th>\n",
       "      <th>handling</th>\n",
       "      <th>...</th>\n",
       "      <th>braking</th>\n",
       "      <th>Offroad</th>\n",
       "      <th>Top_Speed</th>\n",
       "      <th>0-60_Mph</th>\n",
       "      <th>0-100_Mph</th>\n",
       "      <th>g-force</th>\n",
       "      <th>car_source_1</th>\n",
       "      <th>car_source_2</th>\n",
       "      <th>Horse_Power</th>\n",
       "      <th>Weight_lbs</th>\n",
       "    </tr>\n",
       "  </thead>\n",
       "  <tbody>\n",
       "    <tr>\n",
       "      <th>0</th>\n",
       "      <td>https://www.kudosprime.com/fh5/images/cars/sid...</td>\n",
       "      <td>2001 Acura Integra Type R</td>\n",
       "      <td>RETRO HOT HATCH</td>\n",
       "      <td>25,000</td>\n",
       "      <td>Autoshow</td>\n",
       "      <td>C</td>\n",
       "      <td>596.0</td>\n",
       "      <td>FWD</td>\n",
       "      <td>5.6</td>\n",
       "      <td>5.1</td>\n",
       "      <td>...</td>\n",
       "      <td>3.4</td>\n",
       "      <td>5.1</td>\n",
       "      <td>155.5 Mph</td>\n",
       "      <td>6.2s</td>\n",
       "      <td>14.7s</td>\n",
       "      <td>0.90 g</td>\n",
       "      <td>info_not_found</td>\n",
       "      <td>info_not_found</td>\n",
       "      <td>195</td>\n",
       "      <td>2,639</td>\n",
       "    </tr>\n",
       "    <tr>\n",
       "      <th>1</th>\n",
       "      <td>https://www.kudosprime.com/fh5/images/cars/sid...</td>\n",
       "      <td>2002 Acura RSX Type S</td>\n",
       "      <td>RETRO HOT HATCH</td>\n",
       "      <td>25,000</td>\n",
       "      <td>Autoshow</td>\n",
       "      <td>C</td>\n",
       "      <td>585.0</td>\n",
       "      <td>FWD</td>\n",
       "      <td>5.6</td>\n",
       "      <td>5.1</td>\n",
       "      <td>...</td>\n",
       "      <td>3.5</td>\n",
       "      <td>5.3</td>\n",
       "      <td>info_not_found</td>\n",
       "      <td>info_not_found</td>\n",
       "      <td>info_not_found</td>\n",
       "      <td>info_not_found</td>\n",
       "      <td>info_not_found</td>\n",
       "      <td>info_not_found</td>\n",
       "      <td>200</td>\n",
       "      <td>2,820</td>\n",
       "    </tr>\n",
       "    <tr>\n",
       "      <th>2</th>\n",
       "      <td>https://www.kudosprime.com/fh5/images/cars/sid...</td>\n",
       "      <td>2017 Acura NSX</td>\n",
       "      <td>MODERN SUPERCARS</td>\n",
       "      <td>170,000</td>\n",
       "      <td>Autoshow</td>\n",
       "      <td>S1</td>\n",
       "      <td>831.0</td>\n",
       "      <td>AWD</td>\n",
       "      <td>7.0</td>\n",
       "      <td>7.0</td>\n",
       "      <td>...</td>\n",
       "      <td>7.1</td>\n",
       "      <td>4.7</td>\n",
       "      <td>info_not_found</td>\n",
       "      <td>info_not_found</td>\n",
       "      <td>info_not_found</td>\n",
       "      <td>info_not_found</td>\n",
       "      <td>info_not_found</td>\n",
       "      <td>info_not_found</td>\n",
       "      <td>573</td>\n",
       "      <td>3,803</td>\n",
       "    </tr>\n",
       "    <tr>\n",
       "      <th>3</th>\n",
       "      <td>https://www.kudosprime.com/fh5/images/cars/sid...</td>\n",
       "      <td>1973 Alpine A110 1600s</td>\n",
       "      <td>CLASSIC RALLY</td>\n",
       "      <td>98,000</td>\n",
       "      <td>Autoshow</td>\n",
       "      <td>C</td>\n",
       "      <td>550.0</td>\n",
       "      <td>RWD</td>\n",
       "      <td>5.0</td>\n",
       "      <td>4.4</td>\n",
       "      <td>...</td>\n",
       "      <td>3.0</td>\n",
       "      <td>5.3</td>\n",
       "      <td>138.0 Mph</td>\n",
       "      <td>7.0s</td>\n",
       "      <td>20.6s</td>\n",
       "      <td>0.84 g</td>\n",
       "      <td>info_not_found</td>\n",
       "      <td>info_not_found</td>\n",
       "      <td>123</td>\n",
       "      <td>1,576</td>\n",
       "    </tr>\n",
       "    <tr>\n",
       "      <th>4</th>\n",
       "      <td>https://www.kudosprime.com/fh5/images/cars/sid...</td>\n",
       "      <td>2017 Alpine A110</td>\n",
       "      <td>MODERN SPORTS CARS</td>\n",
       "      <td>67,500</td>\n",
       "      <td>Wheelspin</td>\n",
       "      <td>B</td>\n",
       "      <td>694.0</td>\n",
       "      <td>RWD</td>\n",
       "      <td>6.0</td>\n",
       "      <td>6.4</td>\n",
       "      <td>...</td>\n",
       "      <td>4.2</td>\n",
       "      <td>4.2</td>\n",
       "      <td>info_not_found</td>\n",
       "      <td>info_not_found</td>\n",
       "      <td>info_not_found</td>\n",
       "      <td>info_not_found</td>\n",
       "      <td>Season Event</td>\n",
       "      <td>Festival Playlist</td>\n",
       "      <td>248</td>\n",
       "      <td>2,432</td>\n",
       "    </tr>\n",
       "    <tr>\n",
       "      <th>...</th>\n",
       "      <td>...</td>\n",
       "      <td>...</td>\n",
       "      <td>...</td>\n",
       "      <td>...</td>\n",
       "      <td>...</td>\n",
       "      <td>...</td>\n",
       "      <td>...</td>\n",
       "      <td>...</td>\n",
       "      <td>...</td>\n",
       "      <td>...</td>\n",
       "      <td>...</td>\n",
       "      <td>...</td>\n",
       "      <td>...</td>\n",
       "      <td>...</td>\n",
       "      <td>...</td>\n",
       "      <td>...</td>\n",
       "      <td>...</td>\n",
       "      <td>...</td>\n",
       "      <td>...</td>\n",
       "      <td>...</td>\n",
       "      <td>...</td>\n",
       "    </tr>\n",
       "    <tr>\n",
       "      <th>534</th>\n",
       "      <td>https://www.kudosprime.com/fh5/images/cars/sid...</td>\n",
       "      <td>1997 Volvo 850 R</td>\n",
       "      <td>RETRO SALOONS</td>\n",
       "      <td>25,000</td>\n",
       "      <td>Autoshow</td>\n",
       "      <td>C</td>\n",
       "      <td>511.0</td>\n",
       "      <td>FWD</td>\n",
       "      <td>5.8</td>\n",
       "      <td>4.3</td>\n",
       "      <td>...</td>\n",
       "      <td>2.5</td>\n",
       "      <td>5.0</td>\n",
       "      <td>info_not_found</td>\n",
       "      <td>info_not_found</td>\n",
       "      <td>info_not_found</td>\n",
       "      <td>info_not_found</td>\n",
       "      <td>Wheelspin</td>\n",
       "      <td>info_not_found</td>\n",
       "      <td>240</td>\n",
       "      <td>3,230</td>\n",
       "    </tr>\n",
       "    <tr>\n",
       "      <th>535</th>\n",
       "      <td>https://www.kudosprime.com/fh5/images/cars/sid...</td>\n",
       "      <td>2015 Volvo V60 Polestar</td>\n",
       "      <td>SUPER SALOONS</td>\n",
       "      <td>62,000</td>\n",
       "      <td>Autoshow</td>\n",
       "      <td>B</td>\n",
       "      <td>662.0</td>\n",
       "      <td>AWD</td>\n",
       "      <td>6.1</td>\n",
       "      <td>5.9</td>\n",
       "      <td>...</td>\n",
       "      <td>3.9</td>\n",
       "      <td>5.1</td>\n",
       "      <td>info_not_found</td>\n",
       "      <td>info_not_found</td>\n",
       "      <td>info_not_found</td>\n",
       "      <td>info_not_found</td>\n",
       "      <td>Wheelspin</td>\n",
       "      <td>Accolade</td>\n",
       "      <td>346</td>\n",
       "      <td>3,985</td>\n",
       "    </tr>\n",
       "    <tr>\n",
       "      <th>536</th>\n",
       "      <td>https://www.kudosprime.com/fh5/images/cars/sid...</td>\n",
       "      <td>2017 VUHL 05RR</td>\n",
       "      <td>TRACK TOYS</td>\n",
       "      <td>100,000</td>\n",
       "      <td>Autoshow</td>\n",
       "      <td>S1</td>\n",
       "      <td>886.0</td>\n",
       "      <td>RWD</td>\n",
       "      <td>6.8</td>\n",
       "      <td>8.6</td>\n",
       "      <td>...</td>\n",
       "      <td>7.8</td>\n",
       "      <td>3.7</td>\n",
       "      <td>info_not_found</td>\n",
       "      <td>info_not_found</td>\n",
       "      <td>info_not_found</td>\n",
       "      <td>info_not_found</td>\n",
       "      <td>Wheelspin</td>\n",
       "      <td>info_not_found</td>\n",
       "      <td>385</td>\n",
       "      <td>1,598</td>\n",
       "    </tr>\n",
       "    <tr>\n",
       "      <th>537</th>\n",
       "      <td>https://www.kudosprime.com/fh5/images/cars/sid...</td>\n",
       "      <td>1945 WILLYS MB Jeep</td>\n",
       "      <td>PICK-UP &amp; 4X4'S</td>\n",
       "      <td>40,000</td>\n",
       "      <td>Autoshow</td>\n",
       "      <td>D</td>\n",
       "      <td>198.0</td>\n",
       "      <td>AWD</td>\n",
       "      <td>2.6</td>\n",
       "      <td>3.7</td>\n",
       "      <td>...</td>\n",
       "      <td>2.1</td>\n",
       "      <td>7.1</td>\n",
       "      <td>info_not_found</td>\n",
       "      <td>info_not_found</td>\n",
       "      <td>info_not_found</td>\n",
       "      <td>info_not_found</td>\n",
       "      <td>Wheelspin</td>\n",
       "      <td>info_not_found</td>\n",
       "      <td>60</td>\n",
       "      <td>2,137</td>\n",
       "    </tr>\n",
       "    <tr>\n",
       "      <th>538</th>\n",
       "      <td>https://www.kudosprime.com/fh5/images/cars/sid...</td>\n",
       "      <td>2019 Zenvo TSR-S</td>\n",
       "      <td>HYPERCARS</td>\n",
       "      <td>1,200,000</td>\n",
       "      <td>Autoshow</td>\n",
       "      <td>S2</td>\n",
       "      <td>927.0</td>\n",
       "      <td>RWD</td>\n",
       "      <td>9.0</td>\n",
       "      <td>8.7</td>\n",
       "      <td>...</td>\n",
       "      <td>9.6</td>\n",
       "      <td>4.0</td>\n",
       "      <td>info_not_found</td>\n",
       "      <td>info_not_found</td>\n",
       "      <td>info_not_found</td>\n",
       "      <td>info_not_found</td>\n",
       "      <td>Wheelspin</td>\n",
       "      <td>info_not_found</td>\n",
       "      <td>1,177</td>\n",
       "      <td>3,410</td>\n",
       "    </tr>\n",
       "  </tbody>\n",
       "</table>\n",
       "<p>539 rows × 22 columns</p>\n",
       "</div>"
      ],
      "text/plain": [
       "                                             Car_Image  \\\n",
       "0    https://www.kudosprime.com/fh5/images/cars/sid...   \n",
       "1    https://www.kudosprime.com/fh5/images/cars/sid...   \n",
       "2    https://www.kudosprime.com/fh5/images/cars/sid...   \n",
       "3    https://www.kudosprime.com/fh5/images/cars/sid...   \n",
       "4    https://www.kudosprime.com/fh5/images/cars/sid...   \n",
       "..                                                 ...   \n",
       "534  https://www.kudosprime.com/fh5/images/cars/sid...   \n",
       "535  https://www.kudosprime.com/fh5/images/cars/sid...   \n",
       "536  https://www.kudosprime.com/fh5/images/cars/sid...   \n",
       "537  https://www.kudosprime.com/fh5/images/cars/sid...   \n",
       "538  https://www.kudosprime.com/fh5/images/cars/sid...   \n",
       "\n",
       "                Name_and_model          Model_type In_Game_Price car_source  \\\n",
       "0    2001 Acura Integra Type R     RETRO HOT HATCH        25,000   Autoshow   \n",
       "1        2002 Acura RSX Type S     RETRO HOT HATCH        25,000   Autoshow   \n",
       "2               2017 Acura NSX    MODERN SUPERCARS       170,000   Autoshow   \n",
       "3       1973 Alpine A110 1600s       CLASSIC RALLY        98,000   Autoshow   \n",
       "4             2017 Alpine A110  MODERN SPORTS CARS        67,500  Wheelspin   \n",
       "..                         ...                 ...           ...        ...   \n",
       "534           1997 Volvo 850 R       RETRO SALOONS        25,000   Autoshow   \n",
       "535    2015 Volvo V60 Polestar       SUPER SALOONS        62,000   Autoshow   \n",
       "536             2017 VUHL 05RR          TRACK TOYS       100,000   Autoshow   \n",
       "537        1945 WILLYS MB Jeep     PICK-UP & 4X4'S        40,000   Autoshow   \n",
       "538           2019 Zenvo TSR-S           HYPERCARS     1,200,000   Autoshow   \n",
       "\n",
       "    stock_specs Stock_Rating Drive_Type speed handling  ... braking Offroad  \\\n",
       "0             C        596.0        FWD   5.6      5.1  ...     3.4     5.1   \n",
       "1             C        585.0        FWD   5.6      5.1  ...     3.5     5.3   \n",
       "2            S1        831.0        AWD   7.0      7.0  ...     7.1     4.7   \n",
       "3             C        550.0        RWD   5.0      4.4  ...     3.0     5.3   \n",
       "4             B        694.0        RWD   6.0      6.4  ...     4.2     4.2   \n",
       "..          ...          ...        ...   ...      ...  ...     ...     ...   \n",
       "534           C        511.0        FWD   5.8      4.3  ...     2.5     5.0   \n",
       "535           B        662.0        AWD   6.1      5.9  ...     3.9     5.1   \n",
       "536          S1        886.0        RWD   6.8      8.6  ...     7.8     3.7   \n",
       "537           D        198.0        AWD   2.6      3.7  ...     2.1     7.1   \n",
       "538          S2        927.0        RWD   9.0      8.7  ...     9.6     4.0   \n",
       "\n",
       "          Top_Speed        0-60_Mph       0-100_Mph         g-force  \\\n",
       "0         155.5 Mph            6.2s           14.7s          0.90 g   \n",
       "1    info_not_found  info_not_found  info_not_found  info_not_found   \n",
       "2    info_not_found  info_not_found  info_not_found  info_not_found   \n",
       "3         138.0 Mph            7.0s           20.6s          0.84 g   \n",
       "4    info_not_found  info_not_found  info_not_found  info_not_found   \n",
       "..              ...             ...             ...             ...   \n",
       "534  info_not_found  info_not_found  info_not_found  info_not_found   \n",
       "535  info_not_found  info_not_found  info_not_found  info_not_found   \n",
       "536  info_not_found  info_not_found  info_not_found  info_not_found   \n",
       "537  info_not_found  info_not_found  info_not_found  info_not_found   \n",
       "538  info_not_found  info_not_found  info_not_found  info_not_found   \n",
       "\n",
       "       car_source_1       car_source_2 Horse_Power Weight_lbs  \n",
       "0    info_not_found     info_not_found         195      2,639  \n",
       "1    info_not_found     info_not_found         200      2,820  \n",
       "2    info_not_found     info_not_found         573      3,803  \n",
       "3    info_not_found     info_not_found         123      1,576  \n",
       "4      Season Event  Festival Playlist         248      2,432  \n",
       "..              ...                ...         ...        ...  \n",
       "534       Wheelspin     info_not_found         240      3,230  \n",
       "535       Wheelspin           Accolade         346      3,985  \n",
       "536       Wheelspin     info_not_found         385      1,598  \n",
       "537       Wheelspin     info_not_found          60      2,137  \n",
       "538       Wheelspin     info_not_found       1,177      3,410  \n",
       "\n",
       "[539 rows x 22 columns]"
      ]
     },
     "execution_count": 2,
     "metadata": {},
     "output_type": "execute_result"
    }
   ],
   "source": [
    "df = pd.read_csv(\"Forza_Horizon_Cars.csv\")\n",
    "df"
   ]
  },
  {
   "cell_type": "code",
   "execution_count": 3,
   "metadata": {
    "cell_id": "7e5f281235344ae3ba967310a35aa9f4",
    "deepnote_cell_type": "code",
    "deepnote_table_loading": false,
    "deepnote_table_state": {
     "filters": [],
     "pageIndex": 3,
     "pageSize": 10,
     "sortBy": []
    },
    "deepnote_to_be_reexecuted": false,
    "execution_millis": 133,
    "execution_start": 1686781806292,
    "source_hash": "51521060"
   },
   "outputs": [
    {
     "data": {
      "application/vnd.deepnote.dataframe.v3+json": {
       "column_count": 22,
       "columns": [
        {
         "dtype": "object",
         "name": "Car_Image",
         "stats": {
          "categories": [
           {
            "count": 1,
            "name": "https://www.kudosprime.com/fh5/images/cars/side/fh5_car_001.jpg?v=1"
           },
           {
            "count": 1,
            "name": "https://www.kudosprime.com/fh5/images/cars/side/fh5_car_002.jpg?v=1"
           },
           {
            "count": 537,
            "name": "537 others"
           }
          ],
          "nan_count": 0,
          "unique_count": 539
         }
        },
        {
         "dtype": "object",
         "name": "Name_and_model",
         "stats": {
          "categories": [
           {
            "count": 1,
            "name": "2001 Acura Integra Type R"
           },
           {
            "count": 1,
            "name": "2002 Acura RSX Type S"
           },
           {
            "count": 537,
            "name": "537 others"
           }
          ],
          "nan_count": 0,
          "unique_count": 539
         }
        },
        {
         "dtype": "object",
         "name": "Model_type",
         "stats": {
          "categories": [
           {
            "count": 36,
            "name": "RETRO SPORTS CARS"
           },
           {
            "count": 502,
            "name": "37 others"
           },
           {
            "count": 1,
            "name": "Missing"
           }
          ],
          "nan_count": 1,
          "unique_count": 38
         }
        },
        {
         "dtype": "object",
         "name": "In_Game_Price",
         "stats": {
          "categories": [
           {
            "count": 41,
            "name": "500,000"
           },
           {
            "count": 32,
            "name": "25,000"
           },
           {
            "count": 466,
            "name": "162 others"
           }
          ],
          "nan_count": 0,
          "unique_count": 164
         }
        },
        {
         "dtype": "object",
         "name": "car_source",
         "stats": {
          "categories": [
           {
            "count": 431,
            "name": "Autoshow"
           },
           {
            "count": 48,
            "name": "Wheelspin"
           },
           {
            "count": 60,
            "name": "7 others"
           }
          ],
          "nan_count": 0,
          "unique_count": 9
         }
        },
        {
         "dtype": "object",
         "name": "stock_specs",
         "stats": {
          "categories": [
           {
            "count": 122,
            "name": "S1"
           },
           {
            "count": 416,
            "name": "5 others"
           },
           {
            "count": 1,
            "name": "Missing"
           }
          ],
          "nan_count": 1,
          "unique_count": 6
         }
        },
        {
         "dtype": "object",
         "name": "Stock_Rating",
         "stats": {
          "categories": [
           {
            "count": 11,
            "name": "100.0"
           },
           {
            "count": 527,
            "name": "346 others"
           },
           {
            "count": 1,
            "name": "Missing"
           }
          ],
          "nan_count": 1,
          "unique_count": 347
         }
        },
        {
         "dtype": "object",
         "name": "Drive_Type",
         "stats": {
          "categories": [
           {
            "count": 348,
            "name": "RWD"
           },
           {
            "count": 189,
            "name": "2 others"
           },
           {
            "count": 2,
            "name": "Missing"
           }
          ],
          "nan_count": 2,
          "unique_count": 3
         }
        },
        {
         "dtype": "object",
         "name": "speed",
         "stats": {
          "categories": [
           {
            "count": 21,
            "name": "7.6"
           },
           {
            "count": 517,
            "name": "74 others"
           },
           {
            "count": 1,
            "name": "Missing"
           }
          ],
          "nan_count": 1,
          "unique_count": 75
         }
        },
        {
         "dtype": "object",
         "name": "handling",
         "stats": {
          "categories": [
           {
            "count": 21,
            "name": "5.5"
           },
           {
            "count": 517,
            "name": "71 others"
           },
           {
            "count": 1,
            "name": "Missing"
           }
          ],
          "nan_count": 1,
          "unique_count": 72
         }
        },
        {
         "dtype": "object",
         "name": "acceleration",
         "stats": {
          "categories": [
           {
            "count": 20,
            "name": "5.2"
           },
           {
            "count": 518,
            "name": "85 others"
           },
           {
            "count": 1,
            "name": "Missing"
           }
          ],
          "nan_count": 1,
          "unique_count": 86
         }
        },
        {
         "dtype": "object",
         "name": "launch",
         "stats": {
          "categories": [
           {
            "count": 18,
            "name": "3.1"
           },
           {
            "count": 520,
            "name": "85 others"
           },
           {
            "count": 1,
            "name": "Missing"
           }
          ],
          "nan_count": 1,
          "unique_count": 86
         }
        },
        {
         "dtype": "object",
         "name": "braking",
         "stats": {
          "categories": [
           {
            "count": 21,
            "name": "10.0"
           },
           {
            "count": 517,
            "name": "79 others"
           },
           {
            "count": 1,
            "name": "Missing"
           }
          ],
          "nan_count": 1,
          "unique_count": 80
         }
        },
        {
         "dtype": "object",
         "name": "Offroad",
         "stats": {
          "categories": [
           {
            "count": 34,
            "name": "4.7"
           },
           {
            "count": 504,
            "name": "62 others"
           },
           {
            "count": 1,
            "name": "Missing"
           }
          ],
          "nan_count": 1,
          "unique_count": 63
         }
        },
        {
         "dtype": "object",
         "name": "Top_Speed",
         "stats": {
          "categories": [
           {
            "count": 5,
            "name": "0.0 Mph"
           },
           {
            "count": 135,
            "name": "129 others"
           },
           {
            "count": 399,
            "name": "Missing"
           }
          ],
          "nan_count": 399,
          "unique_count": 130
         }
        },
        {
         "dtype": "object",
         "name": "0-60_Mph",
         "stats": {
          "categories": [
           {
            "count": 15,
            "name": "2.8s"
           },
           {
            "count": 125,
            "name": "56 others"
           },
           {
            "count": 399,
            "name": "Missing"
           }
          ],
          "nan_count": 399,
          "unique_count": 57
         }
        },
        {
         "dtype": "object",
         "name": "0-100_Mph",
         "stats": {
          "categories": [
           {
            "count": 4,
            "name": "5.1s"
           },
           {
            "count": 136,
            "name": "92 others"
           },
           {
            "count": 399,
            "name": "Missing"
           }
          ],
          "nan_count": 399,
          "unique_count": 93
         }
        },
        {
         "dtype": "object",
         "name": "g-force",
         "stats": {
          "categories": [
           {
            "count": 9,
            "name": "0.92 g"
           },
           {
            "count": 131,
            "name": "63 others"
           },
           {
            "count": 399,
            "name": "Missing"
           }
          ],
          "nan_count": 399,
          "unique_count": 64
         }
        },
        {
         "dtype": "object",
         "name": "car_source_1",
         "stats": {
          "categories": [
           {
            "count": 390,
            "name": "Wheelspin"
           },
           {
            "count": 87,
            "name": "4 others"
           },
           {
            "count": 62,
            "name": "Missing"
           }
          ],
          "nan_count": 62,
          "unique_count": 5
         }
        },
        {
         "dtype": "object",
         "name": "car_source_2",
         "stats": {
          "categories": [
           {
            "count": 51,
            "name": "Accolade"
           },
           {
            "count": 72,
            "name": "3 others"
           },
           {
            "count": 416,
            "name": "Missing"
           }
          ],
          "nan_count": 416,
          "unique_count": 4
         }
        },
        {
         "dtype": "object",
         "name": "Horse_Power",
         "stats": {
          "categories": [
           {
            "count": 9,
            "name": "450"
           },
           {
            "count": 8,
            "name": "375"
           },
           {
            "count": 522,
            "name": "309 others"
           }
          ],
          "nan_count": 0,
          "unique_count": 311
         }
        },
        {
         "dtype": "object",
         "name": "Weight_lbs",
         "stats": {
          "categories": [
           {
            "count": 9,
            "name": "2,800"
           },
           {
            "count": 6,
            "name": "2,425"
           },
           {
            "count": 524,
            "name": "399 others"
           }
          ],
          "nan_count": 0,
          "unique_count": 401
         }
        },
        {
         "dtype": "int64",
         "name": "_deepnote_index_column"
        }
       ],
       "row_count": 539,
       "rows": [
        {
         "0-100_Mph": "nan",
         "0-60_Mph": "nan",
         "Car_Image": "https://www.kudosprime.com/fh5/images/cars/side/fh5_car_030.jpg?v=1",
         "Drive_Type": "AWD",
         "Horse_Power": "444",
         "In_Game_Price": "83,000",
         "Model_type": "SUPER SALOONS",
         "Name_and_model": "2013 Audi RS 4 Avant",
         "Offroad": "5.2",
         "Stock_Rating": "728.0",
         "Top_Speed": "nan",
         "Weight_lbs": "3,957",
         "_deepnote_index_column": 30,
         "acceleration": "5.5",
         "braking": "5.2",
         "car_source": "Autoshow",
         "car_source_1": "Wheelspin",
         "car_source_2": "nan",
         "g-force": "nan",
         "handling": "6.2",
         "launch": "5.2",
         "speed": "7.0",
         "stock_specs": "A"
        },
        {
         "0-100_Mph": "nan",
         "0-60_Mph": "nan",
         "Car_Image": "https://www.kudosprime.com/fh5/images/cars/side/fh5_car_031.jpg?v=1",
         "Drive_Type": "AWD",
         "Horse_Power": "552",
         "In_Game_Price": "225,000",
         "Model_type": "SUPER SALOONS",
         "Name_and_model": "2013 Audi RS 7 Sportback",
         "Offroad": "5.3",
         "Stock_Rating": "739.0",
         "Top_Speed": "nan",
         "Weight_lbs": "4,310",
         "_deepnote_index_column": 31,
         "acceleration": "7.0",
         "braking": "5.6",
         "car_source": "Autoshow",
         "car_source_1": "Wheelspin",
         "car_source_2": "nan",
         "g-force": "nan",
         "handling": "5.9",
         "launch": "8.2",
         "speed": "7.6",
         "stock_specs": "A"
        },
        {
         "0-100_Mph": "nan",
         "0-60_Mph": "nan",
         "Car_Image": "https://www.kudosprime.com/fh5/images/cars/side/fh5_car_033.jpg?v=1",
         "Drive_Type": "AWD",
         "Horse_Power": "552",
         "In_Game_Price": "150,000",
         "Model_type": "SUPER SALOONS",
         "Name_and_model": "2015 Audi RS 6 Avant",
         "Offroad": "5.2",
         "Stock_Rating": "754.0",
         "Top_Speed": "nan",
         "Weight_lbs": "4,266",
         "_deepnote_index_column": 32,
         "acceleration": "7.5",
         "braking": "5.3",
         "car_source": "Autoshow",
         "car_source_1": "Wheelspin",
         "car_source_2": "Accolade",
         "g-force": "nan",
         "handling": "6.0",
         "launch": "8.3",
         "speed": "7.4",
         "stock_specs": "A"
        },
        {
         "0-100_Mph": "14.0s",
         "0-60_Mph": "5.8s",
         "Car_Image": "https://www.kudosprime.com/fh5/images/cars/side/fh5_car_035.jpg?v=1",
         "Drive_Type": "AWD",
         "Horse_Power": "228",
         "In_Game_Price": "35,000",
         "Model_type": "HOT HATCH",
         "Name_and_model": "2015 Audi S1",
         "Offroad": "5.6",
         "Stock_Rating": "644.0",
         "Top_Speed": "154.5 Mph",
         "Weight_lbs": "2,899",
         "_deepnote_index_column": 33,
         "acceleration": "5.2",
         "braking": "3.7",
         "car_source": "Autoshow",
         "car_source_1": "Wheelspin",
         "car_source_2": "nan",
         "g-force": "0.92 g",
         "handling": "5.9",
         "launch": "4.4",
         "speed": "5.6",
         "stock_specs": "B"
        },
        {
         "0-100_Mph": "nan",
         "0-60_Mph": "nan",
         "Car_Image": "https://www.kudosprime.com/fh5/images/cars/side/fh5_car_034.jpg?v=2",
         "Drive_Type": "AWD",
         "Horse_Power": "310",
         "In_Game_Price": "52,000",
         "Model_type": "MODERN SPORTS CARS",
         "Name_and_model": "2015 Audi TTS Coupé",
         "Offroad": "5.2",
         "Stock_Rating": "724.0",
         "Top_Speed": "nan",
         "Weight_lbs": "3,053",
         "_deepnote_index_column": 34,
         "acceleration": "5.8",
         "braking": "4.0",
         "car_source": "Autoshow",
         "car_source_1": "Wheelspin",
         "car_source_2": "nan",
         "g-force": "nan",
         "handling": "6.3",
         "launch": "6.4",
         "speed": "6.7",
         "stock_specs": "A"
        },
        {
         "0-100_Mph": "6.1s",
         "0-60_Mph": "2.7s",
         "Car_Image": "https://www.kudosprime.com/fh5/images/cars/side/fh5_car_036.jpg?v=1",
         "Drive_Type": "AWD",
         "Horse_Power": "610",
         "In_Game_Price": "242,000",
         "Model_type": "MODERN SUPERCARS",
         "Name_and_model": "2016 Audi R8 V10 plus",
         "Offroad": "5.1",
         "Stock_Rating": "834.0",
         "Top_Speed": "215.9 Mph",
         "Weight_lbs": "3,428",
         "_deepnote_index_column": 35,
         "acceleration": "7.8",
         "braking": "7.3",
         "car_source": "Autoshow",
         "car_source_1": "Wheelspin",
         "car_source_2": "nan",
         "g-force": "1.11 g",
         "handling": "7.1",
         "launch": "7.4",
         "speed": "7.8",
         "stock_specs": "S1"
        },
        {
         "0-100_Mph": "nan",
         "0-60_Mph": "nan",
         "Car_Image": "https://www.kudosprime.com/fh5/images/cars/side/fh5_car_549.jpg?v=1",
         "Drive_Type": "AWD",
         "Horse_Power": "400",
         "In_Game_Price": "0",
         "Model_type": "MODERN SPORTS CARS",
         "Name_and_model": "2018 Audi TT RS",
         "Offroad": "5.2",
         "Stock_Rating": "748.0",
         "Top_Speed": "nan",
         "Weight_lbs": "3,307",
         "_deepnote_index_column": 36,
         "acceleration": "6.7",
         "braking": "4.7",
         "car_source": "Autoshow",
         "car_source_1": "nan",
         "car_source_2": "nan",
         "g-force": "nan",
         "handling": "6.3",
         "launch": "8.1",
         "speed": "6.8",
         "stock_specs": "A"
        },
        {
         "0-100_Mph": "??s",
         "0-60_Mph": "20.9s",
         "Car_Image": "https://www.kudosprime.com/fh5/images/cars/side/fh5_car_037.jpg?v=1",
         "Drive_Type": "RWD",
         "Horse_Power": "45",
         "In_Game_Price": "20,000",
         "Model_type": "CLASSIC SPORTS CARS",
         "Name_and_model": "1958 Austin-Healey Sprite MkI",
         "Offroad": "4.9",
         "Stock_Rating": "131.0",
         "Top_Speed": "89.1 Mph",
         "Weight_lbs": "1,463",
         "_deepnote_index_column": 37,
         "acceleration": "1.9",
         "braking": "1.8",
         "car_source": "Autoshow",
         "car_source_1": "Wheelspin",
         "car_source_2": "nan",
         "g-force": "0.74 g",
         "handling": "3.7",
         "launch": "2.5",
         "speed": "3.1",
         "stock_specs": "D"
        },
        {
         "0-100_Mph": "8.5s",
         "0-60_Mph": "3.8s",
         "Car_Image": "https://www.kudosprime.com/fh5/images/cars/side/fh5_car_038.jpg?v=1",
         "Drive_Type": "RWD",
         "Horse_Power": "485",
         "In_Game_Price": "15,000,000",
         "Model_type": "VINTAGE RACERS",
         "Name_and_model": "1939 Auto Union Type D",
         "Offroad": "4.2",
         "Stock_Rating": "675.0",
         "Top_Speed": "228.1 Mph",
         "Weight_lbs": "2,816",
         "_deepnote_index_column": 38,
         "acceleration": "4.5",
         "braking": "2.7",
         "car_source": "Autoshow",
         "car_source_1": "Wheelspin",
         "car_source_2": "Accolade",
         "g-force": "0.84 g",
         "handling": "4.2",
         "launch": "3.4",
         "speed": "8.4",
         "stock_specs": "B"
        },
        {
         "0-100_Mph": "6.7s",
         "0-60_Mph": "2.8s",
         "Car_Image": "https://www.kudosprime.com/fh5/images/cars/side/fh5_car_039.jpg?v=1",
         "Drive_Type": "RWD",
         "Horse_Power": "280",
         "In_Game_Price": "160,000",
         "Model_type": "TRACK TOYS",
         "Name_and_model": "2014 BAC Mono",
         "Offroad": "3.9",
         "Stock_Rating": "868.0",
         "Top_Speed": "171.9 Mph",
         "Weight_lbs": "1,354",
         "_deepnote_index_column": 39,
         "acceleration": "6.3",
         "braking": "8.1",
         "car_source": "Wheelspin",
         "car_source_1": "Accolade",
         "car_source_2": "nan",
         "g-force": "1.29 g",
         "handling": "8.1",
         "launch": "6.7",
         "speed": "6.1",
         "stock_specs": "S1"
        }
       ]
      },
      "text/html": [
       "<div>\n",
       "<style scoped>\n",
       "    .dataframe tbody tr th:only-of-type {\n",
       "        vertical-align: middle;\n",
       "    }\n",
       "\n",
       "    .dataframe tbody tr th {\n",
       "        vertical-align: top;\n",
       "    }\n",
       "\n",
       "    .dataframe thead th {\n",
       "        text-align: right;\n",
       "    }\n",
       "</style>\n",
       "<table border=\"1\" class=\"dataframe\">\n",
       "  <thead>\n",
       "    <tr style=\"text-align: right;\">\n",
       "      <th></th>\n",
       "      <th>Car_Image</th>\n",
       "      <th>Name_and_model</th>\n",
       "      <th>Model_type</th>\n",
       "      <th>In_Game_Price</th>\n",
       "      <th>car_source</th>\n",
       "      <th>stock_specs</th>\n",
       "      <th>Stock_Rating</th>\n",
       "      <th>Drive_Type</th>\n",
       "      <th>speed</th>\n",
       "      <th>handling</th>\n",
       "      <th>...</th>\n",
       "      <th>braking</th>\n",
       "      <th>Offroad</th>\n",
       "      <th>Top_Speed</th>\n",
       "      <th>0-60_Mph</th>\n",
       "      <th>0-100_Mph</th>\n",
       "      <th>g-force</th>\n",
       "      <th>car_source_1</th>\n",
       "      <th>car_source_2</th>\n",
       "      <th>Horse_Power</th>\n",
       "      <th>Weight_lbs</th>\n",
       "    </tr>\n",
       "  </thead>\n",
       "  <tbody>\n",
       "    <tr>\n",
       "      <th>0</th>\n",
       "      <td>https://www.kudosprime.com/fh5/images/cars/sid...</td>\n",
       "      <td>2001 Acura Integra Type R</td>\n",
       "      <td>RETRO HOT HATCH</td>\n",
       "      <td>25,000</td>\n",
       "      <td>Autoshow</td>\n",
       "      <td>C</td>\n",
       "      <td>596.0</td>\n",
       "      <td>FWD</td>\n",
       "      <td>5.6</td>\n",
       "      <td>5.1</td>\n",
       "      <td>...</td>\n",
       "      <td>3.4</td>\n",
       "      <td>5.1</td>\n",
       "      <td>155.5 Mph</td>\n",
       "      <td>6.2s</td>\n",
       "      <td>14.7s</td>\n",
       "      <td>0.90 g</td>\n",
       "      <td>NaN</td>\n",
       "      <td>NaN</td>\n",
       "      <td>195</td>\n",
       "      <td>2,639</td>\n",
       "    </tr>\n",
       "    <tr>\n",
       "      <th>1</th>\n",
       "      <td>https://www.kudosprime.com/fh5/images/cars/sid...</td>\n",
       "      <td>2002 Acura RSX Type S</td>\n",
       "      <td>RETRO HOT HATCH</td>\n",
       "      <td>25,000</td>\n",
       "      <td>Autoshow</td>\n",
       "      <td>C</td>\n",
       "      <td>585.0</td>\n",
       "      <td>FWD</td>\n",
       "      <td>5.6</td>\n",
       "      <td>5.1</td>\n",
       "      <td>...</td>\n",
       "      <td>3.5</td>\n",
       "      <td>5.3</td>\n",
       "      <td>NaN</td>\n",
       "      <td>NaN</td>\n",
       "      <td>NaN</td>\n",
       "      <td>NaN</td>\n",
       "      <td>NaN</td>\n",
       "      <td>NaN</td>\n",
       "      <td>200</td>\n",
       "      <td>2,820</td>\n",
       "    </tr>\n",
       "    <tr>\n",
       "      <th>2</th>\n",
       "      <td>https://www.kudosprime.com/fh5/images/cars/sid...</td>\n",
       "      <td>2017 Acura NSX</td>\n",
       "      <td>MODERN SUPERCARS</td>\n",
       "      <td>170,000</td>\n",
       "      <td>Autoshow</td>\n",
       "      <td>S1</td>\n",
       "      <td>831.0</td>\n",
       "      <td>AWD</td>\n",
       "      <td>7.0</td>\n",
       "      <td>7.0</td>\n",
       "      <td>...</td>\n",
       "      <td>7.1</td>\n",
       "      <td>4.7</td>\n",
       "      <td>NaN</td>\n",
       "      <td>NaN</td>\n",
       "      <td>NaN</td>\n",
       "      <td>NaN</td>\n",
       "      <td>NaN</td>\n",
       "      <td>NaN</td>\n",
       "      <td>573</td>\n",
       "      <td>3,803</td>\n",
       "    </tr>\n",
       "    <tr>\n",
       "      <th>3</th>\n",
       "      <td>https://www.kudosprime.com/fh5/images/cars/sid...</td>\n",
       "      <td>1973 Alpine A110 1600s</td>\n",
       "      <td>CLASSIC RALLY</td>\n",
       "      <td>98,000</td>\n",
       "      <td>Autoshow</td>\n",
       "      <td>C</td>\n",
       "      <td>550.0</td>\n",
       "      <td>RWD</td>\n",
       "      <td>5.0</td>\n",
       "      <td>4.4</td>\n",
       "      <td>...</td>\n",
       "      <td>3.0</td>\n",
       "      <td>5.3</td>\n",
       "      <td>138.0 Mph</td>\n",
       "      <td>7.0s</td>\n",
       "      <td>20.6s</td>\n",
       "      <td>0.84 g</td>\n",
       "      <td>NaN</td>\n",
       "      <td>NaN</td>\n",
       "      <td>123</td>\n",
       "      <td>1,576</td>\n",
       "    </tr>\n",
       "    <tr>\n",
       "      <th>4</th>\n",
       "      <td>https://www.kudosprime.com/fh5/images/cars/sid...</td>\n",
       "      <td>2017 Alpine A110</td>\n",
       "      <td>MODERN SPORTS CARS</td>\n",
       "      <td>67,500</td>\n",
       "      <td>Wheelspin</td>\n",
       "      <td>B</td>\n",
       "      <td>694.0</td>\n",
       "      <td>RWD</td>\n",
       "      <td>6.0</td>\n",
       "      <td>6.4</td>\n",
       "      <td>...</td>\n",
       "      <td>4.2</td>\n",
       "      <td>4.2</td>\n",
       "      <td>NaN</td>\n",
       "      <td>NaN</td>\n",
       "      <td>NaN</td>\n",
       "      <td>NaN</td>\n",
       "      <td>Season Event</td>\n",
       "      <td>Festival Playlist</td>\n",
       "      <td>248</td>\n",
       "      <td>2,432</td>\n",
       "    </tr>\n",
       "    <tr>\n",
       "      <th>...</th>\n",
       "      <td>...</td>\n",
       "      <td>...</td>\n",
       "      <td>...</td>\n",
       "      <td>...</td>\n",
       "      <td>...</td>\n",
       "      <td>...</td>\n",
       "      <td>...</td>\n",
       "      <td>...</td>\n",
       "      <td>...</td>\n",
       "      <td>...</td>\n",
       "      <td>...</td>\n",
       "      <td>...</td>\n",
       "      <td>...</td>\n",
       "      <td>...</td>\n",
       "      <td>...</td>\n",
       "      <td>...</td>\n",
       "      <td>...</td>\n",
       "      <td>...</td>\n",
       "      <td>...</td>\n",
       "      <td>...</td>\n",
       "      <td>...</td>\n",
       "    </tr>\n",
       "    <tr>\n",
       "      <th>534</th>\n",
       "      <td>https://www.kudosprime.com/fh5/images/cars/sid...</td>\n",
       "      <td>1997 Volvo 850 R</td>\n",
       "      <td>RETRO SALOONS</td>\n",
       "      <td>25,000</td>\n",
       "      <td>Autoshow</td>\n",
       "      <td>C</td>\n",
       "      <td>511.0</td>\n",
       "      <td>FWD</td>\n",
       "      <td>5.8</td>\n",
       "      <td>4.3</td>\n",
       "      <td>...</td>\n",
       "      <td>2.5</td>\n",
       "      <td>5.0</td>\n",
       "      <td>NaN</td>\n",
       "      <td>NaN</td>\n",
       "      <td>NaN</td>\n",
       "      <td>NaN</td>\n",
       "      <td>Wheelspin</td>\n",
       "      <td>NaN</td>\n",
       "      <td>240</td>\n",
       "      <td>3,230</td>\n",
       "    </tr>\n",
       "    <tr>\n",
       "      <th>535</th>\n",
       "      <td>https://www.kudosprime.com/fh5/images/cars/sid...</td>\n",
       "      <td>2015 Volvo V60 Polestar</td>\n",
       "      <td>SUPER SALOONS</td>\n",
       "      <td>62,000</td>\n",
       "      <td>Autoshow</td>\n",
       "      <td>B</td>\n",
       "      <td>662.0</td>\n",
       "      <td>AWD</td>\n",
       "      <td>6.1</td>\n",
       "      <td>5.9</td>\n",
       "      <td>...</td>\n",
       "      <td>3.9</td>\n",
       "      <td>5.1</td>\n",
       "      <td>NaN</td>\n",
       "      <td>NaN</td>\n",
       "      <td>NaN</td>\n",
       "      <td>NaN</td>\n",
       "      <td>Wheelspin</td>\n",
       "      <td>Accolade</td>\n",
       "      <td>346</td>\n",
       "      <td>3,985</td>\n",
       "    </tr>\n",
       "    <tr>\n",
       "      <th>536</th>\n",
       "      <td>https://www.kudosprime.com/fh5/images/cars/sid...</td>\n",
       "      <td>2017 VUHL 05RR</td>\n",
       "      <td>TRACK TOYS</td>\n",
       "      <td>100,000</td>\n",
       "      <td>Autoshow</td>\n",
       "      <td>S1</td>\n",
       "      <td>886.0</td>\n",
       "      <td>RWD</td>\n",
       "      <td>6.8</td>\n",
       "      <td>8.6</td>\n",
       "      <td>...</td>\n",
       "      <td>7.8</td>\n",
       "      <td>3.7</td>\n",
       "      <td>NaN</td>\n",
       "      <td>NaN</td>\n",
       "      <td>NaN</td>\n",
       "      <td>NaN</td>\n",
       "      <td>Wheelspin</td>\n",
       "      <td>NaN</td>\n",
       "      <td>385</td>\n",
       "      <td>1,598</td>\n",
       "    </tr>\n",
       "    <tr>\n",
       "      <th>537</th>\n",
       "      <td>https://www.kudosprime.com/fh5/images/cars/sid...</td>\n",
       "      <td>1945 WILLYS MB Jeep</td>\n",
       "      <td>PICK-UP &amp; 4X4'S</td>\n",
       "      <td>40,000</td>\n",
       "      <td>Autoshow</td>\n",
       "      <td>D</td>\n",
       "      <td>198.0</td>\n",
       "      <td>AWD</td>\n",
       "      <td>2.6</td>\n",
       "      <td>3.7</td>\n",
       "      <td>...</td>\n",
       "      <td>2.1</td>\n",
       "      <td>7.1</td>\n",
       "      <td>NaN</td>\n",
       "      <td>NaN</td>\n",
       "      <td>NaN</td>\n",
       "      <td>NaN</td>\n",
       "      <td>Wheelspin</td>\n",
       "      <td>NaN</td>\n",
       "      <td>60</td>\n",
       "      <td>2,137</td>\n",
       "    </tr>\n",
       "    <tr>\n",
       "      <th>538</th>\n",
       "      <td>https://www.kudosprime.com/fh5/images/cars/sid...</td>\n",
       "      <td>2019 Zenvo TSR-S</td>\n",
       "      <td>HYPERCARS</td>\n",
       "      <td>1,200,000</td>\n",
       "      <td>Autoshow</td>\n",
       "      <td>S2</td>\n",
       "      <td>927.0</td>\n",
       "      <td>RWD</td>\n",
       "      <td>9.0</td>\n",
       "      <td>8.7</td>\n",
       "      <td>...</td>\n",
       "      <td>9.6</td>\n",
       "      <td>4.0</td>\n",
       "      <td>NaN</td>\n",
       "      <td>NaN</td>\n",
       "      <td>NaN</td>\n",
       "      <td>NaN</td>\n",
       "      <td>Wheelspin</td>\n",
       "      <td>NaN</td>\n",
       "      <td>1,177</td>\n",
       "      <td>3,410</td>\n",
       "    </tr>\n",
       "  </tbody>\n",
       "</table>\n",
       "<p>539 rows × 22 columns</p>\n",
       "</div>"
      ],
      "text/plain": [
       "                                             Car_Image  \\\n",
       "0    https://www.kudosprime.com/fh5/images/cars/sid...   \n",
       "1    https://www.kudosprime.com/fh5/images/cars/sid...   \n",
       "2    https://www.kudosprime.com/fh5/images/cars/sid...   \n",
       "3    https://www.kudosprime.com/fh5/images/cars/sid...   \n",
       "4    https://www.kudosprime.com/fh5/images/cars/sid...   \n",
       "..                                                 ...   \n",
       "534  https://www.kudosprime.com/fh5/images/cars/sid...   \n",
       "535  https://www.kudosprime.com/fh5/images/cars/sid...   \n",
       "536  https://www.kudosprime.com/fh5/images/cars/sid...   \n",
       "537  https://www.kudosprime.com/fh5/images/cars/sid...   \n",
       "538  https://www.kudosprime.com/fh5/images/cars/sid...   \n",
       "\n",
       "                Name_and_model          Model_type In_Game_Price car_source  \\\n",
       "0    2001 Acura Integra Type R     RETRO HOT HATCH        25,000   Autoshow   \n",
       "1        2002 Acura RSX Type S     RETRO HOT HATCH        25,000   Autoshow   \n",
       "2               2017 Acura NSX    MODERN SUPERCARS       170,000   Autoshow   \n",
       "3       1973 Alpine A110 1600s       CLASSIC RALLY        98,000   Autoshow   \n",
       "4             2017 Alpine A110  MODERN SPORTS CARS        67,500  Wheelspin   \n",
       "..                         ...                 ...           ...        ...   \n",
       "534           1997 Volvo 850 R       RETRO SALOONS        25,000   Autoshow   \n",
       "535    2015 Volvo V60 Polestar       SUPER SALOONS        62,000   Autoshow   \n",
       "536             2017 VUHL 05RR          TRACK TOYS       100,000   Autoshow   \n",
       "537        1945 WILLYS MB Jeep     PICK-UP & 4X4'S        40,000   Autoshow   \n",
       "538           2019 Zenvo TSR-S           HYPERCARS     1,200,000   Autoshow   \n",
       "\n",
       "    stock_specs Stock_Rating Drive_Type speed handling  ... braking Offroad  \\\n",
       "0             C        596.0        FWD   5.6      5.1  ...     3.4     5.1   \n",
       "1             C        585.0        FWD   5.6      5.1  ...     3.5     5.3   \n",
       "2            S1        831.0        AWD   7.0      7.0  ...     7.1     4.7   \n",
       "3             C        550.0        RWD   5.0      4.4  ...     3.0     5.3   \n",
       "4             B        694.0        RWD   6.0      6.4  ...     4.2     4.2   \n",
       "..          ...          ...        ...   ...      ...  ...     ...     ...   \n",
       "534           C        511.0        FWD   5.8      4.3  ...     2.5     5.0   \n",
       "535           B        662.0        AWD   6.1      5.9  ...     3.9     5.1   \n",
       "536          S1        886.0        RWD   6.8      8.6  ...     7.8     3.7   \n",
       "537           D        198.0        AWD   2.6      3.7  ...     2.1     7.1   \n",
       "538          S2        927.0        RWD   9.0      8.7  ...     9.6     4.0   \n",
       "\n",
       "     Top_Speed 0-60_Mph 0-100_Mph g-force  car_source_1       car_source_2  \\\n",
       "0    155.5 Mph     6.2s     14.7s  0.90 g           NaN                NaN   \n",
       "1          NaN      NaN       NaN     NaN           NaN                NaN   \n",
       "2          NaN      NaN       NaN     NaN           NaN                NaN   \n",
       "3    138.0 Mph     7.0s     20.6s  0.84 g           NaN                NaN   \n",
       "4          NaN      NaN       NaN     NaN  Season Event  Festival Playlist   \n",
       "..         ...      ...       ...     ...           ...                ...   \n",
       "534        NaN      NaN       NaN     NaN     Wheelspin                NaN   \n",
       "535        NaN      NaN       NaN     NaN     Wheelspin           Accolade   \n",
       "536        NaN      NaN       NaN     NaN     Wheelspin                NaN   \n",
       "537        NaN      NaN       NaN     NaN     Wheelspin                NaN   \n",
       "538        NaN      NaN       NaN     NaN     Wheelspin                NaN   \n",
       "\n",
       "    Horse_Power Weight_lbs  \n",
       "0           195      2,639  \n",
       "1           200      2,820  \n",
       "2           573      3,803  \n",
       "3           123      1,576  \n",
       "4           248      2,432  \n",
       "..          ...        ...  \n",
       "534         240      3,230  \n",
       "535         346      3,985  \n",
       "536         385      1,598  \n",
       "537          60      2,137  \n",
       "538       1,177      3,410  \n",
       "\n",
       "[539 rows x 22 columns]"
      ]
     },
     "execution_count": 3,
     "metadata": {},
     "output_type": "execute_result"
    }
   ],
   "source": [
    "df = df.applymap(lambda x: np.nan if x == \"info_not_found\" else x)\n",
    "df"
   ]
  },
  {
   "cell_type": "markdown",
   "metadata": {
    "cell_id": "e5c8d077fd444a2597051b4f5e9f1297",
    "deepnote_cell_type": "markdown"
   },
   "source": [
    "Here I made sure to all the values that had been inputted as \"info_not_found\" were replaced as missing values. "
   ]
  },
  {
   "cell_type": "code",
   "execution_count": 4,
   "metadata": {
    "cell_id": "7ff9fa321ae6451a8443246d06ccc86e",
    "deepnote_cell_type": "code",
    "deepnote_to_be_reexecuted": false,
    "execution_millis": 5,
    "execution_start": 1686781806446,
    "source_hash": "52430027"
   },
   "outputs": [
    {
     "data": {
      "text/plain": [
       "Car_Image         object\n",
       "Name_and_model    object\n",
       "Model_type        object\n",
       "In_Game_Price     object\n",
       "car_source        object\n",
       "stock_specs       object\n",
       "Stock_Rating      object\n",
       "Drive_Type        object\n",
       "speed             object\n",
       "handling          object\n",
       "acceleration      object\n",
       "launch            object\n",
       "braking           object\n",
       "Offroad           object\n",
       "Top_Speed         object\n",
       "0-60_Mph          object\n",
       "0-100_Mph         object\n",
       "g-force           object\n",
       "car_source_1      object\n",
       "car_source_2      object\n",
       "Horse_Power       object\n",
       "Weight_lbs        object\n",
       "dtype: object"
      ]
     },
     "execution_count": 4,
     "metadata": {},
     "output_type": "execute_result"
    }
   ],
   "source": [
    "df.dtypes"
   ]
  },
  {
   "cell_type": "code",
   "execution_count": 5,
   "metadata": {
    "cell_id": "a701cb575f9745db9ce87d34a3c89d7e",
    "deepnote_cell_type": "code",
    "deepnote_to_be_reexecuted": false,
    "execution_millis": 4,
    "execution_start": 1686781806447,
    "source_hash": "e7e2ac32"
   },
   "outputs": [],
   "source": [
    "cols = [\"Stock_Rating\", \"speed\", \"handling\", \"acceleration\", \"launch\", \"braking\", \"Offroad\", \"Horse_Power\", \"Weight_lbs\"]"
   ]
  },
  {
   "cell_type": "markdown",
   "metadata": {
    "cell_id": "bde92e94a7ad432f8d7a64f41a15d746",
    "deepnote_cell_type": "markdown"
   },
   "source": [
    "Notice that all the columns in the Data Frame have dtype object and thus need to be changed to numeric dtypes. In the code block above, I chose the columns that would be my input features as part of my data analysis later in the project. Given how there is no \"pattern\" in the way the words were written, there was no way to concise way of building this list such as through list comprehension, so manually typing them out was my only choice. "
   ]
  },
  {
   "cell_type": "code",
   "execution_count": 6,
   "metadata": {
    "cell_id": "7d2d9f7fa6dc4cac84c1d2894f3fb368",
    "deepnote_cell_type": "code",
    "deepnote_to_be_reexecuted": false,
    "execution_millis": 3,
    "execution_start": 1686781806448,
    "source_hash": "5086ba83"
   },
   "outputs": [],
   "source": [
    "for c in cols:\n",
    "    if df[c].str.contains(\",\").any():\n",
    "        df[c] = df[c].str.replace(',',\"\").astype(float)\n",
    "    else:\n",
    "        df[c] = pd.to_numeric(df[c])\n"
   ]
  },
  {
   "cell_type": "markdown",
   "metadata": {
    "cell_id": "971d886ec855415b9979d5aca5cac3dd",
    "deepnote_cell_type": "markdown"
   },
   "source": [
    "Lines 2-3, from the code block directly above, were partially adapted from ChatGPT given how the initial Data Frame is formatted. Apparently, strings in the form of numbers cannot be changed to numeric dtypes if they have commas like in \"1,042\", so they have to be removed. "
   ]
  },
  {
   "cell_type": "code",
   "execution_count": 7,
   "metadata": {
    "cell_id": "e911673e1e3b443d9e5dc023e0692f71",
    "deepnote_cell_type": "code",
    "deepnote_to_be_reexecuted": false,
    "execution_millis": 3,
    "execution_start": 1686781806487,
    "source_hash": "52430027"
   },
   "outputs": [
    {
     "data": {
      "text/plain": [
       "Car_Image          object\n",
       "Name_and_model     object\n",
       "Model_type         object\n",
       "In_Game_Price      object\n",
       "car_source         object\n",
       "stock_specs        object\n",
       "Stock_Rating      float64\n",
       "Drive_Type         object\n",
       "speed             float64\n",
       "handling          float64\n",
       "acceleration      float64\n",
       "launch            float64\n",
       "braking           float64\n",
       "Offroad           float64\n",
       "Top_Speed          object\n",
       "0-60_Mph           object\n",
       "0-100_Mph          object\n",
       "g-force            object\n",
       "car_source_1       object\n",
       "car_source_2       object\n",
       "Horse_Power       float64\n",
       "Weight_lbs        float64\n",
       "dtype: object"
      ]
     },
     "execution_count": 7,
     "metadata": {},
     "output_type": "execute_result"
    }
   ],
   "source": [
    "df.dtypes"
   ]
  },
  {
   "cell_type": "code",
   "execution_count": 8,
   "metadata": {
    "cell_id": "416bac152ffa4c0695b683cbe7024989",
    "deepnote_cell_type": "code",
    "deepnote_to_be_reexecuted": false,
    "execution_millis": 3,
    "execution_start": 1686781806487,
    "source_hash": "ff05e7dc"
   },
   "outputs": [],
   "source": [
    "threshold = (len(df)*0.1)"
   ]
  },
  {
   "cell_type": "code",
   "execution_count": 9,
   "metadata": {
    "cell_id": "590dadb7108b49abb7f1d654e8d26bec",
    "deepnote_cell_type": "code",
    "deepnote_to_be_reexecuted": false,
    "execution_millis": 4,
    "execution_start": 1686781806488,
    "source_hash": "7b22769"
   },
   "outputs": [],
   "source": [
    "missing_values = df.isna().sum()"
   ]
  },
  {
   "cell_type": "code",
   "execution_count": 10,
   "metadata": {
    "cell_id": "5e1089c45ad2477f9961dd432056359a",
    "deepnote_cell_type": "code",
    "deepnote_to_be_reexecuted": false,
    "execution_millis": 4,
    "execution_start": 1686781806539,
    "source_hash": "17202e28"
   },
   "outputs": [
    {
     "data": {
      "text/plain": [
       "Index(['Top_Speed', '0-60_Mph', '0-100_Mph', 'g-force', 'car_source_1',\n",
       "       'car_source_2'],\n",
       "      dtype='object')"
      ]
     },
     "execution_count": 10,
     "metadata": {},
     "output_type": "execute_result"
    }
   ],
   "source": [
    "columns_to_drop = missing_values[missing_values > threshold].index\n",
    "columns_to_drop"
   ]
  },
  {
   "cell_type": "code",
   "execution_count": 11,
   "metadata": {
    "cell_id": "b488e1a8fc6d4e838d91e9f0752f1ba2",
    "deepnote_cell_type": "code",
    "deepnote_to_be_reexecuted": false,
    "execution_millis": 3,
    "execution_start": 1686781806540,
    "source_hash": "e1c5db32"
   },
   "outputs": [],
   "source": [
    "df = df.drop(columns_to_drop, axis = 1)"
   ]
  },
  {
   "cell_type": "markdown",
   "metadata": {
    "cell_id": "64a1c1a7ded846adb021dce37c39e5c0",
    "deepnote_cell_type": "markdown"
   },
   "source": [
    "The four code blocks directly above were adapted from ChatGPT to help remove columns whose values had more than 10% amount of them being missing values as they have no value in the Machine Learning part of the project. The original Data Frame has 23 columns, so I removed these columns for it to be more concise, considering some of them have over 70% missing values."
   ]
  },
  {
   "cell_type": "code",
   "execution_count": 12,
   "metadata": {
    "cell_id": "2ba2f51fa6044f6192601d5ea0e7a795",
    "deepnote_cell_type": "code",
    "deepnote_to_be_reexecuted": false,
    "execution_millis": 3,
    "execution_start": 1686781806582,
    "source_hash": "121dc842"
   },
   "outputs": [],
   "source": [
    "df = df.dropna(axis = 0)"
   ]
  },
  {
   "cell_type": "code",
   "execution_count": 13,
   "metadata": {
    "cell_id": "c449f7018f8a43fe9e285ff122a259b4",
    "deepnote_cell_type": "code",
    "deepnote_to_be_reexecuted": false,
    "execution_millis": 52,
    "execution_start": 1686781806583,
    "source_hash": "f804c160"
   },
   "outputs": [
    {
     "data": {
      "application/vnd.deepnote.dataframe.v3+json": {
       "column_count": 16,
       "columns": [
        {
         "dtype": "object",
         "name": "Car_Image",
         "stats": {
          "categories": [
           {
            "count": 1,
            "name": "https://www.kudosprime.com/fh5/images/cars/side/fh5_car_001.jpg?v=1"
           },
           {
            "count": 1,
            "name": "https://www.kudosprime.com/fh5/images/cars/side/fh5_car_002.jpg?v=1"
           },
           {
            "count": 535,
            "name": "535 others"
           }
          ],
          "nan_count": 0,
          "unique_count": 537
         }
        },
        {
         "dtype": "object",
         "name": "Name_and_model",
         "stats": {
          "categories": [
           {
            "count": 1,
            "name": "2001 Acura Integra Type R"
           },
           {
            "count": 1,
            "name": "2002 Acura RSX Type S"
           },
           {
            "count": 535,
            "name": "535 others"
           }
          ],
          "nan_count": 0,
          "unique_count": 537
         }
        },
        {
         "dtype": "object",
         "name": "Model_type",
         "stats": {
          "categories": [
           {
            "count": 36,
            "name": "RETRO SPORTS CARS"
           },
           {
            "count": 32,
            "name": "TRACK TOYS"
           },
           {
            "count": 469,
            "name": "36 others"
           }
          ],
          "nan_count": 0,
          "unique_count": 38
         }
        },
        {
         "dtype": "object",
         "name": "In_Game_Price",
         "stats": {
          "categories": [
           {
            "count": 41,
            "name": "500,000"
           },
           {
            "count": 32,
            "name": "25,000"
           },
           {
            "count": 464,
            "name": "162 others"
           }
          ],
          "nan_count": 0,
          "unique_count": 164
         }
        },
        {
         "dtype": "object",
         "name": "car_source",
         "stats": {
          "categories": [
           {
            "count": 431,
            "name": "Autoshow"
           },
           {
            "count": 48,
            "name": "Wheelspin"
           },
           {
            "count": 58,
            "name": "7 others"
           }
          ],
          "nan_count": 0,
          "unique_count": 9
         }
        },
        {
         "dtype": "object",
         "name": "stock_specs",
         "stats": {
          "categories": [
           {
            "count": 122,
            "name": "S1"
           },
           {
            "count": 112,
            "name": "A"
           },
           {
            "count": 303,
            "name": "4 others"
           }
          ],
          "nan_count": 0,
          "unique_count": 6
         }
        },
        {
         "dtype": "float64",
         "name": "Stock_Rating",
         "stats": {
          "histogram": [
           {
            "bin_end": 189.8,
            "bin_start": 100,
            "count": 16
           },
           {
            "bin_end": 279.6,
            "bin_start": 189.8,
            "count": 7
           },
           {
            "bin_end": 369.4,
            "bin_start": 279.6,
            "count": 14
           },
           {
            "bin_end": 459.2,
            "bin_start": 369.4,
            "count": 21
           },
           {
            "bin_end": 549,
            "bin_start": 459.2,
            "count": 57
           },
           {
            "bin_end": 638.8,
            "bin_start": 549,
            "count": 73
           },
           {
            "bin_end": 728.6,
            "bin_start": 638.8,
            "count": 100
           },
           {
            "bin_end": 818.4,
            "bin_start": 728.6,
            "count": 112
           },
           {
            "bin_end": 908.1999999999999,
            "bin_start": 818.4,
            "count": 94
           },
           {
            "bin_end": 998,
            "bin_start": 908.1999999999999,
            "count": 43
           }
          ],
          "max": "998.0",
          "min": "100.0",
          "nan_count": 0,
          "unique_count": 347
         }
        },
        {
         "dtype": "object",
         "name": "Drive_Type",
         "stats": {
          "categories": [
           {
            "count": 348,
            "name": "RWD"
           },
           {
            "count": 157,
            "name": "AWD"
           },
           {
            "count": 32,
            "name": "FWD"
           }
          ],
          "nan_count": 0,
          "unique_count": 3
         }
        },
        {
         "dtype": "float64",
         "name": "speed",
         "stats": {
          "histogram": [
           {
            "bin_end": 2.08,
            "bin_start": 1.2,
            "count": 3
           },
           {
            "bin_end": 2.96,
            "bin_start": 2.08,
            "count": 10
           },
           {
            "bin_end": 3.8400000000000007,
            "bin_start": 2.96,
            "count": 21
           },
           {
            "bin_end": 4.720000000000001,
            "bin_start": 3.8400000000000007,
            "count": 57
           },
           {
            "bin_end": 5.6000000000000005,
            "bin_start": 4.720000000000001,
            "count": 101
           },
           {
            "bin_end": 6.480000000000001,
            "bin_start": 5.6000000000000005,
            "count": 97
           },
           {
            "bin_end": 7.360000000000001,
            "bin_start": 6.480000000000001,
            "count": 108
           },
           {
            "bin_end": 8.24,
            "bin_start": 7.360000000000001,
            "count": 100
           },
           {
            "bin_end": 9.120000000000001,
            "bin_start": 8.24,
            "count": 30
           },
           {
            "bin_end": 10,
            "bin_start": 9.120000000000001,
            "count": 10
           }
          ],
          "max": "10.0",
          "min": "1.2",
          "nan_count": 0,
          "unique_count": 75
         }
        },
        {
         "dtype": "float64",
         "name": "handling",
         "stats": {
          "histogram": [
           {
            "bin_end": 3.43,
            "bin_start": 2.7,
            "count": 34
           },
           {
            "bin_end": 4.16,
            "bin_start": 3.43,
            "count": 81
           },
           {
            "bin_end": 4.890000000000001,
            "bin_start": 4.16,
            "count": 62
           },
           {
            "bin_end": 5.62,
            "bin_start": 4.890000000000001,
            "count": 122
           },
           {
            "bin_end": 6.35,
            "bin_start": 5.62,
            "count": 85
           },
           {
            "bin_end": 7.08,
            "bin_start": 6.35,
            "count": 46
           },
           {
            "bin_end": 7.81,
            "bin_start": 7.08,
            "count": 41
           },
           {
            "bin_end": 8.54,
            "bin_start": 7.81,
            "count": 24
           },
           {
            "bin_end": 9.27,
            "bin_start": 8.54,
            "count": 16
           },
           {
            "bin_end": 10,
            "bin_start": 9.27,
            "count": 26
           }
          ],
          "max": "10.0",
          "min": "2.7",
          "nan_count": 0,
          "unique_count": 72
         }
        },
        {
         "dtype": "float64",
         "name": "acceleration",
         "stats": {
          "histogram": [
           {
            "bin_end": 1.9,
            "bin_start": 1,
            "count": 12
           },
           {
            "bin_end": 2.8,
            "bin_start": 1.9,
            "count": 23
           },
           {
            "bin_end": 3.7,
            "bin_start": 2.8,
            "count": 64
           },
           {
            "bin_end": 4.6,
            "bin_start": 3.7,
            "count": 88
           },
           {
            "bin_end": 5.5,
            "bin_start": 4.6,
            "count": 121
           },
           {
            "bin_end": 6.4,
            "bin_start": 5.5,
            "count": 87
           },
           {
            "bin_end": 7.3,
            "bin_start": 6.4,
            "count": 60
           },
           {
            "bin_end": 8.2,
            "bin_start": 7.3,
            "count": 33
           },
           {
            "bin_end": 9.1,
            "bin_start": 8.2,
            "count": 22
           },
           {
            "bin_end": 10,
            "bin_start": 9.1,
            "count": 27
           }
          ],
          "max": "10.0",
          "min": "1.0",
          "nan_count": 0,
          "unique_count": 86
         }
        },
        {
         "dtype": "float64",
         "name": "launch",
         "stats": {
          "histogram": [
           {
            "bin_end": 1.9900000000000002,
            "bin_start": 1.1,
            "count": 14
           },
           {
            "bin_end": 2.88,
            "bin_start": 1.9900000000000002,
            "count": 74
           },
           {
            "bin_end": 3.77,
            "bin_start": 2.88,
            "count": 116
           },
           {
            "bin_end": 4.66,
            "bin_start": 3.77,
            "count": 60
           },
           {
            "bin_end": 5.550000000000001,
            "bin_start": 4.66,
            "count": 81
           },
           {
            "bin_end": 6.4399999999999995,
            "bin_start": 5.550000000000001,
            "count": 63
           },
           {
            "bin_end": 7.33,
            "bin_start": 6.4399999999999995,
            "count": 37
           },
           {
            "bin_end": 8.22,
            "bin_start": 7.33,
            "count": 42
           },
           {
            "bin_end": 9.11,
            "bin_start": 8.22,
            "count": 22
           },
           {
            "bin_end": 10,
            "bin_start": 9.11,
            "count": 28
           }
          ],
          "max": "10.0",
          "min": "1.1",
          "nan_count": 0,
          "unique_count": 86
         }
        },
        {
         "dtype": "float64",
         "name": "braking",
         "stats": {
          "histogram": [
           {
            "bin_end": 2.62,
            "bin_start": 1.8,
            "count": 77
           },
           {
            "bin_end": 3.44,
            "bin_start": 2.62,
            "count": 92
           },
           {
            "bin_end": 4.26,
            "bin_start": 3.44,
            "count": 90
           },
           {
            "bin_end": 5.08,
            "bin_start": 4.26,
            "count": 78
           },
           {
            "bin_end": 5.8999999999999995,
            "bin_start": 5.08,
            "count": 47
           },
           {
            "bin_end": 6.72,
            "bin_start": 5.8999999999999995,
            "count": 41
           },
           {
            "bin_end": 7.539999999999999,
            "bin_start": 6.72,
            "count": 36
           },
           {
            "bin_end": 8.36,
            "bin_start": 7.539999999999999,
            "count": 27
           },
           {
            "bin_end": 9.18,
            "bin_start": 8.36,
            "count": 15
           },
           {
            "bin_end": 10,
            "bin_start": 9.18,
            "count": 34
           }
          ],
          "max": "10.0",
          "min": "1.8",
          "nan_count": 0,
          "unique_count": 80
         }
        },
        {
         "dtype": "float64",
         "name": "Offroad",
         "stats": {
          "histogram": [
           {
            "bin_end": 3.61,
            "bin_start": 2.9,
            "count": 7
           },
           {
            "bin_end": 4.32,
            "bin_start": 3.61,
            "count": 85
           },
           {
            "bin_end": 5.029999999999999,
            "bin_start": 4.32,
            "count": 206
           },
           {
            "bin_end": 5.74,
            "bin_start": 5.029999999999999,
            "count": 133
           },
           {
            "bin_end": 6.449999999999999,
            "bin_start": 5.74,
            "count": 26
           },
           {
            "bin_end": 7.16,
            "bin_start": 6.449999999999999,
            "count": 9
           },
           {
            "bin_end": 7.869999999999999,
            "bin_start": 7.16,
            "count": 23
           },
           {
            "bin_end": 8.58,
            "bin_start": 7.869999999999999,
            "count": 18
           },
           {
            "bin_end": 9.29,
            "bin_start": 8.58,
            "count": 11
           },
           {
            "bin_end": 10,
            "bin_start": 9.29,
            "count": 19
           }
          ],
          "max": "10.0",
          "min": "2.9",
          "nan_count": 0,
          "unique_count": 63
         }
        },
        {
         "dtype": "float64",
         "name": "Horse_Power",
         "stats": {
          "histogram": [
           {
            "bin_end": 200.9,
            "bin_start": 4,
            "count": 94
           },
           {
            "bin_end": 397.8,
            "bin_start": 200.9,
            "count": 176
           },
           {
            "bin_end": 594.7,
            "bin_start": 397.8,
            "count": 125
           },
           {
            "bin_end": 791.6,
            "bin_start": 594.7,
            "count": 84
           },
           {
            "bin_end": 988.5,
            "bin_start": 791.6,
            "count": 21
           },
           {
            "bin_end": 1185.4,
            "bin_start": 988.5,
            "count": 21
           },
           {
            "bin_end": 1382.3,
            "bin_start": 1185.4,
            "count": 6
           },
           {
            "bin_end": 1579.2,
            "bin_start": 1382.3,
            "count": 6
           },
           {
            "bin_end": 1776.1000000000001,
            "bin_start": 1579.2,
            "count": 2
           },
           {
            "bin_end": 1973,
            "bin_start": 1776.1000000000001,
            "count": 2
           }
          ],
          "max": "1973.0",
          "min": "4.0",
          "nan_count": 0,
          "unique_count": 310
         }
        },
        {
         "dtype": "float64",
         "name": "Weight_lbs",
         "stats": {
          "histogram": [
           {
            "bin_end": 1823.1,
            "bin_start": 311,
            "count": 35
           },
           {
            "bin_end": 3335.2,
            "bin_start": 1823.1,
            "count": 283
           },
           {
            "bin_end": 4847.299999999999,
            "bin_start": 3335.2,
            "count": 190
           },
           {
            "bin_end": 6359.4,
            "bin_start": 4847.299999999999,
            "count": 22
           },
           {
            "bin_end": 7871.5,
            "bin_start": 6359.4,
            "count": 3
           },
           {
            "bin_end": 9383.599999999999,
            "bin_start": 7871.5,
            "count": 2
           },
           {
            "bin_end": 10895.699999999999,
            "bin_start": 9383.599999999999,
            "count": 0
           },
           {
            "bin_end": 12407.8,
            "bin_start": 10895.699999999999,
            "count": 1
           },
           {
            "bin_end": 13919.9,
            "bin_start": 12407.8,
            "count": 0
           },
           {
            "bin_end": 15432,
            "bin_start": 13919.9,
            "count": 1
           }
          ],
          "max": "15432.0",
          "min": "311.0",
          "nan_count": 0,
          "unique_count": 401
         }
        },
        {
         "dtype": "int64",
         "name": "_deepnote_index_column"
        }
       ],
       "row_count": 537,
       "rows": [
        {
         "Car_Image": "https://www.kudosprime.com/fh5/images/cars/side/fh5_car_001.jpg?v=1",
         "Drive_Type": "FWD",
         "Horse_Power": 195,
         "In_Game_Price": "25,000",
         "Model_type": "RETRO HOT HATCH",
         "Name_and_model": "2001 Acura Integra Type R",
         "Offroad": 5.1,
         "Stock_Rating": 596,
         "Weight_lbs": 2639,
         "_deepnote_index_column": 0,
         "acceleration": 3.9,
         "braking": 3.4,
         "car_source": "Autoshow",
         "handling": 5.1,
         "launch": 3.1,
         "speed": 5.6,
         "stock_specs": "C"
        },
        {
         "Car_Image": "https://www.kudosprime.com/fh5/images/cars/side/fh5_car_002.jpg?v=1",
         "Drive_Type": "FWD",
         "Horse_Power": 200,
         "In_Game_Price": "25,000",
         "Model_type": "RETRO HOT HATCH",
         "Name_and_model": "2002 Acura RSX Type S",
         "Offroad": 5.3,
         "Stock_Rating": 585,
         "Weight_lbs": 2820,
         "_deepnote_index_column": 1,
         "acceleration": 3.9,
         "braking": 3.5,
         "car_source": "Autoshow",
         "handling": 5.1,
         "launch": 3,
         "speed": 5.6,
         "stock_specs": "C"
        },
        {
         "Car_Image": "https://www.kudosprime.com/fh5/images/cars/side/fh5_car_003.jpg?v=1",
         "Drive_Type": "AWD",
         "Horse_Power": 573,
         "In_Game_Price": "170,000",
         "Model_type": "MODERN SUPERCARS",
         "Name_and_model": "2017 Acura NSX",
         "Offroad": 4.7,
         "Stock_Rating": 831,
         "Weight_lbs": 3803,
         "_deepnote_index_column": 2,
         "acceleration": 9.2,
         "braking": 7.1,
         "car_source": "Autoshow",
         "handling": 7,
         "launch": 10,
         "speed": 7,
         "stock_specs": "S1"
        },
        {
         "Car_Image": "https://www.kudosprime.com/fh5/images/cars/side/fh5_car_004.jpg?v=1",
         "Drive_Type": "RWD",
         "Horse_Power": 123,
         "In_Game_Price": "98,000",
         "Model_type": "CLASSIC RALLY",
         "Name_and_model": "1973 Alpine A110 1600s",
         "Offroad": 5.3,
         "Stock_Rating": 550,
         "Weight_lbs": 1576,
         "_deepnote_index_column": 3,
         "acceleration": 4.1,
         "braking": 3,
         "car_source": "Autoshow",
         "handling": 4.4,
         "launch": 3.1,
         "speed": 5,
         "stock_specs": "C"
        },
        {
         "Car_Image": "https://www.kudosprime.com/fh5/images/cars/side/fh5_car_005.jpg?v=1",
         "Drive_Type": "RWD",
         "Horse_Power": 248,
         "In_Game_Price": "67,500",
         "Model_type": "MODERN SPORTS CARS",
         "Name_and_model": "2017 Alpine A110",
         "Offroad": 4.2,
         "Stock_Rating": 694,
         "Weight_lbs": 2432,
         "_deepnote_index_column": 4,
         "acceleration": 5.4,
         "braking": 4.2,
         "car_source": "Wheelspin",
         "handling": 6.4,
         "launch": 5.7,
         "speed": 6,
         "stock_specs": "B"
        },
        {
         "Car_Image": "https://www.kudosprime.com/fh5/images/cars/side/fh5_car_006.jpg?v=1",
         "Drive_Type": "RWD",
         "Horse_Power": 196,
         "In_Game_Price": "300,000",
         "Model_type": "UNLIMITED BUGGIES",
         "Name_and_model": "2015 Alumi Craft Class 10 Race Car",
         "Offroad": 10,
         "Stock_Rating": 642,
         "Weight_lbs": 2200,
         "_deepnote_index_column": 5,
         "acceleration": 5,
         "braking": 4.8,
         "car_source": "Autoshow",
         "handling": 3.8,
         "launch": 4.1,
         "speed": 4.4,
         "stock_specs": "B"
        },
        {
         "Car_Image": "https://www.kudosprime.com/fh5/images/cars/side/fh5_car_007.jpg?v=1",
         "Drive_Type": "RWD",
         "Horse_Power": 150,
         "In_Game_Price": "35,000",
         "Model_type": "CULT CARS",
         "Name_and_model": "1973 AMC Gremlin X",
         "Offroad": 5.2,
         "Stock_Rating": 403,
         "Weight_lbs": 2840,
         "_deepnote_index_column": 6,
         "acceleration": 3.4,
         "braking": 2.3,
         "car_source": "Autoshow",
         "handling": 3.9,
         "launch": 3.4,
         "speed": 4,
         "stock_specs": "D"
        },
        {
         "Car_Image": "https://www.kudosprime.com/fh5/images/cars/side/fh5_car_008.jpg?v=1",
         "Drive_Type": "AWD",
         "Horse_Power": 720,
         "In_Game_Price": "850,000",
         "Model_type": "UNLIMITED OFFROAD",
         "Name_and_model": "2554 AMG TRANSPORT DYNAMICS M12S Warthog CST",
         "Offroad": 10,
         "Stock_Rating": 719,
         "Weight_lbs": 5071,
         "_deepnote_index_column": 7,
         "acceleration": 8.6,
         "braking": 6.7,
         "car_source": "Autoshow",
         "handling": 4.1,
         "launch": 10,
         "speed": 4.2,
         "stock_specs": "A"
        },
        {
         "Car_Image": "https://www.kudosprime.com/fh5/images/cars/side/fh5_car_009.jpg?v=1",
         "Drive_Type": "RWD",
         "Horse_Power": 780,
         "In_Game_Price": "1,500,000",
         "Model_type": "EXTREME TRACK TOYS",
         "Name_and_model": "2018 Apollo Intensa Emozione",
         "Offroad": 3.9,
         "Stock_Rating": 963,
         "Weight_lbs": 2756,
         "_deepnote_index_column": 8,
         "acceleration": 7.7,
         "braking": 10,
         "car_source": "Autoshow",
         "handling": 10,
         "launch": 8.4,
         "speed": 7.4,
         "stock_specs": "S2"
        },
        {
         "Car_Image": "https://www.kudosprime.com/fh5/images/cars/side/fh5_car_010.jpg?v=1",
         "Drive_Type": "RWD",
         "Horse_Power": 930,
         "In_Game_Price": "1,500,000",
         "Model_type": "EXTREME TRACK TOYS",
         "Name_and_model": "2018 Apollo Intensa Emozione \"Welcome Pack\"",
         "Offroad": 3.8,
         "Stock_Rating": 998,
         "Weight_lbs": 2480,
         "_deepnote_index_column": 9,
         "acceleration": 7.9,
         "braking": 10,
         "car_source": "Autoshow",
         "handling": 10,
         "launch": 8.6,
         "speed": 7.6,
         "stock_specs": "S2"
        }
       ]
      },
      "text/html": [
       "<div>\n",
       "<style scoped>\n",
       "    .dataframe tbody tr th:only-of-type {\n",
       "        vertical-align: middle;\n",
       "    }\n",
       "\n",
       "    .dataframe tbody tr th {\n",
       "        vertical-align: top;\n",
       "    }\n",
       "\n",
       "    .dataframe thead th {\n",
       "        text-align: right;\n",
       "    }\n",
       "</style>\n",
       "<table border=\"1\" class=\"dataframe\">\n",
       "  <thead>\n",
       "    <tr style=\"text-align: right;\">\n",
       "      <th></th>\n",
       "      <th>Car_Image</th>\n",
       "      <th>Name_and_model</th>\n",
       "      <th>Model_type</th>\n",
       "      <th>In_Game_Price</th>\n",
       "      <th>car_source</th>\n",
       "      <th>stock_specs</th>\n",
       "      <th>Stock_Rating</th>\n",
       "      <th>Drive_Type</th>\n",
       "      <th>speed</th>\n",
       "      <th>handling</th>\n",
       "      <th>acceleration</th>\n",
       "      <th>launch</th>\n",
       "      <th>braking</th>\n",
       "      <th>Offroad</th>\n",
       "      <th>Horse_Power</th>\n",
       "      <th>Weight_lbs</th>\n",
       "    </tr>\n",
       "  </thead>\n",
       "  <tbody>\n",
       "    <tr>\n",
       "      <th>0</th>\n",
       "      <td>https://www.kudosprime.com/fh5/images/cars/sid...</td>\n",
       "      <td>2001 Acura Integra Type R</td>\n",
       "      <td>RETRO HOT HATCH</td>\n",
       "      <td>25,000</td>\n",
       "      <td>Autoshow</td>\n",
       "      <td>C</td>\n",
       "      <td>596.0</td>\n",
       "      <td>FWD</td>\n",
       "      <td>5.6</td>\n",
       "      <td>5.1</td>\n",
       "      <td>3.9</td>\n",
       "      <td>3.1</td>\n",
       "      <td>3.4</td>\n",
       "      <td>5.1</td>\n",
       "      <td>195.0</td>\n",
       "      <td>2639.0</td>\n",
       "    </tr>\n",
       "    <tr>\n",
       "      <th>1</th>\n",
       "      <td>https://www.kudosprime.com/fh5/images/cars/sid...</td>\n",
       "      <td>2002 Acura RSX Type S</td>\n",
       "      <td>RETRO HOT HATCH</td>\n",
       "      <td>25,000</td>\n",
       "      <td>Autoshow</td>\n",
       "      <td>C</td>\n",
       "      <td>585.0</td>\n",
       "      <td>FWD</td>\n",
       "      <td>5.6</td>\n",
       "      <td>5.1</td>\n",
       "      <td>3.9</td>\n",
       "      <td>3.0</td>\n",
       "      <td>3.5</td>\n",
       "      <td>5.3</td>\n",
       "      <td>200.0</td>\n",
       "      <td>2820.0</td>\n",
       "    </tr>\n",
       "    <tr>\n",
       "      <th>2</th>\n",
       "      <td>https://www.kudosprime.com/fh5/images/cars/sid...</td>\n",
       "      <td>2017 Acura NSX</td>\n",
       "      <td>MODERN SUPERCARS</td>\n",
       "      <td>170,000</td>\n",
       "      <td>Autoshow</td>\n",
       "      <td>S1</td>\n",
       "      <td>831.0</td>\n",
       "      <td>AWD</td>\n",
       "      <td>7.0</td>\n",
       "      <td>7.0</td>\n",
       "      <td>9.2</td>\n",
       "      <td>10.0</td>\n",
       "      <td>7.1</td>\n",
       "      <td>4.7</td>\n",
       "      <td>573.0</td>\n",
       "      <td>3803.0</td>\n",
       "    </tr>\n",
       "    <tr>\n",
       "      <th>3</th>\n",
       "      <td>https://www.kudosprime.com/fh5/images/cars/sid...</td>\n",
       "      <td>1973 Alpine A110 1600s</td>\n",
       "      <td>CLASSIC RALLY</td>\n",
       "      <td>98,000</td>\n",
       "      <td>Autoshow</td>\n",
       "      <td>C</td>\n",
       "      <td>550.0</td>\n",
       "      <td>RWD</td>\n",
       "      <td>5.0</td>\n",
       "      <td>4.4</td>\n",
       "      <td>4.1</td>\n",
       "      <td>3.1</td>\n",
       "      <td>3.0</td>\n",
       "      <td>5.3</td>\n",
       "      <td>123.0</td>\n",
       "      <td>1576.0</td>\n",
       "    </tr>\n",
       "    <tr>\n",
       "      <th>4</th>\n",
       "      <td>https://www.kudosprime.com/fh5/images/cars/sid...</td>\n",
       "      <td>2017 Alpine A110</td>\n",
       "      <td>MODERN SPORTS CARS</td>\n",
       "      <td>67,500</td>\n",
       "      <td>Wheelspin</td>\n",
       "      <td>B</td>\n",
       "      <td>694.0</td>\n",
       "      <td>RWD</td>\n",
       "      <td>6.0</td>\n",
       "      <td>6.4</td>\n",
       "      <td>5.4</td>\n",
       "      <td>5.7</td>\n",
       "      <td>4.2</td>\n",
       "      <td>4.2</td>\n",
       "      <td>248.0</td>\n",
       "      <td>2432.0</td>\n",
       "    </tr>\n",
       "    <tr>\n",
       "      <th>...</th>\n",
       "      <td>...</td>\n",
       "      <td>...</td>\n",
       "      <td>...</td>\n",
       "      <td>...</td>\n",
       "      <td>...</td>\n",
       "      <td>...</td>\n",
       "      <td>...</td>\n",
       "      <td>...</td>\n",
       "      <td>...</td>\n",
       "      <td>...</td>\n",
       "      <td>...</td>\n",
       "      <td>...</td>\n",
       "      <td>...</td>\n",
       "      <td>...</td>\n",
       "      <td>...</td>\n",
       "      <td>...</td>\n",
       "    </tr>\n",
       "    <tr>\n",
       "      <th>534</th>\n",
       "      <td>https://www.kudosprime.com/fh5/images/cars/sid...</td>\n",
       "      <td>1997 Volvo 850 R</td>\n",
       "      <td>RETRO SALOONS</td>\n",
       "      <td>25,000</td>\n",
       "      <td>Autoshow</td>\n",
       "      <td>C</td>\n",
       "      <td>511.0</td>\n",
       "      <td>FWD</td>\n",
       "      <td>5.8</td>\n",
       "      <td>4.3</td>\n",
       "      <td>3.3</td>\n",
       "      <td>2.6</td>\n",
       "      <td>2.5</td>\n",
       "      <td>5.0</td>\n",
       "      <td>240.0</td>\n",
       "      <td>3230.0</td>\n",
       "    </tr>\n",
       "    <tr>\n",
       "      <th>535</th>\n",
       "      <td>https://www.kudosprime.com/fh5/images/cars/sid...</td>\n",
       "      <td>2015 Volvo V60 Polestar</td>\n",
       "      <td>SUPER SALOONS</td>\n",
       "      <td>62,000</td>\n",
       "      <td>Autoshow</td>\n",
       "      <td>B</td>\n",
       "      <td>662.0</td>\n",
       "      <td>AWD</td>\n",
       "      <td>6.1</td>\n",
       "      <td>5.9</td>\n",
       "      <td>5.5</td>\n",
       "      <td>3.6</td>\n",
       "      <td>3.9</td>\n",
       "      <td>5.1</td>\n",
       "      <td>346.0</td>\n",
       "      <td>3985.0</td>\n",
       "    </tr>\n",
       "    <tr>\n",
       "      <th>536</th>\n",
       "      <td>https://www.kudosprime.com/fh5/images/cars/sid...</td>\n",
       "      <td>2017 VUHL 05RR</td>\n",
       "      <td>TRACK TOYS</td>\n",
       "      <td>100,000</td>\n",
       "      <td>Autoshow</td>\n",
       "      <td>S1</td>\n",
       "      <td>886.0</td>\n",
       "      <td>RWD</td>\n",
       "      <td>6.8</td>\n",
       "      <td>8.6</td>\n",
       "      <td>8.5</td>\n",
       "      <td>9.2</td>\n",
       "      <td>7.8</td>\n",
       "      <td>3.7</td>\n",
       "      <td>385.0</td>\n",
       "      <td>1598.0</td>\n",
       "    </tr>\n",
       "    <tr>\n",
       "      <th>537</th>\n",
       "      <td>https://www.kudosprime.com/fh5/images/cars/sid...</td>\n",
       "      <td>1945 WILLYS MB Jeep</td>\n",
       "      <td>PICK-UP &amp; 4X4'S</td>\n",
       "      <td>40,000</td>\n",
       "      <td>Autoshow</td>\n",
       "      <td>D</td>\n",
       "      <td>198.0</td>\n",
       "      <td>AWD</td>\n",
       "      <td>2.6</td>\n",
       "      <td>3.7</td>\n",
       "      <td>2.0</td>\n",
       "      <td>3.3</td>\n",
       "      <td>2.1</td>\n",
       "      <td>7.1</td>\n",
       "      <td>60.0</td>\n",
       "      <td>2137.0</td>\n",
       "    </tr>\n",
       "    <tr>\n",
       "      <th>538</th>\n",
       "      <td>https://www.kudosprime.com/fh5/images/cars/sid...</td>\n",
       "      <td>2019 Zenvo TSR-S</td>\n",
       "      <td>HYPERCARS</td>\n",
       "      <td>1,200,000</td>\n",
       "      <td>Autoshow</td>\n",
       "      <td>S2</td>\n",
       "      <td>927.0</td>\n",
       "      <td>RWD</td>\n",
       "      <td>9.0</td>\n",
       "      <td>8.7</td>\n",
       "      <td>6.7</td>\n",
       "      <td>7.2</td>\n",
       "      <td>9.6</td>\n",
       "      <td>4.0</td>\n",
       "      <td>1177.0</td>\n",
       "      <td>3410.0</td>\n",
       "    </tr>\n",
       "  </tbody>\n",
       "</table>\n",
       "<p>537 rows × 16 columns</p>\n",
       "</div>"
      ],
      "text/plain": [
       "                                             Car_Image  \\\n",
       "0    https://www.kudosprime.com/fh5/images/cars/sid...   \n",
       "1    https://www.kudosprime.com/fh5/images/cars/sid...   \n",
       "2    https://www.kudosprime.com/fh5/images/cars/sid...   \n",
       "3    https://www.kudosprime.com/fh5/images/cars/sid...   \n",
       "4    https://www.kudosprime.com/fh5/images/cars/sid...   \n",
       "..                                                 ...   \n",
       "534  https://www.kudosprime.com/fh5/images/cars/sid...   \n",
       "535  https://www.kudosprime.com/fh5/images/cars/sid...   \n",
       "536  https://www.kudosprime.com/fh5/images/cars/sid...   \n",
       "537  https://www.kudosprime.com/fh5/images/cars/sid...   \n",
       "538  https://www.kudosprime.com/fh5/images/cars/sid...   \n",
       "\n",
       "                Name_and_model          Model_type In_Game_Price car_source  \\\n",
       "0    2001 Acura Integra Type R     RETRO HOT HATCH        25,000   Autoshow   \n",
       "1        2002 Acura RSX Type S     RETRO HOT HATCH        25,000   Autoshow   \n",
       "2               2017 Acura NSX    MODERN SUPERCARS       170,000   Autoshow   \n",
       "3       1973 Alpine A110 1600s       CLASSIC RALLY        98,000   Autoshow   \n",
       "4             2017 Alpine A110  MODERN SPORTS CARS        67,500  Wheelspin   \n",
       "..                         ...                 ...           ...        ...   \n",
       "534           1997 Volvo 850 R       RETRO SALOONS        25,000   Autoshow   \n",
       "535    2015 Volvo V60 Polestar       SUPER SALOONS        62,000   Autoshow   \n",
       "536             2017 VUHL 05RR          TRACK TOYS       100,000   Autoshow   \n",
       "537        1945 WILLYS MB Jeep     PICK-UP & 4X4'S        40,000   Autoshow   \n",
       "538           2019 Zenvo TSR-S           HYPERCARS     1,200,000   Autoshow   \n",
       "\n",
       "    stock_specs  Stock_Rating Drive_Type  speed  handling  acceleration  \\\n",
       "0             C         596.0        FWD    5.6       5.1           3.9   \n",
       "1             C         585.0        FWD    5.6       5.1           3.9   \n",
       "2            S1         831.0        AWD    7.0       7.0           9.2   \n",
       "3             C         550.0        RWD    5.0       4.4           4.1   \n",
       "4             B         694.0        RWD    6.0       6.4           5.4   \n",
       "..          ...           ...        ...    ...       ...           ...   \n",
       "534           C         511.0        FWD    5.8       4.3           3.3   \n",
       "535           B         662.0        AWD    6.1       5.9           5.5   \n",
       "536          S1         886.0        RWD    6.8       8.6           8.5   \n",
       "537           D         198.0        AWD    2.6       3.7           2.0   \n",
       "538          S2         927.0        RWD    9.0       8.7           6.7   \n",
       "\n",
       "     launch  braking  Offroad  Horse_Power  Weight_lbs  \n",
       "0       3.1      3.4      5.1        195.0      2639.0  \n",
       "1       3.0      3.5      5.3        200.0      2820.0  \n",
       "2      10.0      7.1      4.7        573.0      3803.0  \n",
       "3       3.1      3.0      5.3        123.0      1576.0  \n",
       "4       5.7      4.2      4.2        248.0      2432.0  \n",
       "..      ...      ...      ...          ...         ...  \n",
       "534     2.6      2.5      5.0        240.0      3230.0  \n",
       "535     3.6      3.9      5.1        346.0      3985.0  \n",
       "536     9.2      7.8      3.7        385.0      1598.0  \n",
       "537     3.3      2.1      7.1         60.0      2137.0  \n",
       "538     7.2      9.6      4.0       1177.0      3410.0  \n",
       "\n",
       "[537 rows x 16 columns]"
      ]
     },
     "execution_count": 13,
     "metadata": {},
     "output_type": "execute_result"
    }
   ],
   "source": [
    "df"
   ]
  },
  {
   "cell_type": "code",
   "execution_count": 14,
   "metadata": {
    "cell_id": "98f4c85b9eeb43119817f30adb04a091",
    "deepnote_cell_type": "code",
    "deepnote_to_be_reexecuted": false,
    "execution_millis": 12,
    "execution_start": 1686781806641,
    "source_hash": "14f60b8f"
   },
   "outputs": [
    {
     "data": {
      "text/plain": [
       "(537, 16)"
      ]
     },
     "execution_count": 14,
     "metadata": {},
     "output_type": "execute_result"
    }
   ],
   "source": [
    "df.shape"
   ]
  },
  {
   "cell_type": "markdown",
   "metadata": {
    "cell_id": "68a67a820669419398c11ca7af4b5d31",
    "deepnote_cell_type": "markdown"
   },
   "source": [
    "This effectively finishes the cleaning portion of the data that will allow the data analysis to begin"
   ]
  },
  {
   "cell_type": "markdown",
   "metadata": {
    "cell_id": "5045a492309c4245a5081a130610c6f9",
    "deepnote_cell_type": "markdown"
   },
   "source": [
    "# Predicting the Car's Rating Using Various Regressions\n",
    "Comparison between Pipeline (the best degree polynomial) and Decision Tree Regressor and which one was more accurate in its prediction. "
   ]
  },
  {
   "cell_type": "code",
   "execution_count": 15,
   "metadata": {
    "cell_id": "8b6f624936fe44a585db11ba93cfb7cb",
    "deepnote_cell_type": "code",
    "deepnote_to_be_reexecuted": false,
    "execution_millis": 1016,
    "execution_start": 1686781806665,
    "source_hash": "93c90f8"
   },
   "outputs": [],
   "source": [
    "from sklearn.linear_model import LinearRegression\n",
    "from sklearn.preprocessing import PolynomialFeatures\n",
    "from sklearn.pipeline import Pipeline\n",
    "from sklearn.tree import DecisionTreeRegressor\n",
    "from sklearn.ensemble import RandomForestRegressor\n",
    "from sklearn.model_selection import train_test_split\n",
    "from sklearn.metrics import mean_squared_error, mean_absolute_error"
   ]
  },
  {
   "cell_type": "code",
   "execution_count": 16,
   "metadata": {
    "cell_id": "2b5d133bf7d84fc5b25fdad2739f9399",
    "deepnote_cell_type": "code",
    "deepnote_to_be_reexecuted": false,
    "execution_millis": 178,
    "execution_start": 1686781807511,
    "source_hash": "48b39c12"
   },
   "outputs": [],
   "source": [
    "strings_to_drop = [\"Stock_Rating\", \"Horse_Power\", \"Weight_lbs\"]\n",
    "cols1 = [x for x in cols if x not in strings_to_drop]"
   ]
  },
  {
   "cell_type": "code",
   "execution_count": 17,
   "metadata": {
    "cell_id": "15db879d84914adca49d35cd0c6fabb7",
    "deepnote_cell_type": "code",
    "deepnote_to_be_reexecuted": false,
    "execution_millis": 169,
    "execution_start": 1686781807517,
    "source_hash": "327c935b"
   },
   "outputs": [
    {
     "data": {
      "text/plain": [
       "['speed', 'handling', 'acceleration', 'launch', 'braking', 'Offroad']"
      ]
     },
     "execution_count": 17,
     "metadata": {},
     "output_type": "execute_result"
    }
   ],
   "source": [
    "cols1"
   ]
  },
  {
   "cell_type": "markdown",
   "metadata": {
    "cell_id": "f9a13f84ee1849e9b8f0477bd9a55e32",
    "deepnote_cell_type": "markdown"
   },
   "source": [
    "A new list is made for ease of use when applying machine learning from our original list hence why remove some features. We dont want \"Stock_Rating\" as part of our features since it is our target column when doing regressions, and \"Horse_Power\" and \"Weight_lbs\" are not what I'd consider traditional car stats, hence why I removed them as well. "
   ]
  },
  {
   "cell_type": "code",
   "execution_count": 18,
   "metadata": {
    "cell_id": "98853dead9554bf08f9d4dc3ab062cdc",
    "deepnote_cell_type": "code",
    "deepnote_to_be_reexecuted": false,
    "execution_millis": 165,
    "execution_start": 1686781807524,
    "source_hash": "66182d"
   },
   "outputs": [],
   "source": [
    "def make_chart(feat):\n",
    "    c = alt.Chart(df).mark_circle().encode(\n",
    "        x = feat,\n",
    "        y = \"Stock_Rating\",\n",
    "        color = alt.Color(feat, legend = alt.Legend(title = \"Feature\"))\n",
    "    )\n",
    "    return c"
   ]
  },
  {
   "cell_type": "code",
   "execution_count": 19,
   "metadata": {
    "cell_id": "f81367c04c934477a976caeb689d0424",
    "deepnote_cell_type": "code",
    "deepnote_to_be_reexecuted": false,
    "execution_millis": 406,
    "execution_start": 1686781807581,
    "source_hash": "aa9dba13"
   },
   "outputs": [],
   "source": [
    "import random\n",
    "\n",
    "charts = [make_chart(x) for x in cols1]  \n",
    "# Create an empty list to store the layered charts\n",
    "layered_charts = []\n",
    "\n",
    "def generate_random_color():\n",
    "    # Generate random values for red, green, and blue color components\n",
    "    red = random.randint(0, 255)\n",
    "    green = random.randint(0, 255)\n",
    "    blue = random.randint(0, 255)\n",
    "    # Construct the RGB color string\n",
    "    color = f'rgb({red}, {green}, {blue})'\n",
    "    return color\n",
    "# Generate a random color\n",
    "random_color = generate_random_color()\n",
    "\n",
    "# Iterate over the charts and apply different visual properties to each layer\n",
    "for i, (chart,x_label) in enumerate(zip(charts, cols1)):\n",
    "    # Apply different color to each layer\n",
    "    color = random_color if i == 0 else generate_random_color() \n",
    "    # Apply the visual properties to the current layer\n",
    "    layered_chart = chart.mark_circle().encode(\n",
    "        x = x_label,\n",
    "        y =\"Stock_Rating\",\n",
    "        color = alt.Chart(value = f\"{color}\"),\n",
    "        tooltip = [x_label],\n",
    "    ).interactive()\n",
    "    layered_charts.append(layered_chart)\n",
    "\n",
    "# Combine the layered charts using 'alt.layer'\n",
    "combined_chart = alt.layer(*layered_charts)"
   ]
  },
  {
   "cell_type": "code",
   "execution_count": 20,
   "metadata": {
    "cell_id": "bf402e3d6e204809b303ff28d7b3c4e8",
    "deepnote_cell_type": "code",
    "deepnote_to_be_reexecuted": false,
    "execution_millis": 90,
    "execution_start": 1686781807974,
    "source_hash": "734fe4"
   },
   "outputs": [
    {
     "data": {
      "text/html": [
       "\n",
       "<div id=\"altair-viz-c3f88b5c3a4847c6ba93483b0783192f\"></div>\n",
       "<script type=\"text/javascript\">\n",
       "  var VEGA_DEBUG = (typeof VEGA_DEBUG == \"undefined\") ? {} : VEGA_DEBUG;\n",
       "  (function(spec, embedOpt){\n",
       "    let outputDiv = document.currentScript.previousElementSibling;\n",
       "    if (outputDiv.id !== \"altair-viz-c3f88b5c3a4847c6ba93483b0783192f\") {\n",
       "      outputDiv = document.getElementById(\"altair-viz-c3f88b5c3a4847c6ba93483b0783192f\");\n",
       "    }\n",
       "    const paths = {\n",
       "      \"vega\": \"https://cdn.jsdelivr.net/npm//vega@5?noext\",\n",
       "      \"vega-lib\": \"https://cdn.jsdelivr.net/npm//vega-lib?noext\",\n",
       "      \"vega-lite\": \"https://cdn.jsdelivr.net/npm//vega-lite@4.17.0?noext\",\n",
       "      \"vega-embed\": \"https://cdn.jsdelivr.net/npm//vega-embed@6?noext\",\n",
       "    };\n",
       "\n",
       "    function maybeLoadScript(lib, version) {\n",
       "      var key = `${lib.replace(\"-\", \"\")}_version`;\n",
       "      return (VEGA_DEBUG[key] == version) ?\n",
       "        Promise.resolve(paths[lib]) :\n",
       "        new Promise(function(resolve, reject) {\n",
       "          var s = document.createElement('script');\n",
       "          document.getElementsByTagName(\"head\")[0].appendChild(s);\n",
       "          s.async = true;\n",
       "          s.onload = () => {\n",
       "            VEGA_DEBUG[key] = version;\n",
       "            return resolve(paths[lib]);\n",
       "          };\n",
       "          s.onerror = () => reject(`Error loading script: ${paths[lib]}`);\n",
       "          s.src = paths[lib];\n",
       "        });\n",
       "    }\n",
       "\n",
       "    function showError(err) {\n",
       "      outputDiv.innerHTML = `<div class=\"error\" style=\"color:red;\">${err}</div>`;\n",
       "      throw err;\n",
       "    }\n",
       "\n",
       "    function displayChart(vegaEmbed) {\n",
       "      vegaEmbed(outputDiv, spec, embedOpt)\n",
       "        .catch(err => showError(`Javascript Error: ${err.message}<br>This usually means there's a typo in your chart specification. See the javascript console for the full traceback.`));\n",
       "    }\n",
       "\n",
       "    if(typeof define === \"function\" && define.amd) {\n",
       "      requirejs.config({paths});\n",
       "      require([\"vega-embed\"], displayChart, err => showError(`Error loading script: ${err.message}`));\n",
       "    } else {\n",
       "      maybeLoadScript(\"vega\", \"5\")\n",
       "        .then(() => maybeLoadScript(\"vega-lite\", \"4.17.0\"))\n",
       "        .then(() => maybeLoadScript(\"vega-embed\", \"6\"))\n",
       "        .catch(showError)\n",
       "        .then(() => displayChart(vegaEmbed));\n",
       "    }\n",
       "  })({\"config\": {\"view\": {\"continuousWidth\": 400, \"continuousHeight\": 300}}, \"layer\": [{\"mark\": \"circle\", \"encoding\": {\"color\": {\"value\": \"rgb(114, 108, 158)\"}, \"tooltip\": [{\"field\": \"speed\", \"type\": \"quantitative\"}], \"x\": {\"field\": \"speed\", \"type\": \"quantitative\"}, \"y\": {\"field\": \"Stock_Rating\", \"type\": \"quantitative\"}}, \"selection\": {\"selector001\": {\"type\": \"interval\", \"bind\": \"scales\", \"encodings\": [\"x\", \"y\"]}}}, {\"mark\": \"circle\", \"encoding\": {\"color\": {\"value\": \"rgb(152, 70, 144)\"}, \"tooltip\": [{\"field\": \"handling\", \"type\": \"quantitative\"}], \"x\": {\"field\": \"handling\", \"type\": \"quantitative\"}, \"y\": {\"field\": \"Stock_Rating\", \"type\": \"quantitative\"}}, \"selection\": {\"selector002\": {\"type\": \"interval\", \"bind\": \"scales\", \"encodings\": [\"x\", \"y\"]}}}, {\"mark\": \"circle\", \"encoding\": {\"color\": {\"value\": \"rgb(249, 183, 223)\"}, \"tooltip\": [{\"field\": \"acceleration\", \"type\": \"quantitative\"}], \"x\": {\"field\": \"acceleration\", \"type\": \"quantitative\"}, \"y\": {\"field\": \"Stock_Rating\", \"type\": \"quantitative\"}}, \"selection\": {\"selector003\": {\"type\": \"interval\", \"bind\": \"scales\", \"encodings\": [\"x\", \"y\"]}}}, {\"mark\": \"circle\", \"encoding\": {\"color\": {\"value\": \"rgb(58, 127, 244)\"}, \"tooltip\": [{\"field\": \"launch\", \"type\": \"quantitative\"}], \"x\": {\"field\": \"launch\", \"type\": \"quantitative\"}, \"y\": {\"field\": \"Stock_Rating\", \"type\": \"quantitative\"}}, \"selection\": {\"selector004\": {\"type\": \"interval\", \"bind\": \"scales\", \"encodings\": [\"x\", \"y\"]}}}, {\"mark\": \"circle\", \"encoding\": {\"color\": {\"value\": \"rgb(69, 59, 7)\"}, \"tooltip\": [{\"field\": \"braking\", \"type\": \"quantitative\"}], \"x\": {\"field\": \"braking\", \"type\": \"quantitative\"}, \"y\": {\"field\": \"Stock_Rating\", \"type\": \"quantitative\"}}, \"selection\": {\"selector005\": {\"type\": \"interval\", \"bind\": \"scales\", \"encodings\": [\"x\", \"y\"]}}}, {\"mark\": \"circle\", \"encoding\": {\"color\": {\"value\": \"rgb(11, 22, 244)\"}, \"tooltip\": [{\"field\": \"Offroad\", \"type\": \"quantitative\"}], \"x\": {\"field\": \"Offroad\", \"type\": \"quantitative\"}, \"y\": {\"field\": \"Stock_Rating\", \"type\": \"quantitative\"}}, \"selection\": {\"selector006\": {\"type\": \"interval\", \"bind\": \"scales\", \"encodings\": [\"x\", \"y\"]}}}], \"data\": {\"name\": \"data-a5c3049d37e4715b1f1bbf6b968592ce\"}, \"$schema\": \"https://vega.github.io/schema/vega-lite/v4.17.0.json\", \"datasets\": {\"data-a5c3049d37e4715b1f1bbf6b968592ce\": [{\"Car_Image\": \"https://www.kudosprime.com/fh5/images/cars/side/fh5_car_001.jpg?v=1\", \"Name_and_model\": \"2001 Acura Integra Type R\", \"Model_type\": \"RETRO HOT HATCH\", \"In_Game_Price\": \"25,000\", \"car_source\": \"Autoshow\", \"stock_specs\": \"C\", \"Stock_Rating\": 596.0, \"Drive_Type\": \"FWD\", \"speed\": 5.6, \"handling\": 5.1, \"acceleration\": 3.9, \"launch\": 3.1, \"braking\": 3.4, \"Offroad\": 5.1, \"Horse_Power\": 195.0, \"Weight_lbs\": 2639.0}, {\"Car_Image\": \"https://www.kudosprime.com/fh5/images/cars/side/fh5_car_002.jpg?v=1\", \"Name_and_model\": \"2002 Acura RSX Type S\", \"Model_type\": \"RETRO HOT HATCH\", \"In_Game_Price\": \"25,000\", \"car_source\": \"Autoshow\", \"stock_specs\": \"C\", \"Stock_Rating\": 585.0, \"Drive_Type\": \"FWD\", \"speed\": 5.6, \"handling\": 5.1, \"acceleration\": 3.9, \"launch\": 3.0, \"braking\": 3.5, \"Offroad\": 5.3, \"Horse_Power\": 200.0, \"Weight_lbs\": 2820.0}, {\"Car_Image\": \"https://www.kudosprime.com/fh5/images/cars/side/fh5_car_003.jpg?v=1\", \"Name_and_model\": \"2017 Acura NSX\", \"Model_type\": \"MODERN SUPERCARS\", \"In_Game_Price\": \"170,000\", \"car_source\": \"Autoshow\", \"stock_specs\": \"S1\", \"Stock_Rating\": 831.0, \"Drive_Type\": \"AWD\", \"speed\": 7.0, \"handling\": 7.0, \"acceleration\": 9.2, \"launch\": 10.0, \"braking\": 7.1, \"Offroad\": 4.7, \"Horse_Power\": 573.0, \"Weight_lbs\": 3803.0}, {\"Car_Image\": \"https://www.kudosprime.com/fh5/images/cars/side/fh5_car_004.jpg?v=1\", \"Name_and_model\": \"1973 Alpine A110 1600s\", \"Model_type\": \"CLASSIC RALLY\", \"In_Game_Price\": \"98,000\", \"car_source\": \"Autoshow\", \"stock_specs\": \"C\", \"Stock_Rating\": 550.0, \"Drive_Type\": \"RWD\", \"speed\": 5.0, \"handling\": 4.4, \"acceleration\": 4.1, \"launch\": 3.1, \"braking\": 3.0, \"Offroad\": 5.3, \"Horse_Power\": 123.0, \"Weight_lbs\": 1576.0}, {\"Car_Image\": \"https://www.kudosprime.com/fh5/images/cars/side/fh5_car_005.jpg?v=1\", \"Name_and_model\": \"2017 Alpine A110\", \"Model_type\": \"MODERN SPORTS CARS\", \"In_Game_Price\": \"67,500\", \"car_source\": \"Wheelspin\", \"stock_specs\": \"B\", \"Stock_Rating\": 694.0, \"Drive_Type\": \"RWD\", \"speed\": 6.0, \"handling\": 6.4, \"acceleration\": 5.4, \"launch\": 5.7, \"braking\": 4.2, \"Offroad\": 4.2, \"Horse_Power\": 248.0, \"Weight_lbs\": 2432.0}, {\"Car_Image\": \"https://www.kudosprime.com/fh5/images/cars/side/fh5_car_006.jpg?v=1\", \"Name_and_model\": \"2015 Alumi Craft Class 10 Race Car\", \"Model_type\": \"UNLIMITED BUGGIES\", \"In_Game_Price\": \"300,000\", \"car_source\": \"Autoshow\", \"stock_specs\": \"B\", \"Stock_Rating\": 642.0, \"Drive_Type\": \"RWD\", \"speed\": 4.4, \"handling\": 3.8, \"acceleration\": 5.0, \"launch\": 4.1, \"braking\": 4.8, \"Offroad\": 10.0, \"Horse_Power\": 196.0, \"Weight_lbs\": 2200.0}, {\"Car_Image\": \"https://www.kudosprime.com/fh5/images/cars/side/fh5_car_007.jpg?v=1\", \"Name_and_model\": \"1973 AMC Gremlin X\", \"Model_type\": \"CULT CARS\", \"In_Game_Price\": \"35,000\", \"car_source\": \"Autoshow\", \"stock_specs\": \"D\", \"Stock_Rating\": 403.0, \"Drive_Type\": \"RWD\", \"speed\": 4.0, \"handling\": 3.9, \"acceleration\": 3.4, \"launch\": 3.4, \"braking\": 2.3, \"Offroad\": 5.2, \"Horse_Power\": 150.0, \"Weight_lbs\": 2840.0}, {\"Car_Image\": \"https://www.kudosprime.com/fh5/images/cars/side/fh5_car_008.jpg?v=1\", \"Name_and_model\": \"2554 AMG TRANSPORT DYNAMICS M12S Warthog CST\", \"Model_type\": \"UNLIMITED OFFROAD\", \"In_Game_Price\": \"850,000\", \"car_source\": \"Autoshow\", \"stock_specs\": \"A\", \"Stock_Rating\": 719.0, \"Drive_Type\": \"AWD\", \"speed\": 4.2, \"handling\": 4.1, \"acceleration\": 8.6, \"launch\": 10.0, \"braking\": 6.7, \"Offroad\": 10.0, \"Horse_Power\": 720.0, \"Weight_lbs\": 5071.0}, {\"Car_Image\": \"https://www.kudosprime.com/fh5/images/cars/side/fh5_car_009.jpg?v=1\", \"Name_and_model\": \"2018 Apollo Intensa Emozione\", \"Model_type\": \"EXTREME TRACK TOYS\", \"In_Game_Price\": \"1,500,000\", \"car_source\": \"Autoshow\", \"stock_specs\": \"S2\", \"Stock_Rating\": 963.0, \"Drive_Type\": \"RWD\", \"speed\": 7.4, \"handling\": 10.0, \"acceleration\": 7.7, \"launch\": 8.4, \"braking\": 10.0, \"Offroad\": 3.9, \"Horse_Power\": 780.0, \"Weight_lbs\": 2756.0}, {\"Car_Image\": \"https://www.kudosprime.com/fh5/images/cars/side/fh5_car_010.jpg?v=1\", \"Name_and_model\": \"2018 Apollo Intensa Emozione \\\"Welcome Pack\\\"\", \"Model_type\": \"EXTREME TRACK TOYS\", \"In_Game_Price\": \"1,500,000\", \"car_source\": \"Autoshow\", \"stock_specs\": \"S2\", \"Stock_Rating\": 998.0, \"Drive_Type\": \"RWD\", \"speed\": 7.6, \"handling\": 10.0, \"acceleration\": 7.9, \"launch\": 8.6, \"braking\": 10.0, \"Offroad\": 3.8, \"Horse_Power\": 930.0, \"Weight_lbs\": 2480.0}, {\"Car_Image\": \"https://www.kudosprime.com/fh5/images/cars/side/fh5_car_011.jpg?v=1\", \"Name_and_model\": \"2013 Ariel Atom 500 V8\", \"Model_type\": \"EXTREME TRACK TOYS\", \"In_Game_Price\": \"200,000\", \"car_source\": \"Autoshow\", \"stock_specs\": \"S2\", \"Stock_Rating\": 924.0, \"Drive_Type\": \"RWD\", \"speed\": 6.3, \"handling\": 8.8, \"acceleration\": 7.8, \"launch\": 8.5, \"braking\": 7.2, \"Offroad\": 3.9, \"Horse_Power\": 475.0, \"Weight_lbs\": 1433.0}, {\"Car_Image\": \"https://www.kudosprime.com/fh5/images/cars/side/fh5_car_012.jpg?v=1\", \"Name_and_model\": \"2016 Ariel Nomad\", \"Model_type\": \"UNLIMITED BUGGIES\", \"In_Game_Price\": \"93,000\", \"car_source\": \"Autoshow\", \"stock_specs\": \"A\", \"Stock_Rating\": 711.0, \"Drive_Type\": \"RWD\", \"speed\": 5.2, \"handling\": 4.7, \"acceleration\": 6.5, \"launch\": 7.2, \"braking\": 4.2, \"Offroad\": 8.1, \"Horse_Power\": 236.0, \"Weight_lbs\": 1477.0}, {\"Car_Image\": \"https://www.kudosprime.com/fh5/images/cars/side/fh5_car_013.jpg?v=1\", \"Name_and_model\": \"1964 Aston Martin DB5\", \"Model_type\": \"RARE CLASSICS\", \"In_Game_Price\": \"800,000\", \"car_source\": \"Autoshow\", \"stock_specs\": \"C\", \"Stock_Rating\": 548.0, \"Drive_Type\": \"RWD\", \"speed\": 5.4, \"handling\": 4.0, \"acceleration\": 4.0, \"launch\": 3.4, \"braking\": 2.7, \"Offroad\": 5.4, \"Horse_Power\": 325.0, \"Weight_lbs\": 3230.0}, {\"Car_Image\": \"https://www.kudosprime.com/fh5/images/cars/side/fh5_car_014.jpg?v=1\", \"Name_and_model\": \"2013 Aston Martin V12 Vantage S\", \"Model_type\": \"SUPER GT\", \"In_Game_Price\": \"240,000\", \"car_source\": \"Autoshow\", \"stock_specs\": \"A\", \"Stock_Rating\": 796.0, \"Drive_Type\": \"RWD\", \"speed\": 7.8, \"handling\": 6.2, \"acceleration\": 5.4, \"launch\": 5.7, \"braking\": 6.4, \"Offroad\": 4.4, \"Horse_Power\": 565.0, \"Weight_lbs\": 3671.0}, {\"Car_Image\": \"https://www.kudosprime.com/fh5/images/cars/side/fh5_car_015.jpg?v=1\", \"Name_and_model\": \"2016 Aston Martin Vantage GT12\", \"Model_type\": \"TRACK TOYS\", \"In_Game_Price\": \"400,000\", \"car_source\": \"Accolade\", \"stock_specs\": \"S1\", \"Stock_Rating\": 829.0, \"Drive_Type\": \"RWD\", \"speed\": 6.7, \"handling\": 8.0, \"acceleration\": 5.9, \"launch\": 6.1, \"braking\": 8.1, \"Offroad\": 4.4, \"Horse_Power\": 593.0, \"Weight_lbs\": 3450.0}, {\"Car_Image\": \"https://www.kudosprime.com/fh5/images/cars/side/fh5_car_016.jpg?v=1\", \"Name_and_model\": \"2017 Aston Martin DB11\", \"Model_type\": \"SUPER GT\", \"In_Game_Price\": \"300,000\", \"car_source\": \"Autoshow\", \"stock_specs\": \"A\", \"Stock_Rating\": 787.0, \"Drive_Type\": \"RWD\", \"speed\": 7.3, \"handling\": 6.5, \"acceleration\": 5.7, \"launch\": 6.1, \"braking\": 6.1, \"Offroad\": 4.7, \"Horse_Power\": 608.0, \"Weight_lbs\": 4134.0}, {\"Car_Image\": \"https://www.kudosprime.com/fh5/images/cars/side/fh5_car_017.jpg?v=1\", \"Name_and_model\": \"2017 Aston Martin Vulcan AMR Pro\", \"Model_type\": \"EXTREME TRACK TOYS\", \"In_Game_Price\": \"2,000,000\", \"car_source\": \"Autoshow\", \"stock_specs\": \"S2\", \"Stock_Rating\": 953.0, \"Drive_Type\": \"RWD\", \"speed\": 7.7, \"handling\": 9.6, \"acceleration\": 6.5, \"launch\": 7.0, \"braking\": 10.0, \"Offroad\": 3.2, \"Horse_Power\": 820.0, \"Weight_lbs\": 2998.0}, {\"Car_Image\": \"https://www.kudosprime.com/fh5/images/cars/side/fh5_car_019.jpg?v=1\", \"Name_and_model\": \"2019 Aston Martin DBS Superleggera\", \"Model_type\": \"SUPER GT\", \"In_Game_Price\": \"350,000\", \"car_source\": \"Autoshow\", \"stock_specs\": \"S1\", \"Stock_Rating\": 835.0, \"Drive_Type\": \"RWD\", \"speed\": 7.8, \"handling\": 6.6, \"acceleration\": 5.8, \"launch\": 6.2, \"braking\": 6.9, \"Offroad\": 4.5, \"Horse_Power\": 715.0, \"Weight_lbs\": 3966.0}, {\"Car_Image\": \"https://www.kudosprime.com/fh5/images/cars/side/fh5_car_020.jpg?v=1\", \"Name_and_model\": \"2019 Aston Martin Valhalla Concept Car\", \"Model_type\": \"HYPERCARS\", \"In_Game_Price\": \"1,150,000\", \"car_source\": \"Autoshow\", \"stock_specs\": \"S2\", \"Stock_Rating\": 959.0, \"Drive_Type\": \"AWD\", \"speed\": 8.5, \"handling\": 9.2, \"acceleration\": 10.0, \"launch\": 10.0, \"braking\": 9.4, \"Offroad\": 4.6, \"Horse_Power\": 1042.0, \"Weight_lbs\": 3097.0}, {\"Car_Image\": \"https://www.kudosprime.com/fh5/images/cars/side/fh5_car_018.jpg?v=1\", \"Name_and_model\": \"2019 Aston Martin Vantage\", \"Model_type\": \"GT CARS\", \"In_Game_Price\": \"430,000\", \"car_source\": \"Autoshow\", \"stock_specs\": \"S1\", \"Stock_Rating\": 801.0, \"Drive_Type\": \"RWD\", \"speed\": 7.0, \"handling\": 6.7, \"acceleration\": 6.0, \"launch\": 6.4, \"braking\": 6.1, \"Offroad\": 4.6, \"Horse_Power\": 503.0, \"Weight_lbs\": 3497.0}, {\"Car_Image\": \"https://www.kudosprime.com/fh5/images/cars/side/fh5_car_021.jpg?v=1\", \"Name_and_model\": \"1983 Audi Sport quattro\", \"Model_type\": \"RETRO RALLY\", \"In_Game_Price\": \"175,000\", \"car_source\": \"Autoshow\", \"stock_specs\": \"B\", \"Stock_Rating\": 638.0, \"Drive_Type\": \"AWD\", \"speed\": 5.7, \"handling\": 5.0, \"acceleration\": 5.5, \"launch\": 2.9, \"braking\": 4.0, \"Offroad\": 5.7, \"Horse_Power\": 306.0, \"Weight_lbs\": 2807.0}, {\"Car_Image\": \"https://www.kudosprime.com/fh5/images/cars/side/fh5_car_022.jpg?v=1\", \"Name_and_model\": \"1995 Audi Avant RS2\", \"Model_type\": \"RETRO SALOONS\", \"In_Game_Price\": \"50,000\", \"car_source\": \"Autoshow\", \"stock_specs\": \"B\", \"Stock_Rating\": 601.0, \"Drive_Type\": \"AWD\", \"speed\": 6.0, \"handling\": 5.1, \"acceleration\": 5.0, \"launch\": 5.3, \"braking\": 3.2, \"Offroad\": 5.2, \"Horse_Power\": 311.0, \"Weight_lbs\": 3517.0}, {\"Car_Image\": \"https://www.kudosprime.com/fh5/images/cars/side/fh5_car_023.jpg?v=1\", \"Name_and_model\": \"2001 Audi RS 4 Avant\", \"Model_type\": \"RETRO SALOONS\", \"In_Game_Price\": \"94,000\", \"car_source\": \"Autoshow\", \"stock_specs\": \"B\", \"Stock_Rating\": 663.0, \"Drive_Type\": \"AWD\", \"speed\": 6.4, \"handling\": 5.8, \"acceleration\": 5.5, \"launch\": 4.7, \"braking\": 3.6, \"Offroad\": 5.2, \"Horse_Power\": 375.0, \"Weight_lbs\": 3571.0}, {\"Car_Image\": \"https://www.kudosprime.com/fh5/images/cars/side/fh5_car_024.jpg?v=1\", \"Name_and_model\": \"2003 Audi RS 6\", \"Model_type\": \"RETRO SALOONS\", \"In_Game_Price\": \"105,000\", \"car_source\": \"Autoshow\", \"stock_specs\": \"B\", \"Stock_Rating\": 677.0, \"Drive_Type\": \"AWD\", \"speed\": 6.8, \"handling\": 5.7, \"acceleration\": 5.1, \"launch\": 5.0, \"braking\": 4.1, \"Offroad\": 5.4, \"Horse_Power\": 450.0, \"Weight_lbs\": 4024.0}, {\"Car_Image\": \"https://www.kudosprime.com/fh5/images/cars/side/fh5_car_025.jpg?v=1\", \"Name_and_model\": \"2006 Audi RS 4\", \"Model_type\": \"SUPER SALOONS\", \"In_Game_Price\": \"53,000\", \"car_source\": \"Autoshow\", \"stock_specs\": \"A\", \"Stock_Rating\": 710.0, \"Drive_Type\": \"AWD\", \"speed\": 6.9, \"handling\": 6.1, \"acceleration\": 6.0, \"launch\": 5.5, \"braking\": 4.4, \"Offroad\": 5.3, \"Horse_Power\": 420.0, \"Weight_lbs\": 3638.0}, {\"Car_Image\": \"https://www.kudosprime.com/fh5/images/cars/side/fh5_car_026.jpg?v=1\", \"Name_and_model\": \"2009 Audi RS 6\", \"Model_type\": \"SUPER SALOONS\", \"In_Game_Price\": \"155,000\", \"car_source\": \"Autoshow\", \"stock_specs\": \"A\", \"Stock_Rating\": 722.0, \"Drive_Type\": \"AWD\", \"speed\": 7.5, \"handling\": 6.0, \"acceleration\": 6.1, \"launch\": 6.7, \"braking\": 5.8, \"Offroad\": 5.5, \"Horse_Power\": 570.0, \"Weight_lbs\": 4376.0}, {\"Car_Image\": \"https://www.kudosprime.com/fh5/images/cars/side/fh5_car_027.jpg?v=1\", \"Name_and_model\": \"2010 Audi TT RS Coup\\u00e9\", \"Model_type\": \"MODERN SPORTS CARS\", \"In_Game_Price\": \"66,000\", \"car_source\": \"Autoshow\", \"stock_specs\": \"A\", \"Stock_Rating\": 707.0, \"Drive_Type\": \"AWD\", \"speed\": 6.6, \"handling\": 6.1, \"acceleration\": 5.8, \"launch\": 7.0, \"braking\": 4.4, \"Offroad\": 5.4, \"Horse_Power\": 335.0, \"Weight_lbs\": 3294.0}, {\"Car_Image\": \"https://www.kudosprime.com/fh5/images/cars/side/fh5_car_028.jpg?v=1\", \"Name_and_model\": \"2011 Audi RS 3 Sportback\", \"Model_type\": \"SUPER HOT HATCH\", \"In_Game_Price\": \"42,000\", \"car_source\": \"Autoshow\", \"stock_specs\": \"B\", \"Stock_Rating\": 682.0, \"Drive_Type\": \"AWD\", \"speed\": 6.0, \"handling\": 6.1, \"acceleration\": 5.2, \"launch\": 6.5, \"braking\": 4.1, \"Offroad\": 5.5, \"Horse_Power\": 335.0, \"Weight_lbs\": 3472.0}, {\"Car_Image\": \"https://www.kudosprime.com/fh5/images/cars/side/fh5_car_029.jpg?v=1\", \"Name_and_model\": \"2011 Audi RS 5 Coup\\u00e9\", \"Model_type\": \"SUPER SALOONS\", \"In_Game_Price\": \"88,000\", \"car_source\": \"Autoshow\", \"stock_specs\": \"A\", \"Stock_Rating\": 733.0, \"Drive_Type\": \"AWD\", \"speed\": 6.8, \"handling\": 6.2, \"acceleration\": 5.8, \"launch\": 5.7, \"braking\": 5.9, \"Offroad\": 5.5, \"Horse_Power\": 442.0, \"Weight_lbs\": 3830.0}, {\"Car_Image\": \"https://www.kudosprime.com/fh5/images/cars/side/fh5_car_032.jpg?v=1\", \"Name_and_model\": \"2013 Audi R8 Coup\\u00e9 V10 plus 5.2 FSI quattro\", \"Model_type\": \"MODERN SUPERCARS\", \"In_Game_Price\": \"290,000\", \"car_source\": \"Wheelspin\", \"stock_specs\": \"S1\", \"Stock_Rating\": 802.0, \"Drive_Type\": \"AWD\", \"speed\": 7.3, \"handling\": 7.0, \"acceleration\": 7.1, \"launch\": 6.6, \"braking\": 6.9, \"Offroad\": 5.0, \"Horse_Power\": 542.0, \"Weight_lbs\": 3682.0}, {\"Car_Image\": \"https://www.kudosprime.com/fh5/images/cars/side/fh5_car_030.jpg?v=1\", \"Name_and_model\": \"2013 Audi RS 4 Avant\", \"Model_type\": \"SUPER SALOONS\", \"In_Game_Price\": \"83,000\", \"car_source\": \"Autoshow\", \"stock_specs\": \"A\", \"Stock_Rating\": 728.0, \"Drive_Type\": \"AWD\", \"speed\": 7.0, \"handling\": 6.2, \"acceleration\": 5.5, \"launch\": 5.2, \"braking\": 5.2, \"Offroad\": 5.2, \"Horse_Power\": 444.0, \"Weight_lbs\": 3957.0}, {\"Car_Image\": \"https://www.kudosprime.com/fh5/images/cars/side/fh5_car_031.jpg?v=1\", \"Name_and_model\": \"2013 Audi RS 7 Sportback\", \"Model_type\": \"SUPER SALOONS\", \"In_Game_Price\": \"225,000\", \"car_source\": \"Autoshow\", \"stock_specs\": \"A\", \"Stock_Rating\": 739.0, \"Drive_Type\": \"AWD\", \"speed\": 7.6, \"handling\": 5.9, \"acceleration\": 7.0, \"launch\": 8.2, \"braking\": 5.6, \"Offroad\": 5.3, \"Horse_Power\": 552.0, \"Weight_lbs\": 4310.0}, {\"Car_Image\": \"https://www.kudosprime.com/fh5/images/cars/side/fh5_car_033.jpg?v=1\", \"Name_and_model\": \"2015 Audi RS 6 Avant\", \"Model_type\": \"SUPER SALOONS\", \"In_Game_Price\": \"150,000\", \"car_source\": \"Autoshow\", \"stock_specs\": \"A\", \"Stock_Rating\": 754.0, \"Drive_Type\": \"AWD\", \"speed\": 7.4, \"handling\": 6.0, \"acceleration\": 7.5, \"launch\": 8.3, \"braking\": 5.3, \"Offroad\": 5.2, \"Horse_Power\": 552.0, \"Weight_lbs\": 4266.0}, {\"Car_Image\": \"https://www.kudosprime.com/fh5/images/cars/side/fh5_car_035.jpg?v=1\", \"Name_and_model\": \"2015 Audi S1\", \"Model_type\": \"HOT HATCH\", \"In_Game_Price\": \"35,000\", \"car_source\": \"Autoshow\", \"stock_specs\": \"B\", \"Stock_Rating\": 644.0, \"Drive_Type\": \"AWD\", \"speed\": 5.6, \"handling\": 5.9, \"acceleration\": 5.2, \"launch\": 4.4, \"braking\": 3.7, \"Offroad\": 5.6, \"Horse_Power\": 228.0, \"Weight_lbs\": 2899.0}, {\"Car_Image\": \"https://www.kudosprime.com/fh5/images/cars/side/fh5_car_034.jpg?v=2\", \"Name_and_model\": \"2015 Audi TTS Coup\\u00e9\", \"Model_type\": \"MODERN SPORTS CARS\", \"In_Game_Price\": \"52,000\", \"car_source\": \"Autoshow\", \"stock_specs\": \"A\", \"Stock_Rating\": 724.0, \"Drive_Type\": \"AWD\", \"speed\": 6.7, \"handling\": 6.3, \"acceleration\": 5.8, \"launch\": 6.4, \"braking\": 4.0, \"Offroad\": 5.2, \"Horse_Power\": 310.0, \"Weight_lbs\": 3053.0}, {\"Car_Image\": \"https://www.kudosprime.com/fh5/images/cars/side/fh5_car_036.jpg?v=1\", \"Name_and_model\": \"2016 Audi R8 V10 plus\", \"Model_type\": \"MODERN SUPERCARS\", \"In_Game_Price\": \"242,000\", \"car_source\": \"Autoshow\", \"stock_specs\": \"S1\", \"Stock_Rating\": 834.0, \"Drive_Type\": \"AWD\", \"speed\": 7.8, \"handling\": 7.1, \"acceleration\": 7.8, \"launch\": 7.4, \"braking\": 7.3, \"Offroad\": 5.1, \"Horse_Power\": 610.0, \"Weight_lbs\": 3428.0}, {\"Car_Image\": \"https://www.kudosprime.com/fh5/images/cars/side/fh5_car_549.jpg?v=1\", \"Name_and_model\": \"2018 Audi TT RS\", \"Model_type\": \"MODERN SPORTS CARS\", \"In_Game_Price\": \"0\", \"car_source\": \"Autoshow\", \"stock_specs\": \"A\", \"Stock_Rating\": 748.0, \"Drive_Type\": \"AWD\", \"speed\": 6.8, \"handling\": 6.3, \"acceleration\": 6.7, \"launch\": 8.1, \"braking\": 4.7, \"Offroad\": 5.2, \"Horse_Power\": 400.0, \"Weight_lbs\": 3307.0}, {\"Car_Image\": \"https://www.kudosprime.com/fh5/images/cars/side/fh5_car_037.jpg?v=1\", \"Name_and_model\": \"1958 Austin-Healey Sprite MkI\", \"Model_type\": \"CLASSIC SPORTS CARS\", \"In_Game_Price\": \"20,000\", \"car_source\": \"Autoshow\", \"stock_specs\": \"D\", \"Stock_Rating\": 131.0, \"Drive_Type\": \"RWD\", \"speed\": 3.1, \"handling\": 3.7, \"acceleration\": 1.9, \"launch\": 2.5, \"braking\": 1.8, \"Offroad\": 4.9, \"Horse_Power\": 45.0, \"Weight_lbs\": 1463.0}, {\"Car_Image\": \"https://www.kudosprime.com/fh5/images/cars/side/fh5_car_038.jpg?v=1\", \"Name_and_model\": \"1939 Auto Union Type D\", \"Model_type\": \"VINTAGE RACERS\", \"In_Game_Price\": \"15,000,000\", \"car_source\": \"Autoshow\", \"stock_specs\": \"B\", \"Stock_Rating\": 675.0, \"Drive_Type\": \"RWD\", \"speed\": 8.4, \"handling\": 4.2, \"acceleration\": 4.5, \"launch\": 3.4, \"braking\": 2.7, \"Offroad\": 4.2, \"Horse_Power\": 485.0, \"Weight_lbs\": 2816.0}, {\"Car_Image\": \"https://www.kudosprime.com/fh5/images/cars/side/fh5_car_039.jpg?v=1\", \"Name_and_model\": \"2014 BAC Mono\", \"Model_type\": \"TRACK TOYS\", \"In_Game_Price\": \"160,000\", \"car_source\": \"Wheelspin\", \"stock_specs\": \"S1\", \"Stock_Rating\": 868.0, \"Drive_Type\": \"RWD\", \"speed\": 6.1, \"handling\": 8.1, \"acceleration\": 6.3, \"launch\": 6.7, \"braking\": 8.1, \"Offroad\": 3.9, \"Horse_Power\": 280.0, \"Weight_lbs\": 1354.0}, {\"Car_Image\": \"https://www.kudosprime.com/fh5/images/cars/side/fh5_car_041.jpg?v=1\", \"Name_and_model\": \"1930 Bentley 8 Litre\", \"Model_type\": \"RARE CLASSICS\", \"In_Game_Price\": \"1,500,000\", \"car_source\": \"Autoshow\", \"stock_specs\": \"D\", \"Stock_Rating\": 181.0, \"Drive_Type\": \"RWD\", \"speed\": 3.7, \"handling\": 3.5, \"acceleration\": 2.4, \"launch\": 1.8, \"braking\": 1.8, \"Offroad\": 5.7, \"Horse_Power\": 220.0, \"Weight_lbs\": 5600.0}, {\"Car_Image\": \"https://www.kudosprime.com/fh5/images/cars/side/fh5_car_040.jpg?v=1\", \"Name_and_model\": \"1930 Bentley Blower 4-1/2 Litre Supercharged\", \"Model_type\": \"VINTAGE RACERS\", \"In_Game_Price\": \"4,000,000\", \"car_source\": \"Autoshow\", \"stock_specs\": \"D\", \"Stock_Rating\": 207.0, \"Drive_Type\": \"RWD\", \"speed\": 3.7, \"handling\": 3.3, \"acceleration\": 2.1, \"launch\": 2.3, \"braking\": 1.9, \"Offroad\": 5.8, \"Horse_Power\": 175.0, \"Weight_lbs\": 4395.0}, {\"Car_Image\": \"https://www.kudosprime.com/fh5/images/cars/side/fh5_car_042.jpg?v=1\", \"Name_and_model\": \"2016 Bentley Bentayga\", \"Model_type\": \"SPORTS UTILITY HEROES\", \"In_Game_Price\": \"180,000\", \"car_source\": \"Autoshow\", \"stock_specs\": \"A\", \"Stock_Rating\": 727.0, \"Drive_Type\": \"AWD\", \"speed\": 7.0, \"handling\": 5.0, \"acceleration\": 6.2, \"launch\": 7.4, \"braking\": 4.0, \"Offroad\": 6.5, \"Horse_Power\": 599.0, \"Weight_lbs\": 5340.0}, {\"Car_Image\": \"https://www.kudosprime.com/fh5/images/cars/side/fh5_car_043.jpg?v=1\", \"Name_and_model\": \"2017 Bentley Continental Supersports\", \"Model_type\": \"GT CARS\", \"In_Game_Price\": \"200,000\", \"car_source\": \"Autoshow\", \"stock_specs\": \"A\", \"Stock_Rating\": 769.0, \"Drive_Type\": \"AWD\", \"speed\": 7.6, \"handling\": 6.1, \"acceleration\": 8.0, \"launch\": 9.1, \"braking\": 5.8, \"Offroad\": 4.9, \"Horse_Power\": 700.0, \"Weight_lbs\": 5029.0}, {\"Car_Image\": \"https://www.kudosprime.com/fh5/images/cars/side/fh5_car_044.jpg?v=1\", \"Name_and_model\": \"1957 BMW Isetta 300 Export\", \"Model_type\": \"CULT CARS\", \"In_Game_Price\": \"45,000\", \"car_source\": \"Autoshow\", \"stock_specs\": \"D\", \"Stock_Rating\": 100.0, \"Drive_Type\": \"RWD\", \"speed\": 1.8, \"handling\": 3.4, \"acceleration\": 1.2, \"launch\": 2.7, \"braking\": 2.4, \"Offroad\": 4.7, \"Horse_Power\": 13.0, \"Weight_lbs\": 920.0}, {\"Car_Image\": \"https://www.kudosprime.com/fh5/images/cars/side/fh5_car_516.jpg?v=1\", \"Name_and_model\": \"1973 BMW 2002 TURBO\", \"Model_type\": \"CLASSIC SPORTS CARS\", \"In_Game_Price\": \"26,000\", \"car_source\": \"Barn\", \"stock_specs\": \"C\", \"Stock_Rating\": 531.0, \"Drive_Type\": \"RWD\", \"speed\": 4.9, \"handling\": 4.3, \"acceleration\": 3.8, \"launch\": 1.5, \"braking\": 2.8, \"Offroad\": 5.6, \"Horse_Power\": 168.0, \"Weight_lbs\": 2381.0}, {\"Car_Image\": \"https://www.kudosprime.com/fh5/images/cars/side/fh5_car_045.jpg?v=3\", \"Name_and_model\": \"1981 BMW M1\", \"Model_type\": \"RETRO SUPERCARS\", \"In_Game_Price\": \"585,000\", \"car_source\": \"Autoshow\", \"stock_specs\": \"B\", \"Stock_Rating\": 629.0, \"Drive_Type\": \"RWD\", \"speed\": 5.9, \"handling\": 5.0, \"acceleration\": 4.4, \"launch\": 3.1, \"braking\": 3.2, \"Offroad\": 4.7, \"Horse_Power\": 277.0, \"Weight_lbs\": 2866.0}, {\"Car_Image\": \"https://www.kudosprime.com/fh5/images/cars/side/fh5_car_046.jpg?v=1\", \"Name_and_model\": \"1988 BMW M5\", \"Model_type\": \"RETRO SALOONS\", \"In_Game_Price\": \"54,000\", \"car_source\": \"Autoshow\", \"stock_specs\": \"C\", \"Stock_Rating\": 583.0, \"Drive_Type\": \"RWD\", \"speed\": 5.8, \"handling\": 4.4, \"acceleration\": 4.3, \"launch\": 3.9, \"braking\": 3.1, \"Offroad\": 5.1, \"Horse_Power\": 282.0, \"Weight_lbs\": 3230.0}, {\"Car_Image\": \"https://www.kudosprime.com/fh5/images/cars/side/fh5_car_047.jpg?v=2\", \"Name_and_model\": \"1991 BMW M3\", \"Model_type\": \"RETRO SALOONS\", \"In_Game_Price\": \"70,000\", \"car_source\": \"Autoshow\", \"stock_specs\": \"C\", \"Stock_Rating\": 583.0, \"Drive_Type\": \"RWD\", \"speed\": 5.6, \"handling\": 4.7, \"acceleration\": 4.3, \"launch\": 3.4, \"braking\": 3.1, \"Offroad\": 4.9, \"Horse_Power\": 215.0, \"Weight_lbs\": 2762.0}, {\"Car_Image\": \"https://www.kudosprime.com/fh5/images/cars/side/fh5_car_048.jpg?v=1\", \"Name_and_model\": \"1995 BMW M5\", \"Model_type\": \"RETRO SALOONS\", \"In_Game_Price\": \"25,000\", \"car_source\": \"Autoshow\", \"stock_specs\": \"B\", \"Stock_Rating\": 634.0, \"Drive_Type\": \"RWD\", \"speed\": 6.7, \"handling\": 5.2, \"acceleration\": 4.6, \"launch\": 4.2, \"braking\": 3.6, \"Offroad\": 4.8, \"Horse_Power\": 342.0, \"Weight_lbs\": 3772.0}, {\"Car_Image\": \"https://www.kudosprime.com/fh5/images/cars/side/fh5_car_049.jpg?v=1\", \"Name_and_model\": \"1997 BMW M3\", \"Model_type\": \"RETRO SALOONS\", \"In_Game_Price\": \"35,000\", \"car_source\": \"Autoshow\", \"stock_specs\": \"B\", \"Stock_Rating\": 665.0, \"Drive_Type\": \"RWD\", \"speed\": 6.5, \"handling\": 4.9, \"acceleration\": 4.9, \"launch\": 5.2, \"braking\": 3.6, \"Offroad\": 5.2, \"Horse_Power\": 321.0, \"Weight_lbs\": 3219.0}, {\"Car_Image\": \"https://www.kudosprime.com/fh5/images/cars/side/fh5_car_050.jpg?v=1\", \"Name_and_model\": \"2002 BMW M3-GTR\", \"Model_type\": \"TRACK TOYS\", \"In_Game_Price\": \"180,000\", \"car_source\": \"Autoshow\", \"stock_specs\": \"A\", \"Stock_Rating\": 747.0, \"Drive_Type\": \"RWD\", \"speed\": 6.7, \"handling\": 6.5, \"acceleration\": 5.4, \"launch\": 5.7, \"braking\": 4.9, \"Offroad\": 4.7, \"Horse_Power\": 375.0, \"Weight_lbs\": 3096.0}, {\"Car_Image\": \"https://www.kudosprime.com/fh5/images/cars/side/fh5_car_051.jpg?v=1\", \"Name_and_model\": \"2002 BMW Z3 M Coupe\", \"Model_type\": \"RETRO SPORTS CARS\", \"In_Game_Price\": \"30,000\", \"car_source\": \"Autoshow\", \"stock_specs\": \"B\", \"Stock_Rating\": 675.0, \"Drive_Type\": \"RWD\", \"speed\": 6.1, \"handling\": 5.3, \"acceleration\": 4.9, \"launch\": 5.0, \"braking\": 3.7, \"Offroad\": 4.9, \"Horse_Power\": 315.0, \"Weight_lbs\": 3170.0}, {\"Car_Image\": \"https://www.kudosprime.com/fh5/images/cars/side/fh5_car_052.jpg?v=1\", \"Name_and_model\": \"2003 BMW M5\", \"Model_type\": \"RETRO SALOONS\", \"In_Game_Price\": \"30,000\", \"car_source\": \"Autoshow\", \"stock_specs\": \"B\", \"Stock_Rating\": 694.0, \"Drive_Type\": \"RWD\", \"speed\": 7.1, \"handling\": 5.5, \"acceleration\": 5.0, \"launch\": 5.2, \"braking\": 3.8, \"Offroad\": 5.1, \"Horse_Power\": 394.0, \"Weight_lbs\": 3900.0}, {\"Car_Image\": \"https://www.kudosprime.com/fh5/images/cars/side/fh5_car_053.jpg?v=1\", \"Name_and_model\": \"2005 BMW M3\", \"Model_type\": \"RETRO SALOONS\", \"In_Game_Price\": \"33,000\", \"car_source\": \"Autoshow\", \"stock_specs\": \"B\", \"Stock_Rating\": 675.0, \"Drive_Type\": \"RWD\", \"speed\": 6.4, \"handling\": 5.3, \"acceleration\": 5.0, \"launch\": 5.0, \"braking\": 3.8, \"Offroad\": 5.0, \"Horse_Power\": 333.0, \"Weight_lbs\": 3415.0}, {\"Car_Image\": \"https://www.kudosprime.com/fh5/images/cars/side/fh5_car_054.jpg?v=1\", \"Name_and_model\": \"2008 BMW M3\", \"Model_type\": \"SUPER SALOONS\", \"In_Game_Price\": \"48,000\", \"car_source\": \"Autoshow\", \"stock_specs\": \"A\", \"Stock_Rating\": 725.0, \"Drive_Type\": \"RWD\", \"speed\": 6.8, \"handling\": 5.8, \"acceleration\": 5.0, \"launch\": 5.3, \"braking\": 4.5, \"Offroad\": 4.5, \"Horse_Power\": 414.0, \"Weight_lbs\": 3649.0}, {\"Car_Image\": \"https://www.kudosprime.com/fh5/images/cars/side/fh5_car_055.jpg?v=1\", \"Name_and_model\": \"2008 BMW Z4 M Coupe\", \"Model_type\": \"MODERN SPORTS CARS\", \"In_Game_Price\": \"82,000\", \"car_source\": \"Autoshow\", \"stock_specs\": \"B\", \"Stock_Rating\": 694.0, \"Drive_Type\": \"RWD\", \"speed\": 6.4, \"handling\": 5.8, \"acceleration\": 5.4, \"launch\": 4.9, \"braking\": 4.3, \"Offroad\": 5.2, \"Horse_Power\": 330.0, \"Weight_lbs\": 3296.0}, {\"Car_Image\": \"https://www.kudosprime.com/fh5/images/cars/side/fh5_car_056.jpg?v=1\", \"Name_and_model\": \"2009 BMW M5\", \"Model_type\": \"SUPER SALOONS\", \"In_Game_Price\": \"90,000\", \"car_source\": \"Autoshow\", \"stock_specs\": \"A\", \"Stock_Rating\": 719.0, \"Drive_Type\": \"RWD\", \"speed\": 7.1, \"handling\": 5.9, \"acceleration\": 5.1, \"launch\": 4.9, \"braking\": 4.4, \"Offroad\": 4.9, \"Horse_Power\": 500.0, \"Weight_lbs\": 4012.0}, {\"Car_Image\": \"https://www.kudosprime.com/fh5/images/cars/side/fh5_car_057.jpg?v=1\", \"Name_and_model\": \"2011 BMW 1 Series M Coupe\", \"Model_type\": \"SUPER SALOONS\", \"In_Game_Price\": \"55,000\", \"car_source\": \"Autoshow\", \"stock_specs\": \"A\", \"Stock_Rating\": 712.0, \"Drive_Type\": \"RWD\", \"speed\": 6.4, \"handling\": 5.9, \"acceleration\": 5.2, \"launch\": 5.4, \"braking\": 4.5, \"Offroad\": 4.8, \"Horse_Power\": 335.0, \"Weight_lbs\": 3296.0}, {\"Car_Image\": \"https://www.kudosprime.com/fh5/images/cars/side/fh5_car_058.jpg?v=1\", \"Name_and_model\": \"2011 BMW X5 M\", \"Model_type\": \"SPORTS UTILITY HEROES\", \"In_Game_Price\": \"100,000\", \"car_source\": \"Autoshow\", \"stock_specs\": \"B\", \"Stock_Rating\": 666.0, \"Drive_Type\": \"AWD\", \"speed\": 6.4, \"handling\": 4.8, \"acceleration\": 5.9, \"launch\": 6.6, \"braking\": 3.7, \"Offroad\": 6.3, \"Horse_Power\": 547.0, \"Weight_lbs\": 5368.0}, {\"Car_Image\": \"https://www.kudosprime.com/fh5/images/cars/side/fh5_car_511.jpg?v=1\", \"Name_and_model\": \"2011 BMW X5 M Forza Edition\", \"Model_type\": \"EXTREME TRACK TOYS\", \"In_Game_Price\": \"500,000\", \"car_source\": \"Other\", \"stock_specs\": \"S2\", \"Stock_Rating\": 998.0, \"Drive_Type\": \"AWD\", \"speed\": 8.0, \"handling\": 10.0, \"acceleration\": 10.0, \"launch\": 10.0, \"braking\": 9.4, \"Offroad\": 4.4, \"Horse_Power\": 1014.0, \"Weight_lbs\": 2756.0}, {\"Car_Image\": \"https://www.kudosprime.com/fh5/images/cars/side/fh5_car_059.jpg?v=1\", \"Name_and_model\": \"2012 BMW M5\", \"Model_type\": \"SUPER SALOONS\", \"In_Game_Price\": \"112,000\", \"car_source\": \"Autoshow\", \"stock_specs\": \"A\", \"Stock_Rating\": 766.0, \"Drive_Type\": \"RWD\", \"speed\": 7.4, \"handling\": 6.0, \"acceleration\": 5.3, \"launch\": 5.6, \"braking\": 4.8, \"Offroad\": 4.6, \"Horse_Power\": 552.0, \"Weight_lbs\": 4123.0}, {\"Car_Image\": \"https://www.kudosprime.com/fh5/images/cars/side/fh5_car_060.jpg?v=1\", \"Name_and_model\": \"2013 BMW M6 Coupe\", \"Model_type\": \"GT CARS\", \"In_Game_Price\": \"120,000\", \"car_source\": \"Autoshow\", \"stock_specs\": \"A\", \"Stock_Rating\": 758.0, \"Drive_Type\": \"RWD\", \"speed\": 7.5, \"handling\": 5.8, \"acceleration\": 5.0, \"launch\": 5.2, \"braking\": 5.9, \"Offroad\": 4.6, \"Horse_Power\": 560.0, \"Weight_lbs\": 4255.0}, {\"Car_Image\": \"https://www.kudosprime.com/fh5/images/cars/side/fh5_car_061.jpg?v=1\", \"Name_and_model\": \"2014 BMW M4 Coupe\", \"Model_type\": \"SUPER SALOONS\", \"In_Game_Price\": \"92,000\", \"car_source\": \"Autoshow\", \"stock_specs\": \"A\", \"Stock_Rating\": 782.0, \"Drive_Type\": \"RWD\", \"speed\": 7.1, \"handling\": 6.2, \"acceleration\": 5.3, \"launch\": 5.6, \"braking\": 6.5, \"Offroad\": 4.7, \"Horse_Power\": 431.0, \"Weight_lbs\": 3389.0}, {\"Car_Image\": \"https://www.kudosprime.com/fh5/images/cars/side/fh5_car_062.jpg?v=1\", \"Name_and_model\": \"2015 BMW i8\", \"Model_type\": \"MODERN SUPERCARS\", \"In_Game_Price\": \"140,000\", \"car_source\": \"Autoshow\", \"stock_specs\": \"A\", \"Stock_Rating\": 764.0, \"Drive_Type\": \"AWD\", \"speed\": 7.2, \"handling\": 6.4, \"acceleration\": 7.7, \"launch\": 8.7, \"braking\": 4.6, \"Offroad\": 4.9, \"Horse_Power\": 357.0, \"Weight_lbs\": 3380.0}, {\"Car_Image\": \"https://www.kudosprime.com/fh5/images/cars/side/fh5_car_063.jpg?v=1\", \"Name_and_model\": \"2015 BMW X6 M\", \"Model_type\": \"SPORTS UTILITY HEROES\", \"In_Game_Price\": \"130,000\", \"car_source\": \"Wheelspin\", \"stock_specs\": \"B\", \"Stock_Rating\": 687.0, \"Drive_Type\": \"AWD\", \"speed\": 6.5, \"handling\": 4.9, \"acceleration\": 6.0, \"launch\": 6.6, \"braking\": 4.1, \"Offroad\": 5.8, \"Horse_Power\": 567.0, \"Weight_lbs\": 5185.0}, {\"Car_Image\": \"https://www.kudosprime.com/fh5/images/cars/side/fh5_car_064.jpg?v=1\", \"Name_and_model\": \"2016 BMW M2 Coup\\u00e9\", \"Model_type\": \"SUPER SALOONS\", \"In_Game_Price\": \"69,000\", \"car_source\": \"Autoshow\", \"stock_specs\": \"A\", \"Stock_Rating\": 718.0, \"Drive_Type\": \"RWD\", \"speed\": 6.5, \"handling\": 5.7, \"acceleration\": 5.2, \"launch\": 5.5, \"braking\": 4.6, \"Offroad\": 4.8, \"Horse_Power\": 365.0, \"Weight_lbs\": 3450.0}, {\"Car_Image\": \"https://www.kudosprime.com/fh5/images/cars/side/fh5_car_065.jpg?v=1\", \"Name_and_model\": \"2016 BMW M4 GTS\", \"Model_type\": \"TRACK TOYS\", \"In_Game_Price\": \"135,000\", \"car_source\": \"Car Collection\", \"stock_specs\": \"S1\", \"Stock_Rating\": 814.0, \"Drive_Type\": \"RWD\", \"speed\": 7.2, \"handling\": 7.6, \"acceleration\": 5.7, \"launch\": 6.0, \"braking\": 7.0, \"Offroad\": 4.0, \"Horse_Power\": 493.0, \"Weight_lbs\": 3329.0}, {\"Car_Image\": \"https://www.kudosprime.com/fh5/images/cars/side/fh5_car_066.jpg?v=1\", \"Name_and_model\": \"2018 BMW M5\", \"Model_type\": \"SUPER SALOONS\", \"In_Game_Price\": \"105,000\", \"car_source\": \"Autoshow\", \"stock_specs\": \"A\", \"Stock_Rating\": 784.0, \"Drive_Type\": \"AWD\", \"speed\": 7.6, \"handling\": 6.1, \"acceleration\": 8.7, \"launch\": 9.7, \"braking\": 6.2, \"Offroad\": 5.1, \"Horse_Power\": 600.0, \"Weight_lbs\": 4370.0}, {\"Car_Image\": \"https://www.kudosprime.com/fh5/images/cars/side/fh5_car_067.jpg?v=1\", \"Name_and_model\": \"2019 BMW Z4 Roadster\", \"Model_type\": \"MODERN SPORTS CARS\", \"In_Game_Price\": \"35,000\", \"car_source\": \"Autoshow\", \"stock_specs\": \"A\", \"Stock_Rating\": 751.0, \"Drive_Type\": \"RWD\", \"speed\": 6.7, \"handling\": 6.0, \"acceleration\": 5.6, \"launch\": 6.0, \"braking\": 4.4, \"Offroad\": 4.6, \"Horse_Power\": 382.0, \"Weight_lbs\": 3252.0}, {\"Car_Image\": \"https://www.kudosprime.com/fh5/images/cars/side/fh5_car_068.jpg?v=1\", \"Name_and_model\": \"1926 Bugatti Type 35 C\", \"Model_type\": \"VINTAGE RACERS\", \"In_Game_Price\": \"1,300,000\", \"car_source\": \"Autoshow\", \"stock_specs\": \"D\", \"Stock_Rating\": 285.0, \"Drive_Type\": \"RWD\", \"speed\": 4.0, \"handling\": 3.4, \"acceleration\": 2.5, \"launch\": 1.4, \"braking\": 1.9, \"Offroad\": 4.9, \"Horse_Power\": 95.0, \"Weight_lbs\": 1676.0}, {\"Car_Image\": \"https://www.kudosprime.com/fh5/images/cars/side/fh5_car_069.jpg?v=1\", \"Name_and_model\": \"1992 Bugatti EB110 Super Sport\", \"Model_type\": \"RETRO SUPERCARS\", \"In_Game_Price\": \"1,700,000\", \"car_source\": \"Autoshow\", \"stock_specs\": \"S1\", \"Stock_Rating\": 805.0, \"Drive_Type\": \"AWD\", \"speed\": 8.3, \"handling\": 6.5, \"acceleration\": 8.0, \"launch\": 3.8, \"braking\": 5.2, \"Offroad\": 4.9, \"Horse_Power\": 611.0, \"Weight_lbs\": 3126.0}, {\"Car_Image\": \"https://www.kudosprime.com/fh5/images/cars/side/fh5_car_070.jpg?v=1\", \"Name_and_model\": \"2011 Bugatti Veyron Super Sport\", \"Model_type\": \"HYPERCARS\", \"In_Game_Price\": \"2,200,000\", \"car_source\": \"Autoshow\", \"stock_specs\": \"S2\", \"Stock_Rating\": 913.0, \"Drive_Type\": \"AWD\", \"speed\": 9.9, \"handling\": 7.9, \"acceleration\": 10.0, \"launch\": 5.9, \"braking\": 8.6, \"Offroad\": 4.9, \"Horse_Power\": 1183.0, \"Weight_lbs\": 4044.0}, {\"Car_Image\": \"https://www.kudosprime.com/fh5/images/cars/side/fh5_car_071.jpg?v=1\", \"Name_and_model\": \"2018 Bugatti Chiron\", \"Model_type\": \"HYPERCARS\", \"In_Game_Price\": \"2,400,000\", \"car_source\": \"Autoshow\", \"stock_specs\": \"S2\", \"Stock_Rating\": 927.0, \"Drive_Type\": \"AWD\", \"speed\": 10.0, \"handling\": 7.9, \"acceleration\": 9.9, \"launch\": 6.1, \"braking\": 8.6, \"Offroad\": 5.0, \"Horse_Power\": 1479.0, \"Weight_lbs\": 4398.0}, {\"Car_Image\": \"https://www.kudosprime.com/fh5/images/cars/side/fh5_car_072.jpg?v=1\", \"Name_and_model\": \"2019 Bugatti Divo\", \"Model_type\": \"EXTREME TRACK TOYS\", \"In_Game_Price\": \"3,000,000\", \"car_source\": \"Autoshow\", \"stock_specs\": \"S2\", \"Stock_Rating\": 958.0, \"Drive_Type\": \"AWD\", \"speed\": 9.6, \"handling\": 9.9, \"acceleration\": 10.0, \"launch\": 6.2, \"braking\": 9.5, \"Offroad\": 4.4, \"Horse_Power\": 1479.0, \"Weight_lbs\": 4321.0}, {\"Car_Image\": \"https://www.kudosprime.com/fh5/images/cars/side/fh5_car_073.jpg?v=1\", \"Name_and_model\": \"1970 Buick GSX\", \"Model_type\": \"CLASSIC MUSCLE\", \"In_Game_Price\": \"80,000\", \"car_source\": \"Autoshow\", \"stock_specs\": \"C\", \"Stock_Rating\": 558.0, \"Drive_Type\": \"RWD\", \"speed\": 5.1, \"handling\": 3.5, \"acceleration\": 3.3, \"launch\": 3.2, \"braking\": 2.5, \"Offroad\": 5.1, \"Horse_Power\": 360.0, \"Weight_lbs\": 3874.0}, {\"Car_Image\": \"https://www.kudosprime.com/fh5/images/cars/side/fh5_car_074.jpg?v=1\", \"Name_and_model\": \"1987 Buick Regal GNX\", \"Model_type\": \"RETRO MUSCLE\", \"In_Game_Price\": \"130,000\", \"car_source\": \"Autoshow\", \"stock_specs\": \"C\", \"Stock_Rating\": 564.0, \"Drive_Type\": \"RWD\", \"speed\": 5.7, \"handling\": 4.0, \"acceleration\": 3.8, \"launch\": 2.5, \"braking\": 2.5, \"Offroad\": 5.5, \"Horse_Power\": 300.0, \"Weight_lbs\": 3545.0}, {\"Car_Image\": \"https://www.kudosprime.com/fh5/images/cars/side/fh5_car_075.jpg?v=1\", \"Name_and_model\": \"2016 Cadillac ATS-V\", \"Model_type\": \"MODERN MUSCLE\", \"In_Game_Price\": \"65,000\", \"car_source\": \"Autoshow\", \"stock_specs\": \"A\", \"Stock_Rating\": 716.0, \"Drive_Type\": \"RWD\", \"speed\": 7.0, \"handling\": 5.5, \"acceleration\": 5.2, \"launch\": 3.4, \"braking\": 4.2, \"Offroad\": 5.1, \"Horse_Power\": 464.0, \"Weight_lbs\": 3700.0}, {\"Car_Image\": \"https://www.kudosprime.com/fh5/images/cars/side/fh5_car_076.jpg?v=1\", \"Name_and_model\": \"2016 Cadillac CTS-V Sedan\", \"Model_type\": \"MODERN MUSCLE\", \"In_Game_Price\": \"80,000\", \"car_source\": \"Autoshow\", \"stock_specs\": \"A\", \"Stock_Rating\": 761.0, \"Drive_Type\": \"RWD\", \"speed\": 7.2, \"handling\": 5.3, \"acceleration\": 4.9, \"launch\": 5.2, \"braking\": 4.4, \"Offroad\": 4.7, \"Horse_Power\": 640.0, \"Weight_lbs\": 4128.0}, {\"Car_Image\": \"https://www.kudosprime.com/fh5/images/cars/side/fh5_car_077.jpg?v=1\", \"Name_and_model\": \"2018 Can-Am Maverick X RS Turbo R\", \"Model_type\": \"UTV'S\", \"In_Game_Price\": \"25,000\", \"car_source\": \"Autoshow\", \"stock_specs\": \"B\", \"Stock_Rating\": 670.0, \"Drive_Type\": \"AWD\", \"speed\": 3.9, \"handling\": 3.7, \"acceleration\": 6.8, \"launch\": 9.6, \"braking\": 4.5, \"Offroad\": 9.7, \"Horse_Power\": 172.0, \"Weight_lbs\": 1655.0}, {\"Car_Image\": \"https://www.kudosprime.com/fh5/images/cars/side/fh5_car_078.jpg?v=1\", \"Name_and_model\": \"2013 Caterham Superlight R500\", \"Model_type\": \"TRACK TOYS\", \"In_Game_Price\": \"82,000\", \"car_source\": \"Autoshow\", \"stock_specs\": \"A\", \"Stock_Rating\": 786.0, \"Drive_Type\": \"RWD\", \"speed\": 5.6, \"handling\": 5.4, \"acceleration\": 5.7, \"launch\": 6.2, \"braking\": 4.6, \"Offroad\": 3.9, \"Horse_Power\": 263.0, \"Weight_lbs\": 1116.0}, {\"Car_Image\": \"https://www.kudosprime.com/fh5/images/cars/side/fh5_car_497.jpg?v=1\", \"Name_and_model\": \"1953 Chevrolet Corvette\", \"Model_type\": \"CLASSIC SPORTS CARS\", \"In_Game_Price\": \"210,000\", \"car_source\": \"Barn\", \"stock_specs\": \"D\", \"Stock_Rating\": 366.0, \"Drive_Type\": \"RWD\", \"speed\": 3.6, \"handling\": 4.0, \"acceleration\": 2.3, \"launch\": 1.1, \"braking\": 2.0, \"Offroad\": 5.6, \"Horse_Power\": 160.0, \"Weight_lbs\": 2900.0}, {\"Car_Image\": \"https://www.kudosprime.com/fh5/images/cars/side/fh5_car_498.jpg?v=1\", \"Name_and_model\": \"1953 Chevrolet Corvette Forza Edition\", \"Model_type\": \"CLASSIC RACERS\", \"In_Game_Price\": \"500,000\", \"car_source\": \"Wheelspin\", \"stock_specs\": \"A\", \"Stock_Rating\": 800.0, \"Drive_Type\": \"RWD\", \"speed\": 6.5, \"handling\": 6.1, \"acceleration\": 5.8, \"launch\": 6.2, \"braking\": 4.8, \"Offroad\": 3.7, \"Horse_Power\": 450.0, \"Weight_lbs\": 2205.0}, {\"Car_Image\": \"https://www.kudosprime.com/fh5/images/cars/side/fh5_car_079.jpg?v=1\", \"Name_and_model\": \"1955 Chevrolet 150 Utility Sedan\", \"Model_type\": \"RODS AND CUSTOMS\", \"In_Game_Price\": \"35,000\", \"car_source\": \"Autoshow\", \"stock_specs\": \"D\", \"Stock_Rating\": 360.0, \"Drive_Type\": \"RWD\", \"speed\": 4.5, \"handling\": 3.5, \"acceleration\": 3.2, \"launch\": 2.5, \"braking\": 2.0, \"Offroad\": 5.8, \"Horse_Power\": 180.0, \"Weight_lbs\": 3309.0}, {\"Car_Image\": \"https://www.kudosprime.com/fh5/images/cars/side/fh5_car_080.jpg?v=1\", \"Name_and_model\": \"1957 Chevrolet Bel Air\", \"Model_type\": \"RODS AND CUSTOMS\", \"In_Game_Price\": \"130,000\", \"car_source\": \"Autoshow\", \"stock_specs\": \"D\", \"Stock_Rating\": 432.0, \"Drive_Type\": \"RWD\", \"speed\": 4.8, \"handling\": 3.8, \"acceleration\": 2.8, \"launch\": 1.6, \"braking\": 2.1, \"Offroad\": 6.0, \"Horse_Power\": 220.0, \"Weight_lbs\": 3337.0}, {\"Car_Image\": \"https://www.kudosprime.com/fh5/images/cars/side/fh5_car_081.jpg?v=1\", \"Name_and_model\": \"1960 Chevrolet Corvette\", \"Model_type\": \"CLASSIC SPORTS CARS\", \"In_Game_Price\": \"150,000\", \"car_source\": \"Car Collection\", \"stock_specs\": \"C\", \"Stock_Rating\": 541.0, \"Drive_Type\": \"RWD\", \"speed\": 5.4, \"handling\": 4.0, \"acceleration\": 3.6, \"launch\": 2.8, \"braking\": 2.5, \"Offroad\": 5.6, \"Horse_Power\": 290.0, \"Weight_lbs\": 3080.0}, {\"Car_Image\": \"https://www.kudosprime.com/fh5/images/cars/side/fh5_car_082.jpg?v=1\", \"Name_and_model\": \"1964 Chevrolet Impala Super Sport 409\", \"Model_type\": \"RODS AND CUSTOMS\", \"In_Game_Price\": \"46,000\", \"car_source\": \"Autoshow\", \"stock_specs\": \"C\", \"Stock_Rating\": 544.0, \"Drive_Type\": \"RWD\", \"speed\": 5.5, \"handling\": 3.6, \"acceleration\": 3.4, \"launch\": 3.0, \"braking\": 2.3, \"Offroad\": 5.4, \"Horse_Power\": 425.0, \"Weight_lbs\": 3877.0}, {\"Car_Image\": \"https://www.kudosprime.com/fh5/images/cars/side/fh5_car_083.jpg?v=1\", \"Name_and_model\": \"1967 Chevrolet Corvette Stingray 427\", \"Model_type\": \"CLASSIC MUSCLE\", \"In_Game_Price\": \"150,000\", \"car_source\": \"Autoshow\", \"stock_specs\": \"B\", \"Stock_Rating\": 623.0, \"Drive_Type\": \"RWD\", \"speed\": 5.5, \"handling\": 4.3, \"acceleration\": 3.9, \"launch\": 3.0, \"braking\": 3.1, \"Offroad\": 5.8, \"Horse_Power\": 435.0, \"Weight_lbs\": 3384.0}, {\"Car_Image\": \"https://www.kudosprime.com/fh5/images/cars/side/fh5_car_084.jpg?v=1\", \"Name_and_model\": \"1969 Chevrolet Camaro Super Sport Coupe\", \"Model_type\": \"CLASSIC MUSCLE\", \"In_Game_Price\": \"110,000\", \"car_source\": \"Autoshow\", \"stock_specs\": \"C\", \"Stock_Rating\": 585.0, \"Drive_Type\": \"RWD\", \"speed\": 5.0, \"handling\": 4.2, \"acceleration\": 3.8, \"launch\": 2.9, \"braking\": 3.1, \"Offroad\": 5.8, \"Horse_Power\": 375.0, \"Weight_lbs\": 3527.0}, {\"Car_Image\": \"https://www.kudosprime.com/fh5/images/cars/side/fh5_car_085.jpg?v=1\", \"Name_and_model\": \"1969 Chevrolet Nova Super Sport 396\", \"Model_type\": \"CLASSIC MUSCLE\", \"In_Game_Price\": \"41,000\", \"car_source\": \"Autoshow\", \"stock_specs\": \"C\", \"Stock_Rating\": 545.0, \"Drive_Type\": \"RWD\", \"speed\": 5.4, \"handling\": 3.9, \"acceleration\": 3.5, \"launch\": 2.9, \"braking\": 2.4, \"Offroad\": 5.3, \"Horse_Power\": 375.0, \"Weight_lbs\": 3470.0}, {\"Car_Image\": \"https://www.kudosprime.com/fh5/images/cars/side/fh5_car_089.jpg?v=1\", \"Name_and_model\": \"1970 Chevrolet Camaro Z28\", \"Model_type\": \"CLASSIC MUSCLE\", \"In_Game_Price\": \"53,000\", \"car_source\": \"Autoshow\", \"stock_specs\": \"C\", \"Stock_Rating\": 539.0, \"Drive_Type\": \"RWD\", \"speed\": 5.1, \"handling\": 3.7, \"acceleration\": 3.4, \"launch\": 3.3, \"braking\": 2.4, \"Offroad\": 4.9, \"Horse_Power\": 360.0, \"Weight_lbs\": 3550.0}, {\"Car_Image\": \"https://www.kudosprime.com/fh5/images/cars/side/fh5_car_086.jpg?v=1\", \"Name_and_model\": \"1970 Chevrolet Chevelle Super Sport 454\", \"Model_type\": \"CLASSIC MUSCLE\", \"In_Game_Price\": \"80,000\", \"car_source\": \"Autoshow\", \"stock_specs\": \"C\", \"Stock_Rating\": 531.0, \"Drive_Type\": \"RWD\", \"speed\": 4.7, \"handling\": 3.6, \"acceleration\": 3.3, \"launch\": 3.2, \"braking\": 2.4, \"Offroad\": 5.4, \"Horse_Power\": 450.0, \"Weight_lbs\": 3799.0}, {\"Car_Image\": \"https://www.kudosprime.com/fh5/images/cars/side/fh5_car_087.jpg?v=1\", \"Name_and_model\": \"1970 Chevrolet Corvette ZR-1\", \"Model_type\": \"CLASSIC MUSCLE\", \"In_Game_Price\": \"310,000\", \"car_source\": \"Wheelspin\", \"stock_specs\": \"B\", \"Stock_Rating\": 610.0, \"Drive_Type\": \"RWD\", \"speed\": 4.9, \"handling\": 4.3, \"acceleration\": 3.9, \"launch\": 2.9, \"braking\": 3.1, \"Offroad\": 5.4, \"Horse_Power\": 370.0, \"Weight_lbs\": 3373.0}, {\"Car_Image\": \"https://www.kudosprime.com/fh5/images/cars/side/fh5_car_088.jpg?v=1\", \"Name_and_model\": \"1970 Chevrolet El Camino Super Sport 454\", \"Model_type\": \"VANS AND UTILITY\", \"In_Game_Price\": \"65,000\", \"car_source\": \"Autoshow\", \"stock_specs\": \"C\", \"Stock_Rating\": 544.0, \"Drive_Type\": \"RWD\", \"speed\": 5.9, \"handling\": 3.6, \"acceleration\": 3.2, \"launch\": 3.1, \"braking\": 2.4, \"Offroad\": 5.5, \"Horse_Power\": 450.0, \"Weight_lbs\": 3820.0}, {\"Car_Image\": \"https://www.kudosprime.com/fh5/images/cars/side/fh5_car_090.jpg?v=1\", \"Name_and_model\": \"1979 Chevrolet Camaro Z28\", \"Model_type\": \"CLASSIC MUSCLE\", \"In_Game_Price\": \"35,000\", \"car_source\": \"Autoshow\", \"stock_specs\": \"D\", \"Stock_Rating\": 466.0, \"Drive_Type\": \"RWD\", \"speed\": 4.5, \"handling\": 4.1, \"acceleration\": 3.5, \"launch\": 2.9, \"braking\": 2.5, \"Offroad\": 5.4, \"Horse_Power\": 175.0, \"Weight_lbs\": 3560.0}, {\"Car_Image\": \"https://www.kudosprime.com/fh5/images/cars/side/fh5_car_091.jpg?v=1\", \"Name_and_model\": \"1988 Chevrolet Monte Carlo Super Sport\", \"Model_type\": \"RETRO MUSCLE\", \"In_Game_Price\": \"25,000\", \"car_source\": \"Autoshow\", \"stock_specs\": \"D\", \"Stock_Rating\": 396.0, \"Drive_Type\": \"RWD\", \"speed\": 5.0, \"handling\": 4.0, \"acceleration\": 3.1, \"launch\": 2.3, \"braking\": 2.0, \"Offroad\": 5.0, \"Horse_Power\": 180.0, \"Weight_lbs\": 3522.0}, {\"Car_Image\": \"https://www.kudosprime.com/fh5/images/cars/side/fh5_car_092.jpg?v=1\", \"Name_and_model\": \"1995 Chevrolet Corvette ZR-1\", \"Model_type\": \"RETRO MUSCLE\", \"In_Game_Price\": \"45,000\", \"car_source\": \"Autoshow\", \"stock_specs\": \"B\", \"Stock_Rating\": 693.0, \"Drive_Type\": \"RWD\", \"speed\": 6.5, \"handling\": 5.2, \"acceleration\": 4.8, \"launch\": 4.0, \"braking\": 3.7, \"Offroad\": 4.5, \"Horse_Power\": 405.0, \"Weight_lbs\": 3505.0}, {\"Car_Image\": \"https://www.kudosprime.com/fh5/images/cars/side/fh5_car_093.jpg?v=1\", \"Name_and_model\": \"1996 Chevrolet Impala Super Sport\", \"Model_type\": \"RETRO MUSCLE\", \"In_Game_Price\": \"20,000\", \"car_source\": \"Autoshow\", \"stock_specs\": \"C\", \"Stock_Rating\": 509.0, \"Drive_Type\": \"RWD\", \"speed\": 5.0, \"handling\": 4.3, \"acceleration\": 3.6, \"launch\": 2.6, \"braking\": 2.7, \"Offroad\": 5.2, \"Horse_Power\": 260.0, \"Weight_lbs\": 4037.0}, {\"Car_Image\": \"https://www.kudosprime.com/fh5/images/cars/side/fh5_car_094.jpg?v=1\", \"Name_and_model\": \"2002 Chevrolet Corvette Z06\", \"Model_type\": \"RETRO MUSCLE\", \"In_Game_Price\": \"35,000\", \"car_source\": \"Autoshow\", \"stock_specs\": \"A\", \"Stock_Rating\": 722.0, \"Drive_Type\": \"RWD\", \"speed\": 7.2, \"handling\": 5.8, \"acceleration\": 4.6, \"launch\": 4.5, \"braking\": 3.9, \"Offroad\": 4.5, \"Horse_Power\": 405.0, \"Weight_lbs\": 3120.0}, {\"Car_Image\": \"https://www.kudosprime.com/fh5/images/cars/side/fh5_car_095.jpg?v=1\", \"Name_and_model\": \"2009 Chevrolet Corvette ZR1\", \"Model_type\": \"MODERN MUSCLE\", \"In_Game_Price\": \"125,000\", \"car_source\": \"Autoshow\", \"stock_specs\": \"S1\", \"Stock_Rating\": 809.0, \"Drive_Type\": \"RWD\", \"speed\": 7.8, \"handling\": 6.2, \"acceleration\": 5.5, \"launch\": 4.6, \"braking\": 6.6, \"Offroad\": 4.4, \"Horse_Power\": 638.0, \"Weight_lbs\": 3350.0}, {\"Car_Image\": \"https://www.kudosprime.com/fh5/images/cars/side/fh5_car_097.jpg?v=1\", \"Name_and_model\": \"2015 Chevrolet Camaro Z/28\", \"Model_type\": \"TRACK TOYS\", \"In_Game_Price\": \"86,000\", \"car_source\": \"Autoshow\", \"stock_specs\": \"A\", \"Stock_Rating\": 797.0, \"Drive_Type\": \"RWD\", \"speed\": 6.7, \"handling\": 6.8, \"acceleration\": 5.5, \"launch\": 5.4, \"braking\": 7.2, \"Offroad\": 4.4, \"Horse_Power\": 505.0, \"Weight_lbs\": 3837.0}, {\"Car_Image\": \"https://www.kudosprime.com/fh5/images/cars/side/fh5_car_096.jpg?v=1\", \"Name_and_model\": \"2015 Chevrolet Corvette Z06\", \"Model_type\": \"MODERN MUSCLE\", \"In_Game_Price\": \"110,000\", \"car_source\": \"Autoshow\", \"stock_specs\": \"S1\", \"Stock_Rating\": 852.0, \"Drive_Type\": \"RWD\", \"speed\": 7.8, \"handling\": 7.0, \"acceleration\": 6.0, \"launch\": 6.5, \"braking\": 7.7, \"Offroad\": 4.4, \"Horse_Power\": 650.0, \"Weight_lbs\": 3536.0}, {\"Car_Image\": \"https://www.kudosprime.com/fh5/images/cars/side/fh5_car_098.jpg?v=1\", \"Name_and_model\": \"2017 Chevrolet Camaro ZL1\", \"Model_type\": \"MODERN MUSCLE\", \"In_Game_Price\": \"60,000\", \"car_source\": \"Autoshow\", \"stock_specs\": \"S1\", \"Stock_Rating\": 821.0, \"Drive_Type\": \"RWD\", \"speed\": 7.3, \"handling\": 7.2, \"acceleration\": 6.1, \"launch\": 4.9, \"braking\": 5.6, \"Offroad\": 4.8, \"Horse_Power\": 650.0, \"Weight_lbs\": 3883.0}, {\"Car_Image\": \"https://www.kudosprime.com/fh5/images/cars/side/fh5_car_099.jpg?v=1\", \"Name_and_model\": \"2017 Chevrolet Colorado ZR2\", \"Model_type\": \"PICK-UP & 4X4'S\", \"In_Game_Price\": \"46,000\", \"car_source\": \"Autoshow\", \"stock_specs\": \"C\", \"Stock_Rating\": 530.0, \"Drive_Type\": \"AWD\", \"speed\": 5.4, \"handling\": 3.0, \"acceleration\": 3.9, \"launch\": 3.4, \"braking\": 3.0, \"Offroad\": 8.2, \"Horse_Power\": 308.0, \"Weight_lbs\": 4734.0}, {\"Car_Image\": \"https://www.kudosprime.com/fh5/images/cars/side/fh5_car_100.jpg?v=1\", \"Name_and_model\": \"2018 Chevrolet Camaro ZL1 1LE\", \"Model_type\": \"TRACK TOYS\", \"In_Game_Price\": \"105,000\", \"car_source\": \"Autoshow\", \"stock_specs\": \"S1\", \"Stock_Rating\": 824.0, \"Drive_Type\": \"RWD\", \"speed\": 6.9, \"handling\": 7.8, \"acceleration\": 5.8, \"launch\": 5.2, \"braking\": 6.0, \"Offroad\": 4.3, \"Horse_Power\": 650.0, \"Weight_lbs\": 3837.0}, {\"Car_Image\": \"https://www.kudosprime.com/fh5/images/cars/side/fh5_car_101.jpg?v=1\", \"Name_and_model\": \"2019 Chevrolet Corvette ZR1\", \"Model_type\": \"TRACK TOYS\", \"In_Game_Price\": \"255,000\", \"car_source\": \"Accolade\", \"stock_specs\": \"S1\", \"Stock_Rating\": 871.0, \"Drive_Type\": \"RWD\", \"speed\": 7.8, \"handling\": 7.7, \"acceleration\": 6.5, \"launch\": 7.0, \"braking\": 7.9, \"Offroad\": 4.0, \"Horse_Power\": 755.0, \"Weight_lbs\": 3560.0}, {\"Car_Image\": \"https://www.kudosprime.com/fh5/images/cars/side/fh5_car_102.jpg?v=1\", \"Name_and_model\": \"2020 Chevrolet Corvette Stingray Coupe\", \"Model_type\": \"MODERN SUPERCARS\", \"In_Game_Price\": \"65,000\", \"car_source\": \"Autoshow\", \"stock_specs\": \"S1\", \"Stock_Rating\": 806.0, \"Drive_Type\": \"RWD\", \"speed\": 7.2, \"handling\": 7.0, \"acceleration\": 6.9, \"launch\": 7.6, \"braking\": 5.2, \"Offroad\": 4.8, \"Horse_Power\": 495.0, \"Weight_lbs\": 3577.0}, {\"Car_Image\": \"https://www.kudosprime.com/fh5/images/cars/side/fh5_car_103.jpg?v=1\", \"Name_and_model\": \"1970 Datsun 510\", \"Model_type\": \"CULT CARS\", \"In_Game_Price\": \"25,000\", \"car_source\": \"This info will be available soon\", \"stock_specs\": \"D\", \"Stock_Rating\": 264.0, \"Drive_Type\": \"RWD\", \"speed\": 3.7, \"handling\": 3.7, \"acceleration\": 2.8, \"launch\": 2.3, \"braking\": 1.9, \"Offroad\": 5.0, \"Horse_Power\": 96.0, \"Weight_lbs\": 2127.0}, {\"Car_Image\": \"https://www.kudosprime.com/fh5/images/cars/side/fh5_car_104.jpg?v=1\", \"Name_and_model\": \"2013 Deberti Jeep Wrangler Unlimited\", \"Model_type\": \"UNLIMITED OFFROAD\", \"In_Game_Price\": \"200,000\", \"car_source\": \"Mastery Tree\", \"stock_specs\": \"A\", \"Stock_Rating\": 749.0, \"Drive_Type\": \"AWD\", \"speed\": 4.7, \"handling\": 4.0, \"acceleration\": 6.3, \"launch\": 4.8, \"braking\": 4.4, \"Offroad\": 9.3, \"Horse_Power\": 707.0, \"Weight_lbs\": 4650.0}, {\"Car_Image\": \"https://www.kudosprime.com/fh5/images/cars/side/fh5_car_105.jpg?v=1\", \"Name_and_model\": \"2018 Deberti Chevrolet Silverado 1500 Drift Truck\", \"Model_type\": \"DRIFT CARS\", \"In_Game_Price\": \"300,000\", \"car_source\": \"Autoshow\", \"stock_specs\": \"A\", \"Stock_Rating\": 798.0, \"Drive_Type\": \"RWD\", \"speed\": 6.7, \"handling\": 4.8, \"acceleration\": 4.9, \"launch\": 5.1, \"braking\": 5.2, \"Offroad\": 4.0, \"Horse_Power\": 1005.0, \"Weight_lbs\": 3500.0}, {\"Car_Image\": \"https://www.kudosprime.com/fh5/images/cars/side/fh5_car_106.jpg?v=1\", \"Name_and_model\": \"2018 Deberti Ford F-150 Prerunner\", \"Model_type\": \"UNLIMITED OFFROAD\", \"In_Game_Price\": \"250,000\", \"car_source\": \"Autoshow\", \"stock_specs\": \"B\", \"Stock_Rating\": 691.0, \"Drive_Type\": \"RWD\", \"speed\": 5.7, \"handling\": 3.6, \"acceleration\": 5.4, \"launch\": 5.8, \"braking\": 4.9, \"Offroad\": 9.9, \"Horse_Power\": 800.0, \"Weight_lbs\": 7000.0}, {\"Car_Image\": \"https://www.kudosprime.com/fh5/images/cars/side/fh5_car_107.jpg?v=1\", \"Name_and_model\": \"2019 Deberti Toyota Tacoma TRD \\\"The Performance Truck\\\"\", \"Model_type\": \"DRIFT CARS\", \"In_Game_Price\": \"500,000\", \"car_source\": \"Autoshow\", \"stock_specs\": \"S1\", \"Stock_Rating\": 836.0, \"Drive_Type\": \"RWD\", \"speed\": 6.4, \"handling\": 5.6, \"acceleration\": 4.9, \"launch\": 5.1, \"braking\": 6.9, \"Offroad\": 4.7, \"Horse_Power\": 900.0, \"Weight_lbs\": 3215.0}, {\"Car_Image\": \"https://www.kudosprime.com/fh5/images/cars/side/fh5_car_521.jpg?v=1\", \"Name_and_model\": \"1982 DeLorean DMC-12\", \"Model_type\": \"RETRO SPORTS CARS\", \"In_Game_Price\": \"15,000\", \"car_source\": \"Season Event\", \"stock_specs\": \"D\", \"Stock_Rating\": 464.0, \"Drive_Type\": \"RWD\", \"speed\": 4.3, \"handling\": 4.9, \"acceleration\": 2.8, \"launch\": 2.3, \"braking\": 3.1, \"Offroad\": 6.0, \"Horse_Power\": 130.0, \"Weight_lbs\": 2844.0}, {\"Car_Image\": \"https://www.kudosprime.com/fh5/images/cars/side/fh5_car_522.jpg?v=1\", \"Name_and_model\": \"1968 Dodge Dart Hemi Super Stock\", \"Model_type\": \"CLASSIC MUSCLE\", \"In_Game_Price\": \"300,000\", \"car_source\": \"Barn\", \"stock_specs\": \"B\", \"Stock_Rating\": 650.0, \"Drive_Type\": \"RWD\", \"speed\": 4.5, \"handling\": 3.6, \"acceleration\": 4.1, \"launch\": 4.2, \"braking\": 2.9, \"Offroad\": 4.9, \"Horse_Power\": 425.0, \"Weight_lbs\": 3020.0}, {\"Car_Image\": \"https://www.kudosprime.com/fh5/images/cars/side/fh5_car_109.jpg?v=1\", \"Name_and_model\": \"1969 Dodge Charger Daytona HEMI\", \"Model_type\": \"CLASSIC MUSCLE\", \"In_Game_Price\": \"900,000\", \"car_source\": \"Mastery Tree\", \"stock_specs\": \"C\", \"Stock_Rating\": 595.0, \"Drive_Type\": \"RWD\", \"speed\": 5.0, \"handling\": 3.8, \"acceleration\": 3.8, \"launch\": 3.7, \"braking\": 2.8, \"Offroad\": 5.4, \"Horse_Power\": 425.0, \"Weight_lbs\": 3875.0}, {\"Car_Image\": \"https://www.kudosprime.com/fh5/images/cars/side/fh5_car_108.jpg?v=1\", \"Name_and_model\": \"1969 Dodge Charger R/T\", \"Model_type\": \"CLASSIC MUSCLE\", \"In_Game_Price\": \"103,000\", \"car_source\": \"Autoshow\", \"stock_specs\": \"C\", \"Stock_Rating\": 548.0, \"Drive_Type\": \"RWD\", \"speed\": 5.1, \"handling\": 3.8, \"acceleration\": 3.6, \"launch\": 3.5, \"braking\": 2.4, \"Offroad\": 5.1, \"Horse_Power\": 425.0, \"Weight_lbs\": 3671.0}, {\"Car_Image\": \"https://www.kudosprime.com/fh5/images/cars/side/fh5_car_512.jpg?v=1\", \"Name_and_model\": \"1969 Dodge Charger R/T Forza Edition\", \"Model_type\": \"TRACK TOYS\", \"In_Game_Price\": \"70,000\", \"car_source\": \"Other\", \"stock_specs\": \"S1\", \"Stock_Rating\": 900.0, \"Drive_Type\": \"RWD\", \"speed\": 6.6, \"handling\": 7.9, \"acceleration\": 7.1, \"launch\": 7.3, \"braking\": 7.3, \"Offroad\": 3.9, \"Horse_Power\": 725.0, \"Weight_lbs\": 3395.0}, {\"Car_Image\": \"https://www.kudosprime.com/fh5/images/cars/side/fh5_car_110.jpg?v=1\", \"Name_and_model\": \"1970 Dodge Challenger R/T\", \"Model_type\": \"CLASSIC MUSCLE\", \"In_Game_Price\": \"210,000\", \"car_source\": \"Autoshow\", \"stock_specs\": \"C\", \"Stock_Rating\": 551.0, \"Drive_Type\": \"RWD\", \"speed\": 5.5, \"handling\": 3.8, \"acceleration\": 3.4, \"launch\": 3.3, \"braking\": 2.5, \"Offroad\": 5.0, \"Horse_Power\": 425.0, \"Weight_lbs\": 3800.0}, {\"Car_Image\": \"https://www.kudosprime.com/fh5/images/cars/side/fh5_car_525.jpg?v=1\", \"Name_and_model\": \"1999 Dodge Viper GTS ACR\", \"Model_type\": \"RETRO MUSCLE\", \"In_Game_Price\": \"75,000\", \"car_source\": \"Barn\", \"stock_specs\": \"A\", \"Stock_Rating\": 717.0, \"Drive_Type\": \"RWD\", \"speed\": 6.9, \"handling\": 5.5, \"acceleration\": 5.2, \"launch\": 4.1, \"braking\": 4.0, \"Offroad\": 4.5, \"Horse_Power\": 460.0, \"Weight_lbs\": 3450.0}, {\"Car_Image\": \"https://www.kudosprime.com/fh5/images/cars/side/fh5_car_111.jpg?v=1\", \"Name_and_model\": \"2008 Dodge Viper SRT10 ACR\", \"Model_type\": \"TRACK TOYS\", \"In_Game_Price\": \"90,000\", \"car_source\": \"Autoshow\", \"stock_specs\": \"S1\", \"Stock_Rating\": 844.0, \"Drive_Type\": \"RWD\", \"speed\": 7.2, \"handling\": 7.9, \"acceleration\": 5.6, \"launch\": 4.7, \"braking\": 7.5, \"Offroad\": 4.8, \"Horse_Power\": 600.0, \"Weight_lbs\": 3408.0}, {\"Car_Image\": \"https://www.kudosprime.com/fh5/images/cars/side/fh5_car_112.jpg?v=1\", \"Name_and_model\": \"2013 Dodge SRT Viper GTS\", \"Model_type\": \"MODERN MUSCLE\", \"In_Game_Price\": \"95,000\", \"car_source\": \"Autoshow\", \"stock_specs\": \"S1\", \"Stock_Rating\": 813.0, \"Drive_Type\": \"RWD\", \"speed\": 7.6, \"handling\": 6.1, \"acceleration\": 5.5, \"launch\": 4.6, \"braking\": 5.8, \"Offroad\": 4.7, \"Horse_Power\": 640.0, \"Weight_lbs\": 3296.0}, {\"Car_Image\": \"https://www.kudosprime.com/fh5/images/cars/side/fh5_car_113.jpg?v=1\", \"Name_and_model\": \"2015 Dodge Challenger SRT Hellcat\", \"Model_type\": \"MODERN MUSCLE\", \"In_Game_Price\": \"75,000\", \"car_source\": \"Autoshow\", \"stock_specs\": \"A\", \"Stock_Rating\": 755.0, \"Drive_Type\": \"RWD\", \"speed\": 7.7, \"handling\": 5.4, \"acceleration\": 4.5, \"launch\": 4.6, \"braking\": 4.9, \"Offroad\": 4.2, \"Horse_Power\": 707.0, \"Weight_lbs\": 4438.0}, {\"Car_Image\": \"https://www.kudosprime.com/fh5/images/cars/side/fh5_car_114.jpg?v=1\", \"Name_and_model\": \"2015 Dodge Charger SRT Hellcat\", \"Model_type\": \"MODERN MUSCLE\", \"In_Game_Price\": \"80,000\", \"car_source\": \"Autoshow\", \"stock_specs\": \"A\", \"Stock_Rating\": 762.0, \"Drive_Type\": \"RWD\", \"speed\": 7.8, \"handling\": 5.3, \"acceleration\": 4.7, \"launch\": 4.9, \"braking\": 5.0, \"Offroad\": 4.7, \"Horse_Power\": 707.0, \"Weight_lbs\": 4575.0}, {\"Car_Image\": \"https://www.kudosprime.com/fh5/images/cars/side/fh5_car_115.jpg?v=1\", \"Name_and_model\": \"2016 Dodge Viper ACR\", \"Model_type\": \"TRACK TOYS\", \"In_Game_Price\": \"150,000\", \"car_source\": \"Autoshow\", \"stock_specs\": \"S1\", \"Stock_Rating\": 873.0, \"Drive_Type\": \"RWD\", \"speed\": 6.7, \"handling\": 8.6, \"acceleration\": 6.2, \"launch\": 5.3, \"braking\": 9.4, \"Offroad\": 4.4, \"Horse_Power\": 645.0, \"Weight_lbs\": 3368.0}, {\"Car_Image\": \"https://www.kudosprime.com/fh5/images/cars/side/fh5_car_117.jpg?v=1\", \"Name_and_model\": \"2018 Dodge Challenger SRT Demon\", \"Model_type\": \"MODERN MUSCLE\", \"In_Game_Price\": \"150,000\", \"car_source\": \"Autoshow\", \"stock_specs\": \"A\", \"Stock_Rating\": 786.0, \"Drive_Type\": \"RWD\", \"speed\": 7.8, \"handling\": 5.5, \"acceleration\": 4.8, \"launch\": 5.0, \"braking\": 5.3, \"Offroad\": 4.6, \"Horse_Power\": 840.0, \"Weight_lbs\": 4248.0}, {\"Car_Image\": \"https://www.kudosprime.com/fh5/images/cars/side/fh5_car_116.jpg?v=1\", \"Name_and_model\": \"2018 Dodge Durango SRT\", \"Model_type\": \"SPORTS UTILITY HEROES\", \"In_Game_Price\": \"70,000\", \"car_source\": \"Autoshow\", \"stock_specs\": \"B\", \"Stock_Rating\": 666.0, \"Drive_Type\": \"AWD\", \"speed\": 6.3, \"handling\": 3.8, \"acceleration\": 5.8, \"launch\": 5.6, \"braking\": 3.7, \"Offroad\": 6.7, \"Horse_Power\": 475.0, \"Weight_lbs\": 5510.0}, {\"Car_Image\": \"https://www.kudosprime.com/fh5/images/cars/side/fh5_car_559.jpg?v=1\", \"Name_and_model\": \"2013 Donkervoort D8 GTO\", \"Model_type\": \"TRACK TOYS\", \"In_Game_Price\": \"250,000\", \"car_source\": \"Season Event\", \"stock_specs\": \"S1\", \"Stock_Rating\": 814.0, \"Drive_Type\": \"RWD\", \"speed\": 6.2, \"handling\": 6.1, \"acceleration\": 5.7, \"launch\": 6.1, \"braking\": 5.7, \"Offroad\": 3.8, \"Horse_Power\": 375.0, \"Weight_lbs\": 1532.0}, {\"Car_Image\": \"https://www.kudosprime.com/fh5/images/cars/side/fh5_car_118.jpg?v=1\", \"Name_and_model\": \"2018 Exomotive Exocet Off-Road\", \"Model_type\": \"UNLIMITED BUGGIES\", \"In_Game_Price\": \"50,000\", \"car_source\": \"Autoshow\", \"stock_specs\": \"B\", \"Stock_Rating\": 682.0, \"Drive_Type\": \"RWD\", \"speed\": 4.5, \"handling\": 4.8, \"acceleration\": 5.3, \"launch\": 5.7, \"braking\": 5.2, \"Offroad\": 8.6, \"Horse_Power\": 252.0, \"Weight_lbs\": 1571.0}, {\"Car_Image\": \"https://www.kudosprime.com/fh5/images/cars/side/fh5_car_499.jpg?v=1\", \"Name_and_model\": \"2018 Exomotive Exocet Off-Road Forza Edition\", \"Model_type\": \"RALLY MONSTERS\", \"In_Game_Price\": \"500,000\", \"car_source\": \"Wheelspin\", \"stock_specs\": \"A\", \"Stock_Rating\": 800.0, \"Drive_Type\": \"AWD\", \"speed\": 4.5, \"handling\": 5.6, \"acceleration\": 9.4, \"launch\": 10.0, \"braking\": 7.3, \"Offroad\": 7.6, \"Horse_Power\": 300.0, \"Weight_lbs\": 1499.0}, {\"Car_Image\": \"https://www.kudosprime.com/fh5/images/cars/side/fh5_car_120.jpg?v=1\", \"Name_and_model\": \"1957 Ferrari 250 California\", \"Model_type\": \"RARE CLASSICS\", \"In_Game_Price\": \"18,500,000\", \"car_source\": \"Autoshow\", \"stock_specs\": \"C\", \"Stock_Rating\": 564.0, \"Drive_Type\": \"RWD\", \"speed\": 5.4, \"handling\": 4.0, \"acceleration\": 3.4, \"launch\": 2.3, \"braking\": 2.8, \"Offroad\": 5.7, \"Horse_Power\": 262.0, \"Weight_lbs\": 2315.0}, {\"Car_Image\": \"https://www.kudosprime.com/fh5/images/cars/side/fh5_car_119.jpg?v=1\", \"Name_and_model\": \"1957 Ferrari 250 Testa Rossa\", \"Model_type\": \"CLASSIC RACERS\", \"In_Game_Price\": \"16,400,000\", \"car_source\": \"Autoshow\", \"stock_specs\": \"B\", \"Stock_Rating\": 691.0, \"Drive_Type\": \"RWD\", \"speed\": 6.3, \"handling\": 4.4, \"acceleration\": 4.5, \"launch\": 4.2, \"braking\": 2.9, \"Offroad\": 4.5, \"Horse_Power\": 300.0, \"Weight_lbs\": 2028.0}, {\"Car_Image\": \"https://www.kudosprime.com/fh5/images/cars/side/fh5_car_517.jpg?v=1\", \"Name_and_model\": \"1962 Ferrari 250 GTO\", \"Model_type\": \"CLASSIC RACERS\", \"In_Game_Price\": \"50,000,000\", \"car_source\": \"Barn\", \"stock_specs\": \"B\", \"Stock_Rating\": 612.0, \"Drive_Type\": \"RWD\", \"speed\": 6.4, \"handling\": 3.9, \"acceleration\": 3.5, \"launch\": 2.5, \"braking\": 2.8, \"Offroad\": 5.2, \"Horse_Power\": 300.0, \"Weight_lbs\": 2299.0}, {\"Car_Image\": \"https://www.kudosprime.com/fh5/images/cars/side/fh5_car_121.jpg?v=1\", \"Name_and_model\": \"1967 Ferrari #24 Ferrari Spa 330 P4\", \"Model_type\": \"CLASSIC RACERS\", \"In_Game_Price\": \"9,000,000\", \"car_source\": \"Wheelspin\", \"stock_specs\": \"A\", \"Stock_Rating\": 780.0, \"Drive_Type\": \"RWD\", \"speed\": 7.2, \"handling\": 5.1, \"acceleration\": 6.3, \"launch\": 5.9, \"braking\": 4.2, \"Offroad\": 4.4, \"Horse_Power\": 450.0, \"Weight_lbs\": 2271.0}, {\"Car_Image\": \"https://www.kudosprime.com/fh5/images/cars/side/fh5_car_122.jpg?v=1\", \"Name_and_model\": \"1968 Ferrari 365 GTB/4\", \"Model_type\": \"RARE CLASSICS\", \"In_Game_Price\": \"600,000\", \"car_source\": \"Autoshow\", \"stock_specs\": \"B\", \"Stock_Rating\": 637.0, \"Drive_Type\": \"RWD\", \"speed\": 7.0, \"handling\": 4.4, \"acceleration\": 4.4, \"launch\": 3.1, \"braking\": 3.0, \"Offroad\": 5.4, \"Horse_Power\": 405.0, \"Weight_lbs\": 3600.0}, {\"Car_Image\": \"https://www.kudosprime.com/fh5/images/cars/side/fh5_car_123.jpg?v=1\", \"Name_and_model\": \"1969 Ferrari Dino 246 GT\", \"Model_type\": \"RARE CLASSICS\", \"In_Game_Price\": \"425,000\", \"car_source\": \"Wheelspin\", \"stock_specs\": \"C\", \"Stock_Rating\": 535.0, \"Drive_Type\": \"RWD\", \"speed\": 5.2, \"handling\": 4.9, \"acceleration\": 3.2, \"launch\": 2.0, \"braking\": 2.8, \"Offroad\": 5.4, \"Horse_Power\": 195.0, \"Weight_lbs\": 2380.0}, {\"Car_Image\": \"https://www.kudosprime.com/fh5/images/cars/side/fh5_car_124.jpg?v=1\", \"Name_and_model\": \"1984 Ferrari 288 GTO\", \"Model_type\": \"RETRO SUPERCARS\", \"In_Game_Price\": \"3,500,000\", \"car_source\": \"Autoshow\", \"stock_specs\": \"A\", \"Stock_Rating\": 750.0, \"Drive_Type\": \"RWD\", \"speed\": 7.4, \"handling\": 5.6, \"acceleration\": 5.6, \"launch\": 3.1, \"braking\": 4.2, \"Offroad\": 4.7, \"Horse_Power\": 395.0, \"Weight_lbs\": 2822.0}, {\"Car_Image\": \"https://www.kudosprime.com/fh5/images/cars/side/fh5_car_125.jpg?v=1\", \"Name_and_model\": \"1987 Ferrari F40\", \"Model_type\": \"RETRO SUPERCARS\", \"In_Game_Price\": \"1,200,000\", \"car_source\": \"Autoshow\", \"stock_specs\": \"A\", \"Stock_Rating\": 784.0, \"Drive_Type\": \"RWD\", \"speed\": 7.3, \"handling\": 6.5, \"acceleration\": 6.3, \"launch\": 2.6, \"braking\": 5.3, \"Offroad\": 5.0, \"Horse_Power\": 478.0, \"Weight_lbs\": 2980.0}, {\"Car_Image\": \"https://www.kudosprime.com/fh5/images/cars/side/fh5_car_523.jpg?v=1\", \"Name_and_model\": \"1989 Ferrari F40 Competizionne\", \"Model_type\": \"EXTREME TRACK TOYS\", \"In_Game_Price\": \"2,000,000\", \"car_source\": \"Barn\", \"stock_specs\": \"S2\", \"Stock_Rating\": 947.0, \"Drive_Type\": \"RWD\", \"speed\": 8.3, \"handling\": 10.0, \"acceleration\": 6.6, \"launch\": 1.7, \"braking\": 8.5, \"Offroad\": 4.4, \"Horse_Power\": 691.0, \"Weight_lbs\": 2315.0}, {\"Car_Image\": \"https://www.kudosprime.com/fh5/images/cars/side/fh5_car_126.jpg?v=1\", \"Name_and_model\": \"1994 Ferrari F355 Berlinetta\", \"Model_type\": \"RETRO SUPERCARS\", \"In_Game_Price\": \"190,000\", \"car_source\": \"Autoshow\", \"stock_specs\": \"A\", \"Stock_Rating\": 717.0, \"Drive_Type\": \"RWD\", \"speed\": 6.8, \"handling\": 6.1, \"acceleration\": 4.5, \"launch\": 3.6, \"braking\": 4.3, \"Offroad\": 4.9, \"Horse_Power\": 375.0, \"Weight_lbs\": 3196.0}, {\"Car_Image\": \"https://www.kudosprime.com/fh5/images/cars/side/fh5_car_127.jpg?v=1\", \"Name_and_model\": \"1995 Ferrari F50\", \"Model_type\": \"RETRO SUPERCARS\", \"In_Game_Price\": \"2,000,000\", \"car_source\": \"Autoshow\", \"stock_specs\": \"A\", \"Stock_Rating\": 789.0, \"Drive_Type\": \"RWD\", \"speed\": 7.3, \"handling\": 6.5, \"acceleration\": 5.7, \"launch\": 5.0, \"braking\": 5.6, \"Offroad\": 4.8, \"Horse_Power\": 513.0, \"Weight_lbs\": 2976.0}, {\"Car_Image\": \"https://www.kudosprime.com/fh5/images/cars/side/fh5_car_128.jpg?v=1\", \"Name_and_model\": \"1996 Ferrari F50 GT\", \"Model_type\": \"EXTREME TRACK TOYS\", \"In_Game_Price\": \"2,000,000\", \"car_source\": \"Autoshow\", \"stock_specs\": \"S2\", \"Stock_Rating\": 976.0, \"Drive_Type\": \"RWD\", \"speed\": 8.1, \"handling\": 10.0, \"acceleration\": 7.0, \"launch\": 7.1, \"braking\": 10.0, \"Offroad\": 4.1, \"Horse_Power\": 750.0, \"Weight_lbs\": 2002.0}, {\"Car_Image\": \"https://www.kudosprime.com/fh5/images/cars/side/fh5_car_556.jpg?v=1\", \"Name_and_model\": \"2002 Ferrari 575M Maranello\", \"Model_type\": \"RETRO SUPERCARS\", \"In_Game_Price\": \"250,000\", \"car_source\": \"Season Event\", \"stock_specs\": \"A\", \"Stock_Rating\": 747.0, \"Drive_Type\": \"RWD\", \"speed\": 7.5, \"handling\": 5.6, \"acceleration\": 5.6, \"launch\": 5.7, \"braking\": 4.4, \"Offroad\": 4.9, \"Horse_Power\": 508.0, \"Weight_lbs\": 3814.0}, {\"Car_Image\": \"https://www.kudosprime.com/fh5/images/cars/side/fh5_car_129.jpg?v=1\", \"Name_and_model\": \"2002 Ferrari Enzo Ferrari\", \"Model_type\": \"RETRO SUPERCARS\", \"In_Game_Price\": \"2,800,000\", \"car_source\": \"Autoshow\", \"stock_specs\": \"S1\", \"Stock_Rating\": 857.0, \"Drive_Type\": \"RWD\", \"speed\": 8.1, \"handling\": 7.5, \"acceleration\": 6.4, \"launch\": 6.9, \"braking\": 8.3, \"Offroad\": 4.7, \"Horse_Power\": 650.0, \"Weight_lbs\": 3263.0}, {\"Car_Image\": \"https://www.kudosprime.com/fh5/images/cars/side/fh5_car_130.jpg?v=1\", \"Name_and_model\": \"2003 Ferrari 360 Challenge Stradale\", \"Model_type\": \"RETRO SUPERCARS\", \"In_Game_Price\": \"200,000\", \"car_source\": \"Wheelspin\", \"stock_specs\": \"A\", \"Stock_Rating\": 773.0, \"Drive_Type\": \"RWD\", \"speed\": 7.0, \"handling\": 6.8, \"acceleration\": 6.1, \"launch\": 5.6, \"braking\": 6.6, \"Offroad\": 4.7, \"Horse_Power\": 409.0, \"Weight_lbs\": 2844.0}, {\"Car_Image\": \"https://www.kudosprime.com/fh5/images/cars/side/fh5_car_131.jpg?v=1\", \"Name_and_model\": \"2005 Ferrari FXX\", \"Model_type\": \"EXTREME TRACK TOYS\", \"In_Game_Price\": \"2,500,000\", \"car_source\": \"Autoshow\", \"stock_specs\": \"S2\", \"Stock_Rating\": 956.0, \"Drive_Type\": \"RWD\", \"speed\": 8.4, \"handling\": 10.0, \"acceleration\": 8.1, \"launch\": 8.9, \"braking\": 10.0, \"Offroad\": 4.4, \"Horse_Power\": 789.0, \"Weight_lbs\": 2731.0}, {\"Car_Image\": \"https://www.kudosprime.com/fh5/images/cars/side/fh5_car_132.jpg?v=1\", \"Name_and_model\": \"2007 Ferrari 430 Scuderia\", \"Model_type\": \"MODERN SUPERCARS\", \"In_Game_Price\": \"300,000\", \"car_source\": \"Wheelspin\", \"stock_specs\": \"S1\", \"Stock_Rating\": 810.0, \"Drive_Type\": \"RWD\", \"speed\": 7.6, \"handling\": 6.9, \"acceleration\": 6.2, \"launch\": 6.4, \"braking\": 6.9, \"Offroad\": 4.3, \"Horse_Power\": 503.0, \"Weight_lbs\": 3150.0}, {\"Car_Image\": \"https://www.kudosprime.com/fh5/images/cars/side/fh5_car_133.jpg?v=1\", \"Name_and_model\": \"2009 Ferrari 458 Italia\", \"Model_type\": \"MODERN SUPERCARS\", \"In_Game_Price\": \"225,000\", \"car_source\": \"Autoshow\", \"stock_specs\": \"S1\", \"Stock_Rating\": 823.0, \"Drive_Type\": \"RWD\", \"speed\": 7.9, \"handling\": 7.2, \"acceleration\": 6.3, \"launch\": 6.8, \"braking\": 6.9, \"Offroad\": 4.1, \"Horse_Power\": 562.0, \"Weight_lbs\": 3274.0}, {\"Car_Image\": \"https://www.kudosprime.com/fh5/images/cars/side/fh5_car_551.jpg?v=1\", \"Name_and_model\": \"2010 Ferrari 599 GTO\", \"Model_type\": \"SUPER GT\", \"In_Game_Price\": \"350,000\", \"car_source\": \"Season Event\", \"stock_specs\": \"S1\", \"Stock_Rating\": 828.0, \"Drive_Type\": \"RWD\", \"speed\": 7.9, \"handling\": 7.4, \"acceleration\": 6.0, \"launch\": 6.3, \"braking\": 7.2, \"Offroad\": 4.5, \"Horse_Power\": 661.0, \"Weight_lbs\": 3538.0}, {\"Car_Image\": \"https://www.kudosprime.com/fh5/images/cars/side/fh5_car_134.jpg?v=1\", \"Name_and_model\": \"2012 Ferrari 599XX Evolution\", \"Model_type\": \"EXTREME TRACK TOYS\", \"In_Game_Price\": \"2,600,000\", \"car_source\": \"Autoshow\", \"stock_specs\": \"S2\", \"Stock_Rating\": 952.0, \"Drive_Type\": \"RWD\", \"speed\": 8.0, \"handling\": 9.8, \"acceleration\": 7.3, \"launch\": 7.9, \"braking\": 10.0, \"Offroad\": 3.8, \"Horse_Power\": 740.0, \"Weight_lbs\": 3038.0}, {\"Car_Image\": \"https://www.kudosprime.com/fh5/images/cars/side/fh5_car_136.jpg?v=1\", \"Name_and_model\": \"2013 Ferrari 458 Speciale\", \"Model_type\": \"TRACK TOYS\", \"In_Game_Price\": \"340,000\", \"car_source\": \"Wheelspin\", \"stock_specs\": \"S1\", \"Stock_Rating\": 865.0, \"Drive_Type\": \"RWD\", \"speed\": 7.7, \"handling\": 8.0, \"acceleration\": 6.9, \"launch\": 7.5, \"braking\": 7.9, \"Offroad\": 3.7, \"Horse_Power\": 597.0, \"Weight_lbs\": 3075.0}, {\"Car_Image\": \"https://www.kudosprime.com/fh5/images/cars/side/fh5_car_135.jpg?v=1\", \"Name_and_model\": \"2013 Ferrari LaFerrari\", \"Model_type\": \"HYPERCARS\", \"In_Game_Price\": \"1,500,000\", \"car_source\": \"Car Collection\", \"stock_specs\": \"S2\", \"Stock_Rating\": 934.0, \"Drive_Type\": \"RWD\", \"speed\": 9.4, \"handling\": 9.0, \"acceleration\": 7.2, \"launch\": 7.9, \"braking\": 9.6, \"Offroad\": 4.4, \"Horse_Power\": 963.0, \"Weight_lbs\": 3263.0}, {\"Car_Image\": \"https://www.kudosprime.com/fh5/images/cars/side/fh5_car_137.jpg?v=1\", \"Name_and_model\": \"2014 Ferrari FXX K\", \"Model_type\": \"EXTREME TRACK TOYS\", \"In_Game_Price\": \"2,700,000\", \"car_source\": \"Autoshow\", \"stock_specs\": \"S2\", \"Stock_Rating\": 979.0, \"Drive_Type\": \"RWD\", \"speed\": 8.1, \"handling\": 10.0, \"acceleration\": 8.1, \"launch\": 9.0, \"braking\": 10.0, \"Offroad\": 3.6, \"Horse_Power\": 1036.0, \"Weight_lbs\": 2831.0}, {\"Car_Image\": \"https://www.kudosprime.com/fh5/images/cars/side/fh5_car_138.jpg?v=1\", \"Name_and_model\": \"2015 Ferrari 488 GTB\", \"Model_type\": \"MODERN SUPERCARS\", \"In_Game_Price\": \"290,000\", \"car_source\": \"Autoshow\", \"stock_specs\": \"S1\", \"Stock_Rating\": 863.0, \"Drive_Type\": \"RWD\", \"speed\": 8.2, \"handling\": 7.9, \"acceleration\": 6.8, \"launch\": 6.5, \"braking\": 7.8, \"Offroad\": 4.4, \"Horse_Power\": 660.0, \"Weight_lbs\": 3252.0}, {\"Car_Image\": \"https://www.kudosprime.com/fh5/images/cars/side/fh5_car_139.jpg?v=1\", \"Name_and_model\": \"2015 Ferrari F12tdf\", \"Model_type\": \"SUPER GT\", \"In_Game_Price\": \"500,000\", \"car_source\": \"Autoshow\", \"stock_specs\": \"S1\", \"Stock_Rating\": 884.0, \"Drive_Type\": \"RWD\", \"speed\": 8.8, \"handling\": 7.6, \"acceleration\": 6.5, \"launch\": 7.0, \"braking\": 8.4, \"Offroad\": 4.8, \"Horse_Power\": 769.0, \"Weight_lbs\": 3351.0}, {\"Car_Image\": \"https://www.kudosprime.com/fh5/images/cars/side/fh5_car_140.jpg?v=1\", \"Name_and_model\": \"2017 Ferrari 812 Superfast\", \"Model_type\": \"SUPER GT\", \"In_Game_Price\": \"350,000\", \"car_source\": \"Autoshow\", \"stock_specs\": \"S1\", \"Stock_Rating\": 878.0, \"Drive_Type\": \"RWD\", \"speed\": 7.9, \"handling\": 7.5, \"acceleration\": 6.2, \"launch\": 6.6, \"braking\": 7.6, \"Offroad\": 4.0, \"Horse_Power\": 788.0, \"Weight_lbs\": 3594.0}, {\"Car_Image\": \"https://www.kudosprime.com/fh5/images/cars/side/fh5_car_141.jpg?v=1\", \"Name_and_model\": \"2017 Ferrari GTC4Lusso\", \"Model_type\": \"SUPER GT\", \"In_Game_Price\": \"300,000\", \"car_source\": \"Wheelspin\", \"stock_specs\": \"S1\", \"Stock_Rating\": 816.0, \"Drive_Type\": \"AWD\", \"speed\": 7.5, \"handling\": 6.8, \"acceleration\": 6.9, \"launch\": 6.7, \"braking\": 6.6, \"Offroad\": 5.1, \"Horse_Power\": 680.0, \"Weight_lbs\": 4233.0}, {\"Car_Image\": \"https://www.kudosprime.com/fh5/images/cars/side/fh5_car_542.jpg?v=1\", \"Name_and_model\": \"2017 Ferrari J50\", \"Model_type\": \"MODERN SUPERCARS\", \"In_Game_Price\": \"2,500,000\", \"car_source\": \"Autoshow\", \"stock_specs\": \"S1\", \"Stock_Rating\": 857.0, \"Drive_Type\": \"RWD\", \"speed\": 8.4, \"handling\": 7.5, \"acceleration\": 6.8, \"launch\": 7.4, \"braking\": 7.3, \"Offroad\": 4.3, \"Horse_Power\": 681.0, \"Weight_lbs\": 3362.0}, {\"Car_Image\": \"https://www.kudosprime.com/fh5/images/cars/side/fh5_car_548.jpg?v=1\", \"Name_and_model\": \"2018 Ferrari FXX-K Evo\", \"Model_type\": \"EXTREME TRACK TOYS\", \"In_Game_Price\": \"0\", \"car_source\": \"Autoshow\", \"stock_specs\": \"S2\", \"Stock_Rating\": 998.0, \"Drive_Type\": \"RWD\", \"speed\": 8.1, \"handling\": 10.0, \"acceleration\": 8.3, \"launch\": 9.1, \"braking\": 10.0, \"Offroad\": 4.0, \"Horse_Power\": 1036.0, \"Weight_lbs\": 2800.0}, {\"Car_Image\": \"https://www.kudosprime.com/fh5/images/cars/side/fh5_car_142.jpg?v=1\", \"Name_and_model\": \"2018 Ferrari Portofino\", \"Model_type\": \"SUPER GT\", \"In_Game_Price\": \"215,000\", \"car_source\": \"Autoshow\", \"stock_specs\": \"S1\", \"Stock_Rating\": 814.0, \"Drive_Type\": \"RWD\", \"speed\": 7.8, \"handling\": 6.5, \"acceleration\": 6.3, \"launch\": 6.8, \"braking\": 6.8, \"Offroad\": 4.7, \"Horse_Power\": 591.0, \"Weight_lbs\": 3669.0}, {\"Car_Image\": \"https://www.kudosprime.com/fh5/images/cars/side/fh5_car_143.jpg?v=1\", \"Name_and_model\": \"2019 Ferrari 488 Pista\", \"Model_type\": \"TRACK TOYS\", \"In_Game_Price\": \"320,000\", \"car_source\": \"Autoshow\", \"stock_specs\": \"S1\", \"Stock_Rating\": 889.0, \"Drive_Type\": \"RWD\", \"speed\": 7.6, \"handling\": 8.2, \"acceleration\": 7.0, \"launch\": 7.6, \"braking\": 8.4, \"Offroad\": 4.2, \"Horse_Power\": 711.0, \"Weight_lbs\": 3053.0}, {\"Car_Image\": \"https://www.kudosprime.com/fh5/images/cars/side/fh5_car_543.jpg?v=1\", \"Name_and_model\": \"2019 Ferrari Monza SP2\", \"Model_type\": \"SUPER GT\", \"In_Game_Price\": \"2,000,000\", \"car_source\": \"Autoshow\", \"stock_specs\": \"S1\", \"Stock_Rating\": 867.0, \"Drive_Type\": \"RWD\", \"speed\": 8.6, \"handling\": 7.3, \"acceleration\": 6.1, \"launch\": 6.6, \"braking\": 7.1, \"Offroad\": 3.7, \"Horse_Power\": 799.0, \"Weight_lbs\": 3503.0}, {\"Car_Image\": \"https://www.kudosprime.com/fh5/images/cars/side/fh5_car_144.jpg?v=1\", \"Name_and_model\": \"1932 Ford De Luxe Five-Window Coupe\", \"Model_type\": \"RODS AND CUSTOMS\", \"In_Game_Price\": \"35,000\", \"car_source\": \"Autoshow\", \"stock_specs\": \"D\", \"Stock_Rating\": 126.0, \"Drive_Type\": \"RWD\", \"speed\": 3.2, \"handling\": 3.9, \"acceleration\": 1.9, \"launch\": 2.8, \"braking\": 1.8, \"Offroad\": 4.8, \"Horse_Power\": 65.0, \"Weight_lbs\": 2398.0}, {\"Car_Image\": \"https://www.kudosprime.com/fh5/images/cars/side/fh5_car_145.jpg?v=1\", \"Name_and_model\": \"1940 Ford De Luxe Coupe\", \"Model_type\": \"RODS AND CUSTOMS\", \"In_Game_Price\": \"44,000\", \"car_source\": \"Autoshow\", \"stock_specs\": \"D\", \"Stock_Rating\": 130.0, \"Drive_Type\": \"RWD\", \"speed\": 3.2, \"handling\": 3.6, \"acceleration\": 2.1, \"launch\": 2.2, \"braking\": 1.8, \"Offroad\": 6.1, \"Horse_Power\": 85.0, \"Weight_lbs\": 2970.0}, {\"Car_Image\": \"https://www.kudosprime.com/fh5/images/cars/side/fh5_car_146.jpg?v=1\", \"Name_and_model\": \"1956 Ford F-100\", \"Model_type\": \"RODS AND CUSTOMS\", \"In_Game_Price\": \"36,000\", \"car_source\": \"Barn\", \"stock_specs\": \"D\", \"Stock_Rating\": 302.0, \"Drive_Type\": \"RWD\", \"speed\": 3.8, \"handling\": 2.7, \"acceleration\": 3.1, \"launch\": 3.0, \"braking\": 2.1, \"Offroad\": 6.9, \"Horse_Power\": 173.0, \"Weight_lbs\": 3325.0}, {\"Car_Image\": \"https://www.kudosprime.com/fh5/images/cars/side/fh5_car_147.jpg?v=1\", \"Name_and_model\": \"1959 Ford Anglia 105E\", \"Model_type\": \"CULT CARS\", \"In_Game_Price\": \"20,000\", \"car_source\": \"Autoshow\", \"stock_specs\": \"D\", \"Stock_Rating\": 100.0, \"Drive_Type\": \"RWD\", \"speed\": 2.6, \"handling\": 4.1, \"acceleration\": 1.6, \"launch\": 2.6, \"braking\": 2.0, \"Offroad\": 6.1, \"Horse_Power\": 39.0, \"Weight_lbs\": 1676.0}, {\"Car_Image\": \"https://www.kudosprime.com/fh5/images/cars/side/fh5_car_148.jpg?v=1\", \"Name_and_model\": \"1964 Ford GT40 Mk I\", \"Model_type\": \"CLASSIC RACERS\", \"In_Game_Price\": \"11,000,000\", \"car_source\": \"Car Collection\", \"stock_specs\": \"A\", \"Stock_Rating\": 754.0, \"Drive_Type\": \"RWD\", \"speed\": 6.9, \"handling\": 5.2, \"acceleration\": 4.6, \"launch\": 3.7, \"braking\": 4.0, \"Offroad\": 4.8, \"Horse_Power\": 390.0, \"Weight_lbs\": 2222.0}, {\"Car_Image\": \"https://www.kudosprime.com/fh5/images/cars/side/fh5_car_149.jpg?v=1\", \"Name_and_model\": \"1965 Ford Mustang GT Coupe\", \"Model_type\": \"CLASSIC MUSCLE\", \"In_Game_Price\": \"46,000\", \"car_source\": \"Autoshow\", \"stock_specs\": \"D\", \"Stock_Rating\": 499.0, \"Drive_Type\": \"RWD\", \"speed\": 5.1, \"handling\": 3.6, \"acceleration\": 3.3, \"launch\": 3.2, \"braking\": 2.3, \"Offroad\": 5.4, \"Horse_Power\": 271.0, \"Weight_lbs\": 2562.0}, {\"Car_Image\": \"https://www.kudosprime.com/fh5/images/cars/side/fh5_car_150.jpg?v=1\", \"Name_and_model\": \"1965 Ford Transit\", \"Model_type\": \"VANS AND UTILITY\", \"In_Game_Price\": \"25,000\", \"car_source\": \"Autoshow\", \"stock_specs\": \"D\", \"Stock_Rating\": 100.0, \"Drive_Type\": \"RWD\", \"speed\": 2.5, \"handling\": 4.2, \"acceleration\": 1.3, \"launch\": 1.8, \"braking\": 1.8, \"Offroad\": 6.3, \"Horse_Power\": 73.0, \"Weight_lbs\": 3527.0}, {\"Car_Image\": \"https://www.kudosprime.com/fh5/images/cars/side/fh5_car_151.jpg?v=1\", \"Name_and_model\": \"1966 Ford #2 GT40 Mk II\", \"Model_type\": \"CLASSIC RACERS\", \"In_Game_Price\": \"11,000,000\", \"car_source\": \"Autoshow\", \"stock_specs\": \"A\", \"Stock_Rating\": 771.0, \"Drive_Type\": \"RWD\", \"speed\": 7.5, \"handling\": 5.0, \"acceleration\": 4.3, \"launch\": 3.5, \"braking\": 3.8, \"Offroad\": 4.7, \"Horse_Power\": 485.0, \"Weight_lbs\": 2682.0}, {\"Car_Image\": \"https://www.kudosprime.com/fh5/images/cars/side/fh5_car_152.jpg?v=1\", \"Name_and_model\": \"1966 Ford Lotus Cortina\", \"Model_type\": \"CLASSIC RACERS\", \"In_Game_Price\": \"50,000\", \"car_source\": \"Autoshow\", \"stock_specs\": \"D\", \"Stock_Rating\": 389.0, \"Drive_Type\": \"RWD\", \"speed\": 4.0, \"handling\": 3.9, \"acceleration\": 3.5, \"launch\": 2.6, \"braking\": 2.3, \"Offroad\": 5.3, \"Horse_Power\": 115.0, \"Weight_lbs\": 2060.0}, {\"Car_Image\": \"https://www.kudosprime.com/fh5/images/cars/side/fh5_car_153.jpg?v=1\", \"Name_and_model\": \"1967 Ford Racing Escort MK1\", \"Model_type\": \"CLASSIC RALLY\", \"In_Game_Price\": \"500,000\", \"car_source\": \"Barn\", \"stock_specs\": \"B\", \"Stock_Rating\": 636.0, \"Drive_Type\": \"RWD\", \"speed\": 4.5, \"handling\": 4.8, \"acceleration\": 4.6, \"launch\": 3.5, \"braking\": 4.1, \"Offroad\": 7.3, \"Horse_Power\": 200.0, \"Weight_lbs\": 2116.0}, {\"Car_Image\": \"https://www.kudosprime.com/fh5/images/cars/side/fh5_car_154.jpg?v=1\", \"Name_and_model\": \"1968 Ford Mustang GT 2+2 Fastback\", \"Model_type\": \"CLASSIC MUSCLE\", \"In_Game_Price\": \"50,000\", \"car_source\": \"Barn\", \"stock_specs\": \"D\", \"Stock_Rating\": 498.0, \"Drive_Type\": \"RWD\", \"speed\": 5.7, \"handling\": 3.9, \"acceleration\": 3.4, \"launch\": 3.3, \"braking\": 2.3, \"Offroad\": 5.5, \"Horse_Power\": 325.0, \"Weight_lbs\": 3548.0}, {\"Car_Image\": \"https://www.kudosprime.com/fh5/images/cars/side/fh5_car_155.jpg?v=1\", \"Name_and_model\": \"1969 Ford Mustang Boss 302\", \"Model_type\": \"CLASSIC MUSCLE\", \"In_Game_Price\": \"230,000\", \"car_source\": \"Autoshow\", \"stock_specs\": \"C\", \"Stock_Rating\": 581.0, \"Drive_Type\": \"RWD\", \"speed\": 5.5, \"handling\": 4.4, \"acceleration\": 3.2, \"launch\": 2.3, \"braking\": 3.0, \"Offroad\": 5.8, \"Horse_Power\": 290.0, \"Weight_lbs\": 3250.0}, {\"Car_Image\": \"https://www.kudosprime.com/fh5/images/cars/side/fh5_car_156.jpg?v=1\", \"Name_and_model\": \"1970 Ford GT70\", \"Model_type\": \"CLASSIC RALLY\", \"In_Game_Price\": \"150,000\", \"car_source\": \"Autoshow\", \"stock_specs\": \"B\", \"Stock_Rating\": 671.0, \"Drive_Type\": \"RWD\", \"speed\": 5.1, \"handling\": 5.5, \"acceleration\": 4.2, \"launch\": 3.1, \"braking\": 3.4, \"Offroad\": 7.3, \"Horse_Power\": 200.0, \"Weight_lbs\": 1680.0}, {\"Car_Image\": \"https://www.kudosprime.com/fh5/images/cars/side/fh5_car_564.jpg?v=1\", \"Name_and_model\": \"1971 Ford Mustang Mach 1 1971\", \"Model_type\": \"CLASSIC MUSCLE\", \"In_Game_Price\": \"250,000\", \"car_source\": \"This info will be available soon\", \"stock_specs\": \"C\", \"Stock_Rating\": 546.0, \"Drive_Type\": \"RWD\", \"speed\": 4.8, \"handling\": 3.8, \"acceleration\": 3.4, \"launch\": 3.2, \"braking\": 2.5, \"Offroad\": 5.2, \"Horse_Power\": 376.0, \"Weight_lbs\": 3710.0}, {\"Car_Image\": \"https://www.kudosprime.com/fh5/images/cars/side/fh5_car_157.jpg?v=1\", \"Name_and_model\": \"1972 Ford Falcon XA GT-HO\", \"Model_type\": \"CLASSIC MUSCLE\", \"In_Game_Price\": \"80,000\", \"car_source\": \"Autoshow\", \"stock_specs\": \"B\", \"Stock_Rating\": 624.0, \"Drive_Type\": \"RWD\", \"speed\": 6.3, \"handling\": 4.2, \"acceleration\": 4.0, \"launch\": 3.3, \"braking\": 2.9, \"Offroad\": 5.4, \"Horse_Power\": 410.0, \"Weight_lbs\": 3461.0}, {\"Car_Image\": \"https://www.kudosprime.com/fh5/images/cars/side/fh5_car_158.jpg?v=1\", \"Name_and_model\": \"1973 Ford Capri RS3100\", \"Model_type\": \"CLASSIC SPORTS CARS\", \"In_Game_Price\": \"55,000\", \"car_source\": \"Autoshow\", \"stock_specs\": \"D\", \"Stock_Rating\": 497.0, \"Drive_Type\": \"RWD\", \"speed\": 4.8, \"handling\": 4.1, \"acceleration\": 3.8, \"launch\": 3.3, \"braking\": 2.5, \"Offroad\": 5.2, \"Horse_Power\": 148.0, \"Weight_lbs\": 2315.0}, {\"Car_Image\": \"https://www.kudosprime.com/fh5/images/cars/side/fh5_car_159.jpg?v=1\", \"Name_and_model\": \"1973 Ford Escort RS1600\", \"Model_type\": \"CLASSIC RALLY\", \"In_Game_Price\": \"73,000\", \"car_source\": \"Autoshow\", \"stock_specs\": \"D\", \"Stock_Rating\": 476.0, \"Drive_Type\": \"RWD\", \"speed\": 4.2, \"handling\": 4.1, \"acceleration\": 3.7, \"launch\": 2.7, \"braking\": 2.9, \"Offroad\": 5.9, \"Horse_Power\": 113.0, \"Weight_lbs\": 1918.0}, {\"Car_Image\": \"https://www.kudosprime.com/fh5/images/cars/side/fh5_car_160.jpg?v=1\", \"Name_and_model\": \"1975 Ford Bronco\", \"Model_type\": \"PICK-UP & 4X4'S\", \"In_Game_Price\": \"38,000\", \"car_source\": \"Autoshow\", \"stock_specs\": \"D\", \"Stock_Rating\": 421.0, \"Drive_Type\": \"AWD\", \"speed\": 4.3, \"handling\": 3.0, \"acceleration\": 3.5, \"launch\": 2.8, \"braking\": 2.1, \"Offroad\": 8.0, \"Horse_Power\": 205.0, \"Weight_lbs\": 3545.0}, {\"Car_Image\": \"https://www.kudosprime.com/fh5/images/cars/side/fh5_car_161.jpg?v=1\", \"Name_and_model\": \"1977 Ford #5 Escort RS1800 MkII\", \"Model_type\": \"CLASSIC RALLY\", \"In_Game_Price\": \"300,000\", \"car_source\": \"Autoshow\", \"stock_specs\": \"B\", \"Stock_Rating\": 662.0, \"Drive_Type\": \"RWD\", \"speed\": 4.4, \"handling\": 4.5, \"acceleration\": 5.0, \"launch\": 5.3, \"braking\": 3.8, \"Offroad\": 7.0, \"Horse_Power\": 255.0, \"Weight_lbs\": 2161.0}, {\"Car_Image\": \"https://www.kudosprime.com/fh5/images/cars/side/fh5_car_162.jpg?v=1\", \"Name_and_model\": \"1977 Ford Escort RS1800\", \"Model_type\": \"CLASSIC RALLY\", \"In_Game_Price\": \"88,000\", \"car_source\": \"Autoshow\", \"stock_specs\": \"D\", \"Stock_Rating\": 477.0, \"Drive_Type\": \"RWD\", \"speed\": 4.2, \"handling\": 4.2, \"acceleration\": 3.6, \"launch\": 3.0, \"braking\": 2.8, \"Offroad\": 6.0, \"Horse_Power\": 115.0, \"Weight_lbs\": 1986.0}, {\"Car_Image\": \"https://www.kudosprime.com/fh5/images/cars/side/fh5_car_163.jpg?v=1\", \"Name_and_model\": \"1981 Ford Fiesta XR2\", \"Model_type\": \"RETRO HOT HATCH\", \"In_Game_Price\": \"25,000\", \"car_source\": \"Wheelspin\", \"stock_specs\": \"D\", \"Stock_Rating\": 369.0, \"Drive_Type\": \"FWD\", \"speed\": 3.8, \"handling\": 4.4, \"acceleration\": 3.1, \"launch\": 2.4, \"braking\": 2.5, \"Offroad\": 5.1, \"Horse_Power\": 84.0, \"Weight_lbs\": 1852.0}, {\"Car_Image\": \"https://www.kudosprime.com/fh5/images/cars/side/fh5_car_164.jpg?v=1\", \"Name_and_model\": \"1985 Ford RS200 Evolution\", \"Model_type\": \"RALLY MONSTERS\", \"In_Game_Price\": \"260,000\", \"car_source\": \"Autoshow\", \"stock_specs\": \"S1\", \"Stock_Rating\": 808.0, \"Drive_Type\": \"AWD\", \"speed\": 5.4, \"handling\": 5.7, \"acceleration\": 6.9, \"launch\": 2.3, \"braking\": 5.0, \"Offroad\": 7.8, \"Horse_Power\": 506.0, \"Weight_lbs\": 2464.0}, {\"Car_Image\": \"https://www.kudosprime.com/fh5/images/cars/side/fh5_car_165.jpg?v=1\", \"Name_and_model\": \"1986 Ford Escort RS Turbo\", \"Model_type\": \"RETRO HOT HATCH\", \"In_Game_Price\": \"25,000\", \"car_source\": \"Autoshow\", \"stock_specs\": \"C\", \"Stock_Rating\": 516.0, \"Drive_Type\": \"FWD\", \"speed\": 4.5, \"handling\": 4.2, \"acceleration\": 3.8, \"launch\": 3.7, \"braking\": 2.8, \"Offroad\": 4.9, \"Horse_Power\": 130.0, \"Weight_lbs\": 2154.0}, {\"Car_Image\": \"https://www.kudosprime.com/fh5/images/cars/side/fh5_car_166.jpg?v=1\", \"Name_and_model\": \"1987 Ford Sierra Cosworth RS500\", \"Model_type\": \"RETRO SALOONS\", \"In_Game_Price\": \"66,000\", \"car_source\": \"Autoshow\", \"stock_specs\": \"B\", \"Stock_Rating\": 604.0, \"Drive_Type\": \"RWD\", \"speed\": 5.6, \"handling\": 4.8, \"acceleration\": 4.3, \"launch\": 3.3, \"braking\": 3.4, \"Offroad\": 4.8, \"Horse_Power\": 224.0, \"Weight_lbs\": 2734.0}, {\"Car_Image\": \"https://www.kudosprime.com/fh5/images/cars/side/fh5_car_167.jpg?v=1\", \"Name_and_model\": \"1992 Ford Escort RS Cosworth\", \"Model_type\": \"RETRO RALLY\", \"In_Game_Price\": \"66,000\", \"car_source\": \"Autoshow\", \"stock_specs\": \"C\", \"Stock_Rating\": 565.0, \"Drive_Type\": \"AWD\", \"speed\": 5.2, \"handling\": 4.8, \"acceleration\": 4.3, \"launch\": 2.8, \"braking\": 3.1, \"Offroad\": 5.2, \"Horse_Power\": 224.0, \"Weight_lbs\": 2811.0}, {\"Car_Image\": \"https://www.kudosprime.com/fh5/images/cars/side/fh5_car_168.jpg?v=1\", \"Name_and_model\": \"1993 Ford SVT Cobra R\", \"Model_type\": \"RETRO MUSCLE\", \"In_Game_Price\": \"28,000\", \"car_source\": \"Autoshow\", \"stock_specs\": \"C\", \"Stock_Rating\": 539.0, \"Drive_Type\": \"RWD\", \"speed\": 5.3, \"handling\": 4.5, \"acceleration\": 3.7, \"launch\": 2.9, \"braking\": 2.9, \"Offroad\": 4.7, \"Horse_Power\": 235.0, \"Weight_lbs\": 3125.0}, {\"Car_Image\": \"https://www.kudosprime.com/fh5/images/cars/side/fh5_car_169.jpg?v=1\", \"Name_and_model\": \"1994 Ford Supervan 3\", \"Model_type\": \"TRACK TOYS\", \"In_Game_Price\": \"500,000\", \"car_source\": \"Autoshow\", \"stock_specs\": \"S1\", \"Stock_Rating\": 820.0, \"Drive_Type\": \"RWD\", \"speed\": 5.2, \"handling\": 8.0, \"acceleration\": 7.4, \"launch\": 5.5, \"braking\": 7.9, \"Offroad\": 4.6, \"Horse_Power\": 295.0, \"Weight_lbs\": 1962.0}, {\"Car_Image\": \"https://www.kudosprime.com/fh5/images/cars/side/fh5_car_170.jpg?v=1\", \"Name_and_model\": \"1999 Ford Racing Puma\", \"Model_type\": \"RETRO RALLY\", \"In_Game_Price\": \"20,000\", \"car_source\": \"Autoshow\", \"stock_specs\": \"C\", \"Stock_Rating\": 514.0, \"Drive_Type\": \"FWD\", \"speed\": 4.9, \"handling\": 4.6, \"acceleration\": 3.5, \"launch\": 2.7, \"braking\": 3.3, \"Offroad\": 5.0, \"Horse_Power\": 153.0, \"Weight_lbs\": 2588.0}, {\"Car_Image\": \"https://www.kudosprime.com/fh5/images/cars/side/fh5_car_513.jpg?v=1\", \"Name_and_model\": \"1999 Ford Racing Puma Forza Edition\", \"Model_type\": \"RALLY MONSTERS\", \"In_Game_Price\": \"500,000\", \"car_source\": \"Other\", \"stock_specs\": \"S1\", \"Stock_Rating\": 900.0, \"Drive_Type\": \"AWD\", \"speed\": 5.7, \"handling\": 6.3, \"acceleration\": 9.4, \"launch\": 6.0, \"braking\": 5.8, \"Offroad\": 8.0, \"Horse_Power\": 506.0, \"Weight_lbs\": 2194.0}, {\"Car_Image\": \"https://www.kudosprime.com/fh5/images/cars/side/fh5_car_171.jpg?v=1\", \"Name_and_model\": \"2000 Ford SVT Cobra R\", \"Model_type\": \"RETRO MUSCLE\", \"In_Game_Price\": \"55,000\", \"car_source\": \"Autoshow\", \"stock_specs\": \"B\", \"Stock_Rating\": 648.0, \"Drive_Type\": \"RWD\", \"speed\": 6.7, \"handling\": 5.0, \"acceleration\": 4.0, \"launch\": 4.0, \"braking\": 3.4, \"Offroad\": 4.5, \"Horse_Power\": 385.0, \"Weight_lbs\": 3589.0}, {\"Car_Image\": \"https://www.kudosprime.com/fh5/images/cars/side/fh5_car_172.jpg?v=1\", \"Name_and_model\": \"2003 Ford Focus RS\", \"Model_type\": \"HOT HATCH\", \"In_Game_Price\": \"30,000\", \"car_source\": \"Autoshow\", \"stock_specs\": \"C\", \"Stock_Rating\": 593.0, \"Drive_Type\": \"FWD\", \"speed\": 5.1, \"handling\": 5.1, \"acceleration\": 4.1, \"launch\": 3.6, \"braking\": 3.5, \"Offroad\": 4.6, \"Horse_Power\": 212.0, \"Weight_lbs\": 2822.0}, {\"Car_Image\": \"https://www.kudosprime.com/fh5/images/cars/side/fh5_car_173.jpg?v=1\", \"Name_and_model\": \"2005 Ford GT\", \"Model_type\": \"RETRO SUPERCARS\", \"In_Game_Price\": \"300,000\", \"car_source\": \"Wheelspin\", \"stock_specs\": \"A\", \"Stock_Rating\": 786.0, \"Drive_Type\": \"RWD\", \"speed\": 7.7, \"handling\": 6.6, \"acceleration\": 4.7, \"launch\": 3.3, \"braking\": 5.3, \"Offroad\": 5.1, \"Horse_Power\": 550.0, \"Weight_lbs\": 3390.0}, {\"Car_Image\": \"https://www.kudosprime.com/fh5/images/cars/side/fh5_car_174.jpg?v=1\", \"Name_and_model\": \"2009 Ford Focus RS\", \"Model_type\": \"SUPER HOT HATCH\", \"In_Game_Price\": \"25,000\", \"car_source\": \"Autoshow\", \"stock_specs\": \"B\", \"Stock_Rating\": 660.0, \"Drive_Type\": \"FWD\", \"speed\": 5.6, \"handling\": 5.5, \"acceleration\": 4.4, \"launch\": 4.5, \"braking\": 3.9, \"Offroad\": 4.7, \"Horse_Power\": 300.0, \"Weight_lbs\": 3236.0}, {\"Car_Image\": \"https://www.kudosprime.com/fh5/images/cars/side/fh5_car_175.jpg?v=1\", \"Name_and_model\": \"2010 Ford Crown Victoria Police Interceptor\", \"Model_type\": \"RETRO MUSCLE\", \"In_Game_Price\": \"25,000\", \"car_source\": \"Autoshow\", \"stock_specs\": \"D\", \"Stock_Rating\": 462.0, \"Drive_Type\": \"RWD\", \"speed\": 5.2, \"handling\": 4.1, \"acceleration\": 3.1, \"launch\": 1.9, \"braking\": 2.5, \"Offroad\": 5.6, \"Horse_Power\": 250.0, \"Weight_lbs\": 4057.0}, {\"Car_Image\": \"https://www.kudosprime.com/fh5/images/cars/side/fh5_car_176.jpg?v=1\", \"Name_and_model\": \"2011 Ford F-150 SVT Raptor\", \"Model_type\": \"PICK-UP & 4X4'S\", \"In_Game_Price\": \"42,000\", \"car_source\": \"Autoshow\", \"stock_specs\": \"C\", \"Stock_Rating\": 518.0, \"Drive_Type\": \"AWD\", \"speed\": 5.3, \"handling\": 3.3, \"acceleration\": 4.1, \"launch\": 3.1, \"braking\": 2.8, \"Offroad\": 8.6, \"Horse_Power\": 411.0, \"Weight_lbs\": 6006.0}, {\"Car_Image\": \"https://www.kudosprime.com/fh5/images/cars/side/fh5_car_177.jpg?v=1\", \"Name_and_model\": \"2011 Ford Transit SuperSportVan\", \"Model_type\": \"VANS AND UTILITY\", \"In_Game_Price\": \"50,000\", \"car_source\": \"Autoshow\", \"stock_specs\": \"D\", \"Stock_Rating\": 347.0, \"Drive_Type\": \"RWD\", \"speed\": 4.5, \"handling\": 4.0, \"acceleration\": 2.7, \"launch\": 3.1, \"braking\": 2.3, \"Offroad\": 5.4, \"Horse_Power\": 198.0, \"Weight_lbs\": 4493.0}, {\"Car_Image\": \"https://www.kudosprime.com/fh5/images/cars/side/fh5_car_178.jpg?v=1\", \"Name_and_model\": \"2013 Ford Shelby GT500\", \"Model_type\": \"MODERN MUSCLE\", \"In_Game_Price\": \"115,000\", \"car_source\": \"Autoshow\", \"stock_specs\": \"A\", \"Stock_Rating\": 756.0, \"Drive_Type\": \"RWD\", \"speed\": 7.4, \"handling\": 5.2, \"acceleration\": 4.7, \"launch\": 4.6, \"braking\": 4.3, \"Offroad\": 4.9, \"Horse_Power\": 662.0, \"Weight_lbs\": 3898.0}, {\"Car_Image\": \"https://www.kudosprime.com/fh5/images/cars/side/fh5_car_181.jpg?v=1\", \"Name_and_model\": \"2014 Ford #11 Rockstar F-150 Trophy Truck\", \"Model_type\": \"UNLIMITED OFFROAD\", \"In_Game_Price\": \"500,000\", \"car_source\": \"Autoshow\", \"stock_specs\": \"A\", \"Stock_Rating\": 731.0, \"Drive_Type\": \"RWD\", \"speed\": 5.6, \"handling\": 3.3, \"acceleration\": 4.6, \"launch\": 4.5, \"braking\": 4.8, \"Offroad\": 9.1, \"Horse_Power\": 850.0, \"Weight_lbs\": 6250.0}, {\"Car_Image\": \"https://www.kudosprime.com/fh5/images/cars/side/fh5_car_180.jpg?v=1\", \"Name_and_model\": \"2014 Ford Ranger T6 Rally Raid\", \"Model_type\": \"OFFROAD\", \"In_Game_Price\": \"250,000\", \"car_source\": \"Autoshow\", \"stock_specs\": \"B\", \"Stock_Rating\": 643.0, \"Drive_Type\": \"AWD\", \"speed\": 4.4, \"handling\": 4.8, \"acceleration\": 5.4, \"launch\": 7.8, \"braking\": 4.0, \"Offroad\": 8.4, \"Horse_Power\": 349.0, \"Weight_lbs\": 4354.0}, {\"Car_Image\": \"https://www.kudosprime.com/fh5/images/cars/side/fh5_car_189.jpg?v=1\", \"Name_and_model\": \"2017 Ford #14 Rahal Letterman Lanigan Racing GRC Fiesta\", \"Model_type\": \"RALLY MONSTERS\", \"In_Game_Price\": \"500,000\", \"car_source\": \"Wheelspin\", \"stock_specs\": \"S1\", \"Stock_Rating\": 860.0, \"Drive_Type\": \"AWD\", \"speed\": 5.0, \"handling\": 5.6, \"acceleration\": 9.2, \"launch\": 10.0, \"braking\": 5.9, \"Offroad\": 7.6, \"Horse_Power\": 600.0, \"Weight_lbs\": 2746.0}, {\"Car_Image\": \"https://www.kudosprime.com/fh5/images/cars/side/fh5_car_190.jpg?v=1\", \"Name_and_model\": \"2017 Ford #25 'Brocky' Ultra4 Bronco RTR\", \"Model_type\": \"UNLIMITED OFFROAD\", \"In_Game_Price\": \"500,000\", \"car_source\": \"Autoshow\", \"stock_specs\": \"A\", \"Stock_Rating\": 748.0, \"Drive_Type\": \"AWD\", \"speed\": 4.7, \"handling\": 4.1, \"acceleration\": 6.1, \"launch\": 5.2, \"braking\": 5.2, \"Offroad\": 10.0, \"Horse_Power\": 600.0, \"Weight_lbs\": 4500.0}, {\"Car_Image\": \"https://www.kudosprime.com/fh5/images/cars/side/fh5_car_186.jpg?v=1\", \"Name_and_model\": \"2017 Ford Focus RS\", \"Model_type\": \"SUPER HOT HATCH\", \"In_Game_Price\": \"59,000\", \"car_source\": \"Autoshow\", \"stock_specs\": \"A\", \"Stock_Rating\": 702.0, \"Drive_Type\": \"AWD\", \"speed\": 6.2, \"handling\": 6.0, \"acceleration\": 5.8, \"launch\": 3.7, \"braking\": 4.2, \"Offroad\": 5.5, \"Horse_Power\": 350.0, \"Weight_lbs\": 3446.0}, {\"Car_Image\": \"https://www.kudosprime.com/fh5/images/cars/side/fh5_car_187.jpg?v=1\", \"Name_and_model\": \"2017 Ford GT\", \"Model_type\": \"MODERN SUPERCARS\", \"In_Game_Price\": \"400,000\", \"car_source\": \"Autoshow\", \"stock_specs\": \"S1\", \"Stock_Rating\": 863.0, \"Drive_Type\": \"RWD\", \"speed\": 8.3, \"handling\": 7.1, \"acceleration\": 6.6, \"launch\": 3.6, \"braking\": 8.5, \"Offroad\": 4.4, \"Horse_Power\": 630.0, \"Weight_lbs\": 3353.0}, {\"Car_Image\": \"https://www.kudosprime.com/fh5/images/cars/side/fh5_car_185.jpg?v=1\", \"Name_and_model\": \"2017 Ford M-Sport Fiesta RS\", \"Model_type\": \"RALLY MONSTERS\", \"In_Game_Price\": \"500,000\", \"car_source\": \"Autoshow\", \"stock_specs\": \"S1\", \"Stock_Rating\": 808.0, \"Drive_Type\": \"AWD\", \"speed\": 5.1, \"handling\": 6.1, \"acceleration\": 8.7, \"launch\": 9.7, \"braking\": 6.1, \"Offroad\": 8.5, \"Horse_Power\": 375.0, \"Weight_lbs\": 2800.0}, {\"Car_Image\": \"https://www.kudosprime.com/fh5/images/cars/side/fh5_car_191.jpg?v=1\", \"Name_and_model\": \"2018 Ford #25 Mustang RTR\", \"Model_type\": \"DRIFT CARS\", \"In_Game_Price\": \"500,000\", \"car_source\": \"Autoshow\", \"stock_specs\": \"S1\", \"Stock_Rating\": 834.0, \"Drive_Type\": \"RWD\", \"speed\": 5.9, \"handling\": 5.3, \"acceleration\": 5.2, \"launch\": 5.5, \"braking\": 4.7, \"Offroad\": 4.0, \"Horse_Power\": 1000.0, \"Weight_lbs\": 3100.0}, {\"Car_Image\": \"https://www.kudosprime.com/fh5/images/cars/side/fh5_car_194.jpg?v=1\", \"Name_and_model\": \"2018 Ford #88 Mustang RTR\", \"Model_type\": \"DRIFT CARS\", \"In_Game_Price\": \"500,000\", \"car_source\": \"Autoshow\", \"stock_specs\": \"S1\", \"Stock_Rating\": 834.0, \"Drive_Type\": \"RWD\", \"speed\": 5.9, \"handling\": 5.3, \"acceleration\": 5.2, \"launch\": 5.5, \"braking\": 4.7, \"Offroad\": 4.1, \"Horse_Power\": 1000.0, \"Weight_lbs\": 3100.0}, {\"Car_Image\": \"https://www.kudosprime.com/fh5/images/cars/side/fh5_car_195.jpg?v=1\", \"Name_and_model\": \"2019 Ford Ranger Raptor\", \"Model_type\": \"PICK-UP & 4X4'S\", \"In_Game_Price\": \"58,000\", \"car_source\": \"Wheelspin\", \"stock_specs\": \"D\", \"Stock_Rating\": 451.0, \"Drive_Type\": \"AWD\", \"speed\": 4.5, \"handling\": 3.3, \"acceleration\": 2.7, \"launch\": 4.9, \"braking\": 3.1, \"Offroad\": 8.6, \"Horse_Power\": 211.0, \"Weight_lbs\": 5141.0}, {\"Car_Image\": \"https://www.kudosprime.com/fh5/images/cars/side/fh5_car_197.jpg?v=2\", \"Name_and_model\": \"2020 Ford #2069 Ford Performance Bronco R\", \"Model_type\": \"OFFROAD\", \"In_Game_Price\": \"250,000\", \"car_source\": \"Autoshow\", \"stock_specs\": \"C\", \"Stock_Rating\": 544.0, \"Drive_Type\": \"AWD\", \"speed\": 4.2, \"handling\": 4.1, \"acceleration\": 3.2, \"launch\": 5.2, \"braking\": 4.8, \"Offroad\": 10.0, \"Horse_Power\": 325.0, \"Weight_lbs\": 4475.0}, {\"Car_Image\": \"https://www.kudosprime.com/fh5/images/cars/side/fh5_car_201.jpg?v=1\", \"Name_and_model\": \"1989 Formula Drift #98 BMW 325i\", \"Model_type\": \"DRIFT CARS\", \"In_Game_Price\": \"300,000\", \"car_source\": \"Autoshow\", \"stock_specs\": \"S1\", \"Stock_Rating\": 813.0, \"Drive_Type\": \"RWD\", \"speed\": 6.9, \"handling\": 5.1, \"acceleration\": 5.0, \"launch\": 5.2, \"braking\": 4.2, \"Offroad\": 4.1, \"Horse_Power\": 750.0, \"Weight_lbs\": 2800.0}, {\"Car_Image\": \"https://www.kudosprime.com/fh5/images/cars/side/fh5_car_536.jpg?v=1\", \"Name_and_model\": \"1995 Formula Drift #34 Toyota Supra MKIV\", \"Model_type\": \"DRIFT CARS\", \"In_Game_Price\": \"0\", \"car_source\": \"Autoshow\", \"stock_specs\": \"S1\", \"Stock_Rating\": 845.0, \"Drive_Type\": \"RWD\", \"speed\": 7.7, \"handling\": 5.6, \"acceleration\": 5.2, \"launch\": 3.7, \"braking\": 5.6, \"Offroad\": 4.2, \"Horse_Power\": 1035.0, \"Weight_lbs\": 2849.0}, {\"Car_Image\": \"https://www.kudosprime.com/fh5/images/cars/side/fh5_car_202.jpg?v=1\", \"Name_and_model\": \"1997 Formula Drift #777 Nissan 240SX\", \"Model_type\": \"DRIFT CARS\", \"In_Game_Price\": \"300,000\", \"car_source\": \"Autoshow\", \"stock_specs\": \"S1\", \"Stock_Rating\": 826.0, \"Drive_Type\": \"RWD\", \"speed\": 6.7, \"handling\": 5.3, \"acceleration\": 5.2, \"launch\": 5.5, \"braking\": 4.4, \"Offroad\": 4.0, \"Horse_Power\": 1251.0, \"Weight_lbs\": 3100.0}, {\"Car_Image\": \"https://www.kudosprime.com/fh5/images/cars/side/fh5_car_203.jpg?v=1\", \"Name_and_model\": \"2006 Formula Drift #43 Dodge Viper SRT10\", \"Model_type\": \"DRIFT CARS\", \"In_Game_Price\": \"300,000\", \"car_source\": \"Autoshow\", \"stock_specs\": \"S1\", \"Stock_Rating\": 826.0, \"Drive_Type\": \"RWD\", \"speed\": 7.3, \"handling\": 5.4, \"acceleration\": 5.3, \"launch\": 5.6, \"braking\": 4.9, \"Offroad\": 3.7, \"Horse_Power\": 1350.0, \"Weight_lbs\": 2900.0}, {\"Car_Image\": \"https://www.kudosprime.com/fh5/images/cars/side/fh5_car_204.jpg?v=1\", \"Name_and_model\": \"2007 Formula Drift #117 599 GTB Fiorano\", \"Model_type\": \"DRIFT CARS\", \"In_Game_Price\": \"500,000\", \"car_source\": \"Autoshow\", \"stock_specs\": \"S1\", \"Stock_Rating\": 852.0, \"Drive_Type\": \"RWD\", \"speed\": 6.8, \"handling\": 5.3, \"acceleration\": 5.7, \"launch\": 6.1, \"braking\": 4.7, \"Offroad\": 4.4, \"Horse_Power\": 917.0, \"Weight_lbs\": 3200.0}, {\"Car_Image\": \"https://www.kudosprime.com/fh5/images/cars/side/fh5_car_537.jpg?v=1\", \"Name_and_model\": \"2009 Formula Drift #99 Mazda RX-8\", \"Model_type\": \"DRIFT CARS\", \"In_Game_Price\": \"0\", \"car_source\": \"Autoshow\", \"stock_specs\": \"S1\", \"Stock_Rating\": 829.0, \"Drive_Type\": \"RWD\", \"speed\": 6.7, \"handling\": 5.4, \"acceleration\": 4.7, \"launch\": 3.2, \"braking\": 4.5, \"Offroad\": 4.0, \"Horse_Power\": 1000.0, \"Weight_lbs\": 2824.0}, {\"Car_Image\": \"https://www.kudosprime.com/fh5/images/cars/side/fh5_car_205.jpg?v=1\", \"Name_and_model\": \"2013 Formula Drift #777 Chevrolet Corvette\", \"Model_type\": \"DRIFT CARS\", \"In_Game_Price\": \"300,000\", \"car_source\": \"Autoshow\", \"stock_specs\": \"S1\", \"Stock_Rating\": 848.0, \"Drive_Type\": \"RWD\", \"speed\": 6.4, \"handling\": 5.5, \"acceleration\": 5.1, \"launch\": 5.4, \"braking\": 4.8, \"Offroad\": 3.6, \"Horse_Power\": 1050.0, \"Weight_lbs\": 3000.0}, {\"Car_Image\": \"https://www.kudosprime.com/fh5/images/cars/side/fh5_car_206.jpg?v=1\", \"Name_and_model\": \"2015 Formula Drift #13 Ford Mustang\", \"Model_type\": \"DRIFT CARS\", \"In_Game_Price\": \"300,000\", \"car_source\": \"Autoshow\", \"stock_specs\": \"S1\", \"Stock_Rating\": 825.0, \"Drive_Type\": \"RWD\", \"speed\": 5.8, \"handling\": 5.4, \"acceleration\": 5.1, \"launch\": 5.4, \"braking\": 4.7, \"Offroad\": 4.1, \"Horse_Power\": 986.0, \"Weight_lbs\": 3100.0}, {\"Car_Image\": \"https://www.kudosprime.com/fh5/images/cars/side/fh5_car_207.jpg?v=1\", \"Name_and_model\": \"2016 Formula Drift #530 HSV Maloo GEN-F\", \"Model_type\": \"DRIFT CARS\", \"In_Game_Price\": \"300,000\", \"car_source\": \"Autoshow\", \"stock_specs\": \"S1\", \"Stock_Rating\": 808.0, \"Drive_Type\": \"RWD\", \"speed\": 7.6, \"handling\": 5.3, \"acceleration\": 4.6, \"launch\": 4.8, \"braking\": 4.3, \"Offroad\": 4.1, \"Horse_Power\": 1000.0, \"Weight_lbs\": 2899.0}, {\"Car_Image\": \"https://www.kudosprime.com/fh5/images/cars/side/fh5_car_532.jpg?v=1\", \"Name_and_model\": \"2017 Formula Drift #357 Chevrolet Corvette\", \"Model_type\": \"DRIFT CARS\", \"In_Game_Price\": \"0\", \"car_source\": \"Autoshow\", \"stock_specs\": \"S1\", \"Stock_Rating\": 835.0, \"Drive_Type\": \"RWD\", \"speed\": 8.9, \"handling\": 5.5, \"acceleration\": 5.1, \"launch\": 5.4, \"braking\": 4.9, \"Offroad\": 4.4, \"Horse_Power\": 825.0, \"Weight_lbs\": 2939.0}, {\"Car_Image\": \"https://www.kudosprime.com/fh5/images/cars/side/fh5_car_208.jpg?v=1\", \"Name_and_model\": \"2018 Formula Drift #64 Nissan 370Z\", \"Model_type\": \"DRIFT CARS\", \"In_Game_Price\": \"300,000\", \"car_source\": \"Autoshow\", \"stock_specs\": \"S1\", \"Stock_Rating\": 843.0, \"Drive_Type\": \"RWD\", \"speed\": 7.3, \"handling\": 5.4, \"acceleration\": 5.2, \"launch\": 5.5, \"braking\": 4.4, \"Offroad\": 4.0, \"Horse_Power\": 1015.0, \"Weight_lbs\": 2866.0}, {\"Car_Image\": \"https://www.kudosprime.com/fh5/images/cars/side/fh5_car_535.jpg?v=1\", \"Name_and_model\": \"2019 Formula Drift #411 Toyota Corolla Hatchback\", \"Model_type\": \"DRIFT CARS\", \"In_Game_Price\": \"0\", \"car_source\": \"Autoshow\", \"stock_specs\": \"S1\", \"Stock_Rating\": 840.0, \"Drive_Type\": \"RWD\", \"speed\": 7.0, \"handling\": 5.2, \"acceleration\": 5.0, \"launch\": 5.2, \"braking\": 5.5, \"Offroad\": 4.2, \"Horse_Power\": 1185.0, \"Weight_lbs\": 3156.0}, {\"Car_Image\": \"https://www.kudosprime.com/fh5/images/cars/side/fh5_car_534.jpg?v=1\", \"Name_and_model\": \"2020 Formula Drift #151 Toyota GR Supra\", \"Model_type\": \"DRIFT CARS\", \"In_Game_Price\": \"0\", \"car_source\": \"Autoshow\", \"stock_specs\": \"S1\", \"Stock_Rating\": 863.0, \"Drive_Type\": \"RWD\", \"speed\": 6.2, \"handling\": 5.3, \"acceleration\": 5.5, \"launch\": 3.6, \"braking\": 5.6, \"Offroad\": 4.1, \"Horse_Power\": 1033.0, \"Weight_lbs\": 3156.0}, {\"Car_Image\": \"https://www.kudosprime.com/fh5/images/cars/side/fh5_car_533.jpg?v=1\", \"Name_and_model\": \"2020 Formula Drift #91 BMW M2\", \"Model_type\": \"DRIFT CARS\", \"In_Game_Price\": \"0\", \"car_source\": \"Autoshow\", \"stock_specs\": \"S1\", \"Stock_Rating\": 839.0, \"Drive_Type\": \"RWD\", \"speed\": 6.7, \"handling\": 5.3, \"acceleration\": 5.2, \"launch\": 5.6, \"braking\": 5.0, \"Offroad\": 3.9, \"Horse_Power\": 822.0, \"Weight_lbs\": 2849.0}, {\"Car_Image\": \"https://www.kudosprime.com/fh5/images/cars/side/fh5_car_209.jpg?v=1\", \"Name_and_model\": \"2018 Funco Motorsports F9\", \"Model_type\": \"UNLIMITED BUGGIES\", \"In_Game_Price\": \"500,000\", \"car_source\": \"Wheelspin\", \"stock_specs\": \"S1\", \"Stock_Rating\": 821.0, \"Drive_Type\": \"RWD\", \"speed\": 5.2, \"handling\": 2.9, \"acceleration\": 7.6, \"launch\": 8.5, \"braking\": 5.1, \"Offroad\": 8.8, \"Horse_Power\": 1750.0, \"Weight_lbs\": 2800.0}, {\"Car_Image\": \"https://www.kudosprime.com/fh5/images/cars/side/fh5_car_524.jpg?v=1\", \"Name_and_model\": \"1984 Honda Civic CRX Mugen\", \"Model_type\": \"RETRO HOT HATCH\", \"In_Game_Price\": \"40,000\", \"car_source\": \"Season Event\", \"stock_specs\": \"D\", \"Stock_Rating\": 499.0, \"Drive_Type\": \"FWD\", \"speed\": 4.8, \"handling\": 4.7, \"acceleration\": 3.0, \"launch\": 1.8, \"braking\": 2.6, \"Offroad\": 4.6, \"Horse_Power\": 120.0, \"Weight_lbs\": 1819.0}, {\"Car_Image\": \"https://www.kudosprime.com/fh5/images/cars/side/fh5_car_218.jpg?v=1\", \"Name_and_model\": \"1992 Honda NSX-R\", \"Model_type\": \"RETRO SPORTS CARS\", \"In_Game_Price\": \"90,000\", \"car_source\": \"Autoshow\", \"stock_specs\": \"B\", \"Stock_Rating\": 691.0, \"Drive_Type\": \"RWD\", \"speed\": 6.2, \"handling\": 6.1, \"acceleration\": 4.9, \"launch\": 3.8, \"braking\": 4.3, \"Offroad\": 4.6, \"Horse_Power\": 276.0, \"Weight_lbs\": 2712.0}, {\"Car_Image\": \"https://www.kudosprime.com/fh5/images/cars/side/fh5_car_220.jpg?v=1\", \"Name_and_model\": \"1997 Honda Civic Type R\", \"Model_type\": \"RETRO HOT HATCH\", \"In_Game_Price\": \"25,000\", \"car_source\": \"Autoshow\", \"stock_specs\": \"C\", \"Stock_Rating\": 553.0, \"Drive_Type\": \"FWD\", \"speed\": 5.5, \"handling\": 4.8, \"acceleration\": 3.7, \"launch\": 3.0, \"braking\": 3.0, \"Offroad\": 4.7, \"Horse_Power\": 182.0, \"Weight_lbs\": 2403.0}, {\"Car_Image\": \"https://www.kudosprime.com/fh5/images/cars/side/fh5_car_221.jpg?v=1\", \"Name_and_model\": \"2003 Honda S2000\", \"Model_type\": \"MODERN SPORTS CARS\", \"In_Game_Price\": \"25,000\", \"car_source\": \"Autoshow\", \"stock_specs\": \"B\", \"Stock_Rating\": 630.0, \"Drive_Type\": \"RWD\", \"speed\": 6.0, \"handling\": 5.4, \"acceleration\": 4.2, \"launch\": 3.7, \"braking\": 3.3, \"Offroad\": 5.0, \"Horse_Power\": 247.0, \"Weight_lbs\": 2756.0}, {\"Car_Image\": \"https://www.kudosprime.com/fh5/images/cars/side/fh5_car_222.jpg?v=1\", \"Name_and_model\": \"2004 Honda Civic Type R\", \"Model_type\": \"RETRO HOT HATCH\", \"In_Game_Price\": \"25,000\", \"car_source\": \"Autoshow\", \"stock_specs\": \"C\", \"Stock_Rating\": 600.0, \"Drive_Type\": \"FWD\", \"speed\": 5.4, \"handling\": 5.0, \"acceleration\": 4.1, \"launch\": 3.7, \"braking\": 3.5, \"Offroad\": 5.1, \"Horse_Power\": 212.0, \"Weight_lbs\": 2624.0}, {\"Car_Image\": \"https://www.kudosprime.com/fh5/images/cars/side/fh5_car_223.jpg?v=1\", \"Name_and_model\": \"2005 Honda NSX-R\", \"Model_type\": \"RETRO SPORTS CARS\", \"In_Game_Price\": \"150,000\", \"car_source\": \"Autoshow\", \"stock_specs\": \"B\", \"Stock_Rating\": 691.0, \"Drive_Type\": \"RWD\", \"speed\": 6.4, \"handling\": 5.8, \"acceleration\": 5.0, \"launch\": 3.8, \"braking\": 4.7, \"Offroad\": 4.9, \"Horse_Power\": 290.0, \"Weight_lbs\": 2800.0}, {\"Car_Image\": \"https://www.kudosprime.com/fh5/images/cars/side/fh5_car_224.jpg?v=1\", \"Name_and_model\": \"2005 Honda NSX-R GT\", \"Model_type\": \"RETRO SPORTS CARS\", \"In_Game_Price\": \"500,000\", \"car_source\": \"Season Event\", \"stock_specs\": \"A\", \"Stock_Rating\": 725.0, \"Drive_Type\": \"RWD\", \"speed\": 6.4, \"handling\": 6.7, \"acceleration\": 5.6, \"launch\": 4.4, \"braking\": 5.6, \"Offroad\": 4.5, \"Horse_Power\": 276.0, \"Weight_lbs\": 2800.0}, {\"Car_Image\": \"https://www.kudosprime.com/fh5/images/cars/side/fh5_car_225.jpg?v=1\", \"Name_and_model\": \"2007 Honda Civic Type R\", \"Model_type\": \"HOT HATCH\", \"In_Game_Price\": \"20,000\", \"car_source\": \"Autoshow\", \"stock_specs\": \"C\", \"Stock_Rating\": 574.0, \"Drive_Type\": \"FWD\", \"speed\": 5.3, \"handling\": 5.4, \"acceleration\": 4.0, \"launch\": 3.2, \"braking\": 3.7, \"Offroad\": 5.2, \"Horse_Power\": 198.0, \"Weight_lbs\": 2965.0}, {\"Car_Image\": \"https://www.kudosprime.com/fh5/images/cars/side/fh5_car_226.jpg?v=1\", \"Name_and_model\": \"2009 Honda S2000 CR\", \"Model_type\": \"MODERN SPORTS CARS\", \"In_Game_Price\": \"25,000\", \"car_source\": \"Autoshow\", \"stock_specs\": \"B\", \"Stock_Rating\": 635.0, \"Drive_Type\": \"RWD\", \"speed\": 5.7, \"handling\": 5.7, \"acceleration\": 4.6, \"launch\": 3.7, \"braking\": 3.7, \"Offroad\": 5.0, \"Horse_Power\": 237.0, \"Weight_lbs\": 2813.0}, {\"Car_Image\": \"https://www.kudosprime.com/fh5/images/cars/side/fh5_car_228.jpg?v=2\", \"Name_and_model\": \"2016 Honda Civic Coupe\", \"Model_type\": \"RALLY MONSTERS\", \"In_Game_Price\": \"155,000\", \"car_source\": \"Season Event\", \"stock_specs\": \"S1\", \"Stock_Rating\": 861.0, \"Drive_Type\": \"AWD\", \"speed\": 5.0, \"handling\": 5.6, \"acceleration\": 9.2, \"launch\": 8.4, \"braking\": 5.8, \"Offroad\": 7.3, \"Horse_Power\": 600.0, \"Weight_lbs\": 2746.0}, {\"Car_Image\": \"https://www.kudosprime.com/fh5/images/cars/side/fh5_car_538.jpg?v=1\", \"Name_and_model\": \"2016 Honda Civic Type R\", \"Model_type\": \"SUPER HOT HATCH\", \"In_Game_Price\": \"38,000\", \"car_source\": \"Autoshow\", \"stock_specs\": \"B\", \"Stock_Rating\": 699.0, \"Drive_Type\": \"FWD\", \"speed\": 6.5, \"handling\": 6.0, \"acceleration\": 4.7, \"launch\": 4.8, \"braking\": 4.3, \"Offroad\": 4.6, \"Horse_Power\": 306.0, \"Weight_lbs\": 3047.0}, {\"Car_Image\": \"https://www.kudosprime.com/fh5/images/cars/side/fh5_car_229.jpg?v=1\", \"Name_and_model\": \"2018 Honda Civic Type R\", \"Model_type\": \"SUPER HOT HATCH\", \"In_Game_Price\": \"59,000\", \"car_source\": \"Autoshow\", \"stock_specs\": \"A\", \"Stock_Rating\": 727.0, \"Drive_Type\": \"FWD\", \"speed\": 6.8, \"handling\": 6.0, \"acceleration\": 4.6, \"launch\": 4.8, \"braking\": 4.6, \"Offroad\": 4.6, \"Horse_Power\": 306.0, \"Weight_lbs\": 3117.0}, {\"Car_Image\": \"https://www.kudosprime.com/fh5/images/cars/side/fh5_car_230.jpg?v=1\", \"Name_and_model\": \"1955 Hoonigan Chevrolet Bel Air\", \"Model_type\": \"RODS AND CUSTOMS\", \"In_Game_Price\": \"76,000\", \"car_source\": \"Autoshow\", \"stock_specs\": \"B\", \"Stock_Rating\": 621.0, \"Drive_Type\": \"RWD\", \"speed\": 5.7, \"handling\": 3.8, \"acceleration\": 4.1, \"launch\": 3.1, \"braking\": 3.0, \"Offroad\": 6.4, \"Horse_Power\": 410.0, \"Weight_lbs\": 3244.0}, {\"Car_Image\": \"https://www.kudosprime.com/fh5/images/cars/side/fh5_car_231.jpg?v=1\", \"Name_and_model\": \"1965 Hoonigan Ford \\\"Hoonicorn\\\" Mustang\", \"Model_type\": \"DRIFT CARS\", \"In_Game_Price\": \"500,000\", \"car_source\": \"Autoshow\", \"stock_specs\": \"S2\", \"Stock_Rating\": 951.0, \"Drive_Type\": \"AWD\", \"speed\": 9.2, \"handling\": 6.7, \"acceleration\": 10.0, \"launch\": 7.4, \"braking\": 5.9, \"Offroad\": 5.5, \"Horse_Power\": 1400.0, \"Weight_lbs\": 2998.0}, {\"Car_Image\": \"https://www.kudosprime.com/fh5/images/cars/side/fh5_car_232.jpg?v=1\", \"Name_and_model\": \"1965 Hoonigan GYMKHANA 10 Ford Hoonicorn Mustang\", \"Model_type\": \"DRIFT CARS\", \"In_Game_Price\": \"500,000\", \"car_source\": \"Season Event\", \"stock_specs\": \"S2\", \"Stock_Rating\": 952.0, \"Drive_Type\": \"AWD\", \"speed\": 8.8, \"handling\": 6.6, \"acceleration\": 10.0, \"launch\": 7.7, \"braking\": 5.9, \"Offroad\": 5.4, \"Horse_Power\": 1400.0, \"Weight_lbs\": 2998.0}, {\"Car_Image\": \"https://www.kudosprime.com/fh5/images/cars/side/fh5_car_233.jpg?v=1\", \"Name_and_model\": \"1972 Hoonigan Chevrolet Napalm Nova\", \"Model_type\": \"CLASSIC MUSCLE\", \"In_Game_Price\": \"50,000\", \"car_source\": \"Autoshow\", \"stock_specs\": \"A\", \"Stock_Rating\": 731.0, \"Drive_Type\": \"RWD\", \"speed\": 6.7, \"handling\": 5.2, \"acceleration\": 5.0, \"launch\": 5.3, \"braking\": 4.7, \"Offroad\": 5.0, \"Horse_Power\": 475.0, \"Weight_lbs\": 3566.0}, {\"Car_Image\": \"https://www.kudosprime.com/fh5/images/cars/side/fh5_car_234.jpg?v=1\", \"Name_and_model\": \"1977 Hoonigan GYMKHANA 10 Ford F-150 \\\"Hoonitruck\\\"\", \"Model_type\": \"DRIFT CARS\", \"In_Game_Price\": \"500,000\", \"car_source\": \"Autoshow\", \"stock_specs\": \"S1\", \"Stock_Rating\": 896.0, \"Drive_Type\": \"AWD\", \"speed\": 6.2, \"handling\": 6.5, \"acceleration\": 7.9, \"launch\": 8.7, \"braking\": 6.7, \"Offroad\": 5.7, \"Horse_Power\": 914.0, \"Weight_lbs\": 3210.0}, {\"Car_Image\": \"https://www.kudosprime.com/fh5/images/cars/side/fh5_car_235.jpg?v=1\", \"Name_and_model\": \"1978 Hoonigan Ford Escort RS1800\", \"Model_type\": \"RALLY MONSTERS\", \"In_Game_Price\": \"300,000\", \"car_source\": \"Autoshow\", \"stock_specs\": \"S1\", \"Stock_Rating\": 820.0, \"Drive_Type\": \"RWD\", \"speed\": 6.2, \"handling\": 6.7, \"acceleration\": 5.7, \"launch\": 6.1, \"braking\": 6.3, \"Offroad\": 4.2, \"Horse_Power\": 333.0, \"Weight_lbs\": 1846.0}, {\"Car_Image\": \"https://www.kudosprime.com/fh5/images/cars/side/fh5_car_236.jpg?v=1\", \"Name_and_model\": \"1986 Hoonigan Ford RS200 Evolution\", \"Model_type\": \"RALLY MONSTERS\", \"In_Game_Price\": \"500,000\", \"car_source\": \"Autoshow\", \"stock_specs\": \"S2\", \"Stock_Rating\": 904.0, \"Drive_Type\": \"AWD\", \"speed\": 7.6, \"handling\": 6.5, \"acceleration\": 9.5, \"launch\": 5.1, \"braking\": 5.3, \"Offroad\": 8.3, \"Horse_Power\": 750.0, \"Weight_lbs\": 2494.0}, {\"Car_Image\": \"https://www.kudosprime.com/fh5/images/cars/side/fh5_car_238.jpg?v=1\", \"Name_and_model\": \"1991 Hoonigan GYMKHANA 10 Ford Escort Cosworth Group A\", \"Model_type\": \"RALLY MONSTERS\", \"In_Game_Price\": \"500,000\", \"car_source\": \"Autoshow\", \"stock_specs\": \"S1\", \"Stock_Rating\": 862.0, \"Drive_Type\": \"AWD\", \"speed\": 7.8, \"handling\": 6.2, \"acceleration\": 9.1, \"launch\": 8.7, \"braking\": 5.3, \"Offroad\": 7.6, \"Horse_Power\": 620.0, \"Weight_lbs\": 2690.0}, {\"Car_Image\": \"https://www.kudosprime.com/fh5/images/cars/side/fh5_car_237.jpg?v=1\", \"Name_and_model\": \"1991 Hoonigan Rauh-Welt Begriff Porsche 911 Turbo\", \"Model_type\": \"RETRO SUPERCARS\", \"In_Game_Price\": \"160,000\", \"car_source\": \"Mastery Tree\", \"stock_specs\": \"S1\", \"Stock_Rating\": 811.0, \"Drive_Type\": \"RWD\", \"speed\": 6.7, \"handling\": 7.7, \"acceleration\": 7.2, \"launch\": 4.1, \"braking\": 5.3, \"Offroad\": 4.0, \"Horse_Power\": 385.0, \"Weight_lbs\": 2976.0}, {\"Car_Image\": \"https://www.kudosprime.com/fh5/images/cars/side/fh5_car_239.jpg?v=1\", \"Name_and_model\": \"1992 Hoonigan Mazda RX-7 Twerkstallion\", \"Model_type\": \"DRIFT CARS\", \"In_Game_Price\": \"50,000\", \"car_source\": \"Mastery Tree\", \"stock_specs\": \"A\", \"Stock_Rating\": 799.0, \"Drive_Type\": \"RWD\", \"speed\": 8.3, \"handling\": 5.8, \"acceleration\": 4.6, \"launch\": 4.7, \"braking\": 4.5, \"Offroad\": 3.8, \"Horse_Power\": 600.0, \"Weight_lbs\": 2866.0}, {\"Car_Image\": \"https://www.kudosprime.com/fh5/images/cars/side/fh5_car_240.jpg?v=1\", \"Name_and_model\": \"1994 Hoonigan Ford Escort RS Cosworth WRC \\u201cCossie V2\\u201d\", \"Model_type\": \"RALLY MONSTERS\", \"In_Game_Price\": \"500,000\", \"car_source\": \"Autoshow\", \"stock_specs\": \"A\", \"Stock_Rating\": 783.0, \"Drive_Type\": \"AWD\", \"speed\": 5.5, \"handling\": 6.1, \"acceleration\": 7.7, \"launch\": 4.0, \"braking\": 5.9, \"Offroad\": 7.4, \"Horse_Power\": 371.0, \"Weight_lbs\": 2822.0}, {\"Car_Image\": \"https://www.kudosprime.com/fh5/images/cars/side/fh5_car_241.jpg?v=1\", \"Name_and_model\": \"2016 Hoonigan GYMKHANA 10 Ford Focus RS RX\", \"Model_type\": \"RALLY MONSTERS\", \"In_Game_Price\": \"500,000\", \"car_source\": \"Wheelspin\", \"stock_specs\": \"S1\", \"Stock_Rating\": 862.0, \"Drive_Type\": \"AWD\", \"speed\": 5.1, \"handling\": 5.7, \"acceleration\": 9.2, \"launch\": 10.0, \"braking\": 6.4, \"Offroad\": 7.2, \"Horse_Power\": 620.0, \"Weight_lbs\": 2690.0}, {\"Car_Image\": \"https://www.kudosprime.com/fh5/images/cars/side/fh5_car_242.jpg?v=1\", \"Name_and_model\": \"1969 Hot Wheels Twin Mill\", \"Model_type\": \"RODS AND CUSTOMS\", \"In_Game_Price\": \"110,000\", \"car_source\": \"Wheelspin\", \"stock_specs\": \"A\", \"Stock_Rating\": 798.0, \"Drive_Type\": \"RWD\", \"speed\": 8.6, \"handling\": 5.2, \"acceleration\": 4.9, \"launch\": 5.2, \"braking\": 4.5, \"Offroad\": 3.8, \"Horse_Power\": 1401.0, \"Weight_lbs\": 4696.0}, {\"Car_Image\": \"https://www.kudosprime.com/fh5/images/cars/side/fh5_car_243.jpg?v=1\", \"Name_and_model\": \"2011 Hot Wheels Bone Shaker\", \"Model_type\": \"RODS AND CUSTOMS\", \"In_Game_Price\": \"150,000\", \"car_source\": \"Autoshow\", \"stock_specs\": \"A\", \"Stock_Rating\": 790.0, \"Drive_Type\": \"RWD\", \"speed\": 6.0, \"handling\": 5.2, \"acceleration\": 5.7, \"launch\": 6.2, \"braking\": 4.9, \"Offroad\": 4.2, \"Horse_Power\": 402.0, \"Weight_lbs\": 2205.0}, {\"Car_Image\": \"https://www.kudosprime.com/fh5/images/cars/side/fh5_car_244.jpg?v=1\", \"Name_and_model\": \"2014 HSV GEN-F GTS\", \"Model_type\": \"MODERN MUSCLE\", \"In_Game_Price\": \"75,000\", \"car_source\": \"Autoshow\", \"stock_specs\": \"A\", \"Stock_Rating\": 721.0, \"Drive_Type\": \"RWD\", \"speed\": 7.0, \"handling\": 5.5, \"acceleration\": 4.8, \"launch\": 4.0, \"braking\": 4.5, \"Offroad\": 4.8, \"Horse_Power\": 577.0, \"Weight_lbs\": 4147.0}, {\"Car_Image\": \"https://www.kudosprime.com/fh5/images/cars/side/fh5_car_245.jpg?v=1\", \"Name_and_model\": \"2014 HSV Limited Edition GEN-F GTS Maloo\", \"Model_type\": \"VANS AND UTILITY\", \"In_Game_Price\": \"62,000\", \"car_source\": \"Autoshow\", \"stock_specs\": \"A\", \"Stock_Rating\": 742.0, \"Drive_Type\": \"RWD\", \"speed\": 6.5, \"handling\": 5.5, \"acceleration\": 4.8, \"launch\": 4.6, \"braking\": 4.8, \"Offroad\": 4.4, \"Horse_Power\": 577.0, \"Weight_lbs\": 4034.0}, {\"Car_Image\": \"https://www.kudosprime.com/fh5/images/cars/side/fh5_car_246.jpg?v=1\", \"Name_and_model\": \"2006 HUMMER H1 Alpha\", \"Model_type\": \"PICK-UP & 4X4'S\", \"In_Game_Price\": \"112,000\", \"car_source\": \"Autoshow\", \"stock_specs\": \"D\", \"Stock_Rating\": 354.0, \"Drive_Type\": \"AWD\", \"speed\": 4.2, \"handling\": 2.9, \"acceleration\": 2.0, \"launch\": 2.5, \"braking\": 2.4, \"Offroad\": 8.6, \"Horse_Power\": 300.0, \"Weight_lbs\": 8114.0}, {\"Car_Image\": \"https://www.kudosprime.com/fh5/images/cars/side/fh5_car_247.jpg?v=1\", \"Name_and_model\": \"2019 Hyundai Veloster N\", \"Model_type\": \"SUPER HOT HATCH\", \"In_Game_Price\": \"30,000\", \"car_source\": \"Wheelspin\", \"stock_specs\": \"B\", \"Stock_Rating\": 645.0, \"Drive_Type\": \"FWD\", \"speed\": 6.0, \"handling\": 5.4, \"acceleration\": 4.5, \"launch\": 4.7, \"braking\": 3.7, \"Offroad\": 5.0, \"Horse_Power\": 275.0, \"Weight_lbs\": 3106.0}, {\"Car_Image\": \"https://www.kudosprime.com/fh5/images/cars/side/fh5_car_248.jpg?v=1\", \"Name_and_model\": \"2015 Infiniti Q60 Concept\", \"Model_type\": \"SUPER SALOONS\", \"In_Game_Price\": \"50,000\", \"car_source\": \"Autoshow\", \"stock_specs\": \"A\", \"Stock_Rating\": 735.0, \"Drive_Type\": \"RWD\", \"speed\": 6.8, \"handling\": 5.6, \"acceleration\": 4.8, \"launch\": 5.0, \"braking\": 4.7, \"Offroad\": 4.6, \"Horse_Power\": 400.0, \"Weight_lbs\": 3650.0}, {\"Car_Image\": \"https://www.kudosprime.com/fh5/images/cars/side/fh5_car_249.jpg?v=1\", \"Name_and_model\": \"1970 International Scout 800A\", \"Model_type\": \"PICK-UP & 4X4'S\", \"In_Game_Price\": \"40,000\", \"car_source\": \"Autoshow\", \"stock_specs\": \"D\", \"Stock_Rating\": 384.0, \"Drive_Type\": \"AWD\", \"speed\": 4.1, \"handling\": 3.0, \"acceleration\": 2.7, \"launch\": 3.6, \"braking\": 2.1, \"Offroad\": 7.8, \"Horse_Power\": 193.0, \"Weight_lbs\": 3615.0}, {\"Car_Image\": \"https://www.kudosprime.com/fh5/images/cars/side/fh5_car_519.jpg?v=1\", \"Name_and_model\": \"2018 ItalDesign ZeroUno\", \"Model_type\": \"HYPERCARS\", \"In_Game_Price\": \"2,400,000\", \"car_source\": \"Season Event\", \"stock_specs\": \"S1\", \"Stock_Rating\": 869.0, \"Drive_Type\": \"AWD\", \"speed\": 7.6, \"handling\": 7.7, \"acceleration\": 9.2, \"launch\": 8.9, \"braking\": 8.0, \"Offroad\": 4.9, \"Horse_Power\": 602.0, \"Weight_lbs\": 3362.0}, {\"Car_Image\": \"https://www.kudosprime.com/fh5/images/cars/side/fh5_car_250.jpg?v=1\", \"Name_and_model\": \"1956 Jaguar D-Type\", \"Model_type\": \"CLASSIC RACERS\", \"In_Game_Price\": \"22,000,000\", \"car_source\": \"Autoshow\", \"stock_specs\": \"B\", \"Stock_Rating\": 630.0, \"Drive_Type\": \"RWD\", \"speed\": 5.6, \"handling\": 3.8, \"acceleration\": 3.8, \"launch\": 2.6, \"braking\": 2.8, \"Offroad\": 4.4, \"Horse_Power\": 245.0, \"Weight_lbs\": 2100.0}, {\"Car_Image\": \"https://www.kudosprime.com/fh5/images/cars/side/fh5_car_251.jpg?v=1\", \"Name_and_model\": \"1959 Jaguar Mk II 3.8\", \"Model_type\": \"CLASSIC RACERS\", \"In_Game_Price\": \"80,000\", \"car_source\": \"Autoshow\", \"stock_specs\": \"D\", \"Stock_Rating\": 448.0, \"Drive_Type\": \"RWD\", \"speed\": 4.6, \"handling\": 4.1, \"acceleration\": 3.5, \"launch\": 2.8, \"braking\": 2.8, \"Offroad\": 5.5, \"Horse_Power\": 220.0, \"Weight_lbs\": 3360.0}, {\"Car_Image\": \"https://www.kudosprime.com/fh5/images/cars/side/fh5_car_252.jpg?v=1\", \"Name_and_model\": \"1961 Jaguar E-type\", \"Model_type\": \"RARE CLASSICS\", \"In_Game_Price\": \"150,000\", \"car_source\": \"Autoshow\", \"stock_specs\": \"C\", \"Stock_Rating\": 525.0, \"Drive_Type\": \"RWD\", \"speed\": 5.2, \"handling\": 4.2, \"acceleration\": 4.0, \"launch\": 2.8, \"braking\": 2.7, \"Offroad\": 5.2, \"Horse_Power\": 265.0, \"Weight_lbs\": 2900.0}, {\"Car_Image\": \"https://www.kudosprime.com/fh5/images/cars/side/fh5_car_253.jpg?v=1\", \"Name_and_model\": \"1964 Jaguar Lightweight E-Type\", \"Model_type\": \"CLASSIC RACERS\", \"In_Game_Price\": \"7,500,000\", \"car_source\": \"Autoshow\", \"stock_specs\": \"B\", \"Stock_Rating\": 688.0, \"Drive_Type\": \"RWD\", \"speed\": 6.3, \"handling\": 4.4, \"acceleration\": 4.7, \"launch\": 4.4, \"braking\": 3.4, \"Offroad\": 4.6, \"Horse_Power\": 340.0, \"Weight_lbs\": 2292.0}, {\"Car_Image\": \"https://www.kudosprime.com/fh5/images/cars/side/fh5_car_546.jpg?v=1\", \"Name_and_model\": \"1966 Jaguar XJ13\", \"Model_type\": \"CLASSIC RACERS\", \"In_Game_Price\": \"0\", \"car_source\": \"Autoshow\", \"stock_specs\": \"A\", \"Stock_Rating\": 779.0, \"Drive_Type\": \"RWD\", \"speed\": 7.6, \"handling\": 4.9, \"acceleration\": 5.1, \"launch\": 4.4, \"braking\": 4.0, \"Offroad\": 4.2, \"Horse_Power\": 502.0, \"Weight_lbs\": 2557.0}, {\"Car_Image\": \"https://www.kudosprime.com/fh5/images/cars/side/fh5_car_254.jpg?v=1\", \"Name_and_model\": \"1991 Jaguar Sport XJR-15\", \"Model_type\": \"RETRO SUPERCARS\", \"In_Game_Price\": \"500,000\", \"car_source\": \"Barn\", \"stock_specs\": \"S1\", \"Stock_Rating\": 828.0, \"Drive_Type\": \"RWD\", \"speed\": 7.5, \"handling\": 8.0, \"acceleration\": 6.0, \"launch\": 6.3, \"braking\": 6.8, \"Offroad\": 4.7, \"Horse_Power\": 450.0, \"Weight_lbs\": 2315.0}, {\"Car_Image\": \"https://www.kudosprime.com/fh5/images/cars/side/fh5_car_255.jpg?v=1\", \"Name_and_model\": \"1993 Jaguar XJ220\", \"Model_type\": \"RETRO SUPERCARS\", \"In_Game_Price\": \"350,000\", \"car_source\": \"Wheelspin\", \"stock_specs\": \"A\", \"Stock_Rating\": 786.0, \"Drive_Type\": \"RWD\", \"speed\": 7.7, \"handling\": 6.4, \"acceleration\": 5.2, \"launch\": 2.2, \"braking\": 5.2, \"Offroad\": 4.8, \"Horse_Power\": 542.0, \"Weight_lbs\": 3241.0}, {\"Car_Image\": \"https://www.kudosprime.com/fh5/images/cars/side/fh5_car_547.jpg?v=1\", \"Name_and_model\": \"1993 Jaguar XJ220S TWR\", \"Model_type\": \"RETRO SUPERCARS\", \"In_Game_Price\": \"0\", \"car_source\": \"Autoshow\", \"stock_specs\": \"S1\", \"Stock_Rating\": 848.0, \"Drive_Type\": \"RWD\", \"speed\": 8.2, \"handling\": 6.8, \"acceleration\": 6.4, \"launch\": 2.7, \"braking\": 6.0, \"Offroad\": 4.6, \"Horse_Power\": 680.0, \"Weight_lbs\": 2379.0}, {\"Car_Image\": \"https://www.kudosprime.com/fh5/images/cars/side/fh5_car_256.jpg?v=1\", \"Name_and_model\": \"2010 Jaguar C-X75\", \"Model_type\": \"MODERN SUPERCARS\", \"In_Game_Price\": \"1,500,000\", \"car_source\": \"Autoshow\", \"stock_specs\": \"S1\", \"Stock_Rating\": 880.0, \"Drive_Type\": \"AWD\", \"speed\": 8.1, \"handling\": 7.8, \"acceleration\": 9.4, \"launch\": 10.0, \"braking\": 8.0, \"Offroad\": 4.1, \"Horse_Power\": 890.0, \"Weight_lbs\": 3750.0}, {\"Car_Image\": \"https://www.kudosprime.com/fh5/images/cars/side/fh5_car_257.jpg?v=1\", \"Name_and_model\": \"2012 Jaguar XKR-S\", \"Model_type\": \"GT CARS\", \"In_Game_Price\": \"100,000\", \"car_source\": \"Autoshow\", \"stock_specs\": \"A\", \"Stock_Rating\": 756.0, \"Drive_Type\": \"RWD\", \"speed\": 7.5, \"handling\": 6.1, \"acceleration\": 4.9, \"launch\": 5.1, \"braking\": 4.3, \"Offroad\": 4.4, \"Horse_Power\": 542.0, \"Weight_lbs\": 3865.0}, {\"Car_Image\": \"https://www.kudosprime.com/fh5/images/cars/side/fh5_car_258.jpg?v=1\", \"Name_and_model\": \"2015 Jaguar F-Type R Coup\\u00e9\", \"Model_type\": \"GT CARS\", \"In_Game_Price\": \"110,000\", \"car_source\": \"Wheelspin\", \"stock_specs\": \"A\", \"Stock_Rating\": 777.0, \"Drive_Type\": \"RWD\", \"speed\": 7.5, \"handling\": 5.9, \"acceleration\": 5.2, \"launch\": 5.4, \"braking\": 6.0, \"Offroad\": 4.2, \"Horse_Power\": 550.0, \"Weight_lbs\": 3638.0}, {\"Car_Image\": \"https://www.kudosprime.com/fh5/images/cars/side/fh5_car_260.jpg?v=1\", \"Name_and_model\": \"2015 Jaguar XE-S\", \"Model_type\": \"SUPER SALOONS\", \"In_Game_Price\": \"57,000\", \"car_source\": \"Autoshow\", \"stock_specs\": \"B\", \"Stock_Rating\": 671.0, \"Drive_Type\": \"RWD\", \"speed\": 6.8, \"handling\": 5.5, \"acceleration\": 4.7, \"launch\": 4.8, \"braking\": 3.7, \"Offroad\": 4.9, \"Horse_Power\": 340.0, \"Weight_lbs\": 3787.0}, {\"Car_Image\": \"https://www.kudosprime.com/fh5/images/cars/side/fh5_car_259.jpg?v=1\", \"Name_and_model\": \"2015 Jaguar XFR-S\", \"Model_type\": \"SUPER SALOONS\", \"In_Game_Price\": \"110,000\", \"car_source\": \"Autoshow\", \"stock_specs\": \"A\", \"Stock_Rating\": 728.0, \"Drive_Type\": \"RWD\", \"speed\": 7.5, \"handling\": 5.7, \"acceleration\": 5.0, \"launch\": 5.2, \"braking\": 4.2, \"Offroad\": 4.6, \"Horse_Power\": 550.0, \"Weight_lbs\": 4380.0}, {\"Car_Image\": \"https://www.kudosprime.com/fh5/images/cars/side/fh5_car_562.jpg?v=1\", \"Name_and_model\": \"2015 Jaguar XKR-S\", \"Model_type\": \"TRACK TOYS\", \"In_Game_Price\": \"250,000\", \"car_source\": \"Season Event\", \"stock_specs\": \"A\", \"Stock_Rating\": 778.0, \"Drive_Type\": \"RWD\", \"speed\": 7.2, \"handling\": 6.0, \"acceleration\": 5.2, \"launch\": 5.4, \"braking\": 6.4, \"Offroad\": 4.5, \"Horse_Power\": 542.0, \"Weight_lbs\": 3977.0}, {\"Car_Image\": \"https://www.kudosprime.com/fh5/images/cars/side/fh5_car_261.jpg?v=1\", \"Name_and_model\": \"2016 Jaguar F-TYPE Project 7\", \"Model_type\": \"TRACK TOYS\", \"In_Game_Price\": \"190,000\", \"car_source\": \"Wheelspin\", \"stock_specs\": \"A\", \"Stock_Rating\": 786.0, \"Drive_Type\": \"RWD\", \"speed\": 7.0, \"handling\": 6.3, \"acceleration\": 5.1, \"launch\": 5.4, \"braking\": 6.5, \"Offroad\": 4.3, \"Horse_Power\": 567.0, \"Weight_lbs\": 3571.0}, {\"Car_Image\": \"https://www.kudosprime.com/fh5/images/cars/side/fh5_car_262.jpg?v=1\", \"Name_and_model\": \"2017 Jaguar F-PACE S\", \"Model_type\": \"SPORTS UTILITY HEROES\", \"In_Game_Price\": \"55,000\", \"car_source\": \"Autoshow\", \"stock_specs\": \"B\", \"Stock_Rating\": 674.0, \"Drive_Type\": \"AWD\", \"speed\": 6.0, \"handling\": 5.0, \"acceleration\": 5.4, \"launch\": 4.8, \"braking\": 3.8, \"Offroad\": 6.5, \"Horse_Power\": 380.0, \"Weight_lbs\": 4015.0}, {\"Car_Image\": \"https://www.kudosprime.com/fh5/images/cars/side/fh5_car_263.jpg?v=1\", \"Name_and_model\": \"2018 Jaguar I-PACE\", \"Model_type\": \"SPORTS UTILITY HEROES\", \"In_Game_Price\": \"87,000\", \"car_source\": \"Autoshow\", \"stock_specs\": \"A\", \"Stock_Rating\": 705.0, \"Drive_Type\": \"AWD\", \"speed\": 4.5, \"handling\": 4.9, \"acceleration\": 4.5, \"launch\": 4.7, \"braking\": 3.7, \"Offroad\": 5.8, \"Horse_Power\": 394.0, \"Weight_lbs\": 4868.0}, {\"Car_Image\": \"https://www.kudosprime.com/fh5/images/cars/side/fh5_car_264.jpg?v=1\", \"Name_and_model\": \"1976 Jeep CJ5 Renegade\", \"Model_type\": \"PICK-UP & 4X4'S\", \"In_Game_Price\": \"60,000\", \"car_source\": \"Autoshow\", \"stock_specs\": \"D\", \"Stock_Rating\": 431.0, \"Drive_Type\": \"AWD\", \"speed\": 3.7, \"handling\": 3.0, \"acceleration\": 4.3, \"launch\": 5.3, \"braking\": 2.6, \"Offroad\": 7.6, \"Horse_Power\": 151.0, \"Weight_lbs\": 2271.0}, {\"Car_Image\": \"https://www.kudosprime.com/fh5/images/cars/side/fh5_car_265.jpg?v=1\", \"Name_and_model\": \"2012 Jeep Wrangler Rubicon\", \"Model_type\": \"PICK-UP & 4X4'S\", \"In_Game_Price\": \"50,000\", \"car_source\": \"Autoshow\", \"stock_specs\": \"D\", \"Stock_Rating\": 463.0, \"Drive_Type\": \"AWD\", \"speed\": 4.6, \"handling\": 3.1, \"acceleration\": 4.0, \"launch\": 3.2, \"braking\": 2.4, \"Offroad\": 8.0, \"Horse_Power\": 285.0, \"Weight_lbs\": 4132.0}, {\"Car_Image\": \"https://www.kudosprime.com/fh5/images/cars/side/fh5_car_266.jpg?v=1\", \"Name_and_model\": \"2014 Jeep Grand Cherokee SRT\", \"Model_type\": \"SPORTS UTILITY HEROES\", \"In_Game_Price\": \"80,000\", \"car_source\": \"Autoshow\", \"stock_specs\": \"B\", \"Stock_Rating\": 680.0, \"Drive_Type\": \"AWD\", \"speed\": 6.0, \"handling\": 4.1, \"acceleration\": 6.0, \"launch\": 5.8, \"braking\": 4.0, \"Offroad\": 6.7, \"Horse_Power\": 470.0, \"Weight_lbs\": 5150.0}, {\"Car_Image\": \"https://www.kudosprime.com/fh5/images/cars/side/fh5_car_267.jpg?v=1\", \"Name_and_model\": \"2016 Jeep Trailcat\", \"Model_type\": \"UNLIMITED OFFROAD\", \"In_Game_Price\": \"75,000\", \"car_source\": \"Autoshow\", \"stock_specs\": \"A\", \"Stock_Rating\": 744.0, \"Drive_Type\": \"AWD\", \"speed\": 6.2, \"handling\": 3.9, \"acceleration\": 5.5, \"launch\": 4.1, \"braking\": 4.0, \"Offroad\": 10.0, \"Horse_Power\": 707.0, \"Weight_lbs\": 4600.0}, {\"Car_Image\": \"https://www.kudosprime.com/fh5/images/cars/side/fh5_car_268.jpg?v=1\", \"Name_and_model\": \"2018 Jeep Grand Cherokee Trackhawk\", \"Model_type\": \"SPORTS UTILITY HEROES\", \"In_Game_Price\": \"73,000\", \"car_source\": \"Autoshow\", \"stock_specs\": \"A\", \"Stock_Rating\": 749.0, \"Drive_Type\": \"AWD\", \"speed\": 6.9, \"handling\": 5.1, \"acceleration\": 8.5, \"launch\": 7.8, \"braking\": 4.9, \"Offroad\": 5.6, \"Horse_Power\": 707.0, \"Weight_lbs\": 5350.0}, {\"Car_Image\": \"https://www.kudosprime.com/fh5/images/cars/side/fh5_car_269.jpg?v=1\", \"Name_and_model\": \"2020 Jeep Gladiator Rubicon\", \"Model_type\": \"PICK-UP & 4X4'S\", \"In_Game_Price\": \"45,000\", \"car_source\": \"Autoshow\", \"stock_specs\": \"D\", \"Stock_Rating\": 456.0, \"Drive_Type\": \"AWD\", \"speed\": 4.8, \"handling\": 3.0, \"acceleration\": 3.6, \"launch\": 3.2, \"braking\": 2.5, \"Offroad\": 8.4, \"Horse_Power\": 285.0, \"Weight_lbs\": 5073.0}, {\"Car_Image\": \"https://www.kudosprime.com/fh5/images/cars/side/fh5_car_270.jpg?v=1\", \"Name_and_model\": \"2002 Koenigsegg CC8S\", \"Model_type\": \"HYPERCARS\", \"In_Game_Price\": \"400,000\", \"car_source\": \"Autoshow\", \"stock_specs\": \"S1\", \"Stock_Rating\": 846.0, \"Drive_Type\": \"RWD\", \"speed\": 8.7, \"handling\": 7.6, \"acceleration\": 6.1, \"launch\": 3.8, \"braking\": 6.4, \"Offroad\": 4.7, \"Horse_Power\": 564.0, \"Weight_lbs\": 2811.0}, {\"Car_Image\": \"https://www.kudosprime.com/fh5/images/cars/side/fh5_car_271.jpg?v=1\", \"Name_and_model\": \"2008 Koenigsegg CCGT\", \"Model_type\": \"EXTREME TRACK TOYS\", \"In_Game_Price\": \"1,000,000\", \"car_source\": \"Wheelspin\", \"stock_specs\": \"S2\", \"Stock_Rating\": 965.0, \"Drive_Type\": \"RWD\", \"speed\": 7.8, \"handling\": 10.0, \"acceleration\": 6.8, \"launch\": 7.1, \"braking\": 10.0, \"Offroad\": 3.9, \"Horse_Power\": 610.0, \"Weight_lbs\": 2425.0}, {\"Car_Image\": \"https://www.kudosprime.com/fh5/images/cars/side/fh5_car_272.jpg?v=1\", \"Name_and_model\": \"2015 Koenigsegg One:1\", \"Model_type\": \"HYPERCARS\", \"In_Game_Price\": \"2,800,000\", \"car_source\": \"Autoshow\", \"stock_specs\": \"S2\", \"Stock_Rating\": 983.0, \"Drive_Type\": \"RWD\", \"speed\": 10.0, \"handling\": 9.5, \"acceleration\": 7.0, \"launch\": 7.5, \"braking\": 10.0, \"Offroad\": 4.3, \"Horse_Power\": 1341.0, \"Weight_lbs\": 2998.0}, {\"Car_Image\": \"https://www.kudosprime.com/fh5/images/cars/side/fh5_car_273.jpg?v=1\", \"Name_and_model\": \"2016 Koenigsegg Regera\", \"Model_type\": \"HYPERCARS\", \"In_Game_Price\": \"1,900,000\", \"car_source\": \"Autoshow\", \"stock_specs\": \"S2\", \"Stock_Rating\": 966.0, \"Drive_Type\": \"RWD\", \"speed\": 9.1, \"handling\": 7.9, \"acceleration\": 5.8, \"launch\": 6.2, \"braking\": 9.2, \"Offroad\": 4.2, \"Horse_Power\": 1500.0, \"Weight_lbs\": 3589.0}, {\"Car_Image\": \"https://www.kudosprime.com/fh5/images/cars/side/fh5_car_274.jpg?v=1\", \"Name_and_model\": \"2017 Koenigsegg Agera RS\", \"Model_type\": \"HYPERCARS\", \"In_Game_Price\": \"2,000,000\", \"car_source\": \"Autoshow\", \"stock_specs\": \"S2\", \"Stock_Rating\": 980.0, \"Drive_Type\": \"RWD\", \"speed\": 10.0, \"handling\": 9.7, \"acceleration\": 7.0, \"launch\": 7.6, \"braking\": 9.7, \"Offroad\": 4.3, \"Horse_Power\": 1341.0, \"Weight_lbs\": 3075.0}, {\"Car_Image\": \"https://www.kudosprime.com/fh5/images/cars/side/fh5_car_275.jpg?v=1\", \"Name_and_model\": \"2020 Koenigsegg Jesko\", \"Model_type\": \"HYPERCARS\", \"In_Game_Price\": \"2,800,000\", \"car_source\": \"Autoshow\", \"stock_specs\": \"S2\", \"Stock_Rating\": 971.0, \"Drive_Type\": \"RWD\", \"speed\": 10.0, \"handling\": 10.0, \"acceleration\": 6.9, \"launch\": 7.4, \"braking\": 9.0, \"Offroad\": 4.4, \"Horse_Power\": 1280.0, \"Weight_lbs\": 3131.0}, {\"Car_Image\": \"https://www.kudosprime.com/fh5/images/cars/side/fh5_car_276.jpg?v=1\", \"Name_and_model\": \"2013 KTM X-Bow R\", \"Model_type\": \"TRACK TOYS\", \"In_Game_Price\": \"105,000\", \"car_source\": \"Autoshow\", \"stock_specs\": \"S1\", \"Stock_Rating\": 802.0, \"Drive_Type\": \"RWD\", \"speed\": 5.2, \"handling\": 8.0, \"acceleration\": 6.8, \"launch\": 7.4, \"braking\": 7.8, \"Offroad\": 3.9, \"Horse_Power\": 295.0, \"Weight_lbs\": 1786.0}, {\"Car_Image\": \"https://www.kudosprime.com/fh5/images/cars/side/fh5_car_277.jpg?v=1\", \"Name_and_model\": \"1967 Lamborghini Miura P400\", \"Model_type\": \"RARE CLASSICS\", \"In_Game_Price\": \"1,000,000\", \"car_source\": \"Autoshow\", \"stock_specs\": \"B\", \"Stock_Rating\": 625.0, \"Drive_Type\": \"RWD\", \"speed\": 5.9, \"handling\": 4.9, \"acceleration\": 3.8, \"launch\": 2.7, \"braking\": 3.1, \"Offroad\": 5.1, \"Horse_Power\": 350.0, \"Weight_lbs\": 2745.0}, {\"Car_Image\": \"https://www.kudosprime.com/fh5/images/cars/side/fh5_car_544.jpg?v=1\", \"Name_and_model\": \"1973 Lamborghini Espada 400 GT\", \"Model_type\": \"RETRO SUPERCARS\", \"In_Game_Price\": \"110,000\", \"car_source\": \"Autoshow\", \"stock_specs\": \"C\", \"Stock_Rating\": 597.0, \"Drive_Type\": \"RWD\", \"speed\": 5.8, \"handling\": 4.7, \"acceleration\": 4.1, \"launch\": 3.1, \"braking\": 3.0, \"Offroad\": 5.1, \"Horse_Power\": 350.0, \"Weight_lbs\": 3605.0}, {\"Car_Image\": \"https://www.kudosprime.com/fh5/images/cars/side/fh5_car_278.jpg?v=1\", \"Name_and_model\": \"1986 Lamborghini LM 002\", \"Model_type\": \"PICK-UP & 4X4'S\", \"In_Game_Price\": \"180,000\", \"car_source\": \"Autoshow\", \"stock_specs\": \"C\", \"Stock_Rating\": 562.0, \"Drive_Type\": \"AWD\", \"speed\": 5.3, \"handling\": 3.3, \"acceleration\": 2.9, \"launch\": 1.8, \"braking\": 3.2, \"Offroad\": 8.7, \"Horse_Power\": 450.0, \"Weight_lbs\": 5952.0}, {\"Car_Image\": \"https://www.kudosprime.com/fh5/images/cars/side/fh5_car_279.jpg?v=1\", \"Name_and_model\": \"1988 Lamborghini Countach LP5000 QV\", \"Model_type\": \"RETRO SUPERCARS\", \"In_Game_Price\": \"220,000\", \"car_source\": \"Autoshow\", \"stock_specs\": \"A\", \"Stock_Rating\": 735.0, \"Drive_Type\": \"RWD\", \"speed\": 6.8, \"handling\": 6.2, \"acceleration\": 4.7, \"launch\": 3.6, \"braking\": 4.3, \"Offroad\": 4.8, \"Horse_Power\": 455.0, \"Weight_lbs\": 3284.0}, {\"Car_Image\": \"https://www.kudosprime.com/fh5/images/cars/side/fh5_car_280.jpg?v=1\", \"Name_and_model\": \"1997 Lamborghini Diablo SV\", \"Model_type\": \"RETRO SUPERCARS\", \"In_Game_Price\": \"174,000\", \"car_source\": \"Autoshow\", \"stock_specs\": \"A\", \"Stock_Rating\": 763.0, \"Drive_Type\": \"RWD\", \"speed\": 7.7, \"handling\": 6.2, \"acceleration\": 5.2, \"launch\": 4.2, \"braking\": 4.9, \"Offroad\": 4.6, \"Horse_Power\": 530.0, \"Weight_lbs\": 3474.0}, {\"Car_Image\": \"https://www.kudosprime.com/fh5/images/cars/side/fh5_car_281.jpg?v=1\", \"Name_and_model\": \"1999 Lamborghini Diablo GTR\", \"Model_type\": \"EXTREME TRACK TOYS\", \"In_Game_Price\": \"1,000,000\", \"car_source\": \"Mastery Tree\", \"stock_specs\": \"S1\", \"Stock_Rating\": 881.0, \"Drive_Type\": \"RWD\", \"speed\": 7.8, \"handling\": 9.0, \"acceleration\": 6.8, \"launch\": 5.9, \"braking\": 7.8, \"Offroad\": 4.1, \"Horse_Power\": 590.0, \"Weight_lbs\": 3086.0}, {\"Car_Image\": \"https://www.kudosprime.com/fh5/images/cars/side/fh5_car_282.jpg?v=1\", \"Name_and_model\": \"2008 Lamborghini Revent\\u00f3n\", \"Model_type\": \"MODERN SUPERCARS\", \"In_Game_Price\": \"1,375,000\", \"car_source\": \"Car Collection\", \"stock_specs\": \"S1\", \"Stock_Rating\": 817.0, \"Drive_Type\": \"AWD\", \"speed\": 7.8, \"handling\": 7.0, \"acceleration\": 5.2, \"launch\": 4.4, \"braking\": 7.1, \"Offroad\": 5.1, \"Horse_Power\": 641.0, \"Weight_lbs\": 4015.0}, {\"Car_Image\": \"https://www.kudosprime.com/fh5/images/cars/side/fh5_car_283.jpg?v=1\", \"Name_and_model\": \"2010 Lamborghini Murci\\u00e9lago LP 670-4 SV\", \"Model_type\": \"MODERN SUPERCARS\", \"In_Game_Price\": \"500,000\", \"car_source\": \"Autoshow\", \"stock_specs\": \"S1\", \"Stock_Rating\": 818.0, \"Drive_Type\": \"AWD\", \"speed\": 7.8, \"handling\": 7.2, \"acceleration\": 5.2, \"launch\": 4.5, \"braking\": 6.9, \"Offroad\": 5.0, \"Horse_Power\": 661.0, \"Weight_lbs\": 3794.0}, {\"Car_Image\": \"https://www.kudosprime.com/fh5/images/cars/side/fh5_car_284.jpg?v=1\", \"Name_and_model\": \"2011 Lamborghini Gallardo LP 570-4 Superleggera\", \"Model_type\": \"MODERN SUPERCARS\", \"In_Game_Price\": \"280,000\", \"car_source\": \"Accolade\", \"stock_specs\": \"S1\", \"Stock_Rating\": 814.0, \"Drive_Type\": \"AWD\", \"speed\": 7.5, \"handling\": 7.1, \"acceleration\": 7.4, \"launch\": 6.9, \"braking\": 5.3, \"Offroad\": 5.0, \"Horse_Power\": 562.0, \"Weight_lbs\": 3298.0}, {\"Car_Image\": \"https://www.kudosprime.com/fh5/images/cars/side/fh5_car_285.jpg?v=1\", \"Name_and_model\": \"2011 Lamborghini Sesto Elemento\", \"Model_type\": \"EXTREME TRACK TOYS\", \"In_Game_Price\": \"2,500,000\", \"car_source\": \"Autoshow\", \"stock_specs\": \"S2\", \"Stock_Rating\": 936.0, \"Drive_Type\": \"AWD\", \"speed\": 7.8, \"handling\": 10.0, \"acceleration\": 10.0, \"launch\": 10.0, \"braking\": 10.0, \"Offroad\": 4.6, \"Horse_Power\": 571.0, \"Weight_lbs\": 2202.0}, {\"Car_Image\": \"https://www.kudosprime.com/fh5/images/cars/side/fh5_car_500.jpg?v=1\", \"Name_and_model\": \"2011 Lamborghini Sesto Elemento Forza Edition\", \"Model_type\": \"EXTREME TRACK TOYS\", \"In_Game_Price\": \"2,750,000\", \"car_source\": \"Wheelspin\", \"stock_specs\": \"S2\", \"Stock_Rating\": 998.0, \"Drive_Type\": \"AWD\", \"speed\": 8.4, \"handling\": 10.0, \"acceleration\": 10.0, \"launch\": 10.0, \"braking\": 10.0, \"Offroad\": 5.1, \"Horse_Power\": 638.0, \"Weight_lbs\": 2039.0}, {\"Car_Image\": \"https://www.kudosprime.com/fh5/images/cars/side/fh5_car_552.jpg?v=1\", \"Name_and_model\": \"2012 Lamborghini Aventador J\", \"Model_type\": \"HYPERCARS\", \"In_Game_Price\": \"2,700,000\", \"car_source\": \"Season Event\", \"stock_specs\": \"S1\", \"Stock_Rating\": 839.0, \"Drive_Type\": \"AWD\", \"speed\": 7.9, \"handling\": 7.1, \"acceleration\": 7.7, \"launch\": 7.0, \"braking\": 7.1, \"Offroad\": 5.1, \"Horse_Power\": 700.0, \"Weight_lbs\": 3816.0}, {\"Car_Image\": \"https://www.kudosprime.com/fh5/images/cars/side/fh5_car_286.jpg?v=1\", \"Name_and_model\": \"2012 Lamborghini Aventador LP700-4\", \"Model_type\": \"HYPERCARS\", \"In_Game_Price\": \"380,000\", \"car_source\": \"Autoshow\", \"stock_specs\": \"S1\", \"Stock_Rating\": 847.0, \"Drive_Type\": \"AWD\", \"speed\": 8.9, \"handling\": 7.1, \"acceleration\": 8.2, \"launch\": 7.4, \"braking\": 7.3, \"Offroad\": 5.0, \"Horse_Power\": 700.0, \"Weight_lbs\": 3816.0}, {\"Car_Image\": \"https://www.kudosprime.com/fh5/images/cars/side/fh5_car_553.jpg?v=1\", \"Name_and_model\": \"2012 Lamborghini Gallardo LP 570-4 Spyder Performante\", \"Model_type\": \"MODERN SUPERCARS\", \"In_Game_Price\": \"280,000\", \"car_source\": \"Season Event\", \"stock_specs\": \"A\", \"Stock_Rating\": 797.0, \"Drive_Type\": \"AWD\", \"speed\": 7.1, \"handling\": 6.8, \"acceleration\": 6.7, \"launch\": 6.3, \"braking\": 6.6, \"Offroad\": 5.1, \"Horse_Power\": 562.0, \"Weight_lbs\": 3618.0}, {\"Car_Image\": \"https://www.kudosprime.com/fh5/images/cars/side/fh5_car_287.jpg?v=1\", \"Name_and_model\": \"2013 Lamborghini Veneno\", \"Model_type\": \"HYPERCARS\", \"In_Game_Price\": \"3,000,000\", \"car_source\": \"Autoshow\", \"stock_specs\": \"S2\", \"Stock_Rating\": 910.0, \"Drive_Type\": \"AWD\", \"speed\": 8.2, \"handling\": 9.4, \"acceleration\": 8.8, \"launch\": 8.1, \"braking\": 9.7, \"Offroad\": 4.6, \"Horse_Power\": 740.0, \"Weight_lbs\": 3629.0}, {\"Car_Image\": \"https://www.kudosprime.com/fh5/images/cars/side/fh5_car_288.jpg?v=1\", \"Name_and_model\": \"2014 Lamborghini Hurac\\u00e1n LP 610-4\", \"Model_type\": \"MODERN SUPERCARS\", \"In_Game_Price\": \"240,000\", \"car_source\": \"Autoshow\", \"stock_specs\": \"S1\", \"Stock_Rating\": 838.0, \"Drive_Type\": \"AWD\", \"speed\": 7.8, \"handling\": 7.1, \"acceleration\": 7.8, \"launch\": 7.4, \"braking\": 7.1, \"Offroad\": 5.0, \"Horse_Power\": 602.0, \"Weight_lbs\": 3422.0}, {\"Car_Image\": \"https://www.kudosprime.com/fh5/images/cars/side/fh5_car_289.jpg?v=1\", \"Name_and_model\": \"2016 Lamborghini Aventador Superveloce\", \"Model_type\": \"HYPERCARS\", \"In_Game_Price\": \"480,000\", \"car_source\": \"Autoshow\", \"stock_specs\": \"S1\", \"Stock_Rating\": 872.0, \"Drive_Type\": \"AWD\", \"speed\": 8.5, \"handling\": 7.9, \"acceleration\": 8.7, \"launch\": 8.0, \"braking\": 8.1, \"Offroad\": 5.0, \"Horse_Power\": 740.0, \"Weight_lbs\": 3706.0}, {\"Car_Image\": \"https://www.kudosprime.com/fh5/images/cars/side/fh5_car_290.jpg?v=1\", \"Name_and_model\": \"2016 Lamborghini Centenario LP 770-4\", \"Model_type\": \"HYPERCARS\", \"In_Game_Price\": \"2,300,000\", \"car_source\": \"Autoshow\", \"stock_specs\": \"S1\", \"Stock_Rating\": 884.0, \"Drive_Type\": \"AWD\", \"speed\": 8.3, \"handling\": 8.7, \"acceleration\": 8.7, \"launch\": 8.0, \"braking\": 8.9, \"Offroad\": 4.6, \"Horse_Power\": 759.0, \"Weight_lbs\": 3693.0}, {\"Car_Image\": \"https://www.kudosprime.com/fh5/images/cars/side/fh5_car_550.jpg?v=2\", \"Name_and_model\": \"2018 Lamborghini Aventador SVJ\", \"Model_type\": \"HYPERCARS\", \"In_Game_Price\": \"500,000\", \"car_source\": \"Season Event\", \"stock_specs\": \"S1\", \"Stock_Rating\": 889.0, \"Drive_Type\": \"AWD\", \"speed\": 8.0, \"handling\": 8.6, \"acceleration\": 8.3, \"launch\": 7.6, \"braking\": 8.2, \"Offroad\": 4.7, \"Horse_Power\": 759.0, \"Weight_lbs\": 3607.0}, {\"Car_Image\": \"https://www.kudosprime.com/fh5/images/cars/side/fh5_car_291.jpg?v=1\", \"Name_and_model\": \"2018 Lamborghini Hurac\\u00e1n Performante\", \"Model_type\": \"TRACK TOYS\", \"In_Game_Price\": \"275,000\", \"car_source\": \"Autoshow\", \"stock_specs\": \"S1\", \"Stock_Rating\": 874.0, \"Drive_Type\": \"AWD\", \"speed\": 7.6, \"handling\": 8.2, \"acceleration\": 9.8, \"launch\": 10.0, \"braking\": 7.9, \"Offroad\": 4.7, \"Horse_Power\": 630.0, \"Weight_lbs\": 3333.0}, {\"Car_Image\": \"https://www.kudosprime.com/fh5/images/cars/side/fh5_car_292.jpg?v=1\", \"Name_and_model\": \"2019 Lamborghini Urus\", \"Model_type\": \"SPORTS UTILITY HEROES\", \"In_Game_Price\": \"150,000\", \"car_source\": \"Autoshow\", \"stock_specs\": \"A\", \"Stock_Rating\": 767.0, \"Drive_Type\": \"AWD\", \"speed\": 7.1, \"handling\": 5.6, \"acceleration\": 6.1, \"launch\": 5.1, \"braking\": 6.2, \"Offroad\": 6.1, \"Horse_Power\": 641.0, \"Weight_lbs\": 4850.0}, {\"Car_Image\": \"https://www.kudosprime.com/fh5/images/cars/side/fh5_car_545.jpg?v=1\", \"Name_and_model\": \"2020 Lamborghini Hurac\\u00e1n EVO\", \"Model_type\": \"MODERN SUPERCARS\", \"In_Game_Price\": \"340,000\", \"car_source\": \"Autoshow\", \"stock_specs\": \"S1\", \"Stock_Rating\": 851.0, \"Drive_Type\": \"AWD\", \"speed\": 7.3, \"handling\": 7.7, \"acceleration\": 9.3, \"launch\": 10.0, \"braking\": 7.4, \"Offroad\": 4.6, \"Horse_Power\": 630.0, \"Weight_lbs\": 3422.0}, {\"Car_Image\": \"https://www.kudosprime.com/fh5/images/cars/side/fh5_car_293.jpg?v=1\", \"Name_and_model\": \"1972 Land Rover Series III\", \"Model_type\": \"PICK-UP & 4X4'S\", \"In_Game_Price\": \"20,000\", \"car_source\": \"Autoshow\", \"stock_specs\": \"D\", \"Stock_Rating\": 100.0, \"Drive_Type\": \"AWD\", \"speed\": 2.6, \"handling\": 3.0, \"acceleration\": 1.6, \"launch\": 2.3, \"braking\": 2.0, \"Offroad\": 7.2, \"Horse_Power\": 69.0, \"Weight_lbs\": 3097.0}, {\"Car_Image\": \"https://www.kudosprime.com/fh5/images/cars/side/fh5_car_294.jpg?v=1\", \"Name_and_model\": \"1973 Land Rover Range Rover\", \"Model_type\": \"PICK-UP & 4X4'S\", \"In_Game_Price\": \"50,000\", \"car_source\": \"Autoshow\", \"stock_specs\": \"D\", \"Stock_Rating\": 274.0, \"Drive_Type\": \"AWD\", \"speed\": 3.3, \"handling\": 3.1, \"acceleration\": 2.3, \"launch\": 3.5, \"braking\": 2.5, \"Offroad\": 7.8, \"Horse_Power\": 135.0, \"Weight_lbs\": 3800.0}, {\"Car_Image\": \"https://www.kudosprime.com/fh5/images/cars/side/fh5_car_295.jpg?v=1\", \"Name_and_model\": \"1997 Land Rover Defender 90\", \"Model_type\": \"PICK-UP & 4X4'S\", \"In_Game_Price\": \"30,000\", \"car_source\": \"Autoshow\", \"stock_specs\": \"D\", \"Stock_Rating\": 366.0, \"Drive_Type\": \"AWD\", \"speed\": 3.8, \"handling\": 3.2, \"acceleration\": 2.7, \"launch\": 1.8, \"braking\": 2.5, \"Offroad\": 8.2, \"Horse_Power\": 182.0, \"Weight_lbs\": 3902.0}, {\"Car_Image\": \"https://www.kudosprime.com/fh5/images/cars/side/fh5_car_296.jpg?v=1\", \"Name_and_model\": \"2015 Land Rover Range Rover Sport SVR\", \"Model_type\": \"SPORTS UTILITY HEROES\", \"In_Game_Price\": \"133,000\", \"car_source\": \"Autoshow\", \"stock_specs\": \"A\", \"Stock_Rating\": 722.0, \"Drive_Type\": \"AWD\", \"speed\": 6.5, \"handling\": 4.0, \"acceleration\": 6.0, \"launch\": 6.2, \"braking\": 4.1, \"Offroad\": 7.2, \"Horse_Power\": 550.0, \"Weight_lbs\": 5148.0}, {\"Car_Image\": \"https://www.kudosprime.com/fh5/images/cars/side/fh5_car_297.jpg?v=1\", \"Name_and_model\": \"2018 Land Rover Range Rover Velar First Edition\", \"Model_type\": \"SPORTS UTILITY HEROES\", \"In_Game_Price\": \"85,000\", \"car_source\": \"Autoshow\", \"stock_specs\": \"B\", \"Stock_Rating\": 638.0, \"Drive_Type\": \"AWD\", \"speed\": 6.0, \"handling\": 4.1, \"acceleration\": 4.4, \"launch\": 4.1, \"braking\": 3.7, \"Offroad\": 6.9, \"Horse_Power\": 375.0, \"Weight_lbs\": 4676.0}, {\"Car_Image\": \"https://www.kudosprime.com/fh5/images/cars/side/fh5_car_298.jpg?v=1\", \"Name_and_model\": \"2020 Land Rover Defender 110 X\", \"Model_type\": \"SPORTS UTILITY HEROES\", \"In_Game_Price\": \"80,000\", \"car_source\": \"Autoshow\", \"stock_specs\": \"C\", \"Stock_Rating\": 534.0, \"Drive_Type\": \"AWD\", \"speed\": 5.4, \"handling\": 3.1, \"acceleration\": 4.7, \"launch\": 6.0, \"braking\": 2.9, \"Offroad\": 7.2, \"Horse_Power\": 395.0, \"Weight_lbs\": 5260.0}, {\"Car_Image\": \"https://www.kudosprime.com/fh5/images/cars/side/fh5_car_299.jpg?v=1\", \"Name_and_model\": \"1997 Lexus SC300\", \"Model_type\": \"RETRO SPORTS CARS\", \"In_Game_Price\": \"25,000\", \"car_source\": \"Autoshow\", \"stock_specs\": \"C\", \"Stock_Rating\": 555.0, \"Drive_Type\": \"RWD\", \"speed\": 5.6, \"handling\": 5.1, \"acceleration\": 4.0, \"launch\": 3.1, \"braking\": 3.0, \"Offroad\": 5.5, \"Horse_Power\": 225.0, \"Weight_lbs\": 3560.0}, {\"Car_Image\": \"https://www.kudosprime.com/fh5/images/cars/side/fh5_car_300.jpg?v=1\", \"Name_and_model\": \"2010 Lexus LFA\", \"Model_type\": \"MODERN SUPERCARS\", \"In_Game_Price\": \"500,000\", \"car_source\": \"Autoshow\", \"stock_specs\": \"S1\", \"Stock_Rating\": 810.0, \"Drive_Type\": \"RWD\", \"speed\": 7.4, \"handling\": 6.6, \"acceleration\": 5.8, \"launch\": 6.0, \"braking\": 7.0, \"Offroad\": 4.5, \"Horse_Power\": 552.0, \"Weight_lbs\": 3263.0}, {\"Car_Image\": \"https://www.kudosprime.com/fh5/images/cars/side/fh5_car_301.jpg?v=1\", \"Name_and_model\": \"2015 Lexus RC F\", \"Model_type\": \"SUPER SALOONS\", \"In_Game_Price\": \"75,000\", \"car_source\": \"Autoshow\", \"stock_specs\": \"A\", \"Stock_Rating\": 741.0, \"Drive_Type\": \"RWD\", \"speed\": 6.7, \"handling\": 5.9, \"acceleration\": 5.0, \"launch\": 5.2, \"braking\": 5.2, \"Offroad\": 4.8, \"Horse_Power\": 467.0, \"Weight_lbs\": 3957.0}, {\"Car_Image\": \"https://www.kudosprime.com/fh5/images/cars/side/fh5_car_302.jpg?v=1\", \"Name_and_model\": \"2014 Local Motors Rally Fighter\", \"Model_type\": \"UNLIMITED OFFROAD\", \"In_Game_Price\": \"100,000\", \"car_source\": \"Autoshow\", \"stock_specs\": \"A\", \"Stock_Rating\": 716.0, \"Drive_Type\": \"RWD\", \"speed\": 6.0, \"handling\": 3.8, \"acceleration\": 4.5, \"launch\": 3.6, \"braking\": 4.0, \"Offroad\": 10.0, \"Horse_Power\": 430.0, \"Weight_lbs\": 3800.0}, {\"Car_Image\": \"https://www.kudosprime.com/fh5/images/cars/side/fh5_car_303.jpg?v=1\", \"Name_and_model\": \"1969 Lola #6 Penske Sunoco T70 MkIIIB\", \"Model_type\": \"CLASSIC RACERS\", \"In_Game_Price\": \"850,000\", \"car_source\": \"Autoshow\", \"stock_specs\": \"S1\", \"Stock_Rating\": 818.0, \"Drive_Type\": \"RWD\", \"speed\": 7.1, \"handling\": 5.7, \"acceleration\": 7.0, \"launch\": 7.7, \"braking\": 4.8, \"Offroad\": 4.2, \"Horse_Power\": 460.0, \"Weight_lbs\": 1852.0}, {\"Car_Image\": \"https://www.kudosprime.com/fh5/images/cars/side/fh5_car_304.jpg?v=1\", \"Name_and_model\": \"1971 Lotus Elan Sprint\", \"Model_type\": \"CLASSIC SPORTS CARS\", \"In_Game_Price\": \"57,000\", \"car_source\": \"Autoshow\", \"stock_specs\": \"D\", \"Stock_Rating\": 443.0, \"Drive_Type\": \"RWD\", \"speed\": 4.6, \"handling\": 4.0, \"acceleration\": 3.5, \"launch\": 2.5, \"braking\": 2.4, \"Offroad\": 4.9, \"Horse_Power\": 126.0, \"Weight_lbs\": 1640.0}, {\"Car_Image\": \"https://www.kudosprime.com/fh5/images/cars/side/fh5_car_305.jpg?v=1\", \"Name_and_model\": \"1997 Lotus Elise GT1\", \"Model_type\": \"RETRO SUPERCARS\", \"In_Game_Price\": \"1,800,000\", \"car_source\": \"Autoshow\", \"stock_specs\": \"A\", \"Stock_Rating\": 794.0, \"Drive_Type\": \"RWD\", \"speed\": 6.4, \"handling\": 8.1, \"acceleration\": 5.6, \"launch\": 3.4, \"braking\": 7.1, \"Offroad\": 4.6, \"Horse_Power\": 350.0, \"Weight_lbs\": 2425.0}, {\"Car_Image\": \"https://www.kudosprime.com/fh5/images/cars/side/fh5_car_306.jpg?v=1\", \"Name_and_model\": \"1999 Lotus Elise Series 1 Sport 190\", \"Model_type\": \"RETRO SPORTS CARS\", \"In_Game_Price\": \"81,000\", \"car_source\": \"Autoshow\", \"stock_specs\": \"A\", \"Stock_Rating\": 711.0, \"Drive_Type\": \"RWD\", \"speed\": 5.3, \"handling\": 6.0, \"acceleration\": 5.8, \"launch\": 4.8, \"braking\": 5.1, \"Offroad\": 4.8, \"Horse_Power\": 190.0, \"Weight_lbs\": 1477.0}, {\"Car_Image\": \"https://www.kudosprime.com/fh5/images/cars/side/fh5_car_307.jpg?v=1\", \"Name_and_model\": \"2012 Lotus Exige S\", \"Model_type\": \"MODERN SPORTS CARS\", \"In_Game_Price\": \"85,000\", \"car_source\": \"Autoshow\", \"stock_specs\": \"A\", \"Stock_Rating\": 754.0, \"Drive_Type\": \"RWD\", \"speed\": 6.4, \"handling\": 6.3, \"acceleration\": 6.5, \"launch\": 6.2, \"braking\": 5.4, \"Offroad\": 4.8, \"Horse_Power\": 345.0, \"Weight_lbs\": 2593.0}, {\"Car_Image\": \"https://www.kudosprime.com/fh5/images/cars/side/fh5_car_308.jpg?v=1\", \"Name_and_model\": \"2016 Lotus 3-Eleven\", \"Model_type\": \"TRACK TOYS\", \"In_Game_Price\": \"150,000\", \"car_source\": \"Autoshow\", \"stock_specs\": \"S1\", \"Stock_Rating\": 839.0, \"Drive_Type\": \"RWD\", \"speed\": 6.5, \"handling\": 7.7, \"acceleration\": 7.5, \"launch\": 7.8, \"braking\": 7.1, \"Offroad\": 4.6, \"Horse_Power\": 410.0, \"Weight_lbs\": 2103.0}, {\"Car_Image\": \"https://www.kudosprime.com/fh5/images/cars/side/fh5_car_309.jpg?v=1\", \"Name_and_model\": \"2020 Lotus Evija\", \"Model_type\": \"HYPERCARS\", \"In_Game_Price\": \"2,500,000\", \"car_source\": \"Autoshow\", \"stock_specs\": \"S2\", \"Stock_Rating\": 994.0, \"Drive_Type\": \"AWD\", \"speed\": 7.6, \"handling\": 7.9, \"acceleration\": 7.6, \"launch\": 8.5, \"braking\": 10.0, \"Offroad\": 3.9, \"Horse_Power\": 1973.0, \"Weight_lbs\": 3704.0}, {\"Car_Image\": \"https://www.kudosprime.com/fh5/images/cars/side/fh5_car_557.jpg?v=1\", \"Name_and_model\": \"1939 Maserati 8CTF\", \"Model_type\": \"VINTAGE RACERS\", \"In_Game_Price\": \"10,000,000\", \"car_source\": \"Season Event\", \"stock_specs\": \"B\", \"Stock_Rating\": 657.0, \"Drive_Type\": \"RWD\", \"speed\": 6.7, \"handling\": 3.9, \"acceleration\": 3.8, \"launch\": 3.2, \"braking\": 2.9, \"Offroad\": 4.0, \"Horse_Power\": 360.0, \"Weight_lbs\": 1764.0}, {\"Car_Image\": \"https://www.kudosprime.com/fh5/images/cars/side/fh5_car_310.jpg?v=1\", \"Name_and_model\": \"2008 Maserati MC12 Versione Corsa\", \"Model_type\": \"EXTREME TRACK TOYS\", \"In_Game_Price\": \"2,500,000\", \"car_source\": \"Autoshow\", \"stock_specs\": \"S2\", \"Stock_Rating\": 961.0, \"Drive_Type\": \"RWD\", \"speed\": 7.6, \"handling\": 10.0, \"acceleration\": 8.1, \"launch\": 8.8, \"braking\": 10.0, \"Offroad\": 3.9, \"Horse_Power\": 756.0, \"Weight_lbs\": 2646.0}, {\"Car_Image\": \"https://www.kudosprime.com/fh5/images/cars/side/fh5_car_311.jpg?v=1\", \"Name_and_model\": \"2010 Maserati Gran Turismo S\", \"Model_type\": \"GT CARS\", \"In_Game_Price\": \"156,000\", \"car_source\": \"Autoshow\", \"stock_specs\": \"A\", \"Stock_Rating\": 702.0, \"Drive_Type\": \"RWD\", \"speed\": 6.9, \"handling\": 6.0, \"acceleration\": 5.4, \"launch\": 4.8, \"braking\": 4.5, \"Offroad\": 5.0, \"Horse_Power\": 432.0, \"Weight_lbs\": 4146.0}, {\"Car_Image\": \"https://www.kudosprime.com/fh5/images/cars/side/fh5_car_501.jpg?v=1\", \"Name_and_model\": \"2010 Maserati Gran Turismo S Forza Edition\", \"Model_type\": \"TRACK TOYS\", \"In_Game_Price\": \"500,000\", \"car_source\": \"Wheelspin\", \"stock_specs\": \"S1\", \"Stock_Rating\": 900.0, \"Drive_Type\": \"RWD\", \"speed\": 7.9, \"handling\": 8.9, \"acceleration\": 6.7, \"launch\": 7.3, \"braking\": 9.6, \"Offroad\": 3.8, \"Horse_Power\": 603.0, \"Weight_lbs\": 3086.0}, {\"Car_Image\": \"https://www.kudosprime.com/fh5/images/cars/side/fh5_car_312.jpg?v=1\", \"Name_and_model\": \"2017 Maserati Levante S\", \"Model_type\": \"SPORTS UTILITY HEROES\", \"In_Game_Price\": \"85,000\", \"car_source\": \"Autoshow\", \"stock_specs\": \"B\", \"Stock_Rating\": 696.0, \"Drive_Type\": \"AWD\", \"speed\": 6.6, \"handling\": 5.0, \"acceleration\": 5.1, \"launch\": 2.4, \"braking\": 4.3, \"Offroad\": 6.4, \"Horse_Power\": 424.0, \"Weight_lbs\": 4649.0}, {\"Car_Image\": \"https://www.kudosprime.com/fh5/images/cars/side/fh5_car_313.jpg?v=1\", \"Name_and_model\": \"1990 Mazda Savanna RX-7\", \"Model_type\": \"RETRO SPORTS CARS\", \"In_Game_Price\": \"25,000\", \"car_source\": \"Wheelspin\", \"stock_specs\": \"C\", \"Stock_Rating\": 558.0, \"Drive_Type\": \"RWD\", \"speed\": 5.7, \"handling\": 4.9, \"acceleration\": 4.3, \"launch\": 3.3, \"braking\": 3.1, \"Offroad\": 5.1, \"Horse_Power\": 200.0, \"Weight_lbs\": 2981.0}, {\"Car_Image\": \"https://www.kudosprime.com/fh5/images/cars/side/fh5_car_314.jpg?v=1\", \"Name_and_model\": \"1994 Mazda MX-5 Miata\", \"Model_type\": \"RETRO SPORTS CARS\", \"In_Game_Price\": \"25,000\", \"car_source\": \"Autoshow\", \"stock_specs\": \"D\", \"Stock_Rating\": 445.0, \"Drive_Type\": \"RWD\", \"speed\": 4.5, \"handling\": 4.5, \"acceleration\": 3.4, \"launch\": 2.3, \"braking\": 2.5, \"Offroad\": 4.9, \"Horse_Power\": 128.0, \"Weight_lbs\": 2330.0}, {\"Car_Image\": \"https://www.kudosprime.com/fh5/images/cars/side/fh5_car_315.jpg?v=1\", \"Name_and_model\": \"1997 Mazda RX-7\", \"Model_type\": \"RETRO SPORTS CARS\", \"In_Game_Price\": \"35,000\", \"car_source\": \"Autoshow\", \"stock_specs\": \"B\", \"Stock_Rating\": 645.0, \"Drive_Type\": \"RWD\", \"speed\": 6.6, \"handling\": 5.5, \"acceleration\": 4.8, \"launch\": 3.0, \"braking\": 3.3, \"Offroad\": 5.0, \"Horse_Power\": 261.0, \"Weight_lbs\": 2831.0}, {\"Car_Image\": \"https://www.kudosprime.com/fh5/images/cars/side/fh5_car_316.jpg?v=1\", \"Name_and_model\": \"2002 Mazda RX-7 Spirit R Type-A\", \"Model_type\": \"RETRO SPORTS CARS\", \"In_Game_Price\": \"30,000\", \"car_source\": \"Autoshow\", \"stock_specs\": \"B\", \"Stock_Rating\": 687.0, \"Drive_Type\": \"RWD\", \"speed\": 6.5, \"handling\": 5.7, \"acceleration\": 5.0, \"launch\": 3.5, \"braking\": 4.1, \"Offroad\": 5.0, \"Horse_Power\": 276.0, \"Weight_lbs\": 2800.0}, {\"Car_Image\": \"https://www.kudosprime.com/fh5/images/cars/side/fh5_car_317.jpg?v=1\", \"Name_and_model\": \"2005 Mazda Mazdaspeed MX-5\", \"Model_type\": \"RETRO SPORTS CARS\", \"In_Game_Price\": \"25,000\", \"car_source\": \"Autoshow\", \"stock_specs\": \"C\", \"Stock_Rating\": 587.0, \"Drive_Type\": \"RWD\", \"speed\": 5.1, \"handling\": 5.5, \"acceleration\": 3.4, \"launch\": 3.8, \"braking\": 3.5, \"Offroad\": 4.6, \"Horse_Power\": 178.0, \"Weight_lbs\": 2529.0}, {\"Car_Image\": \"https://www.kudosprime.com/fh5/images/cars/side/fh5_car_318.jpg?v=1\", \"Name_and_model\": \"2011 Mazda RX-8 R3\", \"Model_type\": \"MODERN SPORTS CARS\", \"In_Game_Price\": \"27,000\", \"car_source\": \"Autoshow\", \"stock_specs\": \"B\", \"Stock_Rating\": 624.0, \"Drive_Type\": \"RWD\", \"speed\": 5.8, \"handling\": 5.5, \"acceleration\": 4.6, \"launch\": 3.8, \"braking\": 3.7, \"Offroad\": 5.1, \"Horse_Power\": 232.0, \"Weight_lbs\": 3065.0}, {\"Car_Image\": \"https://www.kudosprime.com/fh5/images/cars/side/fh5_car_319.jpg?v=1\", \"Name_and_model\": \"2013 Mazda MX-5\", \"Model_type\": \"MODERN SPORTS CARS\", \"In_Game_Price\": \"26,000\", \"car_source\": \"Autoshow\", \"stock_specs\": \"C\", \"Stock_Rating\": 549.0, \"Drive_Type\": \"RWD\", \"speed\": 4.8, \"handling\": 5.4, \"acceleration\": 3.9, \"launch\": 3.4, \"braking\": 3.4, \"Offroad\": 5.1, \"Horse_Power\": 167.0, \"Weight_lbs\": 2593.0}, {\"Car_Image\": \"https://www.kudosprime.com/fh5/images/cars/side/fh5_car_320.jpg?v=1\", \"Name_and_model\": \"2016 Mazda MX-5\", \"Model_type\": \"MODERN SPORTS CARS\", \"In_Game_Price\": \"35,000\", \"car_source\": \"Autoshow\", \"stock_specs\": \"B\", \"Stock_Rating\": 620.0, \"Drive_Type\": \"RWD\", \"speed\": 5.4, \"handling\": 5.6, \"acceleration\": 4.6, \"launch\": 4.7, \"braking\": 3.7, \"Offroad\": 5.1, \"Horse_Power\": 155.0, \"Weight_lbs\": 2310.0}, {\"Car_Image\": \"https://www.kudosprime.com/fh5/images/cars/side/fh5_car_321.jpg?v=1\", \"Name_and_model\": \"1993 McLaren F1\", \"Model_type\": \"RETRO SUPERCARS\", \"In_Game_Price\": \"15,000,000\", \"car_source\": \"Wheelspin\", \"stock_specs\": \"S1\", \"Stock_Rating\": 817.0, \"Drive_Type\": \"RWD\", \"speed\": 8.8, \"handling\": 6.6, \"acceleration\": 6.3, \"launch\": 5.8, \"braking\": 5.4, \"Offroad\": 4.5, \"Horse_Power\": 627.0, \"Weight_lbs\": 2840.0}, {\"Car_Image\": \"https://www.kudosprime.com/fh5/images/cars/side/fh5_car_322.jpg?v=1\", \"Name_and_model\": \"1997 McLaren F1 GT\", \"Model_type\": \"RETRO SUPERCARS\", \"In_Game_Price\": \"15,000,000\", \"car_source\": \"Autoshow\", \"stock_specs\": \"S1\", \"Stock_Rating\": 866.0, \"Drive_Type\": \"RWD\", \"speed\": 8.4, \"handling\": 8.2, \"acceleration\": 6.2, \"launch\": 5.8, \"braking\": 7.0, \"Offroad\": 4.3, \"Horse_Power\": 618.0, \"Weight_lbs\": 2469.0}, {\"Car_Image\": \"https://www.kudosprime.com/fh5/images/cars/side/fh5_car_323.jpg?v=1\", \"Name_and_model\": \"2013 McLaren P1\", \"Model_type\": \"HYPERCARS\", \"In_Game_Price\": \"1,350,000\", \"car_source\": \"Autoshow\", \"stock_specs\": \"S2\", \"Stock_Rating\": 928.0, \"Drive_Type\": \"RWD\", \"speed\": 9.1, \"handling\": 8.4, \"acceleration\": 6.9, \"launch\": 7.5, \"braking\": 9.5, \"Offroad\": 4.3, \"Horse_Power\": 903.0, \"Weight_lbs\": 3296.0}, {\"Car_Image\": \"https://www.kudosprime.com/fh5/images/cars/side/fh5_car_325.jpg?v=1\", \"Name_and_model\": \"2015 McLaren 570S Coup\\u00e9\", \"Model_type\": \"MODERN SUPERCARS\", \"In_Game_Price\": \"224,000\", \"car_source\": \"Autoshow\", \"stock_specs\": \"S1\", \"Stock_Rating\": 824.0, \"Drive_Type\": \"RWD\", \"speed\": 7.3, \"handling\": 6.9, \"acceleration\": 6.3, \"launch\": 4.4, \"braking\": 7.1, \"Offroad\": 4.4, \"Horse_Power\": 562.0, \"Weight_lbs\": 3201.0}, {\"Car_Image\": \"https://www.kudosprime.com/fh5/images/cars/side/fh5_car_324.jpg?v=1\", \"Name_and_model\": \"2015 McLaren 650S Coup\\u00e9\", \"Model_type\": \"MODERN SUPERCARS\", \"In_Game_Price\": \"224,000\", \"car_source\": \"Autoshow\", \"stock_specs\": \"S1\", \"Stock_Rating\": 824.0, \"Drive_Type\": \"RWD\", \"speed\": 7.6, \"handling\": 7.2, \"acceleration\": 6.8, \"launch\": 4.8, \"braking\": 7.5, \"Offroad\": 4.6, \"Horse_Power\": 562.0, \"Weight_lbs\": 3201.0}, {\"Car_Image\": \"https://www.kudosprime.com/fh5/images/cars/side/fh5_car_328.jpg?v=1\", \"Name_and_model\": \"2018 McLaren 600LT Coup\\u00e9\", \"Model_type\": \"TRACK TOYS\", \"In_Game_Price\": \"260,000\", \"car_source\": \"Autoshow\", \"stock_specs\": \"S1\", \"Stock_Rating\": 868.0, \"Drive_Type\": \"RWD\", \"speed\": 7.4, \"handling\": 7.7, \"acceleration\": 6.7, \"launch\": 5.3, \"braking\": 7.8, \"Offroad\": 4.3, \"Horse_Power\": 591.0, \"Weight_lbs\": 2989.0}, {\"Car_Image\": \"https://www.kudosprime.com/fh5/images/cars/side/fh5_car_326.jpg?v=1\", \"Name_and_model\": \"2018 McLaren 720S Coup\\u00e9\", \"Model_type\": \"MODERN SUPERCARS\", \"In_Game_Price\": \"340,000\", \"car_source\": \"Car Collection\", \"stock_specs\": \"S1\", \"Stock_Rating\": 899.0, \"Drive_Type\": \"RWD\", \"speed\": 8.4, \"handling\": 7.7, \"acceleration\": 6.9, \"launch\": 7.6, \"braking\": 8.8, \"Offroad\": 4.5, \"Horse_Power\": 710.0, \"Weight_lbs\": 3128.0}, {\"Car_Image\": \"https://www.kudosprime.com/fh5/images/cars/side/fh5_car_327.jpg?v=1\", \"Name_and_model\": \"2018 McLaren Senna\", \"Model_type\": \"HYPERCARS\", \"In_Game_Price\": \"1,000,000\", \"car_source\": \"Autoshow\", \"stock_specs\": \"S2\", \"Stock_Rating\": 934.0, \"Drive_Type\": \"RWD\", \"speed\": 8.0, \"handling\": 9.3, \"acceleration\": 7.2, \"launch\": 7.8, \"braking\": 10.0, \"Offroad\": 4.2, \"Horse_Power\": 789.0, \"Weight_lbs\": 2886.0}, {\"Car_Image\": \"https://www.kudosprime.com/fh5/images/cars/side/fh5_car_329.jpg?v=1\", \"Name_and_model\": \"2019 McLaren 720S Spider\", \"Model_type\": \"MODERN SUPERCARS\", \"In_Game_Price\": \"340,000\", \"car_source\": \"Autoshow\", \"stock_specs\": \"S1\", \"Stock_Rating\": 887.0, \"Drive_Type\": \"RWD\", \"speed\": 7.5, \"handling\": 7.4, \"acceleration\": 6.9, \"launch\": 7.5, \"braking\": 8.9, \"Offroad\": 4.4, \"Horse_Power\": 711.0, \"Weight_lbs\": 3236.0}, {\"Car_Image\": \"https://www.kudosprime.com/fh5/images/cars/side/fh5_car_330.jpg?v=1\", \"Name_and_model\": \"2019 McLaren Speedtail\", \"Model_type\": \"HYPERCARS\", \"In_Game_Price\": \"2,250,000\", \"car_source\": \"Autoshow\", \"stock_specs\": \"S2\", \"Stock_Rating\": 910.0, \"Drive_Type\": \"RWD\", \"speed\": 9.6, \"handling\": 7.4, \"acceleration\": 6.8, \"launch\": 7.4, \"braking\": 7.4, \"Offroad\": 3.7, \"Horse_Power\": 1036.0, \"Weight_lbs\": 3521.0}, {\"Car_Image\": \"https://www.kudosprime.com/fh5/images/cars/side/fh5_car_331.jpg?v=1\", \"Name_and_model\": \"2020 McLaren GT\", \"Model_type\": \"SUPER GT\", \"In_Game_Price\": \"210,000\", \"car_source\": \"Autoshow\", \"stock_specs\": \"S1\", \"Stock_Rating\": 823.0, \"Drive_Type\": \"RWD\", \"speed\": 7.4, \"handling\": 6.5, \"acceleration\": 6.6, \"launch\": 4.3, \"braking\": 5.3, \"Offroad\": 4.6, \"Horse_Power\": 611.0, \"Weight_lbs\": 3384.0}, {\"Car_Image\": \"https://www.kudosprime.com/fh5/images/cars/side/fh5_car_332.jpg?v=1\", \"Name_and_model\": \"2016 Mercedes-AMG C 63 S Coup\\u00e9\", \"Model_type\": \"SUPER SALOONS\", \"In_Game_Price\": \"90,000\", \"car_source\": \"Autoshow\", \"stock_specs\": \"A\", \"Stock_Rating\": 755.0, \"Drive_Type\": \"RWD\", \"speed\": 7.0, \"handling\": 5.9, \"acceleration\": 5.2, \"launch\": 5.5, \"braking\": 5.6, \"Offroad\": 4.6, \"Horse_Power\": 503.0, \"Weight_lbs\": 3968.0}, {\"Car_Image\": \"https://www.kudosprime.com/fh5/images/cars/side/fh5_car_333.jpg?v=1\", \"Name_and_model\": \"2017 Mercedes-AMG GT R\", \"Model_type\": \"SUPER GT\", \"In_Game_Price\": \"295,000\", \"car_source\": \"Autoshow\", \"stock_specs\": \"S1\", \"Stock_Rating\": 837.0, \"Drive_Type\": \"RWD\", \"speed\": 7.5, \"handling\": 7.0, \"acceleration\": 6.4, \"launch\": 7.0, \"braking\": 7.2, \"Offroad\": 4.5, \"Horse_Power\": 577.0, \"Weight_lbs\": 3428.0}, {\"Car_Image\": \"https://www.kudosprime.com/fh5/images/cars/side/fh5_car_335.jpg?v=1\", \"Name_and_model\": \"2018 Mercedes-AMG E 63 S\", \"Model_type\": \"SUPER SALOONS\", \"In_Game_Price\": \"135,000\", \"car_source\": \"Wheelspin\", \"stock_specs\": \"A\", \"Stock_Rating\": 778.0, \"Drive_Type\": \"AWD\", \"speed\": 7.6, \"handling\": 6.0, \"acceleration\": 8.7, \"launch\": 9.7, \"braking\": 4.8, \"Offroad\": 5.1, \"Horse_Power\": 603.0, \"Weight_lbs\": 4515.0}, {\"Car_Image\": \"https://www.kudosprime.com/fh5/images/cars/side/fh5_car_334.jpg?v=1\", \"Name_and_model\": \"2018 Mercedes-AMG GT 4-Door Coup\\u00e9\", \"Model_type\": \"SUPER SALOONS\", \"In_Game_Price\": \"175,000\", \"car_source\": \"Autoshow\", \"stock_specs\": \"A\", \"Stock_Rating\": 768.0, \"Drive_Type\": \"AWD\", \"speed\": 8.0, \"handling\": 5.8, \"acceleration\": 8.4, \"launch\": 9.4, \"braking\": 4.5, \"Offroad\": 5.2, \"Horse_Power\": 630.0, \"Weight_lbs\": 4508.0}, {\"Car_Image\": \"https://www.kudosprime.com/fh5/images/cars/side/fh5_car_336.jpg?v=1\", \"Name_and_model\": \"2021 Mercedes-AMG Mercedes-AMG ONE\", \"Model_type\": \"HYPERCARS\", \"In_Game_Price\": \"2,700,000\", \"car_source\": \"Autoshow\", \"stock_specs\": \"S2\", \"Stock_Rating\": 927.0, \"Drive_Type\": \"AWD\", \"speed\": 7.7, \"handling\": 8.9, \"acceleration\": 7.5, \"launch\": 3.2, \"braking\": 10.0, \"Offroad\": 4.7, \"Horse_Power\": 877.0, \"Weight_lbs\": 3737.0}, {\"Car_Image\": \"https://www.kudosprime.com/fh5/images/cars/side/fh5_car_337.jpg?v=1\", \"Name_and_model\": \"1929 Mercedes-Benz SSK\", \"Model_type\": \"RARE CLASSICS\", \"In_Game_Price\": \"7,500,000\", \"car_source\": \"Autoshow\", \"stock_specs\": \"D\", \"Stock_Rating\": 256.0, \"Drive_Type\": \"RWD\", \"speed\": 4.1, \"handling\": 3.6, \"acceleration\": 3.0, \"launch\": 1.8, \"braking\": 1.9, \"Offroad\": 5.5, \"Horse_Power\": 200.0, \"Weight_lbs\": 3725.0}, {\"Car_Image\": \"https://www.kudosprime.com/fh5/images/cars/side/fh5_car_338.jpg?v=1\", \"Name_and_model\": \"1939 Mercedes-Benz W154\", \"Model_type\": \"VINTAGE RACERS\", \"In_Game_Price\": \"20,000,000\", \"car_source\": \"Car Collection\", \"stock_specs\": \"B\", \"Stock_Rating\": 672.0, \"Drive_Type\": \"RWD\", \"speed\": 7.9, \"handling\": 3.8, \"acceleration\": 4.1, \"launch\": 3.3, \"braking\": 2.8, \"Offroad\": 4.2, \"Horse_Power\": 483.0, \"Weight_lbs\": 2683.0}, {\"Car_Image\": \"https://www.kudosprime.com/fh5/images/cars/side/fh5_car_339.jpg?v=1\", \"Name_and_model\": \"1954 Mercedes-Benz 300 SL Coup\\u00e9\", \"Model_type\": \"RARE CLASSICS\", \"In_Game_Price\": \"1,200,000\", \"car_source\": \"Autoshow\", \"stock_specs\": \"D\", \"Stock_Rating\": 498.0, \"Drive_Type\": \"RWD\", \"speed\": 5.1, \"handling\": 4.2, \"acceleration\": 3.6, \"launch\": 2.3, \"braking\": 2.4, \"Offroad\": 5.6, \"Horse_Power\": 241.0, \"Weight_lbs\": 2960.0}, {\"Car_Image\": \"https://www.kudosprime.com/fh5/images/cars/side/fh5_car_340.jpg?v=1\", \"Name_and_model\": \"1987 Mercedes-Benz AMG Hammer Coupe\", \"Model_type\": \"RETRO SALOONS\", \"In_Game_Price\": \"165,000\", \"car_source\": \"Autoshow\", \"stock_specs\": \"B\", \"Stock_Rating\": 681.0, \"Drive_Type\": \"RWD\", \"speed\": 7.2, \"handling\": 5.5, \"acceleration\": 4.2, \"launch\": 3.0, \"braking\": 3.8, \"Offroad\": 4.7, \"Horse_Power\": 379.0, \"Weight_lbs\": 3640.0}, {\"Car_Image\": \"https://www.kudosprime.com/fh5/images/cars/side/fh5_car_341.jpg?v=1\", \"Name_and_model\": \"1990 Mercedes-Benz 190E 2.5-16 Evolution II\", \"Model_type\": \"RETRO SALOONS\", \"In_Game_Price\": \"150,000\", \"car_source\": \"Autoshow\", \"stock_specs\": \"C\", \"Stock_Rating\": 579.0, \"Drive_Type\": \"RWD\", \"speed\": 6.2, \"handling\": 4.9, \"acceleration\": 4.0, \"launch\": 3.6, \"braking\": 2.9, \"Offroad\": 4.4, \"Horse_Power\": 235.0, \"Weight_lbs\": 2954.0}, {\"Car_Image\": \"https://www.kudosprime.com/fh5/images/cars/side/fh5_car_342.jpg?v=1\", \"Name_and_model\": \"1998 Mercedes-Benz AMG CLK GTR\", \"Model_type\": \"RETRO SUPERCARS\", \"In_Game_Price\": \"2,000,000\", \"car_source\": \"Autoshow\", \"stock_specs\": \"S1\", \"Stock_Rating\": 829.0, \"Drive_Type\": \"RWD\", \"speed\": 7.5, \"handling\": 7.6, \"acceleration\": 6.1, \"launch\": 5.1, \"braking\": 6.5, \"Offroad\": 4.2, \"Horse_Power\": 622.0, \"Weight_lbs\": 3175.0}, {\"Car_Image\": \"https://www.kudosprime.com/fh5/images/cars/side/fh5_car_502.jpg?v=1\", \"Name_and_model\": \"1998 Mercedes-Benz AMG CLK GTR Forza Edition\", \"Model_type\": \"EXTREME TRACK TOYS\", \"In_Game_Price\": \"2,250,000\", \"car_source\": \"Wheelspin\", \"stock_specs\": \"S2\", \"Stock_Rating\": 998.0, \"Drive_Type\": \"RWD\", \"speed\": 7.8, \"handling\": 10.0, \"acceleration\": 8.2, \"launch\": 9.0, \"braking\": 10.0, \"Offroad\": 3.7, \"Horse_Power\": 1000.0, \"Weight_lbs\": 2315.0}, {\"Car_Image\": \"https://www.kudosprime.com/fh5/images/cars/side/fh5_car_343.jpg?v=1\", \"Name_and_model\": \"2011 Mercedes-Benz SLS AMG\", \"Model_type\": \"SUPER GT\", \"In_Game_Price\": \"200,000\", \"car_source\": \"Autoshow\", \"stock_specs\": \"S1\", \"Stock_Rating\": 804.0, \"Drive_Type\": \"RWD\", \"speed\": 7.6, \"handling\": 6.5, \"acceleration\": 5.8, \"launch\": 6.2, \"braking\": 6.4, \"Offroad\": 4.4, \"Horse_Power\": 571.0, \"Weight_lbs\": 3571.0}, {\"Car_Image\": \"https://www.kudosprime.com/fh5/images/cars/side/fh5_car_345.jpg?v=1\", \"Name_and_model\": \"2012 Mercedes-Benz C 63 AMG Coup\\u00e9 Black Series\", \"Model_type\": \"SUPER SALOONS\", \"In_Game_Price\": \"150,000\", \"car_source\": \"Autoshow\", \"stock_specs\": \"A\", \"Stock_Rating\": 768.0, \"Drive_Type\": \"RWD\", \"speed\": 7.6, \"handling\": 6.1, \"acceleration\": 5.1, \"launch\": 5.3, \"braking\": 4.9, \"Offroad\": 4.6, \"Horse_Power\": 510.0, \"Weight_lbs\": 3854.0}, {\"Car_Image\": \"https://www.kudosprime.com/fh5/images/cars/side/fh5_car_344.jpg?v=1\", \"Name_and_model\": \"2012 Mercedes-Benz SLK 55 AMG\", \"Model_type\": \"MODERN SPORTS CARS\", \"In_Game_Price\": \"78,000\", \"car_source\": \"Autoshow\", \"stock_specs\": \"A\", \"Stock_Rating\": 740.0, \"Drive_Type\": \"RWD\", \"speed\": 7.3, \"handling\": 5.9, \"acceleration\": 5.4, \"launch\": 5.7, \"braking\": 4.5, \"Offroad\": 4.8, \"Horse_Power\": 415.0, \"Weight_lbs\": 3527.0}, {\"Car_Image\": \"https://www.kudosprime.com/fh5/images/cars/side/fh5_car_347.jpg?v=1\", \"Name_and_model\": \"2013 Mercedes-Benz A 45 AMG\", \"Model_type\": \"SUPER HOT HATCH\", \"In_Game_Price\": \"65,000\", \"car_source\": \"Autoshow\", \"stock_specs\": \"A\", \"Stock_Rating\": 707.0, \"Drive_Type\": \"AWD\", \"speed\": 6.7, \"handling\": 6.2, \"acceleration\": 6.6, \"launch\": 4.5, \"braking\": 4.4, \"Offroad\": 5.1, \"Horse_Power\": 355.0, \"Weight_lbs\": 3263.0}, {\"Car_Image\": \"https://www.kudosprime.com/fh5/images/cars/side/fh5_car_348.jpg?v=1\", \"Name_and_model\": \"2013 Mercedes-Benz E 63 AMG\", \"Model_type\": \"SUPER SALOONS\", \"In_Game_Price\": \"105,000\", \"car_source\": \"Autoshow\", \"stock_specs\": \"A\", \"Stock_Rating\": 751.0, \"Drive_Type\": \"AWD\", \"speed\": 7.7, \"handling\": 6.0, \"acceleration\": 7.0, \"launch\": 7.8, \"braking\": 4.5, \"Offroad\": 5.2, \"Horse_Power\": 577.0, \"Weight_lbs\": 4277.0}, {\"Car_Image\": \"https://www.kudosprime.com/fh5/images/cars/side/fh5_car_346.jpg?v=1\", \"Name_and_model\": \"2013 Mercedes-Benz G 65 AMG\", \"Model_type\": \"PICK-UP & 4X4'S\", \"In_Game_Price\": \"350,000\", \"car_source\": \"Autoshow\", \"stock_specs\": \"B\", \"Stock_Rating\": 639.0, \"Drive_Type\": \"AWD\", \"speed\": 5.9, \"handling\": 3.2, \"acceleration\": 6.6, \"launch\": 8.0, \"braking\": 3.2, \"Offroad\": 8.0, \"Horse_Power\": 603.0, \"Weight_lbs\": 5688.0}, {\"Car_Image\": \"https://www.kudosprime.com/fh5/images/cars/side/fh5_car_350.jpg?v=1\", \"Name_and_model\": \"2014 Mercedes-Benz G 63 AMG 6x6\", \"Model_type\": \"PICK-UP & 4X4'S\", \"In_Game_Price\": \"525,000\", \"car_source\": \"Autoshow\", \"stock_specs\": \"B\", \"Stock_Rating\": 606.0, \"Drive_Type\": \"AWD\", \"speed\": 5.6, \"handling\": 3.6, \"acceleration\": 4.0, \"launch\": 6.6, \"braking\": 4.1, \"Offroad\": 9.3, \"Horse_Power\": 536.0, \"Weight_lbs\": 9050.0}, {\"Car_Image\": \"https://www.kudosprime.com/fh5/images/cars/side/fh5_car_349.jpg?v=1\", \"Name_and_model\": \"2014 Mercedes-Benz Unimog U5023\", \"Model_type\": \"TRUCKS\", \"In_Game_Price\": \"100,000\", \"car_source\": \"Autoshow\", \"stock_specs\": \"D\", \"Stock_Rating\": 103.0, \"Drive_Type\": \"AWD\", \"speed\": 2.8, \"handling\": 3.3, \"acceleration\": 1.3, \"launch\": 3.0, \"braking\": 2.7, \"Offroad\": 8.7, \"Horse_Power\": 228.0, \"Weight_lbs\": 15432.0}, {\"Car_Image\": \"https://www.kudosprime.com/fh5/images/cars/side/fh5_car_351.jpg?v=1\", \"Name_and_model\": \"2015 Mercedes-Benz #24 Tankpool24 Racing Truck\", \"Model_type\": \"TRUCKS\", \"In_Game_Price\": \"500,000\", \"car_source\": \"Autoshow\", \"stock_specs\": \"A\", \"Stock_Rating\": 702.0, \"Drive_Type\": \"RWD\", \"speed\": 5.1, \"handling\": 5.6, \"acceleration\": 5.4, \"launch\": 5.8, \"braking\": 5.0, \"Offroad\": 5.0, \"Horse_Power\": 1080.0, \"Weight_lbs\": 12125.0}, {\"Car_Image\": \"https://www.kudosprime.com/fh5/images/cars/side/fh5_car_503.jpg?v=1\", \"Name_and_model\": \"2015 Mercedes-Benz #24 Tankpool24 Racing Truck Forza Edition\", \"Model_type\": \"UNLIMITED OFFROAD\", \"In_Game_Price\": \"750,000\", \"car_source\": \"Wheelspin\", \"stock_specs\": \"A\", \"Stock_Rating\": 800.0, \"Drive_Type\": \"AWD\", \"speed\": 6.1, \"handling\": 3.3, \"acceleration\": 8.8, \"launch\": 10.0, \"braking\": 5.3, \"Offroad\": 9.7, \"Horse_Power\": 1743.0, \"Weight_lbs\": 3685.0}, {\"Car_Image\": \"https://www.kudosprime.com/fh5/images/cars/side/fh5_car_352.jpg?v=1\", \"Name_and_model\": \"2018 Mercedes-Benz X-Class\", \"Model_type\": \"PICK-UP & 4X4'S\", \"In_Game_Price\": \"65,000\", \"car_source\": \"Autoshow\", \"stock_specs\": \"D\", \"Stock_Rating\": 368.0, \"Drive_Type\": \"AWD\", \"speed\": 4.2, \"handling\": 3.2, \"acceleration\": 2.4, \"launch\": 4.2, \"braking\": 2.8, \"Offroad\": 7.8, \"Horse_Power\": 188.0, \"Weight_lbs\": 4764.0}, {\"Car_Image\": \"https://www.kudosprime.com/fh5/images/cars/side/fh5_car_541.jpg?v=1\", \"Name_and_model\": \"1970 Mercury Cyclone Spoiler\", \"Model_type\": \"CLASSIC MUSCLE\", \"In_Game_Price\": \"0\", \"car_source\": \"Autoshow\", \"stock_specs\": \"D\", \"Stock_Rating\": 491.0, \"Drive_Type\": \"RWD\", \"speed\": 5.8, \"handling\": 3.6, \"acceleration\": 3.1, \"launch\": 2.8, \"braking\": 2.2, \"Offroad\": 4.9, \"Horse_Power\": 370.0, \"Weight_lbs\": 3947.0}, {\"Car_Image\": \"https://www.kudosprime.com/fh5/images/cars/side/fh5_car_353.jpg?v=1\", \"Name_and_model\": \"1971 Meyers Manx\", \"Model_type\": \"CULT CARS\", \"In_Game_Price\": \"35,000\", \"car_source\": \"Wheelspin\", \"stock_specs\": \"D\", \"Stock_Rating\": 291.0, \"Drive_Type\": \"RWD\", \"speed\": 3.1, \"handling\": 4.3, \"acceleration\": 2.9, \"launch\": 5.3, \"braking\": 2.6, \"Offroad\": 5.9, \"Horse_Power\": 60.0, \"Weight_lbs\": 1235.0}, {\"Car_Image\": \"https://www.kudosprime.com/fh5/images/cars/side/fh5_car_504.jpg?v=1\", \"Name_and_model\": \"1971 Meyers Manx Forza Edition\", \"Model_type\": \"TRACK TOYS\", \"In_Game_Price\": \"500,000\", \"car_source\": \"Wheelspin\", \"stock_specs\": \"A\", \"Stock_Rating\": 800.0, \"Drive_Type\": \"RWD\", \"speed\": 5.2, \"handling\": 6.8, \"acceleration\": 8.2, \"launch\": 9.3, \"braking\": 7.7, \"Offroad\": 3.8, \"Horse_Power\": 250.0, \"Weight_lbs\": 1102.0}, {\"Car_Image\": \"https://www.kudosprime.com/fh5/images/cars/side/fh5_car_354.jpg?v=1\", \"Name_and_model\": \"1986 MG Metro 6R4\", \"Model_type\": \"RALLY MONSTERS\", \"In_Game_Price\": \"125,000\", \"car_source\": \"Wheelspin\", \"stock_specs\": \"S1\", \"Stock_Rating\": 811.0, \"Drive_Type\": \"AWD\", \"speed\": 4.6, \"handling\": 5.9, \"acceleration\": 8.8, \"launch\": 8.2, \"braking\": 5.8, \"Offroad\": 7.5, \"Horse_Power\": 410.0, \"Weight_lbs\": 2271.0}, {\"Car_Image\": \"https://www.kudosprime.com/fh5/images/cars/side/fh5_car_355.jpg?v=1\", \"Name_and_model\": \"1965 Mini Cooper S\", \"Model_type\": \"CLASSIC RALLY\", \"In_Game_Price\": \"30,000\", \"car_source\": \"Autoshow\", \"stock_specs\": \"D\", \"Stock_Rating\": 281.0, \"Drive_Type\": \"FWD\", \"speed\": 3.6, \"handling\": 3.2, \"acceleration\": 2.6, \"launch\": 2.7, \"braking\": 2.0, \"Offroad\": 4.1, \"Horse_Power\": 75.0, \"Weight_lbs\": 1480.0}, {\"Car_Image\": \"https://www.kudosprime.com/fh5/images/cars/side/fh5_car_356.jpg?v=1\", \"Name_and_model\": \"2009 Mini John Cooper Works\", \"Model_type\": \"HOT HATCH\", \"In_Game_Price\": \"25,000\", \"car_source\": \"Autoshow\", \"stock_specs\": \"C\", \"Stock_Rating\": 598.0, \"Drive_Type\": \"FWD\", \"speed\": 5.4, \"handling\": 5.0, \"acceleration\": 4.1, \"launch\": 4.1, \"braking\": 3.8, \"Offroad\": 4.7, \"Horse_Power\": 208.0, \"Weight_lbs\": 2701.0}, {\"Car_Image\": \"https://www.kudosprime.com/fh5/images/cars/side/fh5_car_357.jpg?v=1\", \"Name_and_model\": \"2012 Mini John Cooper Works GP\", \"Model_type\": \"HOT HATCH\", \"In_Game_Price\": \"38,000\", \"car_source\": \"Autoshow\", \"stock_specs\": \"B\", \"Stock_Rating\": 628.0, \"Drive_Type\": \"FWD\", \"speed\": 5.4, \"handling\": 4.9, \"acceleration\": 4.2, \"launch\": 4.3, \"braking\": 3.7, \"Offroad\": 4.6, \"Horse_Power\": 215.0, \"Weight_lbs\": 2557.0}, {\"Car_Image\": \"https://www.kudosprime.com/fh5/images/cars/side/fh5_car_358.jpg?v=1\", \"Name_and_model\": \"2013 Mini X-Raid ALL4 Racing Countryman\", \"Model_type\": \"OFFROAD\", \"In_Game_Price\": \"250,000\", \"car_source\": \"Wheelspin\", \"stock_specs\": \"B\", \"Stock_Rating\": 632.0, \"Drive_Type\": \"AWD\", \"speed\": 3.3, \"handling\": 4.7, \"acceleration\": 5.2, \"launch\": 8.4, \"braking\": 4.1, \"Offroad\": 8.1, \"Horse_Power\": 307.0, \"Weight_lbs\": 4299.0}, {\"Car_Image\": \"https://www.kudosprime.com/fh5/images/cars/side/fh5_car_359.jpg?v=1\", \"Name_and_model\": \"2018 Mini John Cooper Works Countryman ALL4\", \"Model_type\": \"SPORTS UTILITY HEROES\", \"In_Game_Price\": \"38,500\", \"car_source\": \"Autoshow\", \"stock_specs\": \"C\", \"Stock_Rating\": 537.0, \"Drive_Type\": \"AWD\", \"speed\": 5.1, \"handling\": 5.0, \"acceleration\": 3.8, \"launch\": 5.3, \"braking\": 3.0, \"Offroad\": 5.7, \"Horse_Power\": 228.0, \"Weight_lbs\": 3653.0}, {\"Car_Image\": \"https://www.kudosprime.com/fh5/images/cars/side/fh5_car_360.jpg?v=1\", \"Name_and_model\": \"2018 Mini X-Raid John Cooper Works Buggy\", \"Model_type\": \"OFFROAD\", \"In_Game_Price\": \"250,000\", \"car_source\": \"Autoshow\", \"stock_specs\": \"B\", \"Stock_Rating\": 632.0, \"Drive_Type\": \"RWD\", \"speed\": 4.5, \"handling\": 3.7, \"acceleration\": 4.9, \"launch\": 6.6, \"braking\": 4.9, \"Offroad\": 10.0, \"Horse_Power\": 340.0, \"Weight_lbs\": 4328.0}, {\"Car_Image\": \"https://www.kudosprime.com/fh5/images/cars/side/fh5_car_361.jpg?v=1\", \"Name_and_model\": \"1988 Mitsubishi Starion ESI-R\", \"Model_type\": \"RETRO SPORTS CARS\", \"In_Game_Price\": \"20,000\", \"car_source\": \"Autoshow\", \"stock_specs\": \"C\", \"Stock_Rating\": 549.0, \"Drive_Type\": \"RWD\", \"speed\": 5.2, \"handling\": 5.0, \"acceleration\": 4.2, \"launch\": 3.5, \"braking\": 2.9, \"Offroad\": 5.3, \"Horse_Power\": 188.0, \"Weight_lbs\": 3087.0}, {\"Car_Image\": \"https://www.kudosprime.com/fh5/images/cars/side/fh5_car_362.jpg?v=1\", \"Name_and_model\": \"1995 Mitsubishi Eclipse GSX\", \"Model_type\": \"RETRO SPORTS CARS\", \"In_Game_Price\": \"25,000\", \"car_source\": \"Autoshow\", \"stock_specs\": \"C\", \"Stock_Rating\": 543.0, \"Drive_Type\": \"AWD\", \"speed\": 5.9, \"handling\": 4.8, \"acceleration\": 3.9, \"launch\": 3.2, \"braking\": 2.8, \"Offroad\": 5.4, \"Horse_Power\": 210.0, \"Weight_lbs\": 3199.0}, {\"Car_Image\": \"https://www.kudosprime.com/fh5/images/cars/side/fh5_car_363.jpg?v=1\", \"Name_and_model\": \"1997 Mitsubishi GTO\", \"Model_type\": \"RETRO SPORTS CARS\", \"In_Game_Price\": \"20,000\", \"car_source\": \"Autoshow\", \"stock_specs\": \"B\", \"Stock_Rating\": 610.0, \"Drive_Type\": \"AWD\", \"speed\": 6.1, \"handling\": 5.1, \"acceleration\": 4.5, \"launch\": 3.6, \"braking\": 3.4, \"Offroad\": 5.5, \"Horse_Power\": 320.0, \"Weight_lbs\": 3704.0}, {\"Car_Image\": \"https://www.kudosprime.com/fh5/images/cars/side/fh5_car_364.jpg?v=2\", \"Name_and_model\": \"1999 Mitsubishi Lancer Evolution VI GSR\", \"Model_type\": \"RETRO RALLY\", \"In_Game_Price\": \"28,000\", \"car_source\": \"Autoshow\", \"stock_specs\": \"B\", \"Stock_Rating\": 659.0, \"Drive_Type\": \"AWD\", \"speed\": 5.6, \"handling\": 5.3, \"acceleration\": 5.6, \"launch\": 3.8, \"braking\": 3.7, \"Offroad\": 5.5, \"Horse_Power\": 280.0, \"Weight_lbs\": 2822.0}, {\"Car_Image\": \"https://www.kudosprime.com/fh5/images/cars/side/fh5_car_365.jpg?v=1\", \"Name_and_model\": \"2004 Mitsubishi Lancer Evolution VIII MR\", \"Model_type\": \"MODERN RALLY\", \"In_Game_Price\": \"31,000\", \"car_source\": \"Autoshow\", \"stock_specs\": \"B\", \"Stock_Rating\": 664.0, \"Drive_Type\": \"AWD\", \"speed\": 6.2, \"handling\": 5.4, \"acceleration\": 5.7, \"launch\": 3.1, \"braking\": 3.6, \"Offroad\": 5.7, \"Horse_Power\": 305.0, \"Weight_lbs\": 3109.0}, {\"Car_Image\": \"https://www.kudosprime.com/fh5/images/cars/side/fh5_car_366.jpg?v=1\", \"Name_and_model\": \"2006 Mitsubishi Lancer Evolution IX MR\", \"Model_type\": \"MODERN RALLY\", \"In_Game_Price\": \"27,000\", \"car_source\": \"Autoshow\", \"stock_specs\": \"B\", \"Stock_Rating\": 632.0, \"Drive_Type\": \"AWD\", \"speed\": 5.9, \"handling\": 5.4, \"acceleration\": 4.7, \"launch\": 2.4, \"braking\": 3.6, \"Offroad\": 5.6, \"Horse_Power\": 286.0, \"Weight_lbs\": 3285.0}, {\"Car_Image\": \"https://www.kudosprime.com/fh5/images/cars/side/fh5_car_367.jpg?v=2\", \"Name_and_model\": \"2008 Mitsubishi Lancer Evolution X GSR\", \"Model_type\": \"MODERN RALLY\", \"In_Game_Price\": \"43,000\", \"car_source\": \"Autoshow\", \"stock_specs\": \"B\", \"Stock_Rating\": 649.0, \"Drive_Type\": \"AWD\", \"speed\": 5.7, \"handling\": 5.5, \"acceleration\": 5.1, \"launch\": 2.9, \"braking\": 3.7, \"Offroad\": 5.7, \"Horse_Power\": 305.0, \"Weight_lbs\": 3395.0}, {\"Car_Image\": \"https://www.kudosprime.com/fh5/images/cars/side/fh5_car_368.jpg?v=1\", \"Name_and_model\": \"2008 Mitsubishi Lancer Evolution X GSR \\\"Welcome Pack\\\"\", \"Model_type\": \"MODERN RALLY\", \"In_Game_Price\": \"43,000\", \"car_source\": \"Autoshow\", \"stock_specs\": \"A\", \"Stock_Rating\": 800.0, \"Drive_Type\": \"AWD\", \"speed\": 7.1, \"handling\": 5.8, \"acceleration\": 9.2, \"launch\": 4.6, \"braking\": 4.1, \"Offroad\": 8.1, \"Horse_Power\": 583.0, \"Weight_lbs\": 3395.0}, {\"Car_Image\": \"https://www.kudosprime.com/fh5/images/cars/side/fh5_car_369.jpg?v=1\", \"Name_and_model\": \"2014 Morgan 3 Wheeler\", \"Model_type\": \"CULT CARS\", \"In_Game_Price\": \"50,000\", \"car_source\": \"Autoshow\", \"stock_specs\": \"D\", \"Stock_Rating\": 488.0, \"Drive_Type\": \"RWD\", \"speed\": 4.0, \"handling\": 3.2, \"acceleration\": 3.3, \"launch\": 3.2, \"braking\": 2.9, \"Offroad\": 4.2, \"Horse_Power\": 82.0, \"Weight_lbs\": 1200.0}, {\"Car_Image\": \"https://www.kudosprime.com/fh5/images/cars/side/fh5_car_505.jpg?v=1\", \"Name_and_model\": \"1953 Morris Minor 1000 Forza Edition\", \"Model_type\": \"TRACK TOYS\", \"In_Game_Price\": \"500,000\", \"car_source\": \"Wheelspin\", \"stock_specs\": \"A\", \"Stock_Rating\": 800.0, \"Drive_Type\": \"RWD\", \"speed\": 4.9, \"handling\": 6.4, \"acceleration\": 5.9, \"launch\": 6.3, \"braking\": 6.4, \"Offroad\": 2.9, \"Horse_Power\": 308.0, \"Weight_lbs\": 1433.0}, {\"Car_Image\": \"https://www.kudosprime.com/fh5/images/cars/side/fh5_car_520.jpg?v=1\", \"Name_and_model\": \"1958 Morris Minor 1000\", \"Model_type\": \"CULT CARS\", \"In_Game_Price\": \"20,000\", \"car_source\": \"Autoshow\", \"stock_specs\": \"D\", \"Stock_Rating\": 100.0, \"Drive_Type\": \"RWD\", \"speed\": 2.7, \"handling\": 4.0, \"acceleration\": 1.6, \"launch\": 2.1, \"braking\": 1.9, \"Offroad\": 5.6, \"Horse_Power\": 37.0, \"Weight_lbs\": 1764.0}, {\"Car_Image\": \"https://www.kudosprime.com/fh5/images/cars/side/fh5_car_371.jpg?v=1\", \"Name_and_model\": \"2010 Mosler MT900S\", \"Model_type\": \"EXTREME TRACK TOYS\", \"In_Game_Price\": \"320,000\", \"car_source\": \"Autoshow\", \"stock_specs\": \"S2\", \"Stock_Rating\": 919.0, \"Drive_Type\": \"RWD\", \"speed\": 8.2, \"handling\": 9.8, \"acceleration\": 7.4, \"launch\": 8.1, \"braking\": 8.4, \"Offroad\": 4.7, \"Horse_Power\": 530.0, \"Weight_lbs\": 2480.0}, {\"Car_Image\": \"https://www.kudosprime.com/fh5/images/cars/side/fh5_car_372.jpg?v=1\", \"Name_and_model\": \"1933 Napier Napier-Railton\", \"Model_type\": \"VINTAGE RACERS\", \"In_Game_Price\": \"1,500,000\", \"car_source\": \"Autoshow\", \"stock_specs\": \"B\", \"Stock_Rating\": 603.0, \"Drive_Type\": \"RWD\", \"speed\": 6.5, \"handling\": 4.1, \"acceleration\": 3.7, \"launch\": 3.6, \"braking\": 3.1, \"Offroad\": 4.4, \"Horse_Power\": 564.0, \"Weight_lbs\": 4518.0}, {\"Car_Image\": \"https://www.kudosprime.com/fh5/images/cars/side/fh5_car_373.jpg?v=1\", \"Name_and_model\": \"1969 Nissan Fairlady Z 432\", \"Model_type\": \"CLASSIC SPORTS CARS\", \"In_Game_Price\": \"150,000\", \"car_source\": \"Car Collection\", \"stock_specs\": \"D\", \"Stock_Rating\": 482.0, \"Drive_Type\": \"RWD\", \"speed\": 4.4, \"handling\": 4.7, \"acceleration\": 3.6, \"launch\": 2.4, \"braking\": 2.7, \"Offroad\": 5.2, \"Horse_Power\": 160.0, \"Weight_lbs\": 2308.0}, {\"Car_Image\": \"https://www.kudosprime.com/fh5/images/cars/side/fh5_car_374.jpg?v=1\", \"Name_and_model\": \"1971 Nissan Skyline 2000GT-R\", \"Model_type\": \"CLASSIC SPORTS CARS\", \"In_Game_Price\": \"60,000\", \"car_source\": \"Autoshow\", \"stock_specs\": \"D\", \"Stock_Rating\": 493.0, \"Drive_Type\": \"RWD\", \"speed\": 4.7, \"handling\": 4.4, \"acceleration\": 3.6, \"launch\": 2.5, \"braking\": 2.6, \"Offroad\": 5.0, \"Horse_Power\": 160.0, \"Weight_lbs\": 2425.0}, {\"Car_Image\": \"https://www.kudosprime.com/fh5/images/cars/side/fh5_car_375.jpg?v=1\", \"Name_and_model\": \"1973 Nissan Skyline H/T 2000GT-R\", \"Model_type\": \"CLASSIC SPORTS CARS\", \"In_Game_Price\": \"170,000\", \"car_source\": \"Autoshow\", \"stock_specs\": \"C\", \"Stock_Rating\": 518.0, \"Drive_Type\": \"RWD\", \"speed\": 4.7, \"handling\": 4.5, \"acceleration\": 3.4, \"launch\": 2.2, \"braking\": 3.0, \"Offroad\": 5.8, \"Horse_Power\": 158.0, \"Weight_lbs\": 2524.0}, {\"Car_Image\": \"https://www.kudosprime.com/fh5/images/cars/side/fh5_car_376.jpg?v=1\", \"Name_and_model\": \"1987 Nissan Skyline GTS-R (HR31)\", \"Model_type\": \"RETRO SPORTS CARS\", \"In_Game_Price\": \"100,000\", \"car_source\": \"Autoshow\", \"stock_specs\": \"C\", \"Stock_Rating\": 543.0, \"Drive_Type\": \"RWD\", \"speed\": 5.7, \"handling\": 4.7, \"acceleration\": 4.0, \"launch\": 2.5, \"braking\": 2.7, \"Offroad\": 4.9, \"Horse_Power\": 206.0, \"Weight_lbs\": 2965.0}, {\"Car_Image\": \"https://www.kudosprime.com/fh5/images/cars/side/fh5_car_377.jpg?v=1\", \"Name_and_model\": \"1990 Nissan Pulsar GTI-R\", \"Model_type\": \"RETRO RALLY\", \"In_Game_Price\": \"20,000\", \"car_source\": \"Autoshow\", \"stock_specs\": \"C\", \"Stock_Rating\": 594.0, \"Drive_Type\": \"AWD\", \"speed\": 5.4, \"handling\": 4.8, \"acceleration\": 5.5, \"launch\": 3.4, \"braking\": 2.9, \"Offroad\": 5.1, \"Horse_Power\": 227.0, \"Weight_lbs\": 2734.0}, {\"Car_Image\": \"https://www.kudosprime.com/fh5/images/cars/side/fh5_car_378.jpg?v=1\", \"Name_and_model\": \"1992 Nissan Silvia CLUB K's\", \"Model_type\": \"RETRO SPORTS CARS\", \"In_Game_Price\": \"25,000\", \"car_source\": \"Autoshow\", \"stock_specs\": \"C\", \"Stock_Rating\": 537.0, \"Drive_Type\": \"RWD\", \"speed\": 5.5, \"handling\": 4.7, \"acceleration\": 3.8, \"launch\": 3.5, \"braking\": 2.7, \"Offroad\": 4.8, \"Horse_Power\": 202.0, \"Weight_lbs\": 2535.0}, {\"Car_Image\": \"https://www.kudosprime.com/fh5/images/cars/side/fh5_car_380.jpg?v=1\", \"Name_and_model\": \"1993 Nissan 240SX SE\", \"Model_type\": \"RETRO SPORTS CARS\", \"In_Game_Price\": \"25,000\", \"car_source\": \"Autoshow\", \"stock_specs\": \"D\", \"Stock_Rating\": 445.0, \"Drive_Type\": \"RWD\", \"speed\": 5.1, \"handling\": 4.6, \"acceleration\": 3.3, \"launch\": 2.5, \"braking\": 2.5, \"Offroad\": 5.3, \"Horse_Power\": 155.0, \"Weight_lbs\": 2915.0}, {\"Car_Image\": \"https://www.kudosprime.com/fh5/images/cars/side/fh5_car_379.jpg?v=1\", \"Name_and_model\": \"1993 Nissan Skyline GT-R V-Spec\", \"Model_type\": \"RETRO SPORTS CARS\", \"In_Game_Price\": \"85,000\", \"car_source\": \"Autoshow\", \"stock_specs\": \"B\", \"Stock_Rating\": 626.0, \"Drive_Type\": \"AWD\", \"speed\": 5.8, \"handling\": 5.7, \"acceleration\": 4.5, \"launch\": 2.7, \"braking\": 3.6, \"Offroad\": 5.3, \"Horse_Power\": 320.0, \"Weight_lbs\": 3307.0}, {\"Car_Image\": \"https://www.kudosprime.com/fh5/images/cars/side/fh5_car_381.jpg?v=1\", \"Name_and_model\": \"1994 Nissan Fairlady Z Version S Twin Turbo\", \"Model_type\": \"RETRO SPORTS CARS\", \"In_Game_Price\": \"20,000\", \"car_source\": \"Autoshow\", \"stock_specs\": \"B\", \"Stock_Rating\": 607.0, \"Drive_Type\": \"RWD\", \"speed\": 6.0, \"handling\": 5.2, \"acceleration\": 4.3, \"launch\": 2.7, \"braking\": 3.2, \"Offroad\": 4.9, \"Horse_Power\": 276.0, \"Weight_lbs\": 3351.0}, {\"Car_Image\": \"https://www.kudosprime.com/fh5/images/cars/side/fh5_car_382.jpg?v=1\", \"Name_and_model\": \"1994 Nissan Silvia K's\", \"Model_type\": \"RETRO SPORTS CARS\", \"In_Game_Price\": \"25,000\", \"car_source\": \"Autoshow\", \"stock_specs\": \"B\", \"Stock_Rating\": 617.0, \"Drive_Type\": \"RWD\", \"speed\": 5.8, \"handling\": 5.3, \"acceleration\": 4.4, \"launch\": 2.7, \"braking\": 3.4, \"Offroad\": 5.2, \"Horse_Power\": 217.0, \"Weight_lbs\": 2789.0}, {\"Car_Image\": \"https://www.kudosprime.com/fh5/images/cars/side/fh5_car_383.jpg?v=1\", \"Name_and_model\": \"1995 Nissan NISMO GT-R LM\", \"Model_type\": \"RETRO SPORTS CARS\", \"In_Game_Price\": \"1,100,000\", \"car_source\": \"Autoshow\", \"stock_specs\": \"B\", \"Stock_Rating\": 658.0, \"Drive_Type\": \"RWD\", \"speed\": 5.9, \"handling\": 6.6, \"acceleration\": 4.5, \"launch\": 3.0, \"braking\": 4.0, \"Offroad\": 4.0, \"Horse_Power\": 300.0, \"Weight_lbs\": 3483.0}, {\"Car_Image\": \"https://www.kudosprime.com/fh5/images/cars/side/fh5_car_384.jpg?v=1\", \"Name_and_model\": \"1997 Nissan Skyline GT-R V-Spec\", \"Model_type\": \"RETRO SPORTS CARS\", \"In_Game_Price\": \"37,000\", \"car_source\": \"Autoshow\", \"stock_specs\": \"B\", \"Stock_Rating\": 635.0, \"Drive_Type\": \"AWD\", \"speed\": 6.1, \"handling\": 5.7, \"acceleration\": 4.8, \"launch\": 2.5, \"braking\": 3.7, \"Offroad\": 5.4, \"Horse_Power\": 278.0, \"Weight_lbs\": 3393.0}, {\"Car_Image\": \"https://www.kudosprime.com/fh5/images/cars/side/fh5_car_385.jpg?v=1\", \"Name_and_model\": \"1998 Nissan R390 (GT1)\", \"Model_type\": \"RETRO SUPERCARS\", \"In_Game_Price\": \"1,250,000\", \"car_source\": \"Autoshow\", \"stock_specs\": \"S1\", \"Stock_Rating\": 859.0, \"Drive_Type\": \"RWD\", \"speed\": 7.1, \"handling\": 7.8, \"acceleration\": 6.3, \"launch\": 2.5, \"braking\": 7.1, \"Offroad\": 3.5, \"Horse_Power\": 550.0, \"Weight_lbs\": 2264.0}, {\"Car_Image\": \"https://www.kudosprime.com/fh5/images/cars/side/fh5_car_386.jpg?v=1\", \"Name_and_model\": \"1998 Nissan Silvia K's Aero\", \"Model_type\": \"RETRO SPORTS CARS\", \"In_Game_Price\": \"25,000\", \"car_source\": \"Autoshow\", \"stock_specs\": \"B\", \"Stock_Rating\": 609.0, \"Drive_Type\": \"RWD\", \"speed\": 5.7, \"handling\": 5.2, \"acceleration\": 4.4, \"launch\": 2.5, \"braking\": 3.4, \"Offroad\": 5.3, \"Horse_Power\": 217.0, \"Weight_lbs\": 2789.0}, {\"Car_Image\": \"https://www.kudosprime.com/fh5/images/cars/side/fh5_car_387.jpg?v=1\", \"Name_and_model\": \"2000 Nissan Silvia Spec-R\", \"Model_type\": \"RETRO SPORTS CARS\", \"In_Game_Price\": \"35,000\", \"car_source\": \"Autoshow\", \"stock_specs\": \"B\", \"Stock_Rating\": 632.0, \"Drive_Type\": \"RWD\", \"speed\": 5.9, \"handling\": 5.4, \"acceleration\": 4.6, \"launch\": 2.6, \"braking\": 3.7, \"Offroad\": 5.4, \"Horse_Power\": 250.0, \"Weight_lbs\": 2734.0}, {\"Car_Image\": \"https://www.kudosprime.com/fh5/images/cars/side/fh5_car_388.jpg?v=1\", \"Name_and_model\": \"2002 Nissan Skyline GT-R V-Spec II\", \"Model_type\": \"RETRO SPORTS CARS\", \"In_Game_Price\": \"63,000\", \"car_source\": \"Autoshow\", \"stock_specs\": \"B\", \"Stock_Rating\": 657.0, \"Drive_Type\": \"AWD\", \"speed\": 6.1, \"handling\": 5.6, \"acceleration\": 4.9, \"launch\": 2.6, \"braking\": 3.6, \"Offroad\": 5.4, \"Horse_Power\": 327.0, \"Weight_lbs\": 3439.0}, {\"Car_Image\": \"https://www.kudosprime.com/fh5/images/cars/side/fh5_car_389.jpg?v=1\", \"Name_and_model\": \"2003 Nissan Fairlady Z\", \"Model_type\": \"RETRO SPORTS CARS\", \"In_Game_Price\": \"35,000\", \"car_source\": \"Autoshow\", \"stock_specs\": \"B\", \"Stock_Rating\": 650.0, \"Drive_Type\": \"RWD\", \"speed\": 6.5, \"handling\": 5.5, \"acceleration\": 4.6, \"launch\": 4.0, \"braking\": 3.5, \"Offroad\": 4.8, \"Horse_Power\": 287.0, \"Weight_lbs\": 3310.0}, {\"Car_Image\": \"https://www.kudosprime.com/fh5/images/cars/side/fh5_car_506.jpg?v=1\", \"Name_and_model\": \"2003 Nissan Fairlady Z Forza Edition\", \"Model_type\": \"UNLIMITED OFFROAD\", \"In_Game_Price\": \"500,000\", \"car_source\": \"Wheelspin\", \"stock_specs\": \"A\", \"Stock_Rating\": 800.0, \"Drive_Type\": \"RWD\", \"speed\": 5.0, \"handling\": 3.0, \"acceleration\": 5.4, \"launch\": 5.5, \"braking\": 6.4, \"Offroad\": 8.3, \"Horse_Power\": 542.0, \"Weight_lbs\": 2756.0}, {\"Car_Image\": \"https://www.kudosprime.com/fh5/images/cars/side/fh5_car_390.jpg?v=1\", \"Name_and_model\": \"2004 Nissan Pickup #23 Rally Raid\", \"Model_type\": \"UNLIMITED OFFROAD\", \"In_Game_Price\": \"500,000\", \"car_source\": \"Autoshow\", \"stock_specs\": \"C\", \"Stock_Rating\": 577.0, \"Drive_Type\": \"AWD\", \"speed\": 4.4, \"handling\": 5.5, \"acceleration\": 3.1, \"launch\": 4.5, \"braking\": 4.8, \"Offroad\": 9.9, \"Horse_Power\": 268.0, \"Weight_lbs\": 4740.0}, {\"Car_Image\": \"https://www.kudosprime.com/fh5/images/cars/side/fh5_car_391.jpg?v=1\", \"Name_and_model\": \"2010 Nissan 370Z\", \"Model_type\": \"MODERN SPORTS CARS\", \"In_Game_Price\": \"40,000\", \"car_source\": \"Autoshow\", \"stock_specs\": \"B\", \"Stock_Rating\": 688.0, \"Drive_Type\": \"RWD\", \"speed\": 6.6, \"handling\": 5.7, \"acceleration\": 4.8, \"launch\": 4.6, \"braking\": 3.9, \"Offroad\": 4.8, \"Horse_Power\": 332.0, \"Weight_lbs\": 3267.0}, {\"Car_Image\": \"https://www.kudosprime.com/fh5/images/cars/side/fh5_car_392.jpg?v=1\", \"Name_and_model\": \"2012 Nissan GT-R Black Edition (R35)\", \"Model_type\": \"MODERN SUPERCARS\", \"In_Game_Price\": \"105,000\", \"car_source\": \"Autoshow\", \"stock_specs\": \"S1\", \"Stock_Rating\": 810.0, \"Drive_Type\": \"AWD\", \"speed\": 7.6, \"handling\": 6.7, \"acceleration\": 8.5, \"launch\": 8.1, \"braking\": 5.3, \"Offroad\": 5.0, \"Horse_Power\": 542.0, \"Weight_lbs\": 3887.0}, {\"Car_Image\": \"https://www.kudosprime.com/fh5/images/cars/side/fh5_car_393.jpg?v=1\", \"Name_and_model\": \"2016 Nissan Titan Warrior Concept\", \"Model_type\": \"PICK-UP & 4X4'S\", \"In_Game_Price\": \"50,000\", \"car_source\": \"Autoshow\", \"stock_specs\": \"D\", \"Stock_Rating\": 486.0, \"Drive_Type\": \"AWD\", \"speed\": 4.7, \"handling\": 3.6, \"acceleration\": 3.2, \"launch\": 3.6, \"braking\": 3.2, \"Offroad\": 8.9, \"Horse_Power\": 310.0, \"Weight_lbs\": 7388.0}, {\"Car_Image\": \"https://www.kudosprime.com/fh5/images/cars/side/fh5_car_394.jpg?v=1\", \"Name_and_model\": \"2017 Nissan GT-R (R35)\", \"Model_type\": \"MODERN SUPERCARS\", \"In_Game_Price\": \"132,000\", \"car_source\": \"Autoshow\", \"stock_specs\": \"S1\", \"Stock_Rating\": 814.0, \"Drive_Type\": \"AWD\", \"speed\": 7.5, \"handling\": 6.7, \"acceleration\": 8.7, \"launch\": 7.8, \"braking\": 5.3, \"Offroad\": 4.8, \"Horse_Power\": 565.0, \"Weight_lbs\": 3933.0}, {\"Car_Image\": \"https://www.kudosprime.com/fh5/images/cars/side/fh5_car_395.jpg?v=1\", \"Name_and_model\": \"1984 Opel Manta 400\", \"Model_type\": \"RALLY MONSTERS\", \"In_Game_Price\": \"100,000\", \"car_source\": \"Autoshow\", \"stock_specs\": \"B\", \"Stock_Rating\": 691.0, \"Drive_Type\": \"RWD\", \"speed\": 5.8, \"handling\": 4.9, \"acceleration\": 4.6, \"launch\": 4.8, \"braking\": 3.7, \"Offroad\": 6.6, \"Horse_Power\": 275.0, \"Weight_lbs\": 2183.0}, {\"Car_Image\": \"https://www.kudosprime.com/fh5/images/cars/side/fh5_car_396.jpg?v=1\", \"Name_and_model\": \"2009 Pagani Zonda Cinque Roadster\", \"Model_type\": \"HYPERCARS\", \"In_Game_Price\": \"2,100,000\", \"car_source\": \"Autoshow\", \"stock_specs\": \"S1\", \"Stock_Rating\": 896.0, \"Drive_Type\": \"RWD\", \"speed\": 7.4, \"handling\": 8.0, \"acceleration\": 6.5, \"launch\": 6.9, \"braking\": 8.9, \"Offroad\": 4.5, \"Horse_Power\": 678.0, \"Weight_lbs\": 2858.0}, {\"Car_Image\": \"https://www.kudosprime.com/fh5/images/cars/side/fh5_car_397.jpg?v=1\", \"Name_and_model\": \"2010 Pagani Zonda R\", \"Model_type\": \"EXTREME TRACK TOYS\", \"In_Game_Price\": \"1,800,000\", \"car_source\": \"Autoshow\", \"stock_specs\": \"S2\", \"Stock_Rating\": 959.0, \"Drive_Type\": \"RWD\", \"speed\": 8.0, \"handling\": 10.0, \"acceleration\": 7.3, \"launch\": 7.9, \"braking\": 10.0, \"Offroad\": 3.9, \"Horse_Power\": 739.0, \"Weight_lbs\": 2536.0}, {\"Car_Image\": \"https://www.kudosprime.com/fh5/images/cars/side/fh5_car_398.jpg?v=1\", \"Name_and_model\": \"2016 Pagani Huayra BC\", \"Model_type\": \"HYPERCARS\", \"In_Game_Price\": \"2,700,000\", \"car_source\": \"Wheelspin\", \"stock_specs\": \"S2\", \"Stock_Rating\": 929.0, \"Drive_Type\": \"RWD\", \"speed\": 8.4, \"handling\": 9.1, \"acceleration\": 7.0, \"launch\": 7.6, \"braking\": 10.0, \"Offroad\": 4.2, \"Horse_Power\": 740.0, \"Weight_lbs\": 2685.0}, {\"Car_Image\": \"https://www.kudosprime.com/fh5/images/cars/side/fh5_car_507.jpg?v=1\", \"Name_and_model\": \"2016 Pagani Huayra BC Forza Edition\", \"Model_type\": \"EXTREME TRACK TOYS\", \"In_Game_Price\": \"2,700,000\", \"car_source\": \"Wheelspin\", \"stock_specs\": \"S2\", \"Stock_Rating\": 998.0, \"Drive_Type\": \"RWD\", \"speed\": 8.1, \"handling\": 10.0, \"acceleration\": 8.0, \"launch\": 8.8, \"braking\": 10.0, \"Offroad\": 3.7, \"Horse_Power\": 1006.0, \"Weight_lbs\": 2425.0}, {\"Car_Image\": \"https://www.kudosprime.com/fh5/images/cars/side/fh5_car_555.jpg?v=1\", \"Name_and_model\": \"1962 Peel P50\", \"Model_type\": \"CULT CLASSICS\", \"In_Game_Price\": \"250,000\", \"car_source\": \"Season Event\", \"stock_specs\": \"D\", \"Stock_Rating\": 100.0, \"Drive_Type\": \"RWD\", \"speed\": 1.2, \"handling\": 3.0, \"acceleration\": 1.0, \"launch\": 2.3, \"braking\": 3.9, \"Offroad\": 4.5, \"Horse_Power\": 4.0, \"Weight_lbs\": 311.0}, {\"Car_Image\": \"https://www.kudosprime.com/fh5/images/cars/side/fh5_car_554.jpg?v=1\", \"Name_and_model\": \"1965 Peel Trident\", \"Model_type\": \"CULT CLASSICS\", \"In_Game_Price\": \"250,000\", \"car_source\": \"Season Event\", \"stock_specs\": \"D\", \"Stock_Rating\": 100.0, \"Drive_Type\": \"RWD\", \"speed\": 1.3, \"handling\": 3.0, \"acceleration\": 1.0, \"launch\": 2.5, \"braking\": 2.6, \"Offroad\": 5.5, \"Horse_Power\": 4.0, \"Weight_lbs\": 353.0}, {\"Car_Image\": \"https://www.kudosprime.com/fh5/images/cars/side/fh5_car_399.jpg?v=1\", \"Name_and_model\": \"2011 Penhall The Cholla\", \"Model_type\": \"UNLIMITED BUGGIES\", \"In_Game_Price\": \"100,000\", \"car_source\": \"Autoshow\", \"stock_specs\": \"B\", \"Stock_Rating\": 655.0, \"Drive_Type\": \"RWD\", \"speed\": 4.1, \"handling\": 3.7, \"acceleration\": 5.7, \"launch\": 4.8, \"braking\": 4.3, \"Offroad\": 10.0, \"Horse_Power\": 196.0, \"Weight_lbs\": 2200.0}, {\"Car_Image\": \"https://www.kudosprime.com/fh5/images/cars/side/fh5_car_400.jpg?v=1\", \"Name_and_model\": \"1984 Peugeot 205 Turbo 16\", \"Model_type\": \"RETRO RALLY\", \"In_Game_Price\": \"200,000\", \"car_source\": \"Wheelspin\", \"stock_specs\": \"B\", \"Stock_Rating\": 616.0, \"Drive_Type\": \"AWD\", \"speed\": 5.0, \"handling\": 5.0, \"acceleration\": 4.4, \"launch\": 1.6, \"braking\": 3.6, \"Offroad\": 7.2, \"Horse_Power\": 200.0, \"Weight_lbs\": 2524.0}, {\"Car_Image\": \"https://www.kudosprime.com/fh5/images/cars/side/fh5_car_401.jpg?v=1\", \"Name_and_model\": \"1991 Peugeot 205 Rallye\", \"Model_type\": \"RETRO HOT HATCH\", \"In_Game_Price\": \"20,000\", \"car_source\": \"Autoshow\", \"stock_specs\": \"D\", \"Stock_Rating\": 462.0, \"Drive_Type\": \"FWD\", \"speed\": 4.3, \"handling\": 4.4, \"acceleration\": 2.9, \"launch\": 3.8, \"braking\": 2.5, \"Offroad\": 4.9, \"Horse_Power\": 99.0, \"Weight_lbs\": 1742.0}, {\"Car_Image\": \"https://www.kudosprime.com/fh5/images/cars/side/fh5_car_402.jpg?v=1\", \"Name_and_model\": \"2007 Peugeot 207 Super 2000\", \"Model_type\": \"RALLY MONSTERS\", \"In_Game_Price\": \"150,000\", \"car_source\": \"Autoshow\", \"stock_specs\": \"A\", \"Stock_Rating\": 755.0, \"Drive_Type\": \"AWD\", \"speed\": 5.3, \"handling\": 6.2, \"acceleration\": 5.9, \"launch\": 5.2, \"braking\": 5.7, \"Offroad\": 8.0, \"Horse_Power\": 280.0, \"Weight_lbs\": 2425.0}, {\"Car_Image\": \"https://www.kudosprime.com/fh5/images/cars/side/fh5_car_403.jpg?v=1\", \"Name_and_model\": \"1971 Plymouth Cuda 426 Hemi\", \"Model_type\": \"CLASSIC MUSCLE\", \"In_Game_Price\": \"160,000\", \"car_source\": \"Autoshow\", \"stock_specs\": \"C\", \"Stock_Rating\": 547.0, \"Drive_Type\": \"RWD\", \"speed\": 5.6, \"handling\": 3.7, \"acceleration\": 3.4, \"launch\": 3.3, \"braking\": 2.4, \"Offroad\": 5.3, \"Horse_Power\": 425.0, \"Weight_lbs\": 3880.0}, {\"Car_Image\": \"https://www.kudosprime.com/fh5/images/cars/side/fh5_car_404.jpg?v=1\", \"Name_and_model\": \"2015 Polaris RZR XP 1000 EPS\", \"Model_type\": \"UTV'S\", \"In_Game_Price\": \"25,000\", \"car_source\": \"Autoshow\", \"stock_specs\": \"C\", \"Stock_Rating\": 501.0, \"Drive_Type\": \"AWD\", \"speed\": 3.4, \"handling\": 3.5, \"acceleration\": 3.8, \"launch\": 3.8, \"braking\": 4.4, \"Offroad\": 9.0, \"Horse_Power\": 110.0, \"Weight_lbs\": 1530.0}, {\"Car_Image\": \"https://www.kudosprime.com/fh5/images/cars/side/fh5_car_405.jpg?v=1\", \"Name_and_model\": \"1965 Pontiac GTO\", \"Model_type\": \"CLASSIC MUSCLE\", \"In_Game_Price\": \"48,000\", \"car_source\": \"Autoshow\", \"stock_specs\": \"D\", \"Stock_Rating\": 484.0, \"Drive_Type\": \"RWD\", \"speed\": 4.7, \"handling\": 3.2, \"acceleration\": 3.1, \"launch\": 2.9, \"braking\": 2.0, \"Offroad\": 5.4, \"Horse_Power\": 360.0, \"Weight_lbs\": 3468.0}, {\"Car_Image\": \"https://www.kudosprime.com/fh5/images/cars/side/fh5_car_406.jpg?v=1\", \"Name_and_model\": \"1977 Pontiac Firebird Trans Am\", \"Model_type\": \"CLASSIC MUSCLE\", \"In_Game_Price\": \"45,000\", \"car_source\": \"Autoshow\", \"stock_specs\": \"D\", \"Stock_Rating\": 418.0, \"Drive_Type\": \"RWD\", \"speed\": 5.1, \"handling\": 3.9, \"acceleration\": 3.1, \"launch\": 2.0, \"braking\": 2.1, \"Offroad\": 5.7, \"Horse_Power\": 201.0, \"Weight_lbs\": 3800.0}, {\"Car_Image\": \"https://www.kudosprime.com/fh5/images/cars/side/fh5_car_407.jpg?v=1\", \"Name_and_model\": \"1987 Pontiac Firebird Trans Am GTA\", \"Model_type\": \"RETRO MUSCLE\", \"In_Game_Price\": \"25,000\", \"car_source\": \"Autoshow\", \"stock_specs\": \"D\", \"Stock_Rating\": 485.0, \"Drive_Type\": \"RWD\", \"speed\": 5.5, \"handling\": 4.1, \"acceleration\": 3.4, \"launch\": 3.1, \"braking\": 2.4, \"Offroad\": 4.8, \"Horse_Power\": 210.0, \"Weight_lbs\": 3483.0}, {\"Car_Image\": \"https://www.kudosprime.com/fh5/images/cars/side/fh5_car_508.jpg?v=1\", \"Name_and_model\": \"1987 Pontiac Firebird Trans Am GTA Forza Edition\", \"Model_type\": \"TRACK TOYS\", \"In_Game_Price\": \"500,000\", \"car_source\": \"Wheelspin\", \"stock_specs\": \"S1\", \"Stock_Rating\": 900.0, \"Drive_Type\": \"RWD\", \"speed\": 6.9, \"handling\": 7.1, \"acceleration\": 5.5, \"launch\": 5.8, \"braking\": 6.3, \"Offroad\": 3.4, \"Horse_Power\": 850.0, \"Weight_lbs\": 3219.0}, {\"Car_Image\": \"https://www.kudosprime.com/fh5/images/cars/side/fh5_car_408.jpg?v=1\", \"Name_and_model\": \"1959 Porsche 356 A 1600 Super\", \"Model_type\": \"RARE CLASSICS\", \"In_Game_Price\": \"240,000\", \"car_source\": \"Autoshow\", \"stock_specs\": \"D\", \"Stock_Rating\": 241.0, \"Drive_Type\": \"RWD\", \"speed\": 3.8, \"handling\": 3.7, \"acceleration\": 1.8, \"launch\": 2.1, \"braking\": 1.8, \"Offroad\": 5.3, \"Horse_Power\": 75.0, \"Weight_lbs\": 1931.0}, {\"Car_Image\": \"https://www.kudosprime.com/fh5/images/cars/side/fh5_car_409.jpg?v=1\", \"Name_and_model\": \"1970 Porsche #3 917 LH\", \"Model_type\": \"CLASSIC RACERS\", \"In_Game_Price\": \"15,000,000\", \"car_source\": \"Autoshow\", \"stock_specs\": \"S1\", \"Stock_Rating\": 856.0, \"Drive_Type\": \"RWD\", \"speed\": 8.2, \"handling\": 5.9, \"acceleration\": 7.2, \"launch\": 7.1, \"braking\": 4.9, \"Offroad\": 4.0, \"Horse_Power\": 601.0, \"Weight_lbs\": 2044.0}, {\"Car_Image\": \"https://www.kudosprime.com/fh5/images/cars/side/fh5_car_410.jpg?v=1\", \"Name_and_model\": \"1970 Porsche 914/6\", \"Model_type\": \"CLASSIC SPORTS CARS\", \"In_Game_Price\": \"24,000\", \"car_source\": \"Autoshow\", \"stock_specs\": \"D\", \"Stock_Rating\": 427.0, \"Drive_Type\": \"RWD\", \"speed\": 4.4, \"handling\": 4.2, \"acceleration\": 3.4, \"launch\": 2.8, \"braking\": 2.5, \"Offroad\": 5.2, \"Horse_Power\": 125.0, \"Weight_lbs\": 2196.0}, {\"Car_Image\": \"https://www.kudosprime.com/fh5/images/cars/side/fh5_car_530.jpg?v=1\", \"Name_and_model\": \"1973 Porsche 911 Carrera RS\", \"Model_type\": \"RARE CLASSICS\", \"In_Game_Price\": \"350,000\", \"car_source\": \"Barn\", \"stock_specs\": \"B\", \"Stock_Rating\": 601.0, \"Drive_Type\": \"RWD\", \"speed\": 5.2, \"handling\": 4.9, \"acceleration\": 5.1, \"launch\": 3.7, \"braking\": 3.1, \"Offroad\": 5.0, \"Horse_Power\": 207.0, \"Weight_lbs\": 2450.0}, {\"Car_Image\": \"https://www.kudosprime.com/fh5/images/cars/side/fh5_car_411.jpg?v=1\", \"Name_and_model\": \"1982 Porsche 911 Turbo 3.3\", \"Model_type\": \"RETRO SUPERCARS\", \"In_Game_Price\": \"150,000\", \"car_source\": \"Autoshow\", \"stock_specs\": \"B\", \"Stock_Rating\": 666.0, \"Drive_Type\": \"RWD\", \"speed\": 5.6, \"handling\": 5.2, \"acceleration\": 4.8, \"launch\": 2.0, \"braking\": 4.1, \"Offroad\": 5.2, \"Horse_Power\": 296.0, \"Weight_lbs\": 2866.0}, {\"Car_Image\": \"https://www.kudosprime.com/fh5/images/cars/side/fh5_car_412.jpg?v=1\", \"Name_and_model\": \"1985 Porsche #185 959 Prodrive Rally Raid\", \"Model_type\": \"RALLY MONSTERS\", \"In_Game_Price\": \"1,500,000\", \"car_source\": \"Autoshow\", \"stock_specs\": \"A\", \"Stock_Rating\": 742.0, \"Drive_Type\": \"AWD\", \"speed\": 6.1, \"handling\": 5.4, \"acceleration\": 7.5, \"launch\": 6.1, \"braking\": 4.3, \"Offroad\": 7.6, \"Horse_Power\": 394.0, \"Weight_lbs\": 3322.0}, {\"Car_Image\": \"https://www.kudosprime.com/fh5/images/cars/side/fh5_car_413.jpg?v=1\", \"Name_and_model\": \"1987 Porsche 959\", \"Model_type\": \"RETRO SUPERCARS\", \"In_Game_Price\": \"2,000,000\", \"car_source\": \"Autoshow\", \"stock_specs\": \"A\", \"Stock_Rating\": 764.0, \"Drive_Type\": \"AWD\", \"speed\": 7.3, \"handling\": 6.2, \"acceleration\": 8.2, \"launch\": 4.7, \"braking\": 4.9, \"Offroad\": 4.7, \"Horse_Power\": 450.0, \"Weight_lbs\": 3190.0}, {\"Car_Image\": \"https://www.kudosprime.com/fh5/images/cars/side/fh5_car_415.jpg?v=1\", \"Name_and_model\": \"1989 Porsche #65 Rothsport Racing 911 'Desert Flyer'\", \"Model_type\": \"RALLY MONSTERS\", \"In_Game_Price\": \"500,000\", \"car_source\": \"Autoshow\", \"stock_specs\": \"B\", \"Stock_Rating\": 694.0, \"Drive_Type\": \"RWD\", \"speed\": 4.8, \"handling\": 5.0, \"acceleration\": 5.7, \"launch\": 4.8, \"braking\": 4.1, \"Offroad\": 8.5, \"Horse_Power\": 325.0, \"Weight_lbs\": 2840.0}, {\"Car_Image\": \"https://www.kudosprime.com/fh5/images/cars/side/fh5_car_414.jpg?v=1\", \"Name_and_model\": \"1989 Porsche 944 Turbo\", \"Model_type\": \"RETRO SPORTS CARS\", \"In_Game_Price\": \"35,000\", \"car_source\": \"Autoshow\", \"stock_specs\": \"B\", \"Stock_Rating\": 651.0, \"Drive_Type\": \"RWD\", \"speed\": 5.8, \"handling\": 5.3, \"acceleration\": 4.9, \"launch\": 2.6, \"braking\": 4.1, \"Offroad\": 5.3, \"Horse_Power\": 247.0, \"Weight_lbs\": 3115.0}, {\"Car_Image\": \"https://www.kudosprime.com/fh5/images/cars/side/fh5_car_416.jpg?v=1\", \"Name_and_model\": \"1993 Porsche 968 Turbo S\", \"Model_type\": \"RETRO SPORTS CARS\", \"In_Game_Price\": \"140,000\", \"car_source\": \"Autoshow\", \"stock_specs\": \"A\", \"Stock_Rating\": 701.0, \"Drive_Type\": \"RWD\", \"speed\": 6.2, \"handling\": 5.2, \"acceleration\": 5.3, \"launch\": 4.5, \"braking\": 4.1, \"Offroad\": 4.8, \"Horse_Power\": 305.0, \"Weight_lbs\": 2866.0}, {\"Car_Image\": \"https://www.kudosprime.com/fh5/images/cars/side/fh5_car_417.jpg?v=1\", \"Name_and_model\": \"1995 Porsche 911 GT2\", \"Model_type\": \"RETRO SUPERCARS\", \"In_Game_Price\": \"550,000\", \"car_source\": \"Autoshow\", \"stock_specs\": \"A\", \"Stock_Rating\": 753.0, \"Drive_Type\": \"RWD\", \"speed\": 6.5, \"handling\": 6.3, \"acceleration\": 6.7, \"launch\": 5.7, \"braking\": 5.3, \"Offroad\": 4.5, \"Horse_Power\": 424.0, \"Weight_lbs\": 2855.0}, {\"Car_Image\": \"https://www.kudosprime.com/fh5/images/cars/side/fh5_car_418.jpg?v=1\", \"Name_and_model\": \"1998 Porsche 911 GT1 Strassenversion\", \"Model_type\": \"RETRO SUPERCARS\", \"In_Game_Price\": \"2,500,000\", \"car_source\": \"Autoshow\", \"stock_specs\": \"S1\", \"Stock_Rating\": 840.0, \"Drive_Type\": \"RWD\", \"speed\": 7.2, \"handling\": 7.9, \"acceleration\": 6.0, \"launch\": 6.3, \"braking\": 8.7, \"Offroad\": 3.9, \"Horse_Power\": 536.0, \"Weight_lbs\": 2646.0}, {\"Car_Image\": \"https://www.kudosprime.com/fh5/images/cars/side/fh5_car_419.jpg?v=1\", \"Name_and_model\": \"2003 Porsche Carrera GT\", \"Model_type\": \"RETRO SUPERCARS\", \"In_Game_Price\": \"1,000,000\", \"car_source\": \"Autoshow\", \"stock_specs\": \"S1\", \"Stock_Rating\": 845.0, \"Drive_Type\": \"RWD\", \"speed\": 7.6, \"handling\": 7.1, \"acceleration\": 6.6, \"launch\": 7.2, \"braking\": 7.5, \"Offroad\": 4.5, \"Horse_Power\": 605.0, \"Weight_lbs\": 3258.0}, {\"Car_Image\": \"https://www.kudosprime.com/fh5/images/cars/side/fh5_car_420.jpg?v=1\", \"Name_and_model\": \"2004 Porsche 911 GT3\", \"Model_type\": \"RETRO SUPERCARS\", \"In_Game_Price\": \"65,000\", \"car_source\": \"Autoshow\", \"stock_specs\": \"A\", \"Stock_Rating\": 778.0, \"Drive_Type\": \"RWD\", \"speed\": 7.1, \"handling\": 6.9, \"acceleration\": 6.4, \"launch\": 5.7, \"braking\": 5.3, \"Offroad\": 4.8, \"Horse_Power\": 381.0, \"Weight_lbs\": 3160.0}, {\"Car_Image\": \"https://www.kudosprime.com/fh5/images/cars/side/fh5_car_421.jpg?v=1\", \"Name_and_model\": \"2012 Porsche 911 GT2 RS\", \"Model_type\": \"TRACK TOYS\", \"In_Game_Price\": \"240,000\", \"car_source\": \"Autoshow\", \"stock_specs\": \"S1\", \"Stock_Rating\": 860.0, \"Drive_Type\": \"RWD\", \"speed\": 7.7, \"handling\": 7.6, \"acceleration\": 8.0, \"launch\": 6.3, \"braking\": 7.7, \"Offroad\": 4.6, \"Horse_Power\": 611.0, \"Weight_lbs\": 3020.0}, {\"Car_Image\": \"https://www.kudosprime.com/fh5/images/cars/side/fh5_car_422.jpg?v=1\", \"Name_and_model\": \"2014 Porsche 911 Turbo S\", \"Model_type\": \"MODERN SUPERCARS\", \"In_Game_Price\": \"150,000\", \"car_source\": \"Autoshow\", \"stock_specs\": \"S1\", \"Stock_Rating\": 808.0, \"Drive_Type\": \"AWD\", \"speed\": 7.9, \"handling\": 6.6, \"acceleration\": 8.3, \"launch\": 9.3, \"braking\": 6.7, \"Offroad\": 4.6, \"Horse_Power\": 560.0, \"Weight_lbs\": 3607.0}, {\"Car_Image\": \"https://www.kudosprime.com/fh5/images/cars/side/fh5_car_423.jpg?v=1\", \"Name_and_model\": \"2014 Porsche 918 Spyder\", \"Model_type\": \"HYPERCARS\", \"In_Game_Price\": \"850,000\", \"car_source\": \"Autoshow\", \"stock_specs\": \"S2\", \"Stock_Rating\": 920.0, \"Drive_Type\": \"AWD\", \"speed\": 8.8, \"handling\": 8.9, \"acceleration\": 10.0, \"launch\": 10.0, \"braking\": 9.3, \"Offroad\": 4.6, \"Horse_Power\": 887.0, \"Weight_lbs\": 3692.0}, {\"Car_Image\": \"https://www.kudosprime.com/fh5/images/cars/side/fh5_car_424.jpg?v=1\", \"Name_and_model\": \"2015 Porsche Cayman GTS\", \"Model_type\": \"MODERN SPORTS CARS\", \"In_Game_Price\": \"80,000\", \"car_source\": \"Autoshow\", \"stock_specs\": \"A\", \"Stock_Rating\": 767.0, \"Drive_Type\": \"RWD\", \"speed\": 6.6, \"handling\": 6.4, \"acceleration\": 6.1, \"launch\": 6.2, \"braking\": 5.2, \"Offroad\": 4.6, \"Horse_Power\": 340.0, \"Weight_lbs\": 2965.0}, {\"Car_Image\": \"https://www.kudosprime.com/fh5/images/cars/side/fh5_car_425.jpg?v=1\", \"Name_and_model\": \"2016 Porsche 911 GT3 RS\", \"Model_type\": \"TRACK TOYS\", \"In_Game_Price\": \"235,000\", \"car_source\": \"Autoshow\", \"stock_specs\": \"S1\", \"Stock_Rating\": 864.0, \"Drive_Type\": \"RWD\", \"speed\": 7.8, \"handling\": 8.3, \"acceleration\": 7.4, \"launch\": 7.8, \"braking\": 8.0, \"Offroad\": 4.5, \"Horse_Power\": 493.0, \"Weight_lbs\": 3131.0}, {\"Car_Image\": \"https://www.kudosprime.com/fh5/images/cars/side/fh5_car_426.jpg?v=1\", \"Name_and_model\": \"2016 Porsche Cayman GT4\", \"Model_type\": \"TRACK TOYS\", \"In_Game_Price\": \"85,000\", \"car_source\": \"Autoshow\", \"stock_specs\": \"S1\", \"Stock_Rating\": 819.0, \"Drive_Type\": \"RWD\", \"speed\": 7.0, \"handling\": 8.1, \"acceleration\": 6.8, \"launch\": 6.6, \"braking\": 7.6, \"Offroad\": 4.2, \"Horse_Power\": 385.0, \"Weight_lbs\": 2955.0}, {\"Car_Image\": \"https://www.kudosprime.com/fh5/images/cars/side/fh5_car_427.jpg?v=1\", \"Name_and_model\": \"2017 Porsche Panamera Turbo\", \"Model_type\": \"SUPER SALOONS\", \"In_Game_Price\": \"150,000\", \"car_source\": \"Autoshow\", \"stock_specs\": \"A\", \"Stock_Rating\": 767.0, \"Drive_Type\": \"AWD\", \"speed\": 7.6, \"handling\": 6.3, \"acceleration\": 7.1, \"launch\": 8.2, \"braking\": 6.1, \"Offroad\": 5.1, \"Horse_Power\": 550.0, \"Weight_lbs\": 4398.0}, {\"Car_Image\": \"https://www.kudosprime.com/fh5/images/cars/side/fh5_car_428.jpg?v=1\", \"Name_and_model\": \"2018 Porsche 718 Cayman GTS\", \"Model_type\": \"MODERN SPORTS CARS\", \"In_Game_Price\": \"90,000\", \"car_source\": \"Autoshow\", \"stock_specs\": \"A\", \"Stock_Rating\": 785.0, \"Drive_Type\": \"RWD\", \"speed\": 6.8, \"handling\": 7.3, \"acceleration\": 6.4, \"launch\": 7.0, \"braking\": 5.6, \"Offroad\": 4.4, \"Horse_Power\": 361.0, \"Weight_lbs\": 3135.0}, {\"Car_Image\": \"https://www.kudosprime.com/fh5/images/cars/side/fh5_car_429.jpg?v=1\", \"Name_and_model\": \"2018 Porsche 911 GT2 RS\", \"Model_type\": \"TRACK TOYS\", \"In_Game_Price\": \"315,000\", \"car_source\": \"Autoshow\", \"stock_specs\": \"S1\", \"Stock_Rating\": 888.0, \"Drive_Type\": \"RWD\", \"speed\": 8.0, \"handling\": 8.6, \"acceleration\": 7.5, \"launch\": 8.3, \"braking\": 8.3, \"Offroad\": 4.2, \"Horse_Power\": 691.0, \"Weight_lbs\": 3197.0}, {\"Car_Image\": \"https://www.kudosprime.com/fh5/images/cars/side/fh5_car_430.jpg?v=1\", \"Name_and_model\": \"2018 Porsche Cayenne Turbo\", \"Model_type\": \"SPORTS UTILITY HEROES\", \"In_Game_Price\": \"220,000\", \"car_source\": \"Autoshow\", \"stock_specs\": \"A\", \"Stock_Rating\": 744.0, \"Drive_Type\": \"AWD\", \"speed\": 6.7, \"handling\": 5.3, \"acceleration\": 7.4, \"launch\": 9.8, \"braking\": 6.0, \"Offroad\": 5.9, \"Horse_Power\": 550.0, \"Weight_lbs\": 4795.0}, {\"Car_Image\": \"https://www.kudosprime.com/fh5/images/cars/side/fh5_car_431.jpg?v=1\", \"Name_and_model\": \"2018 Porsche Macan LPR Rally Raid\", \"Model_type\": \"OFFROAD\", \"In_Game_Price\": \"250,000\", \"car_source\": \"Wheelspin\", \"stock_specs\": \"B\", \"Stock_Rating\": 637.0, \"Drive_Type\": \"AWD\", \"speed\": 5.1, \"handling\": 3.9, \"acceleration\": 4.7, \"launch\": 4.6, \"braking\": 4.7, \"Offroad\": 10.0, \"Horse_Power\": 360.0, \"Weight_lbs\": 4899.0}, {\"Car_Image\": \"https://www.kudosprime.com/fh5/images/cars/side/fh5_car_432.jpg?v=1\", \"Name_and_model\": \"2019 Porsche 911 Carrera S\", \"Model_type\": \"MODERN SPORTS CARS\", \"In_Game_Price\": \"105,000\", \"car_source\": \"Autoshow\", \"stock_specs\": \"S1\", \"Stock_Rating\": 819.0, \"Drive_Type\": \"RWD\", \"speed\": 7.4, \"handling\": 7.4, \"acceleration\": 6.4, \"launch\": 6.9, \"braking\": 7.9, \"Offroad\": 4.5, \"Horse_Power\": 444.0, \"Weight_lbs\": 3340.0}, {\"Car_Image\": \"https://www.kudosprime.com/fh5/images/cars/side/fh5_car_433.jpg?v=1\", \"Name_and_model\": \"2019 Porsche 911 GT3 RS\", \"Model_type\": \"TRACK TOYS\", \"In_Game_Price\": \"255,000\", \"car_source\": \"Autoshow\", \"stock_specs\": \"S1\", \"Stock_Rating\": 860.0, \"Drive_Type\": \"RWD\", \"speed\": 7.2, \"handling\": 8.4, \"acceleration\": 7.4, \"launch\": 7.6, \"braking\": 8.2, \"Offroad\": 4.4, \"Horse_Power\": 514.0, \"Weight_lbs\": 3153.0}, {\"Car_Image\": \"https://www.kudosprime.com/fh5/images/cars/side/fh5_car_509.jpg?v=1\", \"Name_and_model\": \"2019 Porsche 911 GT3 RS Forza Edition\", \"Model_type\": \"RALLY MONSTERS\", \"In_Game_Price\": \"255,000\", \"car_source\": \"Car Collection\", \"stock_specs\": \"S1\", \"Stock_Rating\": 900.0, \"Drive_Type\": \"AWD\", \"speed\": 7.0, \"handling\": 7.0, \"acceleration\": 10.0, \"launch\": 10.0, \"braking\": 7.8, \"Offroad\": 8.1, \"Horse_Power\": 600.0, \"Weight_lbs\": 2844.0}, {\"Car_Image\": \"https://www.kudosprime.com/fh5/images/cars/side/fh5_car_434.jpg?v=1\", \"Name_and_model\": \"2019 Porsche Macan Turbo\", \"Model_type\": \"SPORTS UTILITY HEROES\", \"In_Game_Price\": \"135,000\", \"car_source\": \"Autoshow\", \"stock_specs\": \"B\", \"Stock_Rating\": 695.0, \"Drive_Type\": \"AWD\", \"speed\": 6.2, \"handling\": 4.9, \"acceleration\": 5.8, \"launch\": 9.4, \"braking\": 4.0, \"Offroad\": 6.3, \"Horse_Power\": 434.0, \"Weight_lbs\": 4277.0}, {\"Car_Image\": \"https://www.kudosprime.com/fh5/images/cars/side/fh5_car_435.jpg?v=1\", \"Name_and_model\": \"2020 Porsche Taycan Turbo S\", \"Model_type\": \"SUPER SALOONS\", \"In_Game_Price\": \"185,000\", \"car_source\": \"Autoshow\", \"stock_specs\": \"S1\", \"Stock_Rating\": 807.0, \"Drive_Type\": \"AWD\", \"speed\": 6.1, \"handling\": 5.7, \"acceleration\": 8.5, \"launch\": 9.6, \"braking\": 6.0, \"Offroad\": 4.4, \"Horse_Power\": 752.0, \"Weight_lbs\": 5121.0}, {\"Car_Image\": \"https://www.kudosprime.com/fh5/images/cars/side/fh5_car_436.jpg?v=1\", \"Name_and_model\": \"2020 Porsche Taycan Turbo S \\\"Welcome Pack\\\"\", \"Model_type\": \"SUPER SALOONS\", \"In_Game_Price\": \"185,000\", \"car_source\": \"Autoshow\", \"stock_specs\": \"S1\", \"Stock_Rating\": 900.0, \"Drive_Type\": \"AWD\", \"speed\": 10.0, \"handling\": 7.8, \"acceleration\": 9.7, \"launch\": 10.0, \"braking\": 7.2, \"Offroad\": 4.4, \"Horse_Power\": 902.0, \"Weight_lbs\": 3858.0}, {\"Car_Image\": \"https://www.kudosprime.com/fh5/images/cars/side/fh5_car_437.jpg?v=1\", \"Name_and_model\": \"2015 Radical RXC Turbo\", \"Model_type\": \"EXTREME TRACK TOYS\", \"In_Game_Price\": \"330,000\", \"car_source\": \"Wheelspin\", \"stock_specs\": \"S2\", \"Stock_Rating\": 928.0, \"Drive_Type\": \"RWD\", \"speed\": 7.0, \"handling\": 9.6, \"acceleration\": 7.1, \"launch\": 5.8, \"braking\": 9.0, \"Offroad\": 4.0, \"Horse_Power\": 454.0, \"Weight_lbs\": 2072.0}, {\"Car_Image\": \"https://www.kudosprime.com/fh5/images/cars/side/fh5_car_518.jpg?v=1\", \"Name_and_model\": \"2019 RAESR Tachyon Speed\", \"Model_type\": \"HYPERCARS\", \"In_Game_Price\": \"1,050,000\", \"car_source\": \"Season Event\", \"stock_specs\": \"S2\", \"Stock_Rating\": 983.0, \"Drive_Type\": \"AWD\", \"speed\": 8.5, \"handling\": 9.1, \"acceleration\": 5.3, \"launch\": 5.7, \"braking\": 8.9, \"Offroad\": 4.6, \"Horse_Power\": 1251.0, \"Weight_lbs\": 3200.0}, {\"Car_Image\": \"https://www.kudosprime.com/fh5/images/cars/side/fh5_car_438.jpg?v=1\", \"Name_and_model\": \"2017 RAM 2500 Power Wagon\", \"Model_type\": \"PICK-UP & 4X4'S\", \"In_Game_Price\": \"41,000\", \"car_source\": \"Autoshow\", \"stock_specs\": \"D\", \"Stock_Rating\": 467.0, \"Drive_Type\": \"AWD\", \"speed\": 5.2, \"handling\": 3.3, \"acceleration\": 2.8, \"launch\": 1.8, \"braking\": 2.8, \"Offroad\": 8.9, \"Horse_Power\": 410.0, \"Weight_lbs\": 7044.0}, {\"Car_Image\": \"https://www.kudosprime.com/fh5/images/cars/side/fh5_car_439.jpg?v=1\", \"Name_and_model\": \"1972 Reliant Supervan III\", \"Model_type\": \"CULT CARS\", \"In_Game_Price\": \"35,000\", \"car_source\": \"Autoshow\", \"stock_specs\": \"D\", \"Stock_Rating\": 100.0, \"Drive_Type\": \"RWD\", \"speed\": 2.6, \"handling\": 3.4, \"acceleration\": 2.2, \"launch\": 4.5, \"braking\": 2.0, \"Offroad\": 5.6, \"Horse_Power\": 32.0, \"Weight_lbs\": 1004.0}, {\"Car_Image\": \"https://www.kudosprime.com/fh5/images/cars/side/fh5_car_540.jpg?v=1\", \"Name_and_model\": \"1967 Renault 8 Gordini\", \"Model_type\": \"CLASSIC RALLY\", \"In_Game_Price\": \"0\", \"car_source\": \"Autoshow\", \"stock_specs\": \"D\", \"Stock_Rating\": 435.0, \"Drive_Type\": \"RWD\", \"speed\": 4.0, \"handling\": 4.4, \"acceleration\": 3.5, \"launch\": 2.8, \"braking\": 2.9, \"Offroad\": 5.9, \"Horse_Power\": 103.0, \"Weight_lbs\": 1885.0}, {\"Car_Image\": \"https://www.kudosprime.com/fh5/images/cars/side/fh5_car_531.jpg?v=1\", \"Name_and_model\": \"1968 Renault 4L Export\", \"Model_type\": \"CULT CARS\", \"In_Game_Price\": \"20,000\", \"car_source\": \"Barn\", \"stock_specs\": \"D\", \"Stock_Rating\": 100.0, \"Drive_Type\": \"FWD\", \"speed\": 2.2, \"handling\": 3.5, \"acceleration\": 1.5, \"launch\": 2.3, \"braking\": 2.0, \"Offroad\": 5.8, \"Horse_Power\": 27.0, \"Weight_lbs\": 1310.0}, {\"Car_Image\": \"https://www.kudosprime.com/fh5/images/cars/side/fh5_car_440.jpg?v=2\", \"Name_and_model\": \"1980 Renault 5 Turbo\", \"Model_type\": \"RETRO RALLY\", \"In_Game_Price\": \"120,000\", \"car_source\": \"Autoshow\", \"stock_specs\": \"C\", \"Stock_Rating\": 521.0, \"Drive_Type\": \"RWD\", \"speed\": 4.6, \"handling\": 4.3, \"acceleration\": 4.6, \"launch\": 3.4, \"braking\": 2.9, \"Offroad\": 6.0, \"Horse_Power\": 157.0, \"Weight_lbs\": 2138.0}, {\"Car_Image\": \"https://www.kudosprime.com/fh5/images/cars/side/fh5_car_441.jpg?v=1\", \"Name_and_model\": \"1993 Renault Clio Williams\", \"Model_type\": \"RETRO HOT HATCH\", \"In_Game_Price\": \"30,000\", \"car_source\": \"Autoshow\", \"stock_specs\": \"C\", \"Stock_Rating\": 511.0, \"Drive_Type\": \"FWD\", \"speed\": 4.7, \"handling\": 4.8, \"acceleration\": 4.0, \"launch\": 3.1, \"braking\": 2.9, \"Offroad\": 4.8, \"Horse_Power\": 142.0, \"Weight_lbs\": 2233.0}, {\"Car_Image\": \"https://www.kudosprime.com/fh5/images/cars/side/fh5_car_442.jpg?v=1\", \"Name_and_model\": \"2008 Renault M\\u00e9gane R26.R\", \"Model_type\": \"SUPER HOT HATCH\", \"In_Game_Price\": \"28,000\", \"car_source\": \"Autoshow\", \"stock_specs\": \"B\", \"Stock_Rating\": 678.0, \"Drive_Type\": \"FWD\", \"speed\": 5.4, \"handling\": 6.0, \"acceleration\": 4.8, \"launch\": 4.0, \"braking\": 5.2, \"Offroad\": 4.7, \"Horse_Power\": 227.0, \"Weight_lbs\": 2712.0}, {\"Car_Image\": \"https://www.kudosprime.com/fh5/images/cars/side/fh5_car_443.jpg?v=1\", \"Name_and_model\": \"2013 Renault Clio R.S. 200 EDC\", \"Model_type\": \"HOT HATCH\", \"In_Game_Price\": \"29,000\", \"car_source\": \"Autoshow\", \"stock_specs\": \"C\", \"Stock_Rating\": 595.0, \"Drive_Type\": \"FWD\", \"speed\": 5.1, \"handling\": 5.1, \"acceleration\": 4.4, \"launch\": 4.5, \"braking\": 3.6, \"Offroad\": 4.9, \"Horse_Power\": 197.0, \"Weight_lbs\": 2685.0}, {\"Car_Image\": \"https://www.kudosprime.com/fh5/images/cars/side/fh5_car_444.jpg?v=1\", \"Name_and_model\": \"2018 Renault MEGANE R.S.\", \"Model_type\": \"SUPER HOT HATCH\", \"In_Game_Price\": \"37,000\", \"car_source\": \"Autoshow\", \"stock_specs\": \"B\", \"Stock_Rating\": 670.0, \"Drive_Type\": \"FWD\", \"speed\": 5.7, \"handling\": 6.0, \"acceleration\": 4.5, \"launch\": 4.6, \"braking\": 4.4, \"Offroad\": 5.0, \"Horse_Power\": 275.0, \"Weight_lbs\": 3153.0}, {\"Car_Image\": \"https://www.kudosprime.com/fh5/images/cars/side/fh5_car_445.jpg?v=1\", \"Name_and_model\": \"2019 Rimac Concept Two\", \"Model_type\": \"HYPERCARS\", \"In_Game_Price\": \"2,000,000\", \"car_source\": \"Autoshow\", \"stock_specs\": \"S2\", \"Stock_Rating\": 963.0, \"Drive_Type\": \"AWD\", \"speed\": 9.1, \"handling\": 7.5, \"acceleration\": 9.9, \"launch\": 10.0, \"braking\": 9.3, \"Offroad\": 3.8, \"Horse_Power\": 1887.0, \"Weight_lbs\": 4299.0}, {\"Car_Image\": \"https://www.kudosprime.com/fh5/images/cars/side/fh5_car_446.jpg?v=1\", \"Name_and_model\": \"2016 RJ Anderson #37 Polaris RZR-Rockstar Energy Pro 2 Truck\", \"Model_type\": \"UNLIMITED OFFROAD\", \"In_Game_Price\": \"500,000\", \"car_source\": \"Autoshow\", \"stock_specs\": \"A\", \"Stock_Rating\": 776.0, \"Drive_Type\": \"RWD\", \"speed\": 5.9, \"handling\": 3.7, \"acceleration\": 4.5, \"launch\": 4.2, \"braking\": 5.1, \"Offroad\": 9.9, \"Horse_Power\": 850.0, \"Weight_lbs\": 3750.0}, {\"Car_Image\": \"https://www.kudosprime.com/fh5/images/cars/side/fh5_car_447.jpg?v=1\", \"Name_and_model\": \"2004 Saleen S7\", \"Model_type\": \"RETRO SUPERCARS\", \"In_Game_Price\": \"388,000\", \"car_source\": \"Wheelspin\", \"stock_specs\": \"S1\", \"Stock_Rating\": 855.0, \"Drive_Type\": \"RWD\", \"speed\": 7.9, \"handling\": 7.4, \"acceleration\": 7.1, \"launch\": 7.0, \"braking\": 6.7, \"Offroad\": 4.7, \"Horse_Power\": 575.0, \"Weight_lbs\": 2756.0}, {\"Car_Image\": \"https://www.kudosprime.com/fh5/images/cars/side/fh5_car_448.jpg?v=1\", \"Name_and_model\": \"2018 Saleen S1\", \"Model_type\": \"MODERN SUPERCARS\", \"In_Game_Price\": \"200,000\", \"car_source\": \"Autoshow\", \"stock_specs\": \"S1\", \"Stock_Rating\": 821.0, \"Drive_Type\": \"RWD\", \"speed\": 6.5, \"handling\": 7.2, \"acceleration\": 7.2, \"launch\": 5.9, \"braking\": 6.3, \"Offroad\": 4.7, \"Horse_Power\": 450.0, \"Weight_lbs\": 2685.0}, {\"Car_Image\": \"https://www.kudosprime.com/fh5/images/cars/side/fh5_car_449.jpg?v=1\", \"Name_and_model\": \"1965 Shelby Cobra 427 S/C\", \"Model_type\": \"RARE CLASSICS\", \"In_Game_Price\": \"2,100,000\", \"car_source\": \"Autoshow\", \"stock_specs\": \"B\", \"Stock_Rating\": 694.0, \"Drive_Type\": \"RWD\", \"speed\": 5.9, \"handling\": 4.1, \"acceleration\": 4.5, \"launch\": 4.6, \"braking\": 3.2, \"Offroad\": 4.5, \"Horse_Power\": 425.0, \"Weight_lbs\": 2350.0}, {\"Car_Image\": \"https://www.kudosprime.com/fh5/images/cars/side/fh5_car_450.jpg?v=1\", \"Name_and_model\": \"1965 Shelby Cobra Daytona Coupe\", \"Model_type\": \"CLASSIC RACERS\", \"In_Game_Price\": \"30,000,000\", \"car_source\": \"Autoshow\", \"stock_specs\": \"B\", \"Stock_Rating\": 637.0, \"Drive_Type\": \"RWD\", \"speed\": 6.7, \"handling\": 3.9, \"acceleration\": 3.7, \"launch\": 2.9, \"braking\": 2.8, \"Offroad\": 4.7, \"Horse_Power\": 390.0, \"Weight_lbs\": 2300.0}, {\"Car_Image\": \"https://www.kudosprime.com/fh5/images/cars/side/fh5_car_451.jpg?v=1\", \"Name_and_model\": \"2021 SIERRA Cars RX3\", \"Model_type\": \"UTV'S\", \"In_Game_Price\": \"45,000\", \"car_source\": \"Autoshow\", \"stock_specs\": \"A\", \"Stock_Rating\": 737.0, \"Drive_Type\": \"RWD\", \"speed\": 4.3, \"handling\": 5.1, \"acceleration\": 6.4, \"launch\": 7.1, \"braking\": 5.9, \"Offroad\": 7.7, \"Horse_Power\": 194.0, \"Weight_lbs\": 925.0}, {\"Car_Image\": \"https://www.kudosprime.com/fh5/images/cars/side/fh5_car_452.jpg?v=1\", \"Name_and_model\": \"1998 Subaru Impreza 22B-STi Version\", \"Model_type\": \"RETRO RALLY\", \"In_Game_Price\": \"110,000\", \"car_source\": \"Wheelspin\", \"stock_specs\": \"B\", \"Stock_Rating\": 640.0, \"Drive_Type\": \"AWD\", \"speed\": 5.6, \"handling\": 5.5, \"acceleration\": 5.0, \"launch\": 3.2, \"braking\": 3.6, \"Offroad\": 5.3, \"Horse_Power\": 276.0, \"Weight_lbs\": 2800.0}, {\"Car_Image\": \"https://www.kudosprime.com/fh5/images/cars/side/fh5_car_453.jpg?v=1\", \"Name_and_model\": \"2004 Subaru IMPREZA WRX STi\", \"Model_type\": \"MODERN RALLY\", \"In_Game_Price\": \"28,000\", \"car_source\": \"Autoshow\", \"stock_specs\": \"B\", \"Stock_Rating\": 652.0, \"Drive_Type\": \"AWD\", \"speed\": 5.9, \"handling\": 5.3, \"acceleration\": 6.0, \"launch\": 3.6, \"braking\": 3.6, \"Offroad\": 5.6, \"Horse_Power\": 278.0, \"Weight_lbs\": 3270.0}, {\"Car_Image\": \"https://www.kudosprime.com/fh5/images/cars/side/fh5_car_454.jpg?v=1\", \"Name_and_model\": \"2005 Subaru IMPREZA WRX STI\", \"Model_type\": \"MODERN RALLY\", \"In_Game_Price\": \"51,000\", \"car_source\": \"Autoshow\", \"stock_specs\": \"B\", \"Stock_Rating\": 669.0, \"Drive_Type\": \"AWD\", \"speed\": 6.2, \"handling\": 5.3, \"acceleration\": 6.3, \"launch\": 3.2, \"braking\": 3.6, \"Offroad\": 5.7, \"Horse_Power\": 311.0, \"Weight_lbs\": 3315.0}, {\"Car_Image\": \"https://www.kudosprime.com/fh5/images/cars/side/fh5_car_455.jpg?v=1\", \"Name_and_model\": \"2008 Subaru IMPREZA WRX STI\", \"Model_type\": \"MODERN RALLY\", \"In_Game_Price\": \"31,000\", \"car_source\": \"Autoshow\", \"stock_specs\": \"B\", \"Stock_Rating\": 649.0, \"Drive_Type\": \"AWD\", \"speed\": 5.7, \"handling\": 5.5, \"acceleration\": 5.4, \"launch\": 3.8, \"braking\": 3.7, \"Offroad\": 5.6, \"Horse_Power\": 305.0, \"Weight_lbs\": 3395.0}, {\"Car_Image\": \"https://www.kudosprime.com/fh5/images/cars/side/fh5_car_456.jpg?v=1\", \"Name_and_model\": \"2011 Subaru WRX STI\", \"Model_type\": \"MODERN RALLY\", \"In_Game_Price\": \"33,000\", \"car_source\": \"Autoshow\", \"stock_specs\": \"B\", \"Stock_Rating\": 668.0, \"Drive_Type\": \"AWD\", \"speed\": 6.0, \"handling\": 5.7, \"acceleration\": 5.1, \"launch\": 2.8, \"braking\": 3.9, \"Offroad\": 5.9, \"Horse_Power\": 305.0, \"Weight_lbs\": 3384.0}, {\"Car_Image\": \"https://www.kudosprime.com/fh5/images/cars/side/fh5_car_457.jpg?v=1\", \"Name_and_model\": \"2013 Subaru BRZ\", \"Model_type\": \"MODERN SPORTS CARS\", \"In_Game_Price\": \"32,000\", \"car_source\": \"Autoshow\", \"stock_specs\": \"C\", \"Stock_Rating\": 581.0, \"Drive_Type\": \"RWD\", \"speed\": 5.7, \"handling\": 5.1, \"acceleration\": 4.2, \"launch\": 3.6, \"braking\": 3.1, \"Offroad\": 4.8, \"Horse_Power\": 200.0, \"Weight_lbs\": 2764.0}, {\"Car_Image\": \"https://www.kudosprime.com/fh5/images/cars/side/fh5_car_458.jpg?v=1\", \"Name_and_model\": \"2015 Subaru WRX STI\", \"Model_type\": \"MODERN RALLY\", \"In_Game_Price\": \"42,000\", \"car_source\": \"Autoshow\", \"stock_specs\": \"B\", \"Stock_Rating\": 675.0, \"Drive_Type\": \"AWD\", \"speed\": 6.0, \"handling\": 5.7, \"acceleration\": 5.5, \"launch\": 3.1, \"braking\": 3.9, \"Offroad\": 5.6, \"Horse_Power\": 305.0, \"Weight_lbs\": 3386.0}, {\"Car_Image\": \"https://www.kudosprime.com/fh5/images/cars/side/fh5_car_539.jpg?v=1\", \"Name_and_model\": \"2019 Subaru STI 209\", \"Model_type\": \"MODERN RALLY\", \"In_Game_Price\": \"42,000\", \"car_source\": \"Autoshow\", \"stock_specs\": \"B\", \"Stock_Rating\": 689.0, \"Drive_Type\": \"AWD\", \"speed\": 6.0, \"handling\": 5.9, \"acceleration\": 5.8, \"launch\": 3.1, \"braking\": 4.4, \"Offroad\": 5.4, \"Horse_Power\": 341.0, \"Weight_lbs\": 3485.0}, {\"Car_Image\": \"https://www.kudosprime.com/fh5/images/cars/side/fh5_car_459.jpg?v=1\", \"Name_and_model\": \"1969 Toyota 2000GT\", \"Model_type\": \"RARE CLASSICS\", \"In_Game_Price\": \"750,000\", \"car_source\": \"Autoshow\", \"stock_specs\": \"D\", \"Stock_Rating\": 487.0, \"Drive_Type\": \"RWD\", \"speed\": 5.1, \"handling\": 4.3, \"acceleration\": 3.7, \"launch\": 2.7, \"braking\": 2.6, \"Offroad\": 5.0, \"Horse_Power\": 150.0, \"Weight_lbs\": 2550.0}, {\"Car_Image\": \"https://www.kudosprime.com/fh5/images/cars/side/fh5_car_460.jpg?v=1\", \"Name_and_model\": \"1974 Toyota Celica GT\", \"Model_type\": \"CLASSIC SPORTS CARS\", \"In_Game_Price\": \"20,000\", \"car_source\": \"Autoshow\", \"stock_specs\": \"D\", \"Stock_Rating\": 315.0, \"Drive_Type\": \"RWD\", \"speed\": 4.0, \"handling\": 3.8, \"acceleration\": 2.7, \"launch\": 2.5, \"braking\": 2.0, \"Offroad\": 4.9, \"Horse_Power\": 97.0, \"Weight_lbs\": 2392.0}, {\"Car_Image\": \"https://www.kudosprime.com/fh5/images/cars/side/fh5_car_461.jpg?v=1\", \"Name_and_model\": \"1979 Toyota FJ40\", \"Model_type\": \"PICK-UP & 4X4'S\", \"In_Game_Price\": \"55,000\", \"car_source\": \"Autoshow\", \"stock_specs\": \"D\", \"Stock_Rating\": 269.0, \"Drive_Type\": \"AWD\", \"speed\": 3.4, \"handling\": 3.0, \"acceleration\": 2.4, \"launch\": 3.4, \"braking\": 2.3, \"Offroad\": 7.5, \"Horse_Power\": 135.0, \"Weight_lbs\": 3417.0}, {\"Car_Image\": \"https://www.kudosprime.com/fh5/images/cars/side/fh5_car_462.jpg?v=1\", \"Name_and_model\": \"1985 Toyota Sprinter Trueno GT Apex\", \"Model_type\": \"RETRO SPORTS CARS\", \"In_Game_Price\": \"20,000\", \"car_source\": \"Wheelspin\", \"stock_specs\": \"D\", \"Stock_Rating\": 480.0, \"Drive_Type\": \"RWD\", \"speed\": 4.5, \"handling\": 4.3, \"acceleration\": 4.0, \"launch\": 3.4, \"braking\": 2.6, \"Offroad\": 5.2, \"Horse_Power\": 128.0, \"Weight_lbs\": 2094.0}, {\"Car_Image\": \"https://www.kudosprime.com/fh5/images/cars/side/fh5_car_463.jpg?v=1\", \"Name_and_model\": \"1989 Toyota MR2 SC\", \"Model_type\": \"RETRO SPORTS CARS\", \"In_Game_Price\": \"20,000\", \"car_source\": \"Autoshow\", \"stock_specs\": \"C\", \"Stock_Rating\": 502.0, \"Drive_Type\": \"RWD\", \"speed\": 5.1, \"handling\": 4.7, \"acceleration\": 3.8, \"launch\": 3.3, \"braking\": 2.8, \"Offroad\": 5.4, \"Horse_Power\": 145.0, \"Weight_lbs\": 2620.0}, {\"Car_Image\": \"https://www.kudosprime.com/fh5/images/cars/side/fh5_car_465.jpg?v=1\", \"Name_and_model\": \"1992 Toyota Celica GT-Four RC ST185\", \"Model_type\": \"RETRO RALLY\", \"In_Game_Price\": \"25,000\", \"car_source\": \"Autoshow\", \"stock_specs\": \"C\", \"Stock_Rating\": 544.0, \"Drive_Type\": \"AWD\", \"speed\": 5.8, \"handling\": 4.5, \"acceleration\": 4.7, \"launch\": 2.9, \"braking\": 2.7, \"Offroad\": 5.5, \"Horse_Power\": 232.0, \"Weight_lbs\": 3219.0}, {\"Car_Image\": \"https://www.kudosprime.com/fh5/images/cars/side/fh5_car_464.jpg?v=1\", \"Name_and_model\": \"1992 Toyota Supra 2.0 GT\", \"Model_type\": \"RETRO SPORTS CARS\", \"In_Game_Price\": \"20,000\", \"car_source\": \"Autoshow\", \"stock_specs\": \"C\", \"Stock_Rating\": 558.0, \"Drive_Type\": \"RWD\", \"speed\": 5.4, \"handling\": 5.1, \"acceleration\": 4.1, \"launch\": 2.7, \"braking\": 3.0, \"Offroad\": 5.1, \"Horse_Power\": 206.0, \"Weight_lbs\": 3329.0}, {\"Car_Image\": \"https://www.kudosprime.com/fh5/images/cars/side/fh5_car_527.jpg?v=1\", \"Name_and_model\": \"1993 Toyota #1 T100 Baja Truck\", \"Model_type\": \"UNLIMITED OFFROAD\", \"In_Game_Price\": \"500,000\", \"car_source\": \"Barn\", \"stock_specs\": \"B\", \"Stock_Rating\": 693.0, \"Drive_Type\": \"RWD\", \"speed\": 4.7, \"handling\": 3.7, \"acceleration\": 5.9, \"launch\": 6.0, \"braking\": 4.7, \"Offroad\": 10.0, \"Horse_Power\": 360.0, \"Weight_lbs\": 4000.0}, {\"Car_Image\": \"https://www.kudosprime.com/fh5/images/cars/side/fh5_car_466.jpg?v=1\", \"Name_and_model\": \"1994 Toyota Celica GT-Four ST205\", \"Model_type\": \"RETRO RALLY\", \"In_Game_Price\": \"20,000\", \"car_source\": \"Wheelspin\", \"stock_specs\": \"C\", \"Stock_Rating\": 590.0, \"Drive_Type\": \"AWD\", \"speed\": 6.1, \"handling\": 4.9, \"acceleration\": 5.1, \"launch\": 2.9, \"braking\": 3.0, \"Offroad\": 5.3, \"Horse_Power\": 255.0, \"Weight_lbs\": 3175.0}, {\"Car_Image\": \"https://www.kudosprime.com/fh5/images/cars/side/fh5_car_467.jpg?v=1\", \"Name_and_model\": \"1998 Toyota Supra RZ\", \"Model_type\": \"RETRO SPORTS CARS\", \"In_Game_Price\": \"38,000\", \"car_source\": \"Autoshow\", \"stock_specs\": \"B\", \"Stock_Rating\": 646.0, \"Drive_Type\": \"RWD\", \"speed\": 6.4, \"handling\": 5.4, \"acceleration\": 4.6, \"launch\": 3.1, \"braking\": 3.5, \"Offroad\": 4.7, \"Horse_Power\": 320.0, \"Weight_lbs\": 3329.0}, {\"Car_Image\": \"https://www.kudosprime.com/fh5/images/cars/side/fh5_car_468.jpg?v=1\", \"Name_and_model\": \"1998 Toyota Supra RZ \\\"Welcome Pack\\\"\", \"Model_type\": \"RETRO SPORTS CARS\", \"In_Game_Price\": \"38,000\", \"car_source\": \"Autoshow\", \"stock_specs\": \"A\", \"Stock_Rating\": 800.0, \"Drive_Type\": \"RWD\", \"speed\": 7.5, \"handling\": 6.7, \"acceleration\": 5.9, \"launch\": 4.3, \"braking\": 5.8, \"Offroad\": 4.1, \"Horse_Power\": 505.0, \"Weight_lbs\": 3252.0}, {\"Car_Image\": \"https://www.kudosprime.com/fh5/images/cars/side/fh5_car_558.jpg?v=1\", \"Name_and_model\": \"2003 Toyota Celica SS-1\", \"Model_type\": \"RETRO SPORTS CARS\", \"In_Game_Price\": \"250,000\", \"car_source\": \"Season Event\", \"stock_specs\": \"C\", \"Stock_Rating\": 557.0, \"Drive_Type\": \"FWD\", \"speed\": 5.5, \"handling\": 4.8, \"acceleration\": 3.8, \"launch\": 3.0, \"braking\": 3.0, \"Offroad\": 5.2, \"Horse_Power\": 187.0, \"Weight_lbs\": 2560.0}, {\"Car_Image\": \"https://www.kudosprime.com/fh5/images/cars/side/fh5_car_561.jpg?v=1\", \"Name_and_model\": \"2007 Toyota Hilux Arctic Trucks AT38\", \"Model_type\": \"PICK-UP & 4X4'S\", \"In_Game_Price\": \"250,000\", \"car_source\": \"Season Event\", \"stock_specs\": \"D\", \"Stock_Rating\": 457.0, \"Drive_Type\": \"AWD\", \"speed\": 4.0, \"handling\": 4.1, \"acceleration\": 2.7, \"launch\": 2.6, \"braking\": 2.9, \"Offroad\": 9.4, \"Horse_Power\": 169.0, \"Weight_lbs\": 4740.0}, {\"Car_Image\": \"https://www.kudosprime.com/fh5/images/cars/side/fh5_car_469.jpg?v=1\", \"Name_and_model\": \"2013 Toyota 86\", \"Model_type\": \"MODERN SPORTS CARS\", \"In_Game_Price\": \"28,800\", \"car_source\": \"Autoshow\", \"stock_specs\": \"C\", \"Stock_Rating\": 579.0, \"Drive_Type\": \"RWD\", \"speed\": 5.5, \"handling\": 5.2, \"acceleration\": 4.2, \"launch\": 3.6, \"braking\": 3.2, \"Offroad\": 4.8, \"Horse_Power\": 197.0, \"Weight_lbs\": 2734.0}, {\"Car_Image\": \"https://www.kudosprime.com/fh5/images/cars/side/fh5_car_560.jpg?v=1\", \"Name_and_model\": \"2016 Toyota Land Cruiser Arctic Trucks AT37\", \"Model_type\": \"PICK-UP & 4X4'S\", \"In_Game_Price\": \"250,000\", \"car_source\": \"Season Event\", \"stock_specs\": \"D\", \"Stock_Rating\": 404.0, \"Drive_Type\": \"AWD\", \"speed\": 4.1, \"handling\": 3.8, \"acceleration\": 2.5, \"launch\": 2.2, \"braking\": 2.7, \"Offroad\": 9.5, \"Horse_Power\": 161.0, \"Weight_lbs\": 4993.0}, {\"Car_Image\": \"https://www.kudosprime.com/fh5/images/cars/side/fh5_car_470.jpg?v=1\", \"Name_and_model\": \"2020 Toyota GR Supra\", \"Model_type\": \"MODERN SPORTS CARS\", \"In_Game_Price\": \"55,000\", \"car_source\": \"Autoshow\", \"stock_specs\": \"A\", \"Stock_Rating\": 731.0, \"Drive_Type\": \"RWD\", \"speed\": 6.2, \"handling\": 6.1, \"acceleration\": 5.5, \"launch\": 5.8, \"braking\": 4.6, \"Offroad\": 4.8, \"Horse_Power\": 335.0, \"Weight_lbs\": 3397.0}, {\"Car_Image\": \"https://www.kudosprime.com/fh5/images/cars/side/fh5_car_471.jpg?v=1\", \"Name_and_model\": \"1998 TVR Cerbera Speed 12\", \"Model_type\": \"RETRO SUPERCARS\", \"In_Game_Price\": \"500,000\", \"car_source\": \"Autoshow\", \"stock_specs\": \"S1\", \"Stock_Rating\": 861.0, \"Drive_Type\": \"RWD\", \"speed\": 8.7, \"handling\": 6.7, \"acceleration\": 5.4, \"launch\": 5.7, \"braking\": 6.6, \"Offroad\": 3.4, \"Horse_Power\": 800.0, \"Weight_lbs\": 2150.0}, {\"Car_Image\": \"https://www.kudosprime.com/fh5/images/cars/side/fh5_car_472.jpg?v=1\", \"Name_and_model\": \"2005 TVR Sagaris\", \"Model_type\": \"RETRO SPORTS CARS\", \"In_Game_Price\": \"86,000\", \"car_source\": \"Autoshow\", \"stock_specs\": \"A\", \"Stock_Rating\": 779.0, \"Drive_Type\": \"RWD\", \"speed\": 6.7, \"handling\": 6.2, \"acceleration\": 5.3, \"launch\": 5.5, \"braking\": 5.0, \"Offroad\": 4.3, \"Horse_Power\": 406.0, \"Weight_lbs\": 2377.0}, {\"Car_Image\": \"https://www.kudosprime.com/fh5/images/cars/side/fh5_car_473.jpg?v=1\", \"Name_and_model\": \"2018 TVR Griffith\", \"Model_type\": \"MODERN SPORTS CARS\", \"In_Game_Price\": \"105,000\", \"car_source\": \"Autoshow\", \"stock_specs\": \"S1\", \"Stock_Rating\": 825.0, \"Drive_Type\": \"RWD\", \"speed\": 7.2, \"handling\": 7.7, \"acceleration\": 5.9, \"launch\": 6.3, \"braking\": 6.9, \"Offroad\": 4.2, \"Horse_Power\": 480.0, \"Weight_lbs\": 2645.0}, {\"Car_Image\": \"https://www.kudosprime.com/fh5/images/cars/side/fh5_car_474.jpg?v=1\", \"Name_and_model\": \"2015 Ultima Evolution Coupe 1020\", \"Model_type\": \"EXTREME TRACK TOYS\", \"In_Game_Price\": \"300,000\", \"car_source\": \"Autoshow\", \"stock_specs\": \"S2\", \"Stock_Rating\": 961.0, \"Drive_Type\": \"RWD\", \"speed\": 8.8, \"handling\": 9.5, \"acceleration\": 7.7, \"launch\": 8.4, \"braking\": 7.9, \"Offroad\": 3.9, \"Horse_Power\": 1020.0, \"Weight_lbs\": 2094.0}, {\"Car_Image\": \"https://www.kudosprime.com/fh5/images/cars/side/fh5_car_563.jpg?v=1\", \"Name_and_model\": \"1990 Vauxhall Lotus Carlton\", \"Model_type\": \"RETRO SALOONS\", \"In_Game_Price\": \"250,000\", \"car_source\": \"Season Event\", \"stock_specs\": \"B\", \"Stock_Rating\": 635.0, \"Drive_Type\": \"RWD\", \"speed\": 6.6, \"handling\": 4.7, \"acceleration\": 4.1, \"launch\": 2.4, \"braking\": 3.2, \"Offroad\": 4.7, \"Horse_Power\": 379.0, \"Weight_lbs\": 3642.0}, {\"Car_Image\": \"https://www.kudosprime.com/fh5/images/cars/side/fh5_car_475.jpg?v=1\", \"Name_and_model\": \"2005 Vauxhall Monaro VXR\", \"Model_type\": \"MODERN MUSCLE\", \"In_Game_Price\": \"25,000\", \"car_source\": \"Autoshow\", \"stock_specs\": \"B\", \"Stock_Rating\": 696.0, \"Drive_Type\": \"RWD\", \"speed\": 7.1, \"handling\": 5.6, \"acceleration\": 4.9, \"launch\": 4.1, \"braking\": 4.3, \"Offroad\": 5.2, \"Horse_Power\": 398.0, \"Weight_lbs\": 3697.0}, {\"Car_Image\": \"https://www.kudosprime.com/fh5/images/cars/side/fh5_car_476.jpg?v=1\", \"Name_and_model\": \"2016 Vauxhall Corsa VXR\", \"Model_type\": \"HOT HATCH\", \"In_Game_Price\": \"28,000\", \"car_source\": \"Autoshow\", \"stock_specs\": \"C\", \"Stock_Rating\": 584.0, \"Drive_Type\": \"FWD\", \"speed\": 5.1, \"handling\": 5.3, \"acceleration\": 3.3, \"launch\": 4.2, \"braking\": 3.6, \"Offroad\": 4.7, \"Horse_Power\": 202.0, \"Weight_lbs\": 2851.0}, {\"Car_Image\": \"https://www.kudosprime.com/fh5/images/cars/side/fh5_car_478.jpg?v=1\", \"Name_and_model\": \"1963 Volkswagen Beetle\", \"Model_type\": \"CULT CARS\", \"In_Game_Price\": \"20,000\", \"car_source\": \"Accolade\", \"stock_specs\": \"D\", \"Stock_Rating\": 100.0, \"Drive_Type\": \"RWD\", \"speed\": 2.9, \"handling\": 3.7, \"acceleration\": 1.7, \"launch\": 2.9, \"braking\": 1.9, \"Offroad\": 5.7, \"Horse_Power\": 40.0, \"Weight_lbs\": 1760.0}, {\"Car_Image\": \"https://www.kudosprime.com/fh5/images/cars/side/fh5_car_510.jpg?v=1\", \"Name_and_model\": \"1963 Volkswagen Beetle Forza Edition\", \"Model_type\": \"TRACK TOYS\", \"In_Game_Price\": \"500,000\", \"car_source\": \"Accolade\", \"stock_specs\": \"S1\", \"Stock_Rating\": 900.0, \"Drive_Type\": \"RWD\", \"speed\": 6.1, \"handling\": 8.8, \"acceleration\": 8.0, \"launch\": 8.8, \"braking\": 10.0, \"Offroad\": 4.4, \"Horse_Power\": 329.0, \"Weight_lbs\": 1543.0}, {\"Car_Image\": \"https://www.kudosprime.com/fh5/images/cars/side/fh5_car_477.jpg?v=1\", \"Name_and_model\": \"1963 Volkswagen Type 2 De Luxe\", \"Model_type\": \"CULT CARS\", \"In_Game_Price\": \"40,000\", \"car_source\": \"Autoshow\", \"stock_specs\": \"D\", \"Stock_Rating\": 100.0, \"Drive_Type\": \"RWD\", \"speed\": 2.6, \"handling\": 3.6, \"acceleration\": 1.5, \"launch\": 3.0, \"braking\": 2.0, \"Offroad\": 5.7, \"Horse_Power\": 50.0, \"Weight_lbs\": 2513.0}, {\"Car_Image\": \"https://www.kudosprime.com/fh5/images/cars/side/fh5_car_479.jpg?v=1\", \"Name_and_model\": \"1969 Volkswagen Class 5/1600 Baja Bug\", \"Model_type\": \"BUGGIES\", \"In_Game_Price\": \"60,000\", \"car_source\": \"Autoshow\", \"stock_specs\": \"D\", \"Stock_Rating\": 349.0, \"Drive_Type\": \"RWD\", \"speed\": 3.5, \"handling\": 4.6, \"acceleration\": 2.5, \"launch\": 4.7, \"braking\": 3.1, \"Offroad\": 7.7, \"Horse_Power\": 80.0, \"Weight_lbs\": 2400.0}, {\"Car_Image\": \"https://www.kudosprime.com/fh5/images/cars/side/fh5_car_480.jpg?v=1\", \"Name_and_model\": \"1970 Volkswagen #1107 Desert Dingo Racing Stock Bug\", \"Model_type\": \"BUGGIES\", \"In_Game_Price\": \"25,000\", \"car_source\": \"Autoshow\", \"stock_specs\": \"D\", \"Stock_Rating\": 371.0, \"Drive_Type\": \"RWD\", \"speed\": 3.8, \"handling\": 3.4, \"acceleration\": 2.8, \"launch\": 2.9, \"braking\": 2.3, \"Offroad\": 8.5, \"Horse_Power\": 93.0, \"Weight_lbs\": 2165.0}, {\"Car_Image\": \"https://www.kudosprime.com/fh5/images/cars/side/fh5_car_481.jpg?v=1\", \"Name_and_model\": \"1981 Volkswagen Scirocco S\", \"Model_type\": \"RETRO HOT HATCH\", \"In_Game_Price\": \"20,000\", \"car_source\": \"Autoshow\", \"stock_specs\": \"D\", \"Stock_Rating\": 293.0, \"Drive_Type\": \"FWD\", \"speed\": 3.7, \"handling\": 4.3, \"acceleration\": 2.5, \"launch\": 2.8, \"braking\": 2.1, \"Offroad\": 4.9, \"Horse_Power\": 74.0, \"Weight_lbs\": 2015.0}, {\"Car_Image\": \"https://www.kudosprime.com/fh5/images/cars/side/fh5_car_482.jpg?v=1\", \"Name_and_model\": \"1983 Volkswagen Golf GTI\", \"Model_type\": \"RETRO HOT HATCH\", \"In_Game_Price\": \"20,000\", \"car_source\": \"Autoshow\", \"stock_specs\": \"D\", \"Stock_Rating\": 428.0, \"Drive_Type\": \"FWD\", \"speed\": 4.2, \"handling\": 3.9, \"acceleration\": 3.5, \"launch\": 3.3, \"braking\": 2.4, \"Offroad\": 5.0, \"Horse_Power\": 112.0, \"Weight_lbs\": 1909.0}, {\"Car_Image\": \"https://www.kudosprime.com/fh5/images/cars/side/fh5_car_483.jpg?v=1\", \"Name_and_model\": \"1992 Volkswagen Golf Gti 16v Mk2\", \"Model_type\": \"RETRO HOT HATCH\", \"In_Game_Price\": \"20,000\", \"car_source\": \"Autoshow\", \"stock_specs\": \"D\", \"Stock_Rating\": 429.0, \"Drive_Type\": \"FWD\", \"speed\": 4.6, \"handling\": 4.4, \"acceleration\": 3.4, \"launch\": 2.5, \"braking\": 2.4, \"Offroad\": 4.9, \"Horse_Power\": 139.0, \"Weight_lbs\": 2425.0}, {\"Car_Image\": \"https://www.kudosprime.com/fh5/images/cars/side/fh5_car_484.jpg?v=1\", \"Name_and_model\": \"1995 Volkswagen Corrado VR6\", \"Model_type\": \"RETRO HOT HATCH\", \"In_Game_Price\": \"20,000\", \"car_source\": \"Autoshow\", \"stock_specs\": \"C\", \"Stock_Rating\": 533.0, \"Drive_Type\": \"FWD\", \"speed\": 5.4, \"handling\": 4.8, \"acceleration\": 3.6, \"launch\": 3.3, \"braking\": 2.8, \"Offroad\": 5.0, \"Horse_Power\": 178.0, \"Weight_lbs\": 2734.0}, {\"Car_Image\": \"https://www.kudosprime.com/fh5/images/cars/side/fh5_car_485.jpg?v=1\", \"Name_and_model\": \"1998 Volkswagen GTI VR6 Mk3\", \"Model_type\": \"RETRO HOT HATCH\", \"In_Game_Price\": \"25,000\", \"car_source\": \"Autoshow\", \"stock_specs\": \"C\", \"Stock_Rating\": 510.0, \"Drive_Type\": \"FWD\", \"speed\": 5.1, \"handling\": 4.6, \"acceleration\": 3.7, \"launch\": 2.8, \"braking\": 2.8, \"Offroad\": 5.1, \"Horse_Power\": 172.0, \"Weight_lbs\": 2800.0}, {\"Car_Image\": \"https://www.kudosprime.com/fh5/images/cars/side/fh5_car_486.jpg?v=1\", \"Name_and_model\": \"2003 Volkswagen Golf R32\", \"Model_type\": \"HOT HATCH\", \"In_Game_Price\": \"20,000\", \"car_source\": \"Autoshow\", \"stock_specs\": \"B\", \"Stock_Rating\": 618.0, \"Drive_Type\": \"AWD\", \"speed\": 5.6, \"handling\": 5.3, \"acceleration\": 5.0, \"launch\": 5.4, \"braking\": 3.6, \"Offroad\": 5.4, \"Horse_Power\": 241.0, \"Weight_lbs\": 3256.0}, {\"Car_Image\": \"https://www.kudosprime.com/fh5/images/cars/side/fh5_car_487.jpg?v=1\", \"Name_and_model\": \"2010 Volkswagen Golf R\", \"Model_type\": \"SUPER HOT HATCH\", \"In_Game_Price\": \"64,000\", \"car_source\": \"Autoshow\", \"stock_specs\": \"B\", \"Stock_Rating\": 645.0, \"Drive_Type\": \"AWD\", \"speed\": 5.8, \"handling\": 5.7, \"acceleration\": 5.0, \"launch\": 3.2, \"braking\": 3.5, \"Offroad\": 5.5, \"Horse_Power\": 267.0, \"Weight_lbs\": 3188.0}, {\"Car_Image\": \"https://www.kudosprime.com/fh5/images/cars/side/fh5_car_488.jpg?v=1\", \"Name_and_model\": \"2011 Volkswagen Scirocco R\", \"Model_type\": \"HOT HATCH\", \"In_Game_Price\": \"45,000\", \"car_source\": \"Autoshow\", \"stock_specs\": \"B\", \"Stock_Rating\": 663.0, \"Drive_Type\": \"FWD\", \"speed\": 5.8, \"handling\": 5.5, \"acceleration\": 4.6, \"launch\": 4.8, \"braking\": 4.0, \"Offroad\": 4.9, \"Horse_Power\": 261.0, \"Weight_lbs\": 2963.0}, {\"Car_Image\": \"https://www.kudosprime.com/fh5/images/cars/side/fh5_car_489.jpg?v=1\", \"Name_and_model\": \"2014 Volkswagen Golf R\", \"Model_type\": \"SUPER HOT HATCH\", \"In_Game_Price\": \"50,000\", \"car_source\": \"Autoshow\", \"stock_specs\": \"B\", \"Stock_Rating\": 663.0, \"Drive_Type\": \"AWD\", \"speed\": 5.9, \"handling\": 5.9, \"acceleration\": 5.8, \"launch\": 6.3, \"braking\": 3.8, \"Offroad\": 5.5, \"Horse_Power\": 296.0, \"Weight_lbs\": 3254.0}, {\"Car_Image\": \"https://www.kudosprime.com/fh5/images/cars/side/fh5_car_490.jpg?v=1\", \"Name_and_model\": \"2017 Volkswagen #34 Volkswagen Andretti Rallycross Beetle\", \"Model_type\": \"RALLY MONSTERS\", \"In_Game_Price\": \"500,000\", \"car_source\": \"Autoshow\", \"stock_specs\": \"S1\", \"Stock_Rating\": 851.0, \"Drive_Type\": \"AWD\", \"speed\": 4.8, \"handling\": 5.6, \"acceleration\": 9.2, \"launch\": 4.6, \"braking\": 5.9, \"Offroad\": 7.6, \"Horse_Power\": 553.0, \"Weight_lbs\": 2668.0}, {\"Car_Image\": \"https://www.kudosprime.com/fh5/images/cars/side/fh5_car_491.jpg?v=1\", \"Name_and_model\": \"1983 Volvo 242 Turbo Evolution\", \"Model_type\": \"CLASSIC RALLY\", \"In_Game_Price\": \"45,000\", \"car_source\": \"Autoshow\", \"stock_specs\": \"C\", \"Stock_Rating\": 548.0, \"Drive_Type\": \"RWD\", \"speed\": 5.0, \"handling\": 4.0, \"acceleration\": 4.0, \"launch\": 3.6, \"braking\": 3.1, \"Offroad\": 5.5, \"Horse_Power\": 225.0, \"Weight_lbs\": 3175.0}, {\"Car_Image\": \"https://www.kudosprime.com/fh5/images/cars/side/fh5_car_492.jpg?v=1\", \"Name_and_model\": \"1997 Volvo 850 R\", \"Model_type\": \"RETRO SALOONS\", \"In_Game_Price\": \"25,000\", \"car_source\": \"Autoshow\", \"stock_specs\": \"C\", \"Stock_Rating\": 511.0, \"Drive_Type\": \"FWD\", \"speed\": 5.8, \"handling\": 4.3, \"acceleration\": 3.3, \"launch\": 2.6, \"braking\": 2.5, \"Offroad\": 5.0, \"Horse_Power\": 240.0, \"Weight_lbs\": 3230.0}, {\"Car_Image\": \"https://www.kudosprime.com/fh5/images/cars/side/fh5_car_493.jpg?v=1\", \"Name_and_model\": \"2015 Volvo V60 Polestar\", \"Model_type\": \"SUPER SALOONS\", \"In_Game_Price\": \"62,000\", \"car_source\": \"Autoshow\", \"stock_specs\": \"B\", \"Stock_Rating\": 662.0, \"Drive_Type\": \"AWD\", \"speed\": 6.1, \"handling\": 5.9, \"acceleration\": 5.5, \"launch\": 3.6, \"braking\": 3.9, \"Offroad\": 5.1, \"Horse_Power\": 346.0, \"Weight_lbs\": 3985.0}, {\"Car_Image\": \"https://www.kudosprime.com/fh5/images/cars/side/fh5_car_494.jpg?v=1\", \"Name_and_model\": \"2017 VUHL 05RR\", \"Model_type\": \"TRACK TOYS\", \"In_Game_Price\": \"100,000\", \"car_source\": \"Autoshow\", \"stock_specs\": \"S1\", \"Stock_Rating\": 886.0, \"Drive_Type\": \"RWD\", \"speed\": 6.8, \"handling\": 8.6, \"acceleration\": 8.5, \"launch\": 9.2, \"braking\": 7.8, \"Offroad\": 3.7, \"Horse_Power\": 385.0, \"Weight_lbs\": 1598.0}, {\"Car_Image\": \"https://www.kudosprime.com/fh5/images/cars/side/fh5_car_495.jpg?v=1\", \"Name_and_model\": \"1945 WILLYS MB Jeep\", \"Model_type\": \"PICK-UP & 4X4'S\", \"In_Game_Price\": \"40,000\", \"car_source\": \"Autoshow\", \"stock_specs\": \"D\", \"Stock_Rating\": 198.0, \"Drive_Type\": \"AWD\", \"speed\": 2.6, \"handling\": 3.7, \"acceleration\": 2.0, \"launch\": 3.3, \"braking\": 2.1, \"Offroad\": 7.1, \"Horse_Power\": 60.0, \"Weight_lbs\": 2137.0}, {\"Car_Image\": \"https://www.kudosprime.com/fh5/images/cars/side/fh5_car_496.jpg?v=1\", \"Name_and_model\": \"2019 Zenvo TSR-S\", \"Model_type\": \"HYPERCARS\", \"In_Game_Price\": \"1,200,000\", \"car_source\": \"Autoshow\", \"stock_specs\": \"S2\", \"Stock_Rating\": 927.0, \"Drive_Type\": \"RWD\", \"speed\": 9.0, \"handling\": 8.7, \"acceleration\": 6.7, \"launch\": 7.2, \"braking\": 9.6, \"Offroad\": 4.0, \"Horse_Power\": 1177.0, \"Weight_lbs\": 3410.0}]}}, {\"mode\": \"vega-lite\"});\n",
       "</script>"
      ],
      "text/plain": [
       "alt.LayerChart(...)"
      ]
     },
     "execution_count": 20,
     "metadata": {},
     "output_type": "execute_result"
    }
   ],
   "source": [
    "combined_chart"
   ]
  },
  {
   "cell_type": "markdown",
   "metadata": {
    "cell_id": "00b594a54d7342eeaa6f31f0373d68fe",
    "deepnote_cell_type": "markdown"
   },
   "source": [
    "This chart was made possible because of ChatGPT. Given that I have multiple input features it is not easily to visualize all the information as it would technically produce a multi-dimentional chart. As such, this is was the best alternative I could come up with. While it is hard to read, it does help visualize how the stats correspond to which what level of \"Stock_Rating.\""
   ]
  },
  {
   "cell_type": "code",
   "execution_count": 21,
   "metadata": {
    "cell_id": "b87258883de94e0882ba15313b56535b",
    "deepnote_cell_type": "code",
    "deepnote_to_be_reexecuted": false,
    "execution_millis": 65,
    "execution_start": 1686781808002,
    "source_hash": "7fcf91b"
   },
   "outputs": [
    {
     "data": {
      "text/html": [
       "\n",
       "<div id=\"altair-viz-75c9005ded18494fb8e016067c6af0e6\"></div>\n",
       "<script type=\"text/javascript\">\n",
       "  var VEGA_DEBUG = (typeof VEGA_DEBUG == \"undefined\") ? {} : VEGA_DEBUG;\n",
       "  (function(spec, embedOpt){\n",
       "    let outputDiv = document.currentScript.previousElementSibling;\n",
       "    if (outputDiv.id !== \"altair-viz-75c9005ded18494fb8e016067c6af0e6\") {\n",
       "      outputDiv = document.getElementById(\"altair-viz-75c9005ded18494fb8e016067c6af0e6\");\n",
       "    }\n",
       "    const paths = {\n",
       "      \"vega\": \"https://cdn.jsdelivr.net/npm//vega@5?noext\",\n",
       "      \"vega-lib\": \"https://cdn.jsdelivr.net/npm//vega-lib?noext\",\n",
       "      \"vega-lite\": \"https://cdn.jsdelivr.net/npm//vega-lite@4.17.0?noext\",\n",
       "      \"vega-embed\": \"https://cdn.jsdelivr.net/npm//vega-embed@6?noext\",\n",
       "    };\n",
       "\n",
       "    function maybeLoadScript(lib, version) {\n",
       "      var key = `${lib.replace(\"-\", \"\")}_version`;\n",
       "      return (VEGA_DEBUG[key] == version) ?\n",
       "        Promise.resolve(paths[lib]) :\n",
       "        new Promise(function(resolve, reject) {\n",
       "          var s = document.createElement('script');\n",
       "          document.getElementsByTagName(\"head\")[0].appendChild(s);\n",
       "          s.async = true;\n",
       "          s.onload = () => {\n",
       "            VEGA_DEBUG[key] = version;\n",
       "            return resolve(paths[lib]);\n",
       "          };\n",
       "          s.onerror = () => reject(`Error loading script: ${paths[lib]}`);\n",
       "          s.src = paths[lib];\n",
       "        });\n",
       "    }\n",
       "\n",
       "    function showError(err) {\n",
       "      outputDiv.innerHTML = `<div class=\"error\" style=\"color:red;\">${err}</div>`;\n",
       "      throw err;\n",
       "    }\n",
       "\n",
       "    function displayChart(vegaEmbed) {\n",
       "      vegaEmbed(outputDiv, spec, embedOpt)\n",
       "        .catch(err => showError(`Javascript Error: ${err.message}<br>This usually means there's a typo in your chart specification. See the javascript console for the full traceback.`));\n",
       "    }\n",
       "\n",
       "    if(typeof define === \"function\" && define.amd) {\n",
       "      requirejs.config({paths});\n",
       "      require([\"vega-embed\"], displayChart, err => showError(`Error loading script: ${err.message}`));\n",
       "    } else {\n",
       "      maybeLoadScript(\"vega\", \"5\")\n",
       "        .then(() => maybeLoadScript(\"vega-lite\", \"4.17.0\"))\n",
       "        .then(() => maybeLoadScript(\"vega-embed\", \"6\"))\n",
       "        .catch(showError)\n",
       "        .then(() => displayChart(vegaEmbed));\n",
       "    }\n",
       "  })({\"config\": {\"view\": {\"continuousWidth\": 400, \"continuousHeight\": 300}}, \"data\": {\"name\": \"data-8555c6baafaa46fb2e949687c1e194a8\"}, \"mark\": \"point\", \"encoding\": {\"color\": {\"field\": \"column\", \"legend\": {\"title\": \"Features\"}, \"type\": \"nominal\"}}, \"$schema\": \"https://vega.github.io/schema/vega-lite/v4.17.0.json\", \"datasets\": {\"data-8555c6baafaa46fb2e949687c1e194a8\": [{\"column\": \"speed\"}, {\"column\": \"handling\"}, {\"column\": \"acceleration\"}, {\"column\": \"launch\"}, {\"column\": \"braking\"}, {\"column\": \"Offroad\"}]}}, {\"mode\": \"vega-lite\"});\n",
       "</script>"
      ],
      "text/plain": [
       "alt.Chart(...)"
      ]
     },
     "execution_count": 21,
     "metadata": {},
     "output_type": "execute_result"
    }
   ],
   "source": [
    "legend_chart = alt.Chart(pd.DataFrame({'column': cols1})).mark_point().encode(\n",
    "    color=alt.Color(\"column:N\", legend=alt.Legend(title='Features'))\n",
    ")\n",
    "legend_chart"
   ]
  },
  {
   "cell_type": "code",
   "execution_count": 22,
   "metadata": {
    "cell_id": "d2b1841f7064448eae1a4df8109b02ff",
    "deepnote_cell_type": "code",
    "deepnote_to_be_reexecuted": false,
    "execution_millis": 63,
    "execution_start": 1686781808004,
    "source_hash": "5625327b"
   },
   "outputs": [
    {
     "data": {
      "text/html": [
       "\n",
       "<div id=\"altair-viz-d1e67318b2b34316953aefc8d67f023e\"></div>\n",
       "<script type=\"text/javascript\">\n",
       "  var VEGA_DEBUG = (typeof VEGA_DEBUG == \"undefined\") ? {} : VEGA_DEBUG;\n",
       "  (function(spec, embedOpt){\n",
       "    let outputDiv = document.currentScript.previousElementSibling;\n",
       "    if (outputDiv.id !== \"altair-viz-d1e67318b2b34316953aefc8d67f023e\") {\n",
       "      outputDiv = document.getElementById(\"altair-viz-d1e67318b2b34316953aefc8d67f023e\");\n",
       "    }\n",
       "    const paths = {\n",
       "      \"vega\": \"https://cdn.jsdelivr.net/npm//vega@5?noext\",\n",
       "      \"vega-lib\": \"https://cdn.jsdelivr.net/npm//vega-lib?noext\",\n",
       "      \"vega-lite\": \"https://cdn.jsdelivr.net/npm//vega-lite@4.17.0?noext\",\n",
       "      \"vega-embed\": \"https://cdn.jsdelivr.net/npm//vega-embed@6?noext\",\n",
       "    };\n",
       "\n",
       "    function maybeLoadScript(lib, version) {\n",
       "      var key = `${lib.replace(\"-\", \"\")}_version`;\n",
       "      return (VEGA_DEBUG[key] == version) ?\n",
       "        Promise.resolve(paths[lib]) :\n",
       "        new Promise(function(resolve, reject) {\n",
       "          var s = document.createElement('script');\n",
       "          document.getElementsByTagName(\"head\")[0].appendChild(s);\n",
       "          s.async = true;\n",
       "          s.onload = () => {\n",
       "            VEGA_DEBUG[key] = version;\n",
       "            return resolve(paths[lib]);\n",
       "          };\n",
       "          s.onerror = () => reject(`Error loading script: ${paths[lib]}`);\n",
       "          s.src = paths[lib];\n",
       "        });\n",
       "    }\n",
       "\n",
       "    function showError(err) {\n",
       "      outputDiv.innerHTML = `<div class=\"error\" style=\"color:red;\">${err}</div>`;\n",
       "      throw err;\n",
       "    }\n",
       "\n",
       "    function displayChart(vegaEmbed) {\n",
       "      vegaEmbed(outputDiv, spec, embedOpt)\n",
       "        .catch(err => showError(`Javascript Error: ${err.message}<br>This usually means there's a typo in your chart specification. See the javascript console for the full traceback.`));\n",
       "    }\n",
       "\n",
       "    if(typeof define === \"function\" && define.amd) {\n",
       "      requirejs.config({paths});\n",
       "      require([\"vega-embed\"], displayChart, err => showError(`Error loading script: ${err.message}`));\n",
       "    } else {\n",
       "      maybeLoadScript(\"vega\", \"5\")\n",
       "        .then(() => maybeLoadScript(\"vega-lite\", \"4.17.0\"))\n",
       "        .then(() => maybeLoadScript(\"vega-embed\", \"6\"))\n",
       "        .catch(showError)\n",
       "        .then(() => displayChart(vegaEmbed));\n",
       "    }\n",
       "  })({\"config\": {\"view\": {\"continuousWidth\": 400, \"continuousHeight\": 300}}, \"layer\": [{\"layer\": [{\"mark\": \"circle\", \"encoding\": {\"color\": {\"value\": \"rgb(114, 108, 158)\"}, \"tooltip\": [{\"field\": \"speed\", \"type\": \"quantitative\"}], \"x\": {\"field\": \"speed\", \"type\": \"quantitative\"}, \"y\": {\"field\": \"Stock_Rating\", \"type\": \"quantitative\"}}, \"selection\": {\"selector001\": {\"type\": \"interval\", \"bind\": \"scales\", \"encodings\": [\"x\", \"y\"]}}}, {\"mark\": \"circle\", \"encoding\": {\"color\": {\"value\": \"rgb(152, 70, 144)\"}, \"tooltip\": [{\"field\": \"handling\", \"type\": \"quantitative\"}], \"x\": {\"field\": \"handling\", \"type\": \"quantitative\"}, \"y\": {\"field\": \"Stock_Rating\", \"type\": \"quantitative\"}}, \"selection\": {\"selector002\": {\"type\": \"interval\", \"bind\": \"scales\", \"encodings\": [\"x\", \"y\"]}}}, {\"mark\": \"circle\", \"encoding\": {\"color\": {\"value\": \"rgb(249, 183, 223)\"}, \"tooltip\": [{\"field\": \"acceleration\", \"type\": \"quantitative\"}], \"x\": {\"field\": \"acceleration\", \"type\": \"quantitative\"}, \"y\": {\"field\": \"Stock_Rating\", \"type\": \"quantitative\"}}, \"selection\": {\"selector003\": {\"type\": \"interval\", \"bind\": \"scales\", \"encodings\": [\"x\", \"y\"]}}}, {\"mark\": \"circle\", \"encoding\": {\"color\": {\"value\": \"rgb(58, 127, 244)\"}, \"tooltip\": [{\"field\": \"launch\", \"type\": \"quantitative\"}], \"x\": {\"field\": \"launch\", \"type\": \"quantitative\"}, \"y\": {\"field\": \"Stock_Rating\", \"type\": \"quantitative\"}}, \"selection\": {\"selector004\": {\"type\": \"interval\", \"bind\": \"scales\", \"encodings\": [\"x\", \"y\"]}}}, {\"mark\": \"circle\", \"encoding\": {\"color\": {\"value\": \"rgb(69, 59, 7)\"}, \"tooltip\": [{\"field\": \"braking\", \"type\": \"quantitative\"}], \"x\": {\"field\": \"braking\", \"type\": \"quantitative\"}, \"y\": {\"field\": \"Stock_Rating\", \"type\": \"quantitative\"}}, \"selection\": {\"selector005\": {\"type\": \"interval\", \"bind\": \"scales\", \"encodings\": [\"x\", \"y\"]}}}, {\"mark\": \"circle\", \"encoding\": {\"color\": {\"value\": \"rgb(11, 22, 244)\"}, \"tooltip\": [{\"field\": \"Offroad\", \"type\": \"quantitative\"}], \"x\": {\"field\": \"Offroad\", \"type\": \"quantitative\"}, \"y\": {\"field\": \"Stock_Rating\", \"type\": \"quantitative\"}}, \"selection\": {\"selector006\": {\"type\": \"interval\", \"bind\": \"scales\", \"encodings\": [\"x\", \"y\"]}}}], \"data\": {\"name\": \"data-a5c3049d37e4715b1f1bbf6b968592ce\"}}, {\"data\": {\"name\": \"data-8555c6baafaa46fb2e949687c1e194a8\"}, \"mark\": \"point\", \"encoding\": {\"color\": {\"field\": \"column\", \"legend\": {\"title\": \"Features\"}, \"type\": \"nominal\"}}}], \"$schema\": \"https://vega.github.io/schema/vega-lite/v4.17.0.json\", \"datasets\": {\"data-a5c3049d37e4715b1f1bbf6b968592ce\": [{\"Car_Image\": \"https://www.kudosprime.com/fh5/images/cars/side/fh5_car_001.jpg?v=1\", \"Name_and_model\": \"2001 Acura Integra Type R\", \"Model_type\": \"RETRO HOT HATCH\", \"In_Game_Price\": \"25,000\", \"car_source\": \"Autoshow\", \"stock_specs\": \"C\", \"Stock_Rating\": 596.0, \"Drive_Type\": \"FWD\", \"speed\": 5.6, \"handling\": 5.1, \"acceleration\": 3.9, \"launch\": 3.1, \"braking\": 3.4, \"Offroad\": 5.1, \"Horse_Power\": 195.0, \"Weight_lbs\": 2639.0}, {\"Car_Image\": \"https://www.kudosprime.com/fh5/images/cars/side/fh5_car_002.jpg?v=1\", \"Name_and_model\": \"2002 Acura RSX Type S\", \"Model_type\": \"RETRO HOT HATCH\", \"In_Game_Price\": \"25,000\", \"car_source\": \"Autoshow\", \"stock_specs\": \"C\", \"Stock_Rating\": 585.0, \"Drive_Type\": \"FWD\", \"speed\": 5.6, \"handling\": 5.1, \"acceleration\": 3.9, \"launch\": 3.0, \"braking\": 3.5, \"Offroad\": 5.3, \"Horse_Power\": 200.0, \"Weight_lbs\": 2820.0}, {\"Car_Image\": \"https://www.kudosprime.com/fh5/images/cars/side/fh5_car_003.jpg?v=1\", \"Name_and_model\": \"2017 Acura NSX\", \"Model_type\": \"MODERN SUPERCARS\", \"In_Game_Price\": \"170,000\", \"car_source\": \"Autoshow\", \"stock_specs\": \"S1\", \"Stock_Rating\": 831.0, \"Drive_Type\": \"AWD\", \"speed\": 7.0, \"handling\": 7.0, \"acceleration\": 9.2, \"launch\": 10.0, \"braking\": 7.1, \"Offroad\": 4.7, \"Horse_Power\": 573.0, \"Weight_lbs\": 3803.0}, {\"Car_Image\": \"https://www.kudosprime.com/fh5/images/cars/side/fh5_car_004.jpg?v=1\", \"Name_and_model\": \"1973 Alpine A110 1600s\", \"Model_type\": \"CLASSIC RALLY\", \"In_Game_Price\": \"98,000\", \"car_source\": \"Autoshow\", \"stock_specs\": \"C\", \"Stock_Rating\": 550.0, \"Drive_Type\": \"RWD\", \"speed\": 5.0, \"handling\": 4.4, \"acceleration\": 4.1, \"launch\": 3.1, \"braking\": 3.0, \"Offroad\": 5.3, \"Horse_Power\": 123.0, \"Weight_lbs\": 1576.0}, {\"Car_Image\": \"https://www.kudosprime.com/fh5/images/cars/side/fh5_car_005.jpg?v=1\", \"Name_and_model\": \"2017 Alpine A110\", \"Model_type\": \"MODERN SPORTS CARS\", \"In_Game_Price\": \"67,500\", \"car_source\": \"Wheelspin\", \"stock_specs\": \"B\", \"Stock_Rating\": 694.0, \"Drive_Type\": \"RWD\", \"speed\": 6.0, \"handling\": 6.4, \"acceleration\": 5.4, \"launch\": 5.7, \"braking\": 4.2, \"Offroad\": 4.2, \"Horse_Power\": 248.0, \"Weight_lbs\": 2432.0}, {\"Car_Image\": \"https://www.kudosprime.com/fh5/images/cars/side/fh5_car_006.jpg?v=1\", \"Name_and_model\": \"2015 Alumi Craft Class 10 Race Car\", \"Model_type\": \"UNLIMITED BUGGIES\", \"In_Game_Price\": \"300,000\", \"car_source\": \"Autoshow\", \"stock_specs\": \"B\", \"Stock_Rating\": 642.0, \"Drive_Type\": \"RWD\", \"speed\": 4.4, \"handling\": 3.8, \"acceleration\": 5.0, \"launch\": 4.1, \"braking\": 4.8, \"Offroad\": 10.0, \"Horse_Power\": 196.0, \"Weight_lbs\": 2200.0}, {\"Car_Image\": \"https://www.kudosprime.com/fh5/images/cars/side/fh5_car_007.jpg?v=1\", \"Name_and_model\": \"1973 AMC Gremlin X\", \"Model_type\": \"CULT CARS\", \"In_Game_Price\": \"35,000\", \"car_source\": \"Autoshow\", \"stock_specs\": \"D\", \"Stock_Rating\": 403.0, \"Drive_Type\": \"RWD\", \"speed\": 4.0, \"handling\": 3.9, \"acceleration\": 3.4, \"launch\": 3.4, \"braking\": 2.3, \"Offroad\": 5.2, \"Horse_Power\": 150.0, \"Weight_lbs\": 2840.0}, {\"Car_Image\": \"https://www.kudosprime.com/fh5/images/cars/side/fh5_car_008.jpg?v=1\", \"Name_and_model\": \"2554 AMG TRANSPORT DYNAMICS M12S Warthog CST\", \"Model_type\": \"UNLIMITED OFFROAD\", \"In_Game_Price\": \"850,000\", \"car_source\": \"Autoshow\", \"stock_specs\": \"A\", \"Stock_Rating\": 719.0, \"Drive_Type\": \"AWD\", \"speed\": 4.2, \"handling\": 4.1, \"acceleration\": 8.6, \"launch\": 10.0, \"braking\": 6.7, \"Offroad\": 10.0, \"Horse_Power\": 720.0, \"Weight_lbs\": 5071.0}, {\"Car_Image\": \"https://www.kudosprime.com/fh5/images/cars/side/fh5_car_009.jpg?v=1\", \"Name_and_model\": \"2018 Apollo Intensa Emozione\", \"Model_type\": \"EXTREME TRACK TOYS\", \"In_Game_Price\": \"1,500,000\", \"car_source\": \"Autoshow\", \"stock_specs\": \"S2\", \"Stock_Rating\": 963.0, \"Drive_Type\": \"RWD\", \"speed\": 7.4, \"handling\": 10.0, \"acceleration\": 7.7, \"launch\": 8.4, \"braking\": 10.0, \"Offroad\": 3.9, \"Horse_Power\": 780.0, \"Weight_lbs\": 2756.0}, {\"Car_Image\": \"https://www.kudosprime.com/fh5/images/cars/side/fh5_car_010.jpg?v=1\", \"Name_and_model\": \"2018 Apollo Intensa Emozione \\\"Welcome Pack\\\"\", \"Model_type\": \"EXTREME TRACK TOYS\", \"In_Game_Price\": \"1,500,000\", \"car_source\": \"Autoshow\", \"stock_specs\": \"S2\", \"Stock_Rating\": 998.0, \"Drive_Type\": \"RWD\", \"speed\": 7.6, \"handling\": 10.0, \"acceleration\": 7.9, \"launch\": 8.6, \"braking\": 10.0, \"Offroad\": 3.8, \"Horse_Power\": 930.0, \"Weight_lbs\": 2480.0}, {\"Car_Image\": \"https://www.kudosprime.com/fh5/images/cars/side/fh5_car_011.jpg?v=1\", \"Name_and_model\": \"2013 Ariel Atom 500 V8\", \"Model_type\": \"EXTREME TRACK TOYS\", \"In_Game_Price\": \"200,000\", \"car_source\": \"Autoshow\", \"stock_specs\": \"S2\", \"Stock_Rating\": 924.0, \"Drive_Type\": \"RWD\", \"speed\": 6.3, \"handling\": 8.8, \"acceleration\": 7.8, \"launch\": 8.5, \"braking\": 7.2, \"Offroad\": 3.9, \"Horse_Power\": 475.0, \"Weight_lbs\": 1433.0}, {\"Car_Image\": \"https://www.kudosprime.com/fh5/images/cars/side/fh5_car_012.jpg?v=1\", \"Name_and_model\": \"2016 Ariel Nomad\", \"Model_type\": \"UNLIMITED BUGGIES\", \"In_Game_Price\": \"93,000\", \"car_source\": \"Autoshow\", \"stock_specs\": \"A\", \"Stock_Rating\": 711.0, \"Drive_Type\": \"RWD\", \"speed\": 5.2, \"handling\": 4.7, \"acceleration\": 6.5, \"launch\": 7.2, \"braking\": 4.2, \"Offroad\": 8.1, \"Horse_Power\": 236.0, \"Weight_lbs\": 1477.0}, {\"Car_Image\": \"https://www.kudosprime.com/fh5/images/cars/side/fh5_car_013.jpg?v=1\", \"Name_and_model\": \"1964 Aston Martin DB5\", \"Model_type\": \"RARE CLASSICS\", \"In_Game_Price\": \"800,000\", \"car_source\": \"Autoshow\", \"stock_specs\": \"C\", \"Stock_Rating\": 548.0, \"Drive_Type\": \"RWD\", \"speed\": 5.4, \"handling\": 4.0, \"acceleration\": 4.0, \"launch\": 3.4, \"braking\": 2.7, \"Offroad\": 5.4, \"Horse_Power\": 325.0, \"Weight_lbs\": 3230.0}, {\"Car_Image\": \"https://www.kudosprime.com/fh5/images/cars/side/fh5_car_014.jpg?v=1\", \"Name_and_model\": \"2013 Aston Martin V12 Vantage S\", \"Model_type\": \"SUPER GT\", \"In_Game_Price\": \"240,000\", \"car_source\": \"Autoshow\", \"stock_specs\": \"A\", \"Stock_Rating\": 796.0, \"Drive_Type\": \"RWD\", \"speed\": 7.8, \"handling\": 6.2, \"acceleration\": 5.4, \"launch\": 5.7, \"braking\": 6.4, \"Offroad\": 4.4, \"Horse_Power\": 565.0, \"Weight_lbs\": 3671.0}, {\"Car_Image\": \"https://www.kudosprime.com/fh5/images/cars/side/fh5_car_015.jpg?v=1\", \"Name_and_model\": \"2016 Aston Martin Vantage GT12\", \"Model_type\": \"TRACK TOYS\", \"In_Game_Price\": \"400,000\", \"car_source\": \"Accolade\", \"stock_specs\": \"S1\", \"Stock_Rating\": 829.0, \"Drive_Type\": \"RWD\", \"speed\": 6.7, \"handling\": 8.0, \"acceleration\": 5.9, \"launch\": 6.1, \"braking\": 8.1, \"Offroad\": 4.4, \"Horse_Power\": 593.0, \"Weight_lbs\": 3450.0}, {\"Car_Image\": \"https://www.kudosprime.com/fh5/images/cars/side/fh5_car_016.jpg?v=1\", \"Name_and_model\": \"2017 Aston Martin DB11\", \"Model_type\": \"SUPER GT\", \"In_Game_Price\": \"300,000\", \"car_source\": \"Autoshow\", \"stock_specs\": \"A\", \"Stock_Rating\": 787.0, \"Drive_Type\": \"RWD\", \"speed\": 7.3, \"handling\": 6.5, \"acceleration\": 5.7, \"launch\": 6.1, \"braking\": 6.1, \"Offroad\": 4.7, \"Horse_Power\": 608.0, \"Weight_lbs\": 4134.0}, {\"Car_Image\": \"https://www.kudosprime.com/fh5/images/cars/side/fh5_car_017.jpg?v=1\", \"Name_and_model\": \"2017 Aston Martin Vulcan AMR Pro\", \"Model_type\": \"EXTREME TRACK TOYS\", \"In_Game_Price\": \"2,000,000\", \"car_source\": \"Autoshow\", \"stock_specs\": \"S2\", \"Stock_Rating\": 953.0, \"Drive_Type\": \"RWD\", \"speed\": 7.7, \"handling\": 9.6, \"acceleration\": 6.5, \"launch\": 7.0, \"braking\": 10.0, \"Offroad\": 3.2, \"Horse_Power\": 820.0, \"Weight_lbs\": 2998.0}, {\"Car_Image\": \"https://www.kudosprime.com/fh5/images/cars/side/fh5_car_019.jpg?v=1\", \"Name_and_model\": \"2019 Aston Martin DBS Superleggera\", \"Model_type\": \"SUPER GT\", \"In_Game_Price\": \"350,000\", \"car_source\": \"Autoshow\", \"stock_specs\": \"S1\", \"Stock_Rating\": 835.0, \"Drive_Type\": \"RWD\", \"speed\": 7.8, \"handling\": 6.6, \"acceleration\": 5.8, \"launch\": 6.2, \"braking\": 6.9, \"Offroad\": 4.5, \"Horse_Power\": 715.0, \"Weight_lbs\": 3966.0}, {\"Car_Image\": \"https://www.kudosprime.com/fh5/images/cars/side/fh5_car_020.jpg?v=1\", \"Name_and_model\": \"2019 Aston Martin Valhalla Concept Car\", \"Model_type\": \"HYPERCARS\", \"In_Game_Price\": \"1,150,000\", \"car_source\": \"Autoshow\", \"stock_specs\": \"S2\", \"Stock_Rating\": 959.0, \"Drive_Type\": \"AWD\", \"speed\": 8.5, \"handling\": 9.2, \"acceleration\": 10.0, \"launch\": 10.0, \"braking\": 9.4, \"Offroad\": 4.6, \"Horse_Power\": 1042.0, \"Weight_lbs\": 3097.0}, {\"Car_Image\": \"https://www.kudosprime.com/fh5/images/cars/side/fh5_car_018.jpg?v=1\", \"Name_and_model\": \"2019 Aston Martin Vantage\", \"Model_type\": \"GT CARS\", \"In_Game_Price\": \"430,000\", \"car_source\": \"Autoshow\", \"stock_specs\": \"S1\", \"Stock_Rating\": 801.0, \"Drive_Type\": \"RWD\", \"speed\": 7.0, \"handling\": 6.7, \"acceleration\": 6.0, \"launch\": 6.4, \"braking\": 6.1, \"Offroad\": 4.6, \"Horse_Power\": 503.0, \"Weight_lbs\": 3497.0}, {\"Car_Image\": \"https://www.kudosprime.com/fh5/images/cars/side/fh5_car_021.jpg?v=1\", \"Name_and_model\": \"1983 Audi Sport quattro\", \"Model_type\": \"RETRO RALLY\", \"In_Game_Price\": \"175,000\", \"car_source\": \"Autoshow\", \"stock_specs\": \"B\", \"Stock_Rating\": 638.0, \"Drive_Type\": \"AWD\", \"speed\": 5.7, \"handling\": 5.0, \"acceleration\": 5.5, \"launch\": 2.9, \"braking\": 4.0, \"Offroad\": 5.7, \"Horse_Power\": 306.0, \"Weight_lbs\": 2807.0}, {\"Car_Image\": \"https://www.kudosprime.com/fh5/images/cars/side/fh5_car_022.jpg?v=1\", \"Name_and_model\": \"1995 Audi Avant RS2\", \"Model_type\": \"RETRO SALOONS\", \"In_Game_Price\": \"50,000\", \"car_source\": \"Autoshow\", \"stock_specs\": \"B\", \"Stock_Rating\": 601.0, \"Drive_Type\": \"AWD\", \"speed\": 6.0, \"handling\": 5.1, \"acceleration\": 5.0, \"launch\": 5.3, \"braking\": 3.2, \"Offroad\": 5.2, \"Horse_Power\": 311.0, \"Weight_lbs\": 3517.0}, {\"Car_Image\": \"https://www.kudosprime.com/fh5/images/cars/side/fh5_car_023.jpg?v=1\", \"Name_and_model\": \"2001 Audi RS 4 Avant\", \"Model_type\": \"RETRO SALOONS\", \"In_Game_Price\": \"94,000\", \"car_source\": \"Autoshow\", \"stock_specs\": \"B\", \"Stock_Rating\": 663.0, \"Drive_Type\": \"AWD\", \"speed\": 6.4, \"handling\": 5.8, \"acceleration\": 5.5, \"launch\": 4.7, \"braking\": 3.6, \"Offroad\": 5.2, \"Horse_Power\": 375.0, \"Weight_lbs\": 3571.0}, {\"Car_Image\": \"https://www.kudosprime.com/fh5/images/cars/side/fh5_car_024.jpg?v=1\", \"Name_and_model\": \"2003 Audi RS 6\", \"Model_type\": \"RETRO SALOONS\", \"In_Game_Price\": \"105,000\", \"car_source\": \"Autoshow\", \"stock_specs\": \"B\", \"Stock_Rating\": 677.0, \"Drive_Type\": \"AWD\", \"speed\": 6.8, \"handling\": 5.7, \"acceleration\": 5.1, \"launch\": 5.0, \"braking\": 4.1, \"Offroad\": 5.4, \"Horse_Power\": 450.0, \"Weight_lbs\": 4024.0}, {\"Car_Image\": \"https://www.kudosprime.com/fh5/images/cars/side/fh5_car_025.jpg?v=1\", \"Name_and_model\": \"2006 Audi RS 4\", \"Model_type\": \"SUPER SALOONS\", \"In_Game_Price\": \"53,000\", \"car_source\": \"Autoshow\", \"stock_specs\": \"A\", \"Stock_Rating\": 710.0, \"Drive_Type\": \"AWD\", \"speed\": 6.9, \"handling\": 6.1, \"acceleration\": 6.0, \"launch\": 5.5, \"braking\": 4.4, \"Offroad\": 5.3, \"Horse_Power\": 420.0, \"Weight_lbs\": 3638.0}, {\"Car_Image\": \"https://www.kudosprime.com/fh5/images/cars/side/fh5_car_026.jpg?v=1\", \"Name_and_model\": \"2009 Audi RS 6\", \"Model_type\": \"SUPER SALOONS\", \"In_Game_Price\": \"155,000\", \"car_source\": \"Autoshow\", \"stock_specs\": \"A\", \"Stock_Rating\": 722.0, \"Drive_Type\": \"AWD\", \"speed\": 7.5, \"handling\": 6.0, \"acceleration\": 6.1, \"launch\": 6.7, \"braking\": 5.8, \"Offroad\": 5.5, \"Horse_Power\": 570.0, \"Weight_lbs\": 4376.0}, {\"Car_Image\": \"https://www.kudosprime.com/fh5/images/cars/side/fh5_car_027.jpg?v=1\", \"Name_and_model\": \"2010 Audi TT RS Coup\\u00e9\", \"Model_type\": \"MODERN SPORTS CARS\", \"In_Game_Price\": \"66,000\", \"car_source\": \"Autoshow\", \"stock_specs\": \"A\", \"Stock_Rating\": 707.0, \"Drive_Type\": \"AWD\", \"speed\": 6.6, \"handling\": 6.1, \"acceleration\": 5.8, \"launch\": 7.0, \"braking\": 4.4, \"Offroad\": 5.4, \"Horse_Power\": 335.0, \"Weight_lbs\": 3294.0}, {\"Car_Image\": \"https://www.kudosprime.com/fh5/images/cars/side/fh5_car_028.jpg?v=1\", \"Name_and_model\": \"2011 Audi RS 3 Sportback\", \"Model_type\": \"SUPER HOT HATCH\", \"In_Game_Price\": \"42,000\", \"car_source\": \"Autoshow\", \"stock_specs\": \"B\", \"Stock_Rating\": 682.0, \"Drive_Type\": \"AWD\", \"speed\": 6.0, \"handling\": 6.1, \"acceleration\": 5.2, \"launch\": 6.5, \"braking\": 4.1, \"Offroad\": 5.5, \"Horse_Power\": 335.0, \"Weight_lbs\": 3472.0}, {\"Car_Image\": \"https://www.kudosprime.com/fh5/images/cars/side/fh5_car_029.jpg?v=1\", \"Name_and_model\": \"2011 Audi RS 5 Coup\\u00e9\", \"Model_type\": \"SUPER SALOONS\", \"In_Game_Price\": \"88,000\", \"car_source\": \"Autoshow\", \"stock_specs\": \"A\", \"Stock_Rating\": 733.0, \"Drive_Type\": \"AWD\", \"speed\": 6.8, \"handling\": 6.2, \"acceleration\": 5.8, \"launch\": 5.7, \"braking\": 5.9, \"Offroad\": 5.5, \"Horse_Power\": 442.0, \"Weight_lbs\": 3830.0}, {\"Car_Image\": \"https://www.kudosprime.com/fh5/images/cars/side/fh5_car_032.jpg?v=1\", \"Name_and_model\": \"2013 Audi R8 Coup\\u00e9 V10 plus 5.2 FSI quattro\", \"Model_type\": \"MODERN SUPERCARS\", \"In_Game_Price\": \"290,000\", \"car_source\": \"Wheelspin\", \"stock_specs\": \"S1\", \"Stock_Rating\": 802.0, \"Drive_Type\": \"AWD\", \"speed\": 7.3, \"handling\": 7.0, \"acceleration\": 7.1, \"launch\": 6.6, \"braking\": 6.9, \"Offroad\": 5.0, \"Horse_Power\": 542.0, \"Weight_lbs\": 3682.0}, {\"Car_Image\": \"https://www.kudosprime.com/fh5/images/cars/side/fh5_car_030.jpg?v=1\", \"Name_and_model\": \"2013 Audi RS 4 Avant\", \"Model_type\": \"SUPER SALOONS\", \"In_Game_Price\": \"83,000\", \"car_source\": \"Autoshow\", \"stock_specs\": \"A\", \"Stock_Rating\": 728.0, \"Drive_Type\": \"AWD\", \"speed\": 7.0, \"handling\": 6.2, \"acceleration\": 5.5, \"launch\": 5.2, \"braking\": 5.2, \"Offroad\": 5.2, \"Horse_Power\": 444.0, \"Weight_lbs\": 3957.0}, {\"Car_Image\": \"https://www.kudosprime.com/fh5/images/cars/side/fh5_car_031.jpg?v=1\", \"Name_and_model\": \"2013 Audi RS 7 Sportback\", \"Model_type\": \"SUPER SALOONS\", \"In_Game_Price\": \"225,000\", \"car_source\": \"Autoshow\", \"stock_specs\": \"A\", \"Stock_Rating\": 739.0, \"Drive_Type\": \"AWD\", \"speed\": 7.6, \"handling\": 5.9, \"acceleration\": 7.0, \"launch\": 8.2, \"braking\": 5.6, \"Offroad\": 5.3, \"Horse_Power\": 552.0, \"Weight_lbs\": 4310.0}, {\"Car_Image\": \"https://www.kudosprime.com/fh5/images/cars/side/fh5_car_033.jpg?v=1\", \"Name_and_model\": \"2015 Audi RS 6 Avant\", \"Model_type\": \"SUPER SALOONS\", \"In_Game_Price\": \"150,000\", \"car_source\": \"Autoshow\", \"stock_specs\": \"A\", \"Stock_Rating\": 754.0, \"Drive_Type\": \"AWD\", \"speed\": 7.4, \"handling\": 6.0, \"acceleration\": 7.5, \"launch\": 8.3, \"braking\": 5.3, \"Offroad\": 5.2, \"Horse_Power\": 552.0, \"Weight_lbs\": 4266.0}, {\"Car_Image\": \"https://www.kudosprime.com/fh5/images/cars/side/fh5_car_035.jpg?v=1\", \"Name_and_model\": \"2015 Audi S1\", \"Model_type\": \"HOT HATCH\", \"In_Game_Price\": \"35,000\", \"car_source\": \"Autoshow\", \"stock_specs\": \"B\", \"Stock_Rating\": 644.0, \"Drive_Type\": \"AWD\", \"speed\": 5.6, \"handling\": 5.9, \"acceleration\": 5.2, \"launch\": 4.4, \"braking\": 3.7, \"Offroad\": 5.6, \"Horse_Power\": 228.0, \"Weight_lbs\": 2899.0}, {\"Car_Image\": \"https://www.kudosprime.com/fh5/images/cars/side/fh5_car_034.jpg?v=2\", \"Name_and_model\": \"2015 Audi TTS Coup\\u00e9\", \"Model_type\": \"MODERN SPORTS CARS\", \"In_Game_Price\": \"52,000\", \"car_source\": \"Autoshow\", \"stock_specs\": \"A\", \"Stock_Rating\": 724.0, \"Drive_Type\": \"AWD\", \"speed\": 6.7, \"handling\": 6.3, \"acceleration\": 5.8, \"launch\": 6.4, \"braking\": 4.0, \"Offroad\": 5.2, \"Horse_Power\": 310.0, \"Weight_lbs\": 3053.0}, {\"Car_Image\": \"https://www.kudosprime.com/fh5/images/cars/side/fh5_car_036.jpg?v=1\", \"Name_and_model\": \"2016 Audi R8 V10 plus\", \"Model_type\": \"MODERN SUPERCARS\", \"In_Game_Price\": \"242,000\", \"car_source\": \"Autoshow\", \"stock_specs\": \"S1\", \"Stock_Rating\": 834.0, \"Drive_Type\": \"AWD\", \"speed\": 7.8, \"handling\": 7.1, \"acceleration\": 7.8, \"launch\": 7.4, \"braking\": 7.3, \"Offroad\": 5.1, \"Horse_Power\": 610.0, \"Weight_lbs\": 3428.0}, {\"Car_Image\": \"https://www.kudosprime.com/fh5/images/cars/side/fh5_car_549.jpg?v=1\", \"Name_and_model\": \"2018 Audi TT RS\", \"Model_type\": \"MODERN SPORTS CARS\", \"In_Game_Price\": \"0\", \"car_source\": \"Autoshow\", \"stock_specs\": \"A\", \"Stock_Rating\": 748.0, \"Drive_Type\": \"AWD\", \"speed\": 6.8, \"handling\": 6.3, \"acceleration\": 6.7, \"launch\": 8.1, \"braking\": 4.7, \"Offroad\": 5.2, \"Horse_Power\": 400.0, \"Weight_lbs\": 3307.0}, {\"Car_Image\": \"https://www.kudosprime.com/fh5/images/cars/side/fh5_car_037.jpg?v=1\", \"Name_and_model\": \"1958 Austin-Healey Sprite MkI\", \"Model_type\": \"CLASSIC SPORTS CARS\", \"In_Game_Price\": \"20,000\", \"car_source\": \"Autoshow\", \"stock_specs\": \"D\", \"Stock_Rating\": 131.0, \"Drive_Type\": \"RWD\", \"speed\": 3.1, \"handling\": 3.7, \"acceleration\": 1.9, \"launch\": 2.5, \"braking\": 1.8, \"Offroad\": 4.9, \"Horse_Power\": 45.0, \"Weight_lbs\": 1463.0}, {\"Car_Image\": \"https://www.kudosprime.com/fh5/images/cars/side/fh5_car_038.jpg?v=1\", \"Name_and_model\": \"1939 Auto Union Type D\", \"Model_type\": \"VINTAGE RACERS\", \"In_Game_Price\": \"15,000,000\", \"car_source\": \"Autoshow\", \"stock_specs\": \"B\", \"Stock_Rating\": 675.0, \"Drive_Type\": \"RWD\", \"speed\": 8.4, \"handling\": 4.2, \"acceleration\": 4.5, \"launch\": 3.4, \"braking\": 2.7, \"Offroad\": 4.2, \"Horse_Power\": 485.0, \"Weight_lbs\": 2816.0}, {\"Car_Image\": \"https://www.kudosprime.com/fh5/images/cars/side/fh5_car_039.jpg?v=1\", \"Name_and_model\": \"2014 BAC Mono\", \"Model_type\": \"TRACK TOYS\", \"In_Game_Price\": \"160,000\", \"car_source\": \"Wheelspin\", \"stock_specs\": \"S1\", \"Stock_Rating\": 868.0, \"Drive_Type\": \"RWD\", \"speed\": 6.1, \"handling\": 8.1, \"acceleration\": 6.3, \"launch\": 6.7, \"braking\": 8.1, \"Offroad\": 3.9, \"Horse_Power\": 280.0, \"Weight_lbs\": 1354.0}, {\"Car_Image\": \"https://www.kudosprime.com/fh5/images/cars/side/fh5_car_041.jpg?v=1\", \"Name_and_model\": \"1930 Bentley 8 Litre\", \"Model_type\": \"RARE CLASSICS\", \"In_Game_Price\": \"1,500,000\", \"car_source\": \"Autoshow\", \"stock_specs\": \"D\", \"Stock_Rating\": 181.0, \"Drive_Type\": \"RWD\", \"speed\": 3.7, \"handling\": 3.5, \"acceleration\": 2.4, \"launch\": 1.8, \"braking\": 1.8, \"Offroad\": 5.7, \"Horse_Power\": 220.0, \"Weight_lbs\": 5600.0}, {\"Car_Image\": \"https://www.kudosprime.com/fh5/images/cars/side/fh5_car_040.jpg?v=1\", \"Name_and_model\": \"1930 Bentley Blower 4-1/2 Litre Supercharged\", \"Model_type\": \"VINTAGE RACERS\", \"In_Game_Price\": \"4,000,000\", \"car_source\": \"Autoshow\", \"stock_specs\": \"D\", \"Stock_Rating\": 207.0, \"Drive_Type\": \"RWD\", \"speed\": 3.7, \"handling\": 3.3, \"acceleration\": 2.1, \"launch\": 2.3, \"braking\": 1.9, \"Offroad\": 5.8, \"Horse_Power\": 175.0, \"Weight_lbs\": 4395.0}, {\"Car_Image\": \"https://www.kudosprime.com/fh5/images/cars/side/fh5_car_042.jpg?v=1\", \"Name_and_model\": \"2016 Bentley Bentayga\", \"Model_type\": \"SPORTS UTILITY HEROES\", \"In_Game_Price\": \"180,000\", \"car_source\": \"Autoshow\", \"stock_specs\": \"A\", \"Stock_Rating\": 727.0, \"Drive_Type\": \"AWD\", \"speed\": 7.0, \"handling\": 5.0, \"acceleration\": 6.2, \"launch\": 7.4, \"braking\": 4.0, \"Offroad\": 6.5, \"Horse_Power\": 599.0, \"Weight_lbs\": 5340.0}, {\"Car_Image\": \"https://www.kudosprime.com/fh5/images/cars/side/fh5_car_043.jpg?v=1\", \"Name_and_model\": \"2017 Bentley Continental Supersports\", \"Model_type\": \"GT CARS\", \"In_Game_Price\": \"200,000\", \"car_source\": \"Autoshow\", \"stock_specs\": \"A\", \"Stock_Rating\": 769.0, \"Drive_Type\": \"AWD\", \"speed\": 7.6, \"handling\": 6.1, \"acceleration\": 8.0, \"launch\": 9.1, \"braking\": 5.8, \"Offroad\": 4.9, \"Horse_Power\": 700.0, \"Weight_lbs\": 5029.0}, {\"Car_Image\": \"https://www.kudosprime.com/fh5/images/cars/side/fh5_car_044.jpg?v=1\", \"Name_and_model\": \"1957 BMW Isetta 300 Export\", \"Model_type\": \"CULT CARS\", \"In_Game_Price\": \"45,000\", \"car_source\": \"Autoshow\", \"stock_specs\": \"D\", \"Stock_Rating\": 100.0, \"Drive_Type\": \"RWD\", \"speed\": 1.8, \"handling\": 3.4, \"acceleration\": 1.2, \"launch\": 2.7, \"braking\": 2.4, \"Offroad\": 4.7, \"Horse_Power\": 13.0, \"Weight_lbs\": 920.0}, {\"Car_Image\": \"https://www.kudosprime.com/fh5/images/cars/side/fh5_car_516.jpg?v=1\", \"Name_and_model\": \"1973 BMW 2002 TURBO\", \"Model_type\": \"CLASSIC SPORTS CARS\", \"In_Game_Price\": \"26,000\", \"car_source\": \"Barn\", \"stock_specs\": \"C\", \"Stock_Rating\": 531.0, \"Drive_Type\": \"RWD\", \"speed\": 4.9, \"handling\": 4.3, \"acceleration\": 3.8, \"launch\": 1.5, \"braking\": 2.8, \"Offroad\": 5.6, \"Horse_Power\": 168.0, \"Weight_lbs\": 2381.0}, {\"Car_Image\": \"https://www.kudosprime.com/fh5/images/cars/side/fh5_car_045.jpg?v=3\", \"Name_and_model\": \"1981 BMW M1\", \"Model_type\": \"RETRO SUPERCARS\", \"In_Game_Price\": \"585,000\", \"car_source\": \"Autoshow\", \"stock_specs\": \"B\", \"Stock_Rating\": 629.0, \"Drive_Type\": \"RWD\", \"speed\": 5.9, \"handling\": 5.0, \"acceleration\": 4.4, \"launch\": 3.1, \"braking\": 3.2, \"Offroad\": 4.7, \"Horse_Power\": 277.0, \"Weight_lbs\": 2866.0}, {\"Car_Image\": \"https://www.kudosprime.com/fh5/images/cars/side/fh5_car_046.jpg?v=1\", \"Name_and_model\": \"1988 BMW M5\", \"Model_type\": \"RETRO SALOONS\", \"In_Game_Price\": \"54,000\", \"car_source\": \"Autoshow\", \"stock_specs\": \"C\", \"Stock_Rating\": 583.0, \"Drive_Type\": \"RWD\", \"speed\": 5.8, \"handling\": 4.4, \"acceleration\": 4.3, \"launch\": 3.9, \"braking\": 3.1, \"Offroad\": 5.1, \"Horse_Power\": 282.0, \"Weight_lbs\": 3230.0}, {\"Car_Image\": \"https://www.kudosprime.com/fh5/images/cars/side/fh5_car_047.jpg?v=2\", \"Name_and_model\": \"1991 BMW M3\", \"Model_type\": \"RETRO SALOONS\", \"In_Game_Price\": \"70,000\", \"car_source\": \"Autoshow\", \"stock_specs\": \"C\", \"Stock_Rating\": 583.0, \"Drive_Type\": \"RWD\", \"speed\": 5.6, \"handling\": 4.7, \"acceleration\": 4.3, \"launch\": 3.4, \"braking\": 3.1, \"Offroad\": 4.9, \"Horse_Power\": 215.0, \"Weight_lbs\": 2762.0}, {\"Car_Image\": \"https://www.kudosprime.com/fh5/images/cars/side/fh5_car_048.jpg?v=1\", \"Name_and_model\": \"1995 BMW M5\", \"Model_type\": \"RETRO SALOONS\", \"In_Game_Price\": \"25,000\", \"car_source\": \"Autoshow\", \"stock_specs\": \"B\", \"Stock_Rating\": 634.0, \"Drive_Type\": \"RWD\", \"speed\": 6.7, \"handling\": 5.2, \"acceleration\": 4.6, \"launch\": 4.2, \"braking\": 3.6, \"Offroad\": 4.8, \"Horse_Power\": 342.0, \"Weight_lbs\": 3772.0}, {\"Car_Image\": \"https://www.kudosprime.com/fh5/images/cars/side/fh5_car_049.jpg?v=1\", \"Name_and_model\": \"1997 BMW M3\", \"Model_type\": \"RETRO SALOONS\", \"In_Game_Price\": \"35,000\", \"car_source\": \"Autoshow\", \"stock_specs\": \"B\", \"Stock_Rating\": 665.0, \"Drive_Type\": \"RWD\", \"speed\": 6.5, \"handling\": 4.9, \"acceleration\": 4.9, \"launch\": 5.2, \"braking\": 3.6, \"Offroad\": 5.2, \"Horse_Power\": 321.0, \"Weight_lbs\": 3219.0}, {\"Car_Image\": \"https://www.kudosprime.com/fh5/images/cars/side/fh5_car_050.jpg?v=1\", \"Name_and_model\": \"2002 BMW M3-GTR\", \"Model_type\": \"TRACK TOYS\", \"In_Game_Price\": \"180,000\", \"car_source\": \"Autoshow\", \"stock_specs\": \"A\", \"Stock_Rating\": 747.0, \"Drive_Type\": \"RWD\", \"speed\": 6.7, \"handling\": 6.5, \"acceleration\": 5.4, \"launch\": 5.7, \"braking\": 4.9, \"Offroad\": 4.7, \"Horse_Power\": 375.0, \"Weight_lbs\": 3096.0}, {\"Car_Image\": \"https://www.kudosprime.com/fh5/images/cars/side/fh5_car_051.jpg?v=1\", \"Name_and_model\": \"2002 BMW Z3 M Coupe\", \"Model_type\": \"RETRO SPORTS CARS\", \"In_Game_Price\": \"30,000\", \"car_source\": \"Autoshow\", \"stock_specs\": \"B\", \"Stock_Rating\": 675.0, \"Drive_Type\": \"RWD\", \"speed\": 6.1, \"handling\": 5.3, \"acceleration\": 4.9, \"launch\": 5.0, \"braking\": 3.7, \"Offroad\": 4.9, \"Horse_Power\": 315.0, \"Weight_lbs\": 3170.0}, {\"Car_Image\": \"https://www.kudosprime.com/fh5/images/cars/side/fh5_car_052.jpg?v=1\", \"Name_and_model\": \"2003 BMW M5\", \"Model_type\": \"RETRO SALOONS\", \"In_Game_Price\": \"30,000\", \"car_source\": \"Autoshow\", \"stock_specs\": \"B\", \"Stock_Rating\": 694.0, \"Drive_Type\": \"RWD\", \"speed\": 7.1, \"handling\": 5.5, \"acceleration\": 5.0, \"launch\": 5.2, \"braking\": 3.8, \"Offroad\": 5.1, \"Horse_Power\": 394.0, \"Weight_lbs\": 3900.0}, {\"Car_Image\": \"https://www.kudosprime.com/fh5/images/cars/side/fh5_car_053.jpg?v=1\", \"Name_and_model\": \"2005 BMW M3\", \"Model_type\": \"RETRO SALOONS\", \"In_Game_Price\": \"33,000\", \"car_source\": \"Autoshow\", \"stock_specs\": \"B\", \"Stock_Rating\": 675.0, \"Drive_Type\": \"RWD\", \"speed\": 6.4, \"handling\": 5.3, \"acceleration\": 5.0, \"launch\": 5.0, \"braking\": 3.8, \"Offroad\": 5.0, \"Horse_Power\": 333.0, \"Weight_lbs\": 3415.0}, {\"Car_Image\": \"https://www.kudosprime.com/fh5/images/cars/side/fh5_car_054.jpg?v=1\", \"Name_and_model\": \"2008 BMW M3\", \"Model_type\": \"SUPER SALOONS\", \"In_Game_Price\": \"48,000\", \"car_source\": \"Autoshow\", \"stock_specs\": \"A\", \"Stock_Rating\": 725.0, \"Drive_Type\": \"RWD\", \"speed\": 6.8, \"handling\": 5.8, \"acceleration\": 5.0, \"launch\": 5.3, \"braking\": 4.5, \"Offroad\": 4.5, \"Horse_Power\": 414.0, \"Weight_lbs\": 3649.0}, {\"Car_Image\": \"https://www.kudosprime.com/fh5/images/cars/side/fh5_car_055.jpg?v=1\", \"Name_and_model\": \"2008 BMW Z4 M Coupe\", \"Model_type\": \"MODERN SPORTS CARS\", \"In_Game_Price\": \"82,000\", \"car_source\": \"Autoshow\", \"stock_specs\": \"B\", \"Stock_Rating\": 694.0, \"Drive_Type\": \"RWD\", \"speed\": 6.4, \"handling\": 5.8, \"acceleration\": 5.4, \"launch\": 4.9, \"braking\": 4.3, \"Offroad\": 5.2, \"Horse_Power\": 330.0, \"Weight_lbs\": 3296.0}, {\"Car_Image\": \"https://www.kudosprime.com/fh5/images/cars/side/fh5_car_056.jpg?v=1\", \"Name_and_model\": \"2009 BMW M5\", \"Model_type\": \"SUPER SALOONS\", \"In_Game_Price\": \"90,000\", \"car_source\": \"Autoshow\", \"stock_specs\": \"A\", \"Stock_Rating\": 719.0, \"Drive_Type\": \"RWD\", \"speed\": 7.1, \"handling\": 5.9, \"acceleration\": 5.1, \"launch\": 4.9, \"braking\": 4.4, \"Offroad\": 4.9, \"Horse_Power\": 500.0, \"Weight_lbs\": 4012.0}, {\"Car_Image\": \"https://www.kudosprime.com/fh5/images/cars/side/fh5_car_057.jpg?v=1\", \"Name_and_model\": \"2011 BMW 1 Series M Coupe\", \"Model_type\": \"SUPER SALOONS\", \"In_Game_Price\": \"55,000\", \"car_source\": \"Autoshow\", \"stock_specs\": \"A\", \"Stock_Rating\": 712.0, \"Drive_Type\": \"RWD\", \"speed\": 6.4, \"handling\": 5.9, \"acceleration\": 5.2, \"launch\": 5.4, \"braking\": 4.5, \"Offroad\": 4.8, \"Horse_Power\": 335.0, \"Weight_lbs\": 3296.0}, {\"Car_Image\": \"https://www.kudosprime.com/fh5/images/cars/side/fh5_car_058.jpg?v=1\", \"Name_and_model\": \"2011 BMW X5 M\", \"Model_type\": \"SPORTS UTILITY HEROES\", \"In_Game_Price\": \"100,000\", \"car_source\": \"Autoshow\", \"stock_specs\": \"B\", \"Stock_Rating\": 666.0, \"Drive_Type\": \"AWD\", \"speed\": 6.4, \"handling\": 4.8, \"acceleration\": 5.9, \"launch\": 6.6, \"braking\": 3.7, \"Offroad\": 6.3, \"Horse_Power\": 547.0, \"Weight_lbs\": 5368.0}, {\"Car_Image\": \"https://www.kudosprime.com/fh5/images/cars/side/fh5_car_511.jpg?v=1\", \"Name_and_model\": \"2011 BMW X5 M Forza Edition\", \"Model_type\": \"EXTREME TRACK TOYS\", \"In_Game_Price\": \"500,000\", \"car_source\": \"Other\", \"stock_specs\": \"S2\", \"Stock_Rating\": 998.0, \"Drive_Type\": \"AWD\", \"speed\": 8.0, \"handling\": 10.0, \"acceleration\": 10.0, \"launch\": 10.0, \"braking\": 9.4, \"Offroad\": 4.4, \"Horse_Power\": 1014.0, \"Weight_lbs\": 2756.0}, {\"Car_Image\": \"https://www.kudosprime.com/fh5/images/cars/side/fh5_car_059.jpg?v=1\", \"Name_and_model\": \"2012 BMW M5\", \"Model_type\": \"SUPER SALOONS\", \"In_Game_Price\": \"112,000\", \"car_source\": \"Autoshow\", \"stock_specs\": \"A\", \"Stock_Rating\": 766.0, \"Drive_Type\": \"RWD\", \"speed\": 7.4, \"handling\": 6.0, \"acceleration\": 5.3, \"launch\": 5.6, \"braking\": 4.8, \"Offroad\": 4.6, \"Horse_Power\": 552.0, \"Weight_lbs\": 4123.0}, {\"Car_Image\": \"https://www.kudosprime.com/fh5/images/cars/side/fh5_car_060.jpg?v=1\", \"Name_and_model\": \"2013 BMW M6 Coupe\", \"Model_type\": \"GT CARS\", \"In_Game_Price\": \"120,000\", \"car_source\": \"Autoshow\", \"stock_specs\": \"A\", \"Stock_Rating\": 758.0, \"Drive_Type\": \"RWD\", \"speed\": 7.5, \"handling\": 5.8, \"acceleration\": 5.0, \"launch\": 5.2, \"braking\": 5.9, \"Offroad\": 4.6, \"Horse_Power\": 560.0, \"Weight_lbs\": 4255.0}, {\"Car_Image\": \"https://www.kudosprime.com/fh5/images/cars/side/fh5_car_061.jpg?v=1\", \"Name_and_model\": \"2014 BMW M4 Coupe\", \"Model_type\": \"SUPER SALOONS\", \"In_Game_Price\": \"92,000\", \"car_source\": \"Autoshow\", \"stock_specs\": \"A\", \"Stock_Rating\": 782.0, \"Drive_Type\": \"RWD\", \"speed\": 7.1, \"handling\": 6.2, \"acceleration\": 5.3, \"launch\": 5.6, \"braking\": 6.5, \"Offroad\": 4.7, \"Horse_Power\": 431.0, \"Weight_lbs\": 3389.0}, {\"Car_Image\": \"https://www.kudosprime.com/fh5/images/cars/side/fh5_car_062.jpg?v=1\", \"Name_and_model\": \"2015 BMW i8\", \"Model_type\": \"MODERN SUPERCARS\", \"In_Game_Price\": \"140,000\", \"car_source\": \"Autoshow\", \"stock_specs\": \"A\", \"Stock_Rating\": 764.0, \"Drive_Type\": \"AWD\", \"speed\": 7.2, \"handling\": 6.4, \"acceleration\": 7.7, \"launch\": 8.7, \"braking\": 4.6, \"Offroad\": 4.9, \"Horse_Power\": 357.0, \"Weight_lbs\": 3380.0}, {\"Car_Image\": \"https://www.kudosprime.com/fh5/images/cars/side/fh5_car_063.jpg?v=1\", \"Name_and_model\": \"2015 BMW X6 M\", \"Model_type\": \"SPORTS UTILITY HEROES\", \"In_Game_Price\": \"130,000\", \"car_source\": \"Wheelspin\", \"stock_specs\": \"B\", \"Stock_Rating\": 687.0, \"Drive_Type\": \"AWD\", \"speed\": 6.5, \"handling\": 4.9, \"acceleration\": 6.0, \"launch\": 6.6, \"braking\": 4.1, \"Offroad\": 5.8, \"Horse_Power\": 567.0, \"Weight_lbs\": 5185.0}, {\"Car_Image\": \"https://www.kudosprime.com/fh5/images/cars/side/fh5_car_064.jpg?v=1\", \"Name_and_model\": \"2016 BMW M2 Coup\\u00e9\", \"Model_type\": \"SUPER SALOONS\", \"In_Game_Price\": \"69,000\", \"car_source\": \"Autoshow\", \"stock_specs\": \"A\", \"Stock_Rating\": 718.0, \"Drive_Type\": \"RWD\", \"speed\": 6.5, \"handling\": 5.7, \"acceleration\": 5.2, \"launch\": 5.5, \"braking\": 4.6, \"Offroad\": 4.8, \"Horse_Power\": 365.0, \"Weight_lbs\": 3450.0}, {\"Car_Image\": \"https://www.kudosprime.com/fh5/images/cars/side/fh5_car_065.jpg?v=1\", \"Name_and_model\": \"2016 BMW M4 GTS\", \"Model_type\": \"TRACK TOYS\", \"In_Game_Price\": \"135,000\", \"car_source\": \"Car Collection\", \"stock_specs\": \"S1\", \"Stock_Rating\": 814.0, \"Drive_Type\": \"RWD\", \"speed\": 7.2, \"handling\": 7.6, \"acceleration\": 5.7, \"launch\": 6.0, \"braking\": 7.0, \"Offroad\": 4.0, \"Horse_Power\": 493.0, \"Weight_lbs\": 3329.0}, {\"Car_Image\": \"https://www.kudosprime.com/fh5/images/cars/side/fh5_car_066.jpg?v=1\", \"Name_and_model\": \"2018 BMW M5\", \"Model_type\": \"SUPER SALOONS\", \"In_Game_Price\": \"105,000\", \"car_source\": \"Autoshow\", \"stock_specs\": \"A\", \"Stock_Rating\": 784.0, \"Drive_Type\": \"AWD\", \"speed\": 7.6, \"handling\": 6.1, \"acceleration\": 8.7, \"launch\": 9.7, \"braking\": 6.2, \"Offroad\": 5.1, \"Horse_Power\": 600.0, \"Weight_lbs\": 4370.0}, {\"Car_Image\": \"https://www.kudosprime.com/fh5/images/cars/side/fh5_car_067.jpg?v=1\", \"Name_and_model\": \"2019 BMW Z4 Roadster\", \"Model_type\": \"MODERN SPORTS CARS\", \"In_Game_Price\": \"35,000\", \"car_source\": \"Autoshow\", \"stock_specs\": \"A\", \"Stock_Rating\": 751.0, \"Drive_Type\": \"RWD\", \"speed\": 6.7, \"handling\": 6.0, \"acceleration\": 5.6, \"launch\": 6.0, \"braking\": 4.4, \"Offroad\": 4.6, \"Horse_Power\": 382.0, \"Weight_lbs\": 3252.0}, {\"Car_Image\": \"https://www.kudosprime.com/fh5/images/cars/side/fh5_car_068.jpg?v=1\", \"Name_and_model\": \"1926 Bugatti Type 35 C\", \"Model_type\": \"VINTAGE RACERS\", \"In_Game_Price\": \"1,300,000\", \"car_source\": \"Autoshow\", \"stock_specs\": \"D\", \"Stock_Rating\": 285.0, \"Drive_Type\": \"RWD\", \"speed\": 4.0, \"handling\": 3.4, \"acceleration\": 2.5, \"launch\": 1.4, \"braking\": 1.9, \"Offroad\": 4.9, \"Horse_Power\": 95.0, \"Weight_lbs\": 1676.0}, {\"Car_Image\": \"https://www.kudosprime.com/fh5/images/cars/side/fh5_car_069.jpg?v=1\", \"Name_and_model\": \"1992 Bugatti EB110 Super Sport\", \"Model_type\": \"RETRO SUPERCARS\", \"In_Game_Price\": \"1,700,000\", \"car_source\": \"Autoshow\", \"stock_specs\": \"S1\", \"Stock_Rating\": 805.0, \"Drive_Type\": \"AWD\", \"speed\": 8.3, \"handling\": 6.5, \"acceleration\": 8.0, \"launch\": 3.8, \"braking\": 5.2, \"Offroad\": 4.9, \"Horse_Power\": 611.0, \"Weight_lbs\": 3126.0}, {\"Car_Image\": \"https://www.kudosprime.com/fh5/images/cars/side/fh5_car_070.jpg?v=1\", \"Name_and_model\": \"2011 Bugatti Veyron Super Sport\", \"Model_type\": \"HYPERCARS\", \"In_Game_Price\": \"2,200,000\", \"car_source\": \"Autoshow\", \"stock_specs\": \"S2\", \"Stock_Rating\": 913.0, \"Drive_Type\": \"AWD\", \"speed\": 9.9, \"handling\": 7.9, \"acceleration\": 10.0, \"launch\": 5.9, \"braking\": 8.6, \"Offroad\": 4.9, \"Horse_Power\": 1183.0, \"Weight_lbs\": 4044.0}, {\"Car_Image\": \"https://www.kudosprime.com/fh5/images/cars/side/fh5_car_071.jpg?v=1\", \"Name_and_model\": \"2018 Bugatti Chiron\", \"Model_type\": \"HYPERCARS\", \"In_Game_Price\": \"2,400,000\", \"car_source\": \"Autoshow\", \"stock_specs\": \"S2\", \"Stock_Rating\": 927.0, \"Drive_Type\": \"AWD\", \"speed\": 10.0, \"handling\": 7.9, \"acceleration\": 9.9, \"launch\": 6.1, \"braking\": 8.6, \"Offroad\": 5.0, \"Horse_Power\": 1479.0, \"Weight_lbs\": 4398.0}, {\"Car_Image\": \"https://www.kudosprime.com/fh5/images/cars/side/fh5_car_072.jpg?v=1\", \"Name_and_model\": \"2019 Bugatti Divo\", \"Model_type\": \"EXTREME TRACK TOYS\", \"In_Game_Price\": \"3,000,000\", \"car_source\": \"Autoshow\", \"stock_specs\": \"S2\", \"Stock_Rating\": 958.0, \"Drive_Type\": \"AWD\", \"speed\": 9.6, \"handling\": 9.9, \"acceleration\": 10.0, \"launch\": 6.2, \"braking\": 9.5, \"Offroad\": 4.4, \"Horse_Power\": 1479.0, \"Weight_lbs\": 4321.0}, {\"Car_Image\": \"https://www.kudosprime.com/fh5/images/cars/side/fh5_car_073.jpg?v=1\", \"Name_and_model\": \"1970 Buick GSX\", \"Model_type\": \"CLASSIC MUSCLE\", \"In_Game_Price\": \"80,000\", \"car_source\": \"Autoshow\", \"stock_specs\": \"C\", \"Stock_Rating\": 558.0, \"Drive_Type\": \"RWD\", \"speed\": 5.1, \"handling\": 3.5, \"acceleration\": 3.3, \"launch\": 3.2, \"braking\": 2.5, \"Offroad\": 5.1, \"Horse_Power\": 360.0, \"Weight_lbs\": 3874.0}, {\"Car_Image\": \"https://www.kudosprime.com/fh5/images/cars/side/fh5_car_074.jpg?v=1\", \"Name_and_model\": \"1987 Buick Regal GNX\", \"Model_type\": \"RETRO MUSCLE\", \"In_Game_Price\": \"130,000\", \"car_source\": \"Autoshow\", \"stock_specs\": \"C\", \"Stock_Rating\": 564.0, \"Drive_Type\": \"RWD\", \"speed\": 5.7, \"handling\": 4.0, \"acceleration\": 3.8, \"launch\": 2.5, \"braking\": 2.5, \"Offroad\": 5.5, \"Horse_Power\": 300.0, \"Weight_lbs\": 3545.0}, {\"Car_Image\": \"https://www.kudosprime.com/fh5/images/cars/side/fh5_car_075.jpg?v=1\", \"Name_and_model\": \"2016 Cadillac ATS-V\", \"Model_type\": \"MODERN MUSCLE\", \"In_Game_Price\": \"65,000\", \"car_source\": \"Autoshow\", \"stock_specs\": \"A\", \"Stock_Rating\": 716.0, \"Drive_Type\": \"RWD\", \"speed\": 7.0, \"handling\": 5.5, \"acceleration\": 5.2, \"launch\": 3.4, \"braking\": 4.2, \"Offroad\": 5.1, \"Horse_Power\": 464.0, \"Weight_lbs\": 3700.0}, {\"Car_Image\": \"https://www.kudosprime.com/fh5/images/cars/side/fh5_car_076.jpg?v=1\", \"Name_and_model\": \"2016 Cadillac CTS-V Sedan\", \"Model_type\": \"MODERN MUSCLE\", \"In_Game_Price\": \"80,000\", \"car_source\": \"Autoshow\", \"stock_specs\": \"A\", \"Stock_Rating\": 761.0, \"Drive_Type\": \"RWD\", \"speed\": 7.2, \"handling\": 5.3, \"acceleration\": 4.9, \"launch\": 5.2, \"braking\": 4.4, \"Offroad\": 4.7, \"Horse_Power\": 640.0, \"Weight_lbs\": 4128.0}, {\"Car_Image\": \"https://www.kudosprime.com/fh5/images/cars/side/fh5_car_077.jpg?v=1\", \"Name_and_model\": \"2018 Can-Am Maverick X RS Turbo R\", \"Model_type\": \"UTV'S\", \"In_Game_Price\": \"25,000\", \"car_source\": \"Autoshow\", \"stock_specs\": \"B\", \"Stock_Rating\": 670.0, \"Drive_Type\": \"AWD\", \"speed\": 3.9, \"handling\": 3.7, \"acceleration\": 6.8, \"launch\": 9.6, \"braking\": 4.5, \"Offroad\": 9.7, \"Horse_Power\": 172.0, \"Weight_lbs\": 1655.0}, {\"Car_Image\": \"https://www.kudosprime.com/fh5/images/cars/side/fh5_car_078.jpg?v=1\", \"Name_and_model\": \"2013 Caterham Superlight R500\", \"Model_type\": \"TRACK TOYS\", \"In_Game_Price\": \"82,000\", \"car_source\": \"Autoshow\", \"stock_specs\": \"A\", \"Stock_Rating\": 786.0, \"Drive_Type\": \"RWD\", \"speed\": 5.6, \"handling\": 5.4, \"acceleration\": 5.7, \"launch\": 6.2, \"braking\": 4.6, \"Offroad\": 3.9, \"Horse_Power\": 263.0, \"Weight_lbs\": 1116.0}, {\"Car_Image\": \"https://www.kudosprime.com/fh5/images/cars/side/fh5_car_497.jpg?v=1\", \"Name_and_model\": \"1953 Chevrolet Corvette\", \"Model_type\": \"CLASSIC SPORTS CARS\", \"In_Game_Price\": \"210,000\", \"car_source\": \"Barn\", \"stock_specs\": \"D\", \"Stock_Rating\": 366.0, \"Drive_Type\": \"RWD\", \"speed\": 3.6, \"handling\": 4.0, \"acceleration\": 2.3, \"launch\": 1.1, \"braking\": 2.0, \"Offroad\": 5.6, \"Horse_Power\": 160.0, \"Weight_lbs\": 2900.0}, {\"Car_Image\": \"https://www.kudosprime.com/fh5/images/cars/side/fh5_car_498.jpg?v=1\", \"Name_and_model\": \"1953 Chevrolet Corvette Forza Edition\", \"Model_type\": \"CLASSIC RACERS\", \"In_Game_Price\": \"500,000\", \"car_source\": \"Wheelspin\", \"stock_specs\": \"A\", \"Stock_Rating\": 800.0, \"Drive_Type\": \"RWD\", \"speed\": 6.5, \"handling\": 6.1, \"acceleration\": 5.8, \"launch\": 6.2, \"braking\": 4.8, \"Offroad\": 3.7, \"Horse_Power\": 450.0, \"Weight_lbs\": 2205.0}, {\"Car_Image\": \"https://www.kudosprime.com/fh5/images/cars/side/fh5_car_079.jpg?v=1\", \"Name_and_model\": \"1955 Chevrolet 150 Utility Sedan\", \"Model_type\": \"RODS AND CUSTOMS\", \"In_Game_Price\": \"35,000\", \"car_source\": \"Autoshow\", \"stock_specs\": \"D\", \"Stock_Rating\": 360.0, \"Drive_Type\": \"RWD\", \"speed\": 4.5, \"handling\": 3.5, \"acceleration\": 3.2, \"launch\": 2.5, \"braking\": 2.0, \"Offroad\": 5.8, \"Horse_Power\": 180.0, \"Weight_lbs\": 3309.0}, {\"Car_Image\": \"https://www.kudosprime.com/fh5/images/cars/side/fh5_car_080.jpg?v=1\", \"Name_and_model\": \"1957 Chevrolet Bel Air\", \"Model_type\": \"RODS AND CUSTOMS\", \"In_Game_Price\": \"130,000\", \"car_source\": \"Autoshow\", \"stock_specs\": \"D\", \"Stock_Rating\": 432.0, \"Drive_Type\": \"RWD\", \"speed\": 4.8, \"handling\": 3.8, \"acceleration\": 2.8, \"launch\": 1.6, \"braking\": 2.1, \"Offroad\": 6.0, \"Horse_Power\": 220.0, \"Weight_lbs\": 3337.0}, {\"Car_Image\": \"https://www.kudosprime.com/fh5/images/cars/side/fh5_car_081.jpg?v=1\", \"Name_and_model\": \"1960 Chevrolet Corvette\", \"Model_type\": \"CLASSIC SPORTS CARS\", \"In_Game_Price\": \"150,000\", \"car_source\": \"Car Collection\", \"stock_specs\": \"C\", \"Stock_Rating\": 541.0, \"Drive_Type\": \"RWD\", \"speed\": 5.4, \"handling\": 4.0, \"acceleration\": 3.6, \"launch\": 2.8, \"braking\": 2.5, \"Offroad\": 5.6, \"Horse_Power\": 290.0, \"Weight_lbs\": 3080.0}, {\"Car_Image\": \"https://www.kudosprime.com/fh5/images/cars/side/fh5_car_082.jpg?v=1\", \"Name_and_model\": \"1964 Chevrolet Impala Super Sport 409\", \"Model_type\": \"RODS AND CUSTOMS\", \"In_Game_Price\": \"46,000\", \"car_source\": \"Autoshow\", \"stock_specs\": \"C\", \"Stock_Rating\": 544.0, \"Drive_Type\": \"RWD\", \"speed\": 5.5, \"handling\": 3.6, \"acceleration\": 3.4, \"launch\": 3.0, \"braking\": 2.3, \"Offroad\": 5.4, \"Horse_Power\": 425.0, \"Weight_lbs\": 3877.0}, {\"Car_Image\": \"https://www.kudosprime.com/fh5/images/cars/side/fh5_car_083.jpg?v=1\", \"Name_and_model\": \"1967 Chevrolet Corvette Stingray 427\", \"Model_type\": \"CLASSIC MUSCLE\", \"In_Game_Price\": \"150,000\", \"car_source\": \"Autoshow\", \"stock_specs\": \"B\", \"Stock_Rating\": 623.0, \"Drive_Type\": \"RWD\", \"speed\": 5.5, \"handling\": 4.3, \"acceleration\": 3.9, \"launch\": 3.0, \"braking\": 3.1, \"Offroad\": 5.8, \"Horse_Power\": 435.0, \"Weight_lbs\": 3384.0}, {\"Car_Image\": \"https://www.kudosprime.com/fh5/images/cars/side/fh5_car_084.jpg?v=1\", \"Name_and_model\": \"1969 Chevrolet Camaro Super Sport Coupe\", \"Model_type\": \"CLASSIC MUSCLE\", \"In_Game_Price\": \"110,000\", \"car_source\": \"Autoshow\", \"stock_specs\": \"C\", \"Stock_Rating\": 585.0, \"Drive_Type\": \"RWD\", \"speed\": 5.0, \"handling\": 4.2, \"acceleration\": 3.8, \"launch\": 2.9, \"braking\": 3.1, \"Offroad\": 5.8, \"Horse_Power\": 375.0, \"Weight_lbs\": 3527.0}, {\"Car_Image\": \"https://www.kudosprime.com/fh5/images/cars/side/fh5_car_085.jpg?v=1\", \"Name_and_model\": \"1969 Chevrolet Nova Super Sport 396\", \"Model_type\": \"CLASSIC MUSCLE\", \"In_Game_Price\": \"41,000\", \"car_source\": \"Autoshow\", \"stock_specs\": \"C\", \"Stock_Rating\": 545.0, \"Drive_Type\": \"RWD\", \"speed\": 5.4, \"handling\": 3.9, \"acceleration\": 3.5, \"launch\": 2.9, \"braking\": 2.4, \"Offroad\": 5.3, \"Horse_Power\": 375.0, \"Weight_lbs\": 3470.0}, {\"Car_Image\": \"https://www.kudosprime.com/fh5/images/cars/side/fh5_car_089.jpg?v=1\", \"Name_and_model\": \"1970 Chevrolet Camaro Z28\", \"Model_type\": \"CLASSIC MUSCLE\", \"In_Game_Price\": \"53,000\", \"car_source\": \"Autoshow\", \"stock_specs\": \"C\", \"Stock_Rating\": 539.0, \"Drive_Type\": \"RWD\", \"speed\": 5.1, \"handling\": 3.7, \"acceleration\": 3.4, \"launch\": 3.3, \"braking\": 2.4, \"Offroad\": 4.9, \"Horse_Power\": 360.0, \"Weight_lbs\": 3550.0}, {\"Car_Image\": \"https://www.kudosprime.com/fh5/images/cars/side/fh5_car_086.jpg?v=1\", \"Name_and_model\": \"1970 Chevrolet Chevelle Super Sport 454\", \"Model_type\": \"CLASSIC MUSCLE\", \"In_Game_Price\": \"80,000\", \"car_source\": \"Autoshow\", \"stock_specs\": \"C\", \"Stock_Rating\": 531.0, \"Drive_Type\": \"RWD\", \"speed\": 4.7, \"handling\": 3.6, \"acceleration\": 3.3, \"launch\": 3.2, \"braking\": 2.4, \"Offroad\": 5.4, \"Horse_Power\": 450.0, \"Weight_lbs\": 3799.0}, {\"Car_Image\": \"https://www.kudosprime.com/fh5/images/cars/side/fh5_car_087.jpg?v=1\", \"Name_and_model\": \"1970 Chevrolet Corvette ZR-1\", \"Model_type\": \"CLASSIC MUSCLE\", \"In_Game_Price\": \"310,000\", \"car_source\": \"Wheelspin\", \"stock_specs\": \"B\", \"Stock_Rating\": 610.0, \"Drive_Type\": \"RWD\", \"speed\": 4.9, \"handling\": 4.3, \"acceleration\": 3.9, \"launch\": 2.9, \"braking\": 3.1, \"Offroad\": 5.4, \"Horse_Power\": 370.0, \"Weight_lbs\": 3373.0}, {\"Car_Image\": \"https://www.kudosprime.com/fh5/images/cars/side/fh5_car_088.jpg?v=1\", \"Name_and_model\": \"1970 Chevrolet El Camino Super Sport 454\", \"Model_type\": \"VANS AND UTILITY\", \"In_Game_Price\": \"65,000\", \"car_source\": \"Autoshow\", \"stock_specs\": \"C\", \"Stock_Rating\": 544.0, \"Drive_Type\": \"RWD\", \"speed\": 5.9, \"handling\": 3.6, \"acceleration\": 3.2, \"launch\": 3.1, \"braking\": 2.4, \"Offroad\": 5.5, \"Horse_Power\": 450.0, \"Weight_lbs\": 3820.0}, {\"Car_Image\": \"https://www.kudosprime.com/fh5/images/cars/side/fh5_car_090.jpg?v=1\", \"Name_and_model\": \"1979 Chevrolet Camaro Z28\", \"Model_type\": \"CLASSIC MUSCLE\", \"In_Game_Price\": \"35,000\", \"car_source\": \"Autoshow\", \"stock_specs\": \"D\", \"Stock_Rating\": 466.0, \"Drive_Type\": \"RWD\", \"speed\": 4.5, \"handling\": 4.1, \"acceleration\": 3.5, \"launch\": 2.9, \"braking\": 2.5, \"Offroad\": 5.4, \"Horse_Power\": 175.0, \"Weight_lbs\": 3560.0}, {\"Car_Image\": \"https://www.kudosprime.com/fh5/images/cars/side/fh5_car_091.jpg?v=1\", \"Name_and_model\": \"1988 Chevrolet Monte Carlo Super Sport\", \"Model_type\": \"RETRO MUSCLE\", \"In_Game_Price\": \"25,000\", \"car_source\": \"Autoshow\", \"stock_specs\": \"D\", \"Stock_Rating\": 396.0, \"Drive_Type\": \"RWD\", \"speed\": 5.0, \"handling\": 4.0, \"acceleration\": 3.1, \"launch\": 2.3, \"braking\": 2.0, \"Offroad\": 5.0, \"Horse_Power\": 180.0, \"Weight_lbs\": 3522.0}, {\"Car_Image\": \"https://www.kudosprime.com/fh5/images/cars/side/fh5_car_092.jpg?v=1\", \"Name_and_model\": \"1995 Chevrolet Corvette ZR-1\", \"Model_type\": \"RETRO MUSCLE\", \"In_Game_Price\": \"45,000\", \"car_source\": \"Autoshow\", \"stock_specs\": \"B\", \"Stock_Rating\": 693.0, \"Drive_Type\": \"RWD\", \"speed\": 6.5, \"handling\": 5.2, \"acceleration\": 4.8, \"launch\": 4.0, \"braking\": 3.7, \"Offroad\": 4.5, \"Horse_Power\": 405.0, \"Weight_lbs\": 3505.0}, {\"Car_Image\": \"https://www.kudosprime.com/fh5/images/cars/side/fh5_car_093.jpg?v=1\", \"Name_and_model\": \"1996 Chevrolet Impala Super Sport\", \"Model_type\": \"RETRO MUSCLE\", \"In_Game_Price\": \"20,000\", \"car_source\": \"Autoshow\", \"stock_specs\": \"C\", \"Stock_Rating\": 509.0, \"Drive_Type\": \"RWD\", \"speed\": 5.0, \"handling\": 4.3, \"acceleration\": 3.6, \"launch\": 2.6, \"braking\": 2.7, \"Offroad\": 5.2, \"Horse_Power\": 260.0, \"Weight_lbs\": 4037.0}, {\"Car_Image\": \"https://www.kudosprime.com/fh5/images/cars/side/fh5_car_094.jpg?v=1\", \"Name_and_model\": \"2002 Chevrolet Corvette Z06\", \"Model_type\": \"RETRO MUSCLE\", \"In_Game_Price\": \"35,000\", \"car_source\": \"Autoshow\", \"stock_specs\": \"A\", \"Stock_Rating\": 722.0, \"Drive_Type\": \"RWD\", \"speed\": 7.2, \"handling\": 5.8, \"acceleration\": 4.6, \"launch\": 4.5, \"braking\": 3.9, \"Offroad\": 4.5, \"Horse_Power\": 405.0, \"Weight_lbs\": 3120.0}, {\"Car_Image\": \"https://www.kudosprime.com/fh5/images/cars/side/fh5_car_095.jpg?v=1\", \"Name_and_model\": \"2009 Chevrolet Corvette ZR1\", \"Model_type\": \"MODERN MUSCLE\", \"In_Game_Price\": \"125,000\", \"car_source\": \"Autoshow\", \"stock_specs\": \"S1\", \"Stock_Rating\": 809.0, \"Drive_Type\": \"RWD\", \"speed\": 7.8, \"handling\": 6.2, \"acceleration\": 5.5, \"launch\": 4.6, \"braking\": 6.6, \"Offroad\": 4.4, \"Horse_Power\": 638.0, \"Weight_lbs\": 3350.0}, {\"Car_Image\": \"https://www.kudosprime.com/fh5/images/cars/side/fh5_car_097.jpg?v=1\", \"Name_and_model\": \"2015 Chevrolet Camaro Z/28\", \"Model_type\": \"TRACK TOYS\", \"In_Game_Price\": \"86,000\", \"car_source\": \"Autoshow\", \"stock_specs\": \"A\", \"Stock_Rating\": 797.0, \"Drive_Type\": \"RWD\", \"speed\": 6.7, \"handling\": 6.8, \"acceleration\": 5.5, \"launch\": 5.4, \"braking\": 7.2, \"Offroad\": 4.4, \"Horse_Power\": 505.0, \"Weight_lbs\": 3837.0}, {\"Car_Image\": \"https://www.kudosprime.com/fh5/images/cars/side/fh5_car_096.jpg?v=1\", \"Name_and_model\": \"2015 Chevrolet Corvette Z06\", \"Model_type\": \"MODERN MUSCLE\", \"In_Game_Price\": \"110,000\", \"car_source\": \"Autoshow\", \"stock_specs\": \"S1\", \"Stock_Rating\": 852.0, \"Drive_Type\": \"RWD\", \"speed\": 7.8, \"handling\": 7.0, \"acceleration\": 6.0, \"launch\": 6.5, \"braking\": 7.7, \"Offroad\": 4.4, \"Horse_Power\": 650.0, \"Weight_lbs\": 3536.0}, {\"Car_Image\": \"https://www.kudosprime.com/fh5/images/cars/side/fh5_car_098.jpg?v=1\", \"Name_and_model\": \"2017 Chevrolet Camaro ZL1\", \"Model_type\": \"MODERN MUSCLE\", \"In_Game_Price\": \"60,000\", \"car_source\": \"Autoshow\", \"stock_specs\": \"S1\", \"Stock_Rating\": 821.0, \"Drive_Type\": \"RWD\", \"speed\": 7.3, \"handling\": 7.2, \"acceleration\": 6.1, \"launch\": 4.9, \"braking\": 5.6, \"Offroad\": 4.8, \"Horse_Power\": 650.0, \"Weight_lbs\": 3883.0}, {\"Car_Image\": \"https://www.kudosprime.com/fh5/images/cars/side/fh5_car_099.jpg?v=1\", \"Name_and_model\": \"2017 Chevrolet Colorado ZR2\", \"Model_type\": \"PICK-UP & 4X4'S\", \"In_Game_Price\": \"46,000\", \"car_source\": \"Autoshow\", \"stock_specs\": \"C\", \"Stock_Rating\": 530.0, \"Drive_Type\": \"AWD\", \"speed\": 5.4, \"handling\": 3.0, \"acceleration\": 3.9, \"launch\": 3.4, \"braking\": 3.0, \"Offroad\": 8.2, \"Horse_Power\": 308.0, \"Weight_lbs\": 4734.0}, {\"Car_Image\": \"https://www.kudosprime.com/fh5/images/cars/side/fh5_car_100.jpg?v=1\", \"Name_and_model\": \"2018 Chevrolet Camaro ZL1 1LE\", \"Model_type\": \"TRACK TOYS\", \"In_Game_Price\": \"105,000\", \"car_source\": \"Autoshow\", \"stock_specs\": \"S1\", \"Stock_Rating\": 824.0, \"Drive_Type\": \"RWD\", \"speed\": 6.9, \"handling\": 7.8, \"acceleration\": 5.8, \"launch\": 5.2, \"braking\": 6.0, \"Offroad\": 4.3, \"Horse_Power\": 650.0, \"Weight_lbs\": 3837.0}, {\"Car_Image\": \"https://www.kudosprime.com/fh5/images/cars/side/fh5_car_101.jpg?v=1\", \"Name_and_model\": \"2019 Chevrolet Corvette ZR1\", \"Model_type\": \"TRACK TOYS\", \"In_Game_Price\": \"255,000\", \"car_source\": \"Accolade\", \"stock_specs\": \"S1\", \"Stock_Rating\": 871.0, \"Drive_Type\": \"RWD\", \"speed\": 7.8, \"handling\": 7.7, \"acceleration\": 6.5, \"launch\": 7.0, \"braking\": 7.9, \"Offroad\": 4.0, \"Horse_Power\": 755.0, \"Weight_lbs\": 3560.0}, {\"Car_Image\": \"https://www.kudosprime.com/fh5/images/cars/side/fh5_car_102.jpg?v=1\", \"Name_and_model\": \"2020 Chevrolet Corvette Stingray Coupe\", \"Model_type\": \"MODERN SUPERCARS\", \"In_Game_Price\": \"65,000\", \"car_source\": \"Autoshow\", \"stock_specs\": \"S1\", \"Stock_Rating\": 806.0, \"Drive_Type\": \"RWD\", \"speed\": 7.2, \"handling\": 7.0, \"acceleration\": 6.9, \"launch\": 7.6, \"braking\": 5.2, \"Offroad\": 4.8, \"Horse_Power\": 495.0, \"Weight_lbs\": 3577.0}, {\"Car_Image\": \"https://www.kudosprime.com/fh5/images/cars/side/fh5_car_103.jpg?v=1\", \"Name_and_model\": \"1970 Datsun 510\", \"Model_type\": \"CULT CARS\", \"In_Game_Price\": \"25,000\", \"car_source\": \"This info will be available soon\", \"stock_specs\": \"D\", \"Stock_Rating\": 264.0, \"Drive_Type\": \"RWD\", \"speed\": 3.7, \"handling\": 3.7, \"acceleration\": 2.8, \"launch\": 2.3, \"braking\": 1.9, \"Offroad\": 5.0, \"Horse_Power\": 96.0, \"Weight_lbs\": 2127.0}, {\"Car_Image\": \"https://www.kudosprime.com/fh5/images/cars/side/fh5_car_104.jpg?v=1\", \"Name_and_model\": \"2013 Deberti Jeep Wrangler Unlimited\", \"Model_type\": \"UNLIMITED OFFROAD\", \"In_Game_Price\": \"200,000\", \"car_source\": \"Mastery Tree\", \"stock_specs\": \"A\", \"Stock_Rating\": 749.0, \"Drive_Type\": \"AWD\", \"speed\": 4.7, \"handling\": 4.0, \"acceleration\": 6.3, \"launch\": 4.8, \"braking\": 4.4, \"Offroad\": 9.3, \"Horse_Power\": 707.0, \"Weight_lbs\": 4650.0}, {\"Car_Image\": \"https://www.kudosprime.com/fh5/images/cars/side/fh5_car_105.jpg?v=1\", \"Name_and_model\": \"2018 Deberti Chevrolet Silverado 1500 Drift Truck\", \"Model_type\": \"DRIFT CARS\", \"In_Game_Price\": \"300,000\", \"car_source\": \"Autoshow\", \"stock_specs\": \"A\", \"Stock_Rating\": 798.0, \"Drive_Type\": \"RWD\", \"speed\": 6.7, \"handling\": 4.8, \"acceleration\": 4.9, \"launch\": 5.1, \"braking\": 5.2, \"Offroad\": 4.0, \"Horse_Power\": 1005.0, \"Weight_lbs\": 3500.0}, {\"Car_Image\": \"https://www.kudosprime.com/fh5/images/cars/side/fh5_car_106.jpg?v=1\", \"Name_and_model\": \"2018 Deberti Ford F-150 Prerunner\", \"Model_type\": \"UNLIMITED OFFROAD\", \"In_Game_Price\": \"250,000\", \"car_source\": \"Autoshow\", \"stock_specs\": \"B\", \"Stock_Rating\": 691.0, \"Drive_Type\": \"RWD\", \"speed\": 5.7, \"handling\": 3.6, \"acceleration\": 5.4, \"launch\": 5.8, \"braking\": 4.9, \"Offroad\": 9.9, \"Horse_Power\": 800.0, \"Weight_lbs\": 7000.0}, {\"Car_Image\": \"https://www.kudosprime.com/fh5/images/cars/side/fh5_car_107.jpg?v=1\", \"Name_and_model\": \"2019 Deberti Toyota Tacoma TRD \\\"The Performance Truck\\\"\", \"Model_type\": \"DRIFT CARS\", \"In_Game_Price\": \"500,000\", \"car_source\": \"Autoshow\", \"stock_specs\": \"S1\", \"Stock_Rating\": 836.0, \"Drive_Type\": \"RWD\", \"speed\": 6.4, \"handling\": 5.6, \"acceleration\": 4.9, \"launch\": 5.1, \"braking\": 6.9, \"Offroad\": 4.7, \"Horse_Power\": 900.0, \"Weight_lbs\": 3215.0}, {\"Car_Image\": \"https://www.kudosprime.com/fh5/images/cars/side/fh5_car_521.jpg?v=1\", \"Name_and_model\": \"1982 DeLorean DMC-12\", \"Model_type\": \"RETRO SPORTS CARS\", \"In_Game_Price\": \"15,000\", \"car_source\": \"Season Event\", \"stock_specs\": \"D\", \"Stock_Rating\": 464.0, \"Drive_Type\": \"RWD\", \"speed\": 4.3, \"handling\": 4.9, \"acceleration\": 2.8, \"launch\": 2.3, \"braking\": 3.1, \"Offroad\": 6.0, \"Horse_Power\": 130.0, \"Weight_lbs\": 2844.0}, {\"Car_Image\": \"https://www.kudosprime.com/fh5/images/cars/side/fh5_car_522.jpg?v=1\", \"Name_and_model\": \"1968 Dodge Dart Hemi Super Stock\", \"Model_type\": \"CLASSIC MUSCLE\", \"In_Game_Price\": \"300,000\", \"car_source\": \"Barn\", \"stock_specs\": \"B\", \"Stock_Rating\": 650.0, \"Drive_Type\": \"RWD\", \"speed\": 4.5, \"handling\": 3.6, \"acceleration\": 4.1, \"launch\": 4.2, \"braking\": 2.9, \"Offroad\": 4.9, \"Horse_Power\": 425.0, \"Weight_lbs\": 3020.0}, {\"Car_Image\": \"https://www.kudosprime.com/fh5/images/cars/side/fh5_car_109.jpg?v=1\", \"Name_and_model\": \"1969 Dodge Charger Daytona HEMI\", \"Model_type\": \"CLASSIC MUSCLE\", \"In_Game_Price\": \"900,000\", \"car_source\": \"Mastery Tree\", \"stock_specs\": \"C\", \"Stock_Rating\": 595.0, \"Drive_Type\": \"RWD\", \"speed\": 5.0, \"handling\": 3.8, \"acceleration\": 3.8, \"launch\": 3.7, \"braking\": 2.8, \"Offroad\": 5.4, \"Horse_Power\": 425.0, \"Weight_lbs\": 3875.0}, {\"Car_Image\": \"https://www.kudosprime.com/fh5/images/cars/side/fh5_car_108.jpg?v=1\", \"Name_and_model\": \"1969 Dodge Charger R/T\", \"Model_type\": \"CLASSIC MUSCLE\", \"In_Game_Price\": \"103,000\", \"car_source\": \"Autoshow\", \"stock_specs\": \"C\", \"Stock_Rating\": 548.0, \"Drive_Type\": \"RWD\", \"speed\": 5.1, \"handling\": 3.8, \"acceleration\": 3.6, \"launch\": 3.5, \"braking\": 2.4, \"Offroad\": 5.1, \"Horse_Power\": 425.0, \"Weight_lbs\": 3671.0}, {\"Car_Image\": \"https://www.kudosprime.com/fh5/images/cars/side/fh5_car_512.jpg?v=1\", \"Name_and_model\": \"1969 Dodge Charger R/T Forza Edition\", \"Model_type\": \"TRACK TOYS\", \"In_Game_Price\": \"70,000\", \"car_source\": \"Other\", \"stock_specs\": \"S1\", \"Stock_Rating\": 900.0, \"Drive_Type\": \"RWD\", \"speed\": 6.6, \"handling\": 7.9, \"acceleration\": 7.1, \"launch\": 7.3, \"braking\": 7.3, \"Offroad\": 3.9, \"Horse_Power\": 725.0, \"Weight_lbs\": 3395.0}, {\"Car_Image\": \"https://www.kudosprime.com/fh5/images/cars/side/fh5_car_110.jpg?v=1\", \"Name_and_model\": \"1970 Dodge Challenger R/T\", \"Model_type\": \"CLASSIC MUSCLE\", \"In_Game_Price\": \"210,000\", \"car_source\": \"Autoshow\", \"stock_specs\": \"C\", \"Stock_Rating\": 551.0, \"Drive_Type\": \"RWD\", \"speed\": 5.5, \"handling\": 3.8, \"acceleration\": 3.4, \"launch\": 3.3, \"braking\": 2.5, \"Offroad\": 5.0, \"Horse_Power\": 425.0, \"Weight_lbs\": 3800.0}, {\"Car_Image\": \"https://www.kudosprime.com/fh5/images/cars/side/fh5_car_525.jpg?v=1\", \"Name_and_model\": \"1999 Dodge Viper GTS ACR\", \"Model_type\": \"RETRO MUSCLE\", \"In_Game_Price\": \"75,000\", \"car_source\": \"Barn\", \"stock_specs\": \"A\", \"Stock_Rating\": 717.0, \"Drive_Type\": \"RWD\", \"speed\": 6.9, \"handling\": 5.5, \"acceleration\": 5.2, \"launch\": 4.1, \"braking\": 4.0, \"Offroad\": 4.5, \"Horse_Power\": 460.0, \"Weight_lbs\": 3450.0}, {\"Car_Image\": \"https://www.kudosprime.com/fh5/images/cars/side/fh5_car_111.jpg?v=1\", \"Name_and_model\": \"2008 Dodge Viper SRT10 ACR\", \"Model_type\": \"TRACK TOYS\", \"In_Game_Price\": \"90,000\", \"car_source\": \"Autoshow\", \"stock_specs\": \"S1\", \"Stock_Rating\": 844.0, \"Drive_Type\": \"RWD\", \"speed\": 7.2, \"handling\": 7.9, \"acceleration\": 5.6, \"launch\": 4.7, \"braking\": 7.5, \"Offroad\": 4.8, \"Horse_Power\": 600.0, \"Weight_lbs\": 3408.0}, {\"Car_Image\": \"https://www.kudosprime.com/fh5/images/cars/side/fh5_car_112.jpg?v=1\", \"Name_and_model\": \"2013 Dodge SRT Viper GTS\", \"Model_type\": \"MODERN MUSCLE\", \"In_Game_Price\": \"95,000\", \"car_source\": \"Autoshow\", \"stock_specs\": \"S1\", \"Stock_Rating\": 813.0, \"Drive_Type\": \"RWD\", \"speed\": 7.6, \"handling\": 6.1, \"acceleration\": 5.5, \"launch\": 4.6, \"braking\": 5.8, \"Offroad\": 4.7, \"Horse_Power\": 640.0, \"Weight_lbs\": 3296.0}, {\"Car_Image\": \"https://www.kudosprime.com/fh5/images/cars/side/fh5_car_113.jpg?v=1\", \"Name_and_model\": \"2015 Dodge Challenger SRT Hellcat\", \"Model_type\": \"MODERN MUSCLE\", \"In_Game_Price\": \"75,000\", \"car_source\": \"Autoshow\", \"stock_specs\": \"A\", \"Stock_Rating\": 755.0, \"Drive_Type\": \"RWD\", \"speed\": 7.7, \"handling\": 5.4, \"acceleration\": 4.5, \"launch\": 4.6, \"braking\": 4.9, \"Offroad\": 4.2, \"Horse_Power\": 707.0, \"Weight_lbs\": 4438.0}, {\"Car_Image\": \"https://www.kudosprime.com/fh5/images/cars/side/fh5_car_114.jpg?v=1\", \"Name_and_model\": \"2015 Dodge Charger SRT Hellcat\", \"Model_type\": \"MODERN MUSCLE\", \"In_Game_Price\": \"80,000\", \"car_source\": \"Autoshow\", \"stock_specs\": \"A\", \"Stock_Rating\": 762.0, \"Drive_Type\": \"RWD\", \"speed\": 7.8, \"handling\": 5.3, \"acceleration\": 4.7, \"launch\": 4.9, \"braking\": 5.0, \"Offroad\": 4.7, \"Horse_Power\": 707.0, \"Weight_lbs\": 4575.0}, {\"Car_Image\": \"https://www.kudosprime.com/fh5/images/cars/side/fh5_car_115.jpg?v=1\", \"Name_and_model\": \"2016 Dodge Viper ACR\", \"Model_type\": \"TRACK TOYS\", \"In_Game_Price\": \"150,000\", \"car_source\": \"Autoshow\", \"stock_specs\": \"S1\", \"Stock_Rating\": 873.0, \"Drive_Type\": \"RWD\", \"speed\": 6.7, \"handling\": 8.6, \"acceleration\": 6.2, \"launch\": 5.3, \"braking\": 9.4, \"Offroad\": 4.4, \"Horse_Power\": 645.0, \"Weight_lbs\": 3368.0}, {\"Car_Image\": \"https://www.kudosprime.com/fh5/images/cars/side/fh5_car_117.jpg?v=1\", \"Name_and_model\": \"2018 Dodge Challenger SRT Demon\", \"Model_type\": \"MODERN MUSCLE\", \"In_Game_Price\": \"150,000\", \"car_source\": \"Autoshow\", \"stock_specs\": \"A\", \"Stock_Rating\": 786.0, \"Drive_Type\": \"RWD\", \"speed\": 7.8, \"handling\": 5.5, \"acceleration\": 4.8, \"launch\": 5.0, \"braking\": 5.3, \"Offroad\": 4.6, \"Horse_Power\": 840.0, \"Weight_lbs\": 4248.0}, {\"Car_Image\": \"https://www.kudosprime.com/fh5/images/cars/side/fh5_car_116.jpg?v=1\", \"Name_and_model\": \"2018 Dodge Durango SRT\", \"Model_type\": \"SPORTS UTILITY HEROES\", \"In_Game_Price\": \"70,000\", \"car_source\": \"Autoshow\", \"stock_specs\": \"B\", \"Stock_Rating\": 666.0, \"Drive_Type\": \"AWD\", \"speed\": 6.3, \"handling\": 3.8, \"acceleration\": 5.8, \"launch\": 5.6, \"braking\": 3.7, \"Offroad\": 6.7, \"Horse_Power\": 475.0, \"Weight_lbs\": 5510.0}, {\"Car_Image\": \"https://www.kudosprime.com/fh5/images/cars/side/fh5_car_559.jpg?v=1\", \"Name_and_model\": \"2013 Donkervoort D8 GTO\", \"Model_type\": \"TRACK TOYS\", \"In_Game_Price\": \"250,000\", \"car_source\": \"Season Event\", \"stock_specs\": \"S1\", \"Stock_Rating\": 814.0, \"Drive_Type\": \"RWD\", \"speed\": 6.2, \"handling\": 6.1, \"acceleration\": 5.7, \"launch\": 6.1, \"braking\": 5.7, \"Offroad\": 3.8, \"Horse_Power\": 375.0, \"Weight_lbs\": 1532.0}, {\"Car_Image\": \"https://www.kudosprime.com/fh5/images/cars/side/fh5_car_118.jpg?v=1\", \"Name_and_model\": \"2018 Exomotive Exocet Off-Road\", \"Model_type\": \"UNLIMITED BUGGIES\", \"In_Game_Price\": \"50,000\", \"car_source\": \"Autoshow\", \"stock_specs\": \"B\", \"Stock_Rating\": 682.0, \"Drive_Type\": \"RWD\", \"speed\": 4.5, \"handling\": 4.8, \"acceleration\": 5.3, \"launch\": 5.7, \"braking\": 5.2, \"Offroad\": 8.6, \"Horse_Power\": 252.0, \"Weight_lbs\": 1571.0}, {\"Car_Image\": \"https://www.kudosprime.com/fh5/images/cars/side/fh5_car_499.jpg?v=1\", \"Name_and_model\": \"2018 Exomotive Exocet Off-Road Forza Edition\", \"Model_type\": \"RALLY MONSTERS\", \"In_Game_Price\": \"500,000\", \"car_source\": \"Wheelspin\", \"stock_specs\": \"A\", \"Stock_Rating\": 800.0, \"Drive_Type\": \"AWD\", \"speed\": 4.5, \"handling\": 5.6, \"acceleration\": 9.4, \"launch\": 10.0, \"braking\": 7.3, \"Offroad\": 7.6, \"Horse_Power\": 300.0, \"Weight_lbs\": 1499.0}, {\"Car_Image\": \"https://www.kudosprime.com/fh5/images/cars/side/fh5_car_120.jpg?v=1\", \"Name_and_model\": \"1957 Ferrari 250 California\", \"Model_type\": \"RARE CLASSICS\", \"In_Game_Price\": \"18,500,000\", \"car_source\": \"Autoshow\", \"stock_specs\": \"C\", \"Stock_Rating\": 564.0, \"Drive_Type\": \"RWD\", \"speed\": 5.4, \"handling\": 4.0, \"acceleration\": 3.4, \"launch\": 2.3, \"braking\": 2.8, \"Offroad\": 5.7, \"Horse_Power\": 262.0, \"Weight_lbs\": 2315.0}, {\"Car_Image\": \"https://www.kudosprime.com/fh5/images/cars/side/fh5_car_119.jpg?v=1\", \"Name_and_model\": \"1957 Ferrari 250 Testa Rossa\", \"Model_type\": \"CLASSIC RACERS\", \"In_Game_Price\": \"16,400,000\", \"car_source\": \"Autoshow\", \"stock_specs\": \"B\", \"Stock_Rating\": 691.0, \"Drive_Type\": \"RWD\", \"speed\": 6.3, \"handling\": 4.4, \"acceleration\": 4.5, \"launch\": 4.2, \"braking\": 2.9, \"Offroad\": 4.5, \"Horse_Power\": 300.0, \"Weight_lbs\": 2028.0}, {\"Car_Image\": \"https://www.kudosprime.com/fh5/images/cars/side/fh5_car_517.jpg?v=1\", \"Name_and_model\": \"1962 Ferrari 250 GTO\", \"Model_type\": \"CLASSIC RACERS\", \"In_Game_Price\": \"50,000,000\", \"car_source\": \"Barn\", \"stock_specs\": \"B\", \"Stock_Rating\": 612.0, \"Drive_Type\": \"RWD\", \"speed\": 6.4, \"handling\": 3.9, \"acceleration\": 3.5, \"launch\": 2.5, \"braking\": 2.8, \"Offroad\": 5.2, \"Horse_Power\": 300.0, \"Weight_lbs\": 2299.0}, {\"Car_Image\": \"https://www.kudosprime.com/fh5/images/cars/side/fh5_car_121.jpg?v=1\", \"Name_and_model\": \"1967 Ferrari #24 Ferrari Spa 330 P4\", \"Model_type\": \"CLASSIC RACERS\", \"In_Game_Price\": \"9,000,000\", \"car_source\": \"Wheelspin\", \"stock_specs\": \"A\", \"Stock_Rating\": 780.0, \"Drive_Type\": \"RWD\", \"speed\": 7.2, \"handling\": 5.1, \"acceleration\": 6.3, \"launch\": 5.9, \"braking\": 4.2, \"Offroad\": 4.4, \"Horse_Power\": 450.0, \"Weight_lbs\": 2271.0}, {\"Car_Image\": \"https://www.kudosprime.com/fh5/images/cars/side/fh5_car_122.jpg?v=1\", \"Name_and_model\": \"1968 Ferrari 365 GTB/4\", \"Model_type\": \"RARE CLASSICS\", \"In_Game_Price\": \"600,000\", \"car_source\": \"Autoshow\", \"stock_specs\": \"B\", \"Stock_Rating\": 637.0, \"Drive_Type\": \"RWD\", \"speed\": 7.0, \"handling\": 4.4, \"acceleration\": 4.4, \"launch\": 3.1, \"braking\": 3.0, \"Offroad\": 5.4, \"Horse_Power\": 405.0, \"Weight_lbs\": 3600.0}, {\"Car_Image\": \"https://www.kudosprime.com/fh5/images/cars/side/fh5_car_123.jpg?v=1\", \"Name_and_model\": \"1969 Ferrari Dino 246 GT\", \"Model_type\": \"RARE CLASSICS\", \"In_Game_Price\": \"425,000\", \"car_source\": \"Wheelspin\", \"stock_specs\": \"C\", \"Stock_Rating\": 535.0, \"Drive_Type\": \"RWD\", \"speed\": 5.2, \"handling\": 4.9, \"acceleration\": 3.2, \"launch\": 2.0, \"braking\": 2.8, \"Offroad\": 5.4, \"Horse_Power\": 195.0, \"Weight_lbs\": 2380.0}, {\"Car_Image\": \"https://www.kudosprime.com/fh5/images/cars/side/fh5_car_124.jpg?v=1\", \"Name_and_model\": \"1984 Ferrari 288 GTO\", \"Model_type\": \"RETRO SUPERCARS\", \"In_Game_Price\": \"3,500,000\", \"car_source\": \"Autoshow\", \"stock_specs\": \"A\", \"Stock_Rating\": 750.0, \"Drive_Type\": \"RWD\", \"speed\": 7.4, \"handling\": 5.6, \"acceleration\": 5.6, \"launch\": 3.1, \"braking\": 4.2, \"Offroad\": 4.7, \"Horse_Power\": 395.0, \"Weight_lbs\": 2822.0}, {\"Car_Image\": \"https://www.kudosprime.com/fh5/images/cars/side/fh5_car_125.jpg?v=1\", \"Name_and_model\": \"1987 Ferrari F40\", \"Model_type\": \"RETRO SUPERCARS\", \"In_Game_Price\": \"1,200,000\", \"car_source\": \"Autoshow\", \"stock_specs\": \"A\", \"Stock_Rating\": 784.0, \"Drive_Type\": \"RWD\", \"speed\": 7.3, \"handling\": 6.5, \"acceleration\": 6.3, \"launch\": 2.6, \"braking\": 5.3, \"Offroad\": 5.0, \"Horse_Power\": 478.0, \"Weight_lbs\": 2980.0}, {\"Car_Image\": \"https://www.kudosprime.com/fh5/images/cars/side/fh5_car_523.jpg?v=1\", \"Name_and_model\": \"1989 Ferrari F40 Competizionne\", \"Model_type\": \"EXTREME TRACK TOYS\", \"In_Game_Price\": \"2,000,000\", \"car_source\": \"Barn\", \"stock_specs\": \"S2\", \"Stock_Rating\": 947.0, \"Drive_Type\": \"RWD\", \"speed\": 8.3, \"handling\": 10.0, \"acceleration\": 6.6, \"launch\": 1.7, \"braking\": 8.5, \"Offroad\": 4.4, \"Horse_Power\": 691.0, \"Weight_lbs\": 2315.0}, {\"Car_Image\": \"https://www.kudosprime.com/fh5/images/cars/side/fh5_car_126.jpg?v=1\", \"Name_and_model\": \"1994 Ferrari F355 Berlinetta\", \"Model_type\": \"RETRO SUPERCARS\", \"In_Game_Price\": \"190,000\", \"car_source\": \"Autoshow\", \"stock_specs\": \"A\", \"Stock_Rating\": 717.0, \"Drive_Type\": \"RWD\", \"speed\": 6.8, \"handling\": 6.1, \"acceleration\": 4.5, \"launch\": 3.6, \"braking\": 4.3, \"Offroad\": 4.9, \"Horse_Power\": 375.0, \"Weight_lbs\": 3196.0}, {\"Car_Image\": \"https://www.kudosprime.com/fh5/images/cars/side/fh5_car_127.jpg?v=1\", \"Name_and_model\": \"1995 Ferrari F50\", \"Model_type\": \"RETRO SUPERCARS\", \"In_Game_Price\": \"2,000,000\", \"car_source\": \"Autoshow\", \"stock_specs\": \"A\", \"Stock_Rating\": 789.0, \"Drive_Type\": \"RWD\", \"speed\": 7.3, \"handling\": 6.5, \"acceleration\": 5.7, \"launch\": 5.0, \"braking\": 5.6, \"Offroad\": 4.8, \"Horse_Power\": 513.0, \"Weight_lbs\": 2976.0}, {\"Car_Image\": \"https://www.kudosprime.com/fh5/images/cars/side/fh5_car_128.jpg?v=1\", \"Name_and_model\": \"1996 Ferrari F50 GT\", \"Model_type\": \"EXTREME TRACK TOYS\", \"In_Game_Price\": \"2,000,000\", \"car_source\": \"Autoshow\", \"stock_specs\": \"S2\", \"Stock_Rating\": 976.0, \"Drive_Type\": \"RWD\", \"speed\": 8.1, \"handling\": 10.0, \"acceleration\": 7.0, \"launch\": 7.1, \"braking\": 10.0, \"Offroad\": 4.1, \"Horse_Power\": 750.0, \"Weight_lbs\": 2002.0}, {\"Car_Image\": \"https://www.kudosprime.com/fh5/images/cars/side/fh5_car_556.jpg?v=1\", \"Name_and_model\": \"2002 Ferrari 575M Maranello\", \"Model_type\": \"RETRO SUPERCARS\", \"In_Game_Price\": \"250,000\", \"car_source\": \"Season Event\", \"stock_specs\": \"A\", \"Stock_Rating\": 747.0, \"Drive_Type\": \"RWD\", \"speed\": 7.5, \"handling\": 5.6, \"acceleration\": 5.6, \"launch\": 5.7, \"braking\": 4.4, \"Offroad\": 4.9, \"Horse_Power\": 508.0, \"Weight_lbs\": 3814.0}, {\"Car_Image\": \"https://www.kudosprime.com/fh5/images/cars/side/fh5_car_129.jpg?v=1\", \"Name_and_model\": \"2002 Ferrari Enzo Ferrari\", \"Model_type\": \"RETRO SUPERCARS\", \"In_Game_Price\": \"2,800,000\", \"car_source\": \"Autoshow\", \"stock_specs\": \"S1\", \"Stock_Rating\": 857.0, \"Drive_Type\": \"RWD\", \"speed\": 8.1, \"handling\": 7.5, \"acceleration\": 6.4, \"launch\": 6.9, \"braking\": 8.3, \"Offroad\": 4.7, \"Horse_Power\": 650.0, \"Weight_lbs\": 3263.0}, {\"Car_Image\": \"https://www.kudosprime.com/fh5/images/cars/side/fh5_car_130.jpg?v=1\", \"Name_and_model\": \"2003 Ferrari 360 Challenge Stradale\", \"Model_type\": \"RETRO SUPERCARS\", \"In_Game_Price\": \"200,000\", \"car_source\": \"Wheelspin\", \"stock_specs\": \"A\", \"Stock_Rating\": 773.0, \"Drive_Type\": \"RWD\", \"speed\": 7.0, \"handling\": 6.8, \"acceleration\": 6.1, \"launch\": 5.6, \"braking\": 6.6, \"Offroad\": 4.7, \"Horse_Power\": 409.0, \"Weight_lbs\": 2844.0}, {\"Car_Image\": \"https://www.kudosprime.com/fh5/images/cars/side/fh5_car_131.jpg?v=1\", \"Name_and_model\": \"2005 Ferrari FXX\", \"Model_type\": \"EXTREME TRACK TOYS\", \"In_Game_Price\": \"2,500,000\", \"car_source\": \"Autoshow\", \"stock_specs\": \"S2\", \"Stock_Rating\": 956.0, \"Drive_Type\": \"RWD\", \"speed\": 8.4, \"handling\": 10.0, \"acceleration\": 8.1, \"launch\": 8.9, \"braking\": 10.0, \"Offroad\": 4.4, \"Horse_Power\": 789.0, \"Weight_lbs\": 2731.0}, {\"Car_Image\": \"https://www.kudosprime.com/fh5/images/cars/side/fh5_car_132.jpg?v=1\", \"Name_and_model\": \"2007 Ferrari 430 Scuderia\", \"Model_type\": \"MODERN SUPERCARS\", \"In_Game_Price\": \"300,000\", \"car_source\": \"Wheelspin\", \"stock_specs\": \"S1\", \"Stock_Rating\": 810.0, \"Drive_Type\": \"RWD\", \"speed\": 7.6, \"handling\": 6.9, \"acceleration\": 6.2, \"launch\": 6.4, \"braking\": 6.9, \"Offroad\": 4.3, \"Horse_Power\": 503.0, \"Weight_lbs\": 3150.0}, {\"Car_Image\": \"https://www.kudosprime.com/fh5/images/cars/side/fh5_car_133.jpg?v=1\", \"Name_and_model\": \"2009 Ferrari 458 Italia\", \"Model_type\": \"MODERN SUPERCARS\", \"In_Game_Price\": \"225,000\", \"car_source\": \"Autoshow\", \"stock_specs\": \"S1\", \"Stock_Rating\": 823.0, \"Drive_Type\": \"RWD\", \"speed\": 7.9, \"handling\": 7.2, \"acceleration\": 6.3, \"launch\": 6.8, \"braking\": 6.9, \"Offroad\": 4.1, \"Horse_Power\": 562.0, \"Weight_lbs\": 3274.0}, {\"Car_Image\": \"https://www.kudosprime.com/fh5/images/cars/side/fh5_car_551.jpg?v=1\", \"Name_and_model\": \"2010 Ferrari 599 GTO\", \"Model_type\": \"SUPER GT\", \"In_Game_Price\": \"350,000\", \"car_source\": \"Season Event\", \"stock_specs\": \"S1\", \"Stock_Rating\": 828.0, \"Drive_Type\": \"RWD\", \"speed\": 7.9, \"handling\": 7.4, \"acceleration\": 6.0, \"launch\": 6.3, \"braking\": 7.2, \"Offroad\": 4.5, \"Horse_Power\": 661.0, \"Weight_lbs\": 3538.0}, {\"Car_Image\": \"https://www.kudosprime.com/fh5/images/cars/side/fh5_car_134.jpg?v=1\", \"Name_and_model\": \"2012 Ferrari 599XX Evolution\", \"Model_type\": \"EXTREME TRACK TOYS\", \"In_Game_Price\": \"2,600,000\", \"car_source\": \"Autoshow\", \"stock_specs\": \"S2\", \"Stock_Rating\": 952.0, \"Drive_Type\": \"RWD\", \"speed\": 8.0, \"handling\": 9.8, \"acceleration\": 7.3, \"launch\": 7.9, \"braking\": 10.0, \"Offroad\": 3.8, \"Horse_Power\": 740.0, \"Weight_lbs\": 3038.0}, {\"Car_Image\": \"https://www.kudosprime.com/fh5/images/cars/side/fh5_car_136.jpg?v=1\", \"Name_and_model\": \"2013 Ferrari 458 Speciale\", \"Model_type\": \"TRACK TOYS\", \"In_Game_Price\": \"340,000\", \"car_source\": \"Wheelspin\", \"stock_specs\": \"S1\", \"Stock_Rating\": 865.0, \"Drive_Type\": \"RWD\", \"speed\": 7.7, \"handling\": 8.0, \"acceleration\": 6.9, \"launch\": 7.5, \"braking\": 7.9, \"Offroad\": 3.7, \"Horse_Power\": 597.0, \"Weight_lbs\": 3075.0}, {\"Car_Image\": \"https://www.kudosprime.com/fh5/images/cars/side/fh5_car_135.jpg?v=1\", \"Name_and_model\": \"2013 Ferrari LaFerrari\", \"Model_type\": \"HYPERCARS\", \"In_Game_Price\": \"1,500,000\", \"car_source\": \"Car Collection\", \"stock_specs\": \"S2\", \"Stock_Rating\": 934.0, \"Drive_Type\": \"RWD\", \"speed\": 9.4, \"handling\": 9.0, \"acceleration\": 7.2, \"launch\": 7.9, \"braking\": 9.6, \"Offroad\": 4.4, \"Horse_Power\": 963.0, \"Weight_lbs\": 3263.0}, {\"Car_Image\": \"https://www.kudosprime.com/fh5/images/cars/side/fh5_car_137.jpg?v=1\", \"Name_and_model\": \"2014 Ferrari FXX K\", \"Model_type\": \"EXTREME TRACK TOYS\", \"In_Game_Price\": \"2,700,000\", \"car_source\": \"Autoshow\", \"stock_specs\": \"S2\", \"Stock_Rating\": 979.0, \"Drive_Type\": \"RWD\", \"speed\": 8.1, \"handling\": 10.0, \"acceleration\": 8.1, \"launch\": 9.0, \"braking\": 10.0, \"Offroad\": 3.6, \"Horse_Power\": 1036.0, \"Weight_lbs\": 2831.0}, {\"Car_Image\": \"https://www.kudosprime.com/fh5/images/cars/side/fh5_car_138.jpg?v=1\", \"Name_and_model\": \"2015 Ferrari 488 GTB\", \"Model_type\": \"MODERN SUPERCARS\", \"In_Game_Price\": \"290,000\", \"car_source\": \"Autoshow\", \"stock_specs\": \"S1\", \"Stock_Rating\": 863.0, \"Drive_Type\": \"RWD\", \"speed\": 8.2, \"handling\": 7.9, \"acceleration\": 6.8, \"launch\": 6.5, \"braking\": 7.8, \"Offroad\": 4.4, \"Horse_Power\": 660.0, \"Weight_lbs\": 3252.0}, {\"Car_Image\": \"https://www.kudosprime.com/fh5/images/cars/side/fh5_car_139.jpg?v=1\", \"Name_and_model\": \"2015 Ferrari F12tdf\", \"Model_type\": \"SUPER GT\", \"In_Game_Price\": \"500,000\", \"car_source\": \"Autoshow\", \"stock_specs\": \"S1\", \"Stock_Rating\": 884.0, \"Drive_Type\": \"RWD\", \"speed\": 8.8, \"handling\": 7.6, \"acceleration\": 6.5, \"launch\": 7.0, \"braking\": 8.4, \"Offroad\": 4.8, \"Horse_Power\": 769.0, \"Weight_lbs\": 3351.0}, {\"Car_Image\": \"https://www.kudosprime.com/fh5/images/cars/side/fh5_car_140.jpg?v=1\", \"Name_and_model\": \"2017 Ferrari 812 Superfast\", \"Model_type\": \"SUPER GT\", \"In_Game_Price\": \"350,000\", \"car_source\": \"Autoshow\", \"stock_specs\": \"S1\", \"Stock_Rating\": 878.0, \"Drive_Type\": \"RWD\", \"speed\": 7.9, \"handling\": 7.5, \"acceleration\": 6.2, \"launch\": 6.6, \"braking\": 7.6, \"Offroad\": 4.0, \"Horse_Power\": 788.0, \"Weight_lbs\": 3594.0}, {\"Car_Image\": \"https://www.kudosprime.com/fh5/images/cars/side/fh5_car_141.jpg?v=1\", \"Name_and_model\": \"2017 Ferrari GTC4Lusso\", \"Model_type\": \"SUPER GT\", \"In_Game_Price\": \"300,000\", \"car_source\": \"Wheelspin\", \"stock_specs\": \"S1\", \"Stock_Rating\": 816.0, \"Drive_Type\": \"AWD\", \"speed\": 7.5, \"handling\": 6.8, \"acceleration\": 6.9, \"launch\": 6.7, \"braking\": 6.6, \"Offroad\": 5.1, \"Horse_Power\": 680.0, \"Weight_lbs\": 4233.0}, {\"Car_Image\": \"https://www.kudosprime.com/fh5/images/cars/side/fh5_car_542.jpg?v=1\", \"Name_and_model\": \"2017 Ferrari J50\", \"Model_type\": \"MODERN SUPERCARS\", \"In_Game_Price\": \"2,500,000\", \"car_source\": \"Autoshow\", \"stock_specs\": \"S1\", \"Stock_Rating\": 857.0, \"Drive_Type\": \"RWD\", \"speed\": 8.4, \"handling\": 7.5, \"acceleration\": 6.8, \"launch\": 7.4, \"braking\": 7.3, \"Offroad\": 4.3, \"Horse_Power\": 681.0, \"Weight_lbs\": 3362.0}, {\"Car_Image\": \"https://www.kudosprime.com/fh5/images/cars/side/fh5_car_548.jpg?v=1\", \"Name_and_model\": \"2018 Ferrari FXX-K Evo\", \"Model_type\": \"EXTREME TRACK TOYS\", \"In_Game_Price\": \"0\", \"car_source\": \"Autoshow\", \"stock_specs\": \"S2\", \"Stock_Rating\": 998.0, \"Drive_Type\": \"RWD\", \"speed\": 8.1, \"handling\": 10.0, \"acceleration\": 8.3, \"launch\": 9.1, \"braking\": 10.0, \"Offroad\": 4.0, \"Horse_Power\": 1036.0, \"Weight_lbs\": 2800.0}, {\"Car_Image\": \"https://www.kudosprime.com/fh5/images/cars/side/fh5_car_142.jpg?v=1\", \"Name_and_model\": \"2018 Ferrari Portofino\", \"Model_type\": \"SUPER GT\", \"In_Game_Price\": \"215,000\", \"car_source\": \"Autoshow\", \"stock_specs\": \"S1\", \"Stock_Rating\": 814.0, \"Drive_Type\": \"RWD\", \"speed\": 7.8, \"handling\": 6.5, \"acceleration\": 6.3, \"launch\": 6.8, \"braking\": 6.8, \"Offroad\": 4.7, \"Horse_Power\": 591.0, \"Weight_lbs\": 3669.0}, {\"Car_Image\": \"https://www.kudosprime.com/fh5/images/cars/side/fh5_car_143.jpg?v=1\", \"Name_and_model\": \"2019 Ferrari 488 Pista\", \"Model_type\": \"TRACK TOYS\", \"In_Game_Price\": \"320,000\", \"car_source\": \"Autoshow\", \"stock_specs\": \"S1\", \"Stock_Rating\": 889.0, \"Drive_Type\": \"RWD\", \"speed\": 7.6, \"handling\": 8.2, \"acceleration\": 7.0, \"launch\": 7.6, \"braking\": 8.4, \"Offroad\": 4.2, \"Horse_Power\": 711.0, \"Weight_lbs\": 3053.0}, {\"Car_Image\": \"https://www.kudosprime.com/fh5/images/cars/side/fh5_car_543.jpg?v=1\", \"Name_and_model\": \"2019 Ferrari Monza SP2\", \"Model_type\": \"SUPER GT\", \"In_Game_Price\": \"2,000,000\", \"car_source\": \"Autoshow\", \"stock_specs\": \"S1\", \"Stock_Rating\": 867.0, \"Drive_Type\": \"RWD\", \"speed\": 8.6, \"handling\": 7.3, \"acceleration\": 6.1, \"launch\": 6.6, \"braking\": 7.1, \"Offroad\": 3.7, \"Horse_Power\": 799.0, \"Weight_lbs\": 3503.0}, {\"Car_Image\": \"https://www.kudosprime.com/fh5/images/cars/side/fh5_car_144.jpg?v=1\", \"Name_and_model\": \"1932 Ford De Luxe Five-Window Coupe\", \"Model_type\": \"RODS AND CUSTOMS\", \"In_Game_Price\": \"35,000\", \"car_source\": \"Autoshow\", \"stock_specs\": \"D\", \"Stock_Rating\": 126.0, \"Drive_Type\": \"RWD\", \"speed\": 3.2, \"handling\": 3.9, \"acceleration\": 1.9, \"launch\": 2.8, \"braking\": 1.8, \"Offroad\": 4.8, \"Horse_Power\": 65.0, \"Weight_lbs\": 2398.0}, {\"Car_Image\": \"https://www.kudosprime.com/fh5/images/cars/side/fh5_car_145.jpg?v=1\", \"Name_and_model\": \"1940 Ford De Luxe Coupe\", \"Model_type\": \"RODS AND CUSTOMS\", \"In_Game_Price\": \"44,000\", \"car_source\": \"Autoshow\", \"stock_specs\": \"D\", \"Stock_Rating\": 130.0, \"Drive_Type\": \"RWD\", \"speed\": 3.2, \"handling\": 3.6, \"acceleration\": 2.1, \"launch\": 2.2, \"braking\": 1.8, \"Offroad\": 6.1, \"Horse_Power\": 85.0, \"Weight_lbs\": 2970.0}, {\"Car_Image\": \"https://www.kudosprime.com/fh5/images/cars/side/fh5_car_146.jpg?v=1\", \"Name_and_model\": \"1956 Ford F-100\", \"Model_type\": \"RODS AND CUSTOMS\", \"In_Game_Price\": \"36,000\", \"car_source\": \"Barn\", \"stock_specs\": \"D\", \"Stock_Rating\": 302.0, \"Drive_Type\": \"RWD\", \"speed\": 3.8, \"handling\": 2.7, \"acceleration\": 3.1, \"launch\": 3.0, \"braking\": 2.1, \"Offroad\": 6.9, \"Horse_Power\": 173.0, \"Weight_lbs\": 3325.0}, {\"Car_Image\": \"https://www.kudosprime.com/fh5/images/cars/side/fh5_car_147.jpg?v=1\", \"Name_and_model\": \"1959 Ford Anglia 105E\", \"Model_type\": \"CULT CARS\", \"In_Game_Price\": \"20,000\", \"car_source\": \"Autoshow\", \"stock_specs\": \"D\", \"Stock_Rating\": 100.0, \"Drive_Type\": \"RWD\", \"speed\": 2.6, \"handling\": 4.1, \"acceleration\": 1.6, \"launch\": 2.6, \"braking\": 2.0, \"Offroad\": 6.1, \"Horse_Power\": 39.0, \"Weight_lbs\": 1676.0}, {\"Car_Image\": \"https://www.kudosprime.com/fh5/images/cars/side/fh5_car_148.jpg?v=1\", \"Name_and_model\": \"1964 Ford GT40 Mk I\", \"Model_type\": \"CLASSIC RACERS\", \"In_Game_Price\": \"11,000,000\", \"car_source\": \"Car Collection\", \"stock_specs\": \"A\", \"Stock_Rating\": 754.0, \"Drive_Type\": \"RWD\", \"speed\": 6.9, \"handling\": 5.2, \"acceleration\": 4.6, \"launch\": 3.7, \"braking\": 4.0, \"Offroad\": 4.8, \"Horse_Power\": 390.0, \"Weight_lbs\": 2222.0}, {\"Car_Image\": \"https://www.kudosprime.com/fh5/images/cars/side/fh5_car_149.jpg?v=1\", \"Name_and_model\": \"1965 Ford Mustang GT Coupe\", \"Model_type\": \"CLASSIC MUSCLE\", \"In_Game_Price\": \"46,000\", \"car_source\": \"Autoshow\", \"stock_specs\": \"D\", \"Stock_Rating\": 499.0, \"Drive_Type\": \"RWD\", \"speed\": 5.1, \"handling\": 3.6, \"acceleration\": 3.3, \"launch\": 3.2, \"braking\": 2.3, \"Offroad\": 5.4, \"Horse_Power\": 271.0, \"Weight_lbs\": 2562.0}, {\"Car_Image\": \"https://www.kudosprime.com/fh5/images/cars/side/fh5_car_150.jpg?v=1\", \"Name_and_model\": \"1965 Ford Transit\", \"Model_type\": \"VANS AND UTILITY\", \"In_Game_Price\": \"25,000\", \"car_source\": \"Autoshow\", \"stock_specs\": \"D\", \"Stock_Rating\": 100.0, \"Drive_Type\": \"RWD\", \"speed\": 2.5, \"handling\": 4.2, \"acceleration\": 1.3, \"launch\": 1.8, \"braking\": 1.8, \"Offroad\": 6.3, \"Horse_Power\": 73.0, \"Weight_lbs\": 3527.0}, {\"Car_Image\": \"https://www.kudosprime.com/fh5/images/cars/side/fh5_car_151.jpg?v=1\", \"Name_and_model\": \"1966 Ford #2 GT40 Mk II\", \"Model_type\": \"CLASSIC RACERS\", \"In_Game_Price\": \"11,000,000\", \"car_source\": \"Autoshow\", \"stock_specs\": \"A\", \"Stock_Rating\": 771.0, \"Drive_Type\": \"RWD\", \"speed\": 7.5, \"handling\": 5.0, \"acceleration\": 4.3, \"launch\": 3.5, \"braking\": 3.8, \"Offroad\": 4.7, \"Horse_Power\": 485.0, \"Weight_lbs\": 2682.0}, {\"Car_Image\": \"https://www.kudosprime.com/fh5/images/cars/side/fh5_car_152.jpg?v=1\", \"Name_and_model\": \"1966 Ford Lotus Cortina\", \"Model_type\": \"CLASSIC RACERS\", \"In_Game_Price\": \"50,000\", \"car_source\": \"Autoshow\", \"stock_specs\": \"D\", \"Stock_Rating\": 389.0, \"Drive_Type\": \"RWD\", \"speed\": 4.0, \"handling\": 3.9, \"acceleration\": 3.5, \"launch\": 2.6, \"braking\": 2.3, \"Offroad\": 5.3, \"Horse_Power\": 115.0, \"Weight_lbs\": 2060.0}, {\"Car_Image\": \"https://www.kudosprime.com/fh5/images/cars/side/fh5_car_153.jpg?v=1\", \"Name_and_model\": \"1967 Ford Racing Escort MK1\", \"Model_type\": \"CLASSIC RALLY\", \"In_Game_Price\": \"500,000\", \"car_source\": \"Barn\", \"stock_specs\": \"B\", \"Stock_Rating\": 636.0, \"Drive_Type\": \"RWD\", \"speed\": 4.5, \"handling\": 4.8, \"acceleration\": 4.6, \"launch\": 3.5, \"braking\": 4.1, \"Offroad\": 7.3, \"Horse_Power\": 200.0, \"Weight_lbs\": 2116.0}, {\"Car_Image\": \"https://www.kudosprime.com/fh5/images/cars/side/fh5_car_154.jpg?v=1\", \"Name_and_model\": \"1968 Ford Mustang GT 2+2 Fastback\", \"Model_type\": \"CLASSIC MUSCLE\", \"In_Game_Price\": \"50,000\", \"car_source\": \"Barn\", \"stock_specs\": \"D\", \"Stock_Rating\": 498.0, \"Drive_Type\": \"RWD\", \"speed\": 5.7, \"handling\": 3.9, \"acceleration\": 3.4, \"launch\": 3.3, \"braking\": 2.3, \"Offroad\": 5.5, \"Horse_Power\": 325.0, \"Weight_lbs\": 3548.0}, {\"Car_Image\": \"https://www.kudosprime.com/fh5/images/cars/side/fh5_car_155.jpg?v=1\", \"Name_and_model\": \"1969 Ford Mustang Boss 302\", \"Model_type\": \"CLASSIC MUSCLE\", \"In_Game_Price\": \"230,000\", \"car_source\": \"Autoshow\", \"stock_specs\": \"C\", \"Stock_Rating\": 581.0, \"Drive_Type\": \"RWD\", \"speed\": 5.5, \"handling\": 4.4, \"acceleration\": 3.2, \"launch\": 2.3, \"braking\": 3.0, \"Offroad\": 5.8, \"Horse_Power\": 290.0, \"Weight_lbs\": 3250.0}, {\"Car_Image\": \"https://www.kudosprime.com/fh5/images/cars/side/fh5_car_156.jpg?v=1\", \"Name_and_model\": \"1970 Ford GT70\", \"Model_type\": \"CLASSIC RALLY\", \"In_Game_Price\": \"150,000\", \"car_source\": \"Autoshow\", \"stock_specs\": \"B\", \"Stock_Rating\": 671.0, \"Drive_Type\": \"RWD\", \"speed\": 5.1, \"handling\": 5.5, \"acceleration\": 4.2, \"launch\": 3.1, \"braking\": 3.4, \"Offroad\": 7.3, \"Horse_Power\": 200.0, \"Weight_lbs\": 1680.0}, {\"Car_Image\": \"https://www.kudosprime.com/fh5/images/cars/side/fh5_car_564.jpg?v=1\", \"Name_and_model\": \"1971 Ford Mustang Mach 1 1971\", \"Model_type\": \"CLASSIC MUSCLE\", \"In_Game_Price\": \"250,000\", \"car_source\": \"This info will be available soon\", \"stock_specs\": \"C\", \"Stock_Rating\": 546.0, \"Drive_Type\": \"RWD\", \"speed\": 4.8, \"handling\": 3.8, \"acceleration\": 3.4, \"launch\": 3.2, \"braking\": 2.5, \"Offroad\": 5.2, \"Horse_Power\": 376.0, \"Weight_lbs\": 3710.0}, {\"Car_Image\": \"https://www.kudosprime.com/fh5/images/cars/side/fh5_car_157.jpg?v=1\", \"Name_and_model\": \"1972 Ford Falcon XA GT-HO\", \"Model_type\": \"CLASSIC MUSCLE\", \"In_Game_Price\": \"80,000\", \"car_source\": \"Autoshow\", \"stock_specs\": \"B\", \"Stock_Rating\": 624.0, \"Drive_Type\": \"RWD\", \"speed\": 6.3, \"handling\": 4.2, \"acceleration\": 4.0, \"launch\": 3.3, \"braking\": 2.9, \"Offroad\": 5.4, \"Horse_Power\": 410.0, \"Weight_lbs\": 3461.0}, {\"Car_Image\": \"https://www.kudosprime.com/fh5/images/cars/side/fh5_car_158.jpg?v=1\", \"Name_and_model\": \"1973 Ford Capri RS3100\", \"Model_type\": \"CLASSIC SPORTS CARS\", \"In_Game_Price\": \"55,000\", \"car_source\": \"Autoshow\", \"stock_specs\": \"D\", \"Stock_Rating\": 497.0, \"Drive_Type\": \"RWD\", \"speed\": 4.8, \"handling\": 4.1, \"acceleration\": 3.8, \"launch\": 3.3, \"braking\": 2.5, \"Offroad\": 5.2, \"Horse_Power\": 148.0, \"Weight_lbs\": 2315.0}, {\"Car_Image\": \"https://www.kudosprime.com/fh5/images/cars/side/fh5_car_159.jpg?v=1\", \"Name_and_model\": \"1973 Ford Escort RS1600\", \"Model_type\": \"CLASSIC RALLY\", \"In_Game_Price\": \"73,000\", \"car_source\": \"Autoshow\", \"stock_specs\": \"D\", \"Stock_Rating\": 476.0, \"Drive_Type\": \"RWD\", \"speed\": 4.2, \"handling\": 4.1, \"acceleration\": 3.7, \"launch\": 2.7, \"braking\": 2.9, \"Offroad\": 5.9, \"Horse_Power\": 113.0, \"Weight_lbs\": 1918.0}, {\"Car_Image\": \"https://www.kudosprime.com/fh5/images/cars/side/fh5_car_160.jpg?v=1\", \"Name_and_model\": \"1975 Ford Bronco\", \"Model_type\": \"PICK-UP & 4X4'S\", \"In_Game_Price\": \"38,000\", \"car_source\": \"Autoshow\", \"stock_specs\": \"D\", \"Stock_Rating\": 421.0, \"Drive_Type\": \"AWD\", \"speed\": 4.3, \"handling\": 3.0, \"acceleration\": 3.5, \"launch\": 2.8, \"braking\": 2.1, \"Offroad\": 8.0, \"Horse_Power\": 205.0, \"Weight_lbs\": 3545.0}, {\"Car_Image\": \"https://www.kudosprime.com/fh5/images/cars/side/fh5_car_161.jpg?v=1\", \"Name_and_model\": \"1977 Ford #5 Escort RS1800 MkII\", \"Model_type\": \"CLASSIC RALLY\", \"In_Game_Price\": \"300,000\", \"car_source\": \"Autoshow\", \"stock_specs\": \"B\", \"Stock_Rating\": 662.0, \"Drive_Type\": \"RWD\", \"speed\": 4.4, \"handling\": 4.5, \"acceleration\": 5.0, \"launch\": 5.3, \"braking\": 3.8, \"Offroad\": 7.0, \"Horse_Power\": 255.0, \"Weight_lbs\": 2161.0}, {\"Car_Image\": \"https://www.kudosprime.com/fh5/images/cars/side/fh5_car_162.jpg?v=1\", \"Name_and_model\": \"1977 Ford Escort RS1800\", \"Model_type\": \"CLASSIC RALLY\", \"In_Game_Price\": \"88,000\", \"car_source\": \"Autoshow\", \"stock_specs\": \"D\", \"Stock_Rating\": 477.0, \"Drive_Type\": \"RWD\", \"speed\": 4.2, \"handling\": 4.2, \"acceleration\": 3.6, \"launch\": 3.0, \"braking\": 2.8, \"Offroad\": 6.0, \"Horse_Power\": 115.0, \"Weight_lbs\": 1986.0}, {\"Car_Image\": \"https://www.kudosprime.com/fh5/images/cars/side/fh5_car_163.jpg?v=1\", \"Name_and_model\": \"1981 Ford Fiesta XR2\", \"Model_type\": \"RETRO HOT HATCH\", \"In_Game_Price\": \"25,000\", \"car_source\": \"Wheelspin\", \"stock_specs\": \"D\", \"Stock_Rating\": 369.0, \"Drive_Type\": \"FWD\", \"speed\": 3.8, \"handling\": 4.4, \"acceleration\": 3.1, \"launch\": 2.4, \"braking\": 2.5, \"Offroad\": 5.1, \"Horse_Power\": 84.0, \"Weight_lbs\": 1852.0}, {\"Car_Image\": \"https://www.kudosprime.com/fh5/images/cars/side/fh5_car_164.jpg?v=1\", \"Name_and_model\": \"1985 Ford RS200 Evolution\", \"Model_type\": \"RALLY MONSTERS\", \"In_Game_Price\": \"260,000\", \"car_source\": \"Autoshow\", \"stock_specs\": \"S1\", \"Stock_Rating\": 808.0, \"Drive_Type\": \"AWD\", \"speed\": 5.4, \"handling\": 5.7, \"acceleration\": 6.9, \"launch\": 2.3, \"braking\": 5.0, \"Offroad\": 7.8, \"Horse_Power\": 506.0, \"Weight_lbs\": 2464.0}, {\"Car_Image\": \"https://www.kudosprime.com/fh5/images/cars/side/fh5_car_165.jpg?v=1\", \"Name_and_model\": \"1986 Ford Escort RS Turbo\", \"Model_type\": \"RETRO HOT HATCH\", \"In_Game_Price\": \"25,000\", \"car_source\": \"Autoshow\", \"stock_specs\": \"C\", \"Stock_Rating\": 516.0, \"Drive_Type\": \"FWD\", \"speed\": 4.5, \"handling\": 4.2, \"acceleration\": 3.8, \"launch\": 3.7, \"braking\": 2.8, \"Offroad\": 4.9, \"Horse_Power\": 130.0, \"Weight_lbs\": 2154.0}, {\"Car_Image\": \"https://www.kudosprime.com/fh5/images/cars/side/fh5_car_166.jpg?v=1\", \"Name_and_model\": \"1987 Ford Sierra Cosworth RS500\", \"Model_type\": \"RETRO SALOONS\", \"In_Game_Price\": \"66,000\", \"car_source\": \"Autoshow\", \"stock_specs\": \"B\", \"Stock_Rating\": 604.0, \"Drive_Type\": \"RWD\", \"speed\": 5.6, \"handling\": 4.8, \"acceleration\": 4.3, \"launch\": 3.3, \"braking\": 3.4, \"Offroad\": 4.8, \"Horse_Power\": 224.0, \"Weight_lbs\": 2734.0}, {\"Car_Image\": \"https://www.kudosprime.com/fh5/images/cars/side/fh5_car_167.jpg?v=1\", \"Name_and_model\": \"1992 Ford Escort RS Cosworth\", \"Model_type\": \"RETRO RALLY\", \"In_Game_Price\": \"66,000\", \"car_source\": \"Autoshow\", \"stock_specs\": \"C\", \"Stock_Rating\": 565.0, \"Drive_Type\": \"AWD\", \"speed\": 5.2, \"handling\": 4.8, \"acceleration\": 4.3, \"launch\": 2.8, \"braking\": 3.1, \"Offroad\": 5.2, \"Horse_Power\": 224.0, \"Weight_lbs\": 2811.0}, {\"Car_Image\": \"https://www.kudosprime.com/fh5/images/cars/side/fh5_car_168.jpg?v=1\", \"Name_and_model\": \"1993 Ford SVT Cobra R\", \"Model_type\": \"RETRO MUSCLE\", \"In_Game_Price\": \"28,000\", \"car_source\": \"Autoshow\", \"stock_specs\": \"C\", \"Stock_Rating\": 539.0, \"Drive_Type\": \"RWD\", \"speed\": 5.3, \"handling\": 4.5, \"acceleration\": 3.7, \"launch\": 2.9, \"braking\": 2.9, \"Offroad\": 4.7, \"Horse_Power\": 235.0, \"Weight_lbs\": 3125.0}, {\"Car_Image\": \"https://www.kudosprime.com/fh5/images/cars/side/fh5_car_169.jpg?v=1\", \"Name_and_model\": \"1994 Ford Supervan 3\", \"Model_type\": \"TRACK TOYS\", \"In_Game_Price\": \"500,000\", \"car_source\": \"Autoshow\", \"stock_specs\": \"S1\", \"Stock_Rating\": 820.0, \"Drive_Type\": \"RWD\", \"speed\": 5.2, \"handling\": 8.0, \"acceleration\": 7.4, \"launch\": 5.5, \"braking\": 7.9, \"Offroad\": 4.6, \"Horse_Power\": 295.0, \"Weight_lbs\": 1962.0}, {\"Car_Image\": \"https://www.kudosprime.com/fh5/images/cars/side/fh5_car_170.jpg?v=1\", \"Name_and_model\": \"1999 Ford Racing Puma\", \"Model_type\": \"RETRO RALLY\", \"In_Game_Price\": \"20,000\", \"car_source\": \"Autoshow\", \"stock_specs\": \"C\", \"Stock_Rating\": 514.0, \"Drive_Type\": \"FWD\", \"speed\": 4.9, \"handling\": 4.6, \"acceleration\": 3.5, \"launch\": 2.7, \"braking\": 3.3, \"Offroad\": 5.0, \"Horse_Power\": 153.0, \"Weight_lbs\": 2588.0}, {\"Car_Image\": \"https://www.kudosprime.com/fh5/images/cars/side/fh5_car_513.jpg?v=1\", \"Name_and_model\": \"1999 Ford Racing Puma Forza Edition\", \"Model_type\": \"RALLY MONSTERS\", \"In_Game_Price\": \"500,000\", \"car_source\": \"Other\", \"stock_specs\": \"S1\", \"Stock_Rating\": 900.0, \"Drive_Type\": \"AWD\", \"speed\": 5.7, \"handling\": 6.3, \"acceleration\": 9.4, \"launch\": 6.0, \"braking\": 5.8, \"Offroad\": 8.0, \"Horse_Power\": 506.0, \"Weight_lbs\": 2194.0}, {\"Car_Image\": \"https://www.kudosprime.com/fh5/images/cars/side/fh5_car_171.jpg?v=1\", \"Name_and_model\": \"2000 Ford SVT Cobra R\", \"Model_type\": \"RETRO MUSCLE\", \"In_Game_Price\": \"55,000\", \"car_source\": \"Autoshow\", \"stock_specs\": \"B\", \"Stock_Rating\": 648.0, \"Drive_Type\": \"RWD\", \"speed\": 6.7, \"handling\": 5.0, \"acceleration\": 4.0, \"launch\": 4.0, \"braking\": 3.4, \"Offroad\": 4.5, \"Horse_Power\": 385.0, \"Weight_lbs\": 3589.0}, {\"Car_Image\": \"https://www.kudosprime.com/fh5/images/cars/side/fh5_car_172.jpg?v=1\", \"Name_and_model\": \"2003 Ford Focus RS\", \"Model_type\": \"HOT HATCH\", \"In_Game_Price\": \"30,000\", \"car_source\": \"Autoshow\", \"stock_specs\": \"C\", \"Stock_Rating\": 593.0, \"Drive_Type\": \"FWD\", \"speed\": 5.1, \"handling\": 5.1, \"acceleration\": 4.1, \"launch\": 3.6, \"braking\": 3.5, \"Offroad\": 4.6, \"Horse_Power\": 212.0, \"Weight_lbs\": 2822.0}, {\"Car_Image\": \"https://www.kudosprime.com/fh5/images/cars/side/fh5_car_173.jpg?v=1\", \"Name_and_model\": \"2005 Ford GT\", \"Model_type\": \"RETRO SUPERCARS\", \"In_Game_Price\": \"300,000\", \"car_source\": \"Wheelspin\", \"stock_specs\": \"A\", \"Stock_Rating\": 786.0, \"Drive_Type\": \"RWD\", \"speed\": 7.7, \"handling\": 6.6, \"acceleration\": 4.7, \"launch\": 3.3, \"braking\": 5.3, \"Offroad\": 5.1, \"Horse_Power\": 550.0, \"Weight_lbs\": 3390.0}, {\"Car_Image\": \"https://www.kudosprime.com/fh5/images/cars/side/fh5_car_174.jpg?v=1\", \"Name_and_model\": \"2009 Ford Focus RS\", \"Model_type\": \"SUPER HOT HATCH\", \"In_Game_Price\": \"25,000\", \"car_source\": \"Autoshow\", \"stock_specs\": \"B\", \"Stock_Rating\": 660.0, \"Drive_Type\": \"FWD\", \"speed\": 5.6, \"handling\": 5.5, \"acceleration\": 4.4, \"launch\": 4.5, \"braking\": 3.9, \"Offroad\": 4.7, \"Horse_Power\": 300.0, \"Weight_lbs\": 3236.0}, {\"Car_Image\": \"https://www.kudosprime.com/fh5/images/cars/side/fh5_car_175.jpg?v=1\", \"Name_and_model\": \"2010 Ford Crown Victoria Police Interceptor\", \"Model_type\": \"RETRO MUSCLE\", \"In_Game_Price\": \"25,000\", \"car_source\": \"Autoshow\", \"stock_specs\": \"D\", \"Stock_Rating\": 462.0, \"Drive_Type\": \"RWD\", \"speed\": 5.2, \"handling\": 4.1, \"acceleration\": 3.1, \"launch\": 1.9, \"braking\": 2.5, \"Offroad\": 5.6, \"Horse_Power\": 250.0, \"Weight_lbs\": 4057.0}, {\"Car_Image\": \"https://www.kudosprime.com/fh5/images/cars/side/fh5_car_176.jpg?v=1\", \"Name_and_model\": \"2011 Ford F-150 SVT Raptor\", \"Model_type\": \"PICK-UP & 4X4'S\", \"In_Game_Price\": \"42,000\", \"car_source\": \"Autoshow\", \"stock_specs\": \"C\", \"Stock_Rating\": 518.0, \"Drive_Type\": \"AWD\", \"speed\": 5.3, \"handling\": 3.3, \"acceleration\": 4.1, \"launch\": 3.1, \"braking\": 2.8, \"Offroad\": 8.6, \"Horse_Power\": 411.0, \"Weight_lbs\": 6006.0}, {\"Car_Image\": \"https://www.kudosprime.com/fh5/images/cars/side/fh5_car_177.jpg?v=1\", \"Name_and_model\": \"2011 Ford Transit SuperSportVan\", \"Model_type\": \"VANS AND UTILITY\", \"In_Game_Price\": \"50,000\", \"car_source\": \"Autoshow\", \"stock_specs\": \"D\", \"Stock_Rating\": 347.0, \"Drive_Type\": \"RWD\", \"speed\": 4.5, \"handling\": 4.0, \"acceleration\": 2.7, \"launch\": 3.1, \"braking\": 2.3, \"Offroad\": 5.4, \"Horse_Power\": 198.0, \"Weight_lbs\": 4493.0}, {\"Car_Image\": \"https://www.kudosprime.com/fh5/images/cars/side/fh5_car_178.jpg?v=1\", \"Name_and_model\": \"2013 Ford Shelby GT500\", \"Model_type\": \"MODERN MUSCLE\", \"In_Game_Price\": \"115,000\", \"car_source\": \"Autoshow\", \"stock_specs\": \"A\", \"Stock_Rating\": 756.0, \"Drive_Type\": \"RWD\", \"speed\": 7.4, \"handling\": 5.2, \"acceleration\": 4.7, \"launch\": 4.6, \"braking\": 4.3, \"Offroad\": 4.9, \"Horse_Power\": 662.0, \"Weight_lbs\": 3898.0}, {\"Car_Image\": \"https://www.kudosprime.com/fh5/images/cars/side/fh5_car_181.jpg?v=1\", \"Name_and_model\": \"2014 Ford #11 Rockstar F-150 Trophy Truck\", \"Model_type\": \"UNLIMITED OFFROAD\", \"In_Game_Price\": \"500,000\", \"car_source\": \"Autoshow\", \"stock_specs\": \"A\", \"Stock_Rating\": 731.0, \"Drive_Type\": \"RWD\", \"speed\": 5.6, \"handling\": 3.3, \"acceleration\": 4.6, \"launch\": 4.5, \"braking\": 4.8, \"Offroad\": 9.1, \"Horse_Power\": 850.0, \"Weight_lbs\": 6250.0}, {\"Car_Image\": \"https://www.kudosprime.com/fh5/images/cars/side/fh5_car_180.jpg?v=1\", \"Name_and_model\": \"2014 Ford Ranger T6 Rally Raid\", \"Model_type\": \"OFFROAD\", \"In_Game_Price\": \"250,000\", \"car_source\": \"Autoshow\", \"stock_specs\": \"B\", \"Stock_Rating\": 643.0, \"Drive_Type\": \"AWD\", \"speed\": 4.4, \"handling\": 4.8, \"acceleration\": 5.4, \"launch\": 7.8, \"braking\": 4.0, \"Offroad\": 8.4, \"Horse_Power\": 349.0, \"Weight_lbs\": 4354.0}, {\"Car_Image\": \"https://www.kudosprime.com/fh5/images/cars/side/fh5_car_189.jpg?v=1\", \"Name_and_model\": \"2017 Ford #14 Rahal Letterman Lanigan Racing GRC Fiesta\", \"Model_type\": \"RALLY MONSTERS\", \"In_Game_Price\": \"500,000\", \"car_source\": \"Wheelspin\", \"stock_specs\": \"S1\", \"Stock_Rating\": 860.0, \"Drive_Type\": \"AWD\", \"speed\": 5.0, \"handling\": 5.6, \"acceleration\": 9.2, \"launch\": 10.0, \"braking\": 5.9, \"Offroad\": 7.6, \"Horse_Power\": 600.0, \"Weight_lbs\": 2746.0}, {\"Car_Image\": \"https://www.kudosprime.com/fh5/images/cars/side/fh5_car_190.jpg?v=1\", \"Name_and_model\": \"2017 Ford #25 'Brocky' Ultra4 Bronco RTR\", \"Model_type\": \"UNLIMITED OFFROAD\", \"In_Game_Price\": \"500,000\", \"car_source\": \"Autoshow\", \"stock_specs\": \"A\", \"Stock_Rating\": 748.0, \"Drive_Type\": \"AWD\", \"speed\": 4.7, \"handling\": 4.1, \"acceleration\": 6.1, \"launch\": 5.2, \"braking\": 5.2, \"Offroad\": 10.0, \"Horse_Power\": 600.0, \"Weight_lbs\": 4500.0}, {\"Car_Image\": \"https://www.kudosprime.com/fh5/images/cars/side/fh5_car_186.jpg?v=1\", \"Name_and_model\": \"2017 Ford Focus RS\", \"Model_type\": \"SUPER HOT HATCH\", \"In_Game_Price\": \"59,000\", \"car_source\": \"Autoshow\", \"stock_specs\": \"A\", \"Stock_Rating\": 702.0, \"Drive_Type\": \"AWD\", \"speed\": 6.2, \"handling\": 6.0, \"acceleration\": 5.8, \"launch\": 3.7, \"braking\": 4.2, \"Offroad\": 5.5, \"Horse_Power\": 350.0, \"Weight_lbs\": 3446.0}, {\"Car_Image\": \"https://www.kudosprime.com/fh5/images/cars/side/fh5_car_187.jpg?v=1\", \"Name_and_model\": \"2017 Ford GT\", \"Model_type\": \"MODERN SUPERCARS\", \"In_Game_Price\": \"400,000\", \"car_source\": \"Autoshow\", \"stock_specs\": \"S1\", \"Stock_Rating\": 863.0, \"Drive_Type\": \"RWD\", \"speed\": 8.3, \"handling\": 7.1, \"acceleration\": 6.6, \"launch\": 3.6, \"braking\": 8.5, \"Offroad\": 4.4, \"Horse_Power\": 630.0, \"Weight_lbs\": 3353.0}, {\"Car_Image\": \"https://www.kudosprime.com/fh5/images/cars/side/fh5_car_185.jpg?v=1\", \"Name_and_model\": \"2017 Ford M-Sport Fiesta RS\", \"Model_type\": \"RALLY MONSTERS\", \"In_Game_Price\": \"500,000\", \"car_source\": \"Autoshow\", \"stock_specs\": \"S1\", \"Stock_Rating\": 808.0, \"Drive_Type\": \"AWD\", \"speed\": 5.1, \"handling\": 6.1, \"acceleration\": 8.7, \"launch\": 9.7, \"braking\": 6.1, \"Offroad\": 8.5, \"Horse_Power\": 375.0, \"Weight_lbs\": 2800.0}, {\"Car_Image\": \"https://www.kudosprime.com/fh5/images/cars/side/fh5_car_191.jpg?v=1\", \"Name_and_model\": \"2018 Ford #25 Mustang RTR\", \"Model_type\": \"DRIFT CARS\", \"In_Game_Price\": \"500,000\", \"car_source\": \"Autoshow\", \"stock_specs\": \"S1\", \"Stock_Rating\": 834.0, \"Drive_Type\": \"RWD\", \"speed\": 5.9, \"handling\": 5.3, \"acceleration\": 5.2, \"launch\": 5.5, \"braking\": 4.7, \"Offroad\": 4.0, \"Horse_Power\": 1000.0, \"Weight_lbs\": 3100.0}, {\"Car_Image\": \"https://www.kudosprime.com/fh5/images/cars/side/fh5_car_194.jpg?v=1\", \"Name_and_model\": \"2018 Ford #88 Mustang RTR\", \"Model_type\": \"DRIFT CARS\", \"In_Game_Price\": \"500,000\", \"car_source\": \"Autoshow\", \"stock_specs\": \"S1\", \"Stock_Rating\": 834.0, \"Drive_Type\": \"RWD\", \"speed\": 5.9, \"handling\": 5.3, \"acceleration\": 5.2, \"launch\": 5.5, \"braking\": 4.7, \"Offroad\": 4.1, \"Horse_Power\": 1000.0, \"Weight_lbs\": 3100.0}, {\"Car_Image\": \"https://www.kudosprime.com/fh5/images/cars/side/fh5_car_195.jpg?v=1\", \"Name_and_model\": \"2019 Ford Ranger Raptor\", \"Model_type\": \"PICK-UP & 4X4'S\", \"In_Game_Price\": \"58,000\", \"car_source\": \"Wheelspin\", \"stock_specs\": \"D\", \"Stock_Rating\": 451.0, \"Drive_Type\": \"AWD\", \"speed\": 4.5, \"handling\": 3.3, \"acceleration\": 2.7, \"launch\": 4.9, \"braking\": 3.1, \"Offroad\": 8.6, \"Horse_Power\": 211.0, \"Weight_lbs\": 5141.0}, {\"Car_Image\": \"https://www.kudosprime.com/fh5/images/cars/side/fh5_car_197.jpg?v=2\", \"Name_and_model\": \"2020 Ford #2069 Ford Performance Bronco R\", \"Model_type\": \"OFFROAD\", \"In_Game_Price\": \"250,000\", \"car_source\": \"Autoshow\", \"stock_specs\": \"C\", \"Stock_Rating\": 544.0, \"Drive_Type\": \"AWD\", \"speed\": 4.2, \"handling\": 4.1, \"acceleration\": 3.2, \"launch\": 5.2, \"braking\": 4.8, \"Offroad\": 10.0, \"Horse_Power\": 325.0, \"Weight_lbs\": 4475.0}, {\"Car_Image\": \"https://www.kudosprime.com/fh5/images/cars/side/fh5_car_201.jpg?v=1\", \"Name_and_model\": \"1989 Formula Drift #98 BMW 325i\", \"Model_type\": \"DRIFT CARS\", \"In_Game_Price\": \"300,000\", \"car_source\": \"Autoshow\", \"stock_specs\": \"S1\", \"Stock_Rating\": 813.0, \"Drive_Type\": \"RWD\", \"speed\": 6.9, \"handling\": 5.1, \"acceleration\": 5.0, \"launch\": 5.2, \"braking\": 4.2, \"Offroad\": 4.1, \"Horse_Power\": 750.0, \"Weight_lbs\": 2800.0}, {\"Car_Image\": \"https://www.kudosprime.com/fh5/images/cars/side/fh5_car_536.jpg?v=1\", \"Name_and_model\": \"1995 Formula Drift #34 Toyota Supra MKIV\", \"Model_type\": \"DRIFT CARS\", \"In_Game_Price\": \"0\", \"car_source\": \"Autoshow\", \"stock_specs\": \"S1\", \"Stock_Rating\": 845.0, \"Drive_Type\": \"RWD\", \"speed\": 7.7, \"handling\": 5.6, \"acceleration\": 5.2, \"launch\": 3.7, \"braking\": 5.6, \"Offroad\": 4.2, \"Horse_Power\": 1035.0, \"Weight_lbs\": 2849.0}, {\"Car_Image\": \"https://www.kudosprime.com/fh5/images/cars/side/fh5_car_202.jpg?v=1\", \"Name_and_model\": \"1997 Formula Drift #777 Nissan 240SX\", \"Model_type\": \"DRIFT CARS\", \"In_Game_Price\": \"300,000\", \"car_source\": \"Autoshow\", \"stock_specs\": \"S1\", \"Stock_Rating\": 826.0, \"Drive_Type\": \"RWD\", \"speed\": 6.7, \"handling\": 5.3, \"acceleration\": 5.2, \"launch\": 5.5, \"braking\": 4.4, \"Offroad\": 4.0, \"Horse_Power\": 1251.0, \"Weight_lbs\": 3100.0}, {\"Car_Image\": \"https://www.kudosprime.com/fh5/images/cars/side/fh5_car_203.jpg?v=1\", \"Name_and_model\": \"2006 Formula Drift #43 Dodge Viper SRT10\", \"Model_type\": \"DRIFT CARS\", \"In_Game_Price\": \"300,000\", \"car_source\": \"Autoshow\", \"stock_specs\": \"S1\", \"Stock_Rating\": 826.0, \"Drive_Type\": \"RWD\", \"speed\": 7.3, \"handling\": 5.4, \"acceleration\": 5.3, \"launch\": 5.6, \"braking\": 4.9, \"Offroad\": 3.7, \"Horse_Power\": 1350.0, \"Weight_lbs\": 2900.0}, {\"Car_Image\": \"https://www.kudosprime.com/fh5/images/cars/side/fh5_car_204.jpg?v=1\", \"Name_and_model\": \"2007 Formula Drift #117 599 GTB Fiorano\", \"Model_type\": \"DRIFT CARS\", \"In_Game_Price\": \"500,000\", \"car_source\": \"Autoshow\", \"stock_specs\": \"S1\", \"Stock_Rating\": 852.0, \"Drive_Type\": \"RWD\", \"speed\": 6.8, \"handling\": 5.3, \"acceleration\": 5.7, \"launch\": 6.1, \"braking\": 4.7, \"Offroad\": 4.4, \"Horse_Power\": 917.0, \"Weight_lbs\": 3200.0}, {\"Car_Image\": \"https://www.kudosprime.com/fh5/images/cars/side/fh5_car_537.jpg?v=1\", \"Name_and_model\": \"2009 Formula Drift #99 Mazda RX-8\", \"Model_type\": \"DRIFT CARS\", \"In_Game_Price\": \"0\", \"car_source\": \"Autoshow\", \"stock_specs\": \"S1\", \"Stock_Rating\": 829.0, \"Drive_Type\": \"RWD\", \"speed\": 6.7, \"handling\": 5.4, \"acceleration\": 4.7, \"launch\": 3.2, \"braking\": 4.5, \"Offroad\": 4.0, \"Horse_Power\": 1000.0, \"Weight_lbs\": 2824.0}, {\"Car_Image\": \"https://www.kudosprime.com/fh5/images/cars/side/fh5_car_205.jpg?v=1\", \"Name_and_model\": \"2013 Formula Drift #777 Chevrolet Corvette\", \"Model_type\": \"DRIFT CARS\", \"In_Game_Price\": \"300,000\", \"car_source\": \"Autoshow\", \"stock_specs\": \"S1\", \"Stock_Rating\": 848.0, \"Drive_Type\": \"RWD\", \"speed\": 6.4, \"handling\": 5.5, \"acceleration\": 5.1, \"launch\": 5.4, \"braking\": 4.8, \"Offroad\": 3.6, \"Horse_Power\": 1050.0, \"Weight_lbs\": 3000.0}, {\"Car_Image\": \"https://www.kudosprime.com/fh5/images/cars/side/fh5_car_206.jpg?v=1\", \"Name_and_model\": \"2015 Formula Drift #13 Ford Mustang\", \"Model_type\": \"DRIFT CARS\", \"In_Game_Price\": \"300,000\", \"car_source\": \"Autoshow\", \"stock_specs\": \"S1\", \"Stock_Rating\": 825.0, \"Drive_Type\": \"RWD\", \"speed\": 5.8, \"handling\": 5.4, \"acceleration\": 5.1, \"launch\": 5.4, \"braking\": 4.7, \"Offroad\": 4.1, \"Horse_Power\": 986.0, \"Weight_lbs\": 3100.0}, {\"Car_Image\": \"https://www.kudosprime.com/fh5/images/cars/side/fh5_car_207.jpg?v=1\", \"Name_and_model\": \"2016 Formula Drift #530 HSV Maloo GEN-F\", \"Model_type\": \"DRIFT CARS\", \"In_Game_Price\": \"300,000\", \"car_source\": \"Autoshow\", \"stock_specs\": \"S1\", \"Stock_Rating\": 808.0, \"Drive_Type\": \"RWD\", \"speed\": 7.6, \"handling\": 5.3, \"acceleration\": 4.6, \"launch\": 4.8, \"braking\": 4.3, \"Offroad\": 4.1, \"Horse_Power\": 1000.0, \"Weight_lbs\": 2899.0}, {\"Car_Image\": \"https://www.kudosprime.com/fh5/images/cars/side/fh5_car_532.jpg?v=1\", \"Name_and_model\": \"2017 Formula Drift #357 Chevrolet Corvette\", \"Model_type\": \"DRIFT CARS\", \"In_Game_Price\": \"0\", \"car_source\": \"Autoshow\", \"stock_specs\": \"S1\", \"Stock_Rating\": 835.0, \"Drive_Type\": \"RWD\", \"speed\": 8.9, \"handling\": 5.5, \"acceleration\": 5.1, \"launch\": 5.4, \"braking\": 4.9, \"Offroad\": 4.4, \"Horse_Power\": 825.0, \"Weight_lbs\": 2939.0}, {\"Car_Image\": \"https://www.kudosprime.com/fh5/images/cars/side/fh5_car_208.jpg?v=1\", \"Name_and_model\": \"2018 Formula Drift #64 Nissan 370Z\", \"Model_type\": \"DRIFT CARS\", \"In_Game_Price\": \"300,000\", \"car_source\": \"Autoshow\", \"stock_specs\": \"S1\", \"Stock_Rating\": 843.0, \"Drive_Type\": \"RWD\", \"speed\": 7.3, \"handling\": 5.4, \"acceleration\": 5.2, \"launch\": 5.5, \"braking\": 4.4, \"Offroad\": 4.0, \"Horse_Power\": 1015.0, \"Weight_lbs\": 2866.0}, {\"Car_Image\": \"https://www.kudosprime.com/fh5/images/cars/side/fh5_car_535.jpg?v=1\", \"Name_and_model\": \"2019 Formula Drift #411 Toyota Corolla Hatchback\", \"Model_type\": \"DRIFT CARS\", \"In_Game_Price\": \"0\", \"car_source\": \"Autoshow\", \"stock_specs\": \"S1\", \"Stock_Rating\": 840.0, \"Drive_Type\": \"RWD\", \"speed\": 7.0, \"handling\": 5.2, \"acceleration\": 5.0, \"launch\": 5.2, \"braking\": 5.5, \"Offroad\": 4.2, \"Horse_Power\": 1185.0, \"Weight_lbs\": 3156.0}, {\"Car_Image\": \"https://www.kudosprime.com/fh5/images/cars/side/fh5_car_534.jpg?v=1\", \"Name_and_model\": \"2020 Formula Drift #151 Toyota GR Supra\", \"Model_type\": \"DRIFT CARS\", \"In_Game_Price\": \"0\", \"car_source\": \"Autoshow\", \"stock_specs\": \"S1\", \"Stock_Rating\": 863.0, \"Drive_Type\": \"RWD\", \"speed\": 6.2, \"handling\": 5.3, \"acceleration\": 5.5, \"launch\": 3.6, \"braking\": 5.6, \"Offroad\": 4.1, \"Horse_Power\": 1033.0, \"Weight_lbs\": 3156.0}, {\"Car_Image\": \"https://www.kudosprime.com/fh5/images/cars/side/fh5_car_533.jpg?v=1\", \"Name_and_model\": \"2020 Formula Drift #91 BMW M2\", \"Model_type\": \"DRIFT CARS\", \"In_Game_Price\": \"0\", \"car_source\": \"Autoshow\", \"stock_specs\": \"S1\", \"Stock_Rating\": 839.0, \"Drive_Type\": \"RWD\", \"speed\": 6.7, \"handling\": 5.3, \"acceleration\": 5.2, \"launch\": 5.6, \"braking\": 5.0, \"Offroad\": 3.9, \"Horse_Power\": 822.0, \"Weight_lbs\": 2849.0}, {\"Car_Image\": \"https://www.kudosprime.com/fh5/images/cars/side/fh5_car_209.jpg?v=1\", \"Name_and_model\": \"2018 Funco Motorsports F9\", \"Model_type\": \"UNLIMITED BUGGIES\", \"In_Game_Price\": \"500,000\", \"car_source\": \"Wheelspin\", \"stock_specs\": \"S1\", \"Stock_Rating\": 821.0, \"Drive_Type\": \"RWD\", \"speed\": 5.2, \"handling\": 2.9, \"acceleration\": 7.6, \"launch\": 8.5, \"braking\": 5.1, \"Offroad\": 8.8, \"Horse_Power\": 1750.0, \"Weight_lbs\": 2800.0}, {\"Car_Image\": \"https://www.kudosprime.com/fh5/images/cars/side/fh5_car_524.jpg?v=1\", \"Name_and_model\": \"1984 Honda Civic CRX Mugen\", \"Model_type\": \"RETRO HOT HATCH\", \"In_Game_Price\": \"40,000\", \"car_source\": \"Season Event\", \"stock_specs\": \"D\", \"Stock_Rating\": 499.0, \"Drive_Type\": \"FWD\", \"speed\": 4.8, \"handling\": 4.7, \"acceleration\": 3.0, \"launch\": 1.8, \"braking\": 2.6, \"Offroad\": 4.6, \"Horse_Power\": 120.0, \"Weight_lbs\": 1819.0}, {\"Car_Image\": \"https://www.kudosprime.com/fh5/images/cars/side/fh5_car_218.jpg?v=1\", \"Name_and_model\": \"1992 Honda NSX-R\", \"Model_type\": \"RETRO SPORTS CARS\", \"In_Game_Price\": \"90,000\", \"car_source\": \"Autoshow\", \"stock_specs\": \"B\", \"Stock_Rating\": 691.0, \"Drive_Type\": \"RWD\", \"speed\": 6.2, \"handling\": 6.1, \"acceleration\": 4.9, \"launch\": 3.8, \"braking\": 4.3, \"Offroad\": 4.6, \"Horse_Power\": 276.0, \"Weight_lbs\": 2712.0}, {\"Car_Image\": \"https://www.kudosprime.com/fh5/images/cars/side/fh5_car_220.jpg?v=1\", \"Name_and_model\": \"1997 Honda Civic Type R\", \"Model_type\": \"RETRO HOT HATCH\", \"In_Game_Price\": \"25,000\", \"car_source\": \"Autoshow\", \"stock_specs\": \"C\", \"Stock_Rating\": 553.0, \"Drive_Type\": \"FWD\", \"speed\": 5.5, \"handling\": 4.8, \"acceleration\": 3.7, \"launch\": 3.0, \"braking\": 3.0, \"Offroad\": 4.7, \"Horse_Power\": 182.0, \"Weight_lbs\": 2403.0}, {\"Car_Image\": \"https://www.kudosprime.com/fh5/images/cars/side/fh5_car_221.jpg?v=1\", \"Name_and_model\": \"2003 Honda S2000\", \"Model_type\": \"MODERN SPORTS CARS\", \"In_Game_Price\": \"25,000\", \"car_source\": \"Autoshow\", \"stock_specs\": \"B\", \"Stock_Rating\": 630.0, \"Drive_Type\": \"RWD\", \"speed\": 6.0, \"handling\": 5.4, \"acceleration\": 4.2, \"launch\": 3.7, \"braking\": 3.3, \"Offroad\": 5.0, \"Horse_Power\": 247.0, \"Weight_lbs\": 2756.0}, {\"Car_Image\": \"https://www.kudosprime.com/fh5/images/cars/side/fh5_car_222.jpg?v=1\", \"Name_and_model\": \"2004 Honda Civic Type R\", \"Model_type\": \"RETRO HOT HATCH\", \"In_Game_Price\": \"25,000\", \"car_source\": \"Autoshow\", \"stock_specs\": \"C\", \"Stock_Rating\": 600.0, \"Drive_Type\": \"FWD\", \"speed\": 5.4, \"handling\": 5.0, \"acceleration\": 4.1, \"launch\": 3.7, \"braking\": 3.5, \"Offroad\": 5.1, \"Horse_Power\": 212.0, \"Weight_lbs\": 2624.0}, {\"Car_Image\": \"https://www.kudosprime.com/fh5/images/cars/side/fh5_car_223.jpg?v=1\", \"Name_and_model\": \"2005 Honda NSX-R\", \"Model_type\": \"RETRO SPORTS CARS\", \"In_Game_Price\": \"150,000\", \"car_source\": \"Autoshow\", \"stock_specs\": \"B\", \"Stock_Rating\": 691.0, \"Drive_Type\": \"RWD\", \"speed\": 6.4, \"handling\": 5.8, \"acceleration\": 5.0, \"launch\": 3.8, \"braking\": 4.7, \"Offroad\": 4.9, \"Horse_Power\": 290.0, \"Weight_lbs\": 2800.0}, {\"Car_Image\": \"https://www.kudosprime.com/fh5/images/cars/side/fh5_car_224.jpg?v=1\", \"Name_and_model\": \"2005 Honda NSX-R GT\", \"Model_type\": \"RETRO SPORTS CARS\", \"In_Game_Price\": \"500,000\", \"car_source\": \"Season Event\", \"stock_specs\": \"A\", \"Stock_Rating\": 725.0, \"Drive_Type\": \"RWD\", \"speed\": 6.4, \"handling\": 6.7, \"acceleration\": 5.6, \"launch\": 4.4, \"braking\": 5.6, \"Offroad\": 4.5, \"Horse_Power\": 276.0, \"Weight_lbs\": 2800.0}, {\"Car_Image\": \"https://www.kudosprime.com/fh5/images/cars/side/fh5_car_225.jpg?v=1\", \"Name_and_model\": \"2007 Honda Civic Type R\", \"Model_type\": \"HOT HATCH\", \"In_Game_Price\": \"20,000\", \"car_source\": \"Autoshow\", \"stock_specs\": \"C\", \"Stock_Rating\": 574.0, \"Drive_Type\": \"FWD\", \"speed\": 5.3, \"handling\": 5.4, \"acceleration\": 4.0, \"launch\": 3.2, \"braking\": 3.7, \"Offroad\": 5.2, \"Horse_Power\": 198.0, \"Weight_lbs\": 2965.0}, {\"Car_Image\": \"https://www.kudosprime.com/fh5/images/cars/side/fh5_car_226.jpg?v=1\", \"Name_and_model\": \"2009 Honda S2000 CR\", \"Model_type\": \"MODERN SPORTS CARS\", \"In_Game_Price\": \"25,000\", \"car_source\": \"Autoshow\", \"stock_specs\": \"B\", \"Stock_Rating\": 635.0, \"Drive_Type\": \"RWD\", \"speed\": 5.7, \"handling\": 5.7, \"acceleration\": 4.6, \"launch\": 3.7, \"braking\": 3.7, \"Offroad\": 5.0, \"Horse_Power\": 237.0, \"Weight_lbs\": 2813.0}, {\"Car_Image\": \"https://www.kudosprime.com/fh5/images/cars/side/fh5_car_228.jpg?v=2\", \"Name_and_model\": \"2016 Honda Civic Coupe\", \"Model_type\": \"RALLY MONSTERS\", \"In_Game_Price\": \"155,000\", \"car_source\": \"Season Event\", \"stock_specs\": \"S1\", \"Stock_Rating\": 861.0, \"Drive_Type\": \"AWD\", \"speed\": 5.0, \"handling\": 5.6, \"acceleration\": 9.2, \"launch\": 8.4, \"braking\": 5.8, \"Offroad\": 7.3, \"Horse_Power\": 600.0, \"Weight_lbs\": 2746.0}, {\"Car_Image\": \"https://www.kudosprime.com/fh5/images/cars/side/fh5_car_538.jpg?v=1\", \"Name_and_model\": \"2016 Honda Civic Type R\", \"Model_type\": \"SUPER HOT HATCH\", \"In_Game_Price\": \"38,000\", \"car_source\": \"Autoshow\", \"stock_specs\": \"B\", \"Stock_Rating\": 699.0, \"Drive_Type\": \"FWD\", \"speed\": 6.5, \"handling\": 6.0, \"acceleration\": 4.7, \"launch\": 4.8, \"braking\": 4.3, \"Offroad\": 4.6, \"Horse_Power\": 306.0, \"Weight_lbs\": 3047.0}, {\"Car_Image\": \"https://www.kudosprime.com/fh5/images/cars/side/fh5_car_229.jpg?v=1\", \"Name_and_model\": \"2018 Honda Civic Type R\", \"Model_type\": \"SUPER HOT HATCH\", \"In_Game_Price\": \"59,000\", \"car_source\": \"Autoshow\", \"stock_specs\": \"A\", \"Stock_Rating\": 727.0, \"Drive_Type\": \"FWD\", \"speed\": 6.8, \"handling\": 6.0, \"acceleration\": 4.6, \"launch\": 4.8, \"braking\": 4.6, \"Offroad\": 4.6, \"Horse_Power\": 306.0, \"Weight_lbs\": 3117.0}, {\"Car_Image\": \"https://www.kudosprime.com/fh5/images/cars/side/fh5_car_230.jpg?v=1\", \"Name_and_model\": \"1955 Hoonigan Chevrolet Bel Air\", \"Model_type\": \"RODS AND CUSTOMS\", \"In_Game_Price\": \"76,000\", \"car_source\": \"Autoshow\", \"stock_specs\": \"B\", \"Stock_Rating\": 621.0, \"Drive_Type\": \"RWD\", \"speed\": 5.7, \"handling\": 3.8, \"acceleration\": 4.1, \"launch\": 3.1, \"braking\": 3.0, \"Offroad\": 6.4, \"Horse_Power\": 410.0, \"Weight_lbs\": 3244.0}, {\"Car_Image\": \"https://www.kudosprime.com/fh5/images/cars/side/fh5_car_231.jpg?v=1\", \"Name_and_model\": \"1965 Hoonigan Ford \\\"Hoonicorn\\\" Mustang\", \"Model_type\": \"DRIFT CARS\", \"In_Game_Price\": \"500,000\", \"car_source\": \"Autoshow\", \"stock_specs\": \"S2\", \"Stock_Rating\": 951.0, \"Drive_Type\": \"AWD\", \"speed\": 9.2, \"handling\": 6.7, \"acceleration\": 10.0, \"launch\": 7.4, \"braking\": 5.9, \"Offroad\": 5.5, \"Horse_Power\": 1400.0, \"Weight_lbs\": 2998.0}, {\"Car_Image\": \"https://www.kudosprime.com/fh5/images/cars/side/fh5_car_232.jpg?v=1\", \"Name_and_model\": \"1965 Hoonigan GYMKHANA 10 Ford Hoonicorn Mustang\", \"Model_type\": \"DRIFT CARS\", \"In_Game_Price\": \"500,000\", \"car_source\": \"Season Event\", \"stock_specs\": \"S2\", \"Stock_Rating\": 952.0, \"Drive_Type\": \"AWD\", \"speed\": 8.8, \"handling\": 6.6, \"acceleration\": 10.0, \"launch\": 7.7, \"braking\": 5.9, \"Offroad\": 5.4, \"Horse_Power\": 1400.0, \"Weight_lbs\": 2998.0}, {\"Car_Image\": \"https://www.kudosprime.com/fh5/images/cars/side/fh5_car_233.jpg?v=1\", \"Name_and_model\": \"1972 Hoonigan Chevrolet Napalm Nova\", \"Model_type\": \"CLASSIC MUSCLE\", \"In_Game_Price\": \"50,000\", \"car_source\": \"Autoshow\", \"stock_specs\": \"A\", \"Stock_Rating\": 731.0, \"Drive_Type\": \"RWD\", \"speed\": 6.7, \"handling\": 5.2, \"acceleration\": 5.0, \"launch\": 5.3, \"braking\": 4.7, \"Offroad\": 5.0, \"Horse_Power\": 475.0, \"Weight_lbs\": 3566.0}, {\"Car_Image\": \"https://www.kudosprime.com/fh5/images/cars/side/fh5_car_234.jpg?v=1\", \"Name_and_model\": \"1977 Hoonigan GYMKHANA 10 Ford F-150 \\\"Hoonitruck\\\"\", \"Model_type\": \"DRIFT CARS\", \"In_Game_Price\": \"500,000\", \"car_source\": \"Autoshow\", \"stock_specs\": \"S1\", \"Stock_Rating\": 896.0, \"Drive_Type\": \"AWD\", \"speed\": 6.2, \"handling\": 6.5, \"acceleration\": 7.9, \"launch\": 8.7, \"braking\": 6.7, \"Offroad\": 5.7, \"Horse_Power\": 914.0, \"Weight_lbs\": 3210.0}, {\"Car_Image\": \"https://www.kudosprime.com/fh5/images/cars/side/fh5_car_235.jpg?v=1\", \"Name_and_model\": \"1978 Hoonigan Ford Escort RS1800\", \"Model_type\": \"RALLY MONSTERS\", \"In_Game_Price\": \"300,000\", \"car_source\": \"Autoshow\", \"stock_specs\": \"S1\", \"Stock_Rating\": 820.0, \"Drive_Type\": \"RWD\", \"speed\": 6.2, \"handling\": 6.7, \"acceleration\": 5.7, \"launch\": 6.1, \"braking\": 6.3, \"Offroad\": 4.2, \"Horse_Power\": 333.0, \"Weight_lbs\": 1846.0}, {\"Car_Image\": \"https://www.kudosprime.com/fh5/images/cars/side/fh5_car_236.jpg?v=1\", \"Name_and_model\": \"1986 Hoonigan Ford RS200 Evolution\", \"Model_type\": \"RALLY MONSTERS\", \"In_Game_Price\": \"500,000\", \"car_source\": \"Autoshow\", \"stock_specs\": \"S2\", \"Stock_Rating\": 904.0, \"Drive_Type\": \"AWD\", \"speed\": 7.6, \"handling\": 6.5, \"acceleration\": 9.5, \"launch\": 5.1, \"braking\": 5.3, \"Offroad\": 8.3, \"Horse_Power\": 750.0, \"Weight_lbs\": 2494.0}, {\"Car_Image\": \"https://www.kudosprime.com/fh5/images/cars/side/fh5_car_238.jpg?v=1\", \"Name_and_model\": \"1991 Hoonigan GYMKHANA 10 Ford Escort Cosworth Group A\", \"Model_type\": \"RALLY MONSTERS\", \"In_Game_Price\": \"500,000\", \"car_source\": \"Autoshow\", \"stock_specs\": \"S1\", \"Stock_Rating\": 862.0, \"Drive_Type\": \"AWD\", \"speed\": 7.8, \"handling\": 6.2, \"acceleration\": 9.1, \"launch\": 8.7, \"braking\": 5.3, \"Offroad\": 7.6, \"Horse_Power\": 620.0, \"Weight_lbs\": 2690.0}, {\"Car_Image\": \"https://www.kudosprime.com/fh5/images/cars/side/fh5_car_237.jpg?v=1\", \"Name_and_model\": \"1991 Hoonigan Rauh-Welt Begriff Porsche 911 Turbo\", \"Model_type\": \"RETRO SUPERCARS\", \"In_Game_Price\": \"160,000\", \"car_source\": \"Mastery Tree\", \"stock_specs\": \"S1\", \"Stock_Rating\": 811.0, \"Drive_Type\": \"RWD\", \"speed\": 6.7, \"handling\": 7.7, \"acceleration\": 7.2, \"launch\": 4.1, \"braking\": 5.3, \"Offroad\": 4.0, \"Horse_Power\": 385.0, \"Weight_lbs\": 2976.0}, {\"Car_Image\": \"https://www.kudosprime.com/fh5/images/cars/side/fh5_car_239.jpg?v=1\", \"Name_and_model\": \"1992 Hoonigan Mazda RX-7 Twerkstallion\", \"Model_type\": \"DRIFT CARS\", \"In_Game_Price\": \"50,000\", \"car_source\": \"Mastery Tree\", \"stock_specs\": \"A\", \"Stock_Rating\": 799.0, \"Drive_Type\": \"RWD\", \"speed\": 8.3, \"handling\": 5.8, \"acceleration\": 4.6, \"launch\": 4.7, \"braking\": 4.5, \"Offroad\": 3.8, \"Horse_Power\": 600.0, \"Weight_lbs\": 2866.0}, {\"Car_Image\": \"https://www.kudosprime.com/fh5/images/cars/side/fh5_car_240.jpg?v=1\", \"Name_and_model\": \"1994 Hoonigan Ford Escort RS Cosworth WRC \\u201cCossie V2\\u201d\", \"Model_type\": \"RALLY MONSTERS\", \"In_Game_Price\": \"500,000\", \"car_source\": \"Autoshow\", \"stock_specs\": \"A\", \"Stock_Rating\": 783.0, \"Drive_Type\": \"AWD\", \"speed\": 5.5, \"handling\": 6.1, \"acceleration\": 7.7, \"launch\": 4.0, \"braking\": 5.9, \"Offroad\": 7.4, \"Horse_Power\": 371.0, \"Weight_lbs\": 2822.0}, {\"Car_Image\": \"https://www.kudosprime.com/fh5/images/cars/side/fh5_car_241.jpg?v=1\", \"Name_and_model\": \"2016 Hoonigan GYMKHANA 10 Ford Focus RS RX\", \"Model_type\": \"RALLY MONSTERS\", \"In_Game_Price\": \"500,000\", \"car_source\": \"Wheelspin\", \"stock_specs\": \"S1\", \"Stock_Rating\": 862.0, \"Drive_Type\": \"AWD\", \"speed\": 5.1, \"handling\": 5.7, \"acceleration\": 9.2, \"launch\": 10.0, \"braking\": 6.4, \"Offroad\": 7.2, \"Horse_Power\": 620.0, \"Weight_lbs\": 2690.0}, {\"Car_Image\": \"https://www.kudosprime.com/fh5/images/cars/side/fh5_car_242.jpg?v=1\", \"Name_and_model\": \"1969 Hot Wheels Twin Mill\", \"Model_type\": \"RODS AND CUSTOMS\", \"In_Game_Price\": \"110,000\", \"car_source\": \"Wheelspin\", \"stock_specs\": \"A\", \"Stock_Rating\": 798.0, \"Drive_Type\": \"RWD\", \"speed\": 8.6, \"handling\": 5.2, \"acceleration\": 4.9, \"launch\": 5.2, \"braking\": 4.5, \"Offroad\": 3.8, \"Horse_Power\": 1401.0, \"Weight_lbs\": 4696.0}, {\"Car_Image\": \"https://www.kudosprime.com/fh5/images/cars/side/fh5_car_243.jpg?v=1\", \"Name_and_model\": \"2011 Hot Wheels Bone Shaker\", \"Model_type\": \"RODS AND CUSTOMS\", \"In_Game_Price\": \"150,000\", \"car_source\": \"Autoshow\", \"stock_specs\": \"A\", \"Stock_Rating\": 790.0, \"Drive_Type\": \"RWD\", \"speed\": 6.0, \"handling\": 5.2, \"acceleration\": 5.7, \"launch\": 6.2, \"braking\": 4.9, \"Offroad\": 4.2, \"Horse_Power\": 402.0, \"Weight_lbs\": 2205.0}, {\"Car_Image\": \"https://www.kudosprime.com/fh5/images/cars/side/fh5_car_244.jpg?v=1\", \"Name_and_model\": \"2014 HSV GEN-F GTS\", \"Model_type\": \"MODERN MUSCLE\", \"In_Game_Price\": \"75,000\", \"car_source\": \"Autoshow\", \"stock_specs\": \"A\", \"Stock_Rating\": 721.0, \"Drive_Type\": \"RWD\", \"speed\": 7.0, \"handling\": 5.5, \"acceleration\": 4.8, \"launch\": 4.0, \"braking\": 4.5, \"Offroad\": 4.8, \"Horse_Power\": 577.0, \"Weight_lbs\": 4147.0}, {\"Car_Image\": \"https://www.kudosprime.com/fh5/images/cars/side/fh5_car_245.jpg?v=1\", \"Name_and_model\": \"2014 HSV Limited Edition GEN-F GTS Maloo\", \"Model_type\": \"VANS AND UTILITY\", \"In_Game_Price\": \"62,000\", \"car_source\": \"Autoshow\", \"stock_specs\": \"A\", \"Stock_Rating\": 742.0, \"Drive_Type\": \"RWD\", \"speed\": 6.5, \"handling\": 5.5, \"acceleration\": 4.8, \"launch\": 4.6, \"braking\": 4.8, \"Offroad\": 4.4, \"Horse_Power\": 577.0, \"Weight_lbs\": 4034.0}, {\"Car_Image\": \"https://www.kudosprime.com/fh5/images/cars/side/fh5_car_246.jpg?v=1\", \"Name_and_model\": \"2006 HUMMER H1 Alpha\", \"Model_type\": \"PICK-UP & 4X4'S\", \"In_Game_Price\": \"112,000\", \"car_source\": \"Autoshow\", \"stock_specs\": \"D\", \"Stock_Rating\": 354.0, \"Drive_Type\": \"AWD\", \"speed\": 4.2, \"handling\": 2.9, \"acceleration\": 2.0, \"launch\": 2.5, \"braking\": 2.4, \"Offroad\": 8.6, \"Horse_Power\": 300.0, \"Weight_lbs\": 8114.0}, {\"Car_Image\": \"https://www.kudosprime.com/fh5/images/cars/side/fh5_car_247.jpg?v=1\", \"Name_and_model\": \"2019 Hyundai Veloster N\", \"Model_type\": \"SUPER HOT HATCH\", \"In_Game_Price\": \"30,000\", \"car_source\": \"Wheelspin\", \"stock_specs\": \"B\", \"Stock_Rating\": 645.0, \"Drive_Type\": \"FWD\", \"speed\": 6.0, \"handling\": 5.4, \"acceleration\": 4.5, \"launch\": 4.7, \"braking\": 3.7, \"Offroad\": 5.0, \"Horse_Power\": 275.0, \"Weight_lbs\": 3106.0}, {\"Car_Image\": \"https://www.kudosprime.com/fh5/images/cars/side/fh5_car_248.jpg?v=1\", \"Name_and_model\": \"2015 Infiniti Q60 Concept\", \"Model_type\": \"SUPER SALOONS\", \"In_Game_Price\": \"50,000\", \"car_source\": \"Autoshow\", \"stock_specs\": \"A\", \"Stock_Rating\": 735.0, \"Drive_Type\": \"RWD\", \"speed\": 6.8, \"handling\": 5.6, \"acceleration\": 4.8, \"launch\": 5.0, \"braking\": 4.7, \"Offroad\": 4.6, \"Horse_Power\": 400.0, \"Weight_lbs\": 3650.0}, {\"Car_Image\": \"https://www.kudosprime.com/fh5/images/cars/side/fh5_car_249.jpg?v=1\", \"Name_and_model\": \"1970 International Scout 800A\", \"Model_type\": \"PICK-UP & 4X4'S\", \"In_Game_Price\": \"40,000\", \"car_source\": \"Autoshow\", \"stock_specs\": \"D\", \"Stock_Rating\": 384.0, \"Drive_Type\": \"AWD\", \"speed\": 4.1, \"handling\": 3.0, \"acceleration\": 2.7, \"launch\": 3.6, \"braking\": 2.1, \"Offroad\": 7.8, \"Horse_Power\": 193.0, \"Weight_lbs\": 3615.0}, {\"Car_Image\": \"https://www.kudosprime.com/fh5/images/cars/side/fh5_car_519.jpg?v=1\", \"Name_and_model\": \"2018 ItalDesign ZeroUno\", \"Model_type\": \"HYPERCARS\", \"In_Game_Price\": \"2,400,000\", \"car_source\": \"Season Event\", \"stock_specs\": \"S1\", \"Stock_Rating\": 869.0, \"Drive_Type\": \"AWD\", \"speed\": 7.6, \"handling\": 7.7, \"acceleration\": 9.2, \"launch\": 8.9, \"braking\": 8.0, \"Offroad\": 4.9, \"Horse_Power\": 602.0, \"Weight_lbs\": 3362.0}, {\"Car_Image\": \"https://www.kudosprime.com/fh5/images/cars/side/fh5_car_250.jpg?v=1\", \"Name_and_model\": \"1956 Jaguar D-Type\", \"Model_type\": \"CLASSIC RACERS\", \"In_Game_Price\": \"22,000,000\", \"car_source\": \"Autoshow\", \"stock_specs\": \"B\", \"Stock_Rating\": 630.0, \"Drive_Type\": \"RWD\", \"speed\": 5.6, \"handling\": 3.8, \"acceleration\": 3.8, \"launch\": 2.6, \"braking\": 2.8, \"Offroad\": 4.4, \"Horse_Power\": 245.0, \"Weight_lbs\": 2100.0}, {\"Car_Image\": \"https://www.kudosprime.com/fh5/images/cars/side/fh5_car_251.jpg?v=1\", \"Name_and_model\": \"1959 Jaguar Mk II 3.8\", \"Model_type\": \"CLASSIC RACERS\", \"In_Game_Price\": \"80,000\", \"car_source\": \"Autoshow\", \"stock_specs\": \"D\", \"Stock_Rating\": 448.0, \"Drive_Type\": \"RWD\", \"speed\": 4.6, \"handling\": 4.1, \"acceleration\": 3.5, \"launch\": 2.8, \"braking\": 2.8, \"Offroad\": 5.5, \"Horse_Power\": 220.0, \"Weight_lbs\": 3360.0}, {\"Car_Image\": \"https://www.kudosprime.com/fh5/images/cars/side/fh5_car_252.jpg?v=1\", \"Name_and_model\": \"1961 Jaguar E-type\", \"Model_type\": \"RARE CLASSICS\", \"In_Game_Price\": \"150,000\", \"car_source\": \"Autoshow\", \"stock_specs\": \"C\", \"Stock_Rating\": 525.0, \"Drive_Type\": \"RWD\", \"speed\": 5.2, \"handling\": 4.2, \"acceleration\": 4.0, \"launch\": 2.8, \"braking\": 2.7, \"Offroad\": 5.2, \"Horse_Power\": 265.0, \"Weight_lbs\": 2900.0}, {\"Car_Image\": \"https://www.kudosprime.com/fh5/images/cars/side/fh5_car_253.jpg?v=1\", \"Name_and_model\": \"1964 Jaguar Lightweight E-Type\", \"Model_type\": \"CLASSIC RACERS\", \"In_Game_Price\": \"7,500,000\", \"car_source\": \"Autoshow\", \"stock_specs\": \"B\", \"Stock_Rating\": 688.0, \"Drive_Type\": \"RWD\", \"speed\": 6.3, \"handling\": 4.4, \"acceleration\": 4.7, \"launch\": 4.4, \"braking\": 3.4, \"Offroad\": 4.6, \"Horse_Power\": 340.0, \"Weight_lbs\": 2292.0}, {\"Car_Image\": \"https://www.kudosprime.com/fh5/images/cars/side/fh5_car_546.jpg?v=1\", \"Name_and_model\": \"1966 Jaguar XJ13\", \"Model_type\": \"CLASSIC RACERS\", \"In_Game_Price\": \"0\", \"car_source\": \"Autoshow\", \"stock_specs\": \"A\", \"Stock_Rating\": 779.0, \"Drive_Type\": \"RWD\", \"speed\": 7.6, \"handling\": 4.9, \"acceleration\": 5.1, \"launch\": 4.4, \"braking\": 4.0, \"Offroad\": 4.2, \"Horse_Power\": 502.0, \"Weight_lbs\": 2557.0}, {\"Car_Image\": \"https://www.kudosprime.com/fh5/images/cars/side/fh5_car_254.jpg?v=1\", \"Name_and_model\": \"1991 Jaguar Sport XJR-15\", \"Model_type\": \"RETRO SUPERCARS\", \"In_Game_Price\": \"500,000\", \"car_source\": \"Barn\", \"stock_specs\": \"S1\", \"Stock_Rating\": 828.0, \"Drive_Type\": \"RWD\", \"speed\": 7.5, \"handling\": 8.0, \"acceleration\": 6.0, \"launch\": 6.3, \"braking\": 6.8, \"Offroad\": 4.7, \"Horse_Power\": 450.0, \"Weight_lbs\": 2315.0}, {\"Car_Image\": \"https://www.kudosprime.com/fh5/images/cars/side/fh5_car_255.jpg?v=1\", \"Name_and_model\": \"1993 Jaguar XJ220\", \"Model_type\": \"RETRO SUPERCARS\", \"In_Game_Price\": \"350,000\", \"car_source\": \"Wheelspin\", \"stock_specs\": \"A\", \"Stock_Rating\": 786.0, \"Drive_Type\": \"RWD\", \"speed\": 7.7, \"handling\": 6.4, \"acceleration\": 5.2, \"launch\": 2.2, \"braking\": 5.2, \"Offroad\": 4.8, \"Horse_Power\": 542.0, \"Weight_lbs\": 3241.0}, {\"Car_Image\": \"https://www.kudosprime.com/fh5/images/cars/side/fh5_car_547.jpg?v=1\", \"Name_and_model\": \"1993 Jaguar XJ220S TWR\", \"Model_type\": \"RETRO SUPERCARS\", \"In_Game_Price\": \"0\", \"car_source\": \"Autoshow\", \"stock_specs\": \"S1\", \"Stock_Rating\": 848.0, \"Drive_Type\": \"RWD\", \"speed\": 8.2, \"handling\": 6.8, \"acceleration\": 6.4, \"launch\": 2.7, \"braking\": 6.0, \"Offroad\": 4.6, \"Horse_Power\": 680.0, \"Weight_lbs\": 2379.0}, {\"Car_Image\": \"https://www.kudosprime.com/fh5/images/cars/side/fh5_car_256.jpg?v=1\", \"Name_and_model\": \"2010 Jaguar C-X75\", \"Model_type\": \"MODERN SUPERCARS\", \"In_Game_Price\": \"1,500,000\", \"car_source\": \"Autoshow\", \"stock_specs\": \"S1\", \"Stock_Rating\": 880.0, \"Drive_Type\": \"AWD\", \"speed\": 8.1, \"handling\": 7.8, \"acceleration\": 9.4, \"launch\": 10.0, \"braking\": 8.0, \"Offroad\": 4.1, \"Horse_Power\": 890.0, \"Weight_lbs\": 3750.0}, {\"Car_Image\": \"https://www.kudosprime.com/fh5/images/cars/side/fh5_car_257.jpg?v=1\", \"Name_and_model\": \"2012 Jaguar XKR-S\", \"Model_type\": \"GT CARS\", \"In_Game_Price\": \"100,000\", \"car_source\": \"Autoshow\", \"stock_specs\": \"A\", \"Stock_Rating\": 756.0, \"Drive_Type\": \"RWD\", \"speed\": 7.5, \"handling\": 6.1, \"acceleration\": 4.9, \"launch\": 5.1, \"braking\": 4.3, \"Offroad\": 4.4, \"Horse_Power\": 542.0, \"Weight_lbs\": 3865.0}, {\"Car_Image\": \"https://www.kudosprime.com/fh5/images/cars/side/fh5_car_258.jpg?v=1\", \"Name_and_model\": \"2015 Jaguar F-Type R Coup\\u00e9\", \"Model_type\": \"GT CARS\", \"In_Game_Price\": \"110,000\", \"car_source\": \"Wheelspin\", \"stock_specs\": \"A\", \"Stock_Rating\": 777.0, \"Drive_Type\": \"RWD\", \"speed\": 7.5, \"handling\": 5.9, \"acceleration\": 5.2, \"launch\": 5.4, \"braking\": 6.0, \"Offroad\": 4.2, \"Horse_Power\": 550.0, \"Weight_lbs\": 3638.0}, {\"Car_Image\": \"https://www.kudosprime.com/fh5/images/cars/side/fh5_car_260.jpg?v=1\", \"Name_and_model\": \"2015 Jaguar XE-S\", \"Model_type\": \"SUPER SALOONS\", \"In_Game_Price\": \"57,000\", \"car_source\": \"Autoshow\", \"stock_specs\": \"B\", \"Stock_Rating\": 671.0, \"Drive_Type\": \"RWD\", \"speed\": 6.8, \"handling\": 5.5, \"acceleration\": 4.7, \"launch\": 4.8, \"braking\": 3.7, \"Offroad\": 4.9, \"Horse_Power\": 340.0, \"Weight_lbs\": 3787.0}, {\"Car_Image\": \"https://www.kudosprime.com/fh5/images/cars/side/fh5_car_259.jpg?v=1\", \"Name_and_model\": \"2015 Jaguar XFR-S\", \"Model_type\": \"SUPER SALOONS\", \"In_Game_Price\": \"110,000\", \"car_source\": \"Autoshow\", \"stock_specs\": \"A\", \"Stock_Rating\": 728.0, \"Drive_Type\": \"RWD\", \"speed\": 7.5, \"handling\": 5.7, \"acceleration\": 5.0, \"launch\": 5.2, \"braking\": 4.2, \"Offroad\": 4.6, \"Horse_Power\": 550.0, \"Weight_lbs\": 4380.0}, {\"Car_Image\": \"https://www.kudosprime.com/fh5/images/cars/side/fh5_car_562.jpg?v=1\", \"Name_and_model\": \"2015 Jaguar XKR-S\", \"Model_type\": \"TRACK TOYS\", \"In_Game_Price\": \"250,000\", \"car_source\": \"Season Event\", \"stock_specs\": \"A\", \"Stock_Rating\": 778.0, \"Drive_Type\": \"RWD\", \"speed\": 7.2, \"handling\": 6.0, \"acceleration\": 5.2, \"launch\": 5.4, \"braking\": 6.4, \"Offroad\": 4.5, \"Horse_Power\": 542.0, \"Weight_lbs\": 3977.0}, {\"Car_Image\": \"https://www.kudosprime.com/fh5/images/cars/side/fh5_car_261.jpg?v=1\", \"Name_and_model\": \"2016 Jaguar F-TYPE Project 7\", \"Model_type\": \"TRACK TOYS\", \"In_Game_Price\": \"190,000\", \"car_source\": \"Wheelspin\", \"stock_specs\": \"A\", \"Stock_Rating\": 786.0, \"Drive_Type\": \"RWD\", \"speed\": 7.0, \"handling\": 6.3, \"acceleration\": 5.1, \"launch\": 5.4, \"braking\": 6.5, \"Offroad\": 4.3, \"Horse_Power\": 567.0, \"Weight_lbs\": 3571.0}, {\"Car_Image\": \"https://www.kudosprime.com/fh5/images/cars/side/fh5_car_262.jpg?v=1\", \"Name_and_model\": \"2017 Jaguar F-PACE S\", \"Model_type\": \"SPORTS UTILITY HEROES\", \"In_Game_Price\": \"55,000\", \"car_source\": \"Autoshow\", \"stock_specs\": \"B\", \"Stock_Rating\": 674.0, \"Drive_Type\": \"AWD\", \"speed\": 6.0, \"handling\": 5.0, \"acceleration\": 5.4, \"launch\": 4.8, \"braking\": 3.8, \"Offroad\": 6.5, \"Horse_Power\": 380.0, \"Weight_lbs\": 4015.0}, {\"Car_Image\": \"https://www.kudosprime.com/fh5/images/cars/side/fh5_car_263.jpg?v=1\", \"Name_and_model\": \"2018 Jaguar I-PACE\", \"Model_type\": \"SPORTS UTILITY HEROES\", \"In_Game_Price\": \"87,000\", \"car_source\": \"Autoshow\", \"stock_specs\": \"A\", \"Stock_Rating\": 705.0, \"Drive_Type\": \"AWD\", \"speed\": 4.5, \"handling\": 4.9, \"acceleration\": 4.5, \"launch\": 4.7, \"braking\": 3.7, \"Offroad\": 5.8, \"Horse_Power\": 394.0, \"Weight_lbs\": 4868.0}, {\"Car_Image\": \"https://www.kudosprime.com/fh5/images/cars/side/fh5_car_264.jpg?v=1\", \"Name_and_model\": \"1976 Jeep CJ5 Renegade\", \"Model_type\": \"PICK-UP & 4X4'S\", \"In_Game_Price\": \"60,000\", \"car_source\": \"Autoshow\", \"stock_specs\": \"D\", \"Stock_Rating\": 431.0, \"Drive_Type\": \"AWD\", \"speed\": 3.7, \"handling\": 3.0, \"acceleration\": 4.3, \"launch\": 5.3, \"braking\": 2.6, \"Offroad\": 7.6, \"Horse_Power\": 151.0, \"Weight_lbs\": 2271.0}, {\"Car_Image\": \"https://www.kudosprime.com/fh5/images/cars/side/fh5_car_265.jpg?v=1\", \"Name_and_model\": \"2012 Jeep Wrangler Rubicon\", \"Model_type\": \"PICK-UP & 4X4'S\", \"In_Game_Price\": \"50,000\", \"car_source\": \"Autoshow\", \"stock_specs\": \"D\", \"Stock_Rating\": 463.0, \"Drive_Type\": \"AWD\", \"speed\": 4.6, \"handling\": 3.1, \"acceleration\": 4.0, \"launch\": 3.2, \"braking\": 2.4, \"Offroad\": 8.0, \"Horse_Power\": 285.0, \"Weight_lbs\": 4132.0}, {\"Car_Image\": \"https://www.kudosprime.com/fh5/images/cars/side/fh5_car_266.jpg?v=1\", \"Name_and_model\": \"2014 Jeep Grand Cherokee SRT\", \"Model_type\": \"SPORTS UTILITY HEROES\", \"In_Game_Price\": \"80,000\", \"car_source\": \"Autoshow\", \"stock_specs\": \"B\", \"Stock_Rating\": 680.0, \"Drive_Type\": \"AWD\", \"speed\": 6.0, \"handling\": 4.1, \"acceleration\": 6.0, \"launch\": 5.8, \"braking\": 4.0, \"Offroad\": 6.7, \"Horse_Power\": 470.0, \"Weight_lbs\": 5150.0}, {\"Car_Image\": \"https://www.kudosprime.com/fh5/images/cars/side/fh5_car_267.jpg?v=1\", \"Name_and_model\": \"2016 Jeep Trailcat\", \"Model_type\": \"UNLIMITED OFFROAD\", \"In_Game_Price\": \"75,000\", \"car_source\": \"Autoshow\", \"stock_specs\": \"A\", \"Stock_Rating\": 744.0, \"Drive_Type\": \"AWD\", \"speed\": 6.2, \"handling\": 3.9, \"acceleration\": 5.5, \"launch\": 4.1, \"braking\": 4.0, \"Offroad\": 10.0, \"Horse_Power\": 707.0, \"Weight_lbs\": 4600.0}, {\"Car_Image\": \"https://www.kudosprime.com/fh5/images/cars/side/fh5_car_268.jpg?v=1\", \"Name_and_model\": \"2018 Jeep Grand Cherokee Trackhawk\", \"Model_type\": \"SPORTS UTILITY HEROES\", \"In_Game_Price\": \"73,000\", \"car_source\": \"Autoshow\", \"stock_specs\": \"A\", \"Stock_Rating\": 749.0, \"Drive_Type\": \"AWD\", \"speed\": 6.9, \"handling\": 5.1, \"acceleration\": 8.5, \"launch\": 7.8, \"braking\": 4.9, \"Offroad\": 5.6, \"Horse_Power\": 707.0, \"Weight_lbs\": 5350.0}, {\"Car_Image\": \"https://www.kudosprime.com/fh5/images/cars/side/fh5_car_269.jpg?v=1\", \"Name_and_model\": \"2020 Jeep Gladiator Rubicon\", \"Model_type\": \"PICK-UP & 4X4'S\", \"In_Game_Price\": \"45,000\", \"car_source\": \"Autoshow\", \"stock_specs\": \"D\", \"Stock_Rating\": 456.0, \"Drive_Type\": \"AWD\", \"speed\": 4.8, \"handling\": 3.0, \"acceleration\": 3.6, \"launch\": 3.2, \"braking\": 2.5, \"Offroad\": 8.4, \"Horse_Power\": 285.0, \"Weight_lbs\": 5073.0}, {\"Car_Image\": \"https://www.kudosprime.com/fh5/images/cars/side/fh5_car_270.jpg?v=1\", \"Name_and_model\": \"2002 Koenigsegg CC8S\", \"Model_type\": \"HYPERCARS\", \"In_Game_Price\": \"400,000\", \"car_source\": \"Autoshow\", \"stock_specs\": \"S1\", \"Stock_Rating\": 846.0, \"Drive_Type\": \"RWD\", \"speed\": 8.7, \"handling\": 7.6, \"acceleration\": 6.1, \"launch\": 3.8, \"braking\": 6.4, \"Offroad\": 4.7, \"Horse_Power\": 564.0, \"Weight_lbs\": 2811.0}, {\"Car_Image\": \"https://www.kudosprime.com/fh5/images/cars/side/fh5_car_271.jpg?v=1\", \"Name_and_model\": \"2008 Koenigsegg CCGT\", \"Model_type\": \"EXTREME TRACK TOYS\", \"In_Game_Price\": \"1,000,000\", \"car_source\": \"Wheelspin\", \"stock_specs\": \"S2\", \"Stock_Rating\": 965.0, \"Drive_Type\": \"RWD\", \"speed\": 7.8, \"handling\": 10.0, \"acceleration\": 6.8, \"launch\": 7.1, \"braking\": 10.0, \"Offroad\": 3.9, \"Horse_Power\": 610.0, \"Weight_lbs\": 2425.0}, {\"Car_Image\": \"https://www.kudosprime.com/fh5/images/cars/side/fh5_car_272.jpg?v=1\", \"Name_and_model\": \"2015 Koenigsegg One:1\", \"Model_type\": \"HYPERCARS\", \"In_Game_Price\": \"2,800,000\", \"car_source\": \"Autoshow\", \"stock_specs\": \"S2\", \"Stock_Rating\": 983.0, \"Drive_Type\": \"RWD\", \"speed\": 10.0, \"handling\": 9.5, \"acceleration\": 7.0, \"launch\": 7.5, \"braking\": 10.0, \"Offroad\": 4.3, \"Horse_Power\": 1341.0, \"Weight_lbs\": 2998.0}, {\"Car_Image\": \"https://www.kudosprime.com/fh5/images/cars/side/fh5_car_273.jpg?v=1\", \"Name_and_model\": \"2016 Koenigsegg Regera\", \"Model_type\": \"HYPERCARS\", \"In_Game_Price\": \"1,900,000\", \"car_source\": \"Autoshow\", \"stock_specs\": \"S2\", \"Stock_Rating\": 966.0, \"Drive_Type\": \"RWD\", \"speed\": 9.1, \"handling\": 7.9, \"acceleration\": 5.8, \"launch\": 6.2, \"braking\": 9.2, \"Offroad\": 4.2, \"Horse_Power\": 1500.0, \"Weight_lbs\": 3589.0}, {\"Car_Image\": \"https://www.kudosprime.com/fh5/images/cars/side/fh5_car_274.jpg?v=1\", \"Name_and_model\": \"2017 Koenigsegg Agera RS\", \"Model_type\": \"HYPERCARS\", \"In_Game_Price\": \"2,000,000\", \"car_source\": \"Autoshow\", \"stock_specs\": \"S2\", \"Stock_Rating\": 980.0, \"Drive_Type\": \"RWD\", \"speed\": 10.0, \"handling\": 9.7, \"acceleration\": 7.0, \"launch\": 7.6, \"braking\": 9.7, \"Offroad\": 4.3, \"Horse_Power\": 1341.0, \"Weight_lbs\": 3075.0}, {\"Car_Image\": \"https://www.kudosprime.com/fh5/images/cars/side/fh5_car_275.jpg?v=1\", \"Name_and_model\": \"2020 Koenigsegg Jesko\", \"Model_type\": \"HYPERCARS\", \"In_Game_Price\": \"2,800,000\", \"car_source\": \"Autoshow\", \"stock_specs\": \"S2\", \"Stock_Rating\": 971.0, \"Drive_Type\": \"RWD\", \"speed\": 10.0, \"handling\": 10.0, \"acceleration\": 6.9, \"launch\": 7.4, \"braking\": 9.0, \"Offroad\": 4.4, \"Horse_Power\": 1280.0, \"Weight_lbs\": 3131.0}, {\"Car_Image\": \"https://www.kudosprime.com/fh5/images/cars/side/fh5_car_276.jpg?v=1\", \"Name_and_model\": \"2013 KTM X-Bow R\", \"Model_type\": \"TRACK TOYS\", \"In_Game_Price\": \"105,000\", \"car_source\": \"Autoshow\", \"stock_specs\": \"S1\", \"Stock_Rating\": 802.0, \"Drive_Type\": \"RWD\", \"speed\": 5.2, \"handling\": 8.0, \"acceleration\": 6.8, \"launch\": 7.4, \"braking\": 7.8, \"Offroad\": 3.9, \"Horse_Power\": 295.0, \"Weight_lbs\": 1786.0}, {\"Car_Image\": \"https://www.kudosprime.com/fh5/images/cars/side/fh5_car_277.jpg?v=1\", \"Name_and_model\": \"1967 Lamborghini Miura P400\", \"Model_type\": \"RARE CLASSICS\", \"In_Game_Price\": \"1,000,000\", \"car_source\": \"Autoshow\", \"stock_specs\": \"B\", \"Stock_Rating\": 625.0, \"Drive_Type\": \"RWD\", \"speed\": 5.9, \"handling\": 4.9, \"acceleration\": 3.8, \"launch\": 2.7, \"braking\": 3.1, \"Offroad\": 5.1, \"Horse_Power\": 350.0, \"Weight_lbs\": 2745.0}, {\"Car_Image\": \"https://www.kudosprime.com/fh5/images/cars/side/fh5_car_544.jpg?v=1\", \"Name_and_model\": \"1973 Lamborghini Espada 400 GT\", \"Model_type\": \"RETRO SUPERCARS\", \"In_Game_Price\": \"110,000\", \"car_source\": \"Autoshow\", \"stock_specs\": \"C\", \"Stock_Rating\": 597.0, \"Drive_Type\": \"RWD\", \"speed\": 5.8, \"handling\": 4.7, \"acceleration\": 4.1, \"launch\": 3.1, \"braking\": 3.0, \"Offroad\": 5.1, \"Horse_Power\": 350.0, \"Weight_lbs\": 3605.0}, {\"Car_Image\": \"https://www.kudosprime.com/fh5/images/cars/side/fh5_car_278.jpg?v=1\", \"Name_and_model\": \"1986 Lamborghini LM 002\", \"Model_type\": \"PICK-UP & 4X4'S\", \"In_Game_Price\": \"180,000\", \"car_source\": \"Autoshow\", \"stock_specs\": \"C\", \"Stock_Rating\": 562.0, \"Drive_Type\": \"AWD\", \"speed\": 5.3, \"handling\": 3.3, \"acceleration\": 2.9, \"launch\": 1.8, \"braking\": 3.2, \"Offroad\": 8.7, \"Horse_Power\": 450.0, \"Weight_lbs\": 5952.0}, {\"Car_Image\": \"https://www.kudosprime.com/fh5/images/cars/side/fh5_car_279.jpg?v=1\", \"Name_and_model\": \"1988 Lamborghini Countach LP5000 QV\", \"Model_type\": \"RETRO SUPERCARS\", \"In_Game_Price\": \"220,000\", \"car_source\": \"Autoshow\", \"stock_specs\": \"A\", \"Stock_Rating\": 735.0, \"Drive_Type\": \"RWD\", \"speed\": 6.8, \"handling\": 6.2, \"acceleration\": 4.7, \"launch\": 3.6, \"braking\": 4.3, \"Offroad\": 4.8, \"Horse_Power\": 455.0, \"Weight_lbs\": 3284.0}, {\"Car_Image\": \"https://www.kudosprime.com/fh5/images/cars/side/fh5_car_280.jpg?v=1\", \"Name_and_model\": \"1997 Lamborghini Diablo SV\", \"Model_type\": \"RETRO SUPERCARS\", \"In_Game_Price\": \"174,000\", \"car_source\": \"Autoshow\", \"stock_specs\": \"A\", \"Stock_Rating\": 763.0, \"Drive_Type\": \"RWD\", \"speed\": 7.7, \"handling\": 6.2, \"acceleration\": 5.2, \"launch\": 4.2, \"braking\": 4.9, \"Offroad\": 4.6, \"Horse_Power\": 530.0, \"Weight_lbs\": 3474.0}, {\"Car_Image\": \"https://www.kudosprime.com/fh5/images/cars/side/fh5_car_281.jpg?v=1\", \"Name_and_model\": \"1999 Lamborghini Diablo GTR\", \"Model_type\": \"EXTREME TRACK TOYS\", \"In_Game_Price\": \"1,000,000\", \"car_source\": \"Mastery Tree\", \"stock_specs\": \"S1\", \"Stock_Rating\": 881.0, \"Drive_Type\": \"RWD\", \"speed\": 7.8, \"handling\": 9.0, \"acceleration\": 6.8, \"launch\": 5.9, \"braking\": 7.8, \"Offroad\": 4.1, \"Horse_Power\": 590.0, \"Weight_lbs\": 3086.0}, {\"Car_Image\": \"https://www.kudosprime.com/fh5/images/cars/side/fh5_car_282.jpg?v=1\", \"Name_and_model\": \"2008 Lamborghini Revent\\u00f3n\", \"Model_type\": \"MODERN SUPERCARS\", \"In_Game_Price\": \"1,375,000\", \"car_source\": \"Car Collection\", \"stock_specs\": \"S1\", \"Stock_Rating\": 817.0, \"Drive_Type\": \"AWD\", \"speed\": 7.8, \"handling\": 7.0, \"acceleration\": 5.2, \"launch\": 4.4, \"braking\": 7.1, \"Offroad\": 5.1, \"Horse_Power\": 641.0, \"Weight_lbs\": 4015.0}, {\"Car_Image\": \"https://www.kudosprime.com/fh5/images/cars/side/fh5_car_283.jpg?v=1\", \"Name_and_model\": \"2010 Lamborghini Murci\\u00e9lago LP 670-4 SV\", \"Model_type\": \"MODERN SUPERCARS\", \"In_Game_Price\": \"500,000\", \"car_source\": \"Autoshow\", \"stock_specs\": \"S1\", \"Stock_Rating\": 818.0, \"Drive_Type\": \"AWD\", \"speed\": 7.8, \"handling\": 7.2, \"acceleration\": 5.2, \"launch\": 4.5, \"braking\": 6.9, \"Offroad\": 5.0, \"Horse_Power\": 661.0, \"Weight_lbs\": 3794.0}, {\"Car_Image\": \"https://www.kudosprime.com/fh5/images/cars/side/fh5_car_284.jpg?v=1\", \"Name_and_model\": \"2011 Lamborghini Gallardo LP 570-4 Superleggera\", \"Model_type\": \"MODERN SUPERCARS\", \"In_Game_Price\": \"280,000\", \"car_source\": \"Accolade\", \"stock_specs\": \"S1\", \"Stock_Rating\": 814.0, \"Drive_Type\": \"AWD\", \"speed\": 7.5, \"handling\": 7.1, \"acceleration\": 7.4, \"launch\": 6.9, \"braking\": 5.3, \"Offroad\": 5.0, \"Horse_Power\": 562.0, \"Weight_lbs\": 3298.0}, {\"Car_Image\": \"https://www.kudosprime.com/fh5/images/cars/side/fh5_car_285.jpg?v=1\", \"Name_and_model\": \"2011 Lamborghini Sesto Elemento\", \"Model_type\": \"EXTREME TRACK TOYS\", \"In_Game_Price\": \"2,500,000\", \"car_source\": \"Autoshow\", \"stock_specs\": \"S2\", \"Stock_Rating\": 936.0, \"Drive_Type\": \"AWD\", \"speed\": 7.8, \"handling\": 10.0, \"acceleration\": 10.0, \"launch\": 10.0, \"braking\": 10.0, \"Offroad\": 4.6, \"Horse_Power\": 571.0, \"Weight_lbs\": 2202.0}, {\"Car_Image\": \"https://www.kudosprime.com/fh5/images/cars/side/fh5_car_500.jpg?v=1\", \"Name_and_model\": \"2011 Lamborghini Sesto Elemento Forza Edition\", \"Model_type\": \"EXTREME TRACK TOYS\", \"In_Game_Price\": \"2,750,000\", \"car_source\": \"Wheelspin\", \"stock_specs\": \"S2\", \"Stock_Rating\": 998.0, \"Drive_Type\": \"AWD\", \"speed\": 8.4, \"handling\": 10.0, \"acceleration\": 10.0, \"launch\": 10.0, \"braking\": 10.0, \"Offroad\": 5.1, \"Horse_Power\": 638.0, \"Weight_lbs\": 2039.0}, {\"Car_Image\": \"https://www.kudosprime.com/fh5/images/cars/side/fh5_car_552.jpg?v=1\", \"Name_and_model\": \"2012 Lamborghini Aventador J\", \"Model_type\": \"HYPERCARS\", \"In_Game_Price\": \"2,700,000\", \"car_source\": \"Season Event\", \"stock_specs\": \"S1\", \"Stock_Rating\": 839.0, \"Drive_Type\": \"AWD\", \"speed\": 7.9, \"handling\": 7.1, \"acceleration\": 7.7, \"launch\": 7.0, \"braking\": 7.1, \"Offroad\": 5.1, \"Horse_Power\": 700.0, \"Weight_lbs\": 3816.0}, {\"Car_Image\": \"https://www.kudosprime.com/fh5/images/cars/side/fh5_car_286.jpg?v=1\", \"Name_and_model\": \"2012 Lamborghini Aventador LP700-4\", \"Model_type\": \"HYPERCARS\", \"In_Game_Price\": \"380,000\", \"car_source\": \"Autoshow\", \"stock_specs\": \"S1\", \"Stock_Rating\": 847.0, \"Drive_Type\": \"AWD\", \"speed\": 8.9, \"handling\": 7.1, \"acceleration\": 8.2, \"launch\": 7.4, \"braking\": 7.3, \"Offroad\": 5.0, \"Horse_Power\": 700.0, \"Weight_lbs\": 3816.0}, {\"Car_Image\": \"https://www.kudosprime.com/fh5/images/cars/side/fh5_car_553.jpg?v=1\", \"Name_and_model\": \"2012 Lamborghini Gallardo LP 570-4 Spyder Performante\", \"Model_type\": \"MODERN SUPERCARS\", \"In_Game_Price\": \"280,000\", \"car_source\": \"Season Event\", \"stock_specs\": \"A\", \"Stock_Rating\": 797.0, \"Drive_Type\": \"AWD\", \"speed\": 7.1, \"handling\": 6.8, \"acceleration\": 6.7, \"launch\": 6.3, \"braking\": 6.6, \"Offroad\": 5.1, \"Horse_Power\": 562.0, \"Weight_lbs\": 3618.0}, {\"Car_Image\": \"https://www.kudosprime.com/fh5/images/cars/side/fh5_car_287.jpg?v=1\", \"Name_and_model\": \"2013 Lamborghini Veneno\", \"Model_type\": \"HYPERCARS\", \"In_Game_Price\": \"3,000,000\", \"car_source\": \"Autoshow\", \"stock_specs\": \"S2\", \"Stock_Rating\": 910.0, \"Drive_Type\": \"AWD\", \"speed\": 8.2, \"handling\": 9.4, \"acceleration\": 8.8, \"launch\": 8.1, \"braking\": 9.7, \"Offroad\": 4.6, \"Horse_Power\": 740.0, \"Weight_lbs\": 3629.0}, {\"Car_Image\": \"https://www.kudosprime.com/fh5/images/cars/side/fh5_car_288.jpg?v=1\", \"Name_and_model\": \"2014 Lamborghini Hurac\\u00e1n LP 610-4\", \"Model_type\": \"MODERN SUPERCARS\", \"In_Game_Price\": \"240,000\", \"car_source\": \"Autoshow\", \"stock_specs\": \"S1\", \"Stock_Rating\": 838.0, \"Drive_Type\": \"AWD\", \"speed\": 7.8, \"handling\": 7.1, \"acceleration\": 7.8, \"launch\": 7.4, \"braking\": 7.1, \"Offroad\": 5.0, \"Horse_Power\": 602.0, \"Weight_lbs\": 3422.0}, {\"Car_Image\": \"https://www.kudosprime.com/fh5/images/cars/side/fh5_car_289.jpg?v=1\", \"Name_and_model\": \"2016 Lamborghini Aventador Superveloce\", \"Model_type\": \"HYPERCARS\", \"In_Game_Price\": \"480,000\", \"car_source\": \"Autoshow\", \"stock_specs\": \"S1\", \"Stock_Rating\": 872.0, \"Drive_Type\": \"AWD\", \"speed\": 8.5, \"handling\": 7.9, \"acceleration\": 8.7, \"launch\": 8.0, \"braking\": 8.1, \"Offroad\": 5.0, \"Horse_Power\": 740.0, \"Weight_lbs\": 3706.0}, {\"Car_Image\": \"https://www.kudosprime.com/fh5/images/cars/side/fh5_car_290.jpg?v=1\", \"Name_and_model\": \"2016 Lamborghini Centenario LP 770-4\", \"Model_type\": \"HYPERCARS\", \"In_Game_Price\": \"2,300,000\", \"car_source\": \"Autoshow\", \"stock_specs\": \"S1\", \"Stock_Rating\": 884.0, \"Drive_Type\": \"AWD\", \"speed\": 8.3, \"handling\": 8.7, \"acceleration\": 8.7, \"launch\": 8.0, \"braking\": 8.9, \"Offroad\": 4.6, \"Horse_Power\": 759.0, \"Weight_lbs\": 3693.0}, {\"Car_Image\": \"https://www.kudosprime.com/fh5/images/cars/side/fh5_car_550.jpg?v=2\", \"Name_and_model\": \"2018 Lamborghini Aventador SVJ\", \"Model_type\": \"HYPERCARS\", \"In_Game_Price\": \"500,000\", \"car_source\": \"Season Event\", \"stock_specs\": \"S1\", \"Stock_Rating\": 889.0, \"Drive_Type\": \"AWD\", \"speed\": 8.0, \"handling\": 8.6, \"acceleration\": 8.3, \"launch\": 7.6, \"braking\": 8.2, \"Offroad\": 4.7, \"Horse_Power\": 759.0, \"Weight_lbs\": 3607.0}, {\"Car_Image\": \"https://www.kudosprime.com/fh5/images/cars/side/fh5_car_291.jpg?v=1\", \"Name_and_model\": \"2018 Lamborghini Hurac\\u00e1n Performante\", \"Model_type\": \"TRACK TOYS\", \"In_Game_Price\": \"275,000\", \"car_source\": \"Autoshow\", \"stock_specs\": \"S1\", \"Stock_Rating\": 874.0, \"Drive_Type\": \"AWD\", \"speed\": 7.6, \"handling\": 8.2, \"acceleration\": 9.8, \"launch\": 10.0, \"braking\": 7.9, \"Offroad\": 4.7, \"Horse_Power\": 630.0, \"Weight_lbs\": 3333.0}, {\"Car_Image\": \"https://www.kudosprime.com/fh5/images/cars/side/fh5_car_292.jpg?v=1\", \"Name_and_model\": \"2019 Lamborghini Urus\", \"Model_type\": \"SPORTS UTILITY HEROES\", \"In_Game_Price\": \"150,000\", \"car_source\": \"Autoshow\", \"stock_specs\": \"A\", \"Stock_Rating\": 767.0, \"Drive_Type\": \"AWD\", \"speed\": 7.1, \"handling\": 5.6, \"acceleration\": 6.1, \"launch\": 5.1, \"braking\": 6.2, \"Offroad\": 6.1, \"Horse_Power\": 641.0, \"Weight_lbs\": 4850.0}, {\"Car_Image\": \"https://www.kudosprime.com/fh5/images/cars/side/fh5_car_545.jpg?v=1\", \"Name_and_model\": \"2020 Lamborghini Hurac\\u00e1n EVO\", \"Model_type\": \"MODERN SUPERCARS\", \"In_Game_Price\": \"340,000\", \"car_source\": \"Autoshow\", \"stock_specs\": \"S1\", \"Stock_Rating\": 851.0, \"Drive_Type\": \"AWD\", \"speed\": 7.3, \"handling\": 7.7, \"acceleration\": 9.3, \"launch\": 10.0, \"braking\": 7.4, \"Offroad\": 4.6, \"Horse_Power\": 630.0, \"Weight_lbs\": 3422.0}, {\"Car_Image\": \"https://www.kudosprime.com/fh5/images/cars/side/fh5_car_293.jpg?v=1\", \"Name_and_model\": \"1972 Land Rover Series III\", \"Model_type\": \"PICK-UP & 4X4'S\", \"In_Game_Price\": \"20,000\", \"car_source\": \"Autoshow\", \"stock_specs\": \"D\", \"Stock_Rating\": 100.0, \"Drive_Type\": \"AWD\", \"speed\": 2.6, \"handling\": 3.0, \"acceleration\": 1.6, \"launch\": 2.3, \"braking\": 2.0, \"Offroad\": 7.2, \"Horse_Power\": 69.0, \"Weight_lbs\": 3097.0}, {\"Car_Image\": \"https://www.kudosprime.com/fh5/images/cars/side/fh5_car_294.jpg?v=1\", \"Name_and_model\": \"1973 Land Rover Range Rover\", \"Model_type\": \"PICK-UP & 4X4'S\", \"In_Game_Price\": \"50,000\", \"car_source\": \"Autoshow\", \"stock_specs\": \"D\", \"Stock_Rating\": 274.0, \"Drive_Type\": \"AWD\", \"speed\": 3.3, \"handling\": 3.1, \"acceleration\": 2.3, \"launch\": 3.5, \"braking\": 2.5, \"Offroad\": 7.8, \"Horse_Power\": 135.0, \"Weight_lbs\": 3800.0}, {\"Car_Image\": \"https://www.kudosprime.com/fh5/images/cars/side/fh5_car_295.jpg?v=1\", \"Name_and_model\": \"1997 Land Rover Defender 90\", \"Model_type\": \"PICK-UP & 4X4'S\", \"In_Game_Price\": \"30,000\", \"car_source\": \"Autoshow\", \"stock_specs\": \"D\", \"Stock_Rating\": 366.0, \"Drive_Type\": \"AWD\", \"speed\": 3.8, \"handling\": 3.2, \"acceleration\": 2.7, \"launch\": 1.8, \"braking\": 2.5, \"Offroad\": 8.2, \"Horse_Power\": 182.0, \"Weight_lbs\": 3902.0}, {\"Car_Image\": \"https://www.kudosprime.com/fh5/images/cars/side/fh5_car_296.jpg?v=1\", \"Name_and_model\": \"2015 Land Rover Range Rover Sport SVR\", \"Model_type\": \"SPORTS UTILITY HEROES\", \"In_Game_Price\": \"133,000\", \"car_source\": \"Autoshow\", \"stock_specs\": \"A\", \"Stock_Rating\": 722.0, \"Drive_Type\": \"AWD\", \"speed\": 6.5, \"handling\": 4.0, \"acceleration\": 6.0, \"launch\": 6.2, \"braking\": 4.1, \"Offroad\": 7.2, \"Horse_Power\": 550.0, \"Weight_lbs\": 5148.0}, {\"Car_Image\": \"https://www.kudosprime.com/fh5/images/cars/side/fh5_car_297.jpg?v=1\", \"Name_and_model\": \"2018 Land Rover Range Rover Velar First Edition\", \"Model_type\": \"SPORTS UTILITY HEROES\", \"In_Game_Price\": \"85,000\", \"car_source\": \"Autoshow\", \"stock_specs\": \"B\", \"Stock_Rating\": 638.0, \"Drive_Type\": \"AWD\", \"speed\": 6.0, \"handling\": 4.1, \"acceleration\": 4.4, \"launch\": 4.1, \"braking\": 3.7, \"Offroad\": 6.9, \"Horse_Power\": 375.0, \"Weight_lbs\": 4676.0}, {\"Car_Image\": \"https://www.kudosprime.com/fh5/images/cars/side/fh5_car_298.jpg?v=1\", \"Name_and_model\": \"2020 Land Rover Defender 110 X\", \"Model_type\": \"SPORTS UTILITY HEROES\", \"In_Game_Price\": \"80,000\", \"car_source\": \"Autoshow\", \"stock_specs\": \"C\", \"Stock_Rating\": 534.0, \"Drive_Type\": \"AWD\", \"speed\": 5.4, \"handling\": 3.1, \"acceleration\": 4.7, \"launch\": 6.0, \"braking\": 2.9, \"Offroad\": 7.2, \"Horse_Power\": 395.0, \"Weight_lbs\": 5260.0}, {\"Car_Image\": \"https://www.kudosprime.com/fh5/images/cars/side/fh5_car_299.jpg?v=1\", \"Name_and_model\": \"1997 Lexus SC300\", \"Model_type\": \"RETRO SPORTS CARS\", \"In_Game_Price\": \"25,000\", \"car_source\": \"Autoshow\", \"stock_specs\": \"C\", \"Stock_Rating\": 555.0, \"Drive_Type\": \"RWD\", \"speed\": 5.6, \"handling\": 5.1, \"acceleration\": 4.0, \"launch\": 3.1, \"braking\": 3.0, \"Offroad\": 5.5, \"Horse_Power\": 225.0, \"Weight_lbs\": 3560.0}, {\"Car_Image\": \"https://www.kudosprime.com/fh5/images/cars/side/fh5_car_300.jpg?v=1\", \"Name_and_model\": \"2010 Lexus LFA\", \"Model_type\": \"MODERN SUPERCARS\", \"In_Game_Price\": \"500,000\", \"car_source\": \"Autoshow\", \"stock_specs\": \"S1\", \"Stock_Rating\": 810.0, \"Drive_Type\": \"RWD\", \"speed\": 7.4, \"handling\": 6.6, \"acceleration\": 5.8, \"launch\": 6.0, \"braking\": 7.0, \"Offroad\": 4.5, \"Horse_Power\": 552.0, \"Weight_lbs\": 3263.0}, {\"Car_Image\": \"https://www.kudosprime.com/fh5/images/cars/side/fh5_car_301.jpg?v=1\", \"Name_and_model\": \"2015 Lexus RC F\", \"Model_type\": \"SUPER SALOONS\", \"In_Game_Price\": \"75,000\", \"car_source\": \"Autoshow\", \"stock_specs\": \"A\", \"Stock_Rating\": 741.0, \"Drive_Type\": \"RWD\", \"speed\": 6.7, \"handling\": 5.9, \"acceleration\": 5.0, \"launch\": 5.2, \"braking\": 5.2, \"Offroad\": 4.8, \"Horse_Power\": 467.0, \"Weight_lbs\": 3957.0}, {\"Car_Image\": \"https://www.kudosprime.com/fh5/images/cars/side/fh5_car_302.jpg?v=1\", \"Name_and_model\": \"2014 Local Motors Rally Fighter\", \"Model_type\": \"UNLIMITED OFFROAD\", \"In_Game_Price\": \"100,000\", \"car_source\": \"Autoshow\", \"stock_specs\": \"A\", \"Stock_Rating\": 716.0, \"Drive_Type\": \"RWD\", \"speed\": 6.0, \"handling\": 3.8, \"acceleration\": 4.5, \"launch\": 3.6, \"braking\": 4.0, \"Offroad\": 10.0, \"Horse_Power\": 430.0, \"Weight_lbs\": 3800.0}, {\"Car_Image\": \"https://www.kudosprime.com/fh5/images/cars/side/fh5_car_303.jpg?v=1\", \"Name_and_model\": \"1969 Lola #6 Penske Sunoco T70 MkIIIB\", \"Model_type\": \"CLASSIC RACERS\", \"In_Game_Price\": \"850,000\", \"car_source\": \"Autoshow\", \"stock_specs\": \"S1\", \"Stock_Rating\": 818.0, \"Drive_Type\": \"RWD\", \"speed\": 7.1, \"handling\": 5.7, \"acceleration\": 7.0, \"launch\": 7.7, \"braking\": 4.8, \"Offroad\": 4.2, \"Horse_Power\": 460.0, \"Weight_lbs\": 1852.0}, {\"Car_Image\": \"https://www.kudosprime.com/fh5/images/cars/side/fh5_car_304.jpg?v=1\", \"Name_and_model\": \"1971 Lotus Elan Sprint\", \"Model_type\": \"CLASSIC SPORTS CARS\", \"In_Game_Price\": \"57,000\", \"car_source\": \"Autoshow\", \"stock_specs\": \"D\", \"Stock_Rating\": 443.0, \"Drive_Type\": \"RWD\", \"speed\": 4.6, \"handling\": 4.0, \"acceleration\": 3.5, \"launch\": 2.5, \"braking\": 2.4, \"Offroad\": 4.9, \"Horse_Power\": 126.0, \"Weight_lbs\": 1640.0}, {\"Car_Image\": \"https://www.kudosprime.com/fh5/images/cars/side/fh5_car_305.jpg?v=1\", \"Name_and_model\": \"1997 Lotus Elise GT1\", \"Model_type\": \"RETRO SUPERCARS\", \"In_Game_Price\": \"1,800,000\", \"car_source\": \"Autoshow\", \"stock_specs\": \"A\", \"Stock_Rating\": 794.0, \"Drive_Type\": \"RWD\", \"speed\": 6.4, \"handling\": 8.1, \"acceleration\": 5.6, \"launch\": 3.4, \"braking\": 7.1, \"Offroad\": 4.6, \"Horse_Power\": 350.0, \"Weight_lbs\": 2425.0}, {\"Car_Image\": \"https://www.kudosprime.com/fh5/images/cars/side/fh5_car_306.jpg?v=1\", \"Name_and_model\": \"1999 Lotus Elise Series 1 Sport 190\", \"Model_type\": \"RETRO SPORTS CARS\", \"In_Game_Price\": \"81,000\", \"car_source\": \"Autoshow\", \"stock_specs\": \"A\", \"Stock_Rating\": 711.0, \"Drive_Type\": \"RWD\", \"speed\": 5.3, \"handling\": 6.0, \"acceleration\": 5.8, \"launch\": 4.8, \"braking\": 5.1, \"Offroad\": 4.8, \"Horse_Power\": 190.0, \"Weight_lbs\": 1477.0}, {\"Car_Image\": \"https://www.kudosprime.com/fh5/images/cars/side/fh5_car_307.jpg?v=1\", \"Name_and_model\": \"2012 Lotus Exige S\", \"Model_type\": \"MODERN SPORTS CARS\", \"In_Game_Price\": \"85,000\", \"car_source\": \"Autoshow\", \"stock_specs\": \"A\", \"Stock_Rating\": 754.0, \"Drive_Type\": \"RWD\", \"speed\": 6.4, \"handling\": 6.3, \"acceleration\": 6.5, \"launch\": 6.2, \"braking\": 5.4, \"Offroad\": 4.8, \"Horse_Power\": 345.0, \"Weight_lbs\": 2593.0}, {\"Car_Image\": \"https://www.kudosprime.com/fh5/images/cars/side/fh5_car_308.jpg?v=1\", \"Name_and_model\": \"2016 Lotus 3-Eleven\", \"Model_type\": \"TRACK TOYS\", \"In_Game_Price\": \"150,000\", \"car_source\": \"Autoshow\", \"stock_specs\": \"S1\", \"Stock_Rating\": 839.0, \"Drive_Type\": \"RWD\", \"speed\": 6.5, \"handling\": 7.7, \"acceleration\": 7.5, \"launch\": 7.8, \"braking\": 7.1, \"Offroad\": 4.6, \"Horse_Power\": 410.0, \"Weight_lbs\": 2103.0}, {\"Car_Image\": \"https://www.kudosprime.com/fh5/images/cars/side/fh5_car_309.jpg?v=1\", \"Name_and_model\": \"2020 Lotus Evija\", \"Model_type\": \"HYPERCARS\", \"In_Game_Price\": \"2,500,000\", \"car_source\": \"Autoshow\", \"stock_specs\": \"S2\", \"Stock_Rating\": 994.0, \"Drive_Type\": \"AWD\", \"speed\": 7.6, \"handling\": 7.9, \"acceleration\": 7.6, \"launch\": 8.5, \"braking\": 10.0, \"Offroad\": 3.9, \"Horse_Power\": 1973.0, \"Weight_lbs\": 3704.0}, {\"Car_Image\": \"https://www.kudosprime.com/fh5/images/cars/side/fh5_car_557.jpg?v=1\", \"Name_and_model\": \"1939 Maserati 8CTF\", \"Model_type\": \"VINTAGE RACERS\", \"In_Game_Price\": \"10,000,000\", \"car_source\": \"Season Event\", \"stock_specs\": \"B\", \"Stock_Rating\": 657.0, \"Drive_Type\": \"RWD\", \"speed\": 6.7, \"handling\": 3.9, \"acceleration\": 3.8, \"launch\": 3.2, \"braking\": 2.9, \"Offroad\": 4.0, \"Horse_Power\": 360.0, \"Weight_lbs\": 1764.0}, {\"Car_Image\": \"https://www.kudosprime.com/fh5/images/cars/side/fh5_car_310.jpg?v=1\", \"Name_and_model\": \"2008 Maserati MC12 Versione Corsa\", \"Model_type\": \"EXTREME TRACK TOYS\", \"In_Game_Price\": \"2,500,000\", \"car_source\": \"Autoshow\", \"stock_specs\": \"S2\", \"Stock_Rating\": 961.0, \"Drive_Type\": \"RWD\", \"speed\": 7.6, \"handling\": 10.0, \"acceleration\": 8.1, \"launch\": 8.8, \"braking\": 10.0, \"Offroad\": 3.9, \"Horse_Power\": 756.0, \"Weight_lbs\": 2646.0}, {\"Car_Image\": \"https://www.kudosprime.com/fh5/images/cars/side/fh5_car_311.jpg?v=1\", \"Name_and_model\": \"2010 Maserati Gran Turismo S\", \"Model_type\": \"GT CARS\", \"In_Game_Price\": \"156,000\", \"car_source\": \"Autoshow\", \"stock_specs\": \"A\", \"Stock_Rating\": 702.0, \"Drive_Type\": \"RWD\", \"speed\": 6.9, \"handling\": 6.0, \"acceleration\": 5.4, \"launch\": 4.8, \"braking\": 4.5, \"Offroad\": 5.0, \"Horse_Power\": 432.0, \"Weight_lbs\": 4146.0}, {\"Car_Image\": \"https://www.kudosprime.com/fh5/images/cars/side/fh5_car_501.jpg?v=1\", \"Name_and_model\": \"2010 Maserati Gran Turismo S Forza Edition\", \"Model_type\": \"TRACK TOYS\", \"In_Game_Price\": \"500,000\", \"car_source\": \"Wheelspin\", \"stock_specs\": \"S1\", \"Stock_Rating\": 900.0, \"Drive_Type\": \"RWD\", \"speed\": 7.9, \"handling\": 8.9, \"acceleration\": 6.7, \"launch\": 7.3, \"braking\": 9.6, \"Offroad\": 3.8, \"Horse_Power\": 603.0, \"Weight_lbs\": 3086.0}, {\"Car_Image\": \"https://www.kudosprime.com/fh5/images/cars/side/fh5_car_312.jpg?v=1\", \"Name_and_model\": \"2017 Maserati Levante S\", \"Model_type\": \"SPORTS UTILITY HEROES\", \"In_Game_Price\": \"85,000\", \"car_source\": \"Autoshow\", \"stock_specs\": \"B\", \"Stock_Rating\": 696.0, \"Drive_Type\": \"AWD\", \"speed\": 6.6, \"handling\": 5.0, \"acceleration\": 5.1, \"launch\": 2.4, \"braking\": 4.3, \"Offroad\": 6.4, \"Horse_Power\": 424.0, \"Weight_lbs\": 4649.0}, {\"Car_Image\": \"https://www.kudosprime.com/fh5/images/cars/side/fh5_car_313.jpg?v=1\", \"Name_and_model\": \"1990 Mazda Savanna RX-7\", \"Model_type\": \"RETRO SPORTS CARS\", \"In_Game_Price\": \"25,000\", \"car_source\": \"Wheelspin\", \"stock_specs\": \"C\", \"Stock_Rating\": 558.0, \"Drive_Type\": \"RWD\", \"speed\": 5.7, \"handling\": 4.9, \"acceleration\": 4.3, \"launch\": 3.3, \"braking\": 3.1, \"Offroad\": 5.1, \"Horse_Power\": 200.0, \"Weight_lbs\": 2981.0}, {\"Car_Image\": \"https://www.kudosprime.com/fh5/images/cars/side/fh5_car_314.jpg?v=1\", \"Name_and_model\": \"1994 Mazda MX-5 Miata\", \"Model_type\": \"RETRO SPORTS CARS\", \"In_Game_Price\": \"25,000\", \"car_source\": \"Autoshow\", \"stock_specs\": \"D\", \"Stock_Rating\": 445.0, \"Drive_Type\": \"RWD\", \"speed\": 4.5, \"handling\": 4.5, \"acceleration\": 3.4, \"launch\": 2.3, \"braking\": 2.5, \"Offroad\": 4.9, \"Horse_Power\": 128.0, \"Weight_lbs\": 2330.0}, {\"Car_Image\": \"https://www.kudosprime.com/fh5/images/cars/side/fh5_car_315.jpg?v=1\", \"Name_and_model\": \"1997 Mazda RX-7\", \"Model_type\": \"RETRO SPORTS CARS\", \"In_Game_Price\": \"35,000\", \"car_source\": \"Autoshow\", \"stock_specs\": \"B\", \"Stock_Rating\": 645.0, \"Drive_Type\": \"RWD\", \"speed\": 6.6, \"handling\": 5.5, \"acceleration\": 4.8, \"launch\": 3.0, \"braking\": 3.3, \"Offroad\": 5.0, \"Horse_Power\": 261.0, \"Weight_lbs\": 2831.0}, {\"Car_Image\": \"https://www.kudosprime.com/fh5/images/cars/side/fh5_car_316.jpg?v=1\", \"Name_and_model\": \"2002 Mazda RX-7 Spirit R Type-A\", \"Model_type\": \"RETRO SPORTS CARS\", \"In_Game_Price\": \"30,000\", \"car_source\": \"Autoshow\", \"stock_specs\": \"B\", \"Stock_Rating\": 687.0, \"Drive_Type\": \"RWD\", \"speed\": 6.5, \"handling\": 5.7, \"acceleration\": 5.0, \"launch\": 3.5, \"braking\": 4.1, \"Offroad\": 5.0, \"Horse_Power\": 276.0, \"Weight_lbs\": 2800.0}, {\"Car_Image\": \"https://www.kudosprime.com/fh5/images/cars/side/fh5_car_317.jpg?v=1\", \"Name_and_model\": \"2005 Mazda Mazdaspeed MX-5\", \"Model_type\": \"RETRO SPORTS CARS\", \"In_Game_Price\": \"25,000\", \"car_source\": \"Autoshow\", \"stock_specs\": \"C\", \"Stock_Rating\": 587.0, \"Drive_Type\": \"RWD\", \"speed\": 5.1, \"handling\": 5.5, \"acceleration\": 3.4, \"launch\": 3.8, \"braking\": 3.5, \"Offroad\": 4.6, \"Horse_Power\": 178.0, \"Weight_lbs\": 2529.0}, {\"Car_Image\": \"https://www.kudosprime.com/fh5/images/cars/side/fh5_car_318.jpg?v=1\", \"Name_and_model\": \"2011 Mazda RX-8 R3\", \"Model_type\": \"MODERN SPORTS CARS\", \"In_Game_Price\": \"27,000\", \"car_source\": \"Autoshow\", \"stock_specs\": \"B\", \"Stock_Rating\": 624.0, \"Drive_Type\": \"RWD\", \"speed\": 5.8, \"handling\": 5.5, \"acceleration\": 4.6, \"launch\": 3.8, \"braking\": 3.7, \"Offroad\": 5.1, \"Horse_Power\": 232.0, \"Weight_lbs\": 3065.0}, {\"Car_Image\": \"https://www.kudosprime.com/fh5/images/cars/side/fh5_car_319.jpg?v=1\", \"Name_and_model\": \"2013 Mazda MX-5\", \"Model_type\": \"MODERN SPORTS CARS\", \"In_Game_Price\": \"26,000\", \"car_source\": \"Autoshow\", \"stock_specs\": \"C\", \"Stock_Rating\": 549.0, \"Drive_Type\": \"RWD\", \"speed\": 4.8, \"handling\": 5.4, \"acceleration\": 3.9, \"launch\": 3.4, \"braking\": 3.4, \"Offroad\": 5.1, \"Horse_Power\": 167.0, \"Weight_lbs\": 2593.0}, {\"Car_Image\": \"https://www.kudosprime.com/fh5/images/cars/side/fh5_car_320.jpg?v=1\", \"Name_and_model\": \"2016 Mazda MX-5\", \"Model_type\": \"MODERN SPORTS CARS\", \"In_Game_Price\": \"35,000\", \"car_source\": \"Autoshow\", \"stock_specs\": \"B\", \"Stock_Rating\": 620.0, \"Drive_Type\": \"RWD\", \"speed\": 5.4, \"handling\": 5.6, \"acceleration\": 4.6, \"launch\": 4.7, \"braking\": 3.7, \"Offroad\": 5.1, \"Horse_Power\": 155.0, \"Weight_lbs\": 2310.0}, {\"Car_Image\": \"https://www.kudosprime.com/fh5/images/cars/side/fh5_car_321.jpg?v=1\", \"Name_and_model\": \"1993 McLaren F1\", \"Model_type\": \"RETRO SUPERCARS\", \"In_Game_Price\": \"15,000,000\", \"car_source\": \"Wheelspin\", \"stock_specs\": \"S1\", \"Stock_Rating\": 817.0, \"Drive_Type\": \"RWD\", \"speed\": 8.8, \"handling\": 6.6, \"acceleration\": 6.3, \"launch\": 5.8, \"braking\": 5.4, \"Offroad\": 4.5, \"Horse_Power\": 627.0, \"Weight_lbs\": 2840.0}, {\"Car_Image\": \"https://www.kudosprime.com/fh5/images/cars/side/fh5_car_322.jpg?v=1\", \"Name_and_model\": \"1997 McLaren F1 GT\", \"Model_type\": \"RETRO SUPERCARS\", \"In_Game_Price\": \"15,000,000\", \"car_source\": \"Autoshow\", \"stock_specs\": \"S1\", \"Stock_Rating\": 866.0, \"Drive_Type\": \"RWD\", \"speed\": 8.4, \"handling\": 8.2, \"acceleration\": 6.2, \"launch\": 5.8, \"braking\": 7.0, \"Offroad\": 4.3, \"Horse_Power\": 618.0, \"Weight_lbs\": 2469.0}, {\"Car_Image\": \"https://www.kudosprime.com/fh5/images/cars/side/fh5_car_323.jpg?v=1\", \"Name_and_model\": \"2013 McLaren P1\", \"Model_type\": \"HYPERCARS\", \"In_Game_Price\": \"1,350,000\", \"car_source\": \"Autoshow\", \"stock_specs\": \"S2\", \"Stock_Rating\": 928.0, \"Drive_Type\": \"RWD\", \"speed\": 9.1, \"handling\": 8.4, \"acceleration\": 6.9, \"launch\": 7.5, \"braking\": 9.5, \"Offroad\": 4.3, \"Horse_Power\": 903.0, \"Weight_lbs\": 3296.0}, {\"Car_Image\": \"https://www.kudosprime.com/fh5/images/cars/side/fh5_car_325.jpg?v=1\", \"Name_and_model\": \"2015 McLaren 570S Coup\\u00e9\", \"Model_type\": \"MODERN SUPERCARS\", \"In_Game_Price\": \"224,000\", \"car_source\": \"Autoshow\", \"stock_specs\": \"S1\", \"Stock_Rating\": 824.0, \"Drive_Type\": \"RWD\", \"speed\": 7.3, \"handling\": 6.9, \"acceleration\": 6.3, \"launch\": 4.4, \"braking\": 7.1, \"Offroad\": 4.4, \"Horse_Power\": 562.0, \"Weight_lbs\": 3201.0}, {\"Car_Image\": \"https://www.kudosprime.com/fh5/images/cars/side/fh5_car_324.jpg?v=1\", \"Name_and_model\": \"2015 McLaren 650S Coup\\u00e9\", \"Model_type\": \"MODERN SUPERCARS\", \"In_Game_Price\": \"224,000\", \"car_source\": \"Autoshow\", \"stock_specs\": \"S1\", \"Stock_Rating\": 824.0, \"Drive_Type\": \"RWD\", \"speed\": 7.6, \"handling\": 7.2, \"acceleration\": 6.8, \"launch\": 4.8, \"braking\": 7.5, \"Offroad\": 4.6, \"Horse_Power\": 562.0, \"Weight_lbs\": 3201.0}, {\"Car_Image\": \"https://www.kudosprime.com/fh5/images/cars/side/fh5_car_328.jpg?v=1\", \"Name_and_model\": \"2018 McLaren 600LT Coup\\u00e9\", \"Model_type\": \"TRACK TOYS\", \"In_Game_Price\": \"260,000\", \"car_source\": \"Autoshow\", \"stock_specs\": \"S1\", \"Stock_Rating\": 868.0, \"Drive_Type\": \"RWD\", \"speed\": 7.4, \"handling\": 7.7, \"acceleration\": 6.7, \"launch\": 5.3, \"braking\": 7.8, \"Offroad\": 4.3, \"Horse_Power\": 591.0, \"Weight_lbs\": 2989.0}, {\"Car_Image\": \"https://www.kudosprime.com/fh5/images/cars/side/fh5_car_326.jpg?v=1\", \"Name_and_model\": \"2018 McLaren 720S Coup\\u00e9\", \"Model_type\": \"MODERN SUPERCARS\", \"In_Game_Price\": \"340,000\", \"car_source\": \"Car Collection\", \"stock_specs\": \"S1\", \"Stock_Rating\": 899.0, \"Drive_Type\": \"RWD\", \"speed\": 8.4, \"handling\": 7.7, \"acceleration\": 6.9, \"launch\": 7.6, \"braking\": 8.8, \"Offroad\": 4.5, \"Horse_Power\": 710.0, \"Weight_lbs\": 3128.0}, {\"Car_Image\": \"https://www.kudosprime.com/fh5/images/cars/side/fh5_car_327.jpg?v=1\", \"Name_and_model\": \"2018 McLaren Senna\", \"Model_type\": \"HYPERCARS\", \"In_Game_Price\": \"1,000,000\", \"car_source\": \"Autoshow\", \"stock_specs\": \"S2\", \"Stock_Rating\": 934.0, \"Drive_Type\": \"RWD\", \"speed\": 8.0, \"handling\": 9.3, \"acceleration\": 7.2, \"launch\": 7.8, \"braking\": 10.0, \"Offroad\": 4.2, \"Horse_Power\": 789.0, \"Weight_lbs\": 2886.0}, {\"Car_Image\": \"https://www.kudosprime.com/fh5/images/cars/side/fh5_car_329.jpg?v=1\", \"Name_and_model\": \"2019 McLaren 720S Spider\", \"Model_type\": \"MODERN SUPERCARS\", \"In_Game_Price\": \"340,000\", \"car_source\": \"Autoshow\", \"stock_specs\": \"S1\", \"Stock_Rating\": 887.0, \"Drive_Type\": \"RWD\", \"speed\": 7.5, \"handling\": 7.4, \"acceleration\": 6.9, \"launch\": 7.5, \"braking\": 8.9, \"Offroad\": 4.4, \"Horse_Power\": 711.0, \"Weight_lbs\": 3236.0}, {\"Car_Image\": \"https://www.kudosprime.com/fh5/images/cars/side/fh5_car_330.jpg?v=1\", \"Name_and_model\": \"2019 McLaren Speedtail\", \"Model_type\": \"HYPERCARS\", \"In_Game_Price\": \"2,250,000\", \"car_source\": \"Autoshow\", \"stock_specs\": \"S2\", \"Stock_Rating\": 910.0, \"Drive_Type\": \"RWD\", \"speed\": 9.6, \"handling\": 7.4, \"acceleration\": 6.8, \"launch\": 7.4, \"braking\": 7.4, \"Offroad\": 3.7, \"Horse_Power\": 1036.0, \"Weight_lbs\": 3521.0}, {\"Car_Image\": \"https://www.kudosprime.com/fh5/images/cars/side/fh5_car_331.jpg?v=1\", \"Name_and_model\": \"2020 McLaren GT\", \"Model_type\": \"SUPER GT\", \"In_Game_Price\": \"210,000\", \"car_source\": \"Autoshow\", \"stock_specs\": \"S1\", \"Stock_Rating\": 823.0, \"Drive_Type\": \"RWD\", \"speed\": 7.4, \"handling\": 6.5, \"acceleration\": 6.6, \"launch\": 4.3, \"braking\": 5.3, \"Offroad\": 4.6, \"Horse_Power\": 611.0, \"Weight_lbs\": 3384.0}, {\"Car_Image\": \"https://www.kudosprime.com/fh5/images/cars/side/fh5_car_332.jpg?v=1\", \"Name_and_model\": \"2016 Mercedes-AMG C 63 S Coup\\u00e9\", \"Model_type\": \"SUPER SALOONS\", \"In_Game_Price\": \"90,000\", \"car_source\": \"Autoshow\", \"stock_specs\": \"A\", \"Stock_Rating\": 755.0, \"Drive_Type\": \"RWD\", \"speed\": 7.0, \"handling\": 5.9, \"acceleration\": 5.2, \"launch\": 5.5, \"braking\": 5.6, \"Offroad\": 4.6, \"Horse_Power\": 503.0, \"Weight_lbs\": 3968.0}, {\"Car_Image\": \"https://www.kudosprime.com/fh5/images/cars/side/fh5_car_333.jpg?v=1\", \"Name_and_model\": \"2017 Mercedes-AMG GT R\", \"Model_type\": \"SUPER GT\", \"In_Game_Price\": \"295,000\", \"car_source\": \"Autoshow\", \"stock_specs\": \"S1\", \"Stock_Rating\": 837.0, \"Drive_Type\": \"RWD\", \"speed\": 7.5, \"handling\": 7.0, \"acceleration\": 6.4, \"launch\": 7.0, \"braking\": 7.2, \"Offroad\": 4.5, \"Horse_Power\": 577.0, \"Weight_lbs\": 3428.0}, {\"Car_Image\": \"https://www.kudosprime.com/fh5/images/cars/side/fh5_car_335.jpg?v=1\", \"Name_and_model\": \"2018 Mercedes-AMG E 63 S\", \"Model_type\": \"SUPER SALOONS\", \"In_Game_Price\": \"135,000\", \"car_source\": \"Wheelspin\", \"stock_specs\": \"A\", \"Stock_Rating\": 778.0, \"Drive_Type\": \"AWD\", \"speed\": 7.6, \"handling\": 6.0, \"acceleration\": 8.7, \"launch\": 9.7, \"braking\": 4.8, \"Offroad\": 5.1, \"Horse_Power\": 603.0, \"Weight_lbs\": 4515.0}, {\"Car_Image\": \"https://www.kudosprime.com/fh5/images/cars/side/fh5_car_334.jpg?v=1\", \"Name_and_model\": \"2018 Mercedes-AMG GT 4-Door Coup\\u00e9\", \"Model_type\": \"SUPER SALOONS\", \"In_Game_Price\": \"175,000\", \"car_source\": \"Autoshow\", \"stock_specs\": \"A\", \"Stock_Rating\": 768.0, \"Drive_Type\": \"AWD\", \"speed\": 8.0, \"handling\": 5.8, \"acceleration\": 8.4, \"launch\": 9.4, \"braking\": 4.5, \"Offroad\": 5.2, \"Horse_Power\": 630.0, \"Weight_lbs\": 4508.0}, {\"Car_Image\": \"https://www.kudosprime.com/fh5/images/cars/side/fh5_car_336.jpg?v=1\", \"Name_and_model\": \"2021 Mercedes-AMG Mercedes-AMG ONE\", \"Model_type\": \"HYPERCARS\", \"In_Game_Price\": \"2,700,000\", \"car_source\": \"Autoshow\", \"stock_specs\": \"S2\", \"Stock_Rating\": 927.0, \"Drive_Type\": \"AWD\", \"speed\": 7.7, \"handling\": 8.9, \"acceleration\": 7.5, \"launch\": 3.2, \"braking\": 10.0, \"Offroad\": 4.7, \"Horse_Power\": 877.0, \"Weight_lbs\": 3737.0}, {\"Car_Image\": \"https://www.kudosprime.com/fh5/images/cars/side/fh5_car_337.jpg?v=1\", \"Name_and_model\": \"1929 Mercedes-Benz SSK\", \"Model_type\": \"RARE CLASSICS\", \"In_Game_Price\": \"7,500,000\", \"car_source\": \"Autoshow\", \"stock_specs\": \"D\", \"Stock_Rating\": 256.0, \"Drive_Type\": \"RWD\", \"speed\": 4.1, \"handling\": 3.6, \"acceleration\": 3.0, \"launch\": 1.8, \"braking\": 1.9, \"Offroad\": 5.5, \"Horse_Power\": 200.0, \"Weight_lbs\": 3725.0}, {\"Car_Image\": \"https://www.kudosprime.com/fh5/images/cars/side/fh5_car_338.jpg?v=1\", \"Name_and_model\": \"1939 Mercedes-Benz W154\", \"Model_type\": \"VINTAGE RACERS\", \"In_Game_Price\": \"20,000,000\", \"car_source\": \"Car Collection\", \"stock_specs\": \"B\", \"Stock_Rating\": 672.0, \"Drive_Type\": \"RWD\", \"speed\": 7.9, \"handling\": 3.8, \"acceleration\": 4.1, \"launch\": 3.3, \"braking\": 2.8, \"Offroad\": 4.2, \"Horse_Power\": 483.0, \"Weight_lbs\": 2683.0}, {\"Car_Image\": \"https://www.kudosprime.com/fh5/images/cars/side/fh5_car_339.jpg?v=1\", \"Name_and_model\": \"1954 Mercedes-Benz 300 SL Coup\\u00e9\", \"Model_type\": \"RARE CLASSICS\", \"In_Game_Price\": \"1,200,000\", \"car_source\": \"Autoshow\", \"stock_specs\": \"D\", \"Stock_Rating\": 498.0, \"Drive_Type\": \"RWD\", \"speed\": 5.1, \"handling\": 4.2, \"acceleration\": 3.6, \"launch\": 2.3, \"braking\": 2.4, \"Offroad\": 5.6, \"Horse_Power\": 241.0, \"Weight_lbs\": 2960.0}, {\"Car_Image\": \"https://www.kudosprime.com/fh5/images/cars/side/fh5_car_340.jpg?v=1\", \"Name_and_model\": \"1987 Mercedes-Benz AMG Hammer Coupe\", \"Model_type\": \"RETRO SALOONS\", \"In_Game_Price\": \"165,000\", \"car_source\": \"Autoshow\", \"stock_specs\": \"B\", \"Stock_Rating\": 681.0, \"Drive_Type\": \"RWD\", \"speed\": 7.2, \"handling\": 5.5, \"acceleration\": 4.2, \"launch\": 3.0, \"braking\": 3.8, \"Offroad\": 4.7, \"Horse_Power\": 379.0, \"Weight_lbs\": 3640.0}, {\"Car_Image\": \"https://www.kudosprime.com/fh5/images/cars/side/fh5_car_341.jpg?v=1\", \"Name_and_model\": \"1990 Mercedes-Benz 190E 2.5-16 Evolution II\", \"Model_type\": \"RETRO SALOONS\", \"In_Game_Price\": \"150,000\", \"car_source\": \"Autoshow\", \"stock_specs\": \"C\", \"Stock_Rating\": 579.0, \"Drive_Type\": \"RWD\", \"speed\": 6.2, \"handling\": 4.9, \"acceleration\": 4.0, \"launch\": 3.6, \"braking\": 2.9, \"Offroad\": 4.4, \"Horse_Power\": 235.0, \"Weight_lbs\": 2954.0}, {\"Car_Image\": \"https://www.kudosprime.com/fh5/images/cars/side/fh5_car_342.jpg?v=1\", \"Name_and_model\": \"1998 Mercedes-Benz AMG CLK GTR\", \"Model_type\": \"RETRO SUPERCARS\", \"In_Game_Price\": \"2,000,000\", \"car_source\": \"Autoshow\", \"stock_specs\": \"S1\", \"Stock_Rating\": 829.0, \"Drive_Type\": \"RWD\", \"speed\": 7.5, \"handling\": 7.6, \"acceleration\": 6.1, \"launch\": 5.1, \"braking\": 6.5, \"Offroad\": 4.2, \"Horse_Power\": 622.0, \"Weight_lbs\": 3175.0}, {\"Car_Image\": \"https://www.kudosprime.com/fh5/images/cars/side/fh5_car_502.jpg?v=1\", \"Name_and_model\": \"1998 Mercedes-Benz AMG CLK GTR Forza Edition\", \"Model_type\": \"EXTREME TRACK TOYS\", \"In_Game_Price\": \"2,250,000\", \"car_source\": \"Wheelspin\", \"stock_specs\": \"S2\", \"Stock_Rating\": 998.0, \"Drive_Type\": \"RWD\", \"speed\": 7.8, \"handling\": 10.0, \"acceleration\": 8.2, \"launch\": 9.0, \"braking\": 10.0, \"Offroad\": 3.7, \"Horse_Power\": 1000.0, \"Weight_lbs\": 2315.0}, {\"Car_Image\": \"https://www.kudosprime.com/fh5/images/cars/side/fh5_car_343.jpg?v=1\", \"Name_and_model\": \"2011 Mercedes-Benz SLS AMG\", \"Model_type\": \"SUPER GT\", \"In_Game_Price\": \"200,000\", \"car_source\": \"Autoshow\", \"stock_specs\": \"S1\", \"Stock_Rating\": 804.0, \"Drive_Type\": \"RWD\", \"speed\": 7.6, \"handling\": 6.5, \"acceleration\": 5.8, \"launch\": 6.2, \"braking\": 6.4, \"Offroad\": 4.4, \"Horse_Power\": 571.0, \"Weight_lbs\": 3571.0}, {\"Car_Image\": \"https://www.kudosprime.com/fh5/images/cars/side/fh5_car_345.jpg?v=1\", \"Name_and_model\": \"2012 Mercedes-Benz C 63 AMG Coup\\u00e9 Black Series\", \"Model_type\": \"SUPER SALOONS\", \"In_Game_Price\": \"150,000\", \"car_source\": \"Autoshow\", \"stock_specs\": \"A\", \"Stock_Rating\": 768.0, \"Drive_Type\": \"RWD\", \"speed\": 7.6, \"handling\": 6.1, \"acceleration\": 5.1, \"launch\": 5.3, \"braking\": 4.9, \"Offroad\": 4.6, \"Horse_Power\": 510.0, \"Weight_lbs\": 3854.0}, {\"Car_Image\": \"https://www.kudosprime.com/fh5/images/cars/side/fh5_car_344.jpg?v=1\", \"Name_and_model\": \"2012 Mercedes-Benz SLK 55 AMG\", \"Model_type\": \"MODERN SPORTS CARS\", \"In_Game_Price\": \"78,000\", \"car_source\": \"Autoshow\", \"stock_specs\": \"A\", \"Stock_Rating\": 740.0, \"Drive_Type\": \"RWD\", \"speed\": 7.3, \"handling\": 5.9, \"acceleration\": 5.4, \"launch\": 5.7, \"braking\": 4.5, \"Offroad\": 4.8, \"Horse_Power\": 415.0, \"Weight_lbs\": 3527.0}, {\"Car_Image\": \"https://www.kudosprime.com/fh5/images/cars/side/fh5_car_347.jpg?v=1\", \"Name_and_model\": \"2013 Mercedes-Benz A 45 AMG\", \"Model_type\": \"SUPER HOT HATCH\", \"In_Game_Price\": \"65,000\", \"car_source\": \"Autoshow\", \"stock_specs\": \"A\", \"Stock_Rating\": 707.0, \"Drive_Type\": \"AWD\", \"speed\": 6.7, \"handling\": 6.2, \"acceleration\": 6.6, \"launch\": 4.5, \"braking\": 4.4, \"Offroad\": 5.1, \"Horse_Power\": 355.0, \"Weight_lbs\": 3263.0}, {\"Car_Image\": \"https://www.kudosprime.com/fh5/images/cars/side/fh5_car_348.jpg?v=1\", \"Name_and_model\": \"2013 Mercedes-Benz E 63 AMG\", \"Model_type\": \"SUPER SALOONS\", \"In_Game_Price\": \"105,000\", \"car_source\": \"Autoshow\", \"stock_specs\": \"A\", \"Stock_Rating\": 751.0, \"Drive_Type\": \"AWD\", \"speed\": 7.7, \"handling\": 6.0, \"acceleration\": 7.0, \"launch\": 7.8, \"braking\": 4.5, \"Offroad\": 5.2, \"Horse_Power\": 577.0, \"Weight_lbs\": 4277.0}, {\"Car_Image\": \"https://www.kudosprime.com/fh5/images/cars/side/fh5_car_346.jpg?v=1\", \"Name_and_model\": \"2013 Mercedes-Benz G 65 AMG\", \"Model_type\": \"PICK-UP & 4X4'S\", \"In_Game_Price\": \"350,000\", \"car_source\": \"Autoshow\", \"stock_specs\": \"B\", \"Stock_Rating\": 639.0, \"Drive_Type\": \"AWD\", \"speed\": 5.9, \"handling\": 3.2, \"acceleration\": 6.6, \"launch\": 8.0, \"braking\": 3.2, \"Offroad\": 8.0, \"Horse_Power\": 603.0, \"Weight_lbs\": 5688.0}, {\"Car_Image\": \"https://www.kudosprime.com/fh5/images/cars/side/fh5_car_350.jpg?v=1\", \"Name_and_model\": \"2014 Mercedes-Benz G 63 AMG 6x6\", \"Model_type\": \"PICK-UP & 4X4'S\", \"In_Game_Price\": \"525,000\", \"car_source\": \"Autoshow\", \"stock_specs\": \"B\", \"Stock_Rating\": 606.0, \"Drive_Type\": \"AWD\", \"speed\": 5.6, \"handling\": 3.6, \"acceleration\": 4.0, \"launch\": 6.6, \"braking\": 4.1, \"Offroad\": 9.3, \"Horse_Power\": 536.0, \"Weight_lbs\": 9050.0}, {\"Car_Image\": \"https://www.kudosprime.com/fh5/images/cars/side/fh5_car_349.jpg?v=1\", \"Name_and_model\": \"2014 Mercedes-Benz Unimog U5023\", \"Model_type\": \"TRUCKS\", \"In_Game_Price\": \"100,000\", \"car_source\": \"Autoshow\", \"stock_specs\": \"D\", \"Stock_Rating\": 103.0, \"Drive_Type\": \"AWD\", \"speed\": 2.8, \"handling\": 3.3, \"acceleration\": 1.3, \"launch\": 3.0, \"braking\": 2.7, \"Offroad\": 8.7, \"Horse_Power\": 228.0, \"Weight_lbs\": 15432.0}, {\"Car_Image\": \"https://www.kudosprime.com/fh5/images/cars/side/fh5_car_351.jpg?v=1\", \"Name_and_model\": \"2015 Mercedes-Benz #24 Tankpool24 Racing Truck\", \"Model_type\": \"TRUCKS\", \"In_Game_Price\": \"500,000\", \"car_source\": \"Autoshow\", \"stock_specs\": \"A\", \"Stock_Rating\": 702.0, \"Drive_Type\": \"RWD\", \"speed\": 5.1, \"handling\": 5.6, \"acceleration\": 5.4, \"launch\": 5.8, \"braking\": 5.0, \"Offroad\": 5.0, \"Horse_Power\": 1080.0, \"Weight_lbs\": 12125.0}, {\"Car_Image\": \"https://www.kudosprime.com/fh5/images/cars/side/fh5_car_503.jpg?v=1\", \"Name_and_model\": \"2015 Mercedes-Benz #24 Tankpool24 Racing Truck Forza Edition\", \"Model_type\": \"UNLIMITED OFFROAD\", \"In_Game_Price\": \"750,000\", \"car_source\": \"Wheelspin\", \"stock_specs\": \"A\", \"Stock_Rating\": 800.0, \"Drive_Type\": \"AWD\", \"speed\": 6.1, \"handling\": 3.3, \"acceleration\": 8.8, \"launch\": 10.0, \"braking\": 5.3, \"Offroad\": 9.7, \"Horse_Power\": 1743.0, \"Weight_lbs\": 3685.0}, {\"Car_Image\": \"https://www.kudosprime.com/fh5/images/cars/side/fh5_car_352.jpg?v=1\", \"Name_and_model\": \"2018 Mercedes-Benz X-Class\", \"Model_type\": \"PICK-UP & 4X4'S\", \"In_Game_Price\": \"65,000\", \"car_source\": \"Autoshow\", \"stock_specs\": \"D\", \"Stock_Rating\": 368.0, \"Drive_Type\": \"AWD\", \"speed\": 4.2, \"handling\": 3.2, \"acceleration\": 2.4, \"launch\": 4.2, \"braking\": 2.8, \"Offroad\": 7.8, \"Horse_Power\": 188.0, \"Weight_lbs\": 4764.0}, {\"Car_Image\": \"https://www.kudosprime.com/fh5/images/cars/side/fh5_car_541.jpg?v=1\", \"Name_and_model\": \"1970 Mercury Cyclone Spoiler\", \"Model_type\": \"CLASSIC MUSCLE\", \"In_Game_Price\": \"0\", \"car_source\": \"Autoshow\", \"stock_specs\": \"D\", \"Stock_Rating\": 491.0, \"Drive_Type\": \"RWD\", \"speed\": 5.8, \"handling\": 3.6, \"acceleration\": 3.1, \"launch\": 2.8, \"braking\": 2.2, \"Offroad\": 4.9, \"Horse_Power\": 370.0, \"Weight_lbs\": 3947.0}, {\"Car_Image\": \"https://www.kudosprime.com/fh5/images/cars/side/fh5_car_353.jpg?v=1\", \"Name_and_model\": \"1971 Meyers Manx\", \"Model_type\": \"CULT CARS\", \"In_Game_Price\": \"35,000\", \"car_source\": \"Wheelspin\", \"stock_specs\": \"D\", \"Stock_Rating\": 291.0, \"Drive_Type\": \"RWD\", \"speed\": 3.1, \"handling\": 4.3, \"acceleration\": 2.9, \"launch\": 5.3, \"braking\": 2.6, \"Offroad\": 5.9, \"Horse_Power\": 60.0, \"Weight_lbs\": 1235.0}, {\"Car_Image\": \"https://www.kudosprime.com/fh5/images/cars/side/fh5_car_504.jpg?v=1\", \"Name_and_model\": \"1971 Meyers Manx Forza Edition\", \"Model_type\": \"TRACK TOYS\", \"In_Game_Price\": \"500,000\", \"car_source\": \"Wheelspin\", \"stock_specs\": \"A\", \"Stock_Rating\": 800.0, \"Drive_Type\": \"RWD\", \"speed\": 5.2, \"handling\": 6.8, \"acceleration\": 8.2, \"launch\": 9.3, \"braking\": 7.7, \"Offroad\": 3.8, \"Horse_Power\": 250.0, \"Weight_lbs\": 1102.0}, {\"Car_Image\": \"https://www.kudosprime.com/fh5/images/cars/side/fh5_car_354.jpg?v=1\", \"Name_and_model\": \"1986 MG Metro 6R4\", \"Model_type\": \"RALLY MONSTERS\", \"In_Game_Price\": \"125,000\", \"car_source\": \"Wheelspin\", \"stock_specs\": \"S1\", \"Stock_Rating\": 811.0, \"Drive_Type\": \"AWD\", \"speed\": 4.6, \"handling\": 5.9, \"acceleration\": 8.8, \"launch\": 8.2, \"braking\": 5.8, \"Offroad\": 7.5, \"Horse_Power\": 410.0, \"Weight_lbs\": 2271.0}, {\"Car_Image\": \"https://www.kudosprime.com/fh5/images/cars/side/fh5_car_355.jpg?v=1\", \"Name_and_model\": \"1965 Mini Cooper S\", \"Model_type\": \"CLASSIC RALLY\", \"In_Game_Price\": \"30,000\", \"car_source\": \"Autoshow\", \"stock_specs\": \"D\", \"Stock_Rating\": 281.0, \"Drive_Type\": \"FWD\", \"speed\": 3.6, \"handling\": 3.2, \"acceleration\": 2.6, \"launch\": 2.7, \"braking\": 2.0, \"Offroad\": 4.1, \"Horse_Power\": 75.0, \"Weight_lbs\": 1480.0}, {\"Car_Image\": \"https://www.kudosprime.com/fh5/images/cars/side/fh5_car_356.jpg?v=1\", \"Name_and_model\": \"2009 Mini John Cooper Works\", \"Model_type\": \"HOT HATCH\", \"In_Game_Price\": \"25,000\", \"car_source\": \"Autoshow\", \"stock_specs\": \"C\", \"Stock_Rating\": 598.0, \"Drive_Type\": \"FWD\", \"speed\": 5.4, \"handling\": 5.0, \"acceleration\": 4.1, \"launch\": 4.1, \"braking\": 3.8, \"Offroad\": 4.7, \"Horse_Power\": 208.0, \"Weight_lbs\": 2701.0}, {\"Car_Image\": \"https://www.kudosprime.com/fh5/images/cars/side/fh5_car_357.jpg?v=1\", \"Name_and_model\": \"2012 Mini John Cooper Works GP\", \"Model_type\": \"HOT HATCH\", \"In_Game_Price\": \"38,000\", \"car_source\": \"Autoshow\", \"stock_specs\": \"B\", \"Stock_Rating\": 628.0, \"Drive_Type\": \"FWD\", \"speed\": 5.4, \"handling\": 4.9, \"acceleration\": 4.2, \"launch\": 4.3, \"braking\": 3.7, \"Offroad\": 4.6, \"Horse_Power\": 215.0, \"Weight_lbs\": 2557.0}, {\"Car_Image\": \"https://www.kudosprime.com/fh5/images/cars/side/fh5_car_358.jpg?v=1\", \"Name_and_model\": \"2013 Mini X-Raid ALL4 Racing Countryman\", \"Model_type\": \"OFFROAD\", \"In_Game_Price\": \"250,000\", \"car_source\": \"Wheelspin\", \"stock_specs\": \"B\", \"Stock_Rating\": 632.0, \"Drive_Type\": \"AWD\", \"speed\": 3.3, \"handling\": 4.7, \"acceleration\": 5.2, \"launch\": 8.4, \"braking\": 4.1, \"Offroad\": 8.1, \"Horse_Power\": 307.0, \"Weight_lbs\": 4299.0}, {\"Car_Image\": \"https://www.kudosprime.com/fh5/images/cars/side/fh5_car_359.jpg?v=1\", \"Name_and_model\": \"2018 Mini John Cooper Works Countryman ALL4\", \"Model_type\": \"SPORTS UTILITY HEROES\", \"In_Game_Price\": \"38,500\", \"car_source\": \"Autoshow\", \"stock_specs\": \"C\", \"Stock_Rating\": 537.0, \"Drive_Type\": \"AWD\", \"speed\": 5.1, \"handling\": 5.0, \"acceleration\": 3.8, \"launch\": 5.3, \"braking\": 3.0, \"Offroad\": 5.7, \"Horse_Power\": 228.0, \"Weight_lbs\": 3653.0}, {\"Car_Image\": \"https://www.kudosprime.com/fh5/images/cars/side/fh5_car_360.jpg?v=1\", \"Name_and_model\": \"2018 Mini X-Raid John Cooper Works Buggy\", \"Model_type\": \"OFFROAD\", \"In_Game_Price\": \"250,000\", \"car_source\": \"Autoshow\", \"stock_specs\": \"B\", \"Stock_Rating\": 632.0, \"Drive_Type\": \"RWD\", \"speed\": 4.5, \"handling\": 3.7, \"acceleration\": 4.9, \"launch\": 6.6, \"braking\": 4.9, \"Offroad\": 10.0, \"Horse_Power\": 340.0, \"Weight_lbs\": 4328.0}, {\"Car_Image\": \"https://www.kudosprime.com/fh5/images/cars/side/fh5_car_361.jpg?v=1\", \"Name_and_model\": \"1988 Mitsubishi Starion ESI-R\", \"Model_type\": \"RETRO SPORTS CARS\", \"In_Game_Price\": \"20,000\", \"car_source\": \"Autoshow\", \"stock_specs\": \"C\", \"Stock_Rating\": 549.0, \"Drive_Type\": \"RWD\", \"speed\": 5.2, \"handling\": 5.0, \"acceleration\": 4.2, \"launch\": 3.5, \"braking\": 2.9, \"Offroad\": 5.3, \"Horse_Power\": 188.0, \"Weight_lbs\": 3087.0}, {\"Car_Image\": \"https://www.kudosprime.com/fh5/images/cars/side/fh5_car_362.jpg?v=1\", \"Name_and_model\": \"1995 Mitsubishi Eclipse GSX\", \"Model_type\": \"RETRO SPORTS CARS\", \"In_Game_Price\": \"25,000\", \"car_source\": \"Autoshow\", \"stock_specs\": \"C\", \"Stock_Rating\": 543.0, \"Drive_Type\": \"AWD\", \"speed\": 5.9, \"handling\": 4.8, \"acceleration\": 3.9, \"launch\": 3.2, \"braking\": 2.8, \"Offroad\": 5.4, \"Horse_Power\": 210.0, \"Weight_lbs\": 3199.0}, {\"Car_Image\": \"https://www.kudosprime.com/fh5/images/cars/side/fh5_car_363.jpg?v=1\", \"Name_and_model\": \"1997 Mitsubishi GTO\", \"Model_type\": \"RETRO SPORTS CARS\", \"In_Game_Price\": \"20,000\", \"car_source\": \"Autoshow\", \"stock_specs\": \"B\", \"Stock_Rating\": 610.0, \"Drive_Type\": \"AWD\", \"speed\": 6.1, \"handling\": 5.1, \"acceleration\": 4.5, \"launch\": 3.6, \"braking\": 3.4, \"Offroad\": 5.5, \"Horse_Power\": 320.0, \"Weight_lbs\": 3704.0}, {\"Car_Image\": \"https://www.kudosprime.com/fh5/images/cars/side/fh5_car_364.jpg?v=2\", \"Name_and_model\": \"1999 Mitsubishi Lancer Evolution VI GSR\", \"Model_type\": \"RETRO RALLY\", \"In_Game_Price\": \"28,000\", \"car_source\": \"Autoshow\", \"stock_specs\": \"B\", \"Stock_Rating\": 659.0, \"Drive_Type\": \"AWD\", \"speed\": 5.6, \"handling\": 5.3, \"acceleration\": 5.6, \"launch\": 3.8, \"braking\": 3.7, \"Offroad\": 5.5, \"Horse_Power\": 280.0, \"Weight_lbs\": 2822.0}, {\"Car_Image\": \"https://www.kudosprime.com/fh5/images/cars/side/fh5_car_365.jpg?v=1\", \"Name_and_model\": \"2004 Mitsubishi Lancer Evolution VIII MR\", \"Model_type\": \"MODERN RALLY\", \"In_Game_Price\": \"31,000\", \"car_source\": \"Autoshow\", \"stock_specs\": \"B\", \"Stock_Rating\": 664.0, \"Drive_Type\": \"AWD\", \"speed\": 6.2, \"handling\": 5.4, \"acceleration\": 5.7, \"launch\": 3.1, \"braking\": 3.6, \"Offroad\": 5.7, \"Horse_Power\": 305.0, \"Weight_lbs\": 3109.0}, {\"Car_Image\": \"https://www.kudosprime.com/fh5/images/cars/side/fh5_car_366.jpg?v=1\", \"Name_and_model\": \"2006 Mitsubishi Lancer Evolution IX MR\", \"Model_type\": \"MODERN RALLY\", \"In_Game_Price\": \"27,000\", \"car_source\": \"Autoshow\", \"stock_specs\": \"B\", \"Stock_Rating\": 632.0, \"Drive_Type\": \"AWD\", \"speed\": 5.9, \"handling\": 5.4, \"acceleration\": 4.7, \"launch\": 2.4, \"braking\": 3.6, \"Offroad\": 5.6, \"Horse_Power\": 286.0, \"Weight_lbs\": 3285.0}, {\"Car_Image\": \"https://www.kudosprime.com/fh5/images/cars/side/fh5_car_367.jpg?v=2\", \"Name_and_model\": \"2008 Mitsubishi Lancer Evolution X GSR\", \"Model_type\": \"MODERN RALLY\", \"In_Game_Price\": \"43,000\", \"car_source\": \"Autoshow\", \"stock_specs\": \"B\", \"Stock_Rating\": 649.0, \"Drive_Type\": \"AWD\", \"speed\": 5.7, \"handling\": 5.5, \"acceleration\": 5.1, \"launch\": 2.9, \"braking\": 3.7, \"Offroad\": 5.7, \"Horse_Power\": 305.0, \"Weight_lbs\": 3395.0}, {\"Car_Image\": \"https://www.kudosprime.com/fh5/images/cars/side/fh5_car_368.jpg?v=1\", \"Name_and_model\": \"2008 Mitsubishi Lancer Evolution X GSR \\\"Welcome Pack\\\"\", \"Model_type\": \"MODERN RALLY\", \"In_Game_Price\": \"43,000\", \"car_source\": \"Autoshow\", \"stock_specs\": \"A\", \"Stock_Rating\": 800.0, \"Drive_Type\": \"AWD\", \"speed\": 7.1, \"handling\": 5.8, \"acceleration\": 9.2, \"launch\": 4.6, \"braking\": 4.1, \"Offroad\": 8.1, \"Horse_Power\": 583.0, \"Weight_lbs\": 3395.0}, {\"Car_Image\": \"https://www.kudosprime.com/fh5/images/cars/side/fh5_car_369.jpg?v=1\", \"Name_and_model\": \"2014 Morgan 3 Wheeler\", \"Model_type\": \"CULT CARS\", \"In_Game_Price\": \"50,000\", \"car_source\": \"Autoshow\", \"stock_specs\": \"D\", \"Stock_Rating\": 488.0, \"Drive_Type\": \"RWD\", \"speed\": 4.0, \"handling\": 3.2, \"acceleration\": 3.3, \"launch\": 3.2, \"braking\": 2.9, \"Offroad\": 4.2, \"Horse_Power\": 82.0, \"Weight_lbs\": 1200.0}, {\"Car_Image\": \"https://www.kudosprime.com/fh5/images/cars/side/fh5_car_505.jpg?v=1\", \"Name_and_model\": \"1953 Morris Minor 1000 Forza Edition\", \"Model_type\": \"TRACK TOYS\", \"In_Game_Price\": \"500,000\", \"car_source\": \"Wheelspin\", \"stock_specs\": \"A\", \"Stock_Rating\": 800.0, \"Drive_Type\": \"RWD\", \"speed\": 4.9, \"handling\": 6.4, \"acceleration\": 5.9, \"launch\": 6.3, \"braking\": 6.4, \"Offroad\": 2.9, \"Horse_Power\": 308.0, \"Weight_lbs\": 1433.0}, {\"Car_Image\": \"https://www.kudosprime.com/fh5/images/cars/side/fh5_car_520.jpg?v=1\", \"Name_and_model\": \"1958 Morris Minor 1000\", \"Model_type\": \"CULT CARS\", \"In_Game_Price\": \"20,000\", \"car_source\": \"Autoshow\", \"stock_specs\": \"D\", \"Stock_Rating\": 100.0, \"Drive_Type\": \"RWD\", \"speed\": 2.7, \"handling\": 4.0, \"acceleration\": 1.6, \"launch\": 2.1, \"braking\": 1.9, \"Offroad\": 5.6, \"Horse_Power\": 37.0, \"Weight_lbs\": 1764.0}, {\"Car_Image\": \"https://www.kudosprime.com/fh5/images/cars/side/fh5_car_371.jpg?v=1\", \"Name_and_model\": \"2010 Mosler MT900S\", \"Model_type\": \"EXTREME TRACK TOYS\", \"In_Game_Price\": \"320,000\", \"car_source\": \"Autoshow\", \"stock_specs\": \"S2\", \"Stock_Rating\": 919.0, \"Drive_Type\": \"RWD\", \"speed\": 8.2, \"handling\": 9.8, \"acceleration\": 7.4, \"launch\": 8.1, \"braking\": 8.4, \"Offroad\": 4.7, \"Horse_Power\": 530.0, \"Weight_lbs\": 2480.0}, {\"Car_Image\": \"https://www.kudosprime.com/fh5/images/cars/side/fh5_car_372.jpg?v=1\", \"Name_and_model\": \"1933 Napier Napier-Railton\", \"Model_type\": \"VINTAGE RACERS\", \"In_Game_Price\": \"1,500,000\", \"car_source\": \"Autoshow\", \"stock_specs\": \"B\", \"Stock_Rating\": 603.0, \"Drive_Type\": \"RWD\", \"speed\": 6.5, \"handling\": 4.1, \"acceleration\": 3.7, \"launch\": 3.6, \"braking\": 3.1, \"Offroad\": 4.4, \"Horse_Power\": 564.0, \"Weight_lbs\": 4518.0}, {\"Car_Image\": \"https://www.kudosprime.com/fh5/images/cars/side/fh5_car_373.jpg?v=1\", \"Name_and_model\": \"1969 Nissan Fairlady Z 432\", \"Model_type\": \"CLASSIC SPORTS CARS\", \"In_Game_Price\": \"150,000\", \"car_source\": \"Car Collection\", \"stock_specs\": \"D\", \"Stock_Rating\": 482.0, \"Drive_Type\": \"RWD\", \"speed\": 4.4, \"handling\": 4.7, \"acceleration\": 3.6, \"launch\": 2.4, \"braking\": 2.7, \"Offroad\": 5.2, \"Horse_Power\": 160.0, \"Weight_lbs\": 2308.0}, {\"Car_Image\": \"https://www.kudosprime.com/fh5/images/cars/side/fh5_car_374.jpg?v=1\", \"Name_and_model\": \"1971 Nissan Skyline 2000GT-R\", \"Model_type\": \"CLASSIC SPORTS CARS\", \"In_Game_Price\": \"60,000\", \"car_source\": \"Autoshow\", \"stock_specs\": \"D\", \"Stock_Rating\": 493.0, \"Drive_Type\": \"RWD\", \"speed\": 4.7, \"handling\": 4.4, \"acceleration\": 3.6, \"launch\": 2.5, \"braking\": 2.6, \"Offroad\": 5.0, \"Horse_Power\": 160.0, \"Weight_lbs\": 2425.0}, {\"Car_Image\": \"https://www.kudosprime.com/fh5/images/cars/side/fh5_car_375.jpg?v=1\", \"Name_and_model\": \"1973 Nissan Skyline H/T 2000GT-R\", \"Model_type\": \"CLASSIC SPORTS CARS\", \"In_Game_Price\": \"170,000\", \"car_source\": \"Autoshow\", \"stock_specs\": \"C\", \"Stock_Rating\": 518.0, \"Drive_Type\": \"RWD\", \"speed\": 4.7, \"handling\": 4.5, \"acceleration\": 3.4, \"launch\": 2.2, \"braking\": 3.0, \"Offroad\": 5.8, \"Horse_Power\": 158.0, \"Weight_lbs\": 2524.0}, {\"Car_Image\": \"https://www.kudosprime.com/fh5/images/cars/side/fh5_car_376.jpg?v=1\", \"Name_and_model\": \"1987 Nissan Skyline GTS-R (HR31)\", \"Model_type\": \"RETRO SPORTS CARS\", \"In_Game_Price\": \"100,000\", \"car_source\": \"Autoshow\", \"stock_specs\": \"C\", \"Stock_Rating\": 543.0, \"Drive_Type\": \"RWD\", \"speed\": 5.7, \"handling\": 4.7, \"acceleration\": 4.0, \"launch\": 2.5, \"braking\": 2.7, \"Offroad\": 4.9, \"Horse_Power\": 206.0, \"Weight_lbs\": 2965.0}, {\"Car_Image\": \"https://www.kudosprime.com/fh5/images/cars/side/fh5_car_377.jpg?v=1\", \"Name_and_model\": \"1990 Nissan Pulsar GTI-R\", \"Model_type\": \"RETRO RALLY\", \"In_Game_Price\": \"20,000\", \"car_source\": \"Autoshow\", \"stock_specs\": \"C\", \"Stock_Rating\": 594.0, \"Drive_Type\": \"AWD\", \"speed\": 5.4, \"handling\": 4.8, \"acceleration\": 5.5, \"launch\": 3.4, \"braking\": 2.9, \"Offroad\": 5.1, \"Horse_Power\": 227.0, \"Weight_lbs\": 2734.0}, {\"Car_Image\": \"https://www.kudosprime.com/fh5/images/cars/side/fh5_car_378.jpg?v=1\", \"Name_and_model\": \"1992 Nissan Silvia CLUB K's\", \"Model_type\": \"RETRO SPORTS CARS\", \"In_Game_Price\": \"25,000\", \"car_source\": \"Autoshow\", \"stock_specs\": \"C\", \"Stock_Rating\": 537.0, \"Drive_Type\": \"RWD\", \"speed\": 5.5, \"handling\": 4.7, \"acceleration\": 3.8, \"launch\": 3.5, \"braking\": 2.7, \"Offroad\": 4.8, \"Horse_Power\": 202.0, \"Weight_lbs\": 2535.0}, {\"Car_Image\": \"https://www.kudosprime.com/fh5/images/cars/side/fh5_car_380.jpg?v=1\", \"Name_and_model\": \"1993 Nissan 240SX SE\", \"Model_type\": \"RETRO SPORTS CARS\", \"In_Game_Price\": \"25,000\", \"car_source\": \"Autoshow\", \"stock_specs\": \"D\", \"Stock_Rating\": 445.0, \"Drive_Type\": \"RWD\", \"speed\": 5.1, \"handling\": 4.6, \"acceleration\": 3.3, \"launch\": 2.5, \"braking\": 2.5, \"Offroad\": 5.3, \"Horse_Power\": 155.0, \"Weight_lbs\": 2915.0}, {\"Car_Image\": \"https://www.kudosprime.com/fh5/images/cars/side/fh5_car_379.jpg?v=1\", \"Name_and_model\": \"1993 Nissan Skyline GT-R V-Spec\", \"Model_type\": \"RETRO SPORTS CARS\", \"In_Game_Price\": \"85,000\", \"car_source\": \"Autoshow\", \"stock_specs\": \"B\", \"Stock_Rating\": 626.0, \"Drive_Type\": \"AWD\", \"speed\": 5.8, \"handling\": 5.7, \"acceleration\": 4.5, \"launch\": 2.7, \"braking\": 3.6, \"Offroad\": 5.3, \"Horse_Power\": 320.0, \"Weight_lbs\": 3307.0}, {\"Car_Image\": \"https://www.kudosprime.com/fh5/images/cars/side/fh5_car_381.jpg?v=1\", \"Name_and_model\": \"1994 Nissan Fairlady Z Version S Twin Turbo\", \"Model_type\": \"RETRO SPORTS CARS\", \"In_Game_Price\": \"20,000\", \"car_source\": \"Autoshow\", \"stock_specs\": \"B\", \"Stock_Rating\": 607.0, \"Drive_Type\": \"RWD\", \"speed\": 6.0, \"handling\": 5.2, \"acceleration\": 4.3, \"launch\": 2.7, \"braking\": 3.2, \"Offroad\": 4.9, \"Horse_Power\": 276.0, \"Weight_lbs\": 3351.0}, {\"Car_Image\": \"https://www.kudosprime.com/fh5/images/cars/side/fh5_car_382.jpg?v=1\", \"Name_and_model\": \"1994 Nissan Silvia K's\", \"Model_type\": \"RETRO SPORTS CARS\", \"In_Game_Price\": \"25,000\", \"car_source\": \"Autoshow\", \"stock_specs\": \"B\", \"Stock_Rating\": 617.0, \"Drive_Type\": \"RWD\", \"speed\": 5.8, \"handling\": 5.3, \"acceleration\": 4.4, \"launch\": 2.7, \"braking\": 3.4, \"Offroad\": 5.2, \"Horse_Power\": 217.0, \"Weight_lbs\": 2789.0}, {\"Car_Image\": \"https://www.kudosprime.com/fh5/images/cars/side/fh5_car_383.jpg?v=1\", \"Name_and_model\": \"1995 Nissan NISMO GT-R LM\", \"Model_type\": \"RETRO SPORTS CARS\", \"In_Game_Price\": \"1,100,000\", \"car_source\": \"Autoshow\", \"stock_specs\": \"B\", \"Stock_Rating\": 658.0, \"Drive_Type\": \"RWD\", \"speed\": 5.9, \"handling\": 6.6, \"acceleration\": 4.5, \"launch\": 3.0, \"braking\": 4.0, \"Offroad\": 4.0, \"Horse_Power\": 300.0, \"Weight_lbs\": 3483.0}, {\"Car_Image\": \"https://www.kudosprime.com/fh5/images/cars/side/fh5_car_384.jpg?v=1\", \"Name_and_model\": \"1997 Nissan Skyline GT-R V-Spec\", \"Model_type\": \"RETRO SPORTS CARS\", \"In_Game_Price\": \"37,000\", \"car_source\": \"Autoshow\", \"stock_specs\": \"B\", \"Stock_Rating\": 635.0, \"Drive_Type\": \"AWD\", \"speed\": 6.1, \"handling\": 5.7, \"acceleration\": 4.8, \"launch\": 2.5, \"braking\": 3.7, \"Offroad\": 5.4, \"Horse_Power\": 278.0, \"Weight_lbs\": 3393.0}, {\"Car_Image\": \"https://www.kudosprime.com/fh5/images/cars/side/fh5_car_385.jpg?v=1\", \"Name_and_model\": \"1998 Nissan R390 (GT1)\", \"Model_type\": \"RETRO SUPERCARS\", \"In_Game_Price\": \"1,250,000\", \"car_source\": \"Autoshow\", \"stock_specs\": \"S1\", \"Stock_Rating\": 859.0, \"Drive_Type\": \"RWD\", \"speed\": 7.1, \"handling\": 7.8, \"acceleration\": 6.3, \"launch\": 2.5, \"braking\": 7.1, \"Offroad\": 3.5, \"Horse_Power\": 550.0, \"Weight_lbs\": 2264.0}, {\"Car_Image\": \"https://www.kudosprime.com/fh5/images/cars/side/fh5_car_386.jpg?v=1\", \"Name_and_model\": \"1998 Nissan Silvia K's Aero\", \"Model_type\": \"RETRO SPORTS CARS\", \"In_Game_Price\": \"25,000\", \"car_source\": \"Autoshow\", \"stock_specs\": \"B\", \"Stock_Rating\": 609.0, \"Drive_Type\": \"RWD\", \"speed\": 5.7, \"handling\": 5.2, \"acceleration\": 4.4, \"launch\": 2.5, \"braking\": 3.4, \"Offroad\": 5.3, \"Horse_Power\": 217.0, \"Weight_lbs\": 2789.0}, {\"Car_Image\": \"https://www.kudosprime.com/fh5/images/cars/side/fh5_car_387.jpg?v=1\", \"Name_and_model\": \"2000 Nissan Silvia Spec-R\", \"Model_type\": \"RETRO SPORTS CARS\", \"In_Game_Price\": \"35,000\", \"car_source\": \"Autoshow\", \"stock_specs\": \"B\", \"Stock_Rating\": 632.0, \"Drive_Type\": \"RWD\", \"speed\": 5.9, \"handling\": 5.4, \"acceleration\": 4.6, \"launch\": 2.6, \"braking\": 3.7, \"Offroad\": 5.4, \"Horse_Power\": 250.0, \"Weight_lbs\": 2734.0}, {\"Car_Image\": \"https://www.kudosprime.com/fh5/images/cars/side/fh5_car_388.jpg?v=1\", \"Name_and_model\": \"2002 Nissan Skyline GT-R V-Spec II\", \"Model_type\": \"RETRO SPORTS CARS\", \"In_Game_Price\": \"63,000\", \"car_source\": \"Autoshow\", \"stock_specs\": \"B\", \"Stock_Rating\": 657.0, \"Drive_Type\": \"AWD\", \"speed\": 6.1, \"handling\": 5.6, \"acceleration\": 4.9, \"launch\": 2.6, \"braking\": 3.6, \"Offroad\": 5.4, \"Horse_Power\": 327.0, \"Weight_lbs\": 3439.0}, {\"Car_Image\": \"https://www.kudosprime.com/fh5/images/cars/side/fh5_car_389.jpg?v=1\", \"Name_and_model\": \"2003 Nissan Fairlady Z\", \"Model_type\": \"RETRO SPORTS CARS\", \"In_Game_Price\": \"35,000\", \"car_source\": \"Autoshow\", \"stock_specs\": \"B\", \"Stock_Rating\": 650.0, \"Drive_Type\": \"RWD\", \"speed\": 6.5, \"handling\": 5.5, \"acceleration\": 4.6, \"launch\": 4.0, \"braking\": 3.5, \"Offroad\": 4.8, \"Horse_Power\": 287.0, \"Weight_lbs\": 3310.0}, {\"Car_Image\": \"https://www.kudosprime.com/fh5/images/cars/side/fh5_car_506.jpg?v=1\", \"Name_and_model\": \"2003 Nissan Fairlady Z Forza Edition\", \"Model_type\": \"UNLIMITED OFFROAD\", \"In_Game_Price\": \"500,000\", \"car_source\": \"Wheelspin\", \"stock_specs\": \"A\", \"Stock_Rating\": 800.0, \"Drive_Type\": \"RWD\", \"speed\": 5.0, \"handling\": 3.0, \"acceleration\": 5.4, \"launch\": 5.5, \"braking\": 6.4, \"Offroad\": 8.3, \"Horse_Power\": 542.0, \"Weight_lbs\": 2756.0}, {\"Car_Image\": \"https://www.kudosprime.com/fh5/images/cars/side/fh5_car_390.jpg?v=1\", \"Name_and_model\": \"2004 Nissan Pickup #23 Rally Raid\", \"Model_type\": \"UNLIMITED OFFROAD\", \"In_Game_Price\": \"500,000\", \"car_source\": \"Autoshow\", \"stock_specs\": \"C\", \"Stock_Rating\": 577.0, \"Drive_Type\": \"AWD\", \"speed\": 4.4, \"handling\": 5.5, \"acceleration\": 3.1, \"launch\": 4.5, \"braking\": 4.8, \"Offroad\": 9.9, \"Horse_Power\": 268.0, \"Weight_lbs\": 4740.0}, {\"Car_Image\": \"https://www.kudosprime.com/fh5/images/cars/side/fh5_car_391.jpg?v=1\", \"Name_and_model\": \"2010 Nissan 370Z\", \"Model_type\": \"MODERN SPORTS CARS\", \"In_Game_Price\": \"40,000\", \"car_source\": \"Autoshow\", \"stock_specs\": \"B\", \"Stock_Rating\": 688.0, \"Drive_Type\": \"RWD\", \"speed\": 6.6, \"handling\": 5.7, \"acceleration\": 4.8, \"launch\": 4.6, \"braking\": 3.9, \"Offroad\": 4.8, \"Horse_Power\": 332.0, \"Weight_lbs\": 3267.0}, {\"Car_Image\": \"https://www.kudosprime.com/fh5/images/cars/side/fh5_car_392.jpg?v=1\", \"Name_and_model\": \"2012 Nissan GT-R Black Edition (R35)\", \"Model_type\": \"MODERN SUPERCARS\", \"In_Game_Price\": \"105,000\", \"car_source\": \"Autoshow\", \"stock_specs\": \"S1\", \"Stock_Rating\": 810.0, \"Drive_Type\": \"AWD\", \"speed\": 7.6, \"handling\": 6.7, \"acceleration\": 8.5, \"launch\": 8.1, \"braking\": 5.3, \"Offroad\": 5.0, \"Horse_Power\": 542.0, \"Weight_lbs\": 3887.0}, {\"Car_Image\": \"https://www.kudosprime.com/fh5/images/cars/side/fh5_car_393.jpg?v=1\", \"Name_and_model\": \"2016 Nissan Titan Warrior Concept\", \"Model_type\": \"PICK-UP & 4X4'S\", \"In_Game_Price\": \"50,000\", \"car_source\": \"Autoshow\", \"stock_specs\": \"D\", \"Stock_Rating\": 486.0, \"Drive_Type\": \"AWD\", \"speed\": 4.7, \"handling\": 3.6, \"acceleration\": 3.2, \"launch\": 3.6, \"braking\": 3.2, \"Offroad\": 8.9, \"Horse_Power\": 310.0, \"Weight_lbs\": 7388.0}, {\"Car_Image\": \"https://www.kudosprime.com/fh5/images/cars/side/fh5_car_394.jpg?v=1\", \"Name_and_model\": \"2017 Nissan GT-R (R35)\", \"Model_type\": \"MODERN SUPERCARS\", \"In_Game_Price\": \"132,000\", \"car_source\": \"Autoshow\", \"stock_specs\": \"S1\", \"Stock_Rating\": 814.0, \"Drive_Type\": \"AWD\", \"speed\": 7.5, \"handling\": 6.7, \"acceleration\": 8.7, \"launch\": 7.8, \"braking\": 5.3, \"Offroad\": 4.8, \"Horse_Power\": 565.0, \"Weight_lbs\": 3933.0}, {\"Car_Image\": \"https://www.kudosprime.com/fh5/images/cars/side/fh5_car_395.jpg?v=1\", \"Name_and_model\": \"1984 Opel Manta 400\", \"Model_type\": \"RALLY MONSTERS\", \"In_Game_Price\": \"100,000\", \"car_source\": \"Autoshow\", \"stock_specs\": \"B\", \"Stock_Rating\": 691.0, \"Drive_Type\": \"RWD\", \"speed\": 5.8, \"handling\": 4.9, \"acceleration\": 4.6, \"launch\": 4.8, \"braking\": 3.7, \"Offroad\": 6.6, \"Horse_Power\": 275.0, \"Weight_lbs\": 2183.0}, {\"Car_Image\": \"https://www.kudosprime.com/fh5/images/cars/side/fh5_car_396.jpg?v=1\", \"Name_and_model\": \"2009 Pagani Zonda Cinque Roadster\", \"Model_type\": \"HYPERCARS\", \"In_Game_Price\": \"2,100,000\", \"car_source\": \"Autoshow\", \"stock_specs\": \"S1\", \"Stock_Rating\": 896.0, \"Drive_Type\": \"RWD\", \"speed\": 7.4, \"handling\": 8.0, \"acceleration\": 6.5, \"launch\": 6.9, \"braking\": 8.9, \"Offroad\": 4.5, \"Horse_Power\": 678.0, \"Weight_lbs\": 2858.0}, {\"Car_Image\": \"https://www.kudosprime.com/fh5/images/cars/side/fh5_car_397.jpg?v=1\", \"Name_and_model\": \"2010 Pagani Zonda R\", \"Model_type\": \"EXTREME TRACK TOYS\", \"In_Game_Price\": \"1,800,000\", \"car_source\": \"Autoshow\", \"stock_specs\": \"S2\", \"Stock_Rating\": 959.0, \"Drive_Type\": \"RWD\", \"speed\": 8.0, \"handling\": 10.0, \"acceleration\": 7.3, \"launch\": 7.9, \"braking\": 10.0, \"Offroad\": 3.9, \"Horse_Power\": 739.0, \"Weight_lbs\": 2536.0}, {\"Car_Image\": \"https://www.kudosprime.com/fh5/images/cars/side/fh5_car_398.jpg?v=1\", \"Name_and_model\": \"2016 Pagani Huayra BC\", \"Model_type\": \"HYPERCARS\", \"In_Game_Price\": \"2,700,000\", \"car_source\": \"Wheelspin\", \"stock_specs\": \"S2\", \"Stock_Rating\": 929.0, \"Drive_Type\": \"RWD\", \"speed\": 8.4, \"handling\": 9.1, \"acceleration\": 7.0, \"launch\": 7.6, \"braking\": 10.0, \"Offroad\": 4.2, \"Horse_Power\": 740.0, \"Weight_lbs\": 2685.0}, {\"Car_Image\": \"https://www.kudosprime.com/fh5/images/cars/side/fh5_car_507.jpg?v=1\", \"Name_and_model\": \"2016 Pagani Huayra BC Forza Edition\", \"Model_type\": \"EXTREME TRACK TOYS\", \"In_Game_Price\": \"2,700,000\", \"car_source\": \"Wheelspin\", \"stock_specs\": \"S2\", \"Stock_Rating\": 998.0, \"Drive_Type\": \"RWD\", \"speed\": 8.1, \"handling\": 10.0, \"acceleration\": 8.0, \"launch\": 8.8, \"braking\": 10.0, \"Offroad\": 3.7, \"Horse_Power\": 1006.0, \"Weight_lbs\": 2425.0}, {\"Car_Image\": \"https://www.kudosprime.com/fh5/images/cars/side/fh5_car_555.jpg?v=1\", \"Name_and_model\": \"1962 Peel P50\", \"Model_type\": \"CULT CLASSICS\", \"In_Game_Price\": \"250,000\", \"car_source\": \"Season Event\", \"stock_specs\": \"D\", \"Stock_Rating\": 100.0, \"Drive_Type\": \"RWD\", \"speed\": 1.2, \"handling\": 3.0, \"acceleration\": 1.0, \"launch\": 2.3, \"braking\": 3.9, \"Offroad\": 4.5, \"Horse_Power\": 4.0, \"Weight_lbs\": 311.0}, {\"Car_Image\": \"https://www.kudosprime.com/fh5/images/cars/side/fh5_car_554.jpg?v=1\", \"Name_and_model\": \"1965 Peel Trident\", \"Model_type\": \"CULT CLASSICS\", \"In_Game_Price\": \"250,000\", \"car_source\": \"Season Event\", \"stock_specs\": \"D\", \"Stock_Rating\": 100.0, \"Drive_Type\": \"RWD\", \"speed\": 1.3, \"handling\": 3.0, \"acceleration\": 1.0, \"launch\": 2.5, \"braking\": 2.6, \"Offroad\": 5.5, \"Horse_Power\": 4.0, \"Weight_lbs\": 353.0}, {\"Car_Image\": \"https://www.kudosprime.com/fh5/images/cars/side/fh5_car_399.jpg?v=1\", \"Name_and_model\": \"2011 Penhall The Cholla\", \"Model_type\": \"UNLIMITED BUGGIES\", \"In_Game_Price\": \"100,000\", \"car_source\": \"Autoshow\", \"stock_specs\": \"B\", \"Stock_Rating\": 655.0, \"Drive_Type\": \"RWD\", \"speed\": 4.1, \"handling\": 3.7, \"acceleration\": 5.7, \"launch\": 4.8, \"braking\": 4.3, \"Offroad\": 10.0, \"Horse_Power\": 196.0, \"Weight_lbs\": 2200.0}, {\"Car_Image\": \"https://www.kudosprime.com/fh5/images/cars/side/fh5_car_400.jpg?v=1\", \"Name_and_model\": \"1984 Peugeot 205 Turbo 16\", \"Model_type\": \"RETRO RALLY\", \"In_Game_Price\": \"200,000\", \"car_source\": \"Wheelspin\", \"stock_specs\": \"B\", \"Stock_Rating\": 616.0, \"Drive_Type\": \"AWD\", \"speed\": 5.0, \"handling\": 5.0, \"acceleration\": 4.4, \"launch\": 1.6, \"braking\": 3.6, \"Offroad\": 7.2, \"Horse_Power\": 200.0, \"Weight_lbs\": 2524.0}, {\"Car_Image\": \"https://www.kudosprime.com/fh5/images/cars/side/fh5_car_401.jpg?v=1\", \"Name_and_model\": \"1991 Peugeot 205 Rallye\", \"Model_type\": \"RETRO HOT HATCH\", \"In_Game_Price\": \"20,000\", \"car_source\": \"Autoshow\", \"stock_specs\": \"D\", \"Stock_Rating\": 462.0, \"Drive_Type\": \"FWD\", \"speed\": 4.3, \"handling\": 4.4, \"acceleration\": 2.9, \"launch\": 3.8, \"braking\": 2.5, \"Offroad\": 4.9, \"Horse_Power\": 99.0, \"Weight_lbs\": 1742.0}, {\"Car_Image\": \"https://www.kudosprime.com/fh5/images/cars/side/fh5_car_402.jpg?v=1\", \"Name_and_model\": \"2007 Peugeot 207 Super 2000\", \"Model_type\": \"RALLY MONSTERS\", \"In_Game_Price\": \"150,000\", \"car_source\": \"Autoshow\", \"stock_specs\": \"A\", \"Stock_Rating\": 755.0, \"Drive_Type\": \"AWD\", \"speed\": 5.3, \"handling\": 6.2, \"acceleration\": 5.9, \"launch\": 5.2, \"braking\": 5.7, \"Offroad\": 8.0, \"Horse_Power\": 280.0, \"Weight_lbs\": 2425.0}, {\"Car_Image\": \"https://www.kudosprime.com/fh5/images/cars/side/fh5_car_403.jpg?v=1\", \"Name_and_model\": \"1971 Plymouth Cuda 426 Hemi\", \"Model_type\": \"CLASSIC MUSCLE\", \"In_Game_Price\": \"160,000\", \"car_source\": \"Autoshow\", \"stock_specs\": \"C\", \"Stock_Rating\": 547.0, \"Drive_Type\": \"RWD\", \"speed\": 5.6, \"handling\": 3.7, \"acceleration\": 3.4, \"launch\": 3.3, \"braking\": 2.4, \"Offroad\": 5.3, \"Horse_Power\": 425.0, \"Weight_lbs\": 3880.0}, {\"Car_Image\": \"https://www.kudosprime.com/fh5/images/cars/side/fh5_car_404.jpg?v=1\", \"Name_and_model\": \"2015 Polaris RZR XP 1000 EPS\", \"Model_type\": \"UTV'S\", \"In_Game_Price\": \"25,000\", \"car_source\": \"Autoshow\", \"stock_specs\": \"C\", \"Stock_Rating\": 501.0, \"Drive_Type\": \"AWD\", \"speed\": 3.4, \"handling\": 3.5, \"acceleration\": 3.8, \"launch\": 3.8, \"braking\": 4.4, \"Offroad\": 9.0, \"Horse_Power\": 110.0, \"Weight_lbs\": 1530.0}, {\"Car_Image\": \"https://www.kudosprime.com/fh5/images/cars/side/fh5_car_405.jpg?v=1\", \"Name_and_model\": \"1965 Pontiac GTO\", \"Model_type\": \"CLASSIC MUSCLE\", \"In_Game_Price\": \"48,000\", \"car_source\": \"Autoshow\", \"stock_specs\": \"D\", \"Stock_Rating\": 484.0, \"Drive_Type\": \"RWD\", \"speed\": 4.7, \"handling\": 3.2, \"acceleration\": 3.1, \"launch\": 2.9, \"braking\": 2.0, \"Offroad\": 5.4, \"Horse_Power\": 360.0, \"Weight_lbs\": 3468.0}, {\"Car_Image\": \"https://www.kudosprime.com/fh5/images/cars/side/fh5_car_406.jpg?v=1\", \"Name_and_model\": \"1977 Pontiac Firebird Trans Am\", \"Model_type\": \"CLASSIC MUSCLE\", \"In_Game_Price\": \"45,000\", \"car_source\": \"Autoshow\", \"stock_specs\": \"D\", \"Stock_Rating\": 418.0, \"Drive_Type\": \"RWD\", \"speed\": 5.1, \"handling\": 3.9, \"acceleration\": 3.1, \"launch\": 2.0, \"braking\": 2.1, \"Offroad\": 5.7, \"Horse_Power\": 201.0, \"Weight_lbs\": 3800.0}, {\"Car_Image\": \"https://www.kudosprime.com/fh5/images/cars/side/fh5_car_407.jpg?v=1\", \"Name_and_model\": \"1987 Pontiac Firebird Trans Am GTA\", \"Model_type\": \"RETRO MUSCLE\", \"In_Game_Price\": \"25,000\", \"car_source\": \"Autoshow\", \"stock_specs\": \"D\", \"Stock_Rating\": 485.0, \"Drive_Type\": \"RWD\", \"speed\": 5.5, \"handling\": 4.1, \"acceleration\": 3.4, \"launch\": 3.1, \"braking\": 2.4, \"Offroad\": 4.8, \"Horse_Power\": 210.0, \"Weight_lbs\": 3483.0}, {\"Car_Image\": \"https://www.kudosprime.com/fh5/images/cars/side/fh5_car_508.jpg?v=1\", \"Name_and_model\": \"1987 Pontiac Firebird Trans Am GTA Forza Edition\", \"Model_type\": \"TRACK TOYS\", \"In_Game_Price\": \"500,000\", \"car_source\": \"Wheelspin\", \"stock_specs\": \"S1\", \"Stock_Rating\": 900.0, \"Drive_Type\": \"RWD\", \"speed\": 6.9, \"handling\": 7.1, \"acceleration\": 5.5, \"launch\": 5.8, \"braking\": 6.3, \"Offroad\": 3.4, \"Horse_Power\": 850.0, \"Weight_lbs\": 3219.0}, {\"Car_Image\": \"https://www.kudosprime.com/fh5/images/cars/side/fh5_car_408.jpg?v=1\", \"Name_and_model\": \"1959 Porsche 356 A 1600 Super\", \"Model_type\": \"RARE CLASSICS\", \"In_Game_Price\": \"240,000\", \"car_source\": \"Autoshow\", \"stock_specs\": \"D\", \"Stock_Rating\": 241.0, \"Drive_Type\": \"RWD\", \"speed\": 3.8, \"handling\": 3.7, \"acceleration\": 1.8, \"launch\": 2.1, \"braking\": 1.8, \"Offroad\": 5.3, \"Horse_Power\": 75.0, \"Weight_lbs\": 1931.0}, {\"Car_Image\": \"https://www.kudosprime.com/fh5/images/cars/side/fh5_car_409.jpg?v=1\", \"Name_and_model\": \"1970 Porsche #3 917 LH\", \"Model_type\": \"CLASSIC RACERS\", \"In_Game_Price\": \"15,000,000\", \"car_source\": \"Autoshow\", \"stock_specs\": \"S1\", \"Stock_Rating\": 856.0, \"Drive_Type\": \"RWD\", \"speed\": 8.2, \"handling\": 5.9, \"acceleration\": 7.2, \"launch\": 7.1, \"braking\": 4.9, \"Offroad\": 4.0, \"Horse_Power\": 601.0, \"Weight_lbs\": 2044.0}, {\"Car_Image\": \"https://www.kudosprime.com/fh5/images/cars/side/fh5_car_410.jpg?v=1\", \"Name_and_model\": \"1970 Porsche 914/6\", \"Model_type\": \"CLASSIC SPORTS CARS\", \"In_Game_Price\": \"24,000\", \"car_source\": \"Autoshow\", \"stock_specs\": \"D\", \"Stock_Rating\": 427.0, \"Drive_Type\": \"RWD\", \"speed\": 4.4, \"handling\": 4.2, \"acceleration\": 3.4, \"launch\": 2.8, \"braking\": 2.5, \"Offroad\": 5.2, \"Horse_Power\": 125.0, \"Weight_lbs\": 2196.0}, {\"Car_Image\": \"https://www.kudosprime.com/fh5/images/cars/side/fh5_car_530.jpg?v=1\", \"Name_and_model\": \"1973 Porsche 911 Carrera RS\", \"Model_type\": \"RARE CLASSICS\", \"In_Game_Price\": \"350,000\", \"car_source\": \"Barn\", \"stock_specs\": \"B\", \"Stock_Rating\": 601.0, \"Drive_Type\": \"RWD\", \"speed\": 5.2, \"handling\": 4.9, \"acceleration\": 5.1, \"launch\": 3.7, \"braking\": 3.1, \"Offroad\": 5.0, \"Horse_Power\": 207.0, \"Weight_lbs\": 2450.0}, {\"Car_Image\": \"https://www.kudosprime.com/fh5/images/cars/side/fh5_car_411.jpg?v=1\", \"Name_and_model\": \"1982 Porsche 911 Turbo 3.3\", \"Model_type\": \"RETRO SUPERCARS\", \"In_Game_Price\": \"150,000\", \"car_source\": \"Autoshow\", \"stock_specs\": \"B\", \"Stock_Rating\": 666.0, \"Drive_Type\": \"RWD\", \"speed\": 5.6, \"handling\": 5.2, \"acceleration\": 4.8, \"launch\": 2.0, \"braking\": 4.1, \"Offroad\": 5.2, \"Horse_Power\": 296.0, \"Weight_lbs\": 2866.0}, {\"Car_Image\": \"https://www.kudosprime.com/fh5/images/cars/side/fh5_car_412.jpg?v=1\", \"Name_and_model\": \"1985 Porsche #185 959 Prodrive Rally Raid\", \"Model_type\": \"RALLY MONSTERS\", \"In_Game_Price\": \"1,500,000\", \"car_source\": \"Autoshow\", \"stock_specs\": \"A\", \"Stock_Rating\": 742.0, \"Drive_Type\": \"AWD\", \"speed\": 6.1, \"handling\": 5.4, \"acceleration\": 7.5, \"launch\": 6.1, \"braking\": 4.3, \"Offroad\": 7.6, \"Horse_Power\": 394.0, \"Weight_lbs\": 3322.0}, {\"Car_Image\": \"https://www.kudosprime.com/fh5/images/cars/side/fh5_car_413.jpg?v=1\", \"Name_and_model\": \"1987 Porsche 959\", \"Model_type\": \"RETRO SUPERCARS\", \"In_Game_Price\": \"2,000,000\", \"car_source\": \"Autoshow\", \"stock_specs\": \"A\", \"Stock_Rating\": 764.0, \"Drive_Type\": \"AWD\", \"speed\": 7.3, \"handling\": 6.2, \"acceleration\": 8.2, \"launch\": 4.7, \"braking\": 4.9, \"Offroad\": 4.7, \"Horse_Power\": 450.0, \"Weight_lbs\": 3190.0}, {\"Car_Image\": \"https://www.kudosprime.com/fh5/images/cars/side/fh5_car_415.jpg?v=1\", \"Name_and_model\": \"1989 Porsche #65 Rothsport Racing 911 'Desert Flyer'\", \"Model_type\": \"RALLY MONSTERS\", \"In_Game_Price\": \"500,000\", \"car_source\": \"Autoshow\", \"stock_specs\": \"B\", \"Stock_Rating\": 694.0, \"Drive_Type\": \"RWD\", \"speed\": 4.8, \"handling\": 5.0, \"acceleration\": 5.7, \"launch\": 4.8, \"braking\": 4.1, \"Offroad\": 8.5, \"Horse_Power\": 325.0, \"Weight_lbs\": 2840.0}, {\"Car_Image\": \"https://www.kudosprime.com/fh5/images/cars/side/fh5_car_414.jpg?v=1\", \"Name_and_model\": \"1989 Porsche 944 Turbo\", \"Model_type\": \"RETRO SPORTS CARS\", \"In_Game_Price\": \"35,000\", \"car_source\": \"Autoshow\", \"stock_specs\": \"B\", \"Stock_Rating\": 651.0, \"Drive_Type\": \"RWD\", \"speed\": 5.8, \"handling\": 5.3, \"acceleration\": 4.9, \"launch\": 2.6, \"braking\": 4.1, \"Offroad\": 5.3, \"Horse_Power\": 247.0, \"Weight_lbs\": 3115.0}, {\"Car_Image\": \"https://www.kudosprime.com/fh5/images/cars/side/fh5_car_416.jpg?v=1\", \"Name_and_model\": \"1993 Porsche 968 Turbo S\", \"Model_type\": \"RETRO SPORTS CARS\", \"In_Game_Price\": \"140,000\", \"car_source\": \"Autoshow\", \"stock_specs\": \"A\", \"Stock_Rating\": 701.0, \"Drive_Type\": \"RWD\", \"speed\": 6.2, \"handling\": 5.2, \"acceleration\": 5.3, \"launch\": 4.5, \"braking\": 4.1, \"Offroad\": 4.8, \"Horse_Power\": 305.0, \"Weight_lbs\": 2866.0}, {\"Car_Image\": \"https://www.kudosprime.com/fh5/images/cars/side/fh5_car_417.jpg?v=1\", \"Name_and_model\": \"1995 Porsche 911 GT2\", \"Model_type\": \"RETRO SUPERCARS\", \"In_Game_Price\": \"550,000\", \"car_source\": \"Autoshow\", \"stock_specs\": \"A\", \"Stock_Rating\": 753.0, \"Drive_Type\": \"RWD\", \"speed\": 6.5, \"handling\": 6.3, \"acceleration\": 6.7, \"launch\": 5.7, \"braking\": 5.3, \"Offroad\": 4.5, \"Horse_Power\": 424.0, \"Weight_lbs\": 2855.0}, {\"Car_Image\": \"https://www.kudosprime.com/fh5/images/cars/side/fh5_car_418.jpg?v=1\", \"Name_and_model\": \"1998 Porsche 911 GT1 Strassenversion\", \"Model_type\": \"RETRO SUPERCARS\", \"In_Game_Price\": \"2,500,000\", \"car_source\": \"Autoshow\", \"stock_specs\": \"S1\", \"Stock_Rating\": 840.0, \"Drive_Type\": \"RWD\", \"speed\": 7.2, \"handling\": 7.9, \"acceleration\": 6.0, \"launch\": 6.3, \"braking\": 8.7, \"Offroad\": 3.9, \"Horse_Power\": 536.0, \"Weight_lbs\": 2646.0}, {\"Car_Image\": \"https://www.kudosprime.com/fh5/images/cars/side/fh5_car_419.jpg?v=1\", \"Name_and_model\": \"2003 Porsche Carrera GT\", \"Model_type\": \"RETRO SUPERCARS\", \"In_Game_Price\": \"1,000,000\", \"car_source\": \"Autoshow\", \"stock_specs\": \"S1\", \"Stock_Rating\": 845.0, \"Drive_Type\": \"RWD\", \"speed\": 7.6, \"handling\": 7.1, \"acceleration\": 6.6, \"launch\": 7.2, \"braking\": 7.5, \"Offroad\": 4.5, \"Horse_Power\": 605.0, \"Weight_lbs\": 3258.0}, {\"Car_Image\": \"https://www.kudosprime.com/fh5/images/cars/side/fh5_car_420.jpg?v=1\", \"Name_and_model\": \"2004 Porsche 911 GT3\", \"Model_type\": \"RETRO SUPERCARS\", \"In_Game_Price\": \"65,000\", \"car_source\": \"Autoshow\", \"stock_specs\": \"A\", \"Stock_Rating\": 778.0, \"Drive_Type\": \"RWD\", \"speed\": 7.1, \"handling\": 6.9, \"acceleration\": 6.4, \"launch\": 5.7, \"braking\": 5.3, \"Offroad\": 4.8, \"Horse_Power\": 381.0, \"Weight_lbs\": 3160.0}, {\"Car_Image\": \"https://www.kudosprime.com/fh5/images/cars/side/fh5_car_421.jpg?v=1\", \"Name_and_model\": \"2012 Porsche 911 GT2 RS\", \"Model_type\": \"TRACK TOYS\", \"In_Game_Price\": \"240,000\", \"car_source\": \"Autoshow\", \"stock_specs\": \"S1\", \"Stock_Rating\": 860.0, \"Drive_Type\": \"RWD\", \"speed\": 7.7, \"handling\": 7.6, \"acceleration\": 8.0, \"launch\": 6.3, \"braking\": 7.7, \"Offroad\": 4.6, \"Horse_Power\": 611.0, \"Weight_lbs\": 3020.0}, {\"Car_Image\": \"https://www.kudosprime.com/fh5/images/cars/side/fh5_car_422.jpg?v=1\", \"Name_and_model\": \"2014 Porsche 911 Turbo S\", \"Model_type\": \"MODERN SUPERCARS\", \"In_Game_Price\": \"150,000\", \"car_source\": \"Autoshow\", \"stock_specs\": \"S1\", \"Stock_Rating\": 808.0, \"Drive_Type\": \"AWD\", \"speed\": 7.9, \"handling\": 6.6, \"acceleration\": 8.3, \"launch\": 9.3, \"braking\": 6.7, \"Offroad\": 4.6, \"Horse_Power\": 560.0, \"Weight_lbs\": 3607.0}, {\"Car_Image\": \"https://www.kudosprime.com/fh5/images/cars/side/fh5_car_423.jpg?v=1\", \"Name_and_model\": \"2014 Porsche 918 Spyder\", \"Model_type\": \"HYPERCARS\", \"In_Game_Price\": \"850,000\", \"car_source\": \"Autoshow\", \"stock_specs\": \"S2\", \"Stock_Rating\": 920.0, \"Drive_Type\": \"AWD\", \"speed\": 8.8, \"handling\": 8.9, \"acceleration\": 10.0, \"launch\": 10.0, \"braking\": 9.3, \"Offroad\": 4.6, \"Horse_Power\": 887.0, \"Weight_lbs\": 3692.0}, {\"Car_Image\": \"https://www.kudosprime.com/fh5/images/cars/side/fh5_car_424.jpg?v=1\", \"Name_and_model\": \"2015 Porsche Cayman GTS\", \"Model_type\": \"MODERN SPORTS CARS\", \"In_Game_Price\": \"80,000\", \"car_source\": \"Autoshow\", \"stock_specs\": \"A\", \"Stock_Rating\": 767.0, \"Drive_Type\": \"RWD\", \"speed\": 6.6, \"handling\": 6.4, \"acceleration\": 6.1, \"launch\": 6.2, \"braking\": 5.2, \"Offroad\": 4.6, \"Horse_Power\": 340.0, \"Weight_lbs\": 2965.0}, {\"Car_Image\": \"https://www.kudosprime.com/fh5/images/cars/side/fh5_car_425.jpg?v=1\", \"Name_and_model\": \"2016 Porsche 911 GT3 RS\", \"Model_type\": \"TRACK TOYS\", \"In_Game_Price\": \"235,000\", \"car_source\": \"Autoshow\", \"stock_specs\": \"S1\", \"Stock_Rating\": 864.0, \"Drive_Type\": \"RWD\", \"speed\": 7.8, \"handling\": 8.3, \"acceleration\": 7.4, \"launch\": 7.8, \"braking\": 8.0, \"Offroad\": 4.5, \"Horse_Power\": 493.0, \"Weight_lbs\": 3131.0}, {\"Car_Image\": \"https://www.kudosprime.com/fh5/images/cars/side/fh5_car_426.jpg?v=1\", \"Name_and_model\": \"2016 Porsche Cayman GT4\", \"Model_type\": \"TRACK TOYS\", \"In_Game_Price\": \"85,000\", \"car_source\": \"Autoshow\", \"stock_specs\": \"S1\", \"Stock_Rating\": 819.0, \"Drive_Type\": \"RWD\", \"speed\": 7.0, \"handling\": 8.1, \"acceleration\": 6.8, \"launch\": 6.6, \"braking\": 7.6, \"Offroad\": 4.2, \"Horse_Power\": 385.0, \"Weight_lbs\": 2955.0}, {\"Car_Image\": \"https://www.kudosprime.com/fh5/images/cars/side/fh5_car_427.jpg?v=1\", \"Name_and_model\": \"2017 Porsche Panamera Turbo\", \"Model_type\": \"SUPER SALOONS\", \"In_Game_Price\": \"150,000\", \"car_source\": \"Autoshow\", \"stock_specs\": \"A\", \"Stock_Rating\": 767.0, \"Drive_Type\": \"AWD\", \"speed\": 7.6, \"handling\": 6.3, \"acceleration\": 7.1, \"launch\": 8.2, \"braking\": 6.1, \"Offroad\": 5.1, \"Horse_Power\": 550.0, \"Weight_lbs\": 4398.0}, {\"Car_Image\": \"https://www.kudosprime.com/fh5/images/cars/side/fh5_car_428.jpg?v=1\", \"Name_and_model\": \"2018 Porsche 718 Cayman GTS\", \"Model_type\": \"MODERN SPORTS CARS\", \"In_Game_Price\": \"90,000\", \"car_source\": \"Autoshow\", \"stock_specs\": \"A\", \"Stock_Rating\": 785.0, \"Drive_Type\": \"RWD\", \"speed\": 6.8, \"handling\": 7.3, \"acceleration\": 6.4, \"launch\": 7.0, \"braking\": 5.6, \"Offroad\": 4.4, \"Horse_Power\": 361.0, \"Weight_lbs\": 3135.0}, {\"Car_Image\": \"https://www.kudosprime.com/fh5/images/cars/side/fh5_car_429.jpg?v=1\", \"Name_and_model\": \"2018 Porsche 911 GT2 RS\", \"Model_type\": \"TRACK TOYS\", \"In_Game_Price\": \"315,000\", \"car_source\": \"Autoshow\", \"stock_specs\": \"S1\", \"Stock_Rating\": 888.0, \"Drive_Type\": \"RWD\", \"speed\": 8.0, \"handling\": 8.6, \"acceleration\": 7.5, \"launch\": 8.3, \"braking\": 8.3, \"Offroad\": 4.2, \"Horse_Power\": 691.0, \"Weight_lbs\": 3197.0}, {\"Car_Image\": \"https://www.kudosprime.com/fh5/images/cars/side/fh5_car_430.jpg?v=1\", \"Name_and_model\": \"2018 Porsche Cayenne Turbo\", \"Model_type\": \"SPORTS UTILITY HEROES\", \"In_Game_Price\": \"220,000\", \"car_source\": \"Autoshow\", \"stock_specs\": \"A\", \"Stock_Rating\": 744.0, \"Drive_Type\": \"AWD\", \"speed\": 6.7, \"handling\": 5.3, \"acceleration\": 7.4, \"launch\": 9.8, \"braking\": 6.0, \"Offroad\": 5.9, \"Horse_Power\": 550.0, \"Weight_lbs\": 4795.0}, {\"Car_Image\": \"https://www.kudosprime.com/fh5/images/cars/side/fh5_car_431.jpg?v=1\", \"Name_and_model\": \"2018 Porsche Macan LPR Rally Raid\", \"Model_type\": \"OFFROAD\", \"In_Game_Price\": \"250,000\", \"car_source\": \"Wheelspin\", \"stock_specs\": \"B\", \"Stock_Rating\": 637.0, \"Drive_Type\": \"AWD\", \"speed\": 5.1, \"handling\": 3.9, \"acceleration\": 4.7, \"launch\": 4.6, \"braking\": 4.7, \"Offroad\": 10.0, \"Horse_Power\": 360.0, \"Weight_lbs\": 4899.0}, {\"Car_Image\": \"https://www.kudosprime.com/fh5/images/cars/side/fh5_car_432.jpg?v=1\", \"Name_and_model\": \"2019 Porsche 911 Carrera S\", \"Model_type\": \"MODERN SPORTS CARS\", \"In_Game_Price\": \"105,000\", \"car_source\": \"Autoshow\", \"stock_specs\": \"S1\", \"Stock_Rating\": 819.0, \"Drive_Type\": \"RWD\", \"speed\": 7.4, \"handling\": 7.4, \"acceleration\": 6.4, \"launch\": 6.9, \"braking\": 7.9, \"Offroad\": 4.5, \"Horse_Power\": 444.0, \"Weight_lbs\": 3340.0}, {\"Car_Image\": \"https://www.kudosprime.com/fh5/images/cars/side/fh5_car_433.jpg?v=1\", \"Name_and_model\": \"2019 Porsche 911 GT3 RS\", \"Model_type\": \"TRACK TOYS\", \"In_Game_Price\": \"255,000\", \"car_source\": \"Autoshow\", \"stock_specs\": \"S1\", \"Stock_Rating\": 860.0, \"Drive_Type\": \"RWD\", \"speed\": 7.2, \"handling\": 8.4, \"acceleration\": 7.4, \"launch\": 7.6, \"braking\": 8.2, \"Offroad\": 4.4, \"Horse_Power\": 514.0, \"Weight_lbs\": 3153.0}, {\"Car_Image\": \"https://www.kudosprime.com/fh5/images/cars/side/fh5_car_509.jpg?v=1\", \"Name_and_model\": \"2019 Porsche 911 GT3 RS Forza Edition\", \"Model_type\": \"RALLY MONSTERS\", \"In_Game_Price\": \"255,000\", \"car_source\": \"Car Collection\", \"stock_specs\": \"S1\", \"Stock_Rating\": 900.0, \"Drive_Type\": \"AWD\", \"speed\": 7.0, \"handling\": 7.0, \"acceleration\": 10.0, \"launch\": 10.0, \"braking\": 7.8, \"Offroad\": 8.1, \"Horse_Power\": 600.0, \"Weight_lbs\": 2844.0}, {\"Car_Image\": \"https://www.kudosprime.com/fh5/images/cars/side/fh5_car_434.jpg?v=1\", \"Name_and_model\": \"2019 Porsche Macan Turbo\", \"Model_type\": \"SPORTS UTILITY HEROES\", \"In_Game_Price\": \"135,000\", \"car_source\": \"Autoshow\", \"stock_specs\": \"B\", \"Stock_Rating\": 695.0, \"Drive_Type\": \"AWD\", \"speed\": 6.2, \"handling\": 4.9, \"acceleration\": 5.8, \"launch\": 9.4, \"braking\": 4.0, \"Offroad\": 6.3, \"Horse_Power\": 434.0, \"Weight_lbs\": 4277.0}, {\"Car_Image\": \"https://www.kudosprime.com/fh5/images/cars/side/fh5_car_435.jpg?v=1\", \"Name_and_model\": \"2020 Porsche Taycan Turbo S\", \"Model_type\": \"SUPER SALOONS\", \"In_Game_Price\": \"185,000\", \"car_source\": \"Autoshow\", \"stock_specs\": \"S1\", \"Stock_Rating\": 807.0, \"Drive_Type\": \"AWD\", \"speed\": 6.1, \"handling\": 5.7, \"acceleration\": 8.5, \"launch\": 9.6, \"braking\": 6.0, \"Offroad\": 4.4, \"Horse_Power\": 752.0, \"Weight_lbs\": 5121.0}, {\"Car_Image\": \"https://www.kudosprime.com/fh5/images/cars/side/fh5_car_436.jpg?v=1\", \"Name_and_model\": \"2020 Porsche Taycan Turbo S \\\"Welcome Pack\\\"\", \"Model_type\": \"SUPER SALOONS\", \"In_Game_Price\": \"185,000\", \"car_source\": \"Autoshow\", \"stock_specs\": \"S1\", \"Stock_Rating\": 900.0, \"Drive_Type\": \"AWD\", \"speed\": 10.0, \"handling\": 7.8, \"acceleration\": 9.7, \"launch\": 10.0, \"braking\": 7.2, \"Offroad\": 4.4, \"Horse_Power\": 902.0, \"Weight_lbs\": 3858.0}, {\"Car_Image\": \"https://www.kudosprime.com/fh5/images/cars/side/fh5_car_437.jpg?v=1\", \"Name_and_model\": \"2015 Radical RXC Turbo\", \"Model_type\": \"EXTREME TRACK TOYS\", \"In_Game_Price\": \"330,000\", \"car_source\": \"Wheelspin\", \"stock_specs\": \"S2\", \"Stock_Rating\": 928.0, \"Drive_Type\": \"RWD\", \"speed\": 7.0, \"handling\": 9.6, \"acceleration\": 7.1, \"launch\": 5.8, \"braking\": 9.0, \"Offroad\": 4.0, \"Horse_Power\": 454.0, \"Weight_lbs\": 2072.0}, {\"Car_Image\": \"https://www.kudosprime.com/fh5/images/cars/side/fh5_car_518.jpg?v=1\", \"Name_and_model\": \"2019 RAESR Tachyon Speed\", \"Model_type\": \"HYPERCARS\", \"In_Game_Price\": \"1,050,000\", \"car_source\": \"Season Event\", \"stock_specs\": \"S2\", \"Stock_Rating\": 983.0, \"Drive_Type\": \"AWD\", \"speed\": 8.5, \"handling\": 9.1, \"acceleration\": 5.3, \"launch\": 5.7, \"braking\": 8.9, \"Offroad\": 4.6, \"Horse_Power\": 1251.0, \"Weight_lbs\": 3200.0}, {\"Car_Image\": \"https://www.kudosprime.com/fh5/images/cars/side/fh5_car_438.jpg?v=1\", \"Name_and_model\": \"2017 RAM 2500 Power Wagon\", \"Model_type\": \"PICK-UP & 4X4'S\", \"In_Game_Price\": \"41,000\", \"car_source\": \"Autoshow\", \"stock_specs\": \"D\", \"Stock_Rating\": 467.0, \"Drive_Type\": \"AWD\", \"speed\": 5.2, \"handling\": 3.3, \"acceleration\": 2.8, \"launch\": 1.8, \"braking\": 2.8, \"Offroad\": 8.9, \"Horse_Power\": 410.0, \"Weight_lbs\": 7044.0}, {\"Car_Image\": \"https://www.kudosprime.com/fh5/images/cars/side/fh5_car_439.jpg?v=1\", \"Name_and_model\": \"1972 Reliant Supervan III\", \"Model_type\": \"CULT CARS\", \"In_Game_Price\": \"35,000\", \"car_source\": \"Autoshow\", \"stock_specs\": \"D\", \"Stock_Rating\": 100.0, \"Drive_Type\": \"RWD\", \"speed\": 2.6, \"handling\": 3.4, \"acceleration\": 2.2, \"launch\": 4.5, \"braking\": 2.0, \"Offroad\": 5.6, \"Horse_Power\": 32.0, \"Weight_lbs\": 1004.0}, {\"Car_Image\": \"https://www.kudosprime.com/fh5/images/cars/side/fh5_car_540.jpg?v=1\", \"Name_and_model\": \"1967 Renault 8 Gordini\", \"Model_type\": \"CLASSIC RALLY\", \"In_Game_Price\": \"0\", \"car_source\": \"Autoshow\", \"stock_specs\": \"D\", \"Stock_Rating\": 435.0, \"Drive_Type\": \"RWD\", \"speed\": 4.0, \"handling\": 4.4, \"acceleration\": 3.5, \"launch\": 2.8, \"braking\": 2.9, \"Offroad\": 5.9, \"Horse_Power\": 103.0, \"Weight_lbs\": 1885.0}, {\"Car_Image\": \"https://www.kudosprime.com/fh5/images/cars/side/fh5_car_531.jpg?v=1\", \"Name_and_model\": \"1968 Renault 4L Export\", \"Model_type\": \"CULT CARS\", \"In_Game_Price\": \"20,000\", \"car_source\": \"Barn\", \"stock_specs\": \"D\", \"Stock_Rating\": 100.0, \"Drive_Type\": \"FWD\", \"speed\": 2.2, \"handling\": 3.5, \"acceleration\": 1.5, \"launch\": 2.3, \"braking\": 2.0, \"Offroad\": 5.8, \"Horse_Power\": 27.0, \"Weight_lbs\": 1310.0}, {\"Car_Image\": \"https://www.kudosprime.com/fh5/images/cars/side/fh5_car_440.jpg?v=2\", \"Name_and_model\": \"1980 Renault 5 Turbo\", \"Model_type\": \"RETRO RALLY\", \"In_Game_Price\": \"120,000\", \"car_source\": \"Autoshow\", \"stock_specs\": \"C\", \"Stock_Rating\": 521.0, \"Drive_Type\": \"RWD\", \"speed\": 4.6, \"handling\": 4.3, \"acceleration\": 4.6, \"launch\": 3.4, \"braking\": 2.9, \"Offroad\": 6.0, \"Horse_Power\": 157.0, \"Weight_lbs\": 2138.0}, {\"Car_Image\": \"https://www.kudosprime.com/fh5/images/cars/side/fh5_car_441.jpg?v=1\", \"Name_and_model\": \"1993 Renault Clio Williams\", \"Model_type\": \"RETRO HOT HATCH\", \"In_Game_Price\": \"30,000\", \"car_source\": \"Autoshow\", \"stock_specs\": \"C\", \"Stock_Rating\": 511.0, \"Drive_Type\": \"FWD\", \"speed\": 4.7, \"handling\": 4.8, \"acceleration\": 4.0, \"launch\": 3.1, \"braking\": 2.9, \"Offroad\": 4.8, \"Horse_Power\": 142.0, \"Weight_lbs\": 2233.0}, {\"Car_Image\": \"https://www.kudosprime.com/fh5/images/cars/side/fh5_car_442.jpg?v=1\", \"Name_and_model\": \"2008 Renault M\\u00e9gane R26.R\", \"Model_type\": \"SUPER HOT HATCH\", \"In_Game_Price\": \"28,000\", \"car_source\": \"Autoshow\", \"stock_specs\": \"B\", \"Stock_Rating\": 678.0, \"Drive_Type\": \"FWD\", \"speed\": 5.4, \"handling\": 6.0, \"acceleration\": 4.8, \"launch\": 4.0, \"braking\": 5.2, \"Offroad\": 4.7, \"Horse_Power\": 227.0, \"Weight_lbs\": 2712.0}, {\"Car_Image\": \"https://www.kudosprime.com/fh5/images/cars/side/fh5_car_443.jpg?v=1\", \"Name_and_model\": \"2013 Renault Clio R.S. 200 EDC\", \"Model_type\": \"HOT HATCH\", \"In_Game_Price\": \"29,000\", \"car_source\": \"Autoshow\", \"stock_specs\": \"C\", \"Stock_Rating\": 595.0, \"Drive_Type\": \"FWD\", \"speed\": 5.1, \"handling\": 5.1, \"acceleration\": 4.4, \"launch\": 4.5, \"braking\": 3.6, \"Offroad\": 4.9, \"Horse_Power\": 197.0, \"Weight_lbs\": 2685.0}, {\"Car_Image\": \"https://www.kudosprime.com/fh5/images/cars/side/fh5_car_444.jpg?v=1\", \"Name_and_model\": \"2018 Renault MEGANE R.S.\", \"Model_type\": \"SUPER HOT HATCH\", \"In_Game_Price\": \"37,000\", \"car_source\": \"Autoshow\", \"stock_specs\": \"B\", \"Stock_Rating\": 670.0, \"Drive_Type\": \"FWD\", \"speed\": 5.7, \"handling\": 6.0, \"acceleration\": 4.5, \"launch\": 4.6, \"braking\": 4.4, \"Offroad\": 5.0, \"Horse_Power\": 275.0, \"Weight_lbs\": 3153.0}, {\"Car_Image\": \"https://www.kudosprime.com/fh5/images/cars/side/fh5_car_445.jpg?v=1\", \"Name_and_model\": \"2019 Rimac Concept Two\", \"Model_type\": \"HYPERCARS\", \"In_Game_Price\": \"2,000,000\", \"car_source\": \"Autoshow\", \"stock_specs\": \"S2\", \"Stock_Rating\": 963.0, \"Drive_Type\": \"AWD\", \"speed\": 9.1, \"handling\": 7.5, \"acceleration\": 9.9, \"launch\": 10.0, \"braking\": 9.3, \"Offroad\": 3.8, \"Horse_Power\": 1887.0, \"Weight_lbs\": 4299.0}, {\"Car_Image\": \"https://www.kudosprime.com/fh5/images/cars/side/fh5_car_446.jpg?v=1\", \"Name_and_model\": \"2016 RJ Anderson #37 Polaris RZR-Rockstar Energy Pro 2 Truck\", \"Model_type\": \"UNLIMITED OFFROAD\", \"In_Game_Price\": \"500,000\", \"car_source\": \"Autoshow\", \"stock_specs\": \"A\", \"Stock_Rating\": 776.0, \"Drive_Type\": \"RWD\", \"speed\": 5.9, \"handling\": 3.7, \"acceleration\": 4.5, \"launch\": 4.2, \"braking\": 5.1, \"Offroad\": 9.9, \"Horse_Power\": 850.0, \"Weight_lbs\": 3750.0}, {\"Car_Image\": \"https://www.kudosprime.com/fh5/images/cars/side/fh5_car_447.jpg?v=1\", \"Name_and_model\": \"2004 Saleen S7\", \"Model_type\": \"RETRO SUPERCARS\", \"In_Game_Price\": \"388,000\", \"car_source\": \"Wheelspin\", \"stock_specs\": \"S1\", \"Stock_Rating\": 855.0, \"Drive_Type\": \"RWD\", \"speed\": 7.9, \"handling\": 7.4, \"acceleration\": 7.1, \"launch\": 7.0, \"braking\": 6.7, \"Offroad\": 4.7, \"Horse_Power\": 575.0, \"Weight_lbs\": 2756.0}, {\"Car_Image\": \"https://www.kudosprime.com/fh5/images/cars/side/fh5_car_448.jpg?v=1\", \"Name_and_model\": \"2018 Saleen S1\", \"Model_type\": \"MODERN SUPERCARS\", \"In_Game_Price\": \"200,000\", \"car_source\": \"Autoshow\", \"stock_specs\": \"S1\", \"Stock_Rating\": 821.0, \"Drive_Type\": \"RWD\", \"speed\": 6.5, \"handling\": 7.2, \"acceleration\": 7.2, \"launch\": 5.9, \"braking\": 6.3, \"Offroad\": 4.7, \"Horse_Power\": 450.0, \"Weight_lbs\": 2685.0}, {\"Car_Image\": \"https://www.kudosprime.com/fh5/images/cars/side/fh5_car_449.jpg?v=1\", \"Name_and_model\": \"1965 Shelby Cobra 427 S/C\", \"Model_type\": \"RARE CLASSICS\", \"In_Game_Price\": \"2,100,000\", \"car_source\": \"Autoshow\", \"stock_specs\": \"B\", \"Stock_Rating\": 694.0, \"Drive_Type\": \"RWD\", \"speed\": 5.9, \"handling\": 4.1, \"acceleration\": 4.5, \"launch\": 4.6, \"braking\": 3.2, \"Offroad\": 4.5, \"Horse_Power\": 425.0, \"Weight_lbs\": 2350.0}, {\"Car_Image\": \"https://www.kudosprime.com/fh5/images/cars/side/fh5_car_450.jpg?v=1\", \"Name_and_model\": \"1965 Shelby Cobra Daytona Coupe\", \"Model_type\": \"CLASSIC RACERS\", \"In_Game_Price\": \"30,000,000\", \"car_source\": \"Autoshow\", \"stock_specs\": \"B\", \"Stock_Rating\": 637.0, \"Drive_Type\": \"RWD\", \"speed\": 6.7, \"handling\": 3.9, \"acceleration\": 3.7, \"launch\": 2.9, \"braking\": 2.8, \"Offroad\": 4.7, \"Horse_Power\": 390.0, \"Weight_lbs\": 2300.0}, {\"Car_Image\": \"https://www.kudosprime.com/fh5/images/cars/side/fh5_car_451.jpg?v=1\", \"Name_and_model\": \"2021 SIERRA Cars RX3\", \"Model_type\": \"UTV'S\", \"In_Game_Price\": \"45,000\", \"car_source\": \"Autoshow\", \"stock_specs\": \"A\", \"Stock_Rating\": 737.0, \"Drive_Type\": \"RWD\", \"speed\": 4.3, \"handling\": 5.1, \"acceleration\": 6.4, \"launch\": 7.1, \"braking\": 5.9, \"Offroad\": 7.7, \"Horse_Power\": 194.0, \"Weight_lbs\": 925.0}, {\"Car_Image\": \"https://www.kudosprime.com/fh5/images/cars/side/fh5_car_452.jpg?v=1\", \"Name_and_model\": \"1998 Subaru Impreza 22B-STi Version\", \"Model_type\": \"RETRO RALLY\", \"In_Game_Price\": \"110,000\", \"car_source\": \"Wheelspin\", \"stock_specs\": \"B\", \"Stock_Rating\": 640.0, \"Drive_Type\": \"AWD\", \"speed\": 5.6, \"handling\": 5.5, \"acceleration\": 5.0, \"launch\": 3.2, \"braking\": 3.6, \"Offroad\": 5.3, \"Horse_Power\": 276.0, \"Weight_lbs\": 2800.0}, {\"Car_Image\": \"https://www.kudosprime.com/fh5/images/cars/side/fh5_car_453.jpg?v=1\", \"Name_and_model\": \"2004 Subaru IMPREZA WRX STi\", \"Model_type\": \"MODERN RALLY\", \"In_Game_Price\": \"28,000\", \"car_source\": \"Autoshow\", \"stock_specs\": \"B\", \"Stock_Rating\": 652.0, \"Drive_Type\": \"AWD\", \"speed\": 5.9, \"handling\": 5.3, \"acceleration\": 6.0, \"launch\": 3.6, \"braking\": 3.6, \"Offroad\": 5.6, \"Horse_Power\": 278.0, \"Weight_lbs\": 3270.0}, {\"Car_Image\": \"https://www.kudosprime.com/fh5/images/cars/side/fh5_car_454.jpg?v=1\", \"Name_and_model\": \"2005 Subaru IMPREZA WRX STI\", \"Model_type\": \"MODERN RALLY\", \"In_Game_Price\": \"51,000\", \"car_source\": \"Autoshow\", \"stock_specs\": \"B\", \"Stock_Rating\": 669.0, \"Drive_Type\": \"AWD\", \"speed\": 6.2, \"handling\": 5.3, \"acceleration\": 6.3, \"launch\": 3.2, \"braking\": 3.6, \"Offroad\": 5.7, \"Horse_Power\": 311.0, \"Weight_lbs\": 3315.0}, {\"Car_Image\": \"https://www.kudosprime.com/fh5/images/cars/side/fh5_car_455.jpg?v=1\", \"Name_and_model\": \"2008 Subaru IMPREZA WRX STI\", \"Model_type\": \"MODERN RALLY\", \"In_Game_Price\": \"31,000\", \"car_source\": \"Autoshow\", \"stock_specs\": \"B\", \"Stock_Rating\": 649.0, \"Drive_Type\": \"AWD\", \"speed\": 5.7, \"handling\": 5.5, \"acceleration\": 5.4, \"launch\": 3.8, \"braking\": 3.7, \"Offroad\": 5.6, \"Horse_Power\": 305.0, \"Weight_lbs\": 3395.0}, {\"Car_Image\": \"https://www.kudosprime.com/fh5/images/cars/side/fh5_car_456.jpg?v=1\", \"Name_and_model\": \"2011 Subaru WRX STI\", \"Model_type\": \"MODERN RALLY\", \"In_Game_Price\": \"33,000\", \"car_source\": \"Autoshow\", \"stock_specs\": \"B\", \"Stock_Rating\": 668.0, \"Drive_Type\": \"AWD\", \"speed\": 6.0, \"handling\": 5.7, \"acceleration\": 5.1, \"launch\": 2.8, \"braking\": 3.9, \"Offroad\": 5.9, \"Horse_Power\": 305.0, \"Weight_lbs\": 3384.0}, {\"Car_Image\": \"https://www.kudosprime.com/fh5/images/cars/side/fh5_car_457.jpg?v=1\", \"Name_and_model\": \"2013 Subaru BRZ\", \"Model_type\": \"MODERN SPORTS CARS\", \"In_Game_Price\": \"32,000\", \"car_source\": \"Autoshow\", \"stock_specs\": \"C\", \"Stock_Rating\": 581.0, \"Drive_Type\": \"RWD\", \"speed\": 5.7, \"handling\": 5.1, \"acceleration\": 4.2, \"launch\": 3.6, \"braking\": 3.1, \"Offroad\": 4.8, \"Horse_Power\": 200.0, \"Weight_lbs\": 2764.0}, {\"Car_Image\": \"https://www.kudosprime.com/fh5/images/cars/side/fh5_car_458.jpg?v=1\", \"Name_and_model\": \"2015 Subaru WRX STI\", \"Model_type\": \"MODERN RALLY\", \"In_Game_Price\": \"42,000\", \"car_source\": \"Autoshow\", \"stock_specs\": \"B\", \"Stock_Rating\": 675.0, \"Drive_Type\": \"AWD\", \"speed\": 6.0, \"handling\": 5.7, \"acceleration\": 5.5, \"launch\": 3.1, \"braking\": 3.9, \"Offroad\": 5.6, \"Horse_Power\": 305.0, \"Weight_lbs\": 3386.0}, {\"Car_Image\": \"https://www.kudosprime.com/fh5/images/cars/side/fh5_car_539.jpg?v=1\", \"Name_and_model\": \"2019 Subaru STI 209\", \"Model_type\": \"MODERN RALLY\", \"In_Game_Price\": \"42,000\", \"car_source\": \"Autoshow\", \"stock_specs\": \"B\", \"Stock_Rating\": 689.0, \"Drive_Type\": \"AWD\", \"speed\": 6.0, \"handling\": 5.9, \"acceleration\": 5.8, \"launch\": 3.1, \"braking\": 4.4, \"Offroad\": 5.4, \"Horse_Power\": 341.0, \"Weight_lbs\": 3485.0}, {\"Car_Image\": \"https://www.kudosprime.com/fh5/images/cars/side/fh5_car_459.jpg?v=1\", \"Name_and_model\": \"1969 Toyota 2000GT\", \"Model_type\": \"RARE CLASSICS\", \"In_Game_Price\": \"750,000\", \"car_source\": \"Autoshow\", \"stock_specs\": \"D\", \"Stock_Rating\": 487.0, \"Drive_Type\": \"RWD\", \"speed\": 5.1, \"handling\": 4.3, \"acceleration\": 3.7, \"launch\": 2.7, \"braking\": 2.6, \"Offroad\": 5.0, \"Horse_Power\": 150.0, \"Weight_lbs\": 2550.0}, {\"Car_Image\": \"https://www.kudosprime.com/fh5/images/cars/side/fh5_car_460.jpg?v=1\", \"Name_and_model\": \"1974 Toyota Celica GT\", \"Model_type\": \"CLASSIC SPORTS CARS\", \"In_Game_Price\": \"20,000\", \"car_source\": \"Autoshow\", \"stock_specs\": \"D\", \"Stock_Rating\": 315.0, \"Drive_Type\": \"RWD\", \"speed\": 4.0, \"handling\": 3.8, \"acceleration\": 2.7, \"launch\": 2.5, \"braking\": 2.0, \"Offroad\": 4.9, \"Horse_Power\": 97.0, \"Weight_lbs\": 2392.0}, {\"Car_Image\": \"https://www.kudosprime.com/fh5/images/cars/side/fh5_car_461.jpg?v=1\", \"Name_and_model\": \"1979 Toyota FJ40\", \"Model_type\": \"PICK-UP & 4X4'S\", \"In_Game_Price\": \"55,000\", \"car_source\": \"Autoshow\", \"stock_specs\": \"D\", \"Stock_Rating\": 269.0, \"Drive_Type\": \"AWD\", \"speed\": 3.4, \"handling\": 3.0, \"acceleration\": 2.4, \"launch\": 3.4, \"braking\": 2.3, \"Offroad\": 7.5, \"Horse_Power\": 135.0, \"Weight_lbs\": 3417.0}, {\"Car_Image\": \"https://www.kudosprime.com/fh5/images/cars/side/fh5_car_462.jpg?v=1\", \"Name_and_model\": \"1985 Toyota Sprinter Trueno GT Apex\", \"Model_type\": \"RETRO SPORTS CARS\", \"In_Game_Price\": \"20,000\", \"car_source\": \"Wheelspin\", \"stock_specs\": \"D\", \"Stock_Rating\": 480.0, \"Drive_Type\": \"RWD\", \"speed\": 4.5, \"handling\": 4.3, \"acceleration\": 4.0, \"launch\": 3.4, \"braking\": 2.6, \"Offroad\": 5.2, \"Horse_Power\": 128.0, \"Weight_lbs\": 2094.0}, {\"Car_Image\": \"https://www.kudosprime.com/fh5/images/cars/side/fh5_car_463.jpg?v=1\", \"Name_and_model\": \"1989 Toyota MR2 SC\", \"Model_type\": \"RETRO SPORTS CARS\", \"In_Game_Price\": \"20,000\", \"car_source\": \"Autoshow\", \"stock_specs\": \"C\", \"Stock_Rating\": 502.0, \"Drive_Type\": \"RWD\", \"speed\": 5.1, \"handling\": 4.7, \"acceleration\": 3.8, \"launch\": 3.3, \"braking\": 2.8, \"Offroad\": 5.4, \"Horse_Power\": 145.0, \"Weight_lbs\": 2620.0}, {\"Car_Image\": \"https://www.kudosprime.com/fh5/images/cars/side/fh5_car_465.jpg?v=1\", \"Name_and_model\": \"1992 Toyota Celica GT-Four RC ST185\", \"Model_type\": \"RETRO RALLY\", \"In_Game_Price\": \"25,000\", \"car_source\": \"Autoshow\", \"stock_specs\": \"C\", \"Stock_Rating\": 544.0, \"Drive_Type\": \"AWD\", \"speed\": 5.8, \"handling\": 4.5, \"acceleration\": 4.7, \"launch\": 2.9, \"braking\": 2.7, \"Offroad\": 5.5, \"Horse_Power\": 232.0, \"Weight_lbs\": 3219.0}, {\"Car_Image\": \"https://www.kudosprime.com/fh5/images/cars/side/fh5_car_464.jpg?v=1\", \"Name_and_model\": \"1992 Toyota Supra 2.0 GT\", \"Model_type\": \"RETRO SPORTS CARS\", \"In_Game_Price\": \"20,000\", \"car_source\": \"Autoshow\", \"stock_specs\": \"C\", \"Stock_Rating\": 558.0, \"Drive_Type\": \"RWD\", \"speed\": 5.4, \"handling\": 5.1, \"acceleration\": 4.1, \"launch\": 2.7, \"braking\": 3.0, \"Offroad\": 5.1, \"Horse_Power\": 206.0, \"Weight_lbs\": 3329.0}, {\"Car_Image\": \"https://www.kudosprime.com/fh5/images/cars/side/fh5_car_527.jpg?v=1\", \"Name_and_model\": \"1993 Toyota #1 T100 Baja Truck\", \"Model_type\": \"UNLIMITED OFFROAD\", \"In_Game_Price\": \"500,000\", \"car_source\": \"Barn\", \"stock_specs\": \"B\", \"Stock_Rating\": 693.0, \"Drive_Type\": \"RWD\", \"speed\": 4.7, \"handling\": 3.7, \"acceleration\": 5.9, \"launch\": 6.0, \"braking\": 4.7, \"Offroad\": 10.0, \"Horse_Power\": 360.0, \"Weight_lbs\": 4000.0}, {\"Car_Image\": \"https://www.kudosprime.com/fh5/images/cars/side/fh5_car_466.jpg?v=1\", \"Name_and_model\": \"1994 Toyota Celica GT-Four ST205\", \"Model_type\": \"RETRO RALLY\", \"In_Game_Price\": \"20,000\", \"car_source\": \"Wheelspin\", \"stock_specs\": \"C\", \"Stock_Rating\": 590.0, \"Drive_Type\": \"AWD\", \"speed\": 6.1, \"handling\": 4.9, \"acceleration\": 5.1, \"launch\": 2.9, \"braking\": 3.0, \"Offroad\": 5.3, \"Horse_Power\": 255.0, \"Weight_lbs\": 3175.0}, {\"Car_Image\": \"https://www.kudosprime.com/fh5/images/cars/side/fh5_car_467.jpg?v=1\", \"Name_and_model\": \"1998 Toyota Supra RZ\", \"Model_type\": \"RETRO SPORTS CARS\", \"In_Game_Price\": \"38,000\", \"car_source\": \"Autoshow\", \"stock_specs\": \"B\", \"Stock_Rating\": 646.0, \"Drive_Type\": \"RWD\", \"speed\": 6.4, \"handling\": 5.4, \"acceleration\": 4.6, \"launch\": 3.1, \"braking\": 3.5, \"Offroad\": 4.7, \"Horse_Power\": 320.0, \"Weight_lbs\": 3329.0}, {\"Car_Image\": \"https://www.kudosprime.com/fh5/images/cars/side/fh5_car_468.jpg?v=1\", \"Name_and_model\": \"1998 Toyota Supra RZ \\\"Welcome Pack\\\"\", \"Model_type\": \"RETRO SPORTS CARS\", \"In_Game_Price\": \"38,000\", \"car_source\": \"Autoshow\", \"stock_specs\": \"A\", \"Stock_Rating\": 800.0, \"Drive_Type\": \"RWD\", \"speed\": 7.5, \"handling\": 6.7, \"acceleration\": 5.9, \"launch\": 4.3, \"braking\": 5.8, \"Offroad\": 4.1, \"Horse_Power\": 505.0, \"Weight_lbs\": 3252.0}, {\"Car_Image\": \"https://www.kudosprime.com/fh5/images/cars/side/fh5_car_558.jpg?v=1\", \"Name_and_model\": \"2003 Toyota Celica SS-1\", \"Model_type\": \"RETRO SPORTS CARS\", \"In_Game_Price\": \"250,000\", \"car_source\": \"Season Event\", \"stock_specs\": \"C\", \"Stock_Rating\": 557.0, \"Drive_Type\": \"FWD\", \"speed\": 5.5, \"handling\": 4.8, \"acceleration\": 3.8, \"launch\": 3.0, \"braking\": 3.0, \"Offroad\": 5.2, \"Horse_Power\": 187.0, \"Weight_lbs\": 2560.0}, {\"Car_Image\": \"https://www.kudosprime.com/fh5/images/cars/side/fh5_car_561.jpg?v=1\", \"Name_and_model\": \"2007 Toyota Hilux Arctic Trucks AT38\", \"Model_type\": \"PICK-UP & 4X4'S\", \"In_Game_Price\": \"250,000\", \"car_source\": \"Season Event\", \"stock_specs\": \"D\", \"Stock_Rating\": 457.0, \"Drive_Type\": \"AWD\", \"speed\": 4.0, \"handling\": 4.1, \"acceleration\": 2.7, \"launch\": 2.6, \"braking\": 2.9, \"Offroad\": 9.4, \"Horse_Power\": 169.0, \"Weight_lbs\": 4740.0}, {\"Car_Image\": \"https://www.kudosprime.com/fh5/images/cars/side/fh5_car_469.jpg?v=1\", \"Name_and_model\": \"2013 Toyota 86\", \"Model_type\": \"MODERN SPORTS CARS\", \"In_Game_Price\": \"28,800\", \"car_source\": \"Autoshow\", \"stock_specs\": \"C\", \"Stock_Rating\": 579.0, \"Drive_Type\": \"RWD\", \"speed\": 5.5, \"handling\": 5.2, \"acceleration\": 4.2, \"launch\": 3.6, \"braking\": 3.2, \"Offroad\": 4.8, \"Horse_Power\": 197.0, \"Weight_lbs\": 2734.0}, {\"Car_Image\": \"https://www.kudosprime.com/fh5/images/cars/side/fh5_car_560.jpg?v=1\", \"Name_and_model\": \"2016 Toyota Land Cruiser Arctic Trucks AT37\", \"Model_type\": \"PICK-UP & 4X4'S\", \"In_Game_Price\": \"250,000\", \"car_source\": \"Season Event\", \"stock_specs\": \"D\", \"Stock_Rating\": 404.0, \"Drive_Type\": \"AWD\", \"speed\": 4.1, \"handling\": 3.8, \"acceleration\": 2.5, \"launch\": 2.2, \"braking\": 2.7, \"Offroad\": 9.5, \"Horse_Power\": 161.0, \"Weight_lbs\": 4993.0}, {\"Car_Image\": \"https://www.kudosprime.com/fh5/images/cars/side/fh5_car_470.jpg?v=1\", \"Name_and_model\": \"2020 Toyota GR Supra\", \"Model_type\": \"MODERN SPORTS CARS\", \"In_Game_Price\": \"55,000\", \"car_source\": \"Autoshow\", \"stock_specs\": \"A\", \"Stock_Rating\": 731.0, \"Drive_Type\": \"RWD\", \"speed\": 6.2, \"handling\": 6.1, \"acceleration\": 5.5, \"launch\": 5.8, \"braking\": 4.6, \"Offroad\": 4.8, \"Horse_Power\": 335.0, \"Weight_lbs\": 3397.0}, {\"Car_Image\": \"https://www.kudosprime.com/fh5/images/cars/side/fh5_car_471.jpg?v=1\", \"Name_and_model\": \"1998 TVR Cerbera Speed 12\", \"Model_type\": \"RETRO SUPERCARS\", \"In_Game_Price\": \"500,000\", \"car_source\": \"Autoshow\", \"stock_specs\": \"S1\", \"Stock_Rating\": 861.0, \"Drive_Type\": \"RWD\", \"speed\": 8.7, \"handling\": 6.7, \"acceleration\": 5.4, \"launch\": 5.7, \"braking\": 6.6, \"Offroad\": 3.4, \"Horse_Power\": 800.0, \"Weight_lbs\": 2150.0}, {\"Car_Image\": \"https://www.kudosprime.com/fh5/images/cars/side/fh5_car_472.jpg?v=1\", \"Name_and_model\": \"2005 TVR Sagaris\", \"Model_type\": \"RETRO SPORTS CARS\", \"In_Game_Price\": \"86,000\", \"car_source\": \"Autoshow\", \"stock_specs\": \"A\", \"Stock_Rating\": 779.0, \"Drive_Type\": \"RWD\", \"speed\": 6.7, \"handling\": 6.2, \"acceleration\": 5.3, \"launch\": 5.5, \"braking\": 5.0, \"Offroad\": 4.3, \"Horse_Power\": 406.0, \"Weight_lbs\": 2377.0}, {\"Car_Image\": \"https://www.kudosprime.com/fh5/images/cars/side/fh5_car_473.jpg?v=1\", \"Name_and_model\": \"2018 TVR Griffith\", \"Model_type\": \"MODERN SPORTS CARS\", \"In_Game_Price\": \"105,000\", \"car_source\": \"Autoshow\", \"stock_specs\": \"S1\", \"Stock_Rating\": 825.0, \"Drive_Type\": \"RWD\", \"speed\": 7.2, \"handling\": 7.7, \"acceleration\": 5.9, \"launch\": 6.3, \"braking\": 6.9, \"Offroad\": 4.2, \"Horse_Power\": 480.0, \"Weight_lbs\": 2645.0}, {\"Car_Image\": \"https://www.kudosprime.com/fh5/images/cars/side/fh5_car_474.jpg?v=1\", \"Name_and_model\": \"2015 Ultima Evolution Coupe 1020\", \"Model_type\": \"EXTREME TRACK TOYS\", \"In_Game_Price\": \"300,000\", \"car_source\": \"Autoshow\", \"stock_specs\": \"S2\", \"Stock_Rating\": 961.0, \"Drive_Type\": \"RWD\", \"speed\": 8.8, \"handling\": 9.5, \"acceleration\": 7.7, \"launch\": 8.4, \"braking\": 7.9, \"Offroad\": 3.9, \"Horse_Power\": 1020.0, \"Weight_lbs\": 2094.0}, {\"Car_Image\": \"https://www.kudosprime.com/fh5/images/cars/side/fh5_car_563.jpg?v=1\", \"Name_and_model\": \"1990 Vauxhall Lotus Carlton\", \"Model_type\": \"RETRO SALOONS\", \"In_Game_Price\": \"250,000\", \"car_source\": \"Season Event\", \"stock_specs\": \"B\", \"Stock_Rating\": 635.0, \"Drive_Type\": \"RWD\", \"speed\": 6.6, \"handling\": 4.7, \"acceleration\": 4.1, \"launch\": 2.4, \"braking\": 3.2, \"Offroad\": 4.7, \"Horse_Power\": 379.0, \"Weight_lbs\": 3642.0}, {\"Car_Image\": \"https://www.kudosprime.com/fh5/images/cars/side/fh5_car_475.jpg?v=1\", \"Name_and_model\": \"2005 Vauxhall Monaro VXR\", \"Model_type\": \"MODERN MUSCLE\", \"In_Game_Price\": \"25,000\", \"car_source\": \"Autoshow\", \"stock_specs\": \"B\", \"Stock_Rating\": 696.0, \"Drive_Type\": \"RWD\", \"speed\": 7.1, \"handling\": 5.6, \"acceleration\": 4.9, \"launch\": 4.1, \"braking\": 4.3, \"Offroad\": 5.2, \"Horse_Power\": 398.0, \"Weight_lbs\": 3697.0}, {\"Car_Image\": \"https://www.kudosprime.com/fh5/images/cars/side/fh5_car_476.jpg?v=1\", \"Name_and_model\": \"2016 Vauxhall Corsa VXR\", \"Model_type\": \"HOT HATCH\", \"In_Game_Price\": \"28,000\", \"car_source\": \"Autoshow\", \"stock_specs\": \"C\", \"Stock_Rating\": 584.0, \"Drive_Type\": \"FWD\", \"speed\": 5.1, \"handling\": 5.3, \"acceleration\": 3.3, \"launch\": 4.2, \"braking\": 3.6, \"Offroad\": 4.7, \"Horse_Power\": 202.0, \"Weight_lbs\": 2851.0}, {\"Car_Image\": \"https://www.kudosprime.com/fh5/images/cars/side/fh5_car_478.jpg?v=1\", \"Name_and_model\": \"1963 Volkswagen Beetle\", \"Model_type\": \"CULT CARS\", \"In_Game_Price\": \"20,000\", \"car_source\": \"Accolade\", \"stock_specs\": \"D\", \"Stock_Rating\": 100.0, \"Drive_Type\": \"RWD\", \"speed\": 2.9, \"handling\": 3.7, \"acceleration\": 1.7, \"launch\": 2.9, \"braking\": 1.9, \"Offroad\": 5.7, \"Horse_Power\": 40.0, \"Weight_lbs\": 1760.0}, {\"Car_Image\": \"https://www.kudosprime.com/fh5/images/cars/side/fh5_car_510.jpg?v=1\", \"Name_and_model\": \"1963 Volkswagen Beetle Forza Edition\", \"Model_type\": \"TRACK TOYS\", \"In_Game_Price\": \"500,000\", \"car_source\": \"Accolade\", \"stock_specs\": \"S1\", \"Stock_Rating\": 900.0, \"Drive_Type\": \"RWD\", \"speed\": 6.1, \"handling\": 8.8, \"acceleration\": 8.0, \"launch\": 8.8, \"braking\": 10.0, \"Offroad\": 4.4, \"Horse_Power\": 329.0, \"Weight_lbs\": 1543.0}, {\"Car_Image\": \"https://www.kudosprime.com/fh5/images/cars/side/fh5_car_477.jpg?v=1\", \"Name_and_model\": \"1963 Volkswagen Type 2 De Luxe\", \"Model_type\": \"CULT CARS\", \"In_Game_Price\": \"40,000\", \"car_source\": \"Autoshow\", \"stock_specs\": \"D\", \"Stock_Rating\": 100.0, \"Drive_Type\": \"RWD\", \"speed\": 2.6, \"handling\": 3.6, \"acceleration\": 1.5, \"launch\": 3.0, \"braking\": 2.0, \"Offroad\": 5.7, \"Horse_Power\": 50.0, \"Weight_lbs\": 2513.0}, {\"Car_Image\": \"https://www.kudosprime.com/fh5/images/cars/side/fh5_car_479.jpg?v=1\", \"Name_and_model\": \"1969 Volkswagen Class 5/1600 Baja Bug\", \"Model_type\": \"BUGGIES\", \"In_Game_Price\": \"60,000\", \"car_source\": \"Autoshow\", \"stock_specs\": \"D\", \"Stock_Rating\": 349.0, \"Drive_Type\": \"RWD\", \"speed\": 3.5, \"handling\": 4.6, \"acceleration\": 2.5, \"launch\": 4.7, \"braking\": 3.1, \"Offroad\": 7.7, \"Horse_Power\": 80.0, \"Weight_lbs\": 2400.0}, {\"Car_Image\": \"https://www.kudosprime.com/fh5/images/cars/side/fh5_car_480.jpg?v=1\", \"Name_and_model\": \"1970 Volkswagen #1107 Desert Dingo Racing Stock Bug\", \"Model_type\": \"BUGGIES\", \"In_Game_Price\": \"25,000\", \"car_source\": \"Autoshow\", \"stock_specs\": \"D\", \"Stock_Rating\": 371.0, \"Drive_Type\": \"RWD\", \"speed\": 3.8, \"handling\": 3.4, \"acceleration\": 2.8, \"launch\": 2.9, \"braking\": 2.3, \"Offroad\": 8.5, \"Horse_Power\": 93.0, \"Weight_lbs\": 2165.0}, {\"Car_Image\": \"https://www.kudosprime.com/fh5/images/cars/side/fh5_car_481.jpg?v=1\", \"Name_and_model\": \"1981 Volkswagen Scirocco S\", \"Model_type\": \"RETRO HOT HATCH\", \"In_Game_Price\": \"20,000\", \"car_source\": \"Autoshow\", \"stock_specs\": \"D\", \"Stock_Rating\": 293.0, \"Drive_Type\": \"FWD\", \"speed\": 3.7, \"handling\": 4.3, \"acceleration\": 2.5, \"launch\": 2.8, \"braking\": 2.1, \"Offroad\": 4.9, \"Horse_Power\": 74.0, \"Weight_lbs\": 2015.0}, {\"Car_Image\": \"https://www.kudosprime.com/fh5/images/cars/side/fh5_car_482.jpg?v=1\", \"Name_and_model\": \"1983 Volkswagen Golf GTI\", \"Model_type\": \"RETRO HOT HATCH\", \"In_Game_Price\": \"20,000\", \"car_source\": \"Autoshow\", \"stock_specs\": \"D\", \"Stock_Rating\": 428.0, \"Drive_Type\": \"FWD\", \"speed\": 4.2, \"handling\": 3.9, \"acceleration\": 3.5, \"launch\": 3.3, \"braking\": 2.4, \"Offroad\": 5.0, \"Horse_Power\": 112.0, \"Weight_lbs\": 1909.0}, {\"Car_Image\": \"https://www.kudosprime.com/fh5/images/cars/side/fh5_car_483.jpg?v=1\", \"Name_and_model\": \"1992 Volkswagen Golf Gti 16v Mk2\", \"Model_type\": \"RETRO HOT HATCH\", \"In_Game_Price\": \"20,000\", \"car_source\": \"Autoshow\", \"stock_specs\": \"D\", \"Stock_Rating\": 429.0, \"Drive_Type\": \"FWD\", \"speed\": 4.6, \"handling\": 4.4, \"acceleration\": 3.4, \"launch\": 2.5, \"braking\": 2.4, \"Offroad\": 4.9, \"Horse_Power\": 139.0, \"Weight_lbs\": 2425.0}, {\"Car_Image\": \"https://www.kudosprime.com/fh5/images/cars/side/fh5_car_484.jpg?v=1\", \"Name_and_model\": \"1995 Volkswagen Corrado VR6\", \"Model_type\": \"RETRO HOT HATCH\", \"In_Game_Price\": \"20,000\", \"car_source\": \"Autoshow\", \"stock_specs\": \"C\", \"Stock_Rating\": 533.0, \"Drive_Type\": \"FWD\", \"speed\": 5.4, \"handling\": 4.8, \"acceleration\": 3.6, \"launch\": 3.3, \"braking\": 2.8, \"Offroad\": 5.0, \"Horse_Power\": 178.0, \"Weight_lbs\": 2734.0}, {\"Car_Image\": \"https://www.kudosprime.com/fh5/images/cars/side/fh5_car_485.jpg?v=1\", \"Name_and_model\": \"1998 Volkswagen GTI VR6 Mk3\", \"Model_type\": \"RETRO HOT HATCH\", \"In_Game_Price\": \"25,000\", \"car_source\": \"Autoshow\", \"stock_specs\": \"C\", \"Stock_Rating\": 510.0, \"Drive_Type\": \"FWD\", \"speed\": 5.1, \"handling\": 4.6, \"acceleration\": 3.7, \"launch\": 2.8, \"braking\": 2.8, \"Offroad\": 5.1, \"Horse_Power\": 172.0, \"Weight_lbs\": 2800.0}, {\"Car_Image\": \"https://www.kudosprime.com/fh5/images/cars/side/fh5_car_486.jpg?v=1\", \"Name_and_model\": \"2003 Volkswagen Golf R32\", \"Model_type\": \"HOT HATCH\", \"In_Game_Price\": \"20,000\", \"car_source\": \"Autoshow\", \"stock_specs\": \"B\", \"Stock_Rating\": 618.0, \"Drive_Type\": \"AWD\", \"speed\": 5.6, \"handling\": 5.3, \"acceleration\": 5.0, \"launch\": 5.4, \"braking\": 3.6, \"Offroad\": 5.4, \"Horse_Power\": 241.0, \"Weight_lbs\": 3256.0}, {\"Car_Image\": \"https://www.kudosprime.com/fh5/images/cars/side/fh5_car_487.jpg?v=1\", \"Name_and_model\": \"2010 Volkswagen Golf R\", \"Model_type\": \"SUPER HOT HATCH\", \"In_Game_Price\": \"64,000\", \"car_source\": \"Autoshow\", \"stock_specs\": \"B\", \"Stock_Rating\": 645.0, \"Drive_Type\": \"AWD\", \"speed\": 5.8, \"handling\": 5.7, \"acceleration\": 5.0, \"launch\": 3.2, \"braking\": 3.5, \"Offroad\": 5.5, \"Horse_Power\": 267.0, \"Weight_lbs\": 3188.0}, {\"Car_Image\": \"https://www.kudosprime.com/fh5/images/cars/side/fh5_car_488.jpg?v=1\", \"Name_and_model\": \"2011 Volkswagen Scirocco R\", \"Model_type\": \"HOT HATCH\", \"In_Game_Price\": \"45,000\", \"car_source\": \"Autoshow\", \"stock_specs\": \"B\", \"Stock_Rating\": 663.0, \"Drive_Type\": \"FWD\", \"speed\": 5.8, \"handling\": 5.5, \"acceleration\": 4.6, \"launch\": 4.8, \"braking\": 4.0, \"Offroad\": 4.9, \"Horse_Power\": 261.0, \"Weight_lbs\": 2963.0}, {\"Car_Image\": \"https://www.kudosprime.com/fh5/images/cars/side/fh5_car_489.jpg?v=1\", \"Name_and_model\": \"2014 Volkswagen Golf R\", \"Model_type\": \"SUPER HOT HATCH\", \"In_Game_Price\": \"50,000\", \"car_source\": \"Autoshow\", \"stock_specs\": \"B\", \"Stock_Rating\": 663.0, \"Drive_Type\": \"AWD\", \"speed\": 5.9, \"handling\": 5.9, \"acceleration\": 5.8, \"launch\": 6.3, \"braking\": 3.8, \"Offroad\": 5.5, \"Horse_Power\": 296.0, \"Weight_lbs\": 3254.0}, {\"Car_Image\": \"https://www.kudosprime.com/fh5/images/cars/side/fh5_car_490.jpg?v=1\", \"Name_and_model\": \"2017 Volkswagen #34 Volkswagen Andretti Rallycross Beetle\", \"Model_type\": \"RALLY MONSTERS\", \"In_Game_Price\": \"500,000\", \"car_source\": \"Autoshow\", \"stock_specs\": \"S1\", \"Stock_Rating\": 851.0, \"Drive_Type\": \"AWD\", \"speed\": 4.8, \"handling\": 5.6, \"acceleration\": 9.2, \"launch\": 4.6, \"braking\": 5.9, \"Offroad\": 7.6, \"Horse_Power\": 553.0, \"Weight_lbs\": 2668.0}, {\"Car_Image\": \"https://www.kudosprime.com/fh5/images/cars/side/fh5_car_491.jpg?v=1\", \"Name_and_model\": \"1983 Volvo 242 Turbo Evolution\", \"Model_type\": \"CLASSIC RALLY\", \"In_Game_Price\": \"45,000\", \"car_source\": \"Autoshow\", \"stock_specs\": \"C\", \"Stock_Rating\": 548.0, \"Drive_Type\": \"RWD\", \"speed\": 5.0, \"handling\": 4.0, \"acceleration\": 4.0, \"launch\": 3.6, \"braking\": 3.1, \"Offroad\": 5.5, \"Horse_Power\": 225.0, \"Weight_lbs\": 3175.0}, {\"Car_Image\": \"https://www.kudosprime.com/fh5/images/cars/side/fh5_car_492.jpg?v=1\", \"Name_and_model\": \"1997 Volvo 850 R\", \"Model_type\": \"RETRO SALOONS\", \"In_Game_Price\": \"25,000\", \"car_source\": \"Autoshow\", \"stock_specs\": \"C\", \"Stock_Rating\": 511.0, \"Drive_Type\": \"FWD\", \"speed\": 5.8, \"handling\": 4.3, \"acceleration\": 3.3, \"launch\": 2.6, \"braking\": 2.5, \"Offroad\": 5.0, \"Horse_Power\": 240.0, \"Weight_lbs\": 3230.0}, {\"Car_Image\": \"https://www.kudosprime.com/fh5/images/cars/side/fh5_car_493.jpg?v=1\", \"Name_and_model\": \"2015 Volvo V60 Polestar\", \"Model_type\": \"SUPER SALOONS\", \"In_Game_Price\": \"62,000\", \"car_source\": \"Autoshow\", \"stock_specs\": \"B\", \"Stock_Rating\": 662.0, \"Drive_Type\": \"AWD\", \"speed\": 6.1, \"handling\": 5.9, \"acceleration\": 5.5, \"launch\": 3.6, \"braking\": 3.9, \"Offroad\": 5.1, \"Horse_Power\": 346.0, \"Weight_lbs\": 3985.0}, {\"Car_Image\": \"https://www.kudosprime.com/fh5/images/cars/side/fh5_car_494.jpg?v=1\", \"Name_and_model\": \"2017 VUHL 05RR\", \"Model_type\": \"TRACK TOYS\", \"In_Game_Price\": \"100,000\", \"car_source\": \"Autoshow\", \"stock_specs\": \"S1\", \"Stock_Rating\": 886.0, \"Drive_Type\": \"RWD\", \"speed\": 6.8, \"handling\": 8.6, \"acceleration\": 8.5, \"launch\": 9.2, \"braking\": 7.8, \"Offroad\": 3.7, \"Horse_Power\": 385.0, \"Weight_lbs\": 1598.0}, {\"Car_Image\": \"https://www.kudosprime.com/fh5/images/cars/side/fh5_car_495.jpg?v=1\", \"Name_and_model\": \"1945 WILLYS MB Jeep\", \"Model_type\": \"PICK-UP & 4X4'S\", \"In_Game_Price\": \"40,000\", \"car_source\": \"Autoshow\", \"stock_specs\": \"D\", \"Stock_Rating\": 198.0, \"Drive_Type\": \"AWD\", \"speed\": 2.6, \"handling\": 3.7, \"acceleration\": 2.0, \"launch\": 3.3, \"braking\": 2.1, \"Offroad\": 7.1, \"Horse_Power\": 60.0, \"Weight_lbs\": 2137.0}, {\"Car_Image\": \"https://www.kudosprime.com/fh5/images/cars/side/fh5_car_496.jpg?v=1\", \"Name_and_model\": \"2019 Zenvo TSR-S\", \"Model_type\": \"HYPERCARS\", \"In_Game_Price\": \"1,200,000\", \"car_source\": \"Autoshow\", \"stock_specs\": \"S2\", \"Stock_Rating\": 927.0, \"Drive_Type\": \"RWD\", \"speed\": 9.0, \"handling\": 8.7, \"acceleration\": 6.7, \"launch\": 7.2, \"braking\": 9.6, \"Offroad\": 4.0, \"Horse_Power\": 1177.0, \"Weight_lbs\": 3410.0}], \"data-8555c6baafaa46fb2e949687c1e194a8\": [{\"column\": \"speed\"}, {\"column\": \"handling\"}, {\"column\": \"acceleration\"}, {\"column\": \"launch\"}, {\"column\": \"braking\"}, {\"column\": \"Offroad\"}]}}, {\"mode\": \"vega-lite\"});\n",
       "</script>"
      ],
      "text/plain": [
       "alt.LayerChart(...)"
      ]
     },
     "execution_count": 22,
     "metadata": {},
     "output_type": "execute_result"
    }
   ],
   "source": [
    "alt.layer(*(combined_chart, legend_chart))\n"
   ]
  },
  {
   "cell_type": "markdown",
   "metadata": {
    "cell_id": "f767f7204e2d4abeb105993c7848d4c5",
    "deepnote_cell_type": "markdown"
   },
   "source": [
    "This is how I would have wanted my chart to look, but despite searching the internet, I could not figure out how to get the legend to reflect the actual colors that are in the chart, given that I am using a random color generator to distinguish the different features. "
   ]
  },
  {
   "cell_type": "markdown",
   "metadata": {
    "cell_id": "71f7acbe990a414292b346e2cbd26c24",
    "deepnote_cell_type": "markdown"
   },
   "source": [
    "## Linear Regression"
   ]
  },
  {
   "cell_type": "markdown",
   "metadata": {
    "cell_id": "5c13636b7aa54dc3b78d2894e28be91c",
    "deepnote_cell_type": "markdown"
   },
   "source": [
    "As a precursor, when performing a regression, not all regression types have a .score() to determine the accuracy of the model, as such its better to compare the values between a train and test set using mean_absolute_error and mean_squared_error. While the numbers dont mean much in context, we do know that if the value produce by the test set is higher then the model is a good predictor. As such, we instantiate the train_test_split below which also helps reduce the influence of overfitting in our model. "
   ]
  },
  {
   "cell_type": "code",
   "execution_count": 23,
   "metadata": {
    "cell_id": "efc79f71411c49f4a08ddd2ae50a9f93",
    "deepnote_cell_type": "code",
    "deepnote_to_be_reexecuted": false,
    "execution_millis": 63,
    "execution_start": 1686781808008,
    "source_hash": "b3dd2b73"
   },
   "outputs": [],
   "source": [
    "X_train, X_test, y_train, y_test = train_test_split(df[cols1], df[\"Stock_Rating\"], test_size=0.7)"
   ]
  },
  {
   "cell_type": "code",
   "execution_count": 24,
   "metadata": {
    "cell_id": "db5e1f34ec0e4bd687fda19a859416b9",
    "deepnote_cell_type": "code",
    "deepnote_to_be_reexecuted": false,
    "execution_millis": 60,
    "execution_start": 1686781808011,
    "source_hash": "eefd2943"
   },
   "outputs": [
    {
     "data": {
      "text/html": [
       "<style>#sk-container-id-1 {color: black;background-color: white;}#sk-container-id-1 pre{padding: 0;}#sk-container-id-1 div.sk-toggleable {background-color: white;}#sk-container-id-1 label.sk-toggleable__label {cursor: pointer;display: block;width: 100%;margin-bottom: 0;padding: 0.3em;box-sizing: border-box;text-align: center;}#sk-container-id-1 label.sk-toggleable__label-arrow:before {content: \"▸\";float: left;margin-right: 0.25em;color: #696969;}#sk-container-id-1 label.sk-toggleable__label-arrow:hover:before {color: black;}#sk-container-id-1 div.sk-estimator:hover label.sk-toggleable__label-arrow:before {color: black;}#sk-container-id-1 div.sk-toggleable__content {max-height: 0;max-width: 0;overflow: hidden;text-align: left;background-color: #f0f8ff;}#sk-container-id-1 div.sk-toggleable__content pre {margin: 0.2em;color: black;border-radius: 0.25em;background-color: #f0f8ff;}#sk-container-id-1 input.sk-toggleable__control:checked~div.sk-toggleable__content {max-height: 200px;max-width: 100%;overflow: auto;}#sk-container-id-1 input.sk-toggleable__control:checked~label.sk-toggleable__label-arrow:before {content: \"▾\";}#sk-container-id-1 div.sk-estimator input.sk-toggleable__control:checked~label.sk-toggleable__label {background-color: #d4ebff;}#sk-container-id-1 div.sk-label input.sk-toggleable__control:checked~label.sk-toggleable__label {background-color: #d4ebff;}#sk-container-id-1 input.sk-hidden--visually {border: 0;clip: rect(1px 1px 1px 1px);clip: rect(1px, 1px, 1px, 1px);height: 1px;margin: -1px;overflow: hidden;padding: 0;position: absolute;width: 1px;}#sk-container-id-1 div.sk-estimator {font-family: monospace;background-color: #f0f8ff;border: 1px dotted black;border-radius: 0.25em;box-sizing: border-box;margin-bottom: 0.5em;}#sk-container-id-1 div.sk-estimator:hover {background-color: #d4ebff;}#sk-container-id-1 div.sk-parallel-item::after {content: \"\";width: 100%;border-bottom: 1px solid gray;flex-grow: 1;}#sk-container-id-1 div.sk-label:hover label.sk-toggleable__label {background-color: #d4ebff;}#sk-container-id-1 div.sk-serial::before {content: \"\";position: absolute;border-left: 1px solid gray;box-sizing: border-box;top: 0;bottom: 0;left: 50%;z-index: 0;}#sk-container-id-1 div.sk-serial {display: flex;flex-direction: column;align-items: center;background-color: white;padding-right: 0.2em;padding-left: 0.2em;position: relative;}#sk-container-id-1 div.sk-item {position: relative;z-index: 1;}#sk-container-id-1 div.sk-parallel {display: flex;align-items: stretch;justify-content: center;background-color: white;position: relative;}#sk-container-id-1 div.sk-item::before, #sk-container-id-1 div.sk-parallel-item::before {content: \"\";position: absolute;border-left: 1px solid gray;box-sizing: border-box;top: 0;bottom: 0;left: 50%;z-index: -1;}#sk-container-id-1 div.sk-parallel-item {display: flex;flex-direction: column;z-index: 1;position: relative;background-color: white;}#sk-container-id-1 div.sk-parallel-item:first-child::after {align-self: flex-end;width: 50%;}#sk-container-id-1 div.sk-parallel-item:last-child::after {align-self: flex-start;width: 50%;}#sk-container-id-1 div.sk-parallel-item:only-child::after {width: 0;}#sk-container-id-1 div.sk-dashed-wrapped {border: 1px dashed gray;margin: 0 0.4em 0.5em 0.4em;box-sizing: border-box;padding-bottom: 0.4em;background-color: white;}#sk-container-id-1 div.sk-label label {font-family: monospace;font-weight: bold;display: inline-block;line-height: 1.2em;}#sk-container-id-1 div.sk-label-container {text-align: center;}#sk-container-id-1 div.sk-container {/* jupyter's `normalize.less` sets `[hidden] { display: none; }` but bootstrap.min.css set `[hidden] { display: none !important; }` so we also need the `!important` here to be able to override the default hidden behavior on the sphinx rendered scikit-learn.org. See: https://github.com/scikit-learn/scikit-learn/issues/21755 */display: inline-block !important;position: relative;}#sk-container-id-1 div.sk-text-repr-fallback {display: none;}</style><div id=\"sk-container-id-1\" class=\"sk-top-container\"><div class=\"sk-text-repr-fallback\"><pre>LinearRegression()</pre><b>In a Jupyter environment, please rerun this cell to show the HTML representation or trust the notebook. <br />On GitHub, the HTML representation is unable to render, please try loading this page with nbviewer.org.</b></div><div class=\"sk-container\" hidden><div class=\"sk-item\"><div class=\"sk-estimator sk-toggleable\"><input class=\"sk-toggleable__control sk-hidden--visually\" id=\"sk-estimator-id-1\" type=\"checkbox\" checked><label for=\"sk-estimator-id-1\" class=\"sk-toggleable__label sk-toggleable__label-arrow\">LinearRegression</label><div class=\"sk-toggleable__content\"><pre>LinearRegression()</pre></div></div></div></div></div>"
      ],
      "text/plain": [
       "LinearRegression()"
      ]
     },
     "execution_count": 24,
     "metadata": {},
     "output_type": "execute_result"
    }
   ],
   "source": [
    "reg = LinearRegression()\n",
    "reg.fit(X_train,y_train)"
   ]
  },
  {
   "cell_type": "code",
   "execution_count": 25,
   "metadata": {
    "cell_id": "29c33683971a448ba0242c18b42f6dd8",
    "deepnote_cell_type": "code",
    "deepnote_to_be_reexecuted": false,
    "execution_millis": 60,
    "execution_start": 1686781808011,
    "source_hash": "4b5fa2"
   },
   "outputs": [
    {
     "data": {
      "text/plain": [
       "5279.724534199711"
      ]
     },
     "execution_count": 25,
     "metadata": {},
     "output_type": "execute_result"
    }
   ],
   "source": [
    "mean_squared_error(y_train,reg.predict(X_train))"
   ]
  },
  {
   "cell_type": "code",
   "execution_count": 26,
   "metadata": {
    "cell_id": "b3ffc793390a4fdeabb15bcb9e5f128c",
    "deepnote_cell_type": "code",
    "deepnote_to_be_reexecuted": false,
    "execution_millis": 59,
    "execution_start": 1686781808012,
    "source_hash": "8b54aa29"
   },
   "outputs": [
    {
     "data": {
      "text/plain": [
       "4339.725113794179"
      ]
     },
     "execution_count": 26,
     "metadata": {},
     "output_type": "execute_result"
    }
   ],
   "source": [
    "mean_squared_error(y_test,reg.predict(X_test))"
   ]
  },
  {
   "cell_type": "code",
   "execution_count": 27,
   "metadata": {
    "cell_id": "c2aecd1a60c34bf489eca0f3520444b1",
    "deepnote_cell_type": "code",
    "deepnote_to_be_reexecuted": false,
    "execution_millis": 57,
    "execution_start": 1686781808014,
    "source_hash": "8bd94bd"
   },
   "outputs": [
    {
     "data": {
      "text/plain": [
       "53.49695209326706"
      ]
     },
     "execution_count": 27,
     "metadata": {},
     "output_type": "execute_result"
    }
   ],
   "source": [
    "mean_absolute_error(y_train, reg.predict(X_train))"
   ]
  },
  {
   "cell_type": "code",
   "execution_count": 28,
   "metadata": {
    "cell_id": "de415f4d9d914771bbaa764cc4f1e679",
    "deepnote_cell_type": "code",
    "deepnote_to_be_reexecuted": false,
    "execution_millis": 57,
    "execution_start": 1686781808015,
    "source_hash": "2d7e688"
   },
   "outputs": [
    {
     "data": {
      "text/plain": [
       "48.324484758786745"
      ]
     },
     "execution_count": 28,
     "metadata": {},
     "output_type": "execute_result"
    }
   ],
   "source": [
    "mean_absolute_error(y_test, reg.predict(X_test))"
   ]
  },
  {
   "cell_type": "markdown",
   "metadata": {
    "cell_id": "ed74a9d29de14e86a4ae5dd5fc3818ef",
    "deepnote_cell_type": "markdown"
   },
   "source": [
    "From the values produced we can see that the test values produce higher values compared to the train for both mean_squared_error and mean_absolute_value indicating that Linear Regression is a good model for predicting the \"Stock_Rating\" of the cars. "
   ]
  },
  {
   "cell_type": "markdown",
   "metadata": {
    "cell_id": "e5d285a41297471e834e4bc73e5eb371",
    "deepnote_cell_type": "markdown"
   },
   "source": [
    "## Polynomial Feautes with Pipeline"
   ]
  },
  {
   "cell_type": "code",
   "execution_count": 29,
   "metadata": {
    "cell_id": "4c96876a8a1d43d9b24fb4cf8a18d561",
    "deepnote_cell_type": "code",
    "deepnote_to_be_reexecuted": false,
    "execution_millis": 56,
    "execution_start": 1686781808016,
    "source_hash": "678edde0"
   },
   "outputs": [],
   "source": [
    "def poly_fit(d, s):\n",
    "    #cols2 = [\"set\", \"degree\", \"mae\", \"mse\"]\n",
    "    pipe = Pipeline([\n",
    "        (\"poly\", PolynomialFeatures(degree=d,include_bias=False)),\n",
    "        ('reg', LinearRegression())\n",
    "    ])\n",
    "    pipe.fit(X_train, y_train)\n",
    "    if s == \"train\":\n",
    "        sqr_err_train = mean_squared_error(y_train, pipe.predict(X_train))\n",
    "        abs_err_train = mean_absolute_error(y_train, pipe.predict(X_train))\n",
    "        arr = [s, d, abs_err_train, sqr_err_train]\n",
    "    else: \n",
    "        sqr_err_test = mean_squared_error(y_test, pipe.predict(X_test))\n",
    "        abs_err_test = mean_absolute_error(y_test, pipe.predict(X_test))\n",
    "        arr = [s, d, abs_err_test, sqr_err_test]\n",
    "    return arr "
   ]
  },
  {
   "cell_type": "code",
   "execution_count": 30,
   "metadata": {
    "cell_id": "8905a137825045fc9133ebfa5042acef",
    "deepnote_cell_type": "code",
    "deepnote_to_be_reexecuted": false,
    "execution_millis": 3685,
    "execution_start": 1686781808017,
    "source_hash": "cc7cfeed"
   },
   "outputs": [],
   "source": [
    "cols3 = [\"set\", \"degree\", \"mae\", \"mse\"]\n",
    "df_arr = pd.DataFrame(columns=cols3)\n",
    "for d in range(2,9):\n",
    "    series = [poly_fit(d, s) for s in [\"train\", 'test']]\n",
    "    df_arr.loc[len(df_arr)] = series[0]\n",
    "    df_arr.loc[len(df_arr)] = series[1]"
   ]
  },
  {
   "cell_type": "code",
   "execution_count": 31,
   "metadata": {
    "cell_id": "c2b5f6cc523042f6a57cc6f979762b2b",
    "deepnote_cell_type": "code",
    "deepnote_table_loading": false,
    "deepnote_table_state": {
     "filters": [],
     "pageIndex": 0,
     "pageSize": 10,
     "sortBy": []
    },
    "deepnote_to_be_reexecuted": false,
    "execution_millis": 28,
    "execution_start": 1686781811681,
    "source_hash": "2a6a71f3"
   },
   "outputs": [
    {
     "data": {
      "application/vnd.deepnote.dataframe.v3+json": {
       "column_count": 4,
       "columns": [
        {
         "dtype": "object",
         "name": "set",
         "stats": {
          "categories": [
           {
            "count": 7,
            "name": "train"
           },
           {
            "count": 7,
            "name": "test"
           }
          ],
          "nan_count": 0,
          "unique_count": 2
         }
        },
        {
         "dtype": "object",
         "name": "degree",
         "stats": {
          "categories": [
           {
            "count": 2,
            "name": "2"
           },
           {
            "count": 2,
            "name": "3"
           },
           {
            "count": 10,
            "name": "5 others"
           }
          ],
          "nan_count": 0,
          "unique_count": 7
         }
        },
        {
         "dtype": "float64",
         "name": "mae",
         "stats": {
          "histogram": [
           {
            "bin_end": 377.39778968013064,
            "bin_start": 1.0944352946336373e-10,
            "count": 9
           },
           {
            "bin_end": 754.7955793601519,
            "bin_start": 377.39778968013064,
            "count": 0
           },
           {
            "bin_end": 1132.1933690401731,
            "bin_start": 754.7955793601519,
            "count": 2
           },
           {
            "bin_end": 1509.5911587201942,
            "bin_start": 1132.1933690401731,
            "count": 1
           },
           {
            "bin_end": 1886.9889484002153,
            "bin_start": 1509.5911587201942,
            "count": 0
           },
           {
            "bin_end": 2264.386738080237,
            "bin_start": 1886.9889484002153,
            "count": 1
           },
           {
            "bin_end": 2641.7845277602582,
            "bin_start": 2264.386738080237,
            "count": 0
           },
           {
            "bin_end": 3019.1823174402793,
            "bin_start": 2641.7845277602582,
            "count": 0
           },
           {
            "bin_end": 3396.5801071203005,
            "bin_start": 3019.1823174402793,
            "count": 0
           },
           {
            "bin_end": 3773.9778968003216,
            "bin_start": 3396.5801071203005,
            "count": 1
           }
          ],
          "max": "3773.9778968003216",
          "min": "1.0944352946336373e-10",
          "nan_count": 0,
          "unique_count": 14
         }
        },
        {
         "dtype": "float64",
         "name": "mse",
         "stats": {
          "histogram": [
           {
            "bin_end": 16452784.446800638,
            "bin_start": 4.879714809907434e-20,
            "count": 10
           },
           {
            "bin_end": 32905568.893601276,
            "bin_start": 16452784.446800638,
            "count": 2
           },
           {
            "bin_end": 49358353.34040192,
            "bin_start": 32905568.893601276,
            "count": 0
           },
           {
            "bin_end": 65811137.78720255,
            "bin_start": 49358353.34040192,
            "count": 1
           },
           {
            "bin_end": 82263922.23400319,
            "bin_start": 65811137.78720255,
            "count": 0
           },
           {
            "bin_end": 98716706.68080384,
            "bin_start": 82263922.23400319,
            "count": 0
           },
           {
            "bin_end": 115169491.12760447,
            "bin_start": 98716706.68080384,
            "count": 0
           },
           {
            "bin_end": 131622275.5744051,
            "bin_start": 115169491.12760447,
            "count": 0
           },
           {
            "bin_end": 148075060.02120575,
            "bin_start": 131622275.5744051,
            "count": 0
           },
           {
            "bin_end": 164527844.46800637,
            "bin_start": 148075060.02120575,
            "count": 1
           }
          ],
          "max": "164527844.46800637",
          "min": "4.879714809907434e-20",
          "nan_count": 0,
          "unique_count": 14
         }
        },
        {
         "dtype": "int64",
         "name": "_deepnote_index_column"
        }
       ],
       "row_count": 14,
       "rows": [
        {
         "_deepnote_index_column": 0,
         "degree": "2",
         "mae": 25.09779241850731,
         "mse": 1101.0533606528165,
         "set": "train"
        },
        {
         "_deepnote_index_column": 1,
         "degree": "2",
         "mae": 31.901947608441613,
         "mse": 1964.5766689038032,
         "set": "test"
        },
        {
         "_deepnote_index_column": 2,
         "degree": "3",
         "mae": 12.668010065733592,
         "mse": 302.5544460891674,
         "set": "train"
        },
        {
         "_deepnote_index_column": 3,
         "degree": "3",
         "mae": 53.12204991602802,
         "mse": 13918.556963754521,
         "set": "test"
        },
        {
         "_deepnote_index_column": 4,
         "degree": "4",
         "mae": 1.1954531112435615e-09,
         "mse": 2.7436453428822433e-18,
         "set": "train"
        },
        {
         "_deepnote_index_column": 5,
         "degree": "4",
         "mae": 991.8989046685256,
         "mse": 11390708.49088535,
         "set": "test"
        },
        {
         "_deepnote_index_column": 6,
         "degree": "5",
         "mae": 1.5720947800975682e-10,
         "mse": 5.547746809344756e-20,
         "set": "train"
        },
        {
         "_deepnote_index_column": 7,
         "degree": "5",
         "mae": 968.4615856829072,
         "mse": 17753428.60110962,
         "set": "test"
        },
        {
         "_deepnote_index_column": 8,
         "degree": "6",
         "mae": 2.174200750424625e-10,
         "mse": 1.0223473274309953e-19,
         "set": "train"
        },
        {
         "_deepnote_index_column": 9,
         "degree": "6",
         "mae": 1372.7963520393719,
         "mse": 30540697.589138057,
         "set": "test"
        }
       ]
      },
      "text/html": [
       "<div>\n",
       "<style scoped>\n",
       "    .dataframe tbody tr th:only-of-type {\n",
       "        vertical-align: middle;\n",
       "    }\n",
       "\n",
       "    .dataframe tbody tr th {\n",
       "        vertical-align: top;\n",
       "    }\n",
       "\n",
       "    .dataframe thead th {\n",
       "        text-align: right;\n",
       "    }\n",
       "</style>\n",
       "<table border=\"1\" class=\"dataframe\">\n",
       "  <thead>\n",
       "    <tr style=\"text-align: right;\">\n",
       "      <th></th>\n",
       "      <th>set</th>\n",
       "      <th>degree</th>\n",
       "      <th>mae</th>\n",
       "      <th>mse</th>\n",
       "    </tr>\n",
       "  </thead>\n",
       "  <tbody>\n",
       "    <tr>\n",
       "      <th>0</th>\n",
       "      <td>train</td>\n",
       "      <td>2</td>\n",
       "      <td>2.509779e+01</td>\n",
       "      <td>1.101053e+03</td>\n",
       "    </tr>\n",
       "    <tr>\n",
       "      <th>1</th>\n",
       "      <td>test</td>\n",
       "      <td>2</td>\n",
       "      <td>3.190195e+01</td>\n",
       "      <td>1.964577e+03</td>\n",
       "    </tr>\n",
       "    <tr>\n",
       "      <th>2</th>\n",
       "      <td>train</td>\n",
       "      <td>3</td>\n",
       "      <td>1.266801e+01</td>\n",
       "      <td>3.025544e+02</td>\n",
       "    </tr>\n",
       "    <tr>\n",
       "      <th>3</th>\n",
       "      <td>test</td>\n",
       "      <td>3</td>\n",
       "      <td>5.312205e+01</td>\n",
       "      <td>1.391856e+04</td>\n",
       "    </tr>\n",
       "    <tr>\n",
       "      <th>4</th>\n",
       "      <td>train</td>\n",
       "      <td>4</td>\n",
       "      <td>1.195453e-09</td>\n",
       "      <td>2.743645e-18</td>\n",
       "    </tr>\n",
       "    <tr>\n",
       "      <th>5</th>\n",
       "      <td>test</td>\n",
       "      <td>4</td>\n",
       "      <td>9.918989e+02</td>\n",
       "      <td>1.139071e+07</td>\n",
       "    </tr>\n",
       "    <tr>\n",
       "      <th>6</th>\n",
       "      <td>train</td>\n",
       "      <td>5</td>\n",
       "      <td>1.572095e-10</td>\n",
       "      <td>5.547747e-20</td>\n",
       "    </tr>\n",
       "    <tr>\n",
       "      <th>7</th>\n",
       "      <td>test</td>\n",
       "      <td>5</td>\n",
       "      <td>9.684616e+02</td>\n",
       "      <td>1.775343e+07</td>\n",
       "    </tr>\n",
       "    <tr>\n",
       "      <th>8</th>\n",
       "      <td>train</td>\n",
       "      <td>6</td>\n",
       "      <td>2.174201e-10</td>\n",
       "      <td>1.022347e-19</td>\n",
       "    </tr>\n",
       "    <tr>\n",
       "      <th>9</th>\n",
       "      <td>test</td>\n",
       "      <td>6</td>\n",
       "      <td>1.372796e+03</td>\n",
       "      <td>3.054070e+07</td>\n",
       "    </tr>\n",
       "    <tr>\n",
       "      <th>10</th>\n",
       "      <td>train</td>\n",
       "      <td>7</td>\n",
       "      <td>1.094435e-10</td>\n",
       "      <td>4.879715e-20</td>\n",
       "    </tr>\n",
       "    <tr>\n",
       "      <th>11</th>\n",
       "      <td>test</td>\n",
       "      <td>7</td>\n",
       "      <td>2.205851e+03</td>\n",
       "      <td>6.273823e+07</td>\n",
       "    </tr>\n",
       "    <tr>\n",
       "      <th>12</th>\n",
       "      <td>train</td>\n",
       "      <td>8</td>\n",
       "      <td>1.352969e-10</td>\n",
       "      <td>6.088622e-20</td>\n",
       "    </tr>\n",
       "    <tr>\n",
       "      <th>13</th>\n",
       "      <td>test</td>\n",
       "      <td>8</td>\n",
       "      <td>3.773978e+03</td>\n",
       "      <td>1.645278e+08</td>\n",
       "    </tr>\n",
       "  </tbody>\n",
       "</table>\n",
       "</div>"
      ],
      "text/plain": [
       "      set degree           mae           mse\n",
       "0   train      2  2.509779e+01  1.101053e+03\n",
       "1    test      2  3.190195e+01  1.964577e+03\n",
       "2   train      3  1.266801e+01  3.025544e+02\n",
       "3    test      3  5.312205e+01  1.391856e+04\n",
       "4   train      4  1.195453e-09  2.743645e-18\n",
       "5    test      4  9.918989e+02  1.139071e+07\n",
       "6   train      5  1.572095e-10  5.547747e-20\n",
       "7    test      5  9.684616e+02  1.775343e+07\n",
       "8   train      6  2.174201e-10  1.022347e-19\n",
       "9    test      6  1.372796e+03  3.054070e+07\n",
       "10  train      7  1.094435e-10  4.879715e-20\n",
       "11   test      7  2.205851e+03  6.273823e+07\n",
       "12  train      8  1.352969e-10  6.088622e-20\n",
       "13   test      8  3.773978e+03  1.645278e+08"
      ]
     },
     "execution_count": 31,
     "metadata": {},
     "output_type": "execute_result"
    }
   ],
   "source": [
    "df_arr"
   ]
  },
  {
   "cell_type": "markdown",
   "metadata": {
    "cell_id": "bdfaab8c85284f7aa90bc48f4295d00b",
    "deepnote_cell_type": "markdown"
   },
   "source": [
    "Polynomial Features with Pipeline shows that after degree 3, the results become unreasonable, but up to degree 3, we can see that the test values remain higher than the train values, indicating that degree 2 or a degree 3 regression are useful in predicting the \"Stock_Rating\" for the cars."
   ]
  },
  {
   "cell_type": "markdown",
   "metadata": {
    "cell_id": "2d0b624a1546480588ed2bc7e0d9a377",
    "deepnote_cell_type": "markdown"
   },
   "source": [
    "## Decision Tree Regressor "
   ]
  },
  {
   "cell_type": "markdown",
   "metadata": {
    "cell_id": "d66b7259b1e04b459aee15c1e661ca40",
    "deepnote_cell_type": "markdown"
   },
   "source": [
    "For Decision Tree Regressor, our initial instantiation with max_leaf_nodes = 4 is a guess for determing the best results. "
   ]
  },
  {
   "cell_type": "code",
   "execution_count": 32,
   "metadata": {
    "cell_id": "4185a95e6c7449509eac5f7a9fcd1f22",
    "deepnote_cell_type": "code",
    "deepnote_to_be_reexecuted": false,
    "execution_millis": 8,
    "execution_start": 1686781811716,
    "source_hash": "978e6f5d"
   },
   "outputs": [],
   "source": [
    "reg2 = DecisionTreeRegressor(max_leaf_nodes=4)"
   ]
  },
  {
   "cell_type": "code",
   "execution_count": 33,
   "metadata": {
    "cell_id": "b0661ad41422417cbb865b53b1dba51d",
    "deepnote_cell_type": "code",
    "deepnote_to_be_reexecuted": false,
    "execution_millis": 45,
    "execution_start": 1686781811756,
    "source_hash": "3c465aa9"
   },
   "outputs": [
    {
     "data": {
      "text/html": [
       "<style>#sk-container-id-2 {color: black;background-color: white;}#sk-container-id-2 pre{padding: 0;}#sk-container-id-2 div.sk-toggleable {background-color: white;}#sk-container-id-2 label.sk-toggleable__label {cursor: pointer;display: block;width: 100%;margin-bottom: 0;padding: 0.3em;box-sizing: border-box;text-align: center;}#sk-container-id-2 label.sk-toggleable__label-arrow:before {content: \"▸\";float: left;margin-right: 0.25em;color: #696969;}#sk-container-id-2 label.sk-toggleable__label-arrow:hover:before {color: black;}#sk-container-id-2 div.sk-estimator:hover label.sk-toggleable__label-arrow:before {color: black;}#sk-container-id-2 div.sk-toggleable__content {max-height: 0;max-width: 0;overflow: hidden;text-align: left;background-color: #f0f8ff;}#sk-container-id-2 div.sk-toggleable__content pre {margin: 0.2em;color: black;border-radius: 0.25em;background-color: #f0f8ff;}#sk-container-id-2 input.sk-toggleable__control:checked~div.sk-toggleable__content {max-height: 200px;max-width: 100%;overflow: auto;}#sk-container-id-2 input.sk-toggleable__control:checked~label.sk-toggleable__label-arrow:before {content: \"▾\";}#sk-container-id-2 div.sk-estimator input.sk-toggleable__control:checked~label.sk-toggleable__label {background-color: #d4ebff;}#sk-container-id-2 div.sk-label input.sk-toggleable__control:checked~label.sk-toggleable__label {background-color: #d4ebff;}#sk-container-id-2 input.sk-hidden--visually {border: 0;clip: rect(1px 1px 1px 1px);clip: rect(1px, 1px, 1px, 1px);height: 1px;margin: -1px;overflow: hidden;padding: 0;position: absolute;width: 1px;}#sk-container-id-2 div.sk-estimator {font-family: monospace;background-color: #f0f8ff;border: 1px dotted black;border-radius: 0.25em;box-sizing: border-box;margin-bottom: 0.5em;}#sk-container-id-2 div.sk-estimator:hover {background-color: #d4ebff;}#sk-container-id-2 div.sk-parallel-item::after {content: \"\";width: 100%;border-bottom: 1px solid gray;flex-grow: 1;}#sk-container-id-2 div.sk-label:hover label.sk-toggleable__label {background-color: #d4ebff;}#sk-container-id-2 div.sk-serial::before {content: \"\";position: absolute;border-left: 1px solid gray;box-sizing: border-box;top: 0;bottom: 0;left: 50%;z-index: 0;}#sk-container-id-2 div.sk-serial {display: flex;flex-direction: column;align-items: center;background-color: white;padding-right: 0.2em;padding-left: 0.2em;position: relative;}#sk-container-id-2 div.sk-item {position: relative;z-index: 1;}#sk-container-id-2 div.sk-parallel {display: flex;align-items: stretch;justify-content: center;background-color: white;position: relative;}#sk-container-id-2 div.sk-item::before, #sk-container-id-2 div.sk-parallel-item::before {content: \"\";position: absolute;border-left: 1px solid gray;box-sizing: border-box;top: 0;bottom: 0;left: 50%;z-index: -1;}#sk-container-id-2 div.sk-parallel-item {display: flex;flex-direction: column;z-index: 1;position: relative;background-color: white;}#sk-container-id-2 div.sk-parallel-item:first-child::after {align-self: flex-end;width: 50%;}#sk-container-id-2 div.sk-parallel-item:last-child::after {align-self: flex-start;width: 50%;}#sk-container-id-2 div.sk-parallel-item:only-child::after {width: 0;}#sk-container-id-2 div.sk-dashed-wrapped {border: 1px dashed gray;margin: 0 0.4em 0.5em 0.4em;box-sizing: border-box;padding-bottom: 0.4em;background-color: white;}#sk-container-id-2 div.sk-label label {font-family: monospace;font-weight: bold;display: inline-block;line-height: 1.2em;}#sk-container-id-2 div.sk-label-container {text-align: center;}#sk-container-id-2 div.sk-container {/* jupyter's `normalize.less` sets `[hidden] { display: none; }` but bootstrap.min.css set `[hidden] { display: none !important; }` so we also need the `!important` here to be able to override the default hidden behavior on the sphinx rendered scikit-learn.org. See: https://github.com/scikit-learn/scikit-learn/issues/21755 */display: inline-block !important;position: relative;}#sk-container-id-2 div.sk-text-repr-fallback {display: none;}</style><div id=\"sk-container-id-2\" class=\"sk-top-container\"><div class=\"sk-text-repr-fallback\"><pre>DecisionTreeRegressor(max_leaf_nodes=4)</pre><b>In a Jupyter environment, please rerun this cell to show the HTML representation or trust the notebook. <br />On GitHub, the HTML representation is unable to render, please try loading this page with nbviewer.org.</b></div><div class=\"sk-container\" hidden><div class=\"sk-item\"><div class=\"sk-estimator sk-toggleable\"><input class=\"sk-toggleable__control sk-hidden--visually\" id=\"sk-estimator-id-2\" type=\"checkbox\" checked><label for=\"sk-estimator-id-2\" class=\"sk-toggleable__label sk-toggleable__label-arrow\">DecisionTreeRegressor</label><div class=\"sk-toggleable__content\"><pre>DecisionTreeRegressor(max_leaf_nodes=4)</pre></div></div></div></div></div>"
      ],
      "text/plain": [
       "DecisionTreeRegressor(max_leaf_nodes=4)"
      ]
     },
     "execution_count": 33,
     "metadata": {},
     "output_type": "execute_result"
    }
   ],
   "source": [
    "reg2.fit(X_train,y_train)"
   ]
  },
  {
   "cell_type": "code",
   "execution_count": 34,
   "metadata": {
    "cell_id": "5ad0bc7d728b48329c0c54a10fb04ef6",
    "deepnote_cell_type": "code",
    "deepnote_to_be_reexecuted": false,
    "execution_millis": 22,
    "execution_start": 1686781811780,
    "source_hash": "97f0b8b1"
   },
   "outputs": [
    {
     "data": {
      "text/plain": [
       "4795.489271173062"
      ]
     },
     "execution_count": 34,
     "metadata": {},
     "output_type": "execute_result"
    }
   ],
   "source": [
    "mean_squared_error(y_train, reg2.predict(X_train))"
   ]
  },
  {
   "cell_type": "code",
   "execution_count": 35,
   "metadata": {
    "cell_id": "a468f50ae7a34f70aeea3b6409bcebd2",
    "deepnote_cell_type": "code",
    "deepnote_to_be_reexecuted": false,
    "execution_millis": 15,
    "execution_start": 1686781811788,
    "source_hash": "15df0bff"
   },
   "outputs": [
    {
     "data": {
      "text/plain": [
       "6615.546457009281"
      ]
     },
     "execution_count": 35,
     "metadata": {},
     "output_type": "execute_result"
    }
   ],
   "source": [
    "mean_squared_error(y_test, reg2.predict(X_test))"
   ]
  },
  {
   "cell_type": "code",
   "execution_count": 36,
   "metadata": {
    "cell_id": "50411a4b117946779e627e92ff665a88",
    "deepnote_cell_type": "code",
    "deepnote_to_be_reexecuted": false,
    "execution_millis": 8,
    "execution_start": 1686781811796,
    "source_hash": "7c88514c"
   },
   "outputs": [
    {
     "data": {
      "text/plain": [
       "55.78619206880076"
      ]
     },
     "execution_count": 36,
     "metadata": {},
     "output_type": "execute_result"
    }
   ],
   "source": [
    "mean_absolute_error(y_train, reg2.predict(X_train))"
   ]
  },
  {
   "cell_type": "code",
   "execution_count": 37,
   "metadata": {
    "cell_id": "19bb80bd75874a23aee842ea737c676d",
    "deepnote_cell_type": "code",
    "deepnote_to_be_reexecuted": false,
    "execution_millis": 8,
    "execution_start": 1686781811807,
    "source_hash": "6d028f57"
   },
   "outputs": [
    {
     "data": {
      "text/plain": [
       "64.99354430548637"
      ]
     },
     "execution_count": 37,
     "metadata": {},
     "output_type": "execute_result"
    }
   ],
   "source": [
    "mean_absolute_error(y_test, reg2.predict(X_test))"
   ]
  },
  {
   "cell_type": "markdown",
   "metadata": {
    "cell_id": "d311de3b7cb34700ad5f5ec604d6383b",
    "deepnote_cell_type": "markdown"
   },
   "source": [
    "From the values produced we can see that the test values produce higher values compared to the train for both mean_squared_error and mean_absolute_value indicating that Decision Tree Regressor is a good model for predicting the \"Stock_Rating\" of the cars. Given that our initial guess of max_leaf_nodes = 4 is a good fit, its possible to improve our results such that the values of each error is reduced but the test value still remains higher using a test error curve. "
   ]
  },
  {
   "cell_type": "code",
   "execution_count": 38,
   "metadata": {
    "cell_id": "096ec82d797d422a98013ae8210222d8",
    "deepnote_cell_type": "code",
    "deepnote_to_be_reexecuted": false,
    "execution_millis": 587,
    "execution_start": 1686781811883,
    "source_hash": "5a8f2e9f"
   },
   "outputs": [],
   "source": [
    "df_err1 = pd.DataFrame(columns = ['leaves', 'error', 'set'])\n",
    "for i in range(2,40):\n",
    "    dtr = DecisionTreeRegressor(max_leaf_nodes=i)\n",
    "    dtr.fit(X_train, y_train)\n",
    "    d = {\"leaves\": i, \"error\": (1 - dtr.score(X_train, y_train)),\"set\":\"train\"}\n",
    "    d2 = {\"leaves\": i, \"error\": (1 - dtr.score(X_test, y_test)),\"set\":\"test\"}\n",
    "    df_err1.loc[len(df_err1)] = d\n",
    "    df_err1.loc[len(df_err1)] = d2"
   ]
  },
  {
   "cell_type": "code",
   "execution_count": 39,
   "metadata": {
    "cell_id": "a597d96d14fc4fd7bd54d5e29d1c4ac2",
    "deepnote_cell_type": "code",
    "deepnote_to_be_reexecuted": false,
    "execution_millis": 7,
    "execution_start": 1686781812475,
    "source_hash": "2015ea59"
   },
   "outputs": [
    {
     "data": {
      "text/html": [
       "\n",
       "<div id=\"altair-viz-aff8a84659784d92b5c0b9692f37ecd2\"></div>\n",
       "<script type=\"text/javascript\">\n",
       "  var VEGA_DEBUG = (typeof VEGA_DEBUG == \"undefined\") ? {} : VEGA_DEBUG;\n",
       "  (function(spec, embedOpt){\n",
       "    let outputDiv = document.currentScript.previousElementSibling;\n",
       "    if (outputDiv.id !== \"altair-viz-aff8a84659784d92b5c0b9692f37ecd2\") {\n",
       "      outputDiv = document.getElementById(\"altair-viz-aff8a84659784d92b5c0b9692f37ecd2\");\n",
       "    }\n",
       "    const paths = {\n",
       "      \"vega\": \"https://cdn.jsdelivr.net/npm//vega@5?noext\",\n",
       "      \"vega-lib\": \"https://cdn.jsdelivr.net/npm//vega-lib?noext\",\n",
       "      \"vega-lite\": \"https://cdn.jsdelivr.net/npm//vega-lite@4.17.0?noext\",\n",
       "      \"vega-embed\": \"https://cdn.jsdelivr.net/npm//vega-embed@6?noext\",\n",
       "    };\n",
       "\n",
       "    function maybeLoadScript(lib, version) {\n",
       "      var key = `${lib.replace(\"-\", \"\")}_version`;\n",
       "      return (VEGA_DEBUG[key] == version) ?\n",
       "        Promise.resolve(paths[lib]) :\n",
       "        new Promise(function(resolve, reject) {\n",
       "          var s = document.createElement('script');\n",
       "          document.getElementsByTagName(\"head\")[0].appendChild(s);\n",
       "          s.async = true;\n",
       "          s.onload = () => {\n",
       "            VEGA_DEBUG[key] = version;\n",
       "            return resolve(paths[lib]);\n",
       "          };\n",
       "          s.onerror = () => reject(`Error loading script: ${paths[lib]}`);\n",
       "          s.src = paths[lib];\n",
       "        });\n",
       "    }\n",
       "\n",
       "    function showError(err) {\n",
       "      outputDiv.innerHTML = `<div class=\"error\" style=\"color:red;\">${err}</div>`;\n",
       "      throw err;\n",
       "    }\n",
       "\n",
       "    function displayChart(vegaEmbed) {\n",
       "      vegaEmbed(outputDiv, spec, embedOpt)\n",
       "        .catch(err => showError(`Javascript Error: ${err.message}<br>This usually means there's a typo in your chart specification. See the javascript console for the full traceback.`));\n",
       "    }\n",
       "\n",
       "    if(typeof define === \"function\" && define.amd) {\n",
       "      requirejs.config({paths});\n",
       "      require([\"vega-embed\"], displayChart, err => showError(`Error loading script: ${err.message}`));\n",
       "    } else {\n",
       "      maybeLoadScript(\"vega\", \"5\")\n",
       "        .then(() => maybeLoadScript(\"vega-lite\", \"4.17.0\"))\n",
       "        .then(() => maybeLoadScript(\"vega-embed\", \"6\"))\n",
       "        .catch(showError)\n",
       "        .then(() => displayChart(vegaEmbed));\n",
       "    }\n",
       "  })({\"config\": {\"view\": {\"continuousWidth\": 400, \"continuousHeight\": 300}}, \"data\": {\"name\": \"data-ecaaf3d9582dcd0cbde1b58c21636b31\"}, \"mark\": \"line\", \"encoding\": {\"color\": {\"field\": \"set\", \"type\": \"nominal\"}, \"x\": {\"field\": \"leaves\", \"scale\": {\"zero\": false}, \"type\": \"quantitative\"}, \"y\": {\"field\": \"error\", \"scale\": {\"zero\": false}, \"type\": \"quantitative\"}}, \"$schema\": \"https://vega.github.io/schema/vega-lite/v4.17.0.json\", \"datasets\": {\"data-ecaaf3d9582dcd0cbde1b58c21636b31\": [{\"leaves\": 2, \"error\": 0.3998701088383827, \"set\": \"train\"}, {\"leaves\": 2, \"error\": 0.4112169437491545, \"set\": \"test\"}, {\"leaves\": 3, \"error\": 0.22052566332471113, \"set\": \"train\"}, {\"leaves\": 3, \"error\": 0.28934266522845165, \"set\": \"test\"}, {\"leaves\": 4, \"error\": 0.12482331464316676, \"set\": \"train\"}, {\"leaves\": 4, \"error\": 0.19052756069964782, \"set\": \"test\"}, {\"leaves\": 5, \"error\": 0.0994507268062409, \"set\": \"train\"}, {\"leaves\": 5, \"error\": 0.16591583514870378, \"set\": \"test\"}, {\"leaves\": 6, \"error\": 0.08193227224901944, \"set\": \"train\"}, {\"leaves\": 6, \"error\": 0.1527308204856418, \"set\": \"test\"}, {\"leaves\": 7, \"error\": 0.07100463578011784, \"set\": \"train\"}, {\"leaves\": 7, \"error\": 0.12868883935768405, \"set\": \"test\"}, {\"leaves\": 8, \"error\": 0.06390624941274259, \"set\": \"train\"}, {\"leaves\": 8, \"error\": 0.12508100000758549, \"set\": \"test\"}, {\"leaves\": 9, \"error\": 0.05696817437939372, \"set\": \"train\"}, {\"leaves\": 9, \"error\": 0.11916949265644461, \"set\": \"test\"}, {\"leaves\": 10, \"error\": 0.051057584464787475, \"set\": \"train\"}, {\"leaves\": 10, \"error\": 0.1015409105290177, \"set\": \"test\"}, {\"leaves\": 11, \"error\": 0.04674704249497852, \"set\": \"train\"}, {\"leaves\": 11, \"error\": 0.10823517416434236, \"set\": \"test\"}, {\"leaves\": 12, \"error\": 0.04344029310564146, \"set\": \"train\"}, {\"leaves\": 12, \"error\": 0.10489722186104977, \"set\": \"test\"}, {\"leaves\": 13, \"error\": 0.040208404854145785, \"set\": \"train\"}, {\"leaves\": 13, \"error\": 0.10304886055728335, \"set\": \"test\"}, {\"leaves\": 14, \"error\": 0.03702772875625271, \"set\": \"train\"}, {\"leaves\": 14, \"error\": 0.10157014164601863, \"set\": \"test\"}, {\"leaves\": 15, \"error\": 0.034413412509576746, \"set\": \"train\"}, {\"leaves\": 15, \"error\": 0.09842543310605811, \"set\": \"test\"}, {\"leaves\": 16, \"error\": 0.03195751201186359, \"set\": \"train\"}, {\"leaves\": 16, \"error\": 0.08839069550878664, \"set\": \"test\"}, {\"leaves\": 17, \"error\": 0.02994530113219762, \"set\": \"train\"}, {\"leaves\": 17, \"error\": 0.09638740134380097, \"set\": \"test\"}, {\"leaves\": 18, \"error\": 0.028028036401400502, \"set\": \"train\"}, {\"leaves\": 18, \"error\": 0.09547267002857018, \"set\": \"test\"}, {\"leaves\": 19, \"error\": 0.026296157143695043, \"set\": \"train\"}, {\"leaves\": 19, \"error\": 0.09389440660333115, \"set\": \"test\"}, {\"leaves\": 20, \"error\": 0.024691932020016627, \"set\": \"train\"}, {\"leaves\": 20, \"error\": 0.08679836387835238, \"set\": \"test\"}, {\"leaves\": 21, \"error\": 0.023100829337134088, \"set\": \"train\"}, {\"leaves\": 21, \"error\": 0.09637515748679015, \"set\": \"test\"}, {\"leaves\": 22, \"error\": 0.021553454242575265, \"set\": \"train\"}, {\"leaves\": 22, \"error\": 0.08296158130416498, \"set\": \"test\"}, {\"leaves\": 23, \"error\": 0.0201280392156572, \"set\": \"train\"}, {\"leaves\": 23, \"error\": 0.08824697039458307, \"set\": \"test\"}, {\"leaves\": 24, \"error\": 0.018992692104897402, \"set\": \"train\"}, {\"leaves\": 24, \"error\": 0.09102286568429785, \"set\": \"test\"}, {\"leaves\": 25, \"error\": 0.01791487355902366, \"set\": \"train\"}, {\"leaves\": 25, \"error\": 0.09020516431740777, \"set\": \"test\"}, {\"leaves\": 26, \"error\": 0.017109375748768252, \"set\": \"train\"}, {\"leaves\": 26, \"error\": 0.09265787117258473, \"set\": \"test\"}, {\"leaves\": 27, \"error\": 0.01632271063630253, \"set\": \"train\"}, {\"leaves\": 27, \"error\": 0.0955185359014521, \"set\": \"test\"}, {\"leaves\": 28, \"error\": 0.015541790681621537, \"set\": \"train\"}, {\"leaves\": 28, \"error\": 0.08270232296646585, \"set\": \"test\"}, {\"leaves\": 29, \"error\": 0.014797759066673022, \"set\": \"train\"}, {\"leaves\": 29, \"error\": 0.08932808527791836, \"set\": \"test\"}, {\"leaves\": 30, \"error\": 0.014055655014713286, \"set\": \"train\"}, {\"leaves\": 30, \"error\": 0.0908724435892394, \"set\": \"test\"}, {\"leaves\": 31, \"error\": 0.0133382158778379, \"set\": \"train\"}, {\"leaves\": 31, \"error\": 0.08124741172780903, \"set\": \"test\"}, {\"leaves\": 32, \"error\": 0.011991349571996657, \"set\": \"train\"}, {\"leaves\": 32, \"error\": 0.07948856283228445, \"set\": \"test\"}, {\"leaves\": 33, \"error\": 0.011281996655545523, \"set\": \"train\"}, {\"leaves\": 33, \"error\": 0.08985673755536605, \"set\": \"test\"}, {\"leaves\": 34, \"error\": 0.010620608002395726, \"set\": \"train\"}, {\"leaves\": 34, \"error\": 0.0797932976966853, \"set\": \"test\"}, {\"leaves\": 35, \"error\": 0.010046238499299531, \"set\": \"train\"}, {\"leaves\": 35, \"error\": 0.084618447321682, \"set\": \"test\"}, {\"leaves\": 36, \"error\": 0.009471965230002155, \"set\": \"train\"}, {\"leaves\": 36, \"error\": 0.0757531924238034, \"set\": \"test\"}, {\"leaves\": 37, \"error\": 0.008964905495095876, \"set\": \"train\"}, {\"leaves\": 37, \"error\": 0.07463153602055683, \"set\": \"test\"}, {\"leaves\": 38, \"error\": 0.008555547701761812, \"set\": \"train\"}, {\"leaves\": 38, \"error\": 0.0806963835312482, \"set\": \"test\"}, {\"leaves\": 39, \"error\": 0.008147889782248674, \"set\": \"train\"}, {\"leaves\": 39, \"error\": 0.08539249831103313, \"set\": \"test\"}]}}, {\"mode\": \"vega-lite\"});\n",
       "</script>"
      ],
      "text/plain": [
       "alt.Chart(...)"
      ]
     },
     "execution_count": 39,
     "metadata": {},
     "output_type": "execute_result"
    }
   ],
   "source": [
    "c = alt.Chart(df_err1).mark_line().encode(\n",
    "    x = alt.X(\"leaves\", scale=alt.Scale(zero=False)),\n",
    "    y = alt.Y(\"error\", scale=alt.Scale(zero=False)),\n",
    "    color = \"set\"\n",
    ")\n",
    "c"
   ]
  },
  {
   "cell_type": "markdown",
   "metadata": {
    "cell_id": "632e49ae5c674afc986975f8d650c772",
    "deepnote_cell_type": "markdown"
   },
   "source": [
    "As we can see from the test error curve, max_leaf_nodes = 10 would produce slightly results given that it is the first instance of the test curve that switches from negative slope to positive slope."
   ]
  },
  {
   "cell_type": "markdown",
   "metadata": {
    "cell_id": "ae08f000782b48dc99df9203054cadd2",
    "deepnote_cell_type": "markdown"
   },
   "source": [
    "## Random Forest Regressor "
   ]
  },
  {
   "cell_type": "code",
   "execution_count": 40,
   "metadata": {
    "cell_id": "58d33f516a8043e08b6598f22b598971",
    "deepnote_cell_type": "code",
    "deepnote_to_be_reexecuted": false,
    "execution_millis": 8,
    "execution_start": 1686781812477,
    "source_hash": "995679cd"
   },
   "outputs": [],
   "source": [
    "rfg = RandomForestRegressor(n_estimators=200, max_leaf_nodes=13)"
   ]
  },
  {
   "cell_type": "code",
   "execution_count": 41,
   "metadata": {
    "allow_embed": false,
    "cell_id": "c2ed5cf5441741b883f6286f9899f6a6",
    "deepnote_cell_type": "code",
    "deepnote_to_be_reexecuted": false,
    "execution_millis": 421,
    "execution_start": 1686781812484,
    "source_hash": "86e34fff"
   },
   "outputs": [
    {
     "data": {
      "text/html": [
       "<style>#sk-container-id-3 {color: black;background-color: white;}#sk-container-id-3 pre{padding: 0;}#sk-container-id-3 div.sk-toggleable {background-color: white;}#sk-container-id-3 label.sk-toggleable__label {cursor: pointer;display: block;width: 100%;margin-bottom: 0;padding: 0.3em;box-sizing: border-box;text-align: center;}#sk-container-id-3 label.sk-toggleable__label-arrow:before {content: \"▸\";float: left;margin-right: 0.25em;color: #696969;}#sk-container-id-3 label.sk-toggleable__label-arrow:hover:before {color: black;}#sk-container-id-3 div.sk-estimator:hover label.sk-toggleable__label-arrow:before {color: black;}#sk-container-id-3 div.sk-toggleable__content {max-height: 0;max-width: 0;overflow: hidden;text-align: left;background-color: #f0f8ff;}#sk-container-id-3 div.sk-toggleable__content pre {margin: 0.2em;color: black;border-radius: 0.25em;background-color: #f0f8ff;}#sk-container-id-3 input.sk-toggleable__control:checked~div.sk-toggleable__content {max-height: 200px;max-width: 100%;overflow: auto;}#sk-container-id-3 input.sk-toggleable__control:checked~label.sk-toggleable__label-arrow:before {content: \"▾\";}#sk-container-id-3 div.sk-estimator input.sk-toggleable__control:checked~label.sk-toggleable__label {background-color: #d4ebff;}#sk-container-id-3 div.sk-label input.sk-toggleable__control:checked~label.sk-toggleable__label {background-color: #d4ebff;}#sk-container-id-3 input.sk-hidden--visually {border: 0;clip: rect(1px 1px 1px 1px);clip: rect(1px, 1px, 1px, 1px);height: 1px;margin: -1px;overflow: hidden;padding: 0;position: absolute;width: 1px;}#sk-container-id-3 div.sk-estimator {font-family: monospace;background-color: #f0f8ff;border: 1px dotted black;border-radius: 0.25em;box-sizing: border-box;margin-bottom: 0.5em;}#sk-container-id-3 div.sk-estimator:hover {background-color: #d4ebff;}#sk-container-id-3 div.sk-parallel-item::after {content: \"\";width: 100%;border-bottom: 1px solid gray;flex-grow: 1;}#sk-container-id-3 div.sk-label:hover label.sk-toggleable__label {background-color: #d4ebff;}#sk-container-id-3 div.sk-serial::before {content: \"\";position: absolute;border-left: 1px solid gray;box-sizing: border-box;top: 0;bottom: 0;left: 50%;z-index: 0;}#sk-container-id-3 div.sk-serial {display: flex;flex-direction: column;align-items: center;background-color: white;padding-right: 0.2em;padding-left: 0.2em;position: relative;}#sk-container-id-3 div.sk-item {position: relative;z-index: 1;}#sk-container-id-3 div.sk-parallel {display: flex;align-items: stretch;justify-content: center;background-color: white;position: relative;}#sk-container-id-3 div.sk-item::before, #sk-container-id-3 div.sk-parallel-item::before {content: \"\";position: absolute;border-left: 1px solid gray;box-sizing: border-box;top: 0;bottom: 0;left: 50%;z-index: -1;}#sk-container-id-3 div.sk-parallel-item {display: flex;flex-direction: column;z-index: 1;position: relative;background-color: white;}#sk-container-id-3 div.sk-parallel-item:first-child::after {align-self: flex-end;width: 50%;}#sk-container-id-3 div.sk-parallel-item:last-child::after {align-self: flex-start;width: 50%;}#sk-container-id-3 div.sk-parallel-item:only-child::after {width: 0;}#sk-container-id-3 div.sk-dashed-wrapped {border: 1px dashed gray;margin: 0 0.4em 0.5em 0.4em;box-sizing: border-box;padding-bottom: 0.4em;background-color: white;}#sk-container-id-3 div.sk-label label {font-family: monospace;font-weight: bold;display: inline-block;line-height: 1.2em;}#sk-container-id-3 div.sk-label-container {text-align: center;}#sk-container-id-3 div.sk-container {/* jupyter's `normalize.less` sets `[hidden] { display: none; }` but bootstrap.min.css set `[hidden] { display: none !important; }` so we also need the `!important` here to be able to override the default hidden behavior on the sphinx rendered scikit-learn.org. See: https://github.com/scikit-learn/scikit-learn/issues/21755 */display: inline-block !important;position: relative;}#sk-container-id-3 div.sk-text-repr-fallback {display: none;}</style><div id=\"sk-container-id-3\" class=\"sk-top-container\"><div class=\"sk-text-repr-fallback\"><pre>RandomForestRegressor(max_leaf_nodes=13, n_estimators=200)</pre><b>In a Jupyter environment, please rerun this cell to show the HTML representation or trust the notebook. <br />On GitHub, the HTML representation is unable to render, please try loading this page with nbviewer.org.</b></div><div class=\"sk-container\" hidden><div class=\"sk-item\"><div class=\"sk-estimator sk-toggleable\"><input class=\"sk-toggleable__control sk-hidden--visually\" id=\"sk-estimator-id-3\" type=\"checkbox\" checked><label for=\"sk-estimator-id-3\" class=\"sk-toggleable__label sk-toggleable__label-arrow\">RandomForestRegressor</label><div class=\"sk-toggleable__content\"><pre>RandomForestRegressor(max_leaf_nodes=13, n_estimators=200)</pre></div></div></div></div></div>"
      ],
      "text/plain": [
       "RandomForestRegressor(max_leaf_nodes=13, n_estimators=200)"
      ]
     },
     "execution_count": 41,
     "metadata": {},
     "output_type": "execute_result"
    }
   ],
   "source": [
    "rfg.fit(X_train,y_train)"
   ]
  },
  {
   "cell_type": "code",
   "execution_count": 42,
   "metadata": {
    "allow_embed": false,
    "cell_id": "e67d0ed9e4984abc8f87c5321f96cbba",
    "deepnote_cell_type": "code",
    "deepnote_to_be_reexecuted": false,
    "execution_millis": 19,
    "execution_start": 1686781812918,
    "source_hash": "cf09a790"
   },
   "outputs": [
    {
     "data": {
      "text/plain": [
       "906.1045239852818"
      ]
     },
     "execution_count": 42,
     "metadata": {},
     "output_type": "execute_result"
    }
   ],
   "source": [
    "mean_squared_error(y_train, rfg.predict(X_train))"
   ]
  },
  {
   "cell_type": "code",
   "execution_count": 43,
   "metadata": {
    "allow_embed": false,
    "cell_id": "c91f7b6bbe3947b6967f71ef034312d8",
    "deepnote_cell_type": "code",
    "deepnote_to_be_reexecuted": false,
    "execution_millis": 37,
    "execution_start": 1686781812959,
    "source_hash": "5e71cc36"
   },
   "outputs": [
    {
     "data": {
      "text/plain": [
       "1609.5503655502175"
      ]
     },
     "execution_count": 43,
     "metadata": {},
     "output_type": "execute_result"
    }
   ],
   "source": [
    "mean_squared_error(y_test, rfg.predict(X_test))"
   ]
  },
  {
   "cell_type": "code",
   "execution_count": 44,
   "metadata": {
    "allow_embed": false,
    "cell_id": "85cb9f5ab925446e8d95b983f60f72a9",
    "deepnote_cell_type": "code",
    "deepnote_to_be_reexecuted": false,
    "execution_millis": 11,
    "execution_start": 1686781813025,
    "source_hash": "8af92078"
   },
   "outputs": [
    {
     "data": {
      "text/plain": [
       "23.802718069907115"
      ]
     },
     "execution_count": 44,
     "metadata": {},
     "output_type": "execute_result"
    }
   ],
   "source": [
    "mean_absolute_error(y_train, rfg.predict(X_train))"
   ]
  },
  {
   "cell_type": "code",
   "execution_count": 45,
   "metadata": {
    "allow_embed": false,
    "cell_id": "e702ec510c8a4397925de4de4661dc72",
    "deepnote_cell_type": "code",
    "deepnote_to_be_reexecuted": false,
    "execution_millis": 27,
    "execution_start": 1686781813066,
    "source_hash": "dc590448"
   },
   "outputs": [
    {
     "data": {
      "text/plain": [
       "29.794632547022715"
      ]
     },
     "execution_count": 45,
     "metadata": {},
     "output_type": "execute_result"
    }
   ],
   "source": [
    "mean_absolute_error(y_test, rfg.predict(X_test))"
   ]
  },
  {
   "cell_type": "markdown",
   "metadata": {
    "cell_id": "a1366e0f22604d9ea3b38171ec90744c",
    "deepnote_cell_type": "markdown"
   },
   "source": [
    "From the values produced we can see that the test values produce higher values compared to the train for both mean_squared_error and mean_absolute_value indicating that Random Forrest Regressor is a good model for predicting the \"Stock_Rating\" of the cars. "
   ]
  },
  {
   "cell_type": "markdown",
   "metadata": {
    "cell_id": "f8987d5b94e2458b866479f4d56b3c9f",
    "deepnote_cell_type": "markdown"
   },
   "source": [
    "## Predicting the Car's Classes and Accessing their Accuracy "
   ]
  },
  {
   "cell_type": "code",
   "execution_count": 46,
   "metadata": {
    "cell_id": "d117c392ab4e4405a1f2a32cbf626954",
    "deepnote_cell_type": "code",
    "deepnote_to_be_reexecuted": false,
    "execution_millis": 4,
    "execution_start": 1686781813126,
    "source_hash": "6b49dd6d"
   },
   "outputs": [],
   "source": [
    "from sklearn.linear_model import LogisticRegression\n",
    "from sklearn.tree import DecisionTreeClassifier\n",
    "from sklearn.ensemble import RandomForestClassifier"
   ]
  },
  {
   "cell_type": "markdown",
   "metadata": {
    "cell_id": "d42b5f498a734420a310cdb70a03ae5e",
    "deepnote_cell_type": "markdown"
   },
   "source": [
    "Here we instantiate a new train_test_split because or target column of \"stock_specs\" is given by 5 different classes, so a new split is need for our classification models. We will be checking how accurate each classification model is using the .score() method. As with regression, we want the value produced by the test split to be greater than that of the train split. "
   ]
  },
  {
   "cell_type": "code",
   "execution_count": 47,
   "metadata": {
    "allow_embed": false,
    "cell_id": "4be0dbf0ddeb43f1a68586444f699571",
    "deepnote_cell_type": "code",
    "deepnote_to_be_reexecuted": false,
    "execution_millis": 3,
    "execution_start": 1686781813127,
    "source_hash": "abe2a446"
   },
   "outputs": [],
   "source": [
    "X_train, X_test, y_train, y_test = train_test_split(df[cols1], df[\"stock_specs\"], test_size=0.7)"
   ]
  },
  {
   "cell_type": "markdown",
   "metadata": {
    "cell_id": "a0e32603478c43c08e390a60a3f07538",
    "deepnote_cell_type": "markdown"
   },
   "source": [
    "## Logist Regression"
   ]
  },
  {
   "cell_type": "code",
   "execution_count": 48,
   "metadata": {
    "cell_id": "0e560238de2b434f812d3efad66b1424",
    "deepnote_cell_type": "code",
    "deepnote_to_be_reexecuted": false,
    "execution_millis": 2,
    "execution_start": 1686781813128,
    "source_hash": "1fa69d89"
   },
   "outputs": [],
   "source": [
    "clf = LogisticRegression(max_iter=100000)"
   ]
  },
  {
   "cell_type": "code",
   "execution_count": 49,
   "metadata": {
    "cell_id": "1a61216396c54e46b9b5f430f5bb6805",
    "deepnote_cell_type": "code",
    "deepnote_to_be_reexecuted": false,
    "execution_millis": 401,
    "execution_start": 1686781813129,
    "source_hash": "e7844c31"
   },
   "outputs": [
    {
     "data": {
      "text/html": [
       "<style>#sk-container-id-4 {color: black;background-color: white;}#sk-container-id-4 pre{padding: 0;}#sk-container-id-4 div.sk-toggleable {background-color: white;}#sk-container-id-4 label.sk-toggleable__label {cursor: pointer;display: block;width: 100%;margin-bottom: 0;padding: 0.3em;box-sizing: border-box;text-align: center;}#sk-container-id-4 label.sk-toggleable__label-arrow:before {content: \"▸\";float: left;margin-right: 0.25em;color: #696969;}#sk-container-id-4 label.sk-toggleable__label-arrow:hover:before {color: black;}#sk-container-id-4 div.sk-estimator:hover label.sk-toggleable__label-arrow:before {color: black;}#sk-container-id-4 div.sk-toggleable__content {max-height: 0;max-width: 0;overflow: hidden;text-align: left;background-color: #f0f8ff;}#sk-container-id-4 div.sk-toggleable__content pre {margin: 0.2em;color: black;border-radius: 0.25em;background-color: #f0f8ff;}#sk-container-id-4 input.sk-toggleable__control:checked~div.sk-toggleable__content {max-height: 200px;max-width: 100%;overflow: auto;}#sk-container-id-4 input.sk-toggleable__control:checked~label.sk-toggleable__label-arrow:before {content: \"▾\";}#sk-container-id-4 div.sk-estimator input.sk-toggleable__control:checked~label.sk-toggleable__label {background-color: #d4ebff;}#sk-container-id-4 div.sk-label input.sk-toggleable__control:checked~label.sk-toggleable__label {background-color: #d4ebff;}#sk-container-id-4 input.sk-hidden--visually {border: 0;clip: rect(1px 1px 1px 1px);clip: rect(1px, 1px, 1px, 1px);height: 1px;margin: -1px;overflow: hidden;padding: 0;position: absolute;width: 1px;}#sk-container-id-4 div.sk-estimator {font-family: monospace;background-color: #f0f8ff;border: 1px dotted black;border-radius: 0.25em;box-sizing: border-box;margin-bottom: 0.5em;}#sk-container-id-4 div.sk-estimator:hover {background-color: #d4ebff;}#sk-container-id-4 div.sk-parallel-item::after {content: \"\";width: 100%;border-bottom: 1px solid gray;flex-grow: 1;}#sk-container-id-4 div.sk-label:hover label.sk-toggleable__label {background-color: #d4ebff;}#sk-container-id-4 div.sk-serial::before {content: \"\";position: absolute;border-left: 1px solid gray;box-sizing: border-box;top: 0;bottom: 0;left: 50%;z-index: 0;}#sk-container-id-4 div.sk-serial {display: flex;flex-direction: column;align-items: center;background-color: white;padding-right: 0.2em;padding-left: 0.2em;position: relative;}#sk-container-id-4 div.sk-item {position: relative;z-index: 1;}#sk-container-id-4 div.sk-parallel {display: flex;align-items: stretch;justify-content: center;background-color: white;position: relative;}#sk-container-id-4 div.sk-item::before, #sk-container-id-4 div.sk-parallel-item::before {content: \"\";position: absolute;border-left: 1px solid gray;box-sizing: border-box;top: 0;bottom: 0;left: 50%;z-index: -1;}#sk-container-id-4 div.sk-parallel-item {display: flex;flex-direction: column;z-index: 1;position: relative;background-color: white;}#sk-container-id-4 div.sk-parallel-item:first-child::after {align-self: flex-end;width: 50%;}#sk-container-id-4 div.sk-parallel-item:last-child::after {align-self: flex-start;width: 50%;}#sk-container-id-4 div.sk-parallel-item:only-child::after {width: 0;}#sk-container-id-4 div.sk-dashed-wrapped {border: 1px dashed gray;margin: 0 0.4em 0.5em 0.4em;box-sizing: border-box;padding-bottom: 0.4em;background-color: white;}#sk-container-id-4 div.sk-label label {font-family: monospace;font-weight: bold;display: inline-block;line-height: 1.2em;}#sk-container-id-4 div.sk-label-container {text-align: center;}#sk-container-id-4 div.sk-container {/* jupyter's `normalize.less` sets `[hidden] { display: none; }` but bootstrap.min.css set `[hidden] { display: none !important; }` so we also need the `!important` here to be able to override the default hidden behavior on the sphinx rendered scikit-learn.org. See: https://github.com/scikit-learn/scikit-learn/issues/21755 */display: inline-block !important;position: relative;}#sk-container-id-4 div.sk-text-repr-fallback {display: none;}</style><div id=\"sk-container-id-4\" class=\"sk-top-container\"><div class=\"sk-text-repr-fallback\"><pre>LogisticRegression(max_iter=100000)</pre><b>In a Jupyter environment, please rerun this cell to show the HTML representation or trust the notebook. <br />On GitHub, the HTML representation is unable to render, please try loading this page with nbviewer.org.</b></div><div class=\"sk-container\" hidden><div class=\"sk-item\"><div class=\"sk-estimator sk-toggleable\"><input class=\"sk-toggleable__control sk-hidden--visually\" id=\"sk-estimator-id-4\" type=\"checkbox\" checked><label for=\"sk-estimator-id-4\" class=\"sk-toggleable__label sk-toggleable__label-arrow\">LogisticRegression</label><div class=\"sk-toggleable__content\"><pre>LogisticRegression(max_iter=100000)</pre></div></div></div></div></div>"
      ],
      "text/plain": [
       "LogisticRegression(max_iter=100000)"
      ]
     },
     "execution_count": 49,
     "metadata": {},
     "output_type": "execute_result"
    }
   ],
   "source": [
    "clf.fit(X_train, y_train)"
   ]
  },
  {
   "cell_type": "code",
   "execution_count": 50,
   "metadata": {
    "cell_id": "84bc6bf168fd4ffc848fbed55d9dd80d",
    "deepnote_cell_type": "code",
    "deepnote_to_be_reexecuted": false,
    "execution_millis": 14,
    "execution_start": 1686781813550,
    "source_hash": "2f42d172"
   },
   "outputs": [
    {
     "data": {
      "text/plain": [
       "0.8260869565217391"
      ]
     },
     "execution_count": 50,
     "metadata": {},
     "output_type": "execute_result"
    }
   ],
   "source": [
    "clf.score(X_train, y_train)"
   ]
  },
  {
   "cell_type": "code",
   "execution_count": 51,
   "metadata": {
    "cell_id": "7afdcf8431ff4d158121cd5fe6a118f2",
    "deepnote_cell_type": "code",
    "deepnote_to_be_reexecuted": false,
    "execution_millis": 8,
    "execution_start": 1686781813565,
    "source_hash": "a356aeea"
   },
   "outputs": [
    {
     "data": {
      "text/plain": [
       "0.723404255319149"
      ]
     },
     "execution_count": 51,
     "metadata": {},
     "output_type": "execute_result"
    }
   ],
   "source": [
    "clf.score(X_test, y_test)"
   ]
  },
  {
   "cell_type": "markdown",
   "metadata": {
    "cell_id": "1c5334dbd1f645ec9e4743b8cb2f95f6",
    "deepnote_cell_type": "markdown"
   },
   "source": [
    "As we can see, the score produced by test split is lower than that of the train split indicating that the Logistic Regression model is not a good fit for predicting our \"stock_specs\" for our cars. "
   ]
  },
  {
   "cell_type": "markdown",
   "metadata": {
    "cell_id": "b483822174b7466f9f7aca29e41fd791",
    "deepnote_cell_type": "markdown"
   },
   "source": [
    "## Decision Tree Classifier"
   ]
  },
  {
   "cell_type": "markdown",
   "metadata": {
    "cell_id": "68bee24a5c1d44dd9b80a4c875b438af",
    "deepnote_cell_type": "markdown"
   },
   "source": [
    "For Decision Tree Classifier, our initial instantiation with max_leaf_nodes = 9 is a guess for determing the best results. "
   ]
  },
  {
   "cell_type": "code",
   "execution_count": 52,
   "metadata": {
    "cell_id": "66918b613f354ec3afae8620f4102146",
    "deepnote_cell_type": "code",
    "deepnote_to_be_reexecuted": false,
    "execution_millis": 5,
    "execution_start": 1686781813575,
    "source_hash": "ec05084b"
   },
   "outputs": [],
   "source": [
    "clf2 = DecisionTreeClassifier(max_leaf_nodes=9)"
   ]
  },
  {
   "cell_type": "code",
   "execution_count": 53,
   "metadata": {
    "cell_id": "b1fbd7cb513f45f1bf1b4ae8fd31b1ae",
    "deepnote_cell_type": "code",
    "deepnote_to_be_reexecuted": false,
    "execution_millis": 55,
    "execution_start": 1686781813580,
    "source_hash": "c4ced11b"
   },
   "outputs": [
    {
     "data": {
      "text/html": [
       "<style>#sk-container-id-5 {color: black;background-color: white;}#sk-container-id-5 pre{padding: 0;}#sk-container-id-5 div.sk-toggleable {background-color: white;}#sk-container-id-5 label.sk-toggleable__label {cursor: pointer;display: block;width: 100%;margin-bottom: 0;padding: 0.3em;box-sizing: border-box;text-align: center;}#sk-container-id-5 label.sk-toggleable__label-arrow:before {content: \"▸\";float: left;margin-right: 0.25em;color: #696969;}#sk-container-id-5 label.sk-toggleable__label-arrow:hover:before {color: black;}#sk-container-id-5 div.sk-estimator:hover label.sk-toggleable__label-arrow:before {color: black;}#sk-container-id-5 div.sk-toggleable__content {max-height: 0;max-width: 0;overflow: hidden;text-align: left;background-color: #f0f8ff;}#sk-container-id-5 div.sk-toggleable__content pre {margin: 0.2em;color: black;border-radius: 0.25em;background-color: #f0f8ff;}#sk-container-id-5 input.sk-toggleable__control:checked~div.sk-toggleable__content {max-height: 200px;max-width: 100%;overflow: auto;}#sk-container-id-5 input.sk-toggleable__control:checked~label.sk-toggleable__label-arrow:before {content: \"▾\";}#sk-container-id-5 div.sk-estimator input.sk-toggleable__control:checked~label.sk-toggleable__label {background-color: #d4ebff;}#sk-container-id-5 div.sk-label input.sk-toggleable__control:checked~label.sk-toggleable__label {background-color: #d4ebff;}#sk-container-id-5 input.sk-hidden--visually {border: 0;clip: rect(1px 1px 1px 1px);clip: rect(1px, 1px, 1px, 1px);height: 1px;margin: -1px;overflow: hidden;padding: 0;position: absolute;width: 1px;}#sk-container-id-5 div.sk-estimator {font-family: monospace;background-color: #f0f8ff;border: 1px dotted black;border-radius: 0.25em;box-sizing: border-box;margin-bottom: 0.5em;}#sk-container-id-5 div.sk-estimator:hover {background-color: #d4ebff;}#sk-container-id-5 div.sk-parallel-item::after {content: \"\";width: 100%;border-bottom: 1px solid gray;flex-grow: 1;}#sk-container-id-5 div.sk-label:hover label.sk-toggleable__label {background-color: #d4ebff;}#sk-container-id-5 div.sk-serial::before {content: \"\";position: absolute;border-left: 1px solid gray;box-sizing: border-box;top: 0;bottom: 0;left: 50%;z-index: 0;}#sk-container-id-5 div.sk-serial {display: flex;flex-direction: column;align-items: center;background-color: white;padding-right: 0.2em;padding-left: 0.2em;position: relative;}#sk-container-id-5 div.sk-item {position: relative;z-index: 1;}#sk-container-id-5 div.sk-parallel {display: flex;align-items: stretch;justify-content: center;background-color: white;position: relative;}#sk-container-id-5 div.sk-item::before, #sk-container-id-5 div.sk-parallel-item::before {content: \"\";position: absolute;border-left: 1px solid gray;box-sizing: border-box;top: 0;bottom: 0;left: 50%;z-index: -1;}#sk-container-id-5 div.sk-parallel-item {display: flex;flex-direction: column;z-index: 1;position: relative;background-color: white;}#sk-container-id-5 div.sk-parallel-item:first-child::after {align-self: flex-end;width: 50%;}#sk-container-id-5 div.sk-parallel-item:last-child::after {align-self: flex-start;width: 50%;}#sk-container-id-5 div.sk-parallel-item:only-child::after {width: 0;}#sk-container-id-5 div.sk-dashed-wrapped {border: 1px dashed gray;margin: 0 0.4em 0.5em 0.4em;box-sizing: border-box;padding-bottom: 0.4em;background-color: white;}#sk-container-id-5 div.sk-label label {font-family: monospace;font-weight: bold;display: inline-block;line-height: 1.2em;}#sk-container-id-5 div.sk-label-container {text-align: center;}#sk-container-id-5 div.sk-container {/* jupyter's `normalize.less` sets `[hidden] { display: none; }` but bootstrap.min.css set `[hidden] { display: none !important; }` so we also need the `!important` here to be able to override the default hidden behavior on the sphinx rendered scikit-learn.org. See: https://github.com/scikit-learn/scikit-learn/issues/21755 */display: inline-block !important;position: relative;}#sk-container-id-5 div.sk-text-repr-fallback {display: none;}</style><div id=\"sk-container-id-5\" class=\"sk-top-container\"><div class=\"sk-text-repr-fallback\"><pre>DecisionTreeClassifier(max_leaf_nodes=9)</pre><b>In a Jupyter environment, please rerun this cell to show the HTML representation or trust the notebook. <br />On GitHub, the HTML representation is unable to render, please try loading this page with nbviewer.org.</b></div><div class=\"sk-container\" hidden><div class=\"sk-item\"><div class=\"sk-estimator sk-toggleable\"><input class=\"sk-toggleable__control sk-hidden--visually\" id=\"sk-estimator-id-5\" type=\"checkbox\" checked><label for=\"sk-estimator-id-5\" class=\"sk-toggleable__label sk-toggleable__label-arrow\">DecisionTreeClassifier</label><div class=\"sk-toggleable__content\"><pre>DecisionTreeClassifier(max_leaf_nodes=9)</pre></div></div></div></div></div>"
      ],
      "text/plain": [
       "DecisionTreeClassifier(max_leaf_nodes=9)"
      ]
     },
     "execution_count": 53,
     "metadata": {},
     "output_type": "execute_result"
    }
   ],
   "source": [
    "clf2.fit(X_train,y_train)"
   ]
  },
  {
   "cell_type": "code",
   "execution_count": 54,
   "metadata": {
    "cell_id": "2f15cac4543542cf9af62252acc083d7",
    "deepnote_cell_type": "code",
    "deepnote_to_be_reexecuted": false,
    "execution_millis": 40,
    "execution_start": 1686781813596,
    "source_hash": "9de62dd9"
   },
   "outputs": [
    {
     "data": {
      "text/plain": [
       "0.8136645962732919"
      ]
     },
     "execution_count": 54,
     "metadata": {},
     "output_type": "execute_result"
    }
   ],
   "source": [
    "clf2.score(X_train, y_train)"
   ]
  },
  {
   "cell_type": "code",
   "execution_count": 55,
   "metadata": {
    "cell_id": "019ce702d12d4d4e8318a70ef8575a78",
    "deepnote_cell_type": "code",
    "deepnote_to_be_reexecuted": false,
    "execution_millis": 6,
    "execution_start": 1686781813637,
    "source_hash": "29a2e09e"
   },
   "outputs": [
    {
     "data": {
      "text/plain": [
       "0.6781914893617021"
      ]
     },
     "execution_count": 55,
     "metadata": {},
     "output_type": "execute_result"
    }
   ],
   "source": [
    "clf2.score(X_test, y_test)"
   ]
  },
  {
   "cell_type": "markdown",
   "metadata": {
    "cell_id": "60684500bc2041d68149990f41f57228",
    "deepnote_cell_type": "markdown"
   },
   "source": [
    "As we can see, the score produced by test split is lower than that of the train split indicating that the Decistion Tree Classifier model is not a good fit for predicting our \"stock_specs\" for our cars. "
   ]
  },
  {
   "cell_type": "code",
   "execution_count": 56,
   "metadata": {
    "cell_id": "f0677bde564d4474b54056c329c5edab",
    "deepnote_cell_type": "code",
    "deepnote_to_be_reexecuted": false,
    "execution_millis": 8,
    "execution_start": 1686781813657,
    "source_hash": "d50c9c75"
   },
   "outputs": [
    {
     "data": {
      "text/plain": [
       "array(['A', 'B', 'C', 'D', 'S1', 'S2'], dtype=object)"
      ]
     },
     "execution_count": 56,
     "metadata": {},
     "output_type": "execute_result"
    }
   ],
   "source": [
    "clf2.classes_"
   ]
  },
  {
   "cell_type": "code",
   "execution_count": 57,
   "metadata": {
    "allow_embed": false,
    "cell_id": "b4cf9b137f264e4490a308e342a714ad",
    "deepnote_cell_type": "code",
    "deepnote_to_be_reexecuted": false,
    "execution_millis": 480,
    "execution_start": 1686781813714,
    "source_hash": "58aa81d5"
   },
   "outputs": [],
   "source": [
    "df_err2 = pd.DataFrame(columns = ['leaves', 'error', 'set'])\n",
    "for i in range(2,40):\n",
    "    dtc = DecisionTreeClassifier(max_leaf_nodes=i)\n",
    "    dtc.fit(X_train, y_train)\n",
    "    d3 = {\"leaves\": i, \"error\": (1 - dtc.score(X_train, y_train)),\"set\":\"train\"}\n",
    "    d4 = {\"leaves\": i, \"error\": (1 - dtc.score(X_test, y_test)),\"set\":\"test\"}\n",
    "    df_err2.loc[len(df_err2)] = d3\n",
    "    df_err2.loc[len(df_err2)] = d4"
   ]
  },
  {
   "cell_type": "code",
   "execution_count": 58,
   "metadata": {
    "allow_embed": false,
    "cell_id": "90aae7fdee9f4550bd7cbf3664b6caf5",
    "deepnote_cell_type": "code",
    "deepnote_to_be_reexecuted": false,
    "execution_millis": 41,
    "execution_start": 1686781814188,
    "source_hash": "a5252e76"
   },
   "outputs": [
    {
     "data": {
      "text/html": [
       "\n",
       "<div id=\"altair-viz-0f8f3ee0e3b041ec9d5ae21612349aea\"></div>\n",
       "<script type=\"text/javascript\">\n",
       "  var VEGA_DEBUG = (typeof VEGA_DEBUG == \"undefined\") ? {} : VEGA_DEBUG;\n",
       "  (function(spec, embedOpt){\n",
       "    let outputDiv = document.currentScript.previousElementSibling;\n",
       "    if (outputDiv.id !== \"altair-viz-0f8f3ee0e3b041ec9d5ae21612349aea\") {\n",
       "      outputDiv = document.getElementById(\"altair-viz-0f8f3ee0e3b041ec9d5ae21612349aea\");\n",
       "    }\n",
       "    const paths = {\n",
       "      \"vega\": \"https://cdn.jsdelivr.net/npm//vega@5?noext\",\n",
       "      \"vega-lib\": \"https://cdn.jsdelivr.net/npm//vega-lib?noext\",\n",
       "      \"vega-lite\": \"https://cdn.jsdelivr.net/npm//vega-lite@4.17.0?noext\",\n",
       "      \"vega-embed\": \"https://cdn.jsdelivr.net/npm//vega-embed@6?noext\",\n",
       "    };\n",
       "\n",
       "    function maybeLoadScript(lib, version) {\n",
       "      var key = `${lib.replace(\"-\", \"\")}_version`;\n",
       "      return (VEGA_DEBUG[key] == version) ?\n",
       "        Promise.resolve(paths[lib]) :\n",
       "        new Promise(function(resolve, reject) {\n",
       "          var s = document.createElement('script');\n",
       "          document.getElementsByTagName(\"head\")[0].appendChild(s);\n",
       "          s.async = true;\n",
       "          s.onload = () => {\n",
       "            VEGA_DEBUG[key] = version;\n",
       "            return resolve(paths[lib]);\n",
       "          };\n",
       "          s.onerror = () => reject(`Error loading script: ${paths[lib]}`);\n",
       "          s.src = paths[lib];\n",
       "        });\n",
       "    }\n",
       "\n",
       "    function showError(err) {\n",
       "      outputDiv.innerHTML = `<div class=\"error\" style=\"color:red;\">${err}</div>`;\n",
       "      throw err;\n",
       "    }\n",
       "\n",
       "    function displayChart(vegaEmbed) {\n",
       "      vegaEmbed(outputDiv, spec, embedOpt)\n",
       "        .catch(err => showError(`Javascript Error: ${err.message}<br>This usually means there's a typo in your chart specification. See the javascript console for the full traceback.`));\n",
       "    }\n",
       "\n",
       "    if(typeof define === \"function\" && define.amd) {\n",
       "      requirejs.config({paths});\n",
       "      require([\"vega-embed\"], displayChart, err => showError(`Error loading script: ${err.message}`));\n",
       "    } else {\n",
       "      maybeLoadScript(\"vega\", \"5\")\n",
       "        .then(() => maybeLoadScript(\"vega-lite\", \"4.17.0\"))\n",
       "        .then(() => maybeLoadScript(\"vega-embed\", \"6\"))\n",
       "        .catch(showError)\n",
       "        .then(() => displayChart(vegaEmbed));\n",
       "    }\n",
       "  })({\"config\": {\"view\": {\"continuousWidth\": 400, \"continuousHeight\": 300}}, \"data\": {\"name\": \"data-5f661ecaebaf31bf5402883cb5dfba47\"}, \"mark\": \"line\", \"encoding\": {\"color\": {\"field\": \"set\", \"type\": \"nominal\"}, \"x\": {\"field\": \"leaves\", \"scale\": {\"zero\": false}, \"type\": \"quantitative\"}, \"y\": {\"field\": \"error\", \"scale\": {\"zero\": false}, \"type\": \"quantitative\"}}, \"$schema\": \"https://vega.github.io/schema/vega-lite/v4.17.0.json\", \"datasets\": {\"data-5f661ecaebaf31bf5402883cb5dfba47\": [{\"leaves\": 2, \"error\": 0.6211180124223603, \"set\": \"train\"}, {\"leaves\": 2, \"error\": 0.6303191489361701, \"set\": \"test\"}, {\"leaves\": 3, \"error\": 0.45962732919254656, \"set\": \"train\"}, {\"leaves\": 3, \"error\": 0.5, \"set\": \"test\"}, {\"leaves\": 4, \"error\": 0.3850931677018633, \"set\": \"train\"}, {\"leaves\": 4, \"error\": 0.44680851063829785, \"set\": \"test\"}, {\"leaves\": 5, \"error\": 0.3354037267080745, \"set\": \"train\"}, {\"leaves\": 5, \"error\": 0.401595744680851, \"set\": \"test\"}, {\"leaves\": 6, \"error\": 0.25465838509316774, \"set\": \"train\"}, {\"leaves\": 6, \"error\": 0.31117021276595747, \"set\": \"test\"}, {\"leaves\": 7, \"error\": 0.2360248447204969, \"set\": \"train\"}, {\"leaves\": 7, \"error\": 0.3058510638297872, \"set\": \"test\"}, {\"leaves\": 8, \"error\": 0.21739130434782605, \"set\": \"train\"}, {\"leaves\": 8, \"error\": 0.3271276595744681, \"set\": \"test\"}, {\"leaves\": 9, \"error\": 0.1863354037267081, \"set\": \"train\"}, {\"leaves\": 9, \"error\": 0.32180851063829785, \"set\": \"test\"}, {\"leaves\": 10, \"error\": 0.16149068322981364, \"set\": \"train\"}, {\"leaves\": 10, \"error\": 0.31117021276595747, \"set\": \"test\"}, {\"leaves\": 11, \"error\": 0.1428571428571429, \"set\": \"train\"}, {\"leaves\": 11, \"error\": 0.30319148936170215, \"set\": \"test\"}, {\"leaves\": 12, \"error\": 0.1366459627329193, \"set\": \"train\"}, {\"leaves\": 12, \"error\": 0.28457446808510634, \"set\": \"test\"}, {\"leaves\": 13, \"error\": 0.12422360248447206, \"set\": \"train\"}, {\"leaves\": 13, \"error\": 0.2872340425531915, \"set\": \"test\"}, {\"leaves\": 14, \"error\": 0.11801242236024845, \"set\": \"train\"}, {\"leaves\": 14, \"error\": 0.28457446808510634, \"set\": \"test\"}, {\"leaves\": 15, \"error\": 0.11180124223602483, \"set\": \"train\"}, {\"leaves\": 15, \"error\": 0.3191489361702128, \"set\": \"test\"}, {\"leaves\": 16, \"error\": 0.0993788819875776, \"set\": \"train\"}, {\"leaves\": 16, \"error\": 0.3191489361702128, \"set\": \"test\"}, {\"leaves\": 17, \"error\": 0.0993788819875776, \"set\": \"train\"}, {\"leaves\": 17, \"error\": 0.3191489361702128, \"set\": \"test\"}, {\"leaves\": 18, \"error\": 0.08695652173913049, \"set\": \"train\"}, {\"leaves\": 18, \"error\": 0.30319148936170215, \"set\": \"test\"}, {\"leaves\": 19, \"error\": 0.08074534161490687, \"set\": \"train\"}, {\"leaves\": 19, \"error\": 0.3058510638297872, \"set\": \"test\"}, {\"leaves\": 20, \"error\": 0.07453416149068326, \"set\": \"train\"}, {\"leaves\": 20, \"error\": 0.30053191489361697, \"set\": \"test\"}, {\"leaves\": 21, \"error\": 0.06832298136645965, \"set\": \"train\"}, {\"leaves\": 21, \"error\": 0.2978723404255319, \"set\": \"test\"}, {\"leaves\": 22, \"error\": 0.06211180124223603, \"set\": \"train\"}, {\"leaves\": 22, \"error\": 0.2978723404255319, \"set\": \"test\"}, {\"leaves\": 23, \"error\": 0.0496894409937888, \"set\": \"train\"}, {\"leaves\": 23, \"error\": 0.29521276595744683, \"set\": \"test\"}, {\"leaves\": 24, \"error\": 0.04347826086956519, \"set\": \"train\"}, {\"leaves\": 24, \"error\": 0.30053191489361697, \"set\": \"test\"}, {\"leaves\": 25, \"error\": 0.037267080745341574, \"set\": \"train\"}, {\"leaves\": 25, \"error\": 0.28191489361702127, \"set\": \"test\"}, {\"leaves\": 26, \"error\": 0.037267080745341574, \"set\": \"train\"}, {\"leaves\": 26, \"error\": 0.27393617021276595, \"set\": \"test\"}, {\"leaves\": 27, \"error\": 0.03105590062111796, \"set\": \"train\"}, {\"leaves\": 27, \"error\": 0.28457446808510634, \"set\": \"test\"}, {\"leaves\": 28, \"error\": 0.03105590062111796, \"set\": \"train\"}, {\"leaves\": 28, \"error\": 0.29255319148936165, \"set\": \"test\"}, {\"leaves\": 29, \"error\": 0.018633540372670843, \"set\": \"train\"}, {\"leaves\": 29, \"error\": 0.28457446808510634, \"set\": \"test\"}, {\"leaves\": 30, \"error\": 0.012422360248447228, \"set\": \"train\"}, {\"leaves\": 30, \"error\": 0.28191489361702127, \"set\": \"test\"}, {\"leaves\": 31, \"error\": 0.012422360248447228, \"set\": \"train\"}, {\"leaves\": 31, \"error\": 0.29255319148936165, \"set\": \"test\"}, {\"leaves\": 32, \"error\": 0.006211180124223614, \"set\": \"train\"}, {\"leaves\": 32, \"error\": 0.29255319148936165, \"set\": \"test\"}, {\"leaves\": 33, \"error\": 0.0, \"set\": \"train\"}, {\"leaves\": 33, \"error\": 0.28457446808510634, \"set\": \"test\"}, {\"leaves\": 34, \"error\": 0.0, \"set\": \"train\"}, {\"leaves\": 34, \"error\": 0.29521276595744683, \"set\": \"test\"}, {\"leaves\": 35, \"error\": 0.0, \"set\": \"train\"}, {\"leaves\": 35, \"error\": 0.29521276595744683, \"set\": \"test\"}, {\"leaves\": 36, \"error\": 0.0, \"set\": \"train\"}, {\"leaves\": 36, \"error\": 0.29255319148936165, \"set\": \"test\"}, {\"leaves\": 37, \"error\": 0.0, \"set\": \"train\"}, {\"leaves\": 37, \"error\": 0.2898936170212766, \"set\": \"test\"}, {\"leaves\": 38, \"error\": 0.0, \"set\": \"train\"}, {\"leaves\": 38, \"error\": 0.29521276595744683, \"set\": \"test\"}, {\"leaves\": 39, \"error\": 0.0, \"set\": \"train\"}, {\"leaves\": 39, \"error\": 0.2978723404255319, \"set\": \"test\"}]}}, {\"mode\": \"vega-lite\"});\n",
       "</script>"
      ],
      "text/plain": [
       "alt.Chart(...)"
      ]
     },
     "execution_count": 58,
     "metadata": {},
     "output_type": "execute_result"
    }
   ],
   "source": [
    "c = alt.Chart(df_err2).mark_line().encode(\n",
    "    x = alt.X(\"leaves\", scale=alt.Scale(zero=False)),\n",
    "    y = alt.Y(\"error\", scale=alt.Scale(zero=False)),\n",
    "    color = \"set\"\n",
    ")\n",
    "c"
   ]
  },
  {
   "cell_type": "markdown",
   "metadata": {
    "cell_id": "b6ce57e58853423f92df38152189ce13",
    "deepnote_cell_type": "markdown"
   },
   "source": [
    "As we can see from the test error curve, max_leaf_nodes = 8 would produce slightly results given that it is the first instance of the test curve that switches from negative slope to positive slope. But, given that our original model did nor produce favorable results with max_leaf_nodes = 9, it is possible that the model still wont be good for predicting or \"stock_specs\" for our cars. "
   ]
  },
  {
   "cell_type": "markdown",
   "metadata": {
    "cell_id": "583aba720a1843b584f9fdcc46a492c7",
    "deepnote_cell_type": "markdown"
   },
   "source": [
    "## Random Forest Classifier"
   ]
  },
  {
   "cell_type": "code",
   "execution_count": 59,
   "metadata": {
    "cell_id": "4dc8f309499e4e1cb64d9b805f799381",
    "deepnote_cell_type": "code",
    "deepnote_to_be_reexecuted": false,
    "execution_millis": 4,
    "execution_start": 1686781814226,
    "source_hash": "ab4f591a"
   },
   "outputs": [],
   "source": [
    "rfc = RandomForestClassifier(n_estimators=200,max_leaf_nodes=9)"
   ]
  },
  {
   "cell_type": "code",
   "execution_count": 60,
   "metadata": {
    "cell_id": "32b8a369fb014fe19a92dc9be12c9fc6",
    "deepnote_cell_type": "code",
    "deepnote_to_be_reexecuted": false,
    "execution_millis": 395,
    "execution_start": 1686781814227,
    "source_hash": "e0385da4"
   },
   "outputs": [
    {
     "data": {
      "text/html": [
       "<style>#sk-container-id-6 {color: black;background-color: white;}#sk-container-id-6 pre{padding: 0;}#sk-container-id-6 div.sk-toggleable {background-color: white;}#sk-container-id-6 label.sk-toggleable__label {cursor: pointer;display: block;width: 100%;margin-bottom: 0;padding: 0.3em;box-sizing: border-box;text-align: center;}#sk-container-id-6 label.sk-toggleable__label-arrow:before {content: \"▸\";float: left;margin-right: 0.25em;color: #696969;}#sk-container-id-6 label.sk-toggleable__label-arrow:hover:before {color: black;}#sk-container-id-6 div.sk-estimator:hover label.sk-toggleable__label-arrow:before {color: black;}#sk-container-id-6 div.sk-toggleable__content {max-height: 0;max-width: 0;overflow: hidden;text-align: left;background-color: #f0f8ff;}#sk-container-id-6 div.sk-toggleable__content pre {margin: 0.2em;color: black;border-radius: 0.25em;background-color: #f0f8ff;}#sk-container-id-6 input.sk-toggleable__control:checked~div.sk-toggleable__content {max-height: 200px;max-width: 100%;overflow: auto;}#sk-container-id-6 input.sk-toggleable__control:checked~label.sk-toggleable__label-arrow:before {content: \"▾\";}#sk-container-id-6 div.sk-estimator input.sk-toggleable__control:checked~label.sk-toggleable__label {background-color: #d4ebff;}#sk-container-id-6 div.sk-label input.sk-toggleable__control:checked~label.sk-toggleable__label {background-color: #d4ebff;}#sk-container-id-6 input.sk-hidden--visually {border: 0;clip: rect(1px 1px 1px 1px);clip: rect(1px, 1px, 1px, 1px);height: 1px;margin: -1px;overflow: hidden;padding: 0;position: absolute;width: 1px;}#sk-container-id-6 div.sk-estimator {font-family: monospace;background-color: #f0f8ff;border: 1px dotted black;border-radius: 0.25em;box-sizing: border-box;margin-bottom: 0.5em;}#sk-container-id-6 div.sk-estimator:hover {background-color: #d4ebff;}#sk-container-id-6 div.sk-parallel-item::after {content: \"\";width: 100%;border-bottom: 1px solid gray;flex-grow: 1;}#sk-container-id-6 div.sk-label:hover label.sk-toggleable__label {background-color: #d4ebff;}#sk-container-id-6 div.sk-serial::before {content: \"\";position: absolute;border-left: 1px solid gray;box-sizing: border-box;top: 0;bottom: 0;left: 50%;z-index: 0;}#sk-container-id-6 div.sk-serial {display: flex;flex-direction: column;align-items: center;background-color: white;padding-right: 0.2em;padding-left: 0.2em;position: relative;}#sk-container-id-6 div.sk-item {position: relative;z-index: 1;}#sk-container-id-6 div.sk-parallel {display: flex;align-items: stretch;justify-content: center;background-color: white;position: relative;}#sk-container-id-6 div.sk-item::before, #sk-container-id-6 div.sk-parallel-item::before {content: \"\";position: absolute;border-left: 1px solid gray;box-sizing: border-box;top: 0;bottom: 0;left: 50%;z-index: -1;}#sk-container-id-6 div.sk-parallel-item {display: flex;flex-direction: column;z-index: 1;position: relative;background-color: white;}#sk-container-id-6 div.sk-parallel-item:first-child::after {align-self: flex-end;width: 50%;}#sk-container-id-6 div.sk-parallel-item:last-child::after {align-self: flex-start;width: 50%;}#sk-container-id-6 div.sk-parallel-item:only-child::after {width: 0;}#sk-container-id-6 div.sk-dashed-wrapped {border: 1px dashed gray;margin: 0 0.4em 0.5em 0.4em;box-sizing: border-box;padding-bottom: 0.4em;background-color: white;}#sk-container-id-6 div.sk-label label {font-family: monospace;font-weight: bold;display: inline-block;line-height: 1.2em;}#sk-container-id-6 div.sk-label-container {text-align: center;}#sk-container-id-6 div.sk-container {/* jupyter's `normalize.less` sets `[hidden] { display: none; }` but bootstrap.min.css set `[hidden] { display: none !important; }` so we also need the `!important` here to be able to override the default hidden behavior on the sphinx rendered scikit-learn.org. See: https://github.com/scikit-learn/scikit-learn/issues/21755 */display: inline-block !important;position: relative;}#sk-container-id-6 div.sk-text-repr-fallback {display: none;}</style><div id=\"sk-container-id-6\" class=\"sk-top-container\"><div class=\"sk-text-repr-fallback\"><pre>RandomForestClassifier(max_leaf_nodes=9, n_estimators=200)</pre><b>In a Jupyter environment, please rerun this cell to show the HTML representation or trust the notebook. <br />On GitHub, the HTML representation is unable to render, please try loading this page with nbviewer.org.</b></div><div class=\"sk-container\" hidden><div class=\"sk-item\"><div class=\"sk-estimator sk-toggleable\"><input class=\"sk-toggleable__control sk-hidden--visually\" id=\"sk-estimator-id-6\" type=\"checkbox\" checked><label for=\"sk-estimator-id-6\" class=\"sk-toggleable__label sk-toggleable__label-arrow\">RandomForestClassifier</label><div class=\"sk-toggleable__content\"><pre>RandomForestClassifier(max_leaf_nodes=9, n_estimators=200)</pre></div></div></div></div></div>"
      ],
      "text/plain": [
       "RandomForestClassifier(max_leaf_nodes=9, n_estimators=200)"
      ]
     },
     "execution_count": 60,
     "metadata": {},
     "output_type": "execute_result"
    }
   ],
   "source": [
    "rfc.fit(X_train,y_train)"
   ]
  },
  {
   "cell_type": "code",
   "execution_count": 61,
   "metadata": {
    "cell_id": "87e5f2dbae4549d599bc39b77b3f78bf",
    "deepnote_cell_type": "code",
    "deepnote_to_be_reexecuted": false,
    "execution_millis": 59,
    "execution_start": 1686781814645,
    "source_hash": "78c71e7a"
   },
   "outputs": [
    {
     "data": {
      "text/plain": [
       "0.8944099378881988"
      ]
     },
     "execution_count": 61,
     "metadata": {},
     "output_type": "execute_result"
    }
   ],
   "source": [
    "rfc.score(X_train,y_train)"
   ]
  },
  {
   "cell_type": "code",
   "execution_count": 62,
   "metadata": {
    "cell_id": "c00306bea0644f19b174664ac0e58a87",
    "deepnote_cell_type": "code",
    "deepnote_to_be_reexecuted": false,
    "execution_millis": 63,
    "execution_start": 1686781814707,
    "source_hash": "45282beb"
   },
   "outputs": [
    {
     "data": {
      "text/plain": [
       "0.7420212765957447"
      ]
     },
     "execution_count": 62,
     "metadata": {},
     "output_type": "execute_result"
    }
   ],
   "source": [
    "rfc.score(X_test,y_test)"
   ]
  },
  {
   "cell_type": "markdown",
   "metadata": {
    "cell_id": "9ee7870fdce54b1b8d690bf10b139316",
    "deepnote_cell_type": "markdown"
   },
   "source": [
    "As we can see, the score produced by test split is lower than that of the train split indicating that the Random Forest Classifier model is not a good fit for predicting our \"stock_specs\" for our cars. "
   ]
  },
  {
   "cell_type": "markdown",
   "metadata": {
    "cell_id": "75dcdc5bca06442a8de55ca547ebe09f",
    "deepnote_cell_type": "markdown"
   },
   "source": [
    "## Checking the Adequacy of Our Classifying Models"
   ]
  },
  {
   "cell_type": "code",
   "execution_count": 63,
   "metadata": {
    "cell_id": "309c2cedcf6e4c0c86ba2fe9a307ef75",
    "deepnote_cell_type": "code",
    "deepnote_to_be_reexecuted": false,
    "execution_millis": 9,
    "execution_start": 1686781814769,
    "source_hash": "bf9a612d"
   },
   "outputs": [],
   "source": [
    "from sklearn.metrics import log_loss\n",
    "from sklearn.model_selection import train_test_split"
   ]
  },
  {
   "cell_type": "markdown",
   "metadata": {
    "cell_id": "3e7c5d6311584ec6a2d0711c25356440",
    "deepnote_cell_type": "markdown"
   },
   "source": [
    "As part of my extra portion of my project, I chose to use log_loss to determine the adequacy of our different classification models. This is determined by the lower the value, the better the model is suited for predicting our \"stock_specs\". This function only works for classification models has it needs the predicted probabilities of the models to determine its value.  "
   ]
  },
  {
   "cell_type": "markdown",
   "metadata": {
    "cell_id": "cb0f8f0064744ab9a82f7bd9a06a51ee",
    "deepnote_cell_type": "markdown"
   },
   "source": [
    "## Logistic Regression"
   ]
  },
  {
   "cell_type": "code",
   "execution_count": 64,
   "metadata": {
    "cell_id": "816fa58a3fed41c5bebd8dc12fffc8fb",
    "deepnote_cell_type": "code",
    "deepnote_to_be_reexecuted": false,
    "execution_millis": 15,
    "execution_start": 1686781814948,
    "source_hash": "5c51461"
   },
   "outputs": [
    {
     "data": {
      "text/plain": [
       "0.5002982111368205"
      ]
     },
     "execution_count": 64,
     "metadata": {},
     "output_type": "execute_result"
    }
   ],
   "source": [
    "log_loss(y_train, clf.predict_proba(X_train))"
   ]
  },
  {
   "cell_type": "code",
   "execution_count": 65,
   "metadata": {
    "cell_id": "acc46006b6ec431e9eb208e9bd2cb3a9",
    "deepnote_cell_type": "code",
    "deepnote_to_be_reexecuted": false,
    "execution_millis": 14,
    "execution_start": 1686781814949,
    "source_hash": "40e7c72"
   },
   "outputs": [
    {
     "data": {
      "text/plain": [
       "0.6696431553535065"
      ]
     },
     "execution_count": 65,
     "metadata": {},
     "output_type": "execute_result"
    }
   ],
   "source": [
    "log_loss(y_test, clf.predict_proba(X_test))"
   ]
  },
  {
   "cell_type": "markdown",
   "metadata": {
    "cell_id": "311f9eab2d654bc780bd176309dc4bc1",
    "deepnote_cell_type": "markdown"
   },
   "source": [
    "As we can see, the value produced by the test set is higher than the train set indicating that our model clf defined as Logistic Regression is not an adequate model for our predictions. "
   ]
  },
  {
   "cell_type": "markdown",
   "metadata": {
    "cell_id": "ebfaa79dc0774be5bab192fbbb6fd4e3",
    "deepnote_cell_type": "markdown"
   },
   "source": [
    "## Decision Tree Classifier"
   ]
  },
  {
   "cell_type": "code",
   "execution_count": 66,
   "metadata": {
    "allow_embed": false,
    "cell_id": "31fdc2048f8245638bb60a166f9a4520",
    "deepnote_cell_type": "code",
    "deepnote_to_be_reexecuted": false,
    "execution_millis": 12,
    "execution_start": 1686781814951,
    "source_hash": "5412030e"
   },
   "outputs": [
    {
     "data": {
      "text/plain": [
       "0.46980498391662157"
      ]
     },
     "execution_count": 66,
     "metadata": {},
     "output_type": "execute_result"
    }
   ],
   "source": [
    "log_loss(y_train, clf2.predict_proba(X_train))"
   ]
  },
  {
   "cell_type": "code",
   "execution_count": 67,
   "metadata": {
    "allow_embed": false,
    "cell_id": "6f40e9322161432fb1ac2d82995203f6",
    "deepnote_cell_type": "code",
    "deepnote_to_be_reexecuted": false,
    "execution_millis": 11,
    "execution_start": 1686781814952,
    "source_hash": "409abd45"
   },
   "outputs": [
    {
     "data": {
      "text/plain": [
       "2.8158974669983867"
      ]
     },
     "execution_count": 67,
     "metadata": {},
     "output_type": "execute_result"
    }
   ],
   "source": [
    "log_loss(y_test, clf2.predict_proba(X_test))"
   ]
  },
  {
   "cell_type": "markdown",
   "metadata": {
    "cell_id": "4c191e2b35e74546960be859fc0037bf",
    "deepnote_cell_type": "markdown"
   },
   "source": [
    "As we can see, the value produced by the test set is significantly higher than the train set indicating that our model clf2 defined as Decision Tree Classifier is not an adequate model for our predictions. "
   ]
  },
  {
   "cell_type": "markdown",
   "metadata": {
    "cell_id": "feac71e14d3e46a2a31c92b5adca7789",
    "deepnote_cell_type": "markdown"
   },
   "source": [
    "## Random Forest Classifier"
   ]
  },
  {
   "cell_type": "code",
   "execution_count": 68,
   "metadata": {
    "allow_embed": false,
    "cell_id": "5f5e84294a1841e0bccf48b35e9a387b",
    "deepnote_cell_type": "code",
    "deepnote_to_be_reexecuted": false,
    "execution_millis": 10,
    "execution_start": 1686781814953,
    "source_hash": "3c94b7f0"
   },
   "outputs": [
    {
     "data": {
      "text/plain": [
       "0.48410537656977254"
      ]
     },
     "execution_count": 68,
     "metadata": {},
     "output_type": "execute_result"
    }
   ],
   "source": [
    "log_loss(y_train, rfc.predict_proba(X_train))"
   ]
  },
  {
   "cell_type": "code",
   "execution_count": 69,
   "metadata": {
    "allow_embed": false,
    "cell_id": "d1b3152e63e54134a892b0854a08e181",
    "deepnote_cell_type": "code",
    "deepnote_to_be_reexecuted": false,
    "execution_millis": 81,
    "execution_start": 1686781814958,
    "source_hash": "1fe27411"
   },
   "outputs": [
    {
     "data": {
      "text/plain": [
       "0.6558411789879937"
      ]
     },
     "execution_count": 69,
     "metadata": {},
     "output_type": "execute_result"
    }
   ],
   "source": [
    "log_loss(y_test, rfc.predict_proba(X_test))"
   ]
  },
  {
   "cell_type": "markdown",
   "metadata": {
    "cell_id": "a537b028b56e4671a1aef7503bc20ed8",
    "deepnote_cell_type": "markdown"
   },
   "source": [
    "As we can see, the value produced by the test set is higher than the train set indicating that our model clf defined as Random Forest Classifier is not an adequate model for our predictions. "
   ]
  },
  {
   "cell_type": "markdown",
   "metadata": {
    "cell_id": "0e4eeeaeb6124f56a407b92678f5c66d",
    "deepnote_cell_type": "markdown",
    "tags": []
   },
   "source": [
    "# Summary "
   ]
  },
  {
   "cell_type": "markdown",
   "metadata": {
    "cell_id": "b2d9912da6cf40dcb576c0c56893ebe6",
    "deepnote_cell_type": "markdown"
   },
   "source": [
    "To conclude this project, we can see that all of our regression models were a good fit for predicting the \"Stock_Rating\" of our cars. In retrospect the data is rather linear in nature given that the higher an individual stat is directly proportional to a higher \"Stock_Rating\" so it was not difficult for the machine to predict the corresponding values. On the other hand, it came as a surprise that the classification models were not as successful in predicting the \"stock_specs\" for the cars. I believe that this is the case, from my in game knowledge, given that the 5 in game classes do not sub-divide the rating values evenly into 5 equal parts, rather, each class has a unique corresponding range for the rating values. "
   ]
  },
  {
   "cell_type": "markdown",
   "metadata": {
    "cell_id": "ba87fae94e564c1caac66c990dc53202",
    "deepnote_cell_type": "markdown",
    "tags": []
   },
   "source": [
    "## References\n",
    "\n",
    "Your code above should include references.  Here is some additional space for references."
   ]
  },
  {
   "cell_type": "markdown",
   "metadata": {
    "cell_id": "34a27cdb7c1d48adbc00730cf0356390",
    "deepnote_cell_type": "markdown"
   },
   "source": []
  },
  {
   "cell_type": "markdown",
   "metadata": {
    "cell_id": "4feee08cd010457daa7016b6ee3a1322",
    "deepnote_cell_type": "markdown",
    "tags": []
   },
   "source": [
    "* What is the source of your dataset(s)?"
   ]
  },
  {
   "cell_type": "markdown",
   "metadata": {
    "cell_id": "bf1fe2e34ce743f5a829df851b5e825a",
    "deepnote_cell_type": "markdown"
   },
   "source": [
    "This data set comes from Kaggle found [here](https://www.kaggle.com/datasets/deepcontractor/froza-horizon-5-cars-dataset?resource=download). It is dataset that contains all the possible vehicles and their respective stats that can be acquired within the game, Forza Horizon 5. "
   ]
  },
  {
   "cell_type": "markdown",
   "metadata": {
    "cell_id": "c27e738868ed49d0b6c843f727b5e8f1",
    "deepnote_cell_type": "markdown",
    "deepnote_to_be_reexecuted": false,
    "execution_millis": 0,
    "execution_start": 1652916033453,
    "source_hash": "aa45eba7",
    "tags": []
   },
   "source": [
    "* List any other references that you found helpful."
   ]
  },
  {
   "cell_type": "markdown",
   "metadata": {
    "cell_id": "5d8993a3929643088da1534087f144ee",
    "deepnote_cell_type": "markdown"
   },
   "source": [
    "All my references are from ChatGPT which I highlighted the code blocks that made us of it. "
   ]
  },
  {
   "cell_type": "markdown",
   "metadata": {
    "cell_id": "2f7048e9bacc4ffdb5950853255c1d40",
    "deepnote_cell_type": "markdown",
    "tags": []
   },
   "source": [
    "## Submission\n",
    "\n",
    "Using the Share button at the top right, **enable Comment privileges** for anyone with a link to the project. Then submit that link on Canvas."
   ]
  },
  {
   "cell_type": "markdown",
   "metadata": {
    "created_in_deepnote_cell": true,
    "deepnote_cell_type": "markdown"
   },
   "source": [
    "<a style='text-decoration:none;line-height:16px;display:flex;color:#5B5B62;padding:10px;justify-content:end;' href='https://deepnote.com?utm_source=created-in-deepnote-cell&projectId=eebc59b1-fe87-4a88-b862-9a1a1fc6b5c5' target=\"_blank\">\n",
    "<img alt='Created in deepnote.com' style='display:inline;max-height:16px;margin:0px;margin-right:7.5px;' src='data:image/svg+xml;base64,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' > </img>\n",
    "Created in <span style='font-weight:600;margin-left:4px;'>Deepnote</span></a>"
   ]
  }
 ],
 "metadata": {
  "deepnote": {
   "is_reactive": false
  },
  "deepnote_execution_queue": [],
  "deepnote_notebook_id": "bfd65e38573b4996a1750ab5913360c5",
  "deepnote_persisted_session": {
   "createdAt": "2023-06-14T23:30:11.538Z"
  },
  "kernelspec": {
   "display_name": "Python 3 (ipykernel)",
   "language": "python",
   "name": "python3"
  },
  "language_info": {
   "codemirror_mode": {
    "name": "ipython",
    "version": 3
   },
   "file_extension": ".py",
   "mimetype": "text/x-python",
   "name": "python",
   "nbconvert_exporter": "python",
   "pygments_lexer": "ipython3",
   "version": "3.9.16"
  }
 },
 "nbformat": 4,
 "nbformat_minor": 4
}
