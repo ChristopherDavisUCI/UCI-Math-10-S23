{
 "cells": [
  {
   "cell_type": "markdown",
   "metadata": {
    "cell_id": "3c02193f7cd645bfa03e9d5ed94d58e9",
    "deepnote_cell_type": "markdown",
    "tags": []
   },
   "source": [
    "# Overwatch 2\n",
    "\n",
    "Author: Luke Galang (lrgalang@uci.edu)\n",
    "\n",
    "Course Project, UC Irvine, Math 10, S23"
   ]
  },
  {
   "cell_type": "markdown",
   "metadata": {
    "cell_id": "a1af0109df2f4d44a0bcda0d667869bc",
    "deepnote_cell_type": "markdown",
    "tags": []
   },
   "source": [
    "## Introduction\n",
    "\n",
    "This is some data from Blizzard Entertainment's Overwatch 2, a video game where a multitude of heroes face off to accomplish a series of objectives using their different abilities. What I want to try to accomplish is to use what we learned in Math 10 to show if there are any relationships in the data visually and to predict probabilities to certain skill tiers or heroes. I also want to predict relationships between certain statistics in the dataset to understand if there is any correlation between those stats\n"
   ]
  },
  {
   "cell_type": "markdown",
   "metadata": {
    "cell_id": "8c3e21ce77364f5bacbeb1658f138d7c",
    "deepnote_cell_type": "markdown",
    "tags": []
   },
   "source": [
    "## Main Portion of Project\n",
    "### Load Data\n"
   ]
  },
  {
   "cell_type": "code",
   "execution_count": 1,
   "metadata": {
    "cell_id": "1ae70989f81148ba8bc43be4594f6f01",
    "deepnote_cell_type": "code",
    "deepnote_to_be_reexecuted": false,
    "execution_millis": 2448,
    "execution_start": 1686772054435,
    "source_hash": "65256480"
   },
   "outputs": [],
   "source": [
    "import pandas as pd\n",
    "import numpy as np\n",
    "import altair as alt\n",
    "from sklearn.linear_model import LinearRegression\n",
    "from sklearn.linear_model import LogisticRegression\n",
    "from sklearn.metrics import mean_absolute_error\n",
    "from sklearn.model_selection import train_test_split\n",
    "from sklearn.neighbors import KNeighborsRegressor, KNeighborsClassifier\n",
    "from sklearn.metrics import log_loss\n",
    "from sklearn.preprocessing import StandardScaler"
   ]
  },
  {
   "cell_type": "code",
   "execution_count": 2,
   "metadata": {
    "cell_id": "ff759d429897458ab83e670ad4aa5f30",
    "deepnote_cell_type": "code",
    "deepnote_to_be_reexecuted": false,
    "execution_millis": 1511,
    "execution_start": 1686772056941,
    "source_hash": "7ff6ac06"
   },
   "outputs": [
    {
     "data": {
      "application/vnd.deepnote.dataframe.v3+json": {
       "column_count": 131,
       "columns": [
        {
         "dtype": "object",
         "name": "Hero",
         "stats": {
          "categories": [
           {
            "count": 8,
            "name": "Ana"
           },
           {
            "count": 8,
            "name": "Mercy"
           },
           {
            "count": 272,
            "name": "34 others"
           }
          ],
          "nan_count": 0,
          "unique_count": 36
         }
        },
        {
         "dtype": "object",
         "name": "Skill Tier",
         "stats": {
          "categories": [
           {
            "count": 36,
            "name": "All"
           },
           {
            "count": 36,
            "name": "Bronze"
           },
           {
            "count": 216,
            "name": "6 others"
           }
          ],
          "nan_count": 0,
          "unique_count": 8
         }
        },
        {
         "dtype": "float64",
         "name": "KDA Ratio",
         "stats": {
          "histogram": [
           {
            "bin_end": 2.6620000000000004,
            "bin_start": 2.22,
            "count": 44
           },
           {
            "bin_end": 3.104,
            "bin_start": 2.6620000000000004,
            "count": 63
           },
           {
            "bin_end": 3.5460000000000003,
            "bin_start": 3.104,
            "count": 36
           },
           {
            "bin_end": 3.9880000000000004,
            "bin_start": 3.5460000000000003,
            "count": 43
           },
           {
            "bin_end": 4.43,
            "bin_start": 3.9880000000000004,
            "count": 22
           },
           {
            "bin_end": 4.872,
            "bin_start": 4.43,
            "count": 38
           },
           {
            "bin_end": 5.314,
            "bin_start": 4.872,
            "count": 21
           },
           {
            "bin_end": 5.756,
            "bin_start": 5.314,
            "count": 8
           },
           {
            "bin_end": 6.198,
            "bin_start": 5.756,
            "count": 6
           },
           {
            "bin_end": 6.64,
            "bin_start": 6.198,
            "count": 7
           }
          ],
          "max": "6.64",
          "min": "2.22",
          "nan_count": 0,
          "unique_count": 193
         }
        },
        {
         "dtype": "float64",
         "name": "Pick Rate, %",
         "stats": {
          "histogram": [
           {
            "bin_end": 3.0549999999999997,
            "bin_start": 0.28,
            "count": 186
           },
           {
            "bin_end": 5.83,
            "bin_start": 3.0549999999999997,
            "count": 61
           },
           {
            "bin_end": 8.604999999999999,
            "bin_start": 5.83,
            "count": 19
           },
           {
            "bin_end": 11.379999999999999,
            "bin_start": 8.604999999999999,
            "count": 11
           },
           {
            "bin_end": 14.155,
            "bin_start": 11.379999999999999,
            "count": 3
           },
           {
            "bin_end": 16.93,
            "bin_start": 14.155,
            "count": 4
           },
           {
            "bin_end": 19.705000000000002,
            "bin_start": 16.93,
            "count": 2
           },
           {
            "bin_end": 22.48,
            "bin_start": 19.705000000000002,
            "count": 0
           },
           {
            "bin_end": 25.255,
            "bin_start": 22.48,
            "count": 1
           },
           {
            "bin_end": 28.03,
            "bin_start": 25.255,
            "count": 1
           }
          ],
          "max": "28.03",
          "min": "0.28",
          "nan_count": 0,
          "unique_count": 231
         }
        },
        {
         "dtype": "float64",
         "name": "Win Rate, %",
         "stats": {
          "histogram": [
           {
            "bin_end": 36.291000000000004,
            "bin_start": 34.1,
            "count": 3
           },
           {
            "bin_end": 38.482,
            "bin_start": 36.291000000000004,
            "count": 3
           },
           {
            "bin_end": 40.673,
            "bin_start": 38.482,
            "count": 8
           },
           {
            "bin_end": 42.864000000000004,
            "bin_start": 40.673,
            "count": 19
           },
           {
            "bin_end": 45.055,
            "bin_start": 42.864000000000004,
            "count": 34
           },
           {
            "bin_end": 47.246,
            "bin_start": 45.055,
            "count": 38
           },
           {
            "bin_end": 49.437,
            "bin_start": 47.246,
            "count": 62
           },
           {
            "bin_end": 51.628,
            "bin_start": 49.437,
            "count": 72
           },
           {
            "bin_end": 53.819,
            "bin_start": 51.628,
            "count": 40
           },
           {
            "bin_end": 56.01,
            "bin_start": 53.819,
            "count": 9
           }
          ],
          "max": "56.01",
          "min": "34.1",
          "nan_count": 0,
          "unique_count": 257
         }
        },
        {
         "dtype": "float64",
         "name": "Eliminations / 10min",
         "stats": {
          "histogram": [
           {
            "bin_end": 3.559,
            "bin_start": 1.56,
            "count": 8
           },
           {
            "bin_end": 5.558,
            "bin_start": 3.559,
            "count": 0
           },
           {
            "bin_end": 7.557,
            "bin_start": 5.558,
            "count": 2
           },
           {
            "bin_end": 9.556000000000001,
            "bin_start": 7.557,
            "count": 13
           },
           {
            "bin_end": 11.555000000000001,
            "bin_start": 9.556000000000001,
            "count": 11
           },
           {
            "bin_end": 13.554,
            "bin_start": 11.555000000000001,
            "count": 18
           },
           {
            "bin_end": 15.553,
            "bin_start": 13.554,
            "count": 22
           },
           {
            "bin_end": 17.552,
            "bin_start": 15.553,
            "count": 70
           },
           {
            "bin_end": 19.551,
            "bin_start": 17.552,
            "count": 103
           },
           {
            "bin_end": 21.55,
            "bin_start": 19.551,
            "count": 41
           }
          ],
          "max": "21.55",
          "min": "1.56",
          "nan_count": 0,
          "unique_count": 247
         }
        },
        {
         "dtype": "float64",
         "name": "Objective Kills / 10min",
         "stats": {
          "histogram": [
           {
            "bin_end": 1.3980000000000001,
            "bin_start": 0.53,
            "count": 8
           },
           {
            "bin_end": 2.266,
            "bin_start": 1.3980000000000001,
            "count": 0
           },
           {
            "bin_end": 3.1340000000000003,
            "bin_start": 2.266,
            "count": 0
           },
           {
            "bin_end": 4.002000000000001,
            "bin_start": 3.1340000000000003,
            "count": 19
           },
           {
            "bin_end": 4.870000000000001,
            "bin_start": 4.002000000000001,
            "count": 17
           },
           {
            "bin_end": 5.738,
            "bin_start": 4.870000000000001,
            "count": 32
           },
           {
            "bin_end": 6.606000000000001,
            "bin_start": 5.738,
            "count": 80
           },
           {
            "bin_end": 7.474000000000001,
            "bin_start": 6.606000000000001,
            "count": 45
           },
           {
            "bin_end": 8.342,
            "bin_start": 7.474000000000001,
            "count": 61
           },
           {
            "bin_end": 9.21,
            "bin_start": 8.342,
            "count": 26
           }
          ],
          "max": "9.21",
          "min": "0.53",
          "nan_count": 0,
          "unique_count": 223
         }
        },
        {
         "dtype": "int64",
         "name": "Objective Time / 10min",
         "stats": {
          "histogram": [
           {
            "bin_end": 30.9,
            "bin_start": 19,
            "count": 8
           },
           {
            "bin_end": 42.8,
            "bin_start": 30.9,
            "count": 15
           },
           {
            "bin_end": 54.7,
            "bin_start": 42.8,
            "count": 49
           },
           {
            "bin_end": 66.6,
            "bin_start": 54.7,
            "count": 68
           },
           {
            "bin_end": 78.5,
            "bin_start": 66.6,
            "count": 29
           },
           {
            "bin_end": 90.4,
            "bin_start": 78.5,
            "count": 22
           },
           {
            "bin_end": 102.3,
            "bin_start": 90.4,
            "count": 18
           },
           {
            "bin_end": 114.2,
            "bin_start": 102.3,
            "count": 20
           },
           {
            "bin_end": 126.10000000000001,
            "bin_start": 114.2,
            "count": 33
           },
           {
            "bin_end": 138,
            "bin_start": 126.10000000000001,
            "count": 26
           }
          ],
          "max": "138",
          "min": "19",
          "nan_count": 0,
          "unique_count": 93
         }
        },
        {
         "dtype": "int64",
         "name": "Damage / 10min",
         "stats": {
          "histogram": [
           {
            "bin_end": 1343,
            "bin_start": 296,
            "count": 8
           },
           {
            "bin_end": 2390,
            "bin_start": 1343,
            "count": 4
           },
           {
            "bin_end": 3437,
            "bin_start": 2390,
            "count": 18
           },
           {
            "bin_end": 4484,
            "bin_start": 3437,
            "count": 18
           },
           {
            "bin_end": 5531,
            "bin_start": 4484,
            "count": 19
           },
           {
            "bin_end": 6578,
            "bin_start": 5531,
            "count": 19
           },
           {
            "bin_end": 7625,
            "bin_start": 6578,
            "count": 41
           },
           {
            "bin_end": 8672,
            "bin_start": 7625,
            "count": 78
           },
           {
            "bin_end": 9719,
            "bin_start": 8672,
            "count": 57
           },
           {
            "bin_end": 10766,
            "bin_start": 9719,
            "count": 26
           }
          ],
          "max": "10766",
          "min": "296",
          "nan_count": 0,
          "unique_count": 285
         }
        },
        {
         "dtype": "float64",
         "name": "Healing / 10min",
         "stats": {
          "histogram": [
           {
            "bin_end": 2177.3,
            "bin_start": 1317,
            "count": 8
           },
           {
            "bin_end": 3037.6,
            "bin_start": 2177.3,
            "count": 0
           },
           {
            "bin_end": 3897.8999999999996,
            "bin_start": 3037.6,
            "count": 0
           },
           {
            "bin_end": 4758.2,
            "bin_start": 3897.8999999999996,
            "count": 0
           },
           {
            "bin_end": 5618.5,
            "bin_start": 4758.2,
            "count": 0
           },
           {
            "bin_end": 6478.799999999999,
            "bin_start": 5618.5,
            "count": 10
           },
           {
            "bin_end": 7339.099999999999,
            "bin_start": 6478.799999999999,
            "count": 3
           },
           {
            "bin_end": 8199.4,
            "bin_start": 7339.099999999999,
            "count": 10
           },
           {
            "bin_end": 9059.7,
            "bin_start": 8199.4,
            "count": 28
           },
           {
            "bin_end": 9920,
            "bin_start": 9059.7,
            "count": 13
           }
          ],
          "max": "9920.0",
          "min": "1317.0",
          "nan_count": 216,
          "unique_count": 70
         }
        },
        {
         "dtype": "float64",
         "name": "Deaths / 10min",
         "stats": {
          "histogram": [
           {
            "bin_end": 5.313,
            "bin_start": 4.93,
            "count": 8
           },
           {
            "bin_end": 5.696,
            "bin_start": 5.313,
            "count": 14
           },
           {
            "bin_end": 6.079,
            "bin_start": 5.696,
            "count": 22
           },
           {
            "bin_end": 6.462,
            "bin_start": 6.079,
            "count": 28
           },
           {
            "bin_end": 6.845,
            "bin_start": 6.462,
            "count": 39
           },
           {
            "bin_end": 7.228,
            "bin_start": 6.845,
            "count": 32
           },
           {
            "bin_end": 7.611,
            "bin_start": 7.228,
            "count": 26
           },
           {
            "bin_end": 7.994,
            "bin_start": 7.611,
            "count": 45
           },
           {
            "bin_end": 8.376999999999999,
            "bin_start": 7.994,
            "count": 53
           },
           {
            "bin_end": 8.76,
            "bin_start": 8.376999999999999,
            "count": 21
           }
          ],
          "max": "8.76",
          "min": "4.93",
          "nan_count": 0,
          "unique_count": 186
         }
        },
        {
         "dtype": "float64",
         "name": "Scoped Accuracy, %",
         "stats": {
          "histogram": [
           {
            "bin_end": 40.2,
            "bin_start": 38,
            "count": 3
           },
           {
            "bin_end": 42.4,
            "bin_start": 40.2,
            "count": 4
           },
           {
            "bin_end": 44.6,
            "bin_start": 42.4,
            "count": 2
           },
           {
            "bin_end": 46.8,
            "bin_start": 44.6,
            "count": 7
           },
           {
            "bin_end": 49,
            "bin_start": 46.8,
            "count": 0
           },
           {
            "bin_end": 51.2,
            "bin_start": 49,
            "count": 0
           },
           {
            "bin_end": 53.400000000000006,
            "bin_start": 51.2,
            "count": 2
           },
           {
            "bin_end": 55.6,
            "bin_start": 53.400000000000006,
            "count": 1
           },
           {
            "bin_end": 57.8,
            "bin_start": 55.6,
            "count": 2
           },
           {
            "bin_end": 60,
            "bin_start": 57.8,
            "count": 3
           }
          ],
          "max": "60.0",
          "min": "38.0",
          "nan_count": 264,
          "unique_count": 15
         }
        },
        {
         "dtype": "float64",
         "name": "Biotic Grenade Kills / 10min",
         "stats": {
          "histogram": [
           {
            "bin_end": 4.081,
            "bin_start": 3.99,
            "count": 1
           },
           {
            "bin_end": 4.172000000000001,
            "bin_start": 4.081,
            "count": 0
           },
           {
            "bin_end": 4.263,
            "bin_start": 4.172000000000001,
            "count": 0
           },
           {
            "bin_end": 4.354,
            "bin_start": 4.263,
            "count": 1
           },
           {
            "bin_end": 4.445,
            "bin_start": 4.354,
            "count": 0
           },
           {
            "bin_end": 4.5360000000000005,
            "bin_start": 4.445,
            "count": 0
           },
           {
            "bin_end": 4.627000000000001,
            "bin_start": 4.5360000000000005,
            "count": 1
           },
           {
            "bin_end": 4.718,
            "bin_start": 4.627000000000001,
            "count": 1
           },
           {
            "bin_end": 4.809,
            "bin_start": 4.718,
            "count": 2
           },
           {
            "bin_end": 4.9,
            "bin_start": 4.809,
            "count": 2
           }
          ],
          "max": "4.9",
          "min": "3.99",
          "nan_count": 280,
          "unique_count": 8
         }
        },
        {
         "dtype": "float64",
         "name": "Enemies Slept / 10min",
         "stats": {
          "histogram": [
           {
            "bin_end": 4.738,
            "bin_start": 4.65,
            "count": 1
           },
           {
            "bin_end": 4.8260000000000005,
            "bin_start": 4.738,
            "count": 0
           },
           {
            "bin_end": 4.914000000000001,
            "bin_start": 4.8260000000000005,
            "count": 0
           },
           {
            "bin_end": 5.002000000000001,
            "bin_start": 4.914000000000001,
            "count": 1
           },
           {
            "bin_end": 5.09,
            "bin_start": 5.002000000000001,
            "count": 0
           },
           {
            "bin_end": 5.178000000000001,
            "bin_start": 5.09,
            "count": 1
           },
           {
            "bin_end": 5.266,
            "bin_start": 5.178000000000001,
            "count": 0
           },
           {
            "bin_end": 5.354,
            "bin_start": 5.266,
            "count": 2
           },
           {
            "bin_end": 5.442,
            "bin_start": 5.354,
            "count": 1
           },
           {
            "bin_end": 5.53,
            "bin_start": 5.442,
            "count": 2
           }
          ],
          "max": "5.53",
          "min": "4.65",
          "nan_count": 280,
          "unique_count": 8
         }
        },
        {
         "dtype": "float64",
         "name": "Healing Amplified / 10min",
         "stats": {
          "histogram": [
           {
            "bin_end": 366.288,
            "bin_start": 360.83,
            "count": 1
           },
           {
            "bin_end": 371.746,
            "bin_start": 366.288,
            "count": 0
           },
           {
            "bin_end": 377.204,
            "bin_start": 371.746,
            "count": 0
           },
           {
            "bin_end": 382.662,
            "bin_start": 377.204,
            "count": 0
           },
           {
            "bin_end": 388.12,
            "bin_start": 382.662,
            "count": 1
           },
           {
            "bin_end": 393.578,
            "bin_start": 388.12,
            "count": 0
           },
           {
            "bin_end": 399.036,
            "bin_start": 393.578,
            "count": 1
           },
           {
            "bin_end": 404.494,
            "bin_start": 399.036,
            "count": 1
           },
           {
            "bin_end": 409.952,
            "bin_start": 404.494,
            "count": 2
           },
           {
            "bin_end": 415.41,
            "bin_start": 409.952,
            "count": 2
           }
          ],
          "max": "415.41",
          "min": "360.83",
          "nan_count": 280,
          "unique_count": 8
         }
        },
        {
         "dtype": "float64",
         "name": "Nano Boost Assists / 10min",
         "stats": {
          "histogram": [
           {
            "bin_end": 2.571,
            "bin_start": 2.5,
            "count": 1
           },
           {
            "bin_end": 2.642,
            "bin_start": 2.571,
            "count": 0
           },
           {
            "bin_end": 2.713,
            "bin_start": 2.642,
            "count": 0
           },
           {
            "bin_end": 2.784,
            "bin_start": 2.713,
            "count": 1
           },
           {
            "bin_end": 2.855,
            "bin_start": 2.784,
            "count": 0
           },
           {
            "bin_end": 2.926,
            "bin_start": 2.855,
            "count": 1
           },
           {
            "bin_end": 2.997,
            "bin_start": 2.926,
            "count": 0
           },
           {
            "bin_end": 3.068,
            "bin_start": 2.997,
            "count": 2
           },
           {
            "bin_end": 3.139,
            "bin_start": 3.068,
            "count": 0
           },
           {
            "bin_end": 3.21,
            "bin_start": 3.139,
            "count": 3
           }
          ],
          "max": "3.21",
          "min": "2.5",
          "nan_count": 280,
          "unique_count": 7
         }
        },
        {
         "dtype": "float64",
         "name": "Blaster Kills / 10min",
         "stats": {
          "histogram": [
           {
            "bin_end": 1.555,
            "bin_start": 1.52,
            "count": 1
           },
           {
            "bin_end": 1.59,
            "bin_start": 1.555,
            "count": 0
           },
           {
            "bin_end": 1.625,
            "bin_start": 1.59,
            "count": 0
           },
           {
            "bin_end": 1.6600000000000001,
            "bin_start": 1.625,
            "count": 0
           },
           {
            "bin_end": 1.695,
            "bin_start": 1.6600000000000001,
            "count": 1
           },
           {
            "bin_end": 1.73,
            "bin_start": 1.695,
            "count": 2
           },
           {
            "bin_end": 1.7650000000000001,
            "bin_start": 1.73,
            "count": 2
           },
           {
            "bin_end": 1.8,
            "bin_start": 1.7650000000000001,
            "count": 1
           },
           {
            "bin_end": 1.8350000000000002,
            "bin_start": 1.8,
            "count": 0
           },
           {
            "bin_end": 1.87,
            "bin_start": 1.8350000000000002,
            "count": 1
           }
          ],
          "max": "1.87",
          "min": "1.52",
          "nan_count": 280,
          "unique_count": 7
         }
        },
        {
         "dtype": "float64",
         "name": "Damage Amplified / 10min",
         "stats": {
          "histogram": [
           {
            "bin_end": 534.635,
            "bin_start": 420.92,
            "count": 3
           },
           {
            "bin_end": 648.35,
            "bin_start": 534.635,
            "count": 5
           },
           {
            "bin_end": 762.065,
            "bin_start": 648.35,
            "count": 1
           },
           {
            "bin_end": 875.78,
            "bin_start": 762.065,
            "count": 1
           },
           {
            "bin_end": 989.4949999999999,
            "bin_start": 875.78,
            "count": 1
           },
           {
            "bin_end": 1103.21,
            "bin_start": 989.4949999999999,
            "count": 2
           },
           {
            "bin_end": 1216.925,
            "bin_start": 1103.21,
            "count": 1
           },
           {
            "bin_end": 1330.6399999999999,
            "bin_start": 1216.925,
            "count": 1
           },
           {
            "bin_end": 1444.355,
            "bin_start": 1330.6399999999999,
            "count": 3
           },
           {
            "bin_end": 1558.07,
            "bin_start": 1444.355,
            "count": 6
           }
          ],
          "max": "1558.07",
          "min": "420.92",
          "nan_count": 264,
          "unique_count": 24
         }
        },
        {
         "dtype": "float64",
         "name": "Players Resurrected / 10min",
         "stats": {
          "histogram": [
           {
            "bin_end": 4.178,
            "bin_start": 4.14,
            "count": 1
           },
           {
            "bin_end": 4.215999999999999,
            "bin_start": 4.178,
            "count": 0
           },
           {
            "bin_end": 4.254,
            "bin_start": 4.215999999999999,
            "count": 0
           },
           {
            "bin_end": 4.292,
            "bin_start": 4.254,
            "count": 0
           },
           {
            "bin_end": 4.33,
            "bin_start": 4.292,
            "count": 1
           },
           {
            "bin_end": 4.367999999999999,
            "bin_start": 4.33,
            "count": 0
           },
           {
            "bin_end": 4.406,
            "bin_start": 4.367999999999999,
            "count": 0
           },
           {
            "bin_end": 4.444,
            "bin_start": 4.406,
            "count": 2
           },
           {
            "bin_end": 4.481999999999999,
            "bin_start": 4.444,
            "count": 2
           },
           {
            "bin_end": 4.52,
            "bin_start": 4.481999999999999,
            "count": 2
           }
          ],
          "max": "4.52",
          "min": "4.14",
          "nan_count": 280,
          "unique_count": 8
         }
        },
        {
         "dtype": "float64",
         "name": "Final Blows / 10min",
         "stats": {
          "histogram": [
           {
            "bin_end": 6.518,
            "bin_start": 5.79,
            "count": 3
           },
           {
            "bin_end": 7.246,
            "bin_start": 6.518,
            "count": 8
           },
           {
            "bin_end": 7.974,
            "bin_start": 7.246,
            "count": 18
           },
           {
            "bin_end": 8.702,
            "bin_start": 7.974,
            "count": 20
           },
           {
            "bin_end": 9.43,
            "bin_start": 8.702,
            "count": 17
           },
           {
            "bin_end": 10.158000000000001,
            "bin_start": 9.43,
            "count": 25
           },
           {
            "bin_end": 10.886,
            "bin_start": 10.158000000000001,
            "count": 22
           },
           {
            "bin_end": 11.614,
            "bin_start": 10.886,
            "count": 17
           },
           {
            "bin_end": 12.341999999999999,
            "bin_start": 11.614,
            "count": 1
           },
           {
            "bin_end": 13.07,
            "bin_start": 12.341999999999999,
            "count": 5
           }
          ],
          "max": "13.07",
          "min": "5.79",
          "nan_count": 152,
          "unique_count": 122
         }
        },
        {
         "dtype": "float64",
         "name": "Solo Kills / 10min",
         "stats": {
          "histogram": [
           {
            "bin_end": 1.419,
            "bin_start": 1.09,
            "count": 38
           },
           {
            "bin_end": 1.7480000000000002,
            "bin_start": 1.419,
            "count": 41
           },
           {
            "bin_end": 2.077,
            "bin_start": 1.7480000000000002,
            "count": 24
           },
           {
            "bin_end": 2.406,
            "bin_start": 2.077,
            "count": 5
           },
           {
            "bin_end": 2.7350000000000003,
            "bin_start": 2.406,
            "count": 20
           },
           {
            "bin_end": 3.064,
            "bin_start": 2.7350000000000003,
            "count": 0
           },
           {
            "bin_end": 3.393,
            "bin_start": 3.064,
            "count": 0
           },
           {
            "bin_end": 3.7220000000000004,
            "bin_start": 3.393,
            "count": 1
           },
           {
            "bin_end": 4.051,
            "bin_start": 3.7220000000000004,
            "count": 1
           },
           {
            "bin_end": 4.38,
            "bin_start": 4.051,
            "count": 6
           }
          ],
          "max": "4.38",
          "min": "1.09",
          "nan_count": 152,
          "unique_count": 95
         }
        },
        {
         "dtype": "float64",
         "name": "Weapon Accuracy, %",
         "stats": {
          "histogram": [
           {
            "bin_end": 26,
            "bin_start": 23,
            "count": 32
           },
           {
            "bin_end": 29,
            "bin_start": 26,
            "count": 60
           },
           {
            "bin_end": 32,
            "bin_start": 29,
            "count": 30
           },
           {
            "bin_end": 35,
            "bin_start": 32,
            "count": 33
           },
           {
            "bin_end": 38,
            "bin_start": 35,
            "count": 17
           },
           {
            "bin_end": 41,
            "bin_start": 38,
            "count": 7
           },
           {
            "bin_end": 44,
            "bin_start": 41,
            "count": 4
           },
           {
            "bin_end": 47,
            "bin_start": 44,
            "count": 7
           },
           {
            "bin_end": 50,
            "bin_start": 47,
            "count": 6
           },
           {
            "bin_end": 53,
            "bin_start": 50,
            "count": 12
           }
          ],
          "max": "53.0",
          "min": "23.0",
          "nan_count": 80,
          "unique_count": 29
         }
        },
        {
         "dtype": "float64",
         "name": "Crit Accuracy, %",
         "stats": {
          "histogram": [
           {
            "bin_end": 7.8,
            "bin_start": 7,
            "count": 8
           },
           {
            "bin_end": 8.6,
            "bin_start": 7.8,
            "count": 32
           },
           {
            "bin_end": 9.4,
            "bin_start": 8.6,
            "count": 12
           },
           {
            "bin_end": 10.2,
            "bin_start": 9.4,
            "count": 11
           },
           {
            "bin_end": 11,
            "bin_start": 10.2,
            "count": 0
           },
           {
            "bin_end": 11.8,
            "bin_start": 11,
            "count": 3
           },
           {
            "bin_end": 12.600000000000001,
            "bin_start": 11.8,
            "count": 4
           },
           {
            "bin_end": 13.4,
            "bin_start": 12.600000000000001,
            "count": 4
           },
           {
            "bin_end": 14.2,
            "bin_start": 13.4,
            "count": 3
           },
           {
            "bin_end": 15,
            "bin_start": 14.2,
            "count": 3
           }
          ],
          "max": "15.0",
          "min": "7.0",
          "nan_count": 208,
          "unique_count": 9
         }
        },
        {
         "dtype": "float64",
         "name": "Deadeye Kills / 10min",
         "stats": {
          "histogram": [
           {
            "bin_end": 1.625,
            "bin_start": 1.57,
            "count": 1
           },
           {
            "bin_end": 1.6800000000000002,
            "bin_start": 1.625,
            "count": 0
           },
           {
            "bin_end": 1.735,
            "bin_start": 1.6800000000000002,
            "count": 0
           },
           {
            "bin_end": 1.79,
            "bin_start": 1.735,
            "count": 0
           },
           {
            "bin_end": 1.8450000000000002,
            "bin_start": 1.79,
            "count": 1
           },
           {
            "bin_end": 1.9000000000000001,
            "bin_start": 1.8450000000000002,
            "count": 0
           },
           {
            "bin_end": 1.955,
            "bin_start": 1.9000000000000001,
            "count": 2
           },
           {
            "bin_end": 2.0100000000000002,
            "bin_start": 1.955,
            "count": 0
           },
           {
            "bin_end": 2.065,
            "bin_start": 2.0100000000000002,
            "count": 1
           },
           {
            "bin_end": 2.12,
            "bin_start": 2.065,
            "count": 3
           }
          ],
          "max": "2.12",
          "min": "1.57",
          "nan_count": 280,
          "unique_count": 7
         }
        },
        {
         "dtype": "float64",
         "name": "Magnetic Grenade Attaches",
         "stats": {
          "histogram": [
           {
            "bin_end": 55.721000000000004,
            "bin_start": 55.1,
            "count": 1
           },
           {
            "bin_end": 56.342,
            "bin_start": 55.721000000000004,
            "count": 0
           },
           {
            "bin_end": 56.963,
            "bin_start": 56.342,
            "count": 0
           },
           {
            "bin_end": 57.584,
            "bin_start": 56.963,
            "count": 1
           },
           {
            "bin_end": 58.205,
            "bin_start": 57.584,
            "count": 0
           },
           {
            "bin_end": 58.826,
            "bin_start": 58.205,
            "count": 0
           },
           {
            "bin_end": 59.447,
            "bin_start": 58.826,
            "count": 1
           },
           {
            "bin_end": 60.068000000000005,
            "bin_start": 59.447,
            "count": 0
           },
           {
            "bin_end": 60.689,
            "bin_start": 60.068000000000005,
            "count": 2
           },
           {
            "bin_end": 61.31,
            "bin_start": 60.689,
            "count": 3
           }
          ],
          "max": "61.31",
          "min": "55.1",
          "nan_count": 280,
          "unique_count": 8
         }
        },
        {
         "dtype": "float64",
         "name": "Magnetic Grenade Kills / 10min",
         "stats": {
          "histogram": [
           {
            "bin_end": 5.038,
            "bin_start": 4.97,
            "count": 1
           },
           {
            "bin_end": 5.106,
            "bin_start": 5.038,
            "count": 0
           },
           {
            "bin_end": 5.1739999999999995,
            "bin_start": 5.106,
            "count": 0
           },
           {
            "bin_end": 5.242,
            "bin_start": 5.1739999999999995,
            "count": 1
           },
           {
            "bin_end": 5.3100000000000005,
            "bin_start": 5.242,
            "count": 1
           },
           {
            "bin_end": 5.378,
            "bin_start": 5.3100000000000005,
            "count": 0
           },
           {
            "bin_end": 5.446,
            "bin_start": 5.378,
            "count": 1
           },
           {
            "bin_end": 5.514,
            "bin_start": 5.446,
            "count": 1
           },
           {
            "bin_end": 5.582000000000001,
            "bin_start": 5.514,
            "count": 2
           },
           {
            "bin_end": 5.65,
            "bin_start": 5.582000000000001,
            "count": 1
           }
          ],
          "max": "5.65",
          "min": "4.97",
          "nan_count": 280,
          "unique_count": 8
         }
        },
        {
         "dtype": "float64",
         "name": "Swift Strike Resets / 10min",
         "stats": {
          "histogram": [
           {
            "bin_end": 12.699,
            "bin_start": 12.14,
            "count": 1
           },
           {
            "bin_end": 13.258000000000001,
            "bin_start": 12.699,
            "count": 1
           },
           {
            "bin_end": 13.817,
            "bin_start": 13.258000000000001,
            "count": 0
           },
           {
            "bin_end": 14.376000000000001,
            "bin_start": 13.817,
            "count": 1
           },
           {
            "bin_end": 14.935,
            "bin_start": 14.376000000000001,
            "count": 0
           },
           {
            "bin_end": 15.494,
            "bin_start": 14.935,
            "count": 0
           },
           {
            "bin_end": 16.053,
            "bin_start": 15.494,
            "count": 1
           },
           {
            "bin_end": 16.612000000000002,
            "bin_start": 16.053,
            "count": 1
           },
           {
            "bin_end": 17.171,
            "bin_start": 16.612000000000002,
            "count": 1
           },
           {
            "bin_end": 17.73,
            "bin_start": 17.171,
            "count": 2
           }
          ],
          "max": "17.73",
          "min": "12.14",
          "nan_count": 280,
          "unique_count": 8
         }
        },
        {
         "dtype": "float64",
         "name": "Damage Reflected / 10min",
         "stats": {
          "histogram": [
           {
            "bin_end": 1691.296,
            "bin_start": 1673.73,
            "count": 1
           },
           {
            "bin_end": 1708.862,
            "bin_start": 1691.296,
            "count": 0
           },
           {
            "bin_end": 1726.428,
            "bin_start": 1708.862,
            "count": 0
           },
           {
            "bin_end": 1743.9940000000001,
            "bin_start": 1726.428,
            "count": 0
           },
           {
            "bin_end": 1761.56,
            "bin_start": 1743.9940000000001,
            "count": 0
           },
           {
            "bin_end": 1779.126,
            "bin_start": 1761.56,
            "count": 1
           },
           {
            "bin_end": 1796.692,
            "bin_start": 1779.126,
            "count": 0
           },
           {
            "bin_end": 1814.258,
            "bin_start": 1796.692,
            "count": 1
           },
           {
            "bin_end": 1831.824,
            "bin_start": 1814.258,
            "count": 3
           },
           {
            "bin_end": 1849.39,
            "bin_start": 1831.824,
            "count": 2
           }
          ],
          "max": "1849.39",
          "min": "1673.73",
          "nan_count": 280,
          "unique_count": 8
         }
        },
        {
         "dtype": "float64",
         "name": "Ultimates Reflected / 10min",
         "stats": {
          "histogram": [
           {
            "bin_end": 0.056,
            "bin_start": 0.05,
            "count": 5
           },
           {
            "bin_end": 0.062,
            "bin_start": 0.056,
            "count": 0
           },
           {
            "bin_end": 0.068,
            "bin_start": 0.062,
            "count": 0
           },
           {
            "bin_end": 0.07400000000000001,
            "bin_start": 0.068,
            "count": 1
           },
           {
            "bin_end": 0.08,
            "bin_start": 0.07400000000000001,
            "count": 0
           },
           {
            "bin_end": 0.08600000000000001,
            "bin_start": 0.08,
            "count": 1
           },
           {
            "bin_end": 0.092,
            "bin_start": 0.08600000000000001,
            "count": 0
           },
           {
            "bin_end": 0.098,
            "bin_start": 0.092,
            "count": 0
           },
           {
            "bin_end": 0.10400000000000001,
            "bin_start": 0.098,
            "count": 0
           },
           {
            "bin_end": 0.11,
            "bin_start": 0.10400000000000001,
            "count": 1
           }
          ],
          "max": "0.11",
          "min": "0.05",
          "nan_count": 280,
          "unique_count": 4
         }
        },
        {
         "dtype": "float64",
         "name": "Dragonblade Kills / 10min",
         "stats": {
          "histogram": [
           {
            "bin_end": 3.004,
            "bin_start": 2.91,
            "count": 1
           },
           {
            "bin_end": 3.0980000000000003,
            "bin_start": 3.004,
            "count": 1
           },
           {
            "bin_end": 3.192,
            "bin_start": 3.0980000000000003,
            "count": 0
           },
           {
            "bin_end": 3.286,
            "bin_start": 3.192,
            "count": 0
           },
           {
            "bin_end": 3.38,
            "bin_start": 3.286,
            "count": 1
           },
           {
            "bin_end": 3.474,
            "bin_start": 3.38,
            "count": 0
           },
           {
            "bin_end": 3.568,
            "bin_start": 3.474,
            "count": 1
           },
           {
            "bin_end": 3.662,
            "bin_start": 3.568,
            "count": 1
           },
           {
            "bin_end": 3.7560000000000002,
            "bin_start": 3.662,
            "count": 1
           },
           {
            "bin_end": 3.85,
            "bin_start": 3.7560000000000002,
            "count": 2
           }
          ],
          "max": "3.85",
          "min": "2.91",
          "nan_count": 280,
          "unique_count": 8
         }
        },
        {
         "dtype": "float64",
         "name": "Kunai Kills / 10min",
         "stats": {
          "histogram": [
           {
            "bin_end": 7.386,
            "bin_start": 7.19,
            "count": 1
           },
           {
            "bin_end": 7.582000000000001,
            "bin_start": 7.386,
            "count": 1
           },
           {
            "bin_end": 7.7780000000000005,
            "bin_start": 7.582000000000001,
            "count": 1
           },
           {
            "bin_end": 7.974,
            "bin_start": 7.7780000000000005,
            "count": 0
           },
           {
            "bin_end": 8.17,
            "bin_start": 7.974,
            "count": 1
           },
           {
            "bin_end": 8.366,
            "bin_start": 8.17,
            "count": 2
           },
           {
            "bin_end": 8.562000000000001,
            "bin_start": 8.366,
            "count": 0
           },
           {
            "bin_end": 8.758000000000001,
            "bin_start": 8.562000000000001,
            "count": 1
           },
           {
            "bin_end": 8.954,
            "bin_start": 8.758000000000001,
            "count": 0
           },
           {
            "bin_end": 9.15,
            "bin_start": 8.954,
            "count": 1
           }
          ],
          "max": "9.15",
          "min": "7.19",
          "nan_count": 280,
          "unique_count": 8
         }
        },
        {
         "dtype": "float64",
         "name": "Effects Cleansed / 10min",
         "stats": {
          "histogram": [
           {
            "bin_end": 4.368,
            "bin_start": 4.2,
            "count": 1
           },
           {
            "bin_end": 4.5360000000000005,
            "bin_start": 4.368,
            "count": 0
           },
           {
            "bin_end": 4.704000000000001,
            "bin_start": 4.5360000000000005,
            "count": 1
           },
           {
            "bin_end": 4.872,
            "bin_start": 4.704000000000001,
            "count": 0
           },
           {
            "bin_end": 5.04,
            "bin_start": 4.872,
            "count": 0
           },
           {
            "bin_end": 5.208,
            "bin_start": 5.04,
            "count": 1
           },
           {
            "bin_end": 5.376,
            "bin_start": 5.208,
            "count": 0
           },
           {
            "bin_end": 5.5440000000000005,
            "bin_start": 5.376,
            "count": 3
           },
           {
            "bin_end": 5.712,
            "bin_start": 5.5440000000000005,
            "count": 0
           },
           {
            "bin_end": 5.88,
            "bin_start": 5.712,
            "count": 2
           }
          ],
          "max": "5.88",
          "min": "4.2",
          "nan_count": 280,
          "unique_count": 8
         }
        },
        {
         "dtype": "float64",
         "name": "Kitsune Rush Assists / 10min",
         "stats": {
          "histogram": [
           {
            "bin_end": 16.703,
            "bin_start": 16.43,
            "count": 1
           },
           {
            "bin_end": 16.976,
            "bin_start": 16.703,
            "count": 0
           },
           {
            "bin_end": 17.249,
            "bin_start": 16.976,
            "count": 0
           },
           {
            "bin_end": 17.522,
            "bin_start": 17.249,
            "count": 1
           },
           {
            "bin_end": 17.795,
            "bin_start": 17.522,
            "count": 0
           },
           {
            "bin_end": 18.068,
            "bin_start": 17.795,
            "count": 0
           },
           {
            "bin_end": 18.341,
            "bin_start": 18.068,
            "count": 1
           },
           {
            "bin_end": 18.614,
            "bin_start": 18.341,
            "count": 1
           },
           {
            "bin_end": 18.887,
            "bin_start": 18.614,
            "count": 1
           },
           {
            "bin_end": 19.16,
            "bin_start": 18.887,
            "count": 3
           }
          ],
          "max": "19.16",
          "min": "16.43",
          "nan_count": 280,
          "unique_count": 7
         }
        },
        {
         "dtype": "float64",
         "name": "Secondary Accuracy, %",
         "stats": {
          "histogram": [
           {
            "bin_end": 35.8,
            "bin_start": 34,
            "count": 5
           },
           {
            "bin_end": 37.6,
            "bin_start": 35.8,
            "count": 3
           },
           {
            "bin_end": 39.4,
            "bin_start": 37.6,
            "count": 2
           },
           {
            "bin_end": 41.2,
            "bin_start": 39.4,
            "count": 6
           },
           {
            "bin_end": 43,
            "bin_start": 41.2,
            "count": 3
           },
           {
            "bin_end": 44.8,
            "bin_start": 43,
            "count": 1
           },
           {
            "bin_end": 46.6,
            "bin_start": 44.8,
            "count": 2
           },
           {
            "bin_end": 48.4,
            "bin_start": 46.6,
            "count": 2
           },
           {
            "bin_end": 50.2,
            "bin_start": 48.4,
            "count": 5
           },
           {
            "bin_end": 52,
            "bin_start": 50.2,
            "count": 3
           }
          ],
          "max": "52.0",
          "min": "34.0",
          "nan_count": 256,
          "unique_count": 15
         }
        },
        {
         "dtype": "float64",
         "name": "Biotic Orb Kills / 10min",
         "stats": {
          "histogram": [
           {
            "bin_end": 8.235,
            "bin_start": 8.17,
            "count": 1
           },
           {
            "bin_end": 8.3,
            "bin_start": 8.235,
            "count": 0
           },
           {
            "bin_end": 8.365,
            "bin_start": 8.3,
            "count": 0
           },
           {
            "bin_end": 8.43,
            "bin_start": 8.365,
            "count": 0
           },
           {
            "bin_end": 8.495000000000001,
            "bin_start": 8.43,
            "count": 1
           },
           {
            "bin_end": 8.56,
            "bin_start": 8.495000000000001,
            "count": 0
           },
           {
            "bin_end": 8.625,
            "bin_start": 8.56,
            "count": 1
           },
           {
            "bin_end": 8.69,
            "bin_start": 8.625,
            "count": 1
           },
           {
            "bin_end": 8.755,
            "bin_start": 8.69,
            "count": 1
           },
           {
            "bin_end": 8.82,
            "bin_start": 8.755,
            "count": 3
           }
          ],
          "max": "8.82",
          "min": "8.17",
          "nan_count": 280,
          "unique_count": 8
         }
        },
        {
         "dtype": "float64",
         "name": "Ally Coalescence Efficiency, %",
         "stats": {
          "histogram": [
           {
            "bin_end": 42.4,
            "bin_start": 42,
            "count": 2
           },
           {
            "bin_end": 42.8,
            "bin_start": 42.4,
            "count": 0
           },
           {
            "bin_end": 43.2,
            "bin_start": 42.8,
            "count": 0
           },
           {
            "bin_end": 43.6,
            "bin_start": 43.2,
            "count": 0
           },
           {
            "bin_end": 44,
            "bin_start": 43.6,
            "count": 0
           },
           {
            "bin_end": 44.4,
            "bin_start": 44,
            "count": 2
           },
           {
            "bin_end": 44.8,
            "bin_start": 44.4,
            "count": 0
           },
           {
            "bin_end": 45.2,
            "bin_start": 44.8,
            "count": 1
           },
           {
            "bin_end": 45.6,
            "bin_start": 45.2,
            "count": 0
           },
           {
            "bin_end": 46,
            "bin_start": 45.6,
            "count": 3
           }
          ],
          "max": "46.0",
          "min": "42.0",
          "nan_count": 280,
          "unique_count": 4
         }
        },
        {
         "dtype": "float64",
         "name": "Enemy Coalescence Efficiency, %",
         "stats": {
          "histogram": [
           {
            "bin_end": 64.3,
            "bin_start": 64,
            "count": 3
           },
           {
            "bin_end": 64.6,
            "bin_start": 64.3,
            "count": 0
           },
           {
            "bin_end": 64.9,
            "bin_start": 64.6,
            "count": 0
           },
           {
            "bin_end": 65.2,
            "bin_start": 64.9,
            "count": 2
           },
           {
            "bin_end": 65.5,
            "bin_start": 65.2,
            "count": 0
           },
           {
            "bin_end": 65.8,
            "bin_start": 65.5,
            "count": 0
           },
           {
            "bin_end": 66.1,
            "bin_start": 65.8,
            "count": 0
           },
           {
            "bin_end": 66.4,
            "bin_start": 66.1,
            "count": 0
           },
           {
            "bin_end": 66.7,
            "bin_start": 66.4,
            "count": 0
           },
           {
            "bin_end": 67,
            "bin_start": 66.7,
            "count": 3
           }
          ],
          "max": "67.0",
          "min": "64.0",
          "nan_count": 280,
          "unique_count": 3
         }
        },
        {
         "dtype": "float64",
         "name": "Coalescence Kills / 10min",
         "stats": {
          "histogram": [
           {
            "bin_end": 3.489,
            "bin_start": 3.43,
            "count": 1
           },
           {
            "bin_end": 3.548,
            "bin_start": 3.489,
            "count": 0
           },
           {
            "bin_end": 3.607,
            "bin_start": 3.548,
            "count": 0
           },
           {
            "bin_end": 3.666,
            "bin_start": 3.607,
            "count": 0
           },
           {
            "bin_end": 3.7249999999999996,
            "bin_start": 3.666,
            "count": 0
           },
           {
            "bin_end": 3.784,
            "bin_start": 3.7249999999999996,
            "count": 1
           },
           {
            "bin_end": 3.843,
            "bin_start": 3.784,
            "count": 0
           },
           {
            "bin_end": 3.9019999999999997,
            "bin_start": 3.843,
            "count": 1
           },
           {
            "bin_end": 3.9609999999999994,
            "bin_start": 3.9019999999999997,
            "count": 3
           },
           {
            "bin_end": 4.02,
            "bin_start": 3.9609999999999994,
            "count": 2
           }
          ],
          "max": "4.02",
          "min": "3.43",
          "nan_count": 280,
          "unique_count": 6
         }
        },
        {
         "dtype": "float64",
         "name": "Objective Contest Time / 10min",
         "stats": {
          "histogram": [
           {
            "bin_end": 56.8,
            "bin_start": 53,
            "count": 4
           },
           {
            "bin_end": 60.6,
            "bin_start": 56.8,
            "count": 5
           },
           {
            "bin_end": 64.4,
            "bin_start": 60.6,
            "count": 7
           },
           {
            "bin_end": 68.2,
            "bin_start": 64.4,
            "count": 8
           },
           {
            "bin_end": 72,
            "bin_start": 68.2,
            "count": 11
           },
           {
            "bin_end": 75.8,
            "bin_start": 72,
            "count": 24
           },
           {
            "bin_end": 79.6,
            "bin_start": 75.8,
            "count": 12
           },
           {
            "bin_end": 83.4,
            "bin_start": 79.6,
            "count": 13
           },
           {
            "bin_end": 87.19999999999999,
            "bin_start": 83.4,
            "count": 1
           },
           {
            "bin_end": 91,
            "bin_start": 87.19999999999999,
            "count": 3
           }
          ],
          "max": "91.0",
          "min": "53.0",
          "nan_count": 200,
          "unique_count": 32
         }
        },
        {
         "dtype": "float64",
         "name": "Charge Kills / 10min",
         "stats": {
          "histogram": [
           {
            "bin_end": 3.7,
            "bin_start": 3.66,
            "count": 1
           },
           {
            "bin_end": 3.74,
            "bin_start": 3.7,
            "count": 0
           },
           {
            "bin_end": 3.78,
            "bin_start": 3.74,
            "count": 0
           },
           {
            "bin_end": 3.82,
            "bin_start": 3.78,
            "count": 0
           },
           {
            "bin_end": 3.86,
            "bin_start": 3.82,
            "count": 1
           },
           {
            "bin_end": 3.9,
            "bin_start": 3.86,
            "count": 0
           },
           {
            "bin_end": 3.94,
            "bin_start": 3.9,
            "count": 0
           },
           {
            "bin_end": 3.9799999999999995,
            "bin_start": 3.94,
            "count": 1
           },
           {
            "bin_end": 4.02,
            "bin_start": 3.9799999999999995,
            "count": 2
           },
           {
            "bin_end": 4.06,
            "bin_start": 4.02,
            "count": 3
           }
          ],
          "max": "4.06",
          "min": "3.66",
          "nan_count": 280,
          "unique_count": 7
         }
        },
        {
         "dtype": "float64",
         "name": "Fire Strike Kills / 10min",
         "stats": {
          "histogram": [
           {
            "bin_end": 6.071,
            "bin_start": 5.87,
            "count": 1
           },
           {
            "bin_end": 6.272,
            "bin_start": 6.071,
            "count": 0
           },
           {
            "bin_end": 6.473,
            "bin_start": 6.272,
            "count": 0
           },
           {
            "bin_end": 6.674,
            "bin_start": 6.473,
            "count": 1
           },
           {
            "bin_end": 6.875,
            "bin_start": 6.674,
            "count": 0
           },
           {
            "bin_end": 7.0760000000000005,
            "bin_start": 6.875,
            "count": 0
           },
           {
            "bin_end": 7.277,
            "bin_start": 7.0760000000000005,
            "count": 1
           },
           {
            "bin_end": 7.478,
            "bin_start": 7.277,
            "count": 0
           },
           {
            "bin_end": 7.679,
            "bin_start": 7.478,
            "count": 3
           },
           {
            "bin_end": 7.88,
            "bin_start": 7.679,
            "count": 2
           }
          ],
          "max": "7.88",
          "min": "5.87",
          "nan_count": 280,
          "unique_count": 8
         }
        },
        {
         "dtype": "float64",
         "name": "Earthshatter Kills / 10min",
         "stats": {
          "histogram": [
           {
            "bin_end": 3.09,
            "bin_start": 3.04,
            "count": 1
           },
           {
            "bin_end": 3.14,
            "bin_start": 3.09,
            "count": 1
           },
           {
            "bin_end": 3.19,
            "bin_start": 3.14,
            "count": 0
           },
           {
            "bin_end": 3.24,
            "bin_start": 3.19,
            "count": 0
           },
           {
            "bin_end": 3.29,
            "bin_start": 3.24,
            "count": 1
           },
           {
            "bin_end": 3.34,
            "bin_start": 3.29,
            "count": 0
           },
           {
            "bin_end": 3.39,
            "bin_start": 3.34,
            "count": 0
           },
           {
            "bin_end": 3.44,
            "bin_start": 3.39,
            "count": 1
           },
           {
            "bin_end": 3.49,
            "bin_start": 3.44,
            "count": 2
           },
           {
            "bin_end": 3.54,
            "bin_start": 3.49,
            "count": 2
           }
          ],
          "max": "3.54",
          "min": "3.04",
          "nan_count": 280,
          "unique_count": 6
         }
        },
        {
         "dtype": "float64",
         "name": "Long Range Kills / 10min",
         "stats": {
          "histogram": [
           {
            "bin_end": 1.2799999999999998,
            "bin_start": 1.13,
            "count": 8
           },
           {
            "bin_end": 1.43,
            "bin_start": 1.2799999999999998,
            "count": 5
           },
           {
            "bin_end": 1.5799999999999998,
            "bin_start": 1.43,
            "count": 2
           },
           {
            "bin_end": 1.73,
            "bin_start": 1.5799999999999998,
            "count": 1
           },
           {
            "bin_end": 1.88,
            "bin_start": 1.73,
            "count": 0
           },
           {
            "bin_end": 2.03,
            "bin_start": 1.88,
            "count": 0
           },
           {
            "bin_end": 2.1799999999999997,
            "bin_start": 2.03,
            "count": 0
           },
           {
            "bin_end": 2.33,
            "bin_start": 2.1799999999999997,
            "count": 0
           },
           {
            "bin_end": 2.4799999999999995,
            "bin_start": 2.33,
            "count": 1
           },
           {
            "bin_end": 2.63,
            "bin_start": 2.4799999999999995,
            "count": 7
           }
          ],
          "max": "2.63",
          "min": "1.13",
          "nan_count": 264,
          "unique_count": 20
         }
        },
        {
         "dtype": "float64",
         "name": "Storm Arrow Kills / 10min",
         "stats": {
          "histogram": [
           {
            "bin_end": 4.7829999999999995,
            "bin_start": 4.67,
            "count": 1
           },
           {
            "bin_end": 4.896,
            "bin_start": 4.7829999999999995,
            "count": 1
           },
           {
            "bin_end": 5.009,
            "bin_start": 4.896,
            "count": 0
           },
           {
            "bin_end": 5.122,
            "bin_start": 5.009,
            "count": 1
           },
           {
            "bin_end": 5.234999999999999,
            "bin_start": 5.122,
            "count": 0
           },
           {
            "bin_end": 5.348,
            "bin_start": 5.234999999999999,
            "count": 0
           },
           {
            "bin_end": 5.461,
            "bin_start": 5.348,
            "count": 2
           },
           {
            "bin_end": 5.574,
            "bin_start": 5.461,
            "count": 0
           },
           {
            "bin_end": 5.686999999999999,
            "bin_start": 5.574,
            "count": 1
           },
           {
            "bin_end": 5.8,
            "bin_start": 5.686999999999999,
            "count": 2
           }
          ],
          "max": "5.8",
          "min": "4.67",
          "nan_count": 280,
          "unique_count": 8
         }
        },
        {
         "dtype": "float64",
         "name": "Recon Assists / 10min",
         "stats": {
          "histogram": [
           {
            "bin_end": 3.075,
            "bin_start": 2.95,
            "count": 3
           },
           {
            "bin_end": 3.2,
            "bin_start": 3.075,
            "count": 3
           },
           {
            "bin_end": 3.325,
            "bin_start": 3.2,
            "count": 4
           },
           {
            "bin_end": 3.45,
            "bin_start": 3.325,
            "count": 0
           },
           {
            "bin_end": 3.575,
            "bin_start": 3.45,
            "count": 1
           },
           {
            "bin_end": 3.7,
            "bin_start": 3.575,
            "count": 1
           },
           {
            "bin_end": 3.825,
            "bin_start": 3.7,
            "count": 1
           },
           {
            "bin_end": 3.95,
            "bin_start": 3.825,
            "count": 1
           },
           {
            "bin_end": 4.075,
            "bin_start": 3.95,
            "count": 1
           },
           {
            "bin_end": 4.2,
            "bin_start": 4.075,
            "count": 1
           }
          ],
          "max": "4.2",
          "min": "2.95",
          "nan_count": 272,
          "unique_count": 12
         }
        },
        {
         "dtype": "float64",
         "name": "Dragonstrike Kills / 10min",
         "stats": {
          "histogram": [
           {
            "bin_end": 1.592,
            "bin_start": 1.55,
            "count": 1
           },
           {
            "bin_end": 1.6340000000000001,
            "bin_start": 1.592,
            "count": 0
           },
           {
            "bin_end": 1.6760000000000002,
            "bin_start": 1.6340000000000001,
            "count": 0
           },
           {
            "bin_end": 1.718,
            "bin_start": 1.6760000000000002,
            "count": 0
           },
           {
            "bin_end": 1.76,
            "bin_start": 1.718,
            "count": 1
           },
           {
            "bin_end": 1.802,
            "bin_start": 1.76,
            "count": 0
           },
           {
            "bin_end": 1.844,
            "bin_start": 1.802,
            "count": 2
           },
           {
            "bin_end": 1.8860000000000001,
            "bin_start": 1.844,
            "count": 0
           },
           {
            "bin_end": 1.928,
            "bin_start": 1.8860000000000001,
            "count": 1
           },
           {
            "bin_end": 1.97,
            "bin_start": 1.928,
            "count": 3
           }
          ],
          "max": "1.97",
          "min": "1.55",
          "nan_count": 280,
          "unique_count": 6
         }
        },
        {
         "dtype": "float64",
         "name": "Venom Mine Kills / 10min",
         "stats": {
          "histogram": [
           {
            "bin_end": 0.8959999999999999,
            "bin_start": 0.84,
            "count": 1
           },
           {
            "bin_end": 0.952,
            "bin_start": 0.8959999999999999,
            "count": 1
           },
           {
            "bin_end": 1.008,
            "bin_start": 0.952,
            "count": 1
           },
           {
            "bin_end": 1.064,
            "bin_start": 1.008,
            "count": 1
           },
           {
            "bin_end": 1.1199999999999999,
            "bin_start": 1.064,
            "count": 1
           },
           {
            "bin_end": 1.176,
            "bin_start": 1.1199999999999999,
            "count": 0
           },
           {
            "bin_end": 1.232,
            "bin_start": 1.176,
            "count": 1
           },
           {
            "bin_end": 1.2879999999999998,
            "bin_start": 1.232,
            "count": 0
           },
           {
            "bin_end": 1.3439999999999999,
            "bin_start": 1.2879999999999998,
            "count": 1
           },
           {
            "bin_end": 1.4,
            "bin_start": 1.3439999999999999,
            "count": 1
           }
          ],
          "max": "1.4",
          "min": "0.84",
          "nan_count": 280,
          "unique_count": 8
         }
        },
        {
         "dtype": "float64",
         "name": "Helix Rocket Accuracy, %",
         "stats": {
          "histogram": [
           {
            "bin_end": 52.6,
            "bin_start": 52,
            "count": 1
           },
           {
            "bin_end": 53.2,
            "bin_start": 52.6,
            "count": 0
           },
           {
            "bin_end": 53.8,
            "bin_start": 53.2,
            "count": 0
           },
           {
            "bin_end": 54.4,
            "bin_start": 53.8,
            "count": 1
           },
           {
            "bin_end": 55,
            "bin_start": 54.4,
            "count": 0
           },
           {
            "bin_end": 55.6,
            "bin_start": 55,
            "count": 0
           },
           {
            "bin_end": 56.2,
            "bin_start": 55.6,
            "count": 2
           },
           {
            "bin_end": 56.8,
            "bin_start": 56.2,
            "count": 0
           },
           {
            "bin_end": 57.4,
            "bin_start": 56.8,
            "count": 3
           },
           {
            "bin_end": 58,
            "bin_start": 57.4,
            "count": 1
           }
          ],
          "max": "58.0",
          "min": "52.0",
          "nan_count": 280,
          "unique_count": 5
         }
        },
        {
         "dtype": "float64",
         "name": "Helix Rocket Kills / 10min",
         "stats": {
          "histogram": [
           {
            "bin_end": 6.035,
            "bin_start": 5.84,
            "count": 1
           },
           {
            "bin_end": 6.2299999999999995,
            "bin_start": 6.035,
            "count": 0
           },
           {
            "bin_end": 6.425,
            "bin_start": 6.2299999999999995,
            "count": 1
           },
           {
            "bin_end": 6.62,
            "bin_start": 6.425,
            "count": 0
           },
           {
            "bin_end": 6.8149999999999995,
            "bin_start": 6.62,
            "count": 1
           },
           {
            "bin_end": 7.01,
            "bin_start": 6.8149999999999995,
            "count": 0
           },
           {
            "bin_end": 7.205,
            "bin_start": 7.01,
            "count": 0
           },
           {
            "bin_end": 7.4,
            "bin_start": 7.205,
            "count": 2
           },
           {
            "bin_end": 7.595,
            "bin_start": 7.4,
            "count": 0
           },
           {
            "bin_end": 7.79,
            "bin_start": 7.595,
            "count": 3
           }
          ],
          "max": "7.79",
          "min": "5.84",
          "nan_count": 280,
          "unique_count": 7
         }
        },
        {
         "dtype": "float64",
         "name": "Tactical Visor Kills / 10min",
         "stats": {
          "histogram": [
           {
            "bin_end": 2.979,
            "bin_start": 2.95,
            "count": 1
           },
           {
            "bin_end": 3.008,
            "bin_start": 2.979,
            "count": 0
           },
           {
            "bin_end": 3.0370000000000004,
            "bin_start": 3.008,
            "count": 1
           },
           {
            "bin_end": 3.0660000000000003,
            "bin_start": 3.0370000000000004,
            "count": 0
           },
           {
            "bin_end": 3.095,
            "bin_start": 3.0660000000000003,
            "count": 0
           },
           {
            "bin_end": 3.124,
            "bin_start": 3.095,
            "count": 1
           },
           {
            "bin_end": 3.153,
            "bin_start": 3.124,
            "count": 0
           },
           {
            "bin_end": 3.1820000000000004,
            "bin_start": 3.153,
            "count": 1
           },
           {
            "bin_end": 3.2110000000000003,
            "bin_start": 3.1820000000000004,
            "count": 1
           },
           {
            "bin_end": 3.24,
            "bin_start": 3.2110000000000003,
            "count": 3
           }
          ],
          "max": "3.24",
          "min": "2.95",
          "nan_count": 280,
          "unique_count": 7
         }
        },
        {
         "dtype": "float64",
         "name": "Charged Volley Accuracy, %",
         "stats": {
          "histogram": [
           {
            "bin_end": 21.2,
            "bin_start": 21,
            "count": 1
           },
           {
            "bin_end": 21.4,
            "bin_start": 21.2,
            "count": 0
           },
           {
            "bin_end": 21.6,
            "bin_start": 21.4,
            "count": 0
           },
           {
            "bin_end": 21.8,
            "bin_start": 21.6,
            "count": 0
           },
           {
            "bin_end": 22,
            "bin_start": 21.8,
            "count": 0
           },
           {
            "bin_end": 22.2,
            "bin_start": 22,
            "count": 1
           },
           {
            "bin_end": 22.4,
            "bin_start": 22.2,
            "count": 0
           },
           {
            "bin_end": 22.6,
            "bin_start": 22.4,
            "count": 0
           },
           {
            "bin_end": 22.8,
            "bin_start": 22.6,
            "count": 0
           },
           {
            "bin_end": 23,
            "bin_start": 22.8,
            "count": 6
           }
          ],
          "max": "23.0",
          "min": "21.0",
          "nan_count": 280,
          "unique_count": 3
         }
        },
        {
         "dtype": "float64",
         "name": "Charged Volley Kills / 10min",
         "stats": {
          "histogram": [
           {
            "bin_end": 4.9399999999999995,
            "bin_start": 4.77,
            "count": 2
           },
           {
            "bin_end": 5.109999999999999,
            "bin_start": 4.9399999999999995,
            "count": 0
           },
           {
            "bin_end": 5.279999999999999,
            "bin_start": 5.109999999999999,
            "count": 0
           },
           {
            "bin_end": 5.449999999999999,
            "bin_start": 5.279999999999999,
            "count": 1
           },
           {
            "bin_end": 5.619999999999999,
            "bin_start": 5.449999999999999,
            "count": 0
           },
           {
            "bin_end": 5.789999999999999,
            "bin_start": 5.619999999999999,
            "count": 0
           },
           {
            "bin_end": 5.96,
            "bin_start": 5.789999999999999,
            "count": 2
           },
           {
            "bin_end": 6.13,
            "bin_start": 5.96,
            "count": 0
           },
           {
            "bin_end": 6.3,
            "bin_start": 6.13,
            "count": 1
           },
           {
            "bin_end": 6.47,
            "bin_start": 6.3,
            "count": 2
           }
          ],
          "max": "6.47",
          "min": "4.77",
          "nan_count": 280,
          "unique_count": 8
         }
        },
        {
         "dtype": "float64",
         "name": "Transcendence Healing / 10min",
         "stats": {
          "histogram": [
           {
            "bin_end": 1200.421,
            "bin_start": 1187.4,
            "count": 1
           },
           {
            "bin_end": 1213.442,
            "bin_start": 1200.421,
            "count": 0
           },
           {
            "bin_end": 1226.463,
            "bin_start": 1213.442,
            "count": 0
           },
           {
            "bin_end": 1239.484,
            "bin_start": 1226.463,
            "count": 1
           },
           {
            "bin_end": 1252.505,
            "bin_start": 1239.484,
            "count": 0
           },
           {
            "bin_end": 1265.526,
            "bin_start": 1252.505,
            "count": 1
           },
           {
            "bin_end": 1278.547,
            "bin_start": 1265.526,
            "count": 1
           },
           {
            "bin_end": 1291.568,
            "bin_start": 1278.547,
            "count": 2
           },
           {
            "bin_end": 1304.589,
            "bin_start": 1291.568,
            "count": 1
           },
           {
            "bin_end": 1317.61,
            "bin_start": 1304.589,
            "count": 1
           }
          ],
          "max": "1317.61",
          "min": "1187.4",
          "nan_count": 280,
          "unique_count": 8
         }
        },
        {
         "dtype": "float64",
         "name": "Knockbacks / 10min",
         "stats": {
          "histogram": [
           {
            "bin_end": 24.764000000000003,
            "bin_start": 24.1,
            "count": 1
           },
           {
            "bin_end": 25.428,
            "bin_start": 24.764000000000003,
            "count": 0
           },
           {
            "bin_end": 26.092,
            "bin_start": 25.428,
            "count": 0
           },
           {
            "bin_end": 26.756,
            "bin_start": 26.092,
            "count": 1
           },
           {
            "bin_end": 27.42,
            "bin_start": 26.756,
            "count": 0
           },
           {
            "bin_end": 28.084,
            "bin_start": 27.42,
            "count": 0
           },
           {
            "bin_end": 28.747999999999998,
            "bin_start": 28.084,
            "count": 1
           },
           {
            "bin_end": 29.412,
            "bin_start": 28.747999999999998,
            "count": 1
           },
           {
            "bin_end": 30.076,
            "bin_start": 29.412,
            "count": 1
           },
           {
            "bin_end": 30.74,
            "bin_start": 30.076,
            "count": 3
           }
          ],
          "max": "30.74",
          "min": "24.1",
          "nan_count": 280,
          "unique_count": 8
         }
        },
        {
         "dtype": "float64",
         "name": "Sound Barriers / 10min",
         "stats": {
          "histogram": [
           {
            "bin_end": 9.563,
            "bin_start": 9.46,
            "count": 1
           },
           {
            "bin_end": 9.666,
            "bin_start": 9.563,
            "count": 2
           },
           {
            "bin_end": 9.769,
            "bin_start": 9.666,
            "count": 0
           },
           {
            "bin_end": 9.872,
            "bin_start": 9.769,
            "count": 1
           },
           {
            "bin_end": 9.975000000000001,
            "bin_start": 9.872,
            "count": 1
           },
           {
            "bin_end": 10.078000000000001,
            "bin_start": 9.975000000000001,
            "count": 0
           },
           {
            "bin_end": 10.181000000000001,
            "bin_start": 10.078000000000001,
            "count": 1
           },
           {
            "bin_end": 10.284,
            "bin_start": 10.181000000000001,
            "count": 0
           },
           {
            "bin_end": 10.387,
            "bin_start": 10.284,
            "count": 1
           },
           {
            "bin_end": 10.49,
            "bin_start": 10.387,
            "count": 1
           }
          ],
          "max": "10.49",
          "min": "9.46",
          "nan_count": 280,
          "unique_count": 8
         }
        },
        {
         "dtype": "float64",
         "name": "Micro Missile Kills, % / 10min",
         "stats": {
          "histogram": [
           {
            "bin_end": 7.702999999999999,
            "bin_start": 7.52,
            "count": 1
           },
           {
            "bin_end": 7.885999999999999,
            "bin_start": 7.702999999999999,
            "count": 0
           },
           {
            "bin_end": 8.068999999999999,
            "bin_start": 7.885999999999999,
            "count": 0
           },
           {
            "bin_end": 8.251999999999999,
            "bin_start": 8.068999999999999,
            "count": 0
           },
           {
            "bin_end": 8.434999999999999,
            "bin_start": 8.251999999999999,
            "count": 1
           },
           {
            "bin_end": 8.617999999999999,
            "bin_start": 8.434999999999999,
            "count": 0
           },
           {
            "bin_end": 8.801,
            "bin_start": 8.617999999999999,
            "count": 1
           },
           {
            "bin_end": 8.984,
            "bin_start": 8.801,
            "count": 0
           },
           {
            "bin_end": 9.167,
            "bin_start": 8.984,
            "count": 3
           },
           {
            "bin_end": 9.35,
            "bin_start": 9.167,
            "count": 2
           }
          ],
          "max": "9.35",
          "min": "7.52",
          "nan_count": 280,
          "unique_count": 7
         }
        },
        {
         "dtype": "float64",
         "name": "Call Mech Kills / 10min",
         "stats": {
          "histogram": [
           {
            "bin_end": 1.6380000000000001,
            "bin_start": 1.55,
            "count": 1
           },
           {
            "bin_end": 1.726,
            "bin_start": 1.6380000000000001,
            "count": 0
           },
           {
            "bin_end": 1.814,
            "bin_start": 1.726,
            "count": 0
           },
           {
            "bin_end": 1.9020000000000001,
            "bin_start": 1.814,
            "count": 0
           },
           {
            "bin_end": 1.9900000000000002,
            "bin_start": 1.9020000000000001,
            "count": 1
           },
           {
            "bin_end": 2.0780000000000003,
            "bin_start": 1.9900000000000002,
            "count": 0
           },
           {
            "bin_end": 2.1660000000000004,
            "bin_start": 2.0780000000000003,
            "count": 2
           },
           {
            "bin_end": 2.254,
            "bin_start": 2.1660000000000004,
            "count": 0
           },
           {
            "bin_end": 2.342,
            "bin_start": 2.254,
            "count": 1
           },
           {
            "bin_end": 2.43,
            "bin_start": 2.342,
            "count": 3
           }
          ],
          "max": "2.43",
          "min": "1.55",
          "nan_count": 280,
          "unique_count": 7
         }
        },
        {
         "dtype": "float64",
         "name": "Self-Destruct Kills / 10min",
         "stats": {
          "histogram": [
           {
            "bin_end": 1.649,
            "bin_start": 1.56,
            "count": 1
           },
           {
            "bin_end": 1.738,
            "bin_start": 1.649,
            "count": 0
           },
           {
            "bin_end": 1.827,
            "bin_start": 1.738,
            "count": 0
           },
           {
            "bin_end": 1.9160000000000001,
            "bin_start": 1.827,
            "count": 0
           },
           {
            "bin_end": 2.005,
            "bin_start": 1.9160000000000001,
            "count": 1
           },
           {
            "bin_end": 2.0940000000000003,
            "bin_start": 2.005,
            "count": 0
           },
           {
            "bin_end": 2.1830000000000003,
            "bin_start": 2.0940000000000003,
            "count": 2
           },
           {
            "bin_end": 2.2720000000000002,
            "bin_start": 2.1830000000000003,
            "count": 0
           },
           {
            "bin_end": 2.361,
            "bin_start": 2.2720000000000002,
            "count": 1
           },
           {
            "bin_end": 2.45,
            "bin_start": 2.361,
            "count": 3
           }
          ],
          "max": "2.45",
          "min": "1.56",
          "nan_count": 280,
          "unique_count": 8
         }
        },
        {
         "dtype": "float64",
         "name": "Direct Hits",
         "stats": {
          "histogram": [
           {
            "bin_end": 15.3,
            "bin_start": 15,
            "count": 1
           },
           {
            "bin_end": 15.6,
            "bin_start": 15.3,
            "count": 0
           },
           {
            "bin_end": 15.9,
            "bin_start": 15.6,
            "count": 0
           },
           {
            "bin_end": 16.2,
            "bin_start": 15.9,
            "count": 7
           },
           {
            "bin_end": 16.5,
            "bin_start": 16.2,
            "count": 0
           },
           {
            "bin_end": 16.8,
            "bin_start": 16.5,
            "count": 0
           },
           {
            "bin_end": 17.1,
            "bin_start": 16.8,
            "count": 1
           },
           {
            "bin_end": 17.4,
            "bin_start": 17.1,
            "count": 0
           },
           {
            "bin_end": 17.7,
            "bin_start": 17.4,
            "count": 0
           },
           {
            "bin_end": 18,
            "bin_start": 17.7,
            "count": 7
           }
          ],
          "max": "18.0",
          "min": "15.0",
          "nan_count": 272,
          "unique_count": 4
         }
        },
        {
         "dtype": "float64",
         "name": "Concussion Mine Kills / 10min",
         "stats": {
          "histogram": [
           {
            "bin_end": 4.5809999999999995,
            "bin_start": 4.42,
            "count": 1
           },
           {
            "bin_end": 4.742,
            "bin_start": 4.5809999999999995,
            "count": 0
           },
           {
            "bin_end": 4.9030000000000005,
            "bin_start": 4.742,
            "count": 1
           },
           {
            "bin_end": 5.064,
            "bin_start": 4.9030000000000005,
            "count": 0
           },
           {
            "bin_end": 5.225,
            "bin_start": 5.064,
            "count": 1
           },
           {
            "bin_end": 5.386,
            "bin_start": 5.225,
            "count": 0
           },
           {
            "bin_end": 5.547000000000001,
            "bin_start": 5.386,
            "count": 1
           },
           {
            "bin_end": 5.708,
            "bin_start": 5.547000000000001,
            "count": 1
           },
           {
            "bin_end": 5.869,
            "bin_start": 5.708,
            "count": 0
           },
           {
            "bin_end": 6.03,
            "bin_start": 5.869,
            "count": 3
           }
          ],
          "max": "6.03",
          "min": "4.42",
          "nan_count": 280,
          "unique_count": 8
         }
        },
        {
         "dtype": "float64",
         "name": "Enemies Trapped / 10min",
         "stats": {
          "histogram": [
           {
            "bin_end": 4.632,
            "bin_start": 4.54,
            "count": 1
           },
           {
            "bin_end": 4.724,
            "bin_start": 4.632,
            "count": 1
           },
           {
            "bin_end": 4.816,
            "bin_start": 4.724,
            "count": 0
           },
           {
            "bin_end": 4.908,
            "bin_start": 4.816,
            "count": 0
           },
           {
            "bin_end": 5,
            "bin_start": 4.908,
            "count": 1
           },
           {
            "bin_end": 5.0920000000000005,
            "bin_start": 5,
            "count": 1
           },
           {
            "bin_end": 5.184,
            "bin_start": 5.0920000000000005,
            "count": 1
           },
           {
            "bin_end": 5.276,
            "bin_start": 5.184,
            "count": 1
           },
           {
            "bin_end": 5.368,
            "bin_start": 5.276,
            "count": 0
           },
           {
            "bin_end": 5.46,
            "bin_start": 5.368,
            "count": 2
           }
          ],
          "max": "5.46",
          "min": "4.54",
          "nan_count": 280,
          "unique_count": 8
         }
        },
        {
         "dtype": "float64",
         "name": "Coach Gun Kills / 10min",
         "stats": {
          "histogram": [
           {
            "bin_end": 1.8250000000000002,
            "bin_start": 1.82,
            "count": 2
           },
           {
            "bin_end": 1.83,
            "bin_start": 1.8250000000000002,
            "count": 0
           },
           {
            "bin_end": 1.835,
            "bin_start": 1.83,
            "count": 0
           },
           {
            "bin_end": 1.84,
            "bin_start": 1.835,
            "count": 0
           },
           {
            "bin_end": 1.8450000000000002,
            "bin_start": 1.84,
            "count": 1
           },
           {
            "bin_end": 1.85,
            "bin_start": 1.8450000000000002,
            "count": 0
           },
           {
            "bin_end": 1.855,
            "bin_start": 1.85,
            "count": 1
           },
           {
            "bin_end": 1.86,
            "bin_start": 1.855,
            "count": 0
           },
           {
            "bin_end": 1.8650000000000002,
            "bin_start": 1.86,
            "count": 1
           },
           {
            "bin_end": 1.87,
            "bin_start": 1.8650000000000002,
            "count": 3
           }
          ],
          "max": "1.87",
          "min": "1.82",
          "nan_count": 280,
          "unique_count": 5
         }
        },
        {
         "dtype": "float64",
         "name": "Dynamite Kills / 10min",
         "stats": {
          "histogram": [
           {
            "bin_end": 4.254,
            "bin_start": 4.09,
            "count": 1
           },
           {
            "bin_end": 4.418,
            "bin_start": 4.254,
            "count": 0
           },
           {
            "bin_end": 4.582,
            "bin_start": 4.418,
            "count": 1
           },
           {
            "bin_end": 4.746,
            "bin_start": 4.582,
            "count": 0
           },
           {
            "bin_end": 4.91,
            "bin_start": 4.746,
            "count": 0
           },
           {
            "bin_end": 5.074,
            "bin_start": 4.91,
            "count": 1
           },
           {
            "bin_end": 5.238,
            "bin_start": 5.074,
            "count": 0
           },
           {
            "bin_end": 5.402,
            "bin_start": 5.238,
            "count": 1
           },
           {
            "bin_end": 5.566000000000001,
            "bin_start": 5.402,
            "count": 1
           },
           {
            "bin_end": 5.73,
            "bin_start": 5.566000000000001,
            "count": 3
           }
          ],
          "max": "5.73",
          "min": "4.09",
          "nan_count": 280,
          "unique_count": 8
         }
        },
        {
         "dtype": "float64",
         "name": "Bob Kills / 10min",
         "stats": {
          "histogram": [
           {
            "bin_end": 2.542,
            "bin_start": 2.52,
            "count": 1
           },
           {
            "bin_end": 2.564,
            "bin_start": 2.542,
            "count": 0
           },
           {
            "bin_end": 2.5860000000000003,
            "bin_start": 2.564,
            "count": 0
           },
           {
            "bin_end": 2.608,
            "bin_start": 2.5860000000000003,
            "count": 0
           },
           {
            "bin_end": 2.63,
            "bin_start": 2.608,
            "count": 1
           },
           {
            "bin_end": 2.652,
            "bin_start": 2.63,
            "count": 0
           },
           {
            "bin_end": 2.6740000000000004,
            "bin_start": 2.652,
            "count": 0
           },
           {
            "bin_end": 2.696,
            "bin_start": 2.6740000000000004,
            "count": 2
           },
           {
            "bin_end": 2.718,
            "bin_start": 2.696,
            "count": 1
           },
           {
            "bin_end": 2.74,
            "bin_start": 2.718,
            "count": 3
           }
          ],
          "max": "2.74",
          "min": "2.52",
          "nan_count": 280,
          "unique_count": 6
         }
        },
        {
         "dtype": "float64",
         "name": "Self Healing / 10min",
         "stats": {
          "histogram": [
           {
            "bin_end": 1289.56,
            "bin_start": 838.37,
            "count": 16
           },
           {
            "bin_end": 1740.75,
            "bin_start": 1289.56,
            "count": 8
           },
           {
            "bin_end": 2191.94,
            "bin_start": 1740.75,
            "count": 0
           },
           {
            "bin_end": 2643.13,
            "bin_start": 2191.94,
            "count": 0
           },
           {
            "bin_end": 3094.32,
            "bin_start": 2643.13,
            "count": 0
           },
           {
            "bin_end": 3545.51,
            "bin_start": 3094.32,
            "count": 0
           },
           {
            "bin_end": 3996.7000000000003,
            "bin_start": 3545.51,
            "count": 0
           },
           {
            "bin_end": 4447.89,
            "bin_start": 3996.7000000000003,
            "count": 0
           },
           {
            "bin_end": 4899.080000000001,
            "bin_start": 4447.89,
            "count": 1
           },
           {
            "bin_end": 5350.27,
            "bin_start": 4899.080000000001,
            "count": 7
           }
          ],
          "max": "5350.27",
          "min": "838.37",
          "nan_count": 256,
          "unique_count": 32
         }
        },
        {
         "dtype": "float64",
         "name": "Low Health Recalls / 10min",
         "stats": {
          "histogram": [
           {
            "bin_end": 4.689,
            "bin_start": 4.66,
            "count": 1
           },
           {
            "bin_end": 4.718,
            "bin_start": 4.689,
            "count": 0
           },
           {
            "bin_end": 4.747,
            "bin_start": 4.718,
            "count": 0
           },
           {
            "bin_end": 4.776,
            "bin_start": 4.747,
            "count": 1
           },
           {
            "bin_end": 4.805,
            "bin_start": 4.776,
            "count": 0
           },
           {
            "bin_end": 4.8340000000000005,
            "bin_start": 4.805,
            "count": 0
           },
           {
            "bin_end": 4.863,
            "bin_start": 4.8340000000000005,
            "count": 1
           },
           {
            "bin_end": 4.892,
            "bin_start": 4.863,
            "count": 1
           },
           {
            "bin_end": 4.921,
            "bin_start": 4.892,
            "count": 1
           },
           {
            "bin_end": 4.95,
            "bin_start": 4.921,
            "count": 3
           }
          ],
          "max": "4.95",
          "min": "4.66",
          "nan_count": 280,
          "unique_count": 7
         }
        },
        {
         "dtype": "float64",
         "name": "Pulse Bombs Stuck / 10min",
         "stats": {
          "histogram": [
           {
            "bin_end": 1.468,
            "bin_start": 1.45,
            "count": 1
           },
           {
            "bin_end": 1.486,
            "bin_start": 1.468,
            "count": 0
           },
           {
            "bin_end": 1.504,
            "bin_start": 1.486,
            "count": 1
           },
           {
            "bin_end": 1.522,
            "bin_start": 1.504,
            "count": 1
           },
           {
            "bin_end": 1.54,
            "bin_start": 1.522,
            "count": 3
           },
           {
            "bin_end": 1.5579999999999998,
            "bin_start": 1.54,
            "count": 1
           },
           {
            "bin_end": 1.5759999999999998,
            "bin_start": 1.5579999999999998,
            "count": 0
           },
           {
            "bin_end": 1.5939999999999999,
            "bin_start": 1.5759999999999998,
            "count": 0
           },
           {
            "bin_end": 1.6119999999999999,
            "bin_start": 1.5939999999999999,
            "count": 0
           },
           {
            "bin_end": 1.63,
            "bin_start": 1.6119999999999999,
            "count": 1
           }
          ],
          "max": "1.63",
          "min": "1.45",
          "nan_count": 280,
          "unique_count": 6
         }
        },
        {
         "dtype": "float64",
         "name": "Pulse Bomb Kills / 10min",
         "stats": {
          "histogram": [
           {
            "bin_end": 1.832,
            "bin_start": 1.8,
            "count": 2
           },
           {
            "bin_end": 1.864,
            "bin_start": 1.832,
            "count": 0
           },
           {
            "bin_end": 1.8960000000000001,
            "bin_start": 1.864,
            "count": 2
           },
           {
            "bin_end": 1.9280000000000002,
            "bin_start": 1.8960000000000001,
            "count": 0
           },
           {
            "bin_end": 1.96,
            "bin_start": 1.9280000000000002,
            "count": 0
           },
           {
            "bin_end": 1.992,
            "bin_start": 1.96,
            "count": 1
           },
           {
            "bin_end": 2.024,
            "bin_start": 1.992,
            "count": 0
           },
           {
            "bin_end": 2.056,
            "bin_start": 2.024,
            "count": 2
           },
           {
            "bin_end": 2.088,
            "bin_start": 2.056,
            "count": 0
           },
           {
            "bin_end": 2.12,
            "bin_start": 2.088,
            "count": 1
           }
          ],
          "max": "2.12",
          "min": "1.8",
          "nan_count": 280,
          "unique_count": 6
         }
        },
        {
         "dtype": "float64",
         "name": "Chain Hook Kills / 10min",
         "stats": {
          "histogram": [
           {
            "bin_end": 6.817,
            "bin_start": 6.57,
            "count": 1
           },
           {
            "bin_end": 7.064,
            "bin_start": 6.817,
            "count": 0
           },
           {
            "bin_end": 7.311,
            "bin_start": 7.064,
            "count": 1
           },
           {
            "bin_end": 7.558,
            "bin_start": 7.311,
            "count": 0
           },
           {
            "bin_end": 7.805,
            "bin_start": 7.558,
            "count": 0
           },
           {
            "bin_end": 8.052,
            "bin_start": 7.805,
            "count": 1
           },
           {
            "bin_end": 8.299,
            "bin_start": 8.052,
            "count": 0
           },
           {
            "bin_end": 8.546,
            "bin_start": 8.299,
            "count": 2
           },
           {
            "bin_end": 8.793,
            "bin_start": 8.546,
            "count": 1
           },
           {
            "bin_end": 9.04,
            "bin_start": 8.793,
            "count": 2
           }
          ],
          "max": "9.04",
          "min": "6.57",
          "nan_count": 280,
          "unique_count": 8
         }
        },
        {
         "dtype": "float64",
         "name": "Chain Hook Accuracy, %",
         "stats": {
          "histogram": [
           {
            "bin_end": 52.17700000000001,
            "bin_start": 51.84,
            "count": 1
           },
           {
            "bin_end": 52.514,
            "bin_start": 52.17700000000001,
            "count": 0
           },
           {
            "bin_end": 52.851,
            "bin_start": 52.514,
            "count": 0
           },
           {
            "bin_end": 53.188,
            "bin_start": 52.851,
            "count": 0
           },
           {
            "bin_end": 53.525000000000006,
            "bin_start": 53.188,
            "count": 0
           },
           {
            "bin_end": 53.862,
            "bin_start": 53.525000000000006,
            "count": 2
           },
           {
            "bin_end": 54.199,
            "bin_start": 53.862,
            "count": 0
           },
           {
            "bin_end": 54.536,
            "bin_start": 54.199,
            "count": 0
           },
           {
            "bin_end": 54.873000000000005,
            "bin_start": 54.536,
            "count": 3
           },
           {
            "bin_end": 55.21,
            "bin_start": 54.873000000000005,
            "count": 2
           }
          ],
          "max": "55.21",
          "min": "51.84",
          "nan_count": 280,
          "unique_count": 8
         }
        },
        {
         "dtype": "float64",
         "name": "Whole Hog Kills / 10min",
         "stats": {
          "histogram": [
           {
            "bin_end": 2.8529999999999998,
            "bin_start": 2.8,
            "count": 1
           },
           {
            "bin_end": 2.9059999999999997,
            "bin_start": 2.8529999999999998,
            "count": 1
           },
           {
            "bin_end": 2.959,
            "bin_start": 2.9059999999999997,
            "count": 0
           },
           {
            "bin_end": 3.012,
            "bin_start": 2.959,
            "count": 0
           },
           {
            "bin_end": 3.065,
            "bin_start": 3.012,
            "count": 0
           },
           {
            "bin_end": 3.118,
            "bin_start": 3.065,
            "count": 0
           },
           {
            "bin_end": 3.171,
            "bin_start": 3.118,
            "count": 1
           },
           {
            "bin_end": 3.224,
            "bin_start": 3.171,
            "count": 1
           },
           {
            "bin_end": 3.277,
            "bin_start": 3.224,
            "count": 2
           },
           {
            "bin_end": 3.33,
            "bin_start": 3.277,
            "count": 2
           }
          ],
          "max": "3.33",
          "min": "2.8",
          "nan_count": 280,
          "unique_count": 7
         }
        },
        {
         "dtype": "float64",
         "name": "Primary Accuracy, %",
         "stats": {
          "histogram": [
           {
            "bin_end": 38.1,
            "bin_start": 35,
            "count": 2
           },
           {
            "bin_end": 41.2,
            "bin_start": 38.1,
            "count": 4
           },
           {
            "bin_end": 44.3,
            "bin_start": 41.2,
            "count": 4
           },
           {
            "bin_end": 47.4,
            "bin_start": 44.3,
            "count": 6
           },
           {
            "bin_end": 50.5,
            "bin_start": 47.4,
            "count": 0
           },
           {
            "bin_end": 53.6,
            "bin_start": 50.5,
            "count": 0
           },
           {
            "bin_end": 56.7,
            "bin_start": 53.6,
            "count": 0
           },
           {
            "bin_end": 59.8,
            "bin_start": 56.7,
            "count": 1
           },
           {
            "bin_end": 62.900000000000006,
            "bin_start": 59.8,
            "count": 2
           },
           {
            "bin_end": 66,
            "bin_start": 62.900000000000006,
            "count": 5
           }
          ],
          "max": "66.0",
          "min": "35.0",
          "nan_count": 264,
          "unique_count": 15
         }
        },
        {
         "dtype": "float64",
         "name": "High Energy Kills / 10min",
         "stats": {
          "histogram": [
           {
            "bin_end": 10.416,
            "bin_start": 10.07,
            "count": 1
           },
           {
            "bin_end": 10.762,
            "bin_start": 10.416,
            "count": 0
           },
           {
            "bin_end": 11.108,
            "bin_start": 10.762,
            "count": 0
           },
           {
            "bin_end": 11.454,
            "bin_start": 11.108,
            "count": 1
           },
           {
            "bin_end": 11.8,
            "bin_start": 11.454,
            "count": 0
           },
           {
            "bin_end": 12.146,
            "bin_start": 11.8,
            "count": 0
           },
           {
            "bin_end": 12.491999999999999,
            "bin_start": 12.146,
            "count": 1
           },
           {
            "bin_end": 12.838,
            "bin_start": 12.491999999999999,
            "count": 0
           },
           {
            "bin_end": 13.184,
            "bin_start": 12.838,
            "count": 2
           },
           {
            "bin_end": 13.53,
            "bin_start": 13.184,
            "count": 3
           }
          ],
          "max": "13.53",
          "min": "10.07",
          "nan_count": 280,
          "unique_count": 8
         }
        },
        {
         "dtype": "float64",
         "name": "Average Energy, %",
         "stats": {
          "histogram": [
           {
            "bin_end": 34.459,
            "bin_start": 33.75,
            "count": 1
           },
           {
            "bin_end": 35.168,
            "bin_start": 34.459,
            "count": 0
           },
           {
            "bin_end": 35.877,
            "bin_start": 35.168,
            "count": 1
           },
           {
            "bin_end": 36.586,
            "bin_start": 35.877,
            "count": 0
           },
           {
            "bin_end": 37.295,
            "bin_start": 36.586,
            "count": 1
           },
           {
            "bin_end": 38.004000000000005,
            "bin_start": 37.295,
            "count": 0
           },
           {
            "bin_end": 38.713,
            "bin_start": 38.004000000000005,
            "count": 2
           },
           {
            "bin_end": 39.422000000000004,
            "bin_start": 38.713,
            "count": 1
           },
           {
            "bin_end": 40.131,
            "bin_start": 39.422000000000004,
            "count": 1
           },
           {
            "bin_end": 40.84,
            "bin_start": 40.131,
            "count": 1
           }
          ],
          "max": "40.84",
          "min": "33.75",
          "nan_count": 280,
          "unique_count": 8
         }
        },
        {
         "dtype": "float64",
         "name": "Graviton Surge Kills / 10min",
         "stats": {
          "histogram": [
           {
            "bin_end": 2.7239999999999998,
            "bin_start": 2.63,
            "count": 1
           },
           {
            "bin_end": 2.818,
            "bin_start": 2.7239999999999998,
            "count": 0
           },
           {
            "bin_end": 2.912,
            "bin_start": 2.818,
            "count": 1
           },
           {
            "bin_end": 3.006,
            "bin_start": 2.912,
            "count": 0
           },
           {
            "bin_end": 3.0999999999999996,
            "bin_start": 3.006,
            "count": 0
           },
           {
            "bin_end": 3.194,
            "bin_start": 3.0999999999999996,
            "count": 1
           },
           {
            "bin_end": 3.288,
            "bin_start": 3.194,
            "count": 0
           },
           {
            "bin_end": 3.3819999999999997,
            "bin_start": 3.288,
            "count": 2
           },
           {
            "bin_end": 3.476,
            "bin_start": 3.3819999999999997,
            "count": 0
           },
           {
            "bin_end": 3.57,
            "bin_start": 3.476,
            "count": 3
           }
          ],
          "max": "3.57",
          "min": "2.63",
          "nan_count": 280,
          "unique_count": 7
         }
        },
        {
         "dtype": "float64",
         "name": "Death Blossom Kills / 10min",
         "stats": {
          "histogram": [
           {
            "bin_end": 3.839,
            "bin_start": 3.8,
            "count": 1
           },
           {
            "bin_end": 3.878,
            "bin_start": 3.839,
            "count": 0
           },
           {
            "bin_end": 3.917,
            "bin_start": 3.878,
            "count": 0
           },
           {
            "bin_end": 3.956,
            "bin_start": 3.917,
            "count": 1
           },
           {
            "bin_end": 3.995,
            "bin_start": 3.956,
            "count": 0
           },
           {
            "bin_end": 4.034,
            "bin_start": 3.995,
            "count": 1
           },
           {
            "bin_end": 4.073,
            "bin_start": 4.034,
            "count": 1
           },
           {
            "bin_end": 4.112,
            "bin_start": 4.073,
            "count": 1
           },
           {
            "bin_end": 4.151000000000001,
            "bin_start": 4.112,
            "count": 1
           },
           {
            "bin_end": 4.19,
            "bin_start": 4.151000000000001,
            "count": 2
           }
          ],
          "max": "4.19",
          "min": "3.8",
          "nan_count": 280,
          "unique_count": 8
         }
        },
        {
         "dtype": "float64",
         "name": "Healing Accuracy",
         "stats": {
          "histogram": [
           {
            "bin_end": 60.902,
            "bin_start": 60,
            "count": 1
           },
           {
            "bin_end": 61.804,
            "bin_start": 60.902,
            "count": 0
           },
           {
            "bin_end": 62.705999999999996,
            "bin_start": 61.804,
            "count": 1
           },
           {
            "bin_end": 63.608,
            "bin_start": 62.705999999999996,
            "count": 0
           },
           {
            "bin_end": 64.50999999999999,
            "bin_start": 63.608,
            "count": 1
           },
           {
            "bin_end": 65.41199999999999,
            "bin_start": 64.50999999999999,
            "count": 0
           },
           {
            "bin_end": 66.314,
            "bin_start": 65.41199999999999,
            "count": 2
           },
           {
            "bin_end": 67.216,
            "bin_start": 66.314,
            "count": 0
           },
           {
            "bin_end": 68.118,
            "bin_start": 67.216,
            "count": 2
           },
           {
            "bin_end": 69.02,
            "bin_start": 68.118,
            "count": 1
           }
          ],
          "max": "69.02",
          "min": "60.0",
          "nan_count": 280,
          "unique_count": 8
         }
        },
        {
         "dtype": "float64",
         "name": "Deaths Prevented / 10min",
         "stats": {
          "histogram": [
           {
            "bin_end": 2.3,
            "bin_start": 2.27,
            "count": 1
           },
           {
            "bin_end": 2.33,
            "bin_start": 2.3,
            "count": 2
           },
           {
            "bin_end": 2.36,
            "bin_start": 2.33,
            "count": 0
           },
           {
            "bin_end": 2.39,
            "bin_start": 2.36,
            "count": 1
           },
           {
            "bin_end": 2.42,
            "bin_start": 2.39,
            "count": 1
           },
           {
            "bin_end": 2.4499999999999997,
            "bin_start": 2.42,
            "count": 1
           },
           {
            "bin_end": 2.48,
            "bin_start": 2.4499999999999997,
            "count": 0
           },
           {
            "bin_end": 2.51,
            "bin_start": 2.48,
            "count": 0
           },
           {
            "bin_end": 2.54,
            "bin_start": 2.51,
            "count": 1
           },
           {
            "bin_end": 2.57,
            "bin_start": 2.54,
            "count": 1
           }
          ],
          "max": "2.57",
          "min": "2.27",
          "nan_count": 280,
          "unique_count": 8
         }
        },
        {
         "dtype": "float64",
         "name": "Amp Matrix Assists / 10min",
         "stats": {
          "histogram": [
           {
            "bin_end": 1.555,
            "bin_start": 1.52,
            "count": 1
           },
           {
            "bin_end": 1.59,
            "bin_start": 1.555,
            "count": 0
           },
           {
            "bin_end": 1.625,
            "bin_start": 1.59,
            "count": 0
           },
           {
            "bin_end": 1.6600000000000001,
            "bin_start": 1.625,
            "count": 0
           },
           {
            "bin_end": 1.695,
            "bin_start": 1.6600000000000001,
            "count": 1
           },
           {
            "bin_end": 1.73,
            "bin_start": 1.695,
            "count": 0
           },
           {
            "bin_end": 1.7650000000000001,
            "bin_start": 1.73,
            "count": 1
           },
           {
            "bin_end": 1.8,
            "bin_start": 1.7650000000000001,
            "count": 2
           },
           {
            "bin_end": 1.8350000000000002,
            "bin_start": 1.8,
            "count": 1
           },
           {
            "bin_end": 1.87,
            "bin_start": 1.8350000000000002,
            "count": 2
           }
          ],
          "max": "1.87",
          "min": "1.52",
          "nan_count": 280,
          "unique_count": 7
         }
        },
        {
         "dtype": "float64",
         "name": "Energy Javelin Kills / 10min",
         "stats": {
          "histogram": [
           {
            "bin_end": 4.848,
            "bin_start": 4.66,
            "count": 1
           },
           {
            "bin_end": 5.0360000000000005,
            "bin_start": 4.848,
            "count": 0
           },
           {
            "bin_end": 5.224,
            "bin_start": 5.0360000000000005,
            "count": 1
           },
           {
            "bin_end": 5.412,
            "bin_start": 5.224,
            "count": 0
           },
           {
            "bin_end": 5.6,
            "bin_start": 5.412,
            "count": 0
           },
           {
            "bin_end": 5.788,
            "bin_start": 5.6,
            "count": 1
           },
           {
            "bin_end": 5.976,
            "bin_start": 5.788,
            "count": 0
           },
           {
            "bin_end": 6.164,
            "bin_start": 5.976,
            "count": 2
           },
           {
            "bin_end": 6.352,
            "bin_start": 6.164,
            "count": 0
           },
           {
            "bin_end": 6.54,
            "bin_start": 6.352,
            "count": 3
           }
          ],
          "max": "6.54",
          "min": "4.66",
          "nan_count": 280,
          "unique_count": 8
         }
        },
        {
         "dtype": "float64",
         "name": "Javelin Spin Kills / 10min",
         "stats": {
          "histogram": [
           {
            "bin_end": 2.761,
            "bin_start": 2.64,
            "count": 1
           },
           {
            "bin_end": 2.882,
            "bin_start": 2.761,
            "count": 0
           },
           {
            "bin_end": 3.003,
            "bin_start": 2.882,
            "count": 0
           },
           {
            "bin_end": 3.124,
            "bin_start": 3.003,
            "count": 1
           },
           {
            "bin_end": 3.245,
            "bin_start": 3.124,
            "count": 1
           },
           {
            "bin_end": 3.366,
            "bin_start": 3.245,
            "count": 0
           },
           {
            "bin_end": 3.487,
            "bin_start": 3.366,
            "count": 1
           },
           {
            "bin_end": 3.608,
            "bin_start": 3.487,
            "count": 1
           },
           {
            "bin_end": 3.729,
            "bin_start": 3.608,
            "count": 1
           },
           {
            "bin_end": 3.85,
            "bin_start": 3.729,
            "count": 2
           }
          ],
          "max": "3.85",
          "min": "2.64",
          "nan_count": 280,
          "unique_count": 8
         }
        },
        {
         "dtype": "float64",
         "name": "Terra Surge Kills / 10min",
         "stats": {
          "histogram": [
           {
            "bin_end": 2.955,
            "bin_start": 2.87,
            "count": 1
           },
           {
            "bin_end": 3.04,
            "bin_start": 2.955,
            "count": 0
           },
           {
            "bin_end": 3.125,
            "bin_start": 3.04,
            "count": 0
           },
           {
            "bin_end": 3.21,
            "bin_start": 3.125,
            "count": 0
           },
           {
            "bin_end": 3.295,
            "bin_start": 3.21,
            "count": 1
           },
           {
            "bin_end": 3.38,
            "bin_start": 3.295,
            "count": 0
           },
           {
            "bin_end": 3.4650000000000003,
            "bin_start": 3.38,
            "count": 0
           },
           {
            "bin_end": 3.5500000000000003,
            "bin_start": 3.4650000000000003,
            "count": 2
           },
           {
            "bin_end": 3.6350000000000002,
            "bin_start": 3.5500000000000003,
            "count": 2
           },
           {
            "bin_end": 3.72,
            "bin_start": 3.6350000000000002,
            "count": 2
           }
          ],
          "max": "3.72",
          "min": "2.87",
          "nan_count": 280,
          "unique_count": 7
         }
        },
        {
         "dtype": "float64",
         "name": "Airtime, %",
         "stats": {
          "histogram": [
           {
            "bin_end": 61.771,
            "bin_start": 60.63,
            "count": 1
           },
           {
            "bin_end": 62.912000000000006,
            "bin_start": 61.771,
            "count": 1
           },
           {
            "bin_end": 64.053,
            "bin_start": 62.912000000000006,
            "count": 0
           },
           {
            "bin_end": 65.194,
            "bin_start": 64.053,
            "count": 1
           },
           {
            "bin_end": 66.33500000000001,
            "bin_start": 65.194,
            "count": 0
           },
           {
            "bin_end": 67.476,
            "bin_start": 66.33500000000001,
            "count": 2
           },
           {
            "bin_end": 68.617,
            "bin_start": 67.476,
            "count": 1
           },
           {
            "bin_end": 69.75800000000001,
            "bin_start": 68.617,
            "count": 0
           },
           {
            "bin_end": 70.899,
            "bin_start": 69.75800000000001,
            "count": 1
           },
           {
            "bin_end": 72.04,
            "bin_start": 70.899,
            "count": 1
           }
          ],
          "max": "72.04",
          "min": "60.63",
          "nan_count": 280,
          "unique_count": 8
         }
        },
        {
         "dtype": "float64",
         "name": "Barrage Kills / 10min",
         "stats": {
          "histogram": [
           {
            "bin_end": 3.295,
            "bin_start": 3.23,
            "count": 1
           },
           {
            "bin_end": 3.36,
            "bin_start": 3.295,
            "count": 0
           },
           {
            "bin_end": 3.425,
            "bin_start": 3.36,
            "count": 0
           },
           {
            "bin_end": 3.4899999999999998,
            "bin_start": 3.425,
            "count": 0
           },
           {
            "bin_end": 3.5549999999999997,
            "bin_start": 3.4899999999999998,
            "count": 1
           },
           {
            "bin_end": 3.62,
            "bin_start": 3.5549999999999997,
            "count": 0
           },
           {
            "bin_end": 3.685,
            "bin_start": 3.62,
            "count": 1
           },
           {
            "bin_end": 3.75,
            "bin_start": 3.685,
            "count": 1
           },
           {
            "bin_end": 3.815,
            "bin_start": 3.75,
            "count": 2
           },
           {
            "bin_end": 3.88,
            "bin_start": 3.815,
            "count": 2
           }
          ],
          "max": "3.88",
          "min": "3.23",
          "nan_count": 280,
          "unique_count": 8
         }
        },
        {
         "dtype": "float64",
         "name": "Accretion Kills / 10min",
         "stats": {
          "histogram": [
           {
            "bin_end": 4.6419999999999995,
            "bin_start": 4.52,
            "count": 1
           },
           {
            "bin_end": 4.763999999999999,
            "bin_start": 4.6419999999999995,
            "count": 0
           },
           {
            "bin_end": 4.886,
            "bin_start": 4.763999999999999,
            "count": 0
           },
           {
            "bin_end": 5.008,
            "bin_start": 4.886,
            "count": 0
           },
           {
            "bin_end": 5.13,
            "bin_start": 5.008,
            "count": 1
           },
           {
            "bin_end": 5.252,
            "bin_start": 5.13,
            "count": 0
           },
           {
            "bin_end": 5.374,
            "bin_start": 5.252,
            "count": 1
           },
           {
            "bin_end": 5.496,
            "bin_start": 5.374,
            "count": 0
           },
           {
            "bin_end": 5.618,
            "bin_start": 5.496,
            "count": 3
           },
           {
            "bin_end": 5.74,
            "bin_start": 5.618,
            "count": 2
           }
          ],
          "max": "5.74",
          "min": "4.52",
          "nan_count": 280,
          "unique_count": 8
         }
        },
        {
         "dtype": "float64",
         "name": "Overhealth / 10min",
         "stats": {
          "histogram": [
           {
            "bin_end": 1352.638,
            "bin_start": 1193.72,
            "count": 11
           },
           {
            "bin_end": 1511.556,
            "bin_start": 1352.638,
            "count": 5
           },
           {
            "bin_end": 1670.4740000000002,
            "bin_start": 1511.556,
            "count": 0
           },
           {
            "bin_end": 1829.392,
            "bin_start": 1670.4740000000002,
            "count": 0
           },
           {
            "bin_end": 1988.31,
            "bin_start": 1829.392,
            "count": 0
           },
           {
            "bin_end": 2147.228,
            "bin_start": 1988.31,
            "count": 0
           },
           {
            "bin_end": 2306.1459999999997,
            "bin_start": 2147.228,
            "count": 0
           },
           {
            "bin_end": 2465.0640000000003,
            "bin_start": 2306.1459999999997,
            "count": 0
           },
           {
            "bin_end": 2623.982,
            "bin_start": 2465.0640000000003,
            "count": 1
           },
           {
            "bin_end": 2782.9,
            "bin_start": 2623.982,
            "count": 7
           }
          ],
          "max": "2782.9",
          "min": "1193.72",
          "nan_count": 264,
          "unique_count": 24
         }
        },
        {
         "dtype": "float64",
         "name": "Gravitic Flux Kills / 10min",
         "stats": {
          "histogram": [
           {
            "bin_end": 2.264,
            "bin_start": 2.21,
            "count": 1
           },
           {
            "bin_end": 2.318,
            "bin_start": 2.264,
            "count": 0
           },
           {
            "bin_end": 2.372,
            "bin_start": 2.318,
            "count": 0
           },
           {
            "bin_end": 2.426,
            "bin_start": 2.372,
            "count": 0
           },
           {
            "bin_end": 2.48,
            "bin_start": 2.426,
            "count": 0
           },
           {
            "bin_end": 2.534,
            "bin_start": 2.48,
            "count": 2
           },
           {
            "bin_end": 2.588,
            "bin_start": 2.534,
            "count": 0
           },
           {
            "bin_end": 2.642,
            "bin_start": 2.588,
            "count": 1
           },
           {
            "bin_end": 2.696,
            "bin_start": 2.642,
            "count": 2
           },
           {
            "bin_end": 2.75,
            "bin_start": 2.696,
            "count": 2
           }
          ],
          "max": "2.75",
          "min": "2.21",
          "nan_count": 280,
          "unique_count": 8
         }
        },
        {
         "dtype": "float64",
         "name": "Rocket Punch Kills / 10min",
         "stats": {
          "histogram": [
           {
            "bin_end": 8.879,
            "bin_start": 8.69,
            "count": 1
           },
           {
            "bin_end": 9.068,
            "bin_start": 8.879,
            "count": 0
           },
           {
            "bin_end": 9.257,
            "bin_start": 9.068,
            "count": 0
           },
           {
            "bin_end": 9.446,
            "bin_start": 9.257,
            "count": 0
           },
           {
            "bin_end": 9.635,
            "bin_start": 9.446,
            "count": 1
           },
           {
            "bin_end": 9.824,
            "bin_start": 9.635,
            "count": 0
           },
           {
            "bin_end": 10.013,
            "bin_start": 9.824,
            "count": 1
           },
           {
            "bin_end": 10.202,
            "bin_start": 10.013,
            "count": 1
           },
           {
            "bin_end": 10.391,
            "bin_start": 10.202,
            "count": 2
           },
           {
            "bin_end": 10.58,
            "bin_start": 10.391,
            "count": 2
           }
          ],
          "max": "10.58",
          "min": "8.69",
          "nan_count": 280,
          "unique_count": 8
         }
        },
        {
         "dtype": "float64",
         "name": "Seismic Slam Kills / 10min",
         "stats": {
          "histogram": [
           {
            "bin_end": 7.6080000000000005,
            "bin_start": 7.44,
            "count": 1
           },
           {
            "bin_end": 7.776,
            "bin_start": 7.6080000000000005,
            "count": 0
           },
           {
            "bin_end": 7.944,
            "bin_start": 7.776,
            "count": 0
           },
           {
            "bin_end": 8.112,
            "bin_start": 7.944,
            "count": 0
           },
           {
            "bin_end": 8.28,
            "bin_start": 8.112,
            "count": 0
           },
           {
            "bin_end": 8.448,
            "bin_start": 8.28,
            "count": 1
           },
           {
            "bin_end": 8.616,
            "bin_start": 8.448,
            "count": 1
           },
           {
            "bin_end": 8.783999999999999,
            "bin_start": 8.616,
            "count": 0
           },
           {
            "bin_end": 8.952,
            "bin_start": 8.783999999999999,
            "count": 2
           },
           {
            "bin_end": 9.12,
            "bin_start": 8.952,
            "count": 3
           }
          ],
          "max": "9.12",
          "min": "7.44",
          "nan_count": 280,
          "unique_count": 8
         }
        },
        {
         "dtype": "float64",
         "name": "Meteor Strike Kills / 10min",
         "stats": {
          "histogram": [
           {
            "bin_end": 2.245,
            "bin_start": 2.22,
            "count": 1
           },
           {
            "bin_end": 2.27,
            "bin_start": 2.245,
            "count": 0
           },
           {
            "bin_end": 2.2950000000000004,
            "bin_start": 2.27,
            "count": 1
           },
           {
            "bin_end": 2.3200000000000003,
            "bin_start": 2.2950000000000004,
            "count": 0
           },
           {
            "bin_end": 2.345,
            "bin_start": 2.3200000000000003,
            "count": 0
           },
           {
            "bin_end": 2.37,
            "bin_start": 2.345,
            "count": 0
           },
           {
            "bin_end": 2.395,
            "bin_start": 2.37,
            "count": 1
           },
           {
            "bin_end": 2.4200000000000004,
            "bin_start": 2.395,
            "count": 1
           },
           {
            "bin_end": 2.4450000000000003,
            "bin_start": 2.4200000000000004,
            "count": 2
           },
           {
            "bin_end": 2.47,
            "bin_start": 2.4450000000000003,
            "count": 2
           }
          ],
          "max": "2.47",
          "min": "2.22",
          "nan_count": 280,
          "unique_count": 7
         }
        },
        {
         "dtype": "float64",
         "name": "Inspire Uptime",
         "stats": {
          "histogram": [
           {
            "bin_end": 29.4,
            "bin_start": 29,
            "count": 1
           },
           {
            "bin_end": 29.8,
            "bin_start": 29.4,
            "count": 0
           },
           {
            "bin_end": 30.2,
            "bin_start": 29.8,
            "count": 1
           },
           {
            "bin_end": 30.6,
            "bin_start": 30.2,
            "count": 0
           },
           {
            "bin_end": 31,
            "bin_start": 30.6,
            "count": 0
           },
           {
            "bin_end": 31.4,
            "bin_start": 31,
            "count": 1
           },
           {
            "bin_end": 31.8,
            "bin_start": 31.4,
            "count": 0
           },
           {
            "bin_end": 32.2,
            "bin_start": 31.8,
            "count": 4
           },
           {
            "bin_end": 32.6,
            "bin_start": 32.2,
            "count": 0
           },
           {
            "bin_end": 33,
            "bin_start": 32.6,
            "count": 1
           }
          ],
          "max": "33.0",
          "min": "29.0",
          "nan_count": 280,
          "unique_count": 5
         }
        },
        {
         "dtype": "float64",
         "name": "Icicle Accuracy, % / 10min",
         "stats": {
          "histogram": [
           {
            "bin_end": 26.6,
            "bin_start": 26.5,
            "count": 0
           },
           {
            "bin_end": 26.7,
            "bin_start": 26.6,
            "count": 0
           },
           {
            "bin_end": 26.8,
            "bin_start": 26.7,
            "count": 0
           },
           {
            "bin_end": 26.9,
            "bin_start": 26.8,
            "count": 0
           },
           {
            "bin_end": 27,
            "bin_start": 26.9,
            "count": 0
           },
           {
            "bin_end": 27.1,
            "bin_start": 27,
            "count": 8
           },
           {
            "bin_end": 27.2,
            "bin_start": 27.1,
            "count": 0
           },
           {
            "bin_end": 27.3,
            "bin_start": 27.2,
            "count": 0
           },
           {
            "bin_end": 27.4,
            "bin_start": 27.3,
            "count": 0
           },
           {
            "bin_end": 27.5,
            "bin_start": 27.4,
            "count": 0
           }
          ],
          "max": "27.0",
          "min": "27.0",
          "nan_count": 280,
          "unique_count": 1
         }
        },
        {
         "dtype": "float64",
         "name": "Icicle Crit Accuracy, % / 10min",
         "stats": {
          "histogram": [
           {
            "bin_end": 14.1,
            "bin_start": 14,
            "count": 3
           },
           {
            "bin_end": 14.2,
            "bin_start": 14.1,
            "count": 0
           },
           {
            "bin_end": 14.3,
            "bin_start": 14.2,
            "count": 0
           },
           {
            "bin_end": 14.4,
            "bin_start": 14.3,
            "count": 0
           },
           {
            "bin_end": 14.5,
            "bin_start": 14.4,
            "count": 0
           },
           {
            "bin_end": 14.6,
            "bin_start": 14.5,
            "count": 0
           },
           {
            "bin_end": 14.7,
            "bin_start": 14.6,
            "count": 0
           },
           {
            "bin_end": 14.8,
            "bin_start": 14.7,
            "count": 0
           },
           {
            "bin_end": 14.9,
            "bin_start": 14.8,
            "count": 0
           },
           {
            "bin_end": 15,
            "bin_start": 14.9,
            "count": 5
           }
          ],
          "max": "15.0",
          "min": "14.0",
          "nan_count": 280,
          "unique_count": 2
         }
        },
        {
         "dtype": "float64",
         "name": "Enemies Frozen / 10min",
         "stats": {
          "histogram": [
           {
            "bin_end": 3.1359999999999997,
            "bin_start": 3.03,
            "count": 1
           },
           {
            "bin_end": 3.242,
            "bin_start": 3.1359999999999997,
            "count": 1
           },
           {
            "bin_end": 3.348,
            "bin_start": 3.242,
            "count": 0
           },
           {
            "bin_end": 3.4539999999999997,
            "bin_start": 3.348,
            "count": 1
           },
           {
            "bin_end": 3.5599999999999996,
            "bin_start": 3.4539999999999997,
            "count": 0
           },
           {
            "bin_end": 3.666,
            "bin_start": 3.5599999999999996,
            "count": 2
           },
           {
            "bin_end": 3.772,
            "bin_start": 3.666,
            "count": 0
           },
           {
            "bin_end": 3.878,
            "bin_start": 3.772,
            "count": 1
           },
           {
            "bin_end": 3.984,
            "bin_start": 3.878,
            "count": 1
           },
           {
            "bin_end": 4.09,
            "bin_start": 3.984,
            "count": 1
           }
          ],
          "max": "4.09",
          "min": "3.03",
          "nan_count": 280,
          "unique_count": 8
         }
        },
        {
         "dtype": "float64",
         "name": "Blizzard Kills / 10min",
         "stats": {
          "histogram": [
           {
            "bin_end": 3.368,
            "bin_start": 3.32,
            "count": 1
           },
           {
            "bin_end": 3.416,
            "bin_start": 3.368,
            "count": 0
           },
           {
            "bin_end": 3.464,
            "bin_start": 3.416,
            "count": 0
           },
           {
            "bin_end": 3.512,
            "bin_start": 3.464,
            "count": 1
           },
           {
            "bin_end": 3.5599999999999996,
            "bin_start": 3.512,
            "count": 0
           },
           {
            "bin_end": 3.6079999999999997,
            "bin_start": 3.5599999999999996,
            "count": 0
           },
           {
            "bin_end": 3.6559999999999997,
            "bin_start": 3.6079999999999997,
            "count": 0
           },
           {
            "bin_end": 3.7039999999999997,
            "bin_start": 3.6559999999999997,
            "count": 2
           },
           {
            "bin_end": 3.752,
            "bin_start": 3.7039999999999997,
            "count": 1
           },
           {
            "bin_end": 3.8,
            "bin_start": 3.752,
            "count": 3
           }
          ],
          "max": "3.8",
          "min": "3.32",
          "nan_count": 280,
          "unique_count": 7
         }
        },
        {
         "dtype": "float64",
         "name": "Jump Pack Kills / 10min",
         "stats": {
          "histogram": [
           {
            "bin_end": 6.3549999999999995,
            "bin_start": 6.09,
            "count": 1
           },
           {
            "bin_end": 6.62,
            "bin_start": 6.3549999999999995,
            "count": 0
           },
           {
            "bin_end": 6.885,
            "bin_start": 6.62,
            "count": 1
           },
           {
            "bin_end": 7.15,
            "bin_start": 6.885,
            "count": 0
           },
           {
            "bin_end": 7.415,
            "bin_start": 7.15,
            "count": 1
           },
           {
            "bin_end": 7.68,
            "bin_start": 7.415,
            "count": 0
           },
           {
            "bin_end": 7.945,
            "bin_start": 7.68,
            "count": 0
           },
           {
            "bin_end": 8.21,
            "bin_start": 7.945,
            "count": 2
           },
           {
            "bin_end": 8.475,
            "bin_start": 8.21,
            "count": 0
           },
           {
            "bin_end": 8.74,
            "bin_start": 8.475,
            "count": 3
           }
          ],
          "max": "8.74",
          "min": "6.09",
          "nan_count": 280,
          "unique_count": 8
         }
        },
        {
         "dtype": "float64",
         "name": "Primal Rage Kills / 10min",
         "stats": {
          "histogram": [
           {
            "bin_end": 1.766,
            "bin_start": 1.71,
            "count": 1
           },
           {
            "bin_end": 1.822,
            "bin_start": 1.766,
            "count": 1
           },
           {
            "bin_end": 1.8780000000000001,
            "bin_start": 1.822,
            "count": 0
           },
           {
            "bin_end": 1.934,
            "bin_start": 1.8780000000000001,
            "count": 1
           },
           {
            "bin_end": 1.99,
            "bin_start": 1.934,
            "count": 1
           },
           {
            "bin_end": 2.0460000000000003,
            "bin_start": 1.99,
            "count": 1
           },
           {
            "bin_end": 2.102,
            "bin_start": 2.0460000000000003,
            "count": 1
           },
           {
            "bin_end": 2.158,
            "bin_start": 2.102,
            "count": 0
           },
           {
            "bin_end": 2.214,
            "bin_start": 2.158,
            "count": 1
           },
           {
            "bin_end": 2.27,
            "bin_start": 2.214,
            "count": 1
           }
          ],
          "max": "2.27",
          "min": "1.71",
          "nan_count": 280,
          "unique_count": 8
         }
        },
        {
         "dtype": "float64",
         "name": "Recon Kills / 10min",
         "stats": {
          "histogram": [
           {
            "bin_end": 8.802,
            "bin_start": 8.67,
            "count": 1
           },
           {
            "bin_end": 8.934,
            "bin_start": 8.802,
            "count": 0
           },
           {
            "bin_end": 9.066,
            "bin_start": 8.934,
            "count": 0
           },
           {
            "bin_end": 9.198,
            "bin_start": 9.066,
            "count": 1
           },
           {
            "bin_end": 9.33,
            "bin_start": 9.198,
            "count": 0
           },
           {
            "bin_end": 9.462,
            "bin_start": 9.33,
            "count": 0
           },
           {
            "bin_end": 9.594,
            "bin_start": 9.462,
            "count": 1
           },
           {
            "bin_end": 9.726,
            "bin_start": 9.594,
            "count": 2
           },
           {
            "bin_end": 9.858,
            "bin_start": 9.726,
            "count": 1
           },
           {
            "bin_end": 9.99,
            "bin_start": 9.858,
            "count": 2
           }
          ],
          "max": "9.99",
          "min": "8.67",
          "nan_count": 280,
          "unique_count": 8
         }
        },
        {
         "dtype": "float64",
         "name": "Assault Kills / 10min",
         "stats": {
          "histogram": [
           {
            "bin_end": 10.886,
            "bin_start": 10.76,
            "count": 1
           },
           {
            "bin_end": 11.012,
            "bin_start": 10.886,
            "count": 0
           },
           {
            "bin_end": 11.138,
            "bin_start": 11.012,
            "count": 0
           },
           {
            "bin_end": 11.264,
            "bin_start": 11.138,
            "count": 0
           },
           {
            "bin_end": 11.39,
            "bin_start": 11.264,
            "count": 1
           },
           {
            "bin_end": 11.516,
            "bin_start": 11.39,
            "count": 1
           },
           {
            "bin_end": 11.642,
            "bin_start": 11.516,
            "count": 0
           },
           {
            "bin_end": 11.767999999999999,
            "bin_start": 11.642,
            "count": 1
           },
           {
            "bin_end": 11.894,
            "bin_start": 11.767999999999999,
            "count": 2
           },
           {
            "bin_end": 12.02,
            "bin_start": 11.894,
            "count": 2
           }
          ],
          "max": "12.02",
          "min": "10.76",
          "nan_count": 280,
          "unique_count": 8
         }
        },
        {
         "dtype": "float64",
         "name": "Tactical Grenade Kills / 10min",
         "stats": {
          "histogram": [
           {
            "bin_end": 4.207,
            "bin_start": 4.12,
            "count": 1
           },
           {
            "bin_end": 4.2940000000000005,
            "bin_start": 4.207,
            "count": 0
           },
           {
            "bin_end": 4.381,
            "bin_start": 4.2940000000000005,
            "count": 1
           },
           {
            "bin_end": 4.468,
            "bin_start": 4.381,
            "count": 0
           },
           {
            "bin_end": 4.555,
            "bin_start": 4.468,
            "count": 0
           },
           {
            "bin_end": 4.642,
            "bin_start": 4.555,
            "count": 1
           },
           {
            "bin_end": 4.729,
            "bin_start": 4.642,
            "count": 0
           },
           {
            "bin_end": 4.816,
            "bin_start": 4.729,
            "count": 2
           },
           {
            "bin_end": 4.9030000000000005,
            "bin_start": 4.816,
            "count": 0
           },
           {
            "bin_end": 4.99,
            "bin_start": 4.9030000000000005,
            "count": 3
           }
          ],
          "max": "4.99",
          "min": "4.12",
          "nan_count": 280,
          "unique_count": 8
         }
        },
        {
         "dtype": "float64",
         "name": "Artillery Kills / 10min",
         "stats": {
          "histogram": [
           {
            "bin_end": 1.606,
            "bin_start": 1.59,
            "count": 1
           },
           {
            "bin_end": 1.622,
            "bin_start": 1.606,
            "count": 0
           },
           {
            "bin_end": 1.6380000000000001,
            "bin_start": 1.622,
            "count": 0
           },
           {
            "bin_end": 1.6540000000000001,
            "bin_start": 1.6380000000000001,
            "count": 0
           },
           {
            "bin_end": 1.67,
            "bin_start": 1.6540000000000001,
            "count": 1
           },
           {
            "bin_end": 1.686,
            "bin_start": 1.67,
            "count": 2
           },
           {
            "bin_end": 1.702,
            "bin_start": 1.686,
            "count": 0
           },
           {
            "bin_end": 1.718,
            "bin_start": 1.702,
            "count": 2
           },
           {
            "bin_end": 1.734,
            "bin_start": 1.718,
            "count": 0
           },
           {
            "bin_end": 1.75,
            "bin_start": 1.734,
            "count": 2
           }
          ],
          "max": "1.75",
          "min": "1.59",
          "nan_count": 280,
          "unique_count": 6
         }
        },
        {
         "dtype": "float64",
         "name": "Enemies Hacked / 10min",
         "stats": {
          "histogram": [
           {
            "bin_end": 27.179,
            "bin_start": 26.93,
            "count": 1
           },
           {
            "bin_end": 27.428,
            "bin_start": 27.179,
            "count": 0
           },
           {
            "bin_end": 27.677,
            "bin_start": 27.428,
            "count": 0
           },
           {
            "bin_end": 27.926000000000002,
            "bin_start": 27.677,
            "count": 0
           },
           {
            "bin_end": 28.175,
            "bin_start": 27.926000000000002,
            "count": 1
           },
           {
            "bin_end": 28.424,
            "bin_start": 28.175,
            "count": 0
           },
           {
            "bin_end": 28.673000000000002,
            "bin_start": 28.424,
            "count": 2
           },
           {
            "bin_end": 28.922,
            "bin_start": 28.673000000000002,
            "count": 0
           },
           {
            "bin_end": 29.171000000000003,
            "bin_start": 28.922,
            "count": 3
           },
           {
            "bin_end": 29.42,
            "bin_start": 29.171000000000003,
            "count": 1
           }
          ],
          "max": "29.42",
          "min": "26.93",
          "nan_count": 280,
          "unique_count": 8
         }
        },
        {
         "dtype": "float64",
         "name": "Low Health Teleports / 10min",
         "stats": {
          "histogram": [
           {
            "bin_end": 2.1999999999999997,
            "bin_start": 2.15,
            "count": 1
           },
           {
            "bin_end": 2.25,
            "bin_start": 2.1999999999999997,
            "count": 2
           },
           {
            "bin_end": 2.3,
            "bin_start": 2.25,
            "count": 1
           },
           {
            "bin_end": 2.35,
            "bin_start": 2.3,
            "count": 2
           },
           {
            "bin_end": 2.4,
            "bin_start": 2.35,
            "count": 0
           },
           {
            "bin_end": 2.45,
            "bin_start": 2.4,
            "count": 1
           },
           {
            "bin_end": 2.5,
            "bin_start": 2.45,
            "count": 0
           },
           {
            "bin_end": 2.55,
            "bin_start": 2.5,
            "count": 0
           },
           {
            "bin_end": 2.6,
            "bin_start": 2.55,
            "count": 0
           },
           {
            "bin_end": 2.65,
            "bin_start": 2.6,
            "count": 1
           }
          ],
          "max": "2.65",
          "min": "2.15",
          "nan_count": 280,
          "unique_count": 7
         }
        },
        {
         "dtype": "float64",
         "name": "EMP Kills / 10min",
         "stats": {
          "histogram": [
           {
            "bin_end": 3.024,
            "bin_start": 2.94,
            "count": 1
           },
           {
            "bin_end": 3.108,
            "bin_start": 3.024,
            "count": 0
           },
           {
            "bin_end": 3.192,
            "bin_start": 3.108,
            "count": 0
           },
           {
            "bin_end": 3.276,
            "bin_start": 3.192,
            "count": 0
           },
           {
            "bin_end": 3.36,
            "bin_start": 3.276,
            "count": 0
           },
           {
            "bin_end": 3.444,
            "bin_start": 3.36,
            "count": 1
           },
           {
            "bin_end": 3.528,
            "bin_start": 3.444,
            "count": 1
           },
           {
            "bin_end": 3.612,
            "bin_start": 3.528,
            "count": 0
           },
           {
            "bin_end": 3.6959999999999997,
            "bin_start": 3.612,
            "count": 2
           },
           {
            "bin_end": 3.78,
            "bin_start": 3.6959999999999997,
            "count": 3
           }
          ],
          "max": "3.78",
          "min": "2.94",
          "nan_count": 280,
          "unique_count": 8
         }
        },
        {
         "dtype": "float64",
         "name": "Grappling Claw Kills / 10min",
         "stats": {
          "histogram": [
           {
            "bin_end": 5.603999999999999,
            "bin_start": 5.31,
            "count": 1
           },
           {
            "bin_end": 5.898,
            "bin_start": 5.603999999999999,
            "count": 1
           },
           {
            "bin_end": 6.192,
            "bin_start": 5.898,
            "count": 0
           },
           {
            "bin_end": 6.486,
            "bin_start": 6.192,
            "count": 1
           },
           {
            "bin_end": 6.779999999999999,
            "bin_start": 6.486,
            "count": 0
           },
           {
            "bin_end": 7.074,
            "bin_start": 6.779999999999999,
            "count": 1
           },
           {
            "bin_end": 7.368,
            "bin_start": 7.074,
            "count": 0
           },
           {
            "bin_end": 7.662,
            "bin_start": 7.368,
            "count": 2
           },
           {
            "bin_end": 7.9559999999999995,
            "bin_start": 7.662,
            "count": 0
           },
           {
            "bin_end": 8.25,
            "bin_start": 7.9559999999999995,
            "count": 2
           }
          ],
          "max": "8.25",
          "min": "5.31",
          "nan_count": 280,
          "unique_count": 8
         }
        },
        {
         "dtype": "float64",
         "name": "Piledriver Kills / 10min",
         "stats": {
          "histogram": [
           {
            "bin_end": 5.667,
            "bin_start": 5.49,
            "count": 1
           },
           {
            "bin_end": 5.844,
            "bin_start": 5.667,
            "count": 0
           },
           {
            "bin_end": 6.021,
            "bin_start": 5.844,
            "count": 0
           },
           {
            "bin_end": 6.198,
            "bin_start": 6.021,
            "count": 1
           },
           {
            "bin_end": 6.375,
            "bin_start": 6.198,
            "count": 0
           },
           {
            "bin_end": 6.552,
            "bin_start": 6.375,
            "count": 0
           },
           {
            "bin_end": 6.729,
            "bin_start": 6.552,
            "count": 1
           },
           {
            "bin_end": 6.906,
            "bin_start": 6.729,
            "count": 1
           },
           {
            "bin_end": 7.083,
            "bin_start": 6.906,
            "count": 1
           },
           {
            "bin_end": 7.26,
            "bin_start": 7.083,
            "count": 3
           }
          ],
          "max": "7.26",
          "min": "5.49",
          "nan_count": 280,
          "unique_count": 8
         }
        },
        {
         "dtype": "float64",
         "name": "Charged Shot Accuracy, %",
         "stats": {
          "histogram": [
           {
            "bin_end": 47.8,
            "bin_start": 47,
            "count": 1
           },
           {
            "bin_end": 48.6,
            "bin_start": 47.8,
            "count": 0
           },
           {
            "bin_end": 49.4,
            "bin_start": 48.6,
            "count": 1
           },
           {
            "bin_end": 50.2,
            "bin_start": 49.4,
            "count": 0
           },
           {
            "bin_end": 51,
            "bin_start": 50.2,
            "count": 0
           },
           {
            "bin_end": 51.8,
            "bin_start": 51,
            "count": 1
           },
           {
            "bin_end": 52.6,
            "bin_start": 51.8,
            "count": 2
           },
           {
            "bin_end": 53.4,
            "bin_start": 52.6,
            "count": 1
           },
           {
            "bin_end": 54.2,
            "bin_start": 53.4,
            "count": 1
           },
           {
            "bin_end": 55,
            "bin_start": 54.2,
            "count": 1
           }
          ],
          "max": "55.0",
          "min": "47.0",
          "nan_count": 280,
          "unique_count": 7
         }
        },
        {
         "dtype": "float64",
         "name": "Charged Crit Accuracy, %",
         "stats": {
          "histogram": [
           {
            "bin_end": 10.3,
            "bin_start": 10,
            "count": 3
           },
           {
            "bin_end": 10.6,
            "bin_start": 10.3,
            "count": 0
           },
           {
            "bin_end": 10.9,
            "bin_start": 10.6,
            "count": 0
           },
           {
            "bin_end": 11.2,
            "bin_start": 10.9,
            "count": 2
           },
           {
            "bin_end": 11.5,
            "bin_start": 11.2,
            "count": 0
           },
           {
            "bin_end": 11.8,
            "bin_start": 11.5,
            "count": 0
           },
           {
            "bin_end": 12.1,
            "bin_start": 11.8,
            "count": 2
           },
           {
            "bin_end": 12.4,
            "bin_start": 12.1,
            "count": 0
           },
           {
            "bin_end": 12.7,
            "bin_start": 12.4,
            "count": 0
           },
           {
            "bin_end": 13,
            "bin_start": 12.7,
            "count": 1
           }
          ],
          "max": "13.0",
          "min": "10.0",
          "nan_count": 280,
          "unique_count": 4
         }
        },
        {
         "dtype": "float64",
         "name": "Charged Shot Kills / 10min",
         "stats": {
          "histogram": [
           {
            "bin_end": 7.3,
            "bin_start": 6.88,
            "count": 1
           },
           {
            "bin_end": 7.72,
            "bin_start": 7.3,
            "count": 0
           },
           {
            "bin_end": 8.14,
            "bin_start": 7.72,
            "count": 1
           },
           {
            "bin_end": 8.56,
            "bin_start": 8.14,
            "count": 1
           },
           {
            "bin_end": 8.98,
            "bin_start": 8.56,
            "count": 0
           },
           {
            "bin_end": 9.4,
            "bin_start": 8.98,
            "count": 1
           },
           {
            "bin_end": 9.82,
            "bin_start": 9.4,
            "count": 1
           },
           {
            "bin_end": 10.24,
            "bin_start": 9.82,
            "count": 2
           },
           {
            "bin_end": 10.66,
            "bin_start": 10.24,
            "count": 0
           },
           {
            "bin_end": 11.08,
            "bin_start": 10.66,
            "count": 1
           }
          ],
          "max": "11.08",
          "min": "6.88",
          "nan_count": 280,
          "unique_count": 8
         }
        },
        {
         "dtype": "float64",
         "name": "Disruptor Shot Kills / 10min",
         "stats": {
          "histogram": [
           {
            "bin_end": 4.596,
            "bin_start": 4.54,
            "count": 1
           },
           {
            "bin_end": 4.652,
            "bin_start": 4.596,
            "count": 0
           },
           {
            "bin_end": 4.708,
            "bin_start": 4.652,
            "count": 0
           },
           {
            "bin_end": 4.764,
            "bin_start": 4.708,
            "count": 1
           },
           {
            "bin_end": 4.82,
            "bin_start": 4.764,
            "count": 0
           },
           {
            "bin_end": 4.8759999999999994,
            "bin_start": 4.82,
            "count": 1
           },
           {
            "bin_end": 4.9319999999999995,
            "bin_start": 4.8759999999999994,
            "count": 0
           },
           {
            "bin_end": 4.9879999999999995,
            "bin_start": 4.9319999999999995,
            "count": 1
           },
           {
            "bin_end": 5.044,
            "bin_start": 4.9879999999999995,
            "count": 2
           },
           {
            "bin_end": 5.1,
            "bin_start": 5.044,
            "count": 2
           }
          ],
          "max": "5.1",
          "min": "4.54",
          "nan_count": 280,
          "unique_count": 7
         }
        },
        {
         "dtype": "float64",
         "name": "Overclock Kills / 10min",
         "stats": {
          "histogram": [
           {
            "bin_end": 1.965,
            "bin_start": 1.85,
            "count": 1
           },
           {
            "bin_end": 2.08,
            "bin_start": 1.965,
            "count": 0
           },
           {
            "bin_end": 2.1950000000000003,
            "bin_start": 2.08,
            "count": 1
           },
           {
            "bin_end": 2.31,
            "bin_start": 2.1950000000000003,
            "count": 1
           },
           {
            "bin_end": 2.425,
            "bin_start": 2.31,
            "count": 0
           },
           {
            "bin_end": 2.54,
            "bin_start": 2.425,
            "count": 2
           },
           {
            "bin_end": 2.6550000000000002,
            "bin_start": 2.54,
            "count": 1
           },
           {
            "bin_end": 2.77,
            "bin_start": 2.6550000000000002,
            "count": 1
           },
           {
            "bin_end": 2.885,
            "bin_start": 2.77,
            "count": 0
           },
           {
            "bin_end": 3,
            "bin_start": 2.885,
            "count": 1
           }
          ],
          "max": "3.0",
          "min": "1.85",
          "nan_count": 280,
          "unique_count": 8
         }
        },
        {
         "dtype": "float64",
         "name": "Average Damage Multiplier",
         "stats": {
          "histogram": [
           {
            "bin_end": 1.7309999999999999,
            "bin_start": 1.71,
            "count": 1
           },
           {
            "bin_end": 1.752,
            "bin_start": 1.7309999999999999,
            "count": 0
           },
           {
            "bin_end": 1.773,
            "bin_start": 1.752,
            "count": 0
           },
           {
            "bin_end": 1.794,
            "bin_start": 1.773,
            "count": 1
           },
           {
            "bin_end": 1.815,
            "bin_start": 1.794,
            "count": 0
           },
           {
            "bin_end": 1.8359999999999999,
            "bin_start": 1.815,
            "count": 0
           },
           {
            "bin_end": 1.857,
            "bin_start": 1.8359999999999999,
            "count": 1
           },
           {
            "bin_end": 1.878,
            "bin_start": 1.857,
            "count": 1
           },
           {
            "bin_end": 1.899,
            "bin_start": 1.878,
            "count": 1
           },
           {
            "bin_end": 1.92,
            "bin_start": 1.899,
            "count": 3
           }
          ],
          "max": "1.92",
          "min": "1.71",
          "nan_count": 280,
          "unique_count": 6
         }
        },
        {
         "dtype": "float64",
         "name": "Players Teleported / 10min",
         "stats": {
          "histogram": [
           {
            "bin_end": 13.297999999999998,
            "bin_start": 11.03,
            "count": 2
           },
           {
            "bin_end": 15.565999999999999,
            "bin_start": 13.297999999999998,
            "count": 1
           },
           {
            "bin_end": 17.834,
            "bin_start": 15.565999999999999,
            "count": 0
           },
           {
            "bin_end": 20.101999999999997,
            "bin_start": 17.834,
            "count": 2
           },
           {
            "bin_end": 22.369999999999997,
            "bin_start": 20.101999999999997,
            "count": 1
           },
           {
            "bin_end": 24.637999999999998,
            "bin_start": 22.369999999999997,
            "count": 0
           },
           {
            "bin_end": 26.906,
            "bin_start": 24.637999999999998,
            "count": 1
           },
           {
            "bin_end": 29.174,
            "bin_start": 26.906,
            "count": 0
           },
           {
            "bin_end": 31.442,
            "bin_start": 29.174,
            "count": 0
           },
           {
            "bin_end": 33.71,
            "bin_start": 31.442,
            "count": 1
           }
          ],
          "max": "33.71",
          "min": "11.03",
          "nan_count": 280,
          "unique_count": 8
         }
        },
        {
         "dtype": "float64",
         "name": "Sentry Turret Kills / 10min",
         "stats": {
          "histogram": [
           {
            "bin_end": 8.446,
            "bin_start": 8.25,
            "count": 1
           },
           {
            "bin_end": 8.642,
            "bin_start": 8.446,
            "count": 0
           },
           {
            "bin_end": 8.838000000000001,
            "bin_start": 8.642,
            "count": 1
           },
           {
            "bin_end": 9.034,
            "bin_start": 8.838000000000001,
            "count": 0
           },
           {
            "bin_end": 9.23,
            "bin_start": 9.034,
            "count": 0
           },
           {
            "bin_end": 9.426,
            "bin_start": 9.23,
            "count": 1
           },
           {
            "bin_end": 9.622,
            "bin_start": 9.426,
            "count": 2
           },
           {
            "bin_end": 9.818000000000001,
            "bin_start": 9.622,
            "count": 0
           },
           {
            "bin_end": 10.014000000000001,
            "bin_start": 9.818000000000001,
            "count": 0
           },
           {
            "bin_end": 10.21,
            "bin_start": 10.014000000000001,
            "count": 3
           }
          ],
          "max": "10.21",
          "min": "8.25",
          "nan_count": 280,
          "unique_count": 8
         }
        },
        {
         "dtype": "float64",
         "name": "Hammer Kills / 10min",
         "stats": {
          "histogram": [
           {
            "bin_end": 0.392,
            "bin_start": 0.36,
            "count": 1
           },
           {
            "bin_end": 0.424,
            "bin_start": 0.392,
            "count": 0
           },
           {
            "bin_end": 0.456,
            "bin_start": 0.424,
            "count": 5
           },
           {
            "bin_end": 0.488,
            "bin_start": 0.456,
            "count": 0
           },
           {
            "bin_end": 0.52,
            "bin_start": 0.488,
            "count": 1
           },
           {
            "bin_end": 0.552,
            "bin_start": 0.52,
            "count": 0
           },
           {
            "bin_end": 0.5840000000000001,
            "bin_start": 0.552,
            "count": 0
           },
           {
            "bin_end": 0.6160000000000001,
            "bin_start": 0.5840000000000001,
            "count": 0
           },
           {
            "bin_end": 0.6480000000000001,
            "bin_start": 0.6160000000000001,
            "count": 0
           },
           {
            "bin_end": 0.68,
            "bin_start": 0.6480000000000001,
            "count": 1
           }
          ],
          "max": "0.68",
          "min": "0.36",
          "nan_count": 280,
          "unique_count": 6
         }
        },
        {
         "dtype": "float64",
         "name": "Turret Kills / 10min",
         "stats": {
          "histogram": [
           {
            "bin_end": 7.907,
            "bin_start": 7.73,
            "count": 1
           },
           {
            "bin_end": 8.084,
            "bin_start": 7.907,
            "count": 0
           },
           {
            "bin_end": 8.261000000000001,
            "bin_start": 8.084,
            "count": 0
           },
           {
            "bin_end": 8.438,
            "bin_start": 8.261000000000001,
            "count": 1
           },
           {
            "bin_end": 8.615,
            "bin_start": 8.438,
            "count": 0
           },
           {
            "bin_end": 8.792,
            "bin_start": 8.615,
            "count": 1
           },
           {
            "bin_end": 8.969,
            "bin_start": 8.792,
            "count": 1
           },
           {
            "bin_end": 9.146,
            "bin_start": 8.969,
            "count": 1
           },
           {
            "bin_end": 9.323,
            "bin_start": 9.146,
            "count": 0
           },
           {
            "bin_end": 9.5,
            "bin_start": 9.323,
            "count": 3
           }
          ],
          "max": "9.5",
          "min": "7.73",
          "nan_count": 280,
          "unique_count": 8
         }
        },
        {
         "dtype": "float64",
         "name": "Molten Core Kills / 10min",
         "stats": {
          "histogram": [
           {
            "bin_end": 2.23,
            "bin_start": 2.19,
            "count": 1
           },
           {
            "bin_end": 2.27,
            "bin_start": 2.23,
            "count": 0
           },
           {
            "bin_end": 2.31,
            "bin_start": 2.27,
            "count": 1
           },
           {
            "bin_end": 2.35,
            "bin_start": 2.31,
            "count": 0
           },
           {
            "bin_end": 2.3899999999999997,
            "bin_start": 2.35,
            "count": 0
           },
           {
            "bin_end": 2.4299999999999997,
            "bin_start": 2.3899999999999997,
            "count": 1
           },
           {
            "bin_end": 2.4699999999999998,
            "bin_start": 2.4299999999999997,
            "count": 0
           },
           {
            "bin_end": 2.51,
            "bin_start": 2.4699999999999998,
            "count": 2
           },
           {
            "bin_end": 2.55,
            "bin_start": 2.51,
            "count": 1
           },
           {
            "bin_end": 2.59,
            "bin_start": 2.55,
            "count": 2
           }
          ],
          "max": "2.59",
          "min": "2.19",
          "nan_count": 280,
          "unique_count": 8
         }
        },
        {
         "dtype": "float64",
         "name": "Pummel Accuracy, %",
         "stats": {
          "histogram": [
           {
            "bin_end": 57.3,
            "bin_start": 56,
            "count": 1
           },
           {
            "bin_end": 58.6,
            "bin_start": 57.3,
            "count": 0
           },
           {
            "bin_end": 59.9,
            "bin_start": 58.6,
            "count": 1
           },
           {
            "bin_end": 61.2,
            "bin_start": 59.9,
            "count": 0
           },
           {
            "bin_end": 62.5,
            "bin_start": 61.2,
            "count": 1
           },
           {
            "bin_end": 63.8,
            "bin_start": 62.5,
            "count": 0
           },
           {
            "bin_end": 65.1,
            "bin_start": 63.8,
            "count": 2
           },
           {
            "bin_end": 66.4,
            "bin_start": 65.1,
            "count": 1
           },
           {
            "bin_end": 67.7,
            "bin_start": 66.4,
            "count": 1
           },
           {
            "bin_end": 69,
            "bin_start": 67.7,
            "count": 1
           }
          ],
          "max": "69.0",
          "min": "56.0",
          "nan_count": 280,
          "unique_count": 7
         }
        },
        {
         "dtype": "float64",
         "name": "Pummel Kills / 10min",
         "stats": {
          "histogram": [
           {
            "bin_end": 11.067,
            "bin_start": 10.82,
            "count": 1
           },
           {
            "bin_end": 11.314,
            "bin_start": 11.067,
            "count": 0
           },
           {
            "bin_end": 11.561,
            "bin_start": 11.314,
            "count": 0
           },
           {
            "bin_end": 11.808,
            "bin_start": 11.561,
            "count": 0
           },
           {
            "bin_end": 12.055,
            "bin_start": 11.808,
            "count": 1
           },
           {
            "bin_end": 12.302,
            "bin_start": 12.055,
            "count": 0
           },
           {
            "bin_end": 12.549,
            "bin_start": 12.302,
            "count": 1
           },
           {
            "bin_end": 12.796,
            "bin_start": 12.549,
            "count": 0
           },
           {
            "bin_end": 13.043,
            "bin_start": 12.796,
            "count": 3
           },
           {
            "bin_end": 13.29,
            "bin_start": 13.043,
            "count": 2
           }
          ],
          "max": "13.29",
          "min": "10.82",
          "nan_count": 280,
          "unique_count": 8
         }
        },
        {
         "dtype": "float64",
         "name": "Ravenous Vortex Kills / 10min",
         "stats": {
          "histogram": [
           {
            "bin_end": 5.4639999999999995,
            "bin_start": 5.35,
            "count": 1
           },
           {
            "bin_end": 5.577999999999999,
            "bin_start": 5.4639999999999995,
            "count": 0
           },
           {
            "bin_end": 5.692,
            "bin_start": 5.577999999999999,
            "count": 0
           },
           {
            "bin_end": 5.806,
            "bin_start": 5.692,
            "count": 0
           },
           {
            "bin_end": 5.92,
            "bin_start": 5.806,
            "count": 1
           },
           {
            "bin_end": 6.034,
            "bin_start": 5.92,
            "count": 0
           },
           {
            "bin_end": 6.148,
            "bin_start": 6.034,
            "count": 1
           },
           {
            "bin_end": 6.2620000000000005,
            "bin_start": 6.148,
            "count": 0
           },
           {
            "bin_end": 6.376,
            "bin_start": 6.2620000000000005,
            "count": 2
           },
           {
            "bin_end": 6.49,
            "bin_start": 6.376,
            "count": 3
           }
          ],
          "max": "6.49",
          "min": "5.35",
          "nan_count": 280,
          "unique_count": 8
         }
        },
        {
         "dtype": "float64",
         "name": "Annihilation Kills / 10min",
         "stats": {
          "histogram": [
           {
            "bin_end": 4.685,
            "bin_start": 4.6,
            "count": 1
           },
           {
            "bin_end": 4.77,
            "bin_start": 4.685,
            "count": 1
           },
           {
            "bin_end": 4.8549999999999995,
            "bin_start": 4.77,
            "count": 0
           },
           {
            "bin_end": 4.9399999999999995,
            "bin_start": 4.8549999999999995,
            "count": 0
           },
           {
            "bin_end": 5.025,
            "bin_start": 4.9399999999999995,
            "count": 0
           },
           {
            "bin_end": 5.109999999999999,
            "bin_start": 5.025,
            "count": 1
           },
           {
            "bin_end": 5.195,
            "bin_start": 5.109999999999999,
            "count": 0
           },
           {
            "bin_end": 5.28,
            "bin_start": 5.195,
            "count": 1
           },
           {
            "bin_end": 5.365,
            "bin_start": 5.28,
            "count": 2
           },
           {
            "bin_end": 5.45,
            "bin_start": 5.365,
            "count": 2
           }
          ],
          "max": "5.45",
          "min": "4.6",
          "nan_count": 280,
          "unique_count": 8
         }
        },
        {
         "dtype": "float64",
         "name": "Jagged Blade Accuracy, %",
         "stats": {
          "histogram": [
           {
            "bin_end": 31.2,
            "bin_start": 31,
            "count": 1
           },
           {
            "bin_end": 31.4,
            "bin_start": 31.2,
            "count": 0
           },
           {
            "bin_end": 31.6,
            "bin_start": 31.4,
            "count": 0
           },
           {
            "bin_end": 31.8,
            "bin_start": 31.6,
            "count": 0
           },
           {
            "bin_end": 32,
            "bin_start": 31.8,
            "count": 0
           },
           {
            "bin_end": 32.2,
            "bin_start": 32,
            "count": 2
           },
           {
            "bin_end": 32.4,
            "bin_start": 32.2,
            "count": 0
           },
           {
            "bin_end": 32.6,
            "bin_start": 32.4,
            "count": 0
           },
           {
            "bin_end": 32.8,
            "bin_start": 32.6,
            "count": 0
           },
           {
            "bin_end": 33,
            "bin_start": 32.8,
            "count": 5
           }
          ],
          "max": "33.0",
          "min": "31.0",
          "nan_count": 280,
          "unique_count": 3
         }
        },
        {
         "dtype": "float64",
         "name": "Carnage Kills / 10min",
         "stats": {
          "histogram": [
           {
            "bin_end": 6.4879999999999995,
            "bin_start": 6.35,
            "count": 1
           },
           {
            "bin_end": 6.6259999999999994,
            "bin_start": 6.4879999999999995,
            "count": 0
           },
           {
            "bin_end": 6.764,
            "bin_start": 6.6259999999999994,
            "count": 0
           },
           {
            "bin_end": 6.902,
            "bin_start": 6.764,
            "count": 1
           },
           {
            "bin_end": 7.04,
            "bin_start": 6.902,
            "count": 0
           },
           {
            "bin_end": 7.178,
            "bin_start": 7.04,
            "count": 0
           },
           {
            "bin_end": 7.316,
            "bin_start": 7.178,
            "count": 0
           },
           {
            "bin_end": 7.454000000000001,
            "bin_start": 7.316,
            "count": 2
           },
           {
            "bin_end": 7.5920000000000005,
            "bin_start": 7.454000000000001,
            "count": 1
           },
           {
            "bin_end": 7.73,
            "bin_start": 7.5920000000000005,
            "count": 3
           }
          ],
          "max": "7.73",
          "min": "6.35",
          "nan_count": 280,
          "unique_count": 8
         }
        },
        {
         "dtype": "float64",
         "name": "Wound Uptime, %",
         "stats": {
          "histogram": [
           {
            "bin_end": 17.3,
            "bin_start": 17,
            "count": 1
           },
           {
            "bin_end": 17.6,
            "bin_start": 17.3,
            "count": 0
           },
           {
            "bin_end": 17.9,
            "bin_start": 17.6,
            "count": 0
           },
           {
            "bin_end": 18.2,
            "bin_start": 17.9,
            "count": 1
           },
           {
            "bin_end": 18.5,
            "bin_start": 18.2,
            "count": 0
           },
           {
            "bin_end": 18.8,
            "bin_start": 18.5,
            "count": 0
           },
           {
            "bin_end": 19.1,
            "bin_start": 18.8,
            "count": 4
           },
           {
            "bin_end": 19.4,
            "bin_start": 19.1,
            "count": 0
           },
           {
            "bin_end": 19.7,
            "bin_start": 19.4,
            "count": 0
           },
           {
            "bin_end": 20,
            "bin_start": 19.7,
            "count": 2
           }
          ],
          "max": "20.0",
          "min": "17.0",
          "nan_count": 280,
          "unique_count": 4
         }
        },
        {
         "dtype": "float64",
         "name": "Rampage Kills / 10min",
         "stats": {
          "histogram": [
           {
            "bin_end": 3.1750000000000003,
            "bin_start": 3.08,
            "count": 1
           },
           {
            "bin_end": 3.27,
            "bin_start": 3.1750000000000003,
            "count": 0
           },
           {
            "bin_end": 3.365,
            "bin_start": 3.27,
            "count": 0
           },
           {
            "bin_end": 3.46,
            "bin_start": 3.365,
            "count": 0
           },
           {
            "bin_end": 3.555,
            "bin_start": 3.46,
            "count": 1
           },
           {
            "bin_end": 3.6500000000000004,
            "bin_start": 3.555,
            "count": 0
           },
           {
            "bin_end": 3.745,
            "bin_start": 3.6500000000000004,
            "count": 0
           },
           {
            "bin_end": 3.8400000000000003,
            "bin_start": 3.745,
            "count": 2
           },
           {
            "bin_end": 3.935,
            "bin_start": 3.8400000000000003,
            "count": 2
           },
           {
            "bin_end": 4.03,
            "bin_start": 3.935,
            "count": 2
           }
          ],
          "max": "4.03",
          "min": "3.08",
          "nan_count": 280,
          "unique_count": 7
         }
        },
        {
         "dtype": "float64",
         "name": "Focusing Beam Accuracy, %",
         "stats": {
          "histogram": [
           {
            "bin_end": 34.041000000000004,
            "bin_start": 33.24,
            "count": 1
           },
           {
            "bin_end": 34.842,
            "bin_start": 34.041000000000004,
            "count": 1
           },
           {
            "bin_end": 35.643,
            "bin_start": 34.842,
            "count": 0
           },
           {
            "bin_end": 36.444,
            "bin_start": 35.643,
            "count": 1
           },
           {
            "bin_end": 37.245000000000005,
            "bin_start": 36.444,
            "count": 0
           },
           {
            "bin_end": 38.046,
            "bin_start": 37.245000000000005,
            "count": 1
           },
           {
            "bin_end": 38.847,
            "bin_start": 38.046,
            "count": 1
           },
           {
            "bin_end": 39.648,
            "bin_start": 38.847,
            "count": 1
           },
           {
            "bin_end": 40.449,
            "bin_start": 39.648,
            "count": 1
           },
           {
            "bin_end": 41.25,
            "bin_start": 40.449,
            "count": 1
           }
          ],
          "max": "41.25",
          "min": "33.24",
          "nan_count": 280,
          "unique_count": 8
         }
        },
        {
         "dtype": "float64",
         "name": "Focusing Beam Kills / 10min",
         "stats": {
          "histogram": [
           {
            "bin_end": 6.459,
            "bin_start": 6.26,
            "count": 1
           },
           {
            "bin_end": 6.6579999999999995,
            "bin_start": 6.459,
            "count": 0
           },
           {
            "bin_end": 6.856999999999999,
            "bin_start": 6.6579999999999995,
            "count": 0
           },
           {
            "bin_end": 7.056,
            "bin_start": 6.856999999999999,
            "count": 1
           },
           {
            "bin_end": 7.255,
            "bin_start": 7.056,
            "count": 0
           },
           {
            "bin_end": 7.454,
            "bin_start": 7.255,
            "count": 1
           },
           {
            "bin_end": 7.653,
            "bin_start": 7.454,
            "count": 0
           },
           {
            "bin_end": 7.852,
            "bin_start": 7.653,
            "count": 2
           },
           {
            "bin_end": 8.051,
            "bin_start": 7.852,
            "count": 0
           },
           {
            "bin_end": 8.25,
            "bin_start": 8.051,
            "count": 3
           }
          ],
          "max": "8.25",
          "min": "6.26",
          "nan_count": 280,
          "unique_count": 7
         }
        },
        {
         "dtype": "float64",
         "name": "Sticky Bomb Accuracy, %",
         "stats": {
          "histogram": [
           {
            "bin_end": 23.4,
            "bin_start": 23,
            "count": 1
           },
           {
            "bin_end": 23.8,
            "bin_start": 23.4,
            "count": 0
           },
           {
            "bin_end": 24.2,
            "bin_start": 23.8,
            "count": 1
           },
           {
            "bin_end": 24.6,
            "bin_start": 24.2,
            "count": 0
           },
           {
            "bin_end": 25,
            "bin_start": 24.6,
            "count": 0
           },
           {
            "bin_end": 25.4,
            "bin_start": 25,
            "count": 1
           },
           {
            "bin_end": 25.8,
            "bin_start": 25.4,
            "count": 0
           },
           {
            "bin_end": 26.2,
            "bin_start": 25.8,
            "count": 2
           },
           {
            "bin_end": 26.6,
            "bin_start": 26.2,
            "count": 0
           },
           {
            "bin_end": 27,
            "bin_start": 26.6,
            "count": 3
           }
          ],
          "max": "27.0",
          "min": "23.0",
          "nan_count": 280,
          "unique_count": 5
         }
        },
        {
         "dtype": "float64",
         "name": "Sticky Bomb Kills / 10min",
         "stats": {
          "histogram": [
           {
            "bin_end": 7.553,
            "bin_start": 7.41,
            "count": 1
           },
           {
            "bin_end": 7.696,
            "bin_start": 7.553,
            "count": 0
           },
           {
            "bin_end": 7.839,
            "bin_start": 7.696,
            "count": 0
           },
           {
            "bin_end": 7.982,
            "bin_start": 7.839,
            "count": 0
           },
           {
            "bin_end": 8.125,
            "bin_start": 7.982,
            "count": 1
           },
           {
            "bin_end": 8.268,
            "bin_start": 8.125,
            "count": 0
           },
           {
            "bin_end": 8.411,
            "bin_start": 8.268,
            "count": 1
           },
           {
            "bin_end": 8.554,
            "bin_start": 8.411,
            "count": 0
           },
           {
            "bin_end": 8.697,
            "bin_start": 8.554,
            "count": 2
           },
           {
            "bin_end": 8.84,
            "bin_start": 8.697,
            "count": 3
           }
          ],
          "max": "8.84",
          "min": "7.41",
          "nan_count": 280,
          "unique_count": 8
         }
        },
        {
         "dtype": "float64",
         "name": "Duplicate Kills / 10min",
         "stats": {
          "histogram": [
           {
            "bin_end": 3.046,
            "bin_start": 2.96,
            "count": 1
           },
           {
            "bin_end": 3.132,
            "bin_start": 3.046,
            "count": 0
           },
           {
            "bin_end": 3.218,
            "bin_start": 3.132,
            "count": 1
           },
           {
            "bin_end": 3.304,
            "bin_start": 3.218,
            "count": 0
           },
           {
            "bin_end": 3.3899999999999997,
            "bin_start": 3.304,
            "count": 0
           },
           {
            "bin_end": 3.476,
            "bin_start": 3.3899999999999997,
            "count": 1
           },
           {
            "bin_end": 3.562,
            "bin_start": 3.476,
            "count": 0
           },
           {
            "bin_end": 3.6479999999999997,
            "bin_start": 3.562,
            "count": 2
           },
           {
            "bin_end": 3.734,
            "bin_start": 3.6479999999999997,
            "count": 2
           },
           {
            "bin_end": 3.82,
            "bin_start": 3.734,
            "count": 1
           }
          ],
          "max": "3.82",
          "min": "2.96",
          "nan_count": 280,
          "unique_count": 7
         }
        },
        {
         "dtype": "object",
         "name": "Role",
         "stats": {
          "categories": [
           {
            "count": 136,
            "name": "Damage"
           },
           {
            "count": 88,
            "name": "Tank"
           },
           {
            "count": 64,
            "name": "Support"
           }
          ],
          "nan_count": 0,
          "unique_count": 3
         }
        },
        {
         "dtype": "int64",
         "name": "_deepnote_index_column"
        }
       ],
       "row_count": 288,
       "rows": [
        {
         "Accretion Kills / 10min": "nan",
         "Airtime, %": "nan",
         "Ally Coalescence Efficiency, %": "nan",
         "Amp Matrix Assists / 10min": "nan",
         "Annihilation Kills / 10min": "nan",
         "Artillery Kills / 10min": "nan",
         "Assault Kills / 10min": "nan",
         "Average Damage Multiplier": "nan",
         "Average Energy, %": "nan",
         "Barrage Kills / 10min": "nan",
         "Biotic Grenade Kills / 10min": 4.73,
         "Biotic Orb Kills / 10min": "nan",
         "Blaster Kills / 10min": "nan",
         "Blizzard Kills / 10min": "nan",
         "Bob Kills / 10min": "nan",
         "Call Mech Kills / 10min": "nan",
         "Carnage Kills / 10min": "nan",
         "Chain Hook Accuracy, %": "nan",
         "Chain Hook Kills / 10min": "nan",
         "Charge Kills / 10min": "nan",
         "Charged Crit Accuracy, %": "nan",
         "Charged Shot Accuracy, %": "nan",
         "Charged Shot Kills / 10min": "nan",
         "Charged Volley Accuracy, %": "nan",
         "Charged Volley Kills / 10min": "nan",
         "Coach Gun Kills / 10min": "nan",
         "Coalescence Kills / 10min": "nan",
         "Concussion Mine Kills / 10min": "nan",
         "Crit Accuracy, %": "nan",
         "Damage / 10min": 2676,
         "Damage Amplified / 10min": "nan",
         "Damage Reflected / 10min": "nan",
         "Deadeye Kills / 10min": "nan",
         "Death Blossom Kills / 10min": "nan",
         "Deaths / 10min": 5.85,
         "Deaths Prevented / 10min": "nan",
         "Direct Hits": "nan",
         "Disruptor Shot Kills / 10min": "nan",
         "Dragonblade Kills / 10min": "nan",
         "Dragonstrike Kills / 10min": "nan",
         "Duplicate Kills / 10min": "nan",
         "Dynamite Kills / 10min": "nan",
         "EMP Kills / 10min": "nan",
         "Earthshatter Kills / 10min": "nan",
         "Effects Cleansed / 10min": "nan",
         "Eliminations / 10min": 9.46,
         "Enemies Frozen / 10min": "nan",
         "Enemies Hacked / 10min": "nan",
         "Enemies Slept / 10min": 5.3,
         "Enemies Trapped / 10min": "nan",
         "Enemy Coalescence Efficiency, %": "nan",
         "Energy Javelin Kills / 10min": "nan",
         "Final Blows / 10min": "nan",
         "Fire Strike Kills / 10min": "nan",
         "Focusing Beam Accuracy, %": "nan",
         "Focusing Beam Kills / 10min": "nan",
         "Grappling Claw Kills / 10min": "nan",
         "Gravitic Flux Kills / 10min": "nan",
         "Graviton Surge Kills / 10min": "nan",
         "Hammer Kills / 10min": "nan",
         "Healing / 10min": 8686,
         "Healing Accuracy": "nan",
         "Healing Amplified / 10min": 405.71,
         "Helix Rocket Accuracy, %": "nan",
         "Helix Rocket Kills / 10min": "nan",
         "Hero": "Ana",
         "High Energy Kills / 10min": "nan",
         "Icicle Accuracy, % / 10min": "nan",
         "Icicle Crit Accuracy, % / 10min": "nan",
         "Inspire Uptime": "nan",
         "Jagged Blade Accuracy, %": "nan",
         "Javelin Spin Kills / 10min": "nan",
         "Jump Pack Kills / 10min": "nan",
         "KDA Ratio": 4.49,
         "Kitsune Rush Assists / 10min": "nan",
         "Knockbacks / 10min": "nan",
         "Kunai Kills / 10min": "nan",
         "Long Range Kills / 10min": "nan",
         "Low Health Recalls / 10min": "nan",
         "Low Health Teleports / 10min": "nan",
         "Magnetic Grenade Attaches": "nan",
         "Magnetic Grenade Kills / 10min": "nan",
         "Meteor Strike Kills / 10min": "nan",
         "Micro Missile Kills, % / 10min": "nan",
         "Molten Core Kills / 10min": "nan",
         "Nano Boost Assists / 10min": 3.05,
         "Objective Contest Time / 10min": "nan",
         "Objective Kills / 10min": 4.05,
         "Objective Time / 10min": 63,
         "Overclock Kills / 10min": "nan",
         "Overhealth / 10min": "nan",
         "Pick Rate, %": 10.18,
         "Piledriver Kills / 10min": "nan",
         "Players Resurrected / 10min": "nan",
         "Players Teleported / 10min": "nan",
         "Primal Rage Kills / 10min": "nan",
         "Primary Accuracy, %": "nan",
         "Pulse Bomb Kills / 10min": "nan",
         "Pulse Bombs Stuck / 10min": "nan",
         "Pummel Accuracy, %": "nan",
         "Pummel Kills / 10min": "nan",
         "Rampage Kills / 10min": "nan",
         "Ravenous Vortex Kills / 10min": "nan",
         "Recon Assists / 10min": "nan",
         "Recon Kills / 10min": "nan",
         "Rocket Punch Kills / 10min": "nan",
         "Role": "Support",
         "Scoped Accuracy, %": 57,
         "Secondary Accuracy, %": "nan",
         "Seismic Slam Kills / 10min": "nan",
         "Self Healing / 10min": "nan",
         "Self-Destruct Kills / 10min": "nan",
         "Sentry Turret Kills / 10min": "nan",
         "Skill Tier": "All",
         "Solo Kills / 10min": "nan",
         "Sound Barriers / 10min": "nan",
         "Sticky Bomb Accuracy, %": "nan",
         "Sticky Bomb Kills / 10min": "nan",
         "Storm Arrow Kills / 10min": "nan",
         "Swift Strike Resets / 10min": "nan",
         "Tactical Grenade Kills / 10min": "nan",
         "Tactical Visor Kills / 10min": "nan",
         "Terra Surge Kills / 10min": "nan",
         "Transcendence Healing / 10min": "nan",
         "Turret Kills / 10min": "nan",
         "Ultimates Reflected / 10min": "nan",
         "Venom Mine Kills / 10min": "nan",
         "Weapon Accuracy, %": "nan",
         "Whole Hog Kills / 10min": "nan",
         "Win Rate, %": 50.99,
         "Wound Uptime, %": "nan",
         "_deepnote_index_column": 0
        },
        {
         "Accretion Kills / 10min": "nan",
         "Airtime, %": "nan",
         "Ally Coalescence Efficiency, %": "nan",
         "Amp Matrix Assists / 10min": "nan",
         "Annihilation Kills / 10min": "nan",
         "Artillery Kills / 10min": "nan",
         "Assault Kills / 10min": "nan",
         "Average Damage Multiplier": "nan",
         "Average Energy, %": "nan",
         "Barrage Kills / 10min": "nan",
         "Biotic Grenade Kills / 10min": 3.99,
         "Biotic Orb Kills / 10min": "nan",
         "Blaster Kills / 10min": "nan",
         "Blizzard Kills / 10min": "nan",
         "Bob Kills / 10min": "nan",
         "Call Mech Kills / 10min": "nan",
         "Carnage Kills / 10min": "nan",
         "Chain Hook Accuracy, %": "nan",
         "Chain Hook Kills / 10min": "nan",
         "Charge Kills / 10min": "nan",
         "Charged Crit Accuracy, %": "nan",
         "Charged Shot Accuracy, %": "nan",
         "Charged Shot Kills / 10min": "nan",
         "Charged Volley Accuracy, %": "nan",
         "Charged Volley Kills / 10min": "nan",
         "Coach Gun Kills / 10min": "nan",
         "Coalescence Kills / 10min": "nan",
         "Concussion Mine Kills / 10min": "nan",
         "Crit Accuracy, %": "nan",
         "Damage / 10min": 2508,
         "Damage Amplified / 10min": "nan",
         "Damage Reflected / 10min": "nan",
         "Deadeye Kills / 10min": "nan",
         "Death Blossom Kills / 10min": "nan",
         "Deaths / 10min": 6.47,
         "Deaths Prevented / 10min": "nan",
         "Direct Hits": "nan",
         "Disruptor Shot Kills / 10min": "nan",
         "Dragonblade Kills / 10min": "nan",
         "Dragonstrike Kills / 10min": "nan",
         "Duplicate Kills / 10min": "nan",
         "Dynamite Kills / 10min": "nan",
         "EMP Kills / 10min": "nan",
         "Earthshatter Kills / 10min": "nan",
         "Effects Cleansed / 10min": "nan",
         "Eliminations / 10min": 8.37,
         "Enemies Frozen / 10min": "nan",
         "Enemies Hacked / 10min": "nan",
         "Enemies Slept / 10min": 4.65,
         "Enemies Trapped / 10min": "nan",
         "Enemy Coalescence Efficiency, %": "nan",
         "Energy Javelin Kills / 10min": "nan",
         "Final Blows / 10min": "nan",
         "Fire Strike Kills / 10min": "nan",
         "Focusing Beam Accuracy, %": "nan",
         "Focusing Beam Kills / 10min": "nan",
         "Grappling Claw Kills / 10min": "nan",
         "Gravitic Flux Kills / 10min": "nan",
         "Graviton Surge Kills / 10min": "nan",
         "Hammer Kills / 10min": "nan",
         "Healing / 10min": 7483,
         "Healing Accuracy": "nan",
         "Healing Amplified / 10min": 360.83,
         "Helix Rocket Accuracy, %": "nan",
         "Helix Rocket Kills / 10min": "nan",
         "Hero": "Ana",
         "High Energy Kills / 10min": "nan",
         "Icicle Accuracy, % / 10min": "nan",
         "Icicle Crit Accuracy, % / 10min": "nan",
         "Inspire Uptime": "nan",
         "Jagged Blade Accuracy, %": "nan",
         "Javelin Spin Kills / 10min": "nan",
         "Jump Pack Kills / 10min": "nan",
         "KDA Ratio": 3.87,
         "Kitsune Rush Assists / 10min": "nan",
         "Knockbacks / 10min": "nan",
         "Kunai Kills / 10min": "nan",
         "Long Range Kills / 10min": "nan",
         "Low Health Recalls / 10min": "nan",
         "Low Health Teleports / 10min": "nan",
         "Magnetic Grenade Attaches": "nan",
         "Magnetic Grenade Kills / 10min": "nan",
         "Meteor Strike Kills / 10min": "nan",
         "Micro Missile Kills, % / 10min": "nan",
         "Molten Core Kills / 10min": "nan",
         "Nano Boost Assists / 10min": 2.5,
         "Objective Contest Time / 10min": "nan",
         "Objective Kills / 10min": 3.8,
         "Objective Time / 10min": 61,
         "Overclock Kills / 10min": "nan",
         "Overhealth / 10min": "nan",
         "Pick Rate, %": 3.71,
         "Piledriver Kills / 10min": "nan",
         "Players Resurrected / 10min": "nan",
         "Players Teleported / 10min": "nan",
         "Primal Rage Kills / 10min": "nan",
         "Primary Accuracy, %": "nan",
         "Pulse Bomb Kills / 10min": "nan",
         "Pulse Bombs Stuck / 10min": "nan",
         "Pummel Accuracy, %": "nan",
         "Pummel Kills / 10min": "nan",
         "Rampage Kills / 10min": "nan",
         "Ravenous Vortex Kills / 10min": "nan",
         "Recon Assists / 10min": "nan",
         "Recon Kills / 10min": "nan",
         "Rocket Punch Kills / 10min": "nan",
         "Role": "Support",
         "Scoped Accuracy, %": 52,
         "Secondary Accuracy, %": "nan",
         "Seismic Slam Kills / 10min": "nan",
         "Self Healing / 10min": "nan",
         "Self-Destruct Kills / 10min": "nan",
         "Sentry Turret Kills / 10min": "nan",
         "Skill Tier": "Bronze",
         "Solo Kills / 10min": "nan",
         "Sound Barriers / 10min": "nan",
         "Sticky Bomb Accuracy, %": "nan",
         "Sticky Bomb Kills / 10min": "nan",
         "Storm Arrow Kills / 10min": "nan",
         "Swift Strike Resets / 10min": "nan",
         "Tactical Grenade Kills / 10min": "nan",
         "Tactical Visor Kills / 10min": "nan",
         "Terra Surge Kills / 10min": "nan",
         "Transcendence Healing / 10min": "nan",
         "Turret Kills / 10min": "nan",
         "Ultimates Reflected / 10min": "nan",
         "Venom Mine Kills / 10min": "nan",
         "Weapon Accuracy, %": "nan",
         "Whole Hog Kills / 10min": "nan",
         "Win Rate, %": 43.97,
         "Wound Uptime, %": "nan",
         "_deepnote_index_column": 1
        },
        {
         "Accretion Kills / 10min": "nan",
         "Airtime, %": "nan",
         "Ally Coalescence Efficiency, %": "nan",
         "Amp Matrix Assists / 10min": "nan",
         "Annihilation Kills / 10min": "nan",
         "Artillery Kills / 10min": "nan",
         "Assault Kills / 10min": "nan",
         "Average Damage Multiplier": "nan",
         "Average Energy, %": "nan",
         "Barrage Kills / 10min": "nan",
         "Biotic Grenade Kills / 10min": 4.34,
         "Biotic Orb Kills / 10min": "nan",
         "Blaster Kills / 10min": "nan",
         "Blizzard Kills / 10min": "nan",
         "Bob Kills / 10min": "nan",
         "Call Mech Kills / 10min": "nan",
         "Carnage Kills / 10min": "nan",
         "Chain Hook Accuracy, %": "nan",
         "Chain Hook Kills / 10min": "nan",
         "Charge Kills / 10min": "nan",
         "Charged Crit Accuracy, %": "nan",
         "Charged Shot Accuracy, %": "nan",
         "Charged Shot Kills / 10min": "nan",
         "Charged Volley Accuracy, %": "nan",
         "Charged Volley Kills / 10min": "nan",
         "Coach Gun Kills / 10min": "nan",
         "Coalescence Kills / 10min": "nan",
         "Concussion Mine Kills / 10min": "nan",
         "Crit Accuracy, %": "nan",
         "Damage / 10min": 2573,
         "Damage Amplified / 10min": "nan",
         "Damage Reflected / 10min": "nan",
         "Deadeye Kills / 10min": "nan",
         "Death Blossom Kills / 10min": "nan",
         "Deaths / 10min": 6.36,
         "Deaths Prevented / 10min": "nan",
         "Direct Hits": "nan",
         "Disruptor Shot Kills / 10min": "nan",
         "Dragonblade Kills / 10min": "nan",
         "Dragonstrike Kills / 10min": "nan",
         "Duplicate Kills / 10min": "nan",
         "Dynamite Kills / 10min": "nan",
         "EMP Kills / 10min": "nan",
         "Earthshatter Kills / 10min": "nan",
         "Effects Cleansed / 10min": "nan",
         "Eliminations / 10min": 8.88,
         "Enemies Frozen / 10min": "nan",
         "Enemies Hacked / 10min": "nan",
         "Enemies Slept / 10min": 4.96,
         "Enemies Trapped / 10min": "nan",
         "Enemy Coalescence Efficiency, %": "nan",
         "Energy Javelin Kills / 10min": "nan",
         "Final Blows / 10min": "nan",
         "Fire Strike Kills / 10min": "nan",
         "Focusing Beam Accuracy, %": "nan",
         "Focusing Beam Kills / 10min": "nan",
         "Grappling Claw Kills / 10min": "nan",
         "Gravitic Flux Kills / 10min": "nan",
         "Graviton Surge Kills / 10min": "nan",
         "Hammer Kills / 10min": "nan",
         "Healing / 10min": 7875,
         "Healing Accuracy": "nan",
         "Healing Amplified / 10min": 387.62,
         "Helix Rocket Accuracy, %": "nan",
         "Helix Rocket Kills / 10min": "nan",
         "Hero": "Ana",
         "High Energy Kills / 10min": "nan",
         "Icicle Accuracy, % / 10min": "nan",
         "Icicle Crit Accuracy, % / 10min": "nan",
         "Inspire Uptime": "nan",
         "Jagged Blade Accuracy, %": "nan",
         "Javelin Spin Kills / 10min": "nan",
         "Jump Pack Kills / 10min": "nan",
         "KDA Ratio": 4.01,
         "Kitsune Rush Assists / 10min": "nan",
         "Knockbacks / 10min": "nan",
         "Kunai Kills / 10min": "nan",
         "Long Range Kills / 10min": "nan",
         "Low Health Recalls / 10min": "nan",
         "Low Health Teleports / 10min": "nan",
         "Magnetic Grenade Attaches": "nan",
         "Magnetic Grenade Kills / 10min": "nan",
         "Meteor Strike Kills / 10min": "nan",
         "Micro Missile Kills, % / 10min": "nan",
         "Molten Core Kills / 10min": "nan",
         "Nano Boost Assists / 10min": 2.74,
         "Objective Contest Time / 10min": "nan",
         "Objective Kills / 10min": 4.08,
         "Objective Time / 10min": 64,
         "Overclock Kills / 10min": "nan",
         "Overhealth / 10min": "nan",
         "Pick Rate, %": 3.78,
         "Piledriver Kills / 10min": "nan",
         "Players Resurrected / 10min": "nan",
         "Players Teleported / 10min": "nan",
         "Primal Rage Kills / 10min": "nan",
         "Primary Accuracy, %": "nan",
         "Pulse Bomb Kills / 10min": "nan",
         "Pulse Bombs Stuck / 10min": "nan",
         "Pummel Accuracy, %": "nan",
         "Pummel Kills / 10min": "nan",
         "Rampage Kills / 10min": "nan",
         "Ravenous Vortex Kills / 10min": "nan",
         "Recon Assists / 10min": "nan",
         "Recon Kills / 10min": "nan",
         "Rocket Punch Kills / 10min": "nan",
         "Role": "Support",
         "Scoped Accuracy, %": 53,
         "Secondary Accuracy, %": "nan",
         "Seismic Slam Kills / 10min": "nan",
         "Self Healing / 10min": "nan",
         "Self-Destruct Kills / 10min": "nan",
         "Sentry Turret Kills / 10min": "nan",
         "Skill Tier": "Silver",
         "Solo Kills / 10min": "nan",
         "Sound Barriers / 10min": "nan",
         "Sticky Bomb Accuracy, %": "nan",
         "Sticky Bomb Kills / 10min": "nan",
         "Storm Arrow Kills / 10min": "nan",
         "Swift Strike Resets / 10min": "nan",
         "Tactical Grenade Kills / 10min": "nan",
         "Tactical Visor Kills / 10min": "nan",
         "Terra Surge Kills / 10min": "nan",
         "Transcendence Healing / 10min": "nan",
         "Turret Kills / 10min": "nan",
         "Ultimates Reflected / 10min": "nan",
         "Venom Mine Kills / 10min": "nan",
         "Weapon Accuracy, %": "nan",
         "Whole Hog Kills / 10min": "nan",
         "Win Rate, %": 46.68,
         "Wound Uptime, %": "nan",
         "_deepnote_index_column": 2
        },
        {
         "Accretion Kills / 10min": "nan",
         "Airtime, %": "nan",
         "Ally Coalescence Efficiency, %": "nan",
         "Amp Matrix Assists / 10min": "nan",
         "Annihilation Kills / 10min": "nan",
         "Artillery Kills / 10min": "nan",
         "Assault Kills / 10min": "nan",
         "Average Damage Multiplier": "nan",
         "Average Energy, %": "nan",
         "Barrage Kills / 10min": "nan",
         "Biotic Grenade Kills / 10min": 4.56,
         "Biotic Orb Kills / 10min": "nan",
         "Blaster Kills / 10min": "nan",
         "Blizzard Kills / 10min": "nan",
         "Bob Kills / 10min": "nan",
         "Call Mech Kills / 10min": "nan",
         "Carnage Kills / 10min": "nan",
         "Chain Hook Accuracy, %": "nan",
         "Chain Hook Kills / 10min": "nan",
         "Charge Kills / 10min": "nan",
         "Charged Crit Accuracy, %": "nan",
         "Charged Shot Accuracy, %": "nan",
         "Charged Shot Kills / 10min": "nan",
         "Charged Volley Accuracy, %": "nan",
         "Charged Volley Kills / 10min": "nan",
         "Coach Gun Kills / 10min": "nan",
         "Coalescence Kills / 10min": "nan",
         "Concussion Mine Kills / 10min": "nan",
         "Crit Accuracy, %": "nan",
         "Damage / 10min": 2610,
         "Damage Amplified / 10min": "nan",
         "Damage Reflected / 10min": "nan",
         "Deadeye Kills / 10min": "nan",
         "Death Blossom Kills / 10min": "nan",
         "Deaths / 10min": 6.13,
         "Deaths Prevented / 10min": "nan",
         "Direct Hits": "nan",
         "Disruptor Shot Kills / 10min": "nan",
         "Dragonblade Kills / 10min": "nan",
         "Dragonstrike Kills / 10min": "nan",
         "Duplicate Kills / 10min": "nan",
         "Dynamite Kills / 10min": "nan",
         "EMP Kills / 10min": "nan",
         "Earthshatter Kills / 10min": "nan",
         "Effects Cleansed / 10min": "nan",
         "Eliminations / 10min": 9.21,
         "Enemies Frozen / 10min": "nan",
         "Enemies Hacked / 10min": "nan",
         "Enemies Slept / 10min": 5.13,
         "Enemies Trapped / 10min": "nan",
         "Enemy Coalescence Efficiency, %": "nan",
         "Energy Javelin Kills / 10min": "nan",
         "Final Blows / 10min": "nan",
         "Fire Strike Kills / 10min": "nan",
         "Focusing Beam Accuracy, %": "nan",
         "Focusing Beam Kills / 10min": "nan",
         "Grappling Claw Kills / 10min": "nan",
         "Gravitic Flux Kills / 10min": "nan",
         "Graviton Surge Kills / 10min": "nan",
         "Hammer Kills / 10min": "nan",
         "Healing / 10min": 8251,
         "Healing Accuracy": "nan",
         "Healing Amplified / 10min": 396.94,
         "Helix Rocket Accuracy, %": "nan",
         "Helix Rocket Kills / 10min": "nan",
         "Hero": "Ana",
         "High Energy Kills / 10min": "nan",
         "Icicle Accuracy, % / 10min": "nan",
         "Icicle Crit Accuracy, % / 10min": "nan",
         "Inspire Uptime": "nan",
         "Jagged Blade Accuracy, %": "nan",
         "Javelin Spin Kills / 10min": "nan",
         "Jump Pack Kills / 10min": "nan",
         "KDA Ratio": 4.36,
         "Kitsune Rush Assists / 10min": "nan",
         "Knockbacks / 10min": "nan",
         "Kunai Kills / 10min": "nan",
         "Long Range Kills / 10min": "nan",
         "Low Health Recalls / 10min": "nan",
         "Low Health Teleports / 10min": "nan",
         "Magnetic Grenade Attaches": "nan",
         "Magnetic Grenade Kills / 10min": "nan",
         "Meteor Strike Kills / 10min": "nan",
         "Micro Missile Kills, % / 10min": "nan",
         "Molten Core Kills / 10min": "nan",
         "Nano Boost Assists / 10min": 2.91,
         "Objective Contest Time / 10min": "nan",
         "Objective Kills / 10min": 4.14,
         "Objective Time / 10min": 65,
         "Overclock Kills / 10min": "nan",
         "Overhealth / 10min": "nan",
         "Pick Rate, %": 5.46,
         "Piledriver Kills / 10min": "nan",
         "Players Resurrected / 10min": "nan",
         "Players Teleported / 10min": "nan",
         "Primal Rage Kills / 10min": "nan",
         "Primary Accuracy, %": "nan",
         "Pulse Bomb Kills / 10min": "nan",
         "Pulse Bombs Stuck / 10min": "nan",
         "Pummel Accuracy, %": "nan",
         "Pummel Kills / 10min": "nan",
         "Rampage Kills / 10min": "nan",
         "Ravenous Vortex Kills / 10min": "nan",
         "Recon Assists / 10min": "nan",
         "Recon Kills / 10min": "nan",
         "Rocket Punch Kills / 10min": "nan",
         "Role": "Support",
         "Scoped Accuracy, %": 55,
         "Secondary Accuracy, %": "nan",
         "Seismic Slam Kills / 10min": "nan",
         "Self Healing / 10min": "nan",
         "Self-Destruct Kills / 10min": "nan",
         "Sentry Turret Kills / 10min": "nan",
         "Skill Tier": "Gold",
         "Solo Kills / 10min": "nan",
         "Sound Barriers / 10min": "nan",
         "Sticky Bomb Accuracy, %": "nan",
         "Sticky Bomb Kills / 10min": "nan",
         "Storm Arrow Kills / 10min": "nan",
         "Swift Strike Resets / 10min": "nan",
         "Tactical Grenade Kills / 10min": "nan",
         "Tactical Visor Kills / 10min": "nan",
         "Terra Surge Kills / 10min": "nan",
         "Transcendence Healing / 10min": "nan",
         "Turret Kills / 10min": "nan",
         "Ultimates Reflected / 10min": "nan",
         "Venom Mine Kills / 10min": "nan",
         "Weapon Accuracy, %": "nan",
         "Whole Hog Kills / 10min": "nan",
         "Win Rate, %": 48.9,
         "Wound Uptime, %": "nan",
         "_deepnote_index_column": 3
        },
        {
         "Accretion Kills / 10min": "nan",
         "Airtime, %": "nan",
         "Ally Coalescence Efficiency, %": "nan",
         "Amp Matrix Assists / 10min": "nan",
         "Annihilation Kills / 10min": "nan",
         "Artillery Kills / 10min": "nan",
         "Assault Kills / 10min": "nan",
         "Average Damage Multiplier": "nan",
         "Average Energy, %": "nan",
         "Barrage Kills / 10min": "nan",
         "Biotic Grenade Kills / 10min": 4.79,
         "Biotic Orb Kills / 10min": "nan",
         "Blaster Kills / 10min": "nan",
         "Blizzard Kills / 10min": "nan",
         "Bob Kills / 10min": "nan",
         "Call Mech Kills / 10min": "nan",
         "Carnage Kills / 10min": "nan",
         "Chain Hook Accuracy, %": "nan",
         "Chain Hook Kills / 10min": "nan",
         "Charge Kills / 10min": "nan",
         "Charged Crit Accuracy, %": "nan",
         "Charged Shot Accuracy, %": "nan",
         "Charged Shot Kills / 10min": "nan",
         "Charged Volley Accuracy, %": "nan",
         "Charged Volley Kills / 10min": "nan",
         "Coach Gun Kills / 10min": "nan",
         "Coalescence Kills / 10min": "nan",
         "Concussion Mine Kills / 10min": "nan",
         "Crit Accuracy, %": "nan",
         "Damage / 10min": 2661,
         "Damage Amplified / 10min": "nan",
         "Damage Reflected / 10min": "nan",
         "Deadeye Kills / 10min": "nan",
         "Death Blossom Kills / 10min": "nan",
         "Deaths / 10min": 5.89,
         "Deaths Prevented / 10min": "nan",
         "Direct Hits": "nan",
         "Disruptor Shot Kills / 10min": "nan",
         "Dragonblade Kills / 10min": "nan",
         "Dragonstrike Kills / 10min": "nan",
         "Duplicate Kills / 10min": "nan",
         "Dynamite Kills / 10min": "nan",
         "EMP Kills / 10min": "nan",
         "Earthshatter Kills / 10min": "nan",
         "Effects Cleansed / 10min": "nan",
         "Eliminations / 10min": 9.53,
         "Enemies Frozen / 10min": "nan",
         "Enemies Hacked / 10min": "nan",
         "Enemies Slept / 10min": 5.31,
         "Enemies Trapped / 10min": "nan",
         "Enemy Coalescence Efficiency, %": "nan",
         "Energy Javelin Kills / 10min": "nan",
         "Final Blows / 10min": "nan",
         "Fire Strike Kills / 10min": "nan",
         "Focusing Beam Accuracy, %": "nan",
         "Focusing Beam Kills / 10min": "nan",
         "Grappling Claw Kills / 10min": "nan",
         "Gravitic Flux Kills / 10min": "nan",
         "Graviton Surge Kills / 10min": "nan",
         "Hammer Kills / 10min": "nan",
         "Healing / 10min": 8650,
         "Healing Accuracy": "nan",
         "Healing Amplified / 10min": 409.83,
         "Helix Rocket Accuracy, %": "nan",
         "Helix Rocket Kills / 10min": "nan",
         "Hero": "Ana",
         "High Energy Kills / 10min": "nan",
         "Icicle Accuracy, % / 10min": "nan",
         "Icicle Crit Accuracy, % / 10min": "nan",
         "Inspire Uptime": "nan",
         "Jagged Blade Accuracy, %": "nan",
         "Javelin Spin Kills / 10min": "nan",
         "Jump Pack Kills / 10min": "nan",
         "KDA Ratio": 4.56,
         "Kitsune Rush Assists / 10min": "nan",
         "Knockbacks / 10min": "nan",
         "Kunai Kills / 10min": "nan",
         "Long Range Kills / 10min": "nan",
         "Low Health Recalls / 10min": "nan",
         "Low Health Teleports / 10min": "nan",
         "Magnetic Grenade Attaches": "nan",
         "Magnetic Grenade Kills / 10min": "nan",
         "Meteor Strike Kills / 10min": "nan",
         "Micro Missile Kills, % / 10min": "nan",
         "Molten Core Kills / 10min": "nan",
         "Nano Boost Assists / 10min": 3.05,
         "Objective Contest Time / 10min": "nan",
         "Objective Kills / 10min": 4.18,
         "Objective Time / 10min": 65,
         "Overclock Kills / 10min": "nan",
         "Overhealth / 10min": "nan",
         "Pick Rate, %": 9.33,
         "Piledriver Kills / 10min": "nan",
         "Players Resurrected / 10min": "nan",
         "Players Teleported / 10min": "nan",
         "Primal Rage Kills / 10min": "nan",
         "Primary Accuracy, %": "nan",
         "Pulse Bomb Kills / 10min": "nan",
         "Pulse Bombs Stuck / 10min": "nan",
         "Pummel Accuracy, %": "nan",
         "Pummel Kills / 10min": "nan",
         "Rampage Kills / 10min": "nan",
         "Ravenous Vortex Kills / 10min": "nan",
         "Recon Assists / 10min": "nan",
         "Recon Kills / 10min": "nan",
         "Rocket Punch Kills / 10min": "nan",
         "Role": "Support",
         "Scoped Accuracy, %": 57,
         "Secondary Accuracy, %": "nan",
         "Seismic Slam Kills / 10min": "nan",
         "Self Healing / 10min": "nan",
         "Self-Destruct Kills / 10min": "nan",
         "Sentry Turret Kills / 10min": "nan",
         "Skill Tier": "Platinum",
         "Solo Kills / 10min": "nan",
         "Sound Barriers / 10min": "nan",
         "Sticky Bomb Accuracy, %": "nan",
         "Sticky Bomb Kills / 10min": "nan",
         "Storm Arrow Kills / 10min": "nan",
         "Swift Strike Resets / 10min": "nan",
         "Tactical Grenade Kills / 10min": "nan",
         "Tactical Visor Kills / 10min": "nan",
         "Terra Surge Kills / 10min": "nan",
         "Transcendence Healing / 10min": "nan",
         "Turret Kills / 10min": "nan",
         "Ultimates Reflected / 10min": "nan",
         "Venom Mine Kills / 10min": "nan",
         "Weapon Accuracy, %": "nan",
         "Whole Hog Kills / 10min": "nan",
         "Win Rate, %": 50.45,
         "Wound Uptime, %": "nan",
         "_deepnote_index_column": 4
        },
        {
         "Accretion Kills / 10min": "nan",
         "Airtime, %": "nan",
         "Ally Coalescence Efficiency, %": "nan",
         "Amp Matrix Assists / 10min": "nan",
         "Annihilation Kills / 10min": "nan",
         "Artillery Kills / 10min": "nan",
         "Assault Kills / 10min": "nan",
         "Average Damage Multiplier": "nan",
         "Average Energy, %": "nan",
         "Barrage Kills / 10min": "nan",
         "Biotic Grenade Kills / 10min": 4.89,
         "Biotic Orb Kills / 10min": "nan",
         "Blaster Kills / 10min": "nan",
         "Blizzard Kills / 10min": "nan",
         "Bob Kills / 10min": "nan",
         "Call Mech Kills / 10min": "nan",
         "Carnage Kills / 10min": "nan",
         "Chain Hook Accuracy, %": "nan",
         "Chain Hook Kills / 10min": "nan",
         "Charge Kills / 10min": "nan",
         "Charged Crit Accuracy, %": "nan",
         "Charged Shot Accuracy, %": "nan",
         "Charged Shot Kills / 10min": "nan",
         "Charged Volley Accuracy, %": "nan",
         "Charged Volley Kills / 10min": "nan",
         "Coach Gun Kills / 10min": "nan",
         "Coalescence Kills / 10min": "nan",
         "Concussion Mine Kills / 10min": "nan",
         "Crit Accuracy, %": "nan",
         "Damage / 10min": 2709,
         "Damage Amplified / 10min": "nan",
         "Damage Reflected / 10min": "nan",
         "Deadeye Kills / 10min": "nan",
         "Death Blossom Kills / 10min": "nan",
         "Deaths / 10min": 5.74,
         "Deaths Prevented / 10min": "nan",
         "Direct Hits": "nan",
         "Disruptor Shot Kills / 10min": "nan",
         "Dragonblade Kills / 10min": "nan",
         "Dragonstrike Kills / 10min": "nan",
         "Duplicate Kills / 10min": "nan",
         "Dynamite Kills / 10min": "nan",
         "EMP Kills / 10min": "nan",
         "Earthshatter Kills / 10min": "nan",
         "Effects Cleansed / 10min": "nan",
         "Eliminations / 10min": 9.7,
         "Enemies Frozen / 10min": "nan",
         "Enemies Hacked / 10min": "nan",
         "Enemies Slept / 10min": 5.44,
         "Enemies Trapped / 10min": "nan",
         "Enemy Coalescence Efficiency, %": "nan",
         "Energy Javelin Kills / 10min": "nan",
         "Final Blows / 10min": "nan",
         "Fire Strike Kills / 10min": "nan",
         "Focusing Beam Accuracy, %": "nan",
         "Focusing Beam Kills / 10min": "nan",
         "Grappling Claw Kills / 10min": "nan",
         "Gravitic Flux Kills / 10min": "nan",
         "Graviton Surge Kills / 10min": "nan",
         "Hammer Kills / 10min": "nan",
         "Healing / 10min": 8920,
         "Healing Accuracy": "nan",
         "Healing Amplified / 10min": 415.41,
         "Helix Rocket Accuracy, %": "nan",
         "Helix Rocket Kills / 10min": "nan",
         "Hero": "Ana",
         "High Energy Kills / 10min": "nan",
         "Icicle Accuracy, % / 10min": "nan",
         "Icicle Crit Accuracy, % / 10min": "nan",
         "Inspire Uptime": "nan",
         "Jagged Blade Accuracy, %": "nan",
         "Javelin Spin Kills / 10min": "nan",
         "Jump Pack Kills / 10min": "nan",
         "KDA Ratio": 4.6,
         "Kitsune Rush Assists / 10min": "nan",
         "Knockbacks / 10min": "nan",
         "Kunai Kills / 10min": "nan",
         "Long Range Kills / 10min": "nan",
         "Low Health Recalls / 10min": "nan",
         "Low Health Teleports / 10min": "nan",
         "Magnetic Grenade Attaches": "nan",
         "Magnetic Grenade Kills / 10min": "nan",
         "Meteor Strike Kills / 10min": "nan",
         "Micro Missile Kills, % / 10min": "nan",
         "Molten Core Kills / 10min": "nan",
         "Nano Boost Assists / 10min": 3.15,
         "Objective Contest Time / 10min": "nan",
         "Objective Kills / 10min": 4.11,
         "Objective Time / 10min": 63,
         "Overclock Kills / 10min": "nan",
         "Overhealth / 10min": "nan",
         "Pick Rate, %": 16.5,
         "Piledriver Kills / 10min": "nan",
         "Players Resurrected / 10min": "nan",
         "Players Teleported / 10min": "nan",
         "Primal Rage Kills / 10min": "nan",
         "Primary Accuracy, %": "nan",
         "Pulse Bomb Kills / 10min": "nan",
         "Pulse Bombs Stuck / 10min": "nan",
         "Pummel Accuracy, %": "nan",
         "Pummel Kills / 10min": "nan",
         "Rampage Kills / 10min": "nan",
         "Ravenous Vortex Kills / 10min": "nan",
         "Recon Assists / 10min": "nan",
         "Recon Kills / 10min": "nan",
         "Rocket Punch Kills / 10min": "nan",
         "Role": "Support",
         "Scoped Accuracy, %": 58,
         "Secondary Accuracy, %": "nan",
         "Seismic Slam Kills / 10min": "nan",
         "Self Healing / 10min": "nan",
         "Self-Destruct Kills / 10min": "nan",
         "Sentry Turret Kills / 10min": "nan",
         "Skill Tier": "Diamond",
         "Solo Kills / 10min": "nan",
         "Sound Barriers / 10min": "nan",
         "Sticky Bomb Accuracy, %": "nan",
         "Sticky Bomb Kills / 10min": "nan",
         "Storm Arrow Kills / 10min": "nan",
         "Swift Strike Resets / 10min": "nan",
         "Tactical Grenade Kills / 10min": "nan",
         "Tactical Visor Kills / 10min": "nan",
         "Terra Surge Kills / 10min": "nan",
         "Transcendence Healing / 10min": "nan",
         "Turret Kills / 10min": "nan",
         "Ultimates Reflected / 10min": "nan",
         "Venom Mine Kills / 10min": "nan",
         "Weapon Accuracy, %": "nan",
         "Whole Hog Kills / 10min": "nan",
         "Win Rate, %": 51.3,
         "Wound Uptime, %": "nan",
         "_deepnote_index_column": 5
        },
        {
         "Accretion Kills / 10min": "nan",
         "Airtime, %": "nan",
         "Ally Coalescence Efficiency, %": "nan",
         "Amp Matrix Assists / 10min": "nan",
         "Annihilation Kills / 10min": "nan",
         "Artillery Kills / 10min": "nan",
         "Assault Kills / 10min": "nan",
         "Average Damage Multiplier": "nan",
         "Average Energy, %": "nan",
         "Barrage Kills / 10min": "nan",
         "Biotic Grenade Kills / 10min": 4.9,
         "Biotic Orb Kills / 10min": "nan",
         "Blaster Kills / 10min": "nan",
         "Blizzard Kills / 10min": "nan",
         "Bob Kills / 10min": "nan",
         "Call Mech Kills / 10min": "nan",
         "Carnage Kills / 10min": "nan",
         "Chain Hook Accuracy, %": "nan",
         "Chain Hook Kills / 10min": "nan",
         "Charge Kills / 10min": "nan",
         "Charged Crit Accuracy, %": "nan",
         "Charged Shot Accuracy, %": "nan",
         "Charged Shot Kills / 10min": "nan",
         "Charged Volley Accuracy, %": "nan",
         "Charged Volley Kills / 10min": "nan",
         "Coach Gun Kills / 10min": "nan",
         "Coalescence Kills / 10min": "nan",
         "Concussion Mine Kills / 10min": "nan",
         "Crit Accuracy, %": "nan",
         "Damage / 10min": 2756,
         "Damage Amplified / 10min": "nan",
         "Damage Reflected / 10min": "nan",
         "Deadeye Kills / 10min": "nan",
         "Death Blossom Kills / 10min": "nan",
         "Deaths / 10min": 5.63,
         "Deaths Prevented / 10min": "nan",
         "Direct Hits": "nan",
         "Disruptor Shot Kills / 10min": "nan",
         "Dragonblade Kills / 10min": "nan",
         "Dragonstrike Kills / 10min": "nan",
         "Duplicate Kills / 10min": "nan",
         "Dynamite Kills / 10min": "nan",
         "EMP Kills / 10min": "nan",
         "Earthshatter Kills / 10min": "nan",
         "Effects Cleansed / 10min": "nan",
         "Eliminations / 10min": 9.75,
         "Enemies Frozen / 10min": "nan",
         "Enemies Hacked / 10min": "nan",
         "Enemies Slept / 10min": 5.53,
         "Enemies Trapped / 10min": "nan",
         "Enemy Coalescence Efficiency, %": "nan",
         "Energy Javelin Kills / 10min": "nan",
         "Final Blows / 10min": "nan",
         "Fire Strike Kills / 10min": "nan",
         "Focusing Beam Accuracy, %": "nan",
         "Focusing Beam Kills / 10min": "nan",
         "Grappling Claw Kills / 10min": "nan",
         "Gravitic Flux Kills / 10min": "nan",
         "Graviton Surge Kills / 10min": "nan",
         "Hammer Kills / 10min": "nan",
         "Healing / 10min": 9092,
         "Healing Accuracy": "nan",
         "Healing Amplified / 10min": 413.65,
         "Helix Rocket Accuracy, %": "nan",
         "Helix Rocket Kills / 10min": "nan",
         "Hero": "Ana",
         "High Energy Kills / 10min": "nan",
         "Icicle Accuracy, % / 10min": "nan",
         "Icicle Crit Accuracy, % / 10min": "nan",
         "Inspire Uptime": "nan",
         "Jagged Blade Accuracy, %": "nan",
         "Javelin Spin Kills / 10min": "nan",
         "Jump Pack Kills / 10min": "nan",
         "KDA Ratio": 4.63,
         "Kitsune Rush Assists / 10min": "nan",
         "Knockbacks / 10min": "nan",
         "Kunai Kills / 10min": "nan",
         "Long Range Kills / 10min": "nan",
         "Low Health Recalls / 10min": "nan",
         "Low Health Teleports / 10min": "nan",
         "Magnetic Grenade Attaches": "nan",
         "Magnetic Grenade Kills / 10min": "nan",
         "Meteor Strike Kills / 10min": "nan",
         "Micro Missile Kills, % / 10min": "nan",
         "Molten Core Kills / 10min": "nan",
         "Nano Boost Assists / 10min": 3.21,
         "Objective Contest Time / 10min": "nan",
         "Objective Kills / 10min": 3.98,
         "Objective Time / 10min": 62,
         "Overclock Kills / 10min": "nan",
         "Overhealth / 10min": "nan",
         "Pick Rate, %": 22.77,
         "Piledriver Kills / 10min": "nan",
         "Players Resurrected / 10min": "nan",
         "Players Teleported / 10min": "nan",
         "Primal Rage Kills / 10min": "nan",
         "Primary Accuracy, %": "nan",
         "Pulse Bomb Kills / 10min": "nan",
         "Pulse Bombs Stuck / 10min": "nan",
         "Pummel Accuracy, %": "nan",
         "Pummel Kills / 10min": "nan",
         "Rampage Kills / 10min": "nan",
         "Ravenous Vortex Kills / 10min": "nan",
         "Recon Assists / 10min": "nan",
         "Recon Kills / 10min": "nan",
         "Rocket Punch Kills / 10min": "nan",
         "Role": "Support",
         "Scoped Accuracy, %": 60,
         "Secondary Accuracy, %": "nan",
         "Seismic Slam Kills / 10min": "nan",
         "Self Healing / 10min": "nan",
         "Self-Destruct Kills / 10min": "nan",
         "Sentry Turret Kills / 10min": "nan",
         "Skill Tier": "Master",
         "Solo Kills / 10min": "nan",
         "Sound Barriers / 10min": "nan",
         "Sticky Bomb Accuracy, %": "nan",
         "Sticky Bomb Kills / 10min": "nan",
         "Storm Arrow Kills / 10min": "nan",
         "Swift Strike Resets / 10min": "nan",
         "Tactical Grenade Kills / 10min": "nan",
         "Tactical Visor Kills / 10min": "nan",
         "Terra Surge Kills / 10min": "nan",
         "Transcendence Healing / 10min": "nan",
         "Turret Kills / 10min": "nan",
         "Ultimates Reflected / 10min": "nan",
         "Venom Mine Kills / 10min": "nan",
         "Weapon Accuracy, %": "nan",
         "Whole Hog Kills / 10min": "nan",
         "Win Rate, %": 52.67,
         "Wound Uptime, %": "nan",
         "_deepnote_index_column": 6
        },
        {
         "Accretion Kills / 10min": "nan",
         "Airtime, %": "nan",
         "Ally Coalescence Efficiency, %": "nan",
         "Amp Matrix Assists / 10min": "nan",
         "Annihilation Kills / 10min": "nan",
         "Artillery Kills / 10min": "nan",
         "Assault Kills / 10min": "nan",
         "Average Damage Multiplier": "nan",
         "Average Energy, %": "nan",
         "Barrage Kills / 10min": "nan",
         "Biotic Grenade Kills / 10min": 4.68,
         "Biotic Orb Kills / 10min": "nan",
         "Blaster Kills / 10min": "nan",
         "Blizzard Kills / 10min": "nan",
         "Bob Kills / 10min": "nan",
         "Call Mech Kills / 10min": "nan",
         "Carnage Kills / 10min": "nan",
         "Chain Hook Accuracy, %": "nan",
         "Chain Hook Kills / 10min": "nan",
         "Charge Kills / 10min": "nan",
         "Charged Crit Accuracy, %": "nan",
         "Charged Shot Accuracy, %": "nan",
         "Charged Shot Kills / 10min": "nan",
         "Charged Volley Accuracy, %": "nan",
         "Charged Volley Kills / 10min": "nan",
         "Coach Gun Kills / 10min": "nan",
         "Coalescence Kills / 10min": "nan",
         "Concussion Mine Kills / 10min": "nan",
         "Crit Accuracy, %": "nan",
         "Damage / 10min": 2803,
         "Damage Amplified / 10min": "nan",
         "Damage Reflected / 10min": "nan",
         "Deadeye Kills / 10min": "nan",
         "Death Blossom Kills / 10min": "nan",
         "Deaths / 10min": 5.56,
         "Deaths Prevented / 10min": "nan",
         "Direct Hits": "nan",
         "Disruptor Shot Kills / 10min": "nan",
         "Dragonblade Kills / 10min": "nan",
         "Dragonstrike Kills / 10min": "nan",
         "Duplicate Kills / 10min": "nan",
         "Dynamite Kills / 10min": "nan",
         "EMP Kills / 10min": "nan",
         "Earthshatter Kills / 10min": "nan",
         "Effects Cleansed / 10min": "nan",
         "Eliminations / 10min": 9.45,
         "Enemies Frozen / 10min": "nan",
         "Enemies Hacked / 10min": "nan",
         "Enemies Slept / 10min": 5.45,
         "Enemies Trapped / 10min": "nan",
         "Enemy Coalescence Efficiency, %": "nan",
         "Energy Javelin Kills / 10min": "nan",
         "Final Blows / 10min": "nan",
         "Fire Strike Kills / 10min": "nan",
         "Focusing Beam Accuracy, %": "nan",
         "Focusing Beam Kills / 10min": "nan",
         "Grappling Claw Kills / 10min": "nan",
         "Gravitic Flux Kills / 10min": "nan",
         "Graviton Surge Kills / 10min": "nan",
         "Hammer Kills / 10min": "nan",
         "Healing / 10min": 9221,
         "Healing Accuracy": "nan",
         "Healing Amplified / 10min": 402.33,
         "Helix Rocket Accuracy, %": "nan",
         "Helix Rocket Kills / 10min": "nan",
         "Hero": "Ana",
         "High Energy Kills / 10min": "nan",
         "Icicle Accuracy, % / 10min": "nan",
         "Icicle Crit Accuracy, % / 10min": "nan",
         "Inspire Uptime": "nan",
         "Jagged Blade Accuracy, %": "nan",
         "Javelin Spin Kills / 10min": "nan",
         "Jump Pack Kills / 10min": "nan",
         "KDA Ratio": 4.51,
         "Kitsune Rush Assists / 10min": "nan",
         "Knockbacks / 10min": "nan",
         "Kunai Kills / 10min": "nan",
         "Long Range Kills / 10min": "nan",
         "Low Health Recalls / 10min": "nan",
         "Low Health Teleports / 10min": "nan",
         "Magnetic Grenade Attaches": "nan",
         "Magnetic Grenade Kills / 10min": "nan",
         "Meteor Strike Kills / 10min": "nan",
         "Micro Missile Kills, % / 10min": "nan",
         "Molten Core Kills / 10min": "nan",
         "Nano Boost Assists / 10min": 3.17,
         "Objective Contest Time / 10min": "nan",
         "Objective Kills / 10min": 3.6,
         "Objective Time / 10min": 58,
         "Overclock Kills / 10min": "nan",
         "Overhealth / 10min": "nan",
         "Pick Rate, %": 28.03,
         "Piledriver Kills / 10min": "nan",
         "Players Resurrected / 10min": "nan",
         "Players Teleported / 10min": "nan",
         "Primal Rage Kills / 10min": "nan",
         "Primary Accuracy, %": "nan",
         "Pulse Bomb Kills / 10min": "nan",
         "Pulse Bombs Stuck / 10min": "nan",
         "Pummel Accuracy, %": "nan",
         "Pummel Kills / 10min": "nan",
         "Rampage Kills / 10min": "nan",
         "Ravenous Vortex Kills / 10min": "nan",
         "Recon Assists / 10min": "nan",
         "Recon Kills / 10min": "nan",
         "Rocket Punch Kills / 10min": "nan",
         "Role": "Support",
         "Scoped Accuracy, %": 60,
         "Secondary Accuracy, %": "nan",
         "Seismic Slam Kills / 10min": "nan",
         "Self Healing / 10min": "nan",
         "Self-Destruct Kills / 10min": "nan",
         "Sentry Turret Kills / 10min": "nan",
         "Skill Tier": "Grandmaster",
         "Solo Kills / 10min": "nan",
         "Sound Barriers / 10min": "nan",
         "Sticky Bomb Accuracy, %": "nan",
         "Sticky Bomb Kills / 10min": "nan",
         "Storm Arrow Kills / 10min": "nan",
         "Swift Strike Resets / 10min": "nan",
         "Tactical Grenade Kills / 10min": "nan",
         "Tactical Visor Kills / 10min": "nan",
         "Terra Surge Kills / 10min": "nan",
         "Transcendence Healing / 10min": "nan",
         "Turret Kills / 10min": "nan",
         "Ultimates Reflected / 10min": "nan",
         "Venom Mine Kills / 10min": "nan",
         "Weapon Accuracy, %": "nan",
         "Whole Hog Kills / 10min": "nan",
         "Win Rate, %": 53.26,
         "Wound Uptime, %": "nan",
         "_deepnote_index_column": 7
        },
        {
         "Accretion Kills / 10min": "nan",
         "Airtime, %": "nan",
         "Ally Coalescence Efficiency, %": "nan",
         "Amp Matrix Assists / 10min": "nan",
         "Annihilation Kills / 10min": "nan",
         "Artillery Kills / 10min": "nan",
         "Assault Kills / 10min": "nan",
         "Average Damage Multiplier": "nan",
         "Average Energy, %": "nan",
         "Barrage Kills / 10min": "nan",
         "Biotic Grenade Kills / 10min": "nan",
         "Biotic Orb Kills / 10min": "nan",
         "Blaster Kills / 10min": 1.72,
         "Blizzard Kills / 10min": "nan",
         "Bob Kills / 10min": "nan",
         "Call Mech Kills / 10min": "nan",
         "Carnage Kills / 10min": "nan",
         "Chain Hook Accuracy, %": "nan",
         "Chain Hook Kills / 10min": "nan",
         "Charge Kills / 10min": "nan",
         "Charged Crit Accuracy, %": "nan",
         "Charged Shot Accuracy, %": "nan",
         "Charged Shot Kills / 10min": "nan",
         "Charged Volley Accuracy, %": "nan",
         "Charged Volley Kills / 10min": "nan",
         "Coach Gun Kills / 10min": "nan",
         "Coalescence Kills / 10min": "nan",
         "Concussion Mine Kills / 10min": "nan",
         "Crit Accuracy, %": "nan",
         "Damage / 10min": 329,
         "Damage Amplified / 10min": 1050.65,
         "Damage Reflected / 10min": "nan",
         "Deadeye Kills / 10min": "nan",
         "Death Blossom Kills / 10min": "nan",
         "Deaths / 10min": 6.02,
         "Deaths Prevented / 10min": "nan",
         "Direct Hits": "nan",
         "Disruptor Shot Kills / 10min": "nan",
         "Dragonblade Kills / 10min": "nan",
         "Dragonstrike Kills / 10min": "nan",
         "Duplicate Kills / 10min": "nan",
         "Dynamite Kills / 10min": "nan",
         "EMP Kills / 10min": "nan",
         "Earthshatter Kills / 10min": "nan",
         "Effects Cleansed / 10min": "nan",
         "Eliminations / 10min": 1.75,
         "Enemies Frozen / 10min": "nan",
         "Enemies Hacked / 10min": "nan",
         "Enemies Slept / 10min": "nan",
         "Enemies Trapped / 10min": "nan",
         "Enemy Coalescence Efficiency, %": "nan",
         "Energy Javelin Kills / 10min": "nan",
         "Final Blows / 10min": "nan",
         "Fire Strike Kills / 10min": "nan",
         "Focusing Beam Accuracy, %": "nan",
         "Focusing Beam Kills / 10min": "nan",
         "Grappling Claw Kills / 10min": "nan",
         "Gravitic Flux Kills / 10min": "nan",
         "Graviton Surge Kills / 10min": "nan",
         "Hammer Kills / 10min": "nan",
         "Healing / 10min": 8899,
         "Healing Accuracy": "nan",
         "Healing Amplified / 10min": "nan",
         "Helix Rocket Accuracy, %": "nan",
         "Helix Rocket Kills / 10min": "nan",
         "Hero": "Mercy",
         "High Energy Kills / 10min": "nan",
         "Icicle Accuracy, % / 10min": "nan",
         "Icicle Crit Accuracy, % / 10min": "nan",
         "Inspire Uptime": "nan",
         "Jagged Blade Accuracy, %": "nan",
         "Javelin Spin Kills / 10min": "nan",
         "Jump Pack Kills / 10min": "nan",
         "KDA Ratio": 4.19,
         "Kitsune Rush Assists / 10min": "nan",
         "Knockbacks / 10min": "nan",
         "Kunai Kills / 10min": "nan",
         "Long Range Kills / 10min": "nan",
         "Low Health Recalls / 10min": "nan",
         "Low Health Teleports / 10min": "nan",
         "Magnetic Grenade Attaches": "nan",
         "Magnetic Grenade Kills / 10min": "nan",
         "Meteor Strike Kills / 10min": "nan",
         "Micro Missile Kills, % / 10min": "nan",
         "Molten Core Kills / 10min": "nan",
         "Nano Boost Assists / 10min": "nan",
         "Objective Contest Time / 10min": "nan",
         "Objective Kills / 10min": 0.65,
         "Objective Time / 10min": 51,
         "Overclock Kills / 10min": "nan",
         "Overhealth / 10min": "nan",
         "Pick Rate, %": 6.27,
         "Piledriver Kills / 10min": "nan",
         "Players Resurrected / 10min": 4.46,
         "Players Teleported / 10min": "nan",
         "Primal Rage Kills / 10min": "nan",
         "Primary Accuracy, %": "nan",
         "Pulse Bomb Kills / 10min": "nan",
         "Pulse Bombs Stuck / 10min": "nan",
         "Pummel Accuracy, %": "nan",
         "Pummel Kills / 10min": "nan",
         "Rampage Kills / 10min": "nan",
         "Ravenous Vortex Kills / 10min": "nan",
         "Recon Assists / 10min": "nan",
         "Recon Kills / 10min": "nan",
         "Rocket Punch Kills / 10min": "nan",
         "Role": "Support",
         "Scoped Accuracy, %": "nan",
         "Secondary Accuracy, %": "nan",
         "Seismic Slam Kills / 10min": "nan",
         "Self Healing / 10min": "nan",
         "Self-Destruct Kills / 10min": "nan",
         "Sentry Turret Kills / 10min": "nan",
         "Skill Tier": "All",
         "Solo Kills / 10min": "nan",
         "Sound Barriers / 10min": "nan",
         "Sticky Bomb Accuracy, %": "nan",
         "Sticky Bomb Kills / 10min": "nan",
         "Storm Arrow Kills / 10min": "nan",
         "Swift Strike Resets / 10min": "nan",
         "Tactical Grenade Kills / 10min": "nan",
         "Tactical Visor Kills / 10min": "nan",
         "Terra Surge Kills / 10min": "nan",
         "Transcendence Healing / 10min": "nan",
         "Turret Kills / 10min": "nan",
         "Ultimates Reflected / 10min": "nan",
         "Venom Mine Kills / 10min": "nan",
         "Weapon Accuracy, %": "nan",
         "Whole Hog Kills / 10min": "nan",
         "Win Rate, %": 51.29,
         "Wound Uptime, %": "nan",
         "_deepnote_index_column": 8
        },
        {
         "Accretion Kills / 10min": "nan",
         "Airtime, %": "nan",
         "Ally Coalescence Efficiency, %": "nan",
         "Amp Matrix Assists / 10min": "nan",
         "Annihilation Kills / 10min": "nan",
         "Artillery Kills / 10min": "nan",
         "Assault Kills / 10min": "nan",
         "Average Damage Multiplier": "nan",
         "Average Energy, %": "nan",
         "Barrage Kills / 10min": "nan",
         "Biotic Grenade Kills / 10min": "nan",
         "Biotic Orb Kills / 10min": "nan",
         "Blaster Kills / 10min": 1.73,
         "Blizzard Kills / 10min": "nan",
         "Bob Kills / 10min": "nan",
         "Call Mech Kills / 10min": "nan",
         "Carnage Kills / 10min": "nan",
         "Chain Hook Accuracy, %": "nan",
         "Chain Hook Kills / 10min": "nan",
         "Charge Kills / 10min": "nan",
         "Charged Crit Accuracy, %": "nan",
         "Charged Shot Accuracy, %": "nan",
         "Charged Shot Kills / 10min": "nan",
         "Charged Volley Accuracy, %": "nan",
         "Charged Volley Kills / 10min": "nan",
         "Coach Gun Kills / 10min": "nan",
         "Coalescence Kills / 10min": "nan",
         "Concussion Mine Kills / 10min": "nan",
         "Crit Accuracy, %": "nan",
         "Damage / 10min": 346,
         "Damage Amplified / 10min": 743.55,
         "Damage Reflected / 10min": "nan",
         "Deadeye Kills / 10min": "nan",
         "Death Blossom Kills / 10min": "nan",
         "Deaths / 10min": 6.88,
         "Deaths Prevented / 10min": "nan",
         "Direct Hits": "nan",
         "Disruptor Shot Kills / 10min": "nan",
         "Dragonblade Kills / 10min": "nan",
         "Dragonstrike Kills / 10min": "nan",
         "Duplicate Kills / 10min": "nan",
         "Dynamite Kills / 10min": "nan",
         "EMP Kills / 10min": "nan",
         "Earthshatter Kills / 10min": "nan",
         "Effects Cleansed / 10min": "nan",
         "Eliminations / 10min": 1.74,
         "Enemies Frozen / 10min": "nan",
         "Enemies Hacked / 10min": "nan",
         "Enemies Slept / 10min": "nan",
         "Enemies Trapped / 10min": "nan",
         "Enemy Coalescence Efficiency, %": "nan",
         "Energy Javelin Kills / 10min": "nan",
         "Final Blows / 10min": "nan",
         "Fire Strike Kills / 10min": "nan",
         "Focusing Beam Accuracy, %": "nan",
         "Focusing Beam Kills / 10min": "nan",
         "Grappling Claw Kills / 10min": "nan",
         "Gravitic Flux Kills / 10min": "nan",
         "Graviton Surge Kills / 10min": "nan",
         "Hammer Kills / 10min": "nan",
         "Healing / 10min": 8563,
         "Healing Accuracy": "nan",
         "Healing Amplified / 10min": "nan",
         "Helix Rocket Accuracy, %": "nan",
         "Helix Rocket Kills / 10min": "nan",
         "Hero": "Mercy",
         "High Energy Kills / 10min": "nan",
         "Icicle Accuracy, % / 10min": "nan",
         "Icicle Crit Accuracy, % / 10min": "nan",
         "Inspire Uptime": "nan",
         "Jagged Blade Accuracy, %": "nan",
         "Javelin Spin Kills / 10min": "nan",
         "Jump Pack Kills / 10min": "nan",
         "KDA Ratio": 3.53,
         "Kitsune Rush Assists / 10min": "nan",
         "Knockbacks / 10min": "nan",
         "Kunai Kills / 10min": "nan",
         "Long Range Kills / 10min": "nan",
         "Low Health Recalls / 10min": "nan",
         "Low Health Teleports / 10min": "nan",
         "Magnetic Grenade Attaches": "nan",
         "Magnetic Grenade Kills / 10min": "nan",
         "Meteor Strike Kills / 10min": "nan",
         "Micro Missile Kills, % / 10min": "nan",
         "Molten Core Kills / 10min": "nan",
         "Nano Boost Assists / 10min": "nan",
         "Objective Contest Time / 10min": "nan",
         "Objective Kills / 10min": 0.77,
         "Objective Time / 10min": 58,
         "Overclock Kills / 10min": "nan",
         "Overhealth / 10min": "nan",
         "Pick Rate, %": 3.69,
         "Piledriver Kills / 10min": "nan",
         "Players Resurrected / 10min": 4.14,
         "Players Teleported / 10min": "nan",
         "Primal Rage Kills / 10min": "nan",
         "Primary Accuracy, %": "nan",
         "Pulse Bomb Kills / 10min": "nan",
         "Pulse Bombs Stuck / 10min": "nan",
         "Pummel Accuracy, %": "nan",
         "Pummel Kills / 10min": "nan",
         "Rampage Kills / 10min": "nan",
         "Ravenous Vortex Kills / 10min": "nan",
         "Recon Assists / 10min": "nan",
         "Recon Kills / 10min": "nan",
         "Rocket Punch Kills / 10min": "nan",
         "Role": "Support",
         "Scoped Accuracy, %": "nan",
         "Secondary Accuracy, %": "nan",
         "Seismic Slam Kills / 10min": "nan",
         "Self Healing / 10min": "nan",
         "Self-Destruct Kills / 10min": "nan",
         "Sentry Turret Kills / 10min": "nan",
         "Skill Tier": "Bronze",
         "Solo Kills / 10min": "nan",
         "Sound Barriers / 10min": "nan",
         "Sticky Bomb Accuracy, %": "nan",
         "Sticky Bomb Kills / 10min": "nan",
         "Storm Arrow Kills / 10min": "nan",
         "Swift Strike Resets / 10min": "nan",
         "Tactical Grenade Kills / 10min": "nan",
         "Tactical Visor Kills / 10min": "nan",
         "Terra Surge Kills / 10min": "nan",
         "Transcendence Healing / 10min": "nan",
         "Turret Kills / 10min": "nan",
         "Ultimates Reflected / 10min": "nan",
         "Venom Mine Kills / 10min": "nan",
         "Weapon Accuracy, %": "nan",
         "Whole Hog Kills / 10min": "nan",
         "Win Rate, %": 44.85,
         "Wound Uptime, %": "nan",
         "_deepnote_index_column": 9
        }
       ]
      },
      "text/html": [
       "<div>\n",
       "<style scoped>\n",
       "    .dataframe tbody tr th:only-of-type {\n",
       "        vertical-align: middle;\n",
       "    }\n",
       "\n",
       "    .dataframe tbody tr th {\n",
       "        vertical-align: top;\n",
       "    }\n",
       "\n",
       "    .dataframe thead th {\n",
       "        text-align: right;\n",
       "    }\n",
       "</style>\n",
       "<table border=\"1\" class=\"dataframe\">\n",
       "  <thead>\n",
       "    <tr style=\"text-align: right;\">\n",
       "      <th></th>\n",
       "      <th>Hero</th>\n",
       "      <th>Skill Tier</th>\n",
       "      <th>KDA Ratio</th>\n",
       "      <th>Pick Rate, %</th>\n",
       "      <th>Win Rate, %</th>\n",
       "      <th>Eliminations / 10min</th>\n",
       "      <th>Objective Kills / 10min</th>\n",
       "      <th>Objective Time / 10min</th>\n",
       "      <th>Damage / 10min</th>\n",
       "      <th>Healing / 10min</th>\n",
       "      <th>...</th>\n",
       "      <th>Jagged Blade Accuracy, %</th>\n",
       "      <th>Carnage Kills / 10min</th>\n",
       "      <th>Wound Uptime, %</th>\n",
       "      <th>Rampage Kills / 10min</th>\n",
       "      <th>Focusing Beam Accuracy, %</th>\n",
       "      <th>Focusing Beam Kills / 10min</th>\n",
       "      <th>Sticky Bomb Accuracy, %</th>\n",
       "      <th>Sticky Bomb Kills / 10min</th>\n",
       "      <th>Duplicate Kills / 10min</th>\n",
       "      <th>Role</th>\n",
       "    </tr>\n",
       "  </thead>\n",
       "  <tbody>\n",
       "    <tr>\n",
       "      <th>0</th>\n",
       "      <td>Ana</td>\n",
       "      <td>All</td>\n",
       "      <td>4.49</td>\n",
       "      <td>10.18</td>\n",
       "      <td>50.99</td>\n",
       "      <td>9.46</td>\n",
       "      <td>4.05</td>\n",
       "      <td>63</td>\n",
       "      <td>2676</td>\n",
       "      <td>8686.0</td>\n",
       "      <td>...</td>\n",
       "      <td>NaN</td>\n",
       "      <td>NaN</td>\n",
       "      <td>NaN</td>\n",
       "      <td>NaN</td>\n",
       "      <td>NaN</td>\n",
       "      <td>NaN</td>\n",
       "      <td>NaN</td>\n",
       "      <td>NaN</td>\n",
       "      <td>NaN</td>\n",
       "      <td>Support</td>\n",
       "    </tr>\n",
       "    <tr>\n",
       "      <th>1</th>\n",
       "      <td>Ana</td>\n",
       "      <td>Bronze</td>\n",
       "      <td>3.87</td>\n",
       "      <td>3.71</td>\n",
       "      <td>43.97</td>\n",
       "      <td>8.37</td>\n",
       "      <td>3.80</td>\n",
       "      <td>61</td>\n",
       "      <td>2508</td>\n",
       "      <td>7483.0</td>\n",
       "      <td>...</td>\n",
       "      <td>NaN</td>\n",
       "      <td>NaN</td>\n",
       "      <td>NaN</td>\n",
       "      <td>NaN</td>\n",
       "      <td>NaN</td>\n",
       "      <td>NaN</td>\n",
       "      <td>NaN</td>\n",
       "      <td>NaN</td>\n",
       "      <td>NaN</td>\n",
       "      <td>Support</td>\n",
       "    </tr>\n",
       "    <tr>\n",
       "      <th>2</th>\n",
       "      <td>Ana</td>\n",
       "      <td>Silver</td>\n",
       "      <td>4.01</td>\n",
       "      <td>3.78</td>\n",
       "      <td>46.68</td>\n",
       "      <td>8.88</td>\n",
       "      <td>4.08</td>\n",
       "      <td>64</td>\n",
       "      <td>2573</td>\n",
       "      <td>7875.0</td>\n",
       "      <td>...</td>\n",
       "      <td>NaN</td>\n",
       "      <td>NaN</td>\n",
       "      <td>NaN</td>\n",
       "      <td>NaN</td>\n",
       "      <td>NaN</td>\n",
       "      <td>NaN</td>\n",
       "      <td>NaN</td>\n",
       "      <td>NaN</td>\n",
       "      <td>NaN</td>\n",
       "      <td>Support</td>\n",
       "    </tr>\n",
       "    <tr>\n",
       "      <th>3</th>\n",
       "      <td>Ana</td>\n",
       "      <td>Gold</td>\n",
       "      <td>4.36</td>\n",
       "      <td>5.46</td>\n",
       "      <td>48.90</td>\n",
       "      <td>9.21</td>\n",
       "      <td>4.14</td>\n",
       "      <td>65</td>\n",
       "      <td>2610</td>\n",
       "      <td>8251.0</td>\n",
       "      <td>...</td>\n",
       "      <td>NaN</td>\n",
       "      <td>NaN</td>\n",
       "      <td>NaN</td>\n",
       "      <td>NaN</td>\n",
       "      <td>NaN</td>\n",
       "      <td>NaN</td>\n",
       "      <td>NaN</td>\n",
       "      <td>NaN</td>\n",
       "      <td>NaN</td>\n",
       "      <td>Support</td>\n",
       "    </tr>\n",
       "    <tr>\n",
       "      <th>4</th>\n",
       "      <td>Ana</td>\n",
       "      <td>Platinum</td>\n",
       "      <td>4.56</td>\n",
       "      <td>9.33</td>\n",
       "      <td>50.45</td>\n",
       "      <td>9.53</td>\n",
       "      <td>4.18</td>\n",
       "      <td>65</td>\n",
       "      <td>2661</td>\n",
       "      <td>8650.0</td>\n",
       "      <td>...</td>\n",
       "      <td>NaN</td>\n",
       "      <td>NaN</td>\n",
       "      <td>NaN</td>\n",
       "      <td>NaN</td>\n",
       "      <td>NaN</td>\n",
       "      <td>NaN</td>\n",
       "      <td>NaN</td>\n",
       "      <td>NaN</td>\n",
       "      <td>NaN</td>\n",
       "      <td>Support</td>\n",
       "    </tr>\n",
       "    <tr>\n",
       "      <th>...</th>\n",
       "      <td>...</td>\n",
       "      <td>...</td>\n",
       "      <td>...</td>\n",
       "      <td>...</td>\n",
       "      <td>...</td>\n",
       "      <td>...</td>\n",
       "      <td>...</td>\n",
       "      <td>...</td>\n",
       "      <td>...</td>\n",
       "      <td>...</td>\n",
       "      <td>...</td>\n",
       "      <td>...</td>\n",
       "      <td>...</td>\n",
       "      <td>...</td>\n",
       "      <td>...</td>\n",
       "      <td>...</td>\n",
       "      <td>...</td>\n",
       "      <td>...</td>\n",
       "      <td>...</td>\n",
       "      <td>...</td>\n",
       "      <td>...</td>\n",
       "    </tr>\n",
       "    <tr>\n",
       "      <th>283</th>\n",
       "      <td>Echo</td>\n",
       "      <td>Gold</td>\n",
       "      <td>2.61</td>\n",
       "      <td>0.62</td>\n",
       "      <td>46.33</td>\n",
       "      <td>17.62</td>\n",
       "      <td>6.52</td>\n",
       "      <td>62</td>\n",
       "      <td>7874</td>\n",
       "      <td>NaN</td>\n",
       "      <td>...</td>\n",
       "      <td>NaN</td>\n",
       "      <td>NaN</td>\n",
       "      <td>NaN</td>\n",
       "      <td>NaN</td>\n",
       "      <td>36.42</td>\n",
       "      <td>7.41</td>\n",
       "      <td>25.0</td>\n",
       "      <td>8.36</td>\n",
       "      <td>3.40</td>\n",
       "      <td>Damage</td>\n",
       "    </tr>\n",
       "    <tr>\n",
       "      <th>284</th>\n",
       "      <td>Echo</td>\n",
       "      <td>Platinum</td>\n",
       "      <td>2.67</td>\n",
       "      <td>0.86</td>\n",
       "      <td>45.16</td>\n",
       "      <td>18.34</td>\n",
       "      <td>6.44</td>\n",
       "      <td>60</td>\n",
       "      <td>8249</td>\n",
       "      <td>NaN</td>\n",
       "      <td>...</td>\n",
       "      <td>NaN</td>\n",
       "      <td>NaN</td>\n",
       "      <td>NaN</td>\n",
       "      <td>NaN</td>\n",
       "      <td>37.88</td>\n",
       "      <td>7.77</td>\n",
       "      <td>26.0</td>\n",
       "      <td>8.65</td>\n",
       "      <td>3.57</td>\n",
       "      <td>Damage</td>\n",
       "    </tr>\n",
       "    <tr>\n",
       "      <th>285</th>\n",
       "      <td>Echo</td>\n",
       "      <td>Diamond</td>\n",
       "      <td>2.73</td>\n",
       "      <td>1.57</td>\n",
       "      <td>47.70</td>\n",
       "      <td>18.85</td>\n",
       "      <td>6.22</td>\n",
       "      <td>57</td>\n",
       "      <td>8639</td>\n",
       "      <td>NaN</td>\n",
       "      <td>...</td>\n",
       "      <td>NaN</td>\n",
       "      <td>NaN</td>\n",
       "      <td>NaN</td>\n",
       "      <td>NaN</td>\n",
       "      <td>39.25</td>\n",
       "      <td>8.07</td>\n",
       "      <td>27.0</td>\n",
       "      <td>8.83</td>\n",
       "      <td>3.69</td>\n",
       "      <td>Damage</td>\n",
       "    </tr>\n",
       "    <tr>\n",
       "      <th>286</th>\n",
       "      <td>Echo</td>\n",
       "      <td>Master</td>\n",
       "      <td>2.74</td>\n",
       "      <td>2.05</td>\n",
       "      <td>50.15</td>\n",
       "      <td>19.17</td>\n",
       "      <td>5.98</td>\n",
       "      <td>53</td>\n",
       "      <td>8929</td>\n",
       "      <td>NaN</td>\n",
       "      <td>...</td>\n",
       "      <td>NaN</td>\n",
       "      <td>NaN</td>\n",
       "      <td>NaN</td>\n",
       "      <td>NaN</td>\n",
       "      <td>39.86</td>\n",
       "      <td>8.25</td>\n",
       "      <td>27.0</td>\n",
       "      <td>8.84</td>\n",
       "      <td>3.82</td>\n",
       "      <td>Damage</td>\n",
       "    </tr>\n",
       "    <tr>\n",
       "      <th>287</th>\n",
       "      <td>Echo</td>\n",
       "      <td>Grandmaster</td>\n",
       "      <td>2.90</td>\n",
       "      <td>3.32</td>\n",
       "      <td>50.45</td>\n",
       "      <td>19.25</td>\n",
       "      <td>5.51</td>\n",
       "      <td>49</td>\n",
       "      <td>9419</td>\n",
       "      <td>NaN</td>\n",
       "      <td>...</td>\n",
       "      <td>NaN</td>\n",
       "      <td>NaN</td>\n",
       "      <td>NaN</td>\n",
       "      <td>NaN</td>\n",
       "      <td>41.25</td>\n",
       "      <td>8.25</td>\n",
       "      <td>27.0</td>\n",
       "      <td>8.81</td>\n",
       "      <td>3.65</td>\n",
       "      <td>Damage</td>\n",
       "    </tr>\n",
       "  </tbody>\n",
       "</table>\n",
       "<p>288 rows × 131 columns</p>\n",
       "</div>"
      ],
      "text/plain": [
       "     Hero   Skill Tier  KDA Ratio  Pick Rate, %  Win Rate, %  \\\n",
       "0     Ana          All       4.49         10.18        50.99   \n",
       "1     Ana       Bronze       3.87          3.71        43.97   \n",
       "2     Ana       Silver       4.01          3.78        46.68   \n",
       "3     Ana         Gold       4.36          5.46        48.90   \n",
       "4     Ana     Platinum       4.56          9.33        50.45   \n",
       "..    ...          ...        ...           ...          ...   \n",
       "283  Echo         Gold       2.61          0.62        46.33   \n",
       "284  Echo     Platinum       2.67          0.86        45.16   \n",
       "285  Echo      Diamond       2.73          1.57        47.70   \n",
       "286  Echo       Master       2.74          2.05        50.15   \n",
       "287  Echo  Grandmaster       2.90          3.32        50.45   \n",
       "\n",
       "     Eliminations / 10min  Objective Kills / 10min  Objective Time / 10min  \\\n",
       "0                    9.46                     4.05                      63   \n",
       "1                    8.37                     3.80                      61   \n",
       "2                    8.88                     4.08                      64   \n",
       "3                    9.21                     4.14                      65   \n",
       "4                    9.53                     4.18                      65   \n",
       "..                    ...                      ...                     ...   \n",
       "283                 17.62                     6.52                      62   \n",
       "284                 18.34                     6.44                      60   \n",
       "285                 18.85                     6.22                      57   \n",
       "286                 19.17                     5.98                      53   \n",
       "287                 19.25                     5.51                      49   \n",
       "\n",
       "     Damage / 10min  Healing / 10min  ...  Jagged Blade Accuracy, %  \\\n",
       "0              2676           8686.0  ...                       NaN   \n",
       "1              2508           7483.0  ...                       NaN   \n",
       "2              2573           7875.0  ...                       NaN   \n",
       "3              2610           8251.0  ...                       NaN   \n",
       "4              2661           8650.0  ...                       NaN   \n",
       "..              ...              ...  ...                       ...   \n",
       "283            7874              NaN  ...                       NaN   \n",
       "284            8249              NaN  ...                       NaN   \n",
       "285            8639              NaN  ...                       NaN   \n",
       "286            8929              NaN  ...                       NaN   \n",
       "287            9419              NaN  ...                       NaN   \n",
       "\n",
       "     Carnage Kills / 10min  Wound Uptime, %  Rampage Kills / 10min  \\\n",
       "0                      NaN              NaN                    NaN   \n",
       "1                      NaN              NaN                    NaN   \n",
       "2                      NaN              NaN                    NaN   \n",
       "3                      NaN              NaN                    NaN   \n",
       "4                      NaN              NaN                    NaN   \n",
       "..                     ...              ...                    ...   \n",
       "283                    NaN              NaN                    NaN   \n",
       "284                    NaN              NaN                    NaN   \n",
       "285                    NaN              NaN                    NaN   \n",
       "286                    NaN              NaN                    NaN   \n",
       "287                    NaN              NaN                    NaN   \n",
       "\n",
       "     Focusing Beam Accuracy, %  Focusing Beam Kills / 10min  \\\n",
       "0                          NaN                          NaN   \n",
       "1                          NaN                          NaN   \n",
       "2                          NaN                          NaN   \n",
       "3                          NaN                          NaN   \n",
       "4                          NaN                          NaN   \n",
       "..                         ...                          ...   \n",
       "283                      36.42                         7.41   \n",
       "284                      37.88                         7.77   \n",
       "285                      39.25                         8.07   \n",
       "286                      39.86                         8.25   \n",
       "287                      41.25                         8.25   \n",
       "\n",
       "     Sticky Bomb Accuracy, %  Sticky Bomb Kills / 10min  \\\n",
       "0                        NaN                        NaN   \n",
       "1                        NaN                        NaN   \n",
       "2                        NaN                        NaN   \n",
       "3                        NaN                        NaN   \n",
       "4                        NaN                        NaN   \n",
       "..                       ...                        ...   \n",
       "283                     25.0                       8.36   \n",
       "284                     26.0                       8.65   \n",
       "285                     27.0                       8.83   \n",
       "286                     27.0                       8.84   \n",
       "287                     27.0                       8.81   \n",
       "\n",
       "     Duplicate Kills / 10min     Role  \n",
       "0                        NaN  Support  \n",
       "1                        NaN  Support  \n",
       "2                        NaN  Support  \n",
       "3                        NaN  Support  \n",
       "4                        NaN  Support  \n",
       "..                       ...      ...  \n",
       "283                     3.40   Damage  \n",
       "284                     3.57   Damage  \n",
       "285                     3.69   Damage  \n",
       "286                     3.82   Damage  \n",
       "287                     3.65   Damage  \n",
       "\n",
       "[288 rows x 131 columns]"
      ]
     },
     "execution_count": 2,
     "metadata": {},
     "output_type": "execute_result"
    }
   ],
   "source": [
    "df = pd.read_csv(\"Overwatch2.csv\")\n",
    "df"
   ]
  },
  {
   "cell_type": "code",
   "execution_count": 3,
   "metadata": {
    "cell_id": "19de56948f3b4496866dab0a2b9e92cd",
    "deepnote_cell_type": "code",
    "deepnote_to_be_reexecuted": false,
    "execution_millis": 17,
    "execution_start": 1686772058520,
    "source_hash": "25d43fa0"
   },
   "outputs": [
    {
     "data": {
      "text/plain": [
       "Index(['Hero', 'Skill Tier', 'KDA Ratio', 'Pick Rate, %', 'Win Rate, %',\n",
       "       'Eliminations / 10min', 'Objective Kills / 10min',\n",
       "       'Objective Time / 10min', 'Damage / 10min', 'Healing / 10min',\n",
       "       ...\n",
       "       'Jagged Blade Accuracy, %', 'Carnage Kills / 10min', 'Wound Uptime, %',\n",
       "       'Rampage Kills / 10min', 'Focusing Beam Accuracy, %',\n",
       "       'Focusing Beam Kills / 10min', 'Sticky Bomb Accuracy, %',\n",
       "       'Sticky Bomb Kills / 10min', 'Duplicate Kills / 10min', 'Role'],\n",
       "      dtype='object', length=131)"
      ]
     },
     "execution_count": 3,
     "metadata": {},
     "output_type": "execute_result"
    }
   ],
   "source": [
    "df.columns"
   ]
  },
  {
   "cell_type": "code",
   "execution_count": 4,
   "metadata": {
    "cell_id": "fcbbf1e25b8c438a85fa90c9002a947c",
    "deepnote_cell_type": "code",
    "deepnote_to_be_reexecuted": false,
    "execution_millis": 65,
    "execution_start": 1686772058594,
    "source_hash": "14f60b8f"
   },
   "outputs": [
    {
     "data": {
      "text/plain": [
       "(288, 131)"
      ]
     },
     "execution_count": 4,
     "metadata": {},
     "output_type": "execute_result"
    }
   ],
   "source": [
    "df.shape"
   ]
  },
  {
   "cell_type": "markdown",
   "metadata": {
    "cell_id": "bc233b1e939d49cdad0f73b7928a2c52",
    "deepnote_cell_type": "markdown"
   },
   "source": [
    "### Clean Data\n",
    "As you can see from the data, there are columns where it only applies to certain heroes and their specific ability so we drop them from the dataset. We drop the \"All\" row in the \"Skill Tier\" column as well to generate data based off indivdual ranks. We also want to rename some of the columns to make it shorter. Note that the columns after Win Rate% are in a span of 10 minutes so we will take that out for simplicity. Lets name this new dataframe df_ow "
   ]
  },
  {
   "cell_type": "code",
   "execution_count": 5,
   "metadata": {
    "cell_id": "d78e735146484d4b89da773ebfde7794",
    "deepnote_cell_type": "code",
    "deepnote_to_be_reexecuted": false,
    "execution_millis": 4,
    "execution_start": 1686772058711,
    "source_hash": "66ed16e1"
   },
   "outputs": [],
   "source": [
    "df = df.dropna(axis=1)"
   ]
  },
  {
   "cell_type": "code",
   "execution_count": 6,
   "metadata": {
    "cell_id": "88021d6a388b4b16b0026e5e320af581",
    "deepnote_cell_type": "code",
    "deepnote_to_be_reexecuted": false,
    "execution_millis": 131,
    "execution_start": 1686772058735,
    "source_hash": "8436bf60"
   },
   "outputs": [
    {
     "data": {
      "application/vnd.deepnote.dataframe.v3+json": {
       "column_count": 11,
       "columns": [
        {
         "dtype": "object",
         "name": "Hero",
         "stats": {
          "categories": [
           {
            "count": 7,
            "name": "Ana"
           },
           {
            "count": 7,
            "name": "Mercy"
           },
           {
            "count": 238,
            "name": "34 others"
           }
          ],
          "nan_count": 0,
          "unique_count": 36
         }
        },
        {
         "dtype": "object",
         "name": "Skill Tier",
         "stats": {
          "categories": [
           {
            "count": 36,
            "name": "Bronze"
           },
           {
            "count": 36,
            "name": "Silver"
           },
           {
            "count": 180,
            "name": "5 others"
           }
          ],
          "nan_count": 0,
          "unique_count": 7
         }
        },
        {
         "dtype": "float64",
         "name": "KDA",
         "stats": {
          "histogram": [
           {
            "bin_end": 2.6620000000000004,
            "bin_start": 2.22,
            "count": 40
           },
           {
            "bin_end": 3.104,
            "bin_start": 2.6620000000000004,
            "count": 54
           },
           {
            "bin_end": 3.5460000000000003,
            "bin_start": 3.104,
            "count": 32
           },
           {
            "bin_end": 3.9880000000000004,
            "bin_start": 3.5460000000000003,
            "count": 37
           },
           {
            "bin_end": 4.43,
            "bin_start": 3.9880000000000004,
            "count": 21
           },
           {
            "bin_end": 4.872,
            "bin_start": 4.43,
            "count": 31
           },
           {
            "bin_end": 5.314,
            "bin_start": 4.872,
            "count": 19
           },
           {
            "bin_end": 5.756,
            "bin_start": 5.314,
            "count": 7
           },
           {
            "bin_end": 6.198,
            "bin_start": 5.756,
            "count": 5
           },
           {
            "bin_end": 6.64,
            "bin_start": 6.198,
            "count": 6
           }
          ],
          "max": "6.64",
          "min": "2.22",
          "nan_count": 0,
          "unique_count": 181
         }
        },
        {
         "dtype": "float64",
         "name": "Pick Rate",
         "stats": {
          "histogram": [
           {
            "bin_end": 3.0549999999999997,
            "bin_start": 0.28,
            "count": 160
           },
           {
            "bin_end": 5.83,
            "bin_start": 3.0549999999999997,
            "count": 55
           },
           {
            "bin_end": 8.604999999999999,
            "bin_start": 5.83,
            "count": 16
           },
           {
            "bin_end": 11.379999999999999,
            "bin_start": 8.604999999999999,
            "count": 10
           },
           {
            "bin_end": 14.155,
            "bin_start": 11.379999999999999,
            "count": 3
           },
           {
            "bin_end": 16.93,
            "bin_start": 14.155,
            "count": 4
           },
           {
            "bin_end": 19.705000000000002,
            "bin_start": 16.93,
            "count": 2
           },
           {
            "bin_end": 22.48,
            "bin_start": 19.705000000000002,
            "count": 0
           },
           {
            "bin_end": 25.255,
            "bin_start": 22.48,
            "count": 1
           },
           {
            "bin_end": 28.03,
            "bin_start": 25.255,
            "count": 1
           }
          ],
          "max": "28.03",
          "min": "0.28",
          "nan_count": 0,
          "unique_count": 207
         }
        },
        {
         "dtype": "float64",
         "name": "Win Rate",
         "stats": {
          "histogram": [
           {
            "bin_end": 36.291000000000004,
            "bin_start": 34.1,
            "count": 3
           },
           {
            "bin_end": 38.482,
            "bin_start": 36.291000000000004,
            "count": 3
           },
           {
            "bin_end": 40.673,
            "bin_start": 38.482,
            "count": 7
           },
           {
            "bin_end": 42.864000000000004,
            "bin_start": 40.673,
            "count": 19
           },
           {
            "bin_end": 45.055,
            "bin_start": 42.864000000000004,
            "count": 30
           },
           {
            "bin_end": 47.246,
            "bin_start": 45.055,
            "count": 36
           },
           {
            "bin_end": 49.437,
            "bin_start": 47.246,
            "count": 50
           },
           {
            "bin_end": 51.628,
            "bin_start": 49.437,
            "count": 60
           },
           {
            "bin_end": 53.819,
            "bin_start": 51.628,
            "count": 36
           },
           {
            "bin_end": 56.01,
            "bin_start": 53.819,
            "count": 8
           }
          ],
          "max": "56.01",
          "min": "34.1",
          "nan_count": 0,
          "unique_count": 231
         }
        },
        {
         "dtype": "float64",
         "name": "Eliminations",
         "stats": {
          "histogram": [
           {
            "bin_end": 3.559,
            "bin_start": 1.56,
            "count": 7
           },
           {
            "bin_end": 5.558,
            "bin_start": 3.559,
            "count": 0
           },
           {
            "bin_end": 7.557,
            "bin_start": 5.558,
            "count": 2
           },
           {
            "bin_end": 9.556000000000001,
            "bin_start": 7.557,
            "count": 11
           },
           {
            "bin_end": 11.555000000000001,
            "bin_start": 9.556000000000001,
            "count": 10
           },
           {
            "bin_end": 13.554,
            "bin_start": 11.555000000000001,
            "count": 16
           },
           {
            "bin_end": 15.553,
            "bin_start": 13.554,
            "count": 21
           },
           {
            "bin_end": 17.552,
            "bin_start": 15.553,
            "count": 63
           },
           {
            "bin_end": 19.551,
            "bin_start": 17.552,
            "count": 88
           },
           {
            "bin_end": 21.55,
            "bin_start": 19.551,
            "count": 34
           }
          ],
          "max": "21.55",
          "min": "1.56",
          "nan_count": 0,
          "unique_count": 218
         }
        },
        {
         "dtype": "float64",
         "name": "Objective Kills",
         "stats": {
          "histogram": [
           {
            "bin_end": 1.3980000000000001,
            "bin_start": 0.53,
            "count": 7
           },
           {
            "bin_end": 2.266,
            "bin_start": 1.3980000000000001,
            "count": 0
           },
           {
            "bin_end": 3.1340000000000003,
            "bin_start": 2.266,
            "count": 0
           },
           {
            "bin_end": 4.002000000000001,
            "bin_start": 3.1340000000000003,
            "count": 17
           },
           {
            "bin_end": 4.870000000000001,
            "bin_start": 4.002000000000001,
            "count": 15
           },
           {
            "bin_end": 5.738,
            "bin_start": 4.870000000000001,
            "count": 29
           },
           {
            "bin_end": 6.606000000000001,
            "bin_start": 5.738,
            "count": 68
           },
           {
            "bin_end": 7.474000000000001,
            "bin_start": 6.606000000000001,
            "count": 40
           },
           {
            "bin_end": 8.342,
            "bin_start": 7.474000000000001,
            "count": 53
           },
           {
            "bin_end": 9.21,
            "bin_start": 8.342,
            "count": 23
           }
          ],
          "max": "9.21",
          "min": "0.53",
          "nan_count": 0,
          "unique_count": 200
         }
        },
        {
         "dtype": "int64",
         "name": "Objective Time",
         "stats": {
          "histogram": [
           {
            "bin_end": 30.9,
            "bin_start": 19,
            "count": 7
           },
           {
            "bin_end": 42.8,
            "bin_start": 30.9,
            "count": 14
           },
           {
            "bin_end": 54.7,
            "bin_start": 42.8,
            "count": 42
           },
           {
            "bin_end": 66.6,
            "bin_start": 54.7,
            "count": 58
           },
           {
            "bin_end": 78.5,
            "bin_start": 66.6,
            "count": 27
           },
           {
            "bin_end": 90.4,
            "bin_start": 78.5,
            "count": 18
           },
           {
            "bin_end": 102.3,
            "bin_start": 90.4,
            "count": 17
           },
           {
            "bin_end": 114.2,
            "bin_start": 102.3,
            "count": 18
           },
           {
            "bin_end": 126.10000000000001,
            "bin_start": 114.2,
            "count": 26
           },
           {
            "bin_end": 138,
            "bin_start": 126.10000000000001,
            "count": 25
           }
          ],
          "max": "138",
          "min": "19",
          "nan_count": 0,
          "unique_count": 90
         }
        },
        {
         "dtype": "int64",
         "name": "Damage",
         "stats": {
          "histogram": [
           {
            "bin_end": 1343,
            "bin_start": 296,
            "count": 7
           },
           {
            "bin_end": 2390,
            "bin_start": 1343,
            "count": 4
           },
           {
            "bin_end": 3437,
            "bin_start": 2390,
            "count": 16
           },
           {
            "bin_end": 4484,
            "bin_start": 3437,
            "count": 15
           },
           {
            "bin_end": 5531,
            "bin_start": 4484,
            "count": 17
           },
           {
            "bin_end": 6578,
            "bin_start": 5531,
            "count": 17
           },
           {
            "bin_end": 7625,
            "bin_start": 6578,
            "count": 38
           },
           {
            "bin_end": 8672,
            "bin_start": 7625,
            "count": 67
           },
           {
            "bin_end": 9719,
            "bin_start": 8672,
            "count": 49
           },
           {
            "bin_end": 10766,
            "bin_start": 9719,
            "count": 22
           }
          ],
          "max": "10766",
          "min": "296",
          "nan_count": 0,
          "unique_count": 249
         }
        },
        {
         "dtype": "float64",
         "name": "Deaths",
         "stats": {
          "histogram": [
           {
            "bin_end": 5.313,
            "bin_start": 4.93,
            "count": 7
           },
           {
            "bin_end": 5.696,
            "bin_start": 5.313,
            "count": 13
           },
           {
            "bin_end": 6.079,
            "bin_start": 5.696,
            "count": 17
           },
           {
            "bin_end": 6.462,
            "bin_start": 6.079,
            "count": 25
           },
           {
            "bin_end": 6.845,
            "bin_start": 6.462,
            "count": 33
           },
           {
            "bin_end": 7.228,
            "bin_start": 6.845,
            "count": 29
           },
           {
            "bin_end": 7.611,
            "bin_start": 7.228,
            "count": 23
           },
           {
            "bin_end": 7.994,
            "bin_start": 7.611,
            "count": 41
           },
           {
            "bin_end": 8.376999999999999,
            "bin_start": 7.994,
            "count": 44
           },
           {
            "bin_end": 8.76,
            "bin_start": 8.376999999999999,
            "count": 20
           }
          ],
          "max": "8.76",
          "min": "4.93",
          "nan_count": 0,
          "unique_count": 175
         }
        },
        {
         "dtype": "object",
         "name": "Role",
         "stats": {
          "categories": [
           {
            "count": 119,
            "name": "Damage"
           },
           {
            "count": 77,
            "name": "Tank"
           },
           {
            "count": 56,
            "name": "Support"
           }
          ],
          "nan_count": 0,
          "unique_count": 3
         }
        },
        {
         "dtype": "int64",
         "name": "_deepnote_index_column"
        }
       ],
       "row_count": 252,
       "rows": [
        {
         "Damage": 2508,
         "Deaths": 6.47,
         "Eliminations": 8.37,
         "Hero": "Ana",
         "KDA": 3.87,
         "Objective Kills": 3.8,
         "Objective Time": 61,
         "Pick Rate": 3.71,
         "Role": "Support",
         "Skill Tier": "Bronze",
         "Win Rate": 43.97,
         "_deepnote_index_column": 1
        },
        {
         "Damage": 2573,
         "Deaths": 6.36,
         "Eliminations": 8.88,
         "Hero": "Ana",
         "KDA": 4.01,
         "Objective Kills": 4.08,
         "Objective Time": 64,
         "Pick Rate": 3.78,
         "Role": "Support",
         "Skill Tier": "Silver",
         "Win Rate": 46.68,
         "_deepnote_index_column": 2
        },
        {
         "Damage": 2610,
         "Deaths": 6.13,
         "Eliminations": 9.21,
         "Hero": "Ana",
         "KDA": 4.36,
         "Objective Kills": 4.14,
         "Objective Time": 65,
         "Pick Rate": 5.46,
         "Role": "Support",
         "Skill Tier": "Gold",
         "Win Rate": 48.9,
         "_deepnote_index_column": 3
        },
        {
         "Damage": 2661,
         "Deaths": 5.89,
         "Eliminations": 9.53,
         "Hero": "Ana",
         "KDA": 4.56,
         "Objective Kills": 4.18,
         "Objective Time": 65,
         "Pick Rate": 9.33,
         "Role": "Support",
         "Skill Tier": "Platinum",
         "Win Rate": 50.45,
         "_deepnote_index_column": 4
        },
        {
         "Damage": 2709,
         "Deaths": 5.74,
         "Eliminations": 9.7,
         "Hero": "Ana",
         "KDA": 4.6,
         "Objective Kills": 4.11,
         "Objective Time": 63,
         "Pick Rate": 16.5,
         "Role": "Support",
         "Skill Tier": "Diamond",
         "Win Rate": 51.3,
         "_deepnote_index_column": 5
        },
        {
         "Damage": 2756,
         "Deaths": 5.63,
         "Eliminations": 9.75,
         "Hero": "Ana",
         "KDA": 4.63,
         "Objective Kills": 3.98,
         "Objective Time": 62,
         "Pick Rate": 22.77,
         "Role": "Support",
         "Skill Tier": "Master",
         "Win Rate": 52.67,
         "_deepnote_index_column": 6
        },
        {
         "Damage": 2803,
         "Deaths": 5.56,
         "Eliminations": 9.45,
         "Hero": "Ana",
         "KDA": 4.51,
         "Objective Kills": 3.6,
         "Objective Time": 58,
         "Pick Rate": 28.03,
         "Role": "Support",
         "Skill Tier": "Grandmaster",
         "Win Rate": 53.26,
         "_deepnote_index_column": 7
        },
        {
         "Damage": 346,
         "Deaths": 6.88,
         "Eliminations": 1.74,
         "Hero": "Mercy",
         "KDA": 3.53,
         "Objective Kills": 0.77,
         "Objective Time": 58,
         "Pick Rate": 3.69,
         "Role": "Support",
         "Skill Tier": "Bronze",
         "Win Rate": 44.85,
         "_deepnote_index_column": 9
        },
        {
         "Damage": 357,
         "Deaths": 6.57,
         "Eliminations": 1.89,
         "Hero": "Mercy",
         "KDA": 3.84,
         "Objective Kills": 0.81,
         "Objective Time": 58,
         "Pick Rate": 3.48,
         "Role": "Support",
         "Skill Tier": "Silver",
         "Win Rate": 48.46,
         "_deepnote_index_column": 10
        },
        {
         "Damage": 344,
         "Deaths": 6.32,
         "Eliminations": 1.81,
         "Hero": "Mercy",
         "KDA": 4.03,
         "Objective Kills": 0.73,
         "Objective Time": 56,
         "Pick Rate": 3.87,
         "Role": "Support",
         "Skill Tier": "Gold",
         "Win Rate": 49.77,
         "_deepnote_index_column": 11
        }
       ]
      },
      "text/html": [
       "<div>\n",
       "<style scoped>\n",
       "    .dataframe tbody tr th:only-of-type {\n",
       "        vertical-align: middle;\n",
       "    }\n",
       "\n",
       "    .dataframe tbody tr th {\n",
       "        vertical-align: top;\n",
       "    }\n",
       "\n",
       "    .dataframe thead th {\n",
       "        text-align: right;\n",
       "    }\n",
       "</style>\n",
       "<table border=\"1\" class=\"dataframe\">\n",
       "  <thead>\n",
       "    <tr style=\"text-align: right;\">\n",
       "      <th></th>\n",
       "      <th>Hero</th>\n",
       "      <th>Skill Tier</th>\n",
       "      <th>KDA</th>\n",
       "      <th>Pick Rate</th>\n",
       "      <th>Win Rate</th>\n",
       "      <th>Eliminations</th>\n",
       "      <th>Objective Kills</th>\n",
       "      <th>Objective Time</th>\n",
       "      <th>Damage</th>\n",
       "      <th>Deaths</th>\n",
       "      <th>Role</th>\n",
       "    </tr>\n",
       "  </thead>\n",
       "  <tbody>\n",
       "    <tr>\n",
       "      <th>1</th>\n",
       "      <td>Ana</td>\n",
       "      <td>Bronze</td>\n",
       "      <td>3.87</td>\n",
       "      <td>3.71</td>\n",
       "      <td>43.97</td>\n",
       "      <td>8.37</td>\n",
       "      <td>3.80</td>\n",
       "      <td>61</td>\n",
       "      <td>2508</td>\n",
       "      <td>6.47</td>\n",
       "      <td>Support</td>\n",
       "    </tr>\n",
       "    <tr>\n",
       "      <th>2</th>\n",
       "      <td>Ana</td>\n",
       "      <td>Silver</td>\n",
       "      <td>4.01</td>\n",
       "      <td>3.78</td>\n",
       "      <td>46.68</td>\n",
       "      <td>8.88</td>\n",
       "      <td>4.08</td>\n",
       "      <td>64</td>\n",
       "      <td>2573</td>\n",
       "      <td>6.36</td>\n",
       "      <td>Support</td>\n",
       "    </tr>\n",
       "    <tr>\n",
       "      <th>3</th>\n",
       "      <td>Ana</td>\n",
       "      <td>Gold</td>\n",
       "      <td>4.36</td>\n",
       "      <td>5.46</td>\n",
       "      <td>48.90</td>\n",
       "      <td>9.21</td>\n",
       "      <td>4.14</td>\n",
       "      <td>65</td>\n",
       "      <td>2610</td>\n",
       "      <td>6.13</td>\n",
       "      <td>Support</td>\n",
       "    </tr>\n",
       "    <tr>\n",
       "      <th>4</th>\n",
       "      <td>Ana</td>\n",
       "      <td>Platinum</td>\n",
       "      <td>4.56</td>\n",
       "      <td>9.33</td>\n",
       "      <td>50.45</td>\n",
       "      <td>9.53</td>\n",
       "      <td>4.18</td>\n",
       "      <td>65</td>\n",
       "      <td>2661</td>\n",
       "      <td>5.89</td>\n",
       "      <td>Support</td>\n",
       "    </tr>\n",
       "    <tr>\n",
       "      <th>5</th>\n",
       "      <td>Ana</td>\n",
       "      <td>Diamond</td>\n",
       "      <td>4.60</td>\n",
       "      <td>16.50</td>\n",
       "      <td>51.30</td>\n",
       "      <td>9.70</td>\n",
       "      <td>4.11</td>\n",
       "      <td>63</td>\n",
       "      <td>2709</td>\n",
       "      <td>5.74</td>\n",
       "      <td>Support</td>\n",
       "    </tr>\n",
       "    <tr>\n",
       "      <th>...</th>\n",
       "      <td>...</td>\n",
       "      <td>...</td>\n",
       "      <td>...</td>\n",
       "      <td>...</td>\n",
       "      <td>...</td>\n",
       "      <td>...</td>\n",
       "      <td>...</td>\n",
       "      <td>...</td>\n",
       "      <td>...</td>\n",
       "      <td>...</td>\n",
       "      <td>...</td>\n",
       "    </tr>\n",
       "    <tr>\n",
       "      <th>283</th>\n",
       "      <td>Echo</td>\n",
       "      <td>Gold</td>\n",
       "      <td>2.61</td>\n",
       "      <td>0.62</td>\n",
       "      <td>46.33</td>\n",
       "      <td>17.62</td>\n",
       "      <td>6.52</td>\n",
       "      <td>62</td>\n",
       "      <td>7874</td>\n",
       "      <td>8.28</td>\n",
       "      <td>Damage</td>\n",
       "    </tr>\n",
       "    <tr>\n",
       "      <th>284</th>\n",
       "      <td>Echo</td>\n",
       "      <td>Platinum</td>\n",
       "      <td>2.67</td>\n",
       "      <td>0.86</td>\n",
       "      <td>45.16</td>\n",
       "      <td>18.34</td>\n",
       "      <td>6.44</td>\n",
       "      <td>60</td>\n",
       "      <td>8249</td>\n",
       "      <td>8.24</td>\n",
       "      <td>Damage</td>\n",
       "    </tr>\n",
       "    <tr>\n",
       "      <th>285</th>\n",
       "      <td>Echo</td>\n",
       "      <td>Diamond</td>\n",
       "      <td>2.73</td>\n",
       "      <td>1.57</td>\n",
       "      <td>47.70</td>\n",
       "      <td>18.85</td>\n",
       "      <td>6.22</td>\n",
       "      <td>57</td>\n",
       "      <td>8639</td>\n",
       "      <td>8.15</td>\n",
       "      <td>Damage</td>\n",
       "    </tr>\n",
       "    <tr>\n",
       "      <th>286</th>\n",
       "      <td>Echo</td>\n",
       "      <td>Master</td>\n",
       "      <td>2.74</td>\n",
       "      <td>2.05</td>\n",
       "      <td>50.15</td>\n",
       "      <td>19.17</td>\n",
       "      <td>5.98</td>\n",
       "      <td>53</td>\n",
       "      <td>8929</td>\n",
       "      <td>8.11</td>\n",
       "      <td>Damage</td>\n",
       "    </tr>\n",
       "    <tr>\n",
       "      <th>287</th>\n",
       "      <td>Echo</td>\n",
       "      <td>Grandmaster</td>\n",
       "      <td>2.90</td>\n",
       "      <td>3.32</td>\n",
       "      <td>50.45</td>\n",
       "      <td>19.25</td>\n",
       "      <td>5.51</td>\n",
       "      <td>49</td>\n",
       "      <td>9419</td>\n",
       "      <td>7.70</td>\n",
       "      <td>Damage</td>\n",
       "    </tr>\n",
       "  </tbody>\n",
       "</table>\n",
       "<p>252 rows × 11 columns</p>\n",
       "</div>"
      ],
      "text/plain": [
       "     Hero   Skill Tier   KDA  Pick Rate  Win Rate  Eliminations  \\\n",
       "1     Ana       Bronze  3.87       3.71     43.97          8.37   \n",
       "2     Ana       Silver  4.01       3.78     46.68          8.88   \n",
       "3     Ana         Gold  4.36       5.46     48.90          9.21   \n",
       "4     Ana     Platinum  4.56       9.33     50.45          9.53   \n",
       "5     Ana      Diamond  4.60      16.50     51.30          9.70   \n",
       "..    ...          ...   ...        ...       ...           ...   \n",
       "283  Echo         Gold  2.61       0.62     46.33         17.62   \n",
       "284  Echo     Platinum  2.67       0.86     45.16         18.34   \n",
       "285  Echo      Diamond  2.73       1.57     47.70         18.85   \n",
       "286  Echo       Master  2.74       2.05     50.15         19.17   \n",
       "287  Echo  Grandmaster  2.90       3.32     50.45         19.25   \n",
       "\n",
       "     Objective Kills  Objective Time  Damage  Deaths     Role  \n",
       "1               3.80              61    2508    6.47  Support  \n",
       "2               4.08              64    2573    6.36  Support  \n",
       "3               4.14              65    2610    6.13  Support  \n",
       "4               4.18              65    2661    5.89  Support  \n",
       "5               4.11              63    2709    5.74  Support  \n",
       "..               ...             ...     ...     ...      ...  \n",
       "283             6.52              62    7874    8.28   Damage  \n",
       "284             6.44              60    8249    8.24   Damage  \n",
       "285             6.22              57    8639    8.15   Damage  \n",
       "286             5.98              53    8929    8.11   Damage  \n",
       "287             5.51              49    9419    7.70   Damage  \n",
       "\n",
       "[252 rows x 11 columns]"
      ]
     },
     "execution_count": 6,
     "metadata": {},
     "output_type": "execute_result"
    }
   ],
   "source": [
    "df_ow = df[df[\"Skill Tier\"] != \"All\"].copy()\n",
    "df_ow.rename({\"KDA Ratio\":\"KDA\", \"Pick Rate, %\": \"Pick Rate\", \"Win Rate, %\" : \"Win Rate\", \"Eliminations / 10min\" : \"Eliminations\", \"Objective Kills / 10min\": \"Objective Kills\",\"Objective Time / 10min\": \"Objective Time\", \"Damage / 10min\" : \"Damage\", \"Deaths / 10min\" : \"Deaths\"}, axis=1, inplace=True)\n",
    "df_ow"
   ]
  },
  {
   "cell_type": "code",
   "execution_count": 7,
   "metadata": {
    "cell_id": "95cecab23d5d47c1b69301b8022b5170",
    "deepnote_cell_type": "code",
    "deepnote_to_be_reexecuted": false,
    "execution_millis": 10,
    "execution_start": 1686772058975,
    "source_hash": "882bc7a6"
   },
   "outputs": [
    {
     "data": {
      "text/plain": [
       "Index(['Hero', 'Skill Tier', 'KDA', 'Pick Rate', 'Win Rate', 'Eliminations',\n",
       "       'Objective Kills', 'Objective Time', 'Damage', 'Deaths', 'Role'],\n",
       "      dtype='object')"
      ]
     },
     "execution_count": 7,
     "metadata": {},
     "output_type": "execute_result"
    }
   ],
   "source": [
    "df_ow.columns"
   ]
  },
  {
   "cell_type": "code",
   "execution_count": 8,
   "metadata": {
    "cell_id": "c6b6d3d5f34a490284144ae7a455ccae",
    "deepnote_cell_type": "code",
    "deepnote_to_be_reexecuted": false,
    "execution_millis": 3,
    "execution_start": 1686772059070,
    "source_hash": "733cadec"
   },
   "outputs": [
    {
     "data": {
      "text/plain": [
       "(252, 11)"
      ]
     },
     "execution_count": 8,
     "metadata": {},
     "output_type": "execute_result"
    }
   ],
   "source": [
    "df_ow.shape"
   ]
  },
  {
   "cell_type": "markdown",
   "metadata": {
    "cell_id": "2e9081b80264488f9aefa670bb7748c2",
    "deepnote_cell_type": "markdown"
   },
   "source": [
    "### Visualize Data"
   ]
  },
  {
   "cell_type": "markdown",
   "metadata": {
    "cell_id": "811e7fd702cb4092bbc8d1058c54f53e",
    "deepnote_cell_type": "markdown"
   },
   "source": [
    "#### Context :\n",
    "A common question about the game's ranked system that most players have is \"Why am I ranked so low? I feel like I am better than most players since I have more kills than them\". Like I said before this game also focuses on completing an objective where an objective kill is receiving an elimination while completing the objective. Another common argument is to either focus on kills as a whole or focus on the objective, so let us visualize this data by using x = Eliminations and y = Objective Kills and see if there is a trend present.\n",
    "#### Note: Skill Tiers from lowest to highest is Bronze, Silver, Gold, Platinum, Diamond, Master, then Grandmaster"
   ]
  },
  {
   "cell_type": "code",
   "execution_count": 9,
   "metadata": {
    "cell_id": "5aa9c81531074159a5d386915a489e71",
    "deepnote_cell_type": "code",
    "deepnote_to_be_reexecuted": false,
    "execution_millis": 288,
    "execution_start": 1686772059071,
    "source_hash": "73df293c"
   },
   "outputs": [
    {
     "data": {
      "text/html": [
       "\n",
       "<div id=\"altair-viz-a6384e5181504d52948152945c213ed3\"></div>\n",
       "<script type=\"text/javascript\">\n",
       "  var VEGA_DEBUG = (typeof VEGA_DEBUG == \"undefined\") ? {} : VEGA_DEBUG;\n",
       "  (function(spec, embedOpt){\n",
       "    let outputDiv = document.currentScript.previousElementSibling;\n",
       "    if (outputDiv.id !== \"altair-viz-a6384e5181504d52948152945c213ed3\") {\n",
       "      outputDiv = document.getElementById(\"altair-viz-a6384e5181504d52948152945c213ed3\");\n",
       "    }\n",
       "    const paths = {\n",
       "      \"vega\": \"https://cdn.jsdelivr.net/npm//vega@5?noext\",\n",
       "      \"vega-lib\": \"https://cdn.jsdelivr.net/npm//vega-lib?noext\",\n",
       "      \"vega-lite\": \"https://cdn.jsdelivr.net/npm//vega-lite@4.17.0?noext\",\n",
       "      \"vega-embed\": \"https://cdn.jsdelivr.net/npm//vega-embed@6?noext\",\n",
       "    };\n",
       "\n",
       "    function maybeLoadScript(lib, version) {\n",
       "      var key = `${lib.replace(\"-\", \"\")}_version`;\n",
       "      return (VEGA_DEBUG[key] == version) ?\n",
       "        Promise.resolve(paths[lib]) :\n",
       "        new Promise(function(resolve, reject) {\n",
       "          var s = document.createElement('script');\n",
       "          document.getElementsByTagName(\"head\")[0].appendChild(s);\n",
       "          s.async = true;\n",
       "          s.onload = () => {\n",
       "            VEGA_DEBUG[key] = version;\n",
       "            return resolve(paths[lib]);\n",
       "          };\n",
       "          s.onerror = () => reject(`Error loading script: ${paths[lib]}`);\n",
       "          s.src = paths[lib];\n",
       "        });\n",
       "    }\n",
       "\n",
       "    function showError(err) {\n",
       "      outputDiv.innerHTML = `<div class=\"error\" style=\"color:red;\">${err}</div>`;\n",
       "      throw err;\n",
       "    }\n",
       "\n",
       "    function displayChart(vegaEmbed) {\n",
       "      vegaEmbed(outputDiv, spec, embedOpt)\n",
       "        .catch(err => showError(`Javascript Error: ${err.message}<br>This usually means there's a typo in your chart specification. See the javascript console for the full traceback.`));\n",
       "    }\n",
       "\n",
       "    if(typeof define === \"function\" && define.amd) {\n",
       "      requirejs.config({paths});\n",
       "      require([\"vega-embed\"], displayChart, err => showError(`Error loading script: ${err.message}`));\n",
       "    } else {\n",
       "      maybeLoadScript(\"vega\", \"5\")\n",
       "        .then(() => maybeLoadScript(\"vega-lite\", \"4.17.0\"))\n",
       "        .then(() => maybeLoadScript(\"vega-embed\", \"6\"))\n",
       "        .catch(showError)\n",
       "        .then(() => displayChart(vegaEmbed));\n",
       "    }\n",
       "  })({\"config\": {\"view\": {\"continuousWidth\": 400, \"continuousHeight\": 300}}, \"hconcat\": [{\"mark\": \"point\", \"encoding\": {\"color\": {\"field\": \"Skill Tier\", \"type\": \"nominal\"}, \"x\": {\"field\": \"Eliminations\", \"type\": \"quantitative\"}, \"y\": {\"field\": \"Objective Kills\", \"type\": \"quantitative\"}}, \"selection\": {\"selector001\": {\"type\": \"interval\"}}}, {\"mark\": \"bar\", \"encoding\": {\"x\": {\"field\": \"Skill Tier\", \"type\": \"nominal\"}, \"y\": {\"field\": \"Eliminations\", \"type\": \"quantitative\"}}, \"transform\": [{\"filter\": {\"selection\": \"selector001\"}}]}, {\"mark\": \"bar\", \"encoding\": {\"x\": {\"field\": \"Skill Tier\", \"type\": \"nominal\"}, \"y\": {\"field\": \"Objective Kills\", \"type\": \"quantitative\"}}, \"transform\": [{\"filter\": {\"selection\": \"selector001\"}}]}], \"data\": {\"name\": \"data-4dab24f941b3f7b17bc85e3381c3c3e7\"}, \"$schema\": \"https://vega.github.io/schema/vega-lite/v4.17.0.json\", \"datasets\": {\"data-4dab24f941b3f7b17bc85e3381c3c3e7\": [{\"Hero\": \"Ana\", \"Skill Tier\": \"Bronze\", \"KDA\": 3.87, \"Pick Rate\": 3.71, \"Win Rate\": 43.97, \"Eliminations\": 8.37, \"Objective Kills\": 3.8, \"Objective Time\": 61, \"Damage\": 2508, \"Deaths\": 6.47, \"Role\": \"Support\"}, {\"Hero\": \"Ana\", \"Skill Tier\": \"Silver\", \"KDA\": 4.01, \"Pick Rate\": 3.78, \"Win Rate\": 46.68, \"Eliminations\": 8.88, \"Objective Kills\": 4.08, \"Objective Time\": 64, \"Damage\": 2573, \"Deaths\": 6.36, \"Role\": \"Support\"}, {\"Hero\": \"Ana\", \"Skill Tier\": \"Gold\", \"KDA\": 4.36, \"Pick Rate\": 5.46, \"Win Rate\": 48.9, \"Eliminations\": 9.21, \"Objective Kills\": 4.14, \"Objective Time\": 65, \"Damage\": 2610, \"Deaths\": 6.13, \"Role\": \"Support\"}, {\"Hero\": \"Ana\", \"Skill Tier\": \"Platinum\", \"KDA\": 4.56, \"Pick Rate\": 9.33, \"Win Rate\": 50.45, \"Eliminations\": 9.53, \"Objective Kills\": 4.18, \"Objective Time\": 65, \"Damage\": 2661, \"Deaths\": 5.89, \"Role\": \"Support\"}, {\"Hero\": \"Ana\", \"Skill Tier\": \"Diamond\", \"KDA\": 4.6, \"Pick Rate\": 16.5, \"Win Rate\": 51.3, \"Eliminations\": 9.7, \"Objective Kills\": 4.11, \"Objective Time\": 63, \"Damage\": 2709, \"Deaths\": 5.74, \"Role\": \"Support\"}, {\"Hero\": \"Ana\", \"Skill Tier\": \"Master\", \"KDA\": 4.63, \"Pick Rate\": 22.77, \"Win Rate\": 52.67, \"Eliminations\": 9.75, \"Objective Kills\": 3.98, \"Objective Time\": 62, \"Damage\": 2756, \"Deaths\": 5.63, \"Role\": \"Support\"}, {\"Hero\": \"Ana\", \"Skill Tier\": \"Grandmaster\", \"KDA\": 4.51, \"Pick Rate\": 28.03, \"Win Rate\": 53.26, \"Eliminations\": 9.45, \"Objective Kills\": 3.6, \"Objective Time\": 58, \"Damage\": 2803, \"Deaths\": 5.56, \"Role\": \"Support\"}, {\"Hero\": \"Mercy\", \"Skill Tier\": \"Bronze\", \"KDA\": 3.53, \"Pick Rate\": 3.69, \"Win Rate\": 44.85, \"Eliminations\": 1.74, \"Objective Kills\": 0.77, \"Objective Time\": 58, \"Damage\": 346, \"Deaths\": 6.88, \"Role\": \"Support\"}, {\"Hero\": \"Mercy\", \"Skill Tier\": \"Silver\", \"KDA\": 3.84, \"Pick Rate\": 3.48, \"Win Rate\": 48.46, \"Eliminations\": 1.89, \"Objective Kills\": 0.81, \"Objective Time\": 58, \"Damage\": 357, \"Deaths\": 6.57, \"Role\": \"Support\"}, {\"Hero\": \"Mercy\", \"Skill Tier\": \"Gold\", \"KDA\": 4.03, \"Pick Rate\": 3.87, \"Win Rate\": 49.77, \"Eliminations\": 1.81, \"Objective Kills\": 0.73, \"Objective Time\": 56, \"Damage\": 344, \"Deaths\": 6.32, \"Role\": \"Support\"}, {\"Hero\": \"Mercy\", \"Skill Tier\": \"Platinum\", \"KDA\": 4.24, \"Pick Rate\": 5.47, \"Win Rate\": 51.27, \"Eliminations\": 1.77, \"Objective Kills\": 0.67, \"Objective Time\": 53, \"Damage\": 331, \"Deaths\": 6.02, \"Role\": \"Support\"}, {\"Hero\": \"Mercy\", \"Skill Tier\": \"Diamond\", \"KDA\": 4.26, \"Pick Rate\": 9.36, \"Win Rate\": 51.8, \"Eliminations\": 1.76, \"Objective Kills\": 0.62, \"Objective Time\": 49, \"Damage\": 326, \"Deaths\": 5.86, \"Role\": \"Support\"}, {\"Hero\": \"Mercy\", \"Skill Tier\": \"Master\", \"KDA\": 4.3, \"Pick Rate\": 11.9, \"Win Rate\": 52.56, \"Eliminations\": 1.71, \"Objective Kills\": 0.59, \"Objective Time\": 45, \"Damage\": 318, \"Deaths\": 5.83, \"Role\": \"Support\"}, {\"Hero\": \"Mercy\", \"Skill Tier\": \"Grandmaster\", \"KDA\": 4.37, \"Pick Rate\": 17.97, \"Win Rate\": 52.16, \"Eliminations\": 1.56, \"Objective Kills\": 0.53, \"Objective Time\": 42, \"Damage\": 296, \"Deaths\": 5.71, \"Role\": \"Support\"}, {\"Hero\": \"Cassidy\", \"Skill Tier\": \"Bronze\", \"KDA\": 2.22, \"Pick Rate\": 1.62, \"Win Rate\": 43.02, \"Eliminations\": 15.72, \"Objective Kills\": 6.56, \"Objective Time\": 61, \"Damage\": 7402, \"Deaths\": 8.38, \"Role\": \"Damage\"}, {\"Hero\": \"Cassidy\", \"Skill Tier\": \"Silver\", \"KDA\": 2.28, \"Pick Rate\": 2.03, \"Win Rate\": 45.79, \"Eliminations\": 16.64, \"Objective Kills\": 6.71, \"Objective Time\": 60, \"Damage\": 7715, \"Deaths\": 8.26, \"Role\": \"Damage\"}, {\"Hero\": \"Cassidy\", \"Skill Tier\": \"Gold\", \"KDA\": 2.44, \"Pick Rate\": 2.85, \"Win Rate\": 47.34, \"Eliminations\": 17.37, \"Objective Kills\": 6.81, \"Objective Time\": 58, \"Damage\": 8110, \"Deaths\": 8.12, \"Role\": \"Damage\"}, {\"Hero\": \"Cassidy\", \"Skill Tier\": \"Platinum\", \"KDA\": 2.46, \"Pick Rate\": 5.18, \"Win Rate\": 48.84, \"Eliminations\": 18.1, \"Objective Kills\": 6.89, \"Objective Time\": 56, \"Damage\": 8568, \"Deaths\": 8.06, \"Role\": \"Damage\"}, {\"Hero\": \"Cassidy\", \"Skill Tier\": \"Diamond\", \"KDA\": 2.5, \"Pick Rate\": 10.21, \"Win Rate\": 50.22, \"Eliminations\": 18.6, \"Objective Kills\": 6.83, \"Objective Time\": 54, \"Damage\": 8967, \"Deaths\": 8.01, \"Role\": \"Damage\"}, {\"Hero\": \"Cassidy\", \"Skill Tier\": \"Master\", \"KDA\": 2.45, \"Pick Rate\": 15.45, \"Win Rate\": 50.35, \"Eliminations\": 18.68, \"Objective Kills\": 6.65, \"Objective Time\": 52, \"Damage\": 9277, \"Deaths\": 7.94, \"Role\": \"Damage\"}, {\"Hero\": \"Cassidy\", \"Skill Tier\": \"Grandmaster\", \"KDA\": 2.45, \"Pick Rate\": 19.55, \"Win Rate\": 51.77, \"Eliminations\": 18.36, \"Objective Kills\": 6.25, \"Objective Time\": 48, \"Damage\": 9584, \"Deaths\": 7.77, \"Role\": \"Damage\"}, {\"Hero\": \"Genji\", \"Skill Tier\": \"Bronze\", \"KDA\": 2.27, \"Pick Rate\": 1.04, \"Win Rate\": 44.55, \"Eliminations\": 15.44, \"Objective Kills\": 5.22, \"Objective Time\": 71, \"Damage\": 6338, \"Deaths\": 8.37, \"Role\": \"Damage\"}, {\"Hero\": \"Genji\", \"Skill Tier\": \"Silver\", \"KDA\": 2.24, \"Pick Rate\": 1.1, \"Win Rate\": 46.33, \"Eliminations\": 16.04, \"Objective Kills\": 5.31, \"Objective Time\": 71, \"Damage\": 6594, \"Deaths\": 8.48, \"Role\": \"Damage\"}, {\"Hero\": \"Genji\", \"Skill Tier\": \"Gold\", \"KDA\": 2.35, \"Pick Rate\": 1.81, \"Win Rate\": 48.5, \"Eliminations\": 17.04, \"Objective Kills\": 5.31, \"Objective Time\": 68, \"Damage\": 6944, \"Deaths\": 8.37, \"Role\": \"Damage\"}, {\"Hero\": \"Genji\", \"Skill Tier\": \"Platinum\", \"KDA\": 2.42, \"Pick Rate\": 3.66, \"Win Rate\": 50.09, \"Eliminations\": 18.03, \"Objective Kills\": 5.32, \"Objective Time\": 66, \"Damage\": 7270, \"Deaths\": 8.34, \"Role\": \"Damage\"}, {\"Hero\": \"Genji\", \"Skill Tier\": \"Diamond\", \"KDA\": 2.48, \"Pick Rate\": 6.66, \"Win Rate\": 50.57, \"Eliminations\": 18.63, \"Objective Kills\": 5.25, \"Objective Time\": 65, \"Damage\": 7519, \"Deaths\": 8.27, \"Role\": \"Damage\"}, {\"Hero\": \"Genji\", \"Skill Tier\": \"Master\", \"KDA\": 2.46, \"Pick Rate\": 10.52, \"Win Rate\": 51.56, \"Eliminations\": 18.74, \"Objective Kills\": 4.98, \"Objective Time\": 62, \"Damage\": 7600, \"Deaths\": 8.23, \"Role\": \"Damage\"}, {\"Hero\": \"Genji\", \"Skill Tier\": \"Grandmaster\", \"KDA\": 2.51, \"Pick Rate\": 12.51, \"Win Rate\": 53.37, \"Eliminations\": 18.77, \"Objective Kills\": 4.69, \"Objective Time\": 59, \"Damage\": 7692, \"Deaths\": 8.0, \"Role\": \"Damage\"}, {\"Hero\": \"Kiriko\", \"Skill Tier\": \"Bronze\", \"KDA\": 4.25, \"Pick Rate\": 3.52, \"Win Rate\": 43.06, \"Eliminations\": 7.23, \"Objective Kills\": 3.45, \"Objective Time\": 70, \"Damage\": 2154, \"Deaths\": 6.25, \"Role\": \"Support\"}, {\"Hero\": \"Kiriko\", \"Skill Tier\": \"Silver\", \"KDA\": 4.52, \"Pick Rate\": 3.45, \"Win Rate\": 43.86, \"Eliminations\": 7.51, \"Objective Kills\": 3.58, \"Objective Time\": 73, \"Damage\": 2177, \"Deaths\": 6.11, \"Role\": \"Support\"}, {\"Hero\": \"Kiriko\", \"Skill Tier\": \"Gold\", \"KDA\": 4.72, \"Pick Rate\": 4.3, \"Win Rate\": 45.48, \"Eliminations\": 7.8, \"Objective Kills\": 3.59, \"Objective Time\": 72, \"Damage\": 2246, \"Deaths\": 5.94, \"Role\": \"Support\"}, {\"Hero\": \"Kiriko\", \"Skill Tier\": \"Platinum\", \"KDA\": 4.8, \"Pick Rate\": 6.53, \"Win Rate\": 46.71, \"Eliminations\": 8.06, \"Objective Kills\": 3.59, \"Objective Time\": 71, \"Damage\": 2313, \"Deaths\": 5.77, \"Role\": \"Support\"}, {\"Hero\": \"Kiriko\", \"Skill Tier\": \"Diamond\", \"KDA\": 4.95, \"Pick Rate\": 10.38, \"Win Rate\": 47.1, \"Eliminations\": 8.42, \"Objective Kills\": 3.6, \"Objective Time\": 69, \"Damage\": 2444, \"Deaths\": 5.65, \"Role\": \"Support\"}, {\"Hero\": \"Kiriko\", \"Skill Tier\": \"Master\", \"KDA\": 4.86, \"Pick Rate\": 14.57, \"Win Rate\": 47.92, \"Eliminations\": 8.82, \"Objective Kills\": 3.65, \"Objective Time\": 66, \"Damage\": 2595, \"Deaths\": 5.59, \"Role\": \"Support\"}, {\"Hero\": \"Kiriko\", \"Skill Tier\": \"Grandmaster\", \"KDA\": 4.74, \"Pick Rate\": 15.94, \"Win Rate\": 48.96, \"Eliminations\": 9.22, \"Objective Kills\": 3.54, \"Objective Time\": 62, \"Damage\": 2868, \"Deaths\": 5.63, \"Role\": \"Support\"}, {\"Hero\": \"Moira\", \"Skill Tier\": \"Bronze\", \"KDA\": 5.29, \"Pick Rate\": 4.44, \"Win Rate\": 45.21, \"Eliminations\": 16.49, \"Objective Kills\": 7.98, \"Objective Time\": 88, \"Damage\": 5098, \"Deaths\": 6.61, \"Role\": \"Support\"}, {\"Hero\": \"Moira\", \"Skill Tier\": \"Silver\", \"KDA\": 5.77, \"Pick Rate\": 3.92, \"Win Rate\": 47.27, \"Eliminations\": 17.33, \"Objective Kills\": 8.31, \"Objective Time\": 88, \"Damage\": 5231, \"Deaths\": 6.43, \"Role\": \"Support\"}, {\"Hero\": \"Moira\", \"Skill Tier\": \"Gold\", \"KDA\": 6.04, \"Pick Rate\": 4.46, \"Win Rate\": 49.03, \"Eliminations\": 17.78, \"Objective Kills\": 8.41, \"Objective Time\": 88, \"Damage\": 5332, \"Deaths\": 6.26, \"Role\": \"Support\"}, {\"Hero\": \"Moira\", \"Skill Tier\": \"Platinum\", \"KDA\": 6.23, \"Pick Rate\": 4.86, \"Win Rate\": 49.38, \"Eliminations\": 18.1, \"Objective Kills\": 8.39, \"Objective Time\": 86, \"Damage\": 5427, \"Deaths\": 6.09, \"Role\": \"Support\"}, {\"Hero\": \"Moira\", \"Skill Tier\": \"Diamond\", \"KDA\": 6.16, \"Pick Rate\": 6.38, \"Win Rate\": 50.49, \"Eliminations\": 18.06, \"Objective Kills\": 8.18, \"Objective Time\": 84, \"Damage\": 5463, \"Deaths\": 6.09, \"Role\": \"Support\"}, {\"Hero\": \"Moira\", \"Skill Tier\": \"Master\", \"KDA\": 5.91, \"Pick Rate\": 6.04, \"Win Rate\": 49.59, \"Eliminations\": 17.85, \"Objective Kills\": 7.91, \"Objective Time\": 80, \"Damage\": 5475, \"Deaths\": 6.19, \"Role\": \"Support\"}, {\"Hero\": \"Moira\", \"Skill Tier\": \"Grandmaster\", \"KDA\": 5.57, \"Pick Rate\": 6.36, \"Win Rate\": 50.6, \"Eliminations\": 17.42, \"Objective Kills\": 7.48, \"Objective Time\": 78, \"Damage\": 5532, \"Deaths\": 6.3, \"Role\": \"Support\"}, {\"Hero\": \"Reinhardt\", \"Skill Tier\": \"Bronze\", \"KDA\": 2.82, \"Pick Rate\": 1.81, \"Win Rate\": 45.39, \"Eliminations\": 15.24, \"Objective Kills\": 6.07, \"Objective Time\": 129, \"Damage\": 7393, \"Deaths\": 7.38, \"Role\": \"Tank\"}, {\"Hero\": \"Reinhardt\", \"Skill Tier\": \"Silver\", \"KDA\": 3.05, \"Pick Rate\": 2.25, \"Win Rate\": 50.63, \"Eliminations\": 16.26, \"Objective Kills\": 6.37, \"Objective Time\": 130, \"Damage\": 7941, \"Deaths\": 7.07, \"Role\": \"Tank\"}, {\"Hero\": \"Reinhardt\", \"Skill Tier\": \"Gold\", \"KDA\": 3.13, \"Pick Rate\": 2.93, \"Win Rate\": 52.97, \"Eliminations\": 16.83, \"Objective Kills\": 6.43, \"Objective Time\": 126, \"Damage\": 8368, \"Deaths\": 6.91, \"Role\": \"Tank\"}, {\"Hero\": \"Reinhardt\", \"Skill Tier\": \"Platinum\", \"KDA\": 3.19, \"Pick Rate\": 4.89, \"Win Rate\": 54.39, \"Eliminations\": 17.2, \"Objective Kills\": 6.4, \"Objective Time\": 122, \"Damage\": 8718, \"Deaths\": 6.77, \"Role\": \"Tank\"}, {\"Hero\": \"Reinhardt\", \"Skill Tier\": \"Diamond\", \"KDA\": 3.14, \"Pick Rate\": 7.56, \"Win Rate\": 55.01, \"Eliminations\": 17.22, \"Objective Kills\": 6.17, \"Objective Time\": 117, \"Damage\": 8917, \"Deaths\": 6.75, \"Role\": \"Tank\"}, {\"Hero\": \"Reinhardt\", \"Skill Tier\": \"Master\", \"KDA\": 3.04, \"Pick Rate\": 9.02, \"Win Rate\": 54.73, \"Eliminations\": 16.96, \"Objective Kills\": 5.88, \"Objective Time\": 113, \"Damage\": 8887, \"Deaths\": 6.83, \"Role\": \"Tank\"}, {\"Hero\": \"Reinhardt\", \"Skill Tier\": \"Grandmaster\", \"KDA\": 2.94, \"Pick Rate\": 10.75, \"Win Rate\": 56.01, \"Eliminations\": 16.32, \"Objective Kills\": 5.45, \"Objective Time\": 109, \"Damage\": 8563, \"Deaths\": 6.85, \"Role\": \"Tank\"}, {\"Hero\": \"Hanzo\", \"Skill Tier\": \"Bronze\", \"KDA\": 2.77, \"Pick Rate\": 1.45, \"Win Rate\": 44.47, \"Eliminations\": 15.19, \"Objective Kills\": 6.06, \"Objective Time\": 50, \"Damage\": 7067, \"Deaths\": 7.94, \"Role\": \"Damage\"}, {\"Hero\": \"Hanzo\", \"Skill Tier\": \"Silver\", \"KDA\": 3.01, \"Pick Rate\": 1.31, \"Win Rate\": 45.24, \"Eliminations\": 16.04, \"Objective Kills\": 6.28, \"Objective Time\": 53, \"Damage\": 7305, \"Deaths\": 7.88, \"Role\": \"Damage\"}, {\"Hero\": \"Hanzo\", \"Skill Tier\": \"Gold\", \"KDA\": 3.13, \"Pick Rate\": 1.93, \"Win Rate\": 48.57, \"Eliminations\": 16.77, \"Objective Kills\": 6.32, \"Objective Time\": 53, \"Damage\": 7577, \"Deaths\": 7.73, \"Role\": \"Damage\"}, {\"Hero\": \"Hanzo\", \"Skill Tier\": \"Platinum\", \"KDA\": 3.23, \"Pick Rate\": 3.38, \"Win Rate\": 49.52, \"Eliminations\": 17.37, \"Objective Kills\": 6.28, \"Objective Time\": 52, \"Damage\": 7814, \"Deaths\": 7.71, \"Role\": \"Damage\"}, {\"Hero\": \"Hanzo\", \"Skill Tier\": \"Diamond\", \"KDA\": 3.2, \"Pick Rate\": 5.81, \"Win Rate\": 50.03, \"Eliminations\": 17.7, \"Objective Kills\": 6.07, \"Objective Time\": 50, \"Damage\": 7938, \"Deaths\": 7.74, \"Role\": \"Damage\"}, {\"Hero\": \"Hanzo\", \"Skill Tier\": \"Master\", \"KDA\": 3.13, \"Pick Rate\": 7.35, \"Win Rate\": 50.08, \"Eliminations\": 17.53, \"Objective Kills\": 5.71, \"Objective Time\": 47, \"Damage\": 7932, \"Deaths\": 7.75, \"Role\": \"Damage\"}, {\"Hero\": \"Hanzo\", \"Skill Tier\": \"Grandmaster\", \"KDA\": 3.09, \"Pick Rate\": 8.97, \"Win Rate\": 50.72, \"Eliminations\": 16.88, \"Objective Kills\": 5.05, \"Objective Time\": 43, \"Damage\": 7801, \"Deaths\": 7.65, \"Role\": \"Damage\"}, {\"Hero\": \"Widowmaker\", \"Skill Tier\": \"Bronze\", \"KDA\": 2.54, \"Pick Rate\": 0.73, \"Win Rate\": 42.05, \"Eliminations\": 13.52, \"Objective Kills\": 3.57, \"Objective Time\": 19, \"Damage\": 5272, \"Deaths\": 7.64, \"Role\": \"Damage\"}, {\"Hero\": \"Widowmaker\", \"Skill Tier\": \"Silver\", \"KDA\": 2.62, \"Pick Rate\": 0.78, \"Win Rate\": 44.25, \"Eliminations\": 14.63, \"Objective Kills\": 3.74, \"Objective Time\": 19, \"Damage\": 5535, \"Deaths\": 7.79, \"Role\": \"Damage\"}, {\"Hero\": \"Widowmaker\", \"Skill Tier\": \"Gold\", \"KDA\": 2.63, \"Pick Rate\": 1.07, \"Win Rate\": 46.43, \"Eliminations\": 15.19, \"Objective Kills\": 3.73, \"Objective Time\": 21, \"Damage\": 5714, \"Deaths\": 7.83, \"Role\": \"Damage\"}, {\"Hero\": \"Widowmaker\", \"Skill Tier\": \"Platinum\", \"KDA\": 2.59, \"Pick Rate\": 1.73, \"Win Rate\": 47.83, \"Eliminations\": 15.69, \"Objective Kills\": 3.7, \"Objective Time\": 22, \"Damage\": 5820, \"Deaths\": 8.1, \"Role\": \"Damage\"}, {\"Hero\": \"Widowmaker\", \"Skill Tier\": \"Diamond\", \"KDA\": 2.53, \"Pick Rate\": 3.19, \"Win Rate\": 49.06, \"Eliminations\": 16.0, \"Objective Kills\": 3.64, \"Objective Time\": 23, \"Damage\": 5905, \"Deaths\": 8.29, \"Role\": \"Damage\"}, {\"Hero\": \"Widowmaker\", \"Skill Tier\": \"Master\", \"KDA\": 2.4, \"Pick Rate\": 4.91, \"Win Rate\": 49.68, \"Eliminations\": 15.85, \"Objective Kills\": 3.5, \"Objective Time\": 22, \"Damage\": 5846, \"Deaths\": 8.38, \"Role\": \"Damage\"}, {\"Hero\": \"Widowmaker\", \"Skill Tier\": \"Grandmaster\", \"KDA\": 2.41, \"Pick Rate\": 7.93, \"Win Rate\": 51.49, \"Eliminations\": 15.59, \"Objective Kills\": 3.28, \"Objective Time\": 20, \"Damage\": 5816, \"Deaths\": 8.3, \"Role\": \"Damage\"}, {\"Hero\": \"Soldier: 76\", \"Skill Tier\": \"Bronze\", \"KDA\": 2.64, \"Pick Rate\": 2.25, \"Win Rate\": 41.6, \"Eliminations\": 17.0, \"Objective Kills\": 7.41, \"Objective Time\": 64, \"Damage\": 8082, \"Deaths\": 8.76, \"Role\": \"Damage\"}, {\"Hero\": \"Soldier: 76\", \"Skill Tier\": \"Silver\", \"KDA\": 2.73, \"Pick Rate\": 2.41, \"Win Rate\": 44.48, \"Eliminations\": 18.01, \"Objective Kills\": 7.61, \"Objective Time\": 62, \"Damage\": 8417, \"Deaths\": 8.61, \"Role\": \"Damage\"}, {\"Hero\": \"Soldier: 76\", \"Skill Tier\": \"Gold\", \"KDA\": 2.9, \"Pick Rate\": 3.06, \"Win Rate\": 47.28, \"Eliminations\": 18.85, \"Objective Kills\": 7.61, \"Objective Time\": 57, \"Damage\": 8802, \"Deaths\": 8.27, \"Role\": \"Damage\"}, {\"Hero\": \"Soldier: 76\", \"Skill Tier\": \"Platinum\", \"KDA\": 2.93, \"Pick Rate\": 4.38, \"Win Rate\": 48.18, \"Eliminations\": 19.32, \"Objective Kills\": 7.42, \"Objective Time\": 53, \"Damage\": 9150, \"Deaths\": 8.12, \"Role\": \"Damage\"}, {\"Hero\": \"Soldier: 76\", \"Skill Tier\": \"Diamond\", \"KDA\": 2.97, \"Pick Rate\": 6.24, \"Win Rate\": 49.06, \"Eliminations\": 19.59, \"Objective Kills\": 7.25, \"Objective Time\": 49, \"Damage\": 9418, \"Deaths\": 7.97, \"Role\": \"Damage\"}, {\"Hero\": \"Soldier: 76\", \"Skill Tier\": \"Master\", \"KDA\": 2.96, \"Pick Rate\": 8.31, \"Win Rate\": 49.69, \"Eliminations\": 19.39, \"Objective Kills\": 6.9, \"Objective Time\": 46, \"Damage\": 9511, \"Deaths\": 7.94, \"Role\": \"Damage\"}, {\"Hero\": \"Soldier: 76\", \"Skill Tier\": \"Grandmaster\", \"KDA\": 2.95, \"Pick Rate\": 9.65, \"Win Rate\": 51.42, \"Eliminations\": 18.99, \"Objective Kills\": 6.49, \"Objective Time\": 43, \"Damage\": 9622, \"Deaths\": 7.79, \"Role\": \"Damage\"}, {\"Hero\": \"Zenyatta\", \"Skill Tier\": \"Bronze\", \"KDA\": 5.0, \"Pick Rate\": 1.36, \"Win Rate\": 48.7, \"Eliminations\": 12.71, \"Objective Kills\": 5.77, \"Objective Time\": 65, \"Damage\": 4661, \"Deaths\": 7.42, \"Role\": \"Support\"}, {\"Hero\": \"Zenyatta\", \"Skill Tier\": \"Silver\", \"KDA\": 5.19, \"Pick Rate\": 1.31, \"Win Rate\": 48.35, \"Eliminations\": 13.55, \"Objective Kills\": 6.08, \"Objective Time\": 69, \"Damage\": 4886, \"Deaths\": 7.29, \"Role\": \"Support\"}, {\"Hero\": \"Zenyatta\", \"Skill Tier\": \"Gold\", \"KDA\": 5.47, \"Pick Rate\": 1.8, \"Win Rate\": 51.21, \"Eliminations\": 14.0, \"Objective Kills\": 6.1, \"Objective Time\": 69, \"Damage\": 5037, \"Deaths\": 7.1, \"Role\": \"Support\"}, {\"Hero\": \"Zenyatta\", \"Skill Tier\": \"Platinum\", \"KDA\": 5.55, \"Pick Rate\": 2.9, \"Win Rate\": 51.81, \"Eliminations\": 14.24, \"Objective Kills\": 6.04, \"Objective Time\": 67, \"Damage\": 5140, \"Deaths\": 6.89, \"Role\": \"Support\"}, {\"Hero\": \"Zenyatta\", \"Skill Tier\": \"Diamond\", \"KDA\": 5.61, \"Pick Rate\": 5.05, \"Win Rate\": 52.8, \"Eliminations\": 14.34, \"Objective Kills\": 5.82, \"Objective Time\": 65, \"Damage\": 5216, \"Deaths\": 6.66, \"Role\": \"Support\"}, {\"Hero\": \"Zenyatta\", \"Skill Tier\": \"Master\", \"KDA\": 5.59, \"Pick Rate\": 7.38, \"Win Rate\": 54.96, \"Eliminations\": 14.13, \"Objective Kills\": 5.47, \"Objective Time\": 62, \"Damage\": 5204, \"Deaths\": 6.53, \"Role\": \"Support\"}, {\"Hero\": \"Zenyatta\", \"Skill Tier\": \"Grandmaster\", \"KDA\": 5.28, \"Pick Rate\": 11.33, \"Win Rate\": 54.18, \"Eliminations\": 13.37, \"Objective Kills\": 4.74, \"Objective Time\": 56, \"Damage\": 5154, \"Deaths\": 6.37, \"Role\": \"Support\"}, {\"Hero\": \"Lucio\", \"Skill Tier\": \"Bronze\", \"KDA\": 3.44, \"Pick Rate\": 1.42, \"Win Rate\": 44.22, \"Eliminations\": 10.8, \"Objective Kills\": 5.6, \"Objective Time\": 111, \"Damage\": 3218, \"Deaths\": 7.67, \"Role\": \"Support\"}, {\"Hero\": \"Lucio\", \"Skill Tier\": \"Silver\", \"KDA\": 3.77, \"Pick Rate\": 1.11, \"Win Rate\": 47.97, \"Eliminations\": 11.89, \"Objective Kills\": 5.98, \"Objective Time\": 109, \"Damage\": 3405, \"Deaths\": 7.57, \"Role\": \"Support\"}, {\"Hero\": \"Lucio\", \"Skill Tier\": \"Gold\", \"KDA\": 3.87, \"Pick Rate\": 1.37, \"Win Rate\": 48.65, \"Eliminations\": 12.42, \"Objective Kills\": 5.97, \"Objective Time\": 105, \"Damage\": 3533, \"Deaths\": 7.49, \"Role\": \"Support\"}, {\"Hero\": \"Lucio\", \"Skill Tier\": \"Platinum\", \"KDA\": 3.96, \"Pick Rate\": 1.95, \"Win Rate\": 50.82, \"Eliminations\": 12.81, \"Objective Kills\": 5.85, \"Objective Time\": 100, \"Damage\": 3638, \"Deaths\": 7.4, \"Role\": \"Support\"}, {\"Hero\": \"Lucio\", \"Skill Tier\": \"Diamond\", \"KDA\": 3.98, \"Pick Rate\": 2.79, \"Win Rate\": 50.94, \"Eliminations\": 12.95, \"Objective Kills\": 5.68, \"Objective Time\": 95, \"Damage\": 3686, \"Deaths\": 7.46, \"Role\": \"Support\"}, {\"Hero\": \"Lucio\", \"Skill Tier\": \"Master\", \"KDA\": 3.99, \"Pick Rate\": 3.67, \"Win Rate\": 50.99, \"Eliminations\": 13.22, \"Objective Kills\": 5.52, \"Objective Time\": 88, \"Damage\": 3738, \"Deaths\": 7.37, \"Role\": \"Support\"}, {\"Hero\": \"Lucio\", \"Skill Tier\": \"Grandmaster\", \"KDA\": 4.1, \"Pick Rate\": 6.72, \"Win Rate\": 52.56, \"Eliminations\": 13.02, \"Objective Kills\": 5.15, \"Objective Time\": 82, \"Damage\": 3794, \"Deaths\": 7.11, \"Role\": \"Support\"}, {\"Hero\": \"D.Va\", \"Skill Tier\": \"Bronze\", \"KDA\": 5.32, \"Pick Rate\": 1.63, \"Win Rate\": 42.58, \"Eliminations\": 18.97, \"Objective Kills\": 6.46, \"Objective Time\": 132, \"Damage\": 7489, \"Deaths\": 6.02, \"Role\": \"Tank\"}, {\"Hero\": \"D.Va\", \"Skill Tier\": \"Silver\", \"KDA\": 5.8, \"Pick Rate\": 1.35, \"Win Rate\": 45.33, \"Eliminations\": 20.47, \"Objective Kills\": 6.66, \"Objective Time\": 132, \"Damage\": 8028, \"Deaths\": 5.8, \"Role\": \"Tank\"}, {\"Hero\": \"D.Va\", \"Skill Tier\": \"Gold\", \"KDA\": 6.22, \"Pick Rate\": 1.36, \"Win Rate\": 47.31, \"Eliminations\": 21.26, \"Objective Kills\": 6.66, \"Objective Time\": 129, \"Damage\": 8337, \"Deaths\": 5.62, \"Role\": \"Tank\"}, {\"Hero\": \"D.Va\", \"Skill Tier\": \"Platinum\", \"KDA\": 6.35, \"Pick Rate\": 1.82, \"Win Rate\": 48.49, \"Eliminations\": 21.49, \"Objective Kills\": 6.47, \"Objective Time\": 125, \"Damage\": 8585, \"Deaths\": 5.49, \"Role\": \"Tank\"}, {\"Hero\": \"D.Va\", \"Skill Tier\": \"Diamond\", \"KDA\": 6.64, \"Pick Rate\": 2.67, \"Win Rate\": 48.58, \"Eliminations\": 21.55, \"Objective Kills\": 6.15, \"Objective Time\": 119, \"Damage\": 8750, \"Deaths\": 5.33, \"Role\": \"Tank\"}, {\"Hero\": \"D.Va\", \"Skill Tier\": \"Master\", \"KDA\": 6.59, \"Pick Rate\": 3.63, \"Win Rate\": 49.4, \"Eliminations\": 20.88, \"Objective Kills\": 5.74, \"Objective Time\": 114, \"Damage\": 8698, \"Deaths\": 5.26, \"Role\": \"Tank\"}, {\"Hero\": \"D.Va\", \"Skill Tier\": \"Grandmaster\", \"KDA\": 6.47, \"Pick Rate\": 5.53, \"Win Rate\": 50.94, \"Eliminations\": 19.91, \"Objective Kills\": 5.05, \"Objective Time\": 109, \"Damage\": 8554, \"Deaths\": 4.93, \"Role\": \"Tank\"}, {\"Hero\": \"Junkrat\", \"Skill Tier\": \"Bronze\", \"KDA\": 2.38, \"Pick Rate\": 1.74, \"Win Rate\": 43.26, \"Eliminations\": 15.34, \"Objective Kills\": 6.57, \"Objective Time\": 60, \"Damage\": 7670, \"Deaths\": 8.69, \"Role\": \"Damage\"}, {\"Hero\": \"Junkrat\", \"Skill Tier\": \"Silver\", \"KDA\": 2.58, \"Pick Rate\": 1.74, \"Win Rate\": 45.91, \"Eliminations\": 16.0, \"Objective Kills\": 6.61, \"Objective Time\": 58, \"Damage\": 8026, \"Deaths\": 8.49, \"Role\": \"Damage\"}, {\"Hero\": \"Junkrat\", \"Skill Tier\": \"Gold\", \"KDA\": 2.67, \"Pick Rate\": 1.74, \"Win Rate\": 46.48, \"Eliminations\": 16.4, \"Objective Kills\": 6.4, \"Objective Time\": 55, \"Damage\": 8201, \"Deaths\": 8.26, \"Role\": \"Damage\"}, {\"Hero\": \"Junkrat\", \"Skill Tier\": \"Platinum\", \"KDA\": 2.72, \"Pick Rate\": 1.96, \"Win Rate\": 47.85, \"Eliminations\": 16.57, \"Objective Kills\": 6.15, \"Objective Time\": 50, \"Damage\": 8373, \"Deaths\": 8.17, \"Role\": \"Damage\"}, {\"Hero\": \"Junkrat\", \"Skill Tier\": \"Diamond\", \"KDA\": 2.67, \"Pick Rate\": 2.4, \"Win Rate\": 48.25, \"Eliminations\": 16.6, \"Objective Kills\": 5.78, \"Objective Time\": 45, \"Damage\": 8458, \"Deaths\": 8.16, \"Role\": \"Damage\"}, {\"Hero\": \"Junkrat\", \"Skill Tier\": \"Master\", \"KDA\": 2.69, \"Pick Rate\": 2.65, \"Win Rate\": 49.54, \"Eliminations\": 16.31, \"Objective Kills\": 5.47, \"Objective Time\": 42, \"Damage\": 8390, \"Deaths\": 8.14, \"Role\": \"Damage\"}, {\"Hero\": \"Junkrat\", \"Skill Tier\": \"Grandmaster\", \"KDA\": 2.54, \"Pick Rate\": 2.75, \"Win Rate\": 49.32, \"Eliminations\": 15.56, \"Objective Kills\": 4.94, \"Objective Time\": 38, \"Damage\": 8147, \"Deaths\": 8.2, \"Role\": \"Damage\"}, {\"Hero\": \"Ashe\", \"Skill Tier\": \"Bronze\", \"KDA\": 2.38, \"Pick Rate\": 1.04, \"Win Rate\": 42.57, \"Eliminations\": 14.24, \"Objective Kills\": 5.96, \"Objective Time\": 55, \"Damage\": 7192, \"Deaths\": 7.72, \"Role\": \"Damage\"}, {\"Hero\": \"Ashe\", \"Skill Tier\": \"Silver\", \"KDA\": 2.62, \"Pick Rate\": 1.11, \"Win Rate\": 45.71, \"Eliminations\": 15.4, \"Objective Kills\": 6.16, \"Objective Time\": 54, \"Damage\": 7715, \"Deaths\": 7.47, \"Role\": \"Damage\"}, {\"Hero\": \"Ashe\", \"Skill Tier\": \"Gold\", \"KDA\": 2.7, \"Pick Rate\": 1.62, \"Win Rate\": 48.19, \"Eliminations\": 16.34, \"Objective Kills\": 6.22, \"Objective Time\": 53, \"Damage\": 8215, \"Deaths\": 7.37, \"Role\": \"Damage\"}, {\"Hero\": \"Ashe\", \"Skill Tier\": \"Platinum\", \"KDA\": 2.74, \"Pick Rate\": 2.39, \"Win Rate\": 49.36, \"Eliminations\": 17.09, \"Objective Kills\": 6.21, \"Objective Time\": 50, \"Damage\": 8725, \"Deaths\": 7.44, \"Role\": \"Damage\"}, {\"Hero\": \"Ashe\", \"Skill Tier\": \"Diamond\", \"KDA\": 2.72, \"Pick Rate\": 4.11, \"Win Rate\": 49.43, \"Eliminations\": 17.56, \"Objective Kills\": 6.06, \"Objective Time\": 48, \"Damage\": 9153, \"Deaths\": 7.55, \"Role\": \"Damage\"}, {\"Hero\": \"Ashe\", \"Skill Tier\": \"Master\", \"KDA\": 2.68, \"Pick Rate\": 5.05, \"Win Rate\": 51.28, \"Eliminations\": 17.66, \"Objective Kills\": 5.71, \"Objective Time\": 44, \"Damage\": 9438, \"Deaths\": 7.65, \"Role\": \"Damage\"}, {\"Hero\": \"Ashe\", \"Skill Tier\": \"Grandmaster\", \"KDA\": 2.69, \"Pick Rate\": 4.95, \"Win Rate\": 51.18, \"Eliminations\": 17.76, \"Objective Kills\": 5.29, \"Objective Time\": 41, \"Damage\": 9893, \"Deaths\": 7.76, \"Role\": \"Damage\"}, {\"Hero\": \"Tracer\", \"Skill Tier\": \"Bronze\", \"KDA\": 2.24, \"Pick Rate\": 0.64, \"Win Rate\": 39.43, \"Eliminations\": 14.98, \"Objective Kills\": 5.98, \"Objective Time\": 65, \"Damage\": 5758, \"Deaths\": 8.62, \"Role\": \"Damage\"}, {\"Hero\": \"Tracer\", \"Skill Tier\": \"Silver\", \"KDA\": 2.42, \"Pick Rate\": 0.67, \"Win Rate\": 44.77, \"Eliminations\": 16.33, \"Objective Kills\": 6.28, \"Objective Time\": 67, \"Damage\": 6126, \"Deaths\": 8.51, \"Role\": \"Damage\"}, {\"Hero\": \"Tracer\", \"Skill Tier\": \"Gold\", \"KDA\": 2.47, \"Pick Rate\": 0.86, \"Win Rate\": 45.57, \"Eliminations\": 17.11, \"Objective Kills\": 6.35, \"Objective Time\": 63, \"Damage\": 6338, \"Deaths\": 8.39, \"Role\": \"Damage\"}, {\"Hero\": \"Tracer\", \"Skill Tier\": \"Platinum\", \"KDA\": 2.45, \"Pick Rate\": 1.54, \"Win Rate\": 46.75, \"Eliminations\": 17.62, \"Objective Kills\": 6.36, \"Objective Time\": 62, \"Damage\": 6556, \"Deaths\": 8.44, \"Role\": \"Damage\"}, {\"Hero\": \"Tracer\", \"Skill Tier\": \"Diamond\", \"KDA\": 2.48, \"Pick Rate\": 3.14, \"Win Rate\": 48.5, \"Eliminations\": 17.97, \"Objective Kills\": 6.33, \"Objective Time\": 59, \"Damage\": 6683, \"Deaths\": 8.44, \"Role\": \"Damage\"}, {\"Hero\": \"Tracer\", \"Skill Tier\": \"Master\", \"KDA\": 2.45, \"Pick Rate\": 4.85, \"Win Rate\": 49.24, \"Eliminations\": 18.16, \"Objective Kills\": 6.17, \"Objective Time\": 57, \"Damage\": 6803, \"Deaths\": 8.3, \"Role\": \"Damage\"}, {\"Hero\": \"Tracer\", \"Skill Tier\": \"Grandmaster\", \"KDA\": 2.64, \"Pick Rate\": 11.98, \"Win Rate\": 52.55, \"Eliminations\": 18.28, \"Objective Kills\": 5.74, \"Objective Time\": 53, \"Damage\": 7071, \"Deaths\": 7.71, \"Role\": \"Damage\"}, {\"Hero\": \"Roadhog\", \"Skill Tier\": \"Bronze\", \"KDA\": 3.07, \"Pick Rate\": 0.35, \"Win Rate\": 34.1, \"Eliminations\": 14.52, \"Objective Kills\": 7.24, \"Objective Time\": 117, \"Damage\": 6745, \"Deaths\": 7.3, \"Role\": \"Tank\"}, {\"Hero\": \"Roadhog\", \"Skill Tier\": \"Silver\", \"KDA\": 3.3, \"Pick Rate\": 0.37, \"Win Rate\": 35.67, \"Eliminations\": 15.53, \"Objective Kills\": 7.61, \"Objective Time\": 119, \"Damage\": 7125, \"Deaths\": 7.09, \"Role\": \"Tank\"}, {\"Hero\": \"Roadhog\", \"Skill Tier\": \"Gold\", \"KDA\": 3.68, \"Pick Rate\": 0.46, \"Win Rate\": 38.83, \"Eliminations\": 16.66, \"Objective Kills\": 7.93, \"Objective Time\": 116, \"Damage\": 7700, \"Deaths\": 6.89, \"Role\": \"Tank\"}, {\"Hero\": \"Roadhog\", \"Skill Tier\": \"Platinum\", \"KDA\": 3.69, \"Pick Rate\": 0.7, \"Win Rate\": 39.09, \"Eliminations\": 17.32, \"Objective Kills\": 7.94, \"Objective Time\": 116, \"Damage\": 8138, \"Deaths\": 6.79, \"Role\": \"Tank\"}, {\"Hero\": \"Roadhog\", \"Skill Tier\": \"Diamond\", \"KDA\": 3.83, \"Pick Rate\": 1.22, \"Win Rate\": 40.9, \"Eliminations\": 17.89, \"Objective Kills\": 7.86, \"Objective Time\": 111, \"Damage\": 8445, \"Deaths\": 6.7, \"Role\": \"Tank\"}, {\"Hero\": \"Roadhog\", \"Skill Tier\": \"Master\", \"KDA\": 3.81, \"Pick Rate\": 1.38, \"Win Rate\": 41.03, \"Eliminations\": 17.86, \"Objective Kills\": 7.62, \"Objective Time\": 107, \"Damage\": 8470, \"Deaths\": 6.63, \"Role\": \"Tank\"}, {\"Hero\": \"Roadhog\", \"Skill Tier\": \"Grandmaster\", \"KDA\": 3.78, \"Pick Rate\": 1.68, \"Win Rate\": 42.66, \"Eliminations\": 17.12, \"Objective Kills\": 7.21, \"Objective Time\": 106, \"Damage\": 8218, \"Deaths\": 6.5, \"Role\": \"Tank\"}, {\"Hero\": \"Zarya\", \"Skill Tier\": \"Bronze\", \"KDA\": 3.97, \"Pick Rate\": 0.72, \"Win Rate\": 39.27, \"Eliminations\": 17.34, \"Objective Kills\": 8.65, \"Objective Time\": 133, \"Damage\": 8415, \"Deaths\": 6.74, \"Role\": \"Tank\"}, {\"Hero\": \"Zarya\", \"Skill Tier\": \"Silver\", \"KDA\": 4.34, \"Pick Rate\": 0.99, \"Win Rate\": 42.98, \"Eliminations\": 18.62, \"Objective Kills\": 9.06, \"Objective Time\": 132, \"Damage\": 8995, \"Deaths\": 6.56, \"Role\": \"Tank\"}, {\"Hero\": \"Zarya\", \"Skill Tier\": \"Gold\", \"KDA\": 4.65, \"Pick Rate\": 1.36, \"Win Rate\": 45.51, \"Eliminations\": 19.52, \"Objective Kills\": 9.12, \"Objective Time\": 128, \"Damage\": 9476, \"Deaths\": 6.37, \"Role\": \"Tank\"}, {\"Hero\": \"Zarya\", \"Skill Tier\": \"Platinum\", \"KDA\": 4.79, \"Pick Rate\": 1.81, \"Win Rate\": 46.18, \"Eliminations\": 20.13, \"Objective Kills\": 9.21, \"Objective Time\": 127, \"Damage\": 9922, \"Deaths\": 6.25, \"Role\": \"Tank\"}, {\"Hero\": \"Zarya\", \"Skill Tier\": \"Diamond\", \"KDA\": 4.83, \"Pick Rate\": 2.54, \"Win Rate\": 45.86, \"Eliminations\": 20.31, \"Objective Kills\": 9.07, \"Objective Time\": 123, \"Damage\": 10191, \"Deaths\": 6.2, \"Role\": \"Tank\"}, {\"Hero\": \"Zarya\", \"Skill Tier\": \"Master\", \"KDA\": 4.86, \"Pick Rate\": 2.69, \"Win Rate\": 47.08, \"Eliminations\": 20.19, \"Objective Kills\": 8.87, \"Objective Time\": 117, \"Damage\": 10345, \"Deaths\": 6.13, \"Role\": \"Tank\"}, {\"Hero\": \"Zarya\", \"Skill Tier\": \"Grandmaster\", \"KDA\": 4.91, \"Pick Rate\": 3.15, \"Win Rate\": 48.78, \"Eliminations\": 19.68, \"Objective Kills\": 8.42, \"Objective Time\": 111, \"Damage\": 10283, \"Deaths\": 5.98, \"Role\": \"Tank\"}, {\"Hero\": \"Reaper\", \"Skill Tier\": \"Bronze\", \"KDA\": 2.66, \"Pick Rate\": 1.19, \"Win Rate\": 44.71, \"Eliminations\": 17.9, \"Objective Kills\": 7.51, \"Objective Time\": 80, \"Damage\": 7272, \"Deaths\": 8.28, \"Role\": \"Damage\"}, {\"Hero\": \"Reaper\", \"Skill Tier\": \"Silver\", \"KDA\": 2.68, \"Pick Rate\": 1.34, \"Win Rate\": 45.45, \"Eliminations\": 18.82, \"Objective Kills\": 7.63, \"Objective Time\": 78, \"Damage\": 7567, \"Deaths\": 8.21, \"Role\": \"Damage\"}, {\"Hero\": \"Reaper\", \"Skill Tier\": \"Gold\", \"KDA\": 2.84, \"Pick Rate\": 1.59, \"Win Rate\": 47.73, \"Eliminations\": 19.47, \"Objective Kills\": 7.74, \"Objective Time\": 77, \"Damage\": 7958, \"Deaths\": 8.11, \"Role\": \"Damage\"}, {\"Hero\": \"Reaper\", \"Skill Tier\": \"Platinum\", \"KDA\": 2.82, \"Pick Rate\": 2.34, \"Win Rate\": 48.97, \"Eliminations\": 19.97, \"Objective Kills\": 7.72, \"Objective Time\": 74, \"Damage\": 8317, \"Deaths\": 8.07, \"Role\": \"Damage\"}, {\"Hero\": \"Reaper\", \"Skill Tier\": \"Diamond\", \"KDA\": 2.89, \"Pick Rate\": 3.16, \"Win Rate\": 49.51, \"Eliminations\": 20.25, \"Objective Kills\": 7.66, \"Objective Time\": 72, \"Damage\": 8576, \"Deaths\": 8.02, \"Role\": \"Damage\"}, {\"Hero\": \"Reaper\", \"Skill Tier\": \"Master\", \"KDA\": 2.85, \"Pick Rate\": 3.18, \"Win Rate\": 49.5, \"Eliminations\": 20.16, \"Objective Kills\": 7.53, \"Objective Time\": 71, \"Damage\": 8650, \"Deaths\": 8.01, \"Role\": \"Damage\"}, {\"Hero\": \"Reaper\", \"Skill Tier\": \"Grandmaster\", \"KDA\": 2.8, \"Pick Rate\": 2.53, \"Win Rate\": 49.08, \"Eliminations\": 19.37, \"Objective Kills\": 7.11, \"Objective Time\": 70, \"Damage\": 8578, \"Deaths\": 7.94, \"Role\": \"Damage\"}, {\"Hero\": \"Baptiste\", \"Skill Tier\": \"Bronze\", \"KDA\": 3.88, \"Pick Rate\": 1.6, \"Win Rate\": 42.36, \"Eliminations\": 9.23, \"Objective Kills\": 4.33, \"Objective Time\": 66, \"Damage\": 3148, \"Deaths\": 7.01, \"Role\": \"Support\"}, {\"Hero\": \"Baptiste\", \"Skill Tier\": \"Silver\", \"KDA\": 4.08, \"Pick Rate\": 1.3, \"Win Rate\": 42.84, \"Eliminations\": 10.04, \"Objective Kills\": 4.77, \"Objective Time\": 69, \"Damage\": 3344, \"Deaths\": 6.88, \"Role\": \"Support\"}, {\"Hero\": \"Baptiste\", \"Skill Tier\": \"Gold\", \"KDA\": 4.33, \"Pick Rate\": 1.79, \"Win Rate\": 46.63, \"Eliminations\": 10.32, \"Objective Kills\": 4.78, \"Objective Time\": 65, \"Damage\": 3398, \"Deaths\": 6.64, \"Role\": \"Support\"}, {\"Hero\": \"Baptiste\", \"Skill Tier\": \"Platinum\", \"KDA\": 4.52, \"Pick Rate\": 2.49, \"Win Rate\": 47.17, \"Eliminations\": 10.78, \"Objective Kills\": 4.75, \"Objective Time\": 61, \"Damage\": 3585, \"Deaths\": 6.39, \"Role\": \"Support\"}, {\"Hero\": \"Baptiste\", \"Skill Tier\": \"Diamond\", \"KDA\": 4.7, \"Pick Rate\": 4.25, \"Win Rate\": 49.71, \"Eliminations\": 11.23, \"Objective Kills\": 4.75, \"Objective Time\": 58, \"Damage\": 3769, \"Deaths\": 6.2, \"Role\": \"Support\"}, {\"Hero\": \"Baptiste\", \"Skill Tier\": \"Master\", \"KDA\": 4.72, \"Pick Rate\": 4.66, \"Win Rate\": 49.75, \"Eliminations\": 11.49, \"Objective Kills\": 4.65, \"Objective Time\": 54, \"Damage\": 3932, \"Deaths\": 6.15, \"Role\": \"Support\"}, {\"Hero\": \"Baptiste\", \"Skill Tier\": \"Grandmaster\", \"KDA\": 4.84, \"Pick Rate\": 7.61, \"Win Rate\": 53.08, \"Eliminations\": 11.74, \"Objective Kills\": 4.46, \"Objective Time\": 52, \"Damage\": 4231, \"Deaths\": 6.01, \"Role\": \"Support\"}, {\"Hero\": \"Orisa\", \"Skill Tier\": \"Bronze\", \"KDA\": 3.19, \"Pick Rate\": 1.31, \"Win Rate\": 37.88, \"Eliminations\": 15.49, \"Objective Kills\": 7.81, \"Objective Time\": 130, \"Damage\": 8149, \"Deaths\": 7.57, \"Role\": \"Tank\"}, {\"Hero\": \"Orisa\", \"Skill Tier\": \"Silver\", \"KDA\": 3.58, \"Pick Rate\": 1.54, \"Win Rate\": 41.51, \"Eliminations\": 16.9, \"Objective Kills\": 8.24, \"Objective Time\": 133, \"Damage\": 8744, \"Deaths\": 7.31, \"Role\": \"Tank\"}, {\"Hero\": \"Orisa\", \"Skill Tier\": \"Gold\", \"KDA\": 3.66, \"Pick Rate\": 1.73, \"Win Rate\": 43.92, \"Eliminations\": 17.57, \"Objective Kills\": 8.17, \"Objective Time\": 129, \"Damage\": 9154, \"Deaths\": 7.15, \"Role\": \"Tank\"}, {\"Hero\": \"Orisa\", \"Skill Tier\": \"Platinum\", \"KDA\": 3.79, \"Pick Rate\": 2.24, \"Win Rate\": 44.59, \"Eliminations\": 18.26, \"Objective Kills\": 8.17, \"Objective Time\": 125, \"Damage\": 9497, \"Deaths\": 7.01, \"Role\": \"Tank\"}, {\"Hero\": \"Orisa\", \"Skill Tier\": \"Diamond\", \"KDA\": 3.92, \"Pick Rate\": 2.75, \"Win Rate\": 44.05, \"Eliminations\": 18.52, \"Objective Kills\": 7.99, \"Objective Time\": 121, \"Damage\": 9694, \"Deaths\": 6.92, \"Role\": \"Tank\"}, {\"Hero\": \"Orisa\", \"Skill Tier\": \"Master\", \"KDA\": 3.83, \"Pick Rate\": 2.72, \"Win Rate\": 43.59, \"Eliminations\": 18.36, \"Objective Kills\": 7.79, \"Objective Time\": 119, \"Damage\": 9586, \"Deaths\": 6.91, \"Role\": \"Tank\"}, {\"Hero\": \"Orisa\", \"Skill Tier\": \"Grandmaster\", \"KDA\": 3.83, \"Pick Rate\": 2.58, \"Win Rate\": 43.89, \"Eliminations\": 17.89, \"Objective Kills\": 7.53, \"Objective Time\": 117, \"Damage\": 9299, \"Deaths\": 6.86, \"Role\": \"Tank\"}, {\"Hero\": \"Pharah\", \"Skill Tier\": \"Bronze\", \"KDA\": 2.85, \"Pick Rate\": 0.94, \"Win Rate\": 45.59, \"Eliminations\": 17.93, \"Objective Kills\": 6.54, \"Objective Time\": 42, \"Damage\": 8056, \"Deaths\": 8.24, \"Role\": \"Damage\"}, {\"Hero\": \"Pharah\", \"Skill Tier\": \"Silver\", \"KDA\": 3.11, \"Pick Rate\": 1.07, \"Win Rate\": 49.07, \"Eliminations\": 19.49, \"Objective Kills\": 6.77, \"Objective Time\": 42, \"Damage\": 8495, \"Deaths\": 8.33, \"Role\": \"Damage\"}, {\"Hero\": \"Pharah\", \"Skill Tier\": \"Gold\", \"KDA\": 3.13, \"Pick Rate\": 1.2, \"Win Rate\": 49.56, \"Eliminations\": 20.24, \"Objective Kills\": 6.76, \"Objective Time\": 41, \"Damage\": 8771, \"Deaths\": 8.32, \"Role\": \"Damage\"}, {\"Hero\": \"Pharah\", \"Skill Tier\": \"Platinum\", \"KDA\": 3.12, \"Pick Rate\": 1.65, \"Win Rate\": 50.63, \"Eliminations\": 20.91, \"Objective Kills\": 6.62, \"Objective Time\": 39, \"Damage\": 9121, \"Deaths\": 8.45, \"Role\": \"Damage\"}, {\"Hero\": \"Pharah\", \"Skill Tier\": \"Diamond\", \"KDA\": 3.08, \"Pick Rate\": 2.35, \"Win Rate\": 51.0, \"Eliminations\": 21.42, \"Objective Kills\": 6.47, \"Objective Time\": 38, \"Damage\": 9433, \"Deaths\": 8.56, \"Role\": \"Damage\"}, {\"Hero\": \"Pharah\", \"Skill Tier\": \"Master\", \"KDA\": 3.01, \"Pick Rate\": 3.14, \"Win Rate\": 52.68, \"Eliminations\": 21.35, \"Objective Kills\": 6.13, \"Objective Time\": 35, \"Damage\": 9577, \"Deaths\": 8.56, \"Role\": \"Damage\"}, {\"Hero\": \"Pharah\", \"Skill Tier\": \"Grandmaster\", \"KDA\": 3.0, \"Pick Rate\": 3.03, \"Win Rate\": 53.11, \"Eliminations\": 21.08, \"Objective Kills\": 5.87, \"Objective Time\": 32, \"Damage\": 9720, \"Deaths\": 8.47, \"Role\": \"Damage\"}, {\"Hero\": \"Sigma\", \"Skill Tier\": \"Bronze\", \"KDA\": 4.06, \"Pick Rate\": 1.26, \"Win Rate\": 44.52, \"Eliminations\": 16.21, \"Objective Kills\": 8.55, \"Objective Time\": 138, \"Damage\": 8706, \"Deaths\": 5.56, \"Role\": \"Tank\"}, {\"Hero\": \"Sigma\", \"Skill Tier\": \"Silver\", \"KDA\": 4.6, \"Pick Rate\": 1.35, \"Win Rate\": 46.84, \"Eliminations\": 17.59, \"Objective Kills\": 8.9, \"Objective Time\": 138, \"Damage\": 9286, \"Deaths\": 5.41, \"Role\": \"Tank\"}, {\"Hero\": \"Sigma\", \"Skill Tier\": \"Gold\", \"KDA\": 4.88, \"Pick Rate\": 1.52, \"Win Rate\": 48.93, \"Eliminations\": 18.4, \"Objective Kills\": 8.88, \"Objective Time\": 135, \"Damage\": 9669, \"Deaths\": 5.21, \"Role\": \"Tank\"}, {\"Hero\": \"Sigma\", \"Skill Tier\": \"Platinum\", \"KDA\": 5.01, \"Pick Rate\": 2.12, \"Win Rate\": 50.52, \"Eliminations\": 18.88, \"Objective Kills\": 8.64, \"Objective Time\": 131, \"Damage\": 10066, \"Deaths\": 5.08, \"Role\": \"Tank\"}, {\"Hero\": \"Sigma\", \"Skill Tier\": \"Diamond\", \"KDA\": 5.09, \"Pick Rate\": 3.09, \"Win Rate\": 50.86, \"Eliminations\": 19.16, \"Objective Kills\": 8.3, \"Objective Time\": 126, \"Damage\": 10337, \"Deaths\": 5.04, \"Role\": \"Tank\"}, {\"Hero\": \"Sigma\", \"Skill Tier\": \"Master\", \"KDA\": 4.91, \"Pick Rate\": 3.91, \"Win Rate\": 51.89, \"Eliminations\": 18.95, \"Objective Kills\": 7.79, \"Objective Time\": 123, \"Damage\": 10391, \"Deaths\": 5.03, \"Role\": \"Tank\"}, {\"Hero\": \"Sigma\", \"Skill Tier\": \"Grandmaster\", \"KDA\": 4.66, \"Pick Rate\": 5.83, \"Win Rate\": 53.24, \"Eliminations\": 18.22, \"Objective Kills\": 7.01, \"Objective Time\": 118, \"Damage\": 10365, \"Deaths\": 4.98, \"Role\": \"Tank\"}, {\"Hero\": \"Doomfist\", \"Skill Tier\": \"Bronze\", \"KDA\": 3.16, \"Pick Rate\": 0.28, \"Win Rate\": 42.13, \"Eliminations\": 15.51, \"Objective Kills\": 5.84, \"Objective Time\": 95, \"Damage\": 6846, \"Deaths\": 8.29, \"Role\": \"Tank\"}, {\"Hero\": \"Doomfist\", \"Skill Tier\": \"Silver\", \"KDA\": 3.35, \"Pick Rate\": 0.45, \"Win Rate\": 48.14, \"Eliminations\": 16.78, \"Objective Kills\": 6.33, \"Objective Time\": 101, \"Damage\": 7290, \"Deaths\": 7.93, \"Role\": \"Tank\"}, {\"Hero\": \"Doomfist\", \"Skill Tier\": \"Gold\", \"KDA\": 3.26, \"Pick Rate\": 0.69, \"Win Rate\": 48.06, \"Eliminations\": 17.31, \"Objective Kills\": 6.19, \"Objective Time\": 97, \"Damage\": 7620, \"Deaths\": 8.05, \"Role\": \"Tank\"}, {\"Hero\": \"Doomfist\", \"Skill Tier\": \"Platinum\", \"KDA\": 3.38, \"Pick Rate\": 1.35, \"Win Rate\": 50.42, \"Eliminations\": 18.16, \"Objective Kills\": 6.12, \"Objective Time\": 93, \"Damage\": 7995, \"Deaths\": 7.75, \"Role\": \"Tank\"}, {\"Hero\": \"Doomfist\", \"Skill Tier\": \"Diamond\", \"KDA\": 3.39, \"Pick Rate\": 2.84, \"Win Rate\": 51.5, \"Eliminations\": 18.69, \"Objective Kills\": 6.0, \"Objective Time\": 88, \"Damage\": 8249, \"Deaths\": 7.71, \"Role\": \"Tank\"}, {\"Hero\": \"Doomfist\", \"Skill Tier\": \"Master\", \"KDA\": 3.4, \"Pick Rate\": 3.54, \"Win Rate\": 51.01, \"Eliminations\": 18.9, \"Objective Kills\": 5.79, \"Objective Time\": 84, \"Damage\": 8309, \"Deaths\": 7.61, \"Role\": \"Tank\"}, {\"Hero\": \"Doomfist\", \"Skill Tier\": \"Grandmaster\", \"KDA\": 3.43, \"Pick Rate\": 6.89, \"Win Rate\": 51.89, \"Eliminations\": 18.78, \"Objective Kills\": 5.63, \"Objective Time\": 82, \"Damage\": 8354, \"Deaths\": 7.53, \"Role\": \"Tank\"}, {\"Hero\": \"Brigitte\", \"Skill Tier\": \"Bronze\", \"KDA\": 3.85, \"Pick Rate\": 0.7, \"Win Rate\": 46.01, \"Eliminations\": 11.28, \"Objective Kills\": 4.93, \"Objective Time\": 93, \"Damage\": 3383, \"Deaths\": 8.39, \"Role\": \"Support\"}, {\"Hero\": \"Brigitte\", \"Skill Tier\": \"Silver\", \"KDA\": 4.3, \"Pick Rate\": 0.69, \"Win Rate\": 49.47, \"Eliminations\": 12.17, \"Objective Kills\": 5.12, \"Objective Time\": 93, \"Damage\": 3563, \"Deaths\": 8.15, \"Role\": \"Support\"}, {\"Hero\": \"Brigitte\", \"Skill Tier\": \"Gold\", \"KDA\": 4.53, \"Pick Rate\": 0.87, \"Win Rate\": 51.35, \"Eliminations\": 12.52, \"Objective Kills\": 5.23, \"Objective Time\": 91, \"Damage\": 3737, \"Deaths\": 8.03, \"Role\": \"Support\"}, {\"Hero\": \"Brigitte\", \"Skill Tier\": \"Platinum\", \"KDA\": 4.63, \"Pick Rate\": 1.26, \"Win Rate\": 52.1, \"Eliminations\": 12.48, \"Objective Kills\": 5.09, \"Objective Time\": 88, \"Damage\": 3750, \"Deaths\": 7.71, \"Role\": \"Support\"}, {\"Hero\": \"Brigitte\", \"Skill Tier\": \"Diamond\", \"KDA\": 4.75, \"Pick Rate\": 1.99, \"Win Rate\": 52.77, \"Eliminations\": 12.36, \"Objective Kills\": 5.03, \"Objective Time\": 86, \"Damage\": 3788, \"Deaths\": 7.36, \"Role\": \"Support\"}, {\"Hero\": \"Brigitte\", \"Skill Tier\": \"Master\", \"KDA\": 4.9, \"Pick Rate\": 2.85, \"Win Rate\": 53.47, \"Eliminations\": 11.75, \"Objective Kills\": 4.67, \"Objective Time\": 83, \"Damage\": 3701, \"Deaths\": 7.05, \"Role\": \"Support\"}, {\"Hero\": \"Brigitte\", \"Skill Tier\": \"Grandmaster\", \"KDA\": 4.93, \"Pick Rate\": 5.39, \"Win Rate\": 53.59, \"Eliminations\": 10.82, \"Objective Kills\": 4.33, \"Objective Time\": 84, \"Damage\": 3588, \"Deaths\": 6.49, \"Role\": \"Support\"}, {\"Hero\": \"Mei\", \"Skill Tier\": \"Bronze\", \"KDA\": 3.64, \"Pick Rate\": 0.97, \"Win Rate\": 45.73, \"Eliminations\": 16.62, \"Objective Kills\": 7.77, \"Objective Time\": 100, \"Damage\": 6368, \"Deaths\": 7.52, \"Role\": \"Damage\"}, {\"Hero\": \"Mei\", \"Skill Tier\": \"Silver\", \"KDA\": 3.88, \"Pick Rate\": 1.14, \"Win Rate\": 48.21, \"Eliminations\": 17.3, \"Objective Kills\": 8.01, \"Objective Time\": 100, \"Damage\": 6620, \"Deaths\": 7.4, \"Role\": \"Damage\"}, {\"Hero\": \"Mei\", \"Skill Tier\": \"Gold\", \"KDA\": 3.96, \"Pick Rate\": 1.3, \"Win Rate\": 49.98, \"Eliminations\": 17.89, \"Objective Kills\": 8.02, \"Objective Time\": 95, \"Damage\": 6849, \"Deaths\": 7.3, \"Role\": \"Damage\"}, {\"Hero\": \"Mei\", \"Skill Tier\": \"Platinum\", \"KDA\": 3.92, \"Pick Rate\": 1.75, \"Win Rate\": 50.77, \"Eliminations\": 18.09, \"Objective Kills\": 7.78, \"Objective Time\": 91, \"Damage\": 7062, \"Deaths\": 7.2, \"Role\": \"Damage\"}, {\"Hero\": \"Mei\", \"Skill Tier\": \"Diamond\", \"KDA\": 3.83, \"Pick Rate\": 2.52, \"Win Rate\": 51.11, \"Eliminations\": 18.01, \"Objective Kills\": 7.52, \"Objective Time\": 87, \"Damage\": 7172, \"Deaths\": 7.18, \"Role\": \"Damage\"}, {\"Hero\": \"Mei\", \"Skill Tier\": \"Master\", \"KDA\": 3.76, \"Pick Rate\": 3.35, \"Win Rate\": 52.77, \"Eliminations\": 17.75, \"Objective Kills\": 7.12, \"Objective Time\": 81, \"Damage\": 7215, \"Deaths\": 7.1, \"Role\": \"Damage\"}, {\"Hero\": \"Mei\", \"Skill Tier\": \"Grandmaster\", \"KDA\": 3.57, \"Pick Rate\": 3.33, \"Win Rate\": 52.48, \"Eliminations\": 17.07, \"Objective Kills\": 6.64, \"Objective Time\": 77, \"Damage\": 7114, \"Deaths\": 6.97, \"Role\": \"Damage\"}, {\"Hero\": \"Winston\", \"Skill Tier\": \"Bronze\", \"KDA\": 3.27, \"Pick Rate\": 0.38, \"Win Rate\": 35.95, \"Eliminations\": 17.12, \"Objective Kills\": 6.86, \"Objective Time\": 120, \"Damage\": 6766, \"Deaths\": 7.89, \"Role\": \"Tank\"}, {\"Hero\": \"Winston\", \"Skill Tier\": \"Silver\", \"KDA\": 3.5, \"Pick Rate\": 0.5, \"Win Rate\": 38.65, \"Eliminations\": 18.35, \"Objective Kills\": 7.13, \"Objective Time\": 120, \"Damage\": 7217, \"Deaths\": 7.61, \"Role\": \"Tank\"}, {\"Hero\": \"Winston\", \"Skill Tier\": \"Gold\", \"KDA\": 3.87, \"Pick Rate\": 0.71, \"Win Rate\": 41.52, \"Eliminations\": 19.33, \"Objective Kills\": 7.11, \"Objective Time\": 117, \"Damage\": 7561, \"Deaths\": 7.24, \"Role\": \"Tank\"}, {\"Hero\": \"Winston\", \"Skill Tier\": \"Platinum\", \"KDA\": 3.97, \"Pick Rate\": 1.2, \"Win Rate\": 42.53, \"Eliminations\": 19.88, \"Objective Kills\": 6.83, \"Objective Time\": 111, \"Damage\": 7869, \"Deaths\": 7.07, \"Role\": \"Tank\"}, {\"Hero\": \"Winston\", \"Skill Tier\": \"Diamond\", \"KDA\": 4.02, \"Pick Rate\": 2.13, \"Win Rate\": 43.47, \"Eliminations\": 20.11, \"Objective Kills\": 6.52, \"Objective Time\": 105, \"Damage\": 8112, \"Deaths\": 6.91, \"Role\": \"Tank\"}, {\"Hero\": \"Winston\", \"Skill Tier\": \"Master\", \"KDA\": 3.97, \"Pick Rate\": 2.96, \"Win Rate\": 45.99, \"Eliminations\": 20.02, \"Objective Kills\": 6.17, \"Objective Time\": 99, \"Damage\": 8207, \"Deaths\": 6.81, \"Role\": \"Tank\"}, {\"Hero\": \"Winston\", \"Skill Tier\": \"Grandmaster\", \"KDA\": 3.98, \"Pick Rate\": 4.84, \"Win Rate\": 49.07, \"Eliminations\": 19.47, \"Objective Kills\": 5.68, \"Objective Time\": 93, \"Damage\": 8238, \"Deaths\": 6.54, \"Role\": \"Tank\"}, {\"Hero\": \"Bastion\", \"Skill Tier\": \"Bronze\", \"KDA\": 2.56, \"Pick Rate\": 1.42, \"Win Rate\": 41.57, \"Eliminations\": 17.63, \"Objective Kills\": 7.92, \"Objective Time\": 67, \"Damage\": 9344, \"Deaths\": 8.61, \"Role\": \"Damage\"}, {\"Hero\": \"Bastion\", \"Skill Tier\": \"Silver\", \"KDA\": 2.77, \"Pick Rate\": 1.42, \"Win Rate\": 44.03, \"Eliminations\": 18.52, \"Objective Kills\": 8.29, \"Objective Time\": 70, \"Damage\": 9758, \"Deaths\": 8.4, \"Role\": \"Damage\"}, {\"Hero\": \"Bastion\", \"Skill Tier\": \"Gold\", \"KDA\": 2.91, \"Pick Rate\": 1.52, \"Win Rate\": 45.96, \"Eliminations\": 19.31, \"Objective Kills\": 8.47, \"Objective Time\": 70, \"Damage\": 10133, \"Deaths\": 8.17, \"Role\": \"Damage\"}, {\"Hero\": \"Bastion\", \"Skill Tier\": \"Platinum\", \"KDA\": 3.03, \"Pick Rate\": 1.87, \"Win Rate\": 47.12, \"Eliminations\": 19.71, \"Objective Kills\": 8.42, \"Objective Time\": 68, \"Damage\": 10482, \"Deaths\": 7.98, \"Role\": \"Damage\"}, {\"Hero\": \"Bastion\", \"Skill Tier\": \"Diamond\", \"KDA\": 3.09, \"Pick Rate\": 2.79, \"Win Rate\": 47.95, \"Eliminations\": 19.96, \"Objective Kills\": 8.19, \"Objective Time\": 64, \"Damage\": 10766, \"Deaths\": 7.86, \"Role\": \"Damage\"}, {\"Hero\": \"Bastion\", \"Skill Tier\": \"Master\", \"KDA\": 3.06, \"Pick Rate\": 3.84, \"Win Rate\": 50.59, \"Eliminations\": 19.73, \"Objective Kills\": 7.84, \"Objective Time\": 61, \"Damage\": 10761, \"Deaths\": 7.87, \"Role\": \"Damage\"}, {\"Hero\": \"Bastion\", \"Skill Tier\": \"Grandmaster\", \"KDA\": 2.96, \"Pick Rate\": 2.98, \"Win Rate\": 49.28, \"Eliminations\": 19.14, \"Objective Kills\": 7.29, \"Objective Time\": 57, \"Damage\": 10658, \"Deaths\": 7.87, \"Role\": \"Damage\"}, {\"Hero\": \"Sombra\", \"Skill Tier\": \"Bronze\", \"KDA\": 3.91, \"Pick Rate\": 0.54, \"Win Rate\": 38.01, \"Eliminations\": 13.85, \"Objective Kills\": 5.31, \"Objective Time\": 47, \"Damage\": 4585, \"Deaths\": 6.68, \"Role\": \"Damage\"}, {\"Hero\": \"Sombra\", \"Skill Tier\": \"Silver\", \"KDA\": 4.5, \"Pick Rate\": 0.46, \"Win Rate\": 40.36, \"Eliminations\": 15.5, \"Objective Kills\": 5.86, \"Objective Time\": 47, \"Damage\": 4972, \"Deaths\": 6.34, \"Role\": \"Damage\"}, {\"Hero\": \"Sombra\", \"Skill Tier\": \"Gold\", \"KDA\": 4.71, \"Pick Rate\": 0.79, \"Win Rate\": 44.14, \"Eliminations\": 15.88, \"Objective Kills\": 5.83, \"Objective Time\": 45, \"Damage\": 5287, \"Deaths\": 6.21, \"Role\": \"Damage\"}, {\"Hero\": \"Sombra\", \"Skill Tier\": \"Platinum\", \"KDA\": 4.7, \"Pick Rate\": 0.94, \"Win Rate\": 43.9, \"Eliminations\": 16.2, \"Objective Kills\": 5.85, \"Objective Time\": 43, \"Damage\": 5538, \"Deaths\": 6.18, \"Role\": \"Damage\"}, {\"Hero\": \"Sombra\", \"Skill Tier\": \"Diamond\", \"KDA\": 5.03, \"Pick Rate\": 1.65, \"Win Rate\": 44.37, \"Eliminations\": 16.63, \"Objective Kills\": 5.88, \"Objective Time\": 42, \"Damage\": 5848, \"Deaths\": 5.98, \"Role\": \"Damage\"}, {\"Hero\": \"Sombra\", \"Skill Tier\": \"Master\", \"KDA\": 4.94, \"Pick Rate\": 2.54, \"Win Rate\": 46.63, \"Eliminations\": 16.64, \"Objective Kills\": 5.78, \"Objective Time\": 40, \"Damage\": 6073, \"Deaths\": 5.89, \"Role\": \"Damage\"}, {\"Hero\": \"Sombra\", \"Skill Tier\": \"Grandmaster\", \"KDA\": 5.39, \"Pick Rate\": 3.26, \"Win Rate\": 48.01, \"Eliminations\": 16.5, \"Objective Kills\": 5.6, \"Objective Time\": 40, \"Damage\": 6302, \"Deaths\": 5.56, \"Role\": \"Damage\"}, {\"Hero\": \"Wrecking Ball\", \"Skill Tier\": \"Bronze\", \"KDA\": 4.22, \"Pick Rate\": 0.31, \"Win Rate\": 41.43, \"Eliminations\": 14.89, \"Objective Kills\": 7.07, \"Objective Time\": 127, \"Damage\": 6816, \"Deaths\": 6.24, \"Role\": \"Tank\"}, {\"Hero\": \"Wrecking Ball\", \"Skill Tier\": \"Silver\", \"KDA\": 4.5, \"Pick Rate\": 0.39, \"Win Rate\": 45.51, \"Eliminations\": 15.99, \"Objective Kills\": 7.48, \"Objective Time\": 130, \"Damage\": 7336, \"Deaths\": 6.13, \"Role\": \"Tank\"}, {\"Hero\": \"Wrecking Ball\", \"Skill Tier\": \"Gold\", \"KDA\": 4.96, \"Pick Rate\": 0.53, \"Win Rate\": 47.76, \"Eliminations\": 17.11, \"Objective Kills\": 7.63, \"Objective Time\": 128, \"Damage\": 7659, \"Deaths\": 5.89, \"Role\": \"Tank\"}, {\"Hero\": \"Wrecking Ball\", \"Skill Tier\": \"Platinum\", \"KDA\": 4.99, \"Pick Rate\": 1.08, \"Win Rate\": 48.5, \"Eliminations\": 17.49, \"Objective Kills\": 7.47, \"Objective Time\": 123, \"Damage\": 7822, \"Deaths\": 5.86, \"Role\": \"Tank\"}, {\"Hero\": \"Wrecking Ball\", \"Skill Tier\": \"Diamond\", \"KDA\": 5.05, \"Pick Rate\": 2.44, \"Win Rate\": 50.85, \"Eliminations\": 18.08, \"Objective Kills\": 7.33, \"Objective Time\": 118, \"Damage\": 7976, \"Deaths\": 5.79, \"Role\": \"Tank\"}, {\"Hero\": \"Wrecking Ball\", \"Skill Tier\": \"Master\", \"KDA\": 5.04, \"Pick Rate\": 3.88, \"Win Rate\": 52.08, \"Eliminations\": 18.29, \"Objective Kills\": 7.01, \"Objective Time\": 110, \"Damage\": 7987, \"Deaths\": 5.64, \"Role\": \"Tank\"}, {\"Hero\": \"Wrecking Ball\", \"Skill Tier\": \"Grandmaster\", \"KDA\": 4.99, \"Pick Rate\": 7.33, \"Win Rate\": 51.81, \"Eliminations\": 18.0, \"Objective Kills\": 6.48, \"Objective Time\": 102, \"Damage\": 7902, \"Deaths\": 5.39, \"Role\": \"Tank\"}, {\"Hero\": \"Sojourn\", \"Skill Tier\": \"Bronze\", \"KDA\": 2.45, \"Pick Rate\": 0.94, \"Win Rate\": 37.05, \"Eliminations\": 15.46, \"Objective Kills\": 7.03, \"Objective Time\": 64, \"Damage\": 7418, \"Deaths\": 8.34, \"Role\": \"Damage\"}, {\"Hero\": \"Sojourn\", \"Skill Tier\": \"Silver\", \"KDA\": 2.71, \"Pick Rate\": 0.77, \"Win Rate\": 38.98, \"Eliminations\": 16.74, \"Objective Kills\": 7.19, \"Objective Time\": 63, \"Damage\": 7857, \"Deaths\": 8.21, \"Role\": \"Damage\"}, {\"Hero\": \"Sojourn\", \"Skill Tier\": \"Gold\", \"KDA\": 2.85, \"Pick Rate\": 0.9, \"Win Rate\": 40.72, \"Eliminations\": 17.51, \"Objective Kills\": 7.25, \"Objective Time\": 61, \"Damage\": 8177, \"Deaths\": 8.09, \"Role\": \"Damage\"}, {\"Hero\": \"Sojourn\", \"Skill Tier\": \"Platinum\", \"KDA\": 2.92, \"Pick Rate\": 1.4, \"Win Rate\": 42.41, \"Eliminations\": 18.18, \"Objective Kills\": 7.18, \"Objective Time\": 57, \"Damage\": 8469, \"Deaths\": 7.98, \"Role\": \"Damage\"}, {\"Hero\": \"Sojourn\", \"Skill Tier\": \"Diamond\", \"KDA\": 2.97, \"Pick Rate\": 2.33, \"Win Rate\": 44.13, \"Eliminations\": 18.72, \"Objective Kills\": 7.02, \"Objective Time\": 54, \"Damage\": 8709, \"Deaths\": 7.96, \"Role\": \"Damage\"}, {\"Hero\": \"Sojourn\", \"Skill Tier\": \"Master\", \"KDA\": 2.91, \"Pick Rate\": 3.72, \"Win Rate\": 44.81, \"Eliminations\": 18.94, \"Objective Kills\": 6.83, \"Objective Time\": 52, \"Damage\": 8797, \"Deaths\": 7.94, \"Role\": \"Damage\"}, {\"Hero\": \"Sojourn\", \"Skill Tier\": \"Grandmaster\", \"KDA\": 2.99, \"Pick Rate\": 5.61, \"Win Rate\": 47.84, \"Eliminations\": 19.58, \"Objective Kills\": 6.57, \"Objective Time\": 49, \"Damage\": 9192, \"Deaths\": 7.64, \"Role\": \"Damage\"}, {\"Hero\": \"Symmetra\", \"Skill Tier\": \"Bronze\", \"KDA\": 3.4, \"Pick Rate\": 0.81, \"Win Rate\": 50.12, \"Eliminations\": 17.72, \"Objective Kills\": 8.61, \"Objective Time\": 69, \"Damage\": 7450, \"Deaths\": 7.97, \"Role\": \"Damage\"}, {\"Hero\": \"Symmetra\", \"Skill Tier\": \"Silver\", \"KDA\": 3.43, \"Pick Rate\": 0.76, \"Win Rate\": 52.07, \"Eliminations\": 18.49, \"Objective Kills\": 8.88, \"Objective Time\": 69, \"Damage\": 7853, \"Deaths\": 8.05, \"Role\": \"Damage\"}, {\"Hero\": \"Symmetra\", \"Skill Tier\": \"Gold\", \"KDA\": 3.62, \"Pick Rate\": 1.02, \"Win Rate\": 53.25, \"Eliminations\": 19.33, \"Objective Kills\": 8.79, \"Objective Time\": 66, \"Damage\": 8242, \"Deaths\": 7.91, \"Role\": \"Damage\"}, {\"Hero\": \"Symmetra\", \"Skill Tier\": \"Platinum\", \"KDA\": 3.49, \"Pick Rate\": 1.34, \"Win Rate\": 53.18, \"Eliminations\": 19.3, \"Objective Kills\": 8.57, \"Objective Time\": 65, \"Damage\": 8498, \"Deaths\": 7.92, \"Role\": \"Damage\"}, {\"Hero\": \"Symmetra\", \"Skill Tier\": \"Diamond\", \"KDA\": 3.48, \"Pick Rate\": 1.83, \"Win Rate\": 53.21, \"Eliminations\": 19.3, \"Objective Kills\": 8.43, \"Objective Time\": 64, \"Damage\": 8660, \"Deaths\": 7.88, \"Role\": \"Damage\"}, {\"Hero\": \"Symmetra\", \"Skill Tier\": \"Master\", \"KDA\": 3.41, \"Pick Rate\": 2.11, \"Win Rate\": 54.22, \"Eliminations\": 18.95, \"Objective Kills\": 8.13, \"Objective Time\": 62, \"Damage\": 8609, \"Deaths\": 7.87, \"Role\": \"Damage\"}, {\"Hero\": \"Symmetra\", \"Skill Tier\": \"Grandmaster\", \"KDA\": 3.2, \"Pick Rate\": 1.84, \"Win Rate\": 53.87, \"Eliminations\": 17.86, \"Objective Kills\": 7.52, \"Objective Time\": 59, \"Damage\": 8322, \"Deaths\": 7.84, \"Role\": \"Damage\"}, {\"Hero\": \"Torbjorn\", \"Skill Tier\": \"Bronze\", \"KDA\": 2.92, \"Pick Rate\": 0.92, \"Win Rate\": 49.64, \"Eliminations\": 16.75, \"Objective Kills\": 7.7, \"Objective Time\": 55, \"Damage\": 8787, \"Deaths\": 7.11, \"Role\": \"Damage\"}, {\"Hero\": \"Torbjorn\", \"Skill Tier\": \"Silver\", \"KDA\": 3.17, \"Pick Rate\": 0.86, \"Win Rate\": 50.29, \"Eliminations\": 17.5, \"Objective Kills\": 7.78, \"Objective Time\": 52, \"Damage\": 9169, \"Deaths\": 6.97, \"Role\": \"Damage\"}, {\"Hero\": \"Torbjorn\", \"Skill Tier\": \"Gold\", \"KDA\": 3.1, \"Pick Rate\": 0.83, \"Win Rate\": 52.57, \"Eliminations\": 17.9, \"Objective Kills\": 7.76, \"Objective Time\": 51, \"Damage\": 9431, \"Deaths\": 6.79, \"Role\": \"Damage\"}, {\"Hero\": \"Torbjorn\", \"Skill Tier\": \"Platinum\", \"KDA\": 3.2, \"Pick Rate\": 1.2, \"Win Rate\": 53.08, \"Eliminations\": 18.06, \"Objective Kills\": 7.59, \"Objective Time\": 49, \"Damage\": 9618, \"Deaths\": 6.81, \"Role\": \"Damage\"}, {\"Hero\": \"Torbjorn\", \"Skill Tier\": \"Diamond\", \"KDA\": 3.06, \"Pick Rate\": 1.9, \"Win Rate\": 52.8, \"Eliminations\": 17.96, \"Objective Kills\": 7.22, \"Objective Time\": 48, \"Damage\": 9728, \"Deaths\": 6.85, \"Role\": \"Damage\"}, {\"Hero\": \"Torbjorn\", \"Skill Tier\": \"Master\", \"KDA\": 3.05, \"Pick Rate\": 2.54, \"Win Rate\": 53.31, \"Eliminations\": 17.53, \"Objective Kills\": 6.92, \"Objective Time\": 48, \"Damage\": 9674, \"Deaths\": 6.77, \"Role\": \"Damage\"}, {\"Hero\": \"Torbjorn\", \"Skill Tier\": \"Grandmaster\", \"KDA\": 2.71, \"Pick Rate\": 3.45, \"Win Rate\": 51.87, \"Eliminations\": 16.6, \"Objective Kills\": 6.39, \"Objective Time\": 50, \"Damage\": 9458, \"Deaths\": 6.96, \"Role\": \"Damage\"}, {\"Hero\": \"Ramattra\", \"Skill Tier\": \"Bronze\", \"KDA\": 3.52, \"Pick Rate\": 1.15, \"Win Rate\": 42.94, \"Eliminations\": 17.7, \"Objective Kills\": 8.24, \"Objective Time\": 128, \"Damage\": 8624, \"Deaths\": 7.07, \"Role\": \"Tank\"}, {\"Hero\": \"Ramattra\", \"Skill Tier\": \"Silver\", \"KDA\": 3.82, \"Pick Rate\": 1.39, \"Win Rate\": 47.18, \"Eliminations\": 19.19, \"Objective Kills\": 8.71, \"Objective Time\": 131, \"Damage\": 9242, \"Deaths\": 6.8, \"Role\": \"Tank\"}, {\"Hero\": \"Ramattra\", \"Skill Tier\": \"Gold\", \"KDA\": 3.91, \"Pick Rate\": 1.68, \"Win Rate\": 50.1, \"Eliminations\": 19.68, \"Objective Kills\": 8.6, \"Objective Time\": 128, \"Damage\": 9615, \"Deaths\": 6.65, \"Role\": \"Tank\"}, {\"Hero\": \"Ramattra\", \"Skill Tier\": \"Platinum\", \"KDA\": 3.99, \"Pick Rate\": 2.39, \"Win Rate\": 50.25, \"Eliminations\": 20.03, \"Objective Kills\": 8.43, \"Objective Time\": 124, \"Damage\": 9929, \"Deaths\": 6.54, \"Role\": \"Tank\"}, {\"Hero\": \"Ramattra\", \"Skill Tier\": \"Diamond\", \"KDA\": 4.03, \"Pick Rate\": 3.29, \"Win Rate\": 51.05, \"Eliminations\": 20.09, \"Objective Kills\": 8.14, \"Objective Time\": 119, \"Damage\": 10106, \"Deaths\": 6.54, \"Role\": \"Tank\"}, {\"Hero\": \"Ramattra\", \"Skill Tier\": \"Master\", \"KDA\": 3.79, \"Pick Rate\": 3.86, \"Win Rate\": 50.99, \"Eliminations\": 19.71, \"Objective Kills\": 7.69, \"Objective Time\": 113, \"Damage\": 10050, \"Deaths\": 6.56, \"Role\": \"Tank\"}, {\"Hero\": \"Ramattra\", \"Skill Tier\": \"Grandmaster\", \"KDA\": 3.77, \"Pick Rate\": 5.09, \"Win Rate\": 50.92, \"Eliminations\": 18.88, \"Objective Kills\": 7.08, \"Objective Time\": 109, \"Damage\": 9894, \"Deaths\": 6.5, \"Role\": \"Tank\"}, {\"Hero\": \"Junker Queen\", \"Skill Tier\": \"Bronze\", \"KDA\": 4.1, \"Pick Rate\": 0.49, \"Win Rate\": 40.98, \"Eliminations\": 16.77, \"Objective Kills\": 7.76, \"Objective Time\": 130, \"Damage\": 7609, \"Deaths\": 7.03, \"Role\": \"Tank\"}, {\"Hero\": \"Junker Queen\", \"Skill Tier\": \"Silver\", \"KDA\": 4.37, \"Pick Rate\": 0.43, \"Win Rate\": 43.47, \"Eliminations\": 18.21, \"Objective Kills\": 8.11, \"Objective Time\": 135, \"Damage\": 8272, \"Deaths\": 6.74, \"Role\": \"Tank\"}, {\"Hero\": \"Junker Queen\", \"Skill Tier\": \"Gold\", \"KDA\": 4.76, \"Pick Rate\": 0.59, \"Win Rate\": 46.97, \"Eliminations\": 19.33, \"Objective Kills\": 8.22, \"Objective Time\": 128, \"Damage\": 8828, \"Deaths\": 6.62, \"Role\": \"Tank\"}, {\"Hero\": \"Junker Queen\", \"Skill Tier\": \"Platinum\", \"KDA\": 4.76, \"Pick Rate\": 0.88, \"Win Rate\": 49.24, \"Eliminations\": 19.97, \"Objective Kills\": 8.12, \"Objective Time\": 120, \"Damage\": 9300, \"Deaths\": 6.6, \"Role\": \"Tank\"}, {\"Hero\": \"Junker Queen\", \"Skill Tier\": \"Diamond\", \"KDA\": 4.82, \"Pick Rate\": 1.5, \"Win Rate\": 50.64, \"Eliminations\": 20.44, \"Objective Kills\": 7.95, \"Objective Time\": 113, \"Damage\": 9631, \"Deaths\": 6.57, \"Role\": \"Tank\"}, {\"Hero\": \"Junker Queen\", \"Skill Tier\": \"Master\", \"KDA\": 4.78, \"Pick Rate\": 1.89, \"Win Rate\": 50.34, \"Eliminations\": 20.66, \"Objective Kills\": 7.68, \"Objective Time\": 106, \"Damage\": 9760, \"Deaths\": 6.56, \"Role\": \"Tank\"}, {\"Hero\": \"Junker Queen\", \"Skill Tier\": \"Grandmaster\", \"KDA\": 4.73, \"Pick Rate\": 2.55, \"Win Rate\": 51.87, \"Eliminations\": 20.37, \"Objective Kills\": 7.39, \"Objective Time\": 101, \"Damage\": 9682, \"Deaths\": 6.46, \"Role\": \"Tank\"}, {\"Hero\": \"Echo\", \"Skill Tier\": \"Bronze\", \"KDA\": 2.23, \"Pick Rate\": 0.46, \"Win Rate\": 40.7, \"Eliminations\": 15.66, \"Objective Kills\": 6.37, \"Objective Time\": 64, \"Damage\": 7102, \"Deaths\": 8.36, \"Role\": \"Damage\"}, {\"Hero\": \"Echo\", \"Skill Tier\": \"Silver\", \"KDA\": 2.41, \"Pick Rate\": 0.53, \"Win Rate\": 43.02, \"Eliminations\": 16.96, \"Objective Kills\": 6.54, \"Objective Time\": 63, \"Damage\": 7458, \"Deaths\": 8.47, \"Role\": \"Damage\"}, {\"Hero\": \"Echo\", \"Skill Tier\": \"Gold\", \"KDA\": 2.61, \"Pick Rate\": 0.62, \"Win Rate\": 46.33, \"Eliminations\": 17.62, \"Objective Kills\": 6.52, \"Objective Time\": 62, \"Damage\": 7874, \"Deaths\": 8.28, \"Role\": \"Damage\"}, {\"Hero\": \"Echo\", \"Skill Tier\": \"Platinum\", \"KDA\": 2.67, \"Pick Rate\": 0.86, \"Win Rate\": 45.16, \"Eliminations\": 18.34, \"Objective Kills\": 6.44, \"Objective Time\": 60, \"Damage\": 8249, \"Deaths\": 8.24, \"Role\": \"Damage\"}, {\"Hero\": \"Echo\", \"Skill Tier\": \"Diamond\", \"KDA\": 2.73, \"Pick Rate\": 1.57, \"Win Rate\": 47.7, \"Eliminations\": 18.85, \"Objective Kills\": 6.22, \"Objective Time\": 57, \"Damage\": 8639, \"Deaths\": 8.15, \"Role\": \"Damage\"}, {\"Hero\": \"Echo\", \"Skill Tier\": \"Master\", \"KDA\": 2.74, \"Pick Rate\": 2.05, \"Win Rate\": 50.15, \"Eliminations\": 19.17, \"Objective Kills\": 5.98, \"Objective Time\": 53, \"Damage\": 8929, \"Deaths\": 8.11, \"Role\": \"Damage\"}, {\"Hero\": \"Echo\", \"Skill Tier\": \"Grandmaster\", \"KDA\": 2.9, \"Pick Rate\": 3.32, \"Win Rate\": 50.45, \"Eliminations\": 19.25, \"Objective Kills\": 5.51, \"Objective Time\": 49, \"Damage\": 9419, \"Deaths\": 7.7, \"Role\": \"Damage\"}]}}, {\"mode\": \"vega-lite\"});\n",
       "</script>"
      ],
      "text/plain": [
       "alt.HConcatChart(...)"
      ]
     },
     "execution_count": 9,
     "metadata": {},
     "output_type": "execute_result"
    }
   ],
   "source": [
    "brush = alt.selection_interval()\n",
    "c = alt.Chart(df_ow).mark_point().encode(\n",
    "    x='Eliminations',\n",
    "    y='Objective Kills',\n",
    "    color=\"Skill Tier\"\n",
    ").add_selection(brush)\n",
    "\n",
    "c1= alt.Chart(df_ow).mark_bar().encode(\n",
    "    x = 'Skill Tier',\n",
    "    y='Eliminations'\n",
    ").transform_filter(brush)\n",
    "\n",
    "c2= alt.Chart(df_ow).mark_bar().encode(\n",
    "    x = 'Skill Tier',\n",
    "    y='Objective Kills'\n",
    ").transform_filter(brush)\n",
    "\n",
    "c|c1|c2"
   ]
  },
  {
   "cell_type": "markdown",
   "metadata": {
    "cell_id": "5750760dba974bc5891ec2627c724bbd",
    "deepnote_cell_type": "markdown"
   },
   "source": [
    "With the bar graphs we notice the distribution of the amount of eliminations and Objective Kills in relation to their skill tier. These bar graphs show that towards the higher ranks the amount of eliminations are relatively high and similar all together, while with Objective Kills the two highest ranks are lower in terms of getting eliminations on the objective. Based off the scatterplot we notice that it looks like there is a positive relation between Eliminations and Objective Kills so we can try and predict the trend with a Linear Regression model."
   ]
  },
  {
   "cell_type": "markdown",
   "metadata": {
    "cell_id": "6ca533681061422fa9d1865bc55ce274",
    "deepnote_cell_type": "markdown"
   },
   "source": [
    "### Linear Regression"
   ]
  },
  {
   "cell_type": "code",
   "execution_count": 10,
   "metadata": {
    "cell_id": "c60a41de34f24574ab486b4473c2a3cb",
    "deepnote_cell_type": "code",
    "deepnote_to_be_reexecuted": false,
    "execution_millis": 33,
    "execution_start": 1686772059356,
    "source_hash": "28b4525d"
   },
   "outputs": [],
   "source": [
    "reg=LinearRegression()\n",
    "reg.fit(df_ow[[\"Eliminations\"]],df_ow[\"Objective Kills\"])\n",
    "reg.predict(df_ow[[\"Eliminations\"]])\n",
    "df_ow[\"Prediction\"]=reg.predict(df_ow[[\"Eliminations\"]])"
   ]
  },
  {
   "cell_type": "code",
   "execution_count": 11,
   "metadata": {
    "cell_id": "8c898218db5e49c5aaf277adcb2089de",
    "deepnote_cell_type": "code",
    "deepnote_to_be_reexecuted": false,
    "execution_millis": 117,
    "execution_start": 1686772059467,
    "source_hash": "1b9267c4"
   },
   "outputs": [
    {
     "data": {
      "text/html": [
       "\n",
       "<div id=\"altair-viz-d6f9d3769dab4b6ab68d70ccb69ae5df\"></div>\n",
       "<script type=\"text/javascript\">\n",
       "  var VEGA_DEBUG = (typeof VEGA_DEBUG == \"undefined\") ? {} : VEGA_DEBUG;\n",
       "  (function(spec, embedOpt){\n",
       "    let outputDiv = document.currentScript.previousElementSibling;\n",
       "    if (outputDiv.id !== \"altair-viz-d6f9d3769dab4b6ab68d70ccb69ae5df\") {\n",
       "      outputDiv = document.getElementById(\"altair-viz-d6f9d3769dab4b6ab68d70ccb69ae5df\");\n",
       "    }\n",
       "    const paths = {\n",
       "      \"vega\": \"https://cdn.jsdelivr.net/npm//vega@5?noext\",\n",
       "      \"vega-lib\": \"https://cdn.jsdelivr.net/npm//vega-lib?noext\",\n",
       "      \"vega-lite\": \"https://cdn.jsdelivr.net/npm//vega-lite@4.17.0?noext\",\n",
       "      \"vega-embed\": \"https://cdn.jsdelivr.net/npm//vega-embed@6?noext\",\n",
       "    };\n",
       "\n",
       "    function maybeLoadScript(lib, version) {\n",
       "      var key = `${lib.replace(\"-\", \"\")}_version`;\n",
       "      return (VEGA_DEBUG[key] == version) ?\n",
       "        Promise.resolve(paths[lib]) :\n",
       "        new Promise(function(resolve, reject) {\n",
       "          var s = document.createElement('script');\n",
       "          document.getElementsByTagName(\"head\")[0].appendChild(s);\n",
       "          s.async = true;\n",
       "          s.onload = () => {\n",
       "            VEGA_DEBUG[key] = version;\n",
       "            return resolve(paths[lib]);\n",
       "          };\n",
       "          s.onerror = () => reject(`Error loading script: ${paths[lib]}`);\n",
       "          s.src = paths[lib];\n",
       "        });\n",
       "    }\n",
       "\n",
       "    function showError(err) {\n",
       "      outputDiv.innerHTML = `<div class=\"error\" style=\"color:red;\">${err}</div>`;\n",
       "      throw err;\n",
       "    }\n",
       "\n",
       "    function displayChart(vegaEmbed) {\n",
       "      vegaEmbed(outputDiv, spec, embedOpt)\n",
       "        .catch(err => showError(`Javascript Error: ${err.message}<br>This usually means there's a typo in your chart specification. See the javascript console for the full traceback.`));\n",
       "    }\n",
       "\n",
       "    if(typeof define === \"function\" && define.amd) {\n",
       "      requirejs.config({paths});\n",
       "      require([\"vega-embed\"], displayChart, err => showError(`Error loading script: ${err.message}`));\n",
       "    } else {\n",
       "      maybeLoadScript(\"vega\", \"5\")\n",
       "        .then(() => maybeLoadScript(\"vega-lite\", \"4.17.0\"))\n",
       "        .then(() => maybeLoadScript(\"vega-embed\", \"6\"))\n",
       "        .catch(showError)\n",
       "        .then(() => displayChart(vegaEmbed));\n",
       "    }\n",
       "  })({\"config\": {\"view\": {\"continuousWidth\": 400, \"continuousHeight\": 300}}, \"layer\": [{\"mark\": \"circle\", \"encoding\": {\"x\": {\"field\": \"Eliminations\", \"type\": \"quantitative\"}, \"y\": {\"field\": \"Objective Kills\", \"type\": \"quantitative\"}}}, {\"mark\": {\"type\": \"line\", \"color\": \"red\"}, \"encoding\": {\"x\": {\"field\": \"Eliminations\", \"type\": \"quantitative\"}, \"y\": {\"field\": \"Prediction\", \"type\": \"quantitative\"}}}], \"data\": {\"name\": \"data-a4915bb9bed0c55a77f4ca8f7bd1c1f7\"}, \"$schema\": \"https://vega.github.io/schema/vega-lite/v4.17.0.json\", \"datasets\": {\"data-a4915bb9bed0c55a77f4ca8f7bd1c1f7\": [{\"Hero\": \"Ana\", \"Skill Tier\": \"Bronze\", \"KDA\": 3.87, \"Pick Rate\": 3.71, \"Win Rate\": 43.97, \"Eliminations\": 8.37, \"Objective Kills\": 3.8, \"Objective Time\": 61, \"Damage\": 2508, \"Deaths\": 6.47, \"Role\": \"Support\", \"Prediction\": 3.649431543471243}, {\"Hero\": \"Ana\", \"Skill Tier\": \"Silver\", \"KDA\": 4.01, \"Pick Rate\": 3.78, \"Win Rate\": 46.68, \"Eliminations\": 8.88, \"Objective Kills\": 4.08, \"Objective Time\": 64, \"Damage\": 2573, \"Deaths\": 6.36, \"Role\": \"Support\", \"Prediction\": 3.8238231298006617}, {\"Hero\": \"Ana\", \"Skill Tier\": \"Gold\", \"KDA\": 4.36, \"Pick Rate\": 5.46, \"Win Rate\": 48.9, \"Eliminations\": 9.21, \"Objective Kills\": 4.14, \"Objective Time\": 65, \"Damage\": 2610, \"Deaths\": 6.13, \"Role\": \"Support\", \"Prediction\": 3.9366647444844034}, {\"Hero\": \"Ana\", \"Skill Tier\": \"Platinum\", \"KDA\": 4.56, \"Pick Rate\": 9.33, \"Win Rate\": 50.45, \"Eliminations\": 9.53, \"Objective Kills\": 4.18, \"Objective Time\": 65, \"Damage\": 2661, \"Deaths\": 5.89, \"Role\": \"Support\", \"Prediction\": 4.04608691629894}, {\"Hero\": \"Ana\", \"Skill Tier\": \"Diamond\", \"KDA\": 4.6, \"Pick Rate\": 16.5, \"Win Rate\": 51.3, \"Eliminations\": 9.7, \"Objective Kills\": 4.11, \"Objective Time\": 63, \"Damage\": 2709, \"Deaths\": 5.74, \"Role\": \"Support\", \"Prediction\": 4.104217445075413}, {\"Hero\": \"Ana\", \"Skill Tier\": \"Master\", \"KDA\": 4.63, \"Pick Rate\": 22.77, \"Win Rate\": 52.67, \"Eliminations\": 9.75, \"Objective Kills\": 3.98, \"Objective Time\": 62, \"Damage\": 2756, \"Deaths\": 5.63, \"Role\": \"Support\", \"Prediction\": 4.121314659421435}, {\"Hero\": \"Ana\", \"Skill Tier\": \"Grandmaster\", \"KDA\": 4.51, \"Pick Rate\": 28.03, \"Win Rate\": 53.26, \"Eliminations\": 9.45, \"Objective Kills\": 3.6, \"Objective Time\": 58, \"Damage\": 2803, \"Deaths\": 5.56, \"Role\": \"Support\", \"Prediction\": 4.018731373345306}, {\"Hero\": \"Mercy\", \"Skill Tier\": \"Bronze\", \"KDA\": 3.53, \"Pick Rate\": 3.69, \"Win Rate\": 44.85, \"Eliminations\": 1.74, \"Objective Kills\": 0.77, \"Objective Time\": 58, \"Damage\": 346, \"Deaths\": 6.88, \"Role\": \"Support\", \"Prediction\": 1.3823409211888036}, {\"Hero\": \"Mercy\", \"Skill Tier\": \"Silver\", \"KDA\": 3.84, \"Pick Rate\": 3.48, \"Win Rate\": 48.46, \"Eliminations\": 1.89, \"Objective Kills\": 0.81, \"Objective Time\": 58, \"Damage\": 357, \"Deaths\": 6.57, \"Role\": \"Support\", \"Prediction\": 1.433632564226868}, {\"Hero\": \"Mercy\", \"Skill Tier\": \"Gold\", \"KDA\": 4.03, \"Pick Rate\": 3.87, \"Win Rate\": 49.77, \"Eliminations\": 1.81, \"Objective Kills\": 0.73, \"Objective Time\": 56, \"Damage\": 344, \"Deaths\": 6.32, \"Role\": \"Support\", \"Prediction\": 1.4062770212732336}, {\"Hero\": \"Mercy\", \"Skill Tier\": \"Platinum\", \"KDA\": 4.24, \"Pick Rate\": 5.47, \"Win Rate\": 51.27, \"Eliminations\": 1.77, \"Objective Kills\": 0.67, \"Objective Time\": 53, \"Damage\": 331, \"Deaths\": 6.02, \"Role\": \"Support\", \"Prediction\": 1.3925992497964166}, {\"Hero\": \"Mercy\", \"Skill Tier\": \"Diamond\", \"KDA\": 4.26, \"Pick Rate\": 9.36, \"Win Rate\": 51.8, \"Eliminations\": 1.76, \"Objective Kills\": 0.62, \"Objective Time\": 49, \"Damage\": 326, \"Deaths\": 5.86, \"Role\": \"Support\", \"Prediction\": 1.3891798069272123}, {\"Hero\": \"Mercy\", \"Skill Tier\": \"Master\", \"KDA\": 4.3, \"Pick Rate\": 11.9, \"Win Rate\": 52.56, \"Eliminations\": 1.71, \"Objective Kills\": 0.59, \"Objective Time\": 45, \"Damage\": 318, \"Deaths\": 5.83, \"Role\": \"Support\", \"Prediction\": 1.372082592581191}, {\"Hero\": \"Mercy\", \"Skill Tier\": \"Grandmaster\", \"KDA\": 4.37, \"Pick Rate\": 17.97, \"Win Rate\": 52.16, \"Eliminations\": 1.56, \"Objective Kills\": 0.53, \"Objective Time\": 42, \"Damage\": 296, \"Deaths\": 5.71, \"Role\": \"Support\", \"Prediction\": 1.3207909495431267}, {\"Hero\": \"Cassidy\", \"Skill Tier\": \"Bronze\", \"KDA\": 2.22, \"Pick Rate\": 1.62, \"Win Rate\": 43.02, \"Eliminations\": 15.72, \"Objective Kills\": 6.56, \"Objective Time\": 61, \"Damage\": 7402, \"Deaths\": 8.38, \"Role\": \"Damage\", \"Prediction\": 6.162722052336391}, {\"Hero\": \"Cassidy\", \"Skill Tier\": \"Silver\", \"KDA\": 2.28, \"Pick Rate\": 2.03, \"Win Rate\": 45.79, \"Eliminations\": 16.64, \"Objective Kills\": 6.71, \"Objective Time\": 60, \"Damage\": 7715, \"Deaths\": 8.26, \"Role\": \"Damage\", \"Prediction\": 6.477310796303185}, {\"Hero\": \"Cassidy\", \"Skill Tier\": \"Gold\", \"KDA\": 2.44, \"Pick Rate\": 2.85, \"Win Rate\": 47.34, \"Eliminations\": 17.37, \"Objective Kills\": 6.81, \"Objective Time\": 58, \"Damage\": 8110, \"Deaths\": 8.12, \"Role\": \"Damage\", \"Prediction\": 6.726930125755098}, {\"Hero\": \"Cassidy\", \"Skill Tier\": \"Platinum\", \"KDA\": 2.46, \"Pick Rate\": 5.18, \"Win Rate\": 48.84, \"Eliminations\": 18.1, \"Objective Kills\": 6.89, \"Objective Time\": 56, \"Damage\": 8568, \"Deaths\": 8.06, \"Role\": \"Damage\", \"Prediction\": 6.976549455207011}, {\"Hero\": \"Cassidy\", \"Skill Tier\": \"Diamond\", \"KDA\": 2.5, \"Pick Rate\": 10.21, \"Win Rate\": 50.22, \"Eliminations\": 18.6, \"Objective Kills\": 6.83, \"Objective Time\": 54, \"Damage\": 8967, \"Deaths\": 8.01, \"Role\": \"Damage\", \"Prediction\": 7.147521598667225}, {\"Hero\": \"Cassidy\", \"Skill Tier\": \"Master\", \"KDA\": 2.45, \"Pick Rate\": 15.45, \"Win Rate\": 50.35, \"Eliminations\": 18.68, \"Objective Kills\": 6.65, \"Objective Time\": 52, \"Damage\": 9277, \"Deaths\": 7.94, \"Role\": \"Damage\", \"Prediction\": 7.1748771416208585}, {\"Hero\": \"Cassidy\", \"Skill Tier\": \"Grandmaster\", \"KDA\": 2.45, \"Pick Rate\": 19.55, \"Win Rate\": 51.77, \"Eliminations\": 18.36, \"Objective Kills\": 6.25, \"Objective Time\": 48, \"Damage\": 9584, \"Deaths\": 7.77, \"Role\": \"Damage\", \"Prediction\": 7.065454969806321}, {\"Hero\": \"Genji\", \"Skill Tier\": \"Bronze\", \"KDA\": 2.27, \"Pick Rate\": 1.04, \"Win Rate\": 44.55, \"Eliminations\": 15.44, \"Objective Kills\": 5.22, \"Objective Time\": 71, \"Damage\": 6338, \"Deaths\": 8.37, \"Role\": \"Damage\", \"Prediction\": 6.066977651998671}, {\"Hero\": \"Genji\", \"Skill Tier\": \"Silver\", \"KDA\": 2.24, \"Pick Rate\": 1.1, \"Win Rate\": 46.33, \"Eliminations\": 16.04, \"Objective Kills\": 5.31, \"Objective Time\": 71, \"Damage\": 6594, \"Deaths\": 8.48, \"Role\": \"Damage\", \"Prediction\": 6.272144224150928}, {\"Hero\": \"Genji\", \"Skill Tier\": \"Gold\", \"KDA\": 2.35, \"Pick Rate\": 1.81, \"Win Rate\": 48.5, \"Eliminations\": 17.04, \"Objective Kills\": 5.31, \"Objective Time\": 68, \"Damage\": 6944, \"Deaths\": 8.37, \"Role\": \"Damage\", \"Prediction\": 6.614088511071356}, {\"Hero\": \"Genji\", \"Skill Tier\": \"Platinum\", \"KDA\": 2.42, \"Pick Rate\": 3.66, \"Win Rate\": 50.09, \"Eliminations\": 18.03, \"Objective Kills\": 5.32, \"Objective Time\": 66, \"Damage\": 7270, \"Deaths\": 8.34, \"Role\": \"Damage\", \"Prediction\": 6.952613355122581}, {\"Hero\": \"Genji\", \"Skill Tier\": \"Diamond\", \"KDA\": 2.48, \"Pick Rate\": 6.66, \"Win Rate\": 50.57, \"Eliminations\": 18.63, \"Objective Kills\": 5.25, \"Objective Time\": 65, \"Damage\": 7519, \"Deaths\": 8.27, \"Role\": \"Damage\", \"Prediction\": 7.157779927274837}, {\"Hero\": \"Genji\", \"Skill Tier\": \"Master\", \"KDA\": 2.46, \"Pick Rate\": 10.52, \"Win Rate\": 51.56, \"Eliminations\": 18.74, \"Objective Kills\": 4.98, \"Objective Time\": 62, \"Damage\": 7600, \"Deaths\": 8.23, \"Role\": \"Damage\", \"Prediction\": 7.195393798836084}, {\"Hero\": \"Genji\", \"Skill Tier\": \"Grandmaster\", \"KDA\": 2.51, \"Pick Rate\": 12.51, \"Win Rate\": 53.37, \"Eliminations\": 18.77, \"Objective Kills\": 4.69, \"Objective Time\": 59, \"Damage\": 7692, \"Deaths\": 8.0, \"Role\": \"Damage\", \"Prediction\": 7.205652127443697}, {\"Hero\": \"Kiriko\", \"Skill Tier\": \"Bronze\", \"KDA\": 4.25, \"Pick Rate\": 3.52, \"Win Rate\": 43.06, \"Eliminations\": 7.23, \"Objective Kills\": 3.45, \"Objective Time\": 70, \"Damage\": 2154, \"Deaths\": 6.25, \"Role\": \"Support\", \"Prediction\": 3.2596150563819553}, {\"Hero\": \"Kiriko\", \"Skill Tier\": \"Silver\", \"KDA\": 4.52, \"Pick Rate\": 3.45, \"Win Rate\": 43.86, \"Eliminations\": 7.51, \"Objective Kills\": 3.58, \"Objective Time\": 73, \"Damage\": 2177, \"Deaths\": 6.11, \"Role\": \"Support\", \"Prediction\": 3.355359456719675}, {\"Hero\": \"Kiriko\", \"Skill Tier\": \"Gold\", \"KDA\": 4.72, \"Pick Rate\": 4.3, \"Win Rate\": 45.48, \"Eliminations\": 7.8, \"Objective Kills\": 3.59, \"Objective Time\": 72, \"Damage\": 2246, \"Deaths\": 5.94, \"Role\": \"Support\", \"Prediction\": 3.454523299926599}, {\"Hero\": \"Kiriko\", \"Skill Tier\": \"Platinum\", \"KDA\": 4.8, \"Pick Rate\": 6.53, \"Win Rate\": 46.71, \"Eliminations\": 8.06, \"Objective Kills\": 3.59, \"Objective Time\": 71, \"Damage\": 2313, \"Deaths\": 5.77, \"Role\": \"Support\", \"Prediction\": 3.5434288145259107}, {\"Hero\": \"Kiriko\", \"Skill Tier\": \"Diamond\", \"KDA\": 4.95, \"Pick Rate\": 10.38, \"Win Rate\": 47.1, \"Eliminations\": 8.42, \"Objective Kills\": 3.6, \"Objective Time\": 69, \"Damage\": 2444, \"Deaths\": 5.65, \"Role\": \"Support\", \"Prediction\": 3.6665287578172645}, {\"Hero\": \"Kiriko\", \"Skill Tier\": \"Master\", \"KDA\": 4.86, \"Pick Rate\": 14.57, \"Win Rate\": 47.92, \"Eliminations\": 8.82, \"Objective Kills\": 3.65, \"Objective Time\": 66, \"Damage\": 2595, \"Deaths\": 5.59, \"Role\": \"Support\", \"Prediction\": 3.803306472585436}, {\"Hero\": \"Kiriko\", \"Skill Tier\": \"Grandmaster\", \"KDA\": 4.74, \"Pick Rate\": 15.94, \"Win Rate\": 48.96, \"Eliminations\": 9.22, \"Objective Kills\": 3.54, \"Objective Time\": 62, \"Damage\": 2868, \"Deaths\": 5.63, \"Role\": \"Support\", \"Prediction\": 3.9400841873536074}, {\"Hero\": \"Moira\", \"Skill Tier\": \"Bronze\", \"KDA\": 5.29, \"Pick Rate\": 4.44, \"Win Rate\": 45.21, \"Eliminations\": 16.49, \"Objective Kills\": 7.98, \"Objective Time\": 88, \"Damage\": 5098, \"Deaths\": 6.61, \"Role\": \"Support\", \"Prediction\": 6.42601915326512}, {\"Hero\": \"Moira\", \"Skill Tier\": \"Silver\", \"KDA\": 5.77, \"Pick Rate\": 3.92, \"Win Rate\": 47.27, \"Eliminations\": 17.33, \"Objective Kills\": 8.31, \"Objective Time\": 88, \"Damage\": 5231, \"Deaths\": 6.43, \"Role\": \"Support\", \"Prediction\": 6.71325235427828}, {\"Hero\": \"Moira\", \"Skill Tier\": \"Gold\", \"KDA\": 6.04, \"Pick Rate\": 4.46, \"Win Rate\": 49.03, \"Eliminations\": 17.78, \"Objective Kills\": 8.41, \"Objective Time\": 88, \"Damage\": 5332, \"Deaths\": 6.26, \"Role\": \"Support\", \"Prediction\": 6.867127283392474}, {\"Hero\": \"Moira\", \"Skill Tier\": \"Platinum\", \"KDA\": 6.23, \"Pick Rate\": 4.86, \"Win Rate\": 49.38, \"Eliminations\": 18.1, \"Objective Kills\": 8.39, \"Objective Time\": 86, \"Damage\": 5427, \"Deaths\": 6.09, \"Role\": \"Support\", \"Prediction\": 6.976549455207011}, {\"Hero\": \"Moira\", \"Skill Tier\": \"Diamond\", \"KDA\": 6.16, \"Pick Rate\": 6.38, \"Win Rate\": 50.49, \"Eliminations\": 18.06, \"Objective Kills\": 8.18, \"Objective Time\": 84, \"Damage\": 5463, \"Deaths\": 6.09, \"Role\": \"Support\", \"Prediction\": 6.962871683730193}, {\"Hero\": \"Moira\", \"Skill Tier\": \"Master\", \"KDA\": 5.91, \"Pick Rate\": 6.04, \"Win Rate\": 49.59, \"Eliminations\": 17.85, \"Objective Kills\": 7.91, \"Objective Time\": 80, \"Damage\": 5475, \"Deaths\": 6.19, \"Role\": \"Support\", \"Prediction\": 6.8910633834769035}, {\"Hero\": \"Moira\", \"Skill Tier\": \"Grandmaster\", \"KDA\": 5.57, \"Pick Rate\": 6.36, \"Win Rate\": 50.6, \"Eliminations\": 17.42, \"Objective Kills\": 7.48, \"Objective Time\": 78, \"Damage\": 5532, \"Deaths\": 6.3, \"Role\": \"Support\", \"Prediction\": 6.74402734010112}, {\"Hero\": \"Reinhardt\", \"Skill Tier\": \"Bronze\", \"KDA\": 2.82, \"Pick Rate\": 1.81, \"Win Rate\": 45.39, \"Eliminations\": 15.24, \"Objective Kills\": 6.07, \"Objective Time\": 129, \"Damage\": 7393, \"Deaths\": 7.38, \"Role\": \"Tank\", \"Prediction\": 5.9985887946145855}, {\"Hero\": \"Reinhardt\", \"Skill Tier\": \"Silver\", \"KDA\": 3.05, \"Pick Rate\": 2.25, \"Win Rate\": 50.63, \"Eliminations\": 16.26, \"Objective Kills\": 6.37, \"Objective Time\": 130, \"Damage\": 7941, \"Deaths\": 7.07, \"Role\": \"Tank\", \"Prediction\": 6.347371967273423}, {\"Hero\": \"Reinhardt\", \"Skill Tier\": \"Gold\", \"KDA\": 3.13, \"Pick Rate\": 2.93, \"Win Rate\": 52.97, \"Eliminations\": 16.83, \"Objective Kills\": 6.43, \"Objective Time\": 126, \"Damage\": 8368, \"Deaths\": 6.91, \"Role\": \"Tank\", \"Prediction\": 6.542280210818066}, {\"Hero\": \"Reinhardt\", \"Skill Tier\": \"Platinum\", \"KDA\": 3.19, \"Pick Rate\": 4.89, \"Win Rate\": 54.39, \"Eliminations\": 17.2, \"Objective Kills\": 6.4, \"Objective Time\": 122, \"Damage\": 8718, \"Deaths\": 6.77, \"Role\": \"Tank\", \"Prediction\": 6.668799596978625}, {\"Hero\": \"Reinhardt\", \"Skill Tier\": \"Diamond\", \"KDA\": 3.14, \"Pick Rate\": 7.56, \"Win Rate\": 55.01, \"Eliminations\": 17.22, \"Objective Kills\": 6.17, \"Objective Time\": 117, \"Damage\": 8917, \"Deaths\": 6.75, \"Role\": \"Tank\", \"Prediction\": 6.675638482717033}, {\"Hero\": \"Reinhardt\", \"Skill Tier\": \"Master\", \"KDA\": 3.04, \"Pick Rate\": 9.02, \"Win Rate\": 54.73, \"Eliminations\": 16.96, \"Objective Kills\": 5.88, \"Objective Time\": 113, \"Damage\": 8887, \"Deaths\": 6.83, \"Role\": \"Tank\", \"Prediction\": 6.5867329681177225}, {\"Hero\": \"Reinhardt\", \"Skill Tier\": \"Grandmaster\", \"KDA\": 2.94, \"Pick Rate\": 10.75, \"Win Rate\": 56.01, \"Eliminations\": 16.32, \"Objective Kills\": 5.45, \"Objective Time\": 109, \"Damage\": 8563, \"Deaths\": 6.85, \"Role\": \"Tank\", \"Prediction\": 6.367888624488648}, {\"Hero\": \"Hanzo\", \"Skill Tier\": \"Bronze\", \"KDA\": 2.77, \"Pick Rate\": 1.45, \"Win Rate\": 44.47, \"Eliminations\": 15.19, \"Objective Kills\": 6.06, \"Objective Time\": 50, \"Damage\": 7067, \"Deaths\": 7.94, \"Role\": \"Damage\", \"Prediction\": 5.981491580268564}, {\"Hero\": \"Hanzo\", \"Skill Tier\": \"Silver\", \"KDA\": 3.01, \"Pick Rate\": 1.31, \"Win Rate\": 45.24, \"Eliminations\": 16.04, \"Objective Kills\": 6.28, \"Objective Time\": 53, \"Damage\": 7305, \"Deaths\": 7.88, \"Role\": \"Damage\", \"Prediction\": 6.272144224150928}, {\"Hero\": \"Hanzo\", \"Skill Tier\": \"Gold\", \"KDA\": 3.13, \"Pick Rate\": 1.93, \"Win Rate\": 48.57, \"Eliminations\": 16.77, \"Objective Kills\": 6.32, \"Objective Time\": 53, \"Damage\": 7577, \"Deaths\": 7.73, \"Role\": \"Damage\", \"Prediction\": 6.521763553602841}, {\"Hero\": \"Hanzo\", \"Skill Tier\": \"Platinum\", \"KDA\": 3.23, \"Pick Rate\": 3.38, \"Win Rate\": 49.52, \"Eliminations\": 17.37, \"Objective Kills\": 6.28, \"Objective Time\": 52, \"Damage\": 7814, \"Deaths\": 7.71, \"Role\": \"Damage\", \"Prediction\": 6.726930125755098}, {\"Hero\": \"Hanzo\", \"Skill Tier\": \"Diamond\", \"KDA\": 3.2, \"Pick Rate\": 5.81, \"Win Rate\": 50.03, \"Eliminations\": 17.7, \"Objective Kills\": 6.07, \"Objective Time\": 50, \"Damage\": 7938, \"Deaths\": 7.74, \"Role\": \"Damage\", \"Prediction\": 6.839771740438839}, {\"Hero\": \"Hanzo\", \"Skill Tier\": \"Master\", \"KDA\": 3.13, \"Pick Rate\": 7.35, \"Win Rate\": 50.08, \"Eliminations\": 17.53, \"Objective Kills\": 5.71, \"Objective Time\": 47, \"Damage\": 7932, \"Deaths\": 7.75, \"Role\": \"Damage\", \"Prediction\": 6.781641211662366}, {\"Hero\": \"Hanzo\", \"Skill Tier\": \"Grandmaster\", \"KDA\": 3.09, \"Pick Rate\": 8.97, \"Win Rate\": 50.72, \"Eliminations\": 16.88, \"Objective Kills\": 5.05, \"Objective Time\": 43, \"Damage\": 7801, \"Deaths\": 7.65, \"Role\": \"Damage\", \"Prediction\": 6.5593774251640875}, {\"Hero\": \"Widowmaker\", \"Skill Tier\": \"Bronze\", \"KDA\": 2.54, \"Pick Rate\": 0.73, \"Win Rate\": 42.05, \"Eliminations\": 13.52, \"Objective Kills\": 3.57, \"Objective Time\": 19, \"Damage\": 5272, \"Deaths\": 7.64, \"Role\": \"Damage\", \"Prediction\": 5.4104446211114485}, {\"Hero\": \"Widowmaker\", \"Skill Tier\": \"Silver\", \"KDA\": 2.62, \"Pick Rate\": 0.78, \"Win Rate\": 44.25, \"Eliminations\": 14.63, \"Objective Kills\": 3.74, \"Objective Time\": 19, \"Damage\": 5535, \"Deaths\": 7.79, \"Role\": \"Damage\", \"Prediction\": 5.790002779593125}, {\"Hero\": \"Widowmaker\", \"Skill Tier\": \"Gold\", \"KDA\": 2.63, \"Pick Rate\": 1.07, \"Win Rate\": 46.43, \"Eliminations\": 15.19, \"Objective Kills\": 3.73, \"Objective Time\": 21, \"Damage\": 5714, \"Deaths\": 7.83, \"Role\": \"Damage\", \"Prediction\": 5.981491580268564}, {\"Hero\": \"Widowmaker\", \"Skill Tier\": \"Platinum\", \"KDA\": 2.59, \"Pick Rate\": 1.73, \"Win Rate\": 47.83, \"Eliminations\": 15.69, \"Objective Kills\": 3.7, \"Objective Time\": 22, \"Damage\": 5820, \"Deaths\": 8.1, \"Role\": \"Damage\", \"Prediction\": 6.152463723728778}, {\"Hero\": \"Widowmaker\", \"Skill Tier\": \"Diamond\", \"KDA\": 2.53, \"Pick Rate\": 3.19, \"Win Rate\": 49.06, \"Eliminations\": 16.0, \"Objective Kills\": 3.64, \"Objective Time\": 23, \"Damage\": 5905, \"Deaths\": 8.29, \"Role\": \"Damage\", \"Prediction\": 6.258466452674111}, {\"Hero\": \"Widowmaker\", \"Skill Tier\": \"Master\", \"KDA\": 2.4, \"Pick Rate\": 4.91, \"Win Rate\": 49.68, \"Eliminations\": 15.85, \"Objective Kills\": 3.5, \"Objective Time\": 22, \"Damage\": 5846, \"Deaths\": 8.38, \"Role\": \"Damage\", \"Prediction\": 6.207174809636046}, {\"Hero\": \"Widowmaker\", \"Skill Tier\": \"Grandmaster\", \"KDA\": 2.41, \"Pick Rate\": 7.93, \"Win Rate\": 51.49, \"Eliminations\": 15.59, \"Objective Kills\": 3.28, \"Objective Time\": 20, \"Damage\": 5816, \"Deaths\": 8.3, \"Role\": \"Damage\", \"Prediction\": 6.118269295036735}, {\"Hero\": \"Soldier: 76\", \"Skill Tier\": \"Bronze\", \"KDA\": 2.64, \"Pick Rate\": 2.25, \"Win Rate\": 41.6, \"Eliminations\": 17.0, \"Objective Kills\": 7.41, \"Objective Time\": 64, \"Damage\": 8082, \"Deaths\": 8.76, \"Role\": \"Damage\", \"Prediction\": 6.6004107395945395}, {\"Hero\": \"Soldier: 76\", \"Skill Tier\": \"Silver\", \"KDA\": 2.73, \"Pick Rate\": 2.41, \"Win Rate\": 44.48, \"Eliminations\": 18.01, \"Objective Kills\": 7.61, \"Objective Time\": 62, \"Damage\": 8417, \"Deaths\": 8.61, \"Role\": \"Damage\", \"Prediction\": 6.9457744693841725}, {\"Hero\": \"Soldier: 76\", \"Skill Tier\": \"Gold\", \"KDA\": 2.9, \"Pick Rate\": 3.06, \"Win Rate\": 47.28, \"Eliminations\": 18.85, \"Objective Kills\": 7.61, \"Objective Time\": 57, \"Damage\": 8802, \"Deaths\": 8.27, \"Role\": \"Damage\", \"Prediction\": 7.233007670397332}, {\"Hero\": \"Soldier: 76\", \"Skill Tier\": \"Platinum\", \"KDA\": 2.93, \"Pick Rate\": 4.38, \"Win Rate\": 48.18, \"Eliminations\": 19.32, \"Objective Kills\": 7.42, \"Objective Time\": 53, \"Damage\": 9150, \"Deaths\": 8.12, \"Role\": \"Damage\", \"Prediction\": 7.393721485249933}, {\"Hero\": \"Soldier: 76\", \"Skill Tier\": \"Diamond\", \"KDA\": 2.97, \"Pick Rate\": 6.24, \"Win Rate\": 49.06, \"Eliminations\": 19.59, \"Objective Kills\": 7.25, \"Objective Time\": 49, \"Damage\": 9418, \"Deaths\": 7.97, \"Role\": \"Damage\", \"Prediction\": 7.4860464427184485}, {\"Hero\": \"Soldier: 76\", \"Skill Tier\": \"Master\", \"KDA\": 2.96, \"Pick Rate\": 8.31, \"Win Rate\": 49.69, \"Eliminations\": 19.39, \"Objective Kills\": 6.9, \"Objective Time\": 46, \"Damage\": 9511, \"Deaths\": 7.94, \"Role\": \"Damage\", \"Prediction\": 7.417657585334363}, {\"Hero\": \"Soldier: 76\", \"Skill Tier\": \"Grandmaster\", \"KDA\": 2.95, \"Pick Rate\": 9.65, \"Win Rate\": 51.42, \"Eliminations\": 18.99, \"Objective Kills\": 6.49, \"Objective Time\": 43, \"Damage\": 9622, \"Deaths\": 7.79, \"Role\": \"Damage\", \"Prediction\": 7.280879870566191}, {\"Hero\": \"Zenyatta\", \"Skill Tier\": \"Bronze\", \"KDA\": 5.0, \"Pick Rate\": 1.36, \"Win Rate\": 48.7, \"Eliminations\": 12.71, \"Objective Kills\": 5.77, \"Objective Time\": 65, \"Damage\": 4661, \"Deaths\": 7.42, \"Role\": \"Support\", \"Prediction\": 5.1334697487059024}, {\"Hero\": \"Zenyatta\", \"Skill Tier\": \"Silver\", \"KDA\": 5.19, \"Pick Rate\": 1.31, \"Win Rate\": 48.35, \"Eliminations\": 13.55, \"Objective Kills\": 6.08, \"Objective Time\": 69, \"Damage\": 4886, \"Deaths\": 7.29, \"Role\": \"Support\", \"Prediction\": 5.420702949719062}, {\"Hero\": \"Zenyatta\", \"Skill Tier\": \"Gold\", \"KDA\": 5.47, \"Pick Rate\": 1.8, \"Win Rate\": 51.21, \"Eliminations\": 14.0, \"Objective Kills\": 6.1, \"Objective Time\": 69, \"Damage\": 5037, \"Deaths\": 7.1, \"Role\": \"Support\", \"Prediction\": 5.574577878833255}, {\"Hero\": \"Zenyatta\", \"Skill Tier\": \"Platinum\", \"KDA\": 5.55, \"Pick Rate\": 2.9, \"Win Rate\": 51.81, \"Eliminations\": 14.24, \"Objective Kills\": 6.04, \"Objective Time\": 67, \"Damage\": 5140, \"Deaths\": 6.89, \"Role\": \"Support\", \"Prediction\": 5.656644507694157}, {\"Hero\": \"Zenyatta\", \"Skill Tier\": \"Diamond\", \"KDA\": 5.61, \"Pick Rate\": 5.05, \"Win Rate\": 52.8, \"Eliminations\": 14.34, \"Objective Kills\": 5.82, \"Objective Time\": 65, \"Damage\": 5216, \"Deaths\": 6.66, \"Role\": \"Support\", \"Prediction\": 5.6908389363862}, {\"Hero\": \"Zenyatta\", \"Skill Tier\": \"Master\", \"KDA\": 5.59, \"Pick Rate\": 7.38, \"Win Rate\": 54.96, \"Eliminations\": 14.13, \"Objective Kills\": 5.47, \"Objective Time\": 62, \"Damage\": 5204, \"Deaths\": 6.53, \"Role\": \"Support\", \"Prediction\": 5.61903063613291}, {\"Hero\": \"Zenyatta\", \"Skill Tier\": \"Grandmaster\", \"KDA\": 5.28, \"Pick Rate\": 11.33, \"Win Rate\": 54.18, \"Eliminations\": 13.37, \"Objective Kills\": 4.74, \"Objective Time\": 56, \"Damage\": 5154, \"Deaths\": 6.37, \"Role\": \"Support\", \"Prediction\": 5.359152978073384}, {\"Hero\": \"Lucio\", \"Skill Tier\": \"Bronze\", \"KDA\": 3.44, \"Pick Rate\": 1.42, \"Win Rate\": 44.22, \"Eliminations\": 10.8, \"Objective Kills\": 5.6, \"Objective Time\": 111, \"Damage\": 3218, \"Deaths\": 7.67, \"Role\": \"Support\", \"Prediction\": 4.480356160687885}, {\"Hero\": \"Lucio\", \"Skill Tier\": \"Silver\", \"KDA\": 3.77, \"Pick Rate\": 1.11, \"Win Rate\": 47.97, \"Eliminations\": 11.89, \"Objective Kills\": 5.98, \"Objective Time\": 109, \"Damage\": 3405, \"Deaths\": 7.57, \"Role\": \"Support\", \"Prediction\": 4.853075433431151}, {\"Hero\": \"Lucio\", \"Skill Tier\": \"Gold\", \"KDA\": 3.87, \"Pick Rate\": 1.37, \"Win Rate\": 48.65, \"Eliminations\": 12.42, \"Objective Kills\": 5.97, \"Objective Time\": 105, \"Damage\": 3533, \"Deaths\": 7.49, \"Role\": \"Support\", \"Prediction\": 5.034305905498978}, {\"Hero\": \"Lucio\", \"Skill Tier\": \"Platinum\", \"KDA\": 3.96, \"Pick Rate\": 1.95, \"Win Rate\": 50.82, \"Eliminations\": 12.81, \"Objective Kills\": 5.85, \"Objective Time\": 100, \"Damage\": 3638, \"Deaths\": 7.4, \"Role\": \"Support\", \"Prediction\": 5.167664177397945}, {\"Hero\": \"Lucio\", \"Skill Tier\": \"Diamond\", \"KDA\": 3.98, \"Pick Rate\": 2.79, \"Win Rate\": 50.94, \"Eliminations\": 12.95, \"Objective Kills\": 5.68, \"Objective Time\": 95, \"Damage\": 3686, \"Deaths\": 7.46, \"Role\": \"Support\", \"Prediction\": 5.215536377566805}, {\"Hero\": \"Lucio\", \"Skill Tier\": \"Master\", \"KDA\": 3.99, \"Pick Rate\": 3.67, \"Win Rate\": 50.99, \"Eliminations\": 13.22, \"Objective Kills\": 5.52, \"Objective Time\": 88, \"Damage\": 3738, \"Deaths\": 7.37, \"Role\": \"Support\", \"Prediction\": 5.30786133503532}, {\"Hero\": \"Lucio\", \"Skill Tier\": \"Grandmaster\", \"KDA\": 4.1, \"Pick Rate\": 6.72, \"Win Rate\": 52.56, \"Eliminations\": 13.02, \"Objective Kills\": 5.15, \"Objective Time\": 82, \"Damage\": 3794, \"Deaths\": 7.11, \"Role\": \"Support\", \"Prediction\": 5.239472477651234}, {\"Hero\": \"D.Va\", \"Skill Tier\": \"Bronze\", \"KDA\": 5.32, \"Pick Rate\": 1.63, \"Win Rate\": 42.58, \"Eliminations\": 18.97, \"Objective Kills\": 6.46, \"Objective Time\": 132, \"Damage\": 7489, \"Deaths\": 6.02, \"Role\": \"Tank\", \"Prediction\": 7.274040984827782}, {\"Hero\": \"D.Va\", \"Skill Tier\": \"Silver\", \"KDA\": 5.8, \"Pick Rate\": 1.35, \"Win Rate\": 45.33, \"Eliminations\": 20.47, \"Objective Kills\": 6.66, \"Objective Time\": 132, \"Damage\": 8028, \"Deaths\": 5.8, \"Role\": \"Tank\", \"Prediction\": 7.786957415208425}, {\"Hero\": \"D.Va\", \"Skill Tier\": \"Gold\", \"KDA\": 6.22, \"Pick Rate\": 1.36, \"Win Rate\": 47.31, \"Eliminations\": 21.26, \"Objective Kills\": 6.66, \"Objective Time\": 129, \"Damage\": 8337, \"Deaths\": 5.62, \"Role\": \"Tank\", \"Prediction\": 8.057093401875564}, {\"Hero\": \"D.Va\", \"Skill Tier\": \"Platinum\", \"KDA\": 6.35, \"Pick Rate\": 1.82, \"Win Rate\": 48.49, \"Eliminations\": 21.49, \"Objective Kills\": 6.47, \"Objective Time\": 125, \"Damage\": 8585, \"Deaths\": 5.49, \"Role\": \"Tank\", \"Prediction\": 8.13574058786726}, {\"Hero\": \"D.Va\", \"Skill Tier\": \"Diamond\", \"KDA\": 6.64, \"Pick Rate\": 2.67, \"Win Rate\": 48.58, \"Eliminations\": 21.55, \"Objective Kills\": 6.15, \"Objective Time\": 119, \"Damage\": 8750, \"Deaths\": 5.33, \"Role\": \"Tank\", \"Prediction\": 8.156257245082488}, {\"Hero\": \"D.Va\", \"Skill Tier\": \"Master\", \"KDA\": 6.59, \"Pick Rate\": 3.63, \"Win Rate\": 49.4, \"Eliminations\": 20.88, \"Objective Kills\": 5.74, \"Objective Time\": 114, \"Damage\": 8698, \"Deaths\": 5.26, \"Role\": \"Tank\", \"Prediction\": 7.927154572845801}, {\"Hero\": \"D.Va\", \"Skill Tier\": \"Grandmaster\", \"KDA\": 6.47, \"Pick Rate\": 5.53, \"Win Rate\": 50.94, \"Eliminations\": 19.91, \"Objective Kills\": 5.05, \"Objective Time\": 109, \"Damage\": 8554, \"Deaths\": 4.93, \"Role\": \"Tank\", \"Prediction\": 7.595468614532986}, {\"Hero\": \"Junkrat\", \"Skill Tier\": \"Bronze\", \"KDA\": 2.38, \"Pick Rate\": 1.74, \"Win Rate\": 43.26, \"Eliminations\": 15.34, \"Objective Kills\": 6.57, \"Objective Time\": 60, \"Damage\": 7670, \"Deaths\": 8.69, \"Role\": \"Damage\", \"Prediction\": 6.0327832233066285}, {\"Hero\": \"Junkrat\", \"Skill Tier\": \"Silver\", \"KDA\": 2.58, \"Pick Rate\": 1.74, \"Win Rate\": 45.91, \"Eliminations\": 16.0, \"Objective Kills\": 6.61, \"Objective Time\": 58, \"Damage\": 8026, \"Deaths\": 8.49, \"Role\": \"Damage\", \"Prediction\": 6.258466452674111}, {\"Hero\": \"Junkrat\", \"Skill Tier\": \"Gold\", \"KDA\": 2.67, \"Pick Rate\": 1.74, \"Win Rate\": 46.48, \"Eliminations\": 16.4, \"Objective Kills\": 6.4, \"Objective Time\": 55, \"Damage\": 8201, \"Deaths\": 8.26, \"Role\": \"Damage\", \"Prediction\": 6.395244167442282}, {\"Hero\": \"Junkrat\", \"Skill Tier\": \"Platinum\", \"KDA\": 2.72, \"Pick Rate\": 1.96, \"Win Rate\": 47.85, \"Eliminations\": 16.57, \"Objective Kills\": 6.15, \"Objective Time\": 50, \"Damage\": 8373, \"Deaths\": 8.17, \"Role\": \"Damage\", \"Prediction\": 6.453374696218755}, {\"Hero\": \"Junkrat\", \"Skill Tier\": \"Diamond\", \"KDA\": 2.67, \"Pick Rate\": 2.4, \"Win Rate\": 48.25, \"Eliminations\": 16.6, \"Objective Kills\": 5.78, \"Objective Time\": 45, \"Damage\": 8458, \"Deaths\": 8.16, \"Role\": \"Damage\", \"Prediction\": 6.463633024826368}, {\"Hero\": \"Junkrat\", \"Skill Tier\": \"Master\", \"KDA\": 2.69, \"Pick Rate\": 2.65, \"Win Rate\": 49.54, \"Eliminations\": 16.31, \"Objective Kills\": 5.47, \"Objective Time\": 42, \"Damage\": 8390, \"Deaths\": 8.14, \"Role\": \"Damage\", \"Prediction\": 6.364469181619444}, {\"Hero\": \"Junkrat\", \"Skill Tier\": \"Grandmaster\", \"KDA\": 2.54, \"Pick Rate\": 2.75, \"Win Rate\": 49.32, \"Eliminations\": 15.56, \"Objective Kills\": 4.94, \"Objective Time\": 38, \"Damage\": 8147, \"Deaths\": 8.2, \"Role\": \"Damage\", \"Prediction\": 6.108010966429123}, {\"Hero\": \"Ashe\", \"Skill Tier\": \"Bronze\", \"KDA\": 2.38, \"Pick Rate\": 1.04, \"Win Rate\": 42.57, \"Eliminations\": 14.24, \"Objective Kills\": 5.96, \"Objective Time\": 55, \"Damage\": 7192, \"Deaths\": 7.72, \"Role\": \"Damage\", \"Prediction\": 5.656644507694157}, {\"Hero\": \"Ashe\", \"Skill Tier\": \"Silver\", \"KDA\": 2.62, \"Pick Rate\": 1.11, \"Win Rate\": 45.71, \"Eliminations\": 15.4, \"Objective Kills\": 6.16, \"Objective Time\": 54, \"Damage\": 7715, \"Deaths\": 7.47, \"Role\": \"Damage\", \"Prediction\": 6.0532998805218545}, {\"Hero\": \"Ashe\", \"Skill Tier\": \"Gold\", \"KDA\": 2.7, \"Pick Rate\": 1.62, \"Win Rate\": 48.19, \"Eliminations\": 16.34, \"Objective Kills\": 6.22, \"Objective Time\": 53, \"Damage\": 8215, \"Deaths\": 7.37, \"Role\": \"Damage\", \"Prediction\": 6.374727510227056}, {\"Hero\": \"Ashe\", \"Skill Tier\": \"Platinum\", \"KDA\": 2.74, \"Pick Rate\": 2.39, \"Win Rate\": 49.36, \"Eliminations\": 17.09, \"Objective Kills\": 6.21, \"Objective Time\": 50, \"Damage\": 8725, \"Deaths\": 7.44, \"Role\": \"Damage\", \"Prediction\": 6.631185725417378}, {\"Hero\": \"Ashe\", \"Skill Tier\": \"Diamond\", \"KDA\": 2.72, \"Pick Rate\": 4.11, \"Win Rate\": 49.43, \"Eliminations\": 17.56, \"Objective Kills\": 6.06, \"Objective Time\": 48, \"Damage\": 9153, \"Deaths\": 7.55, \"Role\": \"Damage\", \"Prediction\": 6.791899540269979}, {\"Hero\": \"Ashe\", \"Skill Tier\": \"Master\", \"KDA\": 2.68, \"Pick Rate\": 5.05, \"Win Rate\": 51.28, \"Eliminations\": 17.66, \"Objective Kills\": 5.71, \"Objective Time\": 44, \"Damage\": 9438, \"Deaths\": 7.65, \"Role\": \"Damage\", \"Prediction\": 6.826093968962022}, {\"Hero\": \"Ashe\", \"Skill Tier\": \"Grandmaster\", \"KDA\": 2.69, \"Pick Rate\": 4.95, \"Win Rate\": 51.18, \"Eliminations\": 17.76, \"Objective Kills\": 5.29, \"Objective Time\": 41, \"Damage\": 9893, \"Deaths\": 7.76, \"Role\": \"Damage\", \"Prediction\": 6.860288397654065}, {\"Hero\": \"Tracer\", \"Skill Tier\": \"Bronze\", \"KDA\": 2.24, \"Pick Rate\": 0.64, \"Win Rate\": 39.43, \"Eliminations\": 14.98, \"Objective Kills\": 5.98, \"Objective Time\": 65, \"Damage\": 5758, \"Deaths\": 8.62, \"Role\": \"Damage\", \"Prediction\": 5.909683280015274}, {\"Hero\": \"Tracer\", \"Skill Tier\": \"Silver\", \"KDA\": 2.42, \"Pick Rate\": 0.67, \"Win Rate\": 44.77, \"Eliminations\": 16.33, \"Objective Kills\": 6.28, \"Objective Time\": 67, \"Damage\": 6126, \"Deaths\": 8.51, \"Role\": \"Damage\", \"Prediction\": 6.371308067357852}, {\"Hero\": \"Tracer\", \"Skill Tier\": \"Gold\", \"KDA\": 2.47, \"Pick Rate\": 0.86, \"Win Rate\": 45.57, \"Eliminations\": 17.11, \"Objective Kills\": 6.35, \"Objective Time\": 63, \"Damage\": 6338, \"Deaths\": 8.39, \"Role\": \"Damage\", \"Prediction\": 6.638024611155786}, {\"Hero\": \"Tracer\", \"Skill Tier\": \"Platinum\", \"KDA\": 2.45, \"Pick Rate\": 1.54, \"Win Rate\": 46.75, \"Eliminations\": 17.62, \"Objective Kills\": 6.36, \"Objective Time\": 62, \"Damage\": 6556, \"Deaths\": 8.44, \"Role\": \"Damage\", \"Prediction\": 6.812416197485205}, {\"Hero\": \"Tracer\", \"Skill Tier\": \"Diamond\", \"KDA\": 2.48, \"Pick Rate\": 3.14, \"Win Rate\": 48.5, \"Eliminations\": 17.97, \"Objective Kills\": 6.33, \"Objective Time\": 59, \"Damage\": 6683, \"Deaths\": 8.44, \"Role\": \"Damage\", \"Prediction\": 6.932096697907355}, {\"Hero\": \"Tracer\", \"Skill Tier\": \"Master\", \"KDA\": 2.45, \"Pick Rate\": 4.85, \"Win Rate\": 49.24, \"Eliminations\": 18.16, \"Objective Kills\": 6.17, \"Objective Time\": 57, \"Damage\": 6803, \"Deaths\": 8.3, \"Role\": \"Damage\", \"Prediction\": 6.997066112422236}, {\"Hero\": \"Tracer\", \"Skill Tier\": \"Grandmaster\", \"KDA\": 2.64, \"Pick Rate\": 11.98, \"Win Rate\": 52.55, \"Eliminations\": 18.28, \"Objective Kills\": 5.74, \"Objective Time\": 53, \"Damage\": 7071, \"Deaths\": 7.71, \"Role\": \"Damage\", \"Prediction\": 7.038099426852688}, {\"Hero\": \"Roadhog\", \"Skill Tier\": \"Bronze\", \"KDA\": 3.07, \"Pick Rate\": 0.35, \"Win Rate\": 34.1, \"Eliminations\": 14.52, \"Objective Kills\": 7.24, \"Objective Time\": 117, \"Damage\": 6745, \"Deaths\": 7.3, \"Role\": \"Tank\", \"Prediction\": 5.752388908031877}, {\"Hero\": \"Roadhog\", \"Skill Tier\": \"Silver\", \"KDA\": 3.3, \"Pick Rate\": 0.37, \"Win Rate\": 35.67, \"Eliminations\": 15.53, \"Objective Kills\": 7.61, \"Objective Time\": 119, \"Damage\": 7125, \"Deaths\": 7.09, \"Role\": \"Tank\", \"Prediction\": 6.097752637821509}, {\"Hero\": \"Roadhog\", \"Skill Tier\": \"Gold\", \"KDA\": 3.68, \"Pick Rate\": 0.46, \"Win Rate\": 38.83, \"Eliminations\": 16.66, \"Objective Kills\": 7.93, \"Objective Time\": 116, \"Damage\": 7700, \"Deaths\": 6.89, \"Role\": \"Tank\", \"Prediction\": 6.484149682041593}, {\"Hero\": \"Roadhog\", \"Skill Tier\": \"Platinum\", \"KDA\": 3.69, \"Pick Rate\": 0.7, \"Win Rate\": 39.09, \"Eliminations\": 17.32, \"Objective Kills\": 7.94, \"Objective Time\": 116, \"Damage\": 8138, \"Deaths\": 6.79, \"Role\": \"Tank\", \"Prediction\": 6.709832911409077}, {\"Hero\": \"Roadhog\", \"Skill Tier\": \"Diamond\", \"KDA\": 3.83, \"Pick Rate\": 1.22, \"Win Rate\": 40.9, \"Eliminations\": 17.89, \"Objective Kills\": 7.86, \"Objective Time\": 111, \"Damage\": 8445, \"Deaths\": 6.7, \"Role\": \"Tank\", \"Prediction\": 6.9047411549537205}, {\"Hero\": \"Roadhog\", \"Skill Tier\": \"Master\", \"KDA\": 3.81, \"Pick Rate\": 1.38, \"Win Rate\": 41.03, \"Eliminations\": 17.86, \"Objective Kills\": 7.62, \"Objective Time\": 107, \"Damage\": 8470, \"Deaths\": 6.63, \"Role\": \"Tank\", \"Prediction\": 6.894482826346107}, {\"Hero\": \"Roadhog\", \"Skill Tier\": \"Grandmaster\", \"KDA\": 3.78, \"Pick Rate\": 1.68, \"Win Rate\": 42.66, \"Eliminations\": 17.12, \"Objective Kills\": 7.21, \"Objective Time\": 106, \"Damage\": 8218, \"Deaths\": 6.5, \"Role\": \"Tank\", \"Prediction\": 6.641444054024991}, {\"Hero\": \"Zarya\", \"Skill Tier\": \"Bronze\", \"KDA\": 3.97, \"Pick Rate\": 0.72, \"Win Rate\": 39.27, \"Eliminations\": 17.34, \"Objective Kills\": 8.65, \"Objective Time\": 133, \"Damage\": 8415, \"Deaths\": 6.74, \"Role\": \"Tank\", \"Prediction\": 6.716671797147485}, {\"Hero\": \"Zarya\", \"Skill Tier\": \"Silver\", \"KDA\": 4.34, \"Pick Rate\": 0.99, \"Win Rate\": 42.98, \"Eliminations\": 18.62, \"Objective Kills\": 9.06, \"Objective Time\": 132, \"Damage\": 8995, \"Deaths\": 6.56, \"Role\": \"Tank\", \"Prediction\": 7.154360484405633}, {\"Hero\": \"Zarya\", \"Skill Tier\": \"Gold\", \"KDA\": 4.65, \"Pick Rate\": 1.36, \"Win Rate\": 45.51, \"Eliminations\": 19.52, \"Objective Kills\": 9.12, \"Objective Time\": 128, \"Damage\": 9476, \"Deaths\": 6.37, \"Role\": \"Tank\", \"Prediction\": 7.462110342634018}, {\"Hero\": \"Zarya\", \"Skill Tier\": \"Platinum\", \"KDA\": 4.79, \"Pick Rate\": 1.81, \"Win Rate\": 46.18, \"Eliminations\": 20.13, \"Objective Kills\": 9.21, \"Objective Time\": 127, \"Damage\": 9922, \"Deaths\": 6.25, \"Role\": \"Tank\", \"Prediction\": 7.670696357655479}, {\"Hero\": \"Zarya\", \"Skill Tier\": \"Diamond\", \"KDA\": 4.83, \"Pick Rate\": 2.54, \"Win Rate\": 45.86, \"Eliminations\": 20.31, \"Objective Kills\": 9.07, \"Objective Time\": 123, \"Damage\": 10191, \"Deaths\": 6.2, \"Role\": \"Tank\", \"Prediction\": 7.732246329301156}, {\"Hero\": \"Zarya\", \"Skill Tier\": \"Master\", \"KDA\": 4.86, \"Pick Rate\": 2.69, \"Win Rate\": 47.08, \"Eliminations\": 20.19, \"Objective Kills\": 8.87, \"Objective Time\": 117, \"Damage\": 10345, \"Deaths\": 6.13, \"Role\": \"Tank\", \"Prediction\": 7.691213014870706}, {\"Hero\": \"Zarya\", \"Skill Tier\": \"Grandmaster\", \"KDA\": 4.91, \"Pick Rate\": 3.15, \"Win Rate\": 48.78, \"Eliminations\": 19.68, \"Objective Kills\": 8.42, \"Objective Time\": 111, \"Damage\": 10283, \"Deaths\": 5.98, \"Role\": \"Tank\", \"Prediction\": 7.516821428541287}, {\"Hero\": \"Reaper\", \"Skill Tier\": \"Bronze\", \"KDA\": 2.66, \"Pick Rate\": 1.19, \"Win Rate\": 44.71, \"Eliminations\": 17.9, \"Objective Kills\": 7.51, \"Objective Time\": 80, \"Damage\": 7272, \"Deaths\": 8.28, \"Role\": \"Damage\", \"Prediction\": 6.908160597822924}, {\"Hero\": \"Reaper\", \"Skill Tier\": \"Silver\", \"KDA\": 2.68, \"Pick Rate\": 1.34, \"Win Rate\": 45.45, \"Eliminations\": 18.82, \"Objective Kills\": 7.63, \"Objective Time\": 78, \"Damage\": 7567, \"Deaths\": 8.21, \"Role\": \"Damage\", \"Prediction\": 7.222749341789719}, {\"Hero\": \"Reaper\", \"Skill Tier\": \"Gold\", \"KDA\": 2.84, \"Pick Rate\": 1.59, \"Win Rate\": 47.73, \"Eliminations\": 19.47, \"Objective Kills\": 7.74, \"Objective Time\": 77, \"Damage\": 7958, \"Deaths\": 8.11, \"Role\": \"Damage\", \"Prediction\": 7.4450131282879966}, {\"Hero\": \"Reaper\", \"Skill Tier\": \"Platinum\", \"KDA\": 2.82, \"Pick Rate\": 2.34, \"Win Rate\": 48.97, \"Eliminations\": 19.97, \"Objective Kills\": 7.72, \"Objective Time\": 74, \"Damage\": 8317, \"Deaths\": 8.07, \"Role\": \"Damage\", \"Prediction\": 7.615985271748211}, {\"Hero\": \"Reaper\", \"Skill Tier\": \"Diamond\", \"KDA\": 2.89, \"Pick Rate\": 3.16, \"Win Rate\": 49.51, \"Eliminations\": 20.25, \"Objective Kills\": 7.66, \"Objective Time\": 72, \"Damage\": 8576, \"Deaths\": 8.02, \"Role\": \"Damage\", \"Prediction\": 7.711729672085931}, {\"Hero\": \"Reaper\", \"Skill Tier\": \"Master\", \"KDA\": 2.85, \"Pick Rate\": 3.18, \"Win Rate\": 49.5, \"Eliminations\": 20.16, \"Objective Kills\": 7.53, \"Objective Time\": 71, \"Damage\": 8650, \"Deaths\": 8.01, \"Role\": \"Damage\", \"Prediction\": 7.680954686263092}, {\"Hero\": \"Reaper\", \"Skill Tier\": \"Grandmaster\", \"KDA\": 2.8, \"Pick Rate\": 2.53, \"Win Rate\": 49.08, \"Eliminations\": 19.37, \"Objective Kills\": 7.11, \"Objective Time\": 70, \"Damage\": 8578, \"Deaths\": 7.94, \"Role\": \"Damage\", \"Prediction\": 7.410818699595954}, {\"Hero\": \"Baptiste\", \"Skill Tier\": \"Bronze\", \"KDA\": 3.88, \"Pick Rate\": 1.6, \"Win Rate\": 42.36, \"Eliminations\": 9.23, \"Objective Kills\": 4.33, \"Objective Time\": 66, \"Damage\": 3148, \"Deaths\": 7.01, \"Role\": \"Support\", \"Prediction\": 3.9435036302228115}, {\"Hero\": \"Baptiste\", \"Skill Tier\": \"Silver\", \"KDA\": 4.08, \"Pick Rate\": 1.3, \"Win Rate\": 42.84, \"Eliminations\": 10.04, \"Objective Kills\": 4.77, \"Objective Time\": 69, \"Damage\": 3344, \"Deaths\": 6.88, \"Role\": \"Support\", \"Prediction\": 4.220478502628358}, {\"Hero\": \"Baptiste\", \"Skill Tier\": \"Gold\", \"KDA\": 4.33, \"Pick Rate\": 1.79, \"Win Rate\": 46.63, \"Eliminations\": 10.32, \"Objective Kills\": 4.78, \"Objective Time\": 65, \"Damage\": 3398, \"Deaths\": 6.64, \"Role\": \"Support\", \"Prediction\": 4.316222902966079}, {\"Hero\": \"Baptiste\", \"Skill Tier\": \"Platinum\", \"KDA\": 4.52, \"Pick Rate\": 2.49, \"Win Rate\": 47.17, \"Eliminations\": 10.78, \"Objective Kills\": 4.75, \"Objective Time\": 61, \"Damage\": 3585, \"Deaths\": 6.39, \"Role\": \"Support\", \"Prediction\": 4.473517274949475}, {\"Hero\": \"Baptiste\", \"Skill Tier\": \"Diamond\", \"KDA\": 4.7, \"Pick Rate\": 4.25, \"Win Rate\": 49.71, \"Eliminations\": 11.23, \"Objective Kills\": 4.75, \"Objective Time\": 58, \"Damage\": 3769, \"Deaths\": 6.2, \"Role\": \"Support\", \"Prediction\": 4.627392204063668}, {\"Hero\": \"Baptiste\", \"Skill Tier\": \"Master\", \"KDA\": 4.72, \"Pick Rate\": 4.66, \"Win Rate\": 49.75, \"Eliminations\": 11.49, \"Objective Kills\": 4.65, \"Objective Time\": 54, \"Damage\": 3932, \"Deaths\": 6.15, \"Role\": \"Support\", \"Prediction\": 4.716297718662979}, {\"Hero\": \"Baptiste\", \"Skill Tier\": \"Grandmaster\", \"KDA\": 4.84, \"Pick Rate\": 7.61, \"Win Rate\": 53.08, \"Eliminations\": 11.74, \"Objective Kills\": 4.46, \"Objective Time\": 52, \"Damage\": 4231, \"Deaths\": 6.01, \"Role\": \"Support\", \"Prediction\": 4.8017837903930864}, {\"Hero\": \"Orisa\", \"Skill Tier\": \"Bronze\", \"KDA\": 3.19, \"Pick Rate\": 1.31, \"Win Rate\": 37.88, \"Eliminations\": 15.49, \"Objective Kills\": 7.81, \"Objective Time\": 130, \"Damage\": 8149, \"Deaths\": 7.57, \"Role\": \"Tank\", \"Prediction\": 6.084074866344692}, {\"Hero\": \"Orisa\", \"Skill Tier\": \"Silver\", \"KDA\": 3.58, \"Pick Rate\": 1.54, \"Win Rate\": 41.51, \"Eliminations\": 16.9, \"Objective Kills\": 8.24, \"Objective Time\": 133, \"Damage\": 8744, \"Deaths\": 7.31, \"Role\": \"Tank\", \"Prediction\": 6.566216310902496}, {\"Hero\": \"Orisa\", \"Skill Tier\": \"Gold\", \"KDA\": 3.66, \"Pick Rate\": 1.73, \"Win Rate\": 43.92, \"Eliminations\": 17.57, \"Objective Kills\": 8.17, \"Objective Time\": 129, \"Damage\": 9154, \"Deaths\": 7.15, \"Role\": \"Tank\", \"Prediction\": 6.795318983139183}, {\"Hero\": \"Orisa\", \"Skill Tier\": \"Platinum\", \"KDA\": 3.79, \"Pick Rate\": 2.24, \"Win Rate\": 44.59, \"Eliminations\": 18.26, \"Objective Kills\": 8.17, \"Objective Time\": 125, \"Damage\": 9497, \"Deaths\": 7.01, \"Role\": \"Tank\", \"Prediction\": 7.031260541114279}, {\"Hero\": \"Orisa\", \"Skill Tier\": \"Diamond\", \"KDA\": 3.92, \"Pick Rate\": 2.75, \"Win Rate\": 44.05, \"Eliminations\": 18.52, \"Objective Kills\": 7.99, \"Objective Time\": 121, \"Damage\": 9694, \"Deaths\": 6.92, \"Role\": \"Tank\", \"Prediction\": 7.12016605571359}, {\"Hero\": \"Orisa\", \"Skill Tier\": \"Master\", \"KDA\": 3.83, \"Pick Rate\": 2.72, \"Win Rate\": 43.59, \"Eliminations\": 18.36, \"Objective Kills\": 7.79, \"Objective Time\": 119, \"Damage\": 9586, \"Deaths\": 6.91, \"Role\": \"Tank\", \"Prediction\": 7.065454969806321}, {\"Hero\": \"Orisa\", \"Skill Tier\": \"Grandmaster\", \"KDA\": 3.83, \"Pick Rate\": 2.58, \"Win Rate\": 43.89, \"Eliminations\": 17.89, \"Objective Kills\": 7.53, \"Objective Time\": 117, \"Damage\": 9299, \"Deaths\": 6.86, \"Role\": \"Tank\", \"Prediction\": 6.9047411549537205}, {\"Hero\": \"Pharah\", \"Skill Tier\": \"Bronze\", \"KDA\": 2.85, \"Pick Rate\": 0.94, \"Win Rate\": 45.59, \"Eliminations\": 17.93, \"Objective Kills\": 6.54, \"Objective Time\": 42, \"Damage\": 8056, \"Deaths\": 8.24, \"Role\": \"Damage\", \"Prediction\": 6.918418926430538}, {\"Hero\": \"Pharah\", \"Skill Tier\": \"Silver\", \"KDA\": 3.11, \"Pick Rate\": 1.07, \"Win Rate\": 49.07, \"Eliminations\": 19.49, \"Objective Kills\": 6.77, \"Objective Time\": 42, \"Damage\": 8495, \"Deaths\": 8.33, \"Role\": \"Damage\", \"Prediction\": 7.4518520140264055}, {\"Hero\": \"Pharah\", \"Skill Tier\": \"Gold\", \"KDA\": 3.13, \"Pick Rate\": 1.2, \"Win Rate\": 49.56, \"Eliminations\": 20.24, \"Objective Kills\": 6.76, \"Objective Time\": 41, \"Damage\": 8771, \"Deaths\": 8.32, \"Role\": \"Damage\", \"Prediction\": 7.7083102292167265}, {\"Hero\": \"Pharah\", \"Skill Tier\": \"Platinum\", \"KDA\": 3.12, \"Pick Rate\": 1.65, \"Win Rate\": 50.63, \"Eliminations\": 20.91, \"Objective Kills\": 6.62, \"Objective Time\": 39, \"Damage\": 9121, \"Deaths\": 8.45, \"Role\": \"Damage\", \"Prediction\": 7.937412901453414}, {\"Hero\": \"Pharah\", \"Skill Tier\": \"Diamond\", \"KDA\": 3.08, \"Pick Rate\": 2.35, \"Win Rate\": 51.0, \"Eliminations\": 21.42, \"Objective Kills\": 6.47, \"Objective Time\": 38, \"Damage\": 9433, \"Deaths\": 8.56, \"Role\": \"Damage\", \"Prediction\": 8.111804487782834}, {\"Hero\": \"Pharah\", \"Skill Tier\": \"Master\", \"KDA\": 3.01, \"Pick Rate\": 3.14, \"Win Rate\": 52.68, \"Eliminations\": 21.35, \"Objective Kills\": 6.13, \"Objective Time\": 35, \"Damage\": 9577, \"Deaths\": 8.56, \"Role\": \"Damage\", \"Prediction\": 8.087868387698403}, {\"Hero\": \"Pharah\", \"Skill Tier\": \"Grandmaster\", \"KDA\": 3.0, \"Pick Rate\": 3.03, \"Win Rate\": 53.11, \"Eliminations\": 21.08, \"Objective Kills\": 5.87, \"Objective Time\": 32, \"Damage\": 9720, \"Deaths\": 8.47, \"Role\": \"Damage\", \"Prediction\": 7.995543430229886}, {\"Hero\": \"Sigma\", \"Skill Tier\": \"Bronze\", \"KDA\": 4.06, \"Pick Rate\": 1.26, \"Win Rate\": 44.52, \"Eliminations\": 16.21, \"Objective Kills\": 8.55, \"Objective Time\": 138, \"Damage\": 8706, \"Deaths\": 5.56, \"Role\": \"Tank\", \"Prediction\": 6.3302747529274015}, {\"Hero\": \"Sigma\", \"Skill Tier\": \"Silver\", \"KDA\": 4.6, \"Pick Rate\": 1.35, \"Win Rate\": 46.84, \"Eliminations\": 17.59, \"Objective Kills\": 8.9, \"Objective Time\": 138, \"Damage\": 9286, \"Deaths\": 5.41, \"Role\": \"Tank\", \"Prediction\": 6.802157868877591}, {\"Hero\": \"Sigma\", \"Skill Tier\": \"Gold\", \"KDA\": 4.88, \"Pick Rate\": 1.52, \"Win Rate\": 48.93, \"Eliminations\": 18.4, \"Objective Kills\": 8.88, \"Objective Time\": 135, \"Damage\": 9669, \"Deaths\": 5.21, \"Role\": \"Tank\", \"Prediction\": 7.079132741283138}, {\"Hero\": \"Sigma\", \"Skill Tier\": \"Platinum\", \"KDA\": 5.01, \"Pick Rate\": 2.12, \"Win Rate\": 50.52, \"Eliminations\": 18.88, \"Objective Kills\": 8.64, \"Objective Time\": 131, \"Damage\": 10066, \"Deaths\": 5.08, \"Role\": \"Tank\", \"Prediction\": 7.243265999004944}, {\"Hero\": \"Sigma\", \"Skill Tier\": \"Diamond\", \"KDA\": 5.09, \"Pick Rate\": 3.09, \"Win Rate\": 50.86, \"Eliminations\": 19.16, \"Objective Kills\": 8.3, \"Objective Time\": 126, \"Damage\": 10337, \"Deaths\": 5.04, \"Role\": \"Tank\", \"Prediction\": 7.339010399342665}, {\"Hero\": \"Sigma\", \"Skill Tier\": \"Master\", \"KDA\": 4.91, \"Pick Rate\": 3.91, \"Win Rate\": 51.89, \"Eliminations\": 18.95, \"Objective Kills\": 7.79, \"Objective Time\": 123, \"Damage\": 10391, \"Deaths\": 5.03, \"Role\": \"Tank\", \"Prediction\": 7.267202099089374}, {\"Hero\": \"Sigma\", \"Skill Tier\": \"Grandmaster\", \"KDA\": 4.66, \"Pick Rate\": 5.83, \"Win Rate\": 53.24, \"Eliminations\": 18.22, \"Objective Kills\": 7.01, \"Objective Time\": 118, \"Damage\": 10365, \"Deaths\": 4.98, \"Role\": \"Tank\", \"Prediction\": 7.017582769637461}, {\"Hero\": \"Doomfist\", \"Skill Tier\": \"Bronze\", \"KDA\": 3.16, \"Pick Rate\": 0.28, \"Win Rate\": 42.13, \"Eliminations\": 15.51, \"Objective Kills\": 5.84, \"Objective Time\": 95, \"Damage\": 6846, \"Deaths\": 8.29, \"Role\": \"Tank\", \"Prediction\": 6.090913752083101}, {\"Hero\": \"Doomfist\", \"Skill Tier\": \"Silver\", \"KDA\": 3.35, \"Pick Rate\": 0.45, \"Win Rate\": 48.14, \"Eliminations\": 16.78, \"Objective Kills\": 6.33, \"Objective Time\": 101, \"Damage\": 7290, \"Deaths\": 7.93, \"Role\": \"Tank\", \"Prediction\": 6.525182996472045}, {\"Hero\": \"Doomfist\", \"Skill Tier\": \"Gold\", \"KDA\": 3.26, \"Pick Rate\": 0.69, \"Win Rate\": 48.06, \"Eliminations\": 17.31, \"Objective Kills\": 6.19, \"Objective Time\": 97, \"Damage\": 7620, \"Deaths\": 8.05, \"Role\": \"Tank\", \"Prediction\": 6.706413468539871}, {\"Hero\": \"Doomfist\", \"Skill Tier\": \"Platinum\", \"KDA\": 3.38, \"Pick Rate\": 1.35, \"Win Rate\": 50.42, \"Eliminations\": 18.16, \"Objective Kills\": 6.12, \"Objective Time\": 93, \"Damage\": 7995, \"Deaths\": 7.75, \"Role\": \"Tank\", \"Prediction\": 6.997066112422236}, {\"Hero\": \"Doomfist\", \"Skill Tier\": \"Diamond\", \"KDA\": 3.39, \"Pick Rate\": 2.84, \"Win Rate\": 51.5, \"Eliminations\": 18.69, \"Objective Kills\": 6.0, \"Objective Time\": 88, \"Damage\": 8249, \"Deaths\": 7.71, \"Role\": \"Tank\", \"Prediction\": 7.178296584490063}, {\"Hero\": \"Doomfist\", \"Skill Tier\": \"Master\", \"KDA\": 3.4, \"Pick Rate\": 3.54, \"Win Rate\": 51.01, \"Eliminations\": 18.9, \"Objective Kills\": 5.79, \"Objective Time\": 84, \"Damage\": 8309, \"Deaths\": 7.61, \"Role\": \"Tank\", \"Prediction\": 7.250104884743353}, {\"Hero\": \"Doomfist\", \"Skill Tier\": \"Grandmaster\", \"KDA\": 3.43, \"Pick Rate\": 6.89, \"Win Rate\": 51.89, \"Eliminations\": 18.78, \"Objective Kills\": 5.63, \"Objective Time\": 82, \"Damage\": 8354, \"Deaths\": 7.53, \"Role\": \"Tank\", \"Prediction\": 7.209071570312902}, {\"Hero\": \"Brigitte\", \"Skill Tier\": \"Bronze\", \"KDA\": 3.85, \"Pick Rate\": 0.7, \"Win Rate\": 46.01, \"Eliminations\": 11.28, \"Objective Kills\": 4.93, \"Objective Time\": 93, \"Damage\": 3383, \"Deaths\": 8.39, \"Role\": \"Support\", \"Prediction\": 4.644489418409689}, {\"Hero\": \"Brigitte\", \"Skill Tier\": \"Silver\", \"KDA\": 4.3, \"Pick Rate\": 0.69, \"Win Rate\": 49.47, \"Eliminations\": 12.17, \"Objective Kills\": 5.12, \"Objective Time\": 93, \"Damage\": 3563, \"Deaths\": 8.15, \"Role\": \"Support\", \"Prediction\": 4.94881983376887}, {\"Hero\": \"Brigitte\", \"Skill Tier\": \"Gold\", \"KDA\": 4.53, \"Pick Rate\": 0.87, \"Win Rate\": 51.35, \"Eliminations\": 12.52, \"Objective Kills\": 5.23, \"Objective Time\": 91, \"Damage\": 3737, \"Deaths\": 8.03, \"Role\": \"Support\", \"Prediction\": 5.06850033419102}, {\"Hero\": \"Brigitte\", \"Skill Tier\": \"Platinum\", \"KDA\": 4.63, \"Pick Rate\": 1.26, \"Win Rate\": 52.1, \"Eliminations\": 12.48, \"Objective Kills\": 5.09, \"Objective Time\": 88, \"Damage\": 3750, \"Deaths\": 7.71, \"Role\": \"Support\", \"Prediction\": 5.054822562714204}, {\"Hero\": \"Brigitte\", \"Skill Tier\": \"Diamond\", \"KDA\": 4.75, \"Pick Rate\": 1.99, \"Win Rate\": 52.77, \"Eliminations\": 12.36, \"Objective Kills\": 5.03, \"Objective Time\": 86, \"Damage\": 3788, \"Deaths\": 7.36, \"Role\": \"Support\", \"Prediction\": 5.013789248283752}, {\"Hero\": \"Brigitte\", \"Skill Tier\": \"Master\", \"KDA\": 4.9, \"Pick Rate\": 2.85, \"Win Rate\": 53.47, \"Eliminations\": 11.75, \"Objective Kills\": 4.67, \"Objective Time\": 83, \"Damage\": 3701, \"Deaths\": 7.05, \"Role\": \"Support\", \"Prediction\": 4.805203233262291}, {\"Hero\": \"Brigitte\", \"Skill Tier\": \"Grandmaster\", \"KDA\": 4.93, \"Pick Rate\": 5.39, \"Win Rate\": 53.59, \"Eliminations\": 10.82, \"Objective Kills\": 4.33, \"Objective Time\": 84, \"Damage\": 3588, \"Deaths\": 6.49, \"Role\": \"Support\", \"Prediction\": 4.487195046426292}, {\"Hero\": \"Mei\", \"Skill Tier\": \"Bronze\", \"KDA\": 3.64, \"Pick Rate\": 0.97, \"Win Rate\": 45.73, \"Eliminations\": 16.62, \"Objective Kills\": 7.77, \"Objective Time\": 100, \"Damage\": 6368, \"Deaths\": 7.52, \"Role\": \"Damage\", \"Prediction\": 6.470471910564777}, {\"Hero\": \"Mei\", \"Skill Tier\": \"Silver\", \"KDA\": 3.88, \"Pick Rate\": 1.14, \"Win Rate\": 48.21, \"Eliminations\": 17.3, \"Objective Kills\": 8.01, \"Objective Time\": 100, \"Damage\": 6620, \"Deaths\": 7.4, \"Role\": \"Damage\", \"Prediction\": 6.702994025670668}, {\"Hero\": \"Mei\", \"Skill Tier\": \"Gold\", \"KDA\": 3.96, \"Pick Rate\": 1.3, \"Win Rate\": 49.98, \"Eliminations\": 17.89, \"Objective Kills\": 8.02, \"Objective Time\": 95, \"Damage\": 6849, \"Deaths\": 7.3, \"Role\": \"Damage\", \"Prediction\": 6.9047411549537205}, {\"Hero\": \"Mei\", \"Skill Tier\": \"Platinum\", \"KDA\": 3.92, \"Pick Rate\": 1.75, \"Win Rate\": 50.77, \"Eliminations\": 18.09, \"Objective Kills\": 7.78, \"Objective Time\": 91, \"Damage\": 7062, \"Deaths\": 7.2, \"Role\": \"Damage\", \"Prediction\": 6.973130012337806}, {\"Hero\": \"Mei\", \"Skill Tier\": \"Diamond\", \"KDA\": 3.83, \"Pick Rate\": 2.52, \"Win Rate\": 51.11, \"Eliminations\": 18.01, \"Objective Kills\": 7.52, \"Objective Time\": 87, \"Damage\": 7172, \"Deaths\": 7.18, \"Role\": \"Damage\", \"Prediction\": 6.9457744693841725}, {\"Hero\": \"Mei\", \"Skill Tier\": \"Master\", \"KDA\": 3.76, \"Pick Rate\": 3.35, \"Win Rate\": 52.77, \"Eliminations\": 17.75, \"Objective Kills\": 7.12, \"Objective Time\": 81, \"Damage\": 7215, \"Deaths\": 7.1, \"Role\": \"Damage\", \"Prediction\": 6.8568689547848605}, {\"Hero\": \"Mei\", \"Skill Tier\": \"Grandmaster\", \"KDA\": 3.57, \"Pick Rate\": 3.33, \"Win Rate\": 52.48, \"Eliminations\": 17.07, \"Objective Kills\": 6.64, \"Objective Time\": 77, \"Damage\": 7114, \"Deaths\": 6.97, \"Role\": \"Damage\", \"Prediction\": 6.624346839678969}, {\"Hero\": \"Winston\", \"Skill Tier\": \"Bronze\", \"KDA\": 3.27, \"Pick Rate\": 0.38, \"Win Rate\": 35.95, \"Eliminations\": 17.12, \"Objective Kills\": 6.86, \"Objective Time\": 120, \"Damage\": 6766, \"Deaths\": 7.89, \"Role\": \"Tank\", \"Prediction\": 6.641444054024991}, {\"Hero\": \"Winston\", \"Skill Tier\": \"Silver\", \"KDA\": 3.5, \"Pick Rate\": 0.5, \"Win Rate\": 38.65, \"Eliminations\": 18.35, \"Objective Kills\": 7.13, \"Objective Time\": 120, \"Damage\": 7217, \"Deaths\": 7.61, \"Role\": \"Tank\", \"Prediction\": 7.062035526937118}, {\"Hero\": \"Winston\", \"Skill Tier\": \"Gold\", \"KDA\": 3.87, \"Pick Rate\": 0.71, \"Win Rate\": 41.52, \"Eliminations\": 19.33, \"Objective Kills\": 7.11, \"Objective Time\": 117, \"Damage\": 7561, \"Deaths\": 7.24, \"Role\": \"Tank\", \"Prediction\": 7.3971409281191365}, {\"Hero\": \"Winston\", \"Skill Tier\": \"Platinum\", \"KDA\": 3.97, \"Pick Rate\": 1.2, \"Win Rate\": 42.53, \"Eliminations\": 19.88, \"Objective Kills\": 6.83, \"Objective Time\": 111, \"Damage\": 7869, \"Deaths\": 7.07, \"Role\": \"Tank\", \"Prediction\": 7.585210285925372}, {\"Hero\": \"Winston\", \"Skill Tier\": \"Diamond\", \"KDA\": 4.02, \"Pick Rate\": 2.13, \"Win Rate\": 43.47, \"Eliminations\": 20.11, \"Objective Kills\": 6.52, \"Objective Time\": 105, \"Damage\": 8112, \"Deaths\": 6.91, \"Role\": \"Tank\", \"Prediction\": 7.663857471917071}, {\"Hero\": \"Winston\", \"Skill Tier\": \"Master\", \"KDA\": 3.97, \"Pick Rate\": 2.96, \"Win Rate\": 45.99, \"Eliminations\": 20.02, \"Objective Kills\": 6.17, \"Objective Time\": 99, \"Damage\": 8207, \"Deaths\": 6.81, \"Role\": \"Tank\", \"Prediction\": 7.633082486094232}, {\"Hero\": \"Winston\", \"Skill Tier\": \"Grandmaster\", \"KDA\": 3.98, \"Pick Rate\": 4.84, \"Win Rate\": 49.07, \"Eliminations\": 19.47, \"Objective Kills\": 5.68, \"Objective Time\": 93, \"Damage\": 8238, \"Deaths\": 6.54, \"Role\": \"Tank\", \"Prediction\": 7.4450131282879966}, {\"Hero\": \"Bastion\", \"Skill Tier\": \"Bronze\", \"KDA\": 2.56, \"Pick Rate\": 1.42, \"Win Rate\": 41.57, \"Eliminations\": 17.63, \"Objective Kills\": 7.92, \"Objective Time\": 67, \"Damage\": 9344, \"Deaths\": 8.61, \"Role\": \"Damage\", \"Prediction\": 6.8158356403544085}, {\"Hero\": \"Bastion\", \"Skill Tier\": \"Silver\", \"KDA\": 2.77, \"Pick Rate\": 1.42, \"Win Rate\": 44.03, \"Eliminations\": 18.52, \"Objective Kills\": 8.29, \"Objective Time\": 70, \"Damage\": 9758, \"Deaths\": 8.4, \"Role\": \"Damage\", \"Prediction\": 7.12016605571359}, {\"Hero\": \"Bastion\", \"Skill Tier\": \"Gold\", \"KDA\": 2.91, \"Pick Rate\": 1.52, \"Win Rate\": 45.96, \"Eliminations\": 19.31, \"Objective Kills\": 8.47, \"Objective Time\": 70, \"Damage\": 10133, \"Deaths\": 8.17, \"Role\": \"Damage\", \"Prediction\": 7.390302042380728}, {\"Hero\": \"Bastion\", \"Skill Tier\": \"Platinum\", \"KDA\": 3.03, \"Pick Rate\": 1.87, \"Win Rate\": 47.12, \"Eliminations\": 19.71, \"Objective Kills\": 8.42, \"Objective Time\": 68, \"Damage\": 10482, \"Deaths\": 7.98, \"Role\": \"Damage\", \"Prediction\": 7.5270797571489005}, {\"Hero\": \"Bastion\", \"Skill Tier\": \"Diamond\", \"KDA\": 3.09, \"Pick Rate\": 2.79, \"Win Rate\": 47.95, \"Eliminations\": 19.96, \"Objective Kills\": 8.19, \"Objective Time\": 64, \"Damage\": 10766, \"Deaths\": 7.86, \"Role\": \"Damage\", \"Prediction\": 7.612565828879007}, {\"Hero\": \"Bastion\", \"Skill Tier\": \"Master\", \"KDA\": 3.06, \"Pick Rate\": 3.84, \"Win Rate\": 50.59, \"Eliminations\": 19.73, \"Objective Kills\": 7.84, \"Objective Time\": 61, \"Damage\": 10761, \"Deaths\": 7.87, \"Role\": \"Damage\", \"Prediction\": 7.533918642887309}, {\"Hero\": \"Bastion\", \"Skill Tier\": \"Grandmaster\", \"KDA\": 2.96, \"Pick Rate\": 2.98, \"Win Rate\": 49.28, \"Eliminations\": 19.14, \"Objective Kills\": 7.29, \"Objective Time\": 57, \"Damage\": 10658, \"Deaths\": 7.87, \"Role\": \"Damage\", \"Prediction\": 7.332171513604256}, {\"Hero\": \"Sombra\", \"Skill Tier\": \"Bronze\", \"KDA\": 3.91, \"Pick Rate\": 0.54, \"Win Rate\": 38.01, \"Eliminations\": 13.85, \"Objective Kills\": 5.31, \"Objective Time\": 47, \"Damage\": 4585, \"Deaths\": 6.68, \"Role\": \"Damage\", \"Prediction\": 5.52328623579519}, {\"Hero\": \"Sombra\", \"Skill Tier\": \"Silver\", \"KDA\": 4.5, \"Pick Rate\": 0.46, \"Win Rate\": 40.36, \"Eliminations\": 15.5, \"Objective Kills\": 5.86, \"Objective Time\": 47, \"Damage\": 4972, \"Deaths\": 6.34, \"Role\": \"Damage\", \"Prediction\": 6.087494309213897}, {\"Hero\": \"Sombra\", \"Skill Tier\": \"Gold\", \"KDA\": 4.71, \"Pick Rate\": 0.79, \"Win Rate\": 44.14, \"Eliminations\": 15.88, \"Objective Kills\": 5.83, \"Objective Time\": 45, \"Damage\": 5287, \"Deaths\": 6.21, \"Role\": \"Damage\", \"Prediction\": 6.21743313824366}, {\"Hero\": \"Sombra\", \"Skill Tier\": \"Platinum\", \"KDA\": 4.7, \"Pick Rate\": 0.94, \"Win Rate\": 43.9, \"Eliminations\": 16.2, \"Objective Kills\": 5.85, \"Objective Time\": 43, \"Damage\": 5538, \"Deaths\": 6.18, \"Role\": \"Damage\", \"Prediction\": 6.326855310058196}, {\"Hero\": \"Sombra\", \"Skill Tier\": \"Diamond\", \"KDA\": 5.03, \"Pick Rate\": 1.65, \"Win Rate\": 44.37, \"Eliminations\": 16.63, \"Objective Kills\": 5.88, \"Objective Time\": 42, \"Damage\": 5848, \"Deaths\": 5.98, \"Role\": \"Damage\", \"Prediction\": 6.473891353433981}, {\"Hero\": \"Sombra\", \"Skill Tier\": \"Master\", \"KDA\": 4.94, \"Pick Rate\": 2.54, \"Win Rate\": 46.63, \"Eliminations\": 16.64, \"Objective Kills\": 5.78, \"Objective Time\": 40, \"Damage\": 6073, \"Deaths\": 5.89, \"Role\": \"Damage\", \"Prediction\": 6.477310796303185}, {\"Hero\": \"Sombra\", \"Skill Tier\": \"Grandmaster\", \"KDA\": 5.39, \"Pick Rate\": 3.26, \"Win Rate\": 48.01, \"Eliminations\": 16.5, \"Objective Kills\": 5.6, \"Objective Time\": 40, \"Damage\": 6302, \"Deaths\": 5.56, \"Role\": \"Damage\", \"Prediction\": 6.429438596134325}, {\"Hero\": \"Wrecking Ball\", \"Skill Tier\": \"Bronze\", \"KDA\": 4.22, \"Pick Rate\": 0.31, \"Win Rate\": 41.43, \"Eliminations\": 14.89, \"Objective Kills\": 7.07, \"Objective Time\": 127, \"Damage\": 6816, \"Deaths\": 6.24, \"Role\": \"Tank\", \"Prediction\": 5.878908294192436}, {\"Hero\": \"Wrecking Ball\", \"Skill Tier\": \"Silver\", \"KDA\": 4.5, \"Pick Rate\": 0.39, \"Win Rate\": 45.51, \"Eliminations\": 15.99, \"Objective Kills\": 7.48, \"Objective Time\": 130, \"Damage\": 7336, \"Deaths\": 6.13, \"Role\": \"Tank\", \"Prediction\": 6.2550470098049065}, {\"Hero\": \"Wrecking Ball\", \"Skill Tier\": \"Gold\", \"KDA\": 4.96, \"Pick Rate\": 0.53, \"Win Rate\": 47.76, \"Eliminations\": 17.11, \"Objective Kills\": 7.63, \"Objective Time\": 128, \"Damage\": 7659, \"Deaths\": 5.89, \"Role\": \"Tank\", \"Prediction\": 6.638024611155786}, {\"Hero\": \"Wrecking Ball\", \"Skill Tier\": \"Platinum\", \"KDA\": 4.99, \"Pick Rate\": 1.08, \"Win Rate\": 48.5, \"Eliminations\": 17.49, \"Objective Kills\": 7.47, \"Objective Time\": 123, \"Damage\": 7822, \"Deaths\": 5.86, \"Role\": \"Tank\", \"Prediction\": 6.767963440185548}, {\"Hero\": \"Wrecking Ball\", \"Skill Tier\": \"Diamond\", \"KDA\": 5.05, \"Pick Rate\": 2.44, \"Win Rate\": 50.85, \"Eliminations\": 18.08, \"Objective Kills\": 7.33, \"Objective Time\": 118, \"Damage\": 7976, \"Deaths\": 5.79, \"Role\": \"Tank\", \"Prediction\": 6.969710569468601}, {\"Hero\": \"Wrecking Ball\", \"Skill Tier\": \"Master\", \"KDA\": 5.04, \"Pick Rate\": 3.88, \"Win Rate\": 52.08, \"Eliminations\": 18.29, \"Objective Kills\": 7.01, \"Objective Time\": 110, \"Damage\": 7987, \"Deaths\": 5.64, \"Role\": \"Tank\", \"Prediction\": 7.041518869721892}, {\"Hero\": \"Wrecking Ball\", \"Skill Tier\": \"Grandmaster\", \"KDA\": 4.99, \"Pick Rate\": 7.33, \"Win Rate\": 51.81, \"Eliminations\": 18.0, \"Objective Kills\": 6.48, \"Objective Time\": 102, \"Damage\": 7902, \"Deaths\": 5.39, \"Role\": \"Tank\", \"Prediction\": 6.942355026514967}, {\"Hero\": \"Sojourn\", \"Skill Tier\": \"Bronze\", \"KDA\": 2.45, \"Pick Rate\": 0.94, \"Win Rate\": 37.05, \"Eliminations\": 15.46, \"Objective Kills\": 7.03, \"Objective Time\": 64, \"Damage\": 7418, \"Deaths\": 8.34, \"Role\": \"Damage\", \"Prediction\": 6.07381653773708}, {\"Hero\": \"Sojourn\", \"Skill Tier\": \"Silver\", \"KDA\": 2.71, \"Pick Rate\": 0.77, \"Win Rate\": 38.98, \"Eliminations\": 16.74, \"Objective Kills\": 7.19, \"Objective Time\": 63, \"Damage\": 7857, \"Deaths\": 8.21, \"Role\": \"Damage\", \"Prediction\": 6.511505224995227}, {\"Hero\": \"Sojourn\", \"Skill Tier\": \"Gold\", \"KDA\": 2.85, \"Pick Rate\": 0.9, \"Win Rate\": 40.72, \"Eliminations\": 17.51, \"Objective Kills\": 7.25, \"Objective Time\": 61, \"Damage\": 8177, \"Deaths\": 8.09, \"Role\": \"Damage\", \"Prediction\": 6.774802325923958}, {\"Hero\": \"Sojourn\", \"Skill Tier\": \"Platinum\", \"KDA\": 2.92, \"Pick Rate\": 1.4, \"Win Rate\": 42.41, \"Eliminations\": 18.18, \"Objective Kills\": 7.18, \"Objective Time\": 57, \"Damage\": 8469, \"Deaths\": 7.98, \"Role\": \"Damage\", \"Prediction\": 7.003904998160644}, {\"Hero\": \"Sojourn\", \"Skill Tier\": \"Diamond\", \"KDA\": 2.97, \"Pick Rate\": 2.33, \"Win Rate\": 44.13, \"Eliminations\": 18.72, \"Objective Kills\": 7.02, \"Objective Time\": 54, \"Damage\": 8709, \"Deaths\": 7.96, \"Role\": \"Damage\", \"Prediction\": 7.188554913097676}, {\"Hero\": \"Sojourn\", \"Skill Tier\": \"Master\", \"KDA\": 2.91, \"Pick Rate\": 3.72, \"Win Rate\": 44.81, \"Eliminations\": 18.94, \"Objective Kills\": 6.83, \"Objective Time\": 52, \"Damage\": 8797, \"Deaths\": 7.94, \"Role\": \"Damage\", \"Prediction\": 7.263782656220171}, {\"Hero\": \"Sojourn\", \"Skill Tier\": \"Grandmaster\", \"KDA\": 2.99, \"Pick Rate\": 5.61, \"Win Rate\": 47.84, \"Eliminations\": 19.58, \"Objective Kills\": 6.57, \"Objective Time\": 49, \"Damage\": 9192, \"Deaths\": 7.64, \"Role\": \"Damage\", \"Prediction\": 7.482626999849243}, {\"Hero\": \"Symmetra\", \"Skill Tier\": \"Bronze\", \"KDA\": 3.4, \"Pick Rate\": 0.81, \"Win Rate\": 50.12, \"Eliminations\": 17.72, \"Objective Kills\": 8.61, \"Objective Time\": 69, \"Damage\": 7450, \"Deaths\": 7.97, \"Role\": \"Damage\", \"Prediction\": 6.846610626177247}, {\"Hero\": \"Symmetra\", \"Skill Tier\": \"Silver\", \"KDA\": 3.43, \"Pick Rate\": 0.76, \"Win Rate\": 52.07, \"Eliminations\": 18.49, \"Objective Kills\": 8.88, \"Objective Time\": 69, \"Damage\": 7853, \"Deaths\": 8.05, \"Role\": \"Damage\", \"Prediction\": 7.109907727105977}, {\"Hero\": \"Symmetra\", \"Skill Tier\": \"Gold\", \"KDA\": 3.62, \"Pick Rate\": 1.02, \"Win Rate\": 53.25, \"Eliminations\": 19.33, \"Objective Kills\": 8.79, \"Objective Time\": 66, \"Damage\": 8242, \"Deaths\": 7.91, \"Role\": \"Damage\", \"Prediction\": 7.3971409281191365}, {\"Hero\": \"Symmetra\", \"Skill Tier\": \"Platinum\", \"KDA\": 3.49, \"Pick Rate\": 1.34, \"Win Rate\": 53.18, \"Eliminations\": 19.3, \"Objective Kills\": 8.57, \"Objective Time\": 65, \"Damage\": 8498, \"Deaths\": 7.92, \"Role\": \"Damage\", \"Prediction\": 7.386882599511525}, {\"Hero\": \"Symmetra\", \"Skill Tier\": \"Diamond\", \"KDA\": 3.48, \"Pick Rate\": 1.83, \"Win Rate\": 53.21, \"Eliminations\": 19.3, \"Objective Kills\": 8.43, \"Objective Time\": 64, \"Damage\": 8660, \"Deaths\": 7.88, \"Role\": \"Damage\", \"Prediction\": 7.386882599511525}, {\"Hero\": \"Symmetra\", \"Skill Tier\": \"Master\", \"KDA\": 3.41, \"Pick Rate\": 2.11, \"Win Rate\": 54.22, \"Eliminations\": 18.95, \"Objective Kills\": 8.13, \"Objective Time\": 62, \"Damage\": 8609, \"Deaths\": 7.87, \"Role\": \"Damage\", \"Prediction\": 7.267202099089374}, {\"Hero\": \"Symmetra\", \"Skill Tier\": \"Grandmaster\", \"KDA\": 3.2, \"Pick Rate\": 1.84, \"Win Rate\": 53.87, \"Eliminations\": 17.86, \"Objective Kills\": 7.52, \"Objective Time\": 59, \"Damage\": 8322, \"Deaths\": 7.84, \"Role\": \"Damage\", \"Prediction\": 6.894482826346107}, {\"Hero\": \"Torbjorn\", \"Skill Tier\": \"Bronze\", \"KDA\": 2.92, \"Pick Rate\": 0.92, \"Win Rate\": 49.64, \"Eliminations\": 16.75, \"Objective Kills\": 7.7, \"Objective Time\": 55, \"Damage\": 8787, \"Deaths\": 7.11, \"Role\": \"Damage\", \"Prediction\": 6.514924667864432}, {\"Hero\": \"Torbjorn\", \"Skill Tier\": \"Silver\", \"KDA\": 3.17, \"Pick Rate\": 0.86, \"Win Rate\": 50.29, \"Eliminations\": 17.5, \"Objective Kills\": 7.78, \"Objective Time\": 52, \"Damage\": 9169, \"Deaths\": 6.97, \"Role\": \"Damage\", \"Prediction\": 6.771382883054754}, {\"Hero\": \"Torbjorn\", \"Skill Tier\": \"Gold\", \"KDA\": 3.1, \"Pick Rate\": 0.83, \"Win Rate\": 52.57, \"Eliminations\": 17.9, \"Objective Kills\": 7.76, \"Objective Time\": 51, \"Damage\": 9431, \"Deaths\": 6.79, \"Role\": \"Damage\", \"Prediction\": 6.908160597822924}, {\"Hero\": \"Torbjorn\", \"Skill Tier\": \"Platinum\", \"KDA\": 3.2, \"Pick Rate\": 1.2, \"Win Rate\": 53.08, \"Eliminations\": 18.06, \"Objective Kills\": 7.59, \"Objective Time\": 49, \"Damage\": 9618, \"Deaths\": 6.81, \"Role\": \"Damage\", \"Prediction\": 6.962871683730193}, {\"Hero\": \"Torbjorn\", \"Skill Tier\": \"Diamond\", \"KDA\": 3.06, \"Pick Rate\": 1.9, \"Win Rate\": 52.8, \"Eliminations\": 17.96, \"Objective Kills\": 7.22, \"Objective Time\": 48, \"Damage\": 9728, \"Deaths\": 6.85, \"Role\": \"Damage\", \"Prediction\": 6.928677255038151}, {\"Hero\": \"Torbjorn\", \"Skill Tier\": \"Master\", \"KDA\": 3.05, \"Pick Rate\": 2.54, \"Win Rate\": 53.31, \"Eliminations\": 17.53, \"Objective Kills\": 6.92, \"Objective Time\": 48, \"Damage\": 9674, \"Deaths\": 6.77, \"Role\": \"Damage\", \"Prediction\": 6.781641211662366}, {\"Hero\": \"Torbjorn\", \"Skill Tier\": \"Grandmaster\", \"KDA\": 2.71, \"Pick Rate\": 3.45, \"Win Rate\": 51.87, \"Eliminations\": 16.6, \"Objective Kills\": 6.39, \"Objective Time\": 50, \"Damage\": 9458, \"Deaths\": 6.96, \"Role\": \"Damage\", \"Prediction\": 6.463633024826368}, {\"Hero\": \"Ramattra\", \"Skill Tier\": \"Bronze\", \"KDA\": 3.52, \"Pick Rate\": 1.15, \"Win Rate\": 42.94, \"Eliminations\": 17.7, \"Objective Kills\": 8.24, \"Objective Time\": 128, \"Damage\": 8624, \"Deaths\": 7.07, \"Role\": \"Tank\", \"Prediction\": 6.839771740438839}, {\"Hero\": \"Ramattra\", \"Skill Tier\": \"Silver\", \"KDA\": 3.82, \"Pick Rate\": 1.39, \"Win Rate\": 47.18, \"Eliminations\": 19.19, \"Objective Kills\": 8.71, \"Objective Time\": 131, \"Damage\": 9242, \"Deaths\": 6.8, \"Role\": \"Tank\", \"Prediction\": 7.349268727950277}, {\"Hero\": \"Ramattra\", \"Skill Tier\": \"Gold\", \"KDA\": 3.91, \"Pick Rate\": 1.68, \"Win Rate\": 50.1, \"Eliminations\": 19.68, \"Objective Kills\": 8.6, \"Objective Time\": 128, \"Damage\": 9615, \"Deaths\": 6.65, \"Role\": \"Tank\", \"Prediction\": 7.516821428541287}, {\"Hero\": \"Ramattra\", \"Skill Tier\": \"Platinum\", \"KDA\": 3.99, \"Pick Rate\": 2.39, \"Win Rate\": 50.25, \"Eliminations\": 20.03, \"Objective Kills\": 8.43, \"Objective Time\": 124, \"Damage\": 9929, \"Deaths\": 6.54, \"Role\": \"Tank\", \"Prediction\": 7.636501928963438}, {\"Hero\": \"Ramattra\", \"Skill Tier\": \"Diamond\", \"KDA\": 4.03, \"Pick Rate\": 3.29, \"Win Rate\": 51.05, \"Eliminations\": 20.09, \"Objective Kills\": 8.14, \"Objective Time\": 119, \"Damage\": 10106, \"Deaths\": 6.54, \"Role\": \"Tank\", \"Prediction\": 7.657018586178663}, {\"Hero\": \"Ramattra\", \"Skill Tier\": \"Master\", \"KDA\": 3.79, \"Pick Rate\": 3.86, \"Win Rate\": 50.99, \"Eliminations\": 19.71, \"Objective Kills\": 7.69, \"Objective Time\": 113, \"Damage\": 10050, \"Deaths\": 6.56, \"Role\": \"Tank\", \"Prediction\": 7.5270797571489005}, {\"Hero\": \"Ramattra\", \"Skill Tier\": \"Grandmaster\", \"KDA\": 3.77, \"Pick Rate\": 5.09, \"Win Rate\": 50.92, \"Eliminations\": 18.88, \"Objective Kills\": 7.08, \"Objective Time\": 109, \"Damage\": 9894, \"Deaths\": 6.5, \"Role\": \"Tank\", \"Prediction\": 7.243265999004944}, {\"Hero\": \"Junker Queen\", \"Skill Tier\": \"Bronze\", \"KDA\": 4.1, \"Pick Rate\": 0.49, \"Win Rate\": 40.98, \"Eliminations\": 16.77, \"Objective Kills\": 7.76, \"Objective Time\": 130, \"Damage\": 7609, \"Deaths\": 7.03, \"Role\": \"Tank\", \"Prediction\": 6.521763553602841}, {\"Hero\": \"Junker Queen\", \"Skill Tier\": \"Silver\", \"KDA\": 4.37, \"Pick Rate\": 0.43, \"Win Rate\": 43.47, \"Eliminations\": 18.21, \"Objective Kills\": 8.11, \"Objective Time\": 135, \"Damage\": 8272, \"Deaths\": 6.74, \"Role\": \"Tank\", \"Prediction\": 7.014163326768258}, {\"Hero\": \"Junker Queen\", \"Skill Tier\": \"Gold\", \"KDA\": 4.76, \"Pick Rate\": 0.59, \"Win Rate\": 46.97, \"Eliminations\": 19.33, \"Objective Kills\": 8.22, \"Objective Time\": 128, \"Damage\": 8828, \"Deaths\": 6.62, \"Role\": \"Tank\", \"Prediction\": 7.3971409281191365}, {\"Hero\": \"Junker Queen\", \"Skill Tier\": \"Platinum\", \"KDA\": 4.76, \"Pick Rate\": 0.88, \"Win Rate\": 49.24, \"Eliminations\": 19.97, \"Objective Kills\": 8.12, \"Objective Time\": 120, \"Damage\": 9300, \"Deaths\": 6.6, \"Role\": \"Tank\", \"Prediction\": 7.615985271748211}, {\"Hero\": \"Junker Queen\", \"Skill Tier\": \"Diamond\", \"KDA\": 4.82, \"Pick Rate\": 1.5, \"Win Rate\": 50.64, \"Eliminations\": 20.44, \"Objective Kills\": 7.95, \"Objective Time\": 113, \"Damage\": 9631, \"Deaths\": 6.57, \"Role\": \"Tank\", \"Prediction\": 7.7766990866008125}, {\"Hero\": \"Junker Queen\", \"Skill Tier\": \"Master\", \"KDA\": 4.78, \"Pick Rate\": 1.89, \"Win Rate\": 50.34, \"Eliminations\": 20.66, \"Objective Kills\": 7.68, \"Objective Time\": 106, \"Damage\": 9760, \"Deaths\": 6.56, \"Role\": \"Tank\", \"Prediction\": 7.851926829723307}, {\"Hero\": \"Junker Queen\", \"Skill Tier\": \"Grandmaster\", \"KDA\": 4.73, \"Pick Rate\": 2.55, \"Win Rate\": 51.87, \"Eliminations\": 20.37, \"Objective Kills\": 7.39, \"Objective Time\": 101, \"Damage\": 9682, \"Deaths\": 6.46, \"Role\": \"Tank\", \"Prediction\": 7.752762986516383}, {\"Hero\": \"Echo\", \"Skill Tier\": \"Bronze\", \"KDA\": 2.23, \"Pick Rate\": 0.46, \"Win Rate\": 40.7, \"Eliminations\": 15.66, \"Objective Kills\": 6.37, \"Objective Time\": 64, \"Damage\": 7102, \"Deaths\": 8.36, \"Role\": \"Damage\", \"Prediction\": 6.142205395121166}, {\"Hero\": \"Echo\", \"Skill Tier\": \"Silver\", \"KDA\": 2.41, \"Pick Rate\": 0.53, \"Win Rate\": 43.02, \"Eliminations\": 16.96, \"Objective Kills\": 6.54, \"Objective Time\": 63, \"Damage\": 7458, \"Deaths\": 8.47, \"Role\": \"Damage\", \"Prediction\": 6.5867329681177225}, {\"Hero\": \"Echo\", \"Skill Tier\": \"Gold\", \"KDA\": 2.61, \"Pick Rate\": 0.62, \"Win Rate\": 46.33, \"Eliminations\": 17.62, \"Objective Kills\": 6.52, \"Objective Time\": 62, \"Damage\": 7874, \"Deaths\": 8.28, \"Role\": \"Damage\", \"Prediction\": 6.812416197485205}, {\"Hero\": \"Echo\", \"Skill Tier\": \"Platinum\", \"KDA\": 2.67, \"Pick Rate\": 0.86, \"Win Rate\": 45.16, \"Eliminations\": 18.34, \"Objective Kills\": 6.44, \"Objective Time\": 60, \"Damage\": 8249, \"Deaths\": 8.24, \"Role\": \"Damage\", \"Prediction\": 7.058616084067913}, {\"Hero\": \"Echo\", \"Skill Tier\": \"Diamond\", \"KDA\": 2.73, \"Pick Rate\": 1.57, \"Win Rate\": 47.7, \"Eliminations\": 18.85, \"Objective Kills\": 6.22, \"Objective Time\": 57, \"Damage\": 8639, \"Deaths\": 8.15, \"Role\": \"Damage\", \"Prediction\": 7.233007670397332}, {\"Hero\": \"Echo\", \"Skill Tier\": \"Master\", \"KDA\": 2.74, \"Pick Rate\": 2.05, \"Win Rate\": 50.15, \"Eliminations\": 19.17, \"Objective Kills\": 5.98, \"Objective Time\": 53, \"Damage\": 8929, \"Deaths\": 8.11, \"Role\": \"Damage\", \"Prediction\": 7.342429842211869}, {\"Hero\": \"Echo\", \"Skill Tier\": \"Grandmaster\", \"KDA\": 2.9, \"Pick Rate\": 3.32, \"Win Rate\": 50.45, \"Eliminations\": 19.25, \"Objective Kills\": 5.51, \"Objective Time\": 49, \"Damage\": 9419, \"Deaths\": 7.7, \"Role\": \"Damage\", \"Prediction\": 7.369785385165502}]}}, {\"mode\": \"vega-lite\"});\n",
       "</script>"
      ],
      "text/plain": [
       "alt.LayerChart(...)"
      ]
     },
     "execution_count": 11,
     "metadata": {},
     "output_type": "execute_result"
    }
   ],
   "source": [
    "c3 = alt.Chart(df_ow).mark_circle().encode(\n",
    "    x=\"Eliminations\",\n",
    "    y=\"Objective Kills\"\n",
    ")\n",
    "c4=alt.Chart(df_ow).mark_line(color=\"red\").encode(\n",
    "    x=\"Eliminations\",\n",
    "    y=\"Prediction\"\n",
    ")\n",
    "c3+c4"
   ]
  },
  {
   "cell_type": "markdown",
   "metadata": {
    "cell_id": "fc7bd91e2d4742acb84f60ff8be8a019",
    "deepnote_cell_type": "markdown"
   },
   "source": [
    "From the linear regression model, we recognize that there is a positive relationship between eliminations and objective kills in relation to a heroes skill tier. With this information let us see if we can predict a heroes role from their eliminations and objective kills."
   ]
  },
  {
   "cell_type": "code",
   "execution_count": 48,
   "metadata": {
    "cell_id": "9dbe0a5958fa442a92e7471b7e8ed34e",
    "deepnote_cell_type": "code",
    "deepnote_table_loading": false,
    "deepnote_table_state": {
     "filters": [],
     "pageIndex": 0,
     "pageSize": 10,
     "sortBy": []
    },
    "deepnote_to_be_reexecuted": false,
    "execution_millis": 67,
    "execution_start": 1686772942267,
    "source_hash": "21706d13"
   },
   "outputs": [
    {
     "data": {
      "application/vnd.deepnote.dataframe.v3+json": {
       "column_count": 3,
       "columns": [
        {
         "dtype": "object",
         "name": "Hero",
         "stats": {
          "categories": [
           {
            "count": 7,
            "name": "Ana"
           },
           {
            "count": 7,
            "name": "Mercy"
           },
           {
            "count": 238,
            "name": "34 others"
           }
          ],
          "nan_count": 0,
          "unique_count": 36
         }
        },
        {
         "dtype": "object",
         "name": "Role",
         "stats": {
          "categories": [
           {
            "count": 119,
            "name": "Damage"
           },
           {
            "count": 77,
            "name": "Tank"
           },
           {
            "count": 56,
            "name": "Support"
           }
          ],
          "nan_count": 0,
          "unique_count": 3
         }
        },
        {
         "dtype": "float64",
         "name": "Prediction",
         "stats": {
          "histogram": [
           {
            "bin_end": 2.004337579097063,
            "bin_start": 1.3207909495431267,
            "count": 7
           },
           {
            "bin_end": 2.687884208650999,
            "bin_start": 2.004337579097063,
            "count": 0
           },
           {
            "bin_end": 3.371430838204935,
            "bin_start": 2.687884208650999,
            "count": 2
           },
           {
            "bin_end": 4.054977467758871,
            "bin_start": 3.371430838204935,
            "count": 11
           },
           {
            "bin_end": 4.738524097312807,
            "bin_start": 4.054977467758871,
            "count": 10
           },
           {
            "bin_end": 5.422070726866743,
            "bin_start": 4.738524097312807,
            "count": 16
           },
           {
            "bin_end": 6.105617356420679,
            "bin_start": 5.422070726866743,
            "count": 21
           },
           {
            "bin_end": 6.789163985974615,
            "bin_start": 6.105617356420679,
            "count": 63
           },
           {
            "bin_end": 7.472710615528551,
            "bin_start": 6.789163985974615,
            "count": 88
           },
           {
            "bin_end": 8.156257245082488,
            "bin_start": 7.472710615528551,
            "count": 34
           }
          ],
          "max": "8.156257245082488",
          "min": "1.3207909495431267",
          "nan_count": 0,
          "unique_count": 218
         }
        },
        {
         "dtype": "int64",
         "name": "_deepnote_index_column"
        }
       ],
       "row_count": 252,
       "rows": [
        {
         "Hero": "Ana",
         "Prediction": 3.649431543471243,
         "Role": "Support",
         "_deepnote_index_column": 1
        },
        {
         "Hero": "Ana",
         "Prediction": 3.8238231298006617,
         "Role": "Support",
         "_deepnote_index_column": 2
        },
        {
         "Hero": "Ana",
         "Prediction": 3.9366647444844034,
         "Role": "Support",
         "_deepnote_index_column": 3
        },
        {
         "Hero": "Ana",
         "Prediction": 4.04608691629894,
         "Role": "Support",
         "_deepnote_index_column": 4
        },
        {
         "Hero": "Ana",
         "Prediction": 4.104217445075413,
         "Role": "Support",
         "_deepnote_index_column": 5
        },
        {
         "Hero": "Ana",
         "Prediction": 4.121314659421435,
         "Role": "Support",
         "_deepnote_index_column": 6
        },
        {
         "Hero": "Ana",
         "Prediction": 4.018731373345306,
         "Role": "Support",
         "_deepnote_index_column": 7
        },
        {
         "Hero": "Mercy",
         "Prediction": 1.3823409211888036,
         "Role": "Support",
         "_deepnote_index_column": 9
        },
        {
         "Hero": "Mercy",
         "Prediction": 1.433632564226868,
         "Role": "Support",
         "_deepnote_index_column": 10
        },
        {
         "Hero": "Mercy",
         "Prediction": 1.4062770212732336,
         "Role": "Support",
         "_deepnote_index_column": 11
        }
       ]
      },
      "text/html": [
       "<div>\n",
       "<style scoped>\n",
       "    .dataframe tbody tr th:only-of-type {\n",
       "        vertical-align: middle;\n",
       "    }\n",
       "\n",
       "    .dataframe tbody tr th {\n",
       "        vertical-align: top;\n",
       "    }\n",
       "\n",
       "    .dataframe thead th {\n",
       "        text-align: right;\n",
       "    }\n",
       "</style>\n",
       "<table border=\"1\" class=\"dataframe\">\n",
       "  <thead>\n",
       "    <tr style=\"text-align: right;\">\n",
       "      <th></th>\n",
       "      <th>Hero</th>\n",
       "      <th>Role</th>\n",
       "      <th>Prediction</th>\n",
       "    </tr>\n",
       "  </thead>\n",
       "  <tbody>\n",
       "    <tr>\n",
       "      <th>1</th>\n",
       "      <td>Ana</td>\n",
       "      <td>Support</td>\n",
       "      <td>3.649432</td>\n",
       "    </tr>\n",
       "    <tr>\n",
       "      <th>2</th>\n",
       "      <td>Ana</td>\n",
       "      <td>Support</td>\n",
       "      <td>3.823823</td>\n",
       "    </tr>\n",
       "    <tr>\n",
       "      <th>3</th>\n",
       "      <td>Ana</td>\n",
       "      <td>Support</td>\n",
       "      <td>3.936665</td>\n",
       "    </tr>\n",
       "    <tr>\n",
       "      <th>4</th>\n",
       "      <td>Ana</td>\n",
       "      <td>Support</td>\n",
       "      <td>4.046087</td>\n",
       "    </tr>\n",
       "    <tr>\n",
       "      <th>5</th>\n",
       "      <td>Ana</td>\n",
       "      <td>Support</td>\n",
       "      <td>4.104217</td>\n",
       "    </tr>\n",
       "    <tr>\n",
       "      <th>...</th>\n",
       "      <td>...</td>\n",
       "      <td>...</td>\n",
       "      <td>...</td>\n",
       "    </tr>\n",
       "    <tr>\n",
       "      <th>283</th>\n",
       "      <td>Echo</td>\n",
       "      <td>Damage</td>\n",
       "      <td>6.812416</td>\n",
       "    </tr>\n",
       "    <tr>\n",
       "      <th>284</th>\n",
       "      <td>Echo</td>\n",
       "      <td>Damage</td>\n",
       "      <td>7.058616</td>\n",
       "    </tr>\n",
       "    <tr>\n",
       "      <th>285</th>\n",
       "      <td>Echo</td>\n",
       "      <td>Damage</td>\n",
       "      <td>7.233008</td>\n",
       "    </tr>\n",
       "    <tr>\n",
       "      <th>286</th>\n",
       "      <td>Echo</td>\n",
       "      <td>Damage</td>\n",
       "      <td>7.342430</td>\n",
       "    </tr>\n",
       "    <tr>\n",
       "      <th>287</th>\n",
       "      <td>Echo</td>\n",
       "      <td>Damage</td>\n",
       "      <td>7.369785</td>\n",
       "    </tr>\n",
       "  </tbody>\n",
       "</table>\n",
       "<p>252 rows × 3 columns</p>\n",
       "</div>"
      ],
      "text/plain": [
       "     Hero     Role  Prediction\n",
       "1     Ana  Support    3.649432\n",
       "2     Ana  Support    3.823823\n",
       "3     Ana  Support    3.936665\n",
       "4     Ana  Support    4.046087\n",
       "5     Ana  Support    4.104217\n",
       "..    ...      ...         ...\n",
       "283  Echo   Damage    6.812416\n",
       "284  Echo   Damage    7.058616\n",
       "285  Echo   Damage    7.233008\n",
       "286  Echo   Damage    7.342430\n",
       "287  Echo   Damage    7.369785\n",
       "\n",
       "[252 rows x 3 columns]"
      ]
     },
     "execution_count": 48,
     "metadata": {},
     "output_type": "execute_result"
    }
   ],
   "source": [
    "col = [\"Hero\", \"Role\", \"Prediction\"]\n",
    "df_ow[col] "
   ]
  },
  {
   "cell_type": "markdown",
   "metadata": {
    "cell_id": "49d8fb1e095546bc9baaaddb20c386a7",
    "deepnote_cell_type": "markdown"
   },
   "source": [
    "Since heroes who are in the support role tend to have lower amounts of eliminations, lets focus on that role"
   ]
  },
  {
   "cell_type": "markdown",
   "metadata": {
    "cell_id": "85fa4399c4ef45bca4608ea873df469a",
    "deepnote_cell_type": "markdown"
   },
   "source": [
    "### Logistic Regression\n",
    "We use logistic regression to see whether or not we can predict if a hero is a support"
   ]
  },
  {
   "cell_type": "code",
   "execution_count": 13,
   "metadata": {
    "cell_id": "d9bdb976d8c746aabfbf6589839fd11b",
    "deepnote_cell_type": "code",
    "deepnote_to_be_reexecuted": false,
    "execution_millis": 10,
    "execution_start": 1686772059694,
    "source_hash": "aad183fb"
   },
   "outputs": [],
   "source": [
    "df_ow[\"Support\"]=df_ow[\"Role\"].apply(str)"
   ]
  },
  {
   "cell_type": "code",
   "execution_count": 14,
   "metadata": {
    "cell_id": "a0ad9e46960a40c597c6f3784b4b344b",
    "deepnote_cell_type": "code",
    "deepnote_to_be_reexecuted": false,
    "execution_millis": 8,
    "execution_start": 1686772059728,
    "source_hash": "c37ca624"
   },
   "outputs": [],
   "source": [
    "df_ow[\"isSupport_bool\"]=(df[\"Role\"] == \"Support\")"
   ]
  },
  {
   "cell_type": "code",
   "execution_count": 15,
   "metadata": {
    "cell_id": "1ae3188c52824f10b000917ab478c84f",
    "deepnote_cell_type": "code",
    "deepnote_to_be_reexecuted": false,
    "execution_millis": 13,
    "execution_start": 1686772059749,
    "source_hash": "e3c1edc3"
   },
   "outputs": [],
   "source": [
    "df_ow[\"isSupport\"] = df_ow[\"isSupport_bool\"].astype(int)"
   ]
  },
  {
   "cell_type": "code",
   "execution_count": 16,
   "metadata": {
    "cell_id": "62119bcc1c4242c898956b7b769e1123",
    "deepnote_cell_type": "code",
    "deepnote_to_be_reexecuted": false,
    "execution_millis": 88,
    "execution_start": 1686772059934,
    "source_hash": "46f5ef8e"
   },
   "outputs": [
    {
     "data": {
      "text/plain": [
       "0.2222222222222222"
      ]
     },
     "execution_count": 16,
     "metadata": {},
     "output_type": "execute_result"
    }
   ],
   "source": [
    "df_ow[\"isSupport\"].mean()"
   ]
  },
  {
   "cell_type": "markdown",
   "metadata": {
    "cell_id": "4ddcb69dd04546fea8226bf9a1f43db3",
    "deepnote_cell_type": "markdown"
   },
   "source": [
    "Predicted probability of support heroes in the dataset"
   ]
  },
  {
   "cell_type": "code",
   "execution_count": 17,
   "metadata": {
    "cell_id": "658456b04b7d40d884ea40a26138b99a",
    "deepnote_cell_type": "code",
    "deepnote_to_be_reexecuted": false,
    "execution_millis": 87,
    "execution_start": 1686772059935,
    "source_hash": "7c44cf31"
   },
   "outputs": [],
   "source": [
    "c5 = alt.Chart(df_ow).mark_circle().encode(\n",
    "    x=\"Eliminations\",\n",
    "    y=\"isSupport\"\n",
    ")\n",
    "c6 = alt.Chart(df_ow).mark_circle().encode(\n",
    "    x=\"Objective Kills\",\n",
    "    y=\"isSupport\"\n",
    ")"
   ]
  },
  {
   "cell_type": "code",
   "execution_count": 18,
   "metadata": {
    "cell_id": "b51662e67ce14858abfa1e7608328c64",
    "deepnote_cell_type": "code",
    "deepnote_to_be_reexecuted": false,
    "execution_millis": 160,
    "execution_start": 1686772059943,
    "source_hash": "57f3e0d"
   },
   "outputs": [],
   "source": [
    "clf = LogisticRegression()\n",
    "clf.fit(df_ow[[\"Eliminations\"]],df_ow[\"isSupport\"])\n",
    "df_ow[\"pred_log\"] = clf.predict(df_ow[[\"Eliminations\"]])\n",
    "c7 = alt.Chart(df_ow).mark_circle(color= \"red\").encode(\n",
    "    x = \"Eliminations\",\n",
    "    y = \"pred_log\"\n",
    ")\n",
    "arr = clf.predict_proba(df_ow[[\"Eliminations\"]])\n",
    "df_ow[\"pred_proba1\"] = arr[:,1]\n",
    "c8 = alt.Chart(df_ow).mark_circle(color= \"red\").encode(\n",
    "    x = \"Eliminations\",\n",
    "    y = \"pred_proba1\"\n",
    ")"
   ]
  },
  {
   "cell_type": "code",
   "execution_count": 19,
   "metadata": {
    "cell_id": "426cdbd2c8074e9eb45b7575c5decd4d",
    "deepnote_cell_type": "code",
    "deepnote_to_be_reexecuted": false,
    "execution_millis": 520,
    "execution_start": 1686772060095,
    "source_hash": "27662073"
   },
   "outputs": [],
   "source": [
    "clf.fit(df_ow[[\"Objective Kills\"]],df_ow[\"isSupport\"])\n",
    "df_ow[\"pred_log\"] = clf.predict(df_ow[[\"Objective Kills\"]])\n",
    "c9 = alt.Chart(df_ow).mark_circle(color= \"red\").encode(\n",
    "    x = \"Objective Kills\",\n",
    "    y = \"pred_log\"\n",
    ")\n",
    "arr = clf.predict_proba(df_ow[[\"Objective Kills\"]])\n",
    "df_ow[\"pred_proba2\"] = arr[:,1]\n",
    "c10 = alt.Chart(df_ow).mark_circle(color= \"red\").encode(\n",
    "    x = \"Objective Kills\",\n",
    "    y = \"pred_proba2\"\n",
    ")"
   ]
  },
  {
   "cell_type": "code",
   "execution_count": 20,
   "metadata": {
    "cell_id": "09a087212f984794a5ba7db83c925738",
    "deepnote_cell_type": "code",
    "deepnote_to_be_reexecuted": false,
    "execution_millis": 119,
    "execution_start": 1686772060512,
    "source_hash": "426c67bc"
   },
   "outputs": [
    {
     "data": {
      "text/html": [
       "\n",
       "<div id=\"altair-viz-dc6262e7e7244f5ebc9bcf2e6b78c1ce\"></div>\n",
       "<script type=\"text/javascript\">\n",
       "  var VEGA_DEBUG = (typeof VEGA_DEBUG == \"undefined\") ? {} : VEGA_DEBUG;\n",
       "  (function(spec, embedOpt){\n",
       "    let outputDiv = document.currentScript.previousElementSibling;\n",
       "    if (outputDiv.id !== \"altair-viz-dc6262e7e7244f5ebc9bcf2e6b78c1ce\") {\n",
       "      outputDiv = document.getElementById(\"altair-viz-dc6262e7e7244f5ebc9bcf2e6b78c1ce\");\n",
       "    }\n",
       "    const paths = {\n",
       "      \"vega\": \"https://cdn.jsdelivr.net/npm//vega@5?noext\",\n",
       "      \"vega-lib\": \"https://cdn.jsdelivr.net/npm//vega-lib?noext\",\n",
       "      \"vega-lite\": \"https://cdn.jsdelivr.net/npm//vega-lite@4.17.0?noext\",\n",
       "      \"vega-embed\": \"https://cdn.jsdelivr.net/npm//vega-embed@6?noext\",\n",
       "    };\n",
       "\n",
       "    function maybeLoadScript(lib, version) {\n",
       "      var key = `${lib.replace(\"-\", \"\")}_version`;\n",
       "      return (VEGA_DEBUG[key] == version) ?\n",
       "        Promise.resolve(paths[lib]) :\n",
       "        new Promise(function(resolve, reject) {\n",
       "          var s = document.createElement('script');\n",
       "          document.getElementsByTagName(\"head\")[0].appendChild(s);\n",
       "          s.async = true;\n",
       "          s.onload = () => {\n",
       "            VEGA_DEBUG[key] = version;\n",
       "            return resolve(paths[lib]);\n",
       "          };\n",
       "          s.onerror = () => reject(`Error loading script: ${paths[lib]}`);\n",
       "          s.src = paths[lib];\n",
       "        });\n",
       "    }\n",
       "\n",
       "    function showError(err) {\n",
       "      outputDiv.innerHTML = `<div class=\"error\" style=\"color:red;\">${err}</div>`;\n",
       "      throw err;\n",
       "    }\n",
       "\n",
       "    function displayChart(vegaEmbed) {\n",
       "      vegaEmbed(outputDiv, spec, embedOpt)\n",
       "        .catch(err => showError(`Javascript Error: ${err.message}<br>This usually means there's a typo in your chart specification. See the javascript console for the full traceback.`));\n",
       "    }\n",
       "\n",
       "    if(typeof define === \"function\" && define.amd) {\n",
       "      requirejs.config({paths});\n",
       "      require([\"vega-embed\"], displayChart, err => showError(`Error loading script: ${err.message}`));\n",
       "    } else {\n",
       "      maybeLoadScript(\"vega\", \"5\")\n",
       "        .then(() => maybeLoadScript(\"vega-lite\", \"4.17.0\"))\n",
       "        .then(() => maybeLoadScript(\"vega-embed\", \"6\"))\n",
       "        .catch(showError)\n",
       "        .then(() => displayChart(vegaEmbed));\n",
       "    }\n",
       "  })({\"config\": {\"view\": {\"continuousWidth\": 400, \"continuousHeight\": 300}}, \"hconcat\": [{\"mark\": \"circle\", \"encoding\": {\"x\": {\"field\": \"Eliminations\", \"type\": \"quantitative\"}, \"y\": {\"field\": \"isSupport\", \"type\": \"quantitative\"}}}, {\"mark\": \"circle\", \"encoding\": {\"x\": {\"field\": \"Objective Kills\", \"type\": \"quantitative\"}, \"y\": {\"field\": \"isSupport\", \"type\": \"quantitative\"}}}], \"data\": {\"name\": \"data-fe4e02e845445b6e1d01961f13300fd4\"}, \"$schema\": \"https://vega.github.io/schema/vega-lite/v4.17.0.json\", \"datasets\": {\"data-fe4e02e845445b6e1d01961f13300fd4\": [{\"Hero\": \"Ana\", \"Skill Tier\": \"Bronze\", \"KDA\": 3.87, \"Pick Rate\": 3.71, \"Win Rate\": 43.97, \"Eliminations\": 8.37, \"Objective Kills\": 3.8, \"Objective Time\": 61, \"Damage\": 2508, \"Deaths\": 6.47, \"Role\": \"Support\", \"Prediction\": 3.649431543471243, \"Support\": \"Support\", \"isSupport_bool\": true, \"isSupport\": 1, \"pred_log\": 1, \"pred_proba1\": 0.9973702722693809, \"pred_proba2\": 0.684906752844285}, {\"Hero\": \"Ana\", \"Skill Tier\": \"Silver\", \"KDA\": 4.01, \"Pick Rate\": 3.78, \"Win Rate\": 46.68, \"Eliminations\": 8.88, \"Objective Kills\": 4.08, \"Objective Time\": 64, \"Damage\": 2573, \"Deaths\": 6.36, \"Role\": \"Support\", \"Prediction\": 3.8238231298006617, \"Support\": \"Support\", \"isSupport_bool\": true, \"isSupport\": 1, \"pred_log\": 1, \"pred_proba1\": 0.9955785549474382, \"pred_proba2\": 0.6245111923135378}, {\"Hero\": \"Ana\", \"Skill Tier\": \"Gold\", \"KDA\": 4.36, \"Pick Rate\": 5.46, \"Win Rate\": 48.9, \"Eliminations\": 9.21, \"Objective Kills\": 4.14, \"Objective Time\": 65, \"Damage\": 2610, \"Deaths\": 6.13, \"Role\": \"Support\", \"Prediction\": 3.9366647444844034, \"Support\": \"Support\", \"isSupport_bool\": true, \"isSupport\": 1, \"pred_log\": 1, \"pred_proba1\": 0.9938154122019981, \"pred_proba2\": 0.610967761941894}, {\"Hero\": \"Ana\", \"Skill Tier\": \"Platinum\", \"KDA\": 4.56, \"Pick Rate\": 9.33, \"Win Rate\": 50.45, \"Eliminations\": 9.53, \"Objective Kills\": 4.18, \"Objective Time\": 65, \"Damage\": 2661, \"Deaths\": 5.89, \"Role\": \"Support\", \"Prediction\": 4.04608691629894, \"Support\": \"Support\", \"isSupport_bool\": true, \"isSupport\": 1, \"pred_log\": 1, \"pred_proba1\": 0.9914424589837644, \"pred_proba2\": 0.6018412496484534}, {\"Hero\": \"Ana\", \"Skill Tier\": \"Diamond\", \"KDA\": 4.6, \"Pick Rate\": 16.5, \"Win Rate\": 51.3, \"Eliminations\": 9.7, \"Objective Kills\": 4.11, \"Objective Time\": 63, \"Damage\": 2709, \"Deaths\": 5.74, \"Role\": \"Support\", \"Prediction\": 4.104217445075413, \"Support\": \"Support\", \"isSupport_bool\": true, \"isSupport\": 1, \"pred_log\": 1, \"pred_proba1\": 0.9898346522555381, \"pred_proba2\": 0.6177623459585777}, {\"Hero\": \"Ana\", \"Skill Tier\": \"Master\", \"KDA\": 4.63, \"Pick Rate\": 22.77, \"Win Rate\": 52.67, \"Eliminations\": 9.75, \"Objective Kills\": 3.98, \"Objective Time\": 62, \"Damage\": 2756, \"Deaths\": 5.63, \"Role\": \"Support\", \"Prediction\": 4.121314659421435, \"Support\": \"Support\", \"isSupport_bool\": true, \"isSupport\": 1, \"pred_log\": 1, \"pred_proba1\": 0.9893072302833722, \"pred_proba2\": 0.6466482044610586}, {\"Hero\": \"Ana\", \"Skill Tier\": \"Grandmaster\", \"KDA\": 4.51, \"Pick Rate\": 28.03, \"Win Rate\": 53.26, \"Eliminations\": 9.45, \"Objective Kills\": 3.6, \"Objective Time\": 58, \"Damage\": 2803, \"Deaths\": 5.56, \"Role\": \"Support\", \"Prediction\": 4.018731373345306, \"Support\": \"Support\", \"isSupport_bool\": true, \"isSupport\": 1, \"pred_log\": 1, \"pred_proba1\": 0.9921091854778531, \"pred_proba2\": 0.7246427519279371}, {\"Hero\": \"Mercy\", \"Skill Tier\": \"Bronze\", \"KDA\": 3.53, \"Pick Rate\": 3.69, \"Win Rate\": 44.85, \"Eliminations\": 1.74, \"Objective Kills\": 0.77, \"Objective Time\": 58, \"Damage\": 346, \"Deaths\": 6.88, \"Role\": \"Support\", \"Prediction\": 1.3823409211888036, \"Support\": \"Support\", \"isSupport_bool\": true, \"isSupport\": 1, \"pred_log\": 1, \"pred_proba1\": 0.9999969980272763, \"pred_proba2\": 0.975229604174829}, {\"Hero\": \"Mercy\", \"Skill Tier\": \"Silver\", \"KDA\": 3.84, \"Pick Rate\": 3.48, \"Win Rate\": 48.46, \"Eliminations\": 1.89, \"Objective Kills\": 0.81, \"Objective Time\": 58, \"Damage\": 357, \"Deaths\": 6.57, \"Role\": \"Support\", \"Prediction\": 1.433632564226868, \"Support\": \"Support\", \"isSupport_bool\": true, \"isSupport\": 1, \"pred_log\": 1, \"pred_proba1\": 0.9999965005091775, \"pred_proba2\": 0.9742888893299522}, {\"Hero\": \"Mercy\", \"Skill Tier\": \"Gold\", \"KDA\": 4.03, \"Pick Rate\": 3.87, \"Win Rate\": 49.77, \"Eliminations\": 1.81, \"Objective Kills\": 0.73, \"Objective Time\": 56, \"Damage\": 344, \"Deaths\": 6.32, \"Role\": \"Support\", \"Prediction\": 1.4062770212732336, \"Support\": \"Support\", \"isSupport_bool\": true, \"isSupport\": 1, \"pred_log\": 1, \"pred_proba1\": 0.9999967753256191, \"pred_proba2\": 0.9761367432832179}, {\"Hero\": \"Mercy\", \"Skill Tier\": \"Platinum\", \"KDA\": 4.24, \"Pick Rate\": 5.47, \"Win Rate\": 51.27, \"Eliminations\": 1.77, \"Objective Kills\": 0.67, \"Objective Time\": 53, \"Damage\": 331, \"Deaths\": 6.02, \"Role\": \"Support\", \"Prediction\": 1.3925992497964166, \"Support\": \"Support\", \"isSupport_bool\": true, \"isSupport\": 1, \"pred_log\": 1, \"pred_proba1\": 0.9999969045316498, \"pred_proba2\": 0.9774369767477917}, {\"Hero\": \"Mercy\", \"Skill Tier\": \"Diamond\", \"KDA\": 4.26, \"Pick Rate\": 9.36, \"Win Rate\": 51.8, \"Eliminations\": 1.76, \"Objective Kills\": 0.62, \"Objective Time\": 49, \"Damage\": 326, \"Deaths\": 5.86, \"Role\": \"Support\", \"Prediction\": 1.3891798069272123, \"Support\": \"Support\", \"isSupport_bool\": true, \"isSupport\": 1, \"pred_log\": 1, \"pred_proba1\": 0.9999969360160028, \"pred_proba2\": 0.9784674173476322}, {\"Hero\": \"Mercy\", \"Skill Tier\": \"Master\", \"KDA\": 4.3, \"Pick Rate\": 11.9, \"Win Rate\": 52.56, \"Eliminations\": 1.71, \"Objective Kills\": 0.59, \"Objective Time\": 45, \"Damage\": 318, \"Deaths\": 5.83, \"Role\": \"Support\", \"Prediction\": 1.372082592581191, \"Support\": \"Support\", \"isSupport_bool\": true, \"isSupport\": 1, \"pred_log\": 1, \"pred_proba1\": 0.9999970886989658, \"pred_proba2\": 0.9790634400530913}, {\"Hero\": \"Mercy\", \"Skill Tier\": \"Grandmaster\", \"KDA\": 4.37, \"Pick Rate\": 17.97, \"Win Rate\": 52.16, \"Eliminations\": 1.56, \"Objective Kills\": 0.53, \"Objective Time\": 42, \"Damage\": 296, \"Deaths\": 5.71, \"Role\": \"Support\", \"Prediction\": 1.3207909495431267, \"Support\": \"Support\", \"isSupport_bool\": true, \"isSupport\": 1, \"pred_log\": 1, \"pred_proba1\": 0.9999975025950891, \"pred_proba2\": 0.9802074404664043}, {\"Hero\": \"Cassidy\", \"Skill Tier\": \"Bronze\", \"KDA\": 2.22, \"Pick Rate\": 1.62, \"Win Rate\": 43.02, \"Eliminations\": 15.72, \"Objective Kills\": 6.56, \"Objective Time\": 61, \"Damage\": 7402, \"Deaths\": 8.38, \"Role\": \"Damage\", \"Prediction\": 6.162722052336391, \"Support\": \"Damage\", \"isSupport_bool\": false, \"isSupport\": 0, \"pred_log\": 0, \"pred_proba1\": 0.17138738570140238, \"pred_proba2\": 0.13446058405036312}, {\"Hero\": \"Cassidy\", \"Skill Tier\": \"Silver\", \"KDA\": 2.28, \"Pick Rate\": 2.03, \"Win Rate\": 45.79, \"Eliminations\": 16.64, \"Objective Kills\": 6.71, \"Objective Time\": 60, \"Damage\": 7715, \"Deaths\": 8.26, \"Role\": \"Damage\", \"Prediction\": 6.477310796303185, \"Support\": \"Damage\", \"isSupport_bool\": false, \"isSupport\": 0, \"pred_log\": 0, \"pred_proba1\": 0.07471902087602363, \"pred_proba2\": 0.11862893133524721}, {\"Hero\": \"Cassidy\", \"Skill Tier\": \"Gold\", \"KDA\": 2.44, \"Pick Rate\": 2.85, \"Win Rate\": 47.34, \"Eliminations\": 17.37, \"Objective Kills\": 6.81, \"Objective Time\": 58, \"Damage\": 8110, \"Deaths\": 8.12, \"Role\": \"Damage\", \"Prediction\": 6.726930125755098, \"Support\": \"Damage\", \"isSupport_bool\": false, \"isSupport\": 0, \"pred_log\": 0, \"pred_proba1\": 0.036874695566641344, \"pred_proba2\": 0.10899228291612378}, {\"Hero\": \"Cassidy\", \"Skill Tier\": \"Platinum\", \"KDA\": 2.46, \"Pick Rate\": 5.18, \"Win Rate\": 48.84, \"Eliminations\": 18.1, \"Objective Kills\": 6.89, \"Objective Time\": 56, \"Damage\": 8568, \"Deaths\": 8.06, \"Role\": \"Damage\", \"Prediction\": 6.976549455207011, \"Support\": \"Damage\", \"isSupport_bool\": false, \"isSupport\": 0, \"pred_log\": 0, \"pred_proba1\": 0.01782875341911262, \"pred_proba2\": 0.10178432028525584}, {\"Hero\": \"Cassidy\", \"Skill Tier\": \"Diamond\", \"KDA\": 2.5, \"Pick Rate\": 10.21, \"Win Rate\": 50.22, \"Eliminations\": 18.6, \"Objective Kills\": 6.83, \"Objective Time\": 54, \"Damage\": 8967, \"Deaths\": 8.01, \"Role\": \"Damage\", \"Prediction\": 7.147521598667225, \"Support\": \"Damage\", \"isSupport_bool\": false, \"isSupport\": 0, \"pred_log\": 0, \"pred_proba1\": 0.010770512588679018, \"pred_proba2\": 0.10714936174057944}, {\"Hero\": \"Cassidy\", \"Skill Tier\": \"Master\", \"KDA\": 2.45, \"Pick Rate\": 15.45, \"Win Rate\": 50.35, \"Eliminations\": 18.68, \"Objective Kills\": 6.65, \"Objective Time\": 52, \"Damage\": 9277, \"Deaths\": 7.94, \"Role\": \"Damage\", \"Prediction\": 7.1748771416208585, \"Support\": \"Damage\", \"isSupport_bool\": false, \"isSupport\": 0, \"pred_log\": 0, \"pred_proba1\": 0.009933098683683996, \"pred_proba2\": 0.1247585279372261}, {\"Hero\": \"Cassidy\", \"Skill Tier\": \"Grandmaster\", \"KDA\": 2.45, \"Pick Rate\": 19.55, \"Win Rate\": 51.77, \"Eliminations\": 18.36, \"Objective Kills\": 6.25, \"Objective Time\": 48, \"Damage\": 9584, \"Deaths\": 7.77, \"Role\": \"Damage\", \"Prediction\": 7.065454969806321, \"Support\": \"Damage\", \"isSupport_bool\": false, \"isSupport\": 0, \"pred_log\": 0, \"pred_proba1\": 0.013724449054572596, \"pred_proba2\": 0.17282610720985495}, {\"Hero\": \"Genji\", \"Skill Tier\": \"Bronze\", \"KDA\": 2.27, \"Pick Rate\": 1.04, \"Win Rate\": 44.55, \"Eliminations\": 15.44, \"Objective Kills\": 5.22, \"Objective Time\": 71, \"Damage\": 6338, \"Deaths\": 8.37, \"Role\": \"Damage\", \"Prediction\": 6.066977651998671, \"Support\": \"Damage\", \"isSupport_bool\": false, \"isSupport\": 0, \"pred_log\": 0, \"pred_proba1\": 0.21592456361913473, \"pred_proba2\": 0.3586857484826997}, {\"Hero\": \"Genji\", \"Skill Tier\": \"Silver\", \"KDA\": 2.24, \"Pick Rate\": 1.1, \"Win Rate\": 46.33, \"Eliminations\": 16.04, \"Objective Kills\": 5.31, \"Objective Time\": 71, \"Damage\": 6594, \"Deaths\": 8.48, \"Role\": \"Damage\", \"Prediction\": 6.272144224150928, \"Support\": \"Damage\", \"isSupport_bool\": false, \"isSupport\": 0, \"pred_log\": 0, \"pred_proba1\": 0.12977276056241396, \"pred_proba2\": 0.33914407231903937}, {\"Hero\": \"Genji\", \"Skill Tier\": \"Gold\", \"KDA\": 2.35, \"Pick Rate\": 1.81, \"Win Rate\": 48.5, \"Eliminations\": 17.04, \"Objective Kills\": 5.31, \"Objective Time\": 68, \"Damage\": 6944, \"Deaths\": 8.37, \"Role\": \"Damage\", \"Prediction\": 6.614088511071356, \"Support\": \"Damage\", \"isSupport_bool\": false, \"isSupport\": 0, \"pred_log\": 0, \"pred_proba1\": 0.05091737497505442, \"pred_proba2\": 0.33914407231903937}, {\"Hero\": \"Genji\", \"Skill Tier\": \"Platinum\", \"KDA\": 2.42, \"Pick Rate\": 3.66, \"Win Rate\": 50.09, \"Eliminations\": 18.03, \"Objective Kills\": 5.32, \"Objective Time\": 66, \"Damage\": 7270, \"Deaths\": 8.34, \"Role\": \"Damage\", \"Prediction\": 6.952613355122581, \"Support\": \"Damage\", \"isSupport_bool\": false, \"isSupport\": 0, \"pred_log\": 0, \"pred_proba1\": 0.019126088819814455, \"pred_proba2\": 0.33700479179140946}, {\"Hero\": \"Genji\", \"Skill Tier\": \"Diamond\", \"KDA\": 2.48, \"Pick Rate\": 6.66, \"Win Rate\": 50.57, \"Eliminations\": 18.63, \"Objective Kills\": 5.25, \"Objective Time\": 65, \"Damage\": 7519, \"Deaths\": 8.27, \"Role\": \"Damage\", \"Prediction\": 7.157779927274837, \"Support\": \"Damage\", \"isSupport_bool\": false, \"isSupport\": 0, \"pred_log\": 0, \"pred_proba1\": 0.01044859777491468, \"pred_proba2\": 0.3521157175612596}, {\"Hero\": \"Genji\", \"Skill Tier\": \"Master\", \"KDA\": 2.46, \"Pick Rate\": 10.52, \"Win Rate\": 51.56, \"Eliminations\": 18.74, \"Objective Kills\": 4.98, \"Objective Time\": 62, \"Damage\": 7600, \"Deaths\": 8.23, \"Role\": \"Damage\", \"Prediction\": 7.195393798836084, \"Support\": \"Damage\", \"isSupport_bool\": false, \"isSupport\": 0, \"pred_log\": 0, \"pred_proba1\": 0.009347643733819662, \"pred_proba2\": 0.4129851431213646}, {\"Hero\": \"Genji\", \"Skill Tier\": \"Grandmaster\", \"KDA\": 2.51, \"Pick Rate\": 12.51, \"Win Rate\": 53.37, \"Eliminations\": 18.77, \"Objective Kills\": 4.69, \"Objective Time\": 59, \"Damage\": 7692, \"Deaths\": 8.0, \"Role\": \"Damage\", \"Prediction\": 7.205652127443697, \"Support\": \"Damage\", \"isSupport_bool\": false, \"isSupport\": 0, \"pred_log\": 0, \"pred_proba1\": 0.009067866549792337, \"pred_proba2\": 0.48140726551220475}, {\"Hero\": \"Kiriko\", \"Skill Tier\": \"Bronze\", \"KDA\": 4.25, \"Pick Rate\": 3.52, \"Win Rate\": 43.06, \"Eliminations\": 7.23, \"Objective Kills\": 3.45, \"Objective Time\": 70, \"Damage\": 2154, \"Deaths\": 6.25, \"Role\": \"Support\", \"Prediction\": 3.2596150563819553, \"Support\": \"Support\", \"isSupport_bool\": true, \"isSupport\": 1, \"pred_log\": 1, \"pred_proba1\": 0.9991786085780787, \"pred_proba2\": 0.7523166050080607}, {\"Hero\": \"Kiriko\", \"Skill Tier\": \"Silver\", \"KDA\": 4.52, \"Pick Rate\": 3.45, \"Win Rate\": 43.86, \"Eliminations\": 7.51, \"Objective Kills\": 3.58, \"Objective Time\": 73, \"Damage\": 2177, \"Deaths\": 6.11, \"Role\": \"Support\", \"Prediction\": 3.355359456719675, \"Support\": \"Support\", \"isSupport_bool\": true, \"isSupport\": 1, \"pred_log\": 1, \"pred_proba1\": 0.99890667610601, \"pred_proba2\": 0.7284413496241469}, {\"Hero\": \"Kiriko\", \"Skill Tier\": \"Gold\", \"KDA\": 4.72, \"Pick Rate\": 4.3, \"Win Rate\": 45.48, \"Eliminations\": 7.8, \"Objective Kills\": 3.59, \"Objective Time\": 72, \"Damage\": 2246, \"Deaths\": 5.94, \"Role\": \"Support\", \"Prediction\": 3.454523299926599, \"Support\": \"Support\", \"isSupport_bool\": true, \"isSupport\": 1, \"pred_log\": 1, \"pred_proba1\": 0.9985299172471579, \"pred_proba2\": 0.7265461641107656}, {\"Hero\": \"Kiriko\", \"Skill Tier\": \"Platinum\", \"KDA\": 4.8, \"Pick Rate\": 6.53, \"Win Rate\": 46.71, \"Eliminations\": 8.06, \"Objective Kills\": 3.59, \"Objective Time\": 71, \"Damage\": 2313, \"Deaths\": 5.77, \"Role\": \"Support\", \"Prediction\": 3.5434288145259107, \"Support\": \"Support\", \"isSupport_bool\": true, \"isSupport\": 1, \"pred_log\": 1, \"pred_proba1\": 0.9980831658316569, \"pred_proba2\": 0.7265461641107656}, {\"Hero\": \"Kiriko\", \"Skill Tier\": \"Diamond\", \"KDA\": 4.95, \"Pick Rate\": 10.38, \"Win Rate\": 47.1, \"Eliminations\": 8.42, \"Objective Kills\": 3.6, \"Objective Time\": 69, \"Damage\": 2444, \"Deaths\": 5.65, \"Role\": \"Support\", \"Prediction\": 3.6665287578172645, \"Support\": \"Support\", \"isSupport_bool\": true, \"isSupport\": 1, \"pred_log\": 1, \"pred_proba1\": 0.9972327376250568, \"pred_proba2\": 0.7246427519279371}, {\"Hero\": \"Kiriko\", \"Skill Tier\": \"Master\", \"KDA\": 4.86, \"Pick Rate\": 14.57, \"Win Rate\": 47.92, \"Eliminations\": 8.82, \"Objective Kills\": 3.65, \"Objective Time\": 66, \"Damage\": 2595, \"Deaths\": 5.59, \"Role\": \"Support\", \"Prediction\": 3.803306472585436, \"Support\": \"Support\", \"isSupport_bool\": true, \"isSupport\": 1, \"pred_log\": 1, \"pred_proba1\": 0.9958405188673124, \"pred_proba2\": 0.7150035126204147}, {\"Hero\": \"Kiriko\", \"Skill Tier\": \"Grandmaster\", \"KDA\": 4.74, \"Pick Rate\": 15.94, \"Win Rate\": 48.96, \"Eliminations\": 9.22, \"Objective Kills\": 3.54, \"Objective Time\": 62, \"Damage\": 2868, \"Deaths\": 5.63, \"Role\": \"Support\", \"Prediction\": 3.9400841873536074, \"Support\": \"Support\", \"isSupport_bool\": true, \"isSupport\": 1, \"pred_log\": 1, \"pred_proba1\": 0.993752258543802, \"pred_proba2\": 0.735939184158968}, {\"Hero\": \"Moira\", \"Skill Tier\": \"Bronze\", \"KDA\": 5.29, \"Pick Rate\": 4.44, \"Win Rate\": 45.21, \"Eliminations\": 16.49, \"Objective Kills\": 7.98, \"Objective Time\": 88, \"Damage\": 5098, \"Deaths\": 6.61, \"Role\": \"Support\", \"Prediction\": 6.42601915326512, \"Support\": \"Support\", \"isSupport_bool\": true, \"isSupport\": 1, \"pred_log\": 0, \"pred_proba1\": 0.08603685996592199, \"pred_proba2\": 0.038435917614708735}, {\"Hero\": \"Moira\", \"Skill Tier\": \"Silver\", \"KDA\": 5.77, \"Pick Rate\": 3.92, \"Win Rate\": 47.27, \"Eliminations\": 17.33, \"Objective Kills\": 8.31, \"Objective Time\": 88, \"Damage\": 5231, \"Deaths\": 6.43, \"Role\": \"Support\", \"Prediction\": 6.71325235427828, \"Support\": \"Support\", \"isSupport_bool\": true, \"isSupport\": 1, \"pred_log\": 0, \"pred_proba1\": 0.03835482984134678, \"pred_proba2\": 0.028331479827713335}, {\"Hero\": \"Moira\", \"Skill Tier\": \"Gold\", \"KDA\": 6.04, \"Pick Rate\": 4.46, \"Win Rate\": 49.03, \"Eliminations\": 17.78, \"Objective Kills\": 8.41, \"Objective Time\": 88, \"Damage\": 5332, \"Deaths\": 6.26, \"Role\": \"Support\", \"Prediction\": 6.867127283392474, \"Support\": \"Support\", \"isSupport_bool\": true, \"isSupport\": 1, \"pred_log\": 0, \"pred_proba1\": 0.02455902942310077, \"pred_proba2\": 0.02581516744920608}, {\"Hero\": \"Moira\", \"Skill Tier\": \"Platinum\", \"KDA\": 6.23, \"Pick Rate\": 4.86, \"Win Rate\": 49.38, \"Eliminations\": 18.1, \"Objective Kills\": 8.39, \"Objective Time\": 86, \"Damage\": 5427, \"Deaths\": 6.09, \"Role\": \"Support\", \"Prediction\": 6.976549455207011, \"Support\": \"Support\", \"isSupport_bool\": true, \"isSupport\": 1, \"pred_log\": 0, \"pred_proba1\": 0.01782875341911262, \"pred_proba2\": 0.026300384050426766}, {\"Hero\": \"Moira\", \"Skill Tier\": \"Diamond\", \"KDA\": 6.16, \"Pick Rate\": 6.38, \"Win Rate\": 50.49, \"Eliminations\": 18.06, \"Objective Kills\": 8.18, \"Objective Time\": 84, \"Damage\": 5463, \"Deaths\": 6.09, \"Role\": \"Support\", \"Prediction\": 6.962871683730193, \"Support\": \"Support\", \"isSupport_bool\": true, \"isSupport\": 1, \"pred_log\": 0, \"pred_proba1\": 0.0185591234388282, \"pred_proba2\": 0.031960745588002715}, {\"Hero\": \"Moira\", \"Skill Tier\": \"Master\", \"KDA\": 5.91, \"Pick Rate\": 6.04, \"Win Rate\": 49.59, \"Eliminations\": 17.85, \"Objective Kills\": 7.91, \"Objective Time\": 80, \"Damage\": 5475, \"Deaths\": 6.19, \"Role\": \"Support\", \"Prediction\": 6.8910633834769035, \"Support\": \"Support\", \"isSupport_bool\": true, \"isSupport\": 1, \"pred_log\": 0, \"pred_proba1\": 0.022901778356897915, \"pred_proba2\": 0.04098696963016457}, {\"Hero\": \"Moira\", \"Skill Tier\": \"Grandmaster\", \"KDA\": 5.57, \"Pick Rate\": 6.36, \"Win Rate\": 50.6, \"Eliminations\": 17.42, \"Objective Kills\": 7.48, \"Objective Time\": 78, \"Damage\": 5532, \"Deaths\": 6.3, \"Role\": \"Support\", \"Prediction\": 6.74402734010112, \"Support\": \"Support\", \"isSupport_bool\": true, \"isSupport\": 1, \"pred_log\": 0, \"pred_proba1\": 0.0351016685637503, \"pred_proba2\": 0.06056391984545625}, {\"Hero\": \"Reinhardt\", \"Skill Tier\": \"Bronze\", \"KDA\": 2.82, \"Pick Rate\": 1.81, \"Win Rate\": 45.39, \"Eliminations\": 15.24, \"Objective Kills\": 6.07, \"Objective Time\": 129, \"Damage\": 7393, \"Deaths\": 7.38, \"Role\": \"Tank\", \"Prediction\": 5.9985887946145855, \"Support\": \"Tank\", \"isSupport_bool\": false, \"isSupport\": 0, \"pred_log\": 0, \"pred_proba1\": 0.2525398956601732, \"pred_proba2\": 0.19882518553625744}, {\"Hero\": \"Reinhardt\", \"Skill Tier\": \"Silver\", \"KDA\": 3.05, \"Pick Rate\": 2.25, \"Win Rate\": 50.63, \"Eliminations\": 16.26, \"Objective Kills\": 6.37, \"Objective Time\": 130, \"Damage\": 7941, \"Deaths\": 7.07, \"Role\": \"Tank\", \"Prediction\": 6.347371967273423, \"Support\": \"Tank\", \"isSupport_bool\": false, \"isSupport\": 0, \"pred_log\": 0, \"pred_proba1\": 0.10641638716694292, \"pred_proba2\": 0.15703639012574025}, {\"Hero\": \"Reinhardt\", \"Skill Tier\": \"Gold\", \"KDA\": 3.13, \"Pick Rate\": 2.93, \"Win Rate\": 52.97, \"Eliminations\": 16.83, \"Objective Kills\": 6.43, \"Objective Time\": 126, \"Damage\": 8368, \"Deaths\": 6.91, \"Role\": \"Tank\", \"Prediction\": 6.542280210818066, \"Support\": \"Tank\", \"isSupport_bool\": false, \"isSupport\": 0, \"pred_log\": 0, \"pred_proba1\": 0.06235053163822072, \"pred_proba2\": 0.14959197617720305}, {\"Hero\": \"Reinhardt\", \"Skill Tier\": \"Platinum\", \"KDA\": 3.19, \"Pick Rate\": 4.89, \"Win Rate\": 54.39, \"Eliminations\": 17.2, \"Objective Kills\": 6.4, \"Objective Time\": 122, \"Damage\": 8718, \"Deaths\": 6.77, \"Role\": \"Tank\", \"Prediction\": 6.668799596978625, \"Support\": \"Tank\", \"isSupport_bool\": false, \"isSupport\": 0, \"pred_log\": 0, \"pred_proba1\": 0.043568982055985465, \"pred_proba2\": 0.15327717292149903}, {\"Hero\": \"Reinhardt\", \"Skill Tier\": \"Diamond\", \"KDA\": 3.14, \"Pick Rate\": 7.56, \"Win Rate\": 55.01, \"Eliminations\": 17.22, \"Objective Kills\": 6.17, \"Objective Time\": 117, \"Damage\": 8917, \"Deaths\": 6.75, \"Role\": \"Tank\", \"Prediction\": 6.675638482717033, \"Support\": \"Tank\", \"isSupport_bool\": false, \"isSupport\": 0, \"pred_log\": 0, \"pred_proba1\": 0.042724870882039856, \"pred_proba2\": 0.18403419405740148}, {\"Hero\": \"Reinhardt\", \"Skill Tier\": \"Master\", \"KDA\": 3.04, \"Pick Rate\": 9.02, \"Win Rate\": 54.73, \"Eliminations\": 16.96, \"Objective Kills\": 5.88, \"Objective Time\": 113, \"Damage\": 8887, \"Deaths\": 6.83, \"Role\": \"Tank\", \"Prediction\": 6.5867329681177225, \"Support\": \"Tank\", \"isSupport_bool\": false, \"isSupport\": 0, \"pred_log\": 0, \"pred_proba1\": 0.05501797977195825, \"pred_proba2\": 0.22934425328581726}, {\"Hero\": \"Reinhardt\", \"Skill Tier\": \"Grandmaster\", \"KDA\": 2.94, \"Pick Rate\": 10.75, \"Win Rate\": 56.01, \"Eliminations\": 16.32, \"Objective Kills\": 5.45, \"Objective Time\": 109, \"Damage\": 8563, \"Deaths\": 6.85, \"Role\": \"Tank\", \"Prediction\": 6.367888624488648, \"Support\": \"Tank\", \"isSupport_bool\": false, \"isSupport\": 0, \"pred_log\": 0, \"pred_proba1\": 0.10072275284080169, \"pred_proba2\": 0.30982285577982055}, {\"Hero\": \"Hanzo\", \"Skill Tier\": \"Bronze\", \"KDA\": 2.77, \"Pick Rate\": 1.45, \"Win Rate\": 44.47, \"Eliminations\": 15.19, \"Objective Kills\": 6.06, \"Objective Time\": 50, \"Damage\": 7067, \"Deaths\": 7.94, \"Role\": \"Damage\", \"Prediction\": 5.981491580268564, \"Support\": \"Damage\", \"isSupport_bool\": false, \"isSupport\": 0, \"pred_log\": 0, \"pred_proba1\": 0.2623102106258652, \"pred_proba2\": 0.2003523820236655}, {\"Hero\": \"Hanzo\", \"Skill Tier\": \"Silver\", \"KDA\": 3.01, \"Pick Rate\": 1.31, \"Win Rate\": 45.24, \"Eliminations\": 16.04, \"Objective Kills\": 6.28, \"Objective Time\": 53, \"Damage\": 7305, \"Deaths\": 7.88, \"Role\": \"Damage\", \"Prediction\": 6.272144224150928, \"Support\": \"Damage\", \"isSupport_bool\": false, \"isSupport\": 0, \"pred_log\": 0, \"pred_proba1\": 0.12977276056241396, \"pred_proba2\": 0.16876458122581128}, {\"Hero\": \"Hanzo\", \"Skill Tier\": \"Gold\", \"KDA\": 3.13, \"Pick Rate\": 1.93, \"Win Rate\": 48.57, \"Eliminations\": 16.77, \"Objective Kills\": 6.32, \"Objective Time\": 53, \"Damage\": 7577, \"Deaths\": 7.73, \"Role\": \"Damage\", \"Prediction\": 6.521763553602841, \"Support\": \"Damage\", \"isSupport_bool\": false, \"isSupport\": 0, \"pred_log\": 0, \"pred_proba1\": 0.06603434699899856, \"pred_proba2\": 0.1634680182698905}, {\"Hero\": \"Hanzo\", \"Skill Tier\": \"Platinum\", \"KDA\": 3.23, \"Pick Rate\": 3.38, \"Win Rate\": 49.52, \"Eliminations\": 17.37, \"Objective Kills\": 6.28, \"Objective Time\": 52, \"Damage\": 7814, \"Deaths\": 7.71, \"Role\": \"Damage\", \"Prediction\": 6.726930125755098, \"Support\": \"Damage\", \"isSupport_bool\": false, \"isSupport\": 0, \"pred_log\": 0, \"pred_proba1\": 0.036874695566641344, \"pred_proba2\": 0.16876458122581128}, {\"Hero\": \"Hanzo\", \"Skill Tier\": \"Diamond\", \"KDA\": 3.2, \"Pick Rate\": 5.81, \"Win Rate\": 50.03, \"Eliminations\": 17.7, \"Objective Kills\": 6.07, \"Objective Time\": 50, \"Damage\": 7938, \"Deaths\": 7.74, \"Role\": \"Damage\", \"Prediction\": 6.839771740438839, \"Support\": \"Damage\", \"isSupport_bool\": false, \"isSupport\": 0, \"pred_log\": 0, \"pred_proba1\": 0.026596364804729537, \"pred_proba2\": 0.19882518553625744}, {\"Hero\": \"Hanzo\", \"Skill Tier\": \"Master\", \"KDA\": 3.13, \"Pick Rate\": 7.35, \"Win Rate\": 50.08, \"Eliminations\": 17.53, \"Objective Kills\": 5.71, \"Objective Time\": 47, \"Damage\": 7932, \"Deaths\": 7.75, \"Role\": \"Damage\", \"Prediction\": 6.781641211662366, \"Support\": \"Damage\", \"isSupport_bool\": false, \"isSupport\": 0, \"pred_log\": 0, \"pred_proba1\": 0.03148570790242141, \"pred_proba2\": 0.2593208273037546}, {\"Hero\": \"Hanzo\", \"Skill Tier\": \"Grandmaster\", \"KDA\": 3.09, \"Pick Rate\": 8.97, \"Win Rate\": 50.72, \"Eliminations\": 16.88, \"Objective Kills\": 5.05, \"Objective Time\": 43, \"Damage\": 7801, \"Deaths\": 7.65, \"Role\": \"Damage\", \"Prediction\": 6.5593774251640875, \"Support\": \"Damage\", \"isSupport_bool\": false, \"isSupport\": 0, \"pred_log\": 0, \"pred_proba1\": 0.05942814623237985, \"pred_proba2\": 0.3968621265562188}, {\"Hero\": \"Widowmaker\", \"Skill Tier\": \"Bronze\", \"KDA\": 2.54, \"Pick Rate\": 0.73, \"Win Rate\": 42.05, \"Eliminations\": 13.52, \"Objective Kills\": 3.57, \"Objective Time\": 19, \"Damage\": 5272, \"Deaths\": 7.64, \"Role\": \"Damage\", \"Prediction\": 5.4104446211114485, \"Support\": \"Damage\", \"isSupport_bool\": false, \"isSupport\": 0, \"pred_log\": 1, \"pred_proba1\": 0.6622377709764787, \"pred_proba2\": 0.730328275650342}, {\"Hero\": \"Widowmaker\", \"Skill Tier\": \"Silver\", \"KDA\": 2.62, \"Pick Rate\": 0.78, \"Win Rate\": 44.25, \"Eliminations\": 14.63, \"Objective Kills\": 3.74, \"Objective Time\": 19, \"Damage\": 5535, \"Deaths\": 7.79, \"Role\": \"Damage\", \"Prediction\": 5.790002779593125, \"Support\": \"Damage\", \"isSupport_bool\": false, \"isSupport\": 0, \"pred_log\": 1, \"pred_proba1\": 0.3866311914505272, \"pred_proba2\": 0.6971520539487682}, {\"Hero\": \"Widowmaker\", \"Skill Tier\": \"Gold\", \"KDA\": 2.63, \"Pick Rate\": 1.07, \"Win Rate\": 46.43, \"Eliminations\": 15.19, \"Objective Kills\": 3.73, \"Objective Time\": 21, \"Damage\": 5714, \"Deaths\": 7.83, \"Role\": \"Damage\", \"Prediction\": 5.981491580268564, \"Support\": \"Damage\", \"isSupport_bool\": false, \"isSupport\": 0, \"pred_log\": 1, \"pred_proba1\": 0.2623102106258652, \"pred_proba2\": 0.6991666056953076}, {\"Hero\": \"Widowmaker\", \"Skill Tier\": \"Platinum\", \"KDA\": 2.59, \"Pick Rate\": 1.73, \"Win Rate\": 47.83, \"Eliminations\": 15.69, \"Objective Kills\": 3.7, \"Objective Time\": 22, \"Damage\": 5820, \"Deaths\": 8.1, \"Role\": \"Damage\", \"Prediction\": 6.152463723728778, \"Support\": \"Damage\", \"isSupport_bool\": false, \"isSupport\": 0, \"pred_log\": 1, \"pred_proba1\": 0.1757868952777033, \"pred_proba2\": 0.7051641312251713}, {\"Hero\": \"Widowmaker\", \"Skill Tier\": \"Diamond\", \"KDA\": 2.53, \"Pick Rate\": 3.19, \"Win Rate\": 49.06, \"Eliminations\": 16.0, \"Objective Kills\": 3.64, \"Objective Time\": 23, \"Damage\": 5905, \"Deaths\": 8.29, \"Role\": \"Damage\", \"Prediction\": 6.258466452674111, \"Support\": \"Damage\", \"isSupport_bool\": false, \"isSupport\": 0, \"pred_log\": 1, \"pred_proba1\": 0.13446119560843756, \"pred_proba2\": 0.7169475293482565}, {\"Hero\": \"Widowmaker\", \"Skill Tier\": \"Master\", \"KDA\": 2.4, \"Pick Rate\": 4.91, \"Win Rate\": 49.68, \"Eliminations\": 15.85, \"Objective Kills\": 3.5, \"Objective Time\": 22, \"Damage\": 5846, \"Deaths\": 8.38, \"Role\": \"Damage\", \"Prediction\": 6.207174809636046, \"Support\": \"Damage\", \"isSupport_bool\": false, \"isSupport\": 0, \"pred_log\": 1, \"pred_proba1\": 0.15332874288897488, \"pred_proba2\": 0.7433029522359219}, {\"Hero\": \"Widowmaker\", \"Skill Tier\": \"Grandmaster\", \"KDA\": 2.41, \"Pick Rate\": 7.93, \"Win Rate\": 51.49, \"Eliminations\": 15.59, \"Objective Kills\": 3.28, \"Objective Time\": 20, \"Damage\": 5816, \"Deaths\": 8.3, \"Role\": \"Damage\", \"Prediction\": 6.118269295036735, \"Support\": \"Damage\", \"isSupport_bool\": false, \"isSupport\": 0, \"pred_log\": 1, \"pred_proba1\": 0.19109288760024565, \"pred_proba2\": 0.7813450612309704}, {\"Hero\": \"Soldier: 76\", \"Skill Tier\": \"Bronze\", \"KDA\": 2.64, \"Pick Rate\": 2.25, \"Win Rate\": 41.6, \"Eliminations\": 17.0, \"Objective Kills\": 7.41, \"Objective Time\": 64, \"Damage\": 8082, \"Deaths\": 8.76, \"Role\": \"Damage\", \"Prediction\": 6.6004107395945395, \"Support\": \"Damage\", \"isSupport_bool\": false, \"isSupport\": 0, \"pred_log\": 0, \"pred_proba1\": 0.05293019901851942, \"pred_proba2\": 0.06448514892060568}, {\"Hero\": \"Soldier: 76\", \"Skill Tier\": \"Silver\", \"KDA\": 2.73, \"Pick Rate\": 2.41, \"Win Rate\": 44.48, \"Eliminations\": 18.01, \"Objective Kills\": 7.61, \"Objective Time\": 62, \"Damage\": 8417, \"Deaths\": 8.61, \"Role\": \"Damage\", \"Prediction\": 6.9457744693841725, \"Support\": \"Damage\", \"isSupport_bool\": false, \"isSupport\": 0, \"pred_log\": 0, \"pred_proba1\": 0.019513465114043477, \"pred_proba2\": 0.053867391316854876}, {\"Hero\": \"Soldier: 76\", \"Skill Tier\": \"Gold\", \"KDA\": 2.9, \"Pick Rate\": 3.06, \"Win Rate\": 47.28, \"Eliminations\": 18.85, \"Objective Kills\": 7.61, \"Objective Time\": 57, \"Damage\": 8802, \"Deaths\": 8.27, \"Role\": \"Damage\", \"Prediction\": 7.233007670397332, \"Support\": \"Damage\", \"isSupport_bool\": false, \"isSupport\": 0, \"pred_log\": 0, \"pred_proba1\": 0.008361715419213819, \"pred_proba2\": 0.053867391316854876}, {\"Hero\": \"Soldier: 76\", \"Skill Tier\": \"Platinum\", \"KDA\": 2.93, \"Pick Rate\": 4.38, \"Win Rate\": 48.18, \"Eliminations\": 19.32, \"Objective Kills\": 7.42, \"Objective Time\": 53, \"Damage\": 9150, \"Deaths\": 8.12, \"Role\": \"Damage\", \"Prediction\": 7.393721485249933, \"Support\": \"Damage\", \"isSupport_bool\": false, \"isSupport\": 0, \"pred_log\": 0, \"pred_proba1\": 0.005188099449751861, \"pred_proba2\": 0.0639108340734123}, {\"Hero\": \"Soldier: 76\", \"Skill Tier\": \"Diamond\", \"KDA\": 2.97, \"Pick Rate\": 6.24, \"Win Rate\": 49.06, \"Eliminations\": 19.59, \"Objective Kills\": 7.25, \"Objective Time\": 49, \"Damage\": 9418, \"Deaths\": 7.97, \"Role\": \"Damage\", \"Prediction\": 7.4860464427184485, \"Support\": \"Damage\", \"isSupport_bool\": false, \"isSupport\": 0, \"pred_log\": 0, \"pred_proba1\": 0.003941623269721945, \"pred_proba2\": 0.07435046330265623}, {\"Hero\": \"Soldier: 76\", \"Skill Tier\": \"Master\", \"KDA\": 2.96, \"Pick Rate\": 8.31, \"Win Rate\": 49.69, \"Eliminations\": 19.39, \"Objective Kills\": 6.9, \"Objective Time\": 46, \"Damage\": 9511, \"Deaths\": 7.94, \"Role\": \"Damage\", \"Prediction\": 7.417657585334363, \"Support\": \"Damage\", \"isSupport_bool\": false, \"isSupport\": 0, \"pred_log\": 0, \"pred_proba1\": 0.0048315302840399475, \"pred_proba2\": 0.1009136466287324}, {\"Hero\": \"Soldier: 76\", \"Skill Tier\": \"Grandmaster\", \"KDA\": 2.95, \"Pick Rate\": 9.65, \"Win Rate\": 51.42, \"Eliminations\": 18.99, \"Objective Kills\": 6.49, \"Objective Time\": 43, \"Damage\": 9622, \"Deaths\": 7.79, \"Role\": \"Damage\", \"Prediction\": 7.280879870566191, \"Support\": \"Damage\", \"isSupport_bool\": false, \"isSupport\": 0, \"pred_log\": 0, \"pred_proba1\": 0.007254733744864128, \"pred_proba2\": 0.14244083662967985}, {\"Hero\": \"Zenyatta\", \"Skill Tier\": \"Bronze\", \"KDA\": 5.0, \"Pick Rate\": 1.36, \"Win Rate\": 48.7, \"Eliminations\": 12.71, \"Objective Kills\": 5.77, \"Objective Time\": 65, \"Damage\": 4661, \"Deaths\": 7.42, \"Role\": \"Support\", \"Prediction\": 5.1334697487059024, \"Support\": \"Support\", \"isSupport_bool\": true, \"isSupport\": 1, \"pred_log\": 0, \"pred_proba1\": 0.8177777425795116, \"pred_proba2\": 0.24845671468286418}, {\"Hero\": \"Zenyatta\", \"Skill Tier\": \"Silver\", \"KDA\": 5.19, \"Pick Rate\": 1.31, \"Win Rate\": 48.35, \"Eliminations\": 13.55, \"Objective Kills\": 6.08, \"Objective Time\": 69, \"Damage\": 4886, \"Deaths\": 7.29, \"Role\": \"Support\", \"Prediction\": 5.420702949719062, \"Support\": \"Support\", \"isSupport_bool\": true, \"isSupport\": 1, \"pred_log\": 0, \"pred_proba1\": 0.6553438514589492, \"pred_proba2\": 0.19730675782532633}, {\"Hero\": \"Zenyatta\", \"Skill Tier\": \"Gold\", \"KDA\": 5.47, \"Pick Rate\": 1.8, \"Win Rate\": 51.21, \"Eliminations\": 14.0, \"Objective Kills\": 6.1, \"Objective Time\": 69, \"Damage\": 5037, \"Deaths\": 7.1, \"Role\": \"Support\", \"Prediction\": 5.574577878833255, \"Support\": \"Support\", \"isSupport_bool\": true, \"isSupport\": 1, \"pred_log\": 0, \"pred_proba1\": 0.5455156032757991, \"pred_proba2\": 0.19429618193426323}, {\"Hero\": \"Zenyatta\", \"Skill Tier\": \"Platinum\", \"KDA\": 5.55, \"Pick Rate\": 2.9, \"Win Rate\": 51.81, \"Eliminations\": 14.24, \"Objective Kills\": 6.04, \"Objective Time\": 67, \"Damage\": 5140, \"Deaths\": 6.89, \"Role\": \"Support\", \"Prediction\": 5.656644507694157, \"Support\": \"Support\", \"isSupport_bool\": true, \"isSupport\": 1, \"pred_log\": 0, \"pred_proba1\": 0.48430778019861725, \"pred_proba2\": 0.20343310374377976}, {\"Hero\": \"Zenyatta\", \"Skill Tier\": \"Diamond\", \"KDA\": 5.61, \"Pick Rate\": 5.05, \"Win Rate\": 52.8, \"Eliminations\": 14.34, \"Objective Kills\": 5.82, \"Objective Time\": 65, \"Damage\": 5216, \"Deaths\": 6.66, \"Role\": \"Support\", \"Prediction\": 5.6908389363862, \"Support\": \"Support\", \"isSupport_bool\": true, \"isSupport\": 1, \"pred_log\": 0, \"pred_proba1\": 0.45883793878800194, \"pred_proba2\": 0.23963912670531004}, {\"Hero\": \"Zenyatta\", \"Skill Tier\": \"Master\", \"KDA\": 5.59, \"Pick Rate\": 7.38, \"Win Rate\": 54.96, \"Eliminations\": 14.13, \"Objective Kills\": 5.47, \"Objective Time\": 62, \"Damage\": 5204, \"Deaths\": 6.53, \"Role\": \"Support\", \"Prediction\": 5.61903063613291, \"Support\": \"Support\", \"isSupport_bool\": true, \"isSupport\": 1, \"pred_log\": 0, \"pred_proba1\": 0.5124139335726305, \"pred_proba2\": 0.305749410303906}, {\"Hero\": \"Zenyatta\", \"Skill Tier\": \"Grandmaster\", \"KDA\": 5.28, \"Pick Rate\": 11.33, \"Win Rate\": 54.18, \"Eliminations\": 13.37, \"Objective Kills\": 4.74, \"Objective Time\": 56, \"Damage\": 5154, \"Deaths\": 6.37, \"Role\": \"Support\", \"Prediction\": 5.359152978073384, \"Support\": \"Support\", \"isSupport_bool\": true, \"isSupport\": 1, \"pred_log\": 0, \"pred_proba1\": 0.695642060858917, \"pred_proba2\": 0.4694869425944331}, {\"Hero\": \"Lucio\", \"Skill Tier\": \"Bronze\", \"KDA\": 3.44, \"Pick Rate\": 1.42, \"Win Rate\": 44.22, \"Eliminations\": 10.8, \"Objective Kills\": 5.6, \"Objective Time\": 111, \"Damage\": 3218, \"Deaths\": 7.67, \"Role\": \"Support\", \"Prediction\": 4.480356160687885, \"Support\": \"Support\", \"isSupport_bool\": true, \"isSupport\": 1, \"pred_log\": 0, \"pred_proba1\": 0.9693501711736996, \"pred_proba2\": 0.2800236882942943}, {\"Hero\": \"Lucio\", \"Skill Tier\": \"Silver\", \"KDA\": 3.77, \"Pick Rate\": 1.11, \"Win Rate\": 47.97, \"Eliminations\": 11.89, \"Objective Kills\": 5.98, \"Objective Time\": 109, \"Damage\": 3405, \"Deaths\": 7.57, \"Role\": \"Support\", \"Prediction\": 4.853075433431151, \"Support\": \"Support\", \"isSupport_bool\": true, \"isSupport\": 1, \"pred_log\": 0, \"pred_proba1\": 0.9121094459332307, \"pred_proba2\": 0.21288616686795359}, {\"Hero\": \"Lucio\", \"Skill Tier\": \"Gold\", \"KDA\": 3.87, \"Pick Rate\": 1.37, \"Win Rate\": 48.65, \"Eliminations\": 12.42, \"Objective Kills\": 5.97, \"Objective Time\": 105, \"Damage\": 3533, \"Deaths\": 7.49, \"Role\": \"Support\", \"Prediction\": 5.034305905498978, \"Support\": \"Support\", \"isSupport_bool\": true, \"isSupport\": 1, \"pred_log\": 0, \"pred_proba1\": 0.8578854171694285, \"pred_proba2\": 0.214492452138827}, {\"Hero\": \"Lucio\", \"Skill Tier\": \"Platinum\", \"KDA\": 3.96, \"Pick Rate\": 1.95, \"Win Rate\": 50.82, \"Eliminations\": 12.81, \"Objective Kills\": 5.85, \"Objective Time\": 100, \"Damage\": 3638, \"Deaths\": 7.4, \"Role\": \"Support\", \"Prediction\": 5.167664177397945, \"Support\": \"Support\", \"isSupport_bool\": true, \"isSupport\": 1, \"pred_log\": 0, \"pred_proba1\": 0.8020459925492107, \"pred_proba2\": 0.23445249125830692}, {\"Hero\": \"Lucio\", \"Skill Tier\": \"Diamond\", \"KDA\": 3.98, \"Pick Rate\": 2.79, \"Win Rate\": 50.94, \"Eliminations\": 12.95, \"Objective Kills\": 5.68, \"Objective Time\": 95, \"Damage\": 3686, \"Deaths\": 7.46, \"Role\": \"Support\", \"Prediction\": 5.215536377566805, \"Support\": \"Support\", \"isSupport_bool\": true, \"isSupport\": 1, \"pred_log\": 0, \"pred_proba1\": 0.7783378189233021, \"pred_proba2\": 0.264867266682937}, {\"Hero\": \"Lucio\", \"Skill Tier\": \"Master\", \"KDA\": 3.99, \"Pick Rate\": 3.67, \"Win Rate\": 50.99, \"Eliminations\": 13.22, \"Objective Kills\": 5.52, \"Objective Time\": 88, \"Damage\": 3738, \"Deaths\": 7.37, \"Role\": \"Support\", \"Prediction\": 5.30786133503532, \"Support\": \"Support\", \"isSupport_bool\": true, \"isSupport\": 1, \"pred_log\": 0, \"pred_proba1\": 0.7271040765305355, \"pred_proba2\": 0.2956985435147791}, {\"Hero\": \"Lucio\", \"Skill Tier\": \"Grandmaster\", \"KDA\": 4.1, \"Pick Rate\": 6.72, \"Win Rate\": 52.56, \"Eliminations\": 13.02, \"Objective Kills\": 5.15, \"Objective Time\": 82, \"Damage\": 3794, \"Deaths\": 7.11, \"Role\": \"Support\", \"Prediction\": 5.239472477651234, \"Support\": \"Support\", \"isSupport_bool\": true, \"isSupport\": 1, \"pred_log\": 0, \"pred_proba1\": 0.7657458295260172, \"pred_proba2\": 0.3742201053943718}, {\"Hero\": \"D.Va\", \"Skill Tier\": \"Bronze\", \"KDA\": 5.32, \"Pick Rate\": 1.63, \"Win Rate\": 42.58, \"Eliminations\": 18.97, \"Objective Kills\": 6.46, \"Objective Time\": 132, \"Damage\": 7489, \"Deaths\": 6.02, \"Role\": \"Tank\", \"Prediction\": 7.274040984827782, \"Support\": \"Tank\", \"isSupport_bool\": false, \"isSupport\": 0, \"pred_log\": 0, \"pred_proba1\": 0.007403484597042681, \"pred_proba2\": 0.14598010597464747}, {\"Hero\": \"D.Va\", \"Skill Tier\": \"Silver\", \"KDA\": 5.8, \"Pick Rate\": 1.35, \"Win Rate\": 45.33, \"Eliminations\": 20.47, \"Objective Kills\": 6.66, \"Objective Time\": 132, \"Damage\": 8028, \"Deaths\": 5.8, \"Role\": \"Tank\", \"Prediction\": 7.786957415208425, \"Support\": \"Tank\", \"isSupport_bool\": false, \"isSupport\": 0, \"pred_log\": 0, \"pred_proba1\": 0.001606873478740719, \"pred_proba2\": 0.12371839930293017}, {\"Hero\": \"D.Va\", \"Skill Tier\": \"Gold\", \"KDA\": 6.22, \"Pick Rate\": 1.36, \"Win Rate\": 47.31, \"Eliminations\": 21.26, \"Objective Kills\": 6.66, \"Objective Time\": 129, \"Damage\": 8337, \"Deaths\": 5.62, \"Role\": \"Tank\", \"Prediction\": 8.057093401875564, \"Support\": \"Tank\", \"isSupport_bool\": false, \"isSupport\": 0, \"pred_log\": 0, \"pred_proba1\": 0.0007171620638920514, \"pred_proba2\": 0.12371839930293017}, {\"Hero\": \"D.Va\", \"Skill Tier\": \"Platinum\", \"KDA\": 6.35, \"Pick Rate\": 1.82, \"Win Rate\": 48.49, \"Eliminations\": 21.49, \"Objective Kills\": 6.47, \"Objective Time\": 125, \"Damage\": 8585, \"Deaths\": 5.49, \"Role\": \"Tank\", \"Prediction\": 8.13574058786726, \"Support\": \"Tank\", \"isSupport_bool\": false, \"isSupport\": 0, \"pred_log\": 0, \"pred_proba1\": 0.0005669765944396045, \"pred_proba2\": 0.14479231947442842}, {\"Hero\": \"D.Va\", \"Skill Tier\": \"Diamond\", \"KDA\": 6.64, \"Pick Rate\": 2.67, \"Win Rate\": 48.58, \"Eliminations\": 21.55, \"Objective Kills\": 6.15, \"Objective Time\": 119, \"Damage\": 8750, \"Deaths\": 5.33, \"Role\": \"Tank\", \"Prediction\": 8.156257245082488, \"Support\": \"Tank\", \"isSupport_bool\": false, \"isSupport\": 0, \"pred_log\": 0, \"pred_proba1\": 0.0005332617677294781, \"pred_proba2\": 0.1869226522881638}, {\"Hero\": \"D.Va\", \"Skill Tier\": \"Master\", \"KDA\": 6.59, \"Pick Rate\": 3.63, \"Win Rate\": 49.4, \"Eliminations\": 20.88, \"Objective Kills\": 5.74, \"Objective Time\": 114, \"Damage\": 8698, \"Deaths\": 5.26, \"Role\": \"Tank\", \"Prediction\": 7.927154572845801, \"Support\": \"Tank\", \"isSupport_bool\": false, \"isSupport\": 0, \"pred_log\": 0, \"pred_proba1\": 0.0010572683900998516, \"pred_proba2\": 0.2538504265726115}, {\"Hero\": \"D.Va\", \"Skill Tier\": \"Grandmaster\", \"KDA\": 6.47, \"Pick Rate\": 5.53, \"Win Rate\": 50.94, \"Eliminations\": 19.91, \"Objective Kills\": 5.05, \"Objective Time\": 109, \"Damage\": 8554, \"Deaths\": 4.93, \"Role\": \"Tank\", \"Prediction\": 7.595468614532986, \"Support\": \"Tank\", \"isSupport_bool\": false, \"isSupport\": 0, \"pred_log\": 0, \"pred_proba1\": 0.0028449626207216108, \"pred_proba2\": 0.3968621265562188}, {\"Hero\": \"Junkrat\", \"Skill Tier\": \"Bronze\", \"KDA\": 2.38, \"Pick Rate\": 1.74, \"Win Rate\": 43.26, \"Eliminations\": 15.34, \"Objective Kills\": 6.57, \"Objective Time\": 60, \"Damage\": 7670, \"Deaths\": 8.69, \"Role\": \"Damage\", \"Prediction\": 6.0327832233066285, \"Support\": \"Damage\", \"isSupport_bool\": false, \"isSupport\": 0, \"pred_log\": 0, \"pred_proba1\": 0.23373431149061016, \"pred_proba2\": 0.1333518920743928}, {\"Hero\": \"Junkrat\", \"Skill Tier\": \"Silver\", \"KDA\": 2.58, \"Pick Rate\": 1.74, \"Win Rate\": 45.91, \"Eliminations\": 16.0, \"Objective Kills\": 6.61, \"Objective Time\": 58, \"Damage\": 8026, \"Deaths\": 8.49, \"Role\": \"Damage\", \"Prediction\": 6.258466452674111, \"Support\": \"Damage\", \"isSupport_bool\": false, \"isSupport\": 0, \"pred_log\": 0, \"pred_proba1\": 0.13446119560843756, \"pred_proba2\": 0.12899426077000134}, {\"Hero\": \"Junkrat\", \"Skill Tier\": \"Gold\", \"KDA\": 2.67, \"Pick Rate\": 1.74, \"Win Rate\": 46.48, \"Eliminations\": 16.4, \"Objective Kills\": 6.4, \"Objective Time\": 55, \"Damage\": 8201, \"Deaths\": 8.26, \"Role\": \"Damage\", \"Prediction\": 6.395244167442282, \"Support\": \"Damage\", \"isSupport_bool\": false, \"isSupport\": 0, \"pred_log\": 0, \"pred_proba1\": 0.09355291560750745, \"pred_proba2\": 0.15327717292149903}, {\"Hero\": \"Junkrat\", \"Skill Tier\": \"Platinum\", \"KDA\": 2.72, \"Pick Rate\": 1.96, \"Win Rate\": 47.85, \"Eliminations\": 16.57, \"Objective Kills\": 6.15, \"Objective Time\": 50, \"Damage\": 8373, \"Deaths\": 8.17, \"Role\": \"Damage\", \"Prediction\": 6.453374696218755, \"Support\": \"Damage\", \"isSupport_bool\": false, \"isSupport\": 0, \"pred_log\": 0, \"pred_proba1\": 0.0798196323364319, \"pred_proba2\": 0.1869226522881638}, {\"Hero\": \"Junkrat\", \"Skill Tier\": \"Diamond\", \"KDA\": 2.67, \"Pick Rate\": 2.4, \"Win Rate\": 48.25, \"Eliminations\": 16.6, \"Objective Kills\": 5.78, \"Objective Time\": 45, \"Damage\": 8458, \"Deaths\": 8.16, \"Role\": \"Damage\", \"Prediction\": 6.463633024826368, \"Support\": \"Damage\", \"isSupport_bool\": false, \"isSupport\": 0, \"pred_log\": 0, \"pred_proba1\": 0.07759582471509237, \"pred_proba2\": 0.24667595347379767}, {\"Hero\": \"Junkrat\", \"Skill Tier\": \"Master\", \"KDA\": 2.69, \"Pick Rate\": 2.65, \"Win Rate\": 49.54, \"Eliminations\": 16.31, \"Objective Kills\": 5.47, \"Objective Time\": 42, \"Damage\": 8390, \"Deaths\": 8.14, \"Role\": \"Damage\", \"Prediction\": 6.364469181619444, \"Support\": \"Damage\", \"isSupport_bool\": false, \"isSupport\": 0, \"pred_log\": 0, \"pred_proba1\": 0.10165253574688568, \"pred_proba2\": 0.305749410303906}, {\"Hero\": \"Junkrat\", \"Skill Tier\": \"Grandmaster\", \"KDA\": 2.54, \"Pick Rate\": 2.75, \"Win Rate\": 49.32, \"Eliminations\": 15.56, \"Objective Kills\": 4.94, \"Objective Time\": 38, \"Damage\": 8147, \"Deaths\": 8.2, \"Role\": \"Damage\", \"Prediction\": 6.108010966429123, \"Support\": \"Damage\", \"isSupport_bool\": false, \"isSupport\": 0, \"pred_log\": 0, \"pred_proba1\": 0.19587865964742981, \"pred_proba2\": 0.42228519195418823}, {\"Hero\": \"Ashe\", \"Skill Tier\": \"Bronze\", \"KDA\": 2.38, \"Pick Rate\": 1.04, \"Win Rate\": 42.57, \"Eliminations\": 14.24, \"Objective Kills\": 5.96, \"Objective Time\": 55, \"Damage\": 7192, \"Deaths\": 7.72, \"Role\": \"Damage\", \"Prediction\": 5.656644507694157, \"Support\": \"Damage\", \"isSupport_bool\": false, \"isSupport\": 0, \"pred_log\": 0, \"pred_proba1\": 0.48430778019861725, \"pred_proba2\": 0.21610752968482252}, {\"Hero\": \"Ashe\", \"Skill Tier\": \"Silver\", \"KDA\": 2.62, \"Pick Rate\": 1.11, \"Win Rate\": 45.71, \"Eliminations\": 15.4, \"Objective Kills\": 6.16, \"Objective Time\": 54, \"Damage\": 7715, \"Deaths\": 7.47, \"Role\": \"Damage\", \"Prediction\": 6.0532998805218545, \"Support\": \"Damage\", \"isSupport_bool\": false, \"isSupport\": 0, \"pred_log\": 0, \"pred_proba1\": 0.22292815886861791, \"pred_proba2\": 0.18547408070534804}, {\"Hero\": \"Ashe\", \"Skill Tier\": \"Gold\", \"KDA\": 2.7, \"Pick Rate\": 1.62, \"Win Rate\": 48.19, \"Eliminations\": 16.34, \"Objective Kills\": 6.22, \"Objective Time\": 53, \"Damage\": 8215, \"Deaths\": 7.37, \"Role\": \"Damage\", \"Prediction\": 6.374727510227056, \"Support\": \"Damage\", \"isSupport_bool\": false, \"isSupport\": 0, \"pred_log\": 0, \"pred_proba1\": 0.09888582172686484, \"pred_proba2\": 0.17696456938766858}, {\"Hero\": \"Ashe\", \"Skill Tier\": \"Platinum\", \"KDA\": 2.74, \"Pick Rate\": 2.39, \"Win Rate\": 49.36, \"Eliminations\": 17.09, \"Objective Kills\": 6.21, \"Objective Time\": 50, \"Damage\": 8725, \"Deaths\": 7.44, \"Role\": \"Damage\", \"Prediction\": 6.631185725417378, \"Support\": \"Damage\", \"isSupport_bool\": false, \"isSupport\": 0, \"pred_log\": 0, \"pred_proba1\": 0.04850314457655151, \"pred_proba2\": 0.17836123396172704}, {\"Hero\": \"Ashe\", \"Skill Tier\": \"Diamond\", \"KDA\": 2.72, \"Pick Rate\": 4.11, \"Win Rate\": 49.43, \"Eliminations\": 17.56, \"Objective Kills\": 6.06, \"Objective Time\": 48, \"Damage\": 9153, \"Deaths\": 7.55, \"Role\": \"Damage\", \"Prediction\": 6.791899540269979, \"Support\": \"Damage\", \"isSupport_bool\": false, \"isSupport\": 0, \"pred_log\": 0, \"pred_proba1\": 0.030563775801732408, \"pred_proba2\": 0.2003523820236655}, {\"Hero\": \"Ashe\", \"Skill Tier\": \"Master\", \"KDA\": 2.68, \"Pick Rate\": 5.05, \"Win Rate\": 51.28, \"Eliminations\": 17.66, \"Objective Kills\": 5.71, \"Objective Time\": 44, \"Damage\": 9438, \"Deaths\": 7.65, \"Role\": \"Damage\", \"Prediction\": 6.826093968962022, \"Support\": \"Damage\", \"isSupport_bool\": false, \"isSupport\": 0, \"pred_log\": 0, \"pred_proba1\": 0.027675786641021258, \"pred_proba2\": 0.2593208273037546}, {\"Hero\": \"Ashe\", \"Skill Tier\": \"Grandmaster\", \"KDA\": 2.69, \"Pick Rate\": 4.95, \"Win Rate\": 51.18, \"Eliminations\": 17.76, \"Objective Kills\": 5.29, \"Objective Time\": 41, \"Damage\": 9893, \"Deaths\": 7.76, \"Role\": \"Damage\", \"Prediction\": 6.860288397654065, \"Support\": \"Damage\", \"isSupport_bool\": false, \"isSupport\": 0, \"pred_log\": 0, \"pred_proba1\": 0.02505363289759617, \"pred_proba2\": 0.34344233362089677}, {\"Hero\": \"Tracer\", \"Skill Tier\": \"Bronze\", \"KDA\": 2.24, \"Pick Rate\": 0.64, \"Win Rate\": 39.43, \"Eliminations\": 14.98, \"Objective Kills\": 5.98, \"Objective Time\": 65, \"Damage\": 5758, \"Deaths\": 8.62, \"Role\": \"Damage\", \"Prediction\": 5.909683280015274, \"Support\": \"Damage\", \"isSupport_bool\": false, \"isSupport\": 0, \"pred_log\": 0, \"pred_proba1\": 0.3059105884250902, \"pred_proba2\": 0.21288616686795359}, {\"Hero\": \"Tracer\", \"Skill Tier\": \"Silver\", \"KDA\": 2.42, \"Pick Rate\": 0.67, \"Win Rate\": 44.77, \"Eliminations\": 16.33, \"Objective Kills\": 6.28, \"Objective Time\": 67, \"Damage\": 6126, \"Deaths\": 8.51, \"Role\": \"Damage\", \"Prediction\": 6.371308067357852, \"Support\": \"Damage\", \"isSupport_bool\": false, \"isSupport\": 0, \"pred_log\": 0, \"pred_proba1\": 0.09980052957270993, \"pred_proba2\": 0.16876458122581128}, {\"Hero\": \"Tracer\", \"Skill Tier\": \"Gold\", \"KDA\": 2.47, \"Pick Rate\": 0.86, \"Win Rate\": 45.57, \"Eliminations\": 17.11, \"Objective Kills\": 6.35, \"Objective Time\": 63, \"Damage\": 6338, \"Deaths\": 8.39, \"Role\": \"Damage\", \"Prediction\": 6.638024611155786, \"Support\": \"Damage\", \"isSupport_bool\": false, \"isSupport\": 0, \"pred_log\": 0, \"pred_proba1\": 0.04756819272313793, \"pred_proba2\": 0.15958398478342636}, {\"Hero\": \"Tracer\", \"Skill Tier\": \"Platinum\", \"KDA\": 2.45, \"Pick Rate\": 1.54, \"Win Rate\": 46.75, \"Eliminations\": 17.62, \"Objective Kills\": 6.36, \"Objective Time\": 62, \"Damage\": 6556, \"Deaths\": 8.44, \"Role\": \"Damage\", \"Prediction\": 6.812416197485205, \"Support\": \"Damage\", \"isSupport_bool\": false, \"isSupport\": 0, \"pred_log\": 0, \"pred_proba1\": 0.02879772109176545, \"pred_proba2\": 0.1583060266081563}, {\"Hero\": \"Tracer\", \"Skill Tier\": \"Diamond\", \"KDA\": 2.48, \"Pick Rate\": 3.14, \"Win Rate\": 48.5, \"Eliminations\": 17.97, \"Objective Kills\": 6.33, \"Objective Time\": 59, \"Damage\": 6683, \"Deaths\": 8.44, \"Role\": \"Damage\", \"Prediction\": 6.932096697907355, \"Support\": \"Damage\", \"isSupport_bool\": false, \"isSupport\": 0, \"pred_log\": 0, \"pred_proba1\": 0.020311423526476732, \"pred_proba2\": 0.16216495820240795}, {\"Hero\": \"Tracer\", \"Skill Tier\": \"Master\", \"KDA\": 2.45, \"Pick Rate\": 4.85, \"Win Rate\": 49.24, \"Eliminations\": 18.16, \"Objective Kills\": 6.17, \"Objective Time\": 57, \"Damage\": 6803, \"Deaths\": 8.3, \"Role\": \"Damage\", \"Prediction\": 6.997066112422236, \"Support\": \"Damage\", \"isSupport_bool\": false, \"isSupport\": 0, \"pred_log\": 0, \"pred_proba1\": 0.016785820040556104, \"pred_proba2\": 0.18403419405740148}, {\"Hero\": \"Tracer\", \"Skill Tier\": \"Grandmaster\", \"KDA\": 2.64, \"Pick Rate\": 11.98, \"Win Rate\": 52.55, \"Eliminations\": 18.28, \"Objective Kills\": 5.74, \"Objective Time\": 53, \"Damage\": 7071, \"Deaths\": 7.71, \"Role\": \"Damage\", \"Prediction\": 7.038099426852688, \"Support\": \"Damage\", \"isSupport_bool\": false, \"isSupport\": 0, \"pred_log\": 0, \"pred_proba1\": 0.014876691524171181, \"pred_proba2\": 0.2538504265726115}, {\"Hero\": \"Roadhog\", \"Skill Tier\": \"Bronze\", \"KDA\": 3.07, \"Pick Rate\": 0.35, \"Win Rate\": 34.1, \"Eliminations\": 14.52, \"Objective Kills\": 7.24, \"Objective Time\": 117, \"Damage\": 6745, \"Deaths\": 7.3, \"Role\": \"Tank\", \"Prediction\": 5.752388908031877, \"Support\": \"Tank\", \"isSupport_bool\": false, \"isSupport\": 0, \"pred_log\": 0, \"pred_proba1\": 0.4136153072612821, \"pred_proba2\": 0.07501107321370237}, {\"Hero\": \"Roadhog\", \"Skill Tier\": \"Silver\", \"KDA\": 3.3, \"Pick Rate\": 0.37, \"Win Rate\": 35.67, \"Eliminations\": 15.53, \"Objective Kills\": 7.61, \"Objective Time\": 119, \"Damage\": 7125, \"Deaths\": 7.09, \"Role\": \"Tank\", \"Prediction\": 6.097752637821509, \"Support\": \"Tank\", \"isSupport_bool\": false, \"isSupport\": 0, \"pred_log\": 0, \"pred_proba1\": 0.20075454177708857, \"pred_proba2\": 0.053867391316854876}, {\"Hero\": \"Roadhog\", \"Skill Tier\": \"Gold\", \"KDA\": 3.68, \"Pick Rate\": 0.46, \"Win Rate\": 38.83, \"Eliminations\": 16.66, \"Objective Kills\": 7.93, \"Objective Time\": 116, \"Damage\": 7700, \"Deaths\": 6.89, \"Role\": \"Tank\", \"Prediction\": 6.484149682041593, \"Support\": \"Tank\", \"isSupport_bool\": false, \"isSupport\": 0, \"pred_log\": 0, \"pred_proba1\": 0.07331766797949432, \"pred_proba2\": 0.04024199797449412}, {\"Hero\": \"Roadhog\", \"Skill Tier\": \"Platinum\", \"KDA\": 3.69, \"Pick Rate\": 0.7, \"Win Rate\": 39.09, \"Eliminations\": 17.32, \"Objective Kills\": 7.94, \"Objective Time\": 116, \"Damage\": 8138, \"Deaths\": 6.79, \"Role\": \"Tank\", \"Prediction\": 6.709832911409077, \"Support\": \"Tank\", \"isSupport_bool\": false, \"isSupport\": 0, \"pred_log\": 0, \"pred_proba1\": 0.03873368517736745, \"pred_proba2\": 0.039874393570987585}, {\"Hero\": \"Roadhog\", \"Skill Tier\": \"Diamond\", \"KDA\": 3.83, \"Pick Rate\": 1.22, \"Win Rate\": 40.9, \"Eliminations\": 17.89, \"Objective Kills\": 7.86, \"Objective Time\": 111, \"Damage\": 8445, \"Deaths\": 6.7, \"Role\": \"Tank\", \"Prediction\": 6.9047411549537205, \"Support\": \"Tank\", \"isSupport_bool\": false, \"isSupport\": 0, \"pred_log\": 0, \"pred_proba1\": 0.022004340477686003, \"pred_proba2\": 0.04290757334272012}, {\"Hero\": \"Roadhog\", \"Skill Tier\": \"Master\", \"KDA\": 3.81, \"Pick Rate\": 1.38, \"Win Rate\": 41.03, \"Eliminations\": 17.86, \"Objective Kills\": 7.62, \"Objective Time\": 107, \"Damage\": 8470, \"Deaths\": 6.63, \"Role\": \"Tank\", \"Prediction\": 6.894482826346107, \"Support\": \"Tank\", \"isSupport_bool\": false, \"isSupport\": 0, \"pred_log\": 0, \"pred_proba1\": 0.022674122755379562, \"pred_proba2\": 0.05338224391671841}, {\"Hero\": \"Roadhog\", \"Skill Tier\": \"Grandmaster\", \"KDA\": 3.78, \"Pick Rate\": 1.68, \"Win Rate\": 42.66, \"Eliminations\": 17.12, \"Objective Kills\": 7.21, \"Objective Time\": 106, \"Damage\": 8218, \"Deaths\": 6.5, \"Role\": \"Tank\", \"Prediction\": 6.641444054024991, \"Support\": \"Tank\", \"isSupport_bool\": false, \"isSupport\": 0, \"pred_log\": 0, \"pred_proba1\": 0.04710716138204037, \"pred_proba2\": 0.07702538293106931}, {\"Hero\": \"Zarya\", \"Skill Tier\": \"Bronze\", \"KDA\": 3.97, \"Pick Rate\": 0.72, \"Win Rate\": 39.27, \"Eliminations\": 17.34, \"Objective Kills\": 8.65, \"Objective Time\": 133, \"Damage\": 8415, \"Deaths\": 6.74, \"Role\": \"Tank\", \"Prediction\": 6.716671797147485, \"Support\": \"Tank\", \"isSupport_bool\": false, \"isSupport\": 0, \"pred_log\": 0, \"pred_proba1\": 0.03797953369303125, \"pred_proba2\": 0.0206318166054981}, {\"Hero\": \"Zarya\", \"Skill Tier\": \"Silver\", \"KDA\": 4.34, \"Pick Rate\": 0.99, \"Win Rate\": 42.98, \"Eliminations\": 18.62, \"Objective Kills\": 9.06, \"Objective Time\": 132, \"Damage\": 8995, \"Deaths\": 6.56, \"Role\": \"Tank\", \"Prediction\": 7.154360484405633, \"Support\": \"Tank\", \"isSupport_bool\": false, \"isSupport\": 0, \"pred_log\": 0, \"pred_proba1\": 0.01055483075579242, \"pred_proba2\": 0.014035593612905817}, {\"Hero\": \"Zarya\", \"Skill Tier\": \"Gold\", \"KDA\": 4.65, \"Pick Rate\": 1.36, \"Win Rate\": 45.51, \"Eliminations\": 19.52, \"Objective Kills\": 9.12, \"Objective Time\": 128, \"Damage\": 9476, \"Deaths\": 6.37, \"Role\": \"Tank\", \"Prediction\": 7.462110342634018, \"Support\": \"Tank\", \"isSupport_bool\": false, \"isSupport\": 0, \"pred_log\": 0, \"pred_proba1\": 0.004232796227759084, \"pred_proba2\": 0.013263562482593026}, {\"Hero\": \"Zarya\", \"Skill Tier\": \"Platinum\", \"KDA\": 4.79, \"Pick Rate\": 1.81, \"Win Rate\": 46.18, \"Eliminations\": 20.13, \"Objective Kills\": 9.21, \"Objective Time\": 127, \"Damage\": 9922, \"Deaths\": 6.25, \"Role\": \"Tank\", \"Prediction\": 7.670696357655479, \"Support\": \"Tank\", \"isSupport_bool\": false, \"isSupport\": 0, \"pred_log\": 0, \"pred_proba1\": 0.0022732538565315326, \"pred_proba2\": 0.012183429082107433}, {\"Hero\": \"Zarya\", \"Skill Tier\": \"Diamond\", \"KDA\": 4.83, \"Pick Rate\": 2.54, \"Win Rate\": 45.86, \"Eliminations\": 20.31, \"Objective Kills\": 9.07, \"Objective Time\": 123, \"Damage\": 10191, \"Deaths\": 6.2, \"Role\": \"Tank\", \"Prediction\": 7.732246329301156, \"Support\": \"Tank\", \"isSupport_bool\": false, \"isSupport\": 0, \"pred_log\": 0, \"pred_proba1\": 0.0018918901090477019, \"pred_proba2\": 0.01390391260603957}, {\"Hero\": \"Zarya\", \"Skill Tier\": \"Master\", \"KDA\": 4.86, \"Pick Rate\": 2.69, \"Win Rate\": 47.08, \"Eliminations\": 20.19, \"Objective Kills\": 8.87, \"Objective Time\": 117, \"Damage\": 10345, \"Deaths\": 6.13, \"Role\": \"Tank\", \"Prediction\": 7.691213014870706, \"Support\": \"Tank\", \"isSupport_bool\": false, \"isSupport\": 0, \"pred_log\": 0, \"pred_proba1\": 0.0021382936456032166, \"pred_proba2\": 0.016784241202596924}, {\"Hero\": \"Zarya\", \"Skill Tier\": \"Grandmaster\", \"KDA\": 4.91, \"Pick Rate\": 3.15, \"Win Rate\": 48.78, \"Eliminations\": 19.68, \"Objective Kills\": 8.42, \"Objective Time\": 111, \"Damage\": 10283, \"Deaths\": 5.98, \"Role\": \"Tank\", \"Prediction\": 7.516821428541287, \"Support\": \"Tank\", \"isSupport_bool\": false, \"isSupport\": 0, \"pred_log\": 0, \"pred_proba1\": 0.0035963886143681673, \"pred_proba2\": 0.02557583801807491}, {\"Hero\": \"Reaper\", \"Skill Tier\": \"Bronze\", \"KDA\": 2.66, \"Pick Rate\": 1.19, \"Win Rate\": 44.71, \"Eliminations\": 17.9, \"Objective Kills\": 7.51, \"Objective Time\": 80, \"Damage\": 7272, \"Deaths\": 8.28, \"Role\": \"Damage\", \"Prediction\": 6.908160597822924, \"Support\": \"Damage\", \"isSupport_bool\": false, \"isSupport\": 0, \"pred_log\": 0, \"pred_proba1\": 0.021785406973130875, \"pred_proba2\": 0.05895260160877807}, {\"Hero\": \"Reaper\", \"Skill Tier\": \"Silver\", \"KDA\": 2.68, \"Pick Rate\": 1.34, \"Win Rate\": 45.45, \"Eliminations\": 18.82, \"Objective Kills\": 7.63, \"Objective Time\": 78, \"Damage\": 7567, \"Deaths\": 8.21, \"Role\": \"Damage\", \"Prediction\": 7.222749341789719, \"Support\": \"Damage\", \"isSupport_bool\": false, \"isSupport\": 0, \"pred_log\": 0, \"pred_proba1\": 0.008619894755428324, \"pred_proba2\": 0.05290122160666561}, {\"Hero\": \"Reaper\", \"Skill Tier\": \"Gold\", \"KDA\": 2.84, \"Pick Rate\": 1.59, \"Win Rate\": 47.73, \"Eliminations\": 19.47, \"Objective Kills\": 7.74, \"Objective Time\": 77, \"Damage\": 7958, \"Deaths\": 8.11, \"Role\": \"Damage\", \"Prediction\": 7.4450131282879966, \"Support\": \"Damage\", \"isSupport_bool\": false, \"isSupport\": 0, \"pred_log\": 0, \"pred_proba1\": 0.004453796891062376, \"pred_proba2\": 0.047873562922786786}, {\"Hero\": \"Reaper\", \"Skill Tier\": \"Platinum\", \"KDA\": 2.82, \"Pick Rate\": 2.34, \"Win Rate\": 48.97, \"Eliminations\": 19.97, \"Objective Kills\": 7.72, \"Objective Time\": 74, \"Damage\": 8317, \"Deaths\": 8.07, \"Role\": \"Damage\", \"Prediction\": 7.615985271748211, \"Support\": \"Damage\", \"isSupport_bool\": false, \"isSupport\": 0, \"pred_log\": 0, \"pred_proba1\": 0.0026761518222890757, \"pred_proba2\": 0.0487526358859832}, {\"Hero\": \"Reaper\", \"Skill Tier\": \"Diamond\", \"KDA\": 2.89, \"Pick Rate\": 3.16, \"Win Rate\": 49.51, \"Eliminations\": 20.25, \"Objective Kills\": 7.66, \"Objective Time\": 72, \"Damage\": 8576, \"Deaths\": 8.02, \"Role\": \"Damage\", \"Prediction\": 7.711729672085931, \"Support\": \"Damage\", \"isSupport_bool\": false, \"isSupport\": 0, \"pred_log\": 0, \"pred_proba1\": 0.0020113296996465088, \"pred_proba2\": 0.05148259908083346}, {\"Hero\": \"Reaper\", \"Skill Tier\": \"Master\", \"KDA\": 2.85, \"Pick Rate\": 3.18, \"Win Rate\": 49.5, \"Eliminations\": 20.16, \"Objective Kills\": 7.53, \"Objective Time\": 71, \"Damage\": 8650, \"Deaths\": 8.01, \"Role\": \"Damage\", \"Prediction\": 7.680954686263092, \"Support\": \"Damage\", \"isSupport_bool\": false, \"isSupport\": 0, \"pred_log\": 0, \"pred_proba1\": 0.0022047435985949266, \"pred_proba2\": 0.05790080490424791}, {\"Hero\": \"Reaper\", \"Skill Tier\": \"Grandmaster\", \"KDA\": 2.8, \"Pick Rate\": 2.53, \"Win Rate\": 49.08, \"Eliminations\": 19.37, \"Objective Kills\": 7.11, \"Objective Time\": 70, \"Damage\": 8578, \"Deaths\": 7.94, \"Role\": \"Damage\", \"Prediction\": 7.410818699595954, \"Support\": \"Damage\", \"isSupport_bool\": false, \"isSupport\": 0, \"pred_log\": 0, \"pred_proba1\": 0.004930842622803161, \"pred_proba2\": 0.08410243264523742}, {\"Hero\": \"Baptiste\", \"Skill Tier\": \"Bronze\", \"KDA\": 3.88, \"Pick Rate\": 1.6, \"Win Rate\": 42.36, \"Eliminations\": 9.23, \"Objective Kills\": 4.33, \"Objective Time\": 66, \"Damage\": 3148, \"Deaths\": 7.01, \"Role\": \"Support\", \"Prediction\": 3.9435036302228115, \"Support\": \"Support\", \"isSupport_bool\": true, \"isSupport\": 1, \"pred_log\": 1, \"pred_proba1\": 0.9936884640902628, \"pred_proba2\": 0.5670306438654489}, {\"Hero\": \"Baptiste\", \"Skill Tier\": \"Silver\", \"KDA\": 4.08, \"Pick Rate\": 1.3, \"Win Rate\": 42.84, \"Eliminations\": 10.04, \"Objective Kills\": 4.77, \"Objective Time\": 69, \"Damage\": 3344, \"Deaths\": 6.88, \"Role\": \"Support\", \"Prediction\": 4.220478502628358, \"Support\": \"Support\", \"isSupport_bool\": true, \"isSupport\": 1, \"pred_log\": 0, \"pred_proba1\": 0.9856699624016997, \"pred_proba2\": 0.4623505526953555}, {\"Hero\": \"Baptiste\", \"Skill Tier\": \"Gold\", \"KDA\": 4.33, \"Pick Rate\": 1.79, \"Win Rate\": 46.63, \"Eliminations\": 10.32, \"Objective Kills\": 4.78, \"Objective Time\": 65, \"Damage\": 3398, \"Deaths\": 6.64, \"Role\": \"Support\", \"Prediction\": 4.316222902966079, \"Support\": \"Support\", \"isSupport_bool\": true, \"isSupport\": 1, \"pred_log\": 0, \"pred_proba1\": 0.9810108078820832, \"pred_proba2\": 0.4599750346343987}, {\"Hero\": \"Baptiste\", \"Skill Tier\": \"Platinum\", \"KDA\": 4.52, \"Pick Rate\": 2.49, \"Win Rate\": 47.17, \"Eliminations\": 10.78, \"Objective Kills\": 4.75, \"Objective Time\": 61, \"Damage\": 3585, \"Deaths\": 6.39, \"Role\": \"Support\", \"Prediction\": 4.473517274949475, \"Support\": \"Support\", \"isSupport_bool\": true, \"isSupport\": 1, \"pred_log\": 0, \"pred_proba1\": 0.9699518485596799, \"pred_proba2\": 0.46710661371220796}, {\"Hero\": \"Baptiste\", \"Skill Tier\": \"Diamond\", \"KDA\": 4.7, \"Pick Rate\": 4.25, \"Win Rate\": 49.71, \"Eliminations\": 11.23, \"Objective Kills\": 4.75, \"Objective Time\": 58, \"Damage\": 3769, \"Deaths\": 6.2, \"Role\": \"Support\", \"Prediction\": 4.627392204063668, \"Support\": \"Support\", \"isSupport_bool\": true, \"isSupport\": 1, \"pred_log\": 0, \"pred_proba1\": 0.9532204608130606, \"pred_proba2\": 0.46710661371220796}, {\"Hero\": \"Baptiste\", \"Skill Tier\": \"Master\", \"KDA\": 4.72, \"Pick Rate\": 4.66, \"Win Rate\": 49.75, \"Eliminations\": 11.49, \"Objective Kills\": 4.65, \"Objective Time\": 54, \"Damage\": 3932, \"Deaths\": 6.15, \"Role\": \"Support\", \"Prediction\": 4.716297718662979, \"Support\": \"Support\", \"isSupport_bool\": true, \"isSupport\": 1, \"pred_log\": 0, \"pred_proba1\": 0.9398340381461231, \"pred_proba2\": 0.490959441777987}, {\"Hero\": \"Baptiste\", \"Skill Tier\": \"Grandmaster\", \"KDA\": 4.84, \"Pick Rate\": 7.61, \"Win Rate\": 53.08, \"Eliminations\": 11.74, \"Objective Kills\": 4.46, \"Objective Time\": 52, \"Damage\": 4231, \"Deaths\": 6.01, \"Role\": \"Support\", \"Prediction\": 4.8017837903930864, \"Support\": \"Support\", \"isSupport_bool\": true, \"isSupport\": 1, \"pred_log\": 1, \"pred_proba1\": 0.9236507617113157, \"pred_proba2\": 0.5363033567464632}, {\"Hero\": \"Orisa\", \"Skill Tier\": \"Bronze\", \"KDA\": 3.19, \"Pick Rate\": 1.31, \"Win Rate\": 37.88, \"Eliminations\": 15.49, \"Objective Kills\": 7.81, \"Objective Time\": 130, \"Damage\": 8149, \"Deaths\": 7.57, \"Role\": \"Tank\", \"Prediction\": 6.084074866344692, \"Support\": \"Tank\", \"isSupport_bool\": false, \"isSupport\": 0, \"pred_log\": 0, \"pred_proba1\": 0.20739624282140892, \"pred_proba2\": 0.04491395951153843}, {\"Hero\": \"Orisa\", \"Skill Tier\": \"Silver\", \"KDA\": 3.58, \"Pick Rate\": 1.54, \"Win Rate\": 41.51, \"Eliminations\": 16.9, \"Objective Kills\": 8.24, \"Objective Time\": 133, \"Damage\": 8744, \"Deaths\": 7.31, \"Role\": \"Tank\", \"Prediction\": 6.566216310902496, \"Support\": \"Tank\", \"isSupport_bool\": false, \"isSupport\": 0, \"pred_log\": 0, \"pred_proba1\": 0.058295505209873734, \"pred_proba2\": 0.03023297061717848}, {\"Hero\": \"Orisa\", \"Skill Tier\": \"Gold\", \"KDA\": 3.66, \"Pick Rate\": 1.73, \"Win Rate\": 43.92, \"Eliminations\": 17.57, \"Objective Kills\": 8.17, \"Objective Time\": 129, \"Damage\": 9154, \"Deaths\": 7.15, \"Role\": \"Tank\", \"Prediction\": 6.795318983139183, \"Support\": \"Tank\", \"isSupport_bool\": false, \"isSupport\": 0, \"pred_log\": 0, \"pred_proba1\": 0.03026231488614323, \"pred_proba2\": 0.03225784475477838}, {\"Hero\": \"Orisa\", \"Skill Tier\": \"Platinum\", \"KDA\": 3.79, \"Pick Rate\": 2.24, \"Win Rate\": 44.59, \"Eliminations\": 18.26, \"Objective Kills\": 8.17, \"Objective Time\": 125, \"Damage\": 9497, \"Deaths\": 7.01, \"Role\": \"Tank\", \"Prediction\": 7.031260541114279, \"Support\": \"Tank\", \"isSupport_bool\": false, \"isSupport\": 0, \"pred_log\": 0, \"pred_proba1\": 0.015179333211580652, \"pred_proba2\": 0.03225784475477838}, {\"Hero\": \"Orisa\", \"Skill Tier\": \"Diamond\", \"KDA\": 3.92, \"Pick Rate\": 2.75, \"Win Rate\": 44.05, \"Eliminations\": 18.52, \"Objective Kills\": 7.99, \"Objective Time\": 121, \"Damage\": 9694, \"Deaths\": 6.92, \"Role\": \"Tank\", \"Prediction\": 7.12016605571359, \"Support\": \"Tank\", \"isSupport_bool\": false, \"isSupport\": 0, \"pred_log\": 0, \"pred_proba1\": 0.011677692312826527, \"pred_proba2\": 0.03808415680728329}, {\"Hero\": \"Orisa\", \"Skill Tier\": \"Master\", \"KDA\": 3.83, \"Pick Rate\": 2.72, \"Win Rate\": 43.59, \"Eliminations\": 18.36, \"Objective Kills\": 7.79, \"Objective Time\": 119, \"Damage\": 9586, \"Deaths\": 6.91, \"Role\": \"Tank\", \"Prediction\": 7.065454969806321, \"Support\": \"Tank\", \"isSupport_bool\": false, \"isSupport\": 0, \"pred_log\": 0, \"pred_proba1\": 0.013724449054572596, \"pred_proba2\": 0.04574129790468997}, {\"Hero\": \"Orisa\", \"Skill Tier\": \"Grandmaster\", \"KDA\": 3.83, \"Pick Rate\": 2.58, \"Win Rate\": 43.89, \"Eliminations\": 17.89, \"Objective Kills\": 7.53, \"Objective Time\": 117, \"Damage\": 9299, \"Deaths\": 6.86, \"Role\": \"Tank\", \"Prediction\": 6.9047411549537205, \"Support\": \"Tank\", \"isSupport_bool\": false, \"isSupport\": 0, \"pred_log\": 0, \"pred_proba1\": 0.022004340477686003, \"pred_proba2\": 0.05790080490424791}, {\"Hero\": \"Pharah\", \"Skill Tier\": \"Bronze\", \"KDA\": 2.85, \"Pick Rate\": 0.94, \"Win Rate\": 45.59, \"Eliminations\": 17.93, \"Objective Kills\": 6.54, \"Objective Time\": 42, \"Damage\": 8056, \"Deaths\": 8.24, \"Role\": \"Damage\", \"Prediction\": 6.918418926430538, \"Support\": \"Damage\", \"isSupport_bool\": false, \"isSupport\": 0, \"pred_log\": 0, \"pred_proba1\": 0.02114130903385141, \"pred_proba2\": 0.1367013256329639}, {\"Hero\": \"Pharah\", \"Skill Tier\": \"Silver\", \"KDA\": 3.11, \"Pick Rate\": 1.07, \"Win Rate\": 49.07, \"Eliminations\": 19.49, \"Objective Kills\": 6.77, \"Objective Time\": 42, \"Damage\": 8495, \"Deaths\": 8.33, \"Role\": \"Damage\", \"Prediction\": 7.4518520140264055, \"Support\": \"Damage\", \"isSupport_bool\": false, \"isSupport\": 0, \"pred_log\": 0, \"pred_proba1\": 0.0043640506149055505, \"pred_proba2\": 0.11276169253846884}, {\"Hero\": \"Pharah\", \"Skill Tier\": \"Gold\", \"KDA\": 3.13, \"Pick Rate\": 1.2, \"Win Rate\": 49.56, \"Eliminations\": 20.24, \"Objective Kills\": 6.76, \"Objective Time\": 41, \"Damage\": 8771, \"Deaths\": 8.32, \"Role\": \"Damage\", \"Prediction\": 7.7083102292167265, \"Support\": \"Damage\", \"isSupport_bool\": false, \"isSupport\": 0, \"pred_log\": 0, \"pred_proba1\": 0.002031955439034128, \"pred_proba2\": 0.11372166017896539}, {\"Hero\": \"Pharah\", \"Skill Tier\": \"Platinum\", \"KDA\": 3.12, \"Pick Rate\": 1.65, \"Win Rate\": 50.63, \"Eliminations\": 20.91, \"Objective Kills\": 6.62, \"Objective Time\": 39, \"Damage\": 9121, \"Deaths\": 8.45, \"Role\": \"Damage\", \"Prediction\": 7.937412901453414, \"Support\": \"Damage\", \"isSupport_bool\": false, \"isSupport\": 0, \"pred_log\": 0, \"pred_proba1\": 0.0010253672694694792, \"pred_proba2\": 0.12792397968403443}, {\"Hero\": \"Pharah\", \"Skill Tier\": \"Diamond\", \"KDA\": 3.08, \"Pick Rate\": 2.35, \"Win Rate\": 51.0, \"Eliminations\": 21.42, \"Objective Kills\": 6.47, \"Objective Time\": 38, \"Damage\": 9433, \"Deaths\": 8.56, \"Role\": \"Damage\", \"Prediction\": 8.111804487782834, \"Support\": \"Damage\", \"isSupport_bool\": false, \"isSupport\": 0, \"pred_log\": 0, \"pred_proba1\": 0.0006090123314854952, \"pred_proba2\": 0.14479231947442842}, {\"Hero\": \"Pharah\", \"Skill Tier\": \"Master\", \"KDA\": 3.01, \"Pick Rate\": 3.14, \"Win Rate\": 52.68, \"Eliminations\": 21.35, \"Objective Kills\": 6.13, \"Objective Time\": 35, \"Damage\": 9577, \"Deaths\": 8.56, \"Role\": \"Damage\", \"Prediction\": 8.087868387698403, \"Support\": \"Damage\", \"isSupport_bool\": false, \"isSupport\": 0, \"pred_log\": 0, \"pred_proba1\": 0.0006541625650436342, \"pred_proba2\": 0.18984589769803403}, {\"Hero\": \"Pharah\", \"Skill Tier\": \"Grandmaster\", \"KDA\": 3.0, \"Pick Rate\": 3.03, \"Win Rate\": 53.11, \"Eliminations\": 21.08, \"Objective Kills\": 5.87, \"Objective Time\": 32, \"Damage\": 9720, \"Deaths\": 8.47, \"Role\": \"Damage\", \"Prediction\": 7.995543430229886, \"Support\": \"Damage\", \"isSupport_bool\": false, \"isSupport\": 0, \"pred_log\": 0, \"pred_proba1\": 0.0008619307725566668, \"pred_proba2\": 0.23103826910408365}, {\"Hero\": \"Sigma\", \"Skill Tier\": \"Bronze\", \"KDA\": 4.06, \"Pick Rate\": 1.26, \"Win Rate\": 44.52, \"Eliminations\": 16.21, \"Objective Kills\": 8.55, \"Objective Time\": 138, \"Damage\": 8706, \"Deaths\": 5.56, \"Role\": \"Tank\", \"Prediction\": 6.3302747529274015, \"Support\": \"Tank\", \"isSupport_bool\": false, \"isSupport\": 0, \"pred_log\": 0, \"pred_proba1\": 0.11137581340764625, \"pred_proba2\": 0.022654635497295822}, {\"Hero\": \"Sigma\", \"Skill Tier\": \"Silver\", \"KDA\": 4.6, \"Pick Rate\": 1.35, \"Win Rate\": 46.84, \"Eliminations\": 17.59, \"Objective Kills\": 8.9, \"Objective Time\": 138, \"Damage\": 9286, \"Deaths\": 5.41, \"Role\": \"Tank\", \"Prediction\": 6.802157868877591, \"Support\": \"Tank\", \"isSupport_bool\": false, \"isSupport\": 0, \"pred_log\": 0, \"pred_proba1\": 0.02966801184183561, \"pred_proba2\": 0.01631746089855829}, {\"Hero\": \"Sigma\", \"Skill Tier\": \"Gold\", \"KDA\": 4.88, \"Pick Rate\": 1.52, \"Win Rate\": 48.93, \"Eliminations\": 18.4, \"Objective Kills\": 8.88, \"Objective Time\": 135, \"Damage\": 9669, \"Deaths\": 5.21, \"Role\": \"Tank\", \"Prediction\": 7.079132741283138, \"Support\": \"Tank\", \"isSupport_bool\": false, \"isSupport\": 0, \"pred_log\": 0, \"pred_proba1\": 0.013181785896328506, \"pred_proba2\": 0.016627207446699984}, {\"Hero\": \"Sigma\", \"Skill Tier\": \"Platinum\", \"KDA\": 5.01, \"Pick Rate\": 2.12, \"Win Rate\": 50.52, \"Eliminations\": 18.88, \"Objective Kills\": 8.64, \"Objective Time\": 131, \"Damage\": 10066, \"Deaths\": 5.08, \"Role\": \"Tank\", \"Prediction\": 7.243265999004944, \"Support\": \"Tank\", \"isSupport_bool\": false, \"isSupport\": 0, \"pred_log\": 0, \"pred_proba1\": 0.008111205689807536, \"pred_proba2\": 0.020825870459094346}, {\"Hero\": \"Sigma\", \"Skill Tier\": \"Diamond\", \"KDA\": 5.09, \"Pick Rate\": 3.09, \"Win Rate\": 50.86, \"Eliminations\": 19.16, \"Objective Kills\": 8.3, \"Objective Time\": 126, \"Damage\": 10337, \"Deaths\": 5.04, \"Role\": \"Tank\", \"Prediction\": 7.339010399342665, \"Support\": \"Tank\", \"isSupport_bool\": false, \"isSupport\": 0, \"pred_log\": 0, \"pred_proba1\": 0.006104446474467651, \"pred_proba2\": 0.02859583882211902}, {\"Hero\": \"Sigma\", \"Skill Tier\": \"Master\", \"KDA\": 4.91, \"Pick Rate\": 3.91, \"Win Rate\": 51.89, \"Eliminations\": 18.95, \"Objective Kills\": 7.79, \"Objective Time\": 123, \"Damage\": 10391, \"Deaths\": 5.03, \"Role\": \"Tank\", \"Prediction\": 7.267202099089374, \"Support\": \"Tank\", \"isSupport_bool\": false, \"isSupport\": 0, \"pred_log\": 0, \"pred_proba1\": 0.007555262220600301, \"pred_proba2\": 0.04574129790468997}, {\"Hero\": \"Sigma\", \"Skill Tier\": \"Grandmaster\", \"KDA\": 4.66, \"Pick Rate\": 5.83, \"Win Rate\": 53.24, \"Eliminations\": 18.22, \"Objective Kills\": 7.01, \"Objective Time\": 118, \"Damage\": 10365, \"Deaths\": 4.98, \"Role\": \"Tank\", \"Prediction\": 7.017582769637461, \"Support\": \"Tank\", \"isSupport_bool\": false, \"isSupport\": 0, \"pred_log\": 0, \"pred_proba1\": 0.015802913798945092, \"pred_proba2\": 0.09176506931283036}, {\"Hero\": \"Doomfist\", \"Skill Tier\": \"Bronze\", \"KDA\": 3.16, \"Pick Rate\": 0.28, \"Win Rate\": 42.13, \"Eliminations\": 15.51, \"Objective Kills\": 5.84, \"Objective Time\": 95, \"Damage\": 6846, \"Deaths\": 8.29, \"Role\": \"Tank\", \"Prediction\": 6.090913752083101, \"Support\": \"Tank\", \"isSupport_bool\": false, \"isSupport\": 0, \"pred_log\": 0, \"pred_proba1\": 0.20405529847722784, \"pred_proba2\": 0.23617267530084526}, {\"Hero\": \"Doomfist\", \"Skill Tier\": \"Silver\", \"KDA\": 3.35, \"Pick Rate\": 0.45, \"Win Rate\": 48.14, \"Eliminations\": 16.78, \"Objective Kills\": 6.33, \"Objective Time\": 101, \"Damage\": 7290, \"Deaths\": 7.93, \"Role\": \"Tank\", \"Prediction\": 6.525182996472045, \"Support\": \"Tank\", \"isSupport_bool\": false, \"isSupport\": 0, \"pred_log\": 0, \"pred_proba1\": 0.0654066322722026, \"pred_proba2\": 0.16216495820240795}, {\"Hero\": \"Doomfist\", \"Skill Tier\": \"Gold\", \"KDA\": 3.26, \"Pick Rate\": 0.69, \"Win Rate\": 48.06, \"Eliminations\": 17.31, \"Objective Kills\": 6.19, \"Objective Time\": 97, \"Damage\": 7620, \"Deaths\": 8.05, \"Role\": \"Tank\", \"Prediction\": 6.706413468539871, \"Support\": \"Tank\", \"isSupport_bool\": false, \"isSupport\": 0, \"pred_log\": 0, \"pred_proba1\": 0.03911613049271633, \"pred_proba2\": 0.1811804242553368}, {\"Hero\": \"Doomfist\", \"Skill Tier\": \"Platinum\", \"KDA\": 3.38, \"Pick Rate\": 1.35, \"Win Rate\": 50.42, \"Eliminations\": 18.16, \"Objective Kills\": 6.12, \"Objective Time\": 93, \"Damage\": 7995, \"Deaths\": 7.75, \"Role\": \"Tank\", \"Prediction\": 6.997066112422236, \"Support\": \"Tank\", \"isSupport_bool\": false, \"isSupport\": 0, \"pred_log\": 0, \"pred_proba1\": 0.016785820040556104, \"pred_proba2\": 0.1913205935984613}, {\"Hero\": \"Doomfist\", \"Skill Tier\": \"Diamond\", \"KDA\": 3.39, \"Pick Rate\": 2.84, \"Win Rate\": 51.5, \"Eliminations\": 18.69, \"Objective Kills\": 6.0, \"Objective Time\": 88, \"Damage\": 8249, \"Deaths\": 7.71, \"Role\": \"Tank\", \"Prediction\": 7.178296584490063, \"Support\": \"Tank\", \"isSupport_bool\": false, \"isSupport\": 0, \"pred_log\": 0, \"pred_proba1\": 0.009833061165938697, \"pred_proba2\": 0.20969997713121669}, {\"Hero\": \"Doomfist\", \"Skill Tier\": \"Master\", \"KDA\": 3.4, \"Pick Rate\": 3.54, \"Win Rate\": 51.01, \"Eliminations\": 18.9, \"Objective Kills\": 5.79, \"Objective Time\": 84, \"Damage\": 8309, \"Deaths\": 7.61, \"Role\": \"Tank\", \"Prediction\": 7.250104884743353, \"Support\": \"Tank\", \"isSupport_bool\": false, \"isSupport\": 0, \"pred_log\": 0, \"pred_proba1\": 0.007948349166475983, \"pred_proba2\": 0.24490379636916634}, {\"Hero\": \"Doomfist\", \"Skill Tier\": \"Grandmaster\", \"KDA\": 3.43, \"Pick Rate\": 6.89, \"Win Rate\": 51.89, \"Eliminations\": 18.78, \"Objective Kills\": 5.63, \"Objective Time\": 82, \"Damage\": 8354, \"Deaths\": 7.53, \"Role\": \"Tank\", \"Prediction\": 7.209071570312902, \"Support\": \"Tank\", \"isSupport_bool\": false, \"isSupport\": 0, \"pred_log\": 0, \"pred_proba1\": 0.008976463891993549, \"pred_proba2\": 0.2742782820835899}, {\"Hero\": \"Brigitte\", \"Skill Tier\": \"Bronze\", \"KDA\": 3.85, \"Pick Rate\": 0.7, \"Win Rate\": 46.01, \"Eliminations\": 11.28, \"Objective Kills\": 4.93, \"Objective Time\": 93, \"Damage\": 3383, \"Deaths\": 8.39, \"Role\": \"Support\", \"Prediction\": 4.644489418409689, \"Support\": \"Support\", \"isSupport_bool\": true, \"isSupport\": 1, \"pred_log\": 0, \"pred_proba1\": 0.9508875941552233, \"pred_proba2\": 0.4246191129782008}, {\"Hero\": \"Brigitte\", \"Skill Tier\": \"Silver\", \"KDA\": 4.3, \"Pick Rate\": 0.69, \"Win Rate\": 49.47, \"Eliminations\": 12.17, \"Objective Kills\": 5.12, \"Objective Time\": 93, \"Damage\": 3563, \"Deaths\": 8.15, \"Role\": \"Support\", \"Prediction\": 4.94881983376887, \"Support\": \"Support\", \"isSupport_bool\": true, \"isSupport\": 1, \"pred_log\": 0, \"pred_proba1\": 0.8862924767049651, \"pred_proba2\": 0.38096005887412154}, {\"Hero\": \"Brigitte\", \"Skill Tier\": \"Gold\", \"KDA\": 4.53, \"Pick Rate\": 0.87, \"Win Rate\": 51.35, \"Eliminations\": 12.52, \"Objective Kills\": 5.23, \"Objective Time\": 91, \"Damage\": 3737, \"Deaths\": 8.03, \"Role\": \"Support\", \"Prediction\": 5.06850033419102, \"Support\": \"Support\", \"isSupport_bool\": true, \"isSupport\": 1, \"pred_log\": 0, \"pred_proba1\": 0.8449598074918617, \"pred_proba2\": 0.3564896958500838}, {\"Hero\": \"Brigitte\", \"Skill Tier\": \"Platinum\", \"KDA\": 4.63, \"Pick Rate\": 1.26, \"Win Rate\": 52.1, \"Eliminations\": 12.48, \"Objective Kills\": 5.09, \"Objective Time\": 88, \"Damage\": 3750, \"Deaths\": 7.71, \"Role\": \"Support\", \"Prediction\": 5.054822562714204, \"Support\": \"Support\", \"isSupport_bool\": true, \"isSupport\": 1, \"pred_log\": 0, \"pred_proba1\": 0.8502416437441414, \"pred_proba2\": 0.3877461869958365}, {\"Hero\": \"Brigitte\", \"Skill Tier\": \"Diamond\", \"KDA\": 4.75, \"Pick Rate\": 1.99, \"Win Rate\": 52.77, \"Eliminations\": 12.36, \"Objective Kills\": 5.03, \"Objective Time\": 86, \"Damage\": 3788, \"Deaths\": 7.36, \"Role\": \"Support\", \"Prediction\": 5.013789248283752, \"Support\": \"Support\", \"isSupport_bool\": true, \"isSupport\": 1, \"pred_log\": 0, \"pred_proba1\": 0.8652009011372109, \"pred_proba2\": 0.40144753037688485}, {\"Hero\": \"Brigitte\", \"Skill Tier\": \"Master\", \"KDA\": 4.9, \"Pick Rate\": 2.85, \"Win Rate\": 53.47, \"Eliminations\": 11.75, \"Objective Kills\": 4.67, \"Objective Time\": 83, \"Damage\": 3701, \"Deaths\": 7.05, \"Role\": \"Support\", \"Prediction\": 4.805203233262291, \"Support\": \"Support\", \"isSupport_bool\": true, \"isSupport\": 1, \"pred_log\": 0, \"pred_proba1\": 0.9229266900700073, \"pred_proba2\": 0.48618209187932987}, {\"Hero\": \"Brigitte\", \"Skill Tier\": \"Grandmaster\", \"KDA\": 4.93, \"Pick Rate\": 5.39, \"Win Rate\": 53.59, \"Eliminations\": 10.82, \"Objective Kills\": 4.33, \"Objective Time\": 84, \"Damage\": 3588, \"Deaths\": 6.49, \"Role\": \"Support\", \"Prediction\": 4.487195046426292, \"Support\": \"Support\", \"isSupport_bool\": true, \"isSupport\": 1, \"pred_log\": 1, \"pred_proba1\": 0.9687368342582316, \"pred_proba2\": 0.5670306438654489}, {\"Hero\": \"Mei\", \"Skill Tier\": \"Bronze\", \"KDA\": 3.64, \"Pick Rate\": 0.97, \"Win Rate\": 45.73, \"Eliminations\": 16.62, \"Objective Kills\": 7.77, \"Objective Time\": 100, \"Damage\": 6368, \"Deaths\": 7.52, \"Role\": \"Damage\", \"Prediction\": 6.470471910564777, \"Support\": \"Damage\", \"isSupport_bool\": false, \"isSupport\": 0, \"pred_log\": 0, \"pred_proba1\": 0.07614495756651815, \"pred_proba2\": 0.046583132987371774}, {\"Hero\": \"Mei\", \"Skill Tier\": \"Silver\", \"KDA\": 3.88, \"Pick Rate\": 1.14, \"Win Rate\": 48.21, \"Eliminations\": 17.3, \"Objective Kills\": 8.01, \"Objective Time\": 100, \"Damage\": 6620, \"Deaths\": 7.4, \"Role\": \"Damage\", \"Prediction\": 6.702994025670668, \"Support\": \"Damage\", \"isSupport_bool\": false, \"isSupport\": 0, \"pred_log\": 0, \"pred_proba1\": 0.03950219678657228, \"pred_proba2\": 0.03738988910645702}, {\"Hero\": \"Mei\", \"Skill Tier\": \"Gold\", \"KDA\": 3.96, \"Pick Rate\": 1.3, \"Win Rate\": 49.98, \"Eliminations\": 17.89, \"Objective Kills\": 8.02, \"Objective Time\": 95, \"Damage\": 6849, \"Deaths\": 7.3, \"Role\": \"Damage\", \"Prediction\": 6.9047411549537205, \"Support\": \"Damage\", \"isSupport_bool\": false, \"isSupport\": 0, \"pred_log\": 0, \"pred_proba1\": 0.022004340477686003, \"pred_proba2\": 0.0370473325884846}, {\"Hero\": \"Mei\", \"Skill Tier\": \"Platinum\", \"KDA\": 3.92, \"Pick Rate\": 1.75, \"Win Rate\": 50.77, \"Eliminations\": 18.09, \"Objective Kills\": 7.78, \"Objective Time\": 91, \"Damage\": 7062, \"Deaths\": 7.2, \"Role\": \"Damage\", \"Prediction\": 6.973130012337806, \"Support\": \"Damage\", \"isSupport_bool\": false, \"isSupport\": 0, \"pred_log\": 0, \"pred_proba1\": 0.0180086563597555, \"pred_proba2\": 0.04616038926655789}, {\"Hero\": \"Mei\", \"Skill Tier\": \"Diamond\", \"KDA\": 3.83, \"Pick Rate\": 2.52, \"Win Rate\": 51.11, \"Eliminations\": 18.01, \"Objective Kills\": 7.52, \"Objective Time\": 87, \"Damage\": 7172, \"Deaths\": 7.18, \"Role\": \"Damage\", \"Prediction\": 6.9457744693841725, \"Support\": \"Damage\", \"isSupport_bool\": false, \"isSupport\": 0, \"pred_log\": 0, \"pred_proba1\": 0.019513465114043477, \"pred_proba2\": 0.05842448326747623}, {\"Hero\": \"Mei\", \"Skill Tier\": \"Master\", \"KDA\": 3.76, \"Pick Rate\": 3.35, \"Win Rate\": 52.77, \"Eliminations\": 17.75, \"Objective Kills\": 7.12, \"Objective Time\": 81, \"Damage\": 7215, \"Deaths\": 7.1, \"Role\": \"Damage\", \"Prediction\": 6.8568689547848605, \"Support\": \"Damage\", \"isSupport_bool\": false, \"isSupport\": 0, \"pred_log\": 0, \"pred_proba1\": 0.025304560979984077, \"pred_proba2\": 0.08336897299121253}, {\"Hero\": \"Mei\", \"Skill Tier\": \"Grandmaster\", \"KDA\": 3.57, \"Pick Rate\": 3.33, \"Win Rate\": 52.48, \"Eliminations\": 17.07, \"Objective Kills\": 6.64, \"Objective Time\": 77, \"Damage\": 7114, \"Deaths\": 6.97, \"Role\": \"Damage\", \"Prediction\": 6.624346839678969, \"Support\": \"Damage\", \"isSupport_bool\": false, \"isSupport\": 0, \"pred_log\": 0, \"pred_proba1\": 0.049455518682237236, \"pred_proba2\": 0.12580614572295934}, {\"Hero\": \"Winston\", \"Skill Tier\": \"Bronze\", \"KDA\": 3.27, \"Pick Rate\": 0.38, \"Win Rate\": 35.95, \"Eliminations\": 17.12, \"Objective Kills\": 6.86, \"Objective Time\": 120, \"Damage\": 6766, \"Deaths\": 7.89, \"Role\": \"Tank\", \"Prediction\": 6.641444054024991, \"Support\": \"Tank\", \"isSupport_bool\": false, \"isSupport\": 0, \"pred_log\": 0, \"pred_proba1\": 0.04710716138204037, \"pred_proba2\": 0.10443641127409492}, {\"Hero\": \"Winston\", \"Skill Tier\": \"Silver\", \"KDA\": 3.5, \"Pick Rate\": 0.5, \"Win Rate\": 38.65, \"Eliminations\": 18.35, \"Objective Kills\": 7.13, \"Objective Time\": 120, \"Damage\": 7217, \"Deaths\": 7.61, \"Role\": \"Tank\", \"Prediction\": 7.062035526937118, \"Support\": \"Tank\", \"isSupport_bool\": false, \"isSupport\": 0, \"pred_log\": 0, \"pred_proba1\": 0.013863521652625612, \"pred_proba2\": 0.08264133270177643}, {\"Hero\": \"Winston\", \"Skill Tier\": \"Gold\", \"KDA\": 3.87, \"Pick Rate\": 0.71, \"Win Rate\": 41.52, \"Eliminations\": 19.33, \"Objective Kills\": 7.11, \"Objective Time\": 117, \"Damage\": 7561, \"Deaths\": 7.24, \"Role\": \"Tank\", \"Prediction\": 7.3971409281191365, \"Support\": \"Tank\", \"isSupport_bool\": false, \"isSupport\": 0, \"pred_log\": 0, \"pred_proba1\": 0.005135601551403876, \"pred_proba2\": 0.08410243264523742}, {\"Hero\": \"Winston\", \"Skill Tier\": \"Platinum\", \"KDA\": 3.97, \"Pick Rate\": 1.2, \"Win Rate\": 42.53, \"Eliminations\": 19.88, \"Objective Kills\": 6.83, \"Objective Time\": 111, \"Damage\": 7869, \"Deaths\": 7.07, \"Role\": \"Tank\", \"Prediction\": 7.585210285925372, \"Support\": \"Tank\", \"isSupport_bool\": false, \"isSupport\": 0, \"pred_log\": 0, \"pred_proba1\": 0.0029333085759071934, \"pred_proba2\": 0.10714936174057944}, {\"Hero\": \"Winston\", \"Skill Tier\": \"Diamond\", \"KDA\": 4.02, \"Pick Rate\": 2.13, \"Win Rate\": 43.47, \"Eliminations\": 20.11, \"Objective Kills\": 6.52, \"Objective Time\": 105, \"Damage\": 8112, \"Deaths\": 6.91, \"Role\": \"Tank\", \"Prediction\": 7.663857471917071, \"Support\": \"Tank\", \"isSupport_bool\": false, \"isSupport\": 0, \"pred_log\": 0, \"pred_proba1\": 0.002320103295653288, \"pred_proba2\": 0.13897341282924006}, {\"Hero\": \"Winston\", \"Skill Tier\": \"Master\", \"KDA\": 3.97, \"Pick Rate\": 2.96, \"Win Rate\": 45.99, \"Eliminations\": 20.02, \"Objective Kills\": 6.17, \"Objective Time\": 99, \"Damage\": 8207, \"Deaths\": 6.81, \"Role\": \"Tank\", \"Prediction\": 7.633082486094232, \"Support\": \"Tank\", \"isSupport_bool\": false, \"isSupport\": 0, \"pred_log\": 0, \"pred_proba1\": 0.002543133880641183, \"pred_proba2\": 0.18403419405740148}, {\"Hero\": \"Winston\", \"Skill Tier\": \"Grandmaster\", \"KDA\": 3.98, \"Pick Rate\": 4.84, \"Win Rate\": 49.07, \"Eliminations\": 19.47, \"Objective Kills\": 5.68, \"Objective Time\": 93, \"Damage\": 8238, \"Deaths\": 6.54, \"Role\": \"Tank\", \"Prediction\": 7.4450131282879966, \"Support\": \"Tank\", \"isSupport_bool\": false, \"isSupport\": 0, \"pred_log\": 0, \"pred_proba1\": 0.004453796891062376, \"pred_proba2\": 0.264867266682937}, {\"Hero\": \"Bastion\", \"Skill Tier\": \"Bronze\", \"KDA\": 2.56, \"Pick Rate\": 1.42, \"Win Rate\": 41.57, \"Eliminations\": 17.63, \"Objective Kills\": 7.92, \"Objective Time\": 67, \"Damage\": 9344, \"Deaths\": 8.61, \"Role\": \"Damage\", \"Prediction\": 6.8158356403544085, \"Support\": \"Damage\", \"isSupport_bool\": false, \"isSupport\": 0, \"pred_log\": 0, \"pred_proba1\": 0.0285131670390087, \"pred_proba2\": 0.040612847993182766}, {\"Hero\": \"Bastion\", \"Skill Tier\": \"Silver\", \"KDA\": 2.77, \"Pick Rate\": 1.42, \"Win Rate\": 44.03, \"Eliminations\": 18.52, \"Objective Kills\": 8.29, \"Objective Time\": 70, \"Damage\": 9758, \"Deaths\": 8.4, \"Role\": \"Damage\", \"Prediction\": 7.12016605571359, \"Support\": \"Damage\", \"isSupport_bool\": false, \"isSupport\": 0, \"pred_log\": 0, \"pred_proba1\": 0.011677692312826527, \"pred_proba2\": 0.02886259125955715}, {\"Hero\": \"Bastion\", \"Skill Tier\": \"Gold\", \"KDA\": 2.91, \"Pick Rate\": 1.52, \"Win Rate\": 45.96, \"Eliminations\": 19.31, \"Objective Kills\": 8.47, \"Objective Time\": 70, \"Damage\": 10133, \"Deaths\": 8.17, \"Role\": \"Damage\", \"Prediction\": 7.390302042380728, \"Support\": \"Damage\", \"isSupport_bool\": false, \"isSupport\": 0, \"pred_log\": 0, \"pred_proba1\": 0.005241131172624052, \"pred_proba2\": 0.024411240224135548}, {\"Hero\": \"Bastion\", \"Skill Tier\": \"Platinum\", \"KDA\": 3.03, \"Pick Rate\": 1.87, \"Win Rate\": 47.12, \"Eliminations\": 19.71, \"Objective Kills\": 8.42, \"Objective Time\": 68, \"Damage\": 10482, \"Deaths\": 7.98, \"Role\": \"Damage\", \"Prediction\": 7.5270797571489005, \"Support\": \"Damage\", \"isSupport_bool\": false, \"isSupport\": 0, \"pred_log\": 0, \"pred_proba1\": 0.0034881417521252975, \"pred_proba2\": 0.02557583801807491}, {\"Hero\": \"Bastion\", \"Skill Tier\": \"Diamond\", \"KDA\": 3.09, \"Pick Rate\": 2.79, \"Win Rate\": 47.95, \"Eliminations\": 19.96, \"Objective Kills\": 8.19, \"Objective Time\": 64, \"Damage\": 10766, \"Deaths\": 7.86, \"Role\": \"Damage\", \"Prediction\": 7.612565828879007, \"Support\": \"Damage\", \"isSupport_bool\": false, \"isSupport\": 0, \"pred_log\": 0, \"pred_proba1\": 0.002703576695838081, \"pred_proba2\": 0.031666293207704595}, {\"Hero\": \"Bastion\", \"Skill Tier\": \"Master\", \"KDA\": 3.06, \"Pick Rate\": 3.84, \"Win Rate\": 50.59, \"Eliminations\": 19.73, \"Objective Kills\": 7.84, \"Objective Time\": 61, \"Damage\": 10761, \"Deaths\": 7.87, \"Role\": \"Damage\", \"Prediction\": 7.533918642887309, \"Support\": \"Damage\", \"isSupport_bool\": false, \"isSupport\": 0, \"pred_log\": 0, \"pred_proba1\": 0.0034177871165912556, \"pred_proba2\": 0.04369964409537882}, {\"Hero\": \"Bastion\", \"Skill Tier\": \"Grandmaster\", \"KDA\": 2.96, \"Pick Rate\": 2.98, \"Win Rate\": 49.28, \"Eliminations\": 19.14, \"Objective Kills\": 7.29, \"Objective Time\": 57, \"Damage\": 10658, \"Deaths\": 7.87, \"Role\": \"Damage\", \"Prediction\": 7.332171513604256, \"Support\": \"Damage\", \"isSupport_bool\": false, \"isSupport\": 0, \"pred_log\": 0, \"pred_proba1\": 0.006229759874991997, \"pred_proba2\": 0.07176121516109613}, {\"Hero\": \"Sombra\", \"Skill Tier\": \"Bronze\", \"KDA\": 3.91, \"Pick Rate\": 0.54, \"Win Rate\": 38.01, \"Eliminations\": 13.85, \"Objective Kills\": 5.31, \"Objective Time\": 47, \"Damage\": 4585, \"Deaths\": 6.68, \"Role\": \"Damage\", \"Prediction\": 5.52328623579519, \"Support\": \"Damage\", \"isSupport_bool\": false, \"isSupport\": 0, \"pred_log\": 0, \"pred_proba1\": 0.583198168347124, \"pred_proba2\": 0.33914407231903937}, {\"Hero\": \"Sombra\", \"Skill Tier\": \"Silver\", \"KDA\": 4.5, \"Pick Rate\": 0.46, \"Win Rate\": 40.36, \"Eliminations\": 15.5, \"Objective Kills\": 5.86, \"Objective Time\": 47, \"Damage\": 4972, \"Deaths\": 6.34, \"Role\": \"Damage\", \"Prediction\": 6.087494309213897, \"Support\": \"Damage\", \"isSupport_bool\": false, \"isSupport\": 0, \"pred_log\": 0, \"pred_proba1\": 0.2057207451074078, \"pred_proba2\": 0.23274101865863744}, {\"Hero\": \"Sombra\", \"Skill Tier\": \"Gold\", \"KDA\": 4.71, \"Pick Rate\": 0.79, \"Win Rate\": 44.14, \"Eliminations\": 15.88, \"Objective Kills\": 5.83, \"Objective Time\": 45, \"Damage\": 5287, \"Deaths\": 6.21, \"Role\": \"Damage\", \"Prediction\": 6.21743313824366, \"Support\": \"Damage\", \"isSupport_bool\": false, \"isSupport\": 0, \"pred_log\": 0, \"pred_proba1\": 0.14938942905008484, \"pred_proba2\": 0.23790155826543302}, {\"Hero\": \"Sombra\", \"Skill Tier\": \"Platinum\", \"KDA\": 4.7, \"Pick Rate\": 0.94, \"Win Rate\": 43.9, \"Eliminations\": 16.2, \"Objective Kills\": 5.85, \"Objective Time\": 43, \"Damage\": 5538, \"Deaths\": 6.18, \"Role\": \"Damage\", \"Prediction\": 6.326855310058196, \"Support\": \"Damage\", \"isSupport_bool\": false, \"isSupport\": 0, \"pred_log\": 0, \"pred_proba1\": 0.11239164541923767, \"pred_proba2\": 0.23445249125830692}, {\"Hero\": \"Sombra\", \"Skill Tier\": \"Diamond\", \"KDA\": 5.03, \"Pick Rate\": 1.65, \"Win Rate\": 44.37, \"Eliminations\": 16.63, \"Objective Kills\": 5.88, \"Objective Time\": 42, \"Damage\": 5848, \"Deaths\": 5.98, \"Role\": \"Damage\", \"Prediction\": 6.473891353433981, \"Support\": \"Damage\", \"isSupport_bool\": false, \"isSupport\": 0, \"pred_log\": 0, \"pred_proba1\": 0.0754288946200764, \"pred_proba2\": 0.22934425328581726}, {\"Hero\": \"Sombra\", \"Skill Tier\": \"Master\", \"KDA\": 4.94, \"Pick Rate\": 2.54, \"Win Rate\": 46.63, \"Eliminations\": 16.64, \"Objective Kills\": 5.78, \"Objective Time\": 40, \"Damage\": 6073, \"Deaths\": 5.89, \"Role\": \"Damage\", \"Prediction\": 6.477310796303185, \"Support\": \"Damage\", \"isSupport_bool\": false, \"isSupport\": 0, \"pred_log\": 0, \"pred_proba1\": 0.07471902087602363, \"pred_proba2\": 0.24667595347379767}, {\"Hero\": \"Sombra\", \"Skill Tier\": \"Grandmaster\", \"KDA\": 5.39, \"Pick Rate\": 3.26, \"Win Rate\": 48.01, \"Eliminations\": 16.5, \"Objective Kills\": 5.6, \"Objective Time\": 40, \"Damage\": 6302, \"Deaths\": 5.56, \"Role\": \"Damage\", \"Prediction\": 6.429438596134325, \"Support\": \"Damage\", \"isSupport_bool\": false, \"isSupport\": 0, \"pred_log\": 0, \"pred_proba1\": 0.08523635656223924, \"pred_proba2\": 0.2800236882942943}, {\"Hero\": \"Wrecking Ball\", \"Skill Tier\": \"Bronze\", \"KDA\": 4.22, \"Pick Rate\": 0.31, \"Win Rate\": 41.43, \"Eliminations\": 14.89, \"Objective Kills\": 7.07, \"Objective Time\": 127, \"Damage\": 6816, \"Deaths\": 6.24, \"Role\": \"Tank\", \"Prediction\": 5.878908294192436, \"Support\": \"Tank\", \"isSupport_bool\": false, \"isSupport\": 0, \"pred_log\": 0, \"pred_proba1\": 0.3257877392790327, \"pred_proba2\": 0.08709518895154376}, {\"Hero\": \"Wrecking Ball\", \"Skill Tier\": \"Silver\", \"KDA\": 4.5, \"Pick Rate\": 0.39, \"Win Rate\": 45.51, \"Eliminations\": 15.99, \"Objective Kills\": 7.48, \"Objective Time\": 130, \"Damage\": 7336, \"Deaths\": 6.13, \"Role\": \"Tank\", \"Prediction\": 6.2550470098049065, \"Support\": \"Tank\", \"isSupport_bool\": false, \"isSupport\": 0, \"pred_log\": 0, \"pred_proba1\": 0.13565544078397054, \"pred_proba2\": 0.06056391984545625}, {\"Hero\": \"Wrecking Ball\", \"Skill Tier\": \"Gold\", \"KDA\": 4.96, \"Pick Rate\": 0.53, \"Win Rate\": 47.76, \"Eliminations\": 17.11, \"Objective Kills\": 7.63, \"Objective Time\": 128, \"Damage\": 7659, \"Deaths\": 5.89, \"Role\": \"Tank\", \"Prediction\": 6.638024611155786, \"Support\": \"Tank\", \"isSupport_bool\": false, \"isSupport\": 0, \"pred_log\": 0, \"pred_proba1\": 0.04756819272313793, \"pred_proba2\": 0.05290122160666561}, {\"Hero\": \"Wrecking Ball\", \"Skill Tier\": \"Platinum\", \"KDA\": 4.99, \"Pick Rate\": 1.08, \"Win Rate\": 48.5, \"Eliminations\": 17.49, \"Objective Kills\": 7.47, \"Objective Time\": 123, \"Damage\": 7822, \"Deaths\": 5.86, \"Role\": \"Tank\", \"Prediction\": 6.767963440185548, \"Support\": \"Tank\", \"isSupport_bool\": false, \"isSupport\": 0, \"pred_log\": 0, \"pred_proba1\": 0.032756887533429, \"pred_proba2\": 0.06111012212109173}, {\"Hero\": \"Wrecking Ball\", \"Skill Tier\": \"Diamond\", \"KDA\": 5.05, \"Pick Rate\": 2.44, \"Win Rate\": 50.85, \"Eliminations\": 18.08, \"Objective Kills\": 7.33, \"Objective Time\": 118, \"Damage\": 7976, \"Deaths\": 5.79, \"Role\": \"Tank\", \"Prediction\": 6.969710569468601, \"Support\": \"Tank\", \"isSupport_bool\": false, \"isSupport\": 0, \"pred_log\": 0, \"pred_proba1\": 0.018190341009348788, \"pred_proba2\": 0.06925539097334404}, {\"Hero\": \"Wrecking Ball\", \"Skill Tier\": \"Master\", \"KDA\": 5.04, \"Pick Rate\": 3.88, \"Win Rate\": 52.08, \"Eliminations\": 18.29, \"Objective Kills\": 7.01, \"Objective Time\": 110, \"Damage\": 7987, \"Deaths\": 5.64, \"Role\": \"Tank\", \"Prediction\": 7.041518869721892, \"Support\": \"Tank\", \"isSupport_bool\": false, \"isSupport\": 0, \"pred_log\": 0, \"pred_proba1\": 0.01472760705360714, \"pred_proba2\": 0.09176506931283036}, {\"Hero\": \"Wrecking Ball\", \"Skill Tier\": \"Grandmaster\", \"KDA\": 4.99, \"Pick Rate\": 7.33, \"Win Rate\": 51.81, \"Eliminations\": 18.0, \"Objective Kills\": 6.48, \"Objective Time\": 102, \"Damage\": 7902, \"Deaths\": 5.39, \"Role\": \"Tank\", \"Prediction\": 6.942355026514967, \"Support\": \"Tank\", \"isSupport_bool\": false, \"isSupport\": 0, \"pred_log\": 0, \"pred_proba1\": 0.01971002666995382, \"pred_proba2\": 0.14361257235383096}, {\"Hero\": \"Sojourn\", \"Skill Tier\": \"Bronze\", \"KDA\": 2.45, \"Pick Rate\": 0.94, \"Win Rate\": 37.05, \"Eliminations\": 15.46, \"Objective Kills\": 7.03, \"Objective Time\": 64, \"Damage\": 7418, \"Deaths\": 8.34, \"Role\": \"Damage\", \"Prediction\": 6.07381653773708, \"Support\": \"Damage\", \"isSupport_bool\": false, \"isSupport\": 0, \"pred_log\": 0, \"pred_proba1\": 0.21248306648772033, \"pred_proba2\": 0.09018395530653978}, {\"Hero\": \"Sojourn\", \"Skill Tier\": \"Silver\", \"KDA\": 2.71, \"Pick Rate\": 0.77, \"Win Rate\": 38.98, \"Eliminations\": 16.74, \"Objective Kills\": 7.19, \"Objective Time\": 63, \"Damage\": 7857, \"Deaths\": 8.21, \"Role\": \"Damage\", \"Prediction\": 6.511505224995227, \"Support\": \"Damage\", \"isSupport_bool\": false, \"isSupport\": 0, \"pred_log\": 0, \"pred_proba1\": 0.06795122478877236, \"pred_proba2\": 0.07839567793773247}, {\"Hero\": \"Sojourn\", \"Skill Tier\": \"Gold\", \"KDA\": 2.85, \"Pick Rate\": 0.9, \"Win Rate\": 40.72, \"Eliminations\": 17.51, \"Objective Kills\": 7.25, \"Objective Time\": 61, \"Damage\": 8177, \"Deaths\": 8.09, \"Role\": \"Damage\", \"Prediction\": 6.774802325923958, \"Support\": \"Damage\", \"isSupport_bool\": false, \"isSupport\": 0, \"pred_log\": 0, \"pred_proba1\": 0.032115217508970326, \"pred_proba2\": 0.07435046330265623}, {\"Hero\": \"Sojourn\", \"Skill Tier\": \"Platinum\", \"KDA\": 2.92, \"Pick Rate\": 1.4, \"Win Rate\": 42.41, \"Eliminations\": 18.18, \"Objective Kills\": 7.18, \"Objective Time\": 57, \"Damage\": 8469, \"Deaths\": 7.98, \"Role\": \"Damage\", \"Prediction\": 7.003904998160644, \"Support\": \"Damage\", \"isSupport_bool\": false, \"isSupport\": 0, \"pred_log\": 0, \"pred_proba1\": 0.016451683691924374, \"pred_proba2\": 0.07908915895544395}, {\"Hero\": \"Sojourn\", \"Skill Tier\": \"Diamond\", \"KDA\": 2.97, \"Pick Rate\": 2.33, \"Win Rate\": 44.13, \"Eliminations\": 18.72, \"Objective Kills\": 7.02, \"Objective Time\": 54, \"Damage\": 8709, \"Deaths\": 7.96, \"Role\": \"Damage\", \"Prediction\": 7.188554913097676, \"Support\": \"Damage\", \"isSupport_bool\": false, \"isSupport\": 0, \"pred_log\": 0, \"pred_proba1\": 0.009538895218594738, \"pred_proba2\": 0.0909714210828324}, {\"Hero\": \"Sojourn\", \"Skill Tier\": \"Master\", \"KDA\": 2.91, \"Pick Rate\": 3.72, \"Win Rate\": 44.81, \"Eliminations\": 18.94, \"Objective Kills\": 6.83, \"Objective Time\": 52, \"Damage\": 8797, \"Deaths\": 7.94, \"Role\": \"Damage\", \"Prediction\": 7.263782656220171, \"Support\": \"Damage\", \"isSupport_bool\": false, \"isSupport\": 0, \"pred_log\": 0, \"pred_proba1\": 0.007632304972029971, \"pred_proba2\": 0.10714936174057944}, {\"Hero\": \"Sojourn\", \"Skill Tier\": \"Grandmaster\", \"KDA\": 2.99, \"Pick Rate\": 5.61, \"Win Rate\": 47.84, \"Eliminations\": 19.58, \"Objective Kills\": 6.57, \"Objective Time\": 49, \"Damage\": 9192, \"Deaths\": 7.64, \"Role\": \"Damage\", \"Prediction\": 7.482626999849243, \"Support\": \"Damage\", \"isSupport_bool\": false, \"isSupport\": 0, \"pred_log\": 0, \"pred_proba1\": 0.003981964760204013, \"pred_proba2\": 0.1333518920743928}, {\"Hero\": \"Symmetra\", \"Skill Tier\": \"Bronze\", \"KDA\": 3.4, \"Pick Rate\": 0.81, \"Win Rate\": 50.12, \"Eliminations\": 17.72, \"Objective Kills\": 8.61, \"Objective Time\": 69, \"Damage\": 7450, \"Deaths\": 7.97, \"Role\": \"Damage\", \"Prediction\": 6.846610626177247, \"Support\": \"Damage\", \"isSupport_bool\": false, \"isSupport\": 0, \"pred_log\": 0, \"pred_proba1\": 0.026072119511316546, \"pred_proba2\": 0.021418810988789554}, {\"Hero\": \"Symmetra\", \"Skill Tier\": \"Silver\", \"KDA\": 3.43, \"Pick Rate\": 0.76, \"Win Rate\": 52.07, \"Eliminations\": 18.49, \"Objective Kills\": 8.88, \"Objective Time\": 69, \"Damage\": 7853, \"Deaths\": 8.05, \"Role\": \"Damage\", \"Prediction\": 7.109907727105977, \"Support\": \"Damage\", \"isSupport_bool\": false, \"isSupport\": 0, \"pred_log\": 0, \"pred_proba1\": 0.012037014140396058, \"pred_proba2\": 0.016627207446699984}, {\"Hero\": \"Symmetra\", \"Skill Tier\": \"Gold\", \"KDA\": 3.62, \"Pick Rate\": 1.02, \"Win Rate\": 53.25, \"Eliminations\": 19.33, \"Objective Kills\": 8.79, \"Objective Time\": 66, \"Damage\": 8242, \"Deaths\": 7.91, \"Role\": \"Damage\", \"Prediction\": 7.3971409281191365, \"Support\": \"Damage\", \"isSupport_bool\": false, \"isSupport\": 0, \"pred_log\": 0, \"pred_proba1\": 0.005135601551403876, \"pred_proba2\": 0.0180940918086847}, {\"Hero\": \"Symmetra\", \"Skill Tier\": \"Platinum\", \"KDA\": 3.49, \"Pick Rate\": 1.34, \"Win Rate\": 53.18, \"Eliminations\": 19.3, \"Objective Kills\": 8.57, \"Objective Time\": 65, \"Damage\": 8498, \"Deaths\": 7.92, \"Role\": \"Damage\", \"Prediction\": 7.386882599511525, \"Support\": \"Damage\", \"isSupport_bool\": false, \"isSupport\": 0, \"pred_log\": 0, \"pred_proba1\": 0.005294702090122936, \"pred_proba2\": 0.022235143480832806}, {\"Hero\": \"Symmetra\", \"Skill Tier\": \"Diamond\", \"KDA\": 3.48, \"Pick Rate\": 1.83, \"Win Rate\": 53.21, \"Eliminations\": 19.3, \"Objective Kills\": 8.43, \"Objective Time\": 64, \"Damage\": 8660, \"Deaths\": 7.88, \"Role\": \"Damage\", \"Prediction\": 7.386882599511525, \"Support\": \"Damage\", \"isSupport_bool\": false, \"isSupport\": 0, \"pred_log\": 0, \"pred_proba1\": 0.005294702090122936, \"pred_proba2\": 0.02533866967126576}, {\"Hero\": \"Symmetra\", \"Skill Tier\": \"Master\", \"KDA\": 3.41, \"Pick Rate\": 2.11, \"Win Rate\": 54.22, \"Eliminations\": 18.95, \"Objective Kills\": 8.13, \"Objective Time\": 62, \"Damage\": 8609, \"Deaths\": 7.87, \"Role\": \"Damage\", \"Prediction\": 7.267202099089374, \"Support\": \"Damage\", \"isSupport_bool\": false, \"isSupport\": 0, \"pred_log\": 0, \"pred_proba1\": 0.007555262220600301, \"pred_proba2\": 0.03347315335177887}, {\"Hero\": \"Symmetra\", \"Skill Tier\": \"Grandmaster\", \"KDA\": 3.2, \"Pick Rate\": 1.84, \"Win Rate\": 53.87, \"Eliminations\": 17.86, \"Objective Kills\": 7.52, \"Objective Time\": 59, \"Damage\": 8322, \"Deaths\": 7.84, \"Role\": \"Damage\", \"Prediction\": 6.894482826346107, \"Support\": \"Damage\", \"isSupport_bool\": false, \"isSupport\": 0, \"pred_log\": 0, \"pred_proba1\": 0.022674122755379562, \"pred_proba2\": 0.05842448326747623}, {\"Hero\": \"Torbjorn\", \"Skill Tier\": \"Bronze\", \"KDA\": 2.92, \"Pick Rate\": 0.92, \"Win Rate\": 49.64, \"Eliminations\": 16.75, \"Objective Kills\": 7.7, \"Objective Time\": 55, \"Damage\": 8787, \"Deaths\": 7.11, \"Role\": \"Damage\", \"Prediction\": 6.514924667864432, \"Support\": \"Damage\", \"isSupport_bool\": false, \"isSupport\": 0, \"pred_log\": 0, \"pred_proba1\": 0.06730660159523517, \"pred_proba2\": 0.04964700903772152}, {\"Hero\": \"Torbjorn\", \"Skill Tier\": \"Silver\", \"KDA\": 3.17, \"Pick Rate\": 0.86, \"Win Rate\": 50.29, \"Eliminations\": 17.5, \"Objective Kills\": 7.78, \"Objective Time\": 52, \"Damage\": 9169, \"Deaths\": 6.97, \"Role\": \"Damage\", \"Prediction\": 6.771382883054754, \"Support\": \"Damage\", \"isSupport_bool\": false, \"isSupport\": 0, \"pred_log\": 0, \"pred_proba1\": 0.0324345189349594, \"pred_proba2\": 0.04616038926655789}, {\"Hero\": \"Torbjorn\", \"Skill Tier\": \"Gold\", \"KDA\": 3.1, \"Pick Rate\": 0.83, \"Win Rate\": 52.57, \"Eliminations\": 17.9, \"Objective Kills\": 7.76, \"Objective Time\": 51, \"Damage\": 9431, \"Deaths\": 6.79, \"Role\": \"Damage\", \"Prediction\": 6.908160597822924, \"Support\": \"Damage\", \"isSupport_bool\": false, \"isSupport\": 0, \"pred_log\": 0, \"pred_proba1\": 0.021785406973130875, \"pred_proba2\": 0.04700955745054764}, {\"Hero\": \"Torbjorn\", \"Skill Tier\": \"Platinum\", \"KDA\": 3.2, \"Pick Rate\": 1.2, \"Win Rate\": 53.08, \"Eliminations\": 18.06, \"Objective Kills\": 7.59, \"Objective Time\": 49, \"Damage\": 9618, \"Deaths\": 6.81, \"Role\": \"Damage\", \"Prediction\": 6.962871683730193, \"Support\": \"Damage\", \"isSupport_bool\": false, \"isSupport\": 0, \"pred_log\": 0, \"pred_proba1\": 0.0185591234388282, \"pred_proba2\": 0.054850184881607436}, {\"Hero\": \"Torbjorn\", \"Skill Tier\": \"Diamond\", \"KDA\": 3.06, \"Pick Rate\": 1.9, \"Win Rate\": 52.8, \"Eliminations\": 17.96, \"Objective Kills\": 7.22, \"Objective Time\": 48, \"Damage\": 9728, \"Deaths\": 6.85, \"Role\": \"Damage\", \"Prediction\": 6.928677255038151, \"Support\": \"Damage\", \"isSupport_bool\": false, \"isSupport\": 0, \"pred_log\": 0, \"pred_proba1\": 0.020515854829509312, \"pred_proba2\": 0.07634849756505684}, {\"Hero\": \"Torbjorn\", \"Skill Tier\": \"Master\", \"KDA\": 3.05, \"Pick Rate\": 2.54, \"Win Rate\": 53.31, \"Eliminations\": 17.53, \"Objective Kills\": 6.92, \"Objective Time\": 48, \"Damage\": 9674, \"Deaths\": 6.77, \"Role\": \"Damage\", \"Prediction\": 6.781641211662366, \"Support\": \"Damage\", \"isSupport_bool\": false, \"isSupport\": 0, \"pred_log\": 0, \"pred_proba1\": 0.03148570790242141, \"pred_proba2\": 0.09919211789706074}, {\"Hero\": \"Torbjorn\", \"Skill Tier\": \"Grandmaster\", \"KDA\": 2.71, \"Pick Rate\": 3.45, \"Win Rate\": 51.87, \"Eliminations\": 16.6, \"Objective Kills\": 6.39, \"Objective Time\": 50, \"Damage\": 9458, \"Deaths\": 6.96, \"Role\": \"Damage\", \"Prediction\": 6.463633024826368, \"Support\": \"Damage\", \"isSupport_bool\": false, \"isSupport\": 0, \"pred_log\": 0, \"pred_proba1\": 0.07759582471509237, \"pred_proba2\": 0.1545219875164728}, {\"Hero\": \"Ramattra\", \"Skill Tier\": \"Bronze\", \"KDA\": 3.52, \"Pick Rate\": 1.15, \"Win Rate\": 42.94, \"Eliminations\": 17.7, \"Objective Kills\": 8.24, \"Objective Time\": 128, \"Damage\": 8624, \"Deaths\": 7.07, \"Role\": \"Tank\", \"Prediction\": 6.839771740438839, \"Support\": \"Tank\", \"isSupport_bool\": false, \"isSupport\": 0, \"pred_log\": 0, \"pred_proba1\": 0.026596364804729537, \"pred_proba2\": 0.03023297061717848}, {\"Hero\": \"Ramattra\", \"Skill Tier\": \"Silver\", \"KDA\": 3.82, \"Pick Rate\": 1.39, \"Win Rate\": 47.18, \"Eliminations\": 19.19, \"Objective Kills\": 8.71, \"Objective Time\": 131, \"Damage\": 9242, \"Deaths\": 6.8, \"Role\": \"Tank\", \"Prediction\": 7.349268727950277, \"Support\": \"Tank\", \"isSupport_bool\": false, \"isSupport\": 0, \"pred_log\": 0, \"pred_proba1\": 0.005921158761905371, \"pred_proba2\": 0.019504136038653835}, {\"Hero\": \"Ramattra\", \"Skill Tier\": \"Gold\", \"KDA\": 3.91, \"Pick Rate\": 1.68, \"Win Rate\": 50.1, \"Eliminations\": 19.68, \"Objective Kills\": 8.6, \"Objective Time\": 128, \"Damage\": 9615, \"Deaths\": 6.65, \"Role\": \"Tank\", \"Prediction\": 7.516821428541287, \"Support\": \"Tank\", \"isSupport_bool\": false, \"isSupport\": 0, \"pred_log\": 0, \"pred_proba1\": 0.0035963886143681673, \"pred_proba2\": 0.021620103561660747}, {\"Hero\": \"Ramattra\", \"Skill Tier\": \"Platinum\", \"KDA\": 3.99, \"Pick Rate\": 2.39, \"Win Rate\": 50.25, \"Eliminations\": 20.03, \"Objective Kills\": 8.43, \"Objective Time\": 124, \"Damage\": 9929, \"Deaths\": 6.54, \"Role\": \"Tank\", \"Prediction\": 7.636501928963438, \"Support\": \"Tank\", \"isSupport_bool\": false, \"isSupport\": 0, \"pred_log\": 0, \"pred_proba1\": 0.0025173324185245936, \"pred_proba2\": 0.02533866967126576}, {\"Hero\": \"Ramattra\", \"Skill Tier\": \"Diamond\", \"KDA\": 4.03, \"Pick Rate\": 3.29, \"Win Rate\": 51.05, \"Eliminations\": 20.09, \"Objective Kills\": 8.14, \"Objective Time\": 119, \"Damage\": 10106, \"Deaths\": 6.54, \"Role\": \"Tank\", \"Prediction\": 7.657018586178663, \"Support\": \"Tank\", \"isSupport_bool\": false, \"isSupport\": 0, \"pred_log\": 0, \"pred_proba1\": 0.002367915962366419, \"pred_proba2\": 0.03316524462431394}, {\"Hero\": \"Ramattra\", \"Skill Tier\": \"Master\", \"KDA\": 3.79, \"Pick Rate\": 3.86, \"Win Rate\": 50.99, \"Eliminations\": 19.71, \"Objective Kills\": 7.69, \"Objective Time\": 113, \"Damage\": 10050, \"Deaths\": 6.56, \"Role\": \"Tank\", \"Prediction\": 7.5270797571489005, \"Support\": \"Tank\", \"isSupport_bool\": false, \"isSupport\": 0, \"pred_log\": 0, \"pred_proba1\": 0.0034881417521252975, \"pred_proba2\": 0.05010000658088791}, {\"Hero\": \"Ramattra\", \"Skill Tier\": \"Grandmaster\", \"KDA\": 3.77, \"Pick Rate\": 5.09, \"Win Rate\": 50.92, \"Eliminations\": 18.88, \"Objective Kills\": 7.08, \"Objective Time\": 109, \"Damage\": 9894, \"Deaths\": 6.5, \"Role\": \"Tank\", \"Prediction\": 7.243265999004944, \"Support\": \"Tank\", \"isSupport_bool\": false, \"isSupport\": 0, \"pred_log\": 0, \"pred_proba1\": 0.008111205689807536, \"pred_proba2\": 0.08633808972330428}, {\"Hero\": \"Junker Queen\", \"Skill Tier\": \"Bronze\", \"KDA\": 4.1, \"Pick Rate\": 0.49, \"Win Rate\": 40.98, \"Eliminations\": 16.77, \"Objective Kills\": 7.76, \"Objective Time\": 130, \"Damage\": 7609, \"Deaths\": 7.03, \"Role\": \"Tank\", \"Prediction\": 6.521763553602841, \"Support\": \"Tank\", \"isSupport_bool\": false, \"isSupport\": 0, \"pred_log\": 0, \"pred_proba1\": 0.06603434699899856, \"pred_proba2\": 0.04700955745054764}, {\"Hero\": \"Junker Queen\", \"Skill Tier\": \"Silver\", \"KDA\": 4.37, \"Pick Rate\": 0.43, \"Win Rate\": 43.47, \"Eliminations\": 18.21, \"Objective Kills\": 8.11, \"Objective Time\": 135, \"Damage\": 8272, \"Deaths\": 6.74, \"Role\": \"Tank\", \"Prediction\": 7.014163326768258, \"Support\": \"Tank\", \"isSupport_bool\": false, \"isSupport\": 0, \"pred_log\": 0, \"pred_proba1\": 0.015962707020684225, \"pred_proba2\": 0.03409726994186175}, {\"Hero\": \"Junker Queen\", \"Skill Tier\": \"Gold\", \"KDA\": 4.76, \"Pick Rate\": 0.59, \"Win Rate\": 46.97, \"Eliminations\": 19.33, \"Objective Kills\": 8.22, \"Objective Time\": 128, \"Damage\": 8828, \"Deaths\": 6.62, \"Role\": \"Tank\", \"Prediction\": 7.3971409281191365, \"Support\": \"Tank\", \"isSupport_bool\": false, \"isSupport\": 0, \"pred_log\": 0, \"pred_proba1\": 0.005135601551403876, \"pred_proba2\": 0.03079859817682378}, {\"Hero\": \"Junker Queen\", \"Skill Tier\": \"Platinum\", \"KDA\": 4.76, \"Pick Rate\": 0.88, \"Win Rate\": 49.24, \"Eliminations\": 19.97, \"Objective Kills\": 8.12, \"Objective Time\": 120, \"Damage\": 9300, \"Deaths\": 6.6, \"Role\": \"Tank\", \"Prediction\": 7.615985271748211, \"Support\": \"Tank\", \"isSupport_bool\": false, \"isSupport\": 0, \"pred_log\": 0, \"pred_proba1\": 0.0026761518222890757, \"pred_proba2\": 0.03378382083905764}, {\"Hero\": \"Junker Queen\", \"Skill Tier\": \"Diamond\", \"KDA\": 4.82, \"Pick Rate\": 1.5, \"Win Rate\": 50.64, \"Eliminations\": 20.44, \"Objective Kills\": 7.95, \"Objective Time\": 113, \"Damage\": 9631, \"Deaths\": 6.57, \"Role\": \"Tank\", \"Prediction\": 7.7766990866008125, \"Support\": \"Tank\", \"isSupport_bool\": false, \"isSupport\": 0, \"pred_log\": 0, \"pred_proba1\": 0.0016568363546655004, \"pred_proba2\": 0.03951000893869008}, {\"Hero\": \"Junker Queen\", \"Skill Tier\": \"Master\", \"KDA\": 4.78, \"Pick Rate\": 1.89, \"Win Rate\": 50.34, \"Eliminations\": 20.66, \"Objective Kills\": 7.68, \"Objective Time\": 106, \"Damage\": 9760, \"Deaths\": 6.56, \"Role\": \"Tank\", \"Prediction\": 7.851926829723307, \"Support\": \"Tank\", \"isSupport_bool\": false, \"isSupport\": 0, \"pred_log\": 0, \"pred_proba1\": 0.0013235702954843482, \"pred_proba2\": 0.05055691755568817}, {\"Hero\": \"Junker Queen\", \"Skill Tier\": \"Grandmaster\", \"KDA\": 4.73, \"Pick Rate\": 2.55, \"Win Rate\": 51.87, \"Eliminations\": 20.37, \"Objective Kills\": 7.39, \"Objective Time\": 101, \"Damage\": 9682, \"Deaths\": 6.46, \"Role\": \"Tank\", \"Prediction\": 7.752762986516383, \"Support\": \"Tank\", \"isSupport_bool\": false, \"isSupport\": 0, \"pred_log\": 0, \"pred_proba1\": 0.001779530599942102, \"pred_proba2\": 0.06564821886023622}, {\"Hero\": \"Echo\", \"Skill Tier\": \"Bronze\", \"KDA\": 2.23, \"Pick Rate\": 0.46, \"Win Rate\": 40.7, \"Eliminations\": 15.66, \"Objective Kills\": 6.37, \"Objective Time\": 64, \"Damage\": 7102, \"Deaths\": 8.36, \"Role\": \"Damage\", \"Prediction\": 6.142205395121166, \"Support\": \"Damage\", \"isSupport_bool\": false, \"isSupport\": 0, \"pred_log\": 0, \"pred_proba1\": 0.1802747696975605, \"pred_proba2\": 0.15703639012574025}, {\"Hero\": \"Echo\", \"Skill Tier\": \"Silver\", \"KDA\": 2.41, \"Pick Rate\": 0.53, \"Win Rate\": 43.02, \"Eliminations\": 16.96, \"Objective Kills\": 6.54, \"Objective Time\": 63, \"Damage\": 7458, \"Deaths\": 8.47, \"Role\": \"Damage\", \"Prediction\": 6.5867329681177225, \"Support\": \"Damage\", \"isSupport_bool\": false, \"isSupport\": 0, \"pred_log\": 0, \"pred_proba1\": 0.05501797977195825, \"pred_proba2\": 0.1367013256329639}, {\"Hero\": \"Echo\", \"Skill Tier\": \"Gold\", \"KDA\": 2.61, \"Pick Rate\": 0.62, \"Win Rate\": 46.33, \"Eliminations\": 17.62, \"Objective Kills\": 6.52, \"Objective Time\": 62, \"Damage\": 7874, \"Deaths\": 8.28, \"Role\": \"Damage\", \"Prediction\": 6.812416197485205, \"Support\": \"Damage\", \"isSupport_bool\": false, \"isSupport\": 0, \"pred_log\": 0, \"pred_proba1\": 0.02879772109176545, \"pred_proba2\": 0.13897341282924006}, {\"Hero\": \"Echo\", \"Skill Tier\": \"Platinum\", \"KDA\": 2.67, \"Pick Rate\": 0.86, \"Win Rate\": 45.16, \"Eliminations\": 18.34, \"Objective Kills\": 6.44, \"Objective Time\": 60, \"Damage\": 8249, \"Deaths\": 8.24, \"Role\": \"Damage\", \"Prediction\": 7.058616084067913, \"Support\": \"Damage\", \"isSupport_bool\": false, \"isSupport\": 0, \"pred_log\": 0, \"pred_proba1\": 0.014003983491495292, \"pred_proba2\": 0.14837990725282318}, {\"Hero\": \"Echo\", \"Skill Tier\": \"Diamond\", \"KDA\": 2.73, \"Pick Rate\": 1.57, \"Win Rate\": 47.7, \"Eliminations\": 18.85, \"Objective Kills\": 6.22, \"Objective Time\": 57, \"Damage\": 8639, \"Deaths\": 8.15, \"Role\": \"Damage\", \"Prediction\": 7.233007670397332, \"Support\": \"Damage\", \"isSupport_bool\": false, \"isSupport\": 0, \"pred_log\": 0, \"pred_proba1\": 0.008361715419213819, \"pred_proba2\": 0.17696456938766858}, {\"Hero\": \"Echo\", \"Skill Tier\": \"Master\", \"KDA\": 2.74, \"Pick Rate\": 2.05, \"Win Rate\": 50.15, \"Eliminations\": 19.17, \"Objective Kills\": 5.98, \"Objective Time\": 53, \"Damage\": 8929, \"Deaths\": 8.11, \"Role\": \"Damage\", \"Prediction\": 7.342429842211869, \"Support\": \"Damage\", \"isSupport_bool\": false, \"isSupport\": 0, \"pred_log\": 0, \"pred_proba1\": 0.0060427324683815535, \"pred_proba2\": 0.21288616686795359}, {\"Hero\": \"Echo\", \"Skill Tier\": \"Grandmaster\", \"KDA\": 2.9, \"Pick Rate\": 3.32, \"Win Rate\": 50.45, \"Eliminations\": 19.25, \"Objective Kills\": 5.51, \"Objective Time\": 49, \"Damage\": 9419, \"Deaths\": 7.7, \"Role\": \"Damage\", \"Prediction\": 7.369785385165502, \"Support\": \"Damage\", \"isSupport_bool\": false, \"isSupport\": 0, \"pred_log\": 0, \"pred_proba1\": 0.005570836276415861, \"pred_proba2\": 0.2976933503060438}]}}, {\"mode\": \"vega-lite\"});\n",
       "</script>"
      ],
      "text/plain": [
       "alt.HConcatChart(...)"
      ]
     },
     "execution_count": 20,
     "metadata": {},
     "output_type": "execute_result"
    }
   ],
   "source": [
    "c5|c6"
   ]
  },
  {
   "cell_type": "markdown",
   "metadata": {
    "cell_id": "67f2835fc3d44f8e9c3acc78141531de",
    "deepnote_cell_type": "markdown"
   },
   "source": [
    "Shows the distribution of who is a support character in each rank based off of their eliminations (c5) and their objective kills (c6)"
   ]
  },
  {
   "cell_type": "code",
   "execution_count": 21,
   "metadata": {
    "cell_id": "a6363222d1b2459dbec0aad80b6fcd63",
    "deepnote_cell_type": "code",
    "deepnote_to_be_reexecuted": false,
    "execution_millis": 215,
    "execution_start": 1686772060603,
    "source_hash": "c8e6b88f"
   },
   "outputs": [
    {
     "data": {
      "text/html": [
       "\n",
       "<div id=\"altair-viz-93c5c800d1cf4d1ab1064dc009710ea0\"></div>\n",
       "<script type=\"text/javascript\">\n",
       "  var VEGA_DEBUG = (typeof VEGA_DEBUG == \"undefined\") ? {} : VEGA_DEBUG;\n",
       "  (function(spec, embedOpt){\n",
       "    let outputDiv = document.currentScript.previousElementSibling;\n",
       "    if (outputDiv.id !== \"altair-viz-93c5c800d1cf4d1ab1064dc009710ea0\") {\n",
       "      outputDiv = document.getElementById(\"altair-viz-93c5c800d1cf4d1ab1064dc009710ea0\");\n",
       "    }\n",
       "    const paths = {\n",
       "      \"vega\": \"https://cdn.jsdelivr.net/npm//vega@5?noext\",\n",
       "      \"vega-lib\": \"https://cdn.jsdelivr.net/npm//vega-lib?noext\",\n",
       "      \"vega-lite\": \"https://cdn.jsdelivr.net/npm//vega-lite@4.17.0?noext\",\n",
       "      \"vega-embed\": \"https://cdn.jsdelivr.net/npm//vega-embed@6?noext\",\n",
       "    };\n",
       "\n",
       "    function maybeLoadScript(lib, version) {\n",
       "      var key = `${lib.replace(\"-\", \"\")}_version`;\n",
       "      return (VEGA_DEBUG[key] == version) ?\n",
       "        Promise.resolve(paths[lib]) :\n",
       "        new Promise(function(resolve, reject) {\n",
       "          var s = document.createElement('script');\n",
       "          document.getElementsByTagName(\"head\")[0].appendChild(s);\n",
       "          s.async = true;\n",
       "          s.onload = () => {\n",
       "            VEGA_DEBUG[key] = version;\n",
       "            return resolve(paths[lib]);\n",
       "          };\n",
       "          s.onerror = () => reject(`Error loading script: ${paths[lib]}`);\n",
       "          s.src = paths[lib];\n",
       "        });\n",
       "    }\n",
       "\n",
       "    function showError(err) {\n",
       "      outputDiv.innerHTML = `<div class=\"error\" style=\"color:red;\">${err}</div>`;\n",
       "      throw err;\n",
       "    }\n",
       "\n",
       "    function displayChart(vegaEmbed) {\n",
       "      vegaEmbed(outputDiv, spec, embedOpt)\n",
       "        .catch(err => showError(`Javascript Error: ${err.message}<br>This usually means there's a typo in your chart specification. See the javascript console for the full traceback.`));\n",
       "    }\n",
       "\n",
       "    if(typeof define === \"function\" && define.amd) {\n",
       "      requirejs.config({paths});\n",
       "      require([\"vega-embed\"], displayChart, err => showError(`Error loading script: ${err.message}`));\n",
       "    } else {\n",
       "      maybeLoadScript(\"vega\", \"5\")\n",
       "        .then(() => maybeLoadScript(\"vega-lite\", \"4.17.0\"))\n",
       "        .then(() => maybeLoadScript(\"vega-embed\", \"6\"))\n",
       "        .catch(showError)\n",
       "        .then(() => displayChart(vegaEmbed));\n",
       "    }\n",
       "  })({\"config\": {\"view\": {\"continuousWidth\": 400, \"continuousHeight\": 300}}, \"hconcat\": [{\"mark\": {\"type\": \"circle\", \"color\": \"red\"}, \"encoding\": {\"x\": {\"field\": \"Eliminations\", \"type\": \"quantitative\"}, \"y\": {\"field\": \"pred_log\", \"type\": \"quantitative\"}}}, {\"layer\": [{\"mark\": \"circle\", \"encoding\": {\"x\": {\"field\": \"Eliminations\", \"type\": \"quantitative\"}, \"y\": {\"field\": \"isSupport\", \"type\": \"quantitative\"}}}, {\"mark\": {\"type\": \"circle\", \"color\": \"red\"}, \"encoding\": {\"x\": {\"field\": \"Eliminations\", \"type\": \"quantitative\"}, \"y\": {\"field\": \"pred_proba1\", \"type\": \"quantitative\"}}}]}], \"data\": {\"name\": \"data-fe4e02e845445b6e1d01961f13300fd4\"}, \"$schema\": \"https://vega.github.io/schema/vega-lite/v4.17.0.json\", \"datasets\": {\"data-fe4e02e845445b6e1d01961f13300fd4\": [{\"Hero\": \"Ana\", \"Skill Tier\": \"Bronze\", \"KDA\": 3.87, \"Pick Rate\": 3.71, \"Win Rate\": 43.97, \"Eliminations\": 8.37, \"Objective Kills\": 3.8, \"Objective Time\": 61, \"Damage\": 2508, \"Deaths\": 6.47, \"Role\": \"Support\", \"Prediction\": 3.649431543471243, \"Support\": \"Support\", \"isSupport_bool\": true, \"isSupport\": 1, \"pred_log\": 1, \"pred_proba1\": 0.9973702722693809, \"pred_proba2\": 0.684906752844285}, {\"Hero\": \"Ana\", \"Skill Tier\": \"Silver\", \"KDA\": 4.01, \"Pick Rate\": 3.78, \"Win Rate\": 46.68, \"Eliminations\": 8.88, \"Objective Kills\": 4.08, \"Objective Time\": 64, \"Damage\": 2573, \"Deaths\": 6.36, \"Role\": \"Support\", \"Prediction\": 3.8238231298006617, \"Support\": \"Support\", \"isSupport_bool\": true, \"isSupport\": 1, \"pred_log\": 1, \"pred_proba1\": 0.9955785549474382, \"pred_proba2\": 0.6245111923135378}, {\"Hero\": \"Ana\", \"Skill Tier\": \"Gold\", \"KDA\": 4.36, \"Pick Rate\": 5.46, \"Win Rate\": 48.9, \"Eliminations\": 9.21, \"Objective Kills\": 4.14, \"Objective Time\": 65, \"Damage\": 2610, \"Deaths\": 6.13, \"Role\": \"Support\", \"Prediction\": 3.9366647444844034, \"Support\": \"Support\", \"isSupport_bool\": true, \"isSupport\": 1, \"pred_log\": 1, \"pred_proba1\": 0.9938154122019981, \"pred_proba2\": 0.610967761941894}, {\"Hero\": \"Ana\", \"Skill Tier\": \"Platinum\", \"KDA\": 4.56, \"Pick Rate\": 9.33, \"Win Rate\": 50.45, \"Eliminations\": 9.53, \"Objective Kills\": 4.18, \"Objective Time\": 65, \"Damage\": 2661, \"Deaths\": 5.89, \"Role\": \"Support\", \"Prediction\": 4.04608691629894, \"Support\": \"Support\", \"isSupport_bool\": true, \"isSupport\": 1, \"pred_log\": 1, \"pred_proba1\": 0.9914424589837644, \"pred_proba2\": 0.6018412496484534}, {\"Hero\": \"Ana\", \"Skill Tier\": \"Diamond\", \"KDA\": 4.6, \"Pick Rate\": 16.5, \"Win Rate\": 51.3, \"Eliminations\": 9.7, \"Objective Kills\": 4.11, \"Objective Time\": 63, \"Damage\": 2709, \"Deaths\": 5.74, \"Role\": \"Support\", \"Prediction\": 4.104217445075413, \"Support\": \"Support\", \"isSupport_bool\": true, \"isSupport\": 1, \"pred_log\": 1, \"pred_proba1\": 0.9898346522555381, \"pred_proba2\": 0.6177623459585777}, {\"Hero\": \"Ana\", \"Skill Tier\": \"Master\", \"KDA\": 4.63, \"Pick Rate\": 22.77, \"Win Rate\": 52.67, \"Eliminations\": 9.75, \"Objective Kills\": 3.98, \"Objective Time\": 62, \"Damage\": 2756, \"Deaths\": 5.63, \"Role\": \"Support\", \"Prediction\": 4.121314659421435, \"Support\": \"Support\", \"isSupport_bool\": true, \"isSupport\": 1, \"pred_log\": 1, \"pred_proba1\": 0.9893072302833722, \"pred_proba2\": 0.6466482044610586}, {\"Hero\": \"Ana\", \"Skill Tier\": \"Grandmaster\", \"KDA\": 4.51, \"Pick Rate\": 28.03, \"Win Rate\": 53.26, \"Eliminations\": 9.45, \"Objective Kills\": 3.6, \"Objective Time\": 58, \"Damage\": 2803, \"Deaths\": 5.56, \"Role\": \"Support\", \"Prediction\": 4.018731373345306, \"Support\": \"Support\", \"isSupport_bool\": true, \"isSupport\": 1, \"pred_log\": 1, \"pred_proba1\": 0.9921091854778531, \"pred_proba2\": 0.7246427519279371}, {\"Hero\": \"Mercy\", \"Skill Tier\": \"Bronze\", \"KDA\": 3.53, \"Pick Rate\": 3.69, \"Win Rate\": 44.85, \"Eliminations\": 1.74, \"Objective Kills\": 0.77, \"Objective Time\": 58, \"Damage\": 346, \"Deaths\": 6.88, \"Role\": \"Support\", \"Prediction\": 1.3823409211888036, \"Support\": \"Support\", \"isSupport_bool\": true, \"isSupport\": 1, \"pred_log\": 1, \"pred_proba1\": 0.9999969980272763, \"pred_proba2\": 0.975229604174829}, {\"Hero\": \"Mercy\", \"Skill Tier\": \"Silver\", \"KDA\": 3.84, \"Pick Rate\": 3.48, \"Win Rate\": 48.46, \"Eliminations\": 1.89, \"Objective Kills\": 0.81, \"Objective Time\": 58, \"Damage\": 357, \"Deaths\": 6.57, \"Role\": \"Support\", \"Prediction\": 1.433632564226868, \"Support\": \"Support\", \"isSupport_bool\": true, \"isSupport\": 1, \"pred_log\": 1, \"pred_proba1\": 0.9999965005091775, \"pred_proba2\": 0.9742888893299522}, {\"Hero\": \"Mercy\", \"Skill Tier\": \"Gold\", \"KDA\": 4.03, \"Pick Rate\": 3.87, \"Win Rate\": 49.77, \"Eliminations\": 1.81, \"Objective Kills\": 0.73, \"Objective Time\": 56, \"Damage\": 344, \"Deaths\": 6.32, \"Role\": \"Support\", \"Prediction\": 1.4062770212732336, \"Support\": \"Support\", \"isSupport_bool\": true, \"isSupport\": 1, \"pred_log\": 1, \"pred_proba1\": 0.9999967753256191, \"pred_proba2\": 0.9761367432832179}, {\"Hero\": \"Mercy\", \"Skill Tier\": \"Platinum\", \"KDA\": 4.24, \"Pick Rate\": 5.47, \"Win Rate\": 51.27, \"Eliminations\": 1.77, \"Objective Kills\": 0.67, \"Objective Time\": 53, \"Damage\": 331, \"Deaths\": 6.02, \"Role\": \"Support\", \"Prediction\": 1.3925992497964166, \"Support\": \"Support\", \"isSupport_bool\": true, \"isSupport\": 1, \"pred_log\": 1, \"pred_proba1\": 0.9999969045316498, \"pred_proba2\": 0.9774369767477917}, {\"Hero\": \"Mercy\", \"Skill Tier\": \"Diamond\", \"KDA\": 4.26, \"Pick Rate\": 9.36, \"Win Rate\": 51.8, \"Eliminations\": 1.76, \"Objective Kills\": 0.62, \"Objective Time\": 49, \"Damage\": 326, \"Deaths\": 5.86, \"Role\": \"Support\", \"Prediction\": 1.3891798069272123, \"Support\": \"Support\", \"isSupport_bool\": true, \"isSupport\": 1, \"pred_log\": 1, \"pred_proba1\": 0.9999969360160028, \"pred_proba2\": 0.9784674173476322}, {\"Hero\": \"Mercy\", \"Skill Tier\": \"Master\", \"KDA\": 4.3, \"Pick Rate\": 11.9, \"Win Rate\": 52.56, \"Eliminations\": 1.71, \"Objective Kills\": 0.59, \"Objective Time\": 45, \"Damage\": 318, \"Deaths\": 5.83, \"Role\": \"Support\", \"Prediction\": 1.372082592581191, \"Support\": \"Support\", \"isSupport_bool\": true, \"isSupport\": 1, \"pred_log\": 1, \"pred_proba1\": 0.9999970886989658, \"pred_proba2\": 0.9790634400530913}, {\"Hero\": \"Mercy\", \"Skill Tier\": \"Grandmaster\", \"KDA\": 4.37, \"Pick Rate\": 17.97, \"Win Rate\": 52.16, \"Eliminations\": 1.56, \"Objective Kills\": 0.53, \"Objective Time\": 42, \"Damage\": 296, \"Deaths\": 5.71, \"Role\": \"Support\", \"Prediction\": 1.3207909495431267, \"Support\": \"Support\", \"isSupport_bool\": true, \"isSupport\": 1, \"pred_log\": 1, \"pred_proba1\": 0.9999975025950891, \"pred_proba2\": 0.9802074404664043}, {\"Hero\": \"Cassidy\", \"Skill Tier\": \"Bronze\", \"KDA\": 2.22, \"Pick Rate\": 1.62, \"Win Rate\": 43.02, \"Eliminations\": 15.72, \"Objective Kills\": 6.56, \"Objective Time\": 61, \"Damage\": 7402, \"Deaths\": 8.38, \"Role\": \"Damage\", \"Prediction\": 6.162722052336391, \"Support\": \"Damage\", \"isSupport_bool\": false, \"isSupport\": 0, \"pred_log\": 0, \"pred_proba1\": 0.17138738570140238, \"pred_proba2\": 0.13446058405036312}, {\"Hero\": \"Cassidy\", \"Skill Tier\": \"Silver\", \"KDA\": 2.28, \"Pick Rate\": 2.03, \"Win Rate\": 45.79, \"Eliminations\": 16.64, \"Objective Kills\": 6.71, \"Objective Time\": 60, \"Damage\": 7715, \"Deaths\": 8.26, \"Role\": \"Damage\", \"Prediction\": 6.477310796303185, \"Support\": \"Damage\", \"isSupport_bool\": false, \"isSupport\": 0, \"pred_log\": 0, \"pred_proba1\": 0.07471902087602363, \"pred_proba2\": 0.11862893133524721}, {\"Hero\": \"Cassidy\", \"Skill Tier\": \"Gold\", \"KDA\": 2.44, \"Pick Rate\": 2.85, \"Win Rate\": 47.34, \"Eliminations\": 17.37, \"Objective Kills\": 6.81, \"Objective Time\": 58, \"Damage\": 8110, \"Deaths\": 8.12, \"Role\": \"Damage\", \"Prediction\": 6.726930125755098, \"Support\": \"Damage\", \"isSupport_bool\": false, \"isSupport\": 0, \"pred_log\": 0, \"pred_proba1\": 0.036874695566641344, \"pred_proba2\": 0.10899228291612378}, {\"Hero\": \"Cassidy\", \"Skill Tier\": \"Platinum\", \"KDA\": 2.46, \"Pick Rate\": 5.18, \"Win Rate\": 48.84, \"Eliminations\": 18.1, \"Objective Kills\": 6.89, \"Objective Time\": 56, \"Damage\": 8568, \"Deaths\": 8.06, \"Role\": \"Damage\", \"Prediction\": 6.976549455207011, \"Support\": \"Damage\", \"isSupport_bool\": false, \"isSupport\": 0, \"pred_log\": 0, \"pred_proba1\": 0.01782875341911262, \"pred_proba2\": 0.10178432028525584}, {\"Hero\": \"Cassidy\", \"Skill Tier\": \"Diamond\", \"KDA\": 2.5, \"Pick Rate\": 10.21, \"Win Rate\": 50.22, \"Eliminations\": 18.6, \"Objective Kills\": 6.83, \"Objective Time\": 54, \"Damage\": 8967, \"Deaths\": 8.01, \"Role\": \"Damage\", \"Prediction\": 7.147521598667225, \"Support\": \"Damage\", \"isSupport_bool\": false, \"isSupport\": 0, \"pred_log\": 0, \"pred_proba1\": 0.010770512588679018, \"pred_proba2\": 0.10714936174057944}, {\"Hero\": \"Cassidy\", \"Skill Tier\": \"Master\", \"KDA\": 2.45, \"Pick Rate\": 15.45, \"Win Rate\": 50.35, \"Eliminations\": 18.68, \"Objective Kills\": 6.65, \"Objective Time\": 52, \"Damage\": 9277, \"Deaths\": 7.94, \"Role\": \"Damage\", \"Prediction\": 7.1748771416208585, \"Support\": \"Damage\", \"isSupport_bool\": false, \"isSupport\": 0, \"pred_log\": 0, \"pred_proba1\": 0.009933098683683996, \"pred_proba2\": 0.1247585279372261}, {\"Hero\": \"Cassidy\", \"Skill Tier\": \"Grandmaster\", \"KDA\": 2.45, \"Pick Rate\": 19.55, \"Win Rate\": 51.77, \"Eliminations\": 18.36, \"Objective Kills\": 6.25, \"Objective Time\": 48, \"Damage\": 9584, \"Deaths\": 7.77, \"Role\": \"Damage\", \"Prediction\": 7.065454969806321, \"Support\": \"Damage\", \"isSupport_bool\": false, \"isSupport\": 0, \"pred_log\": 0, \"pred_proba1\": 0.013724449054572596, \"pred_proba2\": 0.17282610720985495}, {\"Hero\": \"Genji\", \"Skill Tier\": \"Bronze\", \"KDA\": 2.27, \"Pick Rate\": 1.04, \"Win Rate\": 44.55, \"Eliminations\": 15.44, \"Objective Kills\": 5.22, \"Objective Time\": 71, \"Damage\": 6338, \"Deaths\": 8.37, \"Role\": \"Damage\", \"Prediction\": 6.066977651998671, \"Support\": \"Damage\", \"isSupport_bool\": false, \"isSupport\": 0, \"pred_log\": 0, \"pred_proba1\": 0.21592456361913473, \"pred_proba2\": 0.3586857484826997}, {\"Hero\": \"Genji\", \"Skill Tier\": \"Silver\", \"KDA\": 2.24, \"Pick Rate\": 1.1, \"Win Rate\": 46.33, \"Eliminations\": 16.04, \"Objective Kills\": 5.31, \"Objective Time\": 71, \"Damage\": 6594, \"Deaths\": 8.48, \"Role\": \"Damage\", \"Prediction\": 6.272144224150928, \"Support\": \"Damage\", \"isSupport_bool\": false, \"isSupport\": 0, \"pred_log\": 0, \"pred_proba1\": 0.12977276056241396, \"pred_proba2\": 0.33914407231903937}, {\"Hero\": \"Genji\", \"Skill Tier\": \"Gold\", \"KDA\": 2.35, \"Pick Rate\": 1.81, \"Win Rate\": 48.5, \"Eliminations\": 17.04, \"Objective Kills\": 5.31, \"Objective Time\": 68, \"Damage\": 6944, \"Deaths\": 8.37, \"Role\": \"Damage\", \"Prediction\": 6.614088511071356, \"Support\": \"Damage\", \"isSupport_bool\": false, \"isSupport\": 0, \"pred_log\": 0, \"pred_proba1\": 0.05091737497505442, \"pred_proba2\": 0.33914407231903937}, {\"Hero\": \"Genji\", \"Skill Tier\": \"Platinum\", \"KDA\": 2.42, \"Pick Rate\": 3.66, \"Win Rate\": 50.09, \"Eliminations\": 18.03, \"Objective Kills\": 5.32, \"Objective Time\": 66, \"Damage\": 7270, \"Deaths\": 8.34, \"Role\": \"Damage\", \"Prediction\": 6.952613355122581, \"Support\": \"Damage\", \"isSupport_bool\": false, \"isSupport\": 0, \"pred_log\": 0, \"pred_proba1\": 0.019126088819814455, \"pred_proba2\": 0.33700479179140946}, {\"Hero\": \"Genji\", \"Skill Tier\": \"Diamond\", \"KDA\": 2.48, \"Pick Rate\": 6.66, \"Win Rate\": 50.57, \"Eliminations\": 18.63, \"Objective Kills\": 5.25, \"Objective Time\": 65, \"Damage\": 7519, \"Deaths\": 8.27, \"Role\": \"Damage\", \"Prediction\": 7.157779927274837, \"Support\": \"Damage\", \"isSupport_bool\": false, \"isSupport\": 0, \"pred_log\": 0, \"pred_proba1\": 0.01044859777491468, \"pred_proba2\": 0.3521157175612596}, {\"Hero\": \"Genji\", \"Skill Tier\": \"Master\", \"KDA\": 2.46, \"Pick Rate\": 10.52, \"Win Rate\": 51.56, \"Eliminations\": 18.74, \"Objective Kills\": 4.98, \"Objective Time\": 62, \"Damage\": 7600, \"Deaths\": 8.23, \"Role\": \"Damage\", \"Prediction\": 7.195393798836084, \"Support\": \"Damage\", \"isSupport_bool\": false, \"isSupport\": 0, \"pred_log\": 0, \"pred_proba1\": 0.009347643733819662, \"pred_proba2\": 0.4129851431213646}, {\"Hero\": \"Genji\", \"Skill Tier\": \"Grandmaster\", \"KDA\": 2.51, \"Pick Rate\": 12.51, \"Win Rate\": 53.37, \"Eliminations\": 18.77, \"Objective Kills\": 4.69, \"Objective Time\": 59, \"Damage\": 7692, \"Deaths\": 8.0, \"Role\": \"Damage\", \"Prediction\": 7.205652127443697, \"Support\": \"Damage\", \"isSupport_bool\": false, \"isSupport\": 0, \"pred_log\": 0, \"pred_proba1\": 0.009067866549792337, \"pred_proba2\": 0.48140726551220475}, {\"Hero\": \"Kiriko\", \"Skill Tier\": \"Bronze\", \"KDA\": 4.25, \"Pick Rate\": 3.52, \"Win Rate\": 43.06, \"Eliminations\": 7.23, \"Objective Kills\": 3.45, \"Objective Time\": 70, \"Damage\": 2154, \"Deaths\": 6.25, \"Role\": \"Support\", \"Prediction\": 3.2596150563819553, \"Support\": \"Support\", \"isSupport_bool\": true, \"isSupport\": 1, \"pred_log\": 1, \"pred_proba1\": 0.9991786085780787, \"pred_proba2\": 0.7523166050080607}, {\"Hero\": \"Kiriko\", \"Skill Tier\": \"Silver\", \"KDA\": 4.52, \"Pick Rate\": 3.45, \"Win Rate\": 43.86, \"Eliminations\": 7.51, \"Objective Kills\": 3.58, \"Objective Time\": 73, \"Damage\": 2177, \"Deaths\": 6.11, \"Role\": \"Support\", \"Prediction\": 3.355359456719675, \"Support\": \"Support\", \"isSupport_bool\": true, \"isSupport\": 1, \"pred_log\": 1, \"pred_proba1\": 0.99890667610601, \"pred_proba2\": 0.7284413496241469}, {\"Hero\": \"Kiriko\", \"Skill Tier\": \"Gold\", \"KDA\": 4.72, \"Pick Rate\": 4.3, \"Win Rate\": 45.48, \"Eliminations\": 7.8, \"Objective Kills\": 3.59, \"Objective Time\": 72, \"Damage\": 2246, \"Deaths\": 5.94, \"Role\": \"Support\", \"Prediction\": 3.454523299926599, \"Support\": \"Support\", \"isSupport_bool\": true, \"isSupport\": 1, \"pred_log\": 1, \"pred_proba1\": 0.9985299172471579, \"pred_proba2\": 0.7265461641107656}, {\"Hero\": \"Kiriko\", \"Skill Tier\": \"Platinum\", \"KDA\": 4.8, \"Pick Rate\": 6.53, \"Win Rate\": 46.71, \"Eliminations\": 8.06, \"Objective Kills\": 3.59, \"Objective Time\": 71, \"Damage\": 2313, \"Deaths\": 5.77, \"Role\": \"Support\", \"Prediction\": 3.5434288145259107, \"Support\": \"Support\", \"isSupport_bool\": true, \"isSupport\": 1, \"pred_log\": 1, \"pred_proba1\": 0.9980831658316569, \"pred_proba2\": 0.7265461641107656}, {\"Hero\": \"Kiriko\", \"Skill Tier\": \"Diamond\", \"KDA\": 4.95, \"Pick Rate\": 10.38, \"Win Rate\": 47.1, \"Eliminations\": 8.42, \"Objective Kills\": 3.6, \"Objective Time\": 69, \"Damage\": 2444, \"Deaths\": 5.65, \"Role\": \"Support\", \"Prediction\": 3.6665287578172645, \"Support\": \"Support\", \"isSupport_bool\": true, \"isSupport\": 1, \"pred_log\": 1, \"pred_proba1\": 0.9972327376250568, \"pred_proba2\": 0.7246427519279371}, {\"Hero\": \"Kiriko\", \"Skill Tier\": \"Master\", \"KDA\": 4.86, \"Pick Rate\": 14.57, \"Win Rate\": 47.92, \"Eliminations\": 8.82, \"Objective Kills\": 3.65, \"Objective Time\": 66, \"Damage\": 2595, \"Deaths\": 5.59, \"Role\": \"Support\", \"Prediction\": 3.803306472585436, \"Support\": \"Support\", \"isSupport_bool\": true, \"isSupport\": 1, \"pred_log\": 1, \"pred_proba1\": 0.9958405188673124, \"pred_proba2\": 0.7150035126204147}, {\"Hero\": \"Kiriko\", \"Skill Tier\": \"Grandmaster\", \"KDA\": 4.74, \"Pick Rate\": 15.94, \"Win Rate\": 48.96, \"Eliminations\": 9.22, \"Objective Kills\": 3.54, \"Objective Time\": 62, \"Damage\": 2868, \"Deaths\": 5.63, \"Role\": \"Support\", \"Prediction\": 3.9400841873536074, \"Support\": \"Support\", \"isSupport_bool\": true, \"isSupport\": 1, \"pred_log\": 1, \"pred_proba1\": 0.993752258543802, \"pred_proba2\": 0.735939184158968}, {\"Hero\": \"Moira\", \"Skill Tier\": \"Bronze\", \"KDA\": 5.29, \"Pick Rate\": 4.44, \"Win Rate\": 45.21, \"Eliminations\": 16.49, \"Objective Kills\": 7.98, \"Objective Time\": 88, \"Damage\": 5098, \"Deaths\": 6.61, \"Role\": \"Support\", \"Prediction\": 6.42601915326512, \"Support\": \"Support\", \"isSupport_bool\": true, \"isSupport\": 1, \"pred_log\": 0, \"pred_proba1\": 0.08603685996592199, \"pred_proba2\": 0.038435917614708735}, {\"Hero\": \"Moira\", \"Skill Tier\": \"Silver\", \"KDA\": 5.77, \"Pick Rate\": 3.92, \"Win Rate\": 47.27, \"Eliminations\": 17.33, \"Objective Kills\": 8.31, \"Objective Time\": 88, \"Damage\": 5231, \"Deaths\": 6.43, \"Role\": \"Support\", \"Prediction\": 6.71325235427828, \"Support\": \"Support\", \"isSupport_bool\": true, \"isSupport\": 1, \"pred_log\": 0, \"pred_proba1\": 0.03835482984134678, \"pred_proba2\": 0.028331479827713335}, {\"Hero\": \"Moira\", \"Skill Tier\": \"Gold\", \"KDA\": 6.04, \"Pick Rate\": 4.46, \"Win Rate\": 49.03, \"Eliminations\": 17.78, \"Objective Kills\": 8.41, \"Objective Time\": 88, \"Damage\": 5332, \"Deaths\": 6.26, \"Role\": \"Support\", \"Prediction\": 6.867127283392474, \"Support\": \"Support\", \"isSupport_bool\": true, \"isSupport\": 1, \"pred_log\": 0, \"pred_proba1\": 0.02455902942310077, \"pred_proba2\": 0.02581516744920608}, {\"Hero\": \"Moira\", \"Skill Tier\": \"Platinum\", \"KDA\": 6.23, \"Pick Rate\": 4.86, \"Win Rate\": 49.38, \"Eliminations\": 18.1, \"Objective Kills\": 8.39, \"Objective Time\": 86, \"Damage\": 5427, \"Deaths\": 6.09, \"Role\": \"Support\", \"Prediction\": 6.976549455207011, \"Support\": \"Support\", \"isSupport_bool\": true, \"isSupport\": 1, \"pred_log\": 0, \"pred_proba1\": 0.01782875341911262, \"pred_proba2\": 0.026300384050426766}, {\"Hero\": \"Moira\", \"Skill Tier\": \"Diamond\", \"KDA\": 6.16, \"Pick Rate\": 6.38, \"Win Rate\": 50.49, \"Eliminations\": 18.06, \"Objective Kills\": 8.18, \"Objective Time\": 84, \"Damage\": 5463, \"Deaths\": 6.09, \"Role\": \"Support\", \"Prediction\": 6.962871683730193, \"Support\": \"Support\", \"isSupport_bool\": true, \"isSupport\": 1, \"pred_log\": 0, \"pred_proba1\": 0.0185591234388282, \"pred_proba2\": 0.031960745588002715}, {\"Hero\": \"Moira\", \"Skill Tier\": \"Master\", \"KDA\": 5.91, \"Pick Rate\": 6.04, \"Win Rate\": 49.59, \"Eliminations\": 17.85, \"Objective Kills\": 7.91, \"Objective Time\": 80, \"Damage\": 5475, \"Deaths\": 6.19, \"Role\": \"Support\", \"Prediction\": 6.8910633834769035, \"Support\": \"Support\", \"isSupport_bool\": true, \"isSupport\": 1, \"pred_log\": 0, \"pred_proba1\": 0.022901778356897915, \"pred_proba2\": 0.04098696963016457}, {\"Hero\": \"Moira\", \"Skill Tier\": \"Grandmaster\", \"KDA\": 5.57, \"Pick Rate\": 6.36, \"Win Rate\": 50.6, \"Eliminations\": 17.42, \"Objective Kills\": 7.48, \"Objective Time\": 78, \"Damage\": 5532, \"Deaths\": 6.3, \"Role\": \"Support\", \"Prediction\": 6.74402734010112, \"Support\": \"Support\", \"isSupport_bool\": true, \"isSupport\": 1, \"pred_log\": 0, \"pred_proba1\": 0.0351016685637503, \"pred_proba2\": 0.06056391984545625}, {\"Hero\": \"Reinhardt\", \"Skill Tier\": \"Bronze\", \"KDA\": 2.82, \"Pick Rate\": 1.81, \"Win Rate\": 45.39, \"Eliminations\": 15.24, \"Objective Kills\": 6.07, \"Objective Time\": 129, \"Damage\": 7393, \"Deaths\": 7.38, \"Role\": \"Tank\", \"Prediction\": 5.9985887946145855, \"Support\": \"Tank\", \"isSupport_bool\": false, \"isSupport\": 0, \"pred_log\": 0, \"pred_proba1\": 0.2525398956601732, \"pred_proba2\": 0.19882518553625744}, {\"Hero\": \"Reinhardt\", \"Skill Tier\": \"Silver\", \"KDA\": 3.05, \"Pick Rate\": 2.25, \"Win Rate\": 50.63, \"Eliminations\": 16.26, \"Objective Kills\": 6.37, \"Objective Time\": 130, \"Damage\": 7941, \"Deaths\": 7.07, \"Role\": \"Tank\", \"Prediction\": 6.347371967273423, \"Support\": \"Tank\", \"isSupport_bool\": false, \"isSupport\": 0, \"pred_log\": 0, \"pred_proba1\": 0.10641638716694292, \"pred_proba2\": 0.15703639012574025}, {\"Hero\": \"Reinhardt\", \"Skill Tier\": \"Gold\", \"KDA\": 3.13, \"Pick Rate\": 2.93, \"Win Rate\": 52.97, \"Eliminations\": 16.83, \"Objective Kills\": 6.43, \"Objective Time\": 126, \"Damage\": 8368, \"Deaths\": 6.91, \"Role\": \"Tank\", \"Prediction\": 6.542280210818066, \"Support\": \"Tank\", \"isSupport_bool\": false, \"isSupport\": 0, \"pred_log\": 0, \"pred_proba1\": 0.06235053163822072, \"pred_proba2\": 0.14959197617720305}, {\"Hero\": \"Reinhardt\", \"Skill Tier\": \"Platinum\", \"KDA\": 3.19, \"Pick Rate\": 4.89, \"Win Rate\": 54.39, \"Eliminations\": 17.2, \"Objective Kills\": 6.4, \"Objective Time\": 122, \"Damage\": 8718, \"Deaths\": 6.77, \"Role\": \"Tank\", \"Prediction\": 6.668799596978625, \"Support\": \"Tank\", \"isSupport_bool\": false, \"isSupport\": 0, \"pred_log\": 0, \"pred_proba1\": 0.043568982055985465, \"pred_proba2\": 0.15327717292149903}, {\"Hero\": \"Reinhardt\", \"Skill Tier\": \"Diamond\", \"KDA\": 3.14, \"Pick Rate\": 7.56, \"Win Rate\": 55.01, \"Eliminations\": 17.22, \"Objective Kills\": 6.17, \"Objective Time\": 117, \"Damage\": 8917, \"Deaths\": 6.75, \"Role\": \"Tank\", \"Prediction\": 6.675638482717033, \"Support\": \"Tank\", \"isSupport_bool\": false, \"isSupport\": 0, \"pred_log\": 0, \"pred_proba1\": 0.042724870882039856, \"pred_proba2\": 0.18403419405740148}, {\"Hero\": \"Reinhardt\", \"Skill Tier\": \"Master\", \"KDA\": 3.04, \"Pick Rate\": 9.02, \"Win Rate\": 54.73, \"Eliminations\": 16.96, \"Objective Kills\": 5.88, \"Objective Time\": 113, \"Damage\": 8887, \"Deaths\": 6.83, \"Role\": \"Tank\", \"Prediction\": 6.5867329681177225, \"Support\": \"Tank\", \"isSupport_bool\": false, \"isSupport\": 0, \"pred_log\": 0, \"pred_proba1\": 0.05501797977195825, \"pred_proba2\": 0.22934425328581726}, {\"Hero\": \"Reinhardt\", \"Skill Tier\": \"Grandmaster\", \"KDA\": 2.94, \"Pick Rate\": 10.75, \"Win Rate\": 56.01, \"Eliminations\": 16.32, \"Objective Kills\": 5.45, \"Objective Time\": 109, \"Damage\": 8563, \"Deaths\": 6.85, \"Role\": \"Tank\", \"Prediction\": 6.367888624488648, \"Support\": \"Tank\", \"isSupport_bool\": false, \"isSupport\": 0, \"pred_log\": 0, \"pred_proba1\": 0.10072275284080169, \"pred_proba2\": 0.30982285577982055}, {\"Hero\": \"Hanzo\", \"Skill Tier\": \"Bronze\", \"KDA\": 2.77, \"Pick Rate\": 1.45, \"Win Rate\": 44.47, \"Eliminations\": 15.19, \"Objective Kills\": 6.06, \"Objective Time\": 50, \"Damage\": 7067, \"Deaths\": 7.94, \"Role\": \"Damage\", \"Prediction\": 5.981491580268564, \"Support\": \"Damage\", \"isSupport_bool\": false, \"isSupport\": 0, \"pred_log\": 0, \"pred_proba1\": 0.2623102106258652, \"pred_proba2\": 0.2003523820236655}, {\"Hero\": \"Hanzo\", \"Skill Tier\": \"Silver\", \"KDA\": 3.01, \"Pick Rate\": 1.31, \"Win Rate\": 45.24, \"Eliminations\": 16.04, \"Objective Kills\": 6.28, \"Objective Time\": 53, \"Damage\": 7305, \"Deaths\": 7.88, \"Role\": \"Damage\", \"Prediction\": 6.272144224150928, \"Support\": \"Damage\", \"isSupport_bool\": false, \"isSupport\": 0, \"pred_log\": 0, \"pred_proba1\": 0.12977276056241396, \"pred_proba2\": 0.16876458122581128}, {\"Hero\": \"Hanzo\", \"Skill Tier\": \"Gold\", \"KDA\": 3.13, \"Pick Rate\": 1.93, \"Win Rate\": 48.57, \"Eliminations\": 16.77, \"Objective Kills\": 6.32, \"Objective Time\": 53, \"Damage\": 7577, \"Deaths\": 7.73, \"Role\": \"Damage\", \"Prediction\": 6.521763553602841, \"Support\": \"Damage\", \"isSupport_bool\": false, \"isSupport\": 0, \"pred_log\": 0, \"pred_proba1\": 0.06603434699899856, \"pred_proba2\": 0.1634680182698905}, {\"Hero\": \"Hanzo\", \"Skill Tier\": \"Platinum\", \"KDA\": 3.23, \"Pick Rate\": 3.38, \"Win Rate\": 49.52, \"Eliminations\": 17.37, \"Objective Kills\": 6.28, \"Objective Time\": 52, \"Damage\": 7814, \"Deaths\": 7.71, \"Role\": \"Damage\", \"Prediction\": 6.726930125755098, \"Support\": \"Damage\", \"isSupport_bool\": false, \"isSupport\": 0, \"pred_log\": 0, \"pred_proba1\": 0.036874695566641344, \"pred_proba2\": 0.16876458122581128}, {\"Hero\": \"Hanzo\", \"Skill Tier\": \"Diamond\", \"KDA\": 3.2, \"Pick Rate\": 5.81, \"Win Rate\": 50.03, \"Eliminations\": 17.7, \"Objective Kills\": 6.07, \"Objective Time\": 50, \"Damage\": 7938, \"Deaths\": 7.74, \"Role\": \"Damage\", \"Prediction\": 6.839771740438839, \"Support\": \"Damage\", \"isSupport_bool\": false, \"isSupport\": 0, \"pred_log\": 0, \"pred_proba1\": 0.026596364804729537, \"pred_proba2\": 0.19882518553625744}, {\"Hero\": \"Hanzo\", \"Skill Tier\": \"Master\", \"KDA\": 3.13, \"Pick Rate\": 7.35, \"Win Rate\": 50.08, \"Eliminations\": 17.53, \"Objective Kills\": 5.71, \"Objective Time\": 47, \"Damage\": 7932, \"Deaths\": 7.75, \"Role\": \"Damage\", \"Prediction\": 6.781641211662366, \"Support\": \"Damage\", \"isSupport_bool\": false, \"isSupport\": 0, \"pred_log\": 0, \"pred_proba1\": 0.03148570790242141, \"pred_proba2\": 0.2593208273037546}, {\"Hero\": \"Hanzo\", \"Skill Tier\": \"Grandmaster\", \"KDA\": 3.09, \"Pick Rate\": 8.97, \"Win Rate\": 50.72, \"Eliminations\": 16.88, \"Objective Kills\": 5.05, \"Objective Time\": 43, \"Damage\": 7801, \"Deaths\": 7.65, \"Role\": \"Damage\", \"Prediction\": 6.5593774251640875, \"Support\": \"Damage\", \"isSupport_bool\": false, \"isSupport\": 0, \"pred_log\": 0, \"pred_proba1\": 0.05942814623237985, \"pred_proba2\": 0.3968621265562188}, {\"Hero\": \"Widowmaker\", \"Skill Tier\": \"Bronze\", \"KDA\": 2.54, \"Pick Rate\": 0.73, \"Win Rate\": 42.05, \"Eliminations\": 13.52, \"Objective Kills\": 3.57, \"Objective Time\": 19, \"Damage\": 5272, \"Deaths\": 7.64, \"Role\": \"Damage\", \"Prediction\": 5.4104446211114485, \"Support\": \"Damage\", \"isSupport_bool\": false, \"isSupport\": 0, \"pred_log\": 1, \"pred_proba1\": 0.6622377709764787, \"pred_proba2\": 0.730328275650342}, {\"Hero\": \"Widowmaker\", \"Skill Tier\": \"Silver\", \"KDA\": 2.62, \"Pick Rate\": 0.78, \"Win Rate\": 44.25, \"Eliminations\": 14.63, \"Objective Kills\": 3.74, \"Objective Time\": 19, \"Damage\": 5535, \"Deaths\": 7.79, \"Role\": \"Damage\", \"Prediction\": 5.790002779593125, \"Support\": \"Damage\", \"isSupport_bool\": false, \"isSupport\": 0, \"pred_log\": 1, \"pred_proba1\": 0.3866311914505272, \"pred_proba2\": 0.6971520539487682}, {\"Hero\": \"Widowmaker\", \"Skill Tier\": \"Gold\", \"KDA\": 2.63, \"Pick Rate\": 1.07, \"Win Rate\": 46.43, \"Eliminations\": 15.19, \"Objective Kills\": 3.73, \"Objective Time\": 21, \"Damage\": 5714, \"Deaths\": 7.83, \"Role\": \"Damage\", \"Prediction\": 5.981491580268564, \"Support\": \"Damage\", \"isSupport_bool\": false, \"isSupport\": 0, \"pred_log\": 1, \"pred_proba1\": 0.2623102106258652, \"pred_proba2\": 0.6991666056953076}, {\"Hero\": \"Widowmaker\", \"Skill Tier\": \"Platinum\", \"KDA\": 2.59, \"Pick Rate\": 1.73, \"Win Rate\": 47.83, \"Eliminations\": 15.69, \"Objective Kills\": 3.7, \"Objective Time\": 22, \"Damage\": 5820, \"Deaths\": 8.1, \"Role\": \"Damage\", \"Prediction\": 6.152463723728778, \"Support\": \"Damage\", \"isSupport_bool\": false, \"isSupport\": 0, \"pred_log\": 1, \"pred_proba1\": 0.1757868952777033, \"pred_proba2\": 0.7051641312251713}, {\"Hero\": \"Widowmaker\", \"Skill Tier\": \"Diamond\", \"KDA\": 2.53, \"Pick Rate\": 3.19, \"Win Rate\": 49.06, \"Eliminations\": 16.0, \"Objective Kills\": 3.64, \"Objective Time\": 23, \"Damage\": 5905, \"Deaths\": 8.29, \"Role\": \"Damage\", \"Prediction\": 6.258466452674111, \"Support\": \"Damage\", \"isSupport_bool\": false, \"isSupport\": 0, \"pred_log\": 1, \"pred_proba1\": 0.13446119560843756, \"pred_proba2\": 0.7169475293482565}, {\"Hero\": \"Widowmaker\", \"Skill Tier\": \"Master\", \"KDA\": 2.4, \"Pick Rate\": 4.91, \"Win Rate\": 49.68, \"Eliminations\": 15.85, \"Objective Kills\": 3.5, \"Objective Time\": 22, \"Damage\": 5846, \"Deaths\": 8.38, \"Role\": \"Damage\", \"Prediction\": 6.207174809636046, \"Support\": \"Damage\", \"isSupport_bool\": false, \"isSupport\": 0, \"pred_log\": 1, \"pred_proba1\": 0.15332874288897488, \"pred_proba2\": 0.7433029522359219}, {\"Hero\": \"Widowmaker\", \"Skill Tier\": \"Grandmaster\", \"KDA\": 2.41, \"Pick Rate\": 7.93, \"Win Rate\": 51.49, \"Eliminations\": 15.59, \"Objective Kills\": 3.28, \"Objective Time\": 20, \"Damage\": 5816, \"Deaths\": 8.3, \"Role\": \"Damage\", \"Prediction\": 6.118269295036735, \"Support\": \"Damage\", \"isSupport_bool\": false, \"isSupport\": 0, \"pred_log\": 1, \"pred_proba1\": 0.19109288760024565, \"pred_proba2\": 0.7813450612309704}, {\"Hero\": \"Soldier: 76\", \"Skill Tier\": \"Bronze\", \"KDA\": 2.64, \"Pick Rate\": 2.25, \"Win Rate\": 41.6, \"Eliminations\": 17.0, \"Objective Kills\": 7.41, \"Objective Time\": 64, \"Damage\": 8082, \"Deaths\": 8.76, \"Role\": \"Damage\", \"Prediction\": 6.6004107395945395, \"Support\": \"Damage\", \"isSupport_bool\": false, \"isSupport\": 0, \"pred_log\": 0, \"pred_proba1\": 0.05293019901851942, \"pred_proba2\": 0.06448514892060568}, {\"Hero\": \"Soldier: 76\", \"Skill Tier\": \"Silver\", \"KDA\": 2.73, \"Pick Rate\": 2.41, \"Win Rate\": 44.48, \"Eliminations\": 18.01, \"Objective Kills\": 7.61, \"Objective Time\": 62, \"Damage\": 8417, \"Deaths\": 8.61, \"Role\": \"Damage\", \"Prediction\": 6.9457744693841725, \"Support\": \"Damage\", \"isSupport_bool\": false, \"isSupport\": 0, \"pred_log\": 0, \"pred_proba1\": 0.019513465114043477, \"pred_proba2\": 0.053867391316854876}, {\"Hero\": \"Soldier: 76\", \"Skill Tier\": \"Gold\", \"KDA\": 2.9, \"Pick Rate\": 3.06, \"Win Rate\": 47.28, \"Eliminations\": 18.85, \"Objective Kills\": 7.61, \"Objective Time\": 57, \"Damage\": 8802, \"Deaths\": 8.27, \"Role\": \"Damage\", \"Prediction\": 7.233007670397332, \"Support\": \"Damage\", \"isSupport_bool\": false, \"isSupport\": 0, \"pred_log\": 0, \"pred_proba1\": 0.008361715419213819, \"pred_proba2\": 0.053867391316854876}, {\"Hero\": \"Soldier: 76\", \"Skill Tier\": \"Platinum\", \"KDA\": 2.93, \"Pick Rate\": 4.38, \"Win Rate\": 48.18, \"Eliminations\": 19.32, \"Objective Kills\": 7.42, \"Objective Time\": 53, \"Damage\": 9150, \"Deaths\": 8.12, \"Role\": \"Damage\", \"Prediction\": 7.393721485249933, \"Support\": \"Damage\", \"isSupport_bool\": false, \"isSupport\": 0, \"pred_log\": 0, \"pred_proba1\": 0.005188099449751861, \"pred_proba2\": 0.0639108340734123}, {\"Hero\": \"Soldier: 76\", \"Skill Tier\": \"Diamond\", \"KDA\": 2.97, \"Pick Rate\": 6.24, \"Win Rate\": 49.06, \"Eliminations\": 19.59, \"Objective Kills\": 7.25, \"Objective Time\": 49, \"Damage\": 9418, \"Deaths\": 7.97, \"Role\": \"Damage\", \"Prediction\": 7.4860464427184485, \"Support\": \"Damage\", \"isSupport_bool\": false, \"isSupport\": 0, \"pred_log\": 0, \"pred_proba1\": 0.003941623269721945, \"pred_proba2\": 0.07435046330265623}, {\"Hero\": \"Soldier: 76\", \"Skill Tier\": \"Master\", \"KDA\": 2.96, \"Pick Rate\": 8.31, \"Win Rate\": 49.69, \"Eliminations\": 19.39, \"Objective Kills\": 6.9, \"Objective Time\": 46, \"Damage\": 9511, \"Deaths\": 7.94, \"Role\": \"Damage\", \"Prediction\": 7.417657585334363, \"Support\": \"Damage\", \"isSupport_bool\": false, \"isSupport\": 0, \"pred_log\": 0, \"pred_proba1\": 0.0048315302840399475, \"pred_proba2\": 0.1009136466287324}, {\"Hero\": \"Soldier: 76\", \"Skill Tier\": \"Grandmaster\", \"KDA\": 2.95, \"Pick Rate\": 9.65, \"Win Rate\": 51.42, \"Eliminations\": 18.99, \"Objective Kills\": 6.49, \"Objective Time\": 43, \"Damage\": 9622, \"Deaths\": 7.79, \"Role\": \"Damage\", \"Prediction\": 7.280879870566191, \"Support\": \"Damage\", \"isSupport_bool\": false, \"isSupport\": 0, \"pred_log\": 0, \"pred_proba1\": 0.007254733744864128, \"pred_proba2\": 0.14244083662967985}, {\"Hero\": \"Zenyatta\", \"Skill Tier\": \"Bronze\", \"KDA\": 5.0, \"Pick Rate\": 1.36, \"Win Rate\": 48.7, \"Eliminations\": 12.71, \"Objective Kills\": 5.77, \"Objective Time\": 65, \"Damage\": 4661, \"Deaths\": 7.42, \"Role\": \"Support\", \"Prediction\": 5.1334697487059024, \"Support\": \"Support\", \"isSupport_bool\": true, \"isSupport\": 1, \"pred_log\": 0, \"pred_proba1\": 0.8177777425795116, \"pred_proba2\": 0.24845671468286418}, {\"Hero\": \"Zenyatta\", \"Skill Tier\": \"Silver\", \"KDA\": 5.19, \"Pick Rate\": 1.31, \"Win Rate\": 48.35, \"Eliminations\": 13.55, \"Objective Kills\": 6.08, \"Objective Time\": 69, \"Damage\": 4886, \"Deaths\": 7.29, \"Role\": \"Support\", \"Prediction\": 5.420702949719062, \"Support\": \"Support\", \"isSupport_bool\": true, \"isSupport\": 1, \"pred_log\": 0, \"pred_proba1\": 0.6553438514589492, \"pred_proba2\": 0.19730675782532633}, {\"Hero\": \"Zenyatta\", \"Skill Tier\": \"Gold\", \"KDA\": 5.47, \"Pick Rate\": 1.8, \"Win Rate\": 51.21, \"Eliminations\": 14.0, \"Objective Kills\": 6.1, \"Objective Time\": 69, \"Damage\": 5037, \"Deaths\": 7.1, \"Role\": \"Support\", \"Prediction\": 5.574577878833255, \"Support\": \"Support\", \"isSupport_bool\": true, \"isSupport\": 1, \"pred_log\": 0, \"pred_proba1\": 0.5455156032757991, \"pred_proba2\": 0.19429618193426323}, {\"Hero\": \"Zenyatta\", \"Skill Tier\": \"Platinum\", \"KDA\": 5.55, \"Pick Rate\": 2.9, \"Win Rate\": 51.81, \"Eliminations\": 14.24, \"Objective Kills\": 6.04, \"Objective Time\": 67, \"Damage\": 5140, \"Deaths\": 6.89, \"Role\": \"Support\", \"Prediction\": 5.656644507694157, \"Support\": \"Support\", \"isSupport_bool\": true, \"isSupport\": 1, \"pred_log\": 0, \"pred_proba1\": 0.48430778019861725, \"pred_proba2\": 0.20343310374377976}, {\"Hero\": \"Zenyatta\", \"Skill Tier\": \"Diamond\", \"KDA\": 5.61, \"Pick Rate\": 5.05, \"Win Rate\": 52.8, \"Eliminations\": 14.34, \"Objective Kills\": 5.82, \"Objective Time\": 65, \"Damage\": 5216, \"Deaths\": 6.66, \"Role\": \"Support\", \"Prediction\": 5.6908389363862, \"Support\": \"Support\", \"isSupport_bool\": true, \"isSupport\": 1, \"pred_log\": 0, \"pred_proba1\": 0.45883793878800194, \"pred_proba2\": 0.23963912670531004}, {\"Hero\": \"Zenyatta\", \"Skill Tier\": \"Master\", \"KDA\": 5.59, \"Pick Rate\": 7.38, \"Win Rate\": 54.96, \"Eliminations\": 14.13, \"Objective Kills\": 5.47, \"Objective Time\": 62, \"Damage\": 5204, \"Deaths\": 6.53, \"Role\": \"Support\", \"Prediction\": 5.61903063613291, \"Support\": \"Support\", \"isSupport_bool\": true, \"isSupport\": 1, \"pred_log\": 0, \"pred_proba1\": 0.5124139335726305, \"pred_proba2\": 0.305749410303906}, {\"Hero\": \"Zenyatta\", \"Skill Tier\": \"Grandmaster\", \"KDA\": 5.28, \"Pick Rate\": 11.33, \"Win Rate\": 54.18, \"Eliminations\": 13.37, \"Objective Kills\": 4.74, \"Objective Time\": 56, \"Damage\": 5154, \"Deaths\": 6.37, \"Role\": \"Support\", \"Prediction\": 5.359152978073384, \"Support\": \"Support\", \"isSupport_bool\": true, \"isSupport\": 1, \"pred_log\": 0, \"pred_proba1\": 0.695642060858917, \"pred_proba2\": 0.4694869425944331}, {\"Hero\": \"Lucio\", \"Skill Tier\": \"Bronze\", \"KDA\": 3.44, \"Pick Rate\": 1.42, \"Win Rate\": 44.22, \"Eliminations\": 10.8, \"Objective Kills\": 5.6, \"Objective Time\": 111, \"Damage\": 3218, \"Deaths\": 7.67, \"Role\": \"Support\", \"Prediction\": 4.480356160687885, \"Support\": \"Support\", \"isSupport_bool\": true, \"isSupport\": 1, \"pred_log\": 0, \"pred_proba1\": 0.9693501711736996, \"pred_proba2\": 0.2800236882942943}, {\"Hero\": \"Lucio\", \"Skill Tier\": \"Silver\", \"KDA\": 3.77, \"Pick Rate\": 1.11, \"Win Rate\": 47.97, \"Eliminations\": 11.89, \"Objective Kills\": 5.98, \"Objective Time\": 109, \"Damage\": 3405, \"Deaths\": 7.57, \"Role\": \"Support\", \"Prediction\": 4.853075433431151, \"Support\": \"Support\", \"isSupport_bool\": true, \"isSupport\": 1, \"pred_log\": 0, \"pred_proba1\": 0.9121094459332307, \"pred_proba2\": 0.21288616686795359}, {\"Hero\": \"Lucio\", \"Skill Tier\": \"Gold\", \"KDA\": 3.87, \"Pick Rate\": 1.37, \"Win Rate\": 48.65, \"Eliminations\": 12.42, \"Objective Kills\": 5.97, \"Objective Time\": 105, \"Damage\": 3533, \"Deaths\": 7.49, \"Role\": \"Support\", \"Prediction\": 5.034305905498978, \"Support\": \"Support\", \"isSupport_bool\": true, \"isSupport\": 1, \"pred_log\": 0, \"pred_proba1\": 0.8578854171694285, \"pred_proba2\": 0.214492452138827}, {\"Hero\": \"Lucio\", \"Skill Tier\": \"Platinum\", \"KDA\": 3.96, \"Pick Rate\": 1.95, \"Win Rate\": 50.82, \"Eliminations\": 12.81, \"Objective Kills\": 5.85, \"Objective Time\": 100, \"Damage\": 3638, \"Deaths\": 7.4, \"Role\": \"Support\", \"Prediction\": 5.167664177397945, \"Support\": \"Support\", \"isSupport_bool\": true, \"isSupport\": 1, \"pred_log\": 0, \"pred_proba1\": 0.8020459925492107, \"pred_proba2\": 0.23445249125830692}, {\"Hero\": \"Lucio\", \"Skill Tier\": \"Diamond\", \"KDA\": 3.98, \"Pick Rate\": 2.79, \"Win Rate\": 50.94, \"Eliminations\": 12.95, \"Objective Kills\": 5.68, \"Objective Time\": 95, \"Damage\": 3686, \"Deaths\": 7.46, \"Role\": \"Support\", \"Prediction\": 5.215536377566805, \"Support\": \"Support\", \"isSupport_bool\": true, \"isSupport\": 1, \"pred_log\": 0, \"pred_proba1\": 0.7783378189233021, \"pred_proba2\": 0.264867266682937}, {\"Hero\": \"Lucio\", \"Skill Tier\": \"Master\", \"KDA\": 3.99, \"Pick Rate\": 3.67, \"Win Rate\": 50.99, \"Eliminations\": 13.22, \"Objective Kills\": 5.52, \"Objective Time\": 88, \"Damage\": 3738, \"Deaths\": 7.37, \"Role\": \"Support\", \"Prediction\": 5.30786133503532, \"Support\": \"Support\", \"isSupport_bool\": true, \"isSupport\": 1, \"pred_log\": 0, \"pred_proba1\": 0.7271040765305355, \"pred_proba2\": 0.2956985435147791}, {\"Hero\": \"Lucio\", \"Skill Tier\": \"Grandmaster\", \"KDA\": 4.1, \"Pick Rate\": 6.72, \"Win Rate\": 52.56, \"Eliminations\": 13.02, \"Objective Kills\": 5.15, \"Objective Time\": 82, \"Damage\": 3794, \"Deaths\": 7.11, \"Role\": \"Support\", \"Prediction\": 5.239472477651234, \"Support\": \"Support\", \"isSupport_bool\": true, \"isSupport\": 1, \"pred_log\": 0, \"pred_proba1\": 0.7657458295260172, \"pred_proba2\": 0.3742201053943718}, {\"Hero\": \"D.Va\", \"Skill Tier\": \"Bronze\", \"KDA\": 5.32, \"Pick Rate\": 1.63, \"Win Rate\": 42.58, \"Eliminations\": 18.97, \"Objective Kills\": 6.46, \"Objective Time\": 132, \"Damage\": 7489, \"Deaths\": 6.02, \"Role\": \"Tank\", \"Prediction\": 7.274040984827782, \"Support\": \"Tank\", \"isSupport_bool\": false, \"isSupport\": 0, \"pred_log\": 0, \"pred_proba1\": 0.007403484597042681, \"pred_proba2\": 0.14598010597464747}, {\"Hero\": \"D.Va\", \"Skill Tier\": \"Silver\", \"KDA\": 5.8, \"Pick Rate\": 1.35, \"Win Rate\": 45.33, \"Eliminations\": 20.47, \"Objective Kills\": 6.66, \"Objective Time\": 132, \"Damage\": 8028, \"Deaths\": 5.8, \"Role\": \"Tank\", \"Prediction\": 7.786957415208425, \"Support\": \"Tank\", \"isSupport_bool\": false, \"isSupport\": 0, \"pred_log\": 0, \"pred_proba1\": 0.001606873478740719, \"pred_proba2\": 0.12371839930293017}, {\"Hero\": \"D.Va\", \"Skill Tier\": \"Gold\", \"KDA\": 6.22, \"Pick Rate\": 1.36, \"Win Rate\": 47.31, \"Eliminations\": 21.26, \"Objective Kills\": 6.66, \"Objective Time\": 129, \"Damage\": 8337, \"Deaths\": 5.62, \"Role\": \"Tank\", \"Prediction\": 8.057093401875564, \"Support\": \"Tank\", \"isSupport_bool\": false, \"isSupport\": 0, \"pred_log\": 0, \"pred_proba1\": 0.0007171620638920514, \"pred_proba2\": 0.12371839930293017}, {\"Hero\": \"D.Va\", \"Skill Tier\": \"Platinum\", \"KDA\": 6.35, \"Pick Rate\": 1.82, \"Win Rate\": 48.49, \"Eliminations\": 21.49, \"Objective Kills\": 6.47, \"Objective Time\": 125, \"Damage\": 8585, \"Deaths\": 5.49, \"Role\": \"Tank\", \"Prediction\": 8.13574058786726, \"Support\": \"Tank\", \"isSupport_bool\": false, \"isSupport\": 0, \"pred_log\": 0, \"pred_proba1\": 0.0005669765944396045, \"pred_proba2\": 0.14479231947442842}, {\"Hero\": \"D.Va\", \"Skill Tier\": \"Diamond\", \"KDA\": 6.64, \"Pick Rate\": 2.67, \"Win Rate\": 48.58, \"Eliminations\": 21.55, \"Objective Kills\": 6.15, \"Objective Time\": 119, \"Damage\": 8750, \"Deaths\": 5.33, \"Role\": \"Tank\", \"Prediction\": 8.156257245082488, \"Support\": \"Tank\", \"isSupport_bool\": false, \"isSupport\": 0, \"pred_log\": 0, \"pred_proba1\": 0.0005332617677294781, \"pred_proba2\": 0.1869226522881638}, {\"Hero\": \"D.Va\", \"Skill Tier\": \"Master\", \"KDA\": 6.59, \"Pick Rate\": 3.63, \"Win Rate\": 49.4, \"Eliminations\": 20.88, \"Objective Kills\": 5.74, \"Objective Time\": 114, \"Damage\": 8698, \"Deaths\": 5.26, \"Role\": \"Tank\", \"Prediction\": 7.927154572845801, \"Support\": \"Tank\", \"isSupport_bool\": false, \"isSupport\": 0, \"pred_log\": 0, \"pred_proba1\": 0.0010572683900998516, \"pred_proba2\": 0.2538504265726115}, {\"Hero\": \"D.Va\", \"Skill Tier\": \"Grandmaster\", \"KDA\": 6.47, \"Pick Rate\": 5.53, \"Win Rate\": 50.94, \"Eliminations\": 19.91, \"Objective Kills\": 5.05, \"Objective Time\": 109, \"Damage\": 8554, \"Deaths\": 4.93, \"Role\": \"Tank\", \"Prediction\": 7.595468614532986, \"Support\": \"Tank\", \"isSupport_bool\": false, \"isSupport\": 0, \"pred_log\": 0, \"pred_proba1\": 0.0028449626207216108, \"pred_proba2\": 0.3968621265562188}, {\"Hero\": \"Junkrat\", \"Skill Tier\": \"Bronze\", \"KDA\": 2.38, \"Pick Rate\": 1.74, \"Win Rate\": 43.26, \"Eliminations\": 15.34, \"Objective Kills\": 6.57, \"Objective Time\": 60, \"Damage\": 7670, \"Deaths\": 8.69, \"Role\": \"Damage\", \"Prediction\": 6.0327832233066285, \"Support\": \"Damage\", \"isSupport_bool\": false, \"isSupport\": 0, \"pred_log\": 0, \"pred_proba1\": 0.23373431149061016, \"pred_proba2\": 0.1333518920743928}, {\"Hero\": \"Junkrat\", \"Skill Tier\": \"Silver\", \"KDA\": 2.58, \"Pick Rate\": 1.74, \"Win Rate\": 45.91, \"Eliminations\": 16.0, \"Objective Kills\": 6.61, \"Objective Time\": 58, \"Damage\": 8026, \"Deaths\": 8.49, \"Role\": \"Damage\", \"Prediction\": 6.258466452674111, \"Support\": \"Damage\", \"isSupport_bool\": false, \"isSupport\": 0, \"pred_log\": 0, \"pred_proba1\": 0.13446119560843756, \"pred_proba2\": 0.12899426077000134}, {\"Hero\": \"Junkrat\", \"Skill Tier\": \"Gold\", \"KDA\": 2.67, \"Pick Rate\": 1.74, \"Win Rate\": 46.48, \"Eliminations\": 16.4, \"Objective Kills\": 6.4, \"Objective Time\": 55, \"Damage\": 8201, \"Deaths\": 8.26, \"Role\": \"Damage\", \"Prediction\": 6.395244167442282, \"Support\": \"Damage\", \"isSupport_bool\": false, \"isSupport\": 0, \"pred_log\": 0, \"pred_proba1\": 0.09355291560750745, \"pred_proba2\": 0.15327717292149903}, {\"Hero\": \"Junkrat\", \"Skill Tier\": \"Platinum\", \"KDA\": 2.72, \"Pick Rate\": 1.96, \"Win Rate\": 47.85, \"Eliminations\": 16.57, \"Objective Kills\": 6.15, \"Objective Time\": 50, \"Damage\": 8373, \"Deaths\": 8.17, \"Role\": \"Damage\", \"Prediction\": 6.453374696218755, \"Support\": \"Damage\", \"isSupport_bool\": false, \"isSupport\": 0, \"pred_log\": 0, \"pred_proba1\": 0.0798196323364319, \"pred_proba2\": 0.1869226522881638}, {\"Hero\": \"Junkrat\", \"Skill Tier\": \"Diamond\", \"KDA\": 2.67, \"Pick Rate\": 2.4, \"Win Rate\": 48.25, \"Eliminations\": 16.6, \"Objective Kills\": 5.78, \"Objective Time\": 45, \"Damage\": 8458, \"Deaths\": 8.16, \"Role\": \"Damage\", \"Prediction\": 6.463633024826368, \"Support\": \"Damage\", \"isSupport_bool\": false, \"isSupport\": 0, \"pred_log\": 0, \"pred_proba1\": 0.07759582471509237, \"pred_proba2\": 0.24667595347379767}, {\"Hero\": \"Junkrat\", \"Skill Tier\": \"Master\", \"KDA\": 2.69, \"Pick Rate\": 2.65, \"Win Rate\": 49.54, \"Eliminations\": 16.31, \"Objective Kills\": 5.47, \"Objective Time\": 42, \"Damage\": 8390, \"Deaths\": 8.14, \"Role\": \"Damage\", \"Prediction\": 6.364469181619444, \"Support\": \"Damage\", \"isSupport_bool\": false, \"isSupport\": 0, \"pred_log\": 0, \"pred_proba1\": 0.10165253574688568, \"pred_proba2\": 0.305749410303906}, {\"Hero\": \"Junkrat\", \"Skill Tier\": \"Grandmaster\", \"KDA\": 2.54, \"Pick Rate\": 2.75, \"Win Rate\": 49.32, \"Eliminations\": 15.56, \"Objective Kills\": 4.94, \"Objective Time\": 38, \"Damage\": 8147, \"Deaths\": 8.2, \"Role\": \"Damage\", \"Prediction\": 6.108010966429123, \"Support\": \"Damage\", \"isSupport_bool\": false, \"isSupport\": 0, \"pred_log\": 0, \"pred_proba1\": 0.19587865964742981, \"pred_proba2\": 0.42228519195418823}, {\"Hero\": \"Ashe\", \"Skill Tier\": \"Bronze\", \"KDA\": 2.38, \"Pick Rate\": 1.04, \"Win Rate\": 42.57, \"Eliminations\": 14.24, \"Objective Kills\": 5.96, \"Objective Time\": 55, \"Damage\": 7192, \"Deaths\": 7.72, \"Role\": \"Damage\", \"Prediction\": 5.656644507694157, \"Support\": \"Damage\", \"isSupport_bool\": false, \"isSupport\": 0, \"pred_log\": 0, \"pred_proba1\": 0.48430778019861725, \"pred_proba2\": 0.21610752968482252}, {\"Hero\": \"Ashe\", \"Skill Tier\": \"Silver\", \"KDA\": 2.62, \"Pick Rate\": 1.11, \"Win Rate\": 45.71, \"Eliminations\": 15.4, \"Objective Kills\": 6.16, \"Objective Time\": 54, \"Damage\": 7715, \"Deaths\": 7.47, \"Role\": \"Damage\", \"Prediction\": 6.0532998805218545, \"Support\": \"Damage\", \"isSupport_bool\": false, \"isSupport\": 0, \"pred_log\": 0, \"pred_proba1\": 0.22292815886861791, \"pred_proba2\": 0.18547408070534804}, {\"Hero\": \"Ashe\", \"Skill Tier\": \"Gold\", \"KDA\": 2.7, \"Pick Rate\": 1.62, \"Win Rate\": 48.19, \"Eliminations\": 16.34, \"Objective Kills\": 6.22, \"Objective Time\": 53, \"Damage\": 8215, \"Deaths\": 7.37, \"Role\": \"Damage\", \"Prediction\": 6.374727510227056, \"Support\": \"Damage\", \"isSupport_bool\": false, \"isSupport\": 0, \"pred_log\": 0, \"pred_proba1\": 0.09888582172686484, \"pred_proba2\": 0.17696456938766858}, {\"Hero\": \"Ashe\", \"Skill Tier\": \"Platinum\", \"KDA\": 2.74, \"Pick Rate\": 2.39, \"Win Rate\": 49.36, \"Eliminations\": 17.09, \"Objective Kills\": 6.21, \"Objective Time\": 50, \"Damage\": 8725, \"Deaths\": 7.44, \"Role\": \"Damage\", \"Prediction\": 6.631185725417378, \"Support\": \"Damage\", \"isSupport_bool\": false, \"isSupport\": 0, \"pred_log\": 0, \"pred_proba1\": 0.04850314457655151, \"pred_proba2\": 0.17836123396172704}, {\"Hero\": \"Ashe\", \"Skill Tier\": \"Diamond\", \"KDA\": 2.72, \"Pick Rate\": 4.11, \"Win Rate\": 49.43, \"Eliminations\": 17.56, \"Objective Kills\": 6.06, \"Objective Time\": 48, \"Damage\": 9153, \"Deaths\": 7.55, \"Role\": \"Damage\", \"Prediction\": 6.791899540269979, \"Support\": \"Damage\", \"isSupport_bool\": false, \"isSupport\": 0, \"pred_log\": 0, \"pred_proba1\": 0.030563775801732408, \"pred_proba2\": 0.2003523820236655}, {\"Hero\": \"Ashe\", \"Skill Tier\": \"Master\", \"KDA\": 2.68, \"Pick Rate\": 5.05, \"Win Rate\": 51.28, \"Eliminations\": 17.66, \"Objective Kills\": 5.71, \"Objective Time\": 44, \"Damage\": 9438, \"Deaths\": 7.65, \"Role\": \"Damage\", \"Prediction\": 6.826093968962022, \"Support\": \"Damage\", \"isSupport_bool\": false, \"isSupport\": 0, \"pred_log\": 0, \"pred_proba1\": 0.027675786641021258, \"pred_proba2\": 0.2593208273037546}, {\"Hero\": \"Ashe\", \"Skill Tier\": \"Grandmaster\", \"KDA\": 2.69, \"Pick Rate\": 4.95, \"Win Rate\": 51.18, \"Eliminations\": 17.76, \"Objective Kills\": 5.29, \"Objective Time\": 41, \"Damage\": 9893, \"Deaths\": 7.76, \"Role\": \"Damage\", \"Prediction\": 6.860288397654065, \"Support\": \"Damage\", \"isSupport_bool\": false, \"isSupport\": 0, \"pred_log\": 0, \"pred_proba1\": 0.02505363289759617, \"pred_proba2\": 0.34344233362089677}, {\"Hero\": \"Tracer\", \"Skill Tier\": \"Bronze\", \"KDA\": 2.24, \"Pick Rate\": 0.64, \"Win Rate\": 39.43, \"Eliminations\": 14.98, \"Objective Kills\": 5.98, \"Objective Time\": 65, \"Damage\": 5758, \"Deaths\": 8.62, \"Role\": \"Damage\", \"Prediction\": 5.909683280015274, \"Support\": \"Damage\", \"isSupport_bool\": false, \"isSupport\": 0, \"pred_log\": 0, \"pred_proba1\": 0.3059105884250902, \"pred_proba2\": 0.21288616686795359}, {\"Hero\": \"Tracer\", \"Skill Tier\": \"Silver\", \"KDA\": 2.42, \"Pick Rate\": 0.67, \"Win Rate\": 44.77, \"Eliminations\": 16.33, \"Objective Kills\": 6.28, \"Objective Time\": 67, \"Damage\": 6126, \"Deaths\": 8.51, \"Role\": \"Damage\", \"Prediction\": 6.371308067357852, \"Support\": \"Damage\", \"isSupport_bool\": false, \"isSupport\": 0, \"pred_log\": 0, \"pred_proba1\": 0.09980052957270993, \"pred_proba2\": 0.16876458122581128}, {\"Hero\": \"Tracer\", \"Skill Tier\": \"Gold\", \"KDA\": 2.47, \"Pick Rate\": 0.86, \"Win Rate\": 45.57, \"Eliminations\": 17.11, \"Objective Kills\": 6.35, \"Objective Time\": 63, \"Damage\": 6338, \"Deaths\": 8.39, \"Role\": \"Damage\", \"Prediction\": 6.638024611155786, \"Support\": \"Damage\", \"isSupport_bool\": false, \"isSupport\": 0, \"pred_log\": 0, \"pred_proba1\": 0.04756819272313793, \"pred_proba2\": 0.15958398478342636}, {\"Hero\": \"Tracer\", \"Skill Tier\": \"Platinum\", \"KDA\": 2.45, \"Pick Rate\": 1.54, \"Win Rate\": 46.75, \"Eliminations\": 17.62, \"Objective Kills\": 6.36, \"Objective Time\": 62, \"Damage\": 6556, \"Deaths\": 8.44, \"Role\": \"Damage\", \"Prediction\": 6.812416197485205, \"Support\": \"Damage\", \"isSupport_bool\": false, \"isSupport\": 0, \"pred_log\": 0, \"pred_proba1\": 0.02879772109176545, \"pred_proba2\": 0.1583060266081563}, {\"Hero\": \"Tracer\", \"Skill Tier\": \"Diamond\", \"KDA\": 2.48, \"Pick Rate\": 3.14, \"Win Rate\": 48.5, \"Eliminations\": 17.97, \"Objective Kills\": 6.33, \"Objective Time\": 59, \"Damage\": 6683, \"Deaths\": 8.44, \"Role\": \"Damage\", \"Prediction\": 6.932096697907355, \"Support\": \"Damage\", \"isSupport_bool\": false, \"isSupport\": 0, \"pred_log\": 0, \"pred_proba1\": 0.020311423526476732, \"pred_proba2\": 0.16216495820240795}, {\"Hero\": \"Tracer\", \"Skill Tier\": \"Master\", \"KDA\": 2.45, \"Pick Rate\": 4.85, \"Win Rate\": 49.24, \"Eliminations\": 18.16, \"Objective Kills\": 6.17, \"Objective Time\": 57, \"Damage\": 6803, \"Deaths\": 8.3, \"Role\": \"Damage\", \"Prediction\": 6.997066112422236, \"Support\": \"Damage\", \"isSupport_bool\": false, \"isSupport\": 0, \"pred_log\": 0, \"pred_proba1\": 0.016785820040556104, \"pred_proba2\": 0.18403419405740148}, {\"Hero\": \"Tracer\", \"Skill Tier\": \"Grandmaster\", \"KDA\": 2.64, \"Pick Rate\": 11.98, \"Win Rate\": 52.55, \"Eliminations\": 18.28, \"Objective Kills\": 5.74, \"Objective Time\": 53, \"Damage\": 7071, \"Deaths\": 7.71, \"Role\": \"Damage\", \"Prediction\": 7.038099426852688, \"Support\": \"Damage\", \"isSupport_bool\": false, \"isSupport\": 0, \"pred_log\": 0, \"pred_proba1\": 0.014876691524171181, \"pred_proba2\": 0.2538504265726115}, {\"Hero\": \"Roadhog\", \"Skill Tier\": \"Bronze\", \"KDA\": 3.07, \"Pick Rate\": 0.35, \"Win Rate\": 34.1, \"Eliminations\": 14.52, \"Objective Kills\": 7.24, \"Objective Time\": 117, \"Damage\": 6745, \"Deaths\": 7.3, \"Role\": \"Tank\", \"Prediction\": 5.752388908031877, \"Support\": \"Tank\", \"isSupport_bool\": false, \"isSupport\": 0, \"pred_log\": 0, \"pred_proba1\": 0.4136153072612821, \"pred_proba2\": 0.07501107321370237}, {\"Hero\": \"Roadhog\", \"Skill Tier\": \"Silver\", \"KDA\": 3.3, \"Pick Rate\": 0.37, \"Win Rate\": 35.67, \"Eliminations\": 15.53, \"Objective Kills\": 7.61, \"Objective Time\": 119, \"Damage\": 7125, \"Deaths\": 7.09, \"Role\": \"Tank\", \"Prediction\": 6.097752637821509, \"Support\": \"Tank\", \"isSupport_bool\": false, \"isSupport\": 0, \"pred_log\": 0, \"pred_proba1\": 0.20075454177708857, \"pred_proba2\": 0.053867391316854876}, {\"Hero\": \"Roadhog\", \"Skill Tier\": \"Gold\", \"KDA\": 3.68, \"Pick Rate\": 0.46, \"Win Rate\": 38.83, \"Eliminations\": 16.66, \"Objective Kills\": 7.93, \"Objective Time\": 116, \"Damage\": 7700, \"Deaths\": 6.89, \"Role\": \"Tank\", \"Prediction\": 6.484149682041593, \"Support\": \"Tank\", \"isSupport_bool\": false, \"isSupport\": 0, \"pred_log\": 0, \"pred_proba1\": 0.07331766797949432, \"pred_proba2\": 0.04024199797449412}, {\"Hero\": \"Roadhog\", \"Skill Tier\": \"Platinum\", \"KDA\": 3.69, \"Pick Rate\": 0.7, \"Win Rate\": 39.09, \"Eliminations\": 17.32, \"Objective Kills\": 7.94, \"Objective Time\": 116, \"Damage\": 8138, \"Deaths\": 6.79, \"Role\": \"Tank\", \"Prediction\": 6.709832911409077, \"Support\": \"Tank\", \"isSupport_bool\": false, \"isSupport\": 0, \"pred_log\": 0, \"pred_proba1\": 0.03873368517736745, \"pred_proba2\": 0.039874393570987585}, {\"Hero\": \"Roadhog\", \"Skill Tier\": \"Diamond\", \"KDA\": 3.83, \"Pick Rate\": 1.22, \"Win Rate\": 40.9, \"Eliminations\": 17.89, \"Objective Kills\": 7.86, \"Objective Time\": 111, \"Damage\": 8445, \"Deaths\": 6.7, \"Role\": \"Tank\", \"Prediction\": 6.9047411549537205, \"Support\": \"Tank\", \"isSupport_bool\": false, \"isSupport\": 0, \"pred_log\": 0, \"pred_proba1\": 0.022004340477686003, \"pred_proba2\": 0.04290757334272012}, {\"Hero\": \"Roadhog\", \"Skill Tier\": \"Master\", \"KDA\": 3.81, \"Pick Rate\": 1.38, \"Win Rate\": 41.03, \"Eliminations\": 17.86, \"Objective Kills\": 7.62, \"Objective Time\": 107, \"Damage\": 8470, \"Deaths\": 6.63, \"Role\": \"Tank\", \"Prediction\": 6.894482826346107, \"Support\": \"Tank\", \"isSupport_bool\": false, \"isSupport\": 0, \"pred_log\": 0, \"pred_proba1\": 0.022674122755379562, \"pred_proba2\": 0.05338224391671841}, {\"Hero\": \"Roadhog\", \"Skill Tier\": \"Grandmaster\", \"KDA\": 3.78, \"Pick Rate\": 1.68, \"Win Rate\": 42.66, \"Eliminations\": 17.12, \"Objective Kills\": 7.21, \"Objective Time\": 106, \"Damage\": 8218, \"Deaths\": 6.5, \"Role\": \"Tank\", \"Prediction\": 6.641444054024991, \"Support\": \"Tank\", \"isSupport_bool\": false, \"isSupport\": 0, \"pred_log\": 0, \"pred_proba1\": 0.04710716138204037, \"pred_proba2\": 0.07702538293106931}, {\"Hero\": \"Zarya\", \"Skill Tier\": \"Bronze\", \"KDA\": 3.97, \"Pick Rate\": 0.72, \"Win Rate\": 39.27, \"Eliminations\": 17.34, \"Objective Kills\": 8.65, \"Objective Time\": 133, \"Damage\": 8415, \"Deaths\": 6.74, \"Role\": \"Tank\", \"Prediction\": 6.716671797147485, \"Support\": \"Tank\", \"isSupport_bool\": false, \"isSupport\": 0, \"pred_log\": 0, \"pred_proba1\": 0.03797953369303125, \"pred_proba2\": 0.0206318166054981}, {\"Hero\": \"Zarya\", \"Skill Tier\": \"Silver\", \"KDA\": 4.34, \"Pick Rate\": 0.99, \"Win Rate\": 42.98, \"Eliminations\": 18.62, \"Objective Kills\": 9.06, \"Objective Time\": 132, \"Damage\": 8995, \"Deaths\": 6.56, \"Role\": \"Tank\", \"Prediction\": 7.154360484405633, \"Support\": \"Tank\", \"isSupport_bool\": false, \"isSupport\": 0, \"pred_log\": 0, \"pred_proba1\": 0.01055483075579242, \"pred_proba2\": 0.014035593612905817}, {\"Hero\": \"Zarya\", \"Skill Tier\": \"Gold\", \"KDA\": 4.65, \"Pick Rate\": 1.36, \"Win Rate\": 45.51, \"Eliminations\": 19.52, \"Objective Kills\": 9.12, \"Objective Time\": 128, \"Damage\": 9476, \"Deaths\": 6.37, \"Role\": \"Tank\", \"Prediction\": 7.462110342634018, \"Support\": \"Tank\", \"isSupport_bool\": false, \"isSupport\": 0, \"pred_log\": 0, \"pred_proba1\": 0.004232796227759084, \"pred_proba2\": 0.013263562482593026}, {\"Hero\": \"Zarya\", \"Skill Tier\": \"Platinum\", \"KDA\": 4.79, \"Pick Rate\": 1.81, \"Win Rate\": 46.18, \"Eliminations\": 20.13, \"Objective Kills\": 9.21, \"Objective Time\": 127, \"Damage\": 9922, \"Deaths\": 6.25, \"Role\": \"Tank\", \"Prediction\": 7.670696357655479, \"Support\": \"Tank\", \"isSupport_bool\": false, \"isSupport\": 0, \"pred_log\": 0, \"pred_proba1\": 0.0022732538565315326, \"pred_proba2\": 0.012183429082107433}, {\"Hero\": \"Zarya\", \"Skill Tier\": \"Diamond\", \"KDA\": 4.83, \"Pick Rate\": 2.54, \"Win Rate\": 45.86, \"Eliminations\": 20.31, \"Objective Kills\": 9.07, \"Objective Time\": 123, \"Damage\": 10191, \"Deaths\": 6.2, \"Role\": \"Tank\", \"Prediction\": 7.732246329301156, \"Support\": \"Tank\", \"isSupport_bool\": false, \"isSupport\": 0, \"pred_log\": 0, \"pred_proba1\": 0.0018918901090477019, \"pred_proba2\": 0.01390391260603957}, {\"Hero\": \"Zarya\", \"Skill Tier\": \"Master\", \"KDA\": 4.86, \"Pick Rate\": 2.69, \"Win Rate\": 47.08, \"Eliminations\": 20.19, \"Objective Kills\": 8.87, \"Objective Time\": 117, \"Damage\": 10345, \"Deaths\": 6.13, \"Role\": \"Tank\", \"Prediction\": 7.691213014870706, \"Support\": \"Tank\", \"isSupport_bool\": false, \"isSupport\": 0, \"pred_log\": 0, \"pred_proba1\": 0.0021382936456032166, \"pred_proba2\": 0.016784241202596924}, {\"Hero\": \"Zarya\", \"Skill Tier\": \"Grandmaster\", \"KDA\": 4.91, \"Pick Rate\": 3.15, \"Win Rate\": 48.78, \"Eliminations\": 19.68, \"Objective Kills\": 8.42, \"Objective Time\": 111, \"Damage\": 10283, \"Deaths\": 5.98, \"Role\": \"Tank\", \"Prediction\": 7.516821428541287, \"Support\": \"Tank\", \"isSupport_bool\": false, \"isSupport\": 0, \"pred_log\": 0, \"pred_proba1\": 0.0035963886143681673, \"pred_proba2\": 0.02557583801807491}, {\"Hero\": \"Reaper\", \"Skill Tier\": \"Bronze\", \"KDA\": 2.66, \"Pick Rate\": 1.19, \"Win Rate\": 44.71, \"Eliminations\": 17.9, \"Objective Kills\": 7.51, \"Objective Time\": 80, \"Damage\": 7272, \"Deaths\": 8.28, \"Role\": \"Damage\", \"Prediction\": 6.908160597822924, \"Support\": \"Damage\", \"isSupport_bool\": false, \"isSupport\": 0, \"pred_log\": 0, \"pred_proba1\": 0.021785406973130875, \"pred_proba2\": 0.05895260160877807}, {\"Hero\": \"Reaper\", \"Skill Tier\": \"Silver\", \"KDA\": 2.68, \"Pick Rate\": 1.34, \"Win Rate\": 45.45, \"Eliminations\": 18.82, \"Objective Kills\": 7.63, \"Objective Time\": 78, \"Damage\": 7567, \"Deaths\": 8.21, \"Role\": \"Damage\", \"Prediction\": 7.222749341789719, \"Support\": \"Damage\", \"isSupport_bool\": false, \"isSupport\": 0, \"pred_log\": 0, \"pred_proba1\": 0.008619894755428324, \"pred_proba2\": 0.05290122160666561}, {\"Hero\": \"Reaper\", \"Skill Tier\": \"Gold\", \"KDA\": 2.84, \"Pick Rate\": 1.59, \"Win Rate\": 47.73, \"Eliminations\": 19.47, \"Objective Kills\": 7.74, \"Objective Time\": 77, \"Damage\": 7958, \"Deaths\": 8.11, \"Role\": \"Damage\", \"Prediction\": 7.4450131282879966, \"Support\": \"Damage\", \"isSupport_bool\": false, \"isSupport\": 0, \"pred_log\": 0, \"pred_proba1\": 0.004453796891062376, \"pred_proba2\": 0.047873562922786786}, {\"Hero\": \"Reaper\", \"Skill Tier\": \"Platinum\", \"KDA\": 2.82, \"Pick Rate\": 2.34, \"Win Rate\": 48.97, \"Eliminations\": 19.97, \"Objective Kills\": 7.72, \"Objective Time\": 74, \"Damage\": 8317, \"Deaths\": 8.07, \"Role\": \"Damage\", \"Prediction\": 7.615985271748211, \"Support\": \"Damage\", \"isSupport_bool\": false, \"isSupport\": 0, \"pred_log\": 0, \"pred_proba1\": 0.0026761518222890757, \"pred_proba2\": 0.0487526358859832}, {\"Hero\": \"Reaper\", \"Skill Tier\": \"Diamond\", \"KDA\": 2.89, \"Pick Rate\": 3.16, \"Win Rate\": 49.51, \"Eliminations\": 20.25, \"Objective Kills\": 7.66, \"Objective Time\": 72, \"Damage\": 8576, \"Deaths\": 8.02, \"Role\": \"Damage\", \"Prediction\": 7.711729672085931, \"Support\": \"Damage\", \"isSupport_bool\": false, \"isSupport\": 0, \"pred_log\": 0, \"pred_proba1\": 0.0020113296996465088, \"pred_proba2\": 0.05148259908083346}, {\"Hero\": \"Reaper\", \"Skill Tier\": \"Master\", \"KDA\": 2.85, \"Pick Rate\": 3.18, \"Win Rate\": 49.5, \"Eliminations\": 20.16, \"Objective Kills\": 7.53, \"Objective Time\": 71, \"Damage\": 8650, \"Deaths\": 8.01, \"Role\": \"Damage\", \"Prediction\": 7.680954686263092, \"Support\": \"Damage\", \"isSupport_bool\": false, \"isSupport\": 0, \"pred_log\": 0, \"pred_proba1\": 0.0022047435985949266, \"pred_proba2\": 0.05790080490424791}, {\"Hero\": \"Reaper\", \"Skill Tier\": \"Grandmaster\", \"KDA\": 2.8, \"Pick Rate\": 2.53, \"Win Rate\": 49.08, \"Eliminations\": 19.37, \"Objective Kills\": 7.11, \"Objective Time\": 70, \"Damage\": 8578, \"Deaths\": 7.94, \"Role\": \"Damage\", \"Prediction\": 7.410818699595954, \"Support\": \"Damage\", \"isSupport_bool\": false, \"isSupport\": 0, \"pred_log\": 0, \"pred_proba1\": 0.004930842622803161, \"pred_proba2\": 0.08410243264523742}, {\"Hero\": \"Baptiste\", \"Skill Tier\": \"Bronze\", \"KDA\": 3.88, \"Pick Rate\": 1.6, \"Win Rate\": 42.36, \"Eliminations\": 9.23, \"Objective Kills\": 4.33, \"Objective Time\": 66, \"Damage\": 3148, \"Deaths\": 7.01, \"Role\": \"Support\", \"Prediction\": 3.9435036302228115, \"Support\": \"Support\", \"isSupport_bool\": true, \"isSupport\": 1, \"pred_log\": 1, \"pred_proba1\": 0.9936884640902628, \"pred_proba2\": 0.5670306438654489}, {\"Hero\": \"Baptiste\", \"Skill Tier\": \"Silver\", \"KDA\": 4.08, \"Pick Rate\": 1.3, \"Win Rate\": 42.84, \"Eliminations\": 10.04, \"Objective Kills\": 4.77, \"Objective Time\": 69, \"Damage\": 3344, \"Deaths\": 6.88, \"Role\": \"Support\", \"Prediction\": 4.220478502628358, \"Support\": \"Support\", \"isSupport_bool\": true, \"isSupport\": 1, \"pred_log\": 0, \"pred_proba1\": 0.9856699624016997, \"pred_proba2\": 0.4623505526953555}, {\"Hero\": \"Baptiste\", \"Skill Tier\": \"Gold\", \"KDA\": 4.33, \"Pick Rate\": 1.79, \"Win Rate\": 46.63, \"Eliminations\": 10.32, \"Objective Kills\": 4.78, \"Objective Time\": 65, \"Damage\": 3398, \"Deaths\": 6.64, \"Role\": \"Support\", \"Prediction\": 4.316222902966079, \"Support\": \"Support\", \"isSupport_bool\": true, \"isSupport\": 1, \"pred_log\": 0, \"pred_proba1\": 0.9810108078820832, \"pred_proba2\": 0.4599750346343987}, {\"Hero\": \"Baptiste\", \"Skill Tier\": \"Platinum\", \"KDA\": 4.52, \"Pick Rate\": 2.49, \"Win Rate\": 47.17, \"Eliminations\": 10.78, \"Objective Kills\": 4.75, \"Objective Time\": 61, \"Damage\": 3585, \"Deaths\": 6.39, \"Role\": \"Support\", \"Prediction\": 4.473517274949475, \"Support\": \"Support\", \"isSupport_bool\": true, \"isSupport\": 1, \"pred_log\": 0, \"pred_proba1\": 0.9699518485596799, \"pred_proba2\": 0.46710661371220796}, {\"Hero\": \"Baptiste\", \"Skill Tier\": \"Diamond\", \"KDA\": 4.7, \"Pick Rate\": 4.25, \"Win Rate\": 49.71, \"Eliminations\": 11.23, \"Objective Kills\": 4.75, \"Objective Time\": 58, \"Damage\": 3769, \"Deaths\": 6.2, \"Role\": \"Support\", \"Prediction\": 4.627392204063668, \"Support\": \"Support\", \"isSupport_bool\": true, \"isSupport\": 1, \"pred_log\": 0, \"pred_proba1\": 0.9532204608130606, \"pred_proba2\": 0.46710661371220796}, {\"Hero\": \"Baptiste\", \"Skill Tier\": \"Master\", \"KDA\": 4.72, \"Pick Rate\": 4.66, \"Win Rate\": 49.75, \"Eliminations\": 11.49, \"Objective Kills\": 4.65, \"Objective Time\": 54, \"Damage\": 3932, \"Deaths\": 6.15, \"Role\": \"Support\", \"Prediction\": 4.716297718662979, \"Support\": \"Support\", \"isSupport_bool\": true, \"isSupport\": 1, \"pred_log\": 0, \"pred_proba1\": 0.9398340381461231, \"pred_proba2\": 0.490959441777987}, {\"Hero\": \"Baptiste\", \"Skill Tier\": \"Grandmaster\", \"KDA\": 4.84, \"Pick Rate\": 7.61, \"Win Rate\": 53.08, \"Eliminations\": 11.74, \"Objective Kills\": 4.46, \"Objective Time\": 52, \"Damage\": 4231, \"Deaths\": 6.01, \"Role\": \"Support\", \"Prediction\": 4.8017837903930864, \"Support\": \"Support\", \"isSupport_bool\": true, \"isSupport\": 1, \"pred_log\": 1, \"pred_proba1\": 0.9236507617113157, \"pred_proba2\": 0.5363033567464632}, {\"Hero\": \"Orisa\", \"Skill Tier\": \"Bronze\", \"KDA\": 3.19, \"Pick Rate\": 1.31, \"Win Rate\": 37.88, \"Eliminations\": 15.49, \"Objective Kills\": 7.81, \"Objective Time\": 130, \"Damage\": 8149, \"Deaths\": 7.57, \"Role\": \"Tank\", \"Prediction\": 6.084074866344692, \"Support\": \"Tank\", \"isSupport_bool\": false, \"isSupport\": 0, \"pred_log\": 0, \"pred_proba1\": 0.20739624282140892, \"pred_proba2\": 0.04491395951153843}, {\"Hero\": \"Orisa\", \"Skill Tier\": \"Silver\", \"KDA\": 3.58, \"Pick Rate\": 1.54, \"Win Rate\": 41.51, \"Eliminations\": 16.9, \"Objective Kills\": 8.24, \"Objective Time\": 133, \"Damage\": 8744, \"Deaths\": 7.31, \"Role\": \"Tank\", \"Prediction\": 6.566216310902496, \"Support\": \"Tank\", \"isSupport_bool\": false, \"isSupport\": 0, \"pred_log\": 0, \"pred_proba1\": 0.058295505209873734, \"pred_proba2\": 0.03023297061717848}, {\"Hero\": \"Orisa\", \"Skill Tier\": \"Gold\", \"KDA\": 3.66, \"Pick Rate\": 1.73, \"Win Rate\": 43.92, \"Eliminations\": 17.57, \"Objective Kills\": 8.17, \"Objective Time\": 129, \"Damage\": 9154, \"Deaths\": 7.15, \"Role\": \"Tank\", \"Prediction\": 6.795318983139183, \"Support\": \"Tank\", \"isSupport_bool\": false, \"isSupport\": 0, \"pred_log\": 0, \"pred_proba1\": 0.03026231488614323, \"pred_proba2\": 0.03225784475477838}, {\"Hero\": \"Orisa\", \"Skill Tier\": \"Platinum\", \"KDA\": 3.79, \"Pick Rate\": 2.24, \"Win Rate\": 44.59, \"Eliminations\": 18.26, \"Objective Kills\": 8.17, \"Objective Time\": 125, \"Damage\": 9497, \"Deaths\": 7.01, \"Role\": \"Tank\", \"Prediction\": 7.031260541114279, \"Support\": \"Tank\", \"isSupport_bool\": false, \"isSupport\": 0, \"pred_log\": 0, \"pred_proba1\": 0.015179333211580652, \"pred_proba2\": 0.03225784475477838}, {\"Hero\": \"Orisa\", \"Skill Tier\": \"Diamond\", \"KDA\": 3.92, \"Pick Rate\": 2.75, \"Win Rate\": 44.05, \"Eliminations\": 18.52, \"Objective Kills\": 7.99, \"Objective Time\": 121, \"Damage\": 9694, \"Deaths\": 6.92, \"Role\": \"Tank\", \"Prediction\": 7.12016605571359, \"Support\": \"Tank\", \"isSupport_bool\": false, \"isSupport\": 0, \"pred_log\": 0, \"pred_proba1\": 0.011677692312826527, \"pred_proba2\": 0.03808415680728329}, {\"Hero\": \"Orisa\", \"Skill Tier\": \"Master\", \"KDA\": 3.83, \"Pick Rate\": 2.72, \"Win Rate\": 43.59, \"Eliminations\": 18.36, \"Objective Kills\": 7.79, \"Objective Time\": 119, \"Damage\": 9586, \"Deaths\": 6.91, \"Role\": \"Tank\", \"Prediction\": 7.065454969806321, \"Support\": \"Tank\", \"isSupport_bool\": false, \"isSupport\": 0, \"pred_log\": 0, \"pred_proba1\": 0.013724449054572596, \"pred_proba2\": 0.04574129790468997}, {\"Hero\": \"Orisa\", \"Skill Tier\": \"Grandmaster\", \"KDA\": 3.83, \"Pick Rate\": 2.58, \"Win Rate\": 43.89, \"Eliminations\": 17.89, \"Objective Kills\": 7.53, \"Objective Time\": 117, \"Damage\": 9299, \"Deaths\": 6.86, \"Role\": \"Tank\", \"Prediction\": 6.9047411549537205, \"Support\": \"Tank\", \"isSupport_bool\": false, \"isSupport\": 0, \"pred_log\": 0, \"pred_proba1\": 0.022004340477686003, \"pred_proba2\": 0.05790080490424791}, {\"Hero\": \"Pharah\", \"Skill Tier\": \"Bronze\", \"KDA\": 2.85, \"Pick Rate\": 0.94, \"Win Rate\": 45.59, \"Eliminations\": 17.93, \"Objective Kills\": 6.54, \"Objective Time\": 42, \"Damage\": 8056, \"Deaths\": 8.24, \"Role\": \"Damage\", \"Prediction\": 6.918418926430538, \"Support\": \"Damage\", \"isSupport_bool\": false, \"isSupport\": 0, \"pred_log\": 0, \"pred_proba1\": 0.02114130903385141, \"pred_proba2\": 0.1367013256329639}, {\"Hero\": \"Pharah\", \"Skill Tier\": \"Silver\", \"KDA\": 3.11, \"Pick Rate\": 1.07, \"Win Rate\": 49.07, \"Eliminations\": 19.49, \"Objective Kills\": 6.77, \"Objective Time\": 42, \"Damage\": 8495, \"Deaths\": 8.33, \"Role\": \"Damage\", \"Prediction\": 7.4518520140264055, \"Support\": \"Damage\", \"isSupport_bool\": false, \"isSupport\": 0, \"pred_log\": 0, \"pred_proba1\": 0.0043640506149055505, \"pred_proba2\": 0.11276169253846884}, {\"Hero\": \"Pharah\", \"Skill Tier\": \"Gold\", \"KDA\": 3.13, \"Pick Rate\": 1.2, \"Win Rate\": 49.56, \"Eliminations\": 20.24, \"Objective Kills\": 6.76, \"Objective Time\": 41, \"Damage\": 8771, \"Deaths\": 8.32, \"Role\": \"Damage\", \"Prediction\": 7.7083102292167265, \"Support\": \"Damage\", \"isSupport_bool\": false, \"isSupport\": 0, \"pred_log\": 0, \"pred_proba1\": 0.002031955439034128, \"pred_proba2\": 0.11372166017896539}, {\"Hero\": \"Pharah\", \"Skill Tier\": \"Platinum\", \"KDA\": 3.12, \"Pick Rate\": 1.65, \"Win Rate\": 50.63, \"Eliminations\": 20.91, \"Objective Kills\": 6.62, \"Objective Time\": 39, \"Damage\": 9121, \"Deaths\": 8.45, \"Role\": \"Damage\", \"Prediction\": 7.937412901453414, \"Support\": \"Damage\", \"isSupport_bool\": false, \"isSupport\": 0, \"pred_log\": 0, \"pred_proba1\": 0.0010253672694694792, \"pred_proba2\": 0.12792397968403443}, {\"Hero\": \"Pharah\", \"Skill Tier\": \"Diamond\", \"KDA\": 3.08, \"Pick Rate\": 2.35, \"Win Rate\": 51.0, \"Eliminations\": 21.42, \"Objective Kills\": 6.47, \"Objective Time\": 38, \"Damage\": 9433, \"Deaths\": 8.56, \"Role\": \"Damage\", \"Prediction\": 8.111804487782834, \"Support\": \"Damage\", \"isSupport_bool\": false, \"isSupport\": 0, \"pred_log\": 0, \"pred_proba1\": 0.0006090123314854952, \"pred_proba2\": 0.14479231947442842}, {\"Hero\": \"Pharah\", \"Skill Tier\": \"Master\", \"KDA\": 3.01, \"Pick Rate\": 3.14, \"Win Rate\": 52.68, \"Eliminations\": 21.35, \"Objective Kills\": 6.13, \"Objective Time\": 35, \"Damage\": 9577, \"Deaths\": 8.56, \"Role\": \"Damage\", \"Prediction\": 8.087868387698403, \"Support\": \"Damage\", \"isSupport_bool\": false, \"isSupport\": 0, \"pred_log\": 0, \"pred_proba1\": 0.0006541625650436342, \"pred_proba2\": 0.18984589769803403}, {\"Hero\": \"Pharah\", \"Skill Tier\": \"Grandmaster\", \"KDA\": 3.0, \"Pick Rate\": 3.03, \"Win Rate\": 53.11, \"Eliminations\": 21.08, \"Objective Kills\": 5.87, \"Objective Time\": 32, \"Damage\": 9720, \"Deaths\": 8.47, \"Role\": \"Damage\", \"Prediction\": 7.995543430229886, \"Support\": \"Damage\", \"isSupport_bool\": false, \"isSupport\": 0, \"pred_log\": 0, \"pred_proba1\": 0.0008619307725566668, \"pred_proba2\": 0.23103826910408365}, {\"Hero\": \"Sigma\", \"Skill Tier\": \"Bronze\", \"KDA\": 4.06, \"Pick Rate\": 1.26, \"Win Rate\": 44.52, \"Eliminations\": 16.21, \"Objective Kills\": 8.55, \"Objective Time\": 138, \"Damage\": 8706, \"Deaths\": 5.56, \"Role\": \"Tank\", \"Prediction\": 6.3302747529274015, \"Support\": \"Tank\", \"isSupport_bool\": false, \"isSupport\": 0, \"pred_log\": 0, \"pred_proba1\": 0.11137581340764625, \"pred_proba2\": 0.022654635497295822}, {\"Hero\": \"Sigma\", \"Skill Tier\": \"Silver\", \"KDA\": 4.6, \"Pick Rate\": 1.35, \"Win Rate\": 46.84, \"Eliminations\": 17.59, \"Objective Kills\": 8.9, \"Objective Time\": 138, \"Damage\": 9286, \"Deaths\": 5.41, \"Role\": \"Tank\", \"Prediction\": 6.802157868877591, \"Support\": \"Tank\", \"isSupport_bool\": false, \"isSupport\": 0, \"pred_log\": 0, \"pred_proba1\": 0.02966801184183561, \"pred_proba2\": 0.01631746089855829}, {\"Hero\": \"Sigma\", \"Skill Tier\": \"Gold\", \"KDA\": 4.88, \"Pick Rate\": 1.52, \"Win Rate\": 48.93, \"Eliminations\": 18.4, \"Objective Kills\": 8.88, \"Objective Time\": 135, \"Damage\": 9669, \"Deaths\": 5.21, \"Role\": \"Tank\", \"Prediction\": 7.079132741283138, \"Support\": \"Tank\", \"isSupport_bool\": false, \"isSupport\": 0, \"pred_log\": 0, \"pred_proba1\": 0.013181785896328506, \"pred_proba2\": 0.016627207446699984}, {\"Hero\": \"Sigma\", \"Skill Tier\": \"Platinum\", \"KDA\": 5.01, \"Pick Rate\": 2.12, \"Win Rate\": 50.52, \"Eliminations\": 18.88, \"Objective Kills\": 8.64, \"Objective Time\": 131, \"Damage\": 10066, \"Deaths\": 5.08, \"Role\": \"Tank\", \"Prediction\": 7.243265999004944, \"Support\": \"Tank\", \"isSupport_bool\": false, \"isSupport\": 0, \"pred_log\": 0, \"pred_proba1\": 0.008111205689807536, \"pred_proba2\": 0.020825870459094346}, {\"Hero\": \"Sigma\", \"Skill Tier\": \"Diamond\", \"KDA\": 5.09, \"Pick Rate\": 3.09, \"Win Rate\": 50.86, \"Eliminations\": 19.16, \"Objective Kills\": 8.3, \"Objective Time\": 126, \"Damage\": 10337, \"Deaths\": 5.04, \"Role\": \"Tank\", \"Prediction\": 7.339010399342665, \"Support\": \"Tank\", \"isSupport_bool\": false, \"isSupport\": 0, \"pred_log\": 0, \"pred_proba1\": 0.006104446474467651, \"pred_proba2\": 0.02859583882211902}, {\"Hero\": \"Sigma\", \"Skill Tier\": \"Master\", \"KDA\": 4.91, \"Pick Rate\": 3.91, \"Win Rate\": 51.89, \"Eliminations\": 18.95, \"Objective Kills\": 7.79, \"Objective Time\": 123, \"Damage\": 10391, \"Deaths\": 5.03, \"Role\": \"Tank\", \"Prediction\": 7.267202099089374, \"Support\": \"Tank\", \"isSupport_bool\": false, \"isSupport\": 0, \"pred_log\": 0, \"pred_proba1\": 0.007555262220600301, \"pred_proba2\": 0.04574129790468997}, {\"Hero\": \"Sigma\", \"Skill Tier\": \"Grandmaster\", \"KDA\": 4.66, \"Pick Rate\": 5.83, \"Win Rate\": 53.24, \"Eliminations\": 18.22, \"Objective Kills\": 7.01, \"Objective Time\": 118, \"Damage\": 10365, \"Deaths\": 4.98, \"Role\": \"Tank\", \"Prediction\": 7.017582769637461, \"Support\": \"Tank\", \"isSupport_bool\": false, \"isSupport\": 0, \"pred_log\": 0, \"pred_proba1\": 0.015802913798945092, \"pred_proba2\": 0.09176506931283036}, {\"Hero\": \"Doomfist\", \"Skill Tier\": \"Bronze\", \"KDA\": 3.16, \"Pick Rate\": 0.28, \"Win Rate\": 42.13, \"Eliminations\": 15.51, \"Objective Kills\": 5.84, \"Objective Time\": 95, \"Damage\": 6846, \"Deaths\": 8.29, \"Role\": \"Tank\", \"Prediction\": 6.090913752083101, \"Support\": \"Tank\", \"isSupport_bool\": false, \"isSupport\": 0, \"pred_log\": 0, \"pred_proba1\": 0.20405529847722784, \"pred_proba2\": 0.23617267530084526}, {\"Hero\": \"Doomfist\", \"Skill Tier\": \"Silver\", \"KDA\": 3.35, \"Pick Rate\": 0.45, \"Win Rate\": 48.14, \"Eliminations\": 16.78, \"Objective Kills\": 6.33, \"Objective Time\": 101, \"Damage\": 7290, \"Deaths\": 7.93, \"Role\": \"Tank\", \"Prediction\": 6.525182996472045, \"Support\": \"Tank\", \"isSupport_bool\": false, \"isSupport\": 0, \"pred_log\": 0, \"pred_proba1\": 0.0654066322722026, \"pred_proba2\": 0.16216495820240795}, {\"Hero\": \"Doomfist\", \"Skill Tier\": \"Gold\", \"KDA\": 3.26, \"Pick Rate\": 0.69, \"Win Rate\": 48.06, \"Eliminations\": 17.31, \"Objective Kills\": 6.19, \"Objective Time\": 97, \"Damage\": 7620, \"Deaths\": 8.05, \"Role\": \"Tank\", \"Prediction\": 6.706413468539871, \"Support\": \"Tank\", \"isSupport_bool\": false, \"isSupport\": 0, \"pred_log\": 0, \"pred_proba1\": 0.03911613049271633, \"pred_proba2\": 0.1811804242553368}, {\"Hero\": \"Doomfist\", \"Skill Tier\": \"Platinum\", \"KDA\": 3.38, \"Pick Rate\": 1.35, \"Win Rate\": 50.42, \"Eliminations\": 18.16, \"Objective Kills\": 6.12, \"Objective Time\": 93, \"Damage\": 7995, \"Deaths\": 7.75, \"Role\": \"Tank\", \"Prediction\": 6.997066112422236, \"Support\": \"Tank\", \"isSupport_bool\": false, \"isSupport\": 0, \"pred_log\": 0, \"pred_proba1\": 0.016785820040556104, \"pred_proba2\": 0.1913205935984613}, {\"Hero\": \"Doomfist\", \"Skill Tier\": \"Diamond\", \"KDA\": 3.39, \"Pick Rate\": 2.84, \"Win Rate\": 51.5, \"Eliminations\": 18.69, \"Objective Kills\": 6.0, \"Objective Time\": 88, \"Damage\": 8249, \"Deaths\": 7.71, \"Role\": \"Tank\", \"Prediction\": 7.178296584490063, \"Support\": \"Tank\", \"isSupport_bool\": false, \"isSupport\": 0, \"pred_log\": 0, \"pred_proba1\": 0.009833061165938697, \"pred_proba2\": 0.20969997713121669}, {\"Hero\": \"Doomfist\", \"Skill Tier\": \"Master\", \"KDA\": 3.4, \"Pick Rate\": 3.54, \"Win Rate\": 51.01, \"Eliminations\": 18.9, \"Objective Kills\": 5.79, \"Objective Time\": 84, \"Damage\": 8309, \"Deaths\": 7.61, \"Role\": \"Tank\", \"Prediction\": 7.250104884743353, \"Support\": \"Tank\", \"isSupport_bool\": false, \"isSupport\": 0, \"pred_log\": 0, \"pred_proba1\": 0.007948349166475983, \"pred_proba2\": 0.24490379636916634}, {\"Hero\": \"Doomfist\", \"Skill Tier\": \"Grandmaster\", \"KDA\": 3.43, \"Pick Rate\": 6.89, \"Win Rate\": 51.89, \"Eliminations\": 18.78, \"Objective Kills\": 5.63, \"Objective Time\": 82, \"Damage\": 8354, \"Deaths\": 7.53, \"Role\": \"Tank\", \"Prediction\": 7.209071570312902, \"Support\": \"Tank\", \"isSupport_bool\": false, \"isSupport\": 0, \"pred_log\": 0, \"pred_proba1\": 0.008976463891993549, \"pred_proba2\": 0.2742782820835899}, {\"Hero\": \"Brigitte\", \"Skill Tier\": \"Bronze\", \"KDA\": 3.85, \"Pick Rate\": 0.7, \"Win Rate\": 46.01, \"Eliminations\": 11.28, \"Objective Kills\": 4.93, \"Objective Time\": 93, \"Damage\": 3383, \"Deaths\": 8.39, \"Role\": \"Support\", \"Prediction\": 4.644489418409689, \"Support\": \"Support\", \"isSupport_bool\": true, \"isSupport\": 1, \"pred_log\": 0, \"pred_proba1\": 0.9508875941552233, \"pred_proba2\": 0.4246191129782008}, {\"Hero\": \"Brigitte\", \"Skill Tier\": \"Silver\", \"KDA\": 4.3, \"Pick Rate\": 0.69, \"Win Rate\": 49.47, \"Eliminations\": 12.17, \"Objective Kills\": 5.12, \"Objective Time\": 93, \"Damage\": 3563, \"Deaths\": 8.15, \"Role\": \"Support\", \"Prediction\": 4.94881983376887, \"Support\": \"Support\", \"isSupport_bool\": true, \"isSupport\": 1, \"pred_log\": 0, \"pred_proba1\": 0.8862924767049651, \"pred_proba2\": 0.38096005887412154}, {\"Hero\": \"Brigitte\", \"Skill Tier\": \"Gold\", \"KDA\": 4.53, \"Pick Rate\": 0.87, \"Win Rate\": 51.35, \"Eliminations\": 12.52, \"Objective Kills\": 5.23, \"Objective Time\": 91, \"Damage\": 3737, \"Deaths\": 8.03, \"Role\": \"Support\", \"Prediction\": 5.06850033419102, \"Support\": \"Support\", \"isSupport_bool\": true, \"isSupport\": 1, \"pred_log\": 0, \"pred_proba1\": 0.8449598074918617, \"pred_proba2\": 0.3564896958500838}, {\"Hero\": \"Brigitte\", \"Skill Tier\": \"Platinum\", \"KDA\": 4.63, \"Pick Rate\": 1.26, \"Win Rate\": 52.1, \"Eliminations\": 12.48, \"Objective Kills\": 5.09, \"Objective Time\": 88, \"Damage\": 3750, \"Deaths\": 7.71, \"Role\": \"Support\", \"Prediction\": 5.054822562714204, \"Support\": \"Support\", \"isSupport_bool\": true, \"isSupport\": 1, \"pred_log\": 0, \"pred_proba1\": 0.8502416437441414, \"pred_proba2\": 0.3877461869958365}, {\"Hero\": \"Brigitte\", \"Skill Tier\": \"Diamond\", \"KDA\": 4.75, \"Pick Rate\": 1.99, \"Win Rate\": 52.77, \"Eliminations\": 12.36, \"Objective Kills\": 5.03, \"Objective Time\": 86, \"Damage\": 3788, \"Deaths\": 7.36, \"Role\": \"Support\", \"Prediction\": 5.013789248283752, \"Support\": \"Support\", \"isSupport_bool\": true, \"isSupport\": 1, \"pred_log\": 0, \"pred_proba1\": 0.8652009011372109, \"pred_proba2\": 0.40144753037688485}, {\"Hero\": \"Brigitte\", \"Skill Tier\": \"Master\", \"KDA\": 4.9, \"Pick Rate\": 2.85, \"Win Rate\": 53.47, \"Eliminations\": 11.75, \"Objective Kills\": 4.67, \"Objective Time\": 83, \"Damage\": 3701, \"Deaths\": 7.05, \"Role\": \"Support\", \"Prediction\": 4.805203233262291, \"Support\": \"Support\", \"isSupport_bool\": true, \"isSupport\": 1, \"pred_log\": 0, \"pred_proba1\": 0.9229266900700073, \"pred_proba2\": 0.48618209187932987}, {\"Hero\": \"Brigitte\", \"Skill Tier\": \"Grandmaster\", \"KDA\": 4.93, \"Pick Rate\": 5.39, \"Win Rate\": 53.59, \"Eliminations\": 10.82, \"Objective Kills\": 4.33, \"Objective Time\": 84, \"Damage\": 3588, \"Deaths\": 6.49, \"Role\": \"Support\", \"Prediction\": 4.487195046426292, \"Support\": \"Support\", \"isSupport_bool\": true, \"isSupport\": 1, \"pred_log\": 1, \"pred_proba1\": 0.9687368342582316, \"pred_proba2\": 0.5670306438654489}, {\"Hero\": \"Mei\", \"Skill Tier\": \"Bronze\", \"KDA\": 3.64, \"Pick Rate\": 0.97, \"Win Rate\": 45.73, \"Eliminations\": 16.62, \"Objective Kills\": 7.77, \"Objective Time\": 100, \"Damage\": 6368, \"Deaths\": 7.52, \"Role\": \"Damage\", \"Prediction\": 6.470471910564777, \"Support\": \"Damage\", \"isSupport_bool\": false, \"isSupport\": 0, \"pred_log\": 0, \"pred_proba1\": 0.07614495756651815, \"pred_proba2\": 0.046583132987371774}, {\"Hero\": \"Mei\", \"Skill Tier\": \"Silver\", \"KDA\": 3.88, \"Pick Rate\": 1.14, \"Win Rate\": 48.21, \"Eliminations\": 17.3, \"Objective Kills\": 8.01, \"Objective Time\": 100, \"Damage\": 6620, \"Deaths\": 7.4, \"Role\": \"Damage\", \"Prediction\": 6.702994025670668, \"Support\": \"Damage\", \"isSupport_bool\": false, \"isSupport\": 0, \"pred_log\": 0, \"pred_proba1\": 0.03950219678657228, \"pred_proba2\": 0.03738988910645702}, {\"Hero\": \"Mei\", \"Skill Tier\": \"Gold\", \"KDA\": 3.96, \"Pick Rate\": 1.3, \"Win Rate\": 49.98, \"Eliminations\": 17.89, \"Objective Kills\": 8.02, \"Objective Time\": 95, \"Damage\": 6849, \"Deaths\": 7.3, \"Role\": \"Damage\", \"Prediction\": 6.9047411549537205, \"Support\": \"Damage\", \"isSupport_bool\": false, \"isSupport\": 0, \"pred_log\": 0, \"pred_proba1\": 0.022004340477686003, \"pred_proba2\": 0.0370473325884846}, {\"Hero\": \"Mei\", \"Skill Tier\": \"Platinum\", \"KDA\": 3.92, \"Pick Rate\": 1.75, \"Win Rate\": 50.77, \"Eliminations\": 18.09, \"Objective Kills\": 7.78, \"Objective Time\": 91, \"Damage\": 7062, \"Deaths\": 7.2, \"Role\": \"Damage\", \"Prediction\": 6.973130012337806, \"Support\": \"Damage\", \"isSupport_bool\": false, \"isSupport\": 0, \"pred_log\": 0, \"pred_proba1\": 0.0180086563597555, \"pred_proba2\": 0.04616038926655789}, {\"Hero\": \"Mei\", \"Skill Tier\": \"Diamond\", \"KDA\": 3.83, \"Pick Rate\": 2.52, \"Win Rate\": 51.11, \"Eliminations\": 18.01, \"Objective Kills\": 7.52, \"Objective Time\": 87, \"Damage\": 7172, \"Deaths\": 7.18, \"Role\": \"Damage\", \"Prediction\": 6.9457744693841725, \"Support\": \"Damage\", \"isSupport_bool\": false, \"isSupport\": 0, \"pred_log\": 0, \"pred_proba1\": 0.019513465114043477, \"pred_proba2\": 0.05842448326747623}, {\"Hero\": \"Mei\", \"Skill Tier\": \"Master\", \"KDA\": 3.76, \"Pick Rate\": 3.35, \"Win Rate\": 52.77, \"Eliminations\": 17.75, \"Objective Kills\": 7.12, \"Objective Time\": 81, \"Damage\": 7215, \"Deaths\": 7.1, \"Role\": \"Damage\", \"Prediction\": 6.8568689547848605, \"Support\": \"Damage\", \"isSupport_bool\": false, \"isSupport\": 0, \"pred_log\": 0, \"pred_proba1\": 0.025304560979984077, \"pred_proba2\": 0.08336897299121253}, {\"Hero\": \"Mei\", \"Skill Tier\": \"Grandmaster\", \"KDA\": 3.57, \"Pick Rate\": 3.33, \"Win Rate\": 52.48, \"Eliminations\": 17.07, \"Objective Kills\": 6.64, \"Objective Time\": 77, \"Damage\": 7114, \"Deaths\": 6.97, \"Role\": \"Damage\", \"Prediction\": 6.624346839678969, \"Support\": \"Damage\", \"isSupport_bool\": false, \"isSupport\": 0, \"pred_log\": 0, \"pred_proba1\": 0.049455518682237236, \"pred_proba2\": 0.12580614572295934}, {\"Hero\": \"Winston\", \"Skill Tier\": \"Bronze\", \"KDA\": 3.27, \"Pick Rate\": 0.38, \"Win Rate\": 35.95, \"Eliminations\": 17.12, \"Objective Kills\": 6.86, \"Objective Time\": 120, \"Damage\": 6766, \"Deaths\": 7.89, \"Role\": \"Tank\", \"Prediction\": 6.641444054024991, \"Support\": \"Tank\", \"isSupport_bool\": false, \"isSupport\": 0, \"pred_log\": 0, \"pred_proba1\": 0.04710716138204037, \"pred_proba2\": 0.10443641127409492}, {\"Hero\": \"Winston\", \"Skill Tier\": \"Silver\", \"KDA\": 3.5, \"Pick Rate\": 0.5, \"Win Rate\": 38.65, \"Eliminations\": 18.35, \"Objective Kills\": 7.13, \"Objective Time\": 120, \"Damage\": 7217, \"Deaths\": 7.61, \"Role\": \"Tank\", \"Prediction\": 7.062035526937118, \"Support\": \"Tank\", \"isSupport_bool\": false, \"isSupport\": 0, \"pred_log\": 0, \"pred_proba1\": 0.013863521652625612, \"pred_proba2\": 0.08264133270177643}, {\"Hero\": \"Winston\", \"Skill Tier\": \"Gold\", \"KDA\": 3.87, \"Pick Rate\": 0.71, \"Win Rate\": 41.52, \"Eliminations\": 19.33, \"Objective Kills\": 7.11, \"Objective Time\": 117, \"Damage\": 7561, \"Deaths\": 7.24, \"Role\": \"Tank\", \"Prediction\": 7.3971409281191365, \"Support\": \"Tank\", \"isSupport_bool\": false, \"isSupport\": 0, \"pred_log\": 0, \"pred_proba1\": 0.005135601551403876, \"pred_proba2\": 0.08410243264523742}, {\"Hero\": \"Winston\", \"Skill Tier\": \"Platinum\", \"KDA\": 3.97, \"Pick Rate\": 1.2, \"Win Rate\": 42.53, \"Eliminations\": 19.88, \"Objective Kills\": 6.83, \"Objective Time\": 111, \"Damage\": 7869, \"Deaths\": 7.07, \"Role\": \"Tank\", \"Prediction\": 7.585210285925372, \"Support\": \"Tank\", \"isSupport_bool\": false, \"isSupport\": 0, \"pred_log\": 0, \"pred_proba1\": 0.0029333085759071934, \"pred_proba2\": 0.10714936174057944}, {\"Hero\": \"Winston\", \"Skill Tier\": \"Diamond\", \"KDA\": 4.02, \"Pick Rate\": 2.13, \"Win Rate\": 43.47, \"Eliminations\": 20.11, \"Objective Kills\": 6.52, \"Objective Time\": 105, \"Damage\": 8112, \"Deaths\": 6.91, \"Role\": \"Tank\", \"Prediction\": 7.663857471917071, \"Support\": \"Tank\", \"isSupport_bool\": false, \"isSupport\": 0, \"pred_log\": 0, \"pred_proba1\": 0.002320103295653288, \"pred_proba2\": 0.13897341282924006}, {\"Hero\": \"Winston\", \"Skill Tier\": \"Master\", \"KDA\": 3.97, \"Pick Rate\": 2.96, \"Win Rate\": 45.99, \"Eliminations\": 20.02, \"Objective Kills\": 6.17, \"Objective Time\": 99, \"Damage\": 8207, \"Deaths\": 6.81, \"Role\": \"Tank\", \"Prediction\": 7.633082486094232, \"Support\": \"Tank\", \"isSupport_bool\": false, \"isSupport\": 0, \"pred_log\": 0, \"pred_proba1\": 0.002543133880641183, \"pred_proba2\": 0.18403419405740148}, {\"Hero\": \"Winston\", \"Skill Tier\": \"Grandmaster\", \"KDA\": 3.98, \"Pick Rate\": 4.84, \"Win Rate\": 49.07, \"Eliminations\": 19.47, \"Objective Kills\": 5.68, \"Objective Time\": 93, \"Damage\": 8238, \"Deaths\": 6.54, \"Role\": \"Tank\", \"Prediction\": 7.4450131282879966, \"Support\": \"Tank\", \"isSupport_bool\": false, \"isSupport\": 0, \"pred_log\": 0, \"pred_proba1\": 0.004453796891062376, \"pred_proba2\": 0.264867266682937}, {\"Hero\": \"Bastion\", \"Skill Tier\": \"Bronze\", \"KDA\": 2.56, \"Pick Rate\": 1.42, \"Win Rate\": 41.57, \"Eliminations\": 17.63, \"Objective Kills\": 7.92, \"Objective Time\": 67, \"Damage\": 9344, \"Deaths\": 8.61, \"Role\": \"Damage\", \"Prediction\": 6.8158356403544085, \"Support\": \"Damage\", \"isSupport_bool\": false, \"isSupport\": 0, \"pred_log\": 0, \"pred_proba1\": 0.0285131670390087, \"pred_proba2\": 0.040612847993182766}, {\"Hero\": \"Bastion\", \"Skill Tier\": \"Silver\", \"KDA\": 2.77, \"Pick Rate\": 1.42, \"Win Rate\": 44.03, \"Eliminations\": 18.52, \"Objective Kills\": 8.29, \"Objective Time\": 70, \"Damage\": 9758, \"Deaths\": 8.4, \"Role\": \"Damage\", \"Prediction\": 7.12016605571359, \"Support\": \"Damage\", \"isSupport_bool\": false, \"isSupport\": 0, \"pred_log\": 0, \"pred_proba1\": 0.011677692312826527, \"pred_proba2\": 0.02886259125955715}, {\"Hero\": \"Bastion\", \"Skill Tier\": \"Gold\", \"KDA\": 2.91, \"Pick Rate\": 1.52, \"Win Rate\": 45.96, \"Eliminations\": 19.31, \"Objective Kills\": 8.47, \"Objective Time\": 70, \"Damage\": 10133, \"Deaths\": 8.17, \"Role\": \"Damage\", \"Prediction\": 7.390302042380728, \"Support\": \"Damage\", \"isSupport_bool\": false, \"isSupport\": 0, \"pred_log\": 0, \"pred_proba1\": 0.005241131172624052, \"pred_proba2\": 0.024411240224135548}, {\"Hero\": \"Bastion\", \"Skill Tier\": \"Platinum\", \"KDA\": 3.03, \"Pick Rate\": 1.87, \"Win Rate\": 47.12, \"Eliminations\": 19.71, \"Objective Kills\": 8.42, \"Objective Time\": 68, \"Damage\": 10482, \"Deaths\": 7.98, \"Role\": \"Damage\", \"Prediction\": 7.5270797571489005, \"Support\": \"Damage\", \"isSupport_bool\": false, \"isSupport\": 0, \"pred_log\": 0, \"pred_proba1\": 0.0034881417521252975, \"pred_proba2\": 0.02557583801807491}, {\"Hero\": \"Bastion\", \"Skill Tier\": \"Diamond\", \"KDA\": 3.09, \"Pick Rate\": 2.79, \"Win Rate\": 47.95, \"Eliminations\": 19.96, \"Objective Kills\": 8.19, \"Objective Time\": 64, \"Damage\": 10766, \"Deaths\": 7.86, \"Role\": \"Damage\", \"Prediction\": 7.612565828879007, \"Support\": \"Damage\", \"isSupport_bool\": false, \"isSupport\": 0, \"pred_log\": 0, \"pred_proba1\": 0.002703576695838081, \"pred_proba2\": 0.031666293207704595}, {\"Hero\": \"Bastion\", \"Skill Tier\": \"Master\", \"KDA\": 3.06, \"Pick Rate\": 3.84, \"Win Rate\": 50.59, \"Eliminations\": 19.73, \"Objective Kills\": 7.84, \"Objective Time\": 61, \"Damage\": 10761, \"Deaths\": 7.87, \"Role\": \"Damage\", \"Prediction\": 7.533918642887309, \"Support\": \"Damage\", \"isSupport_bool\": false, \"isSupport\": 0, \"pred_log\": 0, \"pred_proba1\": 0.0034177871165912556, \"pred_proba2\": 0.04369964409537882}, {\"Hero\": \"Bastion\", \"Skill Tier\": \"Grandmaster\", \"KDA\": 2.96, \"Pick Rate\": 2.98, \"Win Rate\": 49.28, \"Eliminations\": 19.14, \"Objective Kills\": 7.29, \"Objective Time\": 57, \"Damage\": 10658, \"Deaths\": 7.87, \"Role\": \"Damage\", \"Prediction\": 7.332171513604256, \"Support\": \"Damage\", \"isSupport_bool\": false, \"isSupport\": 0, \"pred_log\": 0, \"pred_proba1\": 0.006229759874991997, \"pred_proba2\": 0.07176121516109613}, {\"Hero\": \"Sombra\", \"Skill Tier\": \"Bronze\", \"KDA\": 3.91, \"Pick Rate\": 0.54, \"Win Rate\": 38.01, \"Eliminations\": 13.85, \"Objective Kills\": 5.31, \"Objective Time\": 47, \"Damage\": 4585, \"Deaths\": 6.68, \"Role\": \"Damage\", \"Prediction\": 5.52328623579519, \"Support\": \"Damage\", \"isSupport_bool\": false, \"isSupport\": 0, \"pred_log\": 0, \"pred_proba1\": 0.583198168347124, \"pred_proba2\": 0.33914407231903937}, {\"Hero\": \"Sombra\", \"Skill Tier\": \"Silver\", \"KDA\": 4.5, \"Pick Rate\": 0.46, \"Win Rate\": 40.36, \"Eliminations\": 15.5, \"Objective Kills\": 5.86, \"Objective Time\": 47, \"Damage\": 4972, \"Deaths\": 6.34, \"Role\": \"Damage\", \"Prediction\": 6.087494309213897, \"Support\": \"Damage\", \"isSupport_bool\": false, \"isSupport\": 0, \"pred_log\": 0, \"pred_proba1\": 0.2057207451074078, \"pred_proba2\": 0.23274101865863744}, {\"Hero\": \"Sombra\", \"Skill Tier\": \"Gold\", \"KDA\": 4.71, \"Pick Rate\": 0.79, \"Win Rate\": 44.14, \"Eliminations\": 15.88, \"Objective Kills\": 5.83, \"Objective Time\": 45, \"Damage\": 5287, \"Deaths\": 6.21, \"Role\": \"Damage\", \"Prediction\": 6.21743313824366, \"Support\": \"Damage\", \"isSupport_bool\": false, \"isSupport\": 0, \"pred_log\": 0, \"pred_proba1\": 0.14938942905008484, \"pred_proba2\": 0.23790155826543302}, {\"Hero\": \"Sombra\", \"Skill Tier\": \"Platinum\", \"KDA\": 4.7, \"Pick Rate\": 0.94, \"Win Rate\": 43.9, \"Eliminations\": 16.2, \"Objective Kills\": 5.85, \"Objective Time\": 43, \"Damage\": 5538, \"Deaths\": 6.18, \"Role\": \"Damage\", \"Prediction\": 6.326855310058196, \"Support\": \"Damage\", \"isSupport_bool\": false, \"isSupport\": 0, \"pred_log\": 0, \"pred_proba1\": 0.11239164541923767, \"pred_proba2\": 0.23445249125830692}, {\"Hero\": \"Sombra\", \"Skill Tier\": \"Diamond\", \"KDA\": 5.03, \"Pick Rate\": 1.65, \"Win Rate\": 44.37, \"Eliminations\": 16.63, \"Objective Kills\": 5.88, \"Objective Time\": 42, \"Damage\": 5848, \"Deaths\": 5.98, \"Role\": \"Damage\", \"Prediction\": 6.473891353433981, \"Support\": \"Damage\", \"isSupport_bool\": false, \"isSupport\": 0, \"pred_log\": 0, \"pred_proba1\": 0.0754288946200764, \"pred_proba2\": 0.22934425328581726}, {\"Hero\": \"Sombra\", \"Skill Tier\": \"Master\", \"KDA\": 4.94, \"Pick Rate\": 2.54, \"Win Rate\": 46.63, \"Eliminations\": 16.64, \"Objective Kills\": 5.78, \"Objective Time\": 40, \"Damage\": 6073, \"Deaths\": 5.89, \"Role\": \"Damage\", \"Prediction\": 6.477310796303185, \"Support\": \"Damage\", \"isSupport_bool\": false, \"isSupport\": 0, \"pred_log\": 0, \"pred_proba1\": 0.07471902087602363, \"pred_proba2\": 0.24667595347379767}, {\"Hero\": \"Sombra\", \"Skill Tier\": \"Grandmaster\", \"KDA\": 5.39, \"Pick Rate\": 3.26, \"Win Rate\": 48.01, \"Eliminations\": 16.5, \"Objective Kills\": 5.6, \"Objective Time\": 40, \"Damage\": 6302, \"Deaths\": 5.56, \"Role\": \"Damage\", \"Prediction\": 6.429438596134325, \"Support\": \"Damage\", \"isSupport_bool\": false, \"isSupport\": 0, \"pred_log\": 0, \"pred_proba1\": 0.08523635656223924, \"pred_proba2\": 0.2800236882942943}, {\"Hero\": \"Wrecking Ball\", \"Skill Tier\": \"Bronze\", \"KDA\": 4.22, \"Pick Rate\": 0.31, \"Win Rate\": 41.43, \"Eliminations\": 14.89, \"Objective Kills\": 7.07, \"Objective Time\": 127, \"Damage\": 6816, \"Deaths\": 6.24, \"Role\": \"Tank\", \"Prediction\": 5.878908294192436, \"Support\": \"Tank\", \"isSupport_bool\": false, \"isSupport\": 0, \"pred_log\": 0, \"pred_proba1\": 0.3257877392790327, \"pred_proba2\": 0.08709518895154376}, {\"Hero\": \"Wrecking Ball\", \"Skill Tier\": \"Silver\", \"KDA\": 4.5, \"Pick Rate\": 0.39, \"Win Rate\": 45.51, \"Eliminations\": 15.99, \"Objective Kills\": 7.48, \"Objective Time\": 130, \"Damage\": 7336, \"Deaths\": 6.13, \"Role\": \"Tank\", \"Prediction\": 6.2550470098049065, \"Support\": \"Tank\", \"isSupport_bool\": false, \"isSupport\": 0, \"pred_log\": 0, \"pred_proba1\": 0.13565544078397054, \"pred_proba2\": 0.06056391984545625}, {\"Hero\": \"Wrecking Ball\", \"Skill Tier\": \"Gold\", \"KDA\": 4.96, \"Pick Rate\": 0.53, \"Win Rate\": 47.76, \"Eliminations\": 17.11, \"Objective Kills\": 7.63, \"Objective Time\": 128, \"Damage\": 7659, \"Deaths\": 5.89, \"Role\": \"Tank\", \"Prediction\": 6.638024611155786, \"Support\": \"Tank\", \"isSupport_bool\": false, \"isSupport\": 0, \"pred_log\": 0, \"pred_proba1\": 0.04756819272313793, \"pred_proba2\": 0.05290122160666561}, {\"Hero\": \"Wrecking Ball\", \"Skill Tier\": \"Platinum\", \"KDA\": 4.99, \"Pick Rate\": 1.08, \"Win Rate\": 48.5, \"Eliminations\": 17.49, \"Objective Kills\": 7.47, \"Objective Time\": 123, \"Damage\": 7822, \"Deaths\": 5.86, \"Role\": \"Tank\", \"Prediction\": 6.767963440185548, \"Support\": \"Tank\", \"isSupport_bool\": false, \"isSupport\": 0, \"pred_log\": 0, \"pred_proba1\": 0.032756887533429, \"pred_proba2\": 0.06111012212109173}, {\"Hero\": \"Wrecking Ball\", \"Skill Tier\": \"Diamond\", \"KDA\": 5.05, \"Pick Rate\": 2.44, \"Win Rate\": 50.85, \"Eliminations\": 18.08, \"Objective Kills\": 7.33, \"Objective Time\": 118, \"Damage\": 7976, \"Deaths\": 5.79, \"Role\": \"Tank\", \"Prediction\": 6.969710569468601, \"Support\": \"Tank\", \"isSupport_bool\": false, \"isSupport\": 0, \"pred_log\": 0, \"pred_proba1\": 0.018190341009348788, \"pred_proba2\": 0.06925539097334404}, {\"Hero\": \"Wrecking Ball\", \"Skill Tier\": \"Master\", \"KDA\": 5.04, \"Pick Rate\": 3.88, \"Win Rate\": 52.08, \"Eliminations\": 18.29, \"Objective Kills\": 7.01, \"Objective Time\": 110, \"Damage\": 7987, \"Deaths\": 5.64, \"Role\": \"Tank\", \"Prediction\": 7.041518869721892, \"Support\": \"Tank\", \"isSupport_bool\": false, \"isSupport\": 0, \"pred_log\": 0, \"pred_proba1\": 0.01472760705360714, \"pred_proba2\": 0.09176506931283036}, {\"Hero\": \"Wrecking Ball\", \"Skill Tier\": \"Grandmaster\", \"KDA\": 4.99, \"Pick Rate\": 7.33, \"Win Rate\": 51.81, \"Eliminations\": 18.0, \"Objective Kills\": 6.48, \"Objective Time\": 102, \"Damage\": 7902, \"Deaths\": 5.39, \"Role\": \"Tank\", \"Prediction\": 6.942355026514967, \"Support\": \"Tank\", \"isSupport_bool\": false, \"isSupport\": 0, \"pred_log\": 0, \"pred_proba1\": 0.01971002666995382, \"pred_proba2\": 0.14361257235383096}, {\"Hero\": \"Sojourn\", \"Skill Tier\": \"Bronze\", \"KDA\": 2.45, \"Pick Rate\": 0.94, \"Win Rate\": 37.05, \"Eliminations\": 15.46, \"Objective Kills\": 7.03, \"Objective Time\": 64, \"Damage\": 7418, \"Deaths\": 8.34, \"Role\": \"Damage\", \"Prediction\": 6.07381653773708, \"Support\": \"Damage\", \"isSupport_bool\": false, \"isSupport\": 0, \"pred_log\": 0, \"pred_proba1\": 0.21248306648772033, \"pred_proba2\": 0.09018395530653978}, {\"Hero\": \"Sojourn\", \"Skill Tier\": \"Silver\", \"KDA\": 2.71, \"Pick Rate\": 0.77, \"Win Rate\": 38.98, \"Eliminations\": 16.74, \"Objective Kills\": 7.19, \"Objective Time\": 63, \"Damage\": 7857, \"Deaths\": 8.21, \"Role\": \"Damage\", \"Prediction\": 6.511505224995227, \"Support\": \"Damage\", \"isSupport_bool\": false, \"isSupport\": 0, \"pred_log\": 0, \"pred_proba1\": 0.06795122478877236, \"pred_proba2\": 0.07839567793773247}, {\"Hero\": \"Sojourn\", \"Skill Tier\": \"Gold\", \"KDA\": 2.85, \"Pick Rate\": 0.9, \"Win Rate\": 40.72, \"Eliminations\": 17.51, \"Objective Kills\": 7.25, \"Objective Time\": 61, \"Damage\": 8177, \"Deaths\": 8.09, \"Role\": \"Damage\", \"Prediction\": 6.774802325923958, \"Support\": \"Damage\", \"isSupport_bool\": false, \"isSupport\": 0, \"pred_log\": 0, \"pred_proba1\": 0.032115217508970326, \"pred_proba2\": 0.07435046330265623}, {\"Hero\": \"Sojourn\", \"Skill Tier\": \"Platinum\", \"KDA\": 2.92, \"Pick Rate\": 1.4, \"Win Rate\": 42.41, \"Eliminations\": 18.18, \"Objective Kills\": 7.18, \"Objective Time\": 57, \"Damage\": 8469, \"Deaths\": 7.98, \"Role\": \"Damage\", \"Prediction\": 7.003904998160644, \"Support\": \"Damage\", \"isSupport_bool\": false, \"isSupport\": 0, \"pred_log\": 0, \"pred_proba1\": 0.016451683691924374, \"pred_proba2\": 0.07908915895544395}, {\"Hero\": \"Sojourn\", \"Skill Tier\": \"Diamond\", \"KDA\": 2.97, \"Pick Rate\": 2.33, \"Win Rate\": 44.13, \"Eliminations\": 18.72, \"Objective Kills\": 7.02, \"Objective Time\": 54, \"Damage\": 8709, \"Deaths\": 7.96, \"Role\": \"Damage\", \"Prediction\": 7.188554913097676, \"Support\": \"Damage\", \"isSupport_bool\": false, \"isSupport\": 0, \"pred_log\": 0, \"pred_proba1\": 0.009538895218594738, \"pred_proba2\": 0.0909714210828324}, {\"Hero\": \"Sojourn\", \"Skill Tier\": \"Master\", \"KDA\": 2.91, \"Pick Rate\": 3.72, \"Win Rate\": 44.81, \"Eliminations\": 18.94, \"Objective Kills\": 6.83, \"Objective Time\": 52, \"Damage\": 8797, \"Deaths\": 7.94, \"Role\": \"Damage\", \"Prediction\": 7.263782656220171, \"Support\": \"Damage\", \"isSupport_bool\": false, \"isSupport\": 0, \"pred_log\": 0, \"pred_proba1\": 0.007632304972029971, \"pred_proba2\": 0.10714936174057944}, {\"Hero\": \"Sojourn\", \"Skill Tier\": \"Grandmaster\", \"KDA\": 2.99, \"Pick Rate\": 5.61, \"Win Rate\": 47.84, \"Eliminations\": 19.58, \"Objective Kills\": 6.57, \"Objective Time\": 49, \"Damage\": 9192, \"Deaths\": 7.64, \"Role\": \"Damage\", \"Prediction\": 7.482626999849243, \"Support\": \"Damage\", \"isSupport_bool\": false, \"isSupport\": 0, \"pred_log\": 0, \"pred_proba1\": 0.003981964760204013, \"pred_proba2\": 0.1333518920743928}, {\"Hero\": \"Symmetra\", \"Skill Tier\": \"Bronze\", \"KDA\": 3.4, \"Pick Rate\": 0.81, \"Win Rate\": 50.12, \"Eliminations\": 17.72, \"Objective Kills\": 8.61, \"Objective Time\": 69, \"Damage\": 7450, \"Deaths\": 7.97, \"Role\": \"Damage\", \"Prediction\": 6.846610626177247, \"Support\": \"Damage\", \"isSupport_bool\": false, \"isSupport\": 0, \"pred_log\": 0, \"pred_proba1\": 0.026072119511316546, \"pred_proba2\": 0.021418810988789554}, {\"Hero\": \"Symmetra\", \"Skill Tier\": \"Silver\", \"KDA\": 3.43, \"Pick Rate\": 0.76, \"Win Rate\": 52.07, \"Eliminations\": 18.49, \"Objective Kills\": 8.88, \"Objective Time\": 69, \"Damage\": 7853, \"Deaths\": 8.05, \"Role\": \"Damage\", \"Prediction\": 7.109907727105977, \"Support\": \"Damage\", \"isSupport_bool\": false, \"isSupport\": 0, \"pred_log\": 0, \"pred_proba1\": 0.012037014140396058, \"pred_proba2\": 0.016627207446699984}, {\"Hero\": \"Symmetra\", \"Skill Tier\": \"Gold\", \"KDA\": 3.62, \"Pick Rate\": 1.02, \"Win Rate\": 53.25, \"Eliminations\": 19.33, \"Objective Kills\": 8.79, \"Objective Time\": 66, \"Damage\": 8242, \"Deaths\": 7.91, \"Role\": \"Damage\", \"Prediction\": 7.3971409281191365, \"Support\": \"Damage\", \"isSupport_bool\": false, \"isSupport\": 0, \"pred_log\": 0, \"pred_proba1\": 0.005135601551403876, \"pred_proba2\": 0.0180940918086847}, {\"Hero\": \"Symmetra\", \"Skill Tier\": \"Platinum\", \"KDA\": 3.49, \"Pick Rate\": 1.34, \"Win Rate\": 53.18, \"Eliminations\": 19.3, \"Objective Kills\": 8.57, \"Objective Time\": 65, \"Damage\": 8498, \"Deaths\": 7.92, \"Role\": \"Damage\", \"Prediction\": 7.386882599511525, \"Support\": \"Damage\", \"isSupport_bool\": false, \"isSupport\": 0, \"pred_log\": 0, \"pred_proba1\": 0.005294702090122936, \"pred_proba2\": 0.022235143480832806}, {\"Hero\": \"Symmetra\", \"Skill Tier\": \"Diamond\", \"KDA\": 3.48, \"Pick Rate\": 1.83, \"Win Rate\": 53.21, \"Eliminations\": 19.3, \"Objective Kills\": 8.43, \"Objective Time\": 64, \"Damage\": 8660, \"Deaths\": 7.88, \"Role\": \"Damage\", \"Prediction\": 7.386882599511525, \"Support\": \"Damage\", \"isSupport_bool\": false, \"isSupport\": 0, \"pred_log\": 0, \"pred_proba1\": 0.005294702090122936, \"pred_proba2\": 0.02533866967126576}, {\"Hero\": \"Symmetra\", \"Skill Tier\": \"Master\", \"KDA\": 3.41, \"Pick Rate\": 2.11, \"Win Rate\": 54.22, \"Eliminations\": 18.95, \"Objective Kills\": 8.13, \"Objective Time\": 62, \"Damage\": 8609, \"Deaths\": 7.87, \"Role\": \"Damage\", \"Prediction\": 7.267202099089374, \"Support\": \"Damage\", \"isSupport_bool\": false, \"isSupport\": 0, \"pred_log\": 0, \"pred_proba1\": 0.007555262220600301, \"pred_proba2\": 0.03347315335177887}, {\"Hero\": \"Symmetra\", \"Skill Tier\": \"Grandmaster\", \"KDA\": 3.2, \"Pick Rate\": 1.84, \"Win Rate\": 53.87, \"Eliminations\": 17.86, \"Objective Kills\": 7.52, \"Objective Time\": 59, \"Damage\": 8322, \"Deaths\": 7.84, \"Role\": \"Damage\", \"Prediction\": 6.894482826346107, \"Support\": \"Damage\", \"isSupport_bool\": false, \"isSupport\": 0, \"pred_log\": 0, \"pred_proba1\": 0.022674122755379562, \"pred_proba2\": 0.05842448326747623}, {\"Hero\": \"Torbjorn\", \"Skill Tier\": \"Bronze\", \"KDA\": 2.92, \"Pick Rate\": 0.92, \"Win Rate\": 49.64, \"Eliminations\": 16.75, \"Objective Kills\": 7.7, \"Objective Time\": 55, \"Damage\": 8787, \"Deaths\": 7.11, \"Role\": \"Damage\", \"Prediction\": 6.514924667864432, \"Support\": \"Damage\", \"isSupport_bool\": false, \"isSupport\": 0, \"pred_log\": 0, \"pred_proba1\": 0.06730660159523517, \"pred_proba2\": 0.04964700903772152}, {\"Hero\": \"Torbjorn\", \"Skill Tier\": \"Silver\", \"KDA\": 3.17, \"Pick Rate\": 0.86, \"Win Rate\": 50.29, \"Eliminations\": 17.5, \"Objective Kills\": 7.78, \"Objective Time\": 52, \"Damage\": 9169, \"Deaths\": 6.97, \"Role\": \"Damage\", \"Prediction\": 6.771382883054754, \"Support\": \"Damage\", \"isSupport_bool\": false, \"isSupport\": 0, \"pred_log\": 0, \"pred_proba1\": 0.0324345189349594, \"pred_proba2\": 0.04616038926655789}, {\"Hero\": \"Torbjorn\", \"Skill Tier\": \"Gold\", \"KDA\": 3.1, \"Pick Rate\": 0.83, \"Win Rate\": 52.57, \"Eliminations\": 17.9, \"Objective Kills\": 7.76, \"Objective Time\": 51, \"Damage\": 9431, \"Deaths\": 6.79, \"Role\": \"Damage\", \"Prediction\": 6.908160597822924, \"Support\": \"Damage\", \"isSupport_bool\": false, \"isSupport\": 0, \"pred_log\": 0, \"pred_proba1\": 0.021785406973130875, \"pred_proba2\": 0.04700955745054764}, {\"Hero\": \"Torbjorn\", \"Skill Tier\": \"Platinum\", \"KDA\": 3.2, \"Pick Rate\": 1.2, \"Win Rate\": 53.08, \"Eliminations\": 18.06, \"Objective Kills\": 7.59, \"Objective Time\": 49, \"Damage\": 9618, \"Deaths\": 6.81, \"Role\": \"Damage\", \"Prediction\": 6.962871683730193, \"Support\": \"Damage\", \"isSupport_bool\": false, \"isSupport\": 0, \"pred_log\": 0, \"pred_proba1\": 0.0185591234388282, \"pred_proba2\": 0.054850184881607436}, {\"Hero\": \"Torbjorn\", \"Skill Tier\": \"Diamond\", \"KDA\": 3.06, \"Pick Rate\": 1.9, \"Win Rate\": 52.8, \"Eliminations\": 17.96, \"Objective Kills\": 7.22, \"Objective Time\": 48, \"Damage\": 9728, \"Deaths\": 6.85, \"Role\": \"Damage\", \"Prediction\": 6.928677255038151, \"Support\": \"Damage\", \"isSupport_bool\": false, \"isSupport\": 0, \"pred_log\": 0, \"pred_proba1\": 0.020515854829509312, \"pred_proba2\": 0.07634849756505684}, {\"Hero\": \"Torbjorn\", \"Skill Tier\": \"Master\", \"KDA\": 3.05, \"Pick Rate\": 2.54, \"Win Rate\": 53.31, \"Eliminations\": 17.53, \"Objective Kills\": 6.92, \"Objective Time\": 48, \"Damage\": 9674, \"Deaths\": 6.77, \"Role\": \"Damage\", \"Prediction\": 6.781641211662366, \"Support\": \"Damage\", \"isSupport_bool\": false, \"isSupport\": 0, \"pred_log\": 0, \"pred_proba1\": 0.03148570790242141, \"pred_proba2\": 0.09919211789706074}, {\"Hero\": \"Torbjorn\", \"Skill Tier\": \"Grandmaster\", \"KDA\": 2.71, \"Pick Rate\": 3.45, \"Win Rate\": 51.87, \"Eliminations\": 16.6, \"Objective Kills\": 6.39, \"Objective Time\": 50, \"Damage\": 9458, \"Deaths\": 6.96, \"Role\": \"Damage\", \"Prediction\": 6.463633024826368, \"Support\": \"Damage\", \"isSupport_bool\": false, \"isSupport\": 0, \"pred_log\": 0, \"pred_proba1\": 0.07759582471509237, \"pred_proba2\": 0.1545219875164728}, {\"Hero\": \"Ramattra\", \"Skill Tier\": \"Bronze\", \"KDA\": 3.52, \"Pick Rate\": 1.15, \"Win Rate\": 42.94, \"Eliminations\": 17.7, \"Objective Kills\": 8.24, \"Objective Time\": 128, \"Damage\": 8624, \"Deaths\": 7.07, \"Role\": \"Tank\", \"Prediction\": 6.839771740438839, \"Support\": \"Tank\", \"isSupport_bool\": false, \"isSupport\": 0, \"pred_log\": 0, \"pred_proba1\": 0.026596364804729537, \"pred_proba2\": 0.03023297061717848}, {\"Hero\": \"Ramattra\", \"Skill Tier\": \"Silver\", \"KDA\": 3.82, \"Pick Rate\": 1.39, \"Win Rate\": 47.18, \"Eliminations\": 19.19, \"Objective Kills\": 8.71, \"Objective Time\": 131, \"Damage\": 9242, \"Deaths\": 6.8, \"Role\": \"Tank\", \"Prediction\": 7.349268727950277, \"Support\": \"Tank\", \"isSupport_bool\": false, \"isSupport\": 0, \"pred_log\": 0, \"pred_proba1\": 0.005921158761905371, \"pred_proba2\": 0.019504136038653835}, {\"Hero\": \"Ramattra\", \"Skill Tier\": \"Gold\", \"KDA\": 3.91, \"Pick Rate\": 1.68, \"Win Rate\": 50.1, \"Eliminations\": 19.68, \"Objective Kills\": 8.6, \"Objective Time\": 128, \"Damage\": 9615, \"Deaths\": 6.65, \"Role\": \"Tank\", \"Prediction\": 7.516821428541287, \"Support\": \"Tank\", \"isSupport_bool\": false, \"isSupport\": 0, \"pred_log\": 0, \"pred_proba1\": 0.0035963886143681673, \"pred_proba2\": 0.021620103561660747}, {\"Hero\": \"Ramattra\", \"Skill Tier\": \"Platinum\", \"KDA\": 3.99, \"Pick Rate\": 2.39, \"Win Rate\": 50.25, \"Eliminations\": 20.03, \"Objective Kills\": 8.43, \"Objective Time\": 124, \"Damage\": 9929, \"Deaths\": 6.54, \"Role\": \"Tank\", \"Prediction\": 7.636501928963438, \"Support\": \"Tank\", \"isSupport_bool\": false, \"isSupport\": 0, \"pred_log\": 0, \"pred_proba1\": 0.0025173324185245936, \"pred_proba2\": 0.02533866967126576}, {\"Hero\": \"Ramattra\", \"Skill Tier\": \"Diamond\", \"KDA\": 4.03, \"Pick Rate\": 3.29, \"Win Rate\": 51.05, \"Eliminations\": 20.09, \"Objective Kills\": 8.14, \"Objective Time\": 119, \"Damage\": 10106, \"Deaths\": 6.54, \"Role\": \"Tank\", \"Prediction\": 7.657018586178663, \"Support\": \"Tank\", \"isSupport_bool\": false, \"isSupport\": 0, \"pred_log\": 0, \"pred_proba1\": 0.002367915962366419, \"pred_proba2\": 0.03316524462431394}, {\"Hero\": \"Ramattra\", \"Skill Tier\": \"Master\", \"KDA\": 3.79, \"Pick Rate\": 3.86, \"Win Rate\": 50.99, \"Eliminations\": 19.71, \"Objective Kills\": 7.69, \"Objective Time\": 113, \"Damage\": 10050, \"Deaths\": 6.56, \"Role\": \"Tank\", \"Prediction\": 7.5270797571489005, \"Support\": \"Tank\", \"isSupport_bool\": false, \"isSupport\": 0, \"pred_log\": 0, \"pred_proba1\": 0.0034881417521252975, \"pred_proba2\": 0.05010000658088791}, {\"Hero\": \"Ramattra\", \"Skill Tier\": \"Grandmaster\", \"KDA\": 3.77, \"Pick Rate\": 5.09, \"Win Rate\": 50.92, \"Eliminations\": 18.88, \"Objective Kills\": 7.08, \"Objective Time\": 109, \"Damage\": 9894, \"Deaths\": 6.5, \"Role\": \"Tank\", \"Prediction\": 7.243265999004944, \"Support\": \"Tank\", \"isSupport_bool\": false, \"isSupport\": 0, \"pred_log\": 0, \"pred_proba1\": 0.008111205689807536, \"pred_proba2\": 0.08633808972330428}, {\"Hero\": \"Junker Queen\", \"Skill Tier\": \"Bronze\", \"KDA\": 4.1, \"Pick Rate\": 0.49, \"Win Rate\": 40.98, \"Eliminations\": 16.77, \"Objective Kills\": 7.76, \"Objective Time\": 130, \"Damage\": 7609, \"Deaths\": 7.03, \"Role\": \"Tank\", \"Prediction\": 6.521763553602841, \"Support\": \"Tank\", \"isSupport_bool\": false, \"isSupport\": 0, \"pred_log\": 0, \"pred_proba1\": 0.06603434699899856, \"pred_proba2\": 0.04700955745054764}, {\"Hero\": \"Junker Queen\", \"Skill Tier\": \"Silver\", \"KDA\": 4.37, \"Pick Rate\": 0.43, \"Win Rate\": 43.47, \"Eliminations\": 18.21, \"Objective Kills\": 8.11, \"Objective Time\": 135, \"Damage\": 8272, \"Deaths\": 6.74, \"Role\": \"Tank\", \"Prediction\": 7.014163326768258, \"Support\": \"Tank\", \"isSupport_bool\": false, \"isSupport\": 0, \"pred_log\": 0, \"pred_proba1\": 0.015962707020684225, \"pred_proba2\": 0.03409726994186175}, {\"Hero\": \"Junker Queen\", \"Skill Tier\": \"Gold\", \"KDA\": 4.76, \"Pick Rate\": 0.59, \"Win Rate\": 46.97, \"Eliminations\": 19.33, \"Objective Kills\": 8.22, \"Objective Time\": 128, \"Damage\": 8828, \"Deaths\": 6.62, \"Role\": \"Tank\", \"Prediction\": 7.3971409281191365, \"Support\": \"Tank\", \"isSupport_bool\": false, \"isSupport\": 0, \"pred_log\": 0, \"pred_proba1\": 0.005135601551403876, \"pred_proba2\": 0.03079859817682378}, {\"Hero\": \"Junker Queen\", \"Skill Tier\": \"Platinum\", \"KDA\": 4.76, \"Pick Rate\": 0.88, \"Win Rate\": 49.24, \"Eliminations\": 19.97, \"Objective Kills\": 8.12, \"Objective Time\": 120, \"Damage\": 9300, \"Deaths\": 6.6, \"Role\": \"Tank\", \"Prediction\": 7.615985271748211, \"Support\": \"Tank\", \"isSupport_bool\": false, \"isSupport\": 0, \"pred_log\": 0, \"pred_proba1\": 0.0026761518222890757, \"pred_proba2\": 0.03378382083905764}, {\"Hero\": \"Junker Queen\", \"Skill Tier\": \"Diamond\", \"KDA\": 4.82, \"Pick Rate\": 1.5, \"Win Rate\": 50.64, \"Eliminations\": 20.44, \"Objective Kills\": 7.95, \"Objective Time\": 113, \"Damage\": 9631, \"Deaths\": 6.57, \"Role\": \"Tank\", \"Prediction\": 7.7766990866008125, \"Support\": \"Tank\", \"isSupport_bool\": false, \"isSupport\": 0, \"pred_log\": 0, \"pred_proba1\": 0.0016568363546655004, \"pred_proba2\": 0.03951000893869008}, {\"Hero\": \"Junker Queen\", \"Skill Tier\": \"Master\", \"KDA\": 4.78, \"Pick Rate\": 1.89, \"Win Rate\": 50.34, \"Eliminations\": 20.66, \"Objective Kills\": 7.68, \"Objective Time\": 106, \"Damage\": 9760, \"Deaths\": 6.56, \"Role\": \"Tank\", \"Prediction\": 7.851926829723307, \"Support\": \"Tank\", \"isSupport_bool\": false, \"isSupport\": 0, \"pred_log\": 0, \"pred_proba1\": 0.0013235702954843482, \"pred_proba2\": 0.05055691755568817}, {\"Hero\": \"Junker Queen\", \"Skill Tier\": \"Grandmaster\", \"KDA\": 4.73, \"Pick Rate\": 2.55, \"Win Rate\": 51.87, \"Eliminations\": 20.37, \"Objective Kills\": 7.39, \"Objective Time\": 101, \"Damage\": 9682, \"Deaths\": 6.46, \"Role\": \"Tank\", \"Prediction\": 7.752762986516383, \"Support\": \"Tank\", \"isSupport_bool\": false, \"isSupport\": 0, \"pred_log\": 0, \"pred_proba1\": 0.001779530599942102, \"pred_proba2\": 0.06564821886023622}, {\"Hero\": \"Echo\", \"Skill Tier\": \"Bronze\", \"KDA\": 2.23, \"Pick Rate\": 0.46, \"Win Rate\": 40.7, \"Eliminations\": 15.66, \"Objective Kills\": 6.37, \"Objective Time\": 64, \"Damage\": 7102, \"Deaths\": 8.36, \"Role\": \"Damage\", \"Prediction\": 6.142205395121166, \"Support\": \"Damage\", \"isSupport_bool\": false, \"isSupport\": 0, \"pred_log\": 0, \"pred_proba1\": 0.1802747696975605, \"pred_proba2\": 0.15703639012574025}, {\"Hero\": \"Echo\", \"Skill Tier\": \"Silver\", \"KDA\": 2.41, \"Pick Rate\": 0.53, \"Win Rate\": 43.02, \"Eliminations\": 16.96, \"Objective Kills\": 6.54, \"Objective Time\": 63, \"Damage\": 7458, \"Deaths\": 8.47, \"Role\": \"Damage\", \"Prediction\": 6.5867329681177225, \"Support\": \"Damage\", \"isSupport_bool\": false, \"isSupport\": 0, \"pred_log\": 0, \"pred_proba1\": 0.05501797977195825, \"pred_proba2\": 0.1367013256329639}, {\"Hero\": \"Echo\", \"Skill Tier\": \"Gold\", \"KDA\": 2.61, \"Pick Rate\": 0.62, \"Win Rate\": 46.33, \"Eliminations\": 17.62, \"Objective Kills\": 6.52, \"Objective Time\": 62, \"Damage\": 7874, \"Deaths\": 8.28, \"Role\": \"Damage\", \"Prediction\": 6.812416197485205, \"Support\": \"Damage\", \"isSupport_bool\": false, \"isSupport\": 0, \"pred_log\": 0, \"pred_proba1\": 0.02879772109176545, \"pred_proba2\": 0.13897341282924006}, {\"Hero\": \"Echo\", \"Skill Tier\": \"Platinum\", \"KDA\": 2.67, \"Pick Rate\": 0.86, \"Win Rate\": 45.16, \"Eliminations\": 18.34, \"Objective Kills\": 6.44, \"Objective Time\": 60, \"Damage\": 8249, \"Deaths\": 8.24, \"Role\": \"Damage\", \"Prediction\": 7.058616084067913, \"Support\": \"Damage\", \"isSupport_bool\": false, \"isSupport\": 0, \"pred_log\": 0, \"pred_proba1\": 0.014003983491495292, \"pred_proba2\": 0.14837990725282318}, {\"Hero\": \"Echo\", \"Skill Tier\": \"Diamond\", \"KDA\": 2.73, \"Pick Rate\": 1.57, \"Win Rate\": 47.7, \"Eliminations\": 18.85, \"Objective Kills\": 6.22, \"Objective Time\": 57, \"Damage\": 8639, \"Deaths\": 8.15, \"Role\": \"Damage\", \"Prediction\": 7.233007670397332, \"Support\": \"Damage\", \"isSupport_bool\": false, \"isSupport\": 0, \"pred_log\": 0, \"pred_proba1\": 0.008361715419213819, \"pred_proba2\": 0.17696456938766858}, {\"Hero\": \"Echo\", \"Skill Tier\": \"Master\", \"KDA\": 2.74, \"Pick Rate\": 2.05, \"Win Rate\": 50.15, \"Eliminations\": 19.17, \"Objective Kills\": 5.98, \"Objective Time\": 53, \"Damage\": 8929, \"Deaths\": 8.11, \"Role\": \"Damage\", \"Prediction\": 7.342429842211869, \"Support\": \"Damage\", \"isSupport_bool\": false, \"isSupport\": 0, \"pred_log\": 0, \"pred_proba1\": 0.0060427324683815535, \"pred_proba2\": 0.21288616686795359}, {\"Hero\": \"Echo\", \"Skill Tier\": \"Grandmaster\", \"KDA\": 2.9, \"Pick Rate\": 3.32, \"Win Rate\": 50.45, \"Eliminations\": 19.25, \"Objective Kills\": 5.51, \"Objective Time\": 49, \"Damage\": 9419, \"Deaths\": 7.7, \"Role\": \"Damage\", \"Prediction\": 7.369785385165502, \"Support\": \"Damage\", \"isSupport_bool\": false, \"isSupport\": 0, \"pred_log\": 0, \"pred_proba1\": 0.005570836276415861, \"pred_proba2\": 0.2976933503060438}]}}, {\"mode\": \"vega-lite\"});\n",
       "</script>"
      ],
      "text/plain": [
       "alt.HConcatChart(...)"
      ]
     },
     "execution_count": 21,
     "metadata": {},
     "output_type": "execute_result"
    }
   ],
   "source": [
    "c7|c5+c8"
   ]
  },
  {
   "cell_type": "markdown",
   "metadata": {
    "cell_id": "1c109ca4faa847c6913c2c88fbfaef47",
    "deepnote_cell_type": "markdown"
   },
   "source": [
    "Shows prediction of who is a support and predicts based off of eliminations (c7) and shows logistic regression curve in relation c5 (c5+c8). Prediction curve shows a binary logistic regression curve which shows that supports majority of the time gets at least 8-14 eliminations."
   ]
  },
  {
   "cell_type": "code",
   "execution_count": 22,
   "metadata": {
    "cell_id": "a291b84261c94a93905aafe9660ba398",
    "deepnote_cell_type": "code",
    "deepnote_to_be_reexecuted": false,
    "execution_millis": 78,
    "execution_start": 1686772060816,
    "source_hash": "39a9e09a"
   },
   "outputs": [
    {
     "data": {
      "text/html": [
       "\n",
       "<div id=\"altair-viz-6930482471304bac813b48fcedce3716\"></div>\n",
       "<script type=\"text/javascript\">\n",
       "  var VEGA_DEBUG = (typeof VEGA_DEBUG == \"undefined\") ? {} : VEGA_DEBUG;\n",
       "  (function(spec, embedOpt){\n",
       "    let outputDiv = document.currentScript.previousElementSibling;\n",
       "    if (outputDiv.id !== \"altair-viz-6930482471304bac813b48fcedce3716\") {\n",
       "      outputDiv = document.getElementById(\"altair-viz-6930482471304bac813b48fcedce3716\");\n",
       "    }\n",
       "    const paths = {\n",
       "      \"vega\": \"https://cdn.jsdelivr.net/npm//vega@5?noext\",\n",
       "      \"vega-lib\": \"https://cdn.jsdelivr.net/npm//vega-lib?noext\",\n",
       "      \"vega-lite\": \"https://cdn.jsdelivr.net/npm//vega-lite@4.17.0?noext\",\n",
       "      \"vega-embed\": \"https://cdn.jsdelivr.net/npm//vega-embed@6?noext\",\n",
       "    };\n",
       "\n",
       "    function maybeLoadScript(lib, version) {\n",
       "      var key = `${lib.replace(\"-\", \"\")}_version`;\n",
       "      return (VEGA_DEBUG[key] == version) ?\n",
       "        Promise.resolve(paths[lib]) :\n",
       "        new Promise(function(resolve, reject) {\n",
       "          var s = document.createElement('script');\n",
       "          document.getElementsByTagName(\"head\")[0].appendChild(s);\n",
       "          s.async = true;\n",
       "          s.onload = () => {\n",
       "            VEGA_DEBUG[key] = version;\n",
       "            return resolve(paths[lib]);\n",
       "          };\n",
       "          s.onerror = () => reject(`Error loading script: ${paths[lib]}`);\n",
       "          s.src = paths[lib];\n",
       "        });\n",
       "    }\n",
       "\n",
       "    function showError(err) {\n",
       "      outputDiv.innerHTML = `<div class=\"error\" style=\"color:red;\">${err}</div>`;\n",
       "      throw err;\n",
       "    }\n",
       "\n",
       "    function displayChart(vegaEmbed) {\n",
       "      vegaEmbed(outputDiv, spec, embedOpt)\n",
       "        .catch(err => showError(`Javascript Error: ${err.message}<br>This usually means there's a typo in your chart specification. See the javascript console for the full traceback.`));\n",
       "    }\n",
       "\n",
       "    if(typeof define === \"function\" && define.amd) {\n",
       "      requirejs.config({paths});\n",
       "      require([\"vega-embed\"], displayChart, err => showError(`Error loading script: ${err.message}`));\n",
       "    } else {\n",
       "      maybeLoadScript(\"vega\", \"5\")\n",
       "        .then(() => maybeLoadScript(\"vega-lite\", \"4.17.0\"))\n",
       "        .then(() => maybeLoadScript(\"vega-embed\", \"6\"))\n",
       "        .catch(showError)\n",
       "        .then(() => displayChart(vegaEmbed));\n",
       "    }\n",
       "  })({\"config\": {\"view\": {\"continuousWidth\": 400, \"continuousHeight\": 300}}, \"hconcat\": [{\"mark\": {\"type\": \"circle\", \"color\": \"red\"}, \"encoding\": {\"x\": {\"field\": \"Objective Kills\", \"type\": \"quantitative\"}, \"y\": {\"field\": \"pred_log\", \"type\": \"quantitative\"}}}, {\"layer\": [{\"mark\": \"circle\", \"encoding\": {\"x\": {\"field\": \"Objective Kills\", \"type\": \"quantitative\"}, \"y\": {\"field\": \"isSupport\", \"type\": \"quantitative\"}}}, {\"mark\": {\"type\": \"circle\", \"color\": \"red\"}, \"encoding\": {\"x\": {\"field\": \"Objective Kills\", \"type\": \"quantitative\"}, \"y\": {\"field\": \"pred_proba2\", \"type\": \"quantitative\"}}}]}], \"data\": {\"name\": \"data-fe4e02e845445b6e1d01961f13300fd4\"}, \"$schema\": \"https://vega.github.io/schema/vega-lite/v4.17.0.json\", \"datasets\": {\"data-fe4e02e845445b6e1d01961f13300fd4\": [{\"Hero\": \"Ana\", \"Skill Tier\": \"Bronze\", \"KDA\": 3.87, \"Pick Rate\": 3.71, \"Win Rate\": 43.97, \"Eliminations\": 8.37, \"Objective Kills\": 3.8, \"Objective Time\": 61, \"Damage\": 2508, \"Deaths\": 6.47, \"Role\": \"Support\", \"Prediction\": 3.649431543471243, \"Support\": \"Support\", \"isSupport_bool\": true, \"isSupport\": 1, \"pred_log\": 1, \"pred_proba1\": 0.9973702722693809, \"pred_proba2\": 0.684906752844285}, {\"Hero\": \"Ana\", \"Skill Tier\": \"Silver\", \"KDA\": 4.01, \"Pick Rate\": 3.78, \"Win Rate\": 46.68, \"Eliminations\": 8.88, \"Objective Kills\": 4.08, \"Objective Time\": 64, \"Damage\": 2573, \"Deaths\": 6.36, \"Role\": \"Support\", \"Prediction\": 3.8238231298006617, \"Support\": \"Support\", \"isSupport_bool\": true, \"isSupport\": 1, \"pred_log\": 1, \"pred_proba1\": 0.9955785549474382, \"pred_proba2\": 0.6245111923135378}, {\"Hero\": \"Ana\", \"Skill Tier\": \"Gold\", \"KDA\": 4.36, \"Pick Rate\": 5.46, \"Win Rate\": 48.9, \"Eliminations\": 9.21, \"Objective Kills\": 4.14, \"Objective Time\": 65, \"Damage\": 2610, \"Deaths\": 6.13, \"Role\": \"Support\", \"Prediction\": 3.9366647444844034, \"Support\": \"Support\", \"isSupport_bool\": true, \"isSupport\": 1, \"pred_log\": 1, \"pred_proba1\": 0.9938154122019981, \"pred_proba2\": 0.610967761941894}, {\"Hero\": \"Ana\", \"Skill Tier\": \"Platinum\", \"KDA\": 4.56, \"Pick Rate\": 9.33, \"Win Rate\": 50.45, \"Eliminations\": 9.53, \"Objective Kills\": 4.18, \"Objective Time\": 65, \"Damage\": 2661, \"Deaths\": 5.89, \"Role\": \"Support\", \"Prediction\": 4.04608691629894, \"Support\": \"Support\", \"isSupport_bool\": true, \"isSupport\": 1, \"pred_log\": 1, \"pred_proba1\": 0.9914424589837644, \"pred_proba2\": 0.6018412496484534}, {\"Hero\": \"Ana\", \"Skill Tier\": \"Diamond\", \"KDA\": 4.6, \"Pick Rate\": 16.5, \"Win Rate\": 51.3, \"Eliminations\": 9.7, \"Objective Kills\": 4.11, \"Objective Time\": 63, \"Damage\": 2709, \"Deaths\": 5.74, \"Role\": \"Support\", \"Prediction\": 4.104217445075413, \"Support\": \"Support\", \"isSupport_bool\": true, \"isSupport\": 1, \"pred_log\": 1, \"pred_proba1\": 0.9898346522555381, \"pred_proba2\": 0.6177623459585777}, {\"Hero\": \"Ana\", \"Skill Tier\": \"Master\", \"KDA\": 4.63, \"Pick Rate\": 22.77, \"Win Rate\": 52.67, \"Eliminations\": 9.75, \"Objective Kills\": 3.98, \"Objective Time\": 62, \"Damage\": 2756, \"Deaths\": 5.63, \"Role\": \"Support\", \"Prediction\": 4.121314659421435, \"Support\": \"Support\", \"isSupport_bool\": true, \"isSupport\": 1, \"pred_log\": 1, \"pred_proba1\": 0.9893072302833722, \"pred_proba2\": 0.6466482044610586}, {\"Hero\": \"Ana\", \"Skill Tier\": \"Grandmaster\", \"KDA\": 4.51, \"Pick Rate\": 28.03, \"Win Rate\": 53.26, \"Eliminations\": 9.45, \"Objective Kills\": 3.6, \"Objective Time\": 58, \"Damage\": 2803, \"Deaths\": 5.56, \"Role\": \"Support\", \"Prediction\": 4.018731373345306, \"Support\": \"Support\", \"isSupport_bool\": true, \"isSupport\": 1, \"pred_log\": 1, \"pred_proba1\": 0.9921091854778531, \"pred_proba2\": 0.7246427519279371}, {\"Hero\": \"Mercy\", \"Skill Tier\": \"Bronze\", \"KDA\": 3.53, \"Pick Rate\": 3.69, \"Win Rate\": 44.85, \"Eliminations\": 1.74, \"Objective Kills\": 0.77, \"Objective Time\": 58, \"Damage\": 346, \"Deaths\": 6.88, \"Role\": \"Support\", \"Prediction\": 1.3823409211888036, \"Support\": \"Support\", \"isSupport_bool\": true, \"isSupport\": 1, \"pred_log\": 1, \"pred_proba1\": 0.9999969980272763, \"pred_proba2\": 0.975229604174829}, {\"Hero\": \"Mercy\", \"Skill Tier\": \"Silver\", \"KDA\": 3.84, \"Pick Rate\": 3.48, \"Win Rate\": 48.46, \"Eliminations\": 1.89, \"Objective Kills\": 0.81, \"Objective Time\": 58, \"Damage\": 357, \"Deaths\": 6.57, \"Role\": \"Support\", \"Prediction\": 1.433632564226868, \"Support\": \"Support\", \"isSupport_bool\": true, \"isSupport\": 1, \"pred_log\": 1, \"pred_proba1\": 0.9999965005091775, \"pred_proba2\": 0.9742888893299522}, {\"Hero\": \"Mercy\", \"Skill Tier\": \"Gold\", \"KDA\": 4.03, \"Pick Rate\": 3.87, \"Win Rate\": 49.77, \"Eliminations\": 1.81, \"Objective Kills\": 0.73, \"Objective Time\": 56, \"Damage\": 344, \"Deaths\": 6.32, \"Role\": \"Support\", \"Prediction\": 1.4062770212732336, \"Support\": \"Support\", \"isSupport_bool\": true, \"isSupport\": 1, \"pred_log\": 1, \"pred_proba1\": 0.9999967753256191, \"pred_proba2\": 0.9761367432832179}, {\"Hero\": \"Mercy\", \"Skill Tier\": \"Platinum\", \"KDA\": 4.24, \"Pick Rate\": 5.47, \"Win Rate\": 51.27, \"Eliminations\": 1.77, \"Objective Kills\": 0.67, \"Objective Time\": 53, \"Damage\": 331, \"Deaths\": 6.02, \"Role\": \"Support\", \"Prediction\": 1.3925992497964166, \"Support\": \"Support\", \"isSupport_bool\": true, \"isSupport\": 1, \"pred_log\": 1, \"pred_proba1\": 0.9999969045316498, \"pred_proba2\": 0.9774369767477917}, {\"Hero\": \"Mercy\", \"Skill Tier\": \"Diamond\", \"KDA\": 4.26, \"Pick Rate\": 9.36, \"Win Rate\": 51.8, \"Eliminations\": 1.76, \"Objective Kills\": 0.62, \"Objective Time\": 49, \"Damage\": 326, \"Deaths\": 5.86, \"Role\": \"Support\", \"Prediction\": 1.3891798069272123, \"Support\": \"Support\", \"isSupport_bool\": true, \"isSupport\": 1, \"pred_log\": 1, \"pred_proba1\": 0.9999969360160028, \"pred_proba2\": 0.9784674173476322}, {\"Hero\": \"Mercy\", \"Skill Tier\": \"Master\", \"KDA\": 4.3, \"Pick Rate\": 11.9, \"Win Rate\": 52.56, \"Eliminations\": 1.71, \"Objective Kills\": 0.59, \"Objective Time\": 45, \"Damage\": 318, \"Deaths\": 5.83, \"Role\": \"Support\", \"Prediction\": 1.372082592581191, \"Support\": \"Support\", \"isSupport_bool\": true, \"isSupport\": 1, \"pred_log\": 1, \"pred_proba1\": 0.9999970886989658, \"pred_proba2\": 0.9790634400530913}, {\"Hero\": \"Mercy\", \"Skill Tier\": \"Grandmaster\", \"KDA\": 4.37, \"Pick Rate\": 17.97, \"Win Rate\": 52.16, \"Eliminations\": 1.56, \"Objective Kills\": 0.53, \"Objective Time\": 42, \"Damage\": 296, \"Deaths\": 5.71, \"Role\": \"Support\", \"Prediction\": 1.3207909495431267, \"Support\": \"Support\", \"isSupport_bool\": true, \"isSupport\": 1, \"pred_log\": 1, \"pred_proba1\": 0.9999975025950891, \"pred_proba2\": 0.9802074404664043}, {\"Hero\": \"Cassidy\", \"Skill Tier\": \"Bronze\", \"KDA\": 2.22, \"Pick Rate\": 1.62, \"Win Rate\": 43.02, \"Eliminations\": 15.72, \"Objective Kills\": 6.56, \"Objective Time\": 61, \"Damage\": 7402, \"Deaths\": 8.38, \"Role\": \"Damage\", \"Prediction\": 6.162722052336391, \"Support\": \"Damage\", \"isSupport_bool\": false, \"isSupport\": 0, \"pred_log\": 0, \"pred_proba1\": 0.17138738570140238, \"pred_proba2\": 0.13446058405036312}, {\"Hero\": \"Cassidy\", \"Skill Tier\": \"Silver\", \"KDA\": 2.28, \"Pick Rate\": 2.03, \"Win Rate\": 45.79, \"Eliminations\": 16.64, \"Objective Kills\": 6.71, \"Objective Time\": 60, \"Damage\": 7715, \"Deaths\": 8.26, \"Role\": \"Damage\", \"Prediction\": 6.477310796303185, \"Support\": \"Damage\", \"isSupport_bool\": false, \"isSupport\": 0, \"pred_log\": 0, \"pred_proba1\": 0.07471902087602363, \"pred_proba2\": 0.11862893133524721}, {\"Hero\": \"Cassidy\", \"Skill Tier\": \"Gold\", \"KDA\": 2.44, \"Pick Rate\": 2.85, \"Win Rate\": 47.34, \"Eliminations\": 17.37, \"Objective Kills\": 6.81, \"Objective Time\": 58, \"Damage\": 8110, \"Deaths\": 8.12, \"Role\": \"Damage\", \"Prediction\": 6.726930125755098, \"Support\": \"Damage\", \"isSupport_bool\": false, \"isSupport\": 0, \"pred_log\": 0, \"pred_proba1\": 0.036874695566641344, \"pred_proba2\": 0.10899228291612378}, {\"Hero\": \"Cassidy\", \"Skill Tier\": \"Platinum\", \"KDA\": 2.46, \"Pick Rate\": 5.18, \"Win Rate\": 48.84, \"Eliminations\": 18.1, \"Objective Kills\": 6.89, \"Objective Time\": 56, \"Damage\": 8568, \"Deaths\": 8.06, \"Role\": \"Damage\", \"Prediction\": 6.976549455207011, \"Support\": \"Damage\", \"isSupport_bool\": false, \"isSupport\": 0, \"pred_log\": 0, \"pred_proba1\": 0.01782875341911262, \"pred_proba2\": 0.10178432028525584}, {\"Hero\": \"Cassidy\", \"Skill Tier\": \"Diamond\", \"KDA\": 2.5, \"Pick Rate\": 10.21, \"Win Rate\": 50.22, \"Eliminations\": 18.6, \"Objective Kills\": 6.83, \"Objective Time\": 54, \"Damage\": 8967, \"Deaths\": 8.01, \"Role\": \"Damage\", \"Prediction\": 7.147521598667225, \"Support\": \"Damage\", \"isSupport_bool\": false, \"isSupport\": 0, \"pred_log\": 0, \"pred_proba1\": 0.010770512588679018, \"pred_proba2\": 0.10714936174057944}, {\"Hero\": \"Cassidy\", \"Skill Tier\": \"Master\", \"KDA\": 2.45, \"Pick Rate\": 15.45, \"Win Rate\": 50.35, \"Eliminations\": 18.68, \"Objective Kills\": 6.65, \"Objective Time\": 52, \"Damage\": 9277, \"Deaths\": 7.94, \"Role\": \"Damage\", \"Prediction\": 7.1748771416208585, \"Support\": \"Damage\", \"isSupport_bool\": false, \"isSupport\": 0, \"pred_log\": 0, \"pred_proba1\": 0.009933098683683996, \"pred_proba2\": 0.1247585279372261}, {\"Hero\": \"Cassidy\", \"Skill Tier\": \"Grandmaster\", \"KDA\": 2.45, \"Pick Rate\": 19.55, \"Win Rate\": 51.77, \"Eliminations\": 18.36, \"Objective Kills\": 6.25, \"Objective Time\": 48, \"Damage\": 9584, \"Deaths\": 7.77, \"Role\": \"Damage\", \"Prediction\": 7.065454969806321, \"Support\": \"Damage\", \"isSupport_bool\": false, \"isSupport\": 0, \"pred_log\": 0, \"pred_proba1\": 0.013724449054572596, \"pred_proba2\": 0.17282610720985495}, {\"Hero\": \"Genji\", \"Skill Tier\": \"Bronze\", \"KDA\": 2.27, \"Pick Rate\": 1.04, \"Win Rate\": 44.55, \"Eliminations\": 15.44, \"Objective Kills\": 5.22, \"Objective Time\": 71, \"Damage\": 6338, \"Deaths\": 8.37, \"Role\": \"Damage\", \"Prediction\": 6.066977651998671, \"Support\": \"Damage\", \"isSupport_bool\": false, \"isSupport\": 0, \"pred_log\": 0, \"pred_proba1\": 0.21592456361913473, \"pred_proba2\": 0.3586857484826997}, {\"Hero\": \"Genji\", \"Skill Tier\": \"Silver\", \"KDA\": 2.24, \"Pick Rate\": 1.1, \"Win Rate\": 46.33, \"Eliminations\": 16.04, \"Objective Kills\": 5.31, \"Objective Time\": 71, \"Damage\": 6594, \"Deaths\": 8.48, \"Role\": \"Damage\", \"Prediction\": 6.272144224150928, \"Support\": \"Damage\", \"isSupport_bool\": false, \"isSupport\": 0, \"pred_log\": 0, \"pred_proba1\": 0.12977276056241396, \"pred_proba2\": 0.33914407231903937}, {\"Hero\": \"Genji\", \"Skill Tier\": \"Gold\", \"KDA\": 2.35, \"Pick Rate\": 1.81, \"Win Rate\": 48.5, \"Eliminations\": 17.04, \"Objective Kills\": 5.31, \"Objective Time\": 68, \"Damage\": 6944, \"Deaths\": 8.37, \"Role\": \"Damage\", \"Prediction\": 6.614088511071356, \"Support\": \"Damage\", \"isSupport_bool\": false, \"isSupport\": 0, \"pred_log\": 0, \"pred_proba1\": 0.05091737497505442, \"pred_proba2\": 0.33914407231903937}, {\"Hero\": \"Genji\", \"Skill Tier\": \"Platinum\", \"KDA\": 2.42, \"Pick Rate\": 3.66, \"Win Rate\": 50.09, \"Eliminations\": 18.03, \"Objective Kills\": 5.32, \"Objective Time\": 66, \"Damage\": 7270, \"Deaths\": 8.34, \"Role\": \"Damage\", \"Prediction\": 6.952613355122581, \"Support\": \"Damage\", \"isSupport_bool\": false, \"isSupport\": 0, \"pred_log\": 0, \"pred_proba1\": 0.019126088819814455, \"pred_proba2\": 0.33700479179140946}, {\"Hero\": \"Genji\", \"Skill Tier\": \"Diamond\", \"KDA\": 2.48, \"Pick Rate\": 6.66, \"Win Rate\": 50.57, \"Eliminations\": 18.63, \"Objective Kills\": 5.25, \"Objective Time\": 65, \"Damage\": 7519, \"Deaths\": 8.27, \"Role\": \"Damage\", \"Prediction\": 7.157779927274837, \"Support\": \"Damage\", \"isSupport_bool\": false, \"isSupport\": 0, \"pred_log\": 0, \"pred_proba1\": 0.01044859777491468, \"pred_proba2\": 0.3521157175612596}, {\"Hero\": \"Genji\", \"Skill Tier\": \"Master\", \"KDA\": 2.46, \"Pick Rate\": 10.52, \"Win Rate\": 51.56, \"Eliminations\": 18.74, \"Objective Kills\": 4.98, \"Objective Time\": 62, \"Damage\": 7600, \"Deaths\": 8.23, \"Role\": \"Damage\", \"Prediction\": 7.195393798836084, \"Support\": \"Damage\", \"isSupport_bool\": false, \"isSupport\": 0, \"pred_log\": 0, \"pred_proba1\": 0.009347643733819662, \"pred_proba2\": 0.4129851431213646}, {\"Hero\": \"Genji\", \"Skill Tier\": \"Grandmaster\", \"KDA\": 2.51, \"Pick Rate\": 12.51, \"Win Rate\": 53.37, \"Eliminations\": 18.77, \"Objective Kills\": 4.69, \"Objective Time\": 59, \"Damage\": 7692, \"Deaths\": 8.0, \"Role\": \"Damage\", \"Prediction\": 7.205652127443697, \"Support\": \"Damage\", \"isSupport_bool\": false, \"isSupport\": 0, \"pred_log\": 0, \"pred_proba1\": 0.009067866549792337, \"pred_proba2\": 0.48140726551220475}, {\"Hero\": \"Kiriko\", \"Skill Tier\": \"Bronze\", \"KDA\": 4.25, \"Pick Rate\": 3.52, \"Win Rate\": 43.06, \"Eliminations\": 7.23, \"Objective Kills\": 3.45, \"Objective Time\": 70, \"Damage\": 2154, \"Deaths\": 6.25, \"Role\": \"Support\", \"Prediction\": 3.2596150563819553, \"Support\": \"Support\", \"isSupport_bool\": true, \"isSupport\": 1, \"pred_log\": 1, \"pred_proba1\": 0.9991786085780787, \"pred_proba2\": 0.7523166050080607}, {\"Hero\": \"Kiriko\", \"Skill Tier\": \"Silver\", \"KDA\": 4.52, \"Pick Rate\": 3.45, \"Win Rate\": 43.86, \"Eliminations\": 7.51, \"Objective Kills\": 3.58, \"Objective Time\": 73, \"Damage\": 2177, \"Deaths\": 6.11, \"Role\": \"Support\", \"Prediction\": 3.355359456719675, \"Support\": \"Support\", \"isSupport_bool\": true, \"isSupport\": 1, \"pred_log\": 1, \"pred_proba1\": 0.99890667610601, \"pred_proba2\": 0.7284413496241469}, {\"Hero\": \"Kiriko\", \"Skill Tier\": \"Gold\", \"KDA\": 4.72, \"Pick Rate\": 4.3, \"Win Rate\": 45.48, \"Eliminations\": 7.8, \"Objective Kills\": 3.59, \"Objective Time\": 72, \"Damage\": 2246, \"Deaths\": 5.94, \"Role\": \"Support\", \"Prediction\": 3.454523299926599, \"Support\": \"Support\", \"isSupport_bool\": true, \"isSupport\": 1, \"pred_log\": 1, \"pred_proba1\": 0.9985299172471579, \"pred_proba2\": 0.7265461641107656}, {\"Hero\": \"Kiriko\", \"Skill Tier\": \"Platinum\", \"KDA\": 4.8, \"Pick Rate\": 6.53, \"Win Rate\": 46.71, \"Eliminations\": 8.06, \"Objective Kills\": 3.59, \"Objective Time\": 71, \"Damage\": 2313, \"Deaths\": 5.77, \"Role\": \"Support\", \"Prediction\": 3.5434288145259107, \"Support\": \"Support\", \"isSupport_bool\": true, \"isSupport\": 1, \"pred_log\": 1, \"pred_proba1\": 0.9980831658316569, \"pred_proba2\": 0.7265461641107656}, {\"Hero\": \"Kiriko\", \"Skill Tier\": \"Diamond\", \"KDA\": 4.95, \"Pick Rate\": 10.38, \"Win Rate\": 47.1, \"Eliminations\": 8.42, \"Objective Kills\": 3.6, \"Objective Time\": 69, \"Damage\": 2444, \"Deaths\": 5.65, \"Role\": \"Support\", \"Prediction\": 3.6665287578172645, \"Support\": \"Support\", \"isSupport_bool\": true, \"isSupport\": 1, \"pred_log\": 1, \"pred_proba1\": 0.9972327376250568, \"pred_proba2\": 0.7246427519279371}, {\"Hero\": \"Kiriko\", \"Skill Tier\": \"Master\", \"KDA\": 4.86, \"Pick Rate\": 14.57, \"Win Rate\": 47.92, \"Eliminations\": 8.82, \"Objective Kills\": 3.65, \"Objective Time\": 66, \"Damage\": 2595, \"Deaths\": 5.59, \"Role\": \"Support\", \"Prediction\": 3.803306472585436, \"Support\": \"Support\", \"isSupport_bool\": true, \"isSupport\": 1, \"pred_log\": 1, \"pred_proba1\": 0.9958405188673124, \"pred_proba2\": 0.7150035126204147}, {\"Hero\": \"Kiriko\", \"Skill Tier\": \"Grandmaster\", \"KDA\": 4.74, \"Pick Rate\": 15.94, \"Win Rate\": 48.96, \"Eliminations\": 9.22, \"Objective Kills\": 3.54, \"Objective Time\": 62, \"Damage\": 2868, \"Deaths\": 5.63, \"Role\": \"Support\", \"Prediction\": 3.9400841873536074, \"Support\": \"Support\", \"isSupport_bool\": true, \"isSupport\": 1, \"pred_log\": 1, \"pred_proba1\": 0.993752258543802, \"pred_proba2\": 0.735939184158968}, {\"Hero\": \"Moira\", \"Skill Tier\": \"Bronze\", \"KDA\": 5.29, \"Pick Rate\": 4.44, \"Win Rate\": 45.21, \"Eliminations\": 16.49, \"Objective Kills\": 7.98, \"Objective Time\": 88, \"Damage\": 5098, \"Deaths\": 6.61, \"Role\": \"Support\", \"Prediction\": 6.42601915326512, \"Support\": \"Support\", \"isSupport_bool\": true, \"isSupport\": 1, \"pred_log\": 0, \"pred_proba1\": 0.08603685996592199, \"pred_proba2\": 0.038435917614708735}, {\"Hero\": \"Moira\", \"Skill Tier\": \"Silver\", \"KDA\": 5.77, \"Pick Rate\": 3.92, \"Win Rate\": 47.27, \"Eliminations\": 17.33, \"Objective Kills\": 8.31, \"Objective Time\": 88, \"Damage\": 5231, \"Deaths\": 6.43, \"Role\": \"Support\", \"Prediction\": 6.71325235427828, \"Support\": \"Support\", \"isSupport_bool\": true, \"isSupport\": 1, \"pred_log\": 0, \"pred_proba1\": 0.03835482984134678, \"pred_proba2\": 0.028331479827713335}, {\"Hero\": \"Moira\", \"Skill Tier\": \"Gold\", \"KDA\": 6.04, \"Pick Rate\": 4.46, \"Win Rate\": 49.03, \"Eliminations\": 17.78, \"Objective Kills\": 8.41, \"Objective Time\": 88, \"Damage\": 5332, \"Deaths\": 6.26, \"Role\": \"Support\", \"Prediction\": 6.867127283392474, \"Support\": \"Support\", \"isSupport_bool\": true, \"isSupport\": 1, \"pred_log\": 0, \"pred_proba1\": 0.02455902942310077, \"pred_proba2\": 0.02581516744920608}, {\"Hero\": \"Moira\", \"Skill Tier\": \"Platinum\", \"KDA\": 6.23, \"Pick Rate\": 4.86, \"Win Rate\": 49.38, \"Eliminations\": 18.1, \"Objective Kills\": 8.39, \"Objective Time\": 86, \"Damage\": 5427, \"Deaths\": 6.09, \"Role\": \"Support\", \"Prediction\": 6.976549455207011, \"Support\": \"Support\", \"isSupport_bool\": true, \"isSupport\": 1, \"pred_log\": 0, \"pred_proba1\": 0.01782875341911262, \"pred_proba2\": 0.026300384050426766}, {\"Hero\": \"Moira\", \"Skill Tier\": \"Diamond\", \"KDA\": 6.16, \"Pick Rate\": 6.38, \"Win Rate\": 50.49, \"Eliminations\": 18.06, \"Objective Kills\": 8.18, \"Objective Time\": 84, \"Damage\": 5463, \"Deaths\": 6.09, \"Role\": \"Support\", \"Prediction\": 6.962871683730193, \"Support\": \"Support\", \"isSupport_bool\": true, \"isSupport\": 1, \"pred_log\": 0, \"pred_proba1\": 0.0185591234388282, \"pred_proba2\": 0.031960745588002715}, {\"Hero\": \"Moira\", \"Skill Tier\": \"Master\", \"KDA\": 5.91, \"Pick Rate\": 6.04, \"Win Rate\": 49.59, \"Eliminations\": 17.85, \"Objective Kills\": 7.91, \"Objective Time\": 80, \"Damage\": 5475, \"Deaths\": 6.19, \"Role\": \"Support\", \"Prediction\": 6.8910633834769035, \"Support\": \"Support\", \"isSupport_bool\": true, \"isSupport\": 1, \"pred_log\": 0, \"pred_proba1\": 0.022901778356897915, \"pred_proba2\": 0.04098696963016457}, {\"Hero\": \"Moira\", \"Skill Tier\": \"Grandmaster\", \"KDA\": 5.57, \"Pick Rate\": 6.36, \"Win Rate\": 50.6, \"Eliminations\": 17.42, \"Objective Kills\": 7.48, \"Objective Time\": 78, \"Damage\": 5532, \"Deaths\": 6.3, \"Role\": \"Support\", \"Prediction\": 6.74402734010112, \"Support\": \"Support\", \"isSupport_bool\": true, \"isSupport\": 1, \"pred_log\": 0, \"pred_proba1\": 0.0351016685637503, \"pred_proba2\": 0.06056391984545625}, {\"Hero\": \"Reinhardt\", \"Skill Tier\": \"Bronze\", \"KDA\": 2.82, \"Pick Rate\": 1.81, \"Win Rate\": 45.39, \"Eliminations\": 15.24, \"Objective Kills\": 6.07, \"Objective Time\": 129, \"Damage\": 7393, \"Deaths\": 7.38, \"Role\": \"Tank\", \"Prediction\": 5.9985887946145855, \"Support\": \"Tank\", \"isSupport_bool\": false, \"isSupport\": 0, \"pred_log\": 0, \"pred_proba1\": 0.2525398956601732, \"pred_proba2\": 0.19882518553625744}, {\"Hero\": \"Reinhardt\", \"Skill Tier\": \"Silver\", \"KDA\": 3.05, \"Pick Rate\": 2.25, \"Win Rate\": 50.63, \"Eliminations\": 16.26, \"Objective Kills\": 6.37, \"Objective Time\": 130, \"Damage\": 7941, \"Deaths\": 7.07, \"Role\": \"Tank\", \"Prediction\": 6.347371967273423, \"Support\": \"Tank\", \"isSupport_bool\": false, \"isSupport\": 0, \"pred_log\": 0, \"pred_proba1\": 0.10641638716694292, \"pred_proba2\": 0.15703639012574025}, {\"Hero\": \"Reinhardt\", \"Skill Tier\": \"Gold\", \"KDA\": 3.13, \"Pick Rate\": 2.93, \"Win Rate\": 52.97, \"Eliminations\": 16.83, \"Objective Kills\": 6.43, \"Objective Time\": 126, \"Damage\": 8368, \"Deaths\": 6.91, \"Role\": \"Tank\", \"Prediction\": 6.542280210818066, \"Support\": \"Tank\", \"isSupport_bool\": false, \"isSupport\": 0, \"pred_log\": 0, \"pred_proba1\": 0.06235053163822072, \"pred_proba2\": 0.14959197617720305}, {\"Hero\": \"Reinhardt\", \"Skill Tier\": \"Platinum\", \"KDA\": 3.19, \"Pick Rate\": 4.89, \"Win Rate\": 54.39, \"Eliminations\": 17.2, \"Objective Kills\": 6.4, \"Objective Time\": 122, \"Damage\": 8718, \"Deaths\": 6.77, \"Role\": \"Tank\", \"Prediction\": 6.668799596978625, \"Support\": \"Tank\", \"isSupport_bool\": false, \"isSupport\": 0, \"pred_log\": 0, \"pred_proba1\": 0.043568982055985465, \"pred_proba2\": 0.15327717292149903}, {\"Hero\": \"Reinhardt\", \"Skill Tier\": \"Diamond\", \"KDA\": 3.14, \"Pick Rate\": 7.56, \"Win Rate\": 55.01, \"Eliminations\": 17.22, \"Objective Kills\": 6.17, \"Objective Time\": 117, \"Damage\": 8917, \"Deaths\": 6.75, \"Role\": \"Tank\", \"Prediction\": 6.675638482717033, \"Support\": \"Tank\", \"isSupport_bool\": false, \"isSupport\": 0, \"pred_log\": 0, \"pred_proba1\": 0.042724870882039856, \"pred_proba2\": 0.18403419405740148}, {\"Hero\": \"Reinhardt\", \"Skill Tier\": \"Master\", \"KDA\": 3.04, \"Pick Rate\": 9.02, \"Win Rate\": 54.73, \"Eliminations\": 16.96, \"Objective Kills\": 5.88, \"Objective Time\": 113, \"Damage\": 8887, \"Deaths\": 6.83, \"Role\": \"Tank\", \"Prediction\": 6.5867329681177225, \"Support\": \"Tank\", \"isSupport_bool\": false, \"isSupport\": 0, \"pred_log\": 0, \"pred_proba1\": 0.05501797977195825, \"pred_proba2\": 0.22934425328581726}, {\"Hero\": \"Reinhardt\", \"Skill Tier\": \"Grandmaster\", \"KDA\": 2.94, \"Pick Rate\": 10.75, \"Win Rate\": 56.01, \"Eliminations\": 16.32, \"Objective Kills\": 5.45, \"Objective Time\": 109, \"Damage\": 8563, \"Deaths\": 6.85, \"Role\": \"Tank\", \"Prediction\": 6.367888624488648, \"Support\": \"Tank\", \"isSupport_bool\": false, \"isSupport\": 0, \"pred_log\": 0, \"pred_proba1\": 0.10072275284080169, \"pred_proba2\": 0.30982285577982055}, {\"Hero\": \"Hanzo\", \"Skill Tier\": \"Bronze\", \"KDA\": 2.77, \"Pick Rate\": 1.45, \"Win Rate\": 44.47, \"Eliminations\": 15.19, \"Objective Kills\": 6.06, \"Objective Time\": 50, \"Damage\": 7067, \"Deaths\": 7.94, \"Role\": \"Damage\", \"Prediction\": 5.981491580268564, \"Support\": \"Damage\", \"isSupport_bool\": false, \"isSupport\": 0, \"pred_log\": 0, \"pred_proba1\": 0.2623102106258652, \"pred_proba2\": 0.2003523820236655}, {\"Hero\": \"Hanzo\", \"Skill Tier\": \"Silver\", \"KDA\": 3.01, \"Pick Rate\": 1.31, \"Win Rate\": 45.24, \"Eliminations\": 16.04, \"Objective Kills\": 6.28, \"Objective Time\": 53, \"Damage\": 7305, \"Deaths\": 7.88, \"Role\": \"Damage\", \"Prediction\": 6.272144224150928, \"Support\": \"Damage\", \"isSupport_bool\": false, \"isSupport\": 0, \"pred_log\": 0, \"pred_proba1\": 0.12977276056241396, \"pred_proba2\": 0.16876458122581128}, {\"Hero\": \"Hanzo\", \"Skill Tier\": \"Gold\", \"KDA\": 3.13, \"Pick Rate\": 1.93, \"Win Rate\": 48.57, \"Eliminations\": 16.77, \"Objective Kills\": 6.32, \"Objective Time\": 53, \"Damage\": 7577, \"Deaths\": 7.73, \"Role\": \"Damage\", \"Prediction\": 6.521763553602841, \"Support\": \"Damage\", \"isSupport_bool\": false, \"isSupport\": 0, \"pred_log\": 0, \"pred_proba1\": 0.06603434699899856, \"pred_proba2\": 0.1634680182698905}, {\"Hero\": \"Hanzo\", \"Skill Tier\": \"Platinum\", \"KDA\": 3.23, \"Pick Rate\": 3.38, \"Win Rate\": 49.52, \"Eliminations\": 17.37, \"Objective Kills\": 6.28, \"Objective Time\": 52, \"Damage\": 7814, \"Deaths\": 7.71, \"Role\": \"Damage\", \"Prediction\": 6.726930125755098, \"Support\": \"Damage\", \"isSupport_bool\": false, \"isSupport\": 0, \"pred_log\": 0, \"pred_proba1\": 0.036874695566641344, \"pred_proba2\": 0.16876458122581128}, {\"Hero\": \"Hanzo\", \"Skill Tier\": \"Diamond\", \"KDA\": 3.2, \"Pick Rate\": 5.81, \"Win Rate\": 50.03, \"Eliminations\": 17.7, \"Objective Kills\": 6.07, \"Objective Time\": 50, \"Damage\": 7938, \"Deaths\": 7.74, \"Role\": \"Damage\", \"Prediction\": 6.839771740438839, \"Support\": \"Damage\", \"isSupport_bool\": false, \"isSupport\": 0, \"pred_log\": 0, \"pred_proba1\": 0.026596364804729537, \"pred_proba2\": 0.19882518553625744}, {\"Hero\": \"Hanzo\", \"Skill Tier\": \"Master\", \"KDA\": 3.13, \"Pick Rate\": 7.35, \"Win Rate\": 50.08, \"Eliminations\": 17.53, \"Objective Kills\": 5.71, \"Objective Time\": 47, \"Damage\": 7932, \"Deaths\": 7.75, \"Role\": \"Damage\", \"Prediction\": 6.781641211662366, \"Support\": \"Damage\", \"isSupport_bool\": false, \"isSupport\": 0, \"pred_log\": 0, \"pred_proba1\": 0.03148570790242141, \"pred_proba2\": 0.2593208273037546}, {\"Hero\": \"Hanzo\", \"Skill Tier\": \"Grandmaster\", \"KDA\": 3.09, \"Pick Rate\": 8.97, \"Win Rate\": 50.72, \"Eliminations\": 16.88, \"Objective Kills\": 5.05, \"Objective Time\": 43, \"Damage\": 7801, \"Deaths\": 7.65, \"Role\": \"Damage\", \"Prediction\": 6.5593774251640875, \"Support\": \"Damage\", \"isSupport_bool\": false, \"isSupport\": 0, \"pred_log\": 0, \"pred_proba1\": 0.05942814623237985, \"pred_proba2\": 0.3968621265562188}, {\"Hero\": \"Widowmaker\", \"Skill Tier\": \"Bronze\", \"KDA\": 2.54, \"Pick Rate\": 0.73, \"Win Rate\": 42.05, \"Eliminations\": 13.52, \"Objective Kills\": 3.57, \"Objective Time\": 19, \"Damage\": 5272, \"Deaths\": 7.64, \"Role\": \"Damage\", \"Prediction\": 5.4104446211114485, \"Support\": \"Damage\", \"isSupport_bool\": false, \"isSupport\": 0, \"pred_log\": 1, \"pred_proba1\": 0.6622377709764787, \"pred_proba2\": 0.730328275650342}, {\"Hero\": \"Widowmaker\", \"Skill Tier\": \"Silver\", \"KDA\": 2.62, \"Pick Rate\": 0.78, \"Win Rate\": 44.25, \"Eliminations\": 14.63, \"Objective Kills\": 3.74, \"Objective Time\": 19, \"Damage\": 5535, \"Deaths\": 7.79, \"Role\": \"Damage\", \"Prediction\": 5.790002779593125, \"Support\": \"Damage\", \"isSupport_bool\": false, \"isSupport\": 0, \"pred_log\": 1, \"pred_proba1\": 0.3866311914505272, \"pred_proba2\": 0.6971520539487682}, {\"Hero\": \"Widowmaker\", \"Skill Tier\": \"Gold\", \"KDA\": 2.63, \"Pick Rate\": 1.07, \"Win Rate\": 46.43, \"Eliminations\": 15.19, \"Objective Kills\": 3.73, \"Objective Time\": 21, \"Damage\": 5714, \"Deaths\": 7.83, \"Role\": \"Damage\", \"Prediction\": 5.981491580268564, \"Support\": \"Damage\", \"isSupport_bool\": false, \"isSupport\": 0, \"pred_log\": 1, \"pred_proba1\": 0.2623102106258652, \"pred_proba2\": 0.6991666056953076}, {\"Hero\": \"Widowmaker\", \"Skill Tier\": \"Platinum\", \"KDA\": 2.59, \"Pick Rate\": 1.73, \"Win Rate\": 47.83, \"Eliminations\": 15.69, \"Objective Kills\": 3.7, \"Objective Time\": 22, \"Damage\": 5820, \"Deaths\": 8.1, \"Role\": \"Damage\", \"Prediction\": 6.152463723728778, \"Support\": \"Damage\", \"isSupport_bool\": false, \"isSupport\": 0, \"pred_log\": 1, \"pred_proba1\": 0.1757868952777033, \"pred_proba2\": 0.7051641312251713}, {\"Hero\": \"Widowmaker\", \"Skill Tier\": \"Diamond\", \"KDA\": 2.53, \"Pick Rate\": 3.19, \"Win Rate\": 49.06, \"Eliminations\": 16.0, \"Objective Kills\": 3.64, \"Objective Time\": 23, \"Damage\": 5905, \"Deaths\": 8.29, \"Role\": \"Damage\", \"Prediction\": 6.258466452674111, \"Support\": \"Damage\", \"isSupport_bool\": false, \"isSupport\": 0, \"pred_log\": 1, \"pred_proba1\": 0.13446119560843756, \"pred_proba2\": 0.7169475293482565}, {\"Hero\": \"Widowmaker\", \"Skill Tier\": \"Master\", \"KDA\": 2.4, \"Pick Rate\": 4.91, \"Win Rate\": 49.68, \"Eliminations\": 15.85, \"Objective Kills\": 3.5, \"Objective Time\": 22, \"Damage\": 5846, \"Deaths\": 8.38, \"Role\": \"Damage\", \"Prediction\": 6.207174809636046, \"Support\": \"Damage\", \"isSupport_bool\": false, \"isSupport\": 0, \"pred_log\": 1, \"pred_proba1\": 0.15332874288897488, \"pred_proba2\": 0.7433029522359219}, {\"Hero\": \"Widowmaker\", \"Skill Tier\": \"Grandmaster\", \"KDA\": 2.41, \"Pick Rate\": 7.93, \"Win Rate\": 51.49, \"Eliminations\": 15.59, \"Objective Kills\": 3.28, \"Objective Time\": 20, \"Damage\": 5816, \"Deaths\": 8.3, \"Role\": \"Damage\", \"Prediction\": 6.118269295036735, \"Support\": \"Damage\", \"isSupport_bool\": false, \"isSupport\": 0, \"pred_log\": 1, \"pred_proba1\": 0.19109288760024565, \"pred_proba2\": 0.7813450612309704}, {\"Hero\": \"Soldier: 76\", \"Skill Tier\": \"Bronze\", \"KDA\": 2.64, \"Pick Rate\": 2.25, \"Win Rate\": 41.6, \"Eliminations\": 17.0, \"Objective Kills\": 7.41, \"Objective Time\": 64, \"Damage\": 8082, \"Deaths\": 8.76, \"Role\": \"Damage\", \"Prediction\": 6.6004107395945395, \"Support\": \"Damage\", \"isSupport_bool\": false, \"isSupport\": 0, \"pred_log\": 0, \"pred_proba1\": 0.05293019901851942, \"pred_proba2\": 0.06448514892060568}, {\"Hero\": \"Soldier: 76\", \"Skill Tier\": \"Silver\", \"KDA\": 2.73, \"Pick Rate\": 2.41, \"Win Rate\": 44.48, \"Eliminations\": 18.01, \"Objective Kills\": 7.61, \"Objective Time\": 62, \"Damage\": 8417, \"Deaths\": 8.61, \"Role\": \"Damage\", \"Prediction\": 6.9457744693841725, \"Support\": \"Damage\", \"isSupport_bool\": false, \"isSupport\": 0, \"pred_log\": 0, \"pred_proba1\": 0.019513465114043477, \"pred_proba2\": 0.053867391316854876}, {\"Hero\": \"Soldier: 76\", \"Skill Tier\": \"Gold\", \"KDA\": 2.9, \"Pick Rate\": 3.06, \"Win Rate\": 47.28, \"Eliminations\": 18.85, \"Objective Kills\": 7.61, \"Objective Time\": 57, \"Damage\": 8802, \"Deaths\": 8.27, \"Role\": \"Damage\", \"Prediction\": 7.233007670397332, \"Support\": \"Damage\", \"isSupport_bool\": false, \"isSupport\": 0, \"pred_log\": 0, \"pred_proba1\": 0.008361715419213819, \"pred_proba2\": 0.053867391316854876}, {\"Hero\": \"Soldier: 76\", \"Skill Tier\": \"Platinum\", \"KDA\": 2.93, \"Pick Rate\": 4.38, \"Win Rate\": 48.18, \"Eliminations\": 19.32, \"Objective Kills\": 7.42, \"Objective Time\": 53, \"Damage\": 9150, \"Deaths\": 8.12, \"Role\": \"Damage\", \"Prediction\": 7.393721485249933, \"Support\": \"Damage\", \"isSupport_bool\": false, \"isSupport\": 0, \"pred_log\": 0, \"pred_proba1\": 0.005188099449751861, \"pred_proba2\": 0.0639108340734123}, {\"Hero\": \"Soldier: 76\", \"Skill Tier\": \"Diamond\", \"KDA\": 2.97, \"Pick Rate\": 6.24, \"Win Rate\": 49.06, \"Eliminations\": 19.59, \"Objective Kills\": 7.25, \"Objective Time\": 49, \"Damage\": 9418, \"Deaths\": 7.97, \"Role\": \"Damage\", \"Prediction\": 7.4860464427184485, \"Support\": \"Damage\", \"isSupport_bool\": false, \"isSupport\": 0, \"pred_log\": 0, \"pred_proba1\": 0.003941623269721945, \"pred_proba2\": 0.07435046330265623}, {\"Hero\": \"Soldier: 76\", \"Skill Tier\": \"Master\", \"KDA\": 2.96, \"Pick Rate\": 8.31, \"Win Rate\": 49.69, \"Eliminations\": 19.39, \"Objective Kills\": 6.9, \"Objective Time\": 46, \"Damage\": 9511, \"Deaths\": 7.94, \"Role\": \"Damage\", \"Prediction\": 7.417657585334363, \"Support\": \"Damage\", \"isSupport_bool\": false, \"isSupport\": 0, \"pred_log\": 0, \"pred_proba1\": 0.0048315302840399475, \"pred_proba2\": 0.1009136466287324}, {\"Hero\": \"Soldier: 76\", \"Skill Tier\": \"Grandmaster\", \"KDA\": 2.95, \"Pick Rate\": 9.65, \"Win Rate\": 51.42, \"Eliminations\": 18.99, \"Objective Kills\": 6.49, \"Objective Time\": 43, \"Damage\": 9622, \"Deaths\": 7.79, \"Role\": \"Damage\", \"Prediction\": 7.280879870566191, \"Support\": \"Damage\", \"isSupport_bool\": false, \"isSupport\": 0, \"pred_log\": 0, \"pred_proba1\": 0.007254733744864128, \"pred_proba2\": 0.14244083662967985}, {\"Hero\": \"Zenyatta\", \"Skill Tier\": \"Bronze\", \"KDA\": 5.0, \"Pick Rate\": 1.36, \"Win Rate\": 48.7, \"Eliminations\": 12.71, \"Objective Kills\": 5.77, \"Objective Time\": 65, \"Damage\": 4661, \"Deaths\": 7.42, \"Role\": \"Support\", \"Prediction\": 5.1334697487059024, \"Support\": \"Support\", \"isSupport_bool\": true, \"isSupport\": 1, \"pred_log\": 0, \"pred_proba1\": 0.8177777425795116, \"pred_proba2\": 0.24845671468286418}, {\"Hero\": \"Zenyatta\", \"Skill Tier\": \"Silver\", \"KDA\": 5.19, \"Pick Rate\": 1.31, \"Win Rate\": 48.35, \"Eliminations\": 13.55, \"Objective Kills\": 6.08, \"Objective Time\": 69, \"Damage\": 4886, \"Deaths\": 7.29, \"Role\": \"Support\", \"Prediction\": 5.420702949719062, \"Support\": \"Support\", \"isSupport_bool\": true, \"isSupport\": 1, \"pred_log\": 0, \"pred_proba1\": 0.6553438514589492, \"pred_proba2\": 0.19730675782532633}, {\"Hero\": \"Zenyatta\", \"Skill Tier\": \"Gold\", \"KDA\": 5.47, \"Pick Rate\": 1.8, \"Win Rate\": 51.21, \"Eliminations\": 14.0, \"Objective Kills\": 6.1, \"Objective Time\": 69, \"Damage\": 5037, \"Deaths\": 7.1, \"Role\": \"Support\", \"Prediction\": 5.574577878833255, \"Support\": \"Support\", \"isSupport_bool\": true, \"isSupport\": 1, \"pred_log\": 0, \"pred_proba1\": 0.5455156032757991, \"pred_proba2\": 0.19429618193426323}, {\"Hero\": \"Zenyatta\", \"Skill Tier\": \"Platinum\", \"KDA\": 5.55, \"Pick Rate\": 2.9, \"Win Rate\": 51.81, \"Eliminations\": 14.24, \"Objective Kills\": 6.04, \"Objective Time\": 67, \"Damage\": 5140, \"Deaths\": 6.89, \"Role\": \"Support\", \"Prediction\": 5.656644507694157, \"Support\": \"Support\", \"isSupport_bool\": true, \"isSupport\": 1, \"pred_log\": 0, \"pred_proba1\": 0.48430778019861725, \"pred_proba2\": 0.20343310374377976}, {\"Hero\": \"Zenyatta\", \"Skill Tier\": \"Diamond\", \"KDA\": 5.61, \"Pick Rate\": 5.05, \"Win Rate\": 52.8, \"Eliminations\": 14.34, \"Objective Kills\": 5.82, \"Objective Time\": 65, \"Damage\": 5216, \"Deaths\": 6.66, \"Role\": \"Support\", \"Prediction\": 5.6908389363862, \"Support\": \"Support\", \"isSupport_bool\": true, \"isSupport\": 1, \"pred_log\": 0, \"pred_proba1\": 0.45883793878800194, \"pred_proba2\": 0.23963912670531004}, {\"Hero\": \"Zenyatta\", \"Skill Tier\": \"Master\", \"KDA\": 5.59, \"Pick Rate\": 7.38, \"Win Rate\": 54.96, \"Eliminations\": 14.13, \"Objective Kills\": 5.47, \"Objective Time\": 62, \"Damage\": 5204, \"Deaths\": 6.53, \"Role\": \"Support\", \"Prediction\": 5.61903063613291, \"Support\": \"Support\", \"isSupport_bool\": true, \"isSupport\": 1, \"pred_log\": 0, \"pred_proba1\": 0.5124139335726305, \"pred_proba2\": 0.305749410303906}, {\"Hero\": \"Zenyatta\", \"Skill Tier\": \"Grandmaster\", \"KDA\": 5.28, \"Pick Rate\": 11.33, \"Win Rate\": 54.18, \"Eliminations\": 13.37, \"Objective Kills\": 4.74, \"Objective Time\": 56, \"Damage\": 5154, \"Deaths\": 6.37, \"Role\": \"Support\", \"Prediction\": 5.359152978073384, \"Support\": \"Support\", \"isSupport_bool\": true, \"isSupport\": 1, \"pred_log\": 0, \"pred_proba1\": 0.695642060858917, \"pred_proba2\": 0.4694869425944331}, {\"Hero\": \"Lucio\", \"Skill Tier\": \"Bronze\", \"KDA\": 3.44, \"Pick Rate\": 1.42, \"Win Rate\": 44.22, \"Eliminations\": 10.8, \"Objective Kills\": 5.6, \"Objective Time\": 111, \"Damage\": 3218, \"Deaths\": 7.67, \"Role\": \"Support\", \"Prediction\": 4.480356160687885, \"Support\": \"Support\", \"isSupport_bool\": true, \"isSupport\": 1, \"pred_log\": 0, \"pred_proba1\": 0.9693501711736996, \"pred_proba2\": 0.2800236882942943}, {\"Hero\": \"Lucio\", \"Skill Tier\": \"Silver\", \"KDA\": 3.77, \"Pick Rate\": 1.11, \"Win Rate\": 47.97, \"Eliminations\": 11.89, \"Objective Kills\": 5.98, \"Objective Time\": 109, \"Damage\": 3405, \"Deaths\": 7.57, \"Role\": \"Support\", \"Prediction\": 4.853075433431151, \"Support\": \"Support\", \"isSupport_bool\": true, \"isSupport\": 1, \"pred_log\": 0, \"pred_proba1\": 0.9121094459332307, \"pred_proba2\": 0.21288616686795359}, {\"Hero\": \"Lucio\", \"Skill Tier\": \"Gold\", \"KDA\": 3.87, \"Pick Rate\": 1.37, \"Win Rate\": 48.65, \"Eliminations\": 12.42, \"Objective Kills\": 5.97, \"Objective Time\": 105, \"Damage\": 3533, \"Deaths\": 7.49, \"Role\": \"Support\", \"Prediction\": 5.034305905498978, \"Support\": \"Support\", \"isSupport_bool\": true, \"isSupport\": 1, \"pred_log\": 0, \"pred_proba1\": 0.8578854171694285, \"pred_proba2\": 0.214492452138827}, {\"Hero\": \"Lucio\", \"Skill Tier\": \"Platinum\", \"KDA\": 3.96, \"Pick Rate\": 1.95, \"Win Rate\": 50.82, \"Eliminations\": 12.81, \"Objective Kills\": 5.85, \"Objective Time\": 100, \"Damage\": 3638, \"Deaths\": 7.4, \"Role\": \"Support\", \"Prediction\": 5.167664177397945, \"Support\": \"Support\", \"isSupport_bool\": true, \"isSupport\": 1, \"pred_log\": 0, \"pred_proba1\": 0.8020459925492107, \"pred_proba2\": 0.23445249125830692}, {\"Hero\": \"Lucio\", \"Skill Tier\": \"Diamond\", \"KDA\": 3.98, \"Pick Rate\": 2.79, \"Win Rate\": 50.94, \"Eliminations\": 12.95, \"Objective Kills\": 5.68, \"Objective Time\": 95, \"Damage\": 3686, \"Deaths\": 7.46, \"Role\": \"Support\", \"Prediction\": 5.215536377566805, \"Support\": \"Support\", \"isSupport_bool\": true, \"isSupport\": 1, \"pred_log\": 0, \"pred_proba1\": 0.7783378189233021, \"pred_proba2\": 0.264867266682937}, {\"Hero\": \"Lucio\", \"Skill Tier\": \"Master\", \"KDA\": 3.99, \"Pick Rate\": 3.67, \"Win Rate\": 50.99, \"Eliminations\": 13.22, \"Objective Kills\": 5.52, \"Objective Time\": 88, \"Damage\": 3738, \"Deaths\": 7.37, \"Role\": \"Support\", \"Prediction\": 5.30786133503532, \"Support\": \"Support\", \"isSupport_bool\": true, \"isSupport\": 1, \"pred_log\": 0, \"pred_proba1\": 0.7271040765305355, \"pred_proba2\": 0.2956985435147791}, {\"Hero\": \"Lucio\", \"Skill Tier\": \"Grandmaster\", \"KDA\": 4.1, \"Pick Rate\": 6.72, \"Win Rate\": 52.56, \"Eliminations\": 13.02, \"Objective Kills\": 5.15, \"Objective Time\": 82, \"Damage\": 3794, \"Deaths\": 7.11, \"Role\": \"Support\", \"Prediction\": 5.239472477651234, \"Support\": \"Support\", \"isSupport_bool\": true, \"isSupport\": 1, \"pred_log\": 0, \"pred_proba1\": 0.7657458295260172, \"pred_proba2\": 0.3742201053943718}, {\"Hero\": \"D.Va\", \"Skill Tier\": \"Bronze\", \"KDA\": 5.32, \"Pick Rate\": 1.63, \"Win Rate\": 42.58, \"Eliminations\": 18.97, \"Objective Kills\": 6.46, \"Objective Time\": 132, \"Damage\": 7489, \"Deaths\": 6.02, \"Role\": \"Tank\", \"Prediction\": 7.274040984827782, \"Support\": \"Tank\", \"isSupport_bool\": false, \"isSupport\": 0, \"pred_log\": 0, \"pred_proba1\": 0.007403484597042681, \"pred_proba2\": 0.14598010597464747}, {\"Hero\": \"D.Va\", \"Skill Tier\": \"Silver\", \"KDA\": 5.8, \"Pick Rate\": 1.35, \"Win Rate\": 45.33, \"Eliminations\": 20.47, \"Objective Kills\": 6.66, \"Objective Time\": 132, \"Damage\": 8028, \"Deaths\": 5.8, \"Role\": \"Tank\", \"Prediction\": 7.786957415208425, \"Support\": \"Tank\", \"isSupport_bool\": false, \"isSupport\": 0, \"pred_log\": 0, \"pred_proba1\": 0.001606873478740719, \"pred_proba2\": 0.12371839930293017}, {\"Hero\": \"D.Va\", \"Skill Tier\": \"Gold\", \"KDA\": 6.22, \"Pick Rate\": 1.36, \"Win Rate\": 47.31, \"Eliminations\": 21.26, \"Objective Kills\": 6.66, \"Objective Time\": 129, \"Damage\": 8337, \"Deaths\": 5.62, \"Role\": \"Tank\", \"Prediction\": 8.057093401875564, \"Support\": \"Tank\", \"isSupport_bool\": false, \"isSupport\": 0, \"pred_log\": 0, \"pred_proba1\": 0.0007171620638920514, \"pred_proba2\": 0.12371839930293017}, {\"Hero\": \"D.Va\", \"Skill Tier\": \"Platinum\", \"KDA\": 6.35, \"Pick Rate\": 1.82, \"Win Rate\": 48.49, \"Eliminations\": 21.49, \"Objective Kills\": 6.47, \"Objective Time\": 125, \"Damage\": 8585, \"Deaths\": 5.49, \"Role\": \"Tank\", \"Prediction\": 8.13574058786726, \"Support\": \"Tank\", \"isSupport_bool\": false, \"isSupport\": 0, \"pred_log\": 0, \"pred_proba1\": 0.0005669765944396045, \"pred_proba2\": 0.14479231947442842}, {\"Hero\": \"D.Va\", \"Skill Tier\": \"Diamond\", \"KDA\": 6.64, \"Pick Rate\": 2.67, \"Win Rate\": 48.58, \"Eliminations\": 21.55, \"Objective Kills\": 6.15, \"Objective Time\": 119, \"Damage\": 8750, \"Deaths\": 5.33, \"Role\": \"Tank\", \"Prediction\": 8.156257245082488, \"Support\": \"Tank\", \"isSupport_bool\": false, \"isSupport\": 0, \"pred_log\": 0, \"pred_proba1\": 0.0005332617677294781, \"pred_proba2\": 0.1869226522881638}, {\"Hero\": \"D.Va\", \"Skill Tier\": \"Master\", \"KDA\": 6.59, \"Pick Rate\": 3.63, \"Win Rate\": 49.4, \"Eliminations\": 20.88, \"Objective Kills\": 5.74, \"Objective Time\": 114, \"Damage\": 8698, \"Deaths\": 5.26, \"Role\": \"Tank\", \"Prediction\": 7.927154572845801, \"Support\": \"Tank\", \"isSupport_bool\": false, \"isSupport\": 0, \"pred_log\": 0, \"pred_proba1\": 0.0010572683900998516, \"pred_proba2\": 0.2538504265726115}, {\"Hero\": \"D.Va\", \"Skill Tier\": \"Grandmaster\", \"KDA\": 6.47, \"Pick Rate\": 5.53, \"Win Rate\": 50.94, \"Eliminations\": 19.91, \"Objective Kills\": 5.05, \"Objective Time\": 109, \"Damage\": 8554, \"Deaths\": 4.93, \"Role\": \"Tank\", \"Prediction\": 7.595468614532986, \"Support\": \"Tank\", \"isSupport_bool\": false, \"isSupport\": 0, \"pred_log\": 0, \"pred_proba1\": 0.0028449626207216108, \"pred_proba2\": 0.3968621265562188}, {\"Hero\": \"Junkrat\", \"Skill Tier\": \"Bronze\", \"KDA\": 2.38, \"Pick Rate\": 1.74, \"Win Rate\": 43.26, \"Eliminations\": 15.34, \"Objective Kills\": 6.57, \"Objective Time\": 60, \"Damage\": 7670, \"Deaths\": 8.69, \"Role\": \"Damage\", \"Prediction\": 6.0327832233066285, \"Support\": \"Damage\", \"isSupport_bool\": false, \"isSupport\": 0, \"pred_log\": 0, \"pred_proba1\": 0.23373431149061016, \"pred_proba2\": 0.1333518920743928}, {\"Hero\": \"Junkrat\", \"Skill Tier\": \"Silver\", \"KDA\": 2.58, \"Pick Rate\": 1.74, \"Win Rate\": 45.91, \"Eliminations\": 16.0, \"Objective Kills\": 6.61, \"Objective Time\": 58, \"Damage\": 8026, \"Deaths\": 8.49, \"Role\": \"Damage\", \"Prediction\": 6.258466452674111, \"Support\": \"Damage\", \"isSupport_bool\": false, \"isSupport\": 0, \"pred_log\": 0, \"pred_proba1\": 0.13446119560843756, \"pred_proba2\": 0.12899426077000134}, {\"Hero\": \"Junkrat\", \"Skill Tier\": \"Gold\", \"KDA\": 2.67, \"Pick Rate\": 1.74, \"Win Rate\": 46.48, \"Eliminations\": 16.4, \"Objective Kills\": 6.4, \"Objective Time\": 55, \"Damage\": 8201, \"Deaths\": 8.26, \"Role\": \"Damage\", \"Prediction\": 6.395244167442282, \"Support\": \"Damage\", \"isSupport_bool\": false, \"isSupport\": 0, \"pred_log\": 0, \"pred_proba1\": 0.09355291560750745, \"pred_proba2\": 0.15327717292149903}, {\"Hero\": \"Junkrat\", \"Skill Tier\": \"Platinum\", \"KDA\": 2.72, \"Pick Rate\": 1.96, \"Win Rate\": 47.85, \"Eliminations\": 16.57, \"Objective Kills\": 6.15, \"Objective Time\": 50, \"Damage\": 8373, \"Deaths\": 8.17, \"Role\": \"Damage\", \"Prediction\": 6.453374696218755, \"Support\": \"Damage\", \"isSupport_bool\": false, \"isSupport\": 0, \"pred_log\": 0, \"pred_proba1\": 0.0798196323364319, \"pred_proba2\": 0.1869226522881638}, {\"Hero\": \"Junkrat\", \"Skill Tier\": \"Diamond\", \"KDA\": 2.67, \"Pick Rate\": 2.4, \"Win Rate\": 48.25, \"Eliminations\": 16.6, \"Objective Kills\": 5.78, \"Objective Time\": 45, \"Damage\": 8458, \"Deaths\": 8.16, \"Role\": \"Damage\", \"Prediction\": 6.463633024826368, \"Support\": \"Damage\", \"isSupport_bool\": false, \"isSupport\": 0, \"pred_log\": 0, \"pred_proba1\": 0.07759582471509237, \"pred_proba2\": 0.24667595347379767}, {\"Hero\": \"Junkrat\", \"Skill Tier\": \"Master\", \"KDA\": 2.69, \"Pick Rate\": 2.65, \"Win Rate\": 49.54, \"Eliminations\": 16.31, \"Objective Kills\": 5.47, \"Objective Time\": 42, \"Damage\": 8390, \"Deaths\": 8.14, \"Role\": \"Damage\", \"Prediction\": 6.364469181619444, \"Support\": \"Damage\", \"isSupport_bool\": false, \"isSupport\": 0, \"pred_log\": 0, \"pred_proba1\": 0.10165253574688568, \"pred_proba2\": 0.305749410303906}, {\"Hero\": \"Junkrat\", \"Skill Tier\": \"Grandmaster\", \"KDA\": 2.54, \"Pick Rate\": 2.75, \"Win Rate\": 49.32, \"Eliminations\": 15.56, \"Objective Kills\": 4.94, \"Objective Time\": 38, \"Damage\": 8147, \"Deaths\": 8.2, \"Role\": \"Damage\", \"Prediction\": 6.108010966429123, \"Support\": \"Damage\", \"isSupport_bool\": false, \"isSupport\": 0, \"pred_log\": 0, \"pred_proba1\": 0.19587865964742981, \"pred_proba2\": 0.42228519195418823}, {\"Hero\": \"Ashe\", \"Skill Tier\": \"Bronze\", \"KDA\": 2.38, \"Pick Rate\": 1.04, \"Win Rate\": 42.57, \"Eliminations\": 14.24, \"Objective Kills\": 5.96, \"Objective Time\": 55, \"Damage\": 7192, \"Deaths\": 7.72, \"Role\": \"Damage\", \"Prediction\": 5.656644507694157, \"Support\": \"Damage\", \"isSupport_bool\": false, \"isSupport\": 0, \"pred_log\": 0, \"pred_proba1\": 0.48430778019861725, \"pred_proba2\": 0.21610752968482252}, {\"Hero\": \"Ashe\", \"Skill Tier\": \"Silver\", \"KDA\": 2.62, \"Pick Rate\": 1.11, \"Win Rate\": 45.71, \"Eliminations\": 15.4, \"Objective Kills\": 6.16, \"Objective Time\": 54, \"Damage\": 7715, \"Deaths\": 7.47, \"Role\": \"Damage\", \"Prediction\": 6.0532998805218545, \"Support\": \"Damage\", \"isSupport_bool\": false, \"isSupport\": 0, \"pred_log\": 0, \"pred_proba1\": 0.22292815886861791, \"pred_proba2\": 0.18547408070534804}, {\"Hero\": \"Ashe\", \"Skill Tier\": \"Gold\", \"KDA\": 2.7, \"Pick Rate\": 1.62, \"Win Rate\": 48.19, \"Eliminations\": 16.34, \"Objective Kills\": 6.22, \"Objective Time\": 53, \"Damage\": 8215, \"Deaths\": 7.37, \"Role\": \"Damage\", \"Prediction\": 6.374727510227056, \"Support\": \"Damage\", \"isSupport_bool\": false, \"isSupport\": 0, \"pred_log\": 0, \"pred_proba1\": 0.09888582172686484, \"pred_proba2\": 0.17696456938766858}, {\"Hero\": \"Ashe\", \"Skill Tier\": \"Platinum\", \"KDA\": 2.74, \"Pick Rate\": 2.39, \"Win Rate\": 49.36, \"Eliminations\": 17.09, \"Objective Kills\": 6.21, \"Objective Time\": 50, \"Damage\": 8725, \"Deaths\": 7.44, \"Role\": \"Damage\", \"Prediction\": 6.631185725417378, \"Support\": \"Damage\", \"isSupport_bool\": false, \"isSupport\": 0, \"pred_log\": 0, \"pred_proba1\": 0.04850314457655151, \"pred_proba2\": 0.17836123396172704}, {\"Hero\": \"Ashe\", \"Skill Tier\": \"Diamond\", \"KDA\": 2.72, \"Pick Rate\": 4.11, \"Win Rate\": 49.43, \"Eliminations\": 17.56, \"Objective Kills\": 6.06, \"Objective Time\": 48, \"Damage\": 9153, \"Deaths\": 7.55, \"Role\": \"Damage\", \"Prediction\": 6.791899540269979, \"Support\": \"Damage\", \"isSupport_bool\": false, \"isSupport\": 0, \"pred_log\": 0, \"pred_proba1\": 0.030563775801732408, \"pred_proba2\": 0.2003523820236655}, {\"Hero\": \"Ashe\", \"Skill Tier\": \"Master\", \"KDA\": 2.68, \"Pick Rate\": 5.05, \"Win Rate\": 51.28, \"Eliminations\": 17.66, \"Objective Kills\": 5.71, \"Objective Time\": 44, \"Damage\": 9438, \"Deaths\": 7.65, \"Role\": \"Damage\", \"Prediction\": 6.826093968962022, \"Support\": \"Damage\", \"isSupport_bool\": false, \"isSupport\": 0, \"pred_log\": 0, \"pred_proba1\": 0.027675786641021258, \"pred_proba2\": 0.2593208273037546}, {\"Hero\": \"Ashe\", \"Skill Tier\": \"Grandmaster\", \"KDA\": 2.69, \"Pick Rate\": 4.95, \"Win Rate\": 51.18, \"Eliminations\": 17.76, \"Objective Kills\": 5.29, \"Objective Time\": 41, \"Damage\": 9893, \"Deaths\": 7.76, \"Role\": \"Damage\", \"Prediction\": 6.860288397654065, \"Support\": \"Damage\", \"isSupport_bool\": false, \"isSupport\": 0, \"pred_log\": 0, \"pred_proba1\": 0.02505363289759617, \"pred_proba2\": 0.34344233362089677}, {\"Hero\": \"Tracer\", \"Skill Tier\": \"Bronze\", \"KDA\": 2.24, \"Pick Rate\": 0.64, \"Win Rate\": 39.43, \"Eliminations\": 14.98, \"Objective Kills\": 5.98, \"Objective Time\": 65, \"Damage\": 5758, \"Deaths\": 8.62, \"Role\": \"Damage\", \"Prediction\": 5.909683280015274, \"Support\": \"Damage\", \"isSupport_bool\": false, \"isSupport\": 0, \"pred_log\": 0, \"pred_proba1\": 0.3059105884250902, \"pred_proba2\": 0.21288616686795359}, {\"Hero\": \"Tracer\", \"Skill Tier\": \"Silver\", \"KDA\": 2.42, \"Pick Rate\": 0.67, \"Win Rate\": 44.77, \"Eliminations\": 16.33, \"Objective Kills\": 6.28, \"Objective Time\": 67, \"Damage\": 6126, \"Deaths\": 8.51, \"Role\": \"Damage\", \"Prediction\": 6.371308067357852, \"Support\": \"Damage\", \"isSupport_bool\": false, \"isSupport\": 0, \"pred_log\": 0, \"pred_proba1\": 0.09980052957270993, \"pred_proba2\": 0.16876458122581128}, {\"Hero\": \"Tracer\", \"Skill Tier\": \"Gold\", \"KDA\": 2.47, \"Pick Rate\": 0.86, \"Win Rate\": 45.57, \"Eliminations\": 17.11, \"Objective Kills\": 6.35, \"Objective Time\": 63, \"Damage\": 6338, \"Deaths\": 8.39, \"Role\": \"Damage\", \"Prediction\": 6.638024611155786, \"Support\": \"Damage\", \"isSupport_bool\": false, \"isSupport\": 0, \"pred_log\": 0, \"pred_proba1\": 0.04756819272313793, \"pred_proba2\": 0.15958398478342636}, {\"Hero\": \"Tracer\", \"Skill Tier\": \"Platinum\", \"KDA\": 2.45, \"Pick Rate\": 1.54, \"Win Rate\": 46.75, \"Eliminations\": 17.62, \"Objective Kills\": 6.36, \"Objective Time\": 62, \"Damage\": 6556, \"Deaths\": 8.44, \"Role\": \"Damage\", \"Prediction\": 6.812416197485205, \"Support\": \"Damage\", \"isSupport_bool\": false, \"isSupport\": 0, \"pred_log\": 0, \"pred_proba1\": 0.02879772109176545, \"pred_proba2\": 0.1583060266081563}, {\"Hero\": \"Tracer\", \"Skill Tier\": \"Diamond\", \"KDA\": 2.48, \"Pick Rate\": 3.14, \"Win Rate\": 48.5, \"Eliminations\": 17.97, \"Objective Kills\": 6.33, \"Objective Time\": 59, \"Damage\": 6683, \"Deaths\": 8.44, \"Role\": \"Damage\", \"Prediction\": 6.932096697907355, \"Support\": \"Damage\", \"isSupport_bool\": false, \"isSupport\": 0, \"pred_log\": 0, \"pred_proba1\": 0.020311423526476732, \"pred_proba2\": 0.16216495820240795}, {\"Hero\": \"Tracer\", \"Skill Tier\": \"Master\", \"KDA\": 2.45, \"Pick Rate\": 4.85, \"Win Rate\": 49.24, \"Eliminations\": 18.16, \"Objective Kills\": 6.17, \"Objective Time\": 57, \"Damage\": 6803, \"Deaths\": 8.3, \"Role\": \"Damage\", \"Prediction\": 6.997066112422236, \"Support\": \"Damage\", \"isSupport_bool\": false, \"isSupport\": 0, \"pred_log\": 0, \"pred_proba1\": 0.016785820040556104, \"pred_proba2\": 0.18403419405740148}, {\"Hero\": \"Tracer\", \"Skill Tier\": \"Grandmaster\", \"KDA\": 2.64, \"Pick Rate\": 11.98, \"Win Rate\": 52.55, \"Eliminations\": 18.28, \"Objective Kills\": 5.74, \"Objective Time\": 53, \"Damage\": 7071, \"Deaths\": 7.71, \"Role\": \"Damage\", \"Prediction\": 7.038099426852688, \"Support\": \"Damage\", \"isSupport_bool\": false, \"isSupport\": 0, \"pred_log\": 0, \"pred_proba1\": 0.014876691524171181, \"pred_proba2\": 0.2538504265726115}, {\"Hero\": \"Roadhog\", \"Skill Tier\": \"Bronze\", \"KDA\": 3.07, \"Pick Rate\": 0.35, \"Win Rate\": 34.1, \"Eliminations\": 14.52, \"Objective Kills\": 7.24, \"Objective Time\": 117, \"Damage\": 6745, \"Deaths\": 7.3, \"Role\": \"Tank\", \"Prediction\": 5.752388908031877, \"Support\": \"Tank\", \"isSupport_bool\": false, \"isSupport\": 0, \"pred_log\": 0, \"pred_proba1\": 0.4136153072612821, \"pred_proba2\": 0.07501107321370237}, {\"Hero\": \"Roadhog\", \"Skill Tier\": \"Silver\", \"KDA\": 3.3, \"Pick Rate\": 0.37, \"Win Rate\": 35.67, \"Eliminations\": 15.53, \"Objective Kills\": 7.61, \"Objective Time\": 119, \"Damage\": 7125, \"Deaths\": 7.09, \"Role\": \"Tank\", \"Prediction\": 6.097752637821509, \"Support\": \"Tank\", \"isSupport_bool\": false, \"isSupport\": 0, \"pred_log\": 0, \"pred_proba1\": 0.20075454177708857, \"pred_proba2\": 0.053867391316854876}, {\"Hero\": \"Roadhog\", \"Skill Tier\": \"Gold\", \"KDA\": 3.68, \"Pick Rate\": 0.46, \"Win Rate\": 38.83, \"Eliminations\": 16.66, \"Objective Kills\": 7.93, \"Objective Time\": 116, \"Damage\": 7700, \"Deaths\": 6.89, \"Role\": \"Tank\", \"Prediction\": 6.484149682041593, \"Support\": \"Tank\", \"isSupport_bool\": false, \"isSupport\": 0, \"pred_log\": 0, \"pred_proba1\": 0.07331766797949432, \"pred_proba2\": 0.04024199797449412}, {\"Hero\": \"Roadhog\", \"Skill Tier\": \"Platinum\", \"KDA\": 3.69, \"Pick Rate\": 0.7, \"Win Rate\": 39.09, \"Eliminations\": 17.32, \"Objective Kills\": 7.94, \"Objective Time\": 116, \"Damage\": 8138, \"Deaths\": 6.79, \"Role\": \"Tank\", \"Prediction\": 6.709832911409077, \"Support\": \"Tank\", \"isSupport_bool\": false, \"isSupport\": 0, \"pred_log\": 0, \"pred_proba1\": 0.03873368517736745, \"pred_proba2\": 0.039874393570987585}, {\"Hero\": \"Roadhog\", \"Skill Tier\": \"Diamond\", \"KDA\": 3.83, \"Pick Rate\": 1.22, \"Win Rate\": 40.9, \"Eliminations\": 17.89, \"Objective Kills\": 7.86, \"Objective Time\": 111, \"Damage\": 8445, \"Deaths\": 6.7, \"Role\": \"Tank\", \"Prediction\": 6.9047411549537205, \"Support\": \"Tank\", \"isSupport_bool\": false, \"isSupport\": 0, \"pred_log\": 0, \"pred_proba1\": 0.022004340477686003, \"pred_proba2\": 0.04290757334272012}, {\"Hero\": \"Roadhog\", \"Skill Tier\": \"Master\", \"KDA\": 3.81, \"Pick Rate\": 1.38, \"Win Rate\": 41.03, \"Eliminations\": 17.86, \"Objective Kills\": 7.62, \"Objective Time\": 107, \"Damage\": 8470, \"Deaths\": 6.63, \"Role\": \"Tank\", \"Prediction\": 6.894482826346107, \"Support\": \"Tank\", \"isSupport_bool\": false, \"isSupport\": 0, \"pred_log\": 0, \"pred_proba1\": 0.022674122755379562, \"pred_proba2\": 0.05338224391671841}, {\"Hero\": \"Roadhog\", \"Skill Tier\": \"Grandmaster\", \"KDA\": 3.78, \"Pick Rate\": 1.68, \"Win Rate\": 42.66, \"Eliminations\": 17.12, \"Objective Kills\": 7.21, \"Objective Time\": 106, \"Damage\": 8218, \"Deaths\": 6.5, \"Role\": \"Tank\", \"Prediction\": 6.641444054024991, \"Support\": \"Tank\", \"isSupport_bool\": false, \"isSupport\": 0, \"pred_log\": 0, \"pred_proba1\": 0.04710716138204037, \"pred_proba2\": 0.07702538293106931}, {\"Hero\": \"Zarya\", \"Skill Tier\": \"Bronze\", \"KDA\": 3.97, \"Pick Rate\": 0.72, \"Win Rate\": 39.27, \"Eliminations\": 17.34, \"Objective Kills\": 8.65, \"Objective Time\": 133, \"Damage\": 8415, \"Deaths\": 6.74, \"Role\": \"Tank\", \"Prediction\": 6.716671797147485, \"Support\": \"Tank\", \"isSupport_bool\": false, \"isSupport\": 0, \"pred_log\": 0, \"pred_proba1\": 0.03797953369303125, \"pred_proba2\": 0.0206318166054981}, {\"Hero\": \"Zarya\", \"Skill Tier\": \"Silver\", \"KDA\": 4.34, \"Pick Rate\": 0.99, \"Win Rate\": 42.98, \"Eliminations\": 18.62, \"Objective Kills\": 9.06, \"Objective Time\": 132, \"Damage\": 8995, \"Deaths\": 6.56, \"Role\": \"Tank\", \"Prediction\": 7.154360484405633, \"Support\": \"Tank\", \"isSupport_bool\": false, \"isSupport\": 0, \"pred_log\": 0, \"pred_proba1\": 0.01055483075579242, \"pred_proba2\": 0.014035593612905817}, {\"Hero\": \"Zarya\", \"Skill Tier\": \"Gold\", \"KDA\": 4.65, \"Pick Rate\": 1.36, \"Win Rate\": 45.51, \"Eliminations\": 19.52, \"Objective Kills\": 9.12, \"Objective Time\": 128, \"Damage\": 9476, \"Deaths\": 6.37, \"Role\": \"Tank\", \"Prediction\": 7.462110342634018, \"Support\": \"Tank\", \"isSupport_bool\": false, \"isSupport\": 0, \"pred_log\": 0, \"pred_proba1\": 0.004232796227759084, \"pred_proba2\": 0.013263562482593026}, {\"Hero\": \"Zarya\", \"Skill Tier\": \"Platinum\", \"KDA\": 4.79, \"Pick Rate\": 1.81, \"Win Rate\": 46.18, \"Eliminations\": 20.13, \"Objective Kills\": 9.21, \"Objective Time\": 127, \"Damage\": 9922, \"Deaths\": 6.25, \"Role\": \"Tank\", \"Prediction\": 7.670696357655479, \"Support\": \"Tank\", \"isSupport_bool\": false, \"isSupport\": 0, \"pred_log\": 0, \"pred_proba1\": 0.0022732538565315326, \"pred_proba2\": 0.012183429082107433}, {\"Hero\": \"Zarya\", \"Skill Tier\": \"Diamond\", \"KDA\": 4.83, \"Pick Rate\": 2.54, \"Win Rate\": 45.86, \"Eliminations\": 20.31, \"Objective Kills\": 9.07, \"Objective Time\": 123, \"Damage\": 10191, \"Deaths\": 6.2, \"Role\": \"Tank\", \"Prediction\": 7.732246329301156, \"Support\": \"Tank\", \"isSupport_bool\": false, \"isSupport\": 0, \"pred_log\": 0, \"pred_proba1\": 0.0018918901090477019, \"pred_proba2\": 0.01390391260603957}, {\"Hero\": \"Zarya\", \"Skill Tier\": \"Master\", \"KDA\": 4.86, \"Pick Rate\": 2.69, \"Win Rate\": 47.08, \"Eliminations\": 20.19, \"Objective Kills\": 8.87, \"Objective Time\": 117, \"Damage\": 10345, \"Deaths\": 6.13, \"Role\": \"Tank\", \"Prediction\": 7.691213014870706, \"Support\": \"Tank\", \"isSupport_bool\": false, \"isSupport\": 0, \"pred_log\": 0, \"pred_proba1\": 0.0021382936456032166, \"pred_proba2\": 0.016784241202596924}, {\"Hero\": \"Zarya\", \"Skill Tier\": \"Grandmaster\", \"KDA\": 4.91, \"Pick Rate\": 3.15, \"Win Rate\": 48.78, \"Eliminations\": 19.68, \"Objective Kills\": 8.42, \"Objective Time\": 111, \"Damage\": 10283, \"Deaths\": 5.98, \"Role\": \"Tank\", \"Prediction\": 7.516821428541287, \"Support\": \"Tank\", \"isSupport_bool\": false, \"isSupport\": 0, \"pred_log\": 0, \"pred_proba1\": 0.0035963886143681673, \"pred_proba2\": 0.02557583801807491}, {\"Hero\": \"Reaper\", \"Skill Tier\": \"Bronze\", \"KDA\": 2.66, \"Pick Rate\": 1.19, \"Win Rate\": 44.71, \"Eliminations\": 17.9, \"Objective Kills\": 7.51, \"Objective Time\": 80, \"Damage\": 7272, \"Deaths\": 8.28, \"Role\": \"Damage\", \"Prediction\": 6.908160597822924, \"Support\": \"Damage\", \"isSupport_bool\": false, \"isSupport\": 0, \"pred_log\": 0, \"pred_proba1\": 0.021785406973130875, \"pred_proba2\": 0.05895260160877807}, {\"Hero\": \"Reaper\", \"Skill Tier\": \"Silver\", \"KDA\": 2.68, \"Pick Rate\": 1.34, \"Win Rate\": 45.45, \"Eliminations\": 18.82, \"Objective Kills\": 7.63, \"Objective Time\": 78, \"Damage\": 7567, \"Deaths\": 8.21, \"Role\": \"Damage\", \"Prediction\": 7.222749341789719, \"Support\": \"Damage\", \"isSupport_bool\": false, \"isSupport\": 0, \"pred_log\": 0, \"pred_proba1\": 0.008619894755428324, \"pred_proba2\": 0.05290122160666561}, {\"Hero\": \"Reaper\", \"Skill Tier\": \"Gold\", \"KDA\": 2.84, \"Pick Rate\": 1.59, \"Win Rate\": 47.73, \"Eliminations\": 19.47, \"Objective Kills\": 7.74, \"Objective Time\": 77, \"Damage\": 7958, \"Deaths\": 8.11, \"Role\": \"Damage\", \"Prediction\": 7.4450131282879966, \"Support\": \"Damage\", \"isSupport_bool\": false, \"isSupport\": 0, \"pred_log\": 0, \"pred_proba1\": 0.004453796891062376, \"pred_proba2\": 0.047873562922786786}, {\"Hero\": \"Reaper\", \"Skill Tier\": \"Platinum\", \"KDA\": 2.82, \"Pick Rate\": 2.34, \"Win Rate\": 48.97, \"Eliminations\": 19.97, \"Objective Kills\": 7.72, \"Objective Time\": 74, \"Damage\": 8317, \"Deaths\": 8.07, \"Role\": \"Damage\", \"Prediction\": 7.615985271748211, \"Support\": \"Damage\", \"isSupport_bool\": false, \"isSupport\": 0, \"pred_log\": 0, \"pred_proba1\": 0.0026761518222890757, \"pred_proba2\": 0.0487526358859832}, {\"Hero\": \"Reaper\", \"Skill Tier\": \"Diamond\", \"KDA\": 2.89, \"Pick Rate\": 3.16, \"Win Rate\": 49.51, \"Eliminations\": 20.25, \"Objective Kills\": 7.66, \"Objective Time\": 72, \"Damage\": 8576, \"Deaths\": 8.02, \"Role\": \"Damage\", \"Prediction\": 7.711729672085931, \"Support\": \"Damage\", \"isSupport_bool\": false, \"isSupport\": 0, \"pred_log\": 0, \"pred_proba1\": 0.0020113296996465088, \"pred_proba2\": 0.05148259908083346}, {\"Hero\": \"Reaper\", \"Skill Tier\": \"Master\", \"KDA\": 2.85, \"Pick Rate\": 3.18, \"Win Rate\": 49.5, \"Eliminations\": 20.16, \"Objective Kills\": 7.53, \"Objective Time\": 71, \"Damage\": 8650, \"Deaths\": 8.01, \"Role\": \"Damage\", \"Prediction\": 7.680954686263092, \"Support\": \"Damage\", \"isSupport_bool\": false, \"isSupport\": 0, \"pred_log\": 0, \"pred_proba1\": 0.0022047435985949266, \"pred_proba2\": 0.05790080490424791}, {\"Hero\": \"Reaper\", \"Skill Tier\": \"Grandmaster\", \"KDA\": 2.8, \"Pick Rate\": 2.53, \"Win Rate\": 49.08, \"Eliminations\": 19.37, \"Objective Kills\": 7.11, \"Objective Time\": 70, \"Damage\": 8578, \"Deaths\": 7.94, \"Role\": \"Damage\", \"Prediction\": 7.410818699595954, \"Support\": \"Damage\", \"isSupport_bool\": false, \"isSupport\": 0, \"pred_log\": 0, \"pred_proba1\": 0.004930842622803161, \"pred_proba2\": 0.08410243264523742}, {\"Hero\": \"Baptiste\", \"Skill Tier\": \"Bronze\", \"KDA\": 3.88, \"Pick Rate\": 1.6, \"Win Rate\": 42.36, \"Eliminations\": 9.23, \"Objective Kills\": 4.33, \"Objective Time\": 66, \"Damage\": 3148, \"Deaths\": 7.01, \"Role\": \"Support\", \"Prediction\": 3.9435036302228115, \"Support\": \"Support\", \"isSupport_bool\": true, \"isSupport\": 1, \"pred_log\": 1, \"pred_proba1\": 0.9936884640902628, \"pred_proba2\": 0.5670306438654489}, {\"Hero\": \"Baptiste\", \"Skill Tier\": \"Silver\", \"KDA\": 4.08, \"Pick Rate\": 1.3, \"Win Rate\": 42.84, \"Eliminations\": 10.04, \"Objective Kills\": 4.77, \"Objective Time\": 69, \"Damage\": 3344, \"Deaths\": 6.88, \"Role\": \"Support\", \"Prediction\": 4.220478502628358, \"Support\": \"Support\", \"isSupport_bool\": true, \"isSupport\": 1, \"pred_log\": 0, \"pred_proba1\": 0.9856699624016997, \"pred_proba2\": 0.4623505526953555}, {\"Hero\": \"Baptiste\", \"Skill Tier\": \"Gold\", \"KDA\": 4.33, \"Pick Rate\": 1.79, \"Win Rate\": 46.63, \"Eliminations\": 10.32, \"Objective Kills\": 4.78, \"Objective Time\": 65, \"Damage\": 3398, \"Deaths\": 6.64, \"Role\": \"Support\", \"Prediction\": 4.316222902966079, \"Support\": \"Support\", \"isSupport_bool\": true, \"isSupport\": 1, \"pred_log\": 0, \"pred_proba1\": 0.9810108078820832, \"pred_proba2\": 0.4599750346343987}, {\"Hero\": \"Baptiste\", \"Skill Tier\": \"Platinum\", \"KDA\": 4.52, \"Pick Rate\": 2.49, \"Win Rate\": 47.17, \"Eliminations\": 10.78, \"Objective Kills\": 4.75, \"Objective Time\": 61, \"Damage\": 3585, \"Deaths\": 6.39, \"Role\": \"Support\", \"Prediction\": 4.473517274949475, \"Support\": \"Support\", \"isSupport_bool\": true, \"isSupport\": 1, \"pred_log\": 0, \"pred_proba1\": 0.9699518485596799, \"pred_proba2\": 0.46710661371220796}, {\"Hero\": \"Baptiste\", \"Skill Tier\": \"Diamond\", \"KDA\": 4.7, \"Pick Rate\": 4.25, \"Win Rate\": 49.71, \"Eliminations\": 11.23, \"Objective Kills\": 4.75, \"Objective Time\": 58, \"Damage\": 3769, \"Deaths\": 6.2, \"Role\": \"Support\", \"Prediction\": 4.627392204063668, \"Support\": \"Support\", \"isSupport_bool\": true, \"isSupport\": 1, \"pred_log\": 0, \"pred_proba1\": 0.9532204608130606, \"pred_proba2\": 0.46710661371220796}, {\"Hero\": \"Baptiste\", \"Skill Tier\": \"Master\", \"KDA\": 4.72, \"Pick Rate\": 4.66, \"Win Rate\": 49.75, \"Eliminations\": 11.49, \"Objective Kills\": 4.65, \"Objective Time\": 54, \"Damage\": 3932, \"Deaths\": 6.15, \"Role\": \"Support\", \"Prediction\": 4.716297718662979, \"Support\": \"Support\", \"isSupport_bool\": true, \"isSupport\": 1, \"pred_log\": 0, \"pred_proba1\": 0.9398340381461231, \"pred_proba2\": 0.490959441777987}, {\"Hero\": \"Baptiste\", \"Skill Tier\": \"Grandmaster\", \"KDA\": 4.84, \"Pick Rate\": 7.61, \"Win Rate\": 53.08, \"Eliminations\": 11.74, \"Objective Kills\": 4.46, \"Objective Time\": 52, \"Damage\": 4231, \"Deaths\": 6.01, \"Role\": \"Support\", \"Prediction\": 4.8017837903930864, \"Support\": \"Support\", \"isSupport_bool\": true, \"isSupport\": 1, \"pred_log\": 1, \"pred_proba1\": 0.9236507617113157, \"pred_proba2\": 0.5363033567464632}, {\"Hero\": \"Orisa\", \"Skill Tier\": \"Bronze\", \"KDA\": 3.19, \"Pick Rate\": 1.31, \"Win Rate\": 37.88, \"Eliminations\": 15.49, \"Objective Kills\": 7.81, \"Objective Time\": 130, \"Damage\": 8149, \"Deaths\": 7.57, \"Role\": \"Tank\", \"Prediction\": 6.084074866344692, \"Support\": \"Tank\", \"isSupport_bool\": false, \"isSupport\": 0, \"pred_log\": 0, \"pred_proba1\": 0.20739624282140892, \"pred_proba2\": 0.04491395951153843}, {\"Hero\": \"Orisa\", \"Skill Tier\": \"Silver\", \"KDA\": 3.58, \"Pick Rate\": 1.54, \"Win Rate\": 41.51, \"Eliminations\": 16.9, \"Objective Kills\": 8.24, \"Objective Time\": 133, \"Damage\": 8744, \"Deaths\": 7.31, \"Role\": \"Tank\", \"Prediction\": 6.566216310902496, \"Support\": \"Tank\", \"isSupport_bool\": false, \"isSupport\": 0, \"pred_log\": 0, \"pred_proba1\": 0.058295505209873734, \"pred_proba2\": 0.03023297061717848}, {\"Hero\": \"Orisa\", \"Skill Tier\": \"Gold\", \"KDA\": 3.66, \"Pick Rate\": 1.73, \"Win Rate\": 43.92, \"Eliminations\": 17.57, \"Objective Kills\": 8.17, \"Objective Time\": 129, \"Damage\": 9154, \"Deaths\": 7.15, \"Role\": \"Tank\", \"Prediction\": 6.795318983139183, \"Support\": \"Tank\", \"isSupport_bool\": false, \"isSupport\": 0, \"pred_log\": 0, \"pred_proba1\": 0.03026231488614323, \"pred_proba2\": 0.03225784475477838}, {\"Hero\": \"Orisa\", \"Skill Tier\": \"Platinum\", \"KDA\": 3.79, \"Pick Rate\": 2.24, \"Win Rate\": 44.59, \"Eliminations\": 18.26, \"Objective Kills\": 8.17, \"Objective Time\": 125, \"Damage\": 9497, \"Deaths\": 7.01, \"Role\": \"Tank\", \"Prediction\": 7.031260541114279, \"Support\": \"Tank\", \"isSupport_bool\": false, \"isSupport\": 0, \"pred_log\": 0, \"pred_proba1\": 0.015179333211580652, \"pred_proba2\": 0.03225784475477838}, {\"Hero\": \"Orisa\", \"Skill Tier\": \"Diamond\", \"KDA\": 3.92, \"Pick Rate\": 2.75, \"Win Rate\": 44.05, \"Eliminations\": 18.52, \"Objective Kills\": 7.99, \"Objective Time\": 121, \"Damage\": 9694, \"Deaths\": 6.92, \"Role\": \"Tank\", \"Prediction\": 7.12016605571359, \"Support\": \"Tank\", \"isSupport_bool\": false, \"isSupport\": 0, \"pred_log\": 0, \"pred_proba1\": 0.011677692312826527, \"pred_proba2\": 0.03808415680728329}, {\"Hero\": \"Orisa\", \"Skill Tier\": \"Master\", \"KDA\": 3.83, \"Pick Rate\": 2.72, \"Win Rate\": 43.59, \"Eliminations\": 18.36, \"Objective Kills\": 7.79, \"Objective Time\": 119, \"Damage\": 9586, \"Deaths\": 6.91, \"Role\": \"Tank\", \"Prediction\": 7.065454969806321, \"Support\": \"Tank\", \"isSupport_bool\": false, \"isSupport\": 0, \"pred_log\": 0, \"pred_proba1\": 0.013724449054572596, \"pred_proba2\": 0.04574129790468997}, {\"Hero\": \"Orisa\", \"Skill Tier\": \"Grandmaster\", \"KDA\": 3.83, \"Pick Rate\": 2.58, \"Win Rate\": 43.89, \"Eliminations\": 17.89, \"Objective Kills\": 7.53, \"Objective Time\": 117, \"Damage\": 9299, \"Deaths\": 6.86, \"Role\": \"Tank\", \"Prediction\": 6.9047411549537205, \"Support\": \"Tank\", \"isSupport_bool\": false, \"isSupport\": 0, \"pred_log\": 0, \"pred_proba1\": 0.022004340477686003, \"pred_proba2\": 0.05790080490424791}, {\"Hero\": \"Pharah\", \"Skill Tier\": \"Bronze\", \"KDA\": 2.85, \"Pick Rate\": 0.94, \"Win Rate\": 45.59, \"Eliminations\": 17.93, \"Objective Kills\": 6.54, \"Objective Time\": 42, \"Damage\": 8056, \"Deaths\": 8.24, \"Role\": \"Damage\", \"Prediction\": 6.918418926430538, \"Support\": \"Damage\", \"isSupport_bool\": false, \"isSupport\": 0, \"pred_log\": 0, \"pred_proba1\": 0.02114130903385141, \"pred_proba2\": 0.1367013256329639}, {\"Hero\": \"Pharah\", \"Skill Tier\": \"Silver\", \"KDA\": 3.11, \"Pick Rate\": 1.07, \"Win Rate\": 49.07, \"Eliminations\": 19.49, \"Objective Kills\": 6.77, \"Objective Time\": 42, \"Damage\": 8495, \"Deaths\": 8.33, \"Role\": \"Damage\", \"Prediction\": 7.4518520140264055, \"Support\": \"Damage\", \"isSupport_bool\": false, \"isSupport\": 0, \"pred_log\": 0, \"pred_proba1\": 0.0043640506149055505, \"pred_proba2\": 0.11276169253846884}, {\"Hero\": \"Pharah\", \"Skill Tier\": \"Gold\", \"KDA\": 3.13, \"Pick Rate\": 1.2, \"Win Rate\": 49.56, \"Eliminations\": 20.24, \"Objective Kills\": 6.76, \"Objective Time\": 41, \"Damage\": 8771, \"Deaths\": 8.32, \"Role\": \"Damage\", \"Prediction\": 7.7083102292167265, \"Support\": \"Damage\", \"isSupport_bool\": false, \"isSupport\": 0, \"pred_log\": 0, \"pred_proba1\": 0.002031955439034128, \"pred_proba2\": 0.11372166017896539}, {\"Hero\": \"Pharah\", \"Skill Tier\": \"Platinum\", \"KDA\": 3.12, \"Pick Rate\": 1.65, \"Win Rate\": 50.63, \"Eliminations\": 20.91, \"Objective Kills\": 6.62, \"Objective Time\": 39, \"Damage\": 9121, \"Deaths\": 8.45, \"Role\": \"Damage\", \"Prediction\": 7.937412901453414, \"Support\": \"Damage\", \"isSupport_bool\": false, \"isSupport\": 0, \"pred_log\": 0, \"pred_proba1\": 0.0010253672694694792, \"pred_proba2\": 0.12792397968403443}, {\"Hero\": \"Pharah\", \"Skill Tier\": \"Diamond\", \"KDA\": 3.08, \"Pick Rate\": 2.35, \"Win Rate\": 51.0, \"Eliminations\": 21.42, \"Objective Kills\": 6.47, \"Objective Time\": 38, \"Damage\": 9433, \"Deaths\": 8.56, \"Role\": \"Damage\", \"Prediction\": 8.111804487782834, \"Support\": \"Damage\", \"isSupport_bool\": false, \"isSupport\": 0, \"pred_log\": 0, \"pred_proba1\": 0.0006090123314854952, \"pred_proba2\": 0.14479231947442842}, {\"Hero\": \"Pharah\", \"Skill Tier\": \"Master\", \"KDA\": 3.01, \"Pick Rate\": 3.14, \"Win Rate\": 52.68, \"Eliminations\": 21.35, \"Objective Kills\": 6.13, \"Objective Time\": 35, \"Damage\": 9577, \"Deaths\": 8.56, \"Role\": \"Damage\", \"Prediction\": 8.087868387698403, \"Support\": \"Damage\", \"isSupport_bool\": false, \"isSupport\": 0, \"pred_log\": 0, \"pred_proba1\": 0.0006541625650436342, \"pred_proba2\": 0.18984589769803403}, {\"Hero\": \"Pharah\", \"Skill Tier\": \"Grandmaster\", \"KDA\": 3.0, \"Pick Rate\": 3.03, \"Win Rate\": 53.11, \"Eliminations\": 21.08, \"Objective Kills\": 5.87, \"Objective Time\": 32, \"Damage\": 9720, \"Deaths\": 8.47, \"Role\": \"Damage\", \"Prediction\": 7.995543430229886, \"Support\": \"Damage\", \"isSupport_bool\": false, \"isSupport\": 0, \"pred_log\": 0, \"pred_proba1\": 0.0008619307725566668, \"pred_proba2\": 0.23103826910408365}, {\"Hero\": \"Sigma\", \"Skill Tier\": \"Bronze\", \"KDA\": 4.06, \"Pick Rate\": 1.26, \"Win Rate\": 44.52, \"Eliminations\": 16.21, \"Objective Kills\": 8.55, \"Objective Time\": 138, \"Damage\": 8706, \"Deaths\": 5.56, \"Role\": \"Tank\", \"Prediction\": 6.3302747529274015, \"Support\": \"Tank\", \"isSupport_bool\": false, \"isSupport\": 0, \"pred_log\": 0, \"pred_proba1\": 0.11137581340764625, \"pred_proba2\": 0.022654635497295822}, {\"Hero\": \"Sigma\", \"Skill Tier\": \"Silver\", \"KDA\": 4.6, \"Pick Rate\": 1.35, \"Win Rate\": 46.84, \"Eliminations\": 17.59, \"Objective Kills\": 8.9, \"Objective Time\": 138, \"Damage\": 9286, \"Deaths\": 5.41, \"Role\": \"Tank\", \"Prediction\": 6.802157868877591, \"Support\": \"Tank\", \"isSupport_bool\": false, \"isSupport\": 0, \"pred_log\": 0, \"pred_proba1\": 0.02966801184183561, \"pred_proba2\": 0.01631746089855829}, {\"Hero\": \"Sigma\", \"Skill Tier\": \"Gold\", \"KDA\": 4.88, \"Pick Rate\": 1.52, \"Win Rate\": 48.93, \"Eliminations\": 18.4, \"Objective Kills\": 8.88, \"Objective Time\": 135, \"Damage\": 9669, \"Deaths\": 5.21, \"Role\": \"Tank\", \"Prediction\": 7.079132741283138, \"Support\": \"Tank\", \"isSupport_bool\": false, \"isSupport\": 0, \"pred_log\": 0, \"pred_proba1\": 0.013181785896328506, \"pred_proba2\": 0.016627207446699984}, {\"Hero\": \"Sigma\", \"Skill Tier\": \"Platinum\", \"KDA\": 5.01, \"Pick Rate\": 2.12, \"Win Rate\": 50.52, \"Eliminations\": 18.88, \"Objective Kills\": 8.64, \"Objective Time\": 131, \"Damage\": 10066, \"Deaths\": 5.08, \"Role\": \"Tank\", \"Prediction\": 7.243265999004944, \"Support\": \"Tank\", \"isSupport_bool\": false, \"isSupport\": 0, \"pred_log\": 0, \"pred_proba1\": 0.008111205689807536, \"pred_proba2\": 0.020825870459094346}, {\"Hero\": \"Sigma\", \"Skill Tier\": \"Diamond\", \"KDA\": 5.09, \"Pick Rate\": 3.09, \"Win Rate\": 50.86, \"Eliminations\": 19.16, \"Objective Kills\": 8.3, \"Objective Time\": 126, \"Damage\": 10337, \"Deaths\": 5.04, \"Role\": \"Tank\", \"Prediction\": 7.339010399342665, \"Support\": \"Tank\", \"isSupport_bool\": false, \"isSupport\": 0, \"pred_log\": 0, \"pred_proba1\": 0.006104446474467651, \"pred_proba2\": 0.02859583882211902}, {\"Hero\": \"Sigma\", \"Skill Tier\": \"Master\", \"KDA\": 4.91, \"Pick Rate\": 3.91, \"Win Rate\": 51.89, \"Eliminations\": 18.95, \"Objective Kills\": 7.79, \"Objective Time\": 123, \"Damage\": 10391, \"Deaths\": 5.03, \"Role\": \"Tank\", \"Prediction\": 7.267202099089374, \"Support\": \"Tank\", \"isSupport_bool\": false, \"isSupport\": 0, \"pred_log\": 0, \"pred_proba1\": 0.007555262220600301, \"pred_proba2\": 0.04574129790468997}, {\"Hero\": \"Sigma\", \"Skill Tier\": \"Grandmaster\", \"KDA\": 4.66, \"Pick Rate\": 5.83, \"Win Rate\": 53.24, \"Eliminations\": 18.22, \"Objective Kills\": 7.01, \"Objective Time\": 118, \"Damage\": 10365, \"Deaths\": 4.98, \"Role\": \"Tank\", \"Prediction\": 7.017582769637461, \"Support\": \"Tank\", \"isSupport_bool\": false, \"isSupport\": 0, \"pred_log\": 0, \"pred_proba1\": 0.015802913798945092, \"pred_proba2\": 0.09176506931283036}, {\"Hero\": \"Doomfist\", \"Skill Tier\": \"Bronze\", \"KDA\": 3.16, \"Pick Rate\": 0.28, \"Win Rate\": 42.13, \"Eliminations\": 15.51, \"Objective Kills\": 5.84, \"Objective Time\": 95, \"Damage\": 6846, \"Deaths\": 8.29, \"Role\": \"Tank\", \"Prediction\": 6.090913752083101, \"Support\": \"Tank\", \"isSupport_bool\": false, \"isSupport\": 0, \"pred_log\": 0, \"pred_proba1\": 0.20405529847722784, \"pred_proba2\": 0.23617267530084526}, {\"Hero\": \"Doomfist\", \"Skill Tier\": \"Silver\", \"KDA\": 3.35, \"Pick Rate\": 0.45, \"Win Rate\": 48.14, \"Eliminations\": 16.78, \"Objective Kills\": 6.33, \"Objective Time\": 101, \"Damage\": 7290, \"Deaths\": 7.93, \"Role\": \"Tank\", \"Prediction\": 6.525182996472045, \"Support\": \"Tank\", \"isSupport_bool\": false, \"isSupport\": 0, \"pred_log\": 0, \"pred_proba1\": 0.0654066322722026, \"pred_proba2\": 0.16216495820240795}, {\"Hero\": \"Doomfist\", \"Skill Tier\": \"Gold\", \"KDA\": 3.26, \"Pick Rate\": 0.69, \"Win Rate\": 48.06, \"Eliminations\": 17.31, \"Objective Kills\": 6.19, \"Objective Time\": 97, \"Damage\": 7620, \"Deaths\": 8.05, \"Role\": \"Tank\", \"Prediction\": 6.706413468539871, \"Support\": \"Tank\", \"isSupport_bool\": false, \"isSupport\": 0, \"pred_log\": 0, \"pred_proba1\": 0.03911613049271633, \"pred_proba2\": 0.1811804242553368}, {\"Hero\": \"Doomfist\", \"Skill Tier\": \"Platinum\", \"KDA\": 3.38, \"Pick Rate\": 1.35, \"Win Rate\": 50.42, \"Eliminations\": 18.16, \"Objective Kills\": 6.12, \"Objective Time\": 93, \"Damage\": 7995, \"Deaths\": 7.75, \"Role\": \"Tank\", \"Prediction\": 6.997066112422236, \"Support\": \"Tank\", \"isSupport_bool\": false, \"isSupport\": 0, \"pred_log\": 0, \"pred_proba1\": 0.016785820040556104, \"pred_proba2\": 0.1913205935984613}, {\"Hero\": \"Doomfist\", \"Skill Tier\": \"Diamond\", \"KDA\": 3.39, \"Pick Rate\": 2.84, \"Win Rate\": 51.5, \"Eliminations\": 18.69, \"Objective Kills\": 6.0, \"Objective Time\": 88, \"Damage\": 8249, \"Deaths\": 7.71, \"Role\": \"Tank\", \"Prediction\": 7.178296584490063, \"Support\": \"Tank\", \"isSupport_bool\": false, \"isSupport\": 0, \"pred_log\": 0, \"pred_proba1\": 0.009833061165938697, \"pred_proba2\": 0.20969997713121669}, {\"Hero\": \"Doomfist\", \"Skill Tier\": \"Master\", \"KDA\": 3.4, \"Pick Rate\": 3.54, \"Win Rate\": 51.01, \"Eliminations\": 18.9, \"Objective Kills\": 5.79, \"Objective Time\": 84, \"Damage\": 8309, \"Deaths\": 7.61, \"Role\": \"Tank\", \"Prediction\": 7.250104884743353, \"Support\": \"Tank\", \"isSupport_bool\": false, \"isSupport\": 0, \"pred_log\": 0, \"pred_proba1\": 0.007948349166475983, \"pred_proba2\": 0.24490379636916634}, {\"Hero\": \"Doomfist\", \"Skill Tier\": \"Grandmaster\", \"KDA\": 3.43, \"Pick Rate\": 6.89, \"Win Rate\": 51.89, \"Eliminations\": 18.78, \"Objective Kills\": 5.63, \"Objective Time\": 82, \"Damage\": 8354, \"Deaths\": 7.53, \"Role\": \"Tank\", \"Prediction\": 7.209071570312902, \"Support\": \"Tank\", \"isSupport_bool\": false, \"isSupport\": 0, \"pred_log\": 0, \"pred_proba1\": 0.008976463891993549, \"pred_proba2\": 0.2742782820835899}, {\"Hero\": \"Brigitte\", \"Skill Tier\": \"Bronze\", \"KDA\": 3.85, \"Pick Rate\": 0.7, \"Win Rate\": 46.01, \"Eliminations\": 11.28, \"Objective Kills\": 4.93, \"Objective Time\": 93, \"Damage\": 3383, \"Deaths\": 8.39, \"Role\": \"Support\", \"Prediction\": 4.644489418409689, \"Support\": \"Support\", \"isSupport_bool\": true, \"isSupport\": 1, \"pred_log\": 0, \"pred_proba1\": 0.9508875941552233, \"pred_proba2\": 0.4246191129782008}, {\"Hero\": \"Brigitte\", \"Skill Tier\": \"Silver\", \"KDA\": 4.3, \"Pick Rate\": 0.69, \"Win Rate\": 49.47, \"Eliminations\": 12.17, \"Objective Kills\": 5.12, \"Objective Time\": 93, \"Damage\": 3563, \"Deaths\": 8.15, \"Role\": \"Support\", \"Prediction\": 4.94881983376887, \"Support\": \"Support\", \"isSupport_bool\": true, \"isSupport\": 1, \"pred_log\": 0, \"pred_proba1\": 0.8862924767049651, \"pred_proba2\": 0.38096005887412154}, {\"Hero\": \"Brigitte\", \"Skill Tier\": \"Gold\", \"KDA\": 4.53, \"Pick Rate\": 0.87, \"Win Rate\": 51.35, \"Eliminations\": 12.52, \"Objective Kills\": 5.23, \"Objective Time\": 91, \"Damage\": 3737, \"Deaths\": 8.03, \"Role\": \"Support\", \"Prediction\": 5.06850033419102, \"Support\": \"Support\", \"isSupport_bool\": true, \"isSupport\": 1, \"pred_log\": 0, \"pred_proba1\": 0.8449598074918617, \"pred_proba2\": 0.3564896958500838}, {\"Hero\": \"Brigitte\", \"Skill Tier\": \"Platinum\", \"KDA\": 4.63, \"Pick Rate\": 1.26, \"Win Rate\": 52.1, \"Eliminations\": 12.48, \"Objective Kills\": 5.09, \"Objective Time\": 88, \"Damage\": 3750, \"Deaths\": 7.71, \"Role\": \"Support\", \"Prediction\": 5.054822562714204, \"Support\": \"Support\", \"isSupport_bool\": true, \"isSupport\": 1, \"pred_log\": 0, \"pred_proba1\": 0.8502416437441414, \"pred_proba2\": 0.3877461869958365}, {\"Hero\": \"Brigitte\", \"Skill Tier\": \"Diamond\", \"KDA\": 4.75, \"Pick Rate\": 1.99, \"Win Rate\": 52.77, \"Eliminations\": 12.36, \"Objective Kills\": 5.03, \"Objective Time\": 86, \"Damage\": 3788, \"Deaths\": 7.36, \"Role\": \"Support\", \"Prediction\": 5.013789248283752, \"Support\": \"Support\", \"isSupport_bool\": true, \"isSupport\": 1, \"pred_log\": 0, \"pred_proba1\": 0.8652009011372109, \"pred_proba2\": 0.40144753037688485}, {\"Hero\": \"Brigitte\", \"Skill Tier\": \"Master\", \"KDA\": 4.9, \"Pick Rate\": 2.85, \"Win Rate\": 53.47, \"Eliminations\": 11.75, \"Objective Kills\": 4.67, \"Objective Time\": 83, \"Damage\": 3701, \"Deaths\": 7.05, \"Role\": \"Support\", \"Prediction\": 4.805203233262291, \"Support\": \"Support\", \"isSupport_bool\": true, \"isSupport\": 1, \"pred_log\": 0, \"pred_proba1\": 0.9229266900700073, \"pred_proba2\": 0.48618209187932987}, {\"Hero\": \"Brigitte\", \"Skill Tier\": \"Grandmaster\", \"KDA\": 4.93, \"Pick Rate\": 5.39, \"Win Rate\": 53.59, \"Eliminations\": 10.82, \"Objective Kills\": 4.33, \"Objective Time\": 84, \"Damage\": 3588, \"Deaths\": 6.49, \"Role\": \"Support\", \"Prediction\": 4.487195046426292, \"Support\": \"Support\", \"isSupport_bool\": true, \"isSupport\": 1, \"pred_log\": 1, \"pred_proba1\": 0.9687368342582316, \"pred_proba2\": 0.5670306438654489}, {\"Hero\": \"Mei\", \"Skill Tier\": \"Bronze\", \"KDA\": 3.64, \"Pick Rate\": 0.97, \"Win Rate\": 45.73, \"Eliminations\": 16.62, \"Objective Kills\": 7.77, \"Objective Time\": 100, \"Damage\": 6368, \"Deaths\": 7.52, \"Role\": \"Damage\", \"Prediction\": 6.470471910564777, \"Support\": \"Damage\", \"isSupport_bool\": false, \"isSupport\": 0, \"pred_log\": 0, \"pred_proba1\": 0.07614495756651815, \"pred_proba2\": 0.046583132987371774}, {\"Hero\": \"Mei\", \"Skill Tier\": \"Silver\", \"KDA\": 3.88, \"Pick Rate\": 1.14, \"Win Rate\": 48.21, \"Eliminations\": 17.3, \"Objective Kills\": 8.01, \"Objective Time\": 100, \"Damage\": 6620, \"Deaths\": 7.4, \"Role\": \"Damage\", \"Prediction\": 6.702994025670668, \"Support\": \"Damage\", \"isSupport_bool\": false, \"isSupport\": 0, \"pred_log\": 0, \"pred_proba1\": 0.03950219678657228, \"pred_proba2\": 0.03738988910645702}, {\"Hero\": \"Mei\", \"Skill Tier\": \"Gold\", \"KDA\": 3.96, \"Pick Rate\": 1.3, \"Win Rate\": 49.98, \"Eliminations\": 17.89, \"Objective Kills\": 8.02, \"Objective Time\": 95, \"Damage\": 6849, \"Deaths\": 7.3, \"Role\": \"Damage\", \"Prediction\": 6.9047411549537205, \"Support\": \"Damage\", \"isSupport_bool\": false, \"isSupport\": 0, \"pred_log\": 0, \"pred_proba1\": 0.022004340477686003, \"pred_proba2\": 0.0370473325884846}, {\"Hero\": \"Mei\", \"Skill Tier\": \"Platinum\", \"KDA\": 3.92, \"Pick Rate\": 1.75, \"Win Rate\": 50.77, \"Eliminations\": 18.09, \"Objective Kills\": 7.78, \"Objective Time\": 91, \"Damage\": 7062, \"Deaths\": 7.2, \"Role\": \"Damage\", \"Prediction\": 6.973130012337806, \"Support\": \"Damage\", \"isSupport_bool\": false, \"isSupport\": 0, \"pred_log\": 0, \"pred_proba1\": 0.0180086563597555, \"pred_proba2\": 0.04616038926655789}, {\"Hero\": \"Mei\", \"Skill Tier\": \"Diamond\", \"KDA\": 3.83, \"Pick Rate\": 2.52, \"Win Rate\": 51.11, \"Eliminations\": 18.01, \"Objective Kills\": 7.52, \"Objective Time\": 87, \"Damage\": 7172, \"Deaths\": 7.18, \"Role\": \"Damage\", \"Prediction\": 6.9457744693841725, \"Support\": \"Damage\", \"isSupport_bool\": false, \"isSupport\": 0, \"pred_log\": 0, \"pred_proba1\": 0.019513465114043477, \"pred_proba2\": 0.05842448326747623}, {\"Hero\": \"Mei\", \"Skill Tier\": \"Master\", \"KDA\": 3.76, \"Pick Rate\": 3.35, \"Win Rate\": 52.77, \"Eliminations\": 17.75, \"Objective Kills\": 7.12, \"Objective Time\": 81, \"Damage\": 7215, \"Deaths\": 7.1, \"Role\": \"Damage\", \"Prediction\": 6.8568689547848605, \"Support\": \"Damage\", \"isSupport_bool\": false, \"isSupport\": 0, \"pred_log\": 0, \"pred_proba1\": 0.025304560979984077, \"pred_proba2\": 0.08336897299121253}, {\"Hero\": \"Mei\", \"Skill Tier\": \"Grandmaster\", \"KDA\": 3.57, \"Pick Rate\": 3.33, \"Win Rate\": 52.48, \"Eliminations\": 17.07, \"Objective Kills\": 6.64, \"Objective Time\": 77, \"Damage\": 7114, \"Deaths\": 6.97, \"Role\": \"Damage\", \"Prediction\": 6.624346839678969, \"Support\": \"Damage\", \"isSupport_bool\": false, \"isSupport\": 0, \"pred_log\": 0, \"pred_proba1\": 0.049455518682237236, \"pred_proba2\": 0.12580614572295934}, {\"Hero\": \"Winston\", \"Skill Tier\": \"Bronze\", \"KDA\": 3.27, \"Pick Rate\": 0.38, \"Win Rate\": 35.95, \"Eliminations\": 17.12, \"Objective Kills\": 6.86, \"Objective Time\": 120, \"Damage\": 6766, \"Deaths\": 7.89, \"Role\": \"Tank\", \"Prediction\": 6.641444054024991, \"Support\": \"Tank\", \"isSupport_bool\": false, \"isSupport\": 0, \"pred_log\": 0, \"pred_proba1\": 0.04710716138204037, \"pred_proba2\": 0.10443641127409492}, {\"Hero\": \"Winston\", \"Skill Tier\": \"Silver\", \"KDA\": 3.5, \"Pick Rate\": 0.5, \"Win Rate\": 38.65, \"Eliminations\": 18.35, \"Objective Kills\": 7.13, \"Objective Time\": 120, \"Damage\": 7217, \"Deaths\": 7.61, \"Role\": \"Tank\", \"Prediction\": 7.062035526937118, \"Support\": \"Tank\", \"isSupport_bool\": false, \"isSupport\": 0, \"pred_log\": 0, \"pred_proba1\": 0.013863521652625612, \"pred_proba2\": 0.08264133270177643}, {\"Hero\": \"Winston\", \"Skill Tier\": \"Gold\", \"KDA\": 3.87, \"Pick Rate\": 0.71, \"Win Rate\": 41.52, \"Eliminations\": 19.33, \"Objective Kills\": 7.11, \"Objective Time\": 117, \"Damage\": 7561, \"Deaths\": 7.24, \"Role\": \"Tank\", \"Prediction\": 7.3971409281191365, \"Support\": \"Tank\", \"isSupport_bool\": false, \"isSupport\": 0, \"pred_log\": 0, \"pred_proba1\": 0.005135601551403876, \"pred_proba2\": 0.08410243264523742}, {\"Hero\": \"Winston\", \"Skill Tier\": \"Platinum\", \"KDA\": 3.97, \"Pick Rate\": 1.2, \"Win Rate\": 42.53, \"Eliminations\": 19.88, \"Objective Kills\": 6.83, \"Objective Time\": 111, \"Damage\": 7869, \"Deaths\": 7.07, \"Role\": \"Tank\", \"Prediction\": 7.585210285925372, \"Support\": \"Tank\", \"isSupport_bool\": false, \"isSupport\": 0, \"pred_log\": 0, \"pred_proba1\": 0.0029333085759071934, \"pred_proba2\": 0.10714936174057944}, {\"Hero\": \"Winston\", \"Skill Tier\": \"Diamond\", \"KDA\": 4.02, \"Pick Rate\": 2.13, \"Win Rate\": 43.47, \"Eliminations\": 20.11, \"Objective Kills\": 6.52, \"Objective Time\": 105, \"Damage\": 8112, \"Deaths\": 6.91, \"Role\": \"Tank\", \"Prediction\": 7.663857471917071, \"Support\": \"Tank\", \"isSupport_bool\": false, \"isSupport\": 0, \"pred_log\": 0, \"pred_proba1\": 0.002320103295653288, \"pred_proba2\": 0.13897341282924006}, {\"Hero\": \"Winston\", \"Skill Tier\": \"Master\", \"KDA\": 3.97, \"Pick Rate\": 2.96, \"Win Rate\": 45.99, \"Eliminations\": 20.02, \"Objective Kills\": 6.17, \"Objective Time\": 99, \"Damage\": 8207, \"Deaths\": 6.81, \"Role\": \"Tank\", \"Prediction\": 7.633082486094232, \"Support\": \"Tank\", \"isSupport_bool\": false, \"isSupport\": 0, \"pred_log\": 0, \"pred_proba1\": 0.002543133880641183, \"pred_proba2\": 0.18403419405740148}, {\"Hero\": \"Winston\", \"Skill Tier\": \"Grandmaster\", \"KDA\": 3.98, \"Pick Rate\": 4.84, \"Win Rate\": 49.07, \"Eliminations\": 19.47, \"Objective Kills\": 5.68, \"Objective Time\": 93, \"Damage\": 8238, \"Deaths\": 6.54, \"Role\": \"Tank\", \"Prediction\": 7.4450131282879966, \"Support\": \"Tank\", \"isSupport_bool\": false, \"isSupport\": 0, \"pred_log\": 0, \"pred_proba1\": 0.004453796891062376, \"pred_proba2\": 0.264867266682937}, {\"Hero\": \"Bastion\", \"Skill Tier\": \"Bronze\", \"KDA\": 2.56, \"Pick Rate\": 1.42, \"Win Rate\": 41.57, \"Eliminations\": 17.63, \"Objective Kills\": 7.92, \"Objective Time\": 67, \"Damage\": 9344, \"Deaths\": 8.61, \"Role\": \"Damage\", \"Prediction\": 6.8158356403544085, \"Support\": \"Damage\", \"isSupport_bool\": false, \"isSupport\": 0, \"pred_log\": 0, \"pred_proba1\": 0.0285131670390087, \"pred_proba2\": 0.040612847993182766}, {\"Hero\": \"Bastion\", \"Skill Tier\": \"Silver\", \"KDA\": 2.77, \"Pick Rate\": 1.42, \"Win Rate\": 44.03, \"Eliminations\": 18.52, \"Objective Kills\": 8.29, \"Objective Time\": 70, \"Damage\": 9758, \"Deaths\": 8.4, \"Role\": \"Damage\", \"Prediction\": 7.12016605571359, \"Support\": \"Damage\", \"isSupport_bool\": false, \"isSupport\": 0, \"pred_log\": 0, \"pred_proba1\": 0.011677692312826527, \"pred_proba2\": 0.02886259125955715}, {\"Hero\": \"Bastion\", \"Skill Tier\": \"Gold\", \"KDA\": 2.91, \"Pick Rate\": 1.52, \"Win Rate\": 45.96, \"Eliminations\": 19.31, \"Objective Kills\": 8.47, \"Objective Time\": 70, \"Damage\": 10133, \"Deaths\": 8.17, \"Role\": \"Damage\", \"Prediction\": 7.390302042380728, \"Support\": \"Damage\", \"isSupport_bool\": false, \"isSupport\": 0, \"pred_log\": 0, \"pred_proba1\": 0.005241131172624052, \"pred_proba2\": 0.024411240224135548}, {\"Hero\": \"Bastion\", \"Skill Tier\": \"Platinum\", \"KDA\": 3.03, \"Pick Rate\": 1.87, \"Win Rate\": 47.12, \"Eliminations\": 19.71, \"Objective Kills\": 8.42, \"Objective Time\": 68, \"Damage\": 10482, \"Deaths\": 7.98, \"Role\": \"Damage\", \"Prediction\": 7.5270797571489005, \"Support\": \"Damage\", \"isSupport_bool\": false, \"isSupport\": 0, \"pred_log\": 0, \"pred_proba1\": 0.0034881417521252975, \"pred_proba2\": 0.02557583801807491}, {\"Hero\": \"Bastion\", \"Skill Tier\": \"Diamond\", \"KDA\": 3.09, \"Pick Rate\": 2.79, \"Win Rate\": 47.95, \"Eliminations\": 19.96, \"Objective Kills\": 8.19, \"Objective Time\": 64, \"Damage\": 10766, \"Deaths\": 7.86, \"Role\": \"Damage\", \"Prediction\": 7.612565828879007, \"Support\": \"Damage\", \"isSupport_bool\": false, \"isSupport\": 0, \"pred_log\": 0, \"pred_proba1\": 0.002703576695838081, \"pred_proba2\": 0.031666293207704595}, {\"Hero\": \"Bastion\", \"Skill Tier\": \"Master\", \"KDA\": 3.06, \"Pick Rate\": 3.84, \"Win Rate\": 50.59, \"Eliminations\": 19.73, \"Objective Kills\": 7.84, \"Objective Time\": 61, \"Damage\": 10761, \"Deaths\": 7.87, \"Role\": \"Damage\", \"Prediction\": 7.533918642887309, \"Support\": \"Damage\", \"isSupport_bool\": false, \"isSupport\": 0, \"pred_log\": 0, \"pred_proba1\": 0.0034177871165912556, \"pred_proba2\": 0.04369964409537882}, {\"Hero\": \"Bastion\", \"Skill Tier\": \"Grandmaster\", \"KDA\": 2.96, \"Pick Rate\": 2.98, \"Win Rate\": 49.28, \"Eliminations\": 19.14, \"Objective Kills\": 7.29, \"Objective Time\": 57, \"Damage\": 10658, \"Deaths\": 7.87, \"Role\": \"Damage\", \"Prediction\": 7.332171513604256, \"Support\": \"Damage\", \"isSupport_bool\": false, \"isSupport\": 0, \"pred_log\": 0, \"pred_proba1\": 0.006229759874991997, \"pred_proba2\": 0.07176121516109613}, {\"Hero\": \"Sombra\", \"Skill Tier\": \"Bronze\", \"KDA\": 3.91, \"Pick Rate\": 0.54, \"Win Rate\": 38.01, \"Eliminations\": 13.85, \"Objective Kills\": 5.31, \"Objective Time\": 47, \"Damage\": 4585, \"Deaths\": 6.68, \"Role\": \"Damage\", \"Prediction\": 5.52328623579519, \"Support\": \"Damage\", \"isSupport_bool\": false, \"isSupport\": 0, \"pred_log\": 0, \"pred_proba1\": 0.583198168347124, \"pred_proba2\": 0.33914407231903937}, {\"Hero\": \"Sombra\", \"Skill Tier\": \"Silver\", \"KDA\": 4.5, \"Pick Rate\": 0.46, \"Win Rate\": 40.36, \"Eliminations\": 15.5, \"Objective Kills\": 5.86, \"Objective Time\": 47, \"Damage\": 4972, \"Deaths\": 6.34, \"Role\": \"Damage\", \"Prediction\": 6.087494309213897, \"Support\": \"Damage\", \"isSupport_bool\": false, \"isSupport\": 0, \"pred_log\": 0, \"pred_proba1\": 0.2057207451074078, \"pred_proba2\": 0.23274101865863744}, {\"Hero\": \"Sombra\", \"Skill Tier\": \"Gold\", \"KDA\": 4.71, \"Pick Rate\": 0.79, \"Win Rate\": 44.14, \"Eliminations\": 15.88, \"Objective Kills\": 5.83, \"Objective Time\": 45, \"Damage\": 5287, \"Deaths\": 6.21, \"Role\": \"Damage\", \"Prediction\": 6.21743313824366, \"Support\": \"Damage\", \"isSupport_bool\": false, \"isSupport\": 0, \"pred_log\": 0, \"pred_proba1\": 0.14938942905008484, \"pred_proba2\": 0.23790155826543302}, {\"Hero\": \"Sombra\", \"Skill Tier\": \"Platinum\", \"KDA\": 4.7, \"Pick Rate\": 0.94, \"Win Rate\": 43.9, \"Eliminations\": 16.2, \"Objective Kills\": 5.85, \"Objective Time\": 43, \"Damage\": 5538, \"Deaths\": 6.18, \"Role\": \"Damage\", \"Prediction\": 6.326855310058196, \"Support\": \"Damage\", \"isSupport_bool\": false, \"isSupport\": 0, \"pred_log\": 0, \"pred_proba1\": 0.11239164541923767, \"pred_proba2\": 0.23445249125830692}, {\"Hero\": \"Sombra\", \"Skill Tier\": \"Diamond\", \"KDA\": 5.03, \"Pick Rate\": 1.65, \"Win Rate\": 44.37, \"Eliminations\": 16.63, \"Objective Kills\": 5.88, \"Objective Time\": 42, \"Damage\": 5848, \"Deaths\": 5.98, \"Role\": \"Damage\", \"Prediction\": 6.473891353433981, \"Support\": \"Damage\", \"isSupport_bool\": false, \"isSupport\": 0, \"pred_log\": 0, \"pred_proba1\": 0.0754288946200764, \"pred_proba2\": 0.22934425328581726}, {\"Hero\": \"Sombra\", \"Skill Tier\": \"Master\", \"KDA\": 4.94, \"Pick Rate\": 2.54, \"Win Rate\": 46.63, \"Eliminations\": 16.64, \"Objective Kills\": 5.78, \"Objective Time\": 40, \"Damage\": 6073, \"Deaths\": 5.89, \"Role\": \"Damage\", \"Prediction\": 6.477310796303185, \"Support\": \"Damage\", \"isSupport_bool\": false, \"isSupport\": 0, \"pred_log\": 0, \"pred_proba1\": 0.07471902087602363, \"pred_proba2\": 0.24667595347379767}, {\"Hero\": \"Sombra\", \"Skill Tier\": \"Grandmaster\", \"KDA\": 5.39, \"Pick Rate\": 3.26, \"Win Rate\": 48.01, \"Eliminations\": 16.5, \"Objective Kills\": 5.6, \"Objective Time\": 40, \"Damage\": 6302, \"Deaths\": 5.56, \"Role\": \"Damage\", \"Prediction\": 6.429438596134325, \"Support\": \"Damage\", \"isSupport_bool\": false, \"isSupport\": 0, \"pred_log\": 0, \"pred_proba1\": 0.08523635656223924, \"pred_proba2\": 0.2800236882942943}, {\"Hero\": \"Wrecking Ball\", \"Skill Tier\": \"Bronze\", \"KDA\": 4.22, \"Pick Rate\": 0.31, \"Win Rate\": 41.43, \"Eliminations\": 14.89, \"Objective Kills\": 7.07, \"Objective Time\": 127, \"Damage\": 6816, \"Deaths\": 6.24, \"Role\": \"Tank\", \"Prediction\": 5.878908294192436, \"Support\": \"Tank\", \"isSupport_bool\": false, \"isSupport\": 0, \"pred_log\": 0, \"pred_proba1\": 0.3257877392790327, \"pred_proba2\": 0.08709518895154376}, {\"Hero\": \"Wrecking Ball\", \"Skill Tier\": \"Silver\", \"KDA\": 4.5, \"Pick Rate\": 0.39, \"Win Rate\": 45.51, \"Eliminations\": 15.99, \"Objective Kills\": 7.48, \"Objective Time\": 130, \"Damage\": 7336, \"Deaths\": 6.13, \"Role\": \"Tank\", \"Prediction\": 6.2550470098049065, \"Support\": \"Tank\", \"isSupport_bool\": false, \"isSupport\": 0, \"pred_log\": 0, \"pred_proba1\": 0.13565544078397054, \"pred_proba2\": 0.06056391984545625}, {\"Hero\": \"Wrecking Ball\", \"Skill Tier\": \"Gold\", \"KDA\": 4.96, \"Pick Rate\": 0.53, \"Win Rate\": 47.76, \"Eliminations\": 17.11, \"Objective Kills\": 7.63, \"Objective Time\": 128, \"Damage\": 7659, \"Deaths\": 5.89, \"Role\": \"Tank\", \"Prediction\": 6.638024611155786, \"Support\": \"Tank\", \"isSupport_bool\": false, \"isSupport\": 0, \"pred_log\": 0, \"pred_proba1\": 0.04756819272313793, \"pred_proba2\": 0.05290122160666561}, {\"Hero\": \"Wrecking Ball\", \"Skill Tier\": \"Platinum\", \"KDA\": 4.99, \"Pick Rate\": 1.08, \"Win Rate\": 48.5, \"Eliminations\": 17.49, \"Objective Kills\": 7.47, \"Objective Time\": 123, \"Damage\": 7822, \"Deaths\": 5.86, \"Role\": \"Tank\", \"Prediction\": 6.767963440185548, \"Support\": \"Tank\", \"isSupport_bool\": false, \"isSupport\": 0, \"pred_log\": 0, \"pred_proba1\": 0.032756887533429, \"pred_proba2\": 0.06111012212109173}, {\"Hero\": \"Wrecking Ball\", \"Skill Tier\": \"Diamond\", \"KDA\": 5.05, \"Pick Rate\": 2.44, \"Win Rate\": 50.85, \"Eliminations\": 18.08, \"Objective Kills\": 7.33, \"Objective Time\": 118, \"Damage\": 7976, \"Deaths\": 5.79, \"Role\": \"Tank\", \"Prediction\": 6.969710569468601, \"Support\": \"Tank\", \"isSupport_bool\": false, \"isSupport\": 0, \"pred_log\": 0, \"pred_proba1\": 0.018190341009348788, \"pred_proba2\": 0.06925539097334404}, {\"Hero\": \"Wrecking Ball\", \"Skill Tier\": \"Master\", \"KDA\": 5.04, \"Pick Rate\": 3.88, \"Win Rate\": 52.08, \"Eliminations\": 18.29, \"Objective Kills\": 7.01, \"Objective Time\": 110, \"Damage\": 7987, \"Deaths\": 5.64, \"Role\": \"Tank\", \"Prediction\": 7.041518869721892, \"Support\": \"Tank\", \"isSupport_bool\": false, \"isSupport\": 0, \"pred_log\": 0, \"pred_proba1\": 0.01472760705360714, \"pred_proba2\": 0.09176506931283036}, {\"Hero\": \"Wrecking Ball\", \"Skill Tier\": \"Grandmaster\", \"KDA\": 4.99, \"Pick Rate\": 7.33, \"Win Rate\": 51.81, \"Eliminations\": 18.0, \"Objective Kills\": 6.48, \"Objective Time\": 102, \"Damage\": 7902, \"Deaths\": 5.39, \"Role\": \"Tank\", \"Prediction\": 6.942355026514967, \"Support\": \"Tank\", \"isSupport_bool\": false, \"isSupport\": 0, \"pred_log\": 0, \"pred_proba1\": 0.01971002666995382, \"pred_proba2\": 0.14361257235383096}, {\"Hero\": \"Sojourn\", \"Skill Tier\": \"Bronze\", \"KDA\": 2.45, \"Pick Rate\": 0.94, \"Win Rate\": 37.05, \"Eliminations\": 15.46, \"Objective Kills\": 7.03, \"Objective Time\": 64, \"Damage\": 7418, \"Deaths\": 8.34, \"Role\": \"Damage\", \"Prediction\": 6.07381653773708, \"Support\": \"Damage\", \"isSupport_bool\": false, \"isSupport\": 0, \"pred_log\": 0, \"pred_proba1\": 0.21248306648772033, \"pred_proba2\": 0.09018395530653978}, {\"Hero\": \"Sojourn\", \"Skill Tier\": \"Silver\", \"KDA\": 2.71, \"Pick Rate\": 0.77, \"Win Rate\": 38.98, \"Eliminations\": 16.74, \"Objective Kills\": 7.19, \"Objective Time\": 63, \"Damage\": 7857, \"Deaths\": 8.21, \"Role\": \"Damage\", \"Prediction\": 6.511505224995227, \"Support\": \"Damage\", \"isSupport_bool\": false, \"isSupport\": 0, \"pred_log\": 0, \"pred_proba1\": 0.06795122478877236, \"pred_proba2\": 0.07839567793773247}, {\"Hero\": \"Sojourn\", \"Skill Tier\": \"Gold\", \"KDA\": 2.85, \"Pick Rate\": 0.9, \"Win Rate\": 40.72, \"Eliminations\": 17.51, \"Objective Kills\": 7.25, \"Objective Time\": 61, \"Damage\": 8177, \"Deaths\": 8.09, \"Role\": \"Damage\", \"Prediction\": 6.774802325923958, \"Support\": \"Damage\", \"isSupport_bool\": false, \"isSupport\": 0, \"pred_log\": 0, \"pred_proba1\": 0.032115217508970326, \"pred_proba2\": 0.07435046330265623}, {\"Hero\": \"Sojourn\", \"Skill Tier\": \"Platinum\", \"KDA\": 2.92, \"Pick Rate\": 1.4, \"Win Rate\": 42.41, \"Eliminations\": 18.18, \"Objective Kills\": 7.18, \"Objective Time\": 57, \"Damage\": 8469, \"Deaths\": 7.98, \"Role\": \"Damage\", \"Prediction\": 7.003904998160644, \"Support\": \"Damage\", \"isSupport_bool\": false, \"isSupport\": 0, \"pred_log\": 0, \"pred_proba1\": 0.016451683691924374, \"pred_proba2\": 0.07908915895544395}, {\"Hero\": \"Sojourn\", \"Skill Tier\": \"Diamond\", \"KDA\": 2.97, \"Pick Rate\": 2.33, \"Win Rate\": 44.13, \"Eliminations\": 18.72, \"Objective Kills\": 7.02, \"Objective Time\": 54, \"Damage\": 8709, \"Deaths\": 7.96, \"Role\": \"Damage\", \"Prediction\": 7.188554913097676, \"Support\": \"Damage\", \"isSupport_bool\": false, \"isSupport\": 0, \"pred_log\": 0, \"pred_proba1\": 0.009538895218594738, \"pred_proba2\": 0.0909714210828324}, {\"Hero\": \"Sojourn\", \"Skill Tier\": \"Master\", \"KDA\": 2.91, \"Pick Rate\": 3.72, \"Win Rate\": 44.81, \"Eliminations\": 18.94, \"Objective Kills\": 6.83, \"Objective Time\": 52, \"Damage\": 8797, \"Deaths\": 7.94, \"Role\": \"Damage\", \"Prediction\": 7.263782656220171, \"Support\": \"Damage\", \"isSupport_bool\": false, \"isSupport\": 0, \"pred_log\": 0, \"pred_proba1\": 0.007632304972029971, \"pred_proba2\": 0.10714936174057944}, {\"Hero\": \"Sojourn\", \"Skill Tier\": \"Grandmaster\", \"KDA\": 2.99, \"Pick Rate\": 5.61, \"Win Rate\": 47.84, \"Eliminations\": 19.58, \"Objective Kills\": 6.57, \"Objective Time\": 49, \"Damage\": 9192, \"Deaths\": 7.64, \"Role\": \"Damage\", \"Prediction\": 7.482626999849243, \"Support\": \"Damage\", \"isSupport_bool\": false, \"isSupport\": 0, \"pred_log\": 0, \"pred_proba1\": 0.003981964760204013, \"pred_proba2\": 0.1333518920743928}, {\"Hero\": \"Symmetra\", \"Skill Tier\": \"Bronze\", \"KDA\": 3.4, \"Pick Rate\": 0.81, \"Win Rate\": 50.12, \"Eliminations\": 17.72, \"Objective Kills\": 8.61, \"Objective Time\": 69, \"Damage\": 7450, \"Deaths\": 7.97, \"Role\": \"Damage\", \"Prediction\": 6.846610626177247, \"Support\": \"Damage\", \"isSupport_bool\": false, \"isSupport\": 0, \"pred_log\": 0, \"pred_proba1\": 0.026072119511316546, \"pred_proba2\": 0.021418810988789554}, {\"Hero\": \"Symmetra\", \"Skill Tier\": \"Silver\", \"KDA\": 3.43, \"Pick Rate\": 0.76, \"Win Rate\": 52.07, \"Eliminations\": 18.49, \"Objective Kills\": 8.88, \"Objective Time\": 69, \"Damage\": 7853, \"Deaths\": 8.05, \"Role\": \"Damage\", \"Prediction\": 7.109907727105977, \"Support\": \"Damage\", \"isSupport_bool\": false, \"isSupport\": 0, \"pred_log\": 0, \"pred_proba1\": 0.012037014140396058, \"pred_proba2\": 0.016627207446699984}, {\"Hero\": \"Symmetra\", \"Skill Tier\": \"Gold\", \"KDA\": 3.62, \"Pick Rate\": 1.02, \"Win Rate\": 53.25, \"Eliminations\": 19.33, \"Objective Kills\": 8.79, \"Objective Time\": 66, \"Damage\": 8242, \"Deaths\": 7.91, \"Role\": \"Damage\", \"Prediction\": 7.3971409281191365, \"Support\": \"Damage\", \"isSupport_bool\": false, \"isSupport\": 0, \"pred_log\": 0, \"pred_proba1\": 0.005135601551403876, \"pred_proba2\": 0.0180940918086847}, {\"Hero\": \"Symmetra\", \"Skill Tier\": \"Platinum\", \"KDA\": 3.49, \"Pick Rate\": 1.34, \"Win Rate\": 53.18, \"Eliminations\": 19.3, \"Objective Kills\": 8.57, \"Objective Time\": 65, \"Damage\": 8498, \"Deaths\": 7.92, \"Role\": \"Damage\", \"Prediction\": 7.386882599511525, \"Support\": \"Damage\", \"isSupport_bool\": false, \"isSupport\": 0, \"pred_log\": 0, \"pred_proba1\": 0.005294702090122936, \"pred_proba2\": 0.022235143480832806}, {\"Hero\": \"Symmetra\", \"Skill Tier\": \"Diamond\", \"KDA\": 3.48, \"Pick Rate\": 1.83, \"Win Rate\": 53.21, \"Eliminations\": 19.3, \"Objective Kills\": 8.43, \"Objective Time\": 64, \"Damage\": 8660, \"Deaths\": 7.88, \"Role\": \"Damage\", \"Prediction\": 7.386882599511525, \"Support\": \"Damage\", \"isSupport_bool\": false, \"isSupport\": 0, \"pred_log\": 0, \"pred_proba1\": 0.005294702090122936, \"pred_proba2\": 0.02533866967126576}, {\"Hero\": \"Symmetra\", \"Skill Tier\": \"Master\", \"KDA\": 3.41, \"Pick Rate\": 2.11, \"Win Rate\": 54.22, \"Eliminations\": 18.95, \"Objective Kills\": 8.13, \"Objective Time\": 62, \"Damage\": 8609, \"Deaths\": 7.87, \"Role\": \"Damage\", \"Prediction\": 7.267202099089374, \"Support\": \"Damage\", \"isSupport_bool\": false, \"isSupport\": 0, \"pred_log\": 0, \"pred_proba1\": 0.007555262220600301, \"pred_proba2\": 0.03347315335177887}, {\"Hero\": \"Symmetra\", \"Skill Tier\": \"Grandmaster\", \"KDA\": 3.2, \"Pick Rate\": 1.84, \"Win Rate\": 53.87, \"Eliminations\": 17.86, \"Objective Kills\": 7.52, \"Objective Time\": 59, \"Damage\": 8322, \"Deaths\": 7.84, \"Role\": \"Damage\", \"Prediction\": 6.894482826346107, \"Support\": \"Damage\", \"isSupport_bool\": false, \"isSupport\": 0, \"pred_log\": 0, \"pred_proba1\": 0.022674122755379562, \"pred_proba2\": 0.05842448326747623}, {\"Hero\": \"Torbjorn\", \"Skill Tier\": \"Bronze\", \"KDA\": 2.92, \"Pick Rate\": 0.92, \"Win Rate\": 49.64, \"Eliminations\": 16.75, \"Objective Kills\": 7.7, \"Objective Time\": 55, \"Damage\": 8787, \"Deaths\": 7.11, \"Role\": \"Damage\", \"Prediction\": 6.514924667864432, \"Support\": \"Damage\", \"isSupport_bool\": false, \"isSupport\": 0, \"pred_log\": 0, \"pred_proba1\": 0.06730660159523517, \"pred_proba2\": 0.04964700903772152}, {\"Hero\": \"Torbjorn\", \"Skill Tier\": \"Silver\", \"KDA\": 3.17, \"Pick Rate\": 0.86, \"Win Rate\": 50.29, \"Eliminations\": 17.5, \"Objective Kills\": 7.78, \"Objective Time\": 52, \"Damage\": 9169, \"Deaths\": 6.97, \"Role\": \"Damage\", \"Prediction\": 6.771382883054754, \"Support\": \"Damage\", \"isSupport_bool\": false, \"isSupport\": 0, \"pred_log\": 0, \"pred_proba1\": 0.0324345189349594, \"pred_proba2\": 0.04616038926655789}, {\"Hero\": \"Torbjorn\", \"Skill Tier\": \"Gold\", \"KDA\": 3.1, \"Pick Rate\": 0.83, \"Win Rate\": 52.57, \"Eliminations\": 17.9, \"Objective Kills\": 7.76, \"Objective Time\": 51, \"Damage\": 9431, \"Deaths\": 6.79, \"Role\": \"Damage\", \"Prediction\": 6.908160597822924, \"Support\": \"Damage\", \"isSupport_bool\": false, \"isSupport\": 0, \"pred_log\": 0, \"pred_proba1\": 0.021785406973130875, \"pred_proba2\": 0.04700955745054764}, {\"Hero\": \"Torbjorn\", \"Skill Tier\": \"Platinum\", \"KDA\": 3.2, \"Pick Rate\": 1.2, \"Win Rate\": 53.08, \"Eliminations\": 18.06, \"Objective Kills\": 7.59, \"Objective Time\": 49, \"Damage\": 9618, \"Deaths\": 6.81, \"Role\": \"Damage\", \"Prediction\": 6.962871683730193, \"Support\": \"Damage\", \"isSupport_bool\": false, \"isSupport\": 0, \"pred_log\": 0, \"pred_proba1\": 0.0185591234388282, \"pred_proba2\": 0.054850184881607436}, {\"Hero\": \"Torbjorn\", \"Skill Tier\": \"Diamond\", \"KDA\": 3.06, \"Pick Rate\": 1.9, \"Win Rate\": 52.8, \"Eliminations\": 17.96, \"Objective Kills\": 7.22, \"Objective Time\": 48, \"Damage\": 9728, \"Deaths\": 6.85, \"Role\": \"Damage\", \"Prediction\": 6.928677255038151, \"Support\": \"Damage\", \"isSupport_bool\": false, \"isSupport\": 0, \"pred_log\": 0, \"pred_proba1\": 0.020515854829509312, \"pred_proba2\": 0.07634849756505684}, {\"Hero\": \"Torbjorn\", \"Skill Tier\": \"Master\", \"KDA\": 3.05, \"Pick Rate\": 2.54, \"Win Rate\": 53.31, \"Eliminations\": 17.53, \"Objective Kills\": 6.92, \"Objective Time\": 48, \"Damage\": 9674, \"Deaths\": 6.77, \"Role\": \"Damage\", \"Prediction\": 6.781641211662366, \"Support\": \"Damage\", \"isSupport_bool\": false, \"isSupport\": 0, \"pred_log\": 0, \"pred_proba1\": 0.03148570790242141, \"pred_proba2\": 0.09919211789706074}, {\"Hero\": \"Torbjorn\", \"Skill Tier\": \"Grandmaster\", \"KDA\": 2.71, \"Pick Rate\": 3.45, \"Win Rate\": 51.87, \"Eliminations\": 16.6, \"Objective Kills\": 6.39, \"Objective Time\": 50, \"Damage\": 9458, \"Deaths\": 6.96, \"Role\": \"Damage\", \"Prediction\": 6.463633024826368, \"Support\": \"Damage\", \"isSupport_bool\": false, \"isSupport\": 0, \"pred_log\": 0, \"pred_proba1\": 0.07759582471509237, \"pred_proba2\": 0.1545219875164728}, {\"Hero\": \"Ramattra\", \"Skill Tier\": \"Bronze\", \"KDA\": 3.52, \"Pick Rate\": 1.15, \"Win Rate\": 42.94, \"Eliminations\": 17.7, \"Objective Kills\": 8.24, \"Objective Time\": 128, \"Damage\": 8624, \"Deaths\": 7.07, \"Role\": \"Tank\", \"Prediction\": 6.839771740438839, \"Support\": \"Tank\", \"isSupport_bool\": false, \"isSupport\": 0, \"pred_log\": 0, \"pred_proba1\": 0.026596364804729537, \"pred_proba2\": 0.03023297061717848}, {\"Hero\": \"Ramattra\", \"Skill Tier\": \"Silver\", \"KDA\": 3.82, \"Pick Rate\": 1.39, \"Win Rate\": 47.18, \"Eliminations\": 19.19, \"Objective Kills\": 8.71, \"Objective Time\": 131, \"Damage\": 9242, \"Deaths\": 6.8, \"Role\": \"Tank\", \"Prediction\": 7.349268727950277, \"Support\": \"Tank\", \"isSupport_bool\": false, \"isSupport\": 0, \"pred_log\": 0, \"pred_proba1\": 0.005921158761905371, \"pred_proba2\": 0.019504136038653835}, {\"Hero\": \"Ramattra\", \"Skill Tier\": \"Gold\", \"KDA\": 3.91, \"Pick Rate\": 1.68, \"Win Rate\": 50.1, \"Eliminations\": 19.68, \"Objective Kills\": 8.6, \"Objective Time\": 128, \"Damage\": 9615, \"Deaths\": 6.65, \"Role\": \"Tank\", \"Prediction\": 7.516821428541287, \"Support\": \"Tank\", \"isSupport_bool\": false, \"isSupport\": 0, \"pred_log\": 0, \"pred_proba1\": 0.0035963886143681673, \"pred_proba2\": 0.021620103561660747}, {\"Hero\": \"Ramattra\", \"Skill Tier\": \"Platinum\", \"KDA\": 3.99, \"Pick Rate\": 2.39, \"Win Rate\": 50.25, \"Eliminations\": 20.03, \"Objective Kills\": 8.43, \"Objective Time\": 124, \"Damage\": 9929, \"Deaths\": 6.54, \"Role\": \"Tank\", \"Prediction\": 7.636501928963438, \"Support\": \"Tank\", \"isSupport_bool\": false, \"isSupport\": 0, \"pred_log\": 0, \"pred_proba1\": 0.0025173324185245936, \"pred_proba2\": 0.02533866967126576}, {\"Hero\": \"Ramattra\", \"Skill Tier\": \"Diamond\", \"KDA\": 4.03, \"Pick Rate\": 3.29, \"Win Rate\": 51.05, \"Eliminations\": 20.09, \"Objective Kills\": 8.14, \"Objective Time\": 119, \"Damage\": 10106, \"Deaths\": 6.54, \"Role\": \"Tank\", \"Prediction\": 7.657018586178663, \"Support\": \"Tank\", \"isSupport_bool\": false, \"isSupport\": 0, \"pred_log\": 0, \"pred_proba1\": 0.002367915962366419, \"pred_proba2\": 0.03316524462431394}, {\"Hero\": \"Ramattra\", \"Skill Tier\": \"Master\", \"KDA\": 3.79, \"Pick Rate\": 3.86, \"Win Rate\": 50.99, \"Eliminations\": 19.71, \"Objective Kills\": 7.69, \"Objective Time\": 113, \"Damage\": 10050, \"Deaths\": 6.56, \"Role\": \"Tank\", \"Prediction\": 7.5270797571489005, \"Support\": \"Tank\", \"isSupport_bool\": false, \"isSupport\": 0, \"pred_log\": 0, \"pred_proba1\": 0.0034881417521252975, \"pred_proba2\": 0.05010000658088791}, {\"Hero\": \"Ramattra\", \"Skill Tier\": \"Grandmaster\", \"KDA\": 3.77, \"Pick Rate\": 5.09, \"Win Rate\": 50.92, \"Eliminations\": 18.88, \"Objective Kills\": 7.08, \"Objective Time\": 109, \"Damage\": 9894, \"Deaths\": 6.5, \"Role\": \"Tank\", \"Prediction\": 7.243265999004944, \"Support\": \"Tank\", \"isSupport_bool\": false, \"isSupport\": 0, \"pred_log\": 0, \"pred_proba1\": 0.008111205689807536, \"pred_proba2\": 0.08633808972330428}, {\"Hero\": \"Junker Queen\", \"Skill Tier\": \"Bronze\", \"KDA\": 4.1, \"Pick Rate\": 0.49, \"Win Rate\": 40.98, \"Eliminations\": 16.77, \"Objective Kills\": 7.76, \"Objective Time\": 130, \"Damage\": 7609, \"Deaths\": 7.03, \"Role\": \"Tank\", \"Prediction\": 6.521763553602841, \"Support\": \"Tank\", \"isSupport_bool\": false, \"isSupport\": 0, \"pred_log\": 0, \"pred_proba1\": 0.06603434699899856, \"pred_proba2\": 0.04700955745054764}, {\"Hero\": \"Junker Queen\", \"Skill Tier\": \"Silver\", \"KDA\": 4.37, \"Pick Rate\": 0.43, \"Win Rate\": 43.47, \"Eliminations\": 18.21, \"Objective Kills\": 8.11, \"Objective Time\": 135, \"Damage\": 8272, \"Deaths\": 6.74, \"Role\": \"Tank\", \"Prediction\": 7.014163326768258, \"Support\": \"Tank\", \"isSupport_bool\": false, \"isSupport\": 0, \"pred_log\": 0, \"pred_proba1\": 0.015962707020684225, \"pred_proba2\": 0.03409726994186175}, {\"Hero\": \"Junker Queen\", \"Skill Tier\": \"Gold\", \"KDA\": 4.76, \"Pick Rate\": 0.59, \"Win Rate\": 46.97, \"Eliminations\": 19.33, \"Objective Kills\": 8.22, \"Objective Time\": 128, \"Damage\": 8828, \"Deaths\": 6.62, \"Role\": \"Tank\", \"Prediction\": 7.3971409281191365, \"Support\": \"Tank\", \"isSupport_bool\": false, \"isSupport\": 0, \"pred_log\": 0, \"pred_proba1\": 0.005135601551403876, \"pred_proba2\": 0.03079859817682378}, {\"Hero\": \"Junker Queen\", \"Skill Tier\": \"Platinum\", \"KDA\": 4.76, \"Pick Rate\": 0.88, \"Win Rate\": 49.24, \"Eliminations\": 19.97, \"Objective Kills\": 8.12, \"Objective Time\": 120, \"Damage\": 9300, \"Deaths\": 6.6, \"Role\": \"Tank\", \"Prediction\": 7.615985271748211, \"Support\": \"Tank\", \"isSupport_bool\": false, \"isSupport\": 0, \"pred_log\": 0, \"pred_proba1\": 0.0026761518222890757, \"pred_proba2\": 0.03378382083905764}, {\"Hero\": \"Junker Queen\", \"Skill Tier\": \"Diamond\", \"KDA\": 4.82, \"Pick Rate\": 1.5, \"Win Rate\": 50.64, \"Eliminations\": 20.44, \"Objective Kills\": 7.95, \"Objective Time\": 113, \"Damage\": 9631, \"Deaths\": 6.57, \"Role\": \"Tank\", \"Prediction\": 7.7766990866008125, \"Support\": \"Tank\", \"isSupport_bool\": false, \"isSupport\": 0, \"pred_log\": 0, \"pred_proba1\": 0.0016568363546655004, \"pred_proba2\": 0.03951000893869008}, {\"Hero\": \"Junker Queen\", \"Skill Tier\": \"Master\", \"KDA\": 4.78, \"Pick Rate\": 1.89, \"Win Rate\": 50.34, \"Eliminations\": 20.66, \"Objective Kills\": 7.68, \"Objective Time\": 106, \"Damage\": 9760, \"Deaths\": 6.56, \"Role\": \"Tank\", \"Prediction\": 7.851926829723307, \"Support\": \"Tank\", \"isSupport_bool\": false, \"isSupport\": 0, \"pred_log\": 0, \"pred_proba1\": 0.0013235702954843482, \"pred_proba2\": 0.05055691755568817}, {\"Hero\": \"Junker Queen\", \"Skill Tier\": \"Grandmaster\", \"KDA\": 4.73, \"Pick Rate\": 2.55, \"Win Rate\": 51.87, \"Eliminations\": 20.37, \"Objective Kills\": 7.39, \"Objective Time\": 101, \"Damage\": 9682, \"Deaths\": 6.46, \"Role\": \"Tank\", \"Prediction\": 7.752762986516383, \"Support\": \"Tank\", \"isSupport_bool\": false, \"isSupport\": 0, \"pred_log\": 0, \"pred_proba1\": 0.001779530599942102, \"pred_proba2\": 0.06564821886023622}, {\"Hero\": \"Echo\", \"Skill Tier\": \"Bronze\", \"KDA\": 2.23, \"Pick Rate\": 0.46, \"Win Rate\": 40.7, \"Eliminations\": 15.66, \"Objective Kills\": 6.37, \"Objective Time\": 64, \"Damage\": 7102, \"Deaths\": 8.36, \"Role\": \"Damage\", \"Prediction\": 6.142205395121166, \"Support\": \"Damage\", \"isSupport_bool\": false, \"isSupport\": 0, \"pred_log\": 0, \"pred_proba1\": 0.1802747696975605, \"pred_proba2\": 0.15703639012574025}, {\"Hero\": \"Echo\", \"Skill Tier\": \"Silver\", \"KDA\": 2.41, \"Pick Rate\": 0.53, \"Win Rate\": 43.02, \"Eliminations\": 16.96, \"Objective Kills\": 6.54, \"Objective Time\": 63, \"Damage\": 7458, \"Deaths\": 8.47, \"Role\": \"Damage\", \"Prediction\": 6.5867329681177225, \"Support\": \"Damage\", \"isSupport_bool\": false, \"isSupport\": 0, \"pred_log\": 0, \"pred_proba1\": 0.05501797977195825, \"pred_proba2\": 0.1367013256329639}, {\"Hero\": \"Echo\", \"Skill Tier\": \"Gold\", \"KDA\": 2.61, \"Pick Rate\": 0.62, \"Win Rate\": 46.33, \"Eliminations\": 17.62, \"Objective Kills\": 6.52, \"Objective Time\": 62, \"Damage\": 7874, \"Deaths\": 8.28, \"Role\": \"Damage\", \"Prediction\": 6.812416197485205, \"Support\": \"Damage\", \"isSupport_bool\": false, \"isSupport\": 0, \"pred_log\": 0, \"pred_proba1\": 0.02879772109176545, \"pred_proba2\": 0.13897341282924006}, {\"Hero\": \"Echo\", \"Skill Tier\": \"Platinum\", \"KDA\": 2.67, \"Pick Rate\": 0.86, \"Win Rate\": 45.16, \"Eliminations\": 18.34, \"Objective Kills\": 6.44, \"Objective Time\": 60, \"Damage\": 8249, \"Deaths\": 8.24, \"Role\": \"Damage\", \"Prediction\": 7.058616084067913, \"Support\": \"Damage\", \"isSupport_bool\": false, \"isSupport\": 0, \"pred_log\": 0, \"pred_proba1\": 0.014003983491495292, \"pred_proba2\": 0.14837990725282318}, {\"Hero\": \"Echo\", \"Skill Tier\": \"Diamond\", \"KDA\": 2.73, \"Pick Rate\": 1.57, \"Win Rate\": 47.7, \"Eliminations\": 18.85, \"Objective Kills\": 6.22, \"Objective Time\": 57, \"Damage\": 8639, \"Deaths\": 8.15, \"Role\": \"Damage\", \"Prediction\": 7.233007670397332, \"Support\": \"Damage\", \"isSupport_bool\": false, \"isSupport\": 0, \"pred_log\": 0, \"pred_proba1\": 0.008361715419213819, \"pred_proba2\": 0.17696456938766858}, {\"Hero\": \"Echo\", \"Skill Tier\": \"Master\", \"KDA\": 2.74, \"Pick Rate\": 2.05, \"Win Rate\": 50.15, \"Eliminations\": 19.17, \"Objective Kills\": 5.98, \"Objective Time\": 53, \"Damage\": 8929, \"Deaths\": 8.11, \"Role\": \"Damage\", \"Prediction\": 7.342429842211869, \"Support\": \"Damage\", \"isSupport_bool\": false, \"isSupport\": 0, \"pred_log\": 0, \"pred_proba1\": 0.0060427324683815535, \"pred_proba2\": 0.21288616686795359}, {\"Hero\": \"Echo\", \"Skill Tier\": \"Grandmaster\", \"KDA\": 2.9, \"Pick Rate\": 3.32, \"Win Rate\": 50.45, \"Eliminations\": 19.25, \"Objective Kills\": 5.51, \"Objective Time\": 49, \"Damage\": 9419, \"Deaths\": 7.7, \"Role\": \"Damage\", \"Prediction\": 7.369785385165502, \"Support\": \"Damage\", \"isSupport_bool\": false, \"isSupport\": 0, \"pred_log\": 0, \"pred_proba1\": 0.005570836276415861, \"pred_proba2\": 0.2976933503060438}]}}, {\"mode\": \"vega-lite\"});\n",
       "</script>"
      ],
      "text/plain": [
       "alt.HConcatChart(...)"
      ]
     },
     "execution_count": 22,
     "metadata": {},
     "output_type": "execute_result"
    }
   ],
   "source": [
    "c9|c6+c10"
   ]
  },
  {
   "cell_type": "markdown",
   "metadata": {
    "cell_id": "87ad9088ce814d91b9887d8ed8f6e02b",
    "deepnote_cell_type": "markdown"
   },
   "source": [
    "Shows prediction of who is a support and predicts based off of objective kills (c9) and shows logistic regression curve in relation to c5 (c5+c10) Prediction curve has a binary regression as well and similarly to Eliminations follows a similar curve. The predicted probabilities curve though is lengthier than the other curve which shows that the prediction is a little bit off in comparison to Eliminations.\n"
   ]
  },
  {
   "cell_type": "markdown",
   "metadata": {
    "cell_id": "f591415490b2419eb619cb645b844dbe",
    "deepnote_cell_type": "markdown"
   },
   "source": [
    "### Train Test Split\n",
    "Now we let us see if we can classify whether or not a hero is a support based off of Eliminations and Objective Kills using this concept. We can use \"isSupport_bool\" since this is a boolean column that tells us if a hero is a support or not"
   ]
  },
  {
   "cell_type": "code",
   "execution_count": 23,
   "metadata": {
    "cell_id": "d69f87e2f3284400b62c24acf4a11b1e",
    "deepnote_cell_type": "code",
    "deepnote_to_be_reexecuted": false,
    "execution_millis": 40,
    "execution_start": 1686772060895,
    "source_hash": "81558984"
   },
   "outputs": [],
   "source": [
    "cols = [\"Eliminations\", \"Objective Kills\"]\n",
    "X_train, X_test, y_train, y_test = train_test_split(df_ow[cols], df_ow[\"isSupport_bool\"], test_size=0.2, random_state=0)"
   ]
  },
  {
   "cell_type": "code",
   "execution_count": 24,
   "metadata": {
    "cell_id": "3170c0ddde8d44df8f3afe0d5b959680",
    "deepnote_cell_type": "code",
    "deepnote_to_be_reexecuted": false,
    "execution_millis": 85,
    "execution_start": 1686772060938,
    "source_hash": "f20edc91"
   },
   "outputs": [
    {
     "data": {
      "text/plain": [
       "50"
      ]
     },
     "execution_count": 24,
     "metadata": {},
     "output_type": "execute_result"
    }
   ],
   "source": [
    "clf1=LogisticRegression()\n",
    "clf1.fit(X_train, y_train) \n",
    "(clf1.predict(X_test) == y_test).sum()"
   ]
  },
  {
   "cell_type": "markdown",
   "metadata": {
    "cell_id": "e14bbfe100eb4737b299e5227441d54c",
    "deepnote_cell_type": "markdown"
   },
   "source": [
    "We were correct 50 times"
   ]
  },
  {
   "cell_type": "code",
   "execution_count": 25,
   "metadata": {
    "cell_id": "cc4e4af67fd4410bbb9aa8b25c438ef0",
    "deepnote_cell_type": "code",
    "deepnote_to_be_reexecuted": false,
    "execution_millis": 19,
    "execution_start": 1686772061066,
    "source_hash": "6789eef3"
   },
   "outputs": [
    {
     "data": {
      "text/plain": [
       "0.9803921568627451"
      ]
     },
     "execution_count": 25,
     "metadata": {},
     "output_type": "execute_result"
    }
   ],
   "source": [
    "(clf1.predict(X_test) == y_test).sum()/len(X_test)"
   ]
  },
  {
   "cell_type": "markdown",
   "metadata": {
    "cell_id": "28bdfbc1bd774a86906cbedf0abea56f",
    "deepnote_cell_type": "markdown"
   },
   "source": [
    "The proportion from the entire dataset where we made the correct prediction"
   ]
  },
  {
   "cell_type": "code",
   "execution_count": 26,
   "metadata": {
    "cell_id": "72f5771dee4649168feda1e3e4ea99b3",
    "deepnote_cell_type": "code",
    "deepnote_to_be_reexecuted": false,
    "execution_millis": 53,
    "execution_start": 1686772061201,
    "source_hash": "eb64c6db"
   },
   "outputs": [
    {
     "data": {
      "text/plain": [
       "0.8360825461137451"
      ]
     },
     "execution_count": 26,
     "metadata": {},
     "output_type": "execute_result"
    }
   ],
   "source": [
    "clf1.coef_\n",
    "Eliminations_coef,ObjectiveKills_coef=clf1.coef_[0]\n",
    "ObjectiveKills_coef"
   ]
  },
  {
   "cell_type": "markdown",
   "metadata": {
    "cell_id": "db67579fe043402d8447cf085492155b",
    "deepnote_cell_type": "markdown"
   },
   "source": [
    "Specifying the index to retrieve correct coeficients"
   ]
  },
  {
   "cell_type": "code",
   "execution_count": 27,
   "metadata": {
    "cell_id": "eaae8c5a23944371949024a8b5f09683",
    "deepnote_cell_type": "code",
    "deepnote_to_be_reexecuted": false,
    "execution_millis": 52,
    "execution_start": 1686772061202,
    "source_hash": "383256c9"
   },
   "outputs": [
    {
     "data": {
      "text/plain": [
       "array([0.19970528])"
      ]
     },
     "execution_count": 27,
     "metadata": {},
     "output_type": "execute_result"
    }
   ],
   "source": [
    "sigmoid = lambda x: 1/(1+np.exp(-x))\n",
    "Eliminations = 14\n",
    "ObjectiveKills = 4\n",
    "sigmoid(Eliminations_coef*Eliminations+ObjectiveKills_coef*ObjectiveKills+clf1.intercept_)"
   ]
  },
  {
   "cell_type": "markdown",
   "metadata": {
    "cell_id": "eed06bd632b24bf988031fe89fd81af6",
    "deepnote_cell_type": "markdown"
   },
   "source": [
    "Model prediction when a hero has 14 eliminations and 4 objective kills. (20% this is a support hero)"
   ]
  },
  {
   "cell_type": "code",
   "execution_count": 28,
   "metadata": {
    "cell_id": "cc0829d3b2114b99a45d8ccf46e65ca6",
    "deepnote_cell_type": "code",
    "deepnote_to_be_reexecuted": false,
    "execution_millis": 63,
    "execution_start": 1686772061203,
    "source_hash": "42cfa5d2"
   },
   "outputs": [],
   "source": [
    "clf = KNeighborsClassifier()\n",
    "clf.fit(X_train, y_train)\n",
    "loss_train=log_loss(y_train, clf.predict_proba(X_train))\n",
    "loss_test=log_loss(y_test,clf.predict_proba(X_test))"
   ]
  },
  {
   "cell_type": "code",
   "execution_count": 29,
   "metadata": {
    "cell_id": "9179933bc0554f65af23004caed91176",
    "deepnote_cell_type": "code",
    "deepnote_to_be_reexecuted": false,
    "execution_millis": 9,
    "execution_start": 1686772061261,
    "source_hash": "b2f7df0"
   },
   "outputs": [
    {
     "data": {
      "text/plain": [
       "0.07970796733173745"
      ]
     },
     "execution_count": 29,
     "metadata": {},
     "output_type": "execute_result"
    }
   ],
   "source": [
    "loss_train"
   ]
  },
  {
   "cell_type": "markdown",
   "metadata": {
    "cell_id": "6e2039a9a9034f8dbaa00ee5a48a7d18",
    "deepnote_cell_type": "markdown"
   },
   "source": [
    "Shows the measure of uncertainty in relation to the train data. Since this value is pretty low this means that there is a low chance for erros which is good."
   ]
  },
  {
   "cell_type": "code",
   "execution_count": 30,
   "metadata": {
    "cell_id": "55bf6fc03e834589b7156dc6ea5c3b01",
    "deepnote_cell_type": "code",
    "deepnote_to_be_reexecuted": false,
    "execution_millis": 7,
    "execution_start": 1686772061269,
    "source_hash": "8c638700"
   },
   "outputs": [
    {
     "data": {
      "text/plain": [
       "0.11020020342756341"
      ]
     },
     "execution_count": 30,
     "metadata": {},
     "output_type": "execute_result"
    }
   ],
   "source": [
    "loss_test"
   ]
  },
  {
   "cell_type": "markdown",
   "metadata": {
    "cell_id": "53ec5a2354624a2cbdda428e4f1fc2a4",
    "deepnote_cell_type": "markdown"
   },
   "source": [
    "Shows the measure of uncertainty in relation to the test data. This value is just as low as the train data, but since the test data is smaller than the train data this makes sense since there were a less amount of points in the test data."
   ]
  },
  {
   "cell_type": "markdown",
   "metadata": {
    "cell_id": "5b2544ecfbfc4b37a97a259cfb9bd12a",
    "deepnote_cell_type": "markdown"
   },
   "source": [
    "### KNeighborsRegressor\n",
    "Now let us look in to a different aspect of the game, how many times you a hero is eliminated during the duration of a match. So let us use this concept of KNeighborsRegressor to see if there is a relationship between Eliminations and Objective Kills in relation to Deaths. This will also tell us if there is any sense of overfitting or underfitting in the data."
   ]
  },
  {
   "cell_type": "code",
   "execution_count": 31,
   "metadata": {
    "cell_id": "a79aa17de16546f6b8359fc04b37d019",
    "deepnote_cell_type": "code",
    "deepnote_to_be_reexecuted": false,
    "execution_millis": 17,
    "execution_start": 1686772061348,
    "source_hash": "f1c6ff84"
   },
   "outputs": [],
   "source": [
    "X_train1, X_test1, y_train1, y_test1 = train_test_split(df_ow[cols], df_ow[\"Deaths\"], train_size=0.25)"
   ]
  },
  {
   "cell_type": "code",
   "execution_count": 32,
   "metadata": {
    "cell_id": "ddd45ca20e974076b5ae893c0a5d8446",
    "deepnote_cell_type": "code",
    "deepnote_to_be_reexecuted": false,
    "execution_millis": 55,
    "execution_start": 1686772061380,
    "source_hash": "3c3a4d01"
   },
   "outputs": [
    {
     "data": {
      "text/plain": [
       "KNeighborsRegressor(n_neighbors=10)"
      ]
     },
     "execution_count": 32,
     "metadata": {},
     "output_type": "execute_result"
    }
   ],
   "source": [
    "reg = KNeighborsRegressor(n_neighbors=10)\n",
    "reg.fit(X_train, y_train)"
   ]
  },
  {
   "cell_type": "code",
   "execution_count": 33,
   "metadata": {
    "cell_id": "d9bcdd87498945bfb42363b3b10ea7d6",
    "deepnote_cell_type": "code",
    "deepnote_to_be_reexecuted": false,
    "execution_millis": 16,
    "execution_start": 1686772061446,
    "source_hash": "6a021837"
   },
   "outputs": [
    {
     "data": {
      "text/plain": [
       "array([0. , 1. , 1. , 0. , 0. , 0. , 0.1, 0.1, 0.1, 1. , 0. , 0. , 0. ,\n",
       "       0. , 0. , 0.4, 0.1, 1. , 0. , 0. , 0. , 0. , 0.3, 1. , 0. , 0. ,\n",
       "       1. , 0. , 0.8, 0.4, 0. , 0.1, 0. , 0. , 1. , 0.2, 0. , 1. , 0. ,\n",
       "       0.2, 0. , 1. , 0.1, 0.2, 0. , 0. , 0.2, 0. , 0.1, 0. , 0.9])"
      ]
     },
     "execution_count": 33,
     "metadata": {},
     "output_type": "execute_result"
    }
   ],
   "source": [
    "reg.predict(X_test)"
   ]
  },
  {
   "cell_type": "markdown",
   "metadata": {
    "cell_id": "f9774705b1a042b3b3beb2f8e0e95613",
    "deepnote_cell_type": "markdown"
   },
   "source": [
    "Predicts number of deaths in the test data"
   ]
  },
  {
   "cell_type": "code",
   "execution_count": 34,
   "metadata": {
    "cell_id": "ad265494bb80424ca5ee32e8e7df8b9b",
    "deepnote_cell_type": "code",
    "deepnote_to_be_reexecuted": false,
    "execution_millis": 2,
    "execution_start": 1686772061513,
    "source_hash": "251bcee5"
   },
   "outputs": [
    {
     "data": {
      "text/plain": [
       "(51, 2)"
      ]
     },
     "execution_count": 34,
     "metadata": {},
     "output_type": "execute_result"
    }
   ],
   "source": [
    "X_test.shape"
   ]
  },
  {
   "cell_type": "code",
   "execution_count": 35,
   "metadata": {
    "cell_id": "f49aab47b8794de4aaae3912a06277a9",
    "deepnote_cell_type": "code",
    "deepnote_to_be_reexecuted": false,
    "execution_millis": 54,
    "execution_start": 1686772061601,
    "source_hash": "f3019309"
   },
   "outputs": [
    {
     "data": {
      "text/plain": [
       "0.07647058823529412"
      ]
     },
     "execution_count": 35,
     "metadata": {},
     "output_type": "execute_result"
    }
   ],
   "source": [
    "mean_absolute_error(reg.predict(X_test), y_test)"
   ]
  },
  {
   "cell_type": "code",
   "execution_count": 36,
   "metadata": {
    "cell_id": "2a0da466bb2c4f4f87ff7bc0a4fc685e",
    "deepnote_cell_type": "code",
    "deepnote_to_be_reexecuted": false,
    "execution_millis": 4,
    "execution_start": 1686772061659,
    "source_hash": "abbbb7ce"
   },
   "outputs": [
    {
     "data": {
      "text/plain": [
       "0.06766169154228856"
      ]
     },
     "execution_count": 36,
     "metadata": {},
     "output_type": "execute_result"
    }
   ],
   "source": [
    "mean_absolute_error(reg.predict(X_train), y_train)"
   ]
  },
  {
   "cell_type": "code",
   "execution_count": 37,
   "metadata": {
    "cell_id": "b6a8867c614545a1840fd9f4b2d27790",
    "deepnote_cell_type": "code",
    "deepnote_to_be_reexecuted": false,
    "execution_millis": 3,
    "execution_start": 1686772061702,
    "source_hash": "57544c6c"
   },
   "outputs": [],
   "source": [
    "reg1=LinearRegression()\n",
    "reg1.fit(X_train1,y_train1)\n",
    "X_train1[\"Pred\"]=reg1.predict(X_train1)\n",
    "X_test1[\"Pred\"]=reg1.predict(X_test1)"
   ]
  },
  {
   "cell_type": "markdown",
   "metadata": {
    "cell_id": "681bb1f3207e4ef5980e211dcbfe763e",
    "deepnote_cell_type": "markdown"
   },
   "source": [
    "Let's plot a graph where the \"Pred\" line is the predicted line in relation to deaths which are separated by the two predictor columns"
   ]
  },
  {
   "cell_type": "code",
   "execution_count": 38,
   "metadata": {
    "cell_id": "f30add2438464176b7c0401bd2c4e3e4",
    "deepnote_cell_type": "code",
    "deepnote_to_be_reexecuted": false,
    "execution_millis": 70,
    "execution_start": 1686772061703,
    "source_hash": "10be5aa4"
   },
   "outputs": [
    {
     "data": {
      "text/html": [
       "\n",
       "<div id=\"altair-viz-4ea7a98483744b3ebe224ebb87aeff5e\"></div>\n",
       "<script type=\"text/javascript\">\n",
       "  var VEGA_DEBUG = (typeof VEGA_DEBUG == \"undefined\") ? {} : VEGA_DEBUG;\n",
       "  (function(spec, embedOpt){\n",
       "    let outputDiv = document.currentScript.previousElementSibling;\n",
       "    if (outputDiv.id !== \"altair-viz-4ea7a98483744b3ebe224ebb87aeff5e\") {\n",
       "      outputDiv = document.getElementById(\"altair-viz-4ea7a98483744b3ebe224ebb87aeff5e\");\n",
       "    }\n",
       "    const paths = {\n",
       "      \"vega\": \"https://cdn.jsdelivr.net/npm//vega@5?noext\",\n",
       "      \"vega-lib\": \"https://cdn.jsdelivr.net/npm//vega-lib?noext\",\n",
       "      \"vega-lite\": \"https://cdn.jsdelivr.net/npm//vega-lite@4.17.0?noext\",\n",
       "      \"vega-embed\": \"https://cdn.jsdelivr.net/npm//vega-embed@6?noext\",\n",
       "    };\n",
       "\n",
       "    function maybeLoadScript(lib, version) {\n",
       "      var key = `${lib.replace(\"-\", \"\")}_version`;\n",
       "      return (VEGA_DEBUG[key] == version) ?\n",
       "        Promise.resolve(paths[lib]) :\n",
       "        new Promise(function(resolve, reject) {\n",
       "          var s = document.createElement('script');\n",
       "          document.getElementsByTagName(\"head\")[0].appendChild(s);\n",
       "          s.async = true;\n",
       "          s.onload = () => {\n",
       "            VEGA_DEBUG[key] = version;\n",
       "            return resolve(paths[lib]);\n",
       "          };\n",
       "          s.onerror = () => reject(`Error loading script: ${paths[lib]}`);\n",
       "          s.src = paths[lib];\n",
       "        });\n",
       "    }\n",
       "\n",
       "    function showError(err) {\n",
       "      outputDiv.innerHTML = `<div class=\"error\" style=\"color:red;\">${err}</div>`;\n",
       "      throw err;\n",
       "    }\n",
       "\n",
       "    function displayChart(vegaEmbed) {\n",
       "      vegaEmbed(outputDiv, spec, embedOpt)\n",
       "        .catch(err => showError(`Javascript Error: ${err.message}<br>This usually means there's a typo in your chart specification. See the javascript console for the full traceback.`));\n",
       "    }\n",
       "\n",
       "    if(typeof define === \"function\" && define.amd) {\n",
       "      requirejs.config({paths});\n",
       "      require([\"vega-embed\"], displayChart, err => showError(`Error loading script: ${err.message}`));\n",
       "    } else {\n",
       "      maybeLoadScript(\"vega\", \"5\")\n",
       "        .then(() => maybeLoadScript(\"vega-lite\", \"4.17.0\"))\n",
       "        .then(() => maybeLoadScript(\"vega-embed\", \"6\"))\n",
       "        .catch(showError)\n",
       "        .then(() => displayChart(vegaEmbed));\n",
       "    }\n",
       "  })({\"config\": {\"view\": {\"continuousWidth\": 400, \"continuousHeight\": 300}}, \"layer\": [{\"mark\": \"line\", \"encoding\": {\"x\": {\"field\": \"Eliminations\", \"type\": \"quantitative\"}, \"y\": {\"field\": \"Pred\", \"type\": \"quantitative\"}}}, {\"mark\": {\"type\": \"line\", \"color\": \"red\"}, \"encoding\": {\"x\": {\"field\": \"Objective Kills\", \"type\": \"quantitative\"}, \"y\": {\"field\": \"Pred\", \"type\": \"quantitative\"}}}], \"data\": {\"name\": \"data-21217eeabacd13964770d52eb1bf38a9\"}, \"$schema\": \"https://vega.github.io/schema/vega-lite/v4.17.0.json\", \"datasets\": {\"data-21217eeabacd13964770d52eb1bf38a9\": [{\"Eliminations\": 19.47, \"Objective Kills\": 7.74, \"Pred\": 7.43228216315713}, {\"Eliminations\": 16.33, \"Objective Kills\": 6.28, \"Pred\": 7.2889428777396175}, {\"Eliminations\": 19.68, \"Objective Kills\": 8.6, \"Pred\": 7.239906261155245}, {\"Eliminations\": 17.93, \"Objective Kills\": 6.54, \"Pred\": 7.490188993719552}, {\"Eliminations\": 19.16, \"Objective Kills\": 8.3, \"Pred\": 7.231591181127062}, {\"Eliminations\": 16.0, \"Objective Kills\": 6.61, \"Pred\": 7.145806558531754}, {\"Eliminations\": 18.06, \"Objective Kills\": 7.59, \"Pred\": 7.2339723578163255}, {\"Eliminations\": 21.49, \"Objective Kills\": 6.47, \"Pred\": 8.109761161500865}, {\"Eliminations\": 15.34, \"Objective Kills\": 6.57, \"Pred\": 7.044976775641348}, {\"Eliminations\": 1.76, \"Objective Kills\": 0.62, \"Pred\": 6.328556036183322}, {\"Eliminations\": 15.19, \"Objective Kills\": 6.06, \"Pred\": 7.154760933288921}, {\"Eliminations\": 18.1, \"Objective Kills\": 8.39, \"Pred\": 7.028790788059619}, {\"Eliminations\": 16.83, \"Objective Kills\": 6.43, \"Pred\": 7.33361915138711}, {\"Eliminations\": 19.68, \"Objective Kills\": 8.42, \"Pred\": 7.287591566861757}, {\"Eliminations\": 16.78, \"Objective Kills\": 6.33, \"Pred\": 7.351669585050436}, {\"Eliminations\": 19.96, \"Objective Kills\": 8.19, \"Pred\": 7.395794646725712}, {\"Eliminations\": 13.22, \"Objective Kills\": 5.52, \"Pred\": 6.965225578500958}, {\"Eliminations\": 16.9, \"Objective Kills\": 8.24, \"Pred\": 6.86593487464804}, {\"Eliminations\": 18.85, \"Objective Kills\": 6.22, \"Pred\": 7.730284682792499}, {\"Eliminations\": 20.25, \"Objective Kills\": 7.66, \"Pred\": 7.5851615166685775}, {\"Eliminations\": 18.63, \"Objective Kills\": 5.25, \"Pred\": 7.950113324380304}, {\"Eliminations\": 18.21, \"Objective Kills\": 8.11, \"Pred\": 7.1215390165183905}, {\"Eliminations\": 18.35, \"Objective Kills\": 7.13, \"Pred\": 7.40479494220666}, {\"Eliminations\": 8.42, \"Objective Kills\": 3.6, \"Pred\": 6.663494166702395}, {\"Eliminations\": 10.82, \"Objective Kills\": 4.33, \"Pred\": 6.875291096559996}, {\"Eliminations\": 15.66, \"Objective Kills\": 6.37, \"Pred\": 7.151985426826451}, {\"Eliminations\": 17.3, \"Objective Kills\": 8.01, \"Pred\": 6.994397321328696}, {\"Eliminations\": 18.62, \"Objective Kills\": 9.06, \"Pred\": 6.939086073024416}, {\"Eliminations\": 18.06, \"Objective Kills\": 8.18, \"Pred\": 7.077670522444983}, {\"Eliminations\": 16.74, \"Objective Kills\": 7.19, \"Pred\": 7.117086668847091}, {\"Eliminations\": 20.02, \"Objective Kills\": 6.17, \"Pred\": 7.9410594275071364}, {\"Eliminations\": 17.75, \"Objective Kills\": 7.12, \"Pred\": 7.306147291773519}, {\"Eliminations\": 20.11, \"Objective Kills\": 6.52, \"Pred\": 7.863532524857001}, {\"Eliminations\": 19.59, \"Objective Kills\": 7.25, \"Pred\": 7.582351528841556}, {\"Eliminations\": 18.74, \"Objective Kills\": 4.98, \"Pred\": 8.040212369188714}, {\"Eliminations\": 20.31, \"Objective Kills\": 9.07, \"Pred\": 7.22175630537592}, {\"Eliminations\": 16.96, \"Objective Kills\": 6.54, \"Pred\": 7.32642577861789}, {\"Eliminations\": 16.21, \"Objective Kills\": 8.55, \"Pred\": 6.667318822290799}, {\"Eliminations\": 1.56, \"Objective Kills\": 0.53, \"Pred\": 6.31863307767541}, {\"Eliminations\": 15.85, \"Objective Kills\": 3.5, \"Pred\": 7.944378465273384}, {\"Eliminations\": 21.08, \"Objective Kills\": 5.87, \"Pred\": 8.199492677232177}, {\"Eliminations\": 18.68, \"Objective Kills\": 6.65, \"Pred\": 7.587669016169951}, {\"Eliminations\": 16.62, \"Objective Kills\": 7.77, \"Pred\": 6.943174650309409}, {\"Eliminations\": 17.0, \"Objective Kills\": 7.41, \"Pred\": 7.10269992330865}, {\"Eliminations\": 18.1, \"Objective Kills\": 6.89, \"Pred\": 7.426168335613883}, {\"Eliminations\": 17.89, \"Objective Kills\": 7.53, \"Pred\": 7.221166690061504}, {\"Eliminations\": 17.09, \"Objective Kills\": 6.21, \"Pred\": 7.435796486464587}, {\"Eliminations\": 17.9, \"Objective Kills\": 7.51, \"Pred\": 7.228153337930286}, {\"Eliminations\": 15.5, \"Objective Kills\": 5.86, \"Pred\": 7.260081303905967}, {\"Eliminations\": 12.71, \"Objective Kills\": 5.77, \"Pred\": 6.812893678270936}, {\"Eliminations\": 17.89, \"Objective Kills\": 8.02, \"Pred\": 7.091356691193779}, {\"Eliminations\": 8.06, \"Objective Kills\": 3.59, \"Pred\": 6.605365249902656}, {\"Eliminations\": 16.31, \"Objective Kills\": 5.47, \"Pred\": 7.500150192282803}, {\"Eliminations\": 17.37, \"Objective Kills\": 6.28, \"Pred\": 7.464524056817689}, {\"Eliminations\": 15.46, \"Objective Kills\": 7.03, \"Pred\": 6.943373694541408}, {\"Eliminations\": 20.16, \"Objective Kills\": 7.53, \"Pred\": 7.604406379010755}, {\"Eliminations\": 18.36, \"Objective Kills\": 7.79, \"Pred\": 7.2316371018508425}, {\"Eliminations\": 18.69, \"Objective Kills\": 6.0, \"Pred\": 7.761554234011523}, {\"Eliminations\": 16.4, \"Objective Kills\": 6.4, \"Pred\": 7.268970637911685}, {\"Eliminations\": 17.56, \"Objective Kills\": 6.06, \"Pred\": 7.554883427918756}, {\"Eliminations\": 17.97, \"Objective Kills\": 6.33, \"Pred\": 7.552574972649381}, {\"Eliminations\": 16.77, \"Objective Kills\": 7.76, \"Pred\": 6.971148042480646}, {\"Eliminations\": 13.37, \"Objective Kills\": 4.74, \"Pred\": 7.1971861117500495}, {\"Eliminations\": 1.81, \"Objective Kills\": 0.73, \"Pred\": 6.307856418869634}, {\"Eliminations\": 18.52, \"Objective Kills\": 8.29, \"Pred\": 7.126190408421689}, {\"Eliminations\": 13.55, \"Objective Kills\": 6.08, \"Pred\": 6.872584552826625}, {\"Eliminations\": 10.04, \"Objective Kills\": 4.77, \"Pred\": 6.627041131635526}, {\"Eliminations\": 18.97, \"Objective Kills\": 6.46, \"Pred\": 7.686963642000516}, {\"Eliminations\": 18.49, \"Objective Kills\": 8.88, \"Pred\": 6.964823731346169}, {\"Eliminations\": 17.49, \"Objective Kills\": 7.47, \"Pred\": 7.16953056924134}, {\"Eliminations\": 17.53, \"Objective Kills\": 6.92, \"Pred\": 7.32198879228347}, {\"Eliminations\": 9.23, \"Objective Kills\": 4.33, \"Pred\": 6.606854486238715}, {\"Eliminations\": 17.07, \"Objective Kills\": 6.64, \"Pred\": 7.318505028362914}, {\"Eliminations\": 15.51, \"Objective Kills\": 5.84, \"Pred\": 7.267067951774749}, {\"Eliminations\": 17.12, \"Objective Kills\": 7.21, \"Pred\": 7.175942963132586}, {\"Eliminations\": 18.01, \"Objective Kills\": 7.52, \"Pred\": 7.244075240528566}, {\"Eliminations\": 1.74, \"Objective Kills\": 0.77, \"Pred\": 6.285441720291779}, {\"Eliminations\": 17.2, \"Objective Kills\": 6.4, \"Pred\": 7.404033083356355}, {\"Eliminations\": 18.01, \"Objective Kills\": 7.61, \"Pred\": 7.220232587675311}, {\"Eliminations\": 19.91, \"Objective Kills\": 5.05, \"Pred\": 8.219196910099011}, {\"Eliminations\": 14.24, \"Objective Kills\": 5.96, \"Pred\": 7.020866115826994}, {\"Eliminations\": 11.28, \"Objective Kills\": 4.93, \"Pred\": 6.794000983668976}, {\"Eliminations\": 20.19, \"Objective Kills\": 8.87, \"Pred\": 7.254480611566455}, {\"Eliminations\": 19.19, \"Objective Kills\": 8.71, \"Pred\": 7.128039493166406}, {\"Eliminations\": 21.26, \"Objective Kills\": 6.66, \"Pred\": 8.02059621907865}, {\"Eliminations\": 20.88, \"Objective Kills\": 5.74, \"Pred\": 8.200166453325712}, {\"Eliminations\": 17.96, \"Objective Kills\": 7.22, \"Pred\": 7.315109347199128}, {\"Eliminations\": 16.5, \"Objective Kills\": 5.6, \"Pred\": 7.497788135621209}, {\"Eliminations\": 17.59, \"Objective Kills\": 8.9, \"Pred\": 6.807580112920192}, {\"Eliminations\": 16.64, \"Objective Kills\": 5.78, \"Pred\": 7.473738757867515}, {\"Eliminations\": 14.98, \"Objective Kills\": 5.98, \"Pred\": 7.14050051056259}, {\"Eliminations\": 19.58, \"Objective Kills\": 6.57, \"Pred\": 7.760807736498098}, {\"Eliminations\": 11.75, \"Objective Kills\": 4.67, \"Pred\": 6.942228945277126}, {\"Eliminations\": 9.22, \"Objective Kills\": 3.54, \"Pred\": 6.814451714049236}, {\"Eliminations\": 18.0, \"Objective Kills\": 6.48, \"Pred\": 7.51790205959813}, {\"Eliminations\": 20.47, \"Objective Kills\": 6.66, \"Pred\": 7.887222054202037}, {\"Eliminations\": 16.77, \"Objective Kills\": 6.32, \"Pred\": 7.352630488132739}, {\"Eliminations\": 19.31, \"Objective Kills\": 8.47, \"Pred\": 7.2118792675917875}, {\"Eliminations\": 17.62, \"Objective Kills\": 6.36, \"Pred\": 7.485537601816254}, {\"Eliminations\": 11.23, \"Objective Kills\": 4.75, \"Pred\": 6.833244886535196}, {\"Eliminations\": 17.72, \"Objective Kills\": 8.61, \"Pred\": 6.906354086165442}, {\"Eliminations\": 18.08, \"Objective Kills\": 7.33, \"Pred\": 7.306227693861848}, {\"Eliminations\": 19.17, \"Objective Kills\": 5.98, \"Pred\": 7.847890068579049}, {\"Eliminations\": 12.81, \"Objective Kills\": 5.85, \"Pred\": 6.808583014748626}, {\"Eliminations\": 19.25, \"Objective Kills\": 5.51, \"Pred\": 7.985907944690518}, {\"Eliminations\": 17.57, \"Objective Kills\": 8.17, \"Pred\": 6.9975939582604845}, {\"Eliminations\": 14.13, \"Objective Kills\": 5.47, \"Pred\": 7.1321050284460785}, {\"Eliminations\": 20.66, \"Objective Kills\": 7.68, \"Pred\": 7.649082652658247}, {\"Eliminations\": 8.82, \"Objective Kills\": 3.65, \"Pred\": 6.717779471172921}, {\"Eliminations\": 18.29, \"Objective Kills\": 7.01, \"Pred\": 7.42645546260265}, {\"Eliminations\": 18.16, \"Objective Kills\": 6.12, \"Pred\": 7.640285160100088}, {\"Eliminations\": 18.6, \"Objective Kills\": 6.83, \"Pred\": 7.526477465918972}, {\"Eliminations\": 17.86, \"Objective Kills\": 7.62, \"Pred\": 7.192259195504073}, {\"Eliminations\": 15.56, \"Objective Kills\": 4.94, \"Pred\": 7.513935883147598}, {\"Eliminations\": 16.63, \"Objective Kills\": 5.88, \"Pred\": 7.445558640795839}, {\"Eliminations\": 9.45, \"Objective Kills\": 3.6, \"Pred\": 6.837387065212408}, {\"Eliminations\": 19.3, \"Objective Kills\": 8.57, \"Pred\": 7.183699150520113}, {\"Eliminations\": 18.18, \"Objective Kills\": 7.18, \"Pred\": 7.362848254297859}, {\"Eliminations\": 13.02, \"Objective Kills\": 5.15, \"Pred\": 7.029479762203175}, {\"Eliminations\": 19.88, \"Objective Kills\": 6.83, \"Pred\": 7.742577378630443}, {\"Eliminations\": 18.03, \"Objective Kills\": 5.32, \"Pred\": 7.830272204744269}, {\"Eliminations\": 16.6, \"Objective Kills\": 5.78, \"Pred\": 7.4669856355952815}, {\"Eliminations\": 19.33, \"Objective Kills\": 8.79, \"Pred\": 7.1304819519163285}, {\"Eliminations\": 16.96, \"Objective Kills\": 5.88, \"Pred\": 7.5012718995417655}, {\"Eliminations\": 16.04, \"Objective Kills\": 6.28, \"Pred\": 7.239982741265925}, {\"Eliminations\": 20.13, \"Objective Kills\": 9.21, \"Pred\": 7.154278684045805}, {\"Eliminations\": 18.99, \"Objective Kills\": 6.49, \"Pred\": 7.6823926521855475}, {\"Eliminations\": 18.16, \"Objective Kills\": 6.17, \"Pred\": 7.627039241848279}, {\"Eliminations\": 19.37, \"Objective Kills\": 7.11, \"Pred\": 7.582297927449337}, {\"Eliminations\": 16.66, \"Objective Kills\": 7.93, \"Pred\": 6.907540834175854}, {\"Eliminations\": 18.88, \"Objective Kills\": 8.64, \"Pred\": 7.0942470811091285}, {\"Eliminations\": 15.99, \"Objective Kills\": 7.48, \"Pred\": 6.913639300382222}, {\"Eliminations\": 17.34, \"Objective Kills\": 8.65, \"Pred\": 6.831602689977776}, {\"Eliminations\": 21.42, \"Objective Kills\": 6.47, \"Pred\": 8.097943197524456}, {\"Eliminations\": 13.52, \"Objective Kills\": 3.57, \"Pred\": 7.532464807363251}, {\"Eliminations\": 17.89, \"Objective Kills\": 7.86, \"Pred\": 7.133743629599566}, {\"Eliminations\": 21.35, \"Objective Kills\": 6.13, \"Pred\": 8.176197477660347}, {\"Eliminations\": 18.34, \"Objective Kills\": 6.44, \"Pred\": 7.585900333513562}, {\"Eliminations\": 1.77, \"Objective Kills\": 0.67, \"Pred\": 6.316998398499571}, {\"Eliminations\": 17.7, \"Objective Kills\": 8.24, \"Pred\": 7.0009973200927105}, {\"Eliminations\": 15.72, \"Objective Kills\": 6.56, \"Pred\": 7.111780620877928}, {\"Eliminations\": 19.71, \"Objective Kills\": 7.69, \"Pred\": 7.48604681504234}, {\"Eliminations\": 7.8, \"Objective Kills\": 3.59, \"Pred\": 6.561469955133138}, {\"Eliminations\": 16.6, \"Objective Kills\": 6.39, \"Pred\": 7.305385432923215}, {\"Eliminations\": 15.4, \"Objective Kills\": 6.16, \"Pred\": 7.16372298871453}, {\"Eliminations\": 19.49, \"Objective Kills\": 6.77, \"Pred\": 7.692629538378338}, {\"Eliminations\": 17.53, \"Objective Kills\": 5.71, \"Pred\": 7.642540013977243}, {\"Eliminations\": 17.62, \"Objective Kills\": 6.52, \"Pred\": 7.443150663410465}, {\"Eliminations\": 14.63, \"Objective Kills\": 3.74, \"Pred\": 7.674827828361581}, {\"Eliminations\": 21.55, \"Objective Kills\": 6.15, \"Pred\": 8.20466472172079}, {\"Eliminations\": 20.03, \"Objective Kills\": 8.43, \"Pred\": 7.344032203093438}, {\"Eliminations\": 15.19, \"Objective Kills\": 3.73, \"Pred\": 7.772020723823211}, {\"Eliminations\": 17.04, \"Objective Kills\": 5.31, \"Pred\": 7.665781612156852}, {\"Eliminations\": 18.52, \"Objective Kills\": 7.99, \"Pred\": 7.20566591793254}, {\"Eliminations\": 14.89, \"Objective Kills\": 7.07, \"Pred\": 6.836544967560633}, {\"Eliminations\": 12.17, \"Objective Kills\": 5.12, \"Pred\": 6.893923464869298}, {\"Eliminations\": 10.78, \"Objective Kills\": 4.75, \"Pred\": 6.757272260972569}, {\"Eliminations\": 19.33, \"Objective Kills\": 8.22, \"Pred\": 7.281485419986948}, {\"Eliminations\": 17.76, \"Objective Kills\": 5.29, \"Pred\": 7.792636180357779}, {\"Eliminations\": 18.22, \"Objective Kills\": 7.01, \"Pred\": 7.4146374986262416}, {\"Eliminations\": 17.78, \"Objective Kills\": 8.41, \"Pred\": 6.969467442581028}, {\"Eliminations\": 17.22, \"Objective Kills\": 6.17, \"Pred\": 7.468340868450792}, {\"Eliminations\": 9.75, \"Objective Kills\": 3.98, \"Pred\": 6.787366503540412}, {\"Eliminations\": 7.23, \"Objective Kills\": 3.45, \"Pred\": 6.502326533858875}, {\"Eliminations\": 19.33, \"Objective Kills\": 7.11, \"Pred\": 7.5755448051771035}, {\"Eliminations\": 17.37, \"Objective Kills\": 6.81, \"Pred\": 7.324117323348515}, {\"Eliminations\": 17.9, \"Objective Kills\": 7.76, \"Pred\": 7.161923746671242}, {\"Eliminations\": 16.32, \"Objective Kills\": 5.45, \"Pred\": 7.507136840151585}, {\"Eliminations\": 15.88, \"Objective Kills\": 5.83, \"Pred\": 7.33218351644327}, {\"Eliminations\": 16.34, \"Objective Kills\": 6.22, \"Pred\": 7.306526260209846}, {\"Eliminations\": 18.72, \"Objective Kills\": 7.02, \"Pred\": 7.496402343378799}, {\"Eliminations\": 14.52, \"Objective Kills\": 7.24, \"Pred\": 6.729042464486323}, {\"Eliminations\": 10.32, \"Objective Kills\": 4.78, \"Pred\": 6.671663803890799}, {\"Eliminations\": 18.09, \"Objective Kills\": 7.78, \"Pred\": 7.188702710163628}, {\"Eliminations\": 15.49, \"Objective Kills\": 7.81, \"Pred\": 6.741802211517366}, {\"Eliminations\": 17.7, \"Objective Kills\": 6.07, \"Pred\": 7.575870172221212}, {\"Eliminations\": 15.69, \"Objective Kills\": 3.7, \"Pred\": 7.864382303177215}, {\"Eliminations\": 16.75, \"Objective Kills\": 7.7, \"Pred\": 6.9836665832467}, {\"Eliminations\": 18.26, \"Objective Kills\": 8.17, \"Pred\": 7.114085317456512}, {\"Eliminations\": 17.12, \"Objective Kills\": 6.86, \"Pred\": 7.268664390895247}, {\"Eliminations\": 1.89, \"Objective Kills\": 0.81, \"Pred\": 6.3001691942112075}, {\"Eliminations\": 15.44, \"Objective Kills\": 5.22, \"Pred\": 7.419499374120768}, {\"Eliminations\": 12.95, \"Objective Kills\": 5.68, \"Pred\": 6.877255064757593}, {\"Eliminations\": 18.28, \"Objective Kills\": 5.74, \"Pred\": 7.761213505630535}, {\"Eliminations\": 9.7, \"Objective Kills\": 4.11, \"Pred\": 6.7444857132454175}, {\"Eliminations\": 20.91, \"Objective Kills\": 6.62, \"Pred\": 7.972103133798053}, {\"Eliminations\": 17.5, \"Objective Kills\": 7.78, \"Pred\": 7.0890941566481835}, {\"Eliminations\": 18.95, \"Objective Kills\": 7.79, \"Pred\": 7.331245655366287}, {\"Eliminations\": 19.71, \"Objective Kills\": 8.42, \"Pred\": 7.292656408565932}]}}, {\"mode\": \"vega-lite\"});\n",
       "</script>"
      ],
      "text/plain": [
       "alt.LayerChart(...)"
      ]
     },
     "execution_count": 38,
     "metadata": {},
     "output_type": "execute_result"
    }
   ],
   "source": [
    "c10 = alt.Chart(X_test1).mark_line().encode(\n",
    "    x=\"Eliminations\",\n",
    "    y=\"Pred\"\n",
    ")\n",
    "c11 =alt.Chart(X_test1).mark_line(color=\"red\").encode(\n",
    "    x=\"Objective Kills\",\n",
    "    y=\"Pred\"\n",
    ")\n",
    "c10 + c11"
   ]
  },
  {
   "cell_type": "markdown",
   "metadata": {
    "cell_id": "8c29ad3577b34718a9ded4ea53874206",
    "deepnote_cell_type": "markdown"
   },
   "source": [
    "By the graphs we can see that it is close, but deaths influence objective kills more since the predicted line increases as objective kills increase. Next we will use a function retrieve the mean absolute errors of the train and test data to formulate a test error curve to see if there is any overfitting or underfitting"
   ]
  },
  {
   "cell_type": "code",
   "execution_count": 39,
   "metadata": {
    "cell_id": "35c2e604175249e4bb3d0c9edf10a53c",
    "deepnote_cell_type": "code",
    "deepnote_to_be_reexecuted": false,
    "execution_millis": 14,
    "execution_start": 1686772061831,
    "source_hash": "1cf46215"
   },
   "outputs": [],
   "source": [
    "def get_scores(k):\n",
    "    reg = KNeighborsRegressor(n_neighbors=k)\n",
    "    reg.fit(X_train, y_train)\n",
    "    train_error = mean_absolute_error(reg.predict(X_train), y_train)\n",
    "    test_error = mean_absolute_error(reg.predict(X_test), y_test)\n",
    "    return (train_error, test_error)"
   ]
  },
  {
   "cell_type": "code",
   "execution_count": 40,
   "metadata": {
    "cell_id": "52cb530577374affb524a2edcc6c051a",
    "deepnote_cell_type": "code",
    "deepnote_to_be_reexecuted": false,
    "execution_millis": 20,
    "execution_start": 1686772061852,
    "source_hash": "99708d02"
   },
   "outputs": [
    {
     "data": {
      "text/plain": [
       "(0.06766169154228856, 0.07647058823529412)"
      ]
     },
     "execution_count": 40,
     "metadata": {},
     "output_type": "execute_result"
    }
   ],
   "source": [
    "get_scores(10)"
   ]
  },
  {
   "cell_type": "code",
   "execution_count": 41,
   "metadata": {
    "cell_id": "9baea434d157442c9f198c99f05eca69",
    "deepnote_cell_type": "code",
    "deepnote_to_be_reexecuted": false,
    "execution_millis": 47,
    "execution_start": 1686772062002,
    "source_hash": "95d406bb"
   },
   "outputs": [],
   "source": [
    "df_scores = pd.DataFrame({\"k\":range(1,150),\"train_error\":np.nan,\"test_error\":np.nan})"
   ]
  },
  {
   "cell_type": "markdown",
   "metadata": {
    "cell_id": "9c896dce33624a1dbe96de53c153d07f",
    "deepnote_cell_type": "markdown"
   },
   "source": [
    "When we plot a test error curve, what we want is a higher flexibility which means higher variance on the right. But since there are higher values of K that correspond to the lower flexibility, we would need to add a new column to the dataframe containing the reciprocals of the K values."
   ]
  },
  {
   "cell_type": "code",
   "execution_count": 42,
   "metadata": {
    "cell_id": "041310ebc71b4cf18afb2efb06e4beaa",
    "deepnote_cell_type": "code",
    "deepnote_to_be_reexecuted": false,
    "execution_millis": 5969,
    "execution_start": 1686772062003,
    "source_hash": "1ea9f290"
   },
   "outputs": [],
   "source": [
    "for i in df_scores.index:\n",
    "    df_scores.loc[i,[\"train_error\",\"test_error\"]] = get_scores(df_scores.loc[i,\"k\"])"
   ]
  },
  {
   "cell_type": "code",
   "execution_count": 43,
   "metadata": {
    "cell_id": "1bd38dc14fa44c0180ce7c4d45162ca3",
    "deepnote_cell_type": "code",
    "deepnote_to_be_reexecuted": false,
    "execution_millis": 122,
    "execution_start": 1686772068026,
    "source_hash": "7ddb3e1e"
   },
   "outputs": [
    {
     "data": {
      "application/vnd.deepnote.dataframe.v3+json": {
       "column_count": 3,
       "columns": [
        {
         "dtype": "int64",
         "name": "k",
         "stats": {
          "histogram": [
           {
            "bin_end": 15.8,
            "bin_start": 1,
            "count": 15
           },
           {
            "bin_end": 30.6,
            "bin_start": 15.8,
            "count": 15
           },
           {
            "bin_end": 45.400000000000006,
            "bin_start": 30.6,
            "count": 15
           },
           {
            "bin_end": 60.2,
            "bin_start": 45.400000000000006,
            "count": 15
           },
           {
            "bin_end": 75,
            "bin_start": 60.2,
            "count": 14
           },
           {
            "bin_end": 89.80000000000001,
            "bin_start": 75,
            "count": 15
           },
           {
            "bin_end": 104.60000000000001,
            "bin_start": 89.80000000000001,
            "count": 15
           },
           {
            "bin_end": 119.4,
            "bin_start": 104.60000000000001,
            "count": 15
           },
           {
            "bin_end": 134.20000000000002,
            "bin_start": 119.4,
            "count": 15
           },
           {
            "bin_end": 149,
            "bin_start": 134.20000000000002,
            "count": 15
           }
          ],
          "max": "149",
          "min": "1",
          "nan_count": 0,
          "unique_count": 149
         }
        },
        {
         "dtype": "float64",
         "name": "train_error",
         "stats": {
          "histogram": [
           {
            "bin_end": 0.02170690173294601,
            "bin_start": 0,
            "count": 1
           },
           {
            "bin_end": 0.04341380346589202,
            "bin_start": 0.02170690173294601,
            "count": 1
           },
           {
            "bin_end": 0.06512070519883803,
            "bin_start": 0.04341380346589202,
            "count": 6
           },
           {
            "bin_end": 0.08682760693178404,
            "bin_start": 0.06512070519883803,
            "count": 19
           },
           {
            "bin_end": 0.10853450866473005,
            "bin_start": 0.08682760693178404,
            "count": 10
           },
           {
            "bin_end": 0.13024141039767606,
            "bin_start": 0.10853450866473005,
            "count": 8
           },
           {
            "bin_end": 0.15194831213062207,
            "bin_start": 0.13024141039767606,
            "count": 10
           },
           {
            "bin_end": 0.17365521386356808,
            "bin_start": 0.15194831213062207,
            "count": 14
           },
           {
            "bin_end": 0.1953621155965141,
            "bin_start": 0.17365521386356808,
            "count": 23
           },
           {
            "bin_end": 0.2170690173294601,
            "bin_start": 0.1953621155965141,
            "count": 57
           }
          ],
          "max": "0.2170690173294601",
          "min": "0.0",
          "nan_count": 0,
          "unique_count": 149
         }
        },
        {
         "dtype": "float64",
         "name": "test_error",
         "stats": {
          "histogram": [
           {
            "bin_end": 0.08418870904066325,
            "bin_start": 0.06862745098039216,
            "count": 15
           },
           {
            "bin_end": 0.09974996710093434,
            "bin_start": 0.08418870904066325,
            "count": 11
           },
           {
            "bin_end": 0.11531122516120544,
            "bin_start": 0.09974996710093434,
            "count": 7
           },
           {
            "bin_end": 0.13087248322147654,
            "bin_start": 0.11531122516120544,
            "count": 8
           },
           {
            "bin_end": 0.14643374128174763,
            "bin_start": 0.13087248322147654,
            "count": 6
           },
           {
            "bin_end": 0.16199499934201872,
            "bin_start": 0.14643374128174763,
            "count": 9
           },
           {
            "bin_end": 0.1775562574022898,
            "bin_start": 0.16199499934201872,
            "count": 11
           },
           {
            "bin_end": 0.1931175154625609,
            "bin_start": 0.1775562574022898,
            "count": 16
           },
           {
            "bin_end": 0.20867877352283198,
            "bin_start": 0.1931175154625609,
            "count": 19
           },
           {
            "bin_end": 0.22424003158310307,
            "bin_start": 0.20867877352283198,
            "count": 47
           }
          ],
          "max": "0.22424003158310307",
          "min": "0.06862745098039216",
          "nan_count": 0,
          "unique_count": 146
         }
        },
        {
         "dtype": "int64",
         "name": "_deepnote_index_column"
        }
       ],
       "row_count": 149,
       "rows": [
        {
         "_deepnote_index_column": 0,
         "k": 1,
         "test_error": 0.0784313725490196,
         "train_error": 0
        },
        {
         "_deepnote_index_column": 1,
         "k": 2,
         "test_error": 0.06862745098039216,
         "train_error": 0.03482587064676617
        },
        {
         "_deepnote_index_column": 2,
         "k": 3,
         "test_error": 0.09150326797385622,
         "train_error": 0.04643449419568823
        },
        {
         "_deepnote_index_column": 3,
         "k": 4,
         "test_error": 0.08333333333333333,
         "train_error": 0.053482587064676616
        },
        {
         "_deepnote_index_column": 4,
         "k": 5,
         "test_error": 0.0784313725490196,
         "train_error": 0.05472636815920398
        },
        {
         "_deepnote_index_column": 5,
         "k": 6,
         "test_error": 0.07516339869281045,
         "train_error": 0.06053067993366502
        },
        {
         "_deepnote_index_column": 6,
         "k": 7,
         "test_error": 0.07563025210084032,
         "train_error": 0.06254442075337596
        },
        {
         "_deepnote_index_column": 7,
         "k": 8,
         "test_error": 0.07598039215686274,
         "train_error": 0.0640547263681592
        },
        {
         "_deepnote_index_column": 8,
         "k": 9,
         "test_error": 0.07843137254901959,
         "train_error": 0.06522940851299061
        },
        {
         "_deepnote_index_column": 9,
         "k": 10,
         "test_error": 0.07647058823529412,
         "train_error": 0.06766169154228856
        }
       ]
      },
      "text/html": [
       "<div>\n",
       "<style scoped>\n",
       "    .dataframe tbody tr th:only-of-type {\n",
       "        vertical-align: middle;\n",
       "    }\n",
       "\n",
       "    .dataframe tbody tr th {\n",
       "        vertical-align: top;\n",
       "    }\n",
       "\n",
       "    .dataframe thead th {\n",
       "        text-align: right;\n",
       "    }\n",
       "</style>\n",
       "<table border=\"1\" class=\"dataframe\">\n",
       "  <thead>\n",
       "    <tr style=\"text-align: right;\">\n",
       "      <th></th>\n",
       "      <th>k</th>\n",
       "      <th>train_error</th>\n",
       "      <th>test_error</th>\n",
       "    </tr>\n",
       "  </thead>\n",
       "  <tbody>\n",
       "    <tr>\n",
       "      <th>0</th>\n",
       "      <td>1</td>\n",
       "      <td>0.000000</td>\n",
       "      <td>0.078431</td>\n",
       "    </tr>\n",
       "    <tr>\n",
       "      <th>1</th>\n",
       "      <td>2</td>\n",
       "      <td>0.034826</td>\n",
       "      <td>0.068627</td>\n",
       "    </tr>\n",
       "    <tr>\n",
       "      <th>2</th>\n",
       "      <td>3</td>\n",
       "      <td>0.046434</td>\n",
       "      <td>0.091503</td>\n",
       "    </tr>\n",
       "    <tr>\n",
       "      <th>3</th>\n",
       "      <td>4</td>\n",
       "      <td>0.053483</td>\n",
       "      <td>0.083333</td>\n",
       "    </tr>\n",
       "    <tr>\n",
       "      <th>4</th>\n",
       "      <td>5</td>\n",
       "      <td>0.054726</td>\n",
       "      <td>0.078431</td>\n",
       "    </tr>\n",
       "    <tr>\n",
       "      <th>...</th>\n",
       "      <td>...</td>\n",
       "      <td>...</td>\n",
       "      <td>...</td>\n",
       "    </tr>\n",
       "    <tr>\n",
       "      <th>144</th>\n",
       "      <td>145</td>\n",
       "      <td>0.216435</td>\n",
       "      <td>0.222718</td>\n",
       "    </tr>\n",
       "    <tr>\n",
       "      <th>145</th>\n",
       "      <td>146</td>\n",
       "      <td>0.216656</td>\n",
       "      <td>0.223476</td>\n",
       "    </tr>\n",
       "    <tr>\n",
       "      <th>146</th>\n",
       "      <td>147</td>\n",
       "      <td>0.216435</td>\n",
       "      <td>0.223556</td>\n",
       "    </tr>\n",
       "    <tr>\n",
       "      <th>147</th>\n",
       "      <td>148</td>\n",
       "      <td>0.216754</td>\n",
       "      <td>0.223768</td>\n",
       "    </tr>\n",
       "    <tr>\n",
       "      <th>148</th>\n",
       "      <td>149</td>\n",
       "      <td>0.217069</td>\n",
       "      <td>0.224240</td>\n",
       "    </tr>\n",
       "  </tbody>\n",
       "</table>\n",
       "<p>149 rows × 3 columns</p>\n",
       "</div>"
      ],
      "text/plain": [
       "       k  train_error  test_error\n",
       "0      1     0.000000    0.078431\n",
       "1      2     0.034826    0.068627\n",
       "2      3     0.046434    0.091503\n",
       "3      4     0.053483    0.083333\n",
       "4      5     0.054726    0.078431\n",
       "..   ...          ...         ...\n",
       "144  145     0.216435    0.222718\n",
       "145  146     0.216656    0.223476\n",
       "146  147     0.216435    0.223556\n",
       "147  148     0.216754    0.223768\n",
       "148  149     0.217069    0.224240\n",
       "\n",
       "[149 rows x 3 columns]"
      ]
     },
     "execution_count": 43,
     "metadata": {},
     "output_type": "execute_result"
    }
   ],
   "source": [
    "df_scores"
   ]
  },
  {
   "cell_type": "code",
   "execution_count": 44,
   "metadata": {
    "cell_id": "cef144fd476a470aa05a976fd7bb00db",
    "deepnote_cell_type": "code",
    "deepnote_to_be_reexecuted": false,
    "execution_millis": 19,
    "execution_start": 1686772068145,
    "source_hash": "6d7b0128"
   },
   "outputs": [],
   "source": [
    "df_scores[\"kinv\"] = 1/df_scores.k"
   ]
  },
  {
   "cell_type": "code",
   "execution_count": 45,
   "metadata": {
    "cell_id": "3a778e765f0e4a1b8c7d4a9a0d953116",
    "deepnote_cell_type": "code",
    "deepnote_to_be_reexecuted": false,
    "execution_millis": 13,
    "execution_start": 1686772068164,
    "source_hash": "f9178bd6"
   },
   "outputs": [],
   "source": [
    "ctrain = alt.Chart(df_scores).mark_line().encode(\n",
    "    x = \"kinv\",\n",
    "    y = \"train_error\"\n",
    ")"
   ]
  },
  {
   "cell_type": "code",
   "execution_count": 46,
   "metadata": {
    "cell_id": "e608e849bd3a4fa795bf8fd039c0e79c",
    "deepnote_cell_type": "code",
    "deepnote_to_be_reexecuted": false,
    "execution_millis": 33,
    "execution_start": 1686772068224,
    "source_hash": "ceab4c59"
   },
   "outputs": [],
   "source": [
    "ctest = alt.Chart(df_scores).mark_line(color=\"orange\").encode(\n",
    "    x = \"kinv\",\n",
    "    y = \"test_error\"\n",
    ")"
   ]
  },
  {
   "cell_type": "code",
   "execution_count": 47,
   "metadata": {
    "cell_id": "18366f3d269d40b58815e0cd39be9ed2",
    "deepnote_cell_type": "code",
    "deepnote_to_be_reexecuted": false,
    "execution_millis": 41,
    "execution_start": 1686772068303,
    "source_hash": "1e9aad1a"
   },
   "outputs": [
    {
     "data": {
      "text/html": [
       "\n",
       "<div id=\"altair-viz-885d975bc32c4ad1859acc43b1683ac9\"></div>\n",
       "<script type=\"text/javascript\">\n",
       "  var VEGA_DEBUG = (typeof VEGA_DEBUG == \"undefined\") ? {} : VEGA_DEBUG;\n",
       "  (function(spec, embedOpt){\n",
       "    let outputDiv = document.currentScript.previousElementSibling;\n",
       "    if (outputDiv.id !== \"altair-viz-885d975bc32c4ad1859acc43b1683ac9\") {\n",
       "      outputDiv = document.getElementById(\"altair-viz-885d975bc32c4ad1859acc43b1683ac9\");\n",
       "    }\n",
       "    const paths = {\n",
       "      \"vega\": \"https://cdn.jsdelivr.net/npm//vega@5?noext\",\n",
       "      \"vega-lib\": \"https://cdn.jsdelivr.net/npm//vega-lib?noext\",\n",
       "      \"vega-lite\": \"https://cdn.jsdelivr.net/npm//vega-lite@4.17.0?noext\",\n",
       "      \"vega-embed\": \"https://cdn.jsdelivr.net/npm//vega-embed@6?noext\",\n",
       "    };\n",
       "\n",
       "    function maybeLoadScript(lib, version) {\n",
       "      var key = `${lib.replace(\"-\", \"\")}_version`;\n",
       "      return (VEGA_DEBUG[key] == version) ?\n",
       "        Promise.resolve(paths[lib]) :\n",
       "        new Promise(function(resolve, reject) {\n",
       "          var s = document.createElement('script');\n",
       "          document.getElementsByTagName(\"head\")[0].appendChild(s);\n",
       "          s.async = true;\n",
       "          s.onload = () => {\n",
       "            VEGA_DEBUG[key] = version;\n",
       "            return resolve(paths[lib]);\n",
       "          };\n",
       "          s.onerror = () => reject(`Error loading script: ${paths[lib]}`);\n",
       "          s.src = paths[lib];\n",
       "        });\n",
       "    }\n",
       "\n",
       "    function showError(err) {\n",
       "      outputDiv.innerHTML = `<div class=\"error\" style=\"color:red;\">${err}</div>`;\n",
       "      throw err;\n",
       "    }\n",
       "\n",
       "    function displayChart(vegaEmbed) {\n",
       "      vegaEmbed(outputDiv, spec, embedOpt)\n",
       "        .catch(err => showError(`Javascript Error: ${err.message}<br>This usually means there's a typo in your chart specification. See the javascript console for the full traceback.`));\n",
       "    }\n",
       "\n",
       "    if(typeof define === \"function\" && define.amd) {\n",
       "      requirejs.config({paths});\n",
       "      require([\"vega-embed\"], displayChart, err => showError(`Error loading script: ${err.message}`));\n",
       "    } else {\n",
       "      maybeLoadScript(\"vega\", \"5\")\n",
       "        .then(() => maybeLoadScript(\"vega-lite\", \"4.17.0\"))\n",
       "        .then(() => maybeLoadScript(\"vega-embed\", \"6\"))\n",
       "        .catch(showError)\n",
       "        .then(() => displayChart(vegaEmbed));\n",
       "    }\n",
       "  })({\"config\": {\"view\": {\"continuousWidth\": 400, \"continuousHeight\": 300}}, \"layer\": [{\"mark\": \"line\", \"encoding\": {\"x\": {\"field\": \"kinv\", \"type\": \"quantitative\"}, \"y\": {\"field\": \"train_error\", \"type\": \"quantitative\"}}}, {\"mark\": {\"type\": \"line\", \"color\": \"orange\"}, \"encoding\": {\"x\": {\"field\": \"kinv\", \"type\": \"quantitative\"}, \"y\": {\"field\": \"test_error\", \"type\": \"quantitative\"}}}], \"data\": {\"name\": \"data-7a6baa8b1e43a65eace28ea3100fb3fa\"}, \"$schema\": \"https://vega.github.io/schema/vega-lite/v4.17.0.json\", \"datasets\": {\"data-7a6baa8b1e43a65eace28ea3100fb3fa\": [{\"k\": 1, \"train_error\": 0.0, \"test_error\": 0.0784313725490196, \"kinv\": 1.0}, {\"k\": 2, \"train_error\": 0.03482587064676617, \"test_error\": 0.06862745098039216, \"kinv\": 0.5}, {\"k\": 3, \"train_error\": 0.04643449419568823, \"test_error\": 0.09150326797385622, \"kinv\": 0.3333333333333333}, {\"k\": 4, \"train_error\": 0.053482587064676616, \"test_error\": 0.08333333333333333, \"kinv\": 0.25}, {\"k\": 5, \"train_error\": 0.05472636815920398, \"test_error\": 0.0784313725490196, \"kinv\": 0.2}, {\"k\": 6, \"train_error\": 0.06053067993366502, \"test_error\": 0.07516339869281045, \"kinv\": 0.16666666666666666}, {\"k\": 7, \"train_error\": 0.06254442075337596, \"test_error\": 0.07563025210084032, \"kinv\": 0.14285714285714285}, {\"k\": 8, \"train_error\": 0.0640547263681592, \"test_error\": 0.07598039215686274, \"kinv\": 0.125}, {\"k\": 9, \"train_error\": 0.06522940851299061, \"test_error\": 0.07843137254901959, \"kinv\": 0.1111111111111111}, {\"k\": 10, \"train_error\": 0.06766169154228856, \"test_error\": 0.07647058823529412, \"kinv\": 0.1}, {\"k\": 11, \"train_error\": 0.06874717322478517, \"test_error\": 0.0766488413547237, \"kinv\": 0.09090909090909091}, {\"k\": 12, \"train_error\": 0.07048092868988393, \"test_error\": 0.0784313725490196, \"kinv\": 0.08333333333333333}, {\"k\": 13, \"train_error\": 0.07003444316877153, \"test_error\": 0.07993966817496229, \"kinv\": 0.07692307692307693}, {\"k\": 14, \"train_error\": 0.0707178393745558, \"test_error\": 0.08403361344537814, \"kinv\": 0.07142857142857142}, {\"k\": 15, \"train_error\": 0.07097844112769486, \"test_error\": 0.08104575163398693, \"kinv\": 0.06666666666666667}, {\"k\": 16, \"train_error\": 0.07058457711442787, \"test_error\": 0.08333333333333333, \"kinv\": 0.0625}, {\"k\": 17, \"train_error\": 0.07345624817091016, \"test_error\": 0.08419838523644751, \"kinv\": 0.058823529411764705}, {\"k\": 18, \"train_error\": 0.0732448866777225, \"test_error\": 0.08714596949891068, \"kinv\": 0.05555555555555555}, {\"k\": 19, \"train_error\": 0.07488871432312125, \"test_error\": 0.08771929824561404, \"kinv\": 0.05263157894736842}, {\"k\": 20, \"train_error\": 0.07661691542288558, \"test_error\": 0.08725490196078434, \"kinv\": 0.05}, {\"k\": 21, \"train_error\": 0.07746979388770434, \"test_error\": 0.08683473389355743, \"kinv\": 0.047619047619047616}, {\"k\": 22, \"train_error\": 0.07824513794663049, \"test_error\": 0.09090909090909091, \"kinv\": 0.045454545454545456}, {\"k\": 23, \"train_error\": 0.08046722907203117, \"test_error\": 0.09292412617220801, \"kinv\": 0.043478260869565216}, {\"k\": 24, \"train_error\": 0.08208955223880597, \"test_error\": 0.09640522875816994, \"kinv\": 0.041666666666666664}, {\"k\": 25, \"train_error\": 0.08358208955223881, \"test_error\": 0.09882352941176473, \"kinv\": 0.04}, {\"k\": 26, \"train_error\": 0.0840030616150019, \"test_error\": 0.09954751131221719, \"kinv\": 0.038461538461538464}, {\"k\": 27, \"train_error\": 0.08641975308641975, \"test_error\": 0.10021786492374726, \"kinv\": 0.037037037037037035}, {\"k\": 28, \"train_error\": 0.08866382373845061, \"test_error\": 0.10294117647058823, \"kinv\": 0.03571428571428571}, {\"k\": 29, \"train_error\": 0.08955223880597014, \"test_error\": 0.1054766734279919, \"kinv\": 0.034482758620689655}, {\"k\": 30, \"train_error\": 0.09203980099502487, \"test_error\": 0.10653594771241831, \"kinv\": 0.03333333333333333}, {\"k\": 31, \"train_error\": 0.09436687530091478, \"test_error\": 0.10815939278937381, \"kinv\": 0.03225806451612903}, {\"k\": 32, \"train_error\": 0.09483830845771145, \"test_error\": 0.11213235294117647, \"kinv\": 0.03125}, {\"k\": 33, \"train_error\": 0.09633649932157393, \"test_error\": 0.1134878193701723, \"kinv\": 0.030303030303030304}, {\"k\": 34, \"train_error\": 0.09847819724904888, \"test_error\": 0.1164936562860438, \"kinv\": 0.029411764705882353}, {\"k\": 35, \"train_error\": 0.10106609808102347, \"test_error\": 0.11932773109243698, \"kinv\": 0.02857142857142857}, {\"k\": 36, \"train_error\": 0.10268103924820343, \"test_error\": 0.1187363834422658, \"kinv\": 0.027777777777777776}, {\"k\": 37, \"train_error\": 0.10568777732956837, \"test_error\": 0.12241653418124006, \"kinv\": 0.02702702702702703}, {\"k\": 38, \"train_error\": 0.10866719036396962, \"test_error\": 0.1238390092879257, \"kinv\": 0.02631578947368421}, {\"k\": 39, \"train_error\": 0.11174894756984309, \"test_error\": 0.12619406737053793, \"kinv\": 0.02564102564102564}, {\"k\": 40, \"train_error\": 0.11554726368159204, \"test_error\": 0.12941176470588234, \"kinv\": 0.025}, {\"k\": 41, \"train_error\": 0.11794685111030215, \"test_error\": 0.13055954088952654, \"kinv\": 0.024390243902439025}, {\"k\": 42, \"train_error\": 0.12058753849798626, \"test_error\": 0.13305322128851543, \"kinv\": 0.023809523809523808}, {\"k\": 43, \"train_error\": 0.1234525049172741, \"test_error\": 0.13634290925672596, \"kinv\": 0.023255813953488372}, {\"k\": 44, \"train_error\": 0.12618724559023067, \"test_error\": 0.1390374331550802, \"kinv\": 0.022727272727272728}, {\"k\": 45, \"train_error\": 0.12857932559425095, \"test_error\": 0.14074074074074072, \"kinv\": 0.022222222222222223}, {\"k\": 46, \"train_error\": 0.1308674021198356, \"test_error\": 0.14322250639386191, \"kinv\": 0.021739130434782608}, {\"k\": 47, \"train_error\": 0.1332698211072298, \"test_error\": 0.14476428869420108, \"kinv\": 0.02127659574468085}, {\"k\": 48, \"train_error\": 0.1351575456053068, \"test_error\": 0.1474673202614379, \"kinv\": 0.020833333333333332}, {\"k\": 49, \"train_error\": 0.13747588587673876, \"test_error\": 0.14925970388155263, \"kinv\": 0.02040816326530612}, {\"k\": 50, \"train_error\": 0.14039800995024876, \"test_error\": 0.15098039215686274, \"kinv\": 0.02}, {\"k\": 51, \"train_error\": 0.14262023217247097, \"test_error\": 0.15224913494809686, \"kinv\": 0.0196078431372549}, {\"k\": 52, \"train_error\": 0.1450440107156525, \"test_error\": 0.15497737556561086, \"kinv\": 0.019230769230769232}, {\"k\": 53, \"train_error\": 0.14718858537501173, \"test_error\": 0.1553829078801332, \"kinv\": 0.018867924528301886}, {\"k\": 54, \"train_error\": 0.14934586327621155, \"test_error\": 0.15722585330428465, \"kinv\": 0.018518518518518517}, {\"k\": 55, \"train_error\": 0.15133423790140207, \"test_error\": 0.1586452762923351, \"kinv\": 0.01818181818181818}, {\"k\": 56, \"train_error\": 0.15378464818763327, \"test_error\": 0.1607142857142857, \"kinv\": 0.017857142857142856}, {\"k\": 57, \"train_error\": 0.1558872305140962, \"test_error\": 0.16271069831441348, \"kinv\": 0.017543859649122806}, {\"k\": 58, \"train_error\": 0.15705952993652428, \"test_error\": 0.16396213657876946, \"kinv\": 0.017241379310344827}, {\"k\": 59, \"train_error\": 0.15852938696348765, \"test_error\": 0.16550348953140578, \"kinv\": 0.01694915254237288}, {\"k\": 60, \"train_error\": 0.15995024875621894, \"test_error\": 0.16699346405228757, \"kinv\": 0.016666666666666666}, {\"k\": 61, \"train_error\": 0.16148764374847077, \"test_error\": 0.16843458694953392, \"kinv\": 0.01639344262295082}, {\"k\": 62, \"train_error\": 0.16305568929545816, \"test_error\": 0.1698292220113852, \"kinv\": 0.016129032258064516}, {\"k\": 63, \"train_error\": 0.16496880675985154, \"test_error\": 0.17149081854964207, \"kinv\": 0.015873015873015872}, {\"k\": 64, \"train_error\": 0.16682213930348258, \"test_error\": 0.17279411764705882, \"kinv\": 0.015625}, {\"k\": 65, \"train_error\": 0.16800612323000386, \"test_error\": 0.1740573152337858, \"kinv\": 0.015384615384615385}, {\"k\": 66, \"train_error\": 0.16953113221769936, \"test_error\": 0.17528223410576352, \"kinv\": 0.015151515151515152}, {\"k\": 67, \"train_error\": 0.17078785178584688, \"test_error\": 0.17647058823529413, \"kinv\": 0.014925373134328358}, {\"k\": 68, \"train_error\": 0.1722270997951419, \"test_error\": 0.17762399077277968, \"kinv\": 0.014705882352941176}, {\"k\": 69, \"train_error\": 0.17311990770783764, \"test_error\": 0.17874396135265694, \"kinv\": 0.014492753623188406}, {\"k\": 70, \"train_error\": 0.17448471926083867, \"test_error\": 0.17955182072829126, \"kinv\": 0.014285714285714285}, {\"k\": 71, \"train_error\": 0.1753205801976035, \"test_error\": 0.18061309030654513, \"kinv\": 0.014084507042253521}, {\"k\": 72, \"train_error\": 0.17647871752349364, \"test_error\": 0.18164488017429187, \"kinv\": 0.013888888888888888}, {\"k\": 73, \"train_error\": 0.1777414298371158, \"test_error\": 0.18372280419016923, \"kinv\": 0.0136986301369863}, {\"k\": 74, \"train_error\": 0.1789700147909103, \"test_error\": 0.1849496555378908, \"kinv\": 0.013513513513513514}, {\"k\": 75, \"train_error\": 0.1799004975124378, \"test_error\": 0.18640522875816995, \"kinv\": 0.013333333333333334}, {\"k\": 76, \"train_error\": 0.18146111547525529, \"test_error\": 0.18756449948400414, \"kinv\": 0.013157894736842105}, {\"k\": 77, \"train_error\": 0.18246430186728693, \"test_error\": 0.18792971734148203, \"kinv\": 0.012987012987012988}, {\"k\": 78, \"train_error\": 0.18369690011481055, \"test_error\": 0.18853695324283562, \"kinv\": 0.01282051282051282}, {\"k\": 79, \"train_error\": 0.18452043579570504, \"test_error\": 0.18888061553735422, \"kinv\": 0.012658227848101266}, {\"k\": 80, \"train_error\": 0.18563432835820895, \"test_error\": 0.1892156862745098, \"kinv\": 0.0125}, {\"k\": 81, \"train_error\": 0.18635218966893927, \"test_error\": 0.19026870007262164, \"kinv\": 0.012345679012345678}, {\"k\": 82, \"train_error\": 0.18699186991869923, \"test_error\": 0.19177427068388334, \"kinv\": 0.012195121951219513}, {\"k\": 83, \"train_error\": 0.18749625367140202, \"test_error\": 0.19277108433734944, \"kinv\": 0.012048192771084338}, {\"k\": 84, \"train_error\": 0.18840322198531154, \"test_error\": 0.19351073762838467, \"kinv\": 0.011904761904761904}, {\"k\": 85, \"train_error\": 0.1891132572431958, \"test_error\": 0.1944636678200692, \"kinv\": 0.011764705882352941}, {\"k\": 86, \"train_error\": 0.18998033090362143, \"test_error\": 0.19607843137254902, \"kinv\": 0.011627906976744186}, {\"k\": 87, \"train_error\": 0.19088465717390063, \"test_error\": 0.19720531890917287, \"kinv\": 0.011494252873563218}, {\"k\": 88, \"train_error\": 0.19154228855721392, \"test_error\": 0.19763814616755795, \"kinv\": 0.011363636363636364}, {\"k\": 89, \"train_error\": 0.19229694225501703, \"test_error\": 0.1982815598149372, \"kinv\": 0.011235955056179775}, {\"k\": 90, \"train_error\": 0.19347705914870092, \"test_error\": 0.19978213507625267, \"kinv\": 0.011111111111111112}, {\"k\": 91, \"train_error\": 0.19441255262150786, \"test_error\": 0.20038784744667096, \"kinv\": 0.01098901098901099}, {\"k\": 92, \"train_error\": 0.19505732208522605, \"test_error\": 0.2016197783461211, \"kinv\": 0.010869565217391304}, {\"k\": 93, \"train_error\": 0.19590220938319156, \"test_error\": 0.2017710309930424, \"kinv\": 0.010752688172043012}, {\"k\": 94, \"train_error\": 0.19672912035566847, \"test_error\": 0.2021276595744681, \"kinv\": 0.010638297872340425}, {\"k\": 95, \"train_error\": 0.19727677402461374, \"test_error\": 0.20330237358101136, \"kinv\": 0.010526315789473684}, {\"k\": 96, \"train_error\": 0.1982276119402985, \"test_error\": 0.2042483660130719, \"kinv\": 0.010416666666666666}, {\"k\": 97, \"train_error\": 0.19915884495050518, \"test_error\": 0.2045684253082677, \"kinv\": 0.010309278350515464}, {\"k\": 98, \"train_error\": 0.19956340745253323, \"test_error\": 0.2050820328131253, \"kinv\": 0.01020408163265306}, {\"k\": 99, \"train_error\": 0.200462334790693, \"test_error\": 0.20578332343038225, \"kinv\": 0.010101010101010102}, {\"k\": 100, \"train_error\": 0.2008457711442786, \"test_error\": 0.2068627450980392, \"kinv\": 0.01}, {\"k\": 101, \"train_error\": 0.20141864932761935, \"test_error\": 0.2079207920792079, \"kinv\": 0.009900990099009901}, {\"k\": 102, \"train_error\": 0.20188274314701005, \"test_error\": 0.2085736255286428, \"kinv\": 0.00980392156862745}, {\"k\": 103, \"train_error\": 0.20291745157706614, \"test_error\": 0.20940415000951837, \"kinv\": 0.009708737864077669}, {\"k\": 104, \"train_error\": 0.20302334481438958, \"test_error\": 0.20927601809954752, \"kinv\": 0.009615384615384616}, {\"k\": 105, \"train_error\": 0.20379057095475006, \"test_error\": 0.20952380952380956, \"kinv\": 0.009523809523809525}, {\"k\": 106, \"train_error\": 0.20426171031634283, \"test_error\": 0.20995190529041802, \"kinv\": 0.009433962264150943}, {\"k\": 107, \"train_error\": 0.2046775468452132, \"test_error\": 0.20963899578522996, \"kinv\": 0.009345794392523364}, {\"k\": 108, \"train_error\": 0.20513174866408698, \"test_error\": 0.20969498910675383, \"kinv\": 0.009259259259259259}, {\"k\": 109, \"train_error\": 0.2057145465333881, \"test_error\": 0.21010973196618096, \"kinv\": 0.009174311926605505}, {\"k\": 110, \"train_error\": 0.20628674807779285, \"test_error\": 0.21033868092691624, \"kinv\": 0.00909090909090909}, {\"k\": 111, \"train_error\": 0.20725202814755053, \"test_error\": 0.2112700936230348, \"kinv\": 0.009009009009009009}, {\"k\": 112, \"train_error\": 0.20722281449893387, \"test_error\": 0.21165966386554622, \"kinv\": 0.008928571428571428}, {\"k\": 113, \"train_error\": 0.20759036675031922, \"test_error\": 0.2118688183237897, \"kinv\": 0.008849557522123894}, {\"k\": 114, \"train_error\": 0.20790782927467924, \"test_error\": 0.21276229790161677, \"kinv\": 0.008771929824561403}, {\"k\": 115, \"train_error\": 0.2084793424183431, \"test_error\": 0.21295822676896847, \"kinv\": 0.008695652173913044}, {\"k\": 116, \"train_error\": 0.2087407788642992, \"test_error\": 0.21315077755240022, \"kinv\": 0.008620689655172414}, {\"k\": 117, \"train_error\": 0.2093804481864183, \"test_error\": 0.2138428020780962, \"kinv\": 0.008547008547008548}, {\"k\": 118, \"train_error\": 0.20967197908761273, \"test_error\": 0.2143569292123629, \"kinv\": 0.00847457627118644}, {\"k\": 119, \"train_error\": 0.20987499477402902, \"test_error\": 0.21453287197231835, \"kinv\": 0.008403361344537815}, {\"k\": 120, \"train_error\": 0.21019900497512436, \"test_error\": 0.21535947712418302, \"kinv\": 0.008333333333333333}, {\"k\": 121, \"train_error\": 0.21035319271411534, \"test_error\": 0.21584832280019448, \"kinv\": 0.008264462809917356}, {\"k\": 122, \"train_error\": 0.2107495310333578, \"test_error\": 0.21584699453551912, \"kinv\": 0.00819672131147541}, {\"k\": 123, \"train_error\": 0.21150345831816528, \"test_error\": 0.21568627450980396, \"kinv\": 0.008130081300813009}, {\"k\": 124, \"train_error\": 0.21180388380677262, \"test_error\": 0.21600253004427578, \"kinv\": 0.008064516129032258}, {\"k\": 125, \"train_error\": 0.21205970149253733, \"test_error\": 0.21647058823529414, \"kinv\": 0.008}, {\"k\": 126, \"train_error\": 0.2120745478954434, \"test_error\": 0.2166199813258637, \"kinv\": 0.007936507936507936}, {\"k\": 127, \"train_error\": 0.2122458573275355, \"test_error\": 0.217075806700633, \"kinv\": 0.007874015748031496}, {\"k\": 128, \"train_error\": 0.21256996268656717, \"test_error\": 0.21752450980392157, \"kinv\": 0.0078125}, {\"k\": 129, \"train_error\": 0.21277334258937874, \"test_error\": 0.21796625626994984, \"kinv\": 0.007751937984496124}, {\"k\": 130, \"train_error\": 0.2129735935706085, \"test_error\": 0.21840120663650076, \"kinv\": 0.007692307692307693}, {\"k\": 131, \"train_error\": 0.21286696289544643, \"test_error\": 0.21823080377189047, \"kinv\": 0.007633587786259542}, {\"k\": 132, \"train_error\": 0.21332730287954166, \"test_error\": 0.21865715983363043, \"kinv\": 0.007575757575757576}, {\"k\": 133, \"train_error\": 0.21385553435828372, \"test_error\": 0.21996166887807753, \"kinv\": 0.007518796992481203}, {\"k\": 134, \"train_error\": 0.2144130095789708, \"test_error\": 0.22066139888791336, \"kinv\": 0.007462686567164179}, {\"k\": 135, \"train_error\": 0.21485166758798602, \"test_error\": 0.22106027596223674, \"kinv\": 0.007407407407407408}, {\"k\": 136, \"train_error\": 0.21521071115013168, \"test_error\": 0.22130911188004615, \"kinv\": 0.007352941176470588}, {\"k\": 137, \"train_error\": 0.21534662454152595, \"test_error\": 0.22141119221411193, \"kinv\": 0.0072992700729927005}, {\"k\": 138, \"train_error\": 0.21566082630326633, \"test_error\": 0.22165387894288147, \"kinv\": 0.007246376811594203}, {\"k\": 139, \"train_error\": 0.2157915458677834, \"test_error\": 0.2218930737762731, \"kinv\": 0.007194244604316547}, {\"k\": 140, \"train_error\": 0.21609808102345415, \"test_error\": 0.2224089635854342, \"kinv\": 0.007142857142857143}, {\"k\": 141, \"train_error\": 0.21632969902261737, \"test_error\": 0.2227784730913642, \"kinv\": 0.0070921985815602835}, {\"k\": 142, \"train_error\": 0.21599747740172376, \"test_error\": 0.2223142778238055, \"kinv\": 0.007042253521126761}, {\"k\": 143, \"train_error\": 0.21612218627144, \"test_error\": 0.22226792815028112, \"kinv\": 0.006993006993006993}, {\"k\": 144, \"train_error\": 0.2162797125483693, \"test_error\": 0.2223583877995643, \"kinv\": 0.006944444444444444}, {\"k\": 145, \"train_error\": 0.216435066049065, \"test_error\": 0.2227180527383367, \"kinv\": 0.006896551724137931}, {\"k\": 146, \"train_error\": 0.21665644380835547, \"test_error\": 0.22347569164652162, \"kinv\": 0.00684931506849315}, {\"k\": 147, \"train_error\": 0.21643483263952346, \"test_error\": 0.22355608910230754, \"kinv\": 0.006802721088435374}, {\"k\": 148, \"train_error\": 0.21675406750033616, \"test_error\": 0.2237678855325914, \"kinv\": 0.006756756756756757}, {\"k\": 149, \"train_error\": 0.2170690173294601, \"test_error\": 0.22424003158310307, \"kinv\": 0.006711409395973154}]}}, {\"mode\": \"vega-lite\"});\n",
       "</script>"
      ],
      "text/plain": [
       "alt.LayerChart(...)"
      ]
     },
     "execution_count": 47,
     "metadata": {},
     "output_type": "execute_result"
    }
   ],
   "source": [
    "ctrain+ctest"
   ]
  },
  {
   "cell_type": "markdown",
   "metadata": {
    "cell_id": "68d9b97ca5924320b4bb1f46b9c8dbf5",
    "deepnote_cell_type": "markdown"
   },
   "source": [
    "The blue curve is the training error and the orange curve is the test error. From the graph, we observe that underfitting occurs for very high values of K and overfitting for smaller values of K"
   ]
  },
  {
   "cell_type": "markdown",
   "metadata": {
    "cell_id": "a7ec096066344a52b23933da78cbabd5",
    "deepnote_cell_type": "markdown",
    "tags": []
   },
   "source": [
    "## Summary\n",
    "\n",
    "Either summarize what you did, or summarize the results.  Maybe 3 sentences."
   ]
  },
  {
   "cell_type": "markdown",
   "metadata": {
    "cell_id": "6c5acc22544c4fbc8f2c5b8ffaca422a",
    "deepnote_cell_type": "markdown"
   },
   "source": [
    "To sum everything up, we realized that there is a positive relationship when it comes to Eliminations and Objective Kills. We also found the probabilites to figure out whether or not a hero was a part of the \"Support\" Role (22%). Lastly we realized that underfitting occurs in our dataset due to the high values of K and it overfits with smaller values of K."
   ]
  },
  {
   "cell_type": "markdown",
   "metadata": {
    "cell_id": "73b3df0beef0413ca3c7b06876a64a36",
    "deepnote_cell_type": "markdown",
    "tags": []
   },
   "source": [
    "## References\n",
    "\n",
    "Your code above should include references.  Here is some additional space for references."
   ]
  },
  {
   "cell_type": "markdown",
   "metadata": {
    "cell_id": "5fdf6bebbaa546b380f90def7179dfca",
    "deepnote_cell_type": "markdown",
    "tags": []
   },
   "source": [
    "* What is the source of your dataset(s)?"
   ]
  },
  {
   "cell_type": "markdown",
   "metadata": {
    "cell_id": "19068c1256624306b34da2d3d86e1708",
    "deepnote_cell_type": "markdown"
   },
   "source": [
    "[Kaggle](https://www.kaggle.com/datasets/mykhailokachan/overwatch-2-statistics)"
   ]
  },
  {
   "cell_type": "markdown",
   "metadata": {
    "cell_id": "ac1ddc78a7264fdc825c58784be6340b",
    "deepnote_cell_type": "markdown",
    "deepnote_to_be_reexecuted": false,
    "execution_millis": 0,
    "execution_start": 1652916033453,
    "source_hash": "aa45eba7",
    "tags": []
   },
   "source": [
    "* List any other references that you found helpful."
   ]
  },
  {
   "cell_type": "markdown",
   "metadata": {
    "cell_id": "607a9f0784a641558d60ca72dbcf0227",
    "deepnote_cell_type": "markdown"
   },
   "source": [
    "- [KNeighborsRegressor](https://christopherdavisuci.github.io/UCI-Math-10-W22/Week6/Week6-Wednesday.html)\n",
    "- [Logistic Regression](https://deepnote.com/workspace/math10-5f85-5e55def2-9101-4162-ae38-6508f8b9028e/project/Worksheet-13-5ffa904f-e8ef-42d1-a392-8565c4835481/notebook/Worksheet13-756cd28ac8ff4662b09180a181e0bf65)\n",
    "- [Linear Regression](https://christopherdavisuci.github.io/UCI-Math-10-S23/Week5/Week5-Wednesday.html)\n",
    "- [Predictions](https://christopherdavisuci.github.io/UCI-Math-10-S23/Week7/Week7-Monday.html)\n",
    "- [Pokemon](https://christopherdavisuci.github.io/UCI-Math-10-S22/Proj/StudentProjects/WenqiZhao.html)"
   ]
  },
  {
   "cell_type": "markdown",
   "metadata": {
    "cell_id": "1eb1e5932a5445058b20556ca7f7b333",
    "deepnote_cell_type": "markdown",
    "tags": []
   },
   "source": [
    "## Submission\n",
    "\n",
    "Using the Share button at the top right, **enable Comment privileges** for anyone with a link to the project. Then submit that link on Canvas."
   ]
  },
  {
   "cell_type": "markdown",
   "metadata": {
    "created_in_deepnote_cell": true,
    "deepnote_cell_type": "markdown"
   },
   "source": [
    "<a style='text-decoration:none;line-height:16px;display:flex;color:#5B5B62;padding:10px;justify-content:end;' href='https://deepnote.com?utm_source=created-in-deepnote-cell&projectId=0868c76b-c48e-4837-b2b3-e547f867dcce' target=\"_blank\">\n",
    "<img alt='Created in deepnote.com' style='display:inline;max-height:16px;margin:0px;margin-right:7.5px;' src='data:image/svg+xml;base64,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' > </img>\n",
    "Created in <span style='font-weight:600;margin-left:4px;'>Deepnote</span></a>"
   ]
  }
 ],
 "metadata": {
  "deepnote": {
   "is_reactive": false
  },
  "deepnote_execution_queue": [],
  "deepnote_notebook_id": "03b6e8b67b22430f85097f201792ee9f",
  "deepnote_persisted_session": {
   "createdAt": "2023-06-14T20:30:05.487Z"
  },
  "kernelspec": {
   "display_name": "Python 3 (ipykernel)",
   "language": "python",
   "name": "python3"
  },
  "language_info": {
   "codemirror_mode": {
    "name": "ipython",
    "version": 3
   },
   "file_extension": ".py",
   "mimetype": "text/x-python",
   "name": "python",
   "nbconvert_exporter": "python",
   "pygments_lexer": "ipython3",
   "version": "3.9.16"
  }
 },
 "nbformat": 4,
 "nbformat_minor": 4
}
