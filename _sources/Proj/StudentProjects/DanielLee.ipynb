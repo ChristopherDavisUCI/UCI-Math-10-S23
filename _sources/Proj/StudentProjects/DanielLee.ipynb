{
 "cells": [
  {
   "cell_type": "markdown",
   "metadata": {
    "cell_id": "6a1bc42194cc427385564639af0bdab2",
    "deepnote_cell_type": "markdown",
    "tags": []
   },
   "source": [
    "# MonkeyType: A Typing Analysis\n",
    "\n",
    "Author: Daniel Lee\n",
    "\n",
    "Course Project, UC Irvine, Math 10, S23"
   ]
  },
  {
   "cell_type": "markdown",
   "metadata": {
    "cell_id": "08f3543a8b6d46c2a1458068a289d60e",
    "deepnote_cell_type": "markdown",
    "tags": []
   },
   "source": [
    "## Introduction\n",
    "\n",
    "The dataset I will analyze is a self-created typing dataset. Using the online typing practice/test platform [MonkeyType](https://monkeytype.com/), I created a dataset of my test runs with varying parameters. I'm able to set one of three main modes: `time` (typing random words within a time limit), `quote` (typing a random quote from a song, book, etc.), and `words` (typing a given number of random words). For `time` and `word`, I can also choose the length of the test (15, 30, 60 seconds and 10, 25, 50 words respectively). Tests with the highest WPM (words per minute) in their respective modes are labeled as a PB (Personal Bests).\n",
    "\n",
    "In this project, I will analyze the WPM, Consistency, Accuracy, Test Duration, and Mode and their relationship with each other. In addition, I will predict `wpm`, `isPb` (is Personal Best), and `mode` with various machine learning models and assess the accuracy of my model."
   ]
  },
  {
   "cell_type": "markdown",
   "metadata": {
    "cell_id": "db55d3939cdc4302983dadd4077cf49a",
    "deepnote_cell_type": "markdown"
   },
   "source": [
    "## Understanding the Data"
   ]
  },
  {
   "cell_type": "markdown",
   "metadata": {
    "cell_id": "7ede890f41ed4d12a7d70a09cc630e6b",
    "deepnote_cell_type": "markdown"
   },
   "source": [
    "Importing the necessary modules:"
   ]
  },
  {
   "cell_type": "code",
   "execution_count": 1,
   "metadata": {
    "cell_id": "9f30c2234bf24ae1986c4eab8f034724",
    "deepnote_cell_type": "code",
    "deepnote_to_be_reexecuted": false,
    "execution_millis": 2285,
    "execution_start": 1686792590057,
    "source_hash": "1272c83d"
   },
   "outputs": [],
   "source": [
    "import pandas as pd\n",
    "import altair as alt\n",
    "import matplotlib.pyplot as plt\n",
    "from sklearn.linear_model import LinearRegression\n",
    "from sklearn.linear_model import LogisticRegression\n",
    "from sklearn.model_selection import train_test_split\n",
    "from sklearn.tree import DecisionTreeClassifier\n",
    "from sklearn.tree import plot_tree\n",
    "from sklearn.metrics import log_loss\n",
    "from sklearn.pipeline import Pipeline\n",
    "from sklearn.preprocessing import OneHotEncoder\n",
    "from sklearn.compose import ColumnTransformer"
   ]
  },
  {
   "cell_type": "markdown",
   "metadata": {
    "cell_id": "85a528c4a584475d8730c722bbbdc1a2",
    "deepnote_cell_type": "markdown"
   },
   "source": [
    "Loading the data: \n",
    "(The columns of the raw data were merged together, so I separated them.)"
   ]
  },
  {
   "cell_type": "code",
   "execution_count": 2,
   "metadata": {
    "cell_id": "b25443a685b3476a914a8017db43d088",
    "deepnote_cell_type": "code",
    "deepnote_to_be_reexecuted": false,
    "execution_millis": 48,
    "execution_start": 1686792592350,
    "source_hash": "26682217"
   },
   "outputs": [],
   "source": [
    "df_pre = pd.read_csv(\"monkeytype.csv\", sep=\"|\")"
   ]
  },
  {
   "cell_type": "markdown",
   "metadata": {
    "cell_id": "1957fc1b161d49c3ba61bad803a19026",
    "deepnote_cell_type": "markdown"
   },
   "source": [
    "Dropping unnecessary columns:"
   ]
  },
  {
   "cell_type": "code",
   "execution_count": 3,
   "metadata": {
    "cell_id": "dee07d79722943d090ca97a5daa30d1b",
    "deepnote_cell_type": "code",
    "deepnote_to_be_reexecuted": false,
    "execution_millis": 3,
    "execution_start": 1686792592396,
    "source_hash": "2df342c7"
   },
   "outputs": [],
   "source": [
    "df = df_pre.drop([\"_id\", \"rawWpm\", \"mode2\", \"charStats\", \"quoteLength\", \"restartCount\", \"afkDuration\", \"incompleteTestSeconds\", \"punctuation\", \"numbers\", \"language\", \"funbox\", \"difficulty\", \"lazyMode\", \"blindMode\", \"bailedOut\", \"tags\", \"timestamp\"], axis=1)"
   ]
  },
  {
   "cell_type": "markdown",
   "metadata": {
    "cell_id": "fbd05625c458478c99d40913c8d4ff37",
    "deepnote_cell_type": "markdown"
   },
   "source": [
    "Cleaning the `isPb` column:\n",
    "I filled the `nan` values with `0` and changed all entries as type `int`."
   ]
  },
  {
   "cell_type": "code",
   "execution_count": 4,
   "metadata": {
    "cell_id": "4ff3fe858fad4a898303b5add789f33f",
    "deepnote_cell_type": "code",
    "deepnote_to_be_reexecuted": false,
    "execution_millis": 2,
    "execution_start": 1686792592397,
    "source_hash": "69ea3a98"
   },
   "outputs": [],
   "source": [
    "df[\"isPb\"].fillna(0, inplace=True)\n",
    "df[\"isPb\"] = df[\"isPb\"].astype(int)"
   ]
  },
  {
   "cell_type": "markdown",
   "metadata": {
    "cell_id": "e0310d47b1f04c80bc89ffdec13f93cf",
    "deepnote_cell_type": "markdown"
   },
   "source": [
    "This is what our dataframe looks like:"
   ]
  },
  {
   "cell_type": "code",
   "execution_count": 5,
   "metadata": {
    "cell_id": "4f1c0c875beb4f298ed19a9523055b7e",
    "deepnote_cell_type": "code",
    "deepnote_to_be_reexecuted": false,
    "execution_millis": 70,
    "execution_start": 1686792592409,
    "source_hash": "f804c160"
   },
   "outputs": [
    {
     "data": {
      "application/vnd.deepnote.dataframe.v3+json": {
       "column_count": 6,
       "columns": [
        {
         "dtype": "int64",
         "name": "isPb",
         "stats": {
          "histogram": [
           {
            "bin_end": 0.1,
            "bin_start": 0,
            "count": 235
           },
           {
            "bin_end": 0.2,
            "bin_start": 0.1,
            "count": 0
           },
           {
            "bin_end": 0.30000000000000004,
            "bin_start": 0.2,
            "count": 0
           },
           {
            "bin_end": 0.4,
            "bin_start": 0.30000000000000004,
            "count": 0
           },
           {
            "bin_end": 0.5,
            "bin_start": 0.4,
            "count": 0
           },
           {
            "bin_end": 0.6000000000000001,
            "bin_start": 0.5,
            "count": 0
           },
           {
            "bin_end": 0.7000000000000001,
            "bin_start": 0.6000000000000001,
            "count": 0
           },
           {
            "bin_end": 0.8,
            "bin_start": 0.7000000000000001,
            "count": 0
           },
           {
            "bin_end": 0.9,
            "bin_start": 0.8,
            "count": 0
           },
           {
            "bin_end": 1,
            "bin_start": 0.9,
            "count": 29
           }
          ],
          "max": "1",
          "min": "0",
          "nan_count": 0,
          "unique_count": 2
         }
        },
        {
         "dtype": "float64",
         "name": "wpm",
         "stats": {
          "histogram": [
           {
            "bin_end": 93.966,
            "bin_start": 86.21,
            "count": 12
           },
           {
            "bin_end": 101.722,
            "bin_start": 93.966,
            "count": 34
           },
           {
            "bin_end": 109.47800000000001,
            "bin_start": 101.722,
            "count": 46
           },
           {
            "bin_end": 117.23400000000001,
            "bin_start": 109.47800000000001,
            "count": 73
           },
           {
            "bin_end": 124.99000000000001,
            "bin_start": 117.23400000000001,
            "count": 54
           },
           {
            "bin_end": 132.746,
            "bin_start": 124.99000000000001,
            "count": 27
           },
           {
            "bin_end": 140.502,
            "bin_start": 132.746,
            "count": 10
           },
           {
            "bin_end": 148.258,
            "bin_start": 140.502,
            "count": 4
           },
           {
            "bin_end": 156.014,
            "bin_start": 148.258,
            "count": 3
           },
           {
            "bin_end": 163.77,
            "bin_start": 156.014,
            "count": 1
           }
          ],
          "max": "163.77",
          "min": "86.21",
          "nan_count": 0,
          "unique_count": 239
         }
        },
        {
         "dtype": "float64",
         "name": "acc",
         "stats": {
          "histogram": [
           {
            "bin_end": 91.162,
            "bin_start": 90.18,
            "count": 2
           },
           {
            "bin_end": 92.144,
            "bin_start": 91.162,
            "count": 2
           },
           {
            "bin_end": 93.126,
            "bin_start": 92.144,
            "count": 4
           },
           {
            "bin_end": 94.108,
            "bin_start": 93.126,
            "count": 9
           },
           {
            "bin_end": 95.09,
            "bin_start": 94.108,
            "count": 20
           },
           {
            "bin_end": 96.072,
            "bin_start": 95.09,
            "count": 20
           },
           {
            "bin_end": 97.054,
            "bin_start": 96.072,
            "count": 37
           },
           {
            "bin_end": 98.036,
            "bin_start": 97.054,
            "count": 56
           },
           {
            "bin_end": 99.018,
            "bin_start": 98.036,
            "count": 49
           },
           {
            "bin_end": 100,
            "bin_start": 99.018,
            "count": 65
           }
          ],
          "max": "100.0",
          "min": "90.18",
          "nan_count": 0,
          "unique_count": 185
         }
        },
        {
         "dtype": "float64",
         "name": "consistency",
         "stats": {
          "histogram": [
           {
            "bin_end": 57.318999999999996,
            "bin_start": 52.97,
            "count": 3
           },
           {
            "bin_end": 61.668,
            "bin_start": 57.318999999999996,
            "count": 4
           },
           {
            "bin_end": 66.017,
            "bin_start": 61.668,
            "count": 11
           },
           {
            "bin_end": 70.366,
            "bin_start": 66.017,
            "count": 12
           },
           {
            "bin_end": 74.715,
            "bin_start": 70.366,
            "count": 64
           },
           {
            "bin_end": 79.064,
            "bin_start": 74.715,
            "count": 61
           },
           {
            "bin_end": 83.413,
            "bin_start": 79.064,
            "count": 50
           },
           {
            "bin_end": 87.762,
            "bin_start": 83.413,
            "count": 40
           },
           {
            "bin_end": 92.11099999999999,
            "bin_start": 87.762,
            "count": 14
           },
           {
            "bin_end": 96.46,
            "bin_start": 92.11099999999999,
            "count": 5
           }
          ],
          "max": "96.46",
          "min": "52.97",
          "nan_count": 0,
          "unique_count": 250
         }
        },
        {
         "dtype": "object",
         "name": "mode",
         "stats": {
          "categories": [
           {
            "count": 116,
            "name": "quote"
           },
           {
            "count": 86,
            "name": "time"
           },
           {
            "count": 62,
            "name": "words"
           }
          ],
          "nan_count": 0,
          "unique_count": 3
         }
        },
        {
         "dtype": "float64",
         "name": "testDuration",
         "stats": {
          "histogram": [
           {
            "bin_end": 9.143,
            "bin_start": 3.49,
            "count": 17
           },
           {
            "bin_end": 14.796000000000001,
            "bin_start": 9.143,
            "count": 60
           },
           {
            "bin_end": 20.449000000000005,
            "bin_start": 14.796000000000001,
            "count": 58
           },
           {
            "bin_end": 26.102000000000004,
            "bin_start": 20.449000000000005,
            "count": 40
           },
           {
            "bin_end": 31.755000000000003,
            "bin_start": 26.102000000000004,
            "count": 65
           },
           {
            "bin_end": 37.40800000000001,
            "bin_start": 31.755000000000003,
            "count": 7
           },
           {
            "bin_end": 43.06100000000001,
            "bin_start": 37.40800000000001,
            "count": 1
           },
           {
            "bin_end": 48.714000000000006,
            "bin_start": 43.06100000000001,
            "count": 0
           },
           {
            "bin_end": 54.367000000000004,
            "bin_start": 48.714000000000006,
            "count": 0
           },
           {
            "bin_end": 60.02,
            "bin_start": 54.367000000000004,
            "count": 16
           }
          ],
          "max": "60.02",
          "min": "3.49",
          "nan_count": 0,
          "unique_count": 175
         }
        },
        {
         "dtype": "int64",
         "name": "_deepnote_index_column"
        }
       ],
       "row_count": 264,
       "rows": [
        {
         "_deepnote_index_column": 0,
         "acc": 97.48,
         "consistency": 86.75,
         "isPb": 0,
         "mode": "time",
         "testDuration": 15,
         "wpm": 124
        },
        {
         "_deepnote_index_column": 1,
         "acc": 100,
         "consistency": 84.24,
         "isPb": 0,
         "mode": "time",
         "testDuration": 15,
         "wpm": 128.8
        },
        {
         "_deepnote_index_column": 2,
         "acc": 98.77,
         "consistency": 83.71,
         "isPb": 0,
         "mode": "time",
         "testDuration": 15,
         "wpm": 128
        },
        {
         "_deepnote_index_column": 3,
         "acc": 98.05,
         "consistency": 85.03,
         "isPb": 0,
         "mode": "time",
         "testDuration": 60.01,
         "wpm": 118.58
        },
        {
         "_deepnote_index_column": 4,
         "acc": 96.97,
         "consistency": 77.44,
         "isPb": 0,
         "mode": "time",
         "testDuration": 60.01,
         "wpm": 113.58
        },
        {
         "_deepnote_index_column": 5,
         "acc": 93.75,
         "consistency": 74.98,
         "isPb": 0,
         "mode": "time",
         "testDuration": 60,
         "wpm": 103
        },
        {
         "_deepnote_index_column": 6,
         "acc": 94.89,
         "consistency": 76.3,
         "isPb": 0,
         "mode": "time",
         "testDuration": 60.01,
         "wpm": 106.18
        },
        {
         "_deepnote_index_column": 7,
         "acc": 94.1,
         "consistency": 71.84,
         "isPb": 0,
         "mode": "time",
         "testDuration": 60,
         "wpm": 103
        },
        {
         "_deepnote_index_column": 8,
         "acc": 92.93,
         "consistency": 75.91,
         "isPb": 0,
         "mode": "time",
         "testDuration": 60,
         "wpm": 107.6
        },
        {
         "_deepnote_index_column": 9,
         "acc": 95.37,
         "consistency": 79.15,
         "isPb": 0,
         "mode": "time",
         "testDuration": 60,
         "wpm": 109.6
        }
       ]
      },
      "text/html": [
       "<div>\n",
       "<style scoped>\n",
       "    .dataframe tbody tr th:only-of-type {\n",
       "        vertical-align: middle;\n",
       "    }\n",
       "\n",
       "    .dataframe tbody tr th {\n",
       "        vertical-align: top;\n",
       "    }\n",
       "\n",
       "    .dataframe thead th {\n",
       "        text-align: right;\n",
       "    }\n",
       "</style>\n",
       "<table border=\"1\" class=\"dataframe\">\n",
       "  <thead>\n",
       "    <tr style=\"text-align: right;\">\n",
       "      <th></th>\n",
       "      <th>isPb</th>\n",
       "      <th>wpm</th>\n",
       "      <th>acc</th>\n",
       "      <th>consistency</th>\n",
       "      <th>mode</th>\n",
       "      <th>testDuration</th>\n",
       "    </tr>\n",
       "  </thead>\n",
       "  <tbody>\n",
       "    <tr>\n",
       "      <th>0</th>\n",
       "      <td>0</td>\n",
       "      <td>124.00</td>\n",
       "      <td>97.48</td>\n",
       "      <td>86.75</td>\n",
       "      <td>time</td>\n",
       "      <td>15.00</td>\n",
       "    </tr>\n",
       "    <tr>\n",
       "      <th>1</th>\n",
       "      <td>0</td>\n",
       "      <td>128.80</td>\n",
       "      <td>100.00</td>\n",
       "      <td>84.24</td>\n",
       "      <td>time</td>\n",
       "      <td>15.00</td>\n",
       "    </tr>\n",
       "    <tr>\n",
       "      <th>2</th>\n",
       "      <td>0</td>\n",
       "      <td>128.00</td>\n",
       "      <td>98.77</td>\n",
       "      <td>83.71</td>\n",
       "      <td>time</td>\n",
       "      <td>15.00</td>\n",
       "    </tr>\n",
       "    <tr>\n",
       "      <th>3</th>\n",
       "      <td>0</td>\n",
       "      <td>118.58</td>\n",
       "      <td>98.05</td>\n",
       "      <td>85.03</td>\n",
       "      <td>time</td>\n",
       "      <td>60.01</td>\n",
       "    </tr>\n",
       "    <tr>\n",
       "      <th>4</th>\n",
       "      <td>0</td>\n",
       "      <td>113.58</td>\n",
       "      <td>96.97</td>\n",
       "      <td>77.44</td>\n",
       "      <td>time</td>\n",
       "      <td>60.01</td>\n",
       "    </tr>\n",
       "    <tr>\n",
       "      <th>...</th>\n",
       "      <td>...</td>\n",
       "      <td>...</td>\n",
       "      <td>...</td>\n",
       "      <td>...</td>\n",
       "      <td>...</td>\n",
       "      <td>...</td>\n",
       "    </tr>\n",
       "    <tr>\n",
       "      <th>259</th>\n",
       "      <td>0</td>\n",
       "      <td>103.17</td>\n",
       "      <td>98.11</td>\n",
       "      <td>79.31</td>\n",
       "      <td>time</td>\n",
       "      <td>30.01</td>\n",
       "    </tr>\n",
       "    <tr>\n",
       "      <th>260</th>\n",
       "      <td>1</td>\n",
       "      <td>106.40</td>\n",
       "      <td>100.00</td>\n",
       "      <td>80.25</td>\n",
       "      <td>time</td>\n",
       "      <td>30.00</td>\n",
       "    </tr>\n",
       "    <tr>\n",
       "      <th>261</th>\n",
       "      <td>1</td>\n",
       "      <td>105.56</td>\n",
       "      <td>98.88</td>\n",
       "      <td>78.81</td>\n",
       "      <td>time</td>\n",
       "      <td>30.01</td>\n",
       "    </tr>\n",
       "    <tr>\n",
       "      <th>262</th>\n",
       "      <td>1</td>\n",
       "      <td>100.37</td>\n",
       "      <td>95.45</td>\n",
       "      <td>73.69</td>\n",
       "      <td>time</td>\n",
       "      <td>30.01</td>\n",
       "    </tr>\n",
       "    <tr>\n",
       "      <th>263</th>\n",
       "      <td>0</td>\n",
       "      <td>112.78</td>\n",
       "      <td>98.89</td>\n",
       "      <td>86.14</td>\n",
       "      <td>quote</td>\n",
       "      <td>18.94</td>\n",
       "    </tr>\n",
       "  </tbody>\n",
       "</table>\n",
       "<p>264 rows × 6 columns</p>\n",
       "</div>"
      ],
      "text/plain": [
       "     isPb     wpm     acc  consistency   mode  testDuration\n",
       "0       0  124.00   97.48        86.75   time         15.00\n",
       "1       0  128.80  100.00        84.24   time         15.00\n",
       "2       0  128.00   98.77        83.71   time         15.00\n",
       "3       0  118.58   98.05        85.03   time         60.01\n",
       "4       0  113.58   96.97        77.44   time         60.01\n",
       "..    ...     ...     ...          ...    ...           ...\n",
       "259     0  103.17   98.11        79.31   time         30.01\n",
       "260     1  106.40  100.00        80.25   time         30.00\n",
       "261     1  105.56   98.88        78.81   time         30.01\n",
       "262     1  100.37   95.45        73.69   time         30.01\n",
       "263     0  112.78   98.89        86.14  quote         18.94\n",
       "\n",
       "[264 rows x 6 columns]"
      ]
     },
     "execution_count": 5,
     "metadata": {},
     "output_type": "execute_result"
    }
   ],
   "source": [
    "df"
   ]
  },
  {
   "cell_type": "markdown",
   "metadata": {
    "cell_id": "5c59d7503865474e8e7eb320315fc0d5",
    "deepnote_cell_type": "markdown"
   },
   "source": [
    "Some basic statistics to understand the data:"
   ]
  },
  {
   "cell_type": "code",
   "execution_count": 6,
   "metadata": {
    "cell_id": "6258396eed1d48fb873ffd89438f2436",
    "deepnote_cell_type": "code",
    "deepnote_to_be_reexecuted": false,
    "execution_millis": 25,
    "execution_start": 1686792592536,
    "source_hash": "2cba978b"
   },
   "outputs": [
    {
     "data": {
      "text/plain": [
       "quote    116\n",
       "time      86\n",
       "words     62\n",
       "Name: mode, dtype: int64"
      ]
     },
     "execution_count": 6,
     "metadata": {},
     "output_type": "execute_result"
    }
   ],
   "source": [
    "df[\"mode\"].value_counts()"
   ]
  },
  {
   "cell_type": "markdown",
   "metadata": {
    "cell_id": "19a836ddf051404a8c080a2cac38da12",
    "deepnote_cell_type": "markdown"
   },
   "source": [
    "The mode I used the most often was `quote` with 116 tests."
   ]
  },
  {
   "cell_type": "code",
   "execution_count": 7,
   "metadata": {
    "cell_id": "f2a5f6b439d04f4a9dcefda28e8e71e3",
    "deepnote_cell_type": "code",
    "deepnote_to_be_reexecuted": false,
    "execution_millis": 25,
    "execution_start": 1686792592537,
    "source_hash": "c9d6cfa7"
   },
   "outputs": [
    {
     "data": {
      "application/vnd.deepnote.dataframe.v3+json": {
       "column_count": 5,
       "columns": [
        {
         "dtype": "float64",
         "name": "isPb",
         "stats": {
          "histogram": [
           {
            "bin_end": 0.019767441860465116,
            "bin_start": 0,
            "count": 1
           },
           {
            "bin_end": 0.03953488372093023,
            "bin_start": 0.019767441860465116,
            "count": 0
           },
           {
            "bin_end": 0.05930232558139535,
            "bin_start": 0.03953488372093023,
            "count": 0
           },
           {
            "bin_end": 0.07906976744186046,
            "bin_start": 0.05930232558139535,
            "count": 0
           },
           {
            "bin_end": 0.09883720930232558,
            "bin_start": 0.07906976744186046,
            "count": 0
           },
           {
            "bin_end": 0.1186046511627907,
            "bin_start": 0.09883720930232558,
            "count": 0
           },
           {
            "bin_end": 0.13837209302325582,
            "bin_start": 0.1186046511627907,
            "count": 0
           },
           {
            "bin_end": 0.15813953488372093,
            "bin_start": 0.13837209302325582,
            "count": 0
           },
           {
            "bin_end": 0.17790697674418604,
            "bin_start": 0.15813953488372093,
            "count": 0
           },
           {
            "bin_end": 0.19767441860465115,
            "bin_start": 0.17790697674418604,
            "count": 2
           }
          ],
          "max": "0.19767441860465115",
          "min": "0.0",
          "nan_count": 0,
          "unique_count": 3
         }
        },
        {
         "dtype": "float64",
         "name": "wpm",
         "stats": {
          "histogram": [
           {
            "bin_end": 108.1580444938821,
            "bin_start": 106.04465517241381,
            "count": 1
           },
           {
            "bin_end": 110.2714338153504,
            "bin_start": 108.1580444938821,
            "count": 0
           },
           {
            "bin_end": 112.3848231368187,
            "bin_start": 110.2714338153504,
            "count": 0
           },
           {
            "bin_end": 114.49821245828699,
            "bin_start": 112.3848231368187,
            "count": 0
           },
           {
            "bin_end": 116.61160177975529,
            "bin_start": 114.49821245828699,
            "count": 1
           },
           {
            "bin_end": 118.72499110122358,
            "bin_start": 116.61160177975529,
            "count": 0
           },
           {
            "bin_end": 120.83838042269187,
            "bin_start": 118.72499110122358,
            "count": 0
           },
           {
            "bin_end": 122.95176974416017,
            "bin_start": 120.83838042269187,
            "count": 0
           },
           {
            "bin_end": 125.06515906562846,
            "bin_start": 122.95176974416017,
            "count": 0
           },
           {
            "bin_end": 127.17854838709675,
            "bin_start": 125.06515906562846,
            "count": 1
           }
          ],
          "max": "127.17854838709675",
          "min": "106.04465517241381",
          "nan_count": 0,
          "unique_count": 3
         }
        },
        {
         "dtype": "float64",
         "name": "acc",
         "stats": {
          "histogram": [
           {
            "bin_end": 96.8558058954394,
            "bin_start": 96.69637931034485,
            "count": 1
           },
           {
            "bin_end": 97.01523248053394,
            "bin_start": 96.8558058954394,
            "count": 0
           },
           {
            "bin_end": 97.17465906562849,
            "bin_start": 97.01523248053394,
            "count": 0
           },
           {
            "bin_end": 97.33408565072303,
            "bin_start": 97.17465906562849,
            "count": 0
           },
           {
            "bin_end": 97.49351223581758,
            "bin_start": 97.33408565072303,
            "count": 0
           },
           {
            "bin_end": 97.65293882091213,
            "bin_start": 97.49351223581758,
            "count": 0
           },
           {
            "bin_end": 97.81236540600666,
            "bin_start": 97.65293882091213,
            "count": 1
           },
           {
            "bin_end": 97.97179199110121,
            "bin_start": 97.81236540600666,
            "count": 0
           },
           {
            "bin_end": 98.13121857619575,
            "bin_start": 97.97179199110121,
            "count": 0
           },
           {
            "bin_end": 98.2906451612903,
            "bin_start": 98.13121857619575,
            "count": 1
           }
          ],
          "max": "98.2906451612903",
          "min": "96.69637931034485",
          "nan_count": 0,
          "unique_count": 3
         }
        },
        {
         "dtype": "float64",
         "name": "consistency",
         "stats": {
          "histogram": [
           {
            "bin_end": 74.5832792702486,
            "bin_start": 73.79525862068967,
            "count": 1
           },
           {
            "bin_end": 75.37129991980754,
            "bin_start": 74.5832792702486,
            "count": 0
           },
           {
            "bin_end": 76.15932056936649,
            "bin_start": 75.37129991980754,
            "count": 0
           },
           {
            "bin_end": 76.94734121892542,
            "bin_start": 76.15932056936649,
            "count": 0
           },
           {
            "bin_end": 77.73536186848435,
            "bin_start": 76.94734121892542,
            "count": 0
           },
           {
            "bin_end": 78.52338251804329,
            "bin_start": 77.73536186848435,
            "count": 0
           },
           {
            "bin_end": 79.31140316760224,
            "bin_start": 78.52338251804329,
            "count": 1
           },
           {
            "bin_end": 80.09942381716117,
            "bin_start": 79.31140316760224,
            "count": 0
           },
           {
            "bin_end": 80.8874444667201,
            "bin_start": 80.09942381716117,
            "count": 0
           },
           {
            "bin_end": 81.67546511627904,
            "bin_start": 80.8874444667201,
            "count": 1
           }
          ],
          "max": "81.67546511627904",
          "min": "73.79525862068967",
          "nan_count": 0,
          "unique_count": 3
         }
        },
        {
         "dtype": "float64",
         "name": "testDuration",
         "stats": {
          "histogram": [
           {
            "bin_end": 16.1767288072018,
            "bin_start": 14.543225806451611,
            "count": 1
           },
           {
            "bin_end": 17.810231807951993,
            "bin_start": 16.1767288072018,
            "count": 0
           },
           {
            "bin_end": 19.443734808702185,
            "bin_start": 17.810231807951993,
            "count": 0
           },
           {
            "bin_end": 21.077237809452377,
            "bin_start": 19.443734808702185,
            "count": 1
           },
           {
            "bin_end": 22.710740810202566,
            "bin_start": 21.077237809452377,
            "count": 0
           },
           {
            "bin_end": 24.34424381095276,
            "bin_start": 22.710740810202566,
            "count": 0
           },
           {
            "bin_end": 25.97774681170295,
            "bin_start": 24.34424381095276,
            "count": 0
           },
           {
            "bin_end": 27.611249812453142,
            "bin_start": 25.97774681170295,
            "count": 0
           },
           {
            "bin_end": 29.244752813203334,
            "bin_start": 27.611249812453142,
            "count": 0
           },
           {
            "bin_end": 30.878255813953523,
            "bin_start": 29.244752813203334,
            "count": 1
           }
          ],
          "max": "30.878255813953523",
          "min": "14.543225806451611",
          "nan_count": 0,
          "unique_count": 3
         }
        },
        {
         "dtype": "object",
         "name": "_deepnote_index_column"
        }
       ],
       "row_count": 3,
       "rows": [
        {
         "_deepnote_index_column": "quote",
         "acc": 96.69637931034485,
         "consistency": 73.79525862068967,
         "isPb": 0,
         "testDuration": 19.746379310344835,
         "wpm": 106.04465517241381
        },
        {
         "_deepnote_index_column": "time",
         "acc": 97.79779069767444,
         "consistency": 81.67546511627904,
         "isPb": 0.19767441860465115,
         "testDuration": 30.878255813953523,
         "wpm": 116.08895348837211
        },
        {
         "_deepnote_index_column": "words",
         "acc": 98.2906451612903,
         "consistency": 78.81612903225806,
         "isPb": 0.1935483870967742,
         "testDuration": 14.543225806451611,
         "wpm": 127.17854838709675
        }
       ]
      },
      "text/html": [
       "<div>\n",
       "<style scoped>\n",
       "    .dataframe tbody tr th:only-of-type {\n",
       "        vertical-align: middle;\n",
       "    }\n",
       "\n",
       "    .dataframe tbody tr th {\n",
       "        vertical-align: top;\n",
       "    }\n",
       "\n",
       "    .dataframe thead th {\n",
       "        text-align: right;\n",
       "    }\n",
       "</style>\n",
       "<table border=\"1\" class=\"dataframe\">\n",
       "  <thead>\n",
       "    <tr style=\"text-align: right;\">\n",
       "      <th></th>\n",
       "      <th>isPb</th>\n",
       "      <th>wpm</th>\n",
       "      <th>acc</th>\n",
       "      <th>consistency</th>\n",
       "      <th>testDuration</th>\n",
       "    </tr>\n",
       "    <tr>\n",
       "      <th>mode</th>\n",
       "      <th></th>\n",
       "      <th></th>\n",
       "      <th></th>\n",
       "      <th></th>\n",
       "      <th></th>\n",
       "    </tr>\n",
       "  </thead>\n",
       "  <tbody>\n",
       "    <tr>\n",
       "      <th>quote</th>\n",
       "      <td>0.000000</td>\n",
       "      <td>106.044655</td>\n",
       "      <td>96.696379</td>\n",
       "      <td>73.795259</td>\n",
       "      <td>19.746379</td>\n",
       "    </tr>\n",
       "    <tr>\n",
       "      <th>time</th>\n",
       "      <td>0.197674</td>\n",
       "      <td>116.088953</td>\n",
       "      <td>97.797791</td>\n",
       "      <td>81.675465</td>\n",
       "      <td>30.878256</td>\n",
       "    </tr>\n",
       "    <tr>\n",
       "      <th>words</th>\n",
       "      <td>0.193548</td>\n",
       "      <td>127.178548</td>\n",
       "      <td>98.290645</td>\n",
       "      <td>78.816129</td>\n",
       "      <td>14.543226</td>\n",
       "    </tr>\n",
       "  </tbody>\n",
       "</table>\n",
       "</div>"
      ],
      "text/plain": [
       "           isPb         wpm        acc  consistency  testDuration\n",
       "mode                                                             \n",
       "quote  0.000000  106.044655  96.696379    73.795259     19.746379\n",
       "time   0.197674  116.088953  97.797791    81.675465     30.878256\n",
       "words  0.193548  127.178548  98.290645    78.816129     14.543226"
      ]
     },
     "execution_count": 7,
     "metadata": {},
     "output_type": "execute_result"
    }
   ],
   "source": [
    "df.groupby(\"mode\").mean()"
   ]
  },
  {
   "cell_type": "code",
   "execution_count": 8,
   "metadata": {
    "cell_id": "6026c2028a1442e9adcece5e6811ed16",
    "deepnote_cell_type": "code",
    "deepnote_to_be_reexecuted": false,
    "execution_millis": 23,
    "execution_start": 1686792592556,
    "source_hash": "838c0693"
   },
   "outputs": [
    {
     "data": {
      "application/vnd.deepnote.dataframe.v3+json": {
       "column_count": 5,
       "columns": [
        {
         "dtype": "int64",
         "name": "isPb",
         "stats": {
          "histogram": [
           {
            "bin_end": -0.4,
            "bin_start": -0.5,
            "count": 0
           },
           {
            "bin_end": -0.3,
            "bin_start": -0.4,
            "count": 0
           },
           {
            "bin_end": -0.19999999999999996,
            "bin_start": -0.3,
            "count": 0
           },
           {
            "bin_end": -0.09999999999999998,
            "bin_start": -0.19999999999999996,
            "count": 0
           },
           {
            "bin_end": 0,
            "bin_start": -0.09999999999999998,
            "count": 0
           },
           {
            "bin_end": 0.10000000000000009,
            "bin_start": 0,
            "count": 3
           },
           {
            "bin_end": 0.20000000000000007,
            "bin_start": 0.10000000000000009,
            "count": 0
           },
           {
            "bin_end": 0.30000000000000004,
            "bin_start": 0.20000000000000007,
            "count": 0
           },
           {
            "bin_end": 0.4,
            "bin_start": 0.30000000000000004,
            "count": 0
           },
           {
            "bin_end": 0.5,
            "bin_start": 0.4,
            "count": 0
           }
          ],
          "max": "0",
          "min": "0",
          "nan_count": 0,
          "unique_count": 1
         }
        },
        {
         "dtype": "float64",
         "name": "wpm",
         "stats": {
          "histogram": [
           {
            "bin_end": 106.8285,
            "bin_start": 104.75,
            "count": 1
           },
           {
            "bin_end": 108.907,
            "bin_start": 106.8285,
            "count": 0
           },
           {
            "bin_end": 110.9855,
            "bin_start": 108.907,
            "count": 0
           },
           {
            "bin_end": 113.064,
            "bin_start": 110.9855,
            "count": 0
           },
           {
            "bin_end": 115.1425,
            "bin_start": 113.064,
            "count": 0
           },
           {
            "bin_end": 117.221,
            "bin_start": 115.1425,
            "count": 1
           },
           {
            "bin_end": 119.2995,
            "bin_start": 117.221,
            "count": 0
           },
           {
            "bin_end": 121.378,
            "bin_start": 119.2995,
            "count": 0
           },
           {
            "bin_end": 123.45649999999999,
            "bin_start": 121.378,
            "count": 0
           },
           {
            "bin_end": 125.535,
            "bin_start": 123.45649999999999,
            "count": 1
           }
          ],
          "max": "125.535",
          "min": "104.75",
          "nan_count": 0,
          "unique_count": 3
         }
        },
        {
         "dtype": "float64",
         "name": "acc",
         "stats": {
          "histogram": [
           {
            "bin_end": 97.331,
            "bin_start": 97.14,
            "count": 1
           },
           {
            "bin_end": 97.522,
            "bin_start": 97.331,
            "count": 0
           },
           {
            "bin_end": 97.71300000000001,
            "bin_start": 97.522,
            "count": 0
           },
           {
            "bin_end": 97.90400000000001,
            "bin_start": 97.71300000000001,
            "count": 0
           },
           {
            "bin_end": 98.095,
            "bin_start": 97.90400000000001,
            "count": 1
           },
           {
            "bin_end": 98.286,
            "bin_start": 98.095,
            "count": 0
           },
           {
            "bin_end": 98.477,
            "bin_start": 98.286,
            "count": 0
           },
           {
            "bin_end": 98.668,
            "bin_start": 98.477,
            "count": 0
           },
           {
            "bin_end": 98.85900000000001,
            "bin_start": 98.668,
            "count": 0
           },
           {
            "bin_end": 99.05000000000001,
            "bin_start": 98.85900000000001,
            "count": 1
           }
          ],
          "max": "99.05000000000001",
          "min": "97.14",
          "nan_count": 0,
          "unique_count": 3
         }
        },
        {
         "dtype": "float64",
         "name": "consistency",
         "stats": {
          "histogram": [
           {
            "bin_end": 74.2735,
            "bin_start": 73.48,
            "count": 1
           },
           {
            "bin_end": 75.06700000000001,
            "bin_start": 74.2735,
            "count": 0
           },
           {
            "bin_end": 75.8605,
            "bin_start": 75.06700000000001,
            "count": 0
           },
           {
            "bin_end": 76.654,
            "bin_start": 75.8605,
            "count": 0
           },
           {
            "bin_end": 77.44749999999999,
            "bin_start": 76.654,
            "count": 0
           },
           {
            "bin_end": 78.241,
            "bin_start": 77.44749999999999,
            "count": 1
           },
           {
            "bin_end": 79.0345,
            "bin_start": 78.241,
            "count": 0
           },
           {
            "bin_end": 79.82799999999999,
            "bin_start": 79.0345,
            "count": 0
           },
           {
            "bin_end": 80.6215,
            "bin_start": 79.82799999999999,
            "count": 0
           },
           {
            "bin_end": 81.41499999999999,
            "bin_start": 80.6215,
            "count": 1
           }
          ],
          "max": "81.41499999999999",
          "min": "73.48",
          "nan_count": 0,
          "unique_count": 3
         }
        },
        {
         "dtype": "float64",
         "name": "testDuration",
         "stats": {
          "histogram": [
           {
            "bin_end": 14.269,
            "bin_start": 12.52,
            "count": 1
           },
           {
            "bin_end": 16.018,
            "bin_start": 14.269,
            "count": 0
           },
           {
            "bin_end": 17.767,
            "bin_start": 16.018,
            "count": 0
           },
           {
            "bin_end": 19.516,
            "bin_start": 17.767,
            "count": 1
           },
           {
            "bin_end": 21.265,
            "bin_start": 19.516,
            "count": 0
           },
           {
            "bin_end": 23.014,
            "bin_start": 21.265,
            "count": 0
           },
           {
            "bin_end": 24.762999999999998,
            "bin_start": 23.014,
            "count": 0
           },
           {
            "bin_end": 26.512,
            "bin_start": 24.762999999999998,
            "count": 0
           },
           {
            "bin_end": 28.261000000000003,
            "bin_start": 26.512,
            "count": 0
           },
           {
            "bin_end": 30.01,
            "bin_start": 28.261000000000003,
            "count": 1
           }
          ],
          "max": "30.01",
          "min": "12.52",
          "nan_count": 0,
          "unique_count": 3
         }
        },
        {
         "dtype": "object",
         "name": "_deepnote_index_column"
        }
       ],
       "row_count": 3,
       "rows": [
        {
         "_deepnote_index_column": "quote",
         "acc": 97.14,
         "consistency": 73.48,
         "isPb": 0,
         "testDuration": 18.54,
         "wpm": 104.75
        },
        {
         "_deepnote_index_column": "time",
         "acc": 98.06,
         "consistency": 81.41499999999999,
         "isPb": 0,
         "testDuration": 30.01,
         "wpm": 115.96
        },
        {
         "_deepnote_index_column": "words",
         "acc": 99.05000000000001,
         "consistency": 78.215,
         "isPb": 0,
         "testDuration": 12.52,
         "wpm": 125.535
        }
       ]
      },
      "text/html": [
       "<div>\n",
       "<style scoped>\n",
       "    .dataframe tbody tr th:only-of-type {\n",
       "        vertical-align: middle;\n",
       "    }\n",
       "\n",
       "    .dataframe tbody tr th {\n",
       "        vertical-align: top;\n",
       "    }\n",
       "\n",
       "    .dataframe thead th {\n",
       "        text-align: right;\n",
       "    }\n",
       "</style>\n",
       "<table border=\"1\" class=\"dataframe\">\n",
       "  <thead>\n",
       "    <tr style=\"text-align: right;\">\n",
       "      <th></th>\n",
       "      <th>isPb</th>\n",
       "      <th>wpm</th>\n",
       "      <th>acc</th>\n",
       "      <th>consistency</th>\n",
       "      <th>testDuration</th>\n",
       "    </tr>\n",
       "    <tr>\n",
       "      <th>mode</th>\n",
       "      <th></th>\n",
       "      <th></th>\n",
       "      <th></th>\n",
       "      <th></th>\n",
       "      <th></th>\n",
       "    </tr>\n",
       "  </thead>\n",
       "  <tbody>\n",
       "    <tr>\n",
       "      <th>quote</th>\n",
       "      <td>0</td>\n",
       "      <td>104.750</td>\n",
       "      <td>97.14</td>\n",
       "      <td>73.480</td>\n",
       "      <td>18.54</td>\n",
       "    </tr>\n",
       "    <tr>\n",
       "      <th>time</th>\n",
       "      <td>0</td>\n",
       "      <td>115.960</td>\n",
       "      <td>98.06</td>\n",
       "      <td>81.415</td>\n",
       "      <td>30.01</td>\n",
       "    </tr>\n",
       "    <tr>\n",
       "      <th>words</th>\n",
       "      <td>0</td>\n",
       "      <td>125.535</td>\n",
       "      <td>99.05</td>\n",
       "      <td>78.215</td>\n",
       "      <td>12.52</td>\n",
       "    </tr>\n",
       "  </tbody>\n",
       "</table>\n",
       "</div>"
      ],
      "text/plain": [
       "       isPb      wpm    acc  consistency  testDuration\n",
       "mode                                                  \n",
       "quote     0  104.750  97.14       73.480         18.54\n",
       "time      0  115.960  98.06       81.415         30.01\n",
       "words     0  125.535  99.05       78.215         12.52"
      ]
     },
     "execution_count": 8,
     "metadata": {},
     "output_type": "execute_result"
    }
   ],
   "source": [
    "df.groupby(\"mode\").median()"
   ]
  },
  {
   "cell_type": "markdown",
   "metadata": {
    "cell_id": "6950fe79facc4b5a85c06982aee25eeb",
    "deepnote_cell_type": "markdown"
   },
   "source": [
    "In general, the `words` mode has the highest WPM and Accuracy, while the `time` mode has the highest Consistency and Test Duration."
   ]
  },
  {
   "cell_type": "markdown",
   "metadata": {
    "cell_id": "b109784c70e74d0980b785787fef5ae8",
    "deepnote_cell_type": "markdown"
   },
   "source": [
    "### Plotting WPM"
   ]
  },
  {
   "cell_type": "markdown",
   "metadata": {
    "cell_id": "7c6d1d10a116458a8ddb59907b8e35a1",
    "deepnote_cell_type": "markdown"
   },
   "source": [
    "Here, I plotted Accuracy, Consistency, and Test Duration against WPM individually to understand their relationships."
   ]
  },
  {
   "cell_type": "markdown",
   "metadata": {
    "cell_id": "392ceec768524ff5b1789422f570cbdb",
    "deepnote_cell_type": "markdown"
   },
   "source": [
    "The following code was implemented from [Bing Chat](https://www.bing.com/search?form=MY02AA&OCID=MY02AA&pl=launch&q=Bing+AI&showconv=1). It uses list comprehension to create a list of charts and concatenates the charts horizontally.\n",
    "*Documentation of [altair.hconcat](https://altair-viz.github.io/user_guide/generated/toplevel/altair.HConcatChart.html)*"
   ]
  },
  {
   "cell_type": "code",
   "execution_count": 9,
   "metadata": {
    "cell_id": "db609b4b8e514d3398ddc3a505f98c06",
    "deepnote_cell_type": "code",
    "deepnote_to_be_reexecuted": false,
    "execution_millis": 20,
    "execution_start": 1686792592583,
    "source_hash": "a44225e6"
   },
   "outputs": [],
   "source": [
    "cols = [\"acc\", \"consistency\", \"testDuration\"]"
   ]
  },
  {
   "cell_type": "code",
   "execution_count": 10,
   "metadata": {
    "cell_id": "948f7937be3c486f9700891696972bfd",
    "deepnote_cell_type": "code",
    "deepnote_to_be_reexecuted": false,
    "execution_millis": 61,
    "execution_start": 1686792592625,
    "source_hash": "6baf577b"
   },
   "outputs": [
    {
     "data": {
      "text/html": [
       "\n",
       "<div id=\"altair-viz-1eeb5b47b2024eb38a57464976a6a50f\"></div>\n",
       "<script type=\"text/javascript\">\n",
       "  var VEGA_DEBUG = (typeof VEGA_DEBUG == \"undefined\") ? {} : VEGA_DEBUG;\n",
       "  (function(spec, embedOpt){\n",
       "    let outputDiv = document.currentScript.previousElementSibling;\n",
       "    if (outputDiv.id !== \"altair-viz-1eeb5b47b2024eb38a57464976a6a50f\") {\n",
       "      outputDiv = document.getElementById(\"altair-viz-1eeb5b47b2024eb38a57464976a6a50f\");\n",
       "    }\n",
       "    const paths = {\n",
       "      \"vega\": \"https://cdn.jsdelivr.net/npm//vega@5?noext\",\n",
       "      \"vega-lib\": \"https://cdn.jsdelivr.net/npm//vega-lib?noext\",\n",
       "      \"vega-lite\": \"https://cdn.jsdelivr.net/npm//vega-lite@4.17.0?noext\",\n",
       "      \"vega-embed\": \"https://cdn.jsdelivr.net/npm//vega-embed@6?noext\",\n",
       "    };\n",
       "\n",
       "    function maybeLoadScript(lib, version) {\n",
       "      var key = `${lib.replace(\"-\", \"\")}_version`;\n",
       "      return (VEGA_DEBUG[key] == version) ?\n",
       "        Promise.resolve(paths[lib]) :\n",
       "        new Promise(function(resolve, reject) {\n",
       "          var s = document.createElement('script');\n",
       "          document.getElementsByTagName(\"head\")[0].appendChild(s);\n",
       "          s.async = true;\n",
       "          s.onload = () => {\n",
       "            VEGA_DEBUG[key] = version;\n",
       "            return resolve(paths[lib]);\n",
       "          };\n",
       "          s.onerror = () => reject(`Error loading script: ${paths[lib]}`);\n",
       "          s.src = paths[lib];\n",
       "        });\n",
       "    }\n",
       "\n",
       "    function showError(err) {\n",
       "      outputDiv.innerHTML = `<div class=\"error\" style=\"color:red;\">${err}</div>`;\n",
       "      throw err;\n",
       "    }\n",
       "\n",
       "    function displayChart(vegaEmbed) {\n",
       "      vegaEmbed(outputDiv, spec, embedOpt)\n",
       "        .catch(err => showError(`Javascript Error: ${err.message}<br>This usually means there's a typo in your chart specification. See the javascript console for the full traceback.`));\n",
       "    }\n",
       "\n",
       "    if(typeof define === \"function\" && define.amd) {\n",
       "      requirejs.config({paths});\n",
       "      require([\"vega-embed\"], displayChart, err => showError(`Error loading script: ${err.message}`));\n",
       "    } else {\n",
       "      maybeLoadScript(\"vega\", \"5\")\n",
       "        .then(() => maybeLoadScript(\"vega-lite\", \"4.17.0\"))\n",
       "        .then(() => maybeLoadScript(\"vega-embed\", \"6\"))\n",
       "        .catch(showError)\n",
       "        .then(() => displayChart(vegaEmbed));\n",
       "    }\n",
       "  })({\"config\": {\"view\": {\"continuousWidth\": 400, \"continuousHeight\": 300}}, \"hconcat\": [{\"mark\": \"circle\", \"encoding\": {\"color\": {\"field\": \"mode\", \"type\": \"nominal\"}, \"x\": {\"field\": \"acc\", \"scale\": {\"zero\": false}, \"type\": \"quantitative\"}, \"y\": {\"field\": \"wpm\", \"type\": \"quantitative\"}}, \"height\": 400, \"title\": \"acc vs wpm\", \"width\": 400}, {\"mark\": \"circle\", \"encoding\": {\"color\": {\"field\": \"mode\", \"type\": \"nominal\"}, \"x\": {\"field\": \"consistency\", \"scale\": {\"zero\": false}, \"type\": \"quantitative\"}, \"y\": {\"field\": \"wpm\", \"type\": \"quantitative\"}}, \"height\": 400, \"title\": \"consistency vs wpm\", \"width\": 400}, {\"mark\": \"circle\", \"encoding\": {\"color\": {\"field\": \"mode\", \"type\": \"nominal\"}, \"x\": {\"field\": \"testDuration\", \"scale\": {\"zero\": false}, \"type\": \"quantitative\"}, \"y\": {\"field\": \"wpm\", \"type\": \"quantitative\"}}, \"height\": 400, \"title\": \"testDuration vs wpm\", \"width\": 400}], \"data\": {\"name\": \"data-4ad22098ffa100f3f8d9634a33e2dbcf\"}, \"$schema\": \"https://vega.github.io/schema/vega-lite/v4.17.0.json\", \"datasets\": {\"data-4ad22098ffa100f3f8d9634a33e2dbcf\": [{\"isPb\": 0, \"wpm\": 124.0, \"acc\": 97.48, \"consistency\": 86.75, \"mode\": \"time\", \"testDuration\": 15.0}, {\"isPb\": 0, \"wpm\": 128.8, \"acc\": 100.0, \"consistency\": 84.24, \"mode\": \"time\", \"testDuration\": 15.0}, {\"isPb\": 0, \"wpm\": 128.0, \"acc\": 98.77, \"consistency\": 83.71, \"mode\": \"time\", \"testDuration\": 15.0}, {\"isPb\": 0, \"wpm\": 118.58, \"acc\": 98.05, \"consistency\": 85.03, \"mode\": \"time\", \"testDuration\": 60.01}, {\"isPb\": 0, \"wpm\": 113.58, \"acc\": 96.97, \"consistency\": 77.44, \"mode\": \"time\", \"testDuration\": 60.01}, {\"isPb\": 0, \"wpm\": 103.0, \"acc\": 93.75, \"consistency\": 74.98, \"mode\": \"time\", \"testDuration\": 60.0}, {\"isPb\": 0, \"wpm\": 106.18, \"acc\": 94.89, \"consistency\": 76.3, \"mode\": \"time\", \"testDuration\": 60.01}, {\"isPb\": 0, \"wpm\": 103.0, \"acc\": 94.1, \"consistency\": 71.84, \"mode\": \"time\", \"testDuration\": 60.0}, {\"isPb\": 0, \"wpm\": 107.6, \"acc\": 92.93, \"consistency\": 75.91, \"mode\": \"time\", \"testDuration\": 60.0}, {\"isPb\": 0, \"wpm\": 109.6, \"acc\": 95.37, \"consistency\": 79.15, \"mode\": \"time\", \"testDuration\": 60.0}, {\"isPb\": 0, \"wpm\": 111.0, \"acc\": 97.55, \"consistency\": 74.7, \"mode\": \"time\", \"testDuration\": 60.0}, {\"isPb\": 0, \"wpm\": 109.98, \"acc\": 96.35, \"consistency\": 75.48, \"mode\": \"time\", \"testDuration\": 60.01}, {\"isPb\": 0, \"wpm\": 120.8, \"acc\": 98.09, \"consistency\": 84.06, \"mode\": \"time\", \"testDuration\": 15.0}, {\"isPb\": 0, \"wpm\": 124.72, \"acc\": 97.5, \"consistency\": 77.12, \"mode\": \"time\", \"testDuration\": 15.01}, {\"isPb\": 0, \"wpm\": 129.64, \"acc\": 97.58, \"consistency\": 92.19, \"mode\": \"words\", \"testDuration\": 10.83}, {\"isPb\": 0, \"wpm\": 115.09, \"acc\": 96.27, \"consistency\": 70.53, \"mode\": \"words\", \"testDuration\": 13.45}, {\"isPb\": 0, \"wpm\": 120.0, \"acc\": 99.23, \"consistency\": 83.23, \"mode\": \"words\", \"testDuration\": 12.8}, {\"isPb\": 0, \"wpm\": 124.68, \"acc\": 99.22, \"consistency\": 74.55, \"mode\": \"words\", \"testDuration\": 12.32}, {\"isPb\": 0, \"wpm\": 111.52, \"acc\": 95.57, \"consistency\": 77.56, \"mode\": \"words\", \"testDuration\": 27.44}, {\"isPb\": 0, \"wpm\": 118.85, \"acc\": 96.7, \"consistency\": 78.24, \"mode\": \"words\", \"testDuration\": 26.15}, {\"isPb\": 0, \"wpm\": 114.86, \"acc\": 97.34, \"consistency\": 79.06, \"mode\": \"words\", \"testDuration\": 26.64}, {\"isPb\": 0, \"wpm\": 114.92, \"acc\": 97.16, \"consistency\": 77.4, \"mode\": \"words\", \"testDuration\": 28.61}, {\"isPb\": 0, \"wpm\": 111.69, \"acc\": 94.33, \"consistency\": 83.32, \"mode\": \"words\", \"testDuration\": 28.58}, {\"isPb\": 1, \"wpm\": 134.11, \"acc\": 99.6, \"consistency\": 81.89, \"mode\": \"words\", \"testDuration\": 22.37}, {\"isPb\": 0, \"wpm\": 116.93, \"acc\": 98.79, \"consistency\": 75.88, \"mode\": \"words\", \"testDuration\": 25.04}, {\"isPb\": 0, \"wpm\": 124.82, \"acc\": 100.0, \"consistency\": 84.02, \"mode\": \"words\", \"testDuration\": 12.69}, {\"isPb\": 0, \"wpm\": 100.08, \"acc\": 91.87, \"consistency\": 67.76, \"mode\": \"words\", \"testDuration\": 13.07}, {\"isPb\": 0, \"wpm\": 131.15, \"acc\": 95.42, \"consistency\": 87.54, \"mode\": \"words\", \"testDuration\": 10.98}, {\"isPb\": 0, \"wpm\": 134.08, \"acc\": 99.18, \"consistency\": 79.65, \"mode\": \"words\", \"testDuration\": 10.74}, {\"isPb\": 0, \"wpm\": 119.01, \"acc\": 97.78, \"consistency\": 74.12, \"mode\": \"words\", \"testDuration\": 13.31}, {\"isPb\": 0, \"wpm\": 119.03, \"acc\": 97.71, \"consistency\": 83.28, \"mode\": \"words\", \"testDuration\": 12.4}, {\"isPb\": 0, \"wpm\": 125.08, \"acc\": 97.06, \"consistency\": 74.4, \"mode\": \"words\", \"testDuration\": 12.28}, {\"isPb\": 0, \"wpm\": 116.86, \"acc\": 96.09, \"consistency\": 75.16, \"mode\": \"words\", \"testDuration\": 12.63}, {\"isPb\": 0, \"wpm\": 113.49, \"acc\": 94.78, \"consistency\": 75.33, \"mode\": \"words\", \"testDuration\": 26.01}, {\"isPb\": 0, \"wpm\": 123.09, \"acc\": 96.92, \"consistency\": 76.29, \"mode\": \"words\", \"testDuration\": 24.08}, {\"isPb\": 0, \"wpm\": 121.92, \"acc\": 94.23, \"consistency\": 74.77, \"mode\": \"words\", \"testDuration\": 23.13}, {\"isPb\": 1, \"wpm\": 146.72, \"acc\": 100.0, \"consistency\": 83.84, \"mode\": \"words\", \"testDuration\": 11.45}, {\"isPb\": 0, \"wpm\": 140.46, \"acc\": 100.0, \"consistency\": 96.46, \"mode\": \"words\", \"testDuration\": 3.93}, {\"isPb\": 0, \"wpm\": 125.85, \"acc\": 98.08, \"consistency\": 77.0, \"mode\": \"words\", \"testDuration\": 24.41}, {\"isPb\": 0, \"wpm\": 121.47, \"acc\": 97.38, \"consistency\": 82.38, \"mode\": \"words\", \"testDuration\": 25.39}, {\"isPb\": 0, \"wpm\": 122.8, \"acc\": 98.71, \"consistency\": 82.66, \"mode\": \"time\", \"testDuration\": 30.0}, {\"isPb\": 0, \"wpm\": 128.71, \"acc\": 98.2, \"consistency\": 89.19, \"mode\": \"time\", \"testDuration\": 15.01}, {\"isPb\": 0, \"wpm\": 111.42, \"acc\": 94.55, \"consistency\": 67.89, \"mode\": \"quote\", \"testDuration\": 27.68}, {\"isPb\": 0, \"wpm\": 123.05, \"acc\": 96.4, \"consistency\": 86.67, \"mode\": \"quote\", \"testDuration\": 9.85}, {\"isPb\": 0, \"wpm\": 109.23, \"acc\": 97.59, \"consistency\": 78.68, \"mode\": \"quote\", \"testDuration\": 30.76}, {\"isPb\": 0, \"wpm\": 100.9, \"acc\": 95.45, \"consistency\": 72.87, \"mode\": \"quote\", \"testDuration\": 22.12}, {\"isPb\": 0, \"wpm\": 124.72, \"acc\": 97.5, \"consistency\": 80.14, \"mode\": \"time\", \"testDuration\": 15.01}, {\"isPb\": 1, \"wpm\": 163.77, \"acc\": 100.0, \"consistency\": 53.71, \"mode\": \"words\", \"testDuration\": 4.03}, {\"isPb\": 0, \"wpm\": 144.39, \"acc\": 100.0, \"consistency\": 92.64, \"mode\": \"words\", \"testDuration\": 3.74}, {\"isPb\": 0, \"wpm\": 116.82, \"acc\": 97.63, \"consistency\": 75.5, \"mode\": \"quote\", \"testDuration\": 29.07}, {\"isPb\": 0, \"wpm\": 101.89, \"acc\": 97.37, \"consistency\": 71.48, \"mode\": \"quote\", \"testDuration\": 17.43}, {\"isPb\": 0, \"wpm\": 99.54, \"acc\": 96.08, \"consistency\": 80.43, \"mode\": \"quote\", \"testDuration\": 34.6}, {\"isPb\": 0, \"wpm\": 100.14, \"acc\": 95.65, \"consistency\": 71.26, \"mode\": \"quote\", \"testDuration\": 21.09}, {\"isPb\": 0, \"wpm\": 109.21, \"acc\": 97.05, \"consistency\": 75.12, \"mode\": \"quote\", \"testDuration\": 28.68}, {\"isPb\": 0, \"wpm\": 112.12, \"acc\": 97.61, \"consistency\": 78.54, \"mode\": \"quote\", \"testDuration\": 21.62}, {\"isPb\": 0, \"wpm\": 102.61, \"acc\": 95.45, \"consistency\": 73.89, \"mode\": \"quote\", \"testDuration\": 13.8}, {\"isPb\": 0, \"wpm\": 108.56, \"acc\": 94.07, \"consistency\": 68.71, \"mode\": \"quote\", \"testDuration\": 12.27}, {\"isPb\": 0, \"wpm\": 97.45, \"acc\": 93.58, \"consistency\": 61.41, \"mode\": \"quote\", \"testDuration\": 12.56}, {\"isPb\": 0, \"wpm\": 111.06, \"acc\": 98.48, \"consistency\": 70.8, \"mode\": \"quote\", \"testDuration\": 21.07}, {\"isPb\": 0, \"wpm\": 114.51, \"acc\": 96.57, \"consistency\": 80.82, \"mode\": \"quote\", \"testDuration\": 17.5}, {\"isPb\": 0, \"wpm\": 96.45, \"acc\": 94.62, \"consistency\": 71.98, \"mode\": \"quote\", \"testDuration\": 25.63}, {\"isPb\": 0, \"wpm\": 100.91, \"acc\": 95.9, \"consistency\": 69.79, \"mode\": \"quote\", \"testDuration\": 32.82}, {\"isPb\": 0, \"wpm\": 124.9, \"acc\": 98.17, \"consistency\": 76.65, \"mode\": \"quote\", \"testDuration\": 10.28}, {\"isPb\": 0, \"wpm\": 124.47, \"acc\": 98.1, \"consistency\": 84.2, \"mode\": \"quote\", \"testDuration\": 9.93}, {\"isPb\": 0, \"wpm\": 115.01, \"acc\": 97.74, \"consistency\": 79.24, \"mode\": \"words\", \"testDuration\": 26.71}, {\"isPb\": 0, \"wpm\": 117.12, \"acc\": 96.84, \"consistency\": 77.28, \"mode\": \"words\", \"testDuration\": 25.0}, {\"isPb\": 0, \"wpm\": 121.27, \"acc\": 98.17, \"consistency\": 84.32, \"mode\": \"words\", \"testDuration\": 25.43}, {\"isPb\": 0, \"wpm\": 126.21, \"acc\": 98.51, \"consistency\": 81.97, \"mode\": \"words\", \"testDuration\": 24.72}, {\"isPb\": 0, \"wpm\": 129.29, \"acc\": 99.2, \"consistency\": 87.93, \"mode\": \"words\", \"testDuration\": 22.74}, {\"isPb\": 0, \"wpm\": 124.01, \"acc\": 98.23, \"consistency\": 76.5, \"mode\": \"words\", \"testDuration\": 26.32}, {\"isPb\": 0, \"wpm\": 125.26, \"acc\": 98.92, \"consistency\": 78.19, \"mode\": \"words\", \"testDuration\": 26.25}, {\"isPb\": 0, \"wpm\": 118.78, \"acc\": 97.39, \"consistency\": 79.93, \"mode\": \"time\", \"testDuration\": 60.01}, {\"isPb\": 1, \"wpm\": 119.58, \"acc\": 98.68, \"consistency\": 80.64, \"mode\": \"time\", \"testDuration\": 60.01}, {\"isPb\": 0, \"wpm\": 113.16, \"acc\": 96.31, \"consistency\": 82.1, \"mode\": \"time\", \"testDuration\": 60.02}, {\"isPb\": 0, \"wpm\": 113.0, \"acc\": 97.27, \"consistency\": 78.07, \"mode\": \"time\", \"testDuration\": 60.0}, {\"isPb\": 0, \"wpm\": 109.38, \"acc\": 96.17, \"consistency\": 81.9, \"mode\": \"time\", \"testDuration\": 60.01}, {\"isPb\": 0, \"wpm\": 111.98, \"acc\": 97.41, \"consistency\": 75.4, \"mode\": \"time\", \"testDuration\": 60.01}, {\"isPb\": 1, \"wpm\": 115.78, \"acc\": 95.27, \"consistency\": 77.67, \"mode\": \"time\", \"testDuration\": 60.01}, {\"isPb\": 0, \"wpm\": 116.55, \"acc\": 98.52, \"consistency\": 84.54, \"mode\": \"words\", \"testDuration\": 26.77}, {\"isPb\": 1, \"wpm\": 131.45, \"acc\": 99.27, \"consistency\": 86.57, \"mode\": \"words\", \"testDuration\": 24.74}, {\"isPb\": 1, \"wpm\": 144.09, \"acc\": 100.0, \"consistency\": 74.37, \"mode\": \"words\", \"testDuration\": 10.16}, {\"isPb\": 0, \"wpm\": 125.56, \"acc\": 99.05, \"consistency\": 85.82, \"mode\": \"time\", \"testDuration\": 30.01}, {\"isPb\": 0, \"wpm\": 122.0, \"acc\": 98.71, \"consistency\": 79.61, \"mode\": \"time\", \"testDuration\": 30.0}, {\"isPb\": 0, \"wpm\": 110.78, \"acc\": 97.28, \"consistency\": 72.44, \"mode\": \"quote\", \"testDuration\": 30.44}, {\"isPb\": 0, \"wpm\": 131.68, \"acc\": 97.56, \"consistency\": 84.36, \"mode\": \"words\", \"testDuration\": 10.48}, {\"isPb\": 0, \"wpm\": 117.75, \"acc\": 93.2, \"consistency\": 74.11, \"mode\": \"words\", \"testDuration\": 13.35}, {\"isPb\": 0, \"wpm\": 129.48, \"acc\": 99.28, \"consistency\": 85.14, \"mode\": \"words\", \"testDuration\": 12.79}, {\"isPb\": 0, \"wpm\": 126.36, \"acc\": 98.46, \"consistency\": 83.3, \"mode\": \"time\", \"testDuration\": 30.01}, {\"isPb\": 0, \"wpm\": 121.16, \"acc\": 97.13, \"consistency\": 81.09, \"mode\": \"time\", \"testDuration\": 30.01}, {\"isPb\": 0, \"wpm\": 110.19, \"acc\": 94.81, \"consistency\": 71.78, \"mode\": \"quote\", \"testDuration\": 13.94}, {\"isPb\": 0, \"wpm\": 108.38, \"acc\": 93.28, \"consistency\": 67.7, \"mode\": \"quote\", \"testDuration\": 12.29}, {\"isPb\": 0, \"wpm\": 108.86, \"acc\": 95.71, \"consistency\": 76.94, \"mode\": \"quote\", \"testDuration\": 24.14}, {\"isPb\": 0, \"wpm\": 114.76, \"acc\": 96.67, \"consistency\": 78.24, \"mode\": \"time\", \"testDuration\": 30.01}, {\"isPb\": 0, \"wpm\": 99.38, \"acc\": 94.55, \"consistency\": 77.74, \"mode\": \"quote\", \"testDuration\": 22.46}, {\"isPb\": 1, \"wpm\": 135.2, \"acc\": 100.0, \"consistency\": 90.03, \"mode\": \"time\", \"testDuration\": 15.0}, {\"isPb\": 0, \"wpm\": 115.2, \"acc\": 98.63, \"consistency\": 85.73, \"mode\": \"time\", \"testDuration\": 15.0}, {\"isPb\": 0, \"wpm\": 124.72, \"acc\": 98.11, \"consistency\": 84.67, \"mode\": \"time\", \"testDuration\": 15.01}, {\"isPb\": 0, \"wpm\": 123.2, \"acc\": 98.72, \"consistency\": 86.04, \"mode\": \"time\", \"testDuration\": 15.0}, {\"isPb\": 0, \"wpm\": 115.92, \"acc\": 94.94, \"consistency\": 78.39, \"mode\": \"time\", \"testDuration\": 15.01}, {\"isPb\": 0, \"wpm\": 124.72, \"acc\": 100.0, \"consistency\": 85.61, \"mode\": \"time\", \"testDuration\": 15.01}, {\"isPb\": 0, \"wpm\": 130.4, \"acc\": 96.51, \"consistency\": 85.81, \"mode\": \"time\", \"testDuration\": 15.0}, {\"isPb\": 0, \"wpm\": 121.52, \"acc\": 98.7, \"consistency\": 83.52, \"mode\": \"time\", \"testDuration\": 15.01}, {\"isPb\": 0, \"wpm\": 119.92, \"acc\": 97.47, \"consistency\": 83.79, \"mode\": \"time\", \"testDuration\": 15.01}, {\"isPb\": 1, \"wpm\": 130.76, \"acc\": 99.7, \"consistency\": 88.59, \"mode\": \"time\", \"testDuration\": 30.01}, {\"isPb\": 0, \"wpm\": 127.91, \"acc\": 99.38, \"consistency\": 88.48, \"mode\": \"time\", \"testDuration\": 15.01}, {\"isPb\": 0, \"wpm\": 111.2, \"acc\": 95.95, \"consistency\": 83.5, \"mode\": \"time\", \"testDuration\": 15.0}, {\"isPb\": 0, \"wpm\": 119.92, \"acc\": 96.82, \"consistency\": 80.62, \"mode\": \"time\", \"testDuration\": 15.01}, {\"isPb\": 0, \"wpm\": 87.96, \"acc\": 90.58, \"consistency\": 73.09, \"mode\": \"quote\", \"testDuration\": 16.78}, {\"isPb\": 0, \"wpm\": 103.85, \"acc\": 96.14, \"consistency\": 71.92, \"mode\": \"quote\", \"testDuration\": 33.28}, {\"isPb\": 0, \"wpm\": 110.55, \"acc\": 97.76, \"consistency\": 70.97, \"mode\": \"quote\", \"testDuration\": 14.22}, {\"isPb\": 0, \"wpm\": 120.8, \"acc\": 98.06, \"consistency\": 82.1, \"mode\": \"time\", \"testDuration\": 15.0}, {\"isPb\": 1, \"wpm\": 133.6, \"acc\": 98.27, \"consistency\": 90.57, \"mode\": \"time\", \"testDuration\": 15.0}, {\"isPb\": 0, \"wpm\": 124.72, \"acc\": 100.0, \"consistency\": 79.53, \"mode\": \"time\", \"testDuration\": 15.01}, {\"isPb\": 0, \"wpm\": 115.56, \"acc\": 97.64, \"consistency\": 80.64, \"mode\": \"time\", \"testDuration\": 30.01}, {\"isPb\": 1, \"wpm\": 122.8, \"acc\": 99.03, \"consistency\": 80.11, \"mode\": \"time\", \"testDuration\": 30.0}, {\"isPb\": 0, \"wpm\": 119.83, \"acc\": 97.96, \"consistency\": 75.51, \"mode\": \"quote\", \"testDuration\": 14.42}, {\"isPb\": 0, \"wpm\": 117.61, \"acc\": 99.14, \"consistency\": 74.32, \"mode\": \"quote\", \"testDuration\": 23.57}, {\"isPb\": 0, \"wpm\": 104.43, \"acc\": 97.16, \"consistency\": 72.03, \"mode\": \"quote\", \"testDuration\": 19.42}, {\"isPb\": 0, \"wpm\": 98.54, \"acc\": 93.68, \"consistency\": 72.56, \"mode\": \"quote\", \"testDuration\": 19.85}, {\"isPb\": 0, \"wpm\": 113.04, \"acc\": 97.7, \"consistency\": 74.34, \"mode\": \"quote\", \"testDuration\": 17.94}, {\"isPb\": 0, \"wpm\": 99.87, \"acc\": 95.07, \"consistency\": 63.72, \"mode\": \"quote\", \"testDuration\": 15.86}, {\"isPb\": 0, \"wpm\": 116.0, \"acc\": 97.02, \"consistency\": 77.8, \"mode\": \"time\", \"testDuration\": 30.0}, {\"isPb\": 0, \"wpm\": 119.16, \"acc\": 98.06, \"consistency\": 78.71, \"mode\": \"time\", \"testDuration\": 30.01}, {\"isPb\": 0, \"wpm\": 116.36, \"acc\": 98.31, \"consistency\": 83.5, \"mode\": \"time\", \"testDuration\": 30.01}, {\"isPb\": 0, \"wpm\": 111.56, \"acc\": 97.89, \"consistency\": 84.93, \"mode\": \"time\", \"testDuration\": 30.01}, {\"isPb\": 0, \"wpm\": 105.56, \"acc\": 96.36, \"consistency\": 78.53, \"mode\": \"time\", \"testDuration\": 30.01}, {\"isPb\": 0, \"wpm\": 105.16, \"acc\": 94.64, \"consistency\": 74.9, \"mode\": \"time\", \"testDuration\": 30.01}, {\"isPb\": 0, \"wpm\": 111.56, \"acc\": 95.29, \"consistency\": 86.87, \"mode\": \"time\", \"testDuration\": 30.01}, {\"isPb\": 0, \"wpm\": 103.6, \"acc\": 97.39, \"consistency\": 73.23, \"mode\": \"quote\", \"testDuration\": 30.0}, {\"isPb\": 0, \"wpm\": 109.44, \"acc\": 98.07, \"consistency\": 72.2, \"mode\": \"quote\", \"testDuration\": 22.04}, {\"isPb\": 0, \"wpm\": 100.85, \"acc\": 96.89, \"consistency\": 60.93, \"mode\": \"quote\", \"testDuration\": 22.25}, {\"isPb\": 0, \"wpm\": 120.6, \"acc\": 97.99, \"consistency\": 73.63, \"mode\": \"quote\", \"testDuration\": 14.03}, {\"isPb\": 0, \"wpm\": 118.75, \"acc\": 99.21, \"consistency\": 74.9, \"mode\": \"quote\", \"testDuration\": 12.53}, {\"isPb\": 0, \"wpm\": 105.59, \"acc\": 95.45, \"consistency\": 64.51, \"mode\": \"quote\", \"testDuration\": 14.32}, {\"isPb\": 0, \"wpm\": 108.65, \"acc\": 97.01, \"consistency\": 71.53, \"mode\": \"quote\", \"testDuration\": 17.45}, {\"isPb\": 0, \"wpm\": 149.67, \"acc\": 100.0, \"consistency\": 73.88, \"mode\": \"words\", \"testDuration\": 4.49}, {\"isPb\": 0, \"wpm\": 112.89, \"acc\": 98.04, \"consistency\": 76.74, \"mode\": \"quote\", \"testDuration\": 21.26}, {\"isPb\": 0, \"wpm\": 100.24, \"acc\": 95.11, \"consistency\": 73.98, \"mode\": \"quote\", \"testDuration\": 25.38}, {\"isPb\": 0, \"wpm\": 101.83, \"acc\": 95.13, \"consistency\": 62.02, \"mode\": \"quote\", \"testDuration\": 25.1}, {\"isPb\": 0, \"wpm\": 116.63, \"acc\": 98.37, \"consistency\": 82.11, \"mode\": \"quote\", \"testDuration\": 12.45}, {\"isPb\": 0, \"wpm\": 105.07, \"acc\": 96.84, \"consistency\": 71.44, \"mode\": \"quote\", \"testDuration\": 17.36}, {\"isPb\": 0, \"wpm\": 109.58, \"acc\": 96.26, \"consistency\": 64.71, \"mode\": \"quote\", \"testDuration\": 11.06}, {\"isPb\": 0, \"wpm\": 100.67, \"acc\": 97.18, \"consistency\": 77.44, \"mode\": \"quote\", \"testDuration\": 23.96}, {\"isPb\": 0, \"wpm\": 91.6, \"acc\": 94.5, \"consistency\": 73.65, \"mode\": \"quote\", \"testDuration\": 37.6}, {\"isPb\": 0, \"wpm\": 111.07, \"acc\": 99.12, \"consistency\": 73.93, \"mode\": \"quote\", \"testDuration\": 12.1}, {\"isPb\": 0, \"wpm\": 111.21, \"acc\": 98.94, \"consistency\": 69.66, \"mode\": \"quote\", \"testDuration\": 20.07}, {\"isPb\": 0, \"wpm\": 104.22, \"acc\": 96.28, \"consistency\": 75.17, \"mode\": \"quote\", \"testDuration\": 23.72}, {\"isPb\": 0, \"wpm\": 113.96, \"acc\": 98.65, \"consistency\": 69.87, \"mode\": \"quote\", \"testDuration\": 23.06}, {\"isPb\": 0, \"wpm\": 108.55, \"acc\": 96.32, \"consistency\": 74.6, \"mode\": \"quote\", \"testDuration\": 20.23}, {\"isPb\": 0, \"wpm\": 101.53, \"acc\": 94.92, \"consistency\": 78.06, \"mode\": \"quote\", \"testDuration\": 21.63}, {\"isPb\": 0, \"wpm\": 97.39, \"acc\": 92.81, \"consistency\": 65.1, \"mode\": \"quote\", \"testDuration\": 17.25}, {\"isPb\": 0, \"wpm\": 112.92, \"acc\": 97.35, \"consistency\": 78.33, \"mode\": \"quote\", \"testDuration\": 11.69}, {\"isPb\": 0, \"wpm\": 116.4, \"acc\": 98.98, \"consistency\": 84.55, \"mode\": \"time\", \"testDuration\": 30.0}, {\"isPb\": 0, \"wpm\": 115.2, \"acc\": 99.17, \"consistency\": 86.0, \"mode\": \"quote\", \"testDuration\": 12.5}, {\"isPb\": 0, \"wpm\": 100.62, \"acc\": 97.14, \"consistency\": 74.39, \"mode\": \"quote\", \"testDuration\": 11.33}, {\"isPb\": 0, \"wpm\": 99.16, \"acc\": 94.85, \"consistency\": 72.1, \"mode\": \"quote\", \"testDuration\": 15.49}, {\"isPb\": 0, \"wpm\": 104.02, \"acc\": 97.54, \"consistency\": 87.31, \"mode\": \"quote\", \"testDuration\": 12.92}, {\"isPb\": 0, \"wpm\": 108.79, \"acc\": 98.48, \"consistency\": 75.61, \"mode\": \"quote\", \"testDuration\": 21.4}, {\"isPb\": 0, \"wpm\": 115.96, \"acc\": 98.31, \"consistency\": 84.9, \"mode\": \"time\", \"testDuration\": 30.01}, {\"isPb\": 0, \"wpm\": 113.2, \"acc\": 97.59, \"consistency\": 80.68, \"mode\": \"time\", \"testDuration\": 30.0}, {\"isPb\": 0, \"wpm\": 112.36, \"acc\": 97.24, \"consistency\": 79.95, \"mode\": \"time\", \"testDuration\": 30.01}, {\"isPb\": 0, \"wpm\": 115.96, \"acc\": 97.68, \"consistency\": 82.24, \"mode\": \"time\", \"testDuration\": 30.01}, {\"isPb\": 0, \"wpm\": 101.47, \"acc\": 98.05, \"consistency\": 71.09, \"mode\": \"quote\", \"testDuration\": 17.74}, {\"isPb\": 0, \"wpm\": 102.53, \"acc\": 96.6, \"consistency\": 68.34, \"mode\": \"quote\", \"testDuration\": 16.62}, {\"isPb\": 0, \"wpm\": 94.5, \"acc\": 95.9, \"consistency\": 79.09, \"mode\": \"quote\", \"testDuration\": 35.43}, {\"isPb\": 0, \"wpm\": 100.58, \"acc\": 96.67, \"consistency\": 77.47, \"mode\": \"quote\", \"testDuration\": 34.48}, {\"isPb\": 0, \"wpm\": 100.35, \"acc\": 97.31, \"consistency\": 67.13, \"mode\": \"quote\", \"testDuration\": 25.71}, {\"isPb\": 0, \"wpm\": 119.8, \"acc\": 100.0, \"consistency\": 80.3, \"mode\": \"quote\", \"testDuration\": 11.82}, {\"isPb\": 0, \"wpm\": 113.07, \"acc\": 99.28, \"consistency\": 81.22, \"mode\": \"quote\", \"testDuration\": 14.54}, {\"isPb\": 0, \"wpm\": 103.44, \"acc\": 97.77, \"consistency\": 77.93, \"mode\": \"quote\", \"testDuration\": 30.51}, {\"isPb\": 0, \"wpm\": 101.59, \"acc\": 97.71, \"consistency\": 78.57, \"mode\": \"quote\", \"testDuration\": 30.24}, {\"isPb\": 0, \"wpm\": 118.11, \"acc\": 98.88, \"consistency\": 78.13, \"mode\": \"quote\", \"testDuration\": 17.78}, {\"isPb\": 0, \"wpm\": 102.52, \"acc\": 98.15, \"consistency\": 59.58, \"mode\": \"quote\", \"testDuration\": 12.29}, {\"isPb\": 0, \"wpm\": 98.24, \"acc\": 95.2, \"consistency\": 73.26, \"mode\": \"quote\", \"testDuration\": 26.63}, {\"isPb\": 0, \"wpm\": 101.03, \"acc\": 94.24, \"consistency\": 73.01, \"mode\": \"quote\", \"testDuration\": 21.38}, {\"isPb\": 0, \"wpm\": 112.93, \"acc\": 99.19, \"consistency\": 69.27, \"mode\": \"quote\", \"testDuration\": 13.07}, {\"isPb\": 0, \"wpm\": 106.7, \"acc\": 97.42, \"consistency\": 78.72, \"mode\": \"quote\", \"testDuration\": 16.87}, {\"isPb\": 0, \"wpm\": 92.06, \"acc\": 92.63, \"consistency\": 71.0, \"mode\": \"quote\", \"testDuration\": 22.55}, {\"isPb\": 0, \"wpm\": 99.63, \"acc\": 97.62, \"consistency\": 63.9, \"mode\": \"quote\", \"testDuration\": 24.09}, {\"isPb\": 0, \"wpm\": 102.09, \"acc\": 97.14, \"consistency\": 80.0, \"mode\": \"quote\", \"testDuration\": 11.99}, {\"isPb\": 0, \"wpm\": 113.17, \"acc\": 95.28, \"consistency\": 82.71, \"mode\": \"quote\", \"testDuration\": 12.83}, {\"isPb\": 0, \"wpm\": 99.53, \"acc\": 96.34, \"consistency\": 72.88, \"mode\": \"quote\", \"testDuration\": 30.02}, {\"isPb\": 0, \"wpm\": 111.53, \"acc\": 97.63, \"consistency\": 73.16, \"mode\": \"quote\", \"testDuration\": 17.43}, {\"isPb\": 0, \"wpm\": 115.07, \"acc\": 97.54, \"consistency\": 73.72, \"mode\": \"quote\", \"testDuration\": 12.41}, {\"isPb\": 0, \"wpm\": 118.39, \"acc\": 97.35, \"consistency\": 80.63, \"mode\": \"quote\", \"testDuration\": 22.3}, {\"isPb\": 0, \"wpm\": 117.53, \"acc\": 96.62, \"consistency\": 77.36, \"mode\": \"quote\", \"testDuration\": 20.42}, {\"isPb\": 0, \"wpm\": 119.94, \"acc\": 97.98, \"consistency\": 71.45, \"mode\": \"quote\", \"testDuration\": 19.21}, {\"isPb\": 0, \"wpm\": 100.0, \"acc\": 96.59, \"consistency\": 73.37, \"mode\": \"time\", \"testDuration\": 30.0}, {\"isPb\": 0, \"wpm\": 121.6, \"acc\": 99.67, \"consistency\": 87.28, \"mode\": \"time\", \"testDuration\": 30.0}, {\"isPb\": 0, \"wpm\": 130.66, \"acc\": 100.0, \"consistency\": 79.46, \"mode\": \"words\", \"testDuration\": 11.48}, {\"isPb\": 0, \"wpm\": 129.04, \"acc\": 100.0, \"consistency\": 93.95, \"mode\": \"words\", \"testDuration\": 11.81}, {\"isPb\": 0, \"wpm\": 128.91, \"acc\": 100.0, \"consistency\": 78.14, \"mode\": \"words\", \"testDuration\": 11.45}, {\"isPb\": 0, \"wpm\": 86.21, \"acc\": 93.83, \"consistency\": 73.42, \"mode\": \"quote\", \"testDuration\": 29.51}, {\"isPb\": 0, \"wpm\": 101.02, \"acc\": 96.1, \"consistency\": 72.67, \"mode\": \"quote\", \"testDuration\": 17.58}, {\"isPb\": 0, \"wpm\": 87.29, \"acc\": 92.11, \"consistency\": 72.98, \"mode\": \"quote\", \"testDuration\": 23.92}, {\"isPb\": 0, \"wpm\": 109.79, \"acc\": 98.37, \"consistency\": 74.21, \"mode\": \"quote\", \"testDuration\": 26.34}, {\"isPb\": 0, \"wpm\": 103.8, \"acc\": 97.65, \"consistency\": 72.29, \"mode\": \"quote\", \"testDuration\": 19.19}, {\"isPb\": 0, \"wpm\": 116.0, \"acc\": 96.67, \"consistency\": 81.74, \"mode\": \"time\", \"testDuration\": 15.0}, {\"isPb\": 0, \"wpm\": 93.34, \"acc\": 93.33, \"consistency\": 64.01, \"mode\": \"quote\", \"testDuration\": 25.07}, {\"isPb\": 0, \"wpm\": 91.3, \"acc\": 94.37, \"consistency\": 65.97, \"mode\": \"quote\", \"testDuration\": 17.35}, {\"isPb\": 0, \"wpm\": 98.51, \"acc\": 96.76, \"consistency\": 64.4, \"mode\": \"quote\", \"testDuration\": 21.44}, {\"isPb\": 0, \"wpm\": 92.98, \"acc\": 94.44, \"consistency\": 71.65, \"mode\": \"quote\", \"testDuration\": 15.1}, {\"isPb\": 0, \"wpm\": 89.45, \"acc\": 90.18, \"consistency\": 67.96, \"mode\": \"quote\", \"testDuration\": 13.55}, {\"isPb\": 0, \"wpm\": 109.23, \"acc\": 97.37, \"consistency\": 74.13, \"mode\": \"quote\", \"testDuration\": 16.26}, {\"isPb\": 0, \"wpm\": 123.46, \"acc\": 100.0, \"consistency\": 78.04, \"mode\": \"quote\", \"testDuration\": 10.4}, {\"isPb\": 0, \"wpm\": 123.77, \"acc\": 99.23, \"consistency\": 82.03, \"mode\": \"words\", \"testDuration\": 12.41}, {\"isPb\": 1, \"wpm\": 133.11, \"acc\": 100.0, \"consistency\": 72.72, \"mode\": \"words\", \"testDuration\": 12.08}, {\"isPb\": 0, \"wpm\": 151.55, \"acc\": 100.0, \"consistency\": 93.23, \"mode\": \"words\", \"testDuration\": 3.88}, {\"isPb\": 0, \"wpm\": 137.54, \"acc\": 100.0, \"consistency\": 70.85, \"mode\": \"words\", \"testDuration\": 3.49}, {\"isPb\": 1, \"wpm\": 153.49, \"acc\": 100.0, \"consistency\": 64.57, \"mode\": \"words\", \"testDuration\": 4.3}, {\"isPb\": 0, \"wpm\": 137.53, \"acc\": 100.0, \"consistency\": 75.67, \"mode\": \"words\", \"testDuration\": 4.45}, {\"isPb\": 1, \"wpm\": 144.92, \"acc\": 100.0, \"consistency\": 88.1, \"mode\": \"words\", \"testDuration\": 4.72}, {\"isPb\": 0, \"wpm\": 126.4, \"acc\": 100.0, \"consistency\": 89.11, \"mode\": \"time\", \"testDuration\": 15.0}, {\"isPb\": 1, \"wpm\": 128.8, \"acc\": 100.0, \"consistency\": 88.99, \"mode\": \"time\", \"testDuration\": 15.0}, {\"isPb\": 1, \"wpm\": 122.76, \"acc\": 100.0, \"consistency\": 88.25, \"mode\": \"time\", \"testDuration\": 30.01}, {\"isPb\": 0, \"wpm\": 116.4, \"acc\": 97.99, \"consistency\": 80.73, \"mode\": \"time\", \"testDuration\": 30.0}, {\"isPb\": 0, \"wpm\": 112.31, \"acc\": 99.11, \"consistency\": 84.03, \"mode\": \"quote\", \"testDuration\": 11.86}, {\"isPb\": 0, \"wpm\": 87.85, \"acc\": 92.95, \"consistency\": 73.54, \"mode\": \"quote\", \"testDuration\": 19.67}, {\"isPb\": 0, \"wpm\": 96.58, \"acc\": 96.05, \"consistency\": 70.76, \"mode\": \"quote\", \"testDuration\": 18.14}, {\"isPb\": 0, \"wpm\": 98.08, \"acc\": 97.33, \"consistency\": 72.28, \"mode\": \"quote\", \"testDuration\": 31.2}, {\"isPb\": 0, \"wpm\": 101.75, \"acc\": 96.23, \"consistency\": 52.97, \"mode\": \"quote\", \"testDuration\": 12.03}, {\"isPb\": 0, \"wpm\": 98.99, \"acc\": 94.47, \"consistency\": 70.76, \"mode\": \"quote\", \"testDuration\": 22.67}, {\"isPb\": 0, \"wpm\": 109.28, \"acc\": 96.95, \"consistency\": 73.65, \"mode\": \"quote\", \"testDuration\": 17.35}, {\"isPb\": 0, \"wpm\": 103.41, \"acc\": 95.65, \"consistency\": 78.55, \"mode\": \"quote\", \"testDuration\": 14.97}, {\"isPb\": 0, \"wpm\": 112.79, \"acc\": 99.49, \"consistency\": 78.15, \"mode\": \"quote\", \"testDuration\": 20.96}, {\"isPb\": 0, \"wpm\": 92.28, \"acc\": 97.33, \"consistency\": 71.26, \"mode\": \"quote\", \"testDuration\": 32.9}, {\"isPb\": 0, \"wpm\": 109.69, \"acc\": 99.01, \"consistency\": 79.33, \"mode\": \"quote\", \"testDuration\": 32.82}, {\"isPb\": 0, \"wpm\": 119.29, \"acc\": 100.0, \"consistency\": 71.82, \"mode\": \"quote\", \"testDuration\": 10.16}, {\"isPb\": 0, \"wpm\": 111.56, \"acc\": 97.89, \"consistency\": 83.98, \"mode\": \"time\", \"testDuration\": 30.01}, {\"isPb\": 0, \"wpm\": 111.96, \"acc\": 98.59, \"consistency\": 83.03, \"mode\": \"time\", \"testDuration\": 30.01}, {\"isPb\": 1, \"wpm\": 118.76, \"acc\": 99.33, \"consistency\": 86.92, \"mode\": \"time\", \"testDuration\": 30.01}, {\"isPb\": 0, \"wpm\": 113.16, \"acc\": 100.0, \"consistency\": 80.32, \"mode\": \"time\", \"testDuration\": 30.01}, {\"isPb\": 1, \"wpm\": 113.96, \"acc\": 98.96, \"consistency\": 80.49, \"mode\": \"time\", \"testDuration\": 30.01}, {\"isPb\": 0, \"wpm\": 111.96, \"acc\": 99.29, \"consistency\": 82.71, \"mode\": \"time\", \"testDuration\": 30.01}, {\"isPb\": 0, \"wpm\": 112.98, \"acc\": 100.0, \"consistency\": 86.67, \"mode\": \"quote\", \"testDuration\": 11.79}, {\"isPb\": 1, \"wpm\": 113.56, \"acc\": 99.3, \"consistency\": 82.71, \"mode\": \"time\", \"testDuration\": 30.01}, {\"isPb\": 0, \"wpm\": 116.43, \"acc\": 100.0, \"consistency\": 88.23, \"mode\": \"quote\", \"testDuration\": 11.75}, {\"isPb\": 0, \"wpm\": 116.0, \"acc\": 100.0, \"consistency\": 81.37, \"mode\": \"quote\", \"testDuration\": 11.69}, {\"isPb\": 0, \"wpm\": 98.37, \"acc\": 95.08, \"consistency\": 74.69, \"mode\": \"time\", \"testDuration\": 30.01}, {\"isPb\": 0, \"wpm\": 103.6, \"acc\": 97.37, \"consistency\": 77.68, \"mode\": \"time\", \"testDuration\": 30.0}, {\"isPb\": 0, \"wpm\": 103.57, \"acc\": 98.13, \"consistency\": 77.44, \"mode\": \"time\", \"testDuration\": 30.01}, {\"isPb\": 0, \"wpm\": 105.6, \"acc\": 98.15, \"consistency\": 78.72, \"mode\": \"time\", \"testDuration\": 30.0}, {\"isPb\": 1, \"wpm\": 106.76, \"acc\": 98.89, \"consistency\": 82.32, \"mode\": \"time\", \"testDuration\": 30.01}, {\"isPb\": 1, \"wpm\": 122.4, \"acc\": 100.0, \"consistency\": 89.14, \"mode\": \"time\", \"testDuration\": 15.0}, {\"isPb\": 1, \"wpm\": 120.72, \"acc\": 100.0, \"consistency\": 89.45, \"mode\": \"time\", \"testDuration\": 15.01}, {\"isPb\": 0, \"wpm\": 114.69, \"acc\": 96.8, \"consistency\": 77.83, \"mode\": \"words\", \"testDuration\": 12.66}, {\"isPb\": 1, \"wpm\": 122.0, \"acc\": 100.0, \"consistency\": 73.3, \"mode\": \"words\", \"testDuration\": 13.18}, {\"isPb\": 0, \"wpm\": 128.38, \"acc\": 100.0, \"consistency\": 83.67, \"mode\": \"words\", \"testDuration\": 4.58}, {\"isPb\": 0, \"wpm\": 125.81, \"acc\": 98.11, \"consistency\": 87.2, \"mode\": \"words\", \"testDuration\": 4.96}, {\"isPb\": 0, \"wpm\": 134.67, \"acc\": 100.0, \"consistency\": 86.88, \"mode\": \"words\", \"testDuration\": 4.99}, {\"isPb\": 0, \"wpm\": 130.61, \"acc\": 100.0, \"consistency\": 70.84, \"mode\": \"words\", \"testDuration\": 4.41}, {\"isPb\": 1, \"wpm\": 136.51, \"acc\": 100.0, \"consistency\": 89.86, \"mode\": \"words\", \"testDuration\": 3.78}, {\"isPb\": 0, \"wpm\": 119.08, \"acc\": 100.0, \"consistency\": 61.94, \"mode\": \"words\", \"testDuration\": 5.24}, {\"isPb\": 1, \"wpm\": 127.41, \"acc\": 100.0, \"consistency\": 54.96, \"mode\": \"words\", \"testDuration\": 4.05}, {\"isPb\": 1, \"wpm\": 112.99, \"acc\": 96.15, \"consistency\": 60.8, \"mode\": \"words\", \"testDuration\": 5.31}, {\"isPb\": 0, \"wpm\": 104.22, \"acc\": 99.09, \"consistency\": 75.2, \"mode\": \"quote\", \"testDuration\": 12.55}, {\"isPb\": 0, \"wpm\": 91.15, \"acc\": 95.07, \"consistency\": 68.99, \"mode\": \"quote\", \"testDuration\": 17.51}, {\"isPb\": 0, \"wpm\": 102.77, \"acc\": 97.76, \"consistency\": 79.99, \"mode\": \"time\", \"testDuration\": 30.01}, {\"isPb\": 0, \"wpm\": 103.6, \"acc\": 98.48, \"consistency\": 75.21, \"mode\": \"time\", \"testDuration\": 30.0}, {\"isPb\": 0, \"wpm\": 103.17, \"acc\": 98.11, \"consistency\": 79.31, \"mode\": \"time\", \"testDuration\": 30.01}, {\"isPb\": 1, \"wpm\": 106.4, \"acc\": 100.0, \"consistency\": 80.25, \"mode\": \"time\", \"testDuration\": 30.0}, {\"isPb\": 1, \"wpm\": 105.56, \"acc\": 98.88, \"consistency\": 78.81, \"mode\": \"time\", \"testDuration\": 30.01}, {\"isPb\": 1, \"wpm\": 100.37, \"acc\": 95.45, \"consistency\": 73.69, \"mode\": \"time\", \"testDuration\": 30.01}, {\"isPb\": 0, \"wpm\": 112.78, \"acc\": 98.89, \"consistency\": 86.14, \"mode\": \"quote\", \"testDuration\": 18.94}]}}, {\"mode\": \"vega-lite\"});\n",
       "</script>"
      ],
      "text/plain": [
       "alt.HConcatChart(...)"
      ]
     },
     "execution_count": 10,
     "metadata": {},
     "output_type": "execute_result"
    }
   ],
   "source": [
    "charts = [alt.Chart(df).mark_circle().encode(\n",
    "    x=alt.X(f\"{feature}\", scale=alt.Scale(zero=False)),\n",
    "    y=alt.Y(\"wpm\"),\n",
    "    color=\"mode\"\n",
    ").properties(\n",
    "    width=400,\n",
    "    height=400,\n",
    "    title=f\"{feature} vs wpm\"\n",
    ") for feature in cols]\n",
    "\n",
    "alt.hconcat(*charts)"
   ]
  },
  {
   "cell_type": "markdown",
   "metadata": {
    "cell_id": "e49a6d0a06194686be43136a23491893",
    "deepnote_cell_type": "markdown"
   },
   "source": [
    "* There appears to be a positive correlation between Accuracy and WPM. It makes sense that I type faster when I type more accurately. Test runs of the same mode are somewhat clustered together, notably the `words` mode mostly having a 100% Accuracy.\n",
    "* There appears to be a positive correlation between Consistency and WPM for the `quote` and `time` modes, but no correlation for the `words` mode. It makes sense that I generally type better when my speed is more consistent. The clustering of the data is also more apparent. \n",
    "* There appears to be a negative correlation between Test Duration and WPM. It makes sense that the longer the test, the slower I type. The datapoints for the `time` mode create perfect vertical lines because they have a fixed time duration (15, 30, and 60 seconds). Similarly, the `words` mode create a similar pattern to a lesser extent because the number of words of each test is fixed (10, 25, and 50 words). The `quote` mode has varying lengths, so the test duration is not constant."
   ]
  },
  {
   "cell_type": "markdown",
   "metadata": {
    "cell_id": "6e177ffbd77a4ff8af203b0073ae97db",
    "deepnote_cell_type": "markdown"
   },
   "source": [
    "## Linear Regression for WPM"
   ]
  },
  {
   "cell_type": "markdown",
   "metadata": {
    "cell_id": "ec8aeb4ccb32483fb73ddff9366896e2",
    "deepnote_cell_type": "markdown"
   },
   "source": [
    "In this section, I will use linear regression to investigate the relationship between my input features (Accuracy, Consistency, and Test Duration) and the WPM."
   ]
  },
  {
   "cell_type": "markdown",
   "metadata": {
    "cell_id": "f579a1d1a38945608fc86d3fed857ebf",
    "deepnote_cell_type": "markdown"
   },
   "source": [
    "Fitting the data to a linear regressor:"
   ]
  },
  {
   "cell_type": "code",
   "execution_count": 11,
   "metadata": {
    "cell_id": "8d47cbc184e345279a1d1d4a92f359b0",
    "deepnote_cell_type": "code",
    "deepnote_to_be_reexecuted": false,
    "execution_millis": 8,
    "execution_start": 1686792592702,
    "source_hash": "7882cc49"
   },
   "outputs": [
    {
     "data": {
      "text/plain": [
       "LinearRegression()"
      ]
     },
     "execution_count": 11,
     "metadata": {},
     "output_type": "execute_result"
    }
   ],
   "source": [
    "reg = LinearRegression()\n",
    "reg.fit(df[cols], df[\"wpm\"])"
   ]
  },
  {
   "cell_type": "markdown",
   "metadata": {
    "cell_id": "22db1a3a031149f992a24873c3961e7d",
    "deepnote_cell_type": "markdown"
   },
   "source": [
    "Finding the coefficients of each input feature:"
   ]
  },
  {
   "cell_type": "code",
   "execution_count": 12,
   "metadata": {
    "cell_id": "1ea3831750cf4f56992bbd72ca9c56e0",
    "deepnote_cell_type": "code",
    "deepnote_to_be_reexecuted": false,
    "execution_millis": 10,
    "execution_start": 1686792592764,
    "source_hash": "7f9518fb"
   },
   "outputs": [
    {
     "data": {
      "text/plain": [
       "acc             3.350638\n",
       "consistency     0.412861\n",
       "testDuration   -0.212493\n",
       "dtype: float64"
      ]
     },
     "execution_count": 12,
     "metadata": {},
     "output_type": "execute_result"
    }
   ],
   "source": [
    "pd.Series(reg.coef_, index=reg.feature_names_in_)"
   ]
  },
  {
   "cell_type": "markdown",
   "metadata": {
    "cell_id": "1e3c1dc32f5a47f995c2d54fc1c6c20c",
    "deepnote_cell_type": "markdown"
   },
   "source": [
    "* As predicted by the plots, Accuracy and Consistency have a positive coefficient, while Test Duration has a negative coefficient.\n",
    "* Accuracy seems to be the strongest predictor of WPM among my input features with the highest absolute value of 3.35."
   ]
  },
  {
   "cell_type": "markdown",
   "metadata": {
    "cell_id": "9a760adc68ce499da98c6fc65b28507d",
    "deepnote_cell_type": "markdown"
   },
   "source": [
    "Assessing the accuracy of my model:"
   ]
  },
  {
   "cell_type": "code",
   "execution_count": 13,
   "metadata": {
    "cell_id": "d7e5cebb509e4332819c7393aacdf4be",
    "deepnote_cell_type": "code",
    "deepnote_to_be_reexecuted": false,
    "execution_millis": 9,
    "execution_start": 1686792592765,
    "source_hash": "90082d14"
   },
   "outputs": [
    {
     "data": {
      "text/plain": [
       "0.5358595755222455"
      ]
     },
     "execution_count": 13,
     "metadata": {},
     "output_type": "execute_result"
    }
   ],
   "source": [
    "reg.score(df[cols], df[\"wpm\"])"
   ]
  },
  {
   "cell_type": "markdown",
   "metadata": {
    "cell_id": "62774b4c6459462286da4a25db6cd57c",
    "deepnote_cell_type": "markdown"
   },
   "source": [
    "This linear regression yields a 54 percent accuracy. It is certainly better than random guessing, but the performance is admittedly poor."
   ]
  },
  {
   "cell_type": "markdown",
   "metadata": {
    "cell_id": "866a4fef9ddc410fa15f25178b2f0c96",
    "deepnote_cell_type": "markdown"
   },
   "source": [
    "## Linear Regression with `OneHotEncoder` for WPM"
   ]
  },
  {
   "cell_type": "markdown",
   "metadata": {
    "cell_id": "031cf2aa2e6a4d338577ad35e3931a96",
    "deepnote_cell_type": "markdown"
   },
   "source": [
    "In this section, I will add the input features `mode` and `isPb` to `cols` in hopes for a better result when predicting `wpm`. My features are now both quantitative and discrete, so I will use a `OneHotEncoder` within a `Pipeline`. To transform the data separately, I will also use `ColumnTransformer`. \n",
    "*Documentation of [OneHotEncoder](https://scikit-learn.org/stable/modules/generated/sklearn.preprocessing.OneHotEncoder.html) and [ColumnTransformer](https://scikit-learn.org/stable/modules/generated/sklearn.compose.ColumnTransformer.html)*"
   ]
  },
  {
   "cell_type": "code",
   "execution_count": 14,
   "metadata": {
    "cell_id": "ad633ee4b0d845389e3be5051001681a",
    "deepnote_cell_type": "code",
    "deepnote_to_be_reexecuted": false,
    "execution_millis": 8,
    "execution_start": 1686792592766,
    "source_hash": "4271919c"
   },
   "outputs": [],
   "source": [
    "cols = [\"isPb\", \"acc\", \"consistency\", \"testDuration\", \"mode\"]"
   ]
  },
  {
   "cell_type": "markdown",
   "metadata": {
    "cell_id": "c2a72e202f1f422d87eba69c533cddea",
    "deepnote_cell_type": "markdown"
   },
   "source": [
    "Fitting the data to a linear regressor within a Pipeline:\n",
    "(I used the `passthrough` argument to only onehotencode `isPb` and `mode`.)"
   ]
  },
  {
   "cell_type": "code",
   "execution_count": 15,
   "metadata": {
    "cell_id": "40aaf9206341406d951a07d58b6eca34",
    "deepnote_cell_type": "code",
    "deepnote_to_be_reexecuted": false,
    "execution_millis": 11,
    "execution_start": 1686792592773,
    "source_hash": "fb2ef153"
   },
   "outputs": [
    {
     "data": {
      "text/plain": [
       "Pipeline(steps=[('prep',\n",
       "                 ColumnTransformer(transformers=[('enc', OneHotEncoder(),\n",
       "                                                  ['isPb', 'mode']),\n",
       "                                                 ('passthrough', 'passthrough',\n",
       "                                                  ['acc', 'consistency',\n",
       "                                                   'testDuration'])])),\n",
       "                ('reg', LinearRegression())])"
      ]
     },
     "execution_count": 15,
     "metadata": {},
     "output_type": "execute_result"
    }
   ],
   "source": [
    "pipe = Pipeline([\n",
    "    ('prep', ColumnTransformer([\n",
    "        ('enc', OneHotEncoder(), ['isPb', 'mode']),\n",
    "        ('passthrough', 'passthrough', ['acc', 'consistency', 'testDuration'])\n",
    "    ])),\n",
    "    ('reg', LinearRegression())\n",
    "])\n",
    "\n",
    "X = df[cols]\n",
    "y = df['wpm']\n",
    "\n",
    "pipe.fit(X, y)"
   ]
  },
  {
   "cell_type": "markdown",
   "metadata": {
    "cell_id": "5b16aafa2b63477eb19db5fb4353c366",
    "deepnote_cell_type": "markdown"
   },
   "source": [
    "Finding the coefficients of each input feature:"
   ]
  },
  {
   "cell_type": "code",
   "execution_count": 16,
   "metadata": {
    "cell_id": "706f5498e4384f34b32a47ef2508db59",
    "deepnote_cell_type": "code",
    "deepnote_to_be_reexecuted": false,
    "execution_millis": 7,
    "execution_start": 1686792592803,
    "source_hash": "d8ad556a"
   },
   "outputs": [
    {
     "data": {
      "text/plain": [
       "enc__isPb_0                 -1.436988\n",
       "enc__isPb_1                  1.436988\n",
       "enc__mode_quote             -7.164197\n",
       "enc__mode_time               0.039749\n",
       "enc__mode_words              7.124447\n",
       "passthrough__acc             2.558937\n",
       "passthrough__consistency     0.224498\n",
       "passthrough__testDuration   -0.207988\n",
       "dtype: float64"
      ]
     },
     "execution_count": 16,
     "metadata": {},
     "output_type": "execute_result"
    }
   ],
   "source": [
    "pd.Series(pipe[\"reg\"].coef_, index=pipe[\"prep\"].get_feature_names_out())"
   ]
  },
  {
   "cell_type": "markdown",
   "metadata": {
    "cell_id": "4174550bb02c4d11a2fe57e81017e3b3",
    "deepnote_cell_type": "markdown"
   },
   "source": [
    "* It makes sense that `enc__isPb_1` has a positive coefficient because PBs should generally have higher WPMs than non-PBs.\n",
    "* In the beginning, we saw that the `words` mode generally had the highest WPM while the `quote` mode had the lowest. Therefore, it makes sense that the coefficient of `enc__mode_quote` is negative while that of `enc__mode_words` is positive.\n",
    "* The last three passthrough features (Accuracy, Consistency, and Test Duration) have similar coefficients as the previous linear regression. The coefficients of Accuracy and Consistency is still positive while that of Test Duration is negative.\n",
    "* The strongest predictor of WPM is now `enc__mode_words`, which makes sense because `words` is my best performing mode. The previous strongest predictor `acc` follows in second."
   ]
  },
  {
   "cell_type": "markdown",
   "metadata": {
    "cell_id": "3f08d4bfa159498699b23db7432bb4d2",
    "deepnote_cell_type": "markdown"
   },
   "source": [
    "Assessing the accuracy of my model:"
   ]
  },
  {
   "cell_type": "code",
   "execution_count": 17,
   "metadata": {
    "cell_id": "13d0065cb96e46f6ae695de69b121859",
    "deepnote_cell_type": "code",
    "deepnote_to_be_reexecuted": false,
    "execution_millis": 3,
    "execution_start": 1686792592856,
    "source_hash": "5a417d9f"
   },
   "outputs": [
    {
     "data": {
      "text/plain": [
       "0.7212414541507111"
      ]
     },
     "execution_count": 17,
     "metadata": {},
     "output_type": "execute_result"
    }
   ],
   "source": [
    "pipe.score(df[cols], df[\"wpm\"])"
   ]
  },
  {
   "cell_type": "markdown",
   "metadata": {
    "cell_id": "3cc71f1d5c4d47109f97300c128fce6b",
    "deepnote_cell_type": "markdown"
   },
   "source": [
    "There is a noticeable improvement in the accuracy of the model, from 53 percent to 72 percent. Adding the features `isPb` and `mode` proved to be beneficial."
   ]
  },
  {
   "cell_type": "markdown",
   "metadata": {
    "cell_id": "35c1993a7d1844f78559fdbf2f71dfb5",
    "deepnote_cell_type": "markdown"
   },
   "source": [
    "## Logistic Regression for `isPb`"
   ]
  },
  {
   "cell_type": "markdown",
   "metadata": {
    "cell_id": "a2b0cb0b366b4832b428be5a74a4dea5",
    "deepnote_cell_type": "markdown"
   },
   "source": [
    "In this section, I will use logistic regression to predict whether a test run was a Personal Best."
   ]
  },
  {
   "cell_type": "markdown",
   "metadata": {
    "cell_id": "a1aebfe6dcb3488081c277076377c4ca",
    "deepnote_cell_type": "markdown"
   },
   "source": [
    "Removing `mode` and `isPb` and adding `wpm` to my input features:"
   ]
  },
  {
   "cell_type": "code",
   "execution_count": 18,
   "metadata": {
    "cell_id": "bc7a01c5a72b426e86f65b6d98c72025",
    "deepnote_cell_type": "code",
    "deepnote_to_be_reexecuted": false,
    "execution_millis": 1,
    "execution_start": 1686792592858,
    "source_hash": "6468d938"
   },
   "outputs": [],
   "source": [
    "cols = [\"acc\", \"consistency\", \"testDuration\", \"wpm\"]"
   ]
  },
  {
   "cell_type": "markdown",
   "metadata": {
    "cell_id": "f3ce68565d35467e92104eac552edf45",
    "deepnote_cell_type": "markdown"
   },
   "source": [
    "Fitting the data to a logistic regression classifier:"
   ]
  },
  {
   "cell_type": "code",
   "execution_count": 19,
   "metadata": {
    "cell_id": "dba1033b781241ea8cf69b9d93ca0e15",
    "deepnote_cell_type": "code",
    "deepnote_to_be_reexecuted": false,
    "execution_millis": 3,
    "execution_start": 1686792592900,
    "source_hash": "d464b247"
   },
   "outputs": [
    {
     "data": {
      "text/plain": [
       "LogisticRegression()"
      ]
     },
     "execution_count": 19,
     "metadata": {},
     "output_type": "execute_result"
    }
   ],
   "source": [
    "clf = LogisticRegression()\n",
    "clf.fit(df[cols], df[\"isPb\"])"
   ]
  },
  {
   "cell_type": "markdown",
   "metadata": {
    "cell_id": "ff2c72ff5e6f434ba0c286c821367b26",
    "deepnote_cell_type": "markdown"
   },
   "source": [
    "Finding the coefficients of each input feature:"
   ]
  },
  {
   "cell_type": "code",
   "execution_count": 20,
   "metadata": {
    "cell_id": "0e038f82d30145568b69d41983cce2b9",
    "deepnote_cell_type": "code",
    "deepnote_to_be_reexecuted": false,
    "execution_millis": 1,
    "execution_start": 1686792592902,
    "source_hash": "2345f195"
   },
   "outputs": [
    {
     "data": {
      "text/plain": [
       "acc             0.955827\n",
       "consistency    -0.030114\n",
       "testDuration    0.068597\n",
       "wpm             0.067818\n",
       "dtype: float64"
      ]
     },
     "execution_count": 20,
     "metadata": {},
     "output_type": "execute_result"
    }
   ],
   "source": [
    "pd.Series(clf.coef_[0], index=clf.feature_names_in_)"
   ]
  },
  {
   "cell_type": "markdown",
   "metadata": {
    "cell_id": "fc73f01fb33644a9b42e7b6e5ae450ea",
    "deepnote_cell_type": "markdown"
   },
   "source": [
    "* Accuracy is again the strongest predictor of whether a test run will be a personal best.\n",
    "* Interestingly, Consistency has a negative coefficient while Test Duration has a positive one (the opposite of what we'd assume). This could be because the number of personal bests is quite small compared to the entire dataset (only 11 percent of all tests are PBs). The small magnitude of the coefficients for Consistency and Test Duration likely suggest that there is no meaningful correlation between the two features and `isPb`.\n",
    "* A particularly surprising result was the small coefficient of WPM. Since Personal Bests are determined by having the highest WPM in a given mode, I expected WPM to have a stronger impact on `isPb`."
   ]
  },
  {
   "cell_type": "markdown",
   "metadata": {
    "cell_id": "c4446ba2dc9f4faa94fd41f8972e37c4",
    "deepnote_cell_type": "markdown"
   },
   "source": [
    "Assessing the accuracy of my model:"
   ]
  },
  {
   "cell_type": "code",
   "execution_count": 21,
   "metadata": {
    "cell_id": "56f2f8c818c347c0befdf1f114ef9d54",
    "deepnote_cell_type": "code",
    "deepnote_to_be_reexecuted": false,
    "execution_millis": 3,
    "execution_start": 1686792592960,
    "source_hash": "2c0500c7"
   },
   "outputs": [
    {
     "data": {
      "text/plain": [
       "0.9090909090909091"
      ]
     },
     "execution_count": 21,
     "metadata": {},
     "output_type": "execute_result"
    }
   ],
   "source": [
    "clf.score(df[cols], df[\"isPb\"])"
   ]
  },
  {
   "cell_type": "markdown",
   "metadata": {
    "cell_id": "18f0294df99741039ea4cc2c9e4efc95",
    "deepnote_cell_type": "markdown"
   },
   "source": [
    "The logistic regression classifer has a decent 91% accuracy."
   ]
  },
  {
   "cell_type": "markdown",
   "metadata": {
    "cell_id": "173e42e82d5540db943ba03bce44dd20",
    "deepnote_cell_type": "markdown"
   },
   "source": [
    "## Decision Tree Classifier for `mode`"
   ]
  },
  {
   "cell_type": "markdown",
   "metadata": {
    "cell_id": "fcd26ae37f5546e6b8af0542056929df",
    "deepnote_cell_type": "markdown"
   },
   "source": [
    "In this section, I will use a decision tree to predict the `mode` of a test run. I will also use `train_test_split` with a test size of `0.2` to check if my model is underfitting or overfitting."
   ]
  },
  {
   "cell_type": "code",
   "execution_count": 22,
   "metadata": {
    "cell_id": "810135049ca54765830ae11c18e19bbf",
    "deepnote_cell_type": "code",
    "deepnote_to_be_reexecuted": false,
    "execution_millis": 3,
    "execution_start": 1686792592961,
    "source_hash": "266868c0"
   },
   "outputs": [],
   "source": [
    "X_train, X_test, y_train, y_test = train_test_split(df[cols], df[\"mode\"], test_size=0.2, random_state=0)"
   ]
  },
  {
   "cell_type": "markdown",
   "metadata": {
    "cell_id": "e6919b8a3e9f44c5b33bf17fa307989a",
    "deepnote_cell_type": "markdown"
   },
   "source": [
    "Fitting the data to a decision tree with `max_leaf_nodes` of `10`:"
   ]
  },
  {
   "cell_type": "code",
   "execution_count": 23,
   "metadata": {
    "cell_id": "dbe5f448083f4d9cabb2b48aed312a65",
    "deepnote_cell_type": "code",
    "deepnote_to_be_reexecuted": false,
    "execution_millis": 2,
    "execution_start": 1686792592962,
    "source_hash": "9f19d3ed"
   },
   "outputs": [
    {
     "data": {
      "text/plain": [
       "DecisionTreeClassifier(max_leaf_nodes=10)"
      ]
     },
     "execution_count": 23,
     "metadata": {},
     "output_type": "execute_result"
    }
   ],
   "source": [
    "tree = DecisionTreeClassifier(max_leaf_nodes=10)\n",
    "tree.fit(X_train, y_train)"
   ]
  },
  {
   "cell_type": "markdown",
   "metadata": {
    "cell_id": "d29ec3fb9d9e488388c94d7213aeae30",
    "deepnote_cell_type": "markdown"
   },
   "source": [
    "Displaying the decision tree:"
   ]
  },
  {
   "cell_type": "code",
   "execution_count": 24,
   "metadata": {
    "cell_id": "f6c2fc9575e64d0eae316b91dbc4db6f",
    "deepnote_cell_type": "code",
    "deepnote_to_be_reexecuted": false,
    "execution_millis": 2200,
    "execution_start": 1686792593005,
    "source_hash": "ed48a20c"
   },
   "outputs": [
    {
     "data": {
      "image/png": "[encoded data removed]",
      "text/plain": [
       "<Figure size 2000x1000 with 1 Axes>"
      ]
     },
     "metadata": {
      "image/png": {
       "height": 790,
       "width": 1570
      }
     },
     "output_type": "display_data"
    }
   ],
   "source": [
    "fig = plt.figure(figsize=(20,10))\n",
    "_ = plot_tree(\n",
    "    tree, \n",
    "    feature_names=tree.feature_names_in_, \n",
    "    class_names=tree.classes_, filled=True)"
   ]
  },
  {
   "cell_type": "markdown",
   "metadata": {
    "cell_id": "2ffa592c0afa4fdcb22f22418cc5a564",
    "deepnote_cell_type": "markdown"
   },
   "source": [
    "Finding the feature importances:"
   ]
  },
  {
   "cell_type": "code",
   "execution_count": 25,
   "metadata": {
    "cell_id": "e50726450fa34a159d5272b8ab52d421",
    "deepnote_cell_type": "code",
    "deepnote_to_be_reexecuted": false,
    "execution_millis": 17,
    "execution_start": 1686792595220,
    "source_hash": "ab4e2772"
   },
   "outputs": [
    {
     "data": {
      "text/plain": [
       "acc             0.000000\n",
       "consistency     0.000000\n",
       "testDuration    0.642597\n",
       "wpm             0.357403\n",
       "dtype: float64"
      ]
     },
     "execution_count": 25,
     "metadata": {},
     "output_type": "execute_result"
    }
   ],
   "source": [
    "pd.Series(tree.feature_importances_, index=tree.feature_names_in_)"
   ]
  },
  {
   "cell_type": "markdown",
   "metadata": {
    "cell_id": "d04c86506ac34956a63c405302c0d84f",
    "deepnote_cell_type": "markdown"
   },
   "source": [
    "* The decision tree does not use Accuracy and Consistency at all. This implies that there is no meaningful correlation between Accuracy & Consistency and Mode.\n",
    "* The Test Duration is the strongest predictor of the Mode with a feature importance of 0.64. This makes sense since each mode has a very distinct Test Duration (see the `testDuration vs wpm` plot)."
   ]
  },
  {
   "cell_type": "markdown",
   "metadata": {
    "cell_id": "511b7b22ecb44eeca8ecb1bd9258c3e4",
    "deepnote_cell_type": "markdown"
   },
   "source": [
    "Assessing the accuracy of my model for my training and testing datasets:"
   ]
  },
  {
   "cell_type": "code",
   "execution_count": 26,
   "metadata": {
    "cell_id": "f00e7ca861d24be596adb80badd20de0",
    "deepnote_cell_type": "code",
    "deepnote_to_be_reexecuted": false,
    "execution_millis": 4,
    "execution_start": 1686792595260,
    "source_hash": "634b4c6b"
   },
   "outputs": [
    {
     "data": {
      "text/plain": [
       "0.9289099526066351"
      ]
     },
     "execution_count": 26,
     "metadata": {},
     "output_type": "execute_result"
    }
   ],
   "source": [
    "tree.score(X_train, y_train)"
   ]
  },
  {
   "cell_type": "code",
   "execution_count": 27,
   "metadata": {
    "cell_id": "199b2648b38843a3aebc4bf5c3dcd5f5",
    "deepnote_cell_type": "code",
    "deepnote_to_be_reexecuted": false,
    "execution_millis": 3,
    "execution_start": 1686792595269,
    "source_hash": "cf6b865a"
   },
   "outputs": [
    {
     "data": {
      "text/plain": [
       "0.8867924528301887"
      ]
     },
     "execution_count": 27,
     "metadata": {},
     "output_type": "execute_result"
    }
   ],
   "source": [
    "tree.score(X_test, y_test)"
   ]
  },
  {
   "cell_type": "markdown",
   "metadata": {
    "cell_id": "56afdf9ad09341b28c6d0ef9570521af",
    "deepnote_cell_type": "markdown"
   },
   "source": [
    "The decision tree classifier has a reasonably good accuracy of 93 percent and 89 percent. Although the score for the test data is around 4 percentage points lower than that of the train data, the difference is not too significant. The model is likely not overfitting and there's no need for a Random Forest Classifier."
   ]
  },
  {
   "cell_type": "markdown",
   "metadata": {
    "cell_id": "e71f3d878e2a4c169b5c6cd4a5ced8ed",
    "deepnote_cell_type": "markdown"
   },
   "source": [
    "### Error Curve"
   ]
  },
  {
   "cell_type": "markdown",
   "metadata": {
    "cell_id": "796f76d0ef54407da9e2c75c81a2fb00",
    "deepnote_cell_type": "markdown"
   },
   "source": [
    "Here, I will plot the error curves of my train and test data. First, I will define my error as `1-tree.score(X,y)`."
   ]
  },
  {
   "cell_type": "markdown",
   "metadata": {
    "cell_id": "570ed32b33834f37ac0678745e0f858a",
    "deepnote_cell_type": "markdown"
   },
   "source": [
    "Creating an empty dataframe with three columns:"
   ]
  },
  {
   "cell_type": "code",
   "execution_count": 28,
   "metadata": {
    "cell_id": "b3324602ec66451ebe97ddef0ff7256d",
    "deepnote_cell_type": "code",
    "deepnote_to_be_reexecuted": false,
    "execution_millis": 46,
    "execution_start": 1686792595312,
    "source_hash": "cd1a41eb"
   },
   "outputs": [],
   "source": [
    "df_err1 = pd.DataFrame(columns=[\"leaves\", \"error\", \"set\"])"
   ]
  },
  {
   "cell_type": "markdown",
   "metadata": {
    "cell_id": "d7d2977f04fa40bfa813a395bda49dd4",
    "deepnote_cell_type": "markdown"
   },
   "source": [
    "Filling the dataframe:\n",
    "(I let my number of max leaf nodes vary from 2 to 40.)"
   ]
  },
  {
   "cell_type": "code",
   "execution_count": 29,
   "metadata": {
    "cell_id": "976819a5b13748fba9bd23af55e2bc17",
    "deepnote_cell_type": "code",
    "deepnote_to_be_reexecuted": false,
    "execution_millis": 585,
    "execution_start": 1686792595357,
    "source_hash": "8a012ec1"
   },
   "outputs": [],
   "source": [
    "for i in range(2,41):\n",
    "    tree = DecisionTreeClassifier(max_leaf_nodes=i)\n",
    "    tree.fit(X_train, y_train)\n",
    "    df_err1.loc[len(df_err1)] = [i, 1-tree.score(X_train, y_train), \"train\"]\n",
    "    df_err1.loc[len(df_err1)] = [i, 1-tree.score(X_test, y_test), \"test\"]  "
   ]
  },
  {
   "cell_type": "markdown",
   "metadata": {
    "cell_id": "52828f641ad54a738b7444a91097318f",
    "deepnote_cell_type": "markdown"
   },
   "source": [
    "Plotting the relationship between `leaves` and `error` with `set` as the color to get two lines for the test and train datasets:"
   ]
  },
  {
   "cell_type": "code",
   "execution_count": 30,
   "metadata": {
    "cell_id": "2b202e6ab4224d9da0b78af176de1735",
    "deepnote_cell_type": "code",
    "deepnote_to_be_reexecuted": false,
    "execution_millis": 56,
    "execution_start": 1686792595946,
    "source_hash": "dfdb4d59"
   },
   "outputs": [
    {
     "data": {
      "text/html": [
       "\n",
       "<div id=\"altair-viz-8681b09d79a9494d99fe0307d8aa9c98\"></div>\n",
       "<script type=\"text/javascript\">\n",
       "  var VEGA_DEBUG = (typeof VEGA_DEBUG == \"undefined\") ? {} : VEGA_DEBUG;\n",
       "  (function(spec, embedOpt){\n",
       "    let outputDiv = document.currentScript.previousElementSibling;\n",
       "    if (outputDiv.id !== \"altair-viz-8681b09d79a9494d99fe0307d8aa9c98\") {\n",
       "      outputDiv = document.getElementById(\"altair-viz-8681b09d79a9494d99fe0307d8aa9c98\");\n",
       "    }\n",
       "    const paths = {\n",
       "      \"vega\": \"https://cdn.jsdelivr.net/npm//vega@5?noext\",\n",
       "      \"vega-lib\": \"https://cdn.jsdelivr.net/npm//vega-lib?noext\",\n",
       "      \"vega-lite\": \"https://cdn.jsdelivr.net/npm//vega-lite@4.17.0?noext\",\n",
       "      \"vega-embed\": \"https://cdn.jsdelivr.net/npm//vega-embed@6?noext\",\n",
       "    };\n",
       "\n",
       "    function maybeLoadScript(lib, version) {\n",
       "      var key = `${lib.replace(\"-\", \"\")}_version`;\n",
       "      return (VEGA_DEBUG[key] == version) ?\n",
       "        Promise.resolve(paths[lib]) :\n",
       "        new Promise(function(resolve, reject) {\n",
       "          var s = document.createElement('script');\n",
       "          document.getElementsByTagName(\"head\")[0].appendChild(s);\n",
       "          s.async = true;\n",
       "          s.onload = () => {\n",
       "            VEGA_DEBUG[key] = version;\n",
       "            return resolve(paths[lib]);\n",
       "          };\n",
       "          s.onerror = () => reject(`Error loading script: ${paths[lib]}`);\n",
       "          s.src = paths[lib];\n",
       "        });\n",
       "    }\n",
       "\n",
       "    function showError(err) {\n",
       "      outputDiv.innerHTML = `<div class=\"error\" style=\"color:red;\">${err}</div>`;\n",
       "      throw err;\n",
       "    }\n",
       "\n",
       "    function displayChart(vegaEmbed) {\n",
       "      vegaEmbed(outputDiv, spec, embedOpt)\n",
       "        .catch(err => showError(`Javascript Error: ${err.message}<br>This usually means there's a typo in your chart specification. See the javascript console for the full traceback.`));\n",
       "    }\n",
       "\n",
       "    if(typeof define === \"function\" && define.amd) {\n",
       "      requirejs.config({paths});\n",
       "      require([\"vega-embed\"], displayChart, err => showError(`Error loading script: ${err.message}`));\n",
       "    } else {\n",
       "      maybeLoadScript(\"vega\", \"5\")\n",
       "        .then(() => maybeLoadScript(\"vega-lite\", \"4.17.0\"))\n",
       "        .then(() => maybeLoadScript(\"vega-embed\", \"6\"))\n",
       "        .catch(showError)\n",
       "        .then(() => displayChart(vegaEmbed));\n",
       "    }\n",
       "  })({\"config\": {\"view\": {\"continuousWidth\": 400, \"continuousHeight\": 300}}, \"data\": {\"name\": \"data-2b5e0f5e847421c14026fda3bcb2db36\"}, \"mark\": \"line\", \"encoding\": {\"color\": {\"field\": \"set\", \"type\": \"nominal\"}, \"tooltip\": [{\"field\": \"leaves\", \"type\": \"quantitative\"}, {\"field\": \"error\", \"type\": \"quantitative\"}], \"x\": {\"field\": \"leaves\", \"type\": \"quantitative\"}, \"y\": {\"field\": \"error\", \"type\": \"quantitative\"}}, \"$schema\": \"https://vega.github.io/schema/vega-lite/v4.17.0.json\", \"datasets\": {\"data-2b5e0f5e847421c14026fda3bcb2db36\": [{\"leaves\": 2, \"error\": 0.3744075829383886, \"set\": \"train\"}, {\"leaves\": 2, \"error\": 0.6226415094339622, \"set\": \"test\"}, {\"leaves\": 3, \"error\": 0.2654028436018957, \"set\": \"train\"}, {\"leaves\": 3, \"error\": 0.5471698113207547, \"set\": \"test\"}, {\"leaves\": 4, \"error\": 0.24644549763033174, \"set\": \"train\"}, {\"leaves\": 4, \"error\": 0.30188679245283023, \"set\": \"test\"}, {\"leaves\": 5, \"error\": 0.2417061611374408, \"set\": \"train\"}, {\"leaves\": 5, \"error\": 0.18867924528301883, \"set\": \"test\"}, {\"leaves\": 6, \"error\": 0.1563981042654028, \"set\": \"train\"}, {\"leaves\": 6, \"error\": 0.16981132075471694, \"set\": \"test\"}, {\"leaves\": 7, \"error\": 0.1563981042654028, \"set\": \"train\"}, {\"leaves\": 7, \"error\": 0.16981132075471694, \"set\": \"test\"}, {\"leaves\": 8, \"error\": 0.12322274881516593, \"set\": \"train\"}, {\"leaves\": 8, \"error\": 0.15094339622641506, \"set\": \"test\"}, {\"leaves\": 9, \"error\": 0.09478672985781988, \"set\": \"train\"}, {\"leaves\": 9, \"error\": 0.2264150943396226, \"set\": \"test\"}, {\"leaves\": 10, \"error\": 0.07109004739336489, \"set\": \"train\"}, {\"leaves\": 10, \"error\": 0.1132075471698113, \"set\": \"test\"}, {\"leaves\": 11, \"error\": 0.056872037914691975, \"set\": \"train\"}, {\"leaves\": 11, \"error\": 0.1132075471698113, \"set\": \"test\"}, {\"leaves\": 12, \"error\": 0.04739336492891, \"set\": \"train\"}, {\"leaves\": 12, \"error\": 0.1132075471698113, \"set\": \"test\"}, {\"leaves\": 13, \"error\": 0.042654028436018954, \"set\": \"train\"}, {\"leaves\": 13, \"error\": 0.1132075471698113, \"set\": \"test\"}, {\"leaves\": 14, \"error\": 0.03791469194312791, \"set\": \"train\"}, {\"leaves\": 14, \"error\": 0.1132075471698113, \"set\": \"test\"}, {\"leaves\": 15, \"error\": 0.033175355450236976, \"set\": \"train\"}, {\"leaves\": 15, \"error\": 0.07547169811320753, \"set\": \"test\"}, {\"leaves\": 16, \"error\": 0.028436018957345932, \"set\": \"train\"}, {\"leaves\": 16, \"error\": 0.07547169811320753, \"set\": \"test\"}, {\"leaves\": 17, \"error\": 0.023696682464455, \"set\": \"train\"}, {\"leaves\": 17, \"error\": 0.07547169811320753, \"set\": \"test\"}, {\"leaves\": 18, \"error\": 0.023696682464455, \"set\": \"train\"}, {\"leaves\": 18, \"error\": 0.07547169811320753, \"set\": \"test\"}, {\"leaves\": 19, \"error\": 0.014218009478673022, \"set\": \"train\"}, {\"leaves\": 19, \"error\": 0.07547169811320753, \"set\": \"test\"}, {\"leaves\": 20, \"error\": 0.014218009478673022, \"set\": \"train\"}, {\"leaves\": 20, \"error\": 0.07547169811320753, \"set\": \"test\"}, {\"leaves\": 21, \"error\": 0.009478672985781977, \"set\": \"train\"}, {\"leaves\": 21, \"error\": 0.05660377358490565, \"set\": \"test\"}, {\"leaves\": 22, \"error\": 0.009478672985781977, \"set\": \"train\"}, {\"leaves\": 22, \"error\": 0.09433962264150941, \"set\": \"test\"}, {\"leaves\": 23, \"error\": 0.004739336492891044, \"set\": \"train\"}, {\"leaves\": 23, \"error\": 0.07547169811320753, \"set\": \"test\"}, {\"leaves\": 24, \"error\": 0.004739336492891044, \"set\": \"train\"}, {\"leaves\": 24, \"error\": 0.05660377358490565, \"set\": \"test\"}, {\"leaves\": 25, \"error\": 0.0, \"set\": \"train\"}, {\"leaves\": 25, \"error\": 0.05660377358490565, \"set\": \"test\"}, {\"leaves\": 26, \"error\": 0.0, \"set\": \"train\"}, {\"leaves\": 26, \"error\": 0.05660377358490565, \"set\": \"test\"}, {\"leaves\": 27, \"error\": 0.0, \"set\": \"train\"}, {\"leaves\": 27, \"error\": 0.05660377358490565, \"set\": \"test\"}, {\"leaves\": 28, \"error\": 0.0, \"set\": \"train\"}, {\"leaves\": 28, \"error\": 0.05660377358490565, \"set\": \"test\"}, {\"leaves\": 29, \"error\": 0.0, \"set\": \"train\"}, {\"leaves\": 29, \"error\": 0.09433962264150941, \"set\": \"test\"}, {\"leaves\": 30, \"error\": 0.0, \"set\": \"train\"}, {\"leaves\": 30, \"error\": 0.05660377358490565, \"set\": \"test\"}, {\"leaves\": 31, \"error\": 0.0, \"set\": \"train\"}, {\"leaves\": 31, \"error\": 0.05660377358490565, \"set\": \"test\"}, {\"leaves\": 32, \"error\": 0.0, \"set\": \"train\"}, {\"leaves\": 32, \"error\": 0.07547169811320753, \"set\": \"test\"}, {\"leaves\": 33, \"error\": 0.0, \"set\": \"train\"}, {\"leaves\": 33, \"error\": 0.07547169811320753, \"set\": \"test\"}, {\"leaves\": 34, \"error\": 0.0, \"set\": \"train\"}, {\"leaves\": 34, \"error\": 0.037735849056603765, \"set\": \"test\"}, {\"leaves\": 35, \"error\": 0.0, \"set\": \"train\"}, {\"leaves\": 35, \"error\": 0.07547169811320753, \"set\": \"test\"}, {\"leaves\": 36, \"error\": 0.0, \"set\": \"train\"}, {\"leaves\": 36, \"error\": 0.037735849056603765, \"set\": \"test\"}, {\"leaves\": 37, \"error\": 0.0, \"set\": \"train\"}, {\"leaves\": 37, \"error\": 0.09433962264150941, \"set\": \"test\"}, {\"leaves\": 38, \"error\": 0.0, \"set\": \"train\"}, {\"leaves\": 38, \"error\": 0.05660377358490565, \"set\": \"test\"}, {\"leaves\": 39, \"error\": 0.0, \"set\": \"train\"}, {\"leaves\": 39, \"error\": 0.05660377358490565, \"set\": \"test\"}, {\"leaves\": 40, \"error\": 0.0, \"set\": \"train\"}, {\"leaves\": 40, \"error\": 0.037735849056603765, \"set\": \"test\"}]}}, {\"mode\": \"vega-lite\"});\n",
       "</script>"
      ],
      "text/plain": [
       "alt.Chart(...)"
      ]
     },
     "execution_count": 30,
     "metadata": {},
     "output_type": "execute_result"
    }
   ],
   "source": [
    "alt.Chart(df_err1).mark_line().encode(\n",
    "    x = \"leaves\",\n",
    "    y = \"error\",\n",
    "    color = \"set\",\n",
    "    tooltip = [\"leaves\", \"error\"]\n",
    ")"
   ]
  },
  {
   "cell_type": "markdown",
   "metadata": {
    "cell_id": "37018d69565d4374978163ef0ee37601",
    "deepnote_cell_type": "markdown"
   },
   "source": [
    "The train curve seems to follow a typical training error curve shape. The test curve on the other hand does not really resemble a U-shape, which is not unusual for real-life data. Both curves seem to have more or less the same error after 25 leaves."
   ]
  },
  {
   "cell_type": "markdown",
   "metadata": {
    "cell_id": "ac170d7f0ab5425aa8da915d315839a2",
    "deepnote_cell_type": "markdown"
   },
   "source": [
    "Next, I will repeat the same process but with my error as `log_loss(y,tree.predict_proba(X))`."
   ]
  },
  {
   "cell_type": "code",
   "execution_count": 31,
   "metadata": {
    "cell_id": "43ea3b67e2c341bb93fbad10e5551db9",
    "deepnote_cell_type": "code",
    "deepnote_to_be_reexecuted": false,
    "execution_millis": 777,
    "execution_start": 1686792596014,
    "source_hash": "9b36879"
   },
   "outputs": [
    {
     "data": {
      "text/html": [
       "\n",
       "<div id=\"altair-viz-34b18a56c99845e5b9509eb8ae09f04a\"></div>\n",
       "<script type=\"text/javascript\">\n",
       "  var VEGA_DEBUG = (typeof VEGA_DEBUG == \"undefined\") ? {} : VEGA_DEBUG;\n",
       "  (function(spec, embedOpt){\n",
       "    let outputDiv = document.currentScript.previousElementSibling;\n",
       "    if (outputDiv.id !== \"altair-viz-34b18a56c99845e5b9509eb8ae09f04a\") {\n",
       "      outputDiv = document.getElementById(\"altair-viz-34b18a56c99845e5b9509eb8ae09f04a\");\n",
       "    }\n",
       "    const paths = {\n",
       "      \"vega\": \"https://cdn.jsdelivr.net/npm//vega@5?noext\",\n",
       "      \"vega-lib\": \"https://cdn.jsdelivr.net/npm//vega-lib?noext\",\n",
       "      \"vega-lite\": \"https://cdn.jsdelivr.net/npm//vega-lite@4.17.0?noext\",\n",
       "      \"vega-embed\": \"https://cdn.jsdelivr.net/npm//vega-embed@6?noext\",\n",
       "    };\n",
       "\n",
       "    function maybeLoadScript(lib, version) {\n",
       "      var key = `${lib.replace(\"-\", \"\")}_version`;\n",
       "      return (VEGA_DEBUG[key] == version) ?\n",
       "        Promise.resolve(paths[lib]) :\n",
       "        new Promise(function(resolve, reject) {\n",
       "          var s = document.createElement('script');\n",
       "          document.getElementsByTagName(\"head\")[0].appendChild(s);\n",
       "          s.async = true;\n",
       "          s.onload = () => {\n",
       "            VEGA_DEBUG[key] = version;\n",
       "            return resolve(paths[lib]);\n",
       "          };\n",
       "          s.onerror = () => reject(`Error loading script: ${paths[lib]}`);\n",
       "          s.src = paths[lib];\n",
       "        });\n",
       "    }\n",
       "\n",
       "    function showError(err) {\n",
       "      outputDiv.innerHTML = `<div class=\"error\" style=\"color:red;\">${err}</div>`;\n",
       "      throw err;\n",
       "    }\n",
       "\n",
       "    function displayChart(vegaEmbed) {\n",
       "      vegaEmbed(outputDiv, spec, embedOpt)\n",
       "        .catch(err => showError(`Javascript Error: ${err.message}<br>This usually means there's a typo in your chart specification. See the javascript console for the full traceback.`));\n",
       "    }\n",
       "\n",
       "    if(typeof define === \"function\" && define.amd) {\n",
       "      requirejs.config({paths});\n",
       "      require([\"vega-embed\"], displayChart, err => showError(`Error loading script: ${err.message}`));\n",
       "    } else {\n",
       "      maybeLoadScript(\"vega\", \"5\")\n",
       "        .then(() => maybeLoadScript(\"vega-lite\", \"4.17.0\"))\n",
       "        .then(() => maybeLoadScript(\"vega-embed\", \"6\"))\n",
       "        .catch(showError)\n",
       "        .then(() => displayChart(vegaEmbed));\n",
       "    }\n",
       "  })({\"config\": {\"view\": {\"continuousWidth\": 400, \"continuousHeight\": 300}}, \"data\": {\"name\": \"data-28d7a94d2d39b65e3818ec1f0ac92336\"}, \"mark\": \"line\", \"encoding\": {\"color\": {\"field\": \"set\", \"type\": \"nominal\"}, \"tooltip\": [{\"field\": \"leaves\", \"type\": \"quantitative\"}, {\"field\": \"error\", \"type\": \"quantitative\"}], \"x\": {\"field\": \"leaves\", \"type\": \"quantitative\"}, \"y\": {\"field\": \"error\", \"type\": \"quantitative\"}}, \"$schema\": \"https://vega.github.io/schema/vega-lite/v4.17.0.json\", \"datasets\": {\"data-28d7a94d2d39b65e3818ec1f0ac92336\": [{\"leaves\": 2, \"error\": 0.813677700929547, \"set\": \"train\"}, {\"leaves\": 2, \"error\": 1.1033574989079136, \"set\": \"test\"}, {\"leaves\": 3, \"error\": 0.6801508297398243, \"set\": \"train\"}, {\"leaves\": 3, \"error\": 1.0647252592473364, \"set\": \"test\"}, {\"leaves\": 4, \"error\": 0.5790133099405449, \"set\": \"train\"}, {\"leaves\": 4, \"error\": 0.6919704642714859, \"set\": \"test\"}, {\"leaves\": 5, \"error\": 0.5009476595364026, \"set\": \"train\"}, {\"leaves\": 5, \"error\": 0.5940555950334063, \"set\": \"test\"}, {\"leaves\": 6, \"error\": 0.3764684244001737, \"set\": \"train\"}, {\"leaves\": 6, \"error\": 0.46645115474177123, \"set\": \"test\"}, {\"leaves\": 7, \"error\": 0.3311949681789956, \"set\": \"train\"}, {\"leaves\": 7, \"error\": 0.4351874165020496, \"set\": \"test\"}, {\"leaves\": 8, \"error\": 0.2956043595988337, \"set\": \"train\"}, {\"leaves\": 8, \"error\": 0.4325565437349666, \"set\": \"test\"}, {\"leaves\": 9, \"error\": 0.26839102717203106, \"set\": \"train\"}, {\"leaves\": 9, \"error\": 0.42477476994766145, \"set\": \"test\"}, {\"leaves\": 10, \"error\": 0.2212944300493586, \"set\": \"train\"}, {\"leaves\": 10, \"error\": 0.2789579443303615, \"set\": \"test\"}, {\"leaves\": 11, \"error\": 0.19503458979229693, \"set\": \"train\"}, {\"leaves\": 11, \"error\": 0.32027538633266006, \"set\": \"test\"}, {\"leaves\": 12, \"error\": 0.16373441810078224, \"set\": \"train\"}, {\"leaves\": 12, \"error\": 0.30705681633456816, \"set\": \"test\"}, {\"leaves\": 13, \"error\": 0.14742147119711435, \"set\": \"train\"}, {\"leaves\": 13, \"error\": 0.8954295705841224, \"set\": \"test\"}, {\"leaves\": 14, \"error\": 0.13163106540867933, \"set\": \"train\"}, {\"leaves\": 14, \"error\": 0.8992790570705146, \"set\": \"test\"}, {\"leaves\": 15, \"error\": 0.11938457012053921, \"set\": \"train\"}, {\"leaves\": 15, \"error\": 0.8235317062364911, \"set\": \"test\"}, {\"leaves\": 16, \"error\": 0.10081751342844736, \"set\": \"train\"}, {\"leaves\": 16, \"error\": 1.4186311438680752, \"set\": \"test\"}, {\"leaves\": 17, \"error\": 0.09315912790873393, \"set\": \"train\"}, {\"leaves\": 17, \"error\": 1.4217507096244444, \"set\": \"test\"}, {\"leaves\": 18, \"error\": 0.08563472271145066, \"set\": \"train\"}, {\"leaves\": 18, \"error\": 1.4170929723049814, \"set\": \"test\"}, {\"leaves\": 19, \"error\": 0.06753479375520006, \"set\": \"train\"}, {\"leaves\": 19, \"error\": 2.0327388947583067, \"set\": \"test\"}, {\"leaves\": 20, \"error\": 0.05809591537255839, \"set\": \"train\"}, {\"leaves\": 20, \"error\": 1.3970175951690014, \"set\": \"test\"}, {\"leaves\": 21, \"error\": 0.04904595089443311, \"set\": \"train\"}, {\"leaves\": 21, \"error\": 1.3893673101103565, \"set\": \"test\"}, {\"leaves\": 22, \"error\": 0.034921169368243125, \"set\": \"train\"}, {\"leaves\": 22, \"error\": 1.3331881773849568, \"set\": \"test\"}, {\"leaves\": 23, \"error\": 0.02426078747973493, \"set\": \"train\"}, {\"leaves\": 23, \"error\": 1.9583999040438058, \"set\": \"test\"}, {\"leaves\": 24, \"error\": 0.010660381888510309, \"set\": \"train\"}, {\"leaves\": 24, \"error\": 3.2583751315953484, \"set\": \"test\"}, {\"leaves\": 25, \"error\": 2.1094237467878e-15, \"set\": \"train\"}, {\"leaves\": 25, \"error\": 2.6067001052762793, \"set\": \"test\"}, {\"leaves\": 26, \"error\": 2.1094237467878e-15, \"set\": \"train\"}, {\"leaves\": 26, \"error\": 2.6067001052762797, \"set\": \"test\"}, {\"leaves\": 27, \"error\": 2.1094237467878e-15, \"set\": \"train\"}, {\"leaves\": 27, \"error\": 2.6067001052762793, \"set\": \"test\"}, {\"leaves\": 28, \"error\": 2.1094237467878e-15, \"set\": \"train\"}, {\"leaves\": 28, \"error\": 1.9550250789572101, \"set\": \"test\"}, {\"leaves\": 29, \"error\": 2.1094237467878e-15, \"set\": \"train\"}, {\"leaves\": 29, \"error\": 3.2583751315953484, \"set\": \"test\"}, {\"leaves\": 30, \"error\": 2.1094237467878e-15, \"set\": \"train\"}, {\"leaves\": 30, \"error\": 1.9550250789572101, \"set\": \"test\"}, {\"leaves\": 31, \"error\": 2.1094237467878e-15, \"set\": \"train\"}, {\"leaves\": 31, \"error\": 1.3033500526381405, \"set\": \"test\"}, {\"leaves\": 32, \"error\": 2.1094237467878e-15, \"set\": \"train\"}, {\"leaves\": 32, \"error\": 1.9550250789572101, \"set\": \"test\"}, {\"leaves\": 33, \"error\": 2.1094237467878e-15, \"set\": \"train\"}, {\"leaves\": 33, \"error\": 1.9550250789572101, \"set\": \"test\"}, {\"leaves\": 34, \"error\": 2.1094237467878e-15, \"set\": \"train\"}, {\"leaves\": 34, \"error\": 3.2583751315953484, \"set\": \"test\"}, {\"leaves\": 35, \"error\": 2.1094237467878e-15, \"set\": \"train\"}, {\"leaves\": 35, \"error\": 2.6067001052762797, \"set\": \"test\"}, {\"leaves\": 36, \"error\": 2.1094237467878e-15, \"set\": \"train\"}, {\"leaves\": 36, \"error\": 2.6067001052762793, \"set\": \"test\"}, {\"leaves\": 37, \"error\": 2.1094237467878e-15, \"set\": \"train\"}, {\"leaves\": 37, \"error\": 2.6067001052762797, \"set\": \"test\"}, {\"leaves\": 38, \"error\": 2.1094237467878e-15, \"set\": \"train\"}, {\"leaves\": 38, \"error\": 2.6067001052762797, \"set\": \"test\"}, {\"leaves\": 39, \"error\": 2.1094237467878e-15, \"set\": \"train\"}, {\"leaves\": 39, \"error\": 1.9550250789572101, \"set\": \"test\"}, {\"leaves\": 40, \"error\": 2.1094237467878e-15, \"set\": \"train\"}, {\"leaves\": 40, \"error\": 2.6067001052762797, \"set\": \"test\"}]}}, {\"mode\": \"vega-lite\"});\n",
       "</script>"
      ],
      "text/plain": [
       "alt.Chart(...)"
      ]
     },
     "execution_count": 31,
     "metadata": {},
     "output_type": "execute_result"
    }
   ],
   "source": [
    "df_err2 = pd.DataFrame(columns=[\"leaves\", \"error\", \"set\"])\n",
    "for i in range(2,41):\n",
    "    tree = DecisionTreeClassifier(max_leaf_nodes=i)\n",
    "    tree.fit(X_train, y_train)\n",
    "    df_err2.loc[len(df_err2)] = [i, log_loss(y_train, tree.predict_proba(X_train)), \"train\"]\n",
    "    df_err2.loc[len(df_err2)] = [i, log_loss(y_test, tree.predict_proba(X_test)), \"test\"]  \n",
    "alt.Chart(df_err2).mark_line().encode(\n",
    "    x = \"leaves\",\n",
    "    y = \"error\",\n",
    "    color = \"set\",\n",
    "    tooltip = [\"leaves\", \"error\"]\n",
    ")"
   ]
  },
  {
   "cell_type": "markdown",
   "metadata": {
    "cell_id": "1eef3529ae73412a8e6506e439e2ea3e",
    "deepnote_cell_type": "markdown"
   },
   "source": [
    "The training error curve looks very similar, but the test error curve wildly fluctuates. There is clearly no advantage of using `log_loss` for my dataset."
   ]
  },
  {
   "cell_type": "markdown",
   "metadata": {
    "cell_id": "fcbe69f9a5b74d3d9666faef717d92e5",
    "deepnote_cell_type": "markdown",
    "tags": []
   },
   "source": [
    "## Summary"
   ]
  },
  {
   "cell_type": "markdown",
   "metadata": {
    "cell_id": "beac1079b42f408fb252c05d242233c3",
    "deepnote_cell_type": "markdown"
   },
   "source": [
    "1. Using linear regression to model WPM with Accuracy, Consistency, and Test Duration performed poorly (54% accuracy), but adding the features `isPb` and `mode` noticeably improved the model's accuracy (72% accuracy). Also, Accuracy and the mode being `words` were the strongest predictors of WPM.\n",
    "2. Using logistic regression to predict `isPb` with Accuracy, Consistency, Test Duration, and WPM performed quite well (91% accuracy). The strongest predictor of `isPb` was again Accuracy.\n",
    "3. Using a decision tree classifier to predict the `mode` with Accuracy, Consistency, Test Duration, and WPM performed decently (93% and 89% accuracy for train and test data respectively). The small difference in the performance between the train and test data suggests that the model is not overfitting. The strongest predictor of `mode` was the Test Duration."
   ]
  },
  {
   "cell_type": "markdown",
   "metadata": {
    "cell_id": "f32d03530a0c4f1f9628bad0ee6f382c",
    "deepnote_cell_type": "markdown",
    "tags": []
   },
   "source": [
    "## References"
   ]
  },
  {
   "cell_type": "markdown",
   "metadata": {
    "cell_id": "9f13b4feb32646fb86f8d4098e409c72",
    "deepnote_cell_type": "markdown",
    "tags": []
   },
   "source": [
    "Source of Dataset: [MonkeyType](https://monkeytype.com/) and Myself\n",
    "External References: [Bing Chat](https://www.bing.com/search?form=MY02AA&OCID=MY02AA&pl=launch&q=Bing+AI&showconv=1), [altair.hconcat](https://altair-viz.github.io/user_guide/generated/toplevel/altair.HConcatChart.html), [OneHotEncoder](https://scikit-learn.org/stable/modules/generated/sklearn.preprocessing.OneHotEncoder.html), and [ColumnTransformer](https://scikit-learn.org/stable/modules/generated/sklearn.compose.ColumnTransformer.html)"
   ]
  },
  {
   "cell_type": "markdown",
   "metadata": {
    "created_in_deepnote_cell": true,
    "deepnote_cell_type": "markdown"
   },
   "source": [
    "<a style='text-decoration:none;line-height:16px;display:flex;color:#5B5B62;padding:10px;justify-content:end;' href='https://deepnote.com?utm_source=created-in-deepnote-cell&projectId=3d55b611-3ab1-43f1-9a99-f081fe2c116b' target=\"_blank\">\n",
    "<img alt='Created in deepnote.com' style='display:inline;max-height:16px;margin:0px;margin-right:7.5px;' src='data:image/svg+xml;base64,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' > </img>\n",
    "Created in <span style='font-weight:600;margin-left:4px;'>Deepnote</span></a>"
   ]
  }
 ],
 "metadata": {
  "deepnote": {
   "is_reactive": false
  },
  "deepnote_execution_queue": [],
  "deepnote_notebook_id": "a8fa387f62124e309654aa697d1ae91f",
  "kernelspec": {
   "display_name": "Python 3 (ipykernel)",
   "language": "python",
   "name": "python3"
  },
  "language_info": {
   "codemirror_mode": {
    "name": "ipython",
    "version": 3
   },
   "file_extension": ".py",
   "mimetype": "text/x-python",
   "name": "python",
   "nbconvert_exporter": "python",
   "pygments_lexer": "ipython3",
   "version": "3.9.16"
  }
 },
 "nbformat": 4,
 "nbformat_minor": 4
}
