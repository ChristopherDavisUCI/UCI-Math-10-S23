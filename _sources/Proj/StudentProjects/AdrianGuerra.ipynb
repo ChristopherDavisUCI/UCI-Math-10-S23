{
 "cells": [
  {
   "cell_type": "markdown",
   "metadata": {
    "cell_id": "c80cdcb8a2354fb9b60c71c887cc3fa6",
    "deepnote_cell_type": "markdown",
    "tags": []
   },
   "source": [
    "# Energy Consumption\n",
    "\n",
    "Author: Adrian Guerra\n",
    "\n",
    "Course Project, UC Irvine, Math 10, S23"
   ]
  },
  {
   "cell_type": "markdown",
   "metadata": {
    "cell_id": "42326219de044d51b9a54db017f5e075",
    "deepnote_cell_type": "markdown",
    "tags": []
   },
   "source": [
    "## Introduction\n",
    "\n",
    "Introduce your project here.  Maybe 3 sentences.\n",
    "\n",
    "In my project I'll be using altair, linear regression, and pandas in order to take in different datasets about hourly energy consumption. I will be using more outdated data in order to try and predict what the MW usage is for more recent years, along with testing predict with splitting the data between two different times and seeing how the predict relates to the real. I think this will be an interesting idea since the prediction wouldnt take into account things like covid and how thats shifts the energy consumption."
   ]
  },
  {
   "cell_type": "markdown",
   "metadata": {
    "cell_id": "6a3f1cac1e7245b5b7d60f57791a9a6f",
    "deepnote_cell_type": "markdown",
    "tags": []
   },
   "source": [
    "## Energy consumption\n",
    "\n",
    "You can either have all one section or divide into multiple sections.  To make new sections, use `##` in a markdown cell.  Double-click this cell for an example of using `##`"
   ]
  },
  {
   "cell_type": "code",
   "execution_count": 1,
   "metadata": {
    "cell_id": "81712e55a91e4ed3994b0e0138bac871",
    "deepnote_cell_type": "code",
    "deepnote_to_be_reexecuted": false,
    "execution_millis": 930,
    "execution_start": 1686980288350,
    "source_hash": "fa4ef256"
   },
   "outputs": [],
   "source": [
    "import pandas as pd\n",
    "from sklearn.linear_model import LinearRegression\n",
    "import altair as alt\n",
    "import numpy as np\n",
    "from sklearn.model_selection import train_test_split\n",
    "csv_files = ['AEP_hourly.csv', 'COMED_hourly.csv', 'DAYTON_hourly.csv','DEOK_hourly.csv','DOM_hourly.csv','DUQ_hourly.csv','EKPC_hourly.csv','FE_hourly.csv','NI_hourly.csv','pjm_hourly_est.csv','PJM_Load_hourly.csv','PJME_hourly.csv','PJMW_hourly.csv']"
   ]
  },
  {
   "cell_type": "code",
   "execution_count": 2,
   "metadata": {
    "cell_id": "a1a5b7e2ac58422b99aa8bdf650bc335",
    "deepnote_cell_type": "code",
    "deepnote_table_loading": false,
    "deepnote_table_state": {
     "filters": [],
     "pageIndex": 39999,
     "pageSize": 10,
     "sortBy": []
    },
    "deepnote_to_be_reexecuted": false,
    "execution_millis": 2026,
    "execution_start": 1686980289322,
    "source_hash": "645a204a"
   },
   "outputs": [],
   "source": [
    "dfs = pd.DataFrame()\n",
    "for file in csv_files:\n",
    "    df = pd.read_csv(file)\n",
    "    dfs = dfs.append(df, ignore_index=True)"
   ]
  },
  {
   "cell_type": "code",
   "execution_count": 3,
   "metadata": {
    "cell_id": "d9a796be97344771b22a77d033d886c5",
    "deepnote_cell_type": "code",
    "deepnote_table_loading": false,
    "deepnote_table_state": {
     "filters": [],
     "pageIndex": 999,
     "pageSize": 10,
     "sortBy": []
    },
    "deepnote_to_be_reexecuted": false,
    "execution_millis": 144,
    "execution_start": 1686980291580,
    "source_hash": "66be6024"
   },
   "outputs": [],
   "source": [
    "dfs['Datetime'] = pd.to_datetime(dfs['Datetime'])\n",
    "dfs['Year'] = dfs['Datetime'].dt.year"
   ]
  },
  {
   "cell_type": "markdown",
   "metadata": {
    "cell_id": "db091aff528848c1b51d3f4f82e39515",
    "deepnote_cell_type": "markdown"
   },
   "source": [
    "In the previous cells I was importing and combining the different csvs in order to try and get everything in one place for simplicities sake. Here I am priming up the DataFrame, using pandas in order to seperate the date into a 'Years' colunn for later. "
   ]
  },
  {
   "cell_type": "code",
   "execution_count": 4,
   "metadata": {
    "cell_id": "435552e39c23474b820f4f772019a8c6",
    "deepnote_cell_type": "code",
    "deepnote_table_loading": false,
    "deepnote_table_state": {
     "filters": [],
     "pageIndex": 0,
     "pageSize": 10,
     "sortBy": []
    },
    "deepnote_to_be_reexecuted": false,
    "execution_millis": 482,
    "execution_start": 1686980291729,
    "source_hash": "76477817"
   },
   "outputs": [],
   "source": [
    "dfs = dfs.fillna(0)\n",
    "yearly_mw = dfs.groupby('Year').sum()\n",
    "dfs2 = yearly_mw.reset_index()\n",
    "df_sum = yearly_mw.groupby('Year').sum()\n",
    "tf = dfs2[(dfs2['Year'] >= 1998) & (dfs2['Year'] <= 2014)]"
   ]
  },
  {
   "cell_type": "markdown",
   "metadata": {
    "cell_id": "3311798ed87b4b969a9b6d327b5395cd",
    "deepnote_cell_type": "markdown"
   },
   "source": [
    "There are a various amount of things I'm doing here. I am filling up the nan values, grouping whats in dfs into year, reseting the index in order to have 'Year' be a column within df_sum, which is the combined MW used in in each column for each year. Finally creating a time frame (tf) in order to try and create a prediction and comparing to the actual usage."
   ]
  },
  {
   "cell_type": "code",
   "execution_count": 5,
   "metadata": {
    "cell_id": "8c428ce0e3d840c5b9bf478a030777ae",
    "deepnote_cell_type": "code",
    "deepnote_to_be_reexecuted": false,
    "execution_millis": 42,
    "execution_start": 1686980292239,
    "source_hash": "bf0d2a3f"
   },
   "outputs": [
    {
     "data": {
      "text/html": [
       "\n",
       "<div id=\"altair-viz-1433c67682944f3dafffcc508df276dd\"></div>\n",
       "<script type=\"text/javascript\">\n",
       "  var VEGA_DEBUG = (typeof VEGA_DEBUG == \"undefined\") ? {} : VEGA_DEBUG;\n",
       "  (function(spec, embedOpt){\n",
       "    let outputDiv = document.currentScript.previousElementSibling;\n",
       "    if (outputDiv.id !== \"altair-viz-1433c67682944f3dafffcc508df276dd\") {\n",
       "      outputDiv = document.getElementById(\"altair-viz-1433c67682944f3dafffcc508df276dd\");\n",
       "    }\n",
       "    const paths = {\n",
       "      \"vega\": \"https://cdn.jsdelivr.net/npm//vega@5?noext\",\n",
       "      \"vega-lib\": \"https://cdn.jsdelivr.net/npm//vega-lib?noext\",\n",
       "      \"vega-lite\": \"https://cdn.jsdelivr.net/npm//vega-lite@4.17.0?noext\",\n",
       "      \"vega-embed\": \"https://cdn.jsdelivr.net/npm//vega-embed@6?noext\",\n",
       "    };\n",
       "\n",
       "    function maybeLoadScript(lib, version) {\n",
       "      var key = `${lib.replace(\"-\", \"\")}_version`;\n",
       "      return (VEGA_DEBUG[key] == version) ?\n",
       "        Promise.resolve(paths[lib]) :\n",
       "        new Promise(function(resolve, reject) {\n",
       "          var s = document.createElement('script');\n",
       "          document.getElementsByTagName(\"head\")[0].appendChild(s);\n",
       "          s.async = true;\n",
       "          s.onload = () => {\n",
       "            VEGA_DEBUG[key] = version;\n",
       "            return resolve(paths[lib]);\n",
       "          };\n",
       "          s.onerror = () => reject(`Error loading script: ${paths[lib]}`);\n",
       "          s.src = paths[lib];\n",
       "        });\n",
       "    }\n",
       "\n",
       "    function showError(err) {\n",
       "      outputDiv.innerHTML = `<div class=\"error\" style=\"color:red;\">${err}</div>`;\n",
       "      throw err;\n",
       "    }\n",
       "\n",
       "    function displayChart(vegaEmbed) {\n",
       "      vegaEmbed(outputDiv, spec, embedOpt)\n",
       "        .catch(err => showError(`Javascript Error: ${err.message}<br>This usually means there's a typo in your chart specification. See the javascript console for the full traceback.`));\n",
       "    }\n",
       "\n",
       "    if(typeof define === \"function\" && define.amd) {\n",
       "      requirejs.config({paths});\n",
       "      require([\"vega-embed\"], displayChart, err => showError(`Error loading script: ${err.message}`));\n",
       "    } else {\n",
       "      maybeLoadScript(\"vega\", \"5\")\n",
       "        .then(() => maybeLoadScript(\"vega-lite\", \"4.17.0\"))\n",
       "        .then(() => maybeLoadScript(\"vega-embed\", \"6\"))\n",
       "        .catch(showError)\n",
       "        .then(() => displayChart(vegaEmbed));\n",
       "    }\n",
       "  })({\"config\": {\"view\": {\"continuousWidth\": 400, \"continuousHeight\": 300}}, \"data\": {\"name\": \"data-751723c80de8d105555f6afd93b15d1b\"}, \"mark\": \"line\", \"encoding\": {\"color\": {\"field\": \"CSV File\", \"type\": \"nominal\"}, \"tooltip\": [{\"field\": \"MW\", \"type\": \"quantitative\"}, {\"field\": \"CSV File\", \"type\": \"nominal\"}], \"x\": {\"field\": \"Year\", \"type\": \"quantitative\"}, \"y\": {\"field\": \"MW\", \"type\": \"quantitative\"}}, \"height\": 400, \"title\": \"Yearly Usage 1998-2014\", \"width\": 600, \"$schema\": \"https://vega.github.io/schema/vega-lite/v4.17.0.json\", \"datasets\": {\"data-751723c80de8d105555f6afd93b15d1b\": [{\"Year\": 1998, \"CSV File\": \"AEP_MW\", \"MW\": 0.0}, {\"Year\": 1999, \"CSV File\": \"AEP_MW\", \"MW\": 0.0}, {\"Year\": 2000, \"CSV File\": \"AEP_MW\", \"MW\": 0.0}, {\"Year\": 2001, \"CSV File\": \"AEP_MW\", \"MW\": 0.0}, {\"Year\": 2002, \"CSV File\": \"AEP_MW\", \"MW\": 0.0}, {\"Year\": 2003, \"CSV File\": \"AEP_MW\", \"MW\": 0.0}, {\"Year\": 2004, \"CSV File\": \"AEP_MW\", \"MW\": 33479854.0}, {\"Year\": 2005, \"CSV File\": \"AEP_MW\", \"MW\": 138752914.0}, {\"Year\": 2006, \"CSV File\": \"AEP_MW\", \"MW\": 137826610.0}, {\"Year\": 2007, \"CSV File\": \"AEP_MW\", \"MW\": 145781458.0}, {\"Year\": 2008, \"CSV File\": \"AEP_MW\", \"MW\": 145224910.0}, {\"Year\": 2009, \"CSV File\": \"AEP_MW\", \"MW\": 133595510.0}, {\"Year\": 2010, \"CSV File\": \"AEP_MW\", \"MW\": 140187481.0}, {\"Year\": 2011, \"CSV File\": \"AEP_MW\", \"MW\": 138511181.0}, {\"Year\": 2012, \"CSV File\": \"AEP_MW\", \"MW\": 134814172.0}, {\"Year\": 2013, \"CSV File\": \"AEP_MW\", \"MW\": 133105937.0}, {\"Year\": 2014, \"CSV File\": \"AEP_MW\", \"MW\": 132865962.0}, {\"Year\": 1998, \"CSV File\": \"COMED_MW\", \"MW\": 0.0}, {\"Year\": 1999, \"CSV File\": \"COMED_MW\", \"MW\": 0.0}, {\"Year\": 2000, \"CSV File\": \"COMED_MW\", \"MW\": 0.0}, {\"Year\": 2001, \"CSV File\": \"COMED_MW\", \"MW\": 0.0}, {\"Year\": 2002, \"CSV File\": \"COMED_MW\", \"MW\": 0.0}, {\"Year\": 2003, \"CSV File\": \"COMED_MW\", \"MW\": 0.0}, {\"Year\": 2004, \"CSV File\": \"COMED_MW\", \"MW\": 0.0}, {\"Year\": 2005, \"CSV File\": \"COMED_MW\", \"MW\": 0.0}, {\"Year\": 2006, \"CSV File\": \"COMED_MW\", \"MW\": 0.0}, {\"Year\": 2007, \"CSV File\": \"COMED_MW\", \"MW\": 0.0}, {\"Year\": 2008, \"CSV File\": \"COMED_MW\", \"MW\": 0.0}, {\"Year\": 2009, \"CSV File\": \"COMED_MW\", \"MW\": 0.0}, {\"Year\": 2010, \"CSV File\": \"COMED_MW\", \"MW\": 0.0}, {\"Year\": 2011, \"CSV File\": \"COMED_MW\", \"MW\": 102005794.0}, {\"Year\": 2012, \"CSV File\": \"COMED_MW\", \"MW\": 101977986.0}, {\"Year\": 2013, \"CSV File\": \"COMED_MW\", \"MW\": 101149215.0}, {\"Year\": 2014, \"CSV File\": \"COMED_MW\", \"MW\": 100214404.0}, {\"Year\": 1998, \"CSV File\": \"DAYTON_MW\", \"MW\": 0.0}, {\"Year\": 1999, \"CSV File\": \"DAYTON_MW\", \"MW\": 0.0}, {\"Year\": 2000, \"CSV File\": \"DAYTON_MW\", \"MW\": 0.0}, {\"Year\": 2001, \"CSV File\": \"DAYTON_MW\", \"MW\": 0.0}, {\"Year\": 2002, \"CSV File\": \"DAYTON_MW\", \"MW\": 0.0}, {\"Year\": 2003, \"CSV File\": \"DAYTON_MW\", \"MW\": 0.0}, {\"Year\": 2004, \"CSV File\": \"DAYTON_MW\", \"MW\": 4384244.0}, {\"Year\": 2005, \"CSV File\": \"DAYTON_MW\", \"MW\": 18757648.0}, {\"Year\": 2006, \"CSV File\": \"DAYTON_MW\", \"MW\": 18361614.0}, {\"Year\": 2007, \"CSV File\": \"DAYTON_MW\", \"MW\": 19072401.0}, {\"Year\": 2008, \"CSV File\": \"DAYTON_MW\", \"MW\": 18565515.0}, {\"Year\": 2009, \"CSV File\": \"DAYTON_MW\", \"MW\": 17214513.0}, {\"Year\": 2010, \"CSV File\": \"DAYTON_MW\", \"MW\": 17749452.0}, {\"Year\": 2011, \"CSV File\": \"DAYTON_MW\", \"MW\": 17419249.0}, {\"Year\": 2012, \"CSV File\": \"DAYTON_MW\", \"MW\": 17408219.0}, {\"Year\": 2013, \"CSV File\": \"DAYTON_MW\", \"MW\": 17421318.0}, {\"Year\": 2014, \"CSV File\": \"DAYTON_MW\", \"MW\": 17629130.0}, {\"Year\": 1998, \"CSV File\": \"DEOK_MW\", \"MW\": 0.0}, {\"Year\": 1999, \"CSV File\": \"DEOK_MW\", \"MW\": 0.0}, {\"Year\": 2000, \"CSV File\": \"DEOK_MW\", \"MW\": 0.0}, {\"Year\": 2001, \"CSV File\": \"DEOK_MW\", \"MW\": 0.0}, {\"Year\": 2002, \"CSV File\": \"DEOK_MW\", \"MW\": 0.0}, {\"Year\": 2003, \"CSV File\": \"DEOK_MW\", \"MW\": 0.0}, {\"Year\": 2004, \"CSV File\": \"DEOK_MW\", \"MW\": 0.0}, {\"Year\": 2005, \"CSV File\": \"DEOK_MW\", \"MW\": 0.0}, {\"Year\": 2006, \"CSV File\": \"DEOK_MW\", \"MW\": 0.0}, {\"Year\": 2007, \"CSV File\": \"DEOK_MW\", \"MW\": 0.0}, {\"Year\": 2008, \"CSV File\": \"DEOK_MW\", \"MW\": 0.0}, {\"Year\": 2009, \"CSV File\": \"DEOK_MW\", \"MW\": 0.0}, {\"Year\": 2010, \"CSV File\": \"DEOK_MW\", \"MW\": 0.0}, {\"Year\": 2011, \"CSV File\": \"DEOK_MW\", \"MW\": 0.0}, {\"Year\": 2012, \"CSV File\": \"DEOK_MW\", \"MW\": 26914888.0}, {\"Year\": 2013, \"CSV File\": \"DEOK_MW\", \"MW\": 27075131.0}, {\"Year\": 2014, \"CSV File\": \"DEOK_MW\", \"MW\": 27405184.0}, {\"Year\": 1998, \"CSV File\": \"DOM_MW\", \"MW\": 0.0}, {\"Year\": 1999, \"CSV File\": \"DOM_MW\", \"MW\": 0.0}, {\"Year\": 2000, \"CSV File\": \"DOM_MW\", \"MW\": 0.0}, {\"Year\": 2001, \"CSV File\": \"DOM_MW\", \"MW\": 0.0}, {\"Year\": 2002, \"CSV File\": \"DOM_MW\", \"MW\": 0.0}, {\"Year\": 2003, \"CSV File\": \"DOM_MW\", \"MW\": 0.0}, {\"Year\": 2004, \"CSV File\": \"DOM_MW\", \"MW\": 0.0}, {\"Year\": 2005, \"CSV File\": \"DOM_MW\", \"MW\": 63679458.0}, {\"Year\": 2006, \"CSV File\": \"DOM_MW\", \"MW\": 91583693.0}, {\"Year\": 2007, \"CSV File\": \"DOM_MW\", \"MW\": 96259317.0}, {\"Year\": 2008, \"CSV File\": \"DOM_MW\", \"MW\": 94729254.0}, {\"Year\": 2009, \"CSV File\": \"DOM_MW\", \"MW\": 93683715.0}, {\"Year\": 2010, \"CSV File\": \"DOM_MW\", \"MW\": 98779534.0}, {\"Year\": 2011, \"CSV File\": \"DOM_MW\", \"MW\": 95160671.0}, {\"Year\": 2012, \"CSV File\": \"DOM_MW\", \"MW\": 93218606.0}, {\"Year\": 2013, \"CSV File\": \"DOM_MW\", \"MW\": 95505523.0}, {\"Year\": 2014, \"CSV File\": \"DOM_MW\", \"MW\": 97011887.0}, {\"Year\": 1998, \"CSV File\": \"DUQ_MW\", \"MW\": 0.0}, {\"Year\": 1999, \"CSV File\": \"DUQ_MW\", \"MW\": 0.0}, {\"Year\": 2000, \"CSV File\": \"DUQ_MW\", \"MW\": 0.0}, {\"Year\": 2001, \"CSV File\": \"DUQ_MW\", \"MW\": 0.0}, {\"Year\": 2002, \"CSV File\": \"DUQ_MW\", \"MW\": 0.0}, {\"Year\": 2003, \"CSV File\": \"DUQ_MW\", \"MW\": 0.0}, {\"Year\": 2004, \"CSV File\": \"DUQ_MW\", \"MW\": 0.0}, {\"Year\": 2005, \"CSV File\": \"DUQ_MW\", \"MW\": 14830490.0}, {\"Year\": 2006, \"CSV File\": \"DUQ_MW\", \"MW\": 14562752.0}, {\"Year\": 2007, \"CSV File\": \"DUQ_MW\", \"MW\": 15003675.0}, {\"Year\": 2008, \"CSV File\": \"DUQ_MW\", \"MW\": 14699758.0}, {\"Year\": 2009, \"CSV File\": \"DUQ_MW\", \"MW\": 13964771.0}, {\"Year\": 2010, \"CSV File\": \"DUQ_MW\", \"MW\": 14959342.0}, {\"Year\": 2011, \"CSV File\": \"DUQ_MW\", \"MW\": 14925032.0}, {\"Year\": 2012, \"CSV File\": \"DUQ_MW\", \"MW\": 15097835.0}, {\"Year\": 2013, \"CSV File\": \"DUQ_MW\", \"MW\": 14822887.0}, {\"Year\": 2014, \"CSV File\": \"DUQ_MW\", \"MW\": 14567085.0}, {\"Year\": 1998, \"CSV File\": \"EKPC_MW\", \"MW\": 0.0}, {\"Year\": 1999, \"CSV File\": \"EKPC_MW\", \"MW\": 0.0}, {\"Year\": 2000, \"CSV File\": \"EKPC_MW\", \"MW\": 0.0}, {\"Year\": 2001, \"CSV File\": \"EKPC_MW\", \"MW\": 0.0}, {\"Year\": 2002, \"CSV File\": \"EKPC_MW\", \"MW\": 0.0}, {\"Year\": 2003, \"CSV File\": \"EKPC_MW\", \"MW\": 0.0}, {\"Year\": 2004, \"CSV File\": \"EKPC_MW\", \"MW\": 0.0}, {\"Year\": 2005, \"CSV File\": \"EKPC_MW\", \"MW\": 0.0}, {\"Year\": 2006, \"CSV File\": \"EKPC_MW\", \"MW\": 0.0}, {\"Year\": 2007, \"CSV File\": \"EKPC_MW\", \"MW\": 0.0}, {\"Year\": 2008, \"CSV File\": \"EKPC_MW\", \"MW\": 0.0}, {\"Year\": 2009, \"CSV File\": \"EKPC_MW\", \"MW\": 0.0}, {\"Year\": 2010, \"CSV File\": \"EKPC_MW\", \"MW\": 0.0}, {\"Year\": 2011, \"CSV File\": \"EKPC_MW\", \"MW\": 0.0}, {\"Year\": 2012, \"CSV File\": \"EKPC_MW\", \"MW\": 0.0}, {\"Year\": 2013, \"CSV File\": \"EKPC_MW\", \"MW\": 7260899.0}, {\"Year\": 2014, \"CSV File\": \"EKPC_MW\", \"MW\": 13143552.0}, {\"Year\": 1998, \"CSV File\": \"FE_MW\", \"MW\": 0.0}, {\"Year\": 1999, \"CSV File\": \"FE_MW\", \"MW\": 0.0}, {\"Year\": 2000, \"CSV File\": \"FE_MW\", \"MW\": 0.0}, {\"Year\": 2001, \"CSV File\": \"FE_MW\", \"MW\": 0.0}, {\"Year\": 2002, \"CSV File\": \"FE_MW\", \"MW\": 0.0}, {\"Year\": 2003, \"CSV File\": \"FE_MW\", \"MW\": 0.0}, {\"Year\": 2004, \"CSV File\": \"FE_MW\", \"MW\": 0.0}, {\"Year\": 2005, \"CSV File\": \"FE_MW\", \"MW\": 0.0}, {\"Year\": 2006, \"CSV File\": \"FE_MW\", \"MW\": 0.0}, {\"Year\": 2007, \"CSV File\": \"FE_MW\", \"MW\": 0.0}, {\"Year\": 2008, \"CSV File\": \"FE_MW\", \"MW\": 0.0}, {\"Year\": 2009, \"CSV File\": \"FE_MW\", \"MW\": 0.0}, {\"Year\": 2010, \"CSV File\": \"FE_MW\", \"MW\": 0.0}, {\"Year\": 2011, \"CSV File\": \"FE_MW\", \"MW\": 40535968.0}, {\"Year\": 2012, \"CSV File\": \"FE_MW\", \"MW\": 68097194.0}, {\"Year\": 2013, \"CSV File\": \"FE_MW\", \"MW\": 68370478.0}, {\"Year\": 2014, \"CSV File\": \"FE_MW\", \"MW\": 69343696.0}, {\"Year\": 1998, \"CSV File\": \"NI_MW\", \"MW\": 0.0}, {\"Year\": 1999, \"CSV File\": \"NI_MW\", \"MW\": 0.0}, {\"Year\": 2000, \"CSV File\": \"NI_MW\", \"MW\": 0.0}, {\"Year\": 2001, \"CSV File\": \"NI_MW\", \"MW\": 0.0}, {\"Year\": 2002, \"CSV File\": \"NI_MW\", \"MW\": 0.0}, {\"Year\": 2003, \"CSV File\": \"NI_MW\", \"MW\": 0.0}, {\"Year\": 2004, \"CSV File\": \"NI_MW\", \"MW\": 65979931.0}, {\"Year\": 2005, \"CSV File\": \"NI_MW\", \"MW\": 103799551.0}, {\"Year\": 2006, \"CSV File\": \"NI_MW\", \"MW\": 102359091.0}, {\"Year\": 2007, \"CSV File\": \"NI_MW\", \"MW\": 105843527.0}, {\"Year\": 2008, \"CSV File\": \"NI_MW\", \"MW\": 104282279.0}, {\"Year\": 2009, \"CSV File\": \"NI_MW\", \"MW\": 98211778.0}, {\"Year\": 2010, \"CSV File\": \"NI_MW\", \"MW\": 103477169.0}, {\"Year\": 2011, \"CSV File\": \"NI_MW\", \"MW\": 10042.0}, {\"Year\": 2012, \"CSV File\": \"NI_MW\", \"MW\": 0.0}, {\"Year\": 2013, \"CSV File\": \"NI_MW\", \"MW\": 0.0}, {\"Year\": 2014, \"CSV File\": \"NI_MW\", \"MW\": 0.0}, {\"Year\": 1998, \"CSV File\": \"AEP\", \"MW\": 0.0}, {\"Year\": 1999, \"CSV File\": \"AEP\", \"MW\": 0.0}, {\"Year\": 2000, \"CSV File\": \"AEP\", \"MW\": 0.0}, {\"Year\": 2001, \"CSV File\": \"AEP\", \"MW\": 0.0}, {\"Year\": 2002, \"CSV File\": \"AEP\", \"MW\": 0.0}, {\"Year\": 2003, \"CSV File\": \"AEP\", \"MW\": 0.0}, {\"Year\": 2004, \"CSV File\": \"AEP\", \"MW\": 33479854.0}, {\"Year\": 2005, \"CSV File\": \"AEP\", \"MW\": 138752914.0}, {\"Year\": 2006, \"CSV File\": \"AEP\", \"MW\": 137826610.0}, {\"Year\": 2007, \"CSV File\": \"AEP\", \"MW\": 145781458.0}, {\"Year\": 2008, \"CSV File\": \"AEP\", \"MW\": 145224910.0}, {\"Year\": 2009, \"CSV File\": \"AEP\", \"MW\": 133595510.0}, {\"Year\": 2010, \"CSV File\": \"AEP\", \"MW\": 140187481.0}, {\"Year\": 2011, \"CSV File\": \"AEP\", \"MW\": 138511181.0}, {\"Year\": 2012, \"CSV File\": \"AEP\", \"MW\": 134814172.0}, {\"Year\": 2013, \"CSV File\": \"AEP\", \"MW\": 133105937.0}, {\"Year\": 2014, \"CSV File\": \"AEP\", \"MW\": 132865962.0}, {\"Year\": 1998, \"CSV File\": \"COMED\", \"MW\": 0.0}, {\"Year\": 1999, \"CSV File\": \"COMED\", \"MW\": 0.0}, {\"Year\": 2000, \"CSV File\": \"COMED\", \"MW\": 0.0}, {\"Year\": 2001, \"CSV File\": \"COMED\", \"MW\": 0.0}, {\"Year\": 2002, \"CSV File\": \"COMED\", \"MW\": 0.0}, {\"Year\": 2003, \"CSV File\": \"COMED\", \"MW\": 0.0}, {\"Year\": 2004, \"CSV File\": \"COMED\", \"MW\": 0.0}, {\"Year\": 2005, \"CSV File\": \"COMED\", \"MW\": 0.0}, {\"Year\": 2006, \"CSV File\": \"COMED\", \"MW\": 0.0}, {\"Year\": 2007, \"CSV File\": \"COMED\", \"MW\": 0.0}, {\"Year\": 2008, \"CSV File\": \"COMED\", \"MW\": 0.0}, {\"Year\": 2009, \"CSV File\": \"COMED\", \"MW\": 0.0}, {\"Year\": 2010, \"CSV File\": \"COMED\", \"MW\": 0.0}, {\"Year\": 2011, \"CSV File\": \"COMED\", \"MW\": 102005794.0}, {\"Year\": 2012, \"CSV File\": \"COMED\", \"MW\": 101977986.0}, {\"Year\": 2013, \"CSV File\": \"COMED\", \"MW\": 101149215.0}, {\"Year\": 2014, \"CSV File\": \"COMED\", \"MW\": 100214404.0}, {\"Year\": 1998, \"CSV File\": \"DAYTON\", \"MW\": 0.0}, {\"Year\": 1999, \"CSV File\": \"DAYTON\", \"MW\": 0.0}, {\"Year\": 2000, \"CSV File\": \"DAYTON\", \"MW\": 0.0}, {\"Year\": 2001, \"CSV File\": \"DAYTON\", \"MW\": 0.0}, {\"Year\": 2002, \"CSV File\": \"DAYTON\", \"MW\": 0.0}, {\"Year\": 2003, \"CSV File\": \"DAYTON\", \"MW\": 0.0}, {\"Year\": 2004, \"CSV File\": \"DAYTON\", \"MW\": 4384244.0}, {\"Year\": 2005, \"CSV File\": \"DAYTON\", \"MW\": 18757648.0}, {\"Year\": 2006, \"CSV File\": \"DAYTON\", \"MW\": 18361614.0}, {\"Year\": 2007, \"CSV File\": \"DAYTON\", \"MW\": 19072401.0}, {\"Year\": 2008, \"CSV File\": \"DAYTON\", \"MW\": 18565515.0}, {\"Year\": 2009, \"CSV File\": \"DAYTON\", \"MW\": 17214513.0}, {\"Year\": 2010, \"CSV File\": \"DAYTON\", \"MW\": 17749452.0}, {\"Year\": 2011, \"CSV File\": \"DAYTON\", \"MW\": 17419249.0}, {\"Year\": 2012, \"CSV File\": \"DAYTON\", \"MW\": 17408219.0}, {\"Year\": 2013, \"CSV File\": \"DAYTON\", \"MW\": 17421318.0}, {\"Year\": 2014, \"CSV File\": \"DAYTON\", \"MW\": 17629130.0}, {\"Year\": 1998, \"CSV File\": \"DEOK\", \"MW\": 0.0}, {\"Year\": 1999, \"CSV File\": \"DEOK\", \"MW\": 0.0}, {\"Year\": 2000, \"CSV File\": \"DEOK\", \"MW\": 0.0}, {\"Year\": 2001, \"CSV File\": \"DEOK\", \"MW\": 0.0}, {\"Year\": 2002, \"CSV File\": \"DEOK\", \"MW\": 0.0}, {\"Year\": 2003, \"CSV File\": \"DEOK\", \"MW\": 0.0}, {\"Year\": 2004, \"CSV File\": \"DEOK\", \"MW\": 0.0}, {\"Year\": 2005, \"CSV File\": \"DEOK\", \"MW\": 0.0}, {\"Year\": 2006, \"CSV File\": \"DEOK\", \"MW\": 0.0}, {\"Year\": 2007, \"CSV File\": \"DEOK\", \"MW\": 0.0}, {\"Year\": 2008, \"CSV File\": \"DEOK\", \"MW\": 0.0}, {\"Year\": 2009, \"CSV File\": \"DEOK\", \"MW\": 0.0}, {\"Year\": 2010, \"CSV File\": \"DEOK\", \"MW\": 0.0}, {\"Year\": 2011, \"CSV File\": \"DEOK\", \"MW\": 0.0}, {\"Year\": 2012, \"CSV File\": \"DEOK\", \"MW\": 26914888.0}, {\"Year\": 2013, \"CSV File\": \"DEOK\", \"MW\": 27075131.0}, {\"Year\": 2014, \"CSV File\": \"DEOK\", \"MW\": 27405184.0}, {\"Year\": 1998, \"CSV File\": \"DOM\", \"MW\": 0.0}, {\"Year\": 1999, \"CSV File\": \"DOM\", \"MW\": 0.0}, {\"Year\": 2000, \"CSV File\": \"DOM\", \"MW\": 0.0}, {\"Year\": 2001, \"CSV File\": \"DOM\", \"MW\": 0.0}, {\"Year\": 2002, \"CSV File\": \"DOM\", \"MW\": 0.0}, {\"Year\": 2003, \"CSV File\": \"DOM\", \"MW\": 0.0}, {\"Year\": 2004, \"CSV File\": \"DOM\", \"MW\": 0.0}, {\"Year\": 2005, \"CSV File\": \"DOM\", \"MW\": 63679458.0}, {\"Year\": 2006, \"CSV File\": \"DOM\", \"MW\": 91583693.0}, {\"Year\": 2007, \"CSV File\": \"DOM\", \"MW\": 96259317.0}, {\"Year\": 2008, \"CSV File\": \"DOM\", \"MW\": 94729254.0}, {\"Year\": 2009, \"CSV File\": \"DOM\", \"MW\": 93683715.0}, {\"Year\": 2010, \"CSV File\": \"DOM\", \"MW\": 98779534.0}, {\"Year\": 2011, \"CSV File\": \"DOM\", \"MW\": 95160671.0}, {\"Year\": 2012, \"CSV File\": \"DOM\", \"MW\": 93218606.0}, {\"Year\": 2013, \"CSV File\": \"DOM\", \"MW\": 95505523.0}, {\"Year\": 2014, \"CSV File\": \"DOM\", \"MW\": 97011887.0}, {\"Year\": 1998, \"CSV File\": \"DUQ\", \"MW\": 0.0}, {\"Year\": 1999, \"CSV File\": \"DUQ\", \"MW\": 0.0}, {\"Year\": 2000, \"CSV File\": \"DUQ\", \"MW\": 0.0}, {\"Year\": 2001, \"CSV File\": \"DUQ\", \"MW\": 0.0}, {\"Year\": 2002, \"CSV File\": \"DUQ\", \"MW\": 0.0}, {\"Year\": 2003, \"CSV File\": \"DUQ\", \"MW\": 0.0}, {\"Year\": 2004, \"CSV File\": \"DUQ\", \"MW\": 0.0}, {\"Year\": 2005, \"CSV File\": \"DUQ\", \"MW\": 14830490.0}, {\"Year\": 2006, \"CSV File\": \"DUQ\", \"MW\": 14562752.0}, {\"Year\": 2007, \"CSV File\": \"DUQ\", \"MW\": 15003675.0}, {\"Year\": 2008, \"CSV File\": \"DUQ\", \"MW\": 14699758.0}, {\"Year\": 2009, \"CSV File\": \"DUQ\", \"MW\": 13964771.0}, {\"Year\": 2010, \"CSV File\": \"DUQ\", \"MW\": 14959342.0}, {\"Year\": 2011, \"CSV File\": \"DUQ\", \"MW\": 14925032.0}, {\"Year\": 2012, \"CSV File\": \"DUQ\", \"MW\": 15097835.0}, {\"Year\": 2013, \"CSV File\": \"DUQ\", \"MW\": 14822887.0}, {\"Year\": 2014, \"CSV File\": \"DUQ\", \"MW\": 14567085.0}, {\"Year\": 1998, \"CSV File\": \"EKPC\", \"MW\": 0.0}, {\"Year\": 1999, \"CSV File\": \"EKPC\", \"MW\": 0.0}, {\"Year\": 2000, \"CSV File\": \"EKPC\", \"MW\": 0.0}, {\"Year\": 2001, \"CSV File\": \"EKPC\", \"MW\": 0.0}, {\"Year\": 2002, \"CSV File\": \"EKPC\", \"MW\": 0.0}, {\"Year\": 2003, \"CSV File\": \"EKPC\", \"MW\": 0.0}, {\"Year\": 2004, \"CSV File\": \"EKPC\", \"MW\": 0.0}, {\"Year\": 2005, \"CSV File\": \"EKPC\", \"MW\": 0.0}, {\"Year\": 2006, \"CSV File\": \"EKPC\", \"MW\": 0.0}, {\"Year\": 2007, \"CSV File\": \"EKPC\", \"MW\": 0.0}, {\"Year\": 2008, \"CSV File\": \"EKPC\", \"MW\": 0.0}, {\"Year\": 2009, \"CSV File\": \"EKPC\", \"MW\": 0.0}, {\"Year\": 2010, \"CSV File\": \"EKPC\", \"MW\": 0.0}, {\"Year\": 2011, \"CSV File\": \"EKPC\", \"MW\": 0.0}, {\"Year\": 2012, \"CSV File\": \"EKPC\", \"MW\": 0.0}, {\"Year\": 2013, \"CSV File\": \"EKPC\", \"MW\": 7260899.0}, {\"Year\": 2014, \"CSV File\": \"EKPC\", \"MW\": 13143552.0}, {\"Year\": 1998, \"CSV File\": \"FE\", \"MW\": 0.0}, {\"Year\": 1999, \"CSV File\": \"FE\", \"MW\": 0.0}, {\"Year\": 2000, \"CSV File\": \"FE\", \"MW\": 0.0}, {\"Year\": 2001, \"CSV File\": \"FE\", \"MW\": 0.0}, {\"Year\": 2002, \"CSV File\": \"FE\", \"MW\": 0.0}, {\"Year\": 2003, \"CSV File\": \"FE\", \"MW\": 0.0}, {\"Year\": 2004, \"CSV File\": \"FE\", \"MW\": 0.0}, {\"Year\": 2005, \"CSV File\": \"FE\", \"MW\": 0.0}, {\"Year\": 2006, \"CSV File\": \"FE\", \"MW\": 0.0}, {\"Year\": 2007, \"CSV File\": \"FE\", \"MW\": 0.0}, {\"Year\": 2008, \"CSV File\": \"FE\", \"MW\": 0.0}, {\"Year\": 2009, \"CSV File\": \"FE\", \"MW\": 0.0}, {\"Year\": 2010, \"CSV File\": \"FE\", \"MW\": 0.0}, {\"Year\": 2011, \"CSV File\": \"FE\", \"MW\": 40535968.0}, {\"Year\": 2012, \"CSV File\": \"FE\", \"MW\": 68097194.0}, {\"Year\": 2013, \"CSV File\": \"FE\", \"MW\": 68370478.0}, {\"Year\": 2014, \"CSV File\": \"FE\", \"MW\": 69343696.0}, {\"Year\": 1998, \"CSV File\": \"NI\", \"MW\": 0.0}, {\"Year\": 1999, \"CSV File\": \"NI\", \"MW\": 0.0}, {\"Year\": 2000, \"CSV File\": \"NI\", \"MW\": 0.0}, {\"Year\": 2001, \"CSV File\": \"NI\", \"MW\": 0.0}, {\"Year\": 2002, \"CSV File\": \"NI\", \"MW\": 0.0}, {\"Year\": 2003, \"CSV File\": \"NI\", \"MW\": 0.0}, {\"Year\": 2004, \"CSV File\": \"NI\", \"MW\": 65979931.0}, {\"Year\": 2005, \"CSV File\": \"NI\", \"MW\": 103799551.0}, {\"Year\": 2006, \"CSV File\": \"NI\", \"MW\": 102359091.0}, {\"Year\": 2007, \"CSV File\": \"NI\", \"MW\": 105843527.0}, {\"Year\": 2008, \"CSV File\": \"NI\", \"MW\": 104282279.0}, {\"Year\": 2009, \"CSV File\": \"NI\", \"MW\": 98211778.0}, {\"Year\": 2010, \"CSV File\": \"NI\", \"MW\": 103477169.0}, {\"Year\": 2011, \"CSV File\": \"NI\", \"MW\": 10042.0}, {\"Year\": 2012, \"CSV File\": \"NI\", \"MW\": 0.0}, {\"Year\": 2013, \"CSV File\": \"NI\", \"MW\": 0.0}, {\"Year\": 2014, \"CSV File\": \"NI\", \"MW\": 0.0}, {\"Year\": 1998, \"CSV File\": \"PJME\", \"MW\": 0.0}, {\"Year\": 1999, \"CSV File\": \"PJME\", \"MW\": 0.0}, {\"Year\": 2000, \"CSV File\": \"PJME\", \"MW\": 0.0}, {\"Year\": 2001, \"CSV File\": \"PJME\", \"MW\": 0.0}, {\"Year\": 2002, \"CSV File\": \"PJME\", \"MW\": 276420109.0}, {\"Year\": 2003, \"CSV File\": \"PJME\", \"MW\": 277617728.0}, {\"Year\": 2004, \"CSV File\": \"PJME\", \"MW\": 283398959.0}, {\"Year\": 2005, \"CSV File\": \"PJME\", \"MW\": 291733172.0}, {\"Year\": 2006, \"CSV File\": \"PJME\", \"MW\": 283840384.0}, {\"Year\": 2007, \"CSV File\": \"PJME\", \"MW\": 294386758.0}, {\"Year\": 2008, \"CSV File\": \"PJME\", \"MW\": 289187689.0}, {\"Year\": 2009, \"CSV File\": \"PJME\", \"MW\": 278955732.0}, {\"Year\": 2010, \"CSV File\": \"PJME\", \"MW\": 289866969.0}, {\"Year\": 2011, \"CSV File\": \"PJME\", \"MW\": 283481646.0}, {\"Year\": 2012, \"CSV File\": \"PJME\", \"MW\": 276107022.0}, {\"Year\": 2013, \"CSV File\": \"PJME\", \"MW\": 277685747.0}, {\"Year\": 2014, \"CSV File\": \"PJME\", \"MW\": 275908525.0}, {\"Year\": 1998, \"CSV File\": \"PJMW\", \"MW\": 0.0}, {\"Year\": 1999, \"CSV File\": \"PJMW\", \"MW\": 0.0}, {\"Year\": 2000, \"CSV File\": \"PJMW\", \"MW\": 0.0}, {\"Year\": 2001, \"CSV File\": \"PJMW\", \"MW\": 0.0}, {\"Year\": 2002, \"CSV File\": \"PJMW\", \"MW\": 37086112.0}, {\"Year\": 2003, \"CSV File\": \"PJMW\", \"MW\": 49926102.0}, {\"Year\": 2004, \"CSV File\": \"PJMW\", \"MW\": 51520627.0}, {\"Year\": 2005, \"CSV File\": \"PJMW\", \"MW\": 52884360.0}, {\"Year\": 2006, \"CSV File\": \"PJMW\", \"MW\": 47516081.0}, {\"Year\": 2007, \"CSV File\": \"PJMW\", \"MW\": 49354805.0}, {\"Year\": 2008, \"CSV File\": \"PJMW\", \"MW\": 48565624.0}, {\"Year\": 2009, \"CSV File\": \"PJMW\", \"MW\": 46334702.0}, {\"Year\": 2010, \"CSV File\": \"PJMW\", \"MW\": 48802983.0}, {\"Year\": 2011, \"CSV File\": \"PJMW\", \"MW\": 48253429.0}, {\"Year\": 2012, \"CSV File\": \"PJMW\", \"MW\": 47378985.0}, {\"Year\": 2013, \"CSV File\": \"PJMW\", \"MW\": 48666311.0}, {\"Year\": 2014, \"CSV File\": \"PJMW\", \"MW\": 49549487.0}, {\"Year\": 1998, \"CSV File\": \"PJM_Load\", \"MW\": 189741769.0}, {\"Year\": 1999, \"CSV File\": \"PJM_Load\", \"MW\": 259605177.0}, {\"Year\": 2000, \"CSV File\": \"PJM_Load\", \"MW\": 264464074.0}, {\"Year\": 2001, \"CSV File\": \"PJM_Load\", \"MW\": 265353807.0}, {\"Year\": 2002, \"CSV File\": \"PJM_Load\", \"MW\": 31569.0}, {\"Year\": 2003, \"CSV File\": \"PJM_Load\", \"MW\": 0.0}, {\"Year\": 2004, \"CSV File\": \"PJM_Load\", \"MW\": 0.0}, {\"Year\": 2005, \"CSV File\": \"PJM_Load\", \"MW\": 0.0}, {\"Year\": 2006, \"CSV File\": \"PJM_Load\", \"MW\": 0.0}, {\"Year\": 2007, \"CSV File\": \"PJM_Load\", \"MW\": 0.0}, {\"Year\": 2008, \"CSV File\": \"PJM_Load\", \"MW\": 0.0}, {\"Year\": 2009, \"CSV File\": \"PJM_Load\", \"MW\": 0.0}, {\"Year\": 2010, \"CSV File\": \"PJM_Load\", \"MW\": 0.0}, {\"Year\": 2011, \"CSV File\": \"PJM_Load\", \"MW\": 0.0}, {\"Year\": 2012, \"CSV File\": \"PJM_Load\", \"MW\": 0.0}, {\"Year\": 2013, \"CSV File\": \"PJM_Load\", \"MW\": 0.0}, {\"Year\": 2014, \"CSV File\": \"PJM_Load\", \"MW\": 0.0}, {\"Year\": 1998, \"CSV File\": \"PJM_Load_MW\", \"MW\": 189741769.0}, {\"Year\": 1999, \"CSV File\": \"PJM_Load_MW\", \"MW\": 259605177.0}, {\"Year\": 2000, \"CSV File\": \"PJM_Load_MW\", \"MW\": 264464074.0}, {\"Year\": 2001, \"CSV File\": \"PJM_Load_MW\", \"MW\": 265353807.0}, {\"Year\": 2002, \"CSV File\": \"PJM_Load_MW\", \"MW\": 31569.0}, {\"Year\": 2003, \"CSV File\": \"PJM_Load_MW\", \"MW\": 0.0}, {\"Year\": 2004, \"CSV File\": \"PJM_Load_MW\", \"MW\": 0.0}, {\"Year\": 2005, \"CSV File\": \"PJM_Load_MW\", \"MW\": 0.0}, {\"Year\": 2006, \"CSV File\": \"PJM_Load_MW\", \"MW\": 0.0}, {\"Year\": 2007, \"CSV File\": \"PJM_Load_MW\", \"MW\": 0.0}, {\"Year\": 2008, \"CSV File\": \"PJM_Load_MW\", \"MW\": 0.0}, {\"Year\": 2009, \"CSV File\": \"PJM_Load_MW\", \"MW\": 0.0}, {\"Year\": 2010, \"CSV File\": \"PJM_Load_MW\", \"MW\": 0.0}, {\"Year\": 2011, \"CSV File\": \"PJM_Load_MW\", \"MW\": 0.0}, {\"Year\": 2012, \"CSV File\": \"PJM_Load_MW\", \"MW\": 0.0}, {\"Year\": 2013, \"CSV File\": \"PJM_Load_MW\", \"MW\": 0.0}, {\"Year\": 2014, \"CSV File\": \"PJM_Load_MW\", \"MW\": 0.0}, {\"Year\": 1998, \"CSV File\": \"PJME_MW\", \"MW\": 0.0}, {\"Year\": 1999, \"CSV File\": \"PJME_MW\", \"MW\": 0.0}, {\"Year\": 2000, \"CSV File\": \"PJME_MW\", \"MW\": 0.0}, {\"Year\": 2001, \"CSV File\": \"PJME_MW\", \"MW\": 0.0}, {\"Year\": 2002, \"CSV File\": \"PJME_MW\", \"MW\": 276420109.0}, {\"Year\": 2003, \"CSV File\": \"PJME_MW\", \"MW\": 277617728.0}, {\"Year\": 2004, \"CSV File\": \"PJME_MW\", \"MW\": 283398959.0}, {\"Year\": 2005, \"CSV File\": \"PJME_MW\", \"MW\": 291733172.0}, {\"Year\": 2006, \"CSV File\": \"PJME_MW\", \"MW\": 283840384.0}, {\"Year\": 2007, \"CSV File\": \"PJME_MW\", \"MW\": 294386758.0}, {\"Year\": 2008, \"CSV File\": \"PJME_MW\", \"MW\": 289187689.0}, {\"Year\": 2009, \"CSV File\": \"PJME_MW\", \"MW\": 278955732.0}, {\"Year\": 2010, \"CSV File\": \"PJME_MW\", \"MW\": 289866969.0}, {\"Year\": 2011, \"CSV File\": \"PJME_MW\", \"MW\": 283481646.0}, {\"Year\": 2012, \"CSV File\": \"PJME_MW\", \"MW\": 276107022.0}, {\"Year\": 2013, \"CSV File\": \"PJME_MW\", \"MW\": 277685747.0}, {\"Year\": 2014, \"CSV File\": \"PJME_MW\", \"MW\": 275908525.0}, {\"Year\": 1998, \"CSV File\": \"PJMW_MW\", \"MW\": 0.0}, {\"Year\": 1999, \"CSV File\": \"PJMW_MW\", \"MW\": 0.0}, {\"Year\": 2000, \"CSV File\": \"PJMW_MW\", \"MW\": 0.0}, {\"Year\": 2001, \"CSV File\": \"PJMW_MW\", \"MW\": 0.0}, {\"Year\": 2002, \"CSV File\": \"PJMW_MW\", \"MW\": 37086112.0}, {\"Year\": 2003, \"CSV File\": \"PJMW_MW\", \"MW\": 49926102.0}, {\"Year\": 2004, \"CSV File\": \"PJMW_MW\", \"MW\": 51520627.0}, {\"Year\": 2005, \"CSV File\": \"PJMW_MW\", \"MW\": 52884360.0}, {\"Year\": 2006, \"CSV File\": \"PJMW_MW\", \"MW\": 47516081.0}, {\"Year\": 2007, \"CSV File\": \"PJMW_MW\", \"MW\": 49354805.0}, {\"Year\": 2008, \"CSV File\": \"PJMW_MW\", \"MW\": 48565624.0}, {\"Year\": 2009, \"CSV File\": \"PJMW_MW\", \"MW\": 46334702.0}, {\"Year\": 2010, \"CSV File\": \"PJMW_MW\", \"MW\": 48802983.0}, {\"Year\": 2011, \"CSV File\": \"PJMW_MW\", \"MW\": 48253429.0}, {\"Year\": 2012, \"CSV File\": \"PJMW_MW\", \"MW\": 47378985.0}, {\"Year\": 2013, \"CSV File\": \"PJMW_MW\", \"MW\": 48666311.0}, {\"Year\": 2014, \"CSV File\": \"PJMW_MW\", \"MW\": 49549487.0}]}}, {\"mode\": \"vega-lite\"});\n",
       "</script>"
      ],
      "text/plain": [
       "alt.Chart(...)"
      ]
     },
     "execution_count": 5,
     "metadata": {},
     "output_type": "execute_result"
    }
   ],
   "source": [
    "df_melt = tf.melt(id_vars='Year', var_name='CSV File', value_name='MW')\n",
    "\n",
    "chart = alt.Chart(df_melt).mark_line().encode(\n",
    "    x='Year',\n",
    "    y='MW:Q',\n",
    "    color='CSV File:N',\n",
    "    tooltip=['MW:Q', 'CSV File:N']\n",
    ").properties(\n",
    "    width=600,\n",
    "    height=400,\n",
    "    title = 'Yearly Usage 1998-2014'\n",
    ")\n",
    "\n",
    "chart"
   ]
  },
  {
   "cell_type": "markdown",
   "metadata": {
    "cell_id": "2d061469f65144fc912b08e9134a3002",
    "deepnote_cell_type": "markdown"
   },
   "source": [
    "Here I am melting the timeframe in order to be able to properly graph each of the columns (or MW per area), then graphing up till 2018."
   ]
  },
  {
   "cell_type": "code",
   "execution_count": 6,
   "metadata": {
    "cell_id": "c73b800cfe9c4941948487933c679bdd",
    "deepnote_cell_type": "code",
    "deepnote_to_be_reexecuted": false,
    "execution_millis": 4,
    "execution_start": 1686980292297,
    "source_hash": "43c85a6e"
   },
   "outputs": [],
   "source": [
    "hist = df_melt[df_melt['Year'] <= 2014]\n",
    "pred = dfs2[dfs2['Year'] >= 2015]\n",
    "\n",
    "X = hist[['Year']]\n",
    "y = hist['MW']\n",
    "\n",
    "reg = LinearRegression()\n",
    "reg.fit(X, y)\n",
    "\n",
    "X_train = hist[['Year']]\n",
    "y_train = hist['MW']\n",
    "\n",
    "pred = reg.predict(pred[['Year']])\n",
    "\n",
    "dfs2.loc[dfs2['Year'] >= 2015, 'MW_Predicted'] = pred"
   ]
  },
  {
   "cell_type": "markdown",
   "metadata": {
    "cell_id": "547d151caf014becbbc3c55a81801a03",
    "deepnote_cell_type": "markdown"
   },
   "source": [
    "Here I am doing a linear regression fittinf and predicting data in order to get predicted MW numbers for missing years that I'm trying to predict. Specifically for a time after 2014"
   ]
  },
  {
   "cell_type": "code",
   "execution_count": 7,
   "metadata": {
    "cell_id": "8c3dbda2fd8849048cd9bfa573116dcf",
    "deepnote_cell_type": "code",
    "deepnote_table_loading": false,
    "deepnote_table_state": {
     "filters": [],
     "pageIndex": 40,
     "pageSize": 10,
     "sortBy": []
    },
    "deepnote_to_be_reexecuted": false,
    "execution_millis": 42,
    "execution_start": 1686980292326,
    "source_hash": "5d30a0e1"
   },
   "outputs": [],
   "source": [
    "X_pred = pd.DataFrame({'Year': np.arange(2014, 2019)})\n",
    "y_pred = reg.predict(X_pred)\n",
    "\n",
    "hist = pd.DataFrame(hist)\n",
    "\n",
    "years = np.arange(2014, 2019)\n",
    "pred_df = pd.DataFrame({'Year': years, 'MW_Predicted': y_pred})\n",
    "\n",
    "combined = pd.concat([hist, pred_df])\n",
    "combined = combined.fillna('N/A')"
   ]
  },
  {
   "cell_type": "markdown",
   "metadata": {
    "cell_id": "6447459e29034bbc8b68fdd0d19cb2db",
    "deepnote_cell_type": "markdown"
   },
   "source": [
    "I am creating dataframes that will then be graphed later. You might notice that X_pred is going from 2014-2019, this is to try and make the graph look seemless (even though as you'll see it still is a split, non continuous one)."
   ]
  },
  {
   "cell_type": "code",
   "execution_count": 8,
   "metadata": {
    "cell_id": "604438b0636a40a7a5b2648ca311881e",
    "deepnote_cell_type": "code",
    "deepnote_to_be_reexecuted": false,
    "execution_millis": 2,
    "execution_start": 1686980292410,
    "source_hash": "e1139888"
   },
   "outputs": [],
   "source": [
    "pred_chart = alt.Chart(pred_df).mark_line(color = 'red',).encode(\n",
    "    x='Year',\n",
    "    y='MW_Predicted',\n",
    "    tooltip=['Year', 'MW_Predicted']\n",
    ").properties(\n",
    "    title='Predicted MW Values'\n",
    ")"
   ]
  },
  {
   "cell_type": "code",
   "execution_count": 13,
   "metadata": {
    "cell_id": "6e9471acf0cf4ee6aacba048f1044ed2",
    "deepnote_cell_type": "code",
    "deepnote_to_be_reexecuted": false,
    "execution_millis": 7,
    "execution_start": 1686980382802,
    "source_hash": "9ef273aa"
   },
   "outputs": [
    {
     "data": {
      "text/html": [
       "\n",
       "<div id=\"altair-viz-b339b74ff9c7435f9d42d0320e958f9c\"></div>\n",
       "<script type=\"text/javascript\">\n",
       "  var VEGA_DEBUG = (typeof VEGA_DEBUG == \"undefined\") ? {} : VEGA_DEBUG;\n",
       "  (function(spec, embedOpt){\n",
       "    let outputDiv = document.currentScript.previousElementSibling;\n",
       "    if (outputDiv.id !== \"altair-viz-b339b74ff9c7435f9d42d0320e958f9c\") {\n",
       "      outputDiv = document.getElementById(\"altair-viz-b339b74ff9c7435f9d42d0320e958f9c\");\n",
       "    }\n",
       "    const paths = {\n",
       "      \"vega\": \"https://cdn.jsdelivr.net/npm//vega@5?noext\",\n",
       "      \"vega-lib\": \"https://cdn.jsdelivr.net/npm//vega-lib?noext\",\n",
       "      \"vega-lite\": \"https://cdn.jsdelivr.net/npm//vega-lite@4.17.0?noext\",\n",
       "      \"vega-embed\": \"https://cdn.jsdelivr.net/npm//vega-embed@6?noext\",\n",
       "    };\n",
       "\n",
       "    function maybeLoadScript(lib, version) {\n",
       "      var key = `${lib.replace(\"-\", \"\")}_version`;\n",
       "      return (VEGA_DEBUG[key] == version) ?\n",
       "        Promise.resolve(paths[lib]) :\n",
       "        new Promise(function(resolve, reject) {\n",
       "          var s = document.createElement('script');\n",
       "          document.getElementsByTagName(\"head\")[0].appendChild(s);\n",
       "          s.async = true;\n",
       "          s.onload = () => {\n",
       "            VEGA_DEBUG[key] = version;\n",
       "            return resolve(paths[lib]);\n",
       "          };\n",
       "          s.onerror = () => reject(`Error loading script: ${paths[lib]}`);\n",
       "          s.src = paths[lib];\n",
       "        });\n",
       "    }\n",
       "\n",
       "    function showError(err) {\n",
       "      outputDiv.innerHTML = `<div class=\"error\" style=\"color:red;\">${err}</div>`;\n",
       "      throw err;\n",
       "    }\n",
       "\n",
       "    function displayChart(vegaEmbed) {\n",
       "      vegaEmbed(outputDiv, spec, embedOpt)\n",
       "        .catch(err => showError(`Javascript Error: ${err.message}<br>This usually means there's a typo in your chart specification. See the javascript console for the full traceback.`));\n",
       "    }\n",
       "\n",
       "    if(typeof define === \"function\" && define.amd) {\n",
       "      requirejs.config({paths});\n",
       "      require([\"vega-embed\"], displayChart, err => showError(`Error loading script: ${err.message}`));\n",
       "    } else {\n",
       "      maybeLoadScript(\"vega\", \"5\")\n",
       "        .then(() => maybeLoadScript(\"vega-lite\", \"4.17.0\"))\n",
       "        .then(() => maybeLoadScript(\"vega-embed\", \"6\"))\n",
       "        .catch(showError)\n",
       "        .then(() => displayChart(vegaEmbed));\n",
       "    }\n",
       "  })({\"config\": {\"view\": {\"continuousWidth\": 400, \"continuousHeight\": 300}}, \"layer\": [{\"data\": {\"name\": \"data-6b9d1beca24f1f871a48e6db79214619\"}, \"mark\": \"line\", \"encoding\": {\"tooltip\": [{\"field\": \"Year\", \"type\": \"quantitative\"}, {\"field\": \"MW\", \"type\": \"quantitative\"}], \"x\": {\"field\": \"Year\", \"type\": \"quantitative\"}, \"y\": {\"field\": \"MW\", \"type\": \"quantitative\"}}, \"title\": \"Predicted MW Usage\"}, {\"data\": {\"name\": \"data-77401dae31bae6a2295d8df331a1d4e9\"}, \"mark\": {\"type\": \"line\", \"color\": \"red\"}, \"encoding\": {\"tooltip\": [{\"field\": \"Year\", \"type\": \"quantitative\"}, {\"field\": \"MW_Predicted\", \"type\": \"quantitative\"}], \"x\": {\"field\": \"Year\", \"type\": \"quantitative\"}, \"y\": {\"field\": \"MW_Predicted\", \"type\": \"quantitative\"}}, \"title\": \"Predicted MW Values\"}], \"$schema\": \"https://vega.github.io/schema/vega-lite/v4.17.0.json\", \"datasets\": {\"data-6b9d1beca24f1f871a48e6db79214619\": [{\"Year\": 1998, \"MW\": 15811814.083333334}, {\"Year\": 1999, \"MW\": 21633764.75}, {\"Year\": 2000, \"MW\": 22038672.833333332}, {\"Year\": 2001, \"MW\": 22112817.25}, {\"Year\": 2002, \"MW\": 26128149.166666668}, {\"Year\": 2003, \"MW\": 27295319.166666668}, {\"Year\": 2004, \"MW\": 36563634.583333336}, {\"Year\": 2005, \"MW\": 57036466.083333336}, {\"Year\": 2006, \"MW\": 58004185.416666664}, {\"Year\": 2007, \"MW\": 60475161.75}, {\"Year\": 2008, \"MW\": 59604585.75}, {\"Year\": 2009, \"MW\": 56830060.083333336}, {\"Year\": 2010, \"MW\": 59485244.166666664}, {\"Year\": 2011, \"MW\": 61691917.666666664}, {\"Year\": 2012, \"MW\": 65084575.583333336}, {\"Year\": 2013, \"MW\": 65921953.833333336}, {\"Year\": 2014, \"MW\": 66469909.333333336}], \"data-77401dae31bae6a2295d8df331a1d4e9\": [{\"Year\": 2014, \"MW_Predicted\": 74305311.75326729}, {\"Year\": 2015, \"MW_Predicted\": 77842091.66727924}, {\"Year\": 2016, \"MW_Predicted\": 81378871.58129025}, {\"Year\": 2017, \"MW_Predicted\": 84915651.4953022}, {\"Year\": 2018, \"MW_Predicted\": 88452431.4093132}]}}, {\"mode\": \"vega-lite\"});\n",
       "</script>"
      ],
      "text/plain": [
       "alt.LayerChart(...)"
      ]
     },
     "execution_count": 13,
     "metadata": {},
     "output_type": "execute_result"
    }
   ],
   "source": [
    "average_mw = hist.groupby('Year')['MW'].mean().reset_index()\n",
    "chart = alt.Chart(average_mw).mark_line().encode(\n",
    "    x='Year',\n",
    "    y='MW',\n",
    "    tooltip=['Year', 'MW']\n",
    ").properties(\n",
    "    title='Predicted MW Usage'\n",
    ")\n",
    "chart2=chart + pred_chart\n",
    "chart2"
   ]
  },
  {
   "cell_type": "markdown",
   "metadata": {
    "cell_id": "e59d466aa4c647b0904901aa5ef8049b",
    "deepnote_cell_type": "markdown"
   },
   "source": [
    "The last two cells are making different charts in order to then graph together. The chart is actually interesting since I will be using the mean in order to graph. This is becuase I wanted to combine the different lines from above into one in order to get a better idea as to what the data might be thinking. Rather than there being 14 different line and only one (the predicting one)."
   ]
  },
  {
   "cell_type": "code",
   "execution_count": 14,
   "metadata": {
    "cell_id": "dd21e47053eb4276807ab6c6b00a977b",
    "deepnote_cell_type": "code",
    "deepnote_to_be_reexecuted": false,
    "execution_millis": 33,
    "execution_start": 1686980392723,
    "source_hash": "116baa38"
   },
   "outputs": [
    {
     "data": {
      "text/html": [
       "\n",
       "<div id=\"altair-viz-436d5eceede74d5a8bce1663eea10f87\"></div>\n",
       "<script type=\"text/javascript\">\n",
       "  var VEGA_DEBUG = (typeof VEGA_DEBUG == \"undefined\") ? {} : VEGA_DEBUG;\n",
       "  (function(spec, embedOpt){\n",
       "    let outputDiv = document.currentScript.previousElementSibling;\n",
       "    if (outputDiv.id !== \"altair-viz-436d5eceede74d5a8bce1663eea10f87\") {\n",
       "      outputDiv = document.getElementById(\"altair-viz-436d5eceede74d5a8bce1663eea10f87\");\n",
       "    }\n",
       "    const paths = {\n",
       "      \"vega\": \"https://cdn.jsdelivr.net/npm//vega@5?noext\",\n",
       "      \"vega-lib\": \"https://cdn.jsdelivr.net/npm//vega-lib?noext\",\n",
       "      \"vega-lite\": \"https://cdn.jsdelivr.net/npm//vega-lite@4.17.0?noext\",\n",
       "      \"vega-embed\": \"https://cdn.jsdelivr.net/npm//vega-embed@6?noext\",\n",
       "    };\n",
       "\n",
       "    function maybeLoadScript(lib, version) {\n",
       "      var key = `${lib.replace(\"-\", \"\")}_version`;\n",
       "      return (VEGA_DEBUG[key] == version) ?\n",
       "        Promise.resolve(paths[lib]) :\n",
       "        new Promise(function(resolve, reject) {\n",
       "          var s = document.createElement('script');\n",
       "          document.getElementsByTagName(\"head\")[0].appendChild(s);\n",
       "          s.async = true;\n",
       "          s.onload = () => {\n",
       "            VEGA_DEBUG[key] = version;\n",
       "            return resolve(paths[lib]);\n",
       "          };\n",
       "          s.onerror = () => reject(`Error loading script: ${paths[lib]}`);\n",
       "          s.src = paths[lib];\n",
       "        });\n",
       "    }\n",
       "\n",
       "    function showError(err) {\n",
       "      outputDiv.innerHTML = `<div class=\"error\" style=\"color:red;\">${err}</div>`;\n",
       "      throw err;\n",
       "    }\n",
       "\n",
       "    function displayChart(vegaEmbed) {\n",
       "      vegaEmbed(outputDiv, spec, embedOpt)\n",
       "        .catch(err => showError(`Javascript Error: ${err.message}<br>This usually means there's a typo in your chart specification. See the javascript console for the full traceback.`));\n",
       "    }\n",
       "\n",
       "    if(typeof define === \"function\" && define.amd) {\n",
       "      requirejs.config({paths});\n",
       "      require([\"vega-embed\"], displayChart, err => showError(`Error loading script: ${err.message}`));\n",
       "    } else {\n",
       "      maybeLoadScript(\"vega\", \"5\")\n",
       "        .then(() => maybeLoadScript(\"vega-lite\", \"4.17.0\"))\n",
       "        .then(() => maybeLoadScript(\"vega-embed\", \"6\"))\n",
       "        .catch(showError)\n",
       "        .then(() => displayChart(vegaEmbed));\n",
       "    }\n",
       "  })({\"config\": {\"view\": {\"continuousWidth\": 400, \"continuousHeight\": 300}}, \"data\": {\"name\": \"data-c4d5b1427a7260f2ab93fe7ca1536c44\"}, \"mark\": {\"type\": \"line\", \"color\": \"purple\"}, \"encoding\": {\"tooltip\": [{\"field\": \"Year\", \"type\": \"quantitative\"}, {\"field\": \"MW\", \"type\": \"quantitative\"}], \"x\": {\"field\": \"Year\", \"type\": \"quantitative\"}, \"y\": {\"field\": \"MW\", \"type\": \"quantitative\"}}, \"title\": \"Actual MW Usage\", \"$schema\": \"https://vega.github.io/schema/vega-lite/v4.17.0.json\", \"datasets\": {\"data-c4d5b1427a7260f2ab93fe7ca1536c44\": [{\"Year\": 1998, \"MW\": 15811814.083333334}, {\"Year\": 1999, \"MW\": 21633764.75}, {\"Year\": 2000, \"MW\": 22038672.833333332}, {\"Year\": 2001, \"MW\": 22112817.25}, {\"Year\": 2002, \"MW\": 26128149.166666668}, {\"Year\": 2003, \"MW\": 27295319.166666668}, {\"Year\": 2004, \"MW\": 36563634.583333336}, {\"Year\": 2005, \"MW\": 57036466.083333336}, {\"Year\": 2006, \"MW\": 58004185.416666664}, {\"Year\": 2007, \"MW\": 60475161.75}, {\"Year\": 2008, \"MW\": 59604585.75}, {\"Year\": 2009, \"MW\": 56830060.083333336}, {\"Year\": 2010, \"MW\": 59485244.166666664}, {\"Year\": 2011, \"MW\": 61691917.666666664}, {\"Year\": 2012, \"MW\": 65084575.583333336}, {\"Year\": 2013, \"MW\": 65921953.833333336}, {\"Year\": 2014, \"MW\": 66469909.333333336}, {\"Year\": 2015, \"MW\": 66497634.06669117}, {\"Year\": 2016, \"MW\": 66723374.22325161}, {\"Year\": 2017, \"MW\": 65287572.45981209}, {\"Year\": 2018, \"MW\": 41520169.25637253}]}}, {\"mode\": \"vega-lite\"});\n",
       "</script>"
      ],
      "text/plain": [
       "alt.Chart(...)"
      ]
     },
     "execution_count": 14,
     "metadata": {},
     "output_type": "execute_result"
    }
   ],
   "source": [
    "dfs2_melt = dfs2.melt(id_vars='Year', var_name='CSV File', value_name='MW')\n",
    "original_mw = dfs2_melt.groupby('Year')['MW'].mean().reset_index()\n",
    "chart3 = alt.Chart(original_mw).mark_line(color='purple').encode(\n",
    "    x='Year',\n",
    "    y='MW',\n",
    "    tooltip=['Year', 'MW']\n",
    ").properties(\n",
    "    title='Actual MW Usage'\n",
    ")\n",
    "chart3"
   ]
  },
  {
   "cell_type": "markdown",
   "metadata": {
    "cell_id": "18a20e54ce8a448c8cda62791f761edc",
    "deepnote_cell_type": "markdown"
   },
   "source": [
    "Here I had to do another melt and reset of index in order to fix the data once again to include a years columns and ensure it will be collecting the data from all csv files. This is the real values attained from the dataframe."
   ]
  },
  {
   "cell_type": "code",
   "execution_count": 16,
   "metadata": {
    "cell_id": "58c5225014df4a9da6a87ca9c617af00",
    "deepnote_cell_type": "code",
    "deepnote_to_be_reexecuted": false,
    "execution_millis": 4,
    "execution_start": 1686980658282,
    "source_hash": "b00b627"
   },
   "outputs": [
    {
     "data": {
      "text/html": [
       "\n",
       "<div id=\"altair-viz-27c896a0ba324bf9b47967ac8fbaa765\"></div>\n",
       "<script type=\"text/javascript\">\n",
       "  var VEGA_DEBUG = (typeof VEGA_DEBUG == \"undefined\") ? {} : VEGA_DEBUG;\n",
       "  (function(spec, embedOpt){\n",
       "    let outputDiv = document.currentScript.previousElementSibling;\n",
       "    if (outputDiv.id !== \"altair-viz-27c896a0ba324bf9b47967ac8fbaa765\") {\n",
       "      outputDiv = document.getElementById(\"altair-viz-27c896a0ba324bf9b47967ac8fbaa765\");\n",
       "    }\n",
       "    const paths = {\n",
       "      \"vega\": \"https://cdn.jsdelivr.net/npm//vega@5?noext\",\n",
       "      \"vega-lib\": \"https://cdn.jsdelivr.net/npm//vega-lib?noext\",\n",
       "      \"vega-lite\": \"https://cdn.jsdelivr.net/npm//vega-lite@4.17.0?noext\",\n",
       "      \"vega-embed\": \"https://cdn.jsdelivr.net/npm//vega-embed@6?noext\",\n",
       "    };\n",
       "\n",
       "    function maybeLoadScript(lib, version) {\n",
       "      var key = `${lib.replace(\"-\", \"\")}_version`;\n",
       "      return (VEGA_DEBUG[key] == version) ?\n",
       "        Promise.resolve(paths[lib]) :\n",
       "        new Promise(function(resolve, reject) {\n",
       "          var s = document.createElement('script');\n",
       "          document.getElementsByTagName(\"head\")[0].appendChild(s);\n",
       "          s.async = true;\n",
       "          s.onload = () => {\n",
       "            VEGA_DEBUG[key] = version;\n",
       "            return resolve(paths[lib]);\n",
       "          };\n",
       "          s.onerror = () => reject(`Error loading script: ${paths[lib]}`);\n",
       "          s.src = paths[lib];\n",
       "        });\n",
       "    }\n",
       "\n",
       "    function showError(err) {\n",
       "      outputDiv.innerHTML = `<div class=\"error\" style=\"color:red;\">${err}</div>`;\n",
       "      throw err;\n",
       "    }\n",
       "\n",
       "    function displayChart(vegaEmbed) {\n",
       "      vegaEmbed(outputDiv, spec, embedOpt)\n",
       "        .catch(err => showError(`Javascript Error: ${err.message}<br>This usually means there's a typo in your chart specification. See the javascript console for the full traceback.`));\n",
       "    }\n",
       "\n",
       "    if(typeof define === \"function\" && define.amd) {\n",
       "      requirejs.config({paths});\n",
       "      require([\"vega-embed\"], displayChart, err => showError(`Error loading script: ${err.message}`));\n",
       "    } else {\n",
       "      maybeLoadScript(\"vega\", \"5\")\n",
       "        .then(() => maybeLoadScript(\"vega-lite\", \"4.17.0\"))\n",
       "        .then(() => maybeLoadScript(\"vega-embed\", \"6\"))\n",
       "        .catch(showError)\n",
       "        .then(() => displayChart(vegaEmbed));\n",
       "    }\n",
       "  })({\"config\": {\"view\": {\"continuousWidth\": 400, \"continuousHeight\": 300}}, \"data\": {\"name\": \"data-751723c80de8d105555f6afd93b15d1b\"}, \"mark\": \"circle\", \"encoding\": {\"color\": {\"field\": \"CSV File\", \"type\": \"nominal\"}, \"size\": {\"field\": \"MW\", \"type\": \"quantitative\"}, \"tooltip\": [{\"field\": \"Year\", \"type\": \"quantitative\"}, {\"field\": \"MW\", \"type\": \"quantitative\"}, {\"field\": \"CSV File\", \"type\": \"nominal\"}], \"x\": {\"field\": \"Year\", \"type\": \"ordinal\"}, \"y\": {\"field\": \"MW\", \"type\": \"quantitative\"}}, \"title\": \"MW Usage by Year Up Until 2014\", \"$schema\": \"https://vega.github.io/schema/vega-lite/v4.17.0.json\", \"datasets\": {\"data-751723c80de8d105555f6afd93b15d1b\": [{\"Year\": 1998, \"CSV File\": \"AEP_MW\", \"MW\": 0.0}, {\"Year\": 1999, \"CSV File\": \"AEP_MW\", \"MW\": 0.0}, {\"Year\": 2000, \"CSV File\": \"AEP_MW\", \"MW\": 0.0}, {\"Year\": 2001, \"CSV File\": \"AEP_MW\", \"MW\": 0.0}, {\"Year\": 2002, \"CSV File\": \"AEP_MW\", \"MW\": 0.0}, {\"Year\": 2003, \"CSV File\": \"AEP_MW\", \"MW\": 0.0}, {\"Year\": 2004, \"CSV File\": \"AEP_MW\", \"MW\": 33479854.0}, {\"Year\": 2005, \"CSV File\": \"AEP_MW\", \"MW\": 138752914.0}, {\"Year\": 2006, \"CSV File\": \"AEP_MW\", \"MW\": 137826610.0}, {\"Year\": 2007, \"CSV File\": \"AEP_MW\", \"MW\": 145781458.0}, {\"Year\": 2008, \"CSV File\": \"AEP_MW\", \"MW\": 145224910.0}, {\"Year\": 2009, \"CSV File\": \"AEP_MW\", \"MW\": 133595510.0}, {\"Year\": 2010, \"CSV File\": \"AEP_MW\", \"MW\": 140187481.0}, {\"Year\": 2011, \"CSV File\": \"AEP_MW\", \"MW\": 138511181.0}, {\"Year\": 2012, \"CSV File\": \"AEP_MW\", \"MW\": 134814172.0}, {\"Year\": 2013, \"CSV File\": \"AEP_MW\", \"MW\": 133105937.0}, {\"Year\": 2014, \"CSV File\": \"AEP_MW\", \"MW\": 132865962.0}, {\"Year\": 1998, \"CSV File\": \"COMED_MW\", \"MW\": 0.0}, {\"Year\": 1999, \"CSV File\": \"COMED_MW\", \"MW\": 0.0}, {\"Year\": 2000, \"CSV File\": \"COMED_MW\", \"MW\": 0.0}, {\"Year\": 2001, \"CSV File\": \"COMED_MW\", \"MW\": 0.0}, {\"Year\": 2002, \"CSV File\": \"COMED_MW\", \"MW\": 0.0}, {\"Year\": 2003, \"CSV File\": \"COMED_MW\", \"MW\": 0.0}, {\"Year\": 2004, \"CSV File\": \"COMED_MW\", \"MW\": 0.0}, {\"Year\": 2005, \"CSV File\": \"COMED_MW\", \"MW\": 0.0}, {\"Year\": 2006, \"CSV File\": \"COMED_MW\", \"MW\": 0.0}, {\"Year\": 2007, \"CSV File\": \"COMED_MW\", \"MW\": 0.0}, {\"Year\": 2008, \"CSV File\": \"COMED_MW\", \"MW\": 0.0}, {\"Year\": 2009, \"CSV File\": \"COMED_MW\", \"MW\": 0.0}, {\"Year\": 2010, \"CSV File\": \"COMED_MW\", \"MW\": 0.0}, {\"Year\": 2011, \"CSV File\": \"COMED_MW\", \"MW\": 102005794.0}, {\"Year\": 2012, \"CSV File\": \"COMED_MW\", \"MW\": 101977986.0}, {\"Year\": 2013, \"CSV File\": \"COMED_MW\", \"MW\": 101149215.0}, {\"Year\": 2014, \"CSV File\": \"COMED_MW\", \"MW\": 100214404.0}, {\"Year\": 1998, \"CSV File\": \"DAYTON_MW\", \"MW\": 0.0}, {\"Year\": 1999, \"CSV File\": \"DAYTON_MW\", \"MW\": 0.0}, {\"Year\": 2000, \"CSV File\": \"DAYTON_MW\", \"MW\": 0.0}, {\"Year\": 2001, \"CSV File\": \"DAYTON_MW\", \"MW\": 0.0}, {\"Year\": 2002, \"CSV File\": \"DAYTON_MW\", \"MW\": 0.0}, {\"Year\": 2003, \"CSV File\": \"DAYTON_MW\", \"MW\": 0.0}, {\"Year\": 2004, \"CSV File\": \"DAYTON_MW\", \"MW\": 4384244.0}, {\"Year\": 2005, \"CSV File\": \"DAYTON_MW\", \"MW\": 18757648.0}, {\"Year\": 2006, \"CSV File\": \"DAYTON_MW\", \"MW\": 18361614.0}, {\"Year\": 2007, \"CSV File\": \"DAYTON_MW\", \"MW\": 19072401.0}, {\"Year\": 2008, \"CSV File\": \"DAYTON_MW\", \"MW\": 18565515.0}, {\"Year\": 2009, \"CSV File\": \"DAYTON_MW\", \"MW\": 17214513.0}, {\"Year\": 2010, \"CSV File\": \"DAYTON_MW\", \"MW\": 17749452.0}, {\"Year\": 2011, \"CSV File\": \"DAYTON_MW\", \"MW\": 17419249.0}, {\"Year\": 2012, \"CSV File\": \"DAYTON_MW\", \"MW\": 17408219.0}, {\"Year\": 2013, \"CSV File\": \"DAYTON_MW\", \"MW\": 17421318.0}, {\"Year\": 2014, \"CSV File\": \"DAYTON_MW\", \"MW\": 17629130.0}, {\"Year\": 1998, \"CSV File\": \"DEOK_MW\", \"MW\": 0.0}, {\"Year\": 1999, \"CSV File\": \"DEOK_MW\", \"MW\": 0.0}, {\"Year\": 2000, \"CSV File\": \"DEOK_MW\", \"MW\": 0.0}, {\"Year\": 2001, \"CSV File\": \"DEOK_MW\", \"MW\": 0.0}, {\"Year\": 2002, \"CSV File\": \"DEOK_MW\", \"MW\": 0.0}, {\"Year\": 2003, \"CSV File\": \"DEOK_MW\", \"MW\": 0.0}, {\"Year\": 2004, \"CSV File\": \"DEOK_MW\", \"MW\": 0.0}, {\"Year\": 2005, \"CSV File\": \"DEOK_MW\", \"MW\": 0.0}, {\"Year\": 2006, \"CSV File\": \"DEOK_MW\", \"MW\": 0.0}, {\"Year\": 2007, \"CSV File\": \"DEOK_MW\", \"MW\": 0.0}, {\"Year\": 2008, \"CSV File\": \"DEOK_MW\", \"MW\": 0.0}, {\"Year\": 2009, \"CSV File\": \"DEOK_MW\", \"MW\": 0.0}, {\"Year\": 2010, \"CSV File\": \"DEOK_MW\", \"MW\": 0.0}, {\"Year\": 2011, \"CSV File\": \"DEOK_MW\", \"MW\": 0.0}, {\"Year\": 2012, \"CSV File\": \"DEOK_MW\", \"MW\": 26914888.0}, {\"Year\": 2013, \"CSV File\": \"DEOK_MW\", \"MW\": 27075131.0}, {\"Year\": 2014, \"CSV File\": \"DEOK_MW\", \"MW\": 27405184.0}, {\"Year\": 1998, \"CSV File\": \"DOM_MW\", \"MW\": 0.0}, {\"Year\": 1999, \"CSV File\": \"DOM_MW\", \"MW\": 0.0}, {\"Year\": 2000, \"CSV File\": \"DOM_MW\", \"MW\": 0.0}, {\"Year\": 2001, \"CSV File\": \"DOM_MW\", \"MW\": 0.0}, {\"Year\": 2002, \"CSV File\": \"DOM_MW\", \"MW\": 0.0}, {\"Year\": 2003, \"CSV File\": \"DOM_MW\", \"MW\": 0.0}, {\"Year\": 2004, \"CSV File\": \"DOM_MW\", \"MW\": 0.0}, {\"Year\": 2005, \"CSV File\": \"DOM_MW\", \"MW\": 63679458.0}, {\"Year\": 2006, \"CSV File\": \"DOM_MW\", \"MW\": 91583693.0}, {\"Year\": 2007, \"CSV File\": \"DOM_MW\", \"MW\": 96259317.0}, {\"Year\": 2008, \"CSV File\": \"DOM_MW\", \"MW\": 94729254.0}, {\"Year\": 2009, \"CSV File\": \"DOM_MW\", \"MW\": 93683715.0}, {\"Year\": 2010, \"CSV File\": \"DOM_MW\", \"MW\": 98779534.0}, {\"Year\": 2011, \"CSV File\": \"DOM_MW\", \"MW\": 95160671.0}, {\"Year\": 2012, \"CSV File\": \"DOM_MW\", \"MW\": 93218606.0}, {\"Year\": 2013, \"CSV File\": \"DOM_MW\", \"MW\": 95505523.0}, {\"Year\": 2014, \"CSV File\": \"DOM_MW\", \"MW\": 97011887.0}, {\"Year\": 1998, \"CSV File\": \"DUQ_MW\", \"MW\": 0.0}, {\"Year\": 1999, \"CSV File\": \"DUQ_MW\", \"MW\": 0.0}, {\"Year\": 2000, \"CSV File\": \"DUQ_MW\", \"MW\": 0.0}, {\"Year\": 2001, \"CSV File\": \"DUQ_MW\", \"MW\": 0.0}, {\"Year\": 2002, \"CSV File\": \"DUQ_MW\", \"MW\": 0.0}, {\"Year\": 2003, \"CSV File\": \"DUQ_MW\", \"MW\": 0.0}, {\"Year\": 2004, \"CSV File\": \"DUQ_MW\", \"MW\": 0.0}, {\"Year\": 2005, \"CSV File\": \"DUQ_MW\", \"MW\": 14830490.0}, {\"Year\": 2006, \"CSV File\": \"DUQ_MW\", \"MW\": 14562752.0}, {\"Year\": 2007, \"CSV File\": \"DUQ_MW\", \"MW\": 15003675.0}, {\"Year\": 2008, \"CSV File\": \"DUQ_MW\", \"MW\": 14699758.0}, {\"Year\": 2009, \"CSV File\": \"DUQ_MW\", \"MW\": 13964771.0}, {\"Year\": 2010, \"CSV File\": \"DUQ_MW\", \"MW\": 14959342.0}, {\"Year\": 2011, \"CSV File\": \"DUQ_MW\", \"MW\": 14925032.0}, {\"Year\": 2012, \"CSV File\": \"DUQ_MW\", \"MW\": 15097835.0}, {\"Year\": 2013, \"CSV File\": \"DUQ_MW\", \"MW\": 14822887.0}, {\"Year\": 2014, \"CSV File\": \"DUQ_MW\", \"MW\": 14567085.0}, {\"Year\": 1998, \"CSV File\": \"EKPC_MW\", \"MW\": 0.0}, {\"Year\": 1999, \"CSV File\": \"EKPC_MW\", \"MW\": 0.0}, {\"Year\": 2000, \"CSV File\": \"EKPC_MW\", \"MW\": 0.0}, {\"Year\": 2001, \"CSV File\": \"EKPC_MW\", \"MW\": 0.0}, {\"Year\": 2002, \"CSV File\": \"EKPC_MW\", \"MW\": 0.0}, {\"Year\": 2003, \"CSV File\": \"EKPC_MW\", \"MW\": 0.0}, {\"Year\": 2004, \"CSV File\": \"EKPC_MW\", \"MW\": 0.0}, {\"Year\": 2005, \"CSV File\": \"EKPC_MW\", \"MW\": 0.0}, {\"Year\": 2006, \"CSV File\": \"EKPC_MW\", \"MW\": 0.0}, {\"Year\": 2007, \"CSV File\": \"EKPC_MW\", \"MW\": 0.0}, {\"Year\": 2008, \"CSV File\": \"EKPC_MW\", \"MW\": 0.0}, {\"Year\": 2009, \"CSV File\": \"EKPC_MW\", \"MW\": 0.0}, {\"Year\": 2010, \"CSV File\": \"EKPC_MW\", \"MW\": 0.0}, {\"Year\": 2011, \"CSV File\": \"EKPC_MW\", \"MW\": 0.0}, {\"Year\": 2012, \"CSV File\": \"EKPC_MW\", \"MW\": 0.0}, {\"Year\": 2013, \"CSV File\": \"EKPC_MW\", \"MW\": 7260899.0}, {\"Year\": 2014, \"CSV File\": \"EKPC_MW\", \"MW\": 13143552.0}, {\"Year\": 1998, \"CSV File\": \"FE_MW\", \"MW\": 0.0}, {\"Year\": 1999, \"CSV File\": \"FE_MW\", \"MW\": 0.0}, {\"Year\": 2000, \"CSV File\": \"FE_MW\", \"MW\": 0.0}, {\"Year\": 2001, \"CSV File\": \"FE_MW\", \"MW\": 0.0}, {\"Year\": 2002, \"CSV File\": \"FE_MW\", \"MW\": 0.0}, {\"Year\": 2003, \"CSV File\": \"FE_MW\", \"MW\": 0.0}, {\"Year\": 2004, \"CSV File\": \"FE_MW\", \"MW\": 0.0}, {\"Year\": 2005, \"CSV File\": \"FE_MW\", \"MW\": 0.0}, {\"Year\": 2006, \"CSV File\": \"FE_MW\", \"MW\": 0.0}, {\"Year\": 2007, \"CSV File\": \"FE_MW\", \"MW\": 0.0}, {\"Year\": 2008, \"CSV File\": \"FE_MW\", \"MW\": 0.0}, {\"Year\": 2009, \"CSV File\": \"FE_MW\", \"MW\": 0.0}, {\"Year\": 2010, \"CSV File\": \"FE_MW\", \"MW\": 0.0}, {\"Year\": 2011, \"CSV File\": \"FE_MW\", \"MW\": 40535968.0}, {\"Year\": 2012, \"CSV File\": \"FE_MW\", \"MW\": 68097194.0}, {\"Year\": 2013, \"CSV File\": \"FE_MW\", \"MW\": 68370478.0}, {\"Year\": 2014, \"CSV File\": \"FE_MW\", \"MW\": 69343696.0}, {\"Year\": 1998, \"CSV File\": \"NI_MW\", \"MW\": 0.0}, {\"Year\": 1999, \"CSV File\": \"NI_MW\", \"MW\": 0.0}, {\"Year\": 2000, \"CSV File\": \"NI_MW\", \"MW\": 0.0}, {\"Year\": 2001, \"CSV File\": \"NI_MW\", \"MW\": 0.0}, {\"Year\": 2002, \"CSV File\": \"NI_MW\", \"MW\": 0.0}, {\"Year\": 2003, \"CSV File\": \"NI_MW\", \"MW\": 0.0}, {\"Year\": 2004, \"CSV File\": \"NI_MW\", \"MW\": 65979931.0}, {\"Year\": 2005, \"CSV File\": \"NI_MW\", \"MW\": 103799551.0}, {\"Year\": 2006, \"CSV File\": \"NI_MW\", \"MW\": 102359091.0}, {\"Year\": 2007, \"CSV File\": \"NI_MW\", \"MW\": 105843527.0}, {\"Year\": 2008, \"CSV File\": \"NI_MW\", \"MW\": 104282279.0}, {\"Year\": 2009, \"CSV File\": \"NI_MW\", \"MW\": 98211778.0}, {\"Year\": 2010, \"CSV File\": \"NI_MW\", \"MW\": 103477169.0}, {\"Year\": 2011, \"CSV File\": \"NI_MW\", \"MW\": 10042.0}, {\"Year\": 2012, \"CSV File\": \"NI_MW\", \"MW\": 0.0}, {\"Year\": 2013, \"CSV File\": \"NI_MW\", \"MW\": 0.0}, {\"Year\": 2014, \"CSV File\": \"NI_MW\", \"MW\": 0.0}, {\"Year\": 1998, \"CSV File\": \"AEP\", \"MW\": 0.0}, {\"Year\": 1999, \"CSV File\": \"AEP\", \"MW\": 0.0}, {\"Year\": 2000, \"CSV File\": \"AEP\", \"MW\": 0.0}, {\"Year\": 2001, \"CSV File\": \"AEP\", \"MW\": 0.0}, {\"Year\": 2002, \"CSV File\": \"AEP\", \"MW\": 0.0}, {\"Year\": 2003, \"CSV File\": \"AEP\", \"MW\": 0.0}, {\"Year\": 2004, \"CSV File\": \"AEP\", \"MW\": 33479854.0}, {\"Year\": 2005, \"CSV File\": \"AEP\", \"MW\": 138752914.0}, {\"Year\": 2006, \"CSV File\": \"AEP\", \"MW\": 137826610.0}, {\"Year\": 2007, \"CSV File\": \"AEP\", \"MW\": 145781458.0}, {\"Year\": 2008, \"CSV File\": \"AEP\", \"MW\": 145224910.0}, {\"Year\": 2009, \"CSV File\": \"AEP\", \"MW\": 133595510.0}, {\"Year\": 2010, \"CSV File\": \"AEP\", \"MW\": 140187481.0}, {\"Year\": 2011, \"CSV File\": \"AEP\", \"MW\": 138511181.0}, {\"Year\": 2012, \"CSV File\": \"AEP\", \"MW\": 134814172.0}, {\"Year\": 2013, \"CSV File\": \"AEP\", \"MW\": 133105937.0}, {\"Year\": 2014, \"CSV File\": \"AEP\", \"MW\": 132865962.0}, {\"Year\": 1998, \"CSV File\": \"COMED\", \"MW\": 0.0}, {\"Year\": 1999, \"CSV File\": \"COMED\", \"MW\": 0.0}, {\"Year\": 2000, \"CSV File\": \"COMED\", \"MW\": 0.0}, {\"Year\": 2001, \"CSV File\": \"COMED\", \"MW\": 0.0}, {\"Year\": 2002, \"CSV File\": \"COMED\", \"MW\": 0.0}, {\"Year\": 2003, \"CSV File\": \"COMED\", \"MW\": 0.0}, {\"Year\": 2004, \"CSV File\": \"COMED\", \"MW\": 0.0}, {\"Year\": 2005, \"CSV File\": \"COMED\", \"MW\": 0.0}, {\"Year\": 2006, \"CSV File\": \"COMED\", \"MW\": 0.0}, {\"Year\": 2007, \"CSV File\": \"COMED\", \"MW\": 0.0}, {\"Year\": 2008, \"CSV File\": \"COMED\", \"MW\": 0.0}, {\"Year\": 2009, \"CSV File\": \"COMED\", \"MW\": 0.0}, {\"Year\": 2010, \"CSV File\": \"COMED\", \"MW\": 0.0}, {\"Year\": 2011, \"CSV File\": \"COMED\", \"MW\": 102005794.0}, {\"Year\": 2012, \"CSV File\": \"COMED\", \"MW\": 101977986.0}, {\"Year\": 2013, \"CSV File\": \"COMED\", \"MW\": 101149215.0}, {\"Year\": 2014, \"CSV File\": \"COMED\", \"MW\": 100214404.0}, {\"Year\": 1998, \"CSV File\": \"DAYTON\", \"MW\": 0.0}, {\"Year\": 1999, \"CSV File\": \"DAYTON\", \"MW\": 0.0}, {\"Year\": 2000, \"CSV File\": \"DAYTON\", \"MW\": 0.0}, {\"Year\": 2001, \"CSV File\": \"DAYTON\", \"MW\": 0.0}, {\"Year\": 2002, \"CSV File\": \"DAYTON\", \"MW\": 0.0}, {\"Year\": 2003, \"CSV File\": \"DAYTON\", \"MW\": 0.0}, {\"Year\": 2004, \"CSV File\": \"DAYTON\", \"MW\": 4384244.0}, {\"Year\": 2005, \"CSV File\": \"DAYTON\", \"MW\": 18757648.0}, {\"Year\": 2006, \"CSV File\": \"DAYTON\", \"MW\": 18361614.0}, {\"Year\": 2007, \"CSV File\": \"DAYTON\", \"MW\": 19072401.0}, {\"Year\": 2008, \"CSV File\": \"DAYTON\", \"MW\": 18565515.0}, {\"Year\": 2009, \"CSV File\": \"DAYTON\", \"MW\": 17214513.0}, {\"Year\": 2010, \"CSV File\": \"DAYTON\", \"MW\": 17749452.0}, {\"Year\": 2011, \"CSV File\": \"DAYTON\", \"MW\": 17419249.0}, {\"Year\": 2012, \"CSV File\": \"DAYTON\", \"MW\": 17408219.0}, {\"Year\": 2013, \"CSV File\": \"DAYTON\", \"MW\": 17421318.0}, {\"Year\": 2014, \"CSV File\": \"DAYTON\", \"MW\": 17629130.0}, {\"Year\": 1998, \"CSV File\": \"DEOK\", \"MW\": 0.0}, {\"Year\": 1999, \"CSV File\": \"DEOK\", \"MW\": 0.0}, {\"Year\": 2000, \"CSV File\": \"DEOK\", \"MW\": 0.0}, {\"Year\": 2001, \"CSV File\": \"DEOK\", \"MW\": 0.0}, {\"Year\": 2002, \"CSV File\": \"DEOK\", \"MW\": 0.0}, {\"Year\": 2003, \"CSV File\": \"DEOK\", \"MW\": 0.0}, {\"Year\": 2004, \"CSV File\": \"DEOK\", \"MW\": 0.0}, {\"Year\": 2005, \"CSV File\": \"DEOK\", \"MW\": 0.0}, {\"Year\": 2006, \"CSV File\": \"DEOK\", \"MW\": 0.0}, {\"Year\": 2007, \"CSV File\": \"DEOK\", \"MW\": 0.0}, {\"Year\": 2008, \"CSV File\": \"DEOK\", \"MW\": 0.0}, {\"Year\": 2009, \"CSV File\": \"DEOK\", \"MW\": 0.0}, {\"Year\": 2010, \"CSV File\": \"DEOK\", \"MW\": 0.0}, {\"Year\": 2011, \"CSV File\": \"DEOK\", \"MW\": 0.0}, {\"Year\": 2012, \"CSV File\": \"DEOK\", \"MW\": 26914888.0}, {\"Year\": 2013, \"CSV File\": \"DEOK\", \"MW\": 27075131.0}, {\"Year\": 2014, \"CSV File\": \"DEOK\", \"MW\": 27405184.0}, {\"Year\": 1998, \"CSV File\": \"DOM\", \"MW\": 0.0}, {\"Year\": 1999, \"CSV File\": \"DOM\", \"MW\": 0.0}, {\"Year\": 2000, \"CSV File\": \"DOM\", \"MW\": 0.0}, {\"Year\": 2001, \"CSV File\": \"DOM\", \"MW\": 0.0}, {\"Year\": 2002, \"CSV File\": \"DOM\", \"MW\": 0.0}, {\"Year\": 2003, \"CSV File\": \"DOM\", \"MW\": 0.0}, {\"Year\": 2004, \"CSV File\": \"DOM\", \"MW\": 0.0}, {\"Year\": 2005, \"CSV File\": \"DOM\", \"MW\": 63679458.0}, {\"Year\": 2006, \"CSV File\": \"DOM\", \"MW\": 91583693.0}, {\"Year\": 2007, \"CSV File\": \"DOM\", \"MW\": 96259317.0}, {\"Year\": 2008, \"CSV File\": \"DOM\", \"MW\": 94729254.0}, {\"Year\": 2009, \"CSV File\": \"DOM\", \"MW\": 93683715.0}, {\"Year\": 2010, \"CSV File\": \"DOM\", \"MW\": 98779534.0}, {\"Year\": 2011, \"CSV File\": \"DOM\", \"MW\": 95160671.0}, {\"Year\": 2012, \"CSV File\": \"DOM\", \"MW\": 93218606.0}, {\"Year\": 2013, \"CSV File\": \"DOM\", \"MW\": 95505523.0}, {\"Year\": 2014, \"CSV File\": \"DOM\", \"MW\": 97011887.0}, {\"Year\": 1998, \"CSV File\": \"DUQ\", \"MW\": 0.0}, {\"Year\": 1999, \"CSV File\": \"DUQ\", \"MW\": 0.0}, {\"Year\": 2000, \"CSV File\": \"DUQ\", \"MW\": 0.0}, {\"Year\": 2001, \"CSV File\": \"DUQ\", \"MW\": 0.0}, {\"Year\": 2002, \"CSV File\": \"DUQ\", \"MW\": 0.0}, {\"Year\": 2003, \"CSV File\": \"DUQ\", \"MW\": 0.0}, {\"Year\": 2004, \"CSV File\": \"DUQ\", \"MW\": 0.0}, {\"Year\": 2005, \"CSV File\": \"DUQ\", \"MW\": 14830490.0}, {\"Year\": 2006, \"CSV File\": \"DUQ\", \"MW\": 14562752.0}, {\"Year\": 2007, \"CSV File\": \"DUQ\", \"MW\": 15003675.0}, {\"Year\": 2008, \"CSV File\": \"DUQ\", \"MW\": 14699758.0}, {\"Year\": 2009, \"CSV File\": \"DUQ\", \"MW\": 13964771.0}, {\"Year\": 2010, \"CSV File\": \"DUQ\", \"MW\": 14959342.0}, {\"Year\": 2011, \"CSV File\": \"DUQ\", \"MW\": 14925032.0}, {\"Year\": 2012, \"CSV File\": \"DUQ\", \"MW\": 15097835.0}, {\"Year\": 2013, \"CSV File\": \"DUQ\", \"MW\": 14822887.0}, {\"Year\": 2014, \"CSV File\": \"DUQ\", \"MW\": 14567085.0}, {\"Year\": 1998, \"CSV File\": \"EKPC\", \"MW\": 0.0}, {\"Year\": 1999, \"CSV File\": \"EKPC\", \"MW\": 0.0}, {\"Year\": 2000, \"CSV File\": \"EKPC\", \"MW\": 0.0}, {\"Year\": 2001, \"CSV File\": \"EKPC\", \"MW\": 0.0}, {\"Year\": 2002, \"CSV File\": \"EKPC\", \"MW\": 0.0}, {\"Year\": 2003, \"CSV File\": \"EKPC\", \"MW\": 0.0}, {\"Year\": 2004, \"CSV File\": \"EKPC\", \"MW\": 0.0}, {\"Year\": 2005, \"CSV File\": \"EKPC\", \"MW\": 0.0}, {\"Year\": 2006, \"CSV File\": \"EKPC\", \"MW\": 0.0}, {\"Year\": 2007, \"CSV File\": \"EKPC\", \"MW\": 0.0}, {\"Year\": 2008, \"CSV File\": \"EKPC\", \"MW\": 0.0}, {\"Year\": 2009, \"CSV File\": \"EKPC\", \"MW\": 0.0}, {\"Year\": 2010, \"CSV File\": \"EKPC\", \"MW\": 0.0}, {\"Year\": 2011, \"CSV File\": \"EKPC\", \"MW\": 0.0}, {\"Year\": 2012, \"CSV File\": \"EKPC\", \"MW\": 0.0}, {\"Year\": 2013, \"CSV File\": \"EKPC\", \"MW\": 7260899.0}, {\"Year\": 2014, \"CSV File\": \"EKPC\", \"MW\": 13143552.0}, {\"Year\": 1998, \"CSV File\": \"FE\", \"MW\": 0.0}, {\"Year\": 1999, \"CSV File\": \"FE\", \"MW\": 0.0}, {\"Year\": 2000, \"CSV File\": \"FE\", \"MW\": 0.0}, {\"Year\": 2001, \"CSV File\": \"FE\", \"MW\": 0.0}, {\"Year\": 2002, \"CSV File\": \"FE\", \"MW\": 0.0}, {\"Year\": 2003, \"CSV File\": \"FE\", \"MW\": 0.0}, {\"Year\": 2004, \"CSV File\": \"FE\", \"MW\": 0.0}, {\"Year\": 2005, \"CSV File\": \"FE\", \"MW\": 0.0}, {\"Year\": 2006, \"CSV File\": \"FE\", \"MW\": 0.0}, {\"Year\": 2007, \"CSV File\": \"FE\", \"MW\": 0.0}, {\"Year\": 2008, \"CSV File\": \"FE\", \"MW\": 0.0}, {\"Year\": 2009, \"CSV File\": \"FE\", \"MW\": 0.0}, {\"Year\": 2010, \"CSV File\": \"FE\", \"MW\": 0.0}, {\"Year\": 2011, \"CSV File\": \"FE\", \"MW\": 40535968.0}, {\"Year\": 2012, \"CSV File\": \"FE\", \"MW\": 68097194.0}, {\"Year\": 2013, \"CSV File\": \"FE\", \"MW\": 68370478.0}, {\"Year\": 2014, \"CSV File\": \"FE\", \"MW\": 69343696.0}, {\"Year\": 1998, \"CSV File\": \"NI\", \"MW\": 0.0}, {\"Year\": 1999, \"CSV File\": \"NI\", \"MW\": 0.0}, {\"Year\": 2000, \"CSV File\": \"NI\", \"MW\": 0.0}, {\"Year\": 2001, \"CSV File\": \"NI\", \"MW\": 0.0}, {\"Year\": 2002, \"CSV File\": \"NI\", \"MW\": 0.0}, {\"Year\": 2003, \"CSV File\": \"NI\", \"MW\": 0.0}, {\"Year\": 2004, \"CSV File\": \"NI\", \"MW\": 65979931.0}, {\"Year\": 2005, \"CSV File\": \"NI\", \"MW\": 103799551.0}, {\"Year\": 2006, \"CSV File\": \"NI\", \"MW\": 102359091.0}, {\"Year\": 2007, \"CSV File\": \"NI\", \"MW\": 105843527.0}, {\"Year\": 2008, \"CSV File\": \"NI\", \"MW\": 104282279.0}, {\"Year\": 2009, \"CSV File\": \"NI\", \"MW\": 98211778.0}, {\"Year\": 2010, \"CSV File\": \"NI\", \"MW\": 103477169.0}, {\"Year\": 2011, \"CSV File\": \"NI\", \"MW\": 10042.0}, {\"Year\": 2012, \"CSV File\": \"NI\", \"MW\": 0.0}, {\"Year\": 2013, \"CSV File\": \"NI\", \"MW\": 0.0}, {\"Year\": 2014, \"CSV File\": \"NI\", \"MW\": 0.0}, {\"Year\": 1998, \"CSV File\": \"PJME\", \"MW\": 0.0}, {\"Year\": 1999, \"CSV File\": \"PJME\", \"MW\": 0.0}, {\"Year\": 2000, \"CSV File\": \"PJME\", \"MW\": 0.0}, {\"Year\": 2001, \"CSV File\": \"PJME\", \"MW\": 0.0}, {\"Year\": 2002, \"CSV File\": \"PJME\", \"MW\": 276420109.0}, {\"Year\": 2003, \"CSV File\": \"PJME\", \"MW\": 277617728.0}, {\"Year\": 2004, \"CSV File\": \"PJME\", \"MW\": 283398959.0}, {\"Year\": 2005, \"CSV File\": \"PJME\", \"MW\": 291733172.0}, {\"Year\": 2006, \"CSV File\": \"PJME\", \"MW\": 283840384.0}, {\"Year\": 2007, \"CSV File\": \"PJME\", \"MW\": 294386758.0}, {\"Year\": 2008, \"CSV File\": \"PJME\", \"MW\": 289187689.0}, {\"Year\": 2009, \"CSV File\": \"PJME\", \"MW\": 278955732.0}, {\"Year\": 2010, \"CSV File\": \"PJME\", \"MW\": 289866969.0}, {\"Year\": 2011, \"CSV File\": \"PJME\", \"MW\": 283481646.0}, {\"Year\": 2012, \"CSV File\": \"PJME\", \"MW\": 276107022.0}, {\"Year\": 2013, \"CSV File\": \"PJME\", \"MW\": 277685747.0}, {\"Year\": 2014, \"CSV File\": \"PJME\", \"MW\": 275908525.0}, {\"Year\": 1998, \"CSV File\": \"PJMW\", \"MW\": 0.0}, {\"Year\": 1999, \"CSV File\": \"PJMW\", \"MW\": 0.0}, {\"Year\": 2000, \"CSV File\": \"PJMW\", \"MW\": 0.0}, {\"Year\": 2001, \"CSV File\": \"PJMW\", \"MW\": 0.0}, {\"Year\": 2002, \"CSV File\": \"PJMW\", \"MW\": 37086112.0}, {\"Year\": 2003, \"CSV File\": \"PJMW\", \"MW\": 49926102.0}, {\"Year\": 2004, \"CSV File\": \"PJMW\", \"MW\": 51520627.0}, {\"Year\": 2005, \"CSV File\": \"PJMW\", \"MW\": 52884360.0}, {\"Year\": 2006, \"CSV File\": \"PJMW\", \"MW\": 47516081.0}, {\"Year\": 2007, \"CSV File\": \"PJMW\", \"MW\": 49354805.0}, {\"Year\": 2008, \"CSV File\": \"PJMW\", \"MW\": 48565624.0}, {\"Year\": 2009, \"CSV File\": \"PJMW\", \"MW\": 46334702.0}, {\"Year\": 2010, \"CSV File\": \"PJMW\", \"MW\": 48802983.0}, {\"Year\": 2011, \"CSV File\": \"PJMW\", \"MW\": 48253429.0}, {\"Year\": 2012, \"CSV File\": \"PJMW\", \"MW\": 47378985.0}, {\"Year\": 2013, \"CSV File\": \"PJMW\", \"MW\": 48666311.0}, {\"Year\": 2014, \"CSV File\": \"PJMW\", \"MW\": 49549487.0}, {\"Year\": 1998, \"CSV File\": \"PJM_Load\", \"MW\": 189741769.0}, {\"Year\": 1999, \"CSV File\": \"PJM_Load\", \"MW\": 259605177.0}, {\"Year\": 2000, \"CSV File\": \"PJM_Load\", \"MW\": 264464074.0}, {\"Year\": 2001, \"CSV File\": \"PJM_Load\", \"MW\": 265353807.0}, {\"Year\": 2002, \"CSV File\": \"PJM_Load\", \"MW\": 31569.0}, {\"Year\": 2003, \"CSV File\": \"PJM_Load\", \"MW\": 0.0}, {\"Year\": 2004, \"CSV File\": \"PJM_Load\", \"MW\": 0.0}, {\"Year\": 2005, \"CSV File\": \"PJM_Load\", \"MW\": 0.0}, {\"Year\": 2006, \"CSV File\": \"PJM_Load\", \"MW\": 0.0}, {\"Year\": 2007, \"CSV File\": \"PJM_Load\", \"MW\": 0.0}, {\"Year\": 2008, \"CSV File\": \"PJM_Load\", \"MW\": 0.0}, {\"Year\": 2009, \"CSV File\": \"PJM_Load\", \"MW\": 0.0}, {\"Year\": 2010, \"CSV File\": \"PJM_Load\", \"MW\": 0.0}, {\"Year\": 2011, \"CSV File\": \"PJM_Load\", \"MW\": 0.0}, {\"Year\": 2012, \"CSV File\": \"PJM_Load\", \"MW\": 0.0}, {\"Year\": 2013, \"CSV File\": \"PJM_Load\", \"MW\": 0.0}, {\"Year\": 2014, \"CSV File\": \"PJM_Load\", \"MW\": 0.0}, {\"Year\": 1998, \"CSV File\": \"PJM_Load_MW\", \"MW\": 189741769.0}, {\"Year\": 1999, \"CSV File\": \"PJM_Load_MW\", \"MW\": 259605177.0}, {\"Year\": 2000, \"CSV File\": \"PJM_Load_MW\", \"MW\": 264464074.0}, {\"Year\": 2001, \"CSV File\": \"PJM_Load_MW\", \"MW\": 265353807.0}, {\"Year\": 2002, \"CSV File\": \"PJM_Load_MW\", \"MW\": 31569.0}, {\"Year\": 2003, \"CSV File\": \"PJM_Load_MW\", \"MW\": 0.0}, {\"Year\": 2004, \"CSV File\": \"PJM_Load_MW\", \"MW\": 0.0}, {\"Year\": 2005, \"CSV File\": \"PJM_Load_MW\", \"MW\": 0.0}, {\"Year\": 2006, \"CSV File\": \"PJM_Load_MW\", \"MW\": 0.0}, {\"Year\": 2007, \"CSV File\": \"PJM_Load_MW\", \"MW\": 0.0}, {\"Year\": 2008, \"CSV File\": \"PJM_Load_MW\", \"MW\": 0.0}, {\"Year\": 2009, \"CSV File\": \"PJM_Load_MW\", \"MW\": 0.0}, {\"Year\": 2010, \"CSV File\": \"PJM_Load_MW\", \"MW\": 0.0}, {\"Year\": 2011, \"CSV File\": \"PJM_Load_MW\", \"MW\": 0.0}, {\"Year\": 2012, \"CSV File\": \"PJM_Load_MW\", \"MW\": 0.0}, {\"Year\": 2013, \"CSV File\": \"PJM_Load_MW\", \"MW\": 0.0}, {\"Year\": 2014, \"CSV File\": \"PJM_Load_MW\", \"MW\": 0.0}, {\"Year\": 1998, \"CSV File\": \"PJME_MW\", \"MW\": 0.0}, {\"Year\": 1999, \"CSV File\": \"PJME_MW\", \"MW\": 0.0}, {\"Year\": 2000, \"CSV File\": \"PJME_MW\", \"MW\": 0.0}, {\"Year\": 2001, \"CSV File\": \"PJME_MW\", \"MW\": 0.0}, {\"Year\": 2002, \"CSV File\": \"PJME_MW\", \"MW\": 276420109.0}, {\"Year\": 2003, \"CSV File\": \"PJME_MW\", \"MW\": 277617728.0}, {\"Year\": 2004, \"CSV File\": \"PJME_MW\", \"MW\": 283398959.0}, {\"Year\": 2005, \"CSV File\": \"PJME_MW\", \"MW\": 291733172.0}, {\"Year\": 2006, \"CSV File\": \"PJME_MW\", \"MW\": 283840384.0}, {\"Year\": 2007, \"CSV File\": \"PJME_MW\", \"MW\": 294386758.0}, {\"Year\": 2008, \"CSV File\": \"PJME_MW\", \"MW\": 289187689.0}, {\"Year\": 2009, \"CSV File\": \"PJME_MW\", \"MW\": 278955732.0}, {\"Year\": 2010, \"CSV File\": \"PJME_MW\", \"MW\": 289866969.0}, {\"Year\": 2011, \"CSV File\": \"PJME_MW\", \"MW\": 283481646.0}, {\"Year\": 2012, \"CSV File\": \"PJME_MW\", \"MW\": 276107022.0}, {\"Year\": 2013, \"CSV File\": \"PJME_MW\", \"MW\": 277685747.0}, {\"Year\": 2014, \"CSV File\": \"PJME_MW\", \"MW\": 275908525.0}, {\"Year\": 1998, \"CSV File\": \"PJMW_MW\", \"MW\": 0.0}, {\"Year\": 1999, \"CSV File\": \"PJMW_MW\", \"MW\": 0.0}, {\"Year\": 2000, \"CSV File\": \"PJMW_MW\", \"MW\": 0.0}, {\"Year\": 2001, \"CSV File\": \"PJMW_MW\", \"MW\": 0.0}, {\"Year\": 2002, \"CSV File\": \"PJMW_MW\", \"MW\": 37086112.0}, {\"Year\": 2003, \"CSV File\": \"PJMW_MW\", \"MW\": 49926102.0}, {\"Year\": 2004, \"CSV File\": \"PJMW_MW\", \"MW\": 51520627.0}, {\"Year\": 2005, \"CSV File\": \"PJMW_MW\", \"MW\": 52884360.0}, {\"Year\": 2006, \"CSV File\": \"PJMW_MW\", \"MW\": 47516081.0}, {\"Year\": 2007, \"CSV File\": \"PJMW_MW\", \"MW\": 49354805.0}, {\"Year\": 2008, \"CSV File\": \"PJMW_MW\", \"MW\": 48565624.0}, {\"Year\": 2009, \"CSV File\": \"PJMW_MW\", \"MW\": 46334702.0}, {\"Year\": 2010, \"CSV File\": \"PJMW_MW\", \"MW\": 48802983.0}, {\"Year\": 2011, \"CSV File\": \"PJMW_MW\", \"MW\": 48253429.0}, {\"Year\": 2012, \"CSV File\": \"PJMW_MW\", \"MW\": 47378985.0}, {\"Year\": 2013, \"CSV File\": \"PJMW_MW\", \"MW\": 48666311.0}, {\"Year\": 2014, \"CSV File\": \"PJMW_MW\", \"MW\": 49549487.0}]}}, {\"mode\": \"vega-lite\"});\n",
       "</script>"
      ],
      "text/plain": [
       "alt.Chart(...)"
      ]
     },
     "execution_count": 16,
     "metadata": {},
     "output_type": "execute_result"
    }
   ],
   "source": [
    "scatter_plot = alt.Chart(df_melt).mark_circle().encode(\n",
    "    x='Year:O',\n",
    "    y='MW',\n",
    "    color='CSV File',\n",
    "    size='MW',\n",
    "    tooltip=['Year', 'MW', 'CSV File']\n",
    ").properties(\n",
    "    title='MW Usage by Year Up Until 2014'\n",
    ")\n",
    "\n",
    "scatter_plot"
   ]
  },
  {
   "cell_type": "markdown",
   "metadata": {
    "cell_id": "533fb1c7d3e643bb803e7dafb2656e89",
    "deepnote_cell_type": "markdown"
   },
   "source": [
    "This is just a graph I thought would look very interestinf since some places used much more energy than others. I believe we did something like this in class once."
   ]
  },
  {
   "cell_type": "code",
   "execution_count": 15,
   "metadata": {
    "cell_id": "9cdd6410a61d464495afee6079862d51",
    "deepnote_cell_type": "code",
    "deepnote_to_be_reexecuted": false,
    "execution_millis": 4,
    "execution_start": 1686980401751,
    "source_hash": "20117641"
   },
   "outputs": [
    {
     "data": {
      "text/html": [
       "\n",
       "<div id=\"altair-viz-15c5caeb17c348098b02783cc2231399\"></div>\n",
       "<script type=\"text/javascript\">\n",
       "  var VEGA_DEBUG = (typeof VEGA_DEBUG == \"undefined\") ? {} : VEGA_DEBUG;\n",
       "  (function(spec, embedOpt){\n",
       "    let outputDiv = document.currentScript.previousElementSibling;\n",
       "    if (outputDiv.id !== \"altair-viz-15c5caeb17c348098b02783cc2231399\") {\n",
       "      outputDiv = document.getElementById(\"altair-viz-15c5caeb17c348098b02783cc2231399\");\n",
       "    }\n",
       "    const paths = {\n",
       "      \"vega\": \"https://cdn.jsdelivr.net/npm//vega@5?noext\",\n",
       "      \"vega-lib\": \"https://cdn.jsdelivr.net/npm//vega-lib?noext\",\n",
       "      \"vega-lite\": \"https://cdn.jsdelivr.net/npm//vega-lite@4.17.0?noext\",\n",
       "      \"vega-embed\": \"https://cdn.jsdelivr.net/npm//vega-embed@6?noext\",\n",
       "    };\n",
       "\n",
       "    function maybeLoadScript(lib, version) {\n",
       "      var key = `${lib.replace(\"-\", \"\")}_version`;\n",
       "      return (VEGA_DEBUG[key] == version) ?\n",
       "        Promise.resolve(paths[lib]) :\n",
       "        new Promise(function(resolve, reject) {\n",
       "          var s = document.createElement('script');\n",
       "          document.getElementsByTagName(\"head\")[0].appendChild(s);\n",
       "          s.async = true;\n",
       "          s.onload = () => {\n",
       "            VEGA_DEBUG[key] = version;\n",
       "            return resolve(paths[lib]);\n",
       "          };\n",
       "          s.onerror = () => reject(`Error loading script: ${paths[lib]}`);\n",
       "          s.src = paths[lib];\n",
       "        });\n",
       "    }\n",
       "\n",
       "    function showError(err) {\n",
       "      outputDiv.innerHTML = `<div class=\"error\" style=\"color:red;\">${err}</div>`;\n",
       "      throw err;\n",
       "    }\n",
       "\n",
       "    function displayChart(vegaEmbed) {\n",
       "      vegaEmbed(outputDiv, spec, embedOpt)\n",
       "        .catch(err => showError(`Javascript Error: ${err.message}<br>This usually means there's a typo in your chart specification. See the javascript console for the full traceback.`));\n",
       "    }\n",
       "\n",
       "    if(typeof define === \"function\" && define.amd) {\n",
       "      requirejs.config({paths});\n",
       "      require([\"vega-embed\"], displayChart, err => showError(`Error loading script: ${err.message}`));\n",
       "    } else {\n",
       "      maybeLoadScript(\"vega\", \"5\")\n",
       "        .then(() => maybeLoadScript(\"vega-lite\", \"4.17.0\"))\n",
       "        .then(() => maybeLoadScript(\"vega-embed\", \"6\"))\n",
       "        .catch(showError)\n",
       "        .then(() => displayChart(vegaEmbed));\n",
       "    }\n",
       "  })({\"config\": {\"view\": {\"continuousWidth\": 400, \"continuousHeight\": 300}}, \"layer\": [{\"data\": {\"name\": \"data-c4d5b1427a7260f2ab93fe7ca1536c44\"}, \"mark\": {\"type\": \"line\", \"color\": \"purple\"}, \"encoding\": {\"tooltip\": [{\"field\": \"Year\", \"type\": \"quantitative\"}, {\"field\": \"MW\", \"type\": \"quantitative\"}], \"x\": {\"field\": \"Year\", \"type\": \"quantitative\"}, \"y\": {\"field\": \"MW\", \"type\": \"quantitative\"}}, \"title\": \"Actual MW Usage\"}, {\"layer\": [{\"data\": {\"name\": \"data-6b9d1beca24f1f871a48e6db79214619\"}, \"mark\": \"line\", \"encoding\": {\"tooltip\": [{\"field\": \"Year\", \"type\": \"quantitative\"}, {\"field\": \"MW\", \"type\": \"quantitative\"}], \"x\": {\"field\": \"Year\", \"type\": \"quantitative\"}, \"y\": {\"field\": \"MW\", \"type\": \"quantitative\"}}, \"title\": \"Predicted MW Usage\"}, {\"data\": {\"name\": \"data-77401dae31bae6a2295d8df331a1d4e9\"}, \"mark\": {\"type\": \"line\", \"color\": \"red\"}, \"encoding\": {\"tooltip\": [{\"field\": \"Year\", \"type\": \"quantitative\"}, {\"field\": \"MW_Predicted\", \"type\": \"quantitative\"}], \"x\": {\"field\": \"Year\", \"type\": \"quantitative\"}, \"y\": {\"field\": \"MW_Predicted\", \"type\": \"quantitative\"}}, \"title\": \"Predicted MW Values\"}]}], \"$schema\": \"https://vega.github.io/schema/vega-lite/v4.17.0.json\", \"datasets\": {\"data-c4d5b1427a7260f2ab93fe7ca1536c44\": [{\"Year\": 1998, \"MW\": 15811814.083333334}, {\"Year\": 1999, \"MW\": 21633764.75}, {\"Year\": 2000, \"MW\": 22038672.833333332}, {\"Year\": 2001, \"MW\": 22112817.25}, {\"Year\": 2002, \"MW\": 26128149.166666668}, {\"Year\": 2003, \"MW\": 27295319.166666668}, {\"Year\": 2004, \"MW\": 36563634.583333336}, {\"Year\": 2005, \"MW\": 57036466.083333336}, {\"Year\": 2006, \"MW\": 58004185.416666664}, {\"Year\": 2007, \"MW\": 60475161.75}, {\"Year\": 2008, \"MW\": 59604585.75}, {\"Year\": 2009, \"MW\": 56830060.083333336}, {\"Year\": 2010, \"MW\": 59485244.166666664}, {\"Year\": 2011, \"MW\": 61691917.666666664}, {\"Year\": 2012, \"MW\": 65084575.583333336}, {\"Year\": 2013, \"MW\": 65921953.833333336}, {\"Year\": 2014, \"MW\": 66469909.333333336}, {\"Year\": 2015, \"MW\": 66497634.06669117}, {\"Year\": 2016, \"MW\": 66723374.22325161}, {\"Year\": 2017, \"MW\": 65287572.45981209}, {\"Year\": 2018, \"MW\": 41520169.25637253}], \"data-6b9d1beca24f1f871a48e6db79214619\": [{\"Year\": 1998, \"MW\": 15811814.083333334}, {\"Year\": 1999, \"MW\": 21633764.75}, {\"Year\": 2000, \"MW\": 22038672.833333332}, {\"Year\": 2001, \"MW\": 22112817.25}, {\"Year\": 2002, \"MW\": 26128149.166666668}, {\"Year\": 2003, \"MW\": 27295319.166666668}, {\"Year\": 2004, \"MW\": 36563634.583333336}, {\"Year\": 2005, \"MW\": 57036466.083333336}, {\"Year\": 2006, \"MW\": 58004185.416666664}, {\"Year\": 2007, \"MW\": 60475161.75}, {\"Year\": 2008, \"MW\": 59604585.75}, {\"Year\": 2009, \"MW\": 56830060.083333336}, {\"Year\": 2010, \"MW\": 59485244.166666664}, {\"Year\": 2011, \"MW\": 61691917.666666664}, {\"Year\": 2012, \"MW\": 65084575.583333336}, {\"Year\": 2013, \"MW\": 65921953.833333336}, {\"Year\": 2014, \"MW\": 66469909.333333336}], \"data-77401dae31bae6a2295d8df331a1d4e9\": [{\"Year\": 2014, \"MW_Predicted\": 74305311.75326729}, {\"Year\": 2015, \"MW_Predicted\": 77842091.66727924}, {\"Year\": 2016, \"MW_Predicted\": 81378871.58129025}, {\"Year\": 2017, \"MW_Predicted\": 84915651.4953022}, {\"Year\": 2018, \"MW_Predicted\": 88452431.4093132}]}}, {\"mode\": \"vega-lite\"});\n",
       "</script>"
      ],
      "text/plain": [
       "alt.LayerChart(...)"
      ]
     },
     "execution_count": 15,
     "metadata": {},
     "output_type": "execute_result"
    }
   ],
   "source": [
    "chart4 = chart3+chart2\n",
    "chart4"
   ]
  },
  {
   "cell_type": "code",
   "execution_count": null,
   "metadata": {
    "cell_id": "a92e6e639e23420887af9e62d1c8dad3",
    "deepnote_cell_type": "code"
   },
   "outputs": [],
   "source": [
    "This shows the final result. The prediction (red) was projecting a general increase of energy consumtion (which was what I thought as well) but there was a sharp decrease(purple) for some reason I am unaware of. I think its interesting since I do not remember anything particularly important happening in 2018."
   ]
  },
  {
   "cell_type": "markdown",
   "metadata": {
    "cell_id": "b6597831b5434018ada2ad56aacd234d",
    "deepnote_cell_type": "markdown",
    "tags": []
   },
   "source": [
    "## Summary\n",
    "\n",
    "Here I used altair, pandas, numpy, and sklearn in order to get data about hourly MW usage. From there I limited the data using pandas in order to test the prediction from sklearn. I then used a variety of graphs from altair to show how where the prediction may have faltered and give a possible explanation as to why"
   ]
  },
  {
   "cell_type": "markdown",
   "metadata": {
    "cell_id": "5fdca83dbedd4643a8efe4dec9faa675",
    "deepnote_cell_type": "markdown",
    "tags": []
   },
   "source": [
    "## References\n",
    "\n",
    "Your code above should include references.  Here is some additional space for references."
   ]
  },
  {
   "cell_type": "markdown",
   "metadata": {
    "cell_id": "3537a3d71ac147fd9cd167e001f5cc25",
    "deepnote_cell_type": "markdown",
    "tags": []
   },
   "source": [
    "* What is the source of your dataset(s)?\n",
    "\n",
    "From Kaggle:\n",
    "https://www.kaggle.com/datasets/robikscube/hourly-energy-consumption"
   ]
  },
  {
   "cell_type": "markdown",
   "metadata": {
    "cell_id": "3b8143bbdb124f6d95e510f33127e15b",
    "deepnote_cell_type": "markdown",
    "deepnote_to_be_reexecuted": false,
    "execution_millis": 0,
    "execution_start": 1652916033453,
    "source_hash": "aa45eba7",
    "tags": []
   },
   "source": [
    "* List any other references that you found helpful.\n",
    "chatgpt: \n",
    "csv_files = ['file1.csv', 'file2.csv', 'file3.csv']\n",
    "dfs = []\n",
    "for file in csv_files:\n",
    "    df = pd.read_csv(file)\n",
    "    dfs.append(df)\n",
    "This code helped me be able to find out how to get all the csv files together\n"
   ]
  },
  {
   "cell_type": "markdown",
   "metadata": {
    "cell_id": "e2126ca6a2d64e4fa62ea460bf74b4dc",
    "deepnote_cell_type": "markdown"
   },
   "source": [
    "Another helpful code from chat gpt: helping get the years\n",
    "melted_df = combined_df.melt(id_vars='Year', var_name='CSV File', value_name='MW')\n"
   ]
  },
  {
   "cell_type": "markdown",
   "metadata": {
    "cell_id": "bfaffbee95054b0faedcb4f8822b3ef6",
    "deepnote_cell_type": "markdown"
   },
   "source": [
    "I used this code in order to get an idea as to how to switch the y axis, since there was an issue with the y values being upside down:\n",
    "  y=alt.Y('Negative_Value:Q', title='Negative Value'),"
   ]
  },
  {
   "cell_type": "markdown",
   "metadata": {
    "cell_id": "8341a3d6f66449d298771d945a398771",
    "deepnote_cell_type": "markdown"
   },
   "source": [
    "I also got some ideas about splitting and comparing with real years from Chris, very appreciated."
   ]
  },
  {
   "cell_type": "markdown",
   "metadata": {
    "cell_id": "feed1e4382674f82b05053151c118683",
    "deepnote_cell_type": "markdown",
    "tags": []
   },
   "source": [
    "## Submission\n",
    "\n",
    "Using the Share button at the top right, **enable Comment privileges** for anyone with a link to the project. Then submit that link on Canvas."
   ]
  }
 ],
 "metadata": {
  "deepnote": {
   "is_reactive": false
  },
  "deepnote_execution_queue": [],
  "deepnote_notebook_id": "fec3e0c4e47c443cb7f30bda53047db1",
  "kernelspec": {
   "display_name": "Python 3 (ipykernel)",
   "language": "python",
   "name": "python3"
  },
  "language_info": {
   "codemirror_mode": {
    "name": "ipython",
    "version": 3
   },
   "file_extension": ".py",
   "mimetype": "text/x-python",
   "name": "python",
   "nbconvert_exporter": "python",
   "pygments_lexer": "ipython3",
   "version": "3.9.16"
  }
 },
 "nbformat": 4,
 "nbformat_minor": 4
}
