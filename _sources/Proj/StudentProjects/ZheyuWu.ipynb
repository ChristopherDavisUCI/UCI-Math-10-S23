{
 "cells": [
  {
   "cell_type": "markdown",
   "metadata": {
    "cell_id": "8d358824966b40c691f7d4abbe986134",
    "deepnote_cell_type": "markdown",
    "tags": []
   },
   "source": [
    "# Analyzing Winning factors on Premier League\n",
    "\n",
    "Author:Zheyu Wu\n",
    "\n",
    "Course Project, UC Irvine, Math 10, S23"
   ]
  },
  {
   "cell_type": "markdown",
   "metadata": {
    "cell_id": "3cbd0af1f6374326924aa7b9026b4229",
    "deepnote_cell_type": "markdown",
    "tags": []
   },
   "source": [
    "## Introduction"
   ]
  },
  {
   "cell_type": "markdown",
   "metadata": {
    "cell_id": "60196ac842294a5096a23caf561fb9b5",
    "deepnote_cell_type": "markdown"
   },
   "source": [
    "![Picture title](image-20230610-213402.png)"
   ]
  },
  {
   "cell_type": "markdown",
   "metadata": {
    "cell_id": "6025da44a6e742b5a70d58afd6fd9d73",
    "deepnote_cell_type": "markdown"
   },
   "source": [
    "The English Premier League (EPL) is globally renowned as one of the most popular football leagues. It consists of 20 teams competing in a total of 38 matches over a year. The team with the highest points will be the winner. In this system, a win earns a team 3 points, a draw results in 1 point each for both teams, and a loss yields zero points. Each team faces every other team in the league once at home and once as the away team.\n",
    "For this project, I want to investigate which factors will contribute the most for winning a match in the Premier League."
   ]
  },
  {
   "cell_type": "markdown",
   "metadata": {
    "cell_id": "6149745e528a433ca80bc910cc0771a2",
    "deepnote_cell_type": "markdown",
    "tags": []
   },
   "source": [
    "## Importing and Cleaning the Data"
   ]
  },
  {
   "cell_type": "code",
   "execution_count": 1,
   "metadata": {
    "cell_id": "7497861a80944dc8b206bf7cb57a8c91",
    "deepnote_cell_type": "code",
    "deepnote_to_be_reexecuted": false,
    "execution_millis": 3247,
    "execution_start": 1686816248934,
    "source_hash": "d10a6942"
   },
   "outputs": [],
   "source": [
    "import pandas as pd\n",
    "import numpy as np\n",
    "import altair as alt\n",
    "from sklearn.model_selection import train_test_split\n",
    "from sklearn.metrics import accuracy_score\n",
    "from sklearn.ensemble import RandomForestRegressor\n",
    "from sklearn.metrics import mean_squared_error\n",
    "from sklearn.linear_model import LinearRegression\n",
    "import matplotlib.pyplot as plt\n",
    "from mplsoccer.pitch import Pitch\n",
    "import seaborn as sns"
   ]
  },
  {
   "cell_type": "code",
   "execution_count": 2,
   "metadata": {
    "cell_id": "fc9e927eb8de4ed58b0ebe0146f993f5",
    "deepnote_cell_type": "code",
    "deepnote_to_be_reexecuted": false,
    "execution_millis": 205,
    "execution_start": 1686816252184,
    "source_hash": "a449d198"
   },
   "outputs": [
    {
     "data": {
      "application/vnd.deepnote.dataframe.v3+json": {
       "column_count": 42,
       "columns": [
        {
         "dtype": "object",
         "name": "team",
         "stats": {
          "categories": [
           {
            "count": 12,
            "name": "Manchester United"
           },
           {
            "count": 12,
            "name": "Chelsea"
           },
           {
            "count": 216,
            "name": "37 others"
           }
          ],
          "nan_count": 0,
          "unique_count": 39
         }
        },
        {
         "dtype": "float64",
         "name": "wins",
         "stats": {
          "histogram": [
           {
            "bin_end": 4.1,
            "bin_start": 1,
            "count": 3
           },
           {
            "bin_end": 7.2,
            "bin_start": 4.1,
            "count": 18
           },
           {
            "bin_end": 10.3,
            "bin_start": 7.2,
            "count": 50
           },
           {
            "bin_end": 13.4,
            "bin_start": 10.3,
            "count": 68
           },
           {
            "bin_end": 16.5,
            "bin_start": 13.4,
            "count": 29
           },
           {
            "bin_end": 19.6,
            "bin_start": 16.5,
            "count": 23
           },
           {
            "bin_end": 22.7,
            "bin_start": 19.6,
            "count": 19
           },
           {
            "bin_end": 25.8,
            "bin_start": 22.7,
            "count": 16
           },
           {
            "bin_end": 28.900000000000002,
            "bin_start": 25.8,
            "count": 12
           },
           {
            "bin_end": 32,
            "bin_start": 28.900000000000002,
            "count": 2
           }
          ],
          "max": "32.0",
          "min": "1.0",
          "nan_count": 0,
          "unique_count": 29
         }
        },
        {
         "dtype": "float64",
         "name": "losses",
         "stats": {
          "histogram": [
           {
            "bin_end": 4.7,
            "bin_start": 2,
            "count": 11
           },
           {
            "bin_end": 7.4,
            "bin_start": 4.7,
            "count": 29
           },
           {
            "bin_end": 10.100000000000001,
            "bin_start": 7.4,
            "count": 30
           },
           {
            "bin_end": 12.8,
            "bin_start": 10.100000000000001,
            "count": 16
           },
           {
            "bin_end": 15.5,
            "bin_start": 12.8,
            "count": 45
           },
           {
            "bin_end": 18.200000000000003,
            "bin_start": 15.5,
            "count": 47
           },
           {
            "bin_end": 20.900000000000002,
            "bin_start": 18.200000000000003,
            "count": 37
           },
           {
            "bin_end": 23.6,
            "bin_start": 20.900000000000002,
            "count": 18
           },
           {
            "bin_end": 26.3,
            "bin_start": 23.6,
            "count": 5
           },
           {
            "bin_end": 29,
            "bin_start": 26.3,
            "count": 2
           }
          ],
          "max": "29.0",
          "min": "2.0",
          "nan_count": 0,
          "unique_count": 26
         }
        },
        {
         "dtype": "float64",
         "name": "goals",
         "stats": {
          "histogram": [
           {
            "bin_end": 28.6,
            "bin_start": 20,
            "count": 8
           },
           {
            "bin_end": 37.2,
            "bin_start": 28.6,
            "count": 35
           },
           {
            "bin_end": 45.8,
            "bin_start": 37.2,
            "count": 69
           },
           {
            "bin_end": 54.4,
            "bin_start": 45.8,
            "count": 46
           },
           {
            "bin_end": 63,
            "bin_start": 54.4,
            "count": 26
           },
           {
            "bin_end": 71.6,
            "bin_start": 63,
            "count": 27
           },
           {
            "bin_end": 80.19999999999999,
            "bin_start": 71.6,
            "count": 15
           },
           {
            "bin_end": 88.8,
            "bin_start": 80.19999999999999,
            "count": 8
           },
           {
            "bin_end": 97.39999999999999,
            "bin_start": 88.8,
            "count": 2
           },
           {
            "bin_end": 106,
            "bin_start": 97.39999999999999,
            "count": 4
           }
          ],
          "max": "106.0",
          "min": "20.0",
          "nan_count": 0,
          "unique_count": 62
         }
        },
        {
         "dtype": "float64",
         "name": "total_yel_card",
         "stats": {
          "histogram": [
           {
            "bin_end": 43.6,
            "bin_start": 38,
            "count": 9
           },
           {
            "bin_end": 49.2,
            "bin_start": 43.6,
            "count": 21
           },
           {
            "bin_end": 54.8,
            "bin_start": 49.2,
            "count": 34
           },
           {
            "bin_end": 60.4,
            "bin_start": 54.8,
            "count": 56
           },
           {
            "bin_end": 66,
            "bin_start": 60.4,
            "count": 47
           },
           {
            "bin_end": 71.6,
            "bin_start": 66,
            "count": 30
           },
           {
            "bin_end": 77.19999999999999,
            "bin_start": 71.6,
            "count": 29
           },
           {
            "bin_end": 82.8,
            "bin_start": 77.19999999999999,
            "count": 9
           },
           {
            "bin_end": 88.4,
            "bin_start": 82.8,
            "count": 4
           },
           {
            "bin_end": 94,
            "bin_start": 88.4,
            "count": 1
           }
          ],
          "max": "94.0",
          "min": "38.0",
          "nan_count": 0,
          "unique_count": 46
         }
        },
        {
         "dtype": "float64",
         "name": "total_red_card",
         "stats": {
          "histogram": [
           {
            "bin_end": 0.9,
            "bin_start": 0,
            "count": 17
           },
           {
            "bin_end": 1.8,
            "bin_start": 0.9,
            "count": 44
           },
           {
            "bin_end": 2.7,
            "bin_start": 1.8,
            "count": 52
           },
           {
            "bin_end": 3.6,
            "bin_start": 2.7,
            "count": 44
           },
           {
            "bin_end": 4.5,
            "bin_start": 3.6,
            "count": 35
           },
           {
            "bin_end": 5.4,
            "bin_start": 4.5,
            "count": 33
           },
           {
            "bin_end": 6.3,
            "bin_start": 5.4,
            "count": 8
           },
           {
            "bin_end": 7.2,
            "bin_start": 6.3,
            "count": 4
           },
           {
            "bin_end": 8.1,
            "bin_start": 7.2,
            "count": 1
           },
           {
            "bin_end": 9,
            "bin_start": 8.1,
            "count": 2
           }
          ],
          "max": "9.0",
          "min": "0.0",
          "nan_count": 0,
          "unique_count": 10
         }
        },
        {
         "dtype": "float64",
         "name": "total_scoring_att",
         "stats": {
          "histogram": [
           {
            "bin_end": 387.6,
            "bin_start": 338,
            "count": 14
           },
           {
            "bin_end": 437.2,
            "bin_start": 387.6,
            "count": 40
           },
           {
            "bin_end": 486.8,
            "bin_start": 437.2,
            "count": 52
           },
           {
            "bin_end": 536.4,
            "bin_start": 486.8,
            "count": 53
           },
           {
            "bin_end": 586,
            "bin_start": 536.4,
            "count": 26
           },
           {
            "bin_end": 635.6,
            "bin_start": 586,
            "count": 19
           },
           {
            "bin_end": 685.2,
            "bin_start": 635.6,
            "count": 23
           },
           {
            "bin_end": 734.8,
            "bin_start": 685.2,
            "count": 7
           },
           {
            "bin_end": 784.4000000000001,
            "bin_start": 734.8,
            "count": 4
           },
           {
            "bin_end": 834,
            "bin_start": 784.4000000000001,
            "count": 2
           }
          ],
          "max": "834.0",
          "min": "338.0",
          "nan_count": 0,
          "unique_count": 170
         }
        },
        {
         "dtype": "float64",
         "name": "ontarget_scoring_att",
         "stats": {
          "histogram": [
           {
            "bin_end": 113.4,
            "bin_start": 94,
            "count": 8
           },
           {
            "bin_end": 132.8,
            "bin_start": 113.4,
            "count": 30
           },
           {
            "bin_end": 152.2,
            "bin_start": 132.8,
            "count": 67
           },
           {
            "bin_end": 171.6,
            "bin_start": 152.2,
            "count": 45
           },
           {
            "bin_end": 191,
            "bin_start": 171.6,
            "count": 24
           },
           {
            "bin_end": 210.39999999999998,
            "bin_start": 191,
            "count": 23
           },
           {
            "bin_end": 229.79999999999998,
            "bin_start": 210.39999999999998,
            "count": 20
           },
           {
            "bin_end": 249.2,
            "bin_start": 229.79999999999998,
            "count": 15
           },
           {
            "bin_end": 268.6,
            "bin_start": 249.2,
            "count": 7
           },
           {
            "bin_end": 288,
            "bin_start": 268.6,
            "count": 1
           }
          ],
          "max": "288.0",
          "min": "94.0",
          "nan_count": 0,
          "unique_count": 117
         }
        },
        {
         "dtype": "float64",
         "name": "hit_woodwork",
         "stats": {
          "histogram": [
           {
            "bin_end": 6.9,
            "bin_start": 4,
            "count": 18
           },
           {
            "bin_end": 9.8,
            "bin_start": 6.9,
            "count": 57
           },
           {
            "bin_end": 12.7,
            "bin_start": 9.8,
            "count": 66
           },
           {
            "bin_end": 15.6,
            "bin_start": 12.7,
            "count": 43
           },
           {
            "bin_end": 18.5,
            "bin_start": 15.6,
            "count": 25
           },
           {
            "bin_end": 21.4,
            "bin_start": 18.5,
            "count": 22
           },
           {
            "bin_end": 24.3,
            "bin_start": 21.4,
            "count": 6
           },
           {
            "bin_end": 27.2,
            "bin_start": 24.3,
            "count": 2
           },
           {
            "bin_end": 30.099999999999998,
            "bin_start": 27.2,
            "count": 0
           },
           {
            "bin_end": 33,
            "bin_start": 30.099999999999998,
            "count": 1
           }
          ],
          "max": "33.0",
          "min": "4.0",
          "nan_count": 0,
          "unique_count": 24
         }
        },
        {
         "dtype": "float64",
         "name": "att_hd_goal",
         "stats": {
          "histogram": [
           {
            "bin_end": 2.7,
            "bin_start": 1,
            "count": 6
           },
           {
            "bin_end": 4.4,
            "bin_start": 2.7,
            "count": 22
           },
           {
            "bin_end": 6.1,
            "bin_start": 4.4,
            "count": 36
           },
           {
            "bin_end": 7.8,
            "bin_start": 6.1,
            "count": 24
           },
           {
            "bin_end": 9.5,
            "bin_start": 7.8,
            "count": 42
           },
           {
            "bin_end": 11.2,
            "bin_start": 9.5,
            "count": 45
           },
           {
            "bin_end": 12.9,
            "bin_start": 11.2,
            "count": 20
           },
           {
            "bin_end": 14.6,
            "bin_start": 12.9,
            "count": 26
           },
           {
            "bin_end": 16.299999999999997,
            "bin_start": 14.6,
            "count": 16
           },
           {
            "bin_end": 18,
            "bin_start": 16.299999999999997,
            "count": 3
           }
          ],
          "max": "18.0",
          "min": "1.0",
          "nan_count": 0,
          "unique_count": 18
         }
        },
        {
         "dtype": "float64",
         "name": "att_pen_goal",
         "stats": {
          "histogram": [
           {
            "bin_end": 1.1,
            "bin_start": 0,
            "count": 36
           },
           {
            "bin_end": 2.2,
            "bin_start": 1.1,
            "count": 38
           },
           {
            "bin_end": 3.3000000000000003,
            "bin_start": 2.2,
            "count": 46
           },
           {
            "bin_end": 4.4,
            "bin_start": 3.3000000000000003,
            "count": 43
           },
           {
            "bin_end": 5.5,
            "bin_start": 4.4,
            "count": 38
           },
           {
            "bin_end": 6.6000000000000005,
            "bin_start": 5.5,
            "count": 21
           },
           {
            "bin_end": 7.700000000000001,
            "bin_start": 6.6000000000000005,
            "count": 9
           },
           {
            "bin_end": 8.8,
            "bin_start": 7.700000000000001,
            "count": 3
           },
           {
            "bin_end": 9.9,
            "bin_start": 8.8,
            "count": 2
           },
           {
            "bin_end": 11,
            "bin_start": 9.9,
            "count": 4
           }
          ],
          "max": "11.0",
          "min": "0.0",
          "nan_count": 0,
          "unique_count": 12
         }
        },
        {
         "dtype": "float64",
         "name": "att_freekick_goal",
         "stats": {
          "histogram": [
           {
            "bin_end": 0.6,
            "bin_start": 0,
            "count": 59
           },
           {
            "bin_end": 1.2,
            "bin_start": 0.6,
            "count": 78
           },
           {
            "bin_end": 1.7999999999999998,
            "bin_start": 1.2,
            "count": 0
           },
           {
            "bin_end": 2.4,
            "bin_start": 1.7999999999999998,
            "count": 61
           },
           {
            "bin_end": 3,
            "bin_start": 2.4,
            "count": 0
           },
           {
            "bin_end": 3.5999999999999996,
            "bin_start": 3,
            "count": 22
           },
           {
            "bin_end": 4.2,
            "bin_start": 3.5999999999999996,
            "count": 10
           },
           {
            "bin_end": 4.8,
            "bin_start": 4.2,
            "count": 0
           },
           {
            "bin_end": 5.3999999999999995,
            "bin_start": 4.8,
            "count": 7
           },
           {
            "bin_end": 6,
            "bin_start": 5.3999999999999995,
            "count": 3
           }
          ],
          "max": "6.0",
          "min": "0.0",
          "nan_count": 0,
          "unique_count": 7
         }
        },
        {
         "dtype": "float64",
         "name": "att_ibox_goal",
         "stats": {
          "histogram": [
           {
            "bin_end": 22.9,
            "bin_start": 15,
            "count": 4
           },
           {
            "bin_end": 30.8,
            "bin_start": 22.9,
            "count": 33
           },
           {
            "bin_end": 38.7,
            "bin_start": 30.8,
            "count": 75
           },
           {
            "bin_end": 46.6,
            "bin_start": 38.7,
            "count": 50
           },
           {
            "bin_end": 54.5,
            "bin_start": 46.6,
            "count": 29
           },
           {
            "bin_end": 62.400000000000006,
            "bin_start": 54.5,
            "count": 18
           },
           {
            "bin_end": 70.30000000000001,
            "bin_start": 62.400000000000006,
            "count": 17
           },
           {
            "bin_end": 78.2,
            "bin_start": 70.30000000000001,
            "count": 10
           },
           {
            "bin_end": 86.10000000000001,
            "bin_start": 78.2,
            "count": 2
           },
           {
            "bin_end": 94,
            "bin_start": 86.10000000000001,
            "count": 2
           }
          ],
          "max": "94.0",
          "min": "15.0",
          "nan_count": 0,
          "unique_count": 60
         }
        },
        {
         "dtype": "float64",
         "name": "att_obox_goal",
         "stats": {
          "histogram": [
           {
            "bin_end": 3.2,
            "bin_start": 1,
            "count": 23
           },
           {
            "bin_end": 5.4,
            "bin_start": 3.2,
            "count": 42
           },
           {
            "bin_end": 7.6000000000000005,
            "bin_start": 5.4,
            "count": 63
           },
           {
            "bin_end": 9.8,
            "bin_start": 7.6000000000000005,
            "count": 52
           },
           {
            "bin_end": 12,
            "bin_start": 9.8,
            "count": 24
           },
           {
            "bin_end": 14.200000000000001,
            "bin_start": 12,
            "count": 22
           },
           {
            "bin_end": 16.400000000000002,
            "bin_start": 14.200000000000001,
            "count": 9
           },
           {
            "bin_end": 18.6,
            "bin_start": 16.400000000000002,
            "count": 2
           },
           {
            "bin_end": 20.8,
            "bin_start": 18.6,
            "count": 2
           },
           {
            "bin_end": 23,
            "bin_start": 20.8,
            "count": 1
           }
          ],
          "max": "23.0",
          "min": "1.0",
          "nan_count": 0,
          "unique_count": 21
         }
        },
        {
         "dtype": "float64",
         "name": "goal_fastbreak",
         "stats": {
          "histogram": [
           {
            "bin_end": 1.2,
            "bin_start": 0,
            "count": 68
           },
           {
            "bin_end": 2.4,
            "bin_start": 1.2,
            "count": 54
           },
           {
            "bin_end": 3.5999999999999996,
            "bin_start": 2.4,
            "count": 43
           },
           {
            "bin_end": 4.8,
            "bin_start": 3.5999999999999996,
            "count": 23
           },
           {
            "bin_end": 6,
            "bin_start": 4.8,
            "count": 14
           },
           {
            "bin_end": 7.199999999999999,
            "bin_start": 6,
            "count": 24
           },
           {
            "bin_end": 8.4,
            "bin_start": 7.199999999999999,
            "count": 3
           },
           {
            "bin_end": 9.6,
            "bin_start": 8.4,
            "count": 8
           },
           {
            "bin_end": 10.799999999999999,
            "bin_start": 9.6,
            "count": 2
           },
           {
            "bin_end": 12,
            "bin_start": 10.799999999999999,
            "count": 1
           }
          ],
          "max": "12.0",
          "min": "0.0",
          "nan_count": 0,
          "unique_count": 12
         }
        },
        {
         "dtype": "float64",
         "name": "total_offside",
         "stats": {
          "histogram": [
           {
            "bin_end": 49.1,
            "bin_start": 38,
            "count": 5
           },
           {
            "bin_end": 60.2,
            "bin_start": 49.1,
            "count": 19
           },
           {
            "bin_end": 71.3,
            "bin_start": 60.2,
            "count": 30
           },
           {
            "bin_end": 82.4,
            "bin_start": 71.3,
            "count": 56
           },
           {
            "bin_end": 93.5,
            "bin_start": 82.4,
            "count": 55
           },
           {
            "bin_end": 104.6,
            "bin_start": 93.5,
            "count": 41
           },
           {
            "bin_end": 115.7,
            "bin_start": 104.6,
            "count": 10
           },
           {
            "bin_end": 126.8,
            "bin_start": 115.7,
            "count": 12
           },
           {
            "bin_end": 137.89999999999998,
            "bin_start": 126.8,
            "count": 6
           },
           {
            "bin_end": 149,
            "bin_start": 137.89999999999998,
            "count": 6
           }
          ],
          "max": "149.0",
          "min": "38.0",
          "nan_count": 0,
          "unique_count": 81
         }
        },
        {
         "dtype": "float64",
         "name": "clean_sheet",
         "stats": {
          "histogram": [
           {
            "bin_end": 4.2,
            "bin_start": 2,
            "count": 8
           },
           {
            "bin_end": 6.4,
            "bin_start": 4.2,
            "count": 20
           },
           {
            "bin_end": 8.600000000000001,
            "bin_start": 6.4,
            "count": 44
           },
           {
            "bin_end": 10.8,
            "bin_start": 8.600000000000001,
            "count": 53
           },
           {
            "bin_end": 13,
            "bin_start": 10.8,
            "count": 34
           },
           {
            "bin_end": 15.200000000000001,
            "bin_start": 13,
            "count": 45
           },
           {
            "bin_end": 17.400000000000002,
            "bin_start": 15.200000000000001,
            "count": 18
           },
           {
            "bin_end": 19.6,
            "bin_start": 17.400000000000002,
            "count": 10
           },
           {
            "bin_end": 21.8,
            "bin_start": 19.6,
            "count": 5
           },
           {
            "bin_end": 24,
            "bin_start": 21.8,
            "count": 3
           }
          ],
          "max": "24.0",
          "min": "2.0",
          "nan_count": 0,
          "unique_count": 22
         }
        },
        {
         "dtype": "float64",
         "name": "goals_conceded",
         "stats": {
          "histogram": [
           {
            "bin_end": 28.7,
            "bin_start": 22,
            "count": 14
           },
           {
            "bin_end": 35.4,
            "bin_start": 28.7,
            "count": 17
           },
           {
            "bin_end": 42.1,
            "bin_start": 35.4,
            "count": 32
           },
           {
            "bin_end": 48.8,
            "bin_start": 42.1,
            "count": 35
           },
           {
            "bin_end": 55.5,
            "bin_start": 48.8,
            "count": 56
           },
           {
            "bin_end": 62.2,
            "bin_start": 55.5,
            "count": 43
           },
           {
            "bin_end": 68.9,
            "bin_start": 62.2,
            "count": 23
           },
           {
            "bin_end": 75.6,
            "bin_start": 68.9,
            "count": 10
           },
           {
            "bin_end": 82.30000000000001,
            "bin_start": 75.6,
            "count": 8
           },
           {
            "bin_end": 89,
            "bin_start": 82.30000000000001,
            "count": 2
           }
          ],
          "max": "89.0",
          "min": "22.0",
          "nan_count": 0,
          "unique_count": 58
         }
        },
        {
         "dtype": "float64",
         "name": "saves",
         "stats": {
          "histogram": [
           {
            "bin_end": 17.6,
            "bin_start": 0,
            "count": 118
           },
           {
            "bin_end": 35.2,
            "bin_start": 17.6,
            "count": 2
           },
           {
            "bin_end": 52.800000000000004,
            "bin_start": 35.2,
            "count": 0
           },
           {
            "bin_end": 70.4,
            "bin_start": 52.800000000000004,
            "count": 4
           },
           {
            "bin_end": 88,
            "bin_start": 70.4,
            "count": 10
           },
           {
            "bin_end": 105.60000000000001,
            "bin_start": 88,
            "count": 26
           },
           {
            "bin_end": 123.20000000000002,
            "bin_start": 105.60000000000001,
            "count": 36
           },
           {
            "bin_end": 140.8,
            "bin_start": 123.20000000000002,
            "count": 13
           },
           {
            "bin_end": 158.4,
            "bin_start": 140.8,
            "count": 9
           },
           {
            "bin_end": 176,
            "bin_start": 158.4,
            "count": 2
           }
          ],
          "max": "176.0",
          "min": "0.0",
          "nan_count": 20,
          "unique_count": 74
         }
        },
        {
         "dtype": "float64",
         "name": "outfielder_block",
         "stats": {
          "histogram": [
           {
            "bin_end": 70.2,
            "bin_start": 53,
            "count": 8
           },
           {
            "bin_end": 87.4,
            "bin_start": 70.2,
            "count": 10
           },
           {
            "bin_end": 104.6,
            "bin_start": 87.4,
            "count": 30
           },
           {
            "bin_end": 121.8,
            "bin_start": 104.6,
            "count": 40
           },
           {
            "bin_end": 139,
            "bin_start": 121.8,
            "count": 49
           },
           {
            "bin_end": 156.2,
            "bin_start": 139,
            "count": 47
           },
           {
            "bin_end": 173.39999999999998,
            "bin_start": 156.2,
            "count": 31
           },
           {
            "bin_end": 190.6,
            "bin_start": 173.39999999999998,
            "count": 18
           },
           {
            "bin_end": 207.79999999999998,
            "bin_start": 190.6,
            "count": 5
           },
           {
            "bin_end": 225,
            "bin_start": 207.79999999999998,
            "count": 2
           }
          ],
          "max": "225.0",
          "min": "53.0",
          "nan_count": 0,
          "unique_count": 106
         }
        },
        {
         "dtype": "float64",
         "name": "interception",
         "stats": {
          "histogram": [
           {
            "bin_end": 265.4,
            "bin_start": 198,
            "count": 13
           },
           {
            "bin_end": 332.8,
            "bin_start": 265.4,
            "count": 6
           },
           {
            "bin_end": 400.20000000000005,
            "bin_start": 332.8,
            "count": 10
           },
           {
            "bin_end": 467.6,
            "bin_start": 400.20000000000005,
            "count": 28
           },
           {
            "bin_end": 535,
            "bin_start": 467.6,
            "count": 44
           },
           {
            "bin_end": 602.4000000000001,
            "bin_start": 535,
            "count": 48
           },
           {
            "bin_end": 669.8000000000001,
            "bin_start": 602.4000000000001,
            "count": 41
           },
           {
            "bin_end": 737.2,
            "bin_start": 669.8000000000001,
            "count": 26
           },
           {
            "bin_end": 804.6,
            "bin_start": 737.2,
            "count": 18
           },
           {
            "bin_end": 872,
            "bin_start": 804.6,
            "count": 6
           }
          ],
          "max": "872.0",
          "min": "198.0",
          "nan_count": 0,
          "unique_count": 190
         }
        },
        {
         "dtype": "float64",
         "name": "total_tackle",
         "stats": {
          "histogram": [
           {
            "bin_end": 566.1,
            "bin_start": 508,
            "count": 4
           },
           {
            "bin_end": 624.2,
            "bin_start": 566.1,
            "count": 17
           },
           {
            "bin_end": 682.3,
            "bin_start": 624.2,
            "count": 36
           },
           {
            "bin_end": 740.4,
            "bin_start": 682.3,
            "count": 54
           },
           {
            "bin_end": 798.5,
            "bin_start": 740.4,
            "count": 47
           },
           {
            "bin_end": 856.6,
            "bin_start": 798.5,
            "count": 34
           },
           {
            "bin_end": 914.7,
            "bin_start": 856.6,
            "count": 24
           },
           {
            "bin_end": 972.8,
            "bin_start": 914.7,
            "count": 17
           },
           {
            "bin_end": 1030.9,
            "bin_start": 972.8,
            "count": 6
           },
           {
            "bin_end": 1089,
            "bin_start": 1030.9,
            "count": 1
           }
          ],
          "max": "1089.0",
          "min": "508.0",
          "nan_count": 0,
          "unique_count": 178
         }
        },
        {
         "dtype": "float64",
         "name": "last_man_tackle",
         "stats": {
          "histogram": [
           {
            "bin_end": 2.6,
            "bin_start": 0,
            "count": 75
           },
           {
            "bin_end": 5.2,
            "bin_start": 2.6,
            "count": 70
           },
           {
            "bin_end": 7.800000000000001,
            "bin_start": 5.2,
            "count": 28
           },
           {
            "bin_end": 10.4,
            "bin_start": 7.800000000000001,
            "count": 22
           },
           {
            "bin_end": 13,
            "bin_start": 10.4,
            "count": 12
           },
           {
            "bin_end": 15.600000000000001,
            "bin_start": 13,
            "count": 16
           },
           {
            "bin_end": 18.2,
            "bin_start": 15.600000000000001,
            "count": 8
           },
           {
            "bin_end": 20.8,
            "bin_start": 18.2,
            "count": 4
           },
           {
            "bin_end": 23.400000000000002,
            "bin_start": 20.8,
            "count": 3
           },
           {
            "bin_end": 26,
            "bin_start": 23.400000000000002,
            "count": 2
           }
          ],
          "max": "26.0",
          "min": "0.0",
          "nan_count": 0,
          "unique_count": 26
         }
        },
        {
         "dtype": "float64",
         "name": "total_clearance",
         "stats": {
          "histogram": [
           {
            "bin_end": 751.2,
            "bin_start": 588,
            "count": 3
           },
           {
            "bin_end": 914.4,
            "bin_start": 751.2,
            "count": 23
           },
           {
            "bin_end": 1077.6,
            "bin_start": 914.4,
            "count": 58
           },
           {
            "bin_end": 1240.8,
            "bin_start": 1077.6,
            "count": 57
           },
           {
            "bin_end": 1404,
            "bin_start": 1240.8,
            "count": 35
           },
           {
            "bin_end": 1567.1999999999998,
            "bin_start": 1404,
            "count": 24
           },
           {
            "bin_end": 1730.3999999999999,
            "bin_start": 1567.1999999999998,
            "count": 18
           },
           {
            "bin_end": 1893.6,
            "bin_start": 1730.3999999999999,
            "count": 7
           },
           {
            "bin_end": 2056.8,
            "bin_start": 1893.6,
            "count": 7
           },
           {
            "bin_end": 2220,
            "bin_start": 2056.8,
            "count": 8
           }
          ],
          "max": "2220.0",
          "min": "588.0",
          "nan_count": 0,
          "unique_count": 209
         }
        },
        {
         "dtype": "float64",
         "name": "head_clearance",
         "stats": {
          "histogram": [
           {
            "bin_end": 395.5,
            "bin_start": 308,
            "count": 5
           },
           {
            "bin_end": 483,
            "bin_start": 395.5,
            "count": 21
           },
           {
            "bin_end": 570.5,
            "bin_start": 483,
            "count": 48
           },
           {
            "bin_end": 658,
            "bin_start": 570.5,
            "count": 44
           },
           {
            "bin_end": 745.5,
            "bin_start": 658,
            "count": 30
           },
           {
            "bin_end": 833,
            "bin_start": 745.5,
            "count": 23
           },
           {
            "bin_end": 920.5,
            "bin_start": 833,
            "count": 23
           },
           {
            "bin_end": 1008,
            "bin_start": 920.5,
            "count": 13
           },
           {
            "bin_end": 1095.5,
            "bin_start": 1008,
            "count": 10
           },
           {
            "bin_end": 1183,
            "bin_start": 1095.5,
            "count": 3
           }
          ],
          "max": "1183.0",
          "min": "308.0",
          "nan_count": 20,
          "unique_count": 189
         }
        },
        {
         "dtype": "float64",
         "name": "own_goals",
         "stats": {
          "histogram": [
           {
            "bin_end": 0.6,
            "bin_start": 0,
            "count": 33
           },
           {
            "bin_end": 1.2,
            "bin_start": 0.6,
            "count": 70
           },
           {
            "bin_end": 1.7999999999999998,
            "bin_start": 1.2,
            "count": 0
           },
           {
            "bin_end": 2.4,
            "bin_start": 1.7999999999999998,
            "count": 73
           },
           {
            "bin_end": 3,
            "bin_start": 2.4,
            "count": 0
           },
           {
            "bin_end": 3.5999999999999996,
            "bin_start": 3,
            "count": 27
           },
           {
            "bin_end": 4.2,
            "bin_start": 3.5999999999999996,
            "count": 13
           },
           {
            "bin_end": 4.8,
            "bin_start": 4.2,
            "count": 0
           },
           {
            "bin_end": 5.3999999999999995,
            "bin_start": 4.8,
            "count": 21
           },
           {
            "bin_end": 6,
            "bin_start": 5.3999999999999995,
            "count": 3
           }
          ],
          "max": "6.0",
          "min": "0.0",
          "nan_count": 0,
          "unique_count": 7
         }
        },
        {
         "dtype": "float64",
         "name": "penalty_conceded",
         "stats": {
          "histogram": [
           {
            "bin_end": 1.3,
            "bin_start": 0,
            "count": 15
           },
           {
            "bin_end": 2.6,
            "bin_start": 1.3,
            "count": 28
           },
           {
            "bin_end": 3.9000000000000004,
            "bin_start": 2.6,
            "count": 32
           },
           {
            "bin_end": 5.2,
            "bin_start": 3.9000000000000004,
            "count": 73
           },
           {
            "bin_end": 6.5,
            "bin_start": 5.2,
            "count": 42
           },
           {
            "bin_end": 7.800000000000001,
            "bin_start": 6.5,
            "count": 22
           },
           {
            "bin_end": 9.1,
            "bin_start": 7.800000000000001,
            "count": 24
           },
           {
            "bin_end": 10.4,
            "bin_start": 9.1,
            "count": 2
           },
           {
            "bin_end": 11.700000000000001,
            "bin_start": 10.4,
            "count": 1
           },
           {
            "bin_end": 13,
            "bin_start": 11.700000000000001,
            "count": 1
           }
          ],
          "max": "13.0",
          "min": "0.0",
          "nan_count": 0,
          "unique_count": 13
         }
        },
        {
         "dtype": "float64",
         "name": "pen_goals_conceded",
         "stats": {
          "histogram": [
           {
            "bin_end": 1.1,
            "bin_start": 0,
            "count": 26
           },
           {
            "bin_end": 2.2,
            "bin_start": 1.1,
            "count": 49
           },
           {
            "bin_end": 3.3000000000000003,
            "bin_start": 2.2,
            "count": 48
           },
           {
            "bin_end": 4.4,
            "bin_start": 3.3000000000000003,
            "count": 42
           },
           {
            "bin_end": 5.5,
            "bin_start": 4.4,
            "count": 35
           },
           {
            "bin_end": 6.6000000000000005,
            "bin_start": 5.5,
            "count": 23
           },
           {
            "bin_end": 7.700000000000001,
            "bin_start": 6.6000000000000005,
            "count": 10
           },
           {
            "bin_end": 8.8,
            "bin_start": 7.700000000000001,
            "count": 3
           },
           {
            "bin_end": 9.9,
            "bin_start": 8.8,
            "count": 2
           },
           {
            "bin_end": 11,
            "bin_start": 9.9,
            "count": 2
           }
          ],
          "max": "11.0",
          "min": "0.0",
          "nan_count": 0,
          "unique_count": 12
         }
        },
        {
         "dtype": "float64",
         "name": "total_pass",
         "stats": {
          "histogram": [
           {
            "bin_end": 11354.3,
            "bin_start": 9478,
            "count": 12
           },
           {
            "bin_end": 13230.6,
            "bin_start": 11354.3,
            "count": 44
           },
           {
            "bin_end": 15106.9,
            "bin_start": 13230.6,
            "count": 69
           },
           {
            "bin_end": 16983.2,
            "bin_start": 15106.9,
            "count": 39
           },
           {
            "bin_end": 18859.5,
            "bin_start": 16983.2,
            "count": 28
           },
           {
            "bin_end": 20735.8,
            "bin_start": 18859.5,
            "count": 31
           },
           {
            "bin_end": 22612.1,
            "bin_start": 20735.8,
            "count": 13
           },
           {
            "bin_end": 24488.4,
            "bin_start": 22612.1,
            "count": 3
           },
           {
            "bin_end": 26364.7,
            "bin_start": 24488.4,
            "count": 0
           },
           {
            "bin_end": 28241,
            "bin_start": 26364.7,
            "count": 1
           }
          ],
          "max": "28241.0",
          "min": "9478.0",
          "nan_count": 0,
          "unique_count": 236
         }
        },
        {
         "dtype": "float64",
         "name": "total_through_ball",
         "stats": {
          "histogram": [
           {
            "bin_end": 48.1,
            "bin_start": 12,
            "count": 79
           },
           {
            "bin_end": 84.2,
            "bin_start": 48.1,
            "count": 61
           },
           {
            "bin_end": 120.30000000000001,
            "bin_start": 84.2,
            "count": 34
           },
           {
            "bin_end": 156.4,
            "bin_start": 120.30000000000001,
            "count": 19
           },
           {
            "bin_end": 192.5,
            "bin_start": 156.4,
            "count": 11
           },
           {
            "bin_end": 228.60000000000002,
            "bin_start": 192.5,
            "count": 7
           },
           {
            "bin_end": 264.70000000000005,
            "bin_start": 228.60000000000002,
            "count": 3
           },
           {
            "bin_end": 300.8,
            "bin_start": 264.70000000000005,
            "count": 3
           },
           {
            "bin_end": 336.90000000000003,
            "bin_start": 300.8,
            "count": 2
           },
           {
            "bin_end": 373,
            "bin_start": 336.90000000000003,
            "count": 1
           }
          ],
          "max": "373.0",
          "min": "12.0",
          "nan_count": 20,
          "unique_count": 122
         }
        },
        {
         "dtype": "float64",
         "name": "total_long_balls",
         "stats": {
          "histogram": [
           {
            "bin_end": 1633.4,
            "bin_start": 1462,
            "count": 2
           },
           {
            "bin_end": 1804.8,
            "bin_start": 1633.4,
            "count": 10
           },
           {
            "bin_end": 1976.2,
            "bin_start": 1804.8,
            "count": 18
           },
           {
            "bin_end": 2147.6,
            "bin_start": 1976.2,
            "count": 53
           },
           {
            "bin_end": 2319,
            "bin_start": 2147.6,
            "count": 57
           },
           {
            "bin_end": 2490.4,
            "bin_start": 2319,
            "count": 42
           },
           {
            "bin_end": 2661.8,
            "bin_start": 2490.4,
            "count": 31
           },
           {
            "bin_end": 2833.2,
            "bin_start": 2661.8,
            "count": 19
           },
           {
            "bin_end": 3004.6000000000004,
            "bin_start": 2833.2,
            "count": 5
           },
           {
            "bin_end": 3176,
            "bin_start": 3004.6000000000004,
            "count": 3
           }
          ],
          "max": "3176.0",
          "min": "1462.0",
          "nan_count": 0,
          "unique_count": 209
         }
        },
        {
         "dtype": "float64",
         "name": "backward_pass",
         "stats": {
          "histogram": [
           {
            "bin_end": 1698.4,
            "bin_start": 1382,
            "count": 4
           },
           {
            "bin_end": 2014.8,
            "bin_start": 1698.4,
            "count": 23
           },
           {
            "bin_end": 2331.2,
            "bin_start": 2014.8,
            "count": 51
           },
           {
            "bin_end": 2647.6,
            "bin_start": 2331.2,
            "count": 27
           },
           {
            "bin_end": 2964,
            "bin_start": 2647.6,
            "count": 31
           },
           {
            "bin_end": 3280.3999999999996,
            "bin_start": 2964,
            "count": 16
           },
           {
            "bin_end": 3596.7999999999997,
            "bin_start": 3280.3999999999996,
            "count": 5
           },
           {
            "bin_end": 3913.2,
            "bin_start": 3596.7999999999997,
            "count": 2
           },
           {
            "bin_end": 4229.6,
            "bin_start": 3913.2,
            "count": 0
           },
           {
            "bin_end": 4546,
            "bin_start": 4229.6,
            "count": 1
           }
          ],
          "max": "4546.0",
          "min": "1382.0",
          "nan_count": 80,
          "unique_count": 155
         }
        },
        {
         "dtype": "float64",
         "name": "total_cross",
         "stats": {
          "histogram": [
           {
            "bin_end": 630.4,
            "bin_start": 572,
            "count": 9
           },
           {
            "bin_end": 688.8,
            "bin_start": 630.4,
            "count": 16
           },
           {
            "bin_end": 747.2,
            "bin_start": 688.8,
            "count": 34
           },
           {
            "bin_end": 805.6,
            "bin_start": 747.2,
            "count": 51
           },
           {
            "bin_end": 864,
            "bin_start": 805.6,
            "count": 38
           },
           {
            "bin_end": 922.4,
            "bin_start": 864,
            "count": 36
           },
           {
            "bin_end": 980.8,
            "bin_start": 922.4,
            "count": 25
           },
           {
            "bin_end": 1039.2,
            "bin_start": 980.8,
            "count": 22
           },
           {
            "bin_end": 1097.6,
            "bin_start": 1039.2,
            "count": 4
           },
           {
            "bin_end": 1156,
            "bin_start": 1097.6,
            "count": 5
           }
          ],
          "max": "1156.0",
          "min": "572.0",
          "nan_count": 0,
          "unique_count": 185
         }
        },
        {
         "dtype": "float64",
         "name": "corner_taken",
         "stats": {
          "histogram": [
           {
            "bin_end": 153.3,
            "bin_start": 136,
            "count": 10
           },
           {
            "bin_end": 170.6,
            "bin_start": 153.3,
            "count": 25
           },
           {
            "bin_end": 187.9,
            "bin_start": 170.6,
            "count": 48
           },
           {
            "bin_end": 205.2,
            "bin_start": 187.9,
            "count": 46
           },
           {
            "bin_end": 222.5,
            "bin_start": 205.2,
            "count": 37
           },
           {
            "bin_end": 239.8,
            "bin_start": 222.5,
            "count": 25
           },
           {
            "bin_end": 257.1,
            "bin_start": 239.8,
            "count": 24
           },
           {
            "bin_end": 274.4,
            "bin_start": 257.1,
            "count": 12
           },
           {
            "bin_end": 291.70000000000005,
            "bin_start": 274.4,
            "count": 11
           },
           {
            "bin_end": 309,
            "bin_start": 291.70000000000005,
            "count": 2
           }
          ],
          "max": "309.0",
          "min": "136.0",
          "nan_count": 0,
          "unique_count": 109
         }
        },
        {
         "dtype": "float64",
         "name": "touches",
         "stats": {
          "histogram": [
           {
            "bin_end": 18607.8,
            "bin_start": 16772,
            "count": 5
           },
           {
            "bin_end": 20443.6,
            "bin_start": 18607.8,
            "count": 28
           },
           {
            "bin_end": 22279.4,
            "bin_start": 20443.6,
            "count": 53
           },
           {
            "bin_end": 24115.2,
            "bin_start": 22279.4,
            "count": 54
           },
           {
            "bin_end": 25951,
            "bin_start": 24115.2,
            "count": 33
           },
           {
            "bin_end": 27786.8,
            "bin_start": 25951,
            "count": 30
           },
           {
            "bin_end": 29622.6,
            "bin_start": 27786.8,
            "count": 25
           },
           {
            "bin_end": 31458.4,
            "bin_start": 29622.6,
            "count": 11
           },
           {
            "bin_end": 33294.2,
            "bin_start": 31458.4,
            "count": 0
           },
           {
            "bin_end": 35130,
            "bin_start": 33294.2,
            "count": 1
           }
          ],
          "max": "35130.0",
          "min": "16772.0",
          "nan_count": 0,
          "unique_count": 235
         }
        },
        {
         "dtype": "float64",
         "name": "big_chance_missed",
         "stats": {
          "histogram": [
           {
            "bin_end": 25,
            "bin_start": 18,
            "count": 14
           },
           {
            "bin_end": 32,
            "bin_start": 25,
            "count": 36
           },
           {
            "bin_end": 39,
            "bin_start": 32,
            "count": 39
           },
           {
            "bin_end": 46,
            "bin_start": 39,
            "count": 34
           },
           {
            "bin_end": 53,
            "bin_start": 46,
            "count": 15
           },
           {
            "bin_end": 60,
            "bin_start": 53,
            "count": 4
           },
           {
            "bin_end": 67,
            "bin_start": 60,
            "count": 12
           },
           {
            "bin_end": 74,
            "bin_start": 67,
            "count": 3
           },
           {
            "bin_end": 81,
            "bin_start": 74,
            "count": 1
           },
           {
            "bin_end": 88,
            "bin_start": 81,
            "count": 2
           }
          ],
          "max": "88.0",
          "min": "18.0",
          "nan_count": 80,
          "unique_count": 49
         }
        },
        {
         "dtype": "float64",
         "name": "clearance_off_line",
         "stats": {
          "histogram": [
           {
            "bin_end": 1.6,
            "bin_start": 0,
            "count": 18
           },
           {
            "bin_end": 3.2,
            "bin_start": 1.6,
            "count": 63
           },
           {
            "bin_end": 4.800000000000001,
            "bin_start": 3.2,
            "count": 36
           },
           {
            "bin_end": 6.4,
            "bin_start": 4.800000000000001,
            "count": 58
           },
           {
            "bin_end": 8,
            "bin_start": 6.4,
            "count": 20
           },
           {
            "bin_end": 9.600000000000001,
            "bin_start": 8,
            "count": 30
           },
           {
            "bin_end": 11.200000000000001,
            "bin_start": 9.600000000000001,
            "count": 9
           },
           {
            "bin_end": 12.8,
            "bin_start": 11.200000000000001,
            "count": 4
           },
           {
            "bin_end": 14.4,
            "bin_start": 12.8,
            "count": 0
           },
           {
            "bin_end": 16,
            "bin_start": 14.4,
            "count": 2
           }
          ],
          "max": "16.0",
          "min": "0.0",
          "nan_count": 0,
          "unique_count": 14
         }
        },
        {
         "dtype": "float64",
         "name": "dispossessed",
         "stats": {
          "histogram": [
           {
            "bin_end": 344,
            "bin_start": 296,
            "count": 6
           },
           {
            "bin_end": 392,
            "bin_start": 344,
            "count": 31
           },
           {
            "bin_end": 440,
            "bin_start": 392,
            "count": 45
           },
           {
            "bin_end": 488,
            "bin_start": 440,
            "count": 52
           },
           {
            "bin_end": 536,
            "bin_start": 488,
            "count": 40
           },
           {
            "bin_end": 584,
            "bin_start": 536,
            "count": 22
           },
           {
            "bin_end": 632,
            "bin_start": 584,
            "count": 16
           },
           {
            "bin_end": 680,
            "bin_start": 632,
            "count": 2
           },
           {
            "bin_end": 728,
            "bin_start": 680,
            "count": 5
           },
           {
            "bin_end": 776,
            "bin_start": 728,
            "count": 1
           }
          ],
          "max": "776.0",
          "min": "296.0",
          "nan_count": 20,
          "unique_count": 155
         }
        },
        {
         "dtype": "float64",
         "name": "penalty_save",
         "stats": {
          "histogram": [
           {
            "bin_end": 0.5,
            "bin_start": 0,
            "count": 112
           },
           {
            "bin_end": 1,
            "bin_start": 0.5,
            "count": 0
           },
           {
            "bin_end": 1.5,
            "bin_start": 1,
            "count": 69
           },
           {
            "bin_end": 2,
            "bin_start": 1.5,
            "count": 0
           },
           {
            "bin_end": 2.5,
            "bin_start": 2,
            "count": 48
           },
           {
            "bin_end": 3,
            "bin_start": 2.5,
            "count": 0
           },
           {
            "bin_end": 3.5,
            "bin_start": 3,
            "count": 9
           },
           {
            "bin_end": 4,
            "bin_start": 3.5,
            "count": 0
           },
           {
            "bin_end": 4.5,
            "bin_start": 4,
            "count": 1
           },
           {
            "bin_end": 5,
            "bin_start": 4.5,
            "count": 1
           }
          ],
          "max": "5.0",
          "min": "0.0",
          "nan_count": 0,
          "unique_count": 6
         }
        },
        {
         "dtype": "float64",
         "name": "total_high_claim",
         "stats": {
          "histogram": [
           {
            "bin_end": 28.9,
            "bin_start": 19,
            "count": 17
           },
           {
            "bin_end": 38.8,
            "bin_start": 28.9,
            "count": 32
           },
           {
            "bin_end": 48.7,
            "bin_start": 38.8,
            "count": 44
           },
           {
            "bin_end": 58.6,
            "bin_start": 48.7,
            "count": 53
           },
           {
            "bin_end": 68.5,
            "bin_start": 58.6,
            "count": 39
           },
           {
            "bin_end": 78.4,
            "bin_start": 68.5,
            "count": 30
           },
           {
            "bin_end": 88.3,
            "bin_start": 78.4,
            "count": 16
           },
           {
            "bin_end": 98.2,
            "bin_start": 88.3,
            "count": 3
           },
           {
            "bin_end": 108.10000000000001,
            "bin_start": 98.2,
            "count": 3
           },
           {
            "bin_end": 118,
            "bin_start": 108.10000000000001,
            "count": 3
           }
          ],
          "max": "118.0",
          "min": "19.0",
          "nan_count": 0,
          "unique_count": 74
         }
        },
        {
         "dtype": "float64",
         "name": "punches",
         "stats": {
          "histogram": [
           {
            "bin_end": 10.2,
            "bin_start": 4,
            "count": 13
           },
           {
            "bin_end": 16.4,
            "bin_start": 10.2,
            "count": 46
           },
           {
            "bin_end": 22.6,
            "bin_start": 16.4,
            "count": 67
           },
           {
            "bin_end": 28.8,
            "bin_start": 22.6,
            "count": 69
           },
           {
            "bin_end": 35,
            "bin_start": 28.8,
            "count": 18
           },
           {
            "bin_end": 41.2,
            "bin_start": 35,
            "count": 20
           },
           {
            "bin_end": 47.4,
            "bin_start": 41.2,
            "count": 3
           },
           {
            "bin_end": 53.6,
            "bin_start": 47.4,
            "count": 2
           },
           {
            "bin_end": 59.800000000000004,
            "bin_start": 53.6,
            "count": 1
           },
           {
            "bin_end": 66,
            "bin_start": 59.800000000000004,
            "count": 1
           }
          ],
          "max": "66.0",
          "min": "4.0",
          "nan_count": 0,
          "unique_count": 44
         }
        },
        {
         "dtype": "object",
         "name": "season",
         "stats": {
          "categories": [
           {
            "count": 20,
            "name": "2006-2007"
           },
           {
            "count": 20,
            "name": "2007-2008"
           },
           {
            "count": 200,
            "name": "10 others"
           }
          ],
          "nan_count": 0,
          "unique_count": 12
         }
        },
        {
         "dtype": "int64",
         "name": "_deepnote_index_column"
        }
       ],
       "row_count": 240,
       "rows": [
        {
         "_deepnote_index_column": 0,
         "att_freekick_goal": 1,
         "att_hd_goal": 12,
         "att_ibox_goal": 72,
         "att_obox_goal": 11,
         "att_pen_goal": 5,
         "backward_pass": "nan",
         "big_chance_missed": "nan",
         "clean_sheet": 16,
         "clearance_off_line": 1,
         "corner_taken": 258,
         "dispossessed": "nan",
         "goal_fastbreak": 9,
         "goals": 83,
         "goals_conceded": 27,
         "head_clearance": "nan",
         "hit_woodwork": 21,
         "interception": 254,
         "last_man_tackle": 1,
         "losses": 5,
         "ontarget_scoring_att": 256,
         "outfielder_block": 81,
         "own_goals": 1,
         "pen_goals_conceded": 3,
         "penalty_conceded": 5,
         "penalty_save": 2,
         "punches": 25,
         "saves": 2,
         "season": "2006-2007",
         "team": "Manchester United",
         "total_clearance": 1222,
         "total_cross": 918,
         "total_high_claim": 37,
         "total_long_balls": 2397,
         "total_offside": 80,
         "total_pass": 18723,
         "total_red_card": 1,
         "total_scoring_att": 698,
         "total_tackle": 890,
         "total_through_ball": "nan",
         "total_yel_card": 60,
         "touches": 25686,
         "wins": 28
        },
        {
         "_deepnote_index_column": 1,
         "att_freekick_goal": 6,
         "att_hd_goal": 16,
         "att_ibox_goal": 41,
         "att_obox_goal": 23,
         "att_pen_goal": 3,
         "backward_pass": "nan",
         "big_chance_missed": "nan",
         "clean_sheet": 22,
         "clearance_off_line": 2,
         "corner_taken": 231,
         "dispossessed": "nan",
         "goal_fastbreak": 6,
         "goals": 64,
         "goals_conceded": 24,
         "head_clearance": "nan",
         "hit_woodwork": 14,
         "interception": 292,
         "last_man_tackle": 0,
         "losses": 3,
         "ontarget_scoring_att": 216,
         "outfielder_block": 74,
         "own_goals": 1,
         "pen_goals_conceded": 2,
         "penalty_conceded": 3,
         "penalty_save": 1,
         "punches": 22,
         "saves": 4,
         "season": "2006-2007",
         "team": "Chelsea",
         "total_clearance": 1206,
         "total_cross": 897,
         "total_high_claim": 74,
         "total_long_balls": 2270,
         "total_offside": 127,
         "total_pass": 16759,
         "total_red_card": 4,
         "total_scoring_att": 636,
         "total_tackle": 982,
         "total_through_ball": "nan",
         "total_yel_card": 62,
         "touches": 24010,
         "wins": 24
        },
        {
         "_deepnote_index_column": 2,
         "att_freekick_goal": 1,
         "att_hd_goal": 8,
         "att_ibox_goal": 46,
         "att_obox_goal": 11,
         "att_pen_goal": 6,
         "backward_pass": "nan",
         "big_chance_missed": "nan",
         "clean_sheet": 20,
         "clearance_off_line": 1,
         "corner_taken": 282,
         "dispossessed": "nan",
         "goal_fastbreak": 3,
         "goals": 57,
         "goals_conceded": 27,
         "head_clearance": "nan",
         "hit_woodwork": 15,
         "interception": 246,
         "last_man_tackle": 2,
         "losses": 10,
         "ontarget_scoring_att": 214,
         "outfielder_block": 65,
         "own_goals": 0,
         "pen_goals_conceded": 1,
         "penalty_conceded": 1,
         "penalty_save": 0,
         "punches": 27,
         "saves": 1,
         "season": "2006-2007",
         "team": "Liverpool",
         "total_clearance": 1115,
         "total_cross": 1107,
         "total_high_claim": 51,
         "total_long_balls": 2800,
         "total_offside": 120,
         "total_pass": 17154,
         "total_red_card": 0,
         "total_scoring_att": 668,
         "total_tackle": 969,
         "total_through_ball": "nan",
         "total_yel_card": 44,
         "touches": 24150,
         "wins": 20
        },
        {
         "_deepnote_index_column": 3,
         "att_freekick_goal": 3,
         "att_hd_goal": 10,
         "att_ibox_goal": 53,
         "att_obox_goal": 10,
         "att_pen_goal": 10,
         "backward_pass": "nan",
         "big_chance_missed": "nan",
         "clean_sheet": 12,
         "clearance_off_line": 1,
         "corner_taken": 278,
         "dispossessed": "nan",
         "goal_fastbreak": 7,
         "goals": 63,
         "goals_conceded": 35,
         "head_clearance": "nan",
         "hit_woodwork": 19,
         "interception": 214,
         "last_man_tackle": 1,
         "losses": 8,
         "ontarget_scoring_att": 226,
         "outfielder_block": 73,
         "own_goals": 1,
         "pen_goals_conceded": 3,
         "penalty_conceded": 3,
         "penalty_save": 0,
         "punches": 27,
         "saves": 6,
         "season": "2006-2007",
         "team": "Arsenal",
         "total_clearance": 1202,
         "total_cross": 873,
         "total_high_claim": 88,
         "total_long_balls": 2045,
         "total_offside": 111,
         "total_pass": 18458,
         "total_red_card": 3,
         "total_scoring_att": 638,
         "total_tackle": 998,
         "total_through_ball": "nan",
         "total_yel_card": 59,
         "touches": 25592,
         "wins": 19
        },
        {
         "_deepnote_index_column": 4,
         "att_freekick_goal": 2,
         "att_hd_goal": 5,
         "att_ibox_goal": 44,
         "att_obox_goal": 13,
         "att_pen_goal": 6,
         "backward_pass": "nan",
         "big_chance_missed": "nan",
         "clean_sheet": 6,
         "clearance_off_line": 2,
         "corner_taken": 181,
         "dispossessed": "nan",
         "goal_fastbreak": 9,
         "goals": 57,
         "goals_conceded": 54,
         "head_clearance": "nan",
         "hit_woodwork": 6,
         "interception": 276,
         "last_man_tackle": 2,
         "losses": 12,
         "ontarget_scoring_att": 184,
         "outfielder_block": 128,
         "own_goals": 2,
         "pen_goals_conceded": 6,
         "penalty_conceded": 7,
         "penalty_save": 0,
         "punches": 24,
         "saves": 11,
         "season": "2006-2007",
         "team": "Tottenham Hotspur",
         "total_clearance": 1412,
         "total_cross": 796,
         "total_high_claim": 51,
         "total_long_balls": 2408,
         "total_offside": 149,
         "total_pass": 14914,
         "total_red_card": 3,
         "total_scoring_att": 520,
         "total_tackle": 995,
         "total_through_ball": "nan",
         "total_yel_card": 48,
         "touches": 22200,
         "wins": 17
        },
        {
         "_deepnote_index_column": 5,
         "att_freekick_goal": 0,
         "att_hd_goal": 10,
         "att_ibox_goal": 38,
         "att_obox_goal": 9,
         "att_pen_goal": 6,
         "backward_pass": "nan",
         "big_chance_missed": "nan",
         "clean_sheet": 12,
         "clearance_off_line": 6,
         "corner_taken": 217,
         "dispossessed": "nan",
         "goal_fastbreak": 3,
         "goals": 47,
         "goals_conceded": 52,
         "head_clearance": "nan",
         "hit_woodwork": 7,
         "interception": 235,
         "last_man_tackle": 0,
         "losses": 14,
         "ontarget_scoring_att": 120,
         "outfielder_block": 101,
         "own_goals": 3,
         "pen_goals_conceded": 6,
         "penalty_conceded": 8,
         "penalty_save": 2,
         "punches": 21,
         "saves": 13,
         "season": "2006-2007",
         "team": "Bolton Wanderers",
         "total_clearance": 1037,
         "total_cross": 942,
         "total_high_claim": 44,
         "total_long_balls": 2403,
         "total_offside": 95,
         "total_pass": 12400,
         "total_red_card": 4,
         "total_scoring_att": 404,
         "total_tackle": 811,
         "total_through_ball": "nan",
         "total_yel_card": 84,
         "touches": 18932,
         "wins": 16
        },
        {
         "_deepnote_index_column": 6,
         "att_freekick_goal": 0,
         "att_hd_goal": 15,
         "att_ibox_goal": 42,
         "att_obox_goal": 10,
         "att_pen_goal": 3,
         "backward_pass": "nan",
         "big_chance_missed": "nan",
         "clean_sheet": 13,
         "clearance_off_line": 2,
         "corner_taken": 280,
         "dispossessed": "nan",
         "goal_fastbreak": 3,
         "goals": 52,
         "goals_conceded": 47,
         "head_clearance": "nan",
         "hit_woodwork": 8,
         "interception": 277,
         "last_man_tackle": 0,
         "losses": 15,
         "ontarget_scoring_att": 132,
         "outfielder_block": 95,
         "own_goals": 3,
         "pen_goals_conceded": 6,
         "penalty_conceded": 6,
         "penalty_save": 0,
         "punches": 21,
         "saves": 4,
         "season": "2006-2007",
         "team": "Reading",
         "total_clearance": 1022,
         "total_cross": 1067,
         "total_high_claim": 63,
         "total_long_balls": 2378,
         "total_offside": 87,
         "total_pass": 11232,
         "total_red_card": 3,
         "total_scoring_att": 419,
         "total_tackle": 855,
         "total_through_ball": "nan",
         "total_yel_card": 38,
         "touches": 18017,
         "wins": 16
        },
        {
         "_deepnote_index_column": 7,
         "att_freekick_goal": 3,
         "att_hd_goal": 12,
         "att_ibox_goal": 43,
         "att_obox_goal": 9,
         "att_pen_goal": 5,
         "backward_pass": "nan",
         "big_chance_missed": "nan",
         "clean_sheet": 8,
         "clearance_off_line": 8,
         "corner_taken": 205,
         "dispossessed": "nan",
         "goal_fastbreak": 2,
         "goals": 52,
         "goals_conceded": 54,
         "head_clearance": "nan",
         "hit_woodwork": 5,
         "interception": 282,
         "last_man_tackle": 2,
         "losses": 16,
         "ontarget_scoring_att": 155,
         "outfielder_block": 114,
         "own_goals": 2,
         "pen_goals_conceded": 6,
         "penalty_conceded": 11,
         "penalty_save": 5,
         "punches": 25,
         "saves": 22,
         "season": "2006-2007",
         "team": "Blackburn Rovers",
         "total_clearance": 1095,
         "total_cross": 911,
         "total_high_claim": 56,
         "total_long_balls": 2544,
         "total_offside": 142,
         "total_pass": 14033,
         "total_red_card": 6,
         "total_scoring_att": 478,
         "total_tackle": 864,
         "total_through_ball": "nan",
         "total_yel_card": 77,
         "touches": 20812,
         "wins": 15
        },
        {
         "_deepnote_index_column": 8,
         "att_freekick_goal": 2,
         "att_hd_goal": 9,
         "att_ibox_goal": 44,
         "att_obox_goal": 8,
         "att_pen_goal": 8,
         "backward_pass": "nan",
         "big_chance_missed": "nan",
         "clean_sheet": 14,
         "clearance_off_line": 2,
         "corner_taken": 208,
         "dispossessed": "nan",
         "goal_fastbreak": 3,
         "goals": 52,
         "goals_conceded": 36,
         "head_clearance": "nan",
         "hit_woodwork": 9,
         "interception": 303,
         "last_man_tackle": 1,
         "losses": 10,
         "ontarget_scoring_att": 153,
         "outfielder_block": 120,
         "own_goals": 3,
         "pen_goals_conceded": 2,
         "penalty_conceded": 4,
         "penalty_save": 1,
         "punches": 15,
         "saves": 5,
         "season": "2006-2007",
         "team": "Everton",
         "total_clearance": 1386,
         "total_cross": 867,
         "total_high_claim": 83,
         "total_long_balls": 2288,
         "total_offside": 81,
         "total_pass": 12274,
         "total_red_card": 2,
         "total_scoring_att": 465,
         "total_tackle": 860,
         "total_through_ball": "nan",
         "total_yel_card": 65,
         "touches": 19250,
         "wins": 15
        },
        {
         "_deepnote_index_column": 9,
         "att_freekick_goal": 0,
         "att_hd_goal": 13,
         "att_ibox_goal": 32,
         "att_obox_goal": 13,
         "att_pen_goal": 2,
         "backward_pass": "nan",
         "big_chance_missed": "nan",
         "clean_sheet": 12,
         "clearance_off_line": 4,
         "corner_taken": 247,
         "dispossessed": "nan",
         "goal_fastbreak": 2,
         "goals": 45,
         "goals_conceded": 42,
         "head_clearance": "nan",
         "hit_woodwork": 9,
         "interception": 220,
         "last_man_tackle": 1,
         "losses": 12,
         "ontarget_scoring_att": 186,
         "outfielder_block": 96,
         "own_goals": 0,
         "pen_goals_conceded": 6,
         "penalty_conceded": 8,
         "penalty_save": 2,
         "punches": 30,
         "saves": 14,
         "season": "2006-2007",
         "team": "Portsmouth",
         "total_clearance": 1164,
         "total_cross": 783,
         "total_high_claim": 79,
         "total_long_balls": 2276,
         "total_offside": 141,
         "total_pass": 12616,
         "total_red_card": 1,
         "total_scoring_att": 525,
         "total_tackle": 948,
         "total_through_ball": "nan",
         "total_yel_card": 48,
         "touches": 19377,
         "wins": 14
        }
       ]
      },
      "text/html": [
       "<div>\n",
       "<style scoped>\n",
       "    .dataframe tbody tr th:only-of-type {\n",
       "        vertical-align: middle;\n",
       "    }\n",
       "\n",
       "    .dataframe tbody tr th {\n",
       "        vertical-align: top;\n",
       "    }\n",
       "\n",
       "    .dataframe thead th {\n",
       "        text-align: right;\n",
       "    }\n",
       "</style>\n",
       "<table border=\"1\" class=\"dataframe\">\n",
       "  <thead>\n",
       "    <tr style=\"text-align: right;\">\n",
       "      <th></th>\n",
       "      <th>team</th>\n",
       "      <th>wins</th>\n",
       "      <th>losses</th>\n",
       "      <th>goals</th>\n",
       "      <th>total_yel_card</th>\n",
       "      <th>total_red_card</th>\n",
       "      <th>total_scoring_att</th>\n",
       "      <th>ontarget_scoring_att</th>\n",
       "      <th>hit_woodwork</th>\n",
       "      <th>att_hd_goal</th>\n",
       "      <th>...</th>\n",
       "      <th>total_cross</th>\n",
       "      <th>corner_taken</th>\n",
       "      <th>touches</th>\n",
       "      <th>big_chance_missed</th>\n",
       "      <th>clearance_off_line</th>\n",
       "      <th>dispossessed</th>\n",
       "      <th>penalty_save</th>\n",
       "      <th>total_high_claim</th>\n",
       "      <th>punches</th>\n",
       "      <th>season</th>\n",
       "    </tr>\n",
       "  </thead>\n",
       "  <tbody>\n",
       "    <tr>\n",
       "      <th>0</th>\n",
       "      <td>Manchester United</td>\n",
       "      <td>28.0</td>\n",
       "      <td>5.0</td>\n",
       "      <td>83.0</td>\n",
       "      <td>60.0</td>\n",
       "      <td>1.0</td>\n",
       "      <td>698.0</td>\n",
       "      <td>256.0</td>\n",
       "      <td>21.0</td>\n",
       "      <td>12.0</td>\n",
       "      <td>...</td>\n",
       "      <td>918.0</td>\n",
       "      <td>258.0</td>\n",
       "      <td>25686.0</td>\n",
       "      <td>NaN</td>\n",
       "      <td>1.0</td>\n",
       "      <td>NaN</td>\n",
       "      <td>2.0</td>\n",
       "      <td>37.0</td>\n",
       "      <td>25.0</td>\n",
       "      <td>2006-2007</td>\n",
       "    </tr>\n",
       "    <tr>\n",
       "      <th>1</th>\n",
       "      <td>Chelsea</td>\n",
       "      <td>24.0</td>\n",
       "      <td>3.0</td>\n",
       "      <td>64.0</td>\n",
       "      <td>62.0</td>\n",
       "      <td>4.0</td>\n",
       "      <td>636.0</td>\n",
       "      <td>216.0</td>\n",
       "      <td>14.0</td>\n",
       "      <td>16.0</td>\n",
       "      <td>...</td>\n",
       "      <td>897.0</td>\n",
       "      <td>231.0</td>\n",
       "      <td>24010.0</td>\n",
       "      <td>NaN</td>\n",
       "      <td>2.0</td>\n",
       "      <td>NaN</td>\n",
       "      <td>1.0</td>\n",
       "      <td>74.0</td>\n",
       "      <td>22.0</td>\n",
       "      <td>2006-2007</td>\n",
       "    </tr>\n",
       "    <tr>\n",
       "      <th>2</th>\n",
       "      <td>Liverpool</td>\n",
       "      <td>20.0</td>\n",
       "      <td>10.0</td>\n",
       "      <td>57.0</td>\n",
       "      <td>44.0</td>\n",
       "      <td>0.0</td>\n",
       "      <td>668.0</td>\n",
       "      <td>214.0</td>\n",
       "      <td>15.0</td>\n",
       "      <td>8.0</td>\n",
       "      <td>...</td>\n",
       "      <td>1107.0</td>\n",
       "      <td>282.0</td>\n",
       "      <td>24150.0</td>\n",
       "      <td>NaN</td>\n",
       "      <td>1.0</td>\n",
       "      <td>NaN</td>\n",
       "      <td>0.0</td>\n",
       "      <td>51.0</td>\n",
       "      <td>27.0</td>\n",
       "      <td>2006-2007</td>\n",
       "    </tr>\n",
       "    <tr>\n",
       "      <th>3</th>\n",
       "      <td>Arsenal</td>\n",
       "      <td>19.0</td>\n",
       "      <td>8.0</td>\n",
       "      <td>63.0</td>\n",
       "      <td>59.0</td>\n",
       "      <td>3.0</td>\n",
       "      <td>638.0</td>\n",
       "      <td>226.0</td>\n",
       "      <td>19.0</td>\n",
       "      <td>10.0</td>\n",
       "      <td>...</td>\n",
       "      <td>873.0</td>\n",
       "      <td>278.0</td>\n",
       "      <td>25592.0</td>\n",
       "      <td>NaN</td>\n",
       "      <td>1.0</td>\n",
       "      <td>NaN</td>\n",
       "      <td>0.0</td>\n",
       "      <td>88.0</td>\n",
       "      <td>27.0</td>\n",
       "      <td>2006-2007</td>\n",
       "    </tr>\n",
       "    <tr>\n",
       "      <th>4</th>\n",
       "      <td>Tottenham Hotspur</td>\n",
       "      <td>17.0</td>\n",
       "      <td>12.0</td>\n",
       "      <td>57.0</td>\n",
       "      <td>48.0</td>\n",
       "      <td>3.0</td>\n",
       "      <td>520.0</td>\n",
       "      <td>184.0</td>\n",
       "      <td>6.0</td>\n",
       "      <td>5.0</td>\n",
       "      <td>...</td>\n",
       "      <td>796.0</td>\n",
       "      <td>181.0</td>\n",
       "      <td>22200.0</td>\n",
       "      <td>NaN</td>\n",
       "      <td>2.0</td>\n",
       "      <td>NaN</td>\n",
       "      <td>0.0</td>\n",
       "      <td>51.0</td>\n",
       "      <td>24.0</td>\n",
       "      <td>2006-2007</td>\n",
       "    </tr>\n",
       "    <tr>\n",
       "      <th>...</th>\n",
       "      <td>...</td>\n",
       "      <td>...</td>\n",
       "      <td>...</td>\n",
       "      <td>...</td>\n",
       "      <td>...</td>\n",
       "      <td>...</td>\n",
       "      <td>...</td>\n",
       "      <td>...</td>\n",
       "      <td>...</td>\n",
       "      <td>...</td>\n",
       "      <td>...</td>\n",
       "      <td>...</td>\n",
       "      <td>...</td>\n",
       "      <td>...</td>\n",
       "      <td>...</td>\n",
       "      <td>...</td>\n",
       "      <td>...</td>\n",
       "      <td>...</td>\n",
       "      <td>...</td>\n",
       "      <td>...</td>\n",
       "      <td>...</td>\n",
       "    </tr>\n",
       "    <tr>\n",
       "      <th>235</th>\n",
       "      <td>Huddersfield Town</td>\n",
       "      <td>9.0</td>\n",
       "      <td>19.0</td>\n",
       "      <td>28.0</td>\n",
       "      <td>62.0</td>\n",
       "      <td>3.0</td>\n",
       "      <td>362.0</td>\n",
       "      <td>109.0</td>\n",
       "      <td>8.0</td>\n",
       "      <td>5.0</td>\n",
       "      <td>...</td>\n",
       "      <td>765.0</td>\n",
       "      <td>165.0</td>\n",
       "      <td>22619.0</td>\n",
       "      <td>21.0</td>\n",
       "      <td>6.0</td>\n",
       "      <td>416.0</td>\n",
       "      <td>2.0</td>\n",
       "      <td>31.0</td>\n",
       "      <td>24.0</td>\n",
       "      <td>2017-2018</td>\n",
       "    </tr>\n",
       "    <tr>\n",
       "      <th>236</th>\n",
       "      <td>Swansea City</td>\n",
       "      <td>8.0</td>\n",
       "      <td>21.0</td>\n",
       "      <td>28.0</td>\n",
       "      <td>51.0</td>\n",
       "      <td>1.0</td>\n",
       "      <td>338.0</td>\n",
       "      <td>103.0</td>\n",
       "      <td>8.0</td>\n",
       "      <td>3.0</td>\n",
       "      <td>...</td>\n",
       "      <td>694.0</td>\n",
       "      <td>150.0</td>\n",
       "      <td>22775.0</td>\n",
       "      <td>26.0</td>\n",
       "      <td>1.0</td>\n",
       "      <td>439.0</td>\n",
       "      <td>3.0</td>\n",
       "      <td>44.0</td>\n",
       "      <td>15.0</td>\n",
       "      <td>2017-2018</td>\n",
       "    </tr>\n",
       "    <tr>\n",
       "      <th>237</th>\n",
       "      <td>Southampton</td>\n",
       "      <td>7.0</td>\n",
       "      <td>16.0</td>\n",
       "      <td>37.0</td>\n",
       "      <td>63.0</td>\n",
       "      <td>2.0</td>\n",
       "      <td>450.0</td>\n",
       "      <td>145.0</td>\n",
       "      <td>15.0</td>\n",
       "      <td>7.0</td>\n",
       "      <td>...</td>\n",
       "      <td>800.0</td>\n",
       "      <td>227.0</td>\n",
       "      <td>24639.0</td>\n",
       "      <td>37.0</td>\n",
       "      <td>4.0</td>\n",
       "      <td>379.0</td>\n",
       "      <td>1.0</td>\n",
       "      <td>29.0</td>\n",
       "      <td>13.0</td>\n",
       "      <td>2017-2018</td>\n",
       "    </tr>\n",
       "    <tr>\n",
       "      <th>238</th>\n",
       "      <td>Stoke City</td>\n",
       "      <td>7.0</td>\n",
       "      <td>19.0</td>\n",
       "      <td>35.0</td>\n",
       "      <td>62.0</td>\n",
       "      <td>1.0</td>\n",
       "      <td>384.0</td>\n",
       "      <td>132.0</td>\n",
       "      <td>8.0</td>\n",
       "      <td>8.0</td>\n",
       "      <td>...</td>\n",
       "      <td>598.0</td>\n",
       "      <td>136.0</td>\n",
       "      <td>20368.0</td>\n",
       "      <td>33.0</td>\n",
       "      <td>3.0</td>\n",
       "      <td>402.0</td>\n",
       "      <td>0.0</td>\n",
       "      <td>27.0</td>\n",
       "      <td>14.0</td>\n",
       "      <td>2017-2018</td>\n",
       "    </tr>\n",
       "    <tr>\n",
       "      <th>239</th>\n",
       "      <td>West Bromwich Albion</td>\n",
       "      <td>6.0</td>\n",
       "      <td>19.0</td>\n",
       "      <td>31.0</td>\n",
       "      <td>73.0</td>\n",
       "      <td>1.0</td>\n",
       "      <td>378.0</td>\n",
       "      <td>114.0</td>\n",
       "      <td>7.0</td>\n",
       "      <td>10.0</td>\n",
       "      <td>...</td>\n",
       "      <td>784.0</td>\n",
       "      <td>176.0</td>\n",
       "      <td>20552.0</td>\n",
       "      <td>28.0</td>\n",
       "      <td>3.0</td>\n",
       "      <td>446.0</td>\n",
       "      <td>0.0</td>\n",
       "      <td>40.0</td>\n",
       "      <td>5.0</td>\n",
       "      <td>2017-2018</td>\n",
       "    </tr>\n",
       "  </tbody>\n",
       "</table>\n",
       "<p>240 rows × 42 columns</p>\n",
       "</div>"
      ],
      "text/plain": [
       "                     team  wins  losses  goals  total_yel_card  \\\n",
       "0       Manchester United  28.0     5.0   83.0            60.0   \n",
       "1                 Chelsea  24.0     3.0   64.0            62.0   \n",
       "2               Liverpool  20.0    10.0   57.0            44.0   \n",
       "3                 Arsenal  19.0     8.0   63.0            59.0   \n",
       "4       Tottenham Hotspur  17.0    12.0   57.0            48.0   \n",
       "..                    ...   ...     ...    ...             ...   \n",
       "235     Huddersfield Town   9.0    19.0   28.0            62.0   \n",
       "236          Swansea City   8.0    21.0   28.0            51.0   \n",
       "237           Southampton   7.0    16.0   37.0            63.0   \n",
       "238            Stoke City   7.0    19.0   35.0            62.0   \n",
       "239  West Bromwich Albion   6.0    19.0   31.0            73.0   \n",
       "\n",
       "     total_red_card  total_scoring_att  ontarget_scoring_att  hit_woodwork  \\\n",
       "0               1.0              698.0                 256.0          21.0   \n",
       "1               4.0              636.0                 216.0          14.0   \n",
       "2               0.0              668.0                 214.0          15.0   \n",
       "3               3.0              638.0                 226.0          19.0   \n",
       "4               3.0              520.0                 184.0           6.0   \n",
       "..              ...                ...                   ...           ...   \n",
       "235             3.0              362.0                 109.0           8.0   \n",
       "236             1.0              338.0                 103.0           8.0   \n",
       "237             2.0              450.0                 145.0          15.0   \n",
       "238             1.0              384.0                 132.0           8.0   \n",
       "239             1.0              378.0                 114.0           7.0   \n",
       "\n",
       "     att_hd_goal  ...  total_cross  corner_taken  touches  big_chance_missed  \\\n",
       "0           12.0  ...        918.0         258.0  25686.0                NaN   \n",
       "1           16.0  ...        897.0         231.0  24010.0                NaN   \n",
       "2            8.0  ...       1107.0         282.0  24150.0                NaN   \n",
       "3           10.0  ...        873.0         278.0  25592.0                NaN   \n",
       "4            5.0  ...        796.0         181.0  22200.0                NaN   \n",
       "..           ...  ...          ...           ...      ...                ...   \n",
       "235          5.0  ...        765.0         165.0  22619.0               21.0   \n",
       "236          3.0  ...        694.0         150.0  22775.0               26.0   \n",
       "237          7.0  ...        800.0         227.0  24639.0               37.0   \n",
       "238          8.0  ...        598.0         136.0  20368.0               33.0   \n",
       "239         10.0  ...        784.0         176.0  20552.0               28.0   \n",
       "\n",
       "     clearance_off_line  dispossessed  penalty_save  total_high_claim  \\\n",
       "0                   1.0           NaN           2.0              37.0   \n",
       "1                   2.0           NaN           1.0              74.0   \n",
       "2                   1.0           NaN           0.0              51.0   \n",
       "3                   1.0           NaN           0.0              88.0   \n",
       "4                   2.0           NaN           0.0              51.0   \n",
       "..                  ...           ...           ...               ...   \n",
       "235                 6.0         416.0           2.0              31.0   \n",
       "236                 1.0         439.0           3.0              44.0   \n",
       "237                 4.0         379.0           1.0              29.0   \n",
       "238                 3.0         402.0           0.0              27.0   \n",
       "239                 3.0         446.0           0.0              40.0   \n",
       "\n",
       "     punches     season  \n",
       "0       25.0  2006-2007  \n",
       "1       22.0  2006-2007  \n",
       "2       27.0  2006-2007  \n",
       "3       27.0  2006-2007  \n",
       "4       24.0  2006-2007  \n",
       "..       ...        ...  \n",
       "235     24.0  2017-2018  \n",
       "236     15.0  2017-2018  \n",
       "237     13.0  2017-2018  \n",
       "238     14.0  2017-2018  \n",
       "239      5.0  2017-2018  \n",
       "\n",
       "[240 rows x 42 columns]"
      ]
     },
     "execution_count": 2,
     "metadata": {},
     "output_type": "execute_result"
    }
   ],
   "source": [
    "df = pd.read_csv('stats.csv')\n",
    "df"
   ]
  },
  {
   "cell_type": "code",
   "execution_count": 3,
   "metadata": {
    "cell_id": "64b7da8e47184d10b5976e7f0e7dc2d2",
    "deepnote_cell_type": "code",
    "deepnote_to_be_reexecuted": false,
    "execution_millis": 4,
    "execution_start": 1686816252392,
    "source_hash": "8b97bcf7"
   },
   "outputs": [
    {
     "data": {
      "text/plain": [
       "True"
      ]
     },
     "execution_count": 3,
     "metadata": {},
     "output_type": "execute_result"
    }
   ],
   "source": [
    "#check for missing values\n",
    "df.isnull().values.any()"
   ]
  },
  {
   "cell_type": "code",
   "execution_count": 4,
   "metadata": {
    "cell_id": "46098254a87a4bb1bf4779af4ebea4b3",
    "deepnote_cell_type": "code",
    "deepnote_to_be_reexecuted": false,
    "execution_millis": 12,
    "execution_start": 1686816252425,
    "source_hash": "9dec9381"
   },
   "outputs": [],
   "source": [
    "#drop the missing values\n",
    "df = df.dropna(axis=0).copy()"
   ]
  },
  {
   "cell_type": "code",
   "execution_count": 5,
   "metadata": {
    "cell_id": "d0dcf3cee13e4650b8489f7474e3e630",
    "deepnote_cell_type": "code",
    "deepnote_to_be_reexecuted": false,
    "execution_millis": 3,
    "execution_start": 1686816252440,
    "source_hash": "14f60b8f"
   },
   "outputs": [
    {
     "data": {
      "text/plain": [
       "(160, 42)"
      ]
     },
     "execution_count": 5,
     "metadata": {},
     "output_type": "execute_result"
    }
   ],
   "source": [
    "df.shape"
   ]
  },
  {
   "cell_type": "markdown",
   "metadata": {
    "cell_id": "96a1022f8391442a81ddd2fb3f5aca7b",
    "deepnote_cell_type": "markdown"
   },
   "source": [
    "In order to keep my data to be general on analyzing Premier League teams, I decide to analyze those teams which can stay for at least three seasons since for those relatively weaker teams, they are probably not on the same levels compares to other Premier League teams."
   ]
  },
  {
   "cell_type": "code",
   "execution_count": 6,
   "metadata": {
    "cell_id": "c2992bc842624650ac4587b926630b71",
    "deepnote_cell_type": "code",
    "deepnote_to_be_reexecuted": false,
    "execution_millis": 2,
    "execution_start": 1686816252489,
    "source_hash": "e4d0f9ff"
   },
   "outputs": [],
   "source": [
    "team_seasons = df.groupby('team')['season'].nunique().reset_index()\n",
    "filtered_teams = team_seasons[team_seasons['season'] >= 3]['team']\n",
    "df = df[df['team'].isin(filtered_teams)]"
   ]
  },
  {
   "cell_type": "markdown",
   "metadata": {
    "cell_id": "da63b3f187214994b8f76138eae54dbd",
    "deepnote_cell_type": "markdown"
   },
   "source": [
    "After cleaning my dataset, I want to check the average data and then I can have a rough thoughts about which factors I should predict to have a positve/negative impact to win."
   ]
  },
  {
   "cell_type": "code",
   "execution_count": 7,
   "metadata": {
    "cell_id": "f63acf22a1e24a97bd268f48abba0b3d",
    "deepnote_cell_type": "code",
    "deepnote_table_loading": false,
    "deepnote_table_state": {
     "filters": [],
     "pageIndex": 0,
     "pageSize": 10,
     "sortBy": []
    },
    "deepnote_to_be_reexecuted": false,
    "execution_millis": 156,
    "execution_start": 1686816252490,
    "source_hash": "aa7de290"
   },
   "outputs": [
    {
     "data": {
      "application/vnd.deepnote.dataframe.v3+json": {
       "column_count": 41,
       "columns": [
        {
         "dtype": "object",
         "name": "team",
         "stats": {
          "categories": [
           {
            "count": 1,
            "name": "Manchester City"
           },
           {
            "count": 1,
            "name": "Manchester United"
           },
           {
            "count": 1,
            "name": "Chelsea"
           }
          ],
          "nan_count": 0,
          "unique_count": 3
         }
        },
        {
         "dtype": "float64",
         "name": "wins",
         "stats": {
          "histogram": [
           {
            "bin_end": 22.15,
            "bin_start": 21.875,
            "count": 1
           },
           {
            "bin_end": 22.425,
            "bin_start": 22.15,
            "count": 0
           },
           {
            "bin_end": 22.7,
            "bin_start": 22.425,
            "count": 1
           },
           {
            "bin_end": 22.975,
            "bin_start": 22.7,
            "count": 0
           },
           {
            "bin_end": 23.25,
            "bin_start": 22.975,
            "count": 0
           },
           {
            "bin_end": 23.525,
            "bin_start": 23.25,
            "count": 0
           },
           {
            "bin_end": 23.8,
            "bin_start": 23.525,
            "count": 0
           },
           {
            "bin_end": 24.075,
            "bin_start": 23.8,
            "count": 0
           },
           {
            "bin_end": 24.35,
            "bin_start": 24.075,
            "count": 0
           },
           {
            "bin_end": 24.625,
            "bin_start": 24.35,
            "count": 1
           }
          ],
          "max": "24.625",
          "min": "21.875",
          "nan_count": 0,
          "unique_count": 3
         }
        },
        {
         "dtype": "float64",
         "name": "losses",
         "stats": {
          "histogram": [
           {
            "bin_end": 6.5125,
            "bin_start": 6.375,
            "count": 1
           },
           {
            "bin_end": 6.65,
            "bin_start": 6.5125,
            "count": 0
           },
           {
            "bin_end": 6.7875,
            "bin_start": 6.65,
            "count": 0
           },
           {
            "bin_end": 6.925,
            "bin_start": 6.7875,
            "count": 0
           },
           {
            "bin_end": 7.0625,
            "bin_start": 6.925,
            "count": 1
           },
           {
            "bin_end": 7.2,
            "bin_start": 7.0625,
            "count": 0
           },
           {
            "bin_end": 7.3375,
            "bin_start": 7.2,
            "count": 0
           },
           {
            "bin_end": 7.475,
            "bin_start": 7.3375,
            "count": 0
           },
           {
            "bin_end": 7.6125,
            "bin_start": 7.475,
            "count": 0
           },
           {
            "bin_end": 7.75,
            "bin_start": 7.6125,
            "count": 1
           }
          ],
          "max": "7.75",
          "min": "6.375",
          "nan_count": 0,
          "unique_count": 3
         }
        },
        {
         "dtype": "float64",
         "name": "goals",
         "stats": {
          "histogram": [
           {
            "bin_end": 70.1375,
            "bin_start": 68.75,
            "count": 2
           },
           {
            "bin_end": 71.525,
            "bin_start": 70.1375,
            "count": 0
           },
           {
            "bin_end": 72.9125,
            "bin_start": 71.525,
            "count": 0
           },
           {
            "bin_end": 74.3,
            "bin_start": 72.9125,
            "count": 0
           },
           {
            "bin_end": 75.6875,
            "bin_start": 74.3,
            "count": 0
           },
           {
            "bin_end": 77.075,
            "bin_start": 75.6875,
            "count": 0
           },
           {
            "bin_end": 78.4625,
            "bin_start": 77.075,
            "count": 0
           },
           {
            "bin_end": 79.85,
            "bin_start": 78.4625,
            "count": 0
           },
           {
            "bin_end": 81.2375,
            "bin_start": 79.85,
            "count": 0
           },
           {
            "bin_end": 82.625,
            "bin_start": 81.2375,
            "count": 1
           }
          ],
          "max": "82.625",
          "min": "68.75",
          "nan_count": 0,
          "unique_count": 3
         }
        },
        {
         "dtype": "float64",
         "name": "total_yel_card",
         "stats": {
          "histogram": [
           {
            "bin_end": 61.225,
            "bin_start": 60.75,
            "count": 1
           },
           {
            "bin_end": 61.7,
            "bin_start": 61.225,
            "count": 0
           },
           {
            "bin_end": 62.175,
            "bin_start": 61.7,
            "count": 0
           },
           {
            "bin_end": 62.65,
            "bin_start": 62.175,
            "count": 1
           },
           {
            "bin_end": 63.125,
            "bin_start": 62.65,
            "count": 0
           },
           {
            "bin_end": 63.6,
            "bin_start": 63.125,
            "count": 0
           },
           {
            "bin_end": 64.075,
            "bin_start": 63.6,
            "count": 0
           },
           {
            "bin_end": 64.55,
            "bin_start": 64.075,
            "count": 0
           },
           {
            "bin_end": 65.025,
            "bin_start": 64.55,
            "count": 0
           },
           {
            "bin_end": 65.5,
            "bin_start": 65.025,
            "count": 1
           }
          ],
          "max": "65.5",
          "min": "60.75",
          "nan_count": 0,
          "unique_count": 3
         }
        },
        {
         "dtype": "float64",
         "name": "total_red_card",
         "stats": {
          "histogram": [
           {
            "bin_end": 2.2125,
            "bin_start": 2.125,
            "count": 1
           },
           {
            "bin_end": 2.3,
            "bin_start": 2.2125,
            "count": 0
           },
           {
            "bin_end": 2.3875,
            "bin_start": 2.3,
            "count": 0
           },
           {
            "bin_end": 2.475,
            "bin_start": 2.3875,
            "count": 0
           },
           {
            "bin_end": 2.5625,
            "bin_start": 2.475,
            "count": 0
           },
           {
            "bin_end": 2.65,
            "bin_start": 2.5625,
            "count": 0
           },
           {
            "bin_end": 2.7375,
            "bin_start": 2.65,
            "count": 0
           },
           {
            "bin_end": 2.825,
            "bin_start": 2.7375,
            "count": 1
           },
           {
            "bin_end": 2.9125,
            "bin_start": 2.825,
            "count": 0
           },
           {
            "bin_end": 3,
            "bin_start": 2.9125,
            "count": 1
           }
          ],
          "max": "3.0",
          "min": "2.125",
          "nan_count": 0,
          "unique_count": 3
         }
        },
        {
         "dtype": "float64",
         "name": "total_scoring_att",
         "stats": {
          "histogram": [
           {
            "bin_end": 559.55,
            "bin_start": 549.5,
            "count": 1
           },
           {
            "bin_end": 569.6,
            "bin_start": 559.55,
            "count": 0
           },
           {
            "bin_end": 579.65,
            "bin_start": 569.6,
            "count": 0
           },
           {
            "bin_end": 589.7,
            "bin_start": 579.65,
            "count": 0
           },
           {
            "bin_end": 599.75,
            "bin_start": 589.7,
            "count": 0
           },
           {
            "bin_end": 609.8,
            "bin_start": 599.75,
            "count": 0
           },
           {
            "bin_end": 619.85,
            "bin_start": 609.8,
            "count": 0
           },
           {
            "bin_end": 629.9,
            "bin_start": 619.85,
            "count": 1
           },
           {
            "bin_end": 639.95,
            "bin_start": 629.9,
            "count": 0
           },
           {
            "bin_end": 650,
            "bin_start": 639.95,
            "count": 1
           }
          ],
          "max": "650.0",
          "min": "549.5",
          "nan_count": 0,
          "unique_count": 3
         }
        },
        {
         "dtype": "float64",
         "name": "ontarget_scoring_att",
         "stats": {
          "histogram": [
           {
            "bin_end": 198.5375,
            "bin_start": 195.375,
            "count": 1
           },
           {
            "bin_end": 201.7,
            "bin_start": 198.5375,
            "count": 0
           },
           {
            "bin_end": 204.8625,
            "bin_start": 201.7,
            "count": 0
           },
           {
            "bin_end": 208.025,
            "bin_start": 204.8625,
            "count": 0
           },
           {
            "bin_end": 211.1875,
            "bin_start": 208.025,
            "count": 0
           },
           {
            "bin_end": 214.35,
            "bin_start": 211.1875,
            "count": 0
           },
           {
            "bin_end": 217.5125,
            "bin_start": 214.35,
            "count": 1
           },
           {
            "bin_end": 220.675,
            "bin_start": 217.5125,
            "count": 0
           },
           {
            "bin_end": 223.8375,
            "bin_start": 220.675,
            "count": 0
           },
           {
            "bin_end": 227,
            "bin_start": 223.8375,
            "count": 1
           }
          ],
          "max": "227.0",
          "min": "195.375",
          "nan_count": 0,
          "unique_count": 3
         }
        },
        {
         "dtype": "float64",
         "name": "hit_woodwork",
         "stats": {
          "histogram": [
           {
            "bin_end": 14.675,
            "bin_start": 14.25,
            "count": 1
           },
           {
            "bin_end": 15.1,
            "bin_start": 14.675,
            "count": 0
           },
           {
            "bin_end": 15.525,
            "bin_start": 15.1,
            "count": 0
           },
           {
            "bin_end": 15.95,
            "bin_start": 15.525,
            "count": 1
           },
           {
            "bin_end": 16.375,
            "bin_start": 15.95,
            "count": 0
           },
           {
            "bin_end": 16.8,
            "bin_start": 16.375,
            "count": 0
           },
           {
            "bin_end": 17.225,
            "bin_start": 16.8,
            "count": 0
           },
           {
            "bin_end": 17.65,
            "bin_start": 17.225,
            "count": 0
           },
           {
            "bin_end": 18.075,
            "bin_start": 17.65,
            "count": 0
           },
           {
            "bin_end": 18.5,
            "bin_start": 18.075,
            "count": 1
           }
          ],
          "max": "18.5",
          "min": "14.25",
          "nan_count": 0,
          "unique_count": 3
         }
        },
        {
         "dtype": "float64",
         "name": "att_hd_goal",
         "stats": {
          "histogram": [
           {
            "bin_end": 8.85,
            "bin_start": 8.5,
            "count": 1
           },
           {
            "bin_end": 9.2,
            "bin_start": 8.85,
            "count": 0
           },
           {
            "bin_end": 9.55,
            "bin_start": 9.2,
            "count": 0
           },
           {
            "bin_end": 9.9,
            "bin_start": 9.55,
            "count": 0
           },
           {
            "bin_end": 10.25,
            "bin_start": 9.9,
            "count": 0
           },
           {
            "bin_end": 10.6,
            "bin_start": 10.25,
            "count": 0
           },
           {
            "bin_end": 10.95,
            "bin_start": 10.6,
            "count": 1
           },
           {
            "bin_end": 11.3,
            "bin_start": 10.95,
            "count": 0
           },
           {
            "bin_end": 11.65,
            "bin_start": 11.3,
            "count": 0
           },
           {
            "bin_end": 12,
            "bin_start": 11.65,
            "count": 1
           }
          ],
          "max": "12.0",
          "min": "8.5",
          "nan_count": 0,
          "unique_count": 3
         }
        },
        {
         "dtype": "float64",
         "name": "att_pen_goal",
         "stats": {
          "histogram": [
           {
            "bin_end": 4.1125,
            "bin_start": 3.875,
            "count": 1
           },
           {
            "bin_end": 4.35,
            "bin_start": 4.1125,
            "count": 0
           },
           {
            "bin_end": 4.5875,
            "bin_start": 4.35,
            "count": 0
           },
           {
            "bin_end": 4.825,
            "bin_start": 4.5875,
            "count": 1
           },
           {
            "bin_end": 5.0625,
            "bin_start": 4.825,
            "count": 0
           },
           {
            "bin_end": 5.3,
            "bin_start": 5.0625,
            "count": 0
           },
           {
            "bin_end": 5.5375,
            "bin_start": 5.3,
            "count": 0
           },
           {
            "bin_end": 5.775,
            "bin_start": 5.5375,
            "count": 0
           },
           {
            "bin_end": 6.012499999999999,
            "bin_start": 5.775,
            "count": 0
           },
           {
            "bin_end": 6.25,
            "bin_start": 6.012499999999999,
            "count": 1
           }
          ],
          "max": "6.25",
          "min": "3.875",
          "nan_count": 0,
          "unique_count": 3
         }
        },
        {
         "dtype": "float64",
         "name": "att_freekick_goal",
         "stats": {
          "histogram": [
           {
            "bin_end": 1.9,
            "bin_start": 1.875,
            "count": 1
           },
           {
            "bin_end": 1.925,
            "bin_start": 1.9,
            "count": 0
           },
           {
            "bin_end": 1.95,
            "bin_start": 1.925,
            "count": 0
           },
           {
            "bin_end": 1.975,
            "bin_start": 1.95,
            "count": 0
           },
           {
            "bin_end": 2,
            "bin_start": 1.975,
            "count": 0
           },
           {
            "bin_end": 2.025,
            "bin_start": 2,
            "count": 1
           },
           {
            "bin_end": 2.05,
            "bin_start": 2.025,
            "count": 0
           },
           {
            "bin_end": 2.075,
            "bin_start": 2.05,
            "count": 0
           },
           {
            "bin_end": 2.1,
            "bin_start": 2.075,
            "count": 0
           },
           {
            "bin_end": 2.125,
            "bin_start": 2.1,
            "count": 1
           }
          ],
          "max": "2.125",
          "min": "1.875",
          "nan_count": 0,
          "unique_count": 3
         }
        },
        {
         "dtype": "float64",
         "name": "att_ibox_goal",
         "stats": {
          "histogram": [
           {
            "bin_end": 60.6375,
            "bin_start": 59.625,
            "count": 2
           },
           {
            "bin_end": 61.65,
            "bin_start": 60.6375,
            "count": 0
           },
           {
            "bin_end": 62.6625,
            "bin_start": 61.65,
            "count": 0
           },
           {
            "bin_end": 63.675,
            "bin_start": 62.6625,
            "count": 0
           },
           {
            "bin_end": 64.6875,
            "bin_start": 63.675,
            "count": 0
           },
           {
            "bin_end": 65.7,
            "bin_start": 64.6875,
            "count": 0
           },
           {
            "bin_end": 66.7125,
            "bin_start": 65.7,
            "count": 0
           },
           {
            "bin_end": 67.725,
            "bin_start": 66.7125,
            "count": 0
           },
           {
            "bin_end": 68.7375,
            "bin_start": 67.725,
            "count": 0
           },
           {
            "bin_end": 69.75,
            "bin_start": 68.7375,
            "count": 1
           }
          ],
          "max": "69.75",
          "min": "59.625",
          "nan_count": 0,
          "unique_count": 3
         }
        },
        {
         "dtype": "float64",
         "name": "att_obox_goal",
         "stats": {
          "histogram": [
           {
            "bin_end": 9.6125,
            "bin_start": 9.25,
            "count": 1
           },
           {
            "bin_end": 9.975,
            "bin_start": 9.6125,
            "count": 0
           },
           {
            "bin_end": 10.3375,
            "bin_start": 9.975,
            "count": 1
           },
           {
            "bin_end": 10.7,
            "bin_start": 10.3375,
            "count": 0
           },
           {
            "bin_end": 11.0625,
            "bin_start": 10.7,
            "count": 0
           },
           {
            "bin_end": 11.425,
            "bin_start": 11.0625,
            "count": 0
           },
           {
            "bin_end": 11.7875,
            "bin_start": 11.425,
            "count": 0
           },
           {
            "bin_end": 12.15,
            "bin_start": 11.7875,
            "count": 0
           },
           {
            "bin_end": 12.5125,
            "bin_start": 12.15,
            "count": 0
           },
           {
            "bin_end": 12.875,
            "bin_start": 12.5125,
            "count": 1
           }
          ],
          "max": "12.875",
          "min": "9.25",
          "nan_count": 0,
          "unique_count": 3
         }
        },
        {
         "dtype": "float64",
         "name": "goal_fastbreak",
         "stats": {
          "histogram": [
           {
            "bin_end": 3.125,
            "bin_start": 2.875,
            "count": 2
           },
           {
            "bin_end": 3.375,
            "bin_start": 3.125,
            "count": 0
           },
           {
            "bin_end": 3.625,
            "bin_start": 3.375,
            "count": 0
           },
           {
            "bin_end": 3.875,
            "bin_start": 3.625,
            "count": 0
           },
           {
            "bin_end": 4.125,
            "bin_start": 3.875,
            "count": 0
           },
           {
            "bin_end": 4.375,
            "bin_start": 4.125,
            "count": 0
           },
           {
            "bin_end": 4.625,
            "bin_start": 4.375,
            "count": 0
           },
           {
            "bin_end": 4.875,
            "bin_start": 4.625,
            "count": 0
           },
           {
            "bin_end": 5.125,
            "bin_start": 4.875,
            "count": 0
           },
           {
            "bin_end": 5.375,
            "bin_start": 5.125,
            "count": 1
           }
          ],
          "max": "5.375",
          "min": "2.875",
          "nan_count": 0,
          "unique_count": 3
         }
        },
        {
         "dtype": "float64",
         "name": "total_offside",
         "stats": {
          "histogram": [
           {
            "bin_end": 78.8,
            "bin_start": 77.375,
            "count": 1
           },
           {
            "bin_end": 80.225,
            "bin_start": 78.8,
            "count": 0
           },
           {
            "bin_end": 81.65,
            "bin_start": 80.225,
            "count": 0
           },
           {
            "bin_end": 83.075,
            "bin_start": 81.65,
            "count": 0
           },
           {
            "bin_end": 84.5,
            "bin_start": 83.075,
            "count": 0
           },
           {
            "bin_end": 85.925,
            "bin_start": 84.5,
            "count": 0
           },
           {
            "bin_end": 87.35,
            "bin_start": 85.925,
            "count": 0
           },
           {
            "bin_end": 88.775,
            "bin_start": 87.35,
            "count": 1
           },
           {
            "bin_end": 90.2,
            "bin_start": 88.775,
            "count": 0
           },
           {
            "bin_end": 91.625,
            "bin_start": 90.2,
            "count": 1
           }
          ],
          "max": "91.625",
          "min": "77.375",
          "nan_count": 0,
          "unique_count": 3
         }
        },
        {
         "dtype": "float64",
         "name": "clean_sheet",
         "stats": {
          "histogram": [
           {
            "bin_end": 14.55,
            "bin_start": 14.375,
            "count": 1
           },
           {
            "bin_end": 14.725,
            "bin_start": 14.55,
            "count": 0
           },
           {
            "bin_end": 14.9,
            "bin_start": 14.725,
            "count": 0
           },
           {
            "bin_end": 15.075,
            "bin_start": 14.9,
            "count": 0
           },
           {
            "bin_end": 15.25,
            "bin_start": 15.075,
            "count": 0
           },
           {
            "bin_end": 15.425,
            "bin_start": 15.25,
            "count": 0
           },
           {
            "bin_end": 15.6,
            "bin_start": 15.425,
            "count": 0
           },
           {
            "bin_end": 15.775,
            "bin_start": 15.6,
            "count": 1
           },
           {
            "bin_end": 15.95,
            "bin_start": 15.775,
            "count": 0
           },
           {
            "bin_end": 16.125,
            "bin_start": 15.95,
            "count": 1
           }
          ],
          "max": "16.125",
          "min": "14.375",
          "nan_count": 0,
          "unique_count": 3
         }
        },
        {
         "dtype": "float64",
         "name": "goals_conceded",
         "stats": {
          "histogram": [
           {
            "bin_end": 35.0375,
            "bin_start": 34.75,
            "count": 1
           },
           {
            "bin_end": 35.325,
            "bin_start": 35.0375,
            "count": 0
           },
           {
            "bin_end": 35.6125,
            "bin_start": 35.325,
            "count": 0
           },
           {
            "bin_end": 35.9,
            "bin_start": 35.6125,
            "count": 1
           },
           {
            "bin_end": 36.1875,
            "bin_start": 35.9,
            "count": 0
           },
           {
            "bin_end": 36.475,
            "bin_start": 36.1875,
            "count": 0
           },
           {
            "bin_end": 36.7625,
            "bin_start": 36.475,
            "count": 0
           },
           {
            "bin_end": 37.05,
            "bin_start": 36.7625,
            "count": 0
           },
           {
            "bin_end": 37.3375,
            "bin_start": 37.05,
            "count": 0
           },
           {
            "bin_end": 37.625,
            "bin_start": 37.3375,
            "count": 1
           }
          ],
          "max": "37.625",
          "min": "34.75",
          "nan_count": 0,
          "unique_count": 3
         }
        },
        {
         "dtype": "float64",
         "name": "saves",
         "stats": {
          "histogram": [
           {
            "bin_end": 50.875,
            "bin_start": 49.625,
            "count": 1
           },
           {
            "bin_end": 52.125,
            "bin_start": 50.875,
            "count": 0
           },
           {
            "bin_end": 53.375,
            "bin_start": 52.125,
            "count": 0
           },
           {
            "bin_end": 54.625,
            "bin_start": 53.375,
            "count": 0
           },
           {
            "bin_end": 55.875,
            "bin_start": 54.625,
            "count": 0
           },
           {
            "bin_end": 57.125,
            "bin_start": 55.875,
            "count": 0
           },
           {
            "bin_end": 58.375,
            "bin_start": 57.125,
            "count": 0
           },
           {
            "bin_end": 59.625,
            "bin_start": 58.375,
            "count": 1
           },
           {
            "bin_end": 60.875,
            "bin_start": 59.625,
            "count": 0
           },
           {
            "bin_end": 62.125,
            "bin_start": 60.875,
            "count": 1
           }
          ],
          "max": "62.125",
          "min": "49.625",
          "nan_count": 0,
          "unique_count": 3
         }
        },
        {
         "dtype": "float64",
         "name": "outfielder_block",
         "stats": {
          "histogram": [
           {
            "bin_end": 89.5375,
            "bin_start": 87,
            "count": 1
           },
           {
            "bin_end": 92.075,
            "bin_start": 89.5375,
            "count": 0
           },
           {
            "bin_end": 94.6125,
            "bin_start": 92.075,
            "count": 0
           },
           {
            "bin_end": 97.15,
            "bin_start": 94.6125,
            "count": 0
           },
           {
            "bin_end": 99.6875,
            "bin_start": 97.15,
            "count": 0
           },
           {
            "bin_end": 102.225,
            "bin_start": 99.6875,
            "count": 0
           },
           {
            "bin_end": 104.7625,
            "bin_start": 102.225,
            "count": 0
           },
           {
            "bin_end": 107.3,
            "bin_start": 104.7625,
            "count": 0
           },
           {
            "bin_end": 109.8375,
            "bin_start": 107.3,
            "count": 1
           },
           {
            "bin_end": 112.375,
            "bin_start": 109.8375,
            "count": 1
           }
          ],
          "max": "112.375",
          "min": "87.0",
          "nan_count": 0,
          "unique_count": 3
         }
        },
        {
         "dtype": "float64",
         "name": "interception",
         "stats": {
          "histogram": [
           {
            "bin_end": 504.2875,
            "bin_start": 495.5,
            "count": 1
           },
           {
            "bin_end": 513.075,
            "bin_start": 504.2875,
            "count": 0
           },
           {
            "bin_end": 521.8625,
            "bin_start": 513.075,
            "count": 0
           },
           {
            "bin_end": 530.65,
            "bin_start": 521.8625,
            "count": 0
           },
           {
            "bin_end": 539.4375,
            "bin_start": 530.65,
            "count": 1
           },
           {
            "bin_end": 548.225,
            "bin_start": 539.4375,
            "count": 0
           },
           {
            "bin_end": 557.0125,
            "bin_start": 548.225,
            "count": 0
           },
           {
            "bin_end": 565.8,
            "bin_start": 557.0125,
            "count": 0
           },
           {
            "bin_end": 574.5875,
            "bin_start": 565.8,
            "count": 0
           },
           {
            "bin_end": 583.375,
            "bin_start": 574.5875,
            "count": 1
           }
          ],
          "max": "583.375",
          "min": "495.5",
          "nan_count": 0,
          "unique_count": 3
         }
        },
        {
         "dtype": "float64",
         "name": "total_tackle",
         "stats": {
          "histogram": [
           {
            "bin_end": 706.9,
            "bin_start": 705.625,
            "count": 1
           },
           {
            "bin_end": 708.175,
            "bin_start": 706.9,
            "count": 1
           },
           {
            "bin_end": 709.45,
            "bin_start": 708.175,
            "count": 0
           },
           {
            "bin_end": 710.725,
            "bin_start": 709.45,
            "count": 0
           },
           {
            "bin_end": 712,
            "bin_start": 710.725,
            "count": 0
           },
           {
            "bin_end": 713.275,
            "bin_start": 712,
            "count": 0
           },
           {
            "bin_end": 714.55,
            "bin_start": 713.275,
            "count": 0
           },
           {
            "bin_end": 715.825,
            "bin_start": 714.55,
            "count": 0
           },
           {
            "bin_end": 717.1,
            "bin_start": 715.825,
            "count": 0
           },
           {
            "bin_end": 718.375,
            "bin_start": 717.1,
            "count": 1
           }
          ],
          "max": "718.375",
          "min": "705.625",
          "nan_count": 0,
          "unique_count": 3
         }
        },
        {
         "dtype": "float64",
         "name": "last_man_tackle",
         "stats": {
          "histogram": [
           {
            "bin_end": 3.6875,
            "bin_start": 3.5,
            "count": 1
           },
           {
            "bin_end": 3.875,
            "bin_start": 3.6875,
            "count": 0
           },
           {
            "bin_end": 4.0625,
            "bin_start": 3.875,
            "count": 0
           },
           {
            "bin_end": 4.25,
            "bin_start": 4.0625,
            "count": 0
           },
           {
            "bin_end": 4.4375,
            "bin_start": 4.25,
            "count": 0
           },
           {
            "bin_end": 4.625,
            "bin_start": 4.4375,
            "count": 0
           },
           {
            "bin_end": 4.8125,
            "bin_start": 4.625,
            "count": 1
           },
           {
            "bin_end": 5,
            "bin_start": 4.8125,
            "count": 0
           },
           {
            "bin_end": 5.1875,
            "bin_start": 5,
            "count": 0
           },
           {
            "bin_end": 5.375,
            "bin_start": 5.1875,
            "count": 1
           }
          ],
          "max": "5.375",
          "min": "3.5",
          "nan_count": 0,
          "unique_count": 3
         }
        },
        {
         "dtype": "float64",
         "name": "total_clearance",
         "stats": {
          "histogram": [
           {
            "bin_end": 918.225,
            "bin_start": 898.625,
            "count": 1
           },
           {
            "bin_end": 937.825,
            "bin_start": 918.225,
            "count": 1
           },
           {
            "bin_end": 957.425,
            "bin_start": 937.825,
            "count": 0
           },
           {
            "bin_end": 977.025,
            "bin_start": 957.425,
            "count": 0
           },
           {
            "bin_end": 996.625,
            "bin_start": 977.025,
            "count": 0
           },
           {
            "bin_end": 1016.225,
            "bin_start": 996.625,
            "count": 0
           },
           {
            "bin_end": 1035.825,
            "bin_start": 1016.225,
            "count": 0
           },
           {
            "bin_end": 1055.425,
            "bin_start": 1035.825,
            "count": 0
           },
           {
            "bin_end": 1075.025,
            "bin_start": 1055.425,
            "count": 0
           },
           {
            "bin_end": 1094.625,
            "bin_start": 1075.025,
            "count": 1
           }
          ],
          "max": "1094.625",
          "min": "898.625",
          "nan_count": 0,
          "unique_count": 3
         }
        },
        {
         "dtype": "float64",
         "name": "head_clearance",
         "stats": {
          "histogram": [
           {
            "bin_end": 530.8,
            "bin_start": 518.75,
            "count": 2
           },
           {
            "bin_end": 542.85,
            "bin_start": 530.8,
            "count": 0
           },
           {
            "bin_end": 554.9,
            "bin_start": 542.85,
            "count": 0
           },
           {
            "bin_end": 566.95,
            "bin_start": 554.9,
            "count": 0
           },
           {
            "bin_end": 579,
            "bin_start": 566.95,
            "count": 0
           },
           {
            "bin_end": 591.05,
            "bin_start": 579,
            "count": 0
           },
           {
            "bin_end": 603.1,
            "bin_start": 591.05,
            "count": 0
           },
           {
            "bin_end": 615.15,
            "bin_start": 603.1,
            "count": 0
           },
           {
            "bin_end": 627.2,
            "bin_start": 615.15,
            "count": 0
           },
           {
            "bin_end": 639.25,
            "bin_start": 627.2,
            "count": 1
           }
          ],
          "max": "639.25",
          "min": "518.75",
          "nan_count": 0,
          "unique_count": 3
         }
        },
        {
         "dtype": "float64",
         "name": "own_goals",
         "stats": {
          "histogram": [
           {
            "bin_end": 1.525,
            "bin_start": 1.5,
            "count": 1
           },
           {
            "bin_end": 1.55,
            "bin_start": 1.525,
            "count": 0
           },
           {
            "bin_end": 1.575,
            "bin_start": 1.55,
            "count": 0
           },
           {
            "bin_end": 1.6,
            "bin_start": 1.575,
            "count": 0
           },
           {
            "bin_end": 1.625,
            "bin_start": 1.6,
            "count": 0
           },
           {
            "bin_end": 1.65,
            "bin_start": 1.625,
            "count": 1
           },
           {
            "bin_end": 1.675,
            "bin_start": 1.65,
            "count": 0
           },
           {
            "bin_end": 1.7,
            "bin_start": 1.675,
            "count": 0
           },
           {
            "bin_end": 1.725,
            "bin_start": 1.7,
            "count": 0
           },
           {
            "bin_end": 1.75,
            "bin_start": 1.725,
            "count": 1
           }
          ],
          "max": "1.75",
          "min": "1.5",
          "nan_count": 0,
          "unique_count": 3
         }
        },
        {
         "dtype": "float64",
         "name": "penalty_conceded",
         "stats": {
          "histogram": [
           {
            "bin_end": 2.7875,
            "bin_start": 2.75,
            "count": 2
           },
           {
            "bin_end": 2.825,
            "bin_start": 2.7875,
            "count": 0
           },
           {
            "bin_end": 2.8625,
            "bin_start": 2.825,
            "count": 0
           },
           {
            "bin_end": 2.9,
            "bin_start": 2.8625,
            "count": 0
           },
           {
            "bin_end": 2.9375,
            "bin_start": 2.9,
            "count": 0
           },
           {
            "bin_end": 2.975,
            "bin_start": 2.9375,
            "count": 0
           },
           {
            "bin_end": 3.0125,
            "bin_start": 2.975,
            "count": 0
           },
           {
            "bin_end": 3.05,
            "bin_start": 3.0125,
            "count": 0
           },
           {
            "bin_end": 3.0875,
            "bin_start": 3.05,
            "count": 0
           },
           {
            "bin_end": 3.125,
            "bin_start": 3.0875,
            "count": 1
           }
          ],
          "max": "3.125",
          "min": "2.75",
          "nan_count": 0,
          "unique_count": 2
         }
        },
        {
         "dtype": "float64",
         "name": "pen_goals_conceded",
         "stats": {
          "histogram": [
           {
            "bin_end": 1.7125,
            "bin_start": 1.625,
            "count": 1
           },
           {
            "bin_end": 1.8,
            "bin_start": 1.7125,
            "count": 0
           },
           {
            "bin_end": 1.8875,
            "bin_start": 1.8,
            "count": 0
           },
           {
            "bin_end": 1.975,
            "bin_start": 1.8875,
            "count": 0
           },
           {
            "bin_end": 2.0625,
            "bin_start": 1.975,
            "count": 0
           },
           {
            "bin_end": 2.15,
            "bin_start": 2.0625,
            "count": 1
           },
           {
            "bin_end": 2.2375,
            "bin_start": 2.15,
            "count": 0
           },
           {
            "bin_end": 2.325,
            "bin_start": 2.2375,
            "count": 0
           },
           {
            "bin_end": 2.4125,
            "bin_start": 2.325,
            "count": 0
           },
           {
            "bin_end": 2.5,
            "bin_start": 2.4125,
            "count": 1
           }
          ],
          "max": "2.5",
          "min": "1.625",
          "nan_count": 0,
          "unique_count": 3
         }
        },
        {
         "dtype": "float64",
         "name": "total_pass",
         "stats": {
          "histogram": [
           {
            "bin_end": 19714.0125,
            "bin_start": 19501.75,
            "count": 1
           },
           {
            "bin_end": 19926.275,
            "bin_start": 19714.0125,
            "count": 1
           },
           {
            "bin_end": 20138.5375,
            "bin_start": 19926.275,
            "count": 0
           },
           {
            "bin_end": 20350.8,
            "bin_start": 20138.5375,
            "count": 0
           },
           {
            "bin_end": 20563.0625,
            "bin_start": 20350.8,
            "count": 0
           },
           {
            "bin_end": 20775.325,
            "bin_start": 20563.0625,
            "count": 0
           },
           {
            "bin_end": 20987.5875,
            "bin_start": 20775.325,
            "count": 0
           },
           {
            "bin_end": 21199.85,
            "bin_start": 20987.5875,
            "count": 0
           },
           {
            "bin_end": 21412.1125,
            "bin_start": 21199.85,
            "count": 0
           },
           {
            "bin_end": 21624.375,
            "bin_start": 21412.1125,
            "count": 1
           }
          ],
          "max": "21624.375",
          "min": "19501.75",
          "nan_count": 0,
          "unique_count": 3
         }
        },
        {
         "dtype": "float64",
         "name": "total_through_ball",
         "stats": {
          "histogram": [
           {
            "bin_end": 104.6,
            "bin_start": 99.375,
            "count": 2
           },
           {
            "bin_end": 109.825,
            "bin_start": 104.6,
            "count": 0
           },
           {
            "bin_end": 115.05,
            "bin_start": 109.825,
            "count": 0
           },
           {
            "bin_end": 120.275,
            "bin_start": 115.05,
            "count": 0
           },
           {
            "bin_end": 125.5,
            "bin_start": 120.275,
            "count": 0
           },
           {
            "bin_end": 130.725,
            "bin_start": 125.5,
            "count": 0
           },
           {
            "bin_end": 135.95,
            "bin_start": 130.725,
            "count": 0
           },
           {
            "bin_end": 141.175,
            "bin_start": 135.95,
            "count": 0
           },
           {
            "bin_end": 146.4,
            "bin_start": 141.175,
            "count": 0
           },
           {
            "bin_end": 151.625,
            "bin_start": 146.4,
            "count": 1
           }
          ],
          "max": "151.625",
          "min": "99.375",
          "nan_count": 0,
          "unique_count": 3
         }
        },
        {
         "dtype": "float64",
         "name": "total_long_balls",
         "stats": {
          "histogram": [
           {
            "bin_end": 1883.975,
            "bin_start": 1831.25,
            "count": 1
           },
           {
            "bin_end": 1936.7,
            "bin_start": 1883.975,
            "count": 0
           },
           {
            "bin_end": 1989.425,
            "bin_start": 1936.7,
            "count": 0
           },
           {
            "bin_end": 2042.15,
            "bin_start": 1989.425,
            "count": 0
           },
           {
            "bin_end": 2094.875,
            "bin_start": 2042.15,
            "count": 0
           },
           {
            "bin_end": 2147.6,
            "bin_start": 2094.875,
            "count": 0
           },
           {
            "bin_end": 2200.325,
            "bin_start": 2147.6,
            "count": 1
           },
           {
            "bin_end": 2253.05,
            "bin_start": 2200.325,
            "count": 0
           },
           {
            "bin_end": 2305.775,
            "bin_start": 2253.05,
            "count": 0
           },
           {
            "bin_end": 2358.5,
            "bin_start": 2305.775,
            "count": 1
           }
          ],
          "max": "2358.5",
          "min": "1831.25",
          "nan_count": 0,
          "unique_count": 3
         }
        },
        {
         "dtype": "float64",
         "name": "backward_pass",
         "stats": {
          "histogram": [
           {
            "bin_end": 2918.8375,
            "bin_start": 2889.875,
            "count": 1
           },
           {
            "bin_end": 2947.8,
            "bin_start": 2918.8375,
            "count": 1
           },
           {
            "bin_end": 2976.7625,
            "bin_start": 2947.8,
            "count": 0
           },
           {
            "bin_end": 3005.725,
            "bin_start": 2976.7625,
            "count": 0
           },
           {
            "bin_end": 3034.6875,
            "bin_start": 3005.725,
            "count": 0
           },
           {
            "bin_end": 3063.65,
            "bin_start": 3034.6875,
            "count": 0
           },
           {
            "bin_end": 3092.6125,
            "bin_start": 3063.65,
            "count": 0
           },
           {
            "bin_end": 3121.575,
            "bin_start": 3092.6125,
            "count": 0
           },
           {
            "bin_end": 3150.5375,
            "bin_start": 3121.575,
            "count": 0
           },
           {
            "bin_end": 3179.5,
            "bin_start": 3150.5375,
            "count": 1
           }
          ],
          "max": "3179.5",
          "min": "2889.875",
          "nan_count": 0,
          "unique_count": 3
         }
        },
        {
         "dtype": "float64",
         "name": "total_cross",
         "stats": {
          "histogram": [
           {
            "bin_end": 821.8,
            "bin_start": 812,
            "count": 2
           },
           {
            "bin_end": 831.6,
            "bin_start": 821.8,
            "count": 0
           },
           {
            "bin_end": 841.4,
            "bin_start": 831.6,
            "count": 0
           },
           {
            "bin_end": 851.2,
            "bin_start": 841.4,
            "count": 0
           },
           {
            "bin_end": 861,
            "bin_start": 851.2,
            "count": 0
           },
           {
            "bin_end": 870.8,
            "bin_start": 861,
            "count": 0
           },
           {
            "bin_end": 880.6,
            "bin_start": 870.8,
            "count": 0
           },
           {
            "bin_end": 890.4,
            "bin_start": 880.6,
            "count": 0
           },
           {
            "bin_end": 900.2,
            "bin_start": 890.4,
            "count": 0
           },
           {
            "bin_end": 910,
            "bin_start": 900.2,
            "count": 1
           }
          ],
          "max": "910.0",
          "min": "812.0",
          "nan_count": 0,
          "unique_count": 3
         }
        },
        {
         "dtype": "float64",
         "name": "corner_taken",
         "stats": {
          "histogram": [
           {
            "bin_end": 233.2,
            "bin_start": 229.375,
            "count": 1
           },
           {
            "bin_end": 237.025,
            "bin_start": 233.2,
            "count": 0
           },
           {
            "bin_end": 240.85,
            "bin_start": 237.025,
            "count": 1
           },
           {
            "bin_end": 244.675,
            "bin_start": 240.85,
            "count": 0
           },
           {
            "bin_end": 248.5,
            "bin_start": 244.675,
            "count": 0
           },
           {
            "bin_end": 252.325,
            "bin_start": 248.5,
            "count": 0
           },
           {
            "bin_end": 256.15,
            "bin_start": 252.325,
            "count": 0
           },
           {
            "bin_end": 259.975,
            "bin_start": 256.15,
            "count": 0
           },
           {
            "bin_end": 263.8,
            "bin_start": 259.975,
            "count": 0
           },
           {
            "bin_end": 267.625,
            "bin_start": 263.8,
            "count": 1
           }
          ],
          "max": "267.625",
          "min": "229.375",
          "nan_count": 0,
          "unique_count": 3
         }
        },
        {
         "dtype": "float64",
         "name": "touches",
         "stats": {
          "histogram": [
           {
            "bin_end": 27427.725,
            "bin_start": 27226.375,
            "count": 1
           },
           {
            "bin_end": 27629.075,
            "bin_start": 27427.725,
            "count": 0
           },
           {
            "bin_end": 27830.425,
            "bin_start": 27629.075,
            "count": 1
           },
           {
            "bin_end": 28031.775,
            "bin_start": 27830.425,
            "count": 0
           },
           {
            "bin_end": 28233.125,
            "bin_start": 28031.775,
            "count": 0
           },
           {
            "bin_end": 28434.475,
            "bin_start": 28233.125,
            "count": 0
           },
           {
            "bin_end": 28635.825,
            "bin_start": 28434.475,
            "count": 0
           },
           {
            "bin_end": 28837.175,
            "bin_start": 28635.825,
            "count": 0
           },
           {
            "bin_end": 29038.525,
            "bin_start": 28837.175,
            "count": 0
           },
           {
            "bin_end": 29239.875,
            "bin_start": 29038.525,
            "count": 1
           }
          ],
          "max": "29239.875",
          "min": "27226.375",
          "nan_count": 0,
          "unique_count": 3
         }
        },
        {
         "dtype": "float64",
         "name": "big_chance_missed",
         "stats": {
          "histogram": [
           {
            "bin_end": 45.0625,
            "bin_start": 43.625,
            "count": 1
           },
           {
            "bin_end": 46.5,
            "bin_start": 45.0625,
            "count": 0
           },
           {
            "bin_end": 47.9375,
            "bin_start": 46.5,
            "count": 1
           },
           {
            "bin_end": 49.375,
            "bin_start": 47.9375,
            "count": 0
           },
           {
            "bin_end": 50.8125,
            "bin_start": 49.375,
            "count": 0
           },
           {
            "bin_end": 52.25,
            "bin_start": 50.8125,
            "count": 0
           },
           {
            "bin_end": 53.6875,
            "bin_start": 52.25,
            "count": 0
           },
           {
            "bin_end": 55.125,
            "bin_start": 53.6875,
            "count": 0
           },
           {
            "bin_end": 56.5625,
            "bin_start": 55.125,
            "count": 0
           },
           {
            "bin_end": 58,
            "bin_start": 56.5625,
            "count": 1
           }
          ],
          "max": "58.0",
          "min": "43.625",
          "nan_count": 0,
          "unique_count": 3
         }
        },
        {
         "dtype": "float64",
         "name": "clearance_off_line",
         "stats": {
          "histogram": [
           {
            "bin_end": 3.2125,
            "bin_start": 3.125,
            "count": 2
           },
           {
            "bin_end": 3.3,
            "bin_start": 3.2125,
            "count": 0
           },
           {
            "bin_end": 3.3875,
            "bin_start": 3.3,
            "count": 0
           },
           {
            "bin_end": 3.475,
            "bin_start": 3.3875,
            "count": 0
           },
           {
            "bin_end": 3.5625,
            "bin_start": 3.475,
            "count": 0
           },
           {
            "bin_end": 3.65,
            "bin_start": 3.5625,
            "count": 0
           },
           {
            "bin_end": 3.7375,
            "bin_start": 3.65,
            "count": 0
           },
           {
            "bin_end": 3.825,
            "bin_start": 3.7375,
            "count": 0
           },
           {
            "bin_end": 3.9125,
            "bin_start": 3.825,
            "count": 0
           },
           {
            "bin_end": 4,
            "bin_start": 3.9125,
            "count": 1
           }
          ],
          "max": "4.0",
          "min": "3.125",
          "nan_count": 0,
          "unique_count": 2
         }
        },
        {
         "dtype": "float64",
         "name": "dispossessed",
         "stats": {
          "histogram": [
           {
            "bin_end": 464.0875,
            "bin_start": 461.5,
            "count": 2
           },
           {
            "bin_end": 466.675,
            "bin_start": 464.0875,
            "count": 0
           },
           {
            "bin_end": 469.2625,
            "bin_start": 466.675,
            "count": 0
           },
           {
            "bin_end": 471.85,
            "bin_start": 469.2625,
            "count": 0
           },
           {
            "bin_end": 474.4375,
            "bin_start": 471.85,
            "count": 0
           },
           {
            "bin_end": 477.025,
            "bin_start": 474.4375,
            "count": 0
           },
           {
            "bin_end": 479.6125,
            "bin_start": 477.025,
            "count": 0
           },
           {
            "bin_end": 482.2,
            "bin_start": 479.6125,
            "count": 0
           },
           {
            "bin_end": 484.7875,
            "bin_start": 482.2,
            "count": 0
           },
           {
            "bin_end": 487.375,
            "bin_start": 484.7875,
            "count": 1
           }
          ],
          "max": "487.375",
          "min": "461.5",
          "nan_count": 0,
          "unique_count": 3
         }
        },
        {
         "dtype": "float64",
         "name": "penalty_save",
         "stats": {
          "histogram": [
           {
            "bin_end": 0.325,
            "bin_start": 0.25,
            "count": 1
           },
           {
            "bin_end": 0.4,
            "bin_start": 0.325,
            "count": 1
           },
           {
            "bin_end": 0.475,
            "bin_start": 0.4,
            "count": 0
           },
           {
            "bin_end": 0.55,
            "bin_start": 0.475,
            "count": 0
           },
           {
            "bin_end": 0.625,
            "bin_start": 0.55,
            "count": 0
           },
           {
            "bin_end": 0.7,
            "bin_start": 0.625,
            "count": 0
           },
           {
            "bin_end": 0.775,
            "bin_start": 0.7,
            "count": 0
           },
           {
            "bin_end": 0.85,
            "bin_start": 0.775,
            "count": 0
           },
           {
            "bin_end": 0.9249999999999999,
            "bin_start": 0.85,
            "count": 0
           },
           {
            "bin_end": 1,
            "bin_start": 0.9249999999999999,
            "count": 1
           }
          ],
          "max": "1.0",
          "min": "0.25",
          "nan_count": 0,
          "unique_count": 3
         }
        },
        {
         "dtype": "float64",
         "name": "total_high_claim",
         "stats": {
          "histogram": [
           {
            "bin_end": 35.4375,
            "bin_start": 33.25,
            "count": 1
           },
           {
            "bin_end": 37.625,
            "bin_start": 35.4375,
            "count": 0
           },
           {
            "bin_end": 39.8125,
            "bin_start": 37.625,
            "count": 0
           },
           {
            "bin_end": 42,
            "bin_start": 39.8125,
            "count": 1
           },
           {
            "bin_end": 44.1875,
            "bin_start": 42,
            "count": 0
           },
           {
            "bin_end": 46.375,
            "bin_start": 44.1875,
            "count": 0
           },
           {
            "bin_end": 48.5625,
            "bin_start": 46.375,
            "count": 0
           },
           {
            "bin_end": 50.75,
            "bin_start": 48.5625,
            "count": 0
           },
           {
            "bin_end": 52.9375,
            "bin_start": 50.75,
            "count": 0
           },
           {
            "bin_end": 55.125,
            "bin_start": 52.9375,
            "count": 1
           }
          ],
          "max": "55.125",
          "min": "33.25",
          "nan_count": 0,
          "unique_count": 3
         }
        },
        {
         "dtype": "float64",
         "name": "punches",
         "stats": {
          "histogram": [
           {
            "bin_end": 15.4375,
            "bin_start": 14.25,
            "count": 1
           },
           {
            "bin_end": 16.625,
            "bin_start": 15.4375,
            "count": 0
           },
           {
            "bin_end": 17.8125,
            "bin_start": 16.625,
            "count": 0
           },
           {
            "bin_end": 19,
            "bin_start": 17.8125,
            "count": 0
           },
           {
            "bin_end": 20.1875,
            "bin_start": 19,
            "count": 1
           },
           {
            "bin_end": 21.375,
            "bin_start": 20.1875,
            "count": 0
           },
           {
            "bin_end": 22.5625,
            "bin_start": 21.375,
            "count": 0
           },
           {
            "bin_end": 23.75,
            "bin_start": 22.5625,
            "count": 0
           },
           {
            "bin_end": 24.9375,
            "bin_start": 23.75,
            "count": 0
           },
           {
            "bin_end": 26.125,
            "bin_start": 24.9375,
            "count": 1
           }
          ],
          "max": "26.125",
          "min": "14.25",
          "nan_count": 0,
          "unique_count": 3
         }
        },
        {
         "dtype": "int64",
         "name": "_deepnote_index_column"
        }
       ],
       "row_count": 3,
       "rows": [
        {
         "_deepnote_index_column": 11,
         "att_freekick_goal": 2,
         "att_hd_goal": 8.5,
         "att_ibox_goal": 69.75,
         "att_obox_goal": 12.875,
         "att_pen_goal": 6.25,
         "backward_pass": 3179.5,
         "big_chance_missed": 58,
         "clean_sheet": 16.125,
         "clearance_off_line": 3.125,
         "corner_taken": 267.625,
         "dispossessed": 487.375,
         "goal_fastbreak": 5.375,
         "goals": 82.625,
         "goals_conceded": 34.75,
         "head_clearance": 518.75,
         "hit_woodwork": 18.5,
         "interception": 537.125,
         "last_man_tackle": 3.5,
         "losses": 6.375,
         "ontarget_scoring_att": 227,
         "outfielder_block": 87,
         "own_goals": 1.625,
         "pen_goals_conceded": 1.625,
         "penalty_conceded": 2.75,
         "penalty_save": 1,
         "punches": 26.125,
         "saves": 49.625,
         "team": "Manchester City",
         "total_clearance": 930.875,
         "total_cross": 813.75,
         "total_high_claim": 41.75,
         "total_long_balls": 1831.25,
         "total_offside": 77.375,
         "total_pass": 21624.375,
         "total_red_card": 2.75,
         "total_scoring_att": 650,
         "total_tackle": 705.625,
         "total_through_ball": 151.625,
         "total_yel_card": 65.5,
         "touches": 29239.875,
         "wins": 24.625
        },
        {
         "_deepnote_index_column": 12,
         "att_freekick_goal": 1.875,
         "att_hd_goal": 12,
         "att_ibox_goal": 59.625,
         "att_obox_goal": 9.25,
         "att_pen_goal": 3.875,
         "backward_pass": 2941.75,
         "big_chance_missed": 47.5,
         "clean_sheet": 15.75,
         "clearance_off_line": 3.125,
         "corner_taken": 229.375,
         "dispossessed": 461.5,
         "goal_fastbreak": 2.875,
         "goals": 68.75,
         "goals_conceded": 35.625,
         "head_clearance": 639.25,
         "hit_woodwork": 15.875,
         "interception": 583.375,
         "last_man_tackle": 5.375,
         "losses": 7,
         "ontarget_scoring_att": 195.375,
         "outfielder_block": 112.375,
         "own_goals": 1.75,
         "pen_goals_conceded": 2.5,
         "penalty_conceded": 3.125,
         "penalty_save": 0.375,
         "punches": 14.25,
         "saves": 62.125,
         "team": "Manchester United",
         "total_clearance": 1094.625,
         "total_cross": 910,
         "total_high_claim": 33.25,
         "total_long_balls": 2358.5,
         "total_offside": 91.625,
         "total_pass": 19916.75,
         "total_red_card": 2.125,
         "total_scoring_att": 549.5,
         "total_tackle": 707,
         "total_through_ball": 99.375,
         "total_yel_card": 62.625,
         "touches": 27705.625,
         "wins": 22.5
        },
        {
         "_deepnote_index_column": 4,
         "att_freekick_goal": 2.125,
         "att_hd_goal": 10.875,
         "att_ibox_goal": 59.75,
         "att_obox_goal": 10.125,
         "att_pen_goal": 4.625,
         "backward_pass": 2889.875,
         "big_chance_missed": 43.625,
         "clean_sheet": 14.375,
         "clearance_off_line": 4,
         "corner_taken": 239,
         "dispossessed": 463.75,
         "goal_fastbreak": 3,
         "goals": 69.875,
         "goals_conceded": 37.625,
         "head_clearance": 527.375,
         "hit_woodwork": 14.25,
         "interception": 495.5,
         "last_man_tackle": 4.625,
         "losses": 7.75,
         "ontarget_scoring_att": 214.5,
         "outfielder_block": 107.5,
         "own_goals": 1.5,
         "pen_goals_conceded": 2.125,
         "penalty_conceded": 2.75,
         "penalty_save": 0.25,
         "punches": 19.25,
         "saves": 58.375,
         "team": "Chelsea",
         "total_clearance": 898.625,
         "total_cross": 812,
         "total_high_claim": 55.125,
         "total_long_balls": 2156.5,
         "total_offside": 88.25,
         "total_pass": 19501.75,
         "total_red_card": 3,
         "total_scoring_att": 626.25,
         "total_tackle": 718.375,
         "total_through_ball": 104.375,
         "total_yel_card": 60.75,
         "touches": 27226.375,
         "wins": 21.875
        }
       ]
      },
      "text/html": [
       "<div>\n",
       "<style scoped>\n",
       "    .dataframe tbody tr th:only-of-type {\n",
       "        vertical-align: middle;\n",
       "    }\n",
       "\n",
       "    .dataframe tbody tr th {\n",
       "        vertical-align: top;\n",
       "    }\n",
       "\n",
       "    .dataframe thead th {\n",
       "        text-align: right;\n",
       "    }\n",
       "</style>\n",
       "<table border=\"1\" class=\"dataframe\">\n",
       "  <thead>\n",
       "    <tr style=\"text-align: right;\">\n",
       "      <th></th>\n",
       "      <th>team</th>\n",
       "      <th>wins</th>\n",
       "      <th>losses</th>\n",
       "      <th>goals</th>\n",
       "      <th>total_yel_card</th>\n",
       "      <th>total_red_card</th>\n",
       "      <th>total_scoring_att</th>\n",
       "      <th>ontarget_scoring_att</th>\n",
       "      <th>hit_woodwork</th>\n",
       "      <th>att_hd_goal</th>\n",
       "      <th>...</th>\n",
       "      <th>backward_pass</th>\n",
       "      <th>total_cross</th>\n",
       "      <th>corner_taken</th>\n",
       "      <th>touches</th>\n",
       "      <th>big_chance_missed</th>\n",
       "      <th>clearance_off_line</th>\n",
       "      <th>dispossessed</th>\n",
       "      <th>penalty_save</th>\n",
       "      <th>total_high_claim</th>\n",
       "      <th>punches</th>\n",
       "    </tr>\n",
       "  </thead>\n",
       "  <tbody>\n",
       "    <tr>\n",
       "      <th>11</th>\n",
       "      <td>Manchester City</td>\n",
       "      <td>24.625</td>\n",
       "      <td>6.375</td>\n",
       "      <td>82.625</td>\n",
       "      <td>65.500</td>\n",
       "      <td>2.750</td>\n",
       "      <td>650.00</td>\n",
       "      <td>227.000</td>\n",
       "      <td>18.500</td>\n",
       "      <td>8.500</td>\n",
       "      <td>...</td>\n",
       "      <td>3179.500</td>\n",
       "      <td>813.75</td>\n",
       "      <td>267.625</td>\n",
       "      <td>29239.875</td>\n",
       "      <td>58.000</td>\n",
       "      <td>3.125</td>\n",
       "      <td>487.375</td>\n",
       "      <td>1.000</td>\n",
       "      <td>41.750</td>\n",
       "      <td>26.125</td>\n",
       "    </tr>\n",
       "    <tr>\n",
       "      <th>12</th>\n",
       "      <td>Manchester United</td>\n",
       "      <td>22.500</td>\n",
       "      <td>7.000</td>\n",
       "      <td>68.750</td>\n",
       "      <td>62.625</td>\n",
       "      <td>2.125</td>\n",
       "      <td>549.50</td>\n",
       "      <td>195.375</td>\n",
       "      <td>15.875</td>\n",
       "      <td>12.000</td>\n",
       "      <td>...</td>\n",
       "      <td>2941.750</td>\n",
       "      <td>910.00</td>\n",
       "      <td>229.375</td>\n",
       "      <td>27705.625</td>\n",
       "      <td>47.500</td>\n",
       "      <td>3.125</td>\n",
       "      <td>461.500</td>\n",
       "      <td>0.375</td>\n",
       "      <td>33.250</td>\n",
       "      <td>14.250</td>\n",
       "    </tr>\n",
       "    <tr>\n",
       "      <th>4</th>\n",
       "      <td>Chelsea</td>\n",
       "      <td>21.875</td>\n",
       "      <td>7.750</td>\n",
       "      <td>69.875</td>\n",
       "      <td>60.750</td>\n",
       "      <td>3.000</td>\n",
       "      <td>626.25</td>\n",
       "      <td>214.500</td>\n",
       "      <td>14.250</td>\n",
       "      <td>10.875</td>\n",
       "      <td>...</td>\n",
       "      <td>2889.875</td>\n",
       "      <td>812.00</td>\n",
       "      <td>239.000</td>\n",
       "      <td>27226.375</td>\n",
       "      <td>43.625</td>\n",
       "      <td>4.000</td>\n",
       "      <td>463.750</td>\n",
       "      <td>0.250</td>\n",
       "      <td>55.125</td>\n",
       "      <td>19.250</td>\n",
       "    </tr>\n",
       "  </tbody>\n",
       "</table>\n",
       "<p>3 rows × 41 columns</p>\n",
       "</div>"
      ],
      "text/plain": [
       "                 team    wins  losses   goals  total_yel_card  total_red_card  \\\n",
       "11    Manchester City  24.625   6.375  82.625          65.500           2.750   \n",
       "12  Manchester United  22.500   7.000  68.750          62.625           2.125   \n",
       "4             Chelsea  21.875   7.750  69.875          60.750           3.000   \n",
       "\n",
       "    total_scoring_att  ontarget_scoring_att  hit_woodwork  att_hd_goal  ...  \\\n",
       "11             650.00               227.000        18.500        8.500  ...   \n",
       "12             549.50               195.375        15.875       12.000  ...   \n",
       "4              626.25               214.500        14.250       10.875  ...   \n",
       "\n",
       "    backward_pass  total_cross  corner_taken    touches  big_chance_missed  \\\n",
       "11       3179.500       813.75       267.625  29239.875             58.000   \n",
       "12       2941.750       910.00       229.375  27705.625             47.500   \n",
       "4        2889.875       812.00       239.000  27226.375             43.625   \n",
       "\n",
       "    clearance_off_line  dispossessed  penalty_save  total_high_claim  punches  \n",
       "11               3.125       487.375         1.000            41.750   26.125  \n",
       "12               3.125       461.500         0.375            33.250   14.250  \n",
       "4                4.000       463.750         0.250            55.125   19.250  \n",
       "\n",
       "[3 rows x 41 columns]"
      ]
     },
     "execution_count": 7,
     "metadata": {},
     "output_type": "execute_result"
    }
   ],
   "source": [
    "df_avg = df.groupby(['team'],as_index=False).mean()\n",
    "df_avg.sort_values(by='wins',ascending=False).head(3)"
   ]
  },
  {
   "cell_type": "markdown",
   "metadata": {
    "cell_id": "f1f65cd62d1d4f27b605b35dda523e7a",
    "deepnote_cell_type": "markdown"
   },
   "source": [
    "So, there is a roughly thinking that \"attacking\" data should have a positive impact and \"defending\" data should be otherwise."
   ]
  },
  {
   "cell_type": "code",
   "execution_count": 8,
   "metadata": {
    "cell_id": "9527829abdbc41bc85bf9bd77f5ecd54",
    "deepnote_cell_type": "code",
    "deepnote_to_be_reexecuted": false,
    "execution_millis": 27,
    "execution_start": 1686816252621,
    "source_hash": "67a010e3"
   },
   "outputs": [
    {
     "data": {
      "text/plain": [
       "wins                    1.000000\n",
       "losses                 -0.968590\n",
       "goals                   0.968633\n",
       "total_yel_card         -0.257762\n",
       "total_red_card         -0.180572\n",
       "total_scoring_att       0.833338\n",
       "ontarget_scoring_att    0.900001\n",
       "hit_woodwork            0.718569\n",
       "att_hd_goal             0.502109\n",
       "att_pen_goal            0.645460\n",
       "att_freekick_goal       0.349527\n",
       "att_ibox_goal           0.967825\n",
       "att_obox_goal           0.681283\n",
       "goal_fastbreak          0.643157\n",
       "total_offside           0.211573\n",
       "clean_sheet             0.930604\n",
       "goals_conceded         -0.917405\n",
       "saves                  -0.205303\n",
       "outfielder_block       -0.768150\n",
       "interception           -0.210378\n",
       "total_tackle            0.087433\n",
       "last_man_tackle         0.131081\n",
       "total_clearance        -0.614563\n",
       "head_clearance         -0.377820\n",
       "own_goals              -0.470851\n",
       "penalty_conceded       -0.554425\n",
       "pen_goals_conceded     -0.531732\n",
       "total_pass              0.841452\n",
       "total_through_ball      0.776743\n",
       "total_long_balls       -0.413157\n",
       "backward_pass           0.739098\n",
       "total_cross             0.444769\n",
       "corner_taken            0.901280\n",
       "touches                 0.849492\n",
       "big_chance_missed       0.858744\n",
       "clearance_off_line     -0.642533\n",
       "dispossessed            0.514228\n",
       "penalty_save           -0.285913\n",
       "total_high_claim       -0.386829\n",
       "punches                -0.010322\n",
       "Name: wins, dtype: float64"
      ]
     },
     "execution_count": 8,
     "metadata": {},
     "output_type": "execute_result"
    }
   ],
   "source": [
    "df_avg.corr()[\"wins\"]"
   ]
  },
  {
   "cell_type": "markdown",
   "metadata": {
    "cell_id": "26d8ac164c1147518acbf249b7e54a31",
    "deepnote_cell_type": "markdown"
   },
   "source": [
    "## Altair Chart to Visualize the Correlation"
   ]
  },
  {
   "cell_type": "code",
   "execution_count": 9,
   "metadata": {
    "cell_id": "6b2ebc20755a43c691b1b165b1d6a08e",
    "deepnote_cell_type": "code",
    "deepnote_to_be_reexecuted": false,
    "execution_millis": 13,
    "execution_start": 1686816252636,
    "source_hash": "cd83ae58"
   },
   "outputs": [],
   "source": [
    "selected_columns = [col for col in df.columns if col not in ['wins', 'season','team','losses']]"
   ]
  },
  {
   "cell_type": "markdown",
   "metadata": {
    "cell_id": "b114aa8ff00f484aaa29dde851d8b0ce",
    "deepnote_cell_type": "markdown"
   },
   "source": [
    "From [Worksheet7](https://deepnote.com/workspace/zheyu-0ab018e9-04cc-439a-a2c2-90b651fd1424/project/Worksheet-7-Duplicate-8fd1453c-88f3-4839-8c58-d1df36d1ac67/notebook/Worksheet7-328657a7cb814b0190f6481267d5ed24), I learned a way to draw an altair chart which contains different charts with different columns' names splits in columns, and it is a way that clearly shows the correlation with the selected_columns and wins in graph."
   ]
  },
  {
   "cell_type": "code",
   "execution_count": 10,
   "metadata": {
    "cell_id": "794ff3b486ba48f799800ecd6d9032e4",
    "deepnote_cell_type": "code",
    "deepnote_to_be_reexecuted": false,
    "execution_millis": 8,
    "execution_start": 1686816252691,
    "source_hash": "ff4989fd"
   },
   "outputs": [],
   "source": [
    "def make_chart(c):\n",
    "    chart = alt.Chart(df_avg).mark_circle().encode(\n",
    "        x = \"wins\",\n",
    "        y = c,\n",
    "        color = alt.Color(\"team\", scale=alt.Scale(scheme=\"darkblue\")),\n",
    "        tooltip = [\"team\",\"wins\"]\n",
    "    )\n",
    "    return chart"
   ]
  },
  {
   "cell_type": "code",
   "execution_count": 11,
   "metadata": {
    "cell_id": "66aa27c9447348c49891507db9783260",
    "deepnote_cell_type": "code",
    "deepnote_to_be_reexecuted": false,
    "execution_millis": 1059,
    "execution_start": 1686816252692,
    "source_hash": "89d499f3"
   },
   "outputs": [
    {
     "data": {
      "text/html": [
       "\n",
       "<div id=\"altair-viz-898ef7553b6a44c68e84a2147ab2edc3\"></div>\n",
       "<script type=\"text/javascript\">\n",
       "  var VEGA_DEBUG = (typeof VEGA_DEBUG == \"undefined\") ? {} : VEGA_DEBUG;\n",
       "  (function(spec, embedOpt){\n",
       "    let outputDiv = document.currentScript.previousElementSibling;\n",
       "    if (outputDiv.id !== \"altair-viz-898ef7553b6a44c68e84a2147ab2edc3\") {\n",
       "      outputDiv = document.getElementById(\"altair-viz-898ef7553b6a44c68e84a2147ab2edc3\");\n",
       "    }\n",
       "    const paths = {\n",
       "      \"vega\": \"https://cdn.jsdelivr.net/npm//vega@5?noext\",\n",
       "      \"vega-lib\": \"https://cdn.jsdelivr.net/npm//vega-lib?noext\",\n",
       "      \"vega-lite\": \"https://cdn.jsdelivr.net/npm//vega-lite@4.17.0?noext\",\n",
       "      \"vega-embed\": \"https://cdn.jsdelivr.net/npm//vega-embed@6?noext\",\n",
       "    };\n",
       "\n",
       "    function maybeLoadScript(lib, version) {\n",
       "      var key = `${lib.replace(\"-\", \"\")}_version`;\n",
       "      return (VEGA_DEBUG[key] == version) ?\n",
       "        Promise.resolve(paths[lib]) :\n",
       "        new Promise(function(resolve, reject) {\n",
       "          var s = document.createElement('script');\n",
       "          document.getElementsByTagName(\"head\")[0].appendChild(s);\n",
       "          s.async = true;\n",
       "          s.onload = () => {\n",
       "            VEGA_DEBUG[key] = version;\n",
       "            return resolve(paths[lib]);\n",
       "          };\n",
       "          s.onerror = () => reject(`Error loading script: ${paths[lib]}`);\n",
       "          s.src = paths[lib];\n",
       "        });\n",
       "    }\n",
       "\n",
       "    function showError(err) {\n",
       "      outputDiv.innerHTML = `<div class=\"error\" style=\"color:red;\">${err}</div>`;\n",
       "      throw err;\n",
       "    }\n",
       "\n",
       "    function displayChart(vegaEmbed) {\n",
       "      vegaEmbed(outputDiv, spec, embedOpt)\n",
       "        .catch(err => showError(`Javascript Error: ${err.message}<br>This usually means there's a typo in your chart specification. See the javascript console for the full traceback.`));\n",
       "    }\n",
       "\n",
       "    if(typeof define === \"function\" && define.amd) {\n",
       "      requirejs.config({paths});\n",
       "      require([\"vega-embed\"], displayChart, err => showError(`Error loading script: ${err.message}`));\n",
       "    } else {\n",
       "      maybeLoadScript(\"vega\", \"5\")\n",
       "        .then(() => maybeLoadScript(\"vega-lite\", \"4.17.0\"))\n",
       "        .then(() => maybeLoadScript(\"vega-embed\", \"6\"))\n",
       "        .catch(showError)\n",
       "        .then(() => displayChart(vegaEmbed));\n",
       "    }\n",
       "  })({\"config\": {\"view\": {\"continuousWidth\": 400, \"continuousHeight\": 300}}, \"vconcat\": [{\"mark\": \"circle\", \"encoding\": {\"color\": {\"field\": \"team\", \"scale\": {\"scheme\": \"darkblue\"}, \"type\": \"nominal\"}, \"tooltip\": [{\"field\": \"team\", \"type\": \"nominal\"}, {\"field\": \"wins\", \"type\": \"quantitative\"}], \"x\": {\"field\": \"wins\", \"type\": \"quantitative\"}, \"y\": {\"field\": \"goals\", \"type\": \"quantitative\"}}}, {\"mark\": \"circle\", \"encoding\": {\"color\": {\"field\": \"team\", \"scale\": {\"scheme\": \"darkblue\"}, \"type\": \"nominal\"}, \"tooltip\": [{\"field\": \"team\", \"type\": \"nominal\"}, {\"field\": \"wins\", \"type\": \"quantitative\"}], \"x\": {\"field\": \"wins\", \"type\": \"quantitative\"}, \"y\": {\"field\": \"total_yel_card\", \"type\": \"quantitative\"}}}, {\"mark\": \"circle\", \"encoding\": {\"color\": {\"field\": \"team\", \"scale\": {\"scheme\": \"darkblue\"}, \"type\": \"nominal\"}, \"tooltip\": [{\"field\": \"team\", \"type\": \"nominal\"}, {\"field\": \"wins\", \"type\": \"quantitative\"}], \"x\": {\"field\": \"wins\", \"type\": \"quantitative\"}, \"y\": {\"field\": \"total_red_card\", \"type\": \"quantitative\"}}}, {\"mark\": \"circle\", \"encoding\": {\"color\": {\"field\": \"team\", \"scale\": {\"scheme\": \"darkblue\"}, \"type\": \"nominal\"}, \"tooltip\": [{\"field\": \"team\", \"type\": \"nominal\"}, {\"field\": \"wins\", \"type\": \"quantitative\"}], \"x\": {\"field\": \"wins\", \"type\": \"quantitative\"}, \"y\": {\"field\": \"total_scoring_att\", \"type\": \"quantitative\"}}}, {\"mark\": \"circle\", \"encoding\": {\"color\": {\"field\": \"team\", \"scale\": {\"scheme\": \"darkblue\"}, \"type\": \"nominal\"}, \"tooltip\": [{\"field\": \"team\", \"type\": \"nominal\"}, {\"field\": \"wins\", \"type\": \"quantitative\"}], \"x\": {\"field\": \"wins\", \"type\": \"quantitative\"}, \"y\": {\"field\": \"ontarget_scoring_att\", \"type\": \"quantitative\"}}}, {\"mark\": \"circle\", \"encoding\": {\"color\": {\"field\": \"team\", \"scale\": {\"scheme\": \"darkblue\"}, \"type\": \"nominal\"}, \"tooltip\": [{\"field\": \"team\", \"type\": \"nominal\"}, {\"field\": \"wins\", \"type\": \"quantitative\"}], \"x\": {\"field\": \"wins\", \"type\": \"quantitative\"}, \"y\": {\"field\": \"hit_woodwork\", \"type\": \"quantitative\"}}}, {\"mark\": \"circle\", \"encoding\": {\"color\": {\"field\": \"team\", \"scale\": {\"scheme\": \"darkblue\"}, \"type\": \"nominal\"}, \"tooltip\": [{\"field\": \"team\", \"type\": \"nominal\"}, {\"field\": \"wins\", \"type\": \"quantitative\"}], \"x\": {\"field\": \"wins\", \"type\": \"quantitative\"}, \"y\": {\"field\": \"att_hd_goal\", \"type\": \"quantitative\"}}}, {\"mark\": \"circle\", \"encoding\": {\"color\": {\"field\": \"team\", \"scale\": {\"scheme\": \"darkblue\"}, \"type\": \"nominal\"}, \"tooltip\": [{\"field\": \"team\", \"type\": \"nominal\"}, {\"field\": \"wins\", \"type\": \"quantitative\"}], \"x\": {\"field\": \"wins\", \"type\": \"quantitative\"}, \"y\": {\"field\": \"att_pen_goal\", \"type\": \"quantitative\"}}}, {\"mark\": \"circle\", \"encoding\": {\"color\": {\"field\": \"team\", \"scale\": {\"scheme\": \"darkblue\"}, \"type\": \"nominal\"}, \"tooltip\": [{\"field\": \"team\", \"type\": \"nominal\"}, {\"field\": \"wins\", \"type\": \"quantitative\"}], \"x\": {\"field\": \"wins\", \"type\": \"quantitative\"}, \"y\": {\"field\": \"att_freekick_goal\", \"type\": \"quantitative\"}}}, {\"mark\": \"circle\", \"encoding\": {\"color\": {\"field\": \"team\", \"scale\": {\"scheme\": \"darkblue\"}, \"type\": \"nominal\"}, \"tooltip\": [{\"field\": \"team\", \"type\": \"nominal\"}, {\"field\": \"wins\", \"type\": \"quantitative\"}], \"x\": {\"field\": \"wins\", \"type\": \"quantitative\"}, \"y\": {\"field\": \"att_ibox_goal\", \"type\": \"quantitative\"}}}, {\"mark\": \"circle\", \"encoding\": {\"color\": {\"field\": \"team\", \"scale\": {\"scheme\": \"darkblue\"}, \"type\": \"nominal\"}, \"tooltip\": [{\"field\": \"team\", \"type\": \"nominal\"}, {\"field\": \"wins\", \"type\": \"quantitative\"}], \"x\": {\"field\": \"wins\", \"type\": \"quantitative\"}, \"y\": {\"field\": \"att_obox_goal\", \"type\": \"quantitative\"}}}, {\"mark\": \"circle\", \"encoding\": {\"color\": {\"field\": \"team\", \"scale\": {\"scheme\": \"darkblue\"}, \"type\": \"nominal\"}, \"tooltip\": [{\"field\": \"team\", \"type\": \"nominal\"}, {\"field\": \"wins\", \"type\": \"quantitative\"}], \"x\": {\"field\": \"wins\", \"type\": \"quantitative\"}, \"y\": {\"field\": \"goal_fastbreak\", \"type\": \"quantitative\"}}}, {\"mark\": \"circle\", \"encoding\": {\"color\": {\"field\": \"team\", \"scale\": {\"scheme\": \"darkblue\"}, \"type\": \"nominal\"}, \"tooltip\": [{\"field\": \"team\", \"type\": \"nominal\"}, {\"field\": \"wins\", \"type\": \"quantitative\"}], \"x\": {\"field\": \"wins\", \"type\": \"quantitative\"}, \"y\": {\"field\": \"total_offside\", \"type\": \"quantitative\"}}}, {\"mark\": \"circle\", \"encoding\": {\"color\": {\"field\": \"team\", \"scale\": {\"scheme\": \"darkblue\"}, \"type\": \"nominal\"}, \"tooltip\": [{\"field\": \"team\", \"type\": \"nominal\"}, {\"field\": \"wins\", \"type\": \"quantitative\"}], \"x\": {\"field\": \"wins\", \"type\": \"quantitative\"}, \"y\": {\"field\": \"clean_sheet\", \"type\": \"quantitative\"}}}, {\"mark\": \"circle\", \"encoding\": {\"color\": {\"field\": \"team\", \"scale\": {\"scheme\": \"darkblue\"}, \"type\": \"nominal\"}, \"tooltip\": [{\"field\": \"team\", \"type\": \"nominal\"}, {\"field\": \"wins\", \"type\": \"quantitative\"}], \"x\": {\"field\": \"wins\", \"type\": \"quantitative\"}, \"y\": {\"field\": \"goals_conceded\", \"type\": \"quantitative\"}}}, {\"mark\": \"circle\", \"encoding\": {\"color\": {\"field\": \"team\", \"scale\": {\"scheme\": \"darkblue\"}, \"type\": \"nominal\"}, \"tooltip\": [{\"field\": \"team\", \"type\": \"nominal\"}, {\"field\": \"wins\", \"type\": \"quantitative\"}], \"x\": {\"field\": \"wins\", \"type\": \"quantitative\"}, \"y\": {\"field\": \"saves\", \"type\": \"quantitative\"}}}, {\"mark\": \"circle\", \"encoding\": {\"color\": {\"field\": \"team\", \"scale\": {\"scheme\": \"darkblue\"}, \"type\": \"nominal\"}, \"tooltip\": [{\"field\": \"team\", \"type\": \"nominal\"}, {\"field\": \"wins\", \"type\": \"quantitative\"}], \"x\": {\"field\": \"wins\", \"type\": \"quantitative\"}, \"y\": {\"field\": \"outfielder_block\", \"type\": \"quantitative\"}}}, {\"mark\": \"circle\", \"encoding\": {\"color\": {\"field\": \"team\", \"scale\": {\"scheme\": \"darkblue\"}, \"type\": \"nominal\"}, \"tooltip\": [{\"field\": \"team\", \"type\": \"nominal\"}, {\"field\": \"wins\", \"type\": \"quantitative\"}], \"x\": {\"field\": \"wins\", \"type\": \"quantitative\"}, \"y\": {\"field\": \"interception\", \"type\": \"quantitative\"}}}, {\"mark\": \"circle\", \"encoding\": {\"color\": {\"field\": \"team\", \"scale\": {\"scheme\": \"darkblue\"}, \"type\": \"nominal\"}, \"tooltip\": [{\"field\": \"team\", \"type\": \"nominal\"}, {\"field\": \"wins\", \"type\": \"quantitative\"}], \"x\": {\"field\": \"wins\", \"type\": \"quantitative\"}, \"y\": {\"field\": \"total_tackle\", \"type\": \"quantitative\"}}}, {\"mark\": \"circle\", \"encoding\": {\"color\": {\"field\": \"team\", \"scale\": {\"scheme\": \"darkblue\"}, \"type\": \"nominal\"}, \"tooltip\": [{\"field\": \"team\", \"type\": \"nominal\"}, {\"field\": \"wins\", \"type\": \"quantitative\"}], \"x\": {\"field\": \"wins\", \"type\": \"quantitative\"}, \"y\": {\"field\": \"last_man_tackle\", \"type\": \"quantitative\"}}}, {\"mark\": \"circle\", \"encoding\": {\"color\": {\"field\": \"team\", \"scale\": {\"scheme\": \"darkblue\"}, \"type\": \"nominal\"}, \"tooltip\": [{\"field\": \"team\", \"type\": \"nominal\"}, {\"field\": \"wins\", \"type\": \"quantitative\"}], \"x\": {\"field\": \"wins\", \"type\": \"quantitative\"}, \"y\": {\"field\": \"total_clearance\", \"type\": \"quantitative\"}}}, {\"mark\": \"circle\", \"encoding\": {\"color\": {\"field\": \"team\", \"scale\": {\"scheme\": \"darkblue\"}, \"type\": \"nominal\"}, \"tooltip\": [{\"field\": \"team\", \"type\": \"nominal\"}, {\"field\": \"wins\", \"type\": \"quantitative\"}], \"x\": {\"field\": \"wins\", \"type\": \"quantitative\"}, \"y\": {\"field\": \"head_clearance\", \"type\": \"quantitative\"}}}, {\"mark\": \"circle\", \"encoding\": {\"color\": {\"field\": \"team\", \"scale\": {\"scheme\": \"darkblue\"}, \"type\": \"nominal\"}, \"tooltip\": [{\"field\": \"team\", \"type\": \"nominal\"}, {\"field\": \"wins\", \"type\": \"quantitative\"}], \"x\": {\"field\": \"wins\", \"type\": \"quantitative\"}, \"y\": {\"field\": \"own_goals\", \"type\": \"quantitative\"}}}, {\"mark\": \"circle\", \"encoding\": {\"color\": {\"field\": \"team\", \"scale\": {\"scheme\": \"darkblue\"}, \"type\": \"nominal\"}, \"tooltip\": [{\"field\": \"team\", \"type\": \"nominal\"}, {\"field\": \"wins\", \"type\": \"quantitative\"}], \"x\": {\"field\": \"wins\", \"type\": \"quantitative\"}, \"y\": {\"field\": \"penalty_conceded\", \"type\": \"quantitative\"}}}, {\"mark\": \"circle\", \"encoding\": {\"color\": {\"field\": \"team\", \"scale\": {\"scheme\": \"darkblue\"}, \"type\": \"nominal\"}, \"tooltip\": [{\"field\": \"team\", \"type\": \"nominal\"}, {\"field\": \"wins\", \"type\": \"quantitative\"}], \"x\": {\"field\": \"wins\", \"type\": \"quantitative\"}, \"y\": {\"field\": \"pen_goals_conceded\", \"type\": \"quantitative\"}}}, {\"mark\": \"circle\", \"encoding\": {\"color\": {\"field\": \"team\", \"scale\": {\"scheme\": \"darkblue\"}, \"type\": \"nominal\"}, \"tooltip\": [{\"field\": \"team\", \"type\": \"nominal\"}, {\"field\": \"wins\", \"type\": \"quantitative\"}], \"x\": {\"field\": \"wins\", \"type\": \"quantitative\"}, \"y\": {\"field\": \"total_pass\", \"type\": \"quantitative\"}}}, {\"mark\": \"circle\", \"encoding\": {\"color\": {\"field\": \"team\", \"scale\": {\"scheme\": \"darkblue\"}, \"type\": \"nominal\"}, \"tooltip\": [{\"field\": \"team\", \"type\": \"nominal\"}, {\"field\": \"wins\", \"type\": \"quantitative\"}], \"x\": {\"field\": \"wins\", \"type\": \"quantitative\"}, \"y\": {\"field\": \"total_through_ball\", \"type\": \"quantitative\"}}}, {\"mark\": \"circle\", \"encoding\": {\"color\": {\"field\": \"team\", \"scale\": {\"scheme\": \"darkblue\"}, \"type\": \"nominal\"}, \"tooltip\": [{\"field\": \"team\", \"type\": \"nominal\"}, {\"field\": \"wins\", \"type\": \"quantitative\"}], \"x\": {\"field\": \"wins\", \"type\": \"quantitative\"}, \"y\": {\"field\": \"total_long_balls\", \"type\": \"quantitative\"}}}, {\"mark\": \"circle\", \"encoding\": {\"color\": {\"field\": \"team\", \"scale\": {\"scheme\": \"darkblue\"}, \"type\": \"nominal\"}, \"tooltip\": [{\"field\": \"team\", \"type\": \"nominal\"}, {\"field\": \"wins\", \"type\": \"quantitative\"}], \"x\": {\"field\": \"wins\", \"type\": \"quantitative\"}, \"y\": {\"field\": \"backward_pass\", \"type\": \"quantitative\"}}}, {\"mark\": \"circle\", \"encoding\": {\"color\": {\"field\": \"team\", \"scale\": {\"scheme\": \"darkblue\"}, \"type\": \"nominal\"}, \"tooltip\": [{\"field\": \"team\", \"type\": \"nominal\"}, {\"field\": \"wins\", \"type\": \"quantitative\"}], \"x\": {\"field\": \"wins\", \"type\": \"quantitative\"}, \"y\": {\"field\": \"total_cross\", \"type\": \"quantitative\"}}}, {\"mark\": \"circle\", \"encoding\": {\"color\": {\"field\": \"team\", \"scale\": {\"scheme\": \"darkblue\"}, \"type\": \"nominal\"}, \"tooltip\": [{\"field\": \"team\", \"type\": \"nominal\"}, {\"field\": \"wins\", \"type\": \"quantitative\"}], \"x\": {\"field\": \"wins\", \"type\": \"quantitative\"}, \"y\": {\"field\": \"corner_taken\", \"type\": \"quantitative\"}}}, {\"mark\": \"circle\", \"encoding\": {\"color\": {\"field\": \"team\", \"scale\": {\"scheme\": \"darkblue\"}, \"type\": \"nominal\"}, \"tooltip\": [{\"field\": \"team\", \"type\": \"nominal\"}, {\"field\": \"wins\", \"type\": \"quantitative\"}], \"x\": {\"field\": \"wins\", \"type\": \"quantitative\"}, \"y\": {\"field\": \"touches\", \"type\": \"quantitative\"}}}, {\"mark\": \"circle\", \"encoding\": {\"color\": {\"field\": \"team\", \"scale\": {\"scheme\": \"darkblue\"}, \"type\": \"nominal\"}, \"tooltip\": [{\"field\": \"team\", \"type\": \"nominal\"}, {\"field\": \"wins\", \"type\": \"quantitative\"}], \"x\": {\"field\": \"wins\", \"type\": \"quantitative\"}, \"y\": {\"field\": \"big_chance_missed\", \"type\": \"quantitative\"}}}, {\"mark\": \"circle\", \"encoding\": {\"color\": {\"field\": \"team\", \"scale\": {\"scheme\": \"darkblue\"}, \"type\": \"nominal\"}, \"tooltip\": [{\"field\": \"team\", \"type\": \"nominal\"}, {\"field\": \"wins\", \"type\": \"quantitative\"}], \"x\": {\"field\": \"wins\", \"type\": \"quantitative\"}, \"y\": {\"field\": \"clearance_off_line\", \"type\": \"quantitative\"}}}, {\"mark\": \"circle\", \"encoding\": {\"color\": {\"field\": \"team\", \"scale\": {\"scheme\": \"darkblue\"}, \"type\": \"nominal\"}, \"tooltip\": [{\"field\": \"team\", \"type\": \"nominal\"}, {\"field\": \"wins\", \"type\": \"quantitative\"}], \"x\": {\"field\": \"wins\", \"type\": \"quantitative\"}, \"y\": {\"field\": \"dispossessed\", \"type\": \"quantitative\"}}}, {\"mark\": \"circle\", \"encoding\": {\"color\": {\"field\": \"team\", \"scale\": {\"scheme\": \"darkblue\"}, \"type\": \"nominal\"}, \"tooltip\": [{\"field\": \"team\", \"type\": \"nominal\"}, {\"field\": \"wins\", \"type\": \"quantitative\"}], \"x\": {\"field\": \"wins\", \"type\": \"quantitative\"}, \"y\": {\"field\": \"penalty_save\", \"type\": \"quantitative\"}}}, {\"mark\": \"circle\", \"encoding\": {\"color\": {\"field\": \"team\", \"scale\": {\"scheme\": \"darkblue\"}, \"type\": \"nominal\"}, \"tooltip\": [{\"field\": \"team\", \"type\": \"nominal\"}, {\"field\": \"wins\", \"type\": \"quantitative\"}], \"x\": {\"field\": \"wins\", \"type\": \"quantitative\"}, \"y\": {\"field\": \"total_high_claim\", \"type\": \"quantitative\"}}}, {\"mark\": \"circle\", \"encoding\": {\"color\": {\"field\": \"team\", \"scale\": {\"scheme\": \"darkblue\"}, \"type\": \"nominal\"}, \"tooltip\": [{\"field\": \"team\", \"type\": \"nominal\"}, {\"field\": \"wins\", \"type\": \"quantitative\"}], \"x\": {\"field\": \"wins\", \"type\": \"quantitative\"}, \"y\": {\"field\": \"punches\", \"type\": \"quantitative\"}}}], \"data\": {\"name\": \"data-1ee1e1a47562970631f554a133564465\"}, \"$schema\": \"https://vega.github.io/schema/vega-lite/v4.17.0.json\", \"datasets\": {\"data-1ee1e1a47562970631f554a133564465\": [{\"team\": \"AFC Bournemouth\", \"wins\": 11.333333333333334, \"losses\": 16.666666666666668, \"goals\": 48.333333333333336, \"total_yel_card\": 53.333333333333336, \"total_red_card\": 1.6666666666666667, \"total_scoring_att\": 460.3333333333333, \"ontarget_scoring_att\": 153.66666666666666, \"hit_woodwork\": 12.333333333333334, \"att_hd_goal\": 6.666666666666667, \"att_pen_goal\": 4.333333333333333, \"att_freekick_goal\": 0.3333333333333333, \"att_ibox_goal\": 42.666666666666664, \"att_obox_goal\": 6.0, \"goal_fastbreak\": 0.6666666666666666, \"total_offside\": 57.0, \"clean_sheet\": 7.666666666666667, \"goals_conceded\": 65.0, \"saves\": 108.0, \"outfielder_block\": 138.66666666666666, \"interception\": 489.0, \"total_tackle\": 607.0, \"last_man_tackle\": 1.6666666666666667, \"total_clearance\": 1026.6666666666667, \"head_clearance\": 555.0, \"own_goals\": 2.0, \"penalty_conceded\": 4.666666666666667, \"pen_goals_conceded\": 2.6666666666666665, \"total_pass\": 16851.0, \"total_through_ball\": 40.333333333333336, \"total_long_balls\": 2414.6666666666665, \"backward_pass\": 2483.0, \"total_cross\": 694.6666666666666, \"corner_taken\": 210.66666666666666, \"touches\": 24575.333333333332, \"big_chance_missed\": 26.666666666666668, \"clearance_off_line\": 4.0, \"dispossessed\": 422.6666666666667, \"penalty_save\": 1.6666666666666667, \"total_high_claim\": 43.666666666666664, \"punches\": 17.666666666666668}, {\"team\": \"Arsenal\", \"wins\": 21.125, \"losses\": 8.5, \"goals\": 71.625, \"total_yel_card\": 57.125, \"total_red_card\": 3.75, \"total_scoring_att\": 594.0, \"ontarget_scoring_att\": 220.625, \"hit_woodwork\": 17.125, \"att_hd_goal\": 11.75, \"att_pen_goal\": 3.625, \"att_freekick_goal\": 1.5, \"att_ibox_goal\": 65.0, \"att_obox_goal\": 6.75, \"goal_fastbreak\": 3.75, \"total_offside\": 83.625, \"clean_sheet\": 14.25, \"goals_conceded\": 42.125, \"saves\": 69.25, \"outfielder_block\": 101.875, \"interception\": 618.75, \"total_tackle\": 716.125, \"last_man_tackle\": 9.75, \"total_clearance\": 930.625, \"head_clearance\": 512.75, \"own_goals\": 1.625, \"penalty_conceded\": 5.625, \"pen_goals_conceded\": 4.625, \"total_pass\": 21264.25, \"total_through_ball\": 206.625, \"total_long_balls\": 1782.75, \"backward_pass\": 2873.125, \"total_cross\": 802.125, \"corner_taken\": 239.625, \"touches\": 29200.25, \"big_chance_missed\": 60.0, \"clearance_off_line\": 3.25, \"dispossessed\": 478.75, \"penalty_save\": 0.75, \"total_high_claim\": 50.625, \"punches\": 20.75}, {\"team\": \"Aston Villa\", \"wins\": 8.666666666666666, \"losses\": 18.666666666666668, \"goals\": 38.166666666666664, \"total_yel_card\": 72.66666666666667, \"total_red_card\": 2.8333333333333335, \"total_scoring_att\": 435.1666666666667, \"ontarget_scoring_att\": 135.66666666666666, \"hit_woodwork\": 10.166666666666666, \"att_hd_goal\": 7.666666666666667, \"att_pen_goal\": 2.5, \"att_freekick_goal\": 1.1666666666666667, \"att_ibox_goal\": 31.333333333333332, \"att_obox_goal\": 6.833333333333333, \"goal_fastbreak\": 3.0, \"total_offside\": 78.33333333333333, \"clean_sheet\": 7.666666666666667, \"goals_conceded\": 62.5, \"saves\": 56.666666666666664, \"outfielder_block\": 151.33333333333334, \"interception\": 648.5, \"total_tackle\": 743.3333333333334, \"last_man_tackle\": 6.833333333333333, \"total_clearance\": 1184.6666666666667, \"head_clearance\": 613.8333333333334, \"own_goals\": 2.8333333333333335, \"penalty_conceded\": 5.666666666666667, \"pen_goals_conceded\": 4.833333333333333, \"total_pass\": 14617.833333333334, \"total_through_ball\": 49.833333333333336, \"total_long_balls\": 2232.5, \"backward_pass\": 2204.1666666666665, \"total_cross\": 799.0, \"corner_taken\": 187.66666666666666, \"touches\": 22414.0, \"big_chance_missed\": 33.666666666666664, \"clearance_off_line\": 5.666666666666667, \"dispossessed\": 377.5, \"penalty_save\": 0.5, \"total_high_claim\": 69.5, \"punches\": 21.0}, {\"team\": \"Burnley\", \"wins\": 10.666666666666666, \"losses\": 17.0, \"goals\": 34.333333333333336, \"total_yel_card\": 64.66666666666667, \"total_red_card\": 1.3333333333333333, \"total_scoring_att\": 399.6666666666667, \"ontarget_scoring_att\": 124.33333333333333, \"hit_woodwork\": 9.0, \"att_hd_goal\": 7.333333333333333, \"att_pen_goal\": 2.3333333333333335, \"att_freekick_goal\": 1.6666666666666667, \"att_ibox_goal\": 29.0, \"att_obox_goal\": 5.333333333333333, \"goal_fastbreak\": 0.6666666666666666, \"total_offside\": 88.33333333333333, \"clean_sheet\": 10.666666666666666, \"goals_conceded\": 49.0, \"saves\": 133.66666666666666, \"outfielder_block\": 197.33333333333334, \"interception\": 502.6666666666667, \"total_tackle\": 595.3333333333334, \"last_man_tackle\": 2.3333333333333335, \"total_clearance\": 1291.6666666666667, \"head_clearance\": 779.0, \"own_goals\": 1.6666666666666667, \"penalty_conceded\": 5.333333333333333, \"pen_goals_conceded\": 3.3333333333333335, \"total_pass\": 13254.0, \"total_through_ball\": 18.666666666666668, \"total_long_balls\": 3075.0, \"backward_pass\": 2008.0, \"total_cross\": 713.3333333333334, \"corner_taken\": 162.33333333333334, \"touches\": 20710.666666666668, \"big_chance_missed\": 22.333333333333332, \"clearance_off_line\": 6.333333333333333, \"dispossessed\": 341.0, \"penalty_save\": 1.3333333333333333, \"total_high_claim\": 47.333333333333336, \"punches\": 16.0}, {\"team\": \"Chelsea\", \"wins\": 21.875, \"losses\": 7.75, \"goals\": 69.875, \"total_yel_card\": 60.75, \"total_red_card\": 3.0, \"total_scoring_att\": 626.25, \"ontarget_scoring_att\": 214.5, \"hit_woodwork\": 14.25, \"att_hd_goal\": 10.875, \"att_pen_goal\": 4.625, \"att_freekick_goal\": 2.125, \"att_ibox_goal\": 59.75, \"att_obox_goal\": 10.125, \"goal_fastbreak\": 3.0, \"total_offside\": 88.25, \"clean_sheet\": 14.375, \"goals_conceded\": 37.625, \"saves\": 58.375, \"outfielder_block\": 107.5, \"interception\": 495.5, \"total_tackle\": 718.375, \"last_man_tackle\": 4.625, \"total_clearance\": 898.625, \"head_clearance\": 527.375, \"own_goals\": 1.5, \"penalty_conceded\": 2.75, \"pen_goals_conceded\": 2.125, \"total_pass\": 19501.75, \"total_through_ball\": 104.375, \"total_long_balls\": 2156.5, \"backward_pass\": 2889.875, \"total_cross\": 812.0, \"corner_taken\": 239.0, \"touches\": 27226.375, \"big_chance_missed\": 43.625, \"clearance_off_line\": 4.0, \"dispossessed\": 463.75, \"penalty_save\": 0.25, \"total_high_claim\": 55.125, \"punches\": 19.25}, {\"team\": \"Crystal Palace\", \"wins\": 12.0, \"losses\": 18.0, \"goals\": 42.8, \"total_yel_card\": 66.0, \"total_red_card\": 1.6, \"total_scoring_att\": 447.8, \"ontarget_scoring_att\": 144.8, \"hit_woodwork\": 10.2, \"att_hd_goal\": 8.0, \"att_pen_goal\": 5.2, \"att_freekick_goal\": 1.4, \"att_ibox_goal\": 37.8, \"att_obox_goal\": 5.0, \"goal_fastbreak\": 1.0, \"total_offside\": 68.0, \"clean_sheet\": 8.6, \"goals_conceded\": 53.6, \"saves\": 113.0, \"outfielder_block\": 142.2, \"interception\": 619.6, \"total_tackle\": 733.8, \"last_man_tackle\": 4.4, \"total_clearance\": 1137.2, \"head_clearance\": 642.2, \"own_goals\": 1.6, \"penalty_conceded\": 4.0, \"pen_goals_conceded\": 3.6, \"total_pass\": 13112.4, \"total_through_ball\": 21.4, \"total_long_balls\": 2483.4, \"backward_pass\": 1973.6, \"total_cross\": 816.8, \"corner_taken\": 202.6, \"touches\": 21304.6, \"big_chance_missed\": 34.8, \"clearance_off_line\": 5.6, \"dispossessed\": 426.2, \"penalty_save\": 0.4, \"total_high_claim\": 59.2, \"punches\": 9.0}, {\"team\": \"Everton\", \"wins\": 14.75, \"losses\": 11.375, \"goals\": 53.75, \"total_yel_card\": 57.75, \"total_red_card\": 2.875, \"total_scoring_att\": 516.125, \"ontarget_scoring_att\": 175.125, \"hit_woodwork\": 12.875, \"att_hd_goal\": 10.375, \"att_pen_goal\": 3.625, \"att_freekick_goal\": 1.5, \"att_ibox_goal\": 45.75, \"att_obox_goal\": 8.0, \"goal_fastbreak\": 2.875, \"total_offside\": 84.5, \"clean_sheet\": 11.25, \"goals_conceded\": 46.375, \"saves\": 68.375, \"outfielder_block\": 148.25, \"interception\": 509.0, \"total_tackle\": 699.875, \"last_man_tackle\": 6.375, \"total_clearance\": 1161.375, \"head_clearance\": 628.375, \"own_goals\": 2.0, \"penalty_conceded\": 4.375, \"pen_goals_conceded\": 2.875, \"total_pass\": 16581.875, \"total_through_ball\": 53.25, \"total_long_balls\": 2446.625, \"backward_pass\": 2487.75, \"total_cross\": 825.125, \"corner_taken\": 211.375, \"touches\": 24515.25, \"big_chance_missed\": 41.25, \"clearance_off_line\": 4.5, \"dispossessed\": 462.0, \"penalty_save\": 0.875, \"total_high_claim\": 54.5, \"punches\": 22.125}, {\"team\": \"Fulham\", \"wins\": 11.25, \"losses\": 16.5, \"goals\": 46.75, \"total_yel_card\": 53.0, \"total_red_card\": 1.25, \"total_scoring_att\": 494.75, \"ontarget_scoring_att\": 169.0, \"hit_woodwork\": 16.0, \"att_hd_goal\": 9.75, \"att_pen_goal\": 3.25, \"att_freekick_goal\": 1.5, \"att_ibox_goal\": 39.5, \"att_obox_goal\": 7.25, \"goal_fastbreak\": 2.0, \"total_offside\": 86.25, \"clean_sheet\": 9.5, \"goals_conceded\": 59.75, \"saves\": 38.5, \"outfielder_block\": 151.0, \"interception\": 639.0, \"total_tackle\": 712.5, \"last_man_tackle\": 3.75, \"total_clearance\": 1285.75, \"head_clearance\": 701.25, \"own_goals\": 3.0, \"penalty_conceded\": 3.5, \"pen_goals_conceded\": 2.5, \"total_pass\": 16407.0, \"total_through_ball\": 63.75, \"total_long_balls\": 2093.5, \"backward_pass\": 2695.75, \"total_cross\": 738.75, \"corner_taken\": 187.0, \"touches\": 24300.5, \"big_chance_missed\": 38.75, \"clearance_off_line\": 8.75, \"dispossessed\": 489.25, \"penalty_save\": 1.0, \"total_high_claim\": 72.25, \"punches\": 27.0}, {\"team\": \"Hull City\", \"wins\": 9.0, \"losses\": 20.666666666666668, \"goals\": 36.0, \"total_yel_card\": 64.33333333333333, \"total_red_card\": 5.0, \"total_scoring_att\": 417.3333333333333, \"ontarget_scoring_att\": 129.66666666666666, \"hit_woodwork\": 12.333333333333334, \"att_hd_goal\": 8.333333333333334, \"att_pen_goal\": 2.0, \"att_freekick_goal\": 1.0, \"att_ibox_goal\": 31.0, \"att_obox_goal\": 5.0, \"goal_fastbreak\": 2.3333333333333335, \"total_offside\": 76.33333333333333, \"clean_sheet\": 8.333333333333334, \"goals_conceded\": 61.333333333333336, \"saves\": 115.0, \"outfielder_block\": 162.66666666666666, \"interception\": 598.6666666666666, \"total_tackle\": 705.6666666666666, \"last_man_tackle\": 3.0, \"total_clearance\": 1155.0, \"head_clearance\": 649.6666666666666, \"own_goals\": 2.3333333333333335, \"penalty_conceded\": 6.666666666666667, \"pen_goals_conceded\": 5.0, \"total_pass\": 15242.333333333334, \"total_through_ball\": 28.0, \"total_long_balls\": 2519.0, \"backward_pass\": 2385.0, \"total_cross\": 798.6666666666666, \"corner_taken\": 169.33333333333334, \"touches\": 22742.666666666668, \"big_chance_missed\": 23.666666666666668, \"clearance_off_line\": 6.333333333333333, \"dispossessed\": 418.3333333333333, \"penalty_save\": 1.6666666666666667, \"total_high_claim\": 33.333333333333336, \"punches\": 21.666666666666668}, {\"team\": \"Leicester City\", \"wins\": 14.5, \"losses\": 13.75, \"goals\": 54.5, \"total_yel_card\": 55.25, \"total_red_card\": 3.25, \"total_scoring_att\": 458.5, \"ontarget_scoring_att\": 152.5, \"hit_woodwork\": 9.75, \"att_hd_goal\": 9.25, \"att_pen_goal\": 5.5, \"att_freekick_goal\": 0.5, \"att_ibox_goal\": 47.75, \"att_obox_goal\": 6.75, \"goal_fastbreak\": 5.0, \"total_offside\": 66.75, \"clean_sheet\": 10.75, \"goals_conceded\": 53.5, \"saves\": 115.25, \"outfielder_block\": 149.5, \"interception\": 630.0, \"total_tackle\": 741.75, \"last_man_tackle\": 2.25, \"total_clearance\": 1040.5, \"head_clearance\": 576.75, \"own_goals\": 2.25, \"penalty_conceded\": 4.0, \"pen_goals_conceded\": 3.25, \"total_pass\": 13896.0, \"total_through_ball\": 41.0, \"total_long_balls\": 2715.0, \"backward_pass\": 1991.25, \"total_cross\": 787.25, \"corner_taken\": 202.0, \"touches\": 21769.5, \"big_chance_missed\": 42.25, \"clearance_off_line\": 3.75, \"dispossessed\": 347.25, \"penalty_save\": 0.5, \"total_high_claim\": 40.25, \"punches\": 21.75}, {\"team\": \"Liverpool\", \"wins\": 18.75, \"losses\": 9.5, \"goals\": 69.375, \"total_yel_card\": 56.125, \"total_red_card\": 2.125, \"total_scoring_att\": 642.0, \"ontarget_scoring_att\": 220.625, \"hit_woodwork\": 19.125, \"att_hd_goal\": 10.0, \"att_pen_goal\": 4.75, \"att_freekick_goal\": 2.375, \"att_ibox_goal\": 58.375, \"att_obox_goal\": 11.0, \"goal_fastbreak\": 3.875, \"total_offside\": 89.5, \"clean_sheet\": 13.25, \"goals_conceded\": 44.375, \"saves\": 52.625, \"outfielder_block\": 102.375, \"interception\": 483.5, \"total_tackle\": 788.0, \"last_man_tackle\": 3.875, \"total_clearance\": 963.125, \"head_clearance\": 496.75, \"own_goals\": 2.0, \"penalty_conceded\": 4.875, \"pen_goals_conceded\": 3.5, \"total_pass\": 19910.625, \"total_through_ball\": 110.75, \"total_long_balls\": 2211.125, \"backward_pass\": 2960.875, \"total_cross\": 794.75, \"corner_taken\": 246.375, \"touches\": 27865.375, \"big_chance_missed\": 50.0, \"clearance_off_line\": 2.875, \"dispossessed\": 479.5, \"penalty_save\": 1.25, \"total_high_claim\": 38.75, \"punches\": 25.25}, {\"team\": \"Manchester City\", \"wins\": 24.625, \"losses\": 6.375, \"goals\": 82.625, \"total_yel_card\": 65.5, \"total_red_card\": 2.75, \"total_scoring_att\": 650.0, \"ontarget_scoring_att\": 227.0, \"hit_woodwork\": 18.5, \"att_hd_goal\": 8.5, \"att_pen_goal\": 6.25, \"att_freekick_goal\": 2.0, \"att_ibox_goal\": 69.75, \"att_obox_goal\": 12.875, \"goal_fastbreak\": 5.375, \"total_offside\": 77.375, \"clean_sheet\": 16.125, \"goals_conceded\": 34.75, \"saves\": 49.625, \"outfielder_block\": 87.0, \"interception\": 537.125, \"total_tackle\": 705.625, \"last_man_tackle\": 3.5, \"total_clearance\": 930.875, \"head_clearance\": 518.75, \"own_goals\": 1.625, \"penalty_conceded\": 2.75, \"pen_goals_conceded\": 1.625, \"total_pass\": 21624.375, \"total_through_ball\": 151.625, \"total_long_balls\": 1831.25, \"backward_pass\": 3179.5, \"total_cross\": 813.75, \"corner_taken\": 267.625, \"touches\": 29239.875, \"big_chance_missed\": 58.0, \"clearance_off_line\": 3.125, \"dispossessed\": 487.375, \"penalty_save\": 1.0, \"total_high_claim\": 41.75, \"punches\": 26.125}, {\"team\": \"Manchester United\", \"wins\": 22.5, \"losses\": 7.0, \"goals\": 68.75, \"total_yel_card\": 62.625, \"total_red_card\": 2.125, \"total_scoring_att\": 549.5, \"ontarget_scoring_att\": 195.375, \"hit_woodwork\": 15.875, \"att_hd_goal\": 12.0, \"att_pen_goal\": 3.875, \"att_freekick_goal\": 1.875, \"att_ibox_goal\": 59.625, \"att_obox_goal\": 9.25, \"goal_fastbreak\": 2.875, \"total_offside\": 91.625, \"clean_sheet\": 15.75, \"goals_conceded\": 35.625, \"saves\": 62.125, \"outfielder_block\": 112.375, \"interception\": 583.375, \"total_tackle\": 707.0, \"last_man_tackle\": 5.375, \"total_clearance\": 1094.625, \"head_clearance\": 639.25, \"own_goals\": 1.75, \"penalty_conceded\": 3.125, \"pen_goals_conceded\": 2.5, \"total_pass\": 19916.75, \"total_through_ball\": 99.375, \"total_long_balls\": 2358.5, \"backward_pass\": 2941.75, \"total_cross\": 910.0, \"corner_taken\": 229.375, \"touches\": 27705.625, \"big_chance_missed\": 47.5, \"clearance_off_line\": 3.125, \"dispossessed\": 461.5, \"penalty_save\": 0.375, \"total_high_claim\": 33.25, \"punches\": 14.25}, {\"team\": \"Newcastle United\", \"wins\": 12.428571428571429, \"losses\": 17.0, \"goals\": 46.142857142857146, \"total_yel_card\": 63.714285714285715, \"total_red_card\": 4.0, \"total_scoring_att\": 489.14285714285717, \"ontarget_scoring_att\": 160.14285714285714, \"hit_woodwork\": 11.285714285714286, \"att_hd_goal\": 8.714285714285714, \"att_pen_goal\": 2.4285714285714284, \"att_freekick_goal\": 1.2857142857142858, \"att_ibox_goal\": 38.42857142857143, \"att_obox_goal\": 7.714285714285714, \"goal_fastbreak\": 2.857142857142857, \"total_offside\": 71.57142857142857, \"clean_sheet\": 9.285714285714286, \"goals_conceded\": 58.57142857142857, \"saves\": 61.0, \"outfielder_block\": 123.57142857142857, \"interception\": 576.2857142857143, \"total_tackle\": 734.1428571428571, \"last_man_tackle\": 8.428571428571429, \"total_clearance\": 1112.857142857143, \"head_clearance\": 579.8571428571429, \"own_goals\": 1.4285714285714286, \"penalty_conceded\": 5.571428571428571, \"pen_goals_conceded\": 4.714285714285714, \"total_pass\": 14811.857142857143, \"total_through_ball\": 79.85714285714286, \"total_long_balls\": 2270.714285714286, \"backward_pass\": 2272.5714285714284, \"total_cross\": 819.2857142857143, \"corner_taken\": 188.0, \"touches\": 22811.571428571428, \"big_chance_missed\": 38.714285714285715, \"clearance_off_line\": 5.714285714285714, \"dispossessed\": 484.14285714285717, \"penalty_save\": 0.7142857142857143, \"total_high_claim\": 57.57142857142857, \"punches\": 25.428571428571427}, {\"team\": \"Norwich City\", \"wins\": 9.75, \"losses\": 18.0, \"goals\": 40.0, \"total_yel_card\": 60.25, \"total_red_card\": 2.25, \"total_scoring_att\": 453.0, \"ontarget_scoring_att\": 143.75, \"hit_woodwork\": 10.0, \"att_hd_goal\": 9.5, \"att_pen_goal\": 1.25, \"att_freekick_goal\": 1.5, \"att_ibox_goal\": 33.75, \"att_obox_goal\": 6.25, \"goal_fastbreak\": 1.25, \"total_offside\": 78.0, \"clean_sheet\": 7.5, \"goals_conceded\": 63.25, \"saves\": 57.0, \"outfielder_block\": 140.0, \"interception\": 502.5, \"total_tackle\": 662.75, \"last_man_tackle\": 4.25, \"total_clearance\": 1220.0, \"head_clearance\": 596.0, \"own_goals\": 2.25, \"penalty_conceded\": 7.0, \"pen_goals_conceded\": 5.5, \"total_pass\": 14449.5, \"total_through_ball\": 43.25, \"total_long_balls\": 2312.75, \"backward_pass\": 2246.5, \"total_cross\": 834.0, \"corner_taken\": 180.5, \"touches\": 22002.75, \"big_chance_missed\": 34.25, \"clearance_off_line\": 7.0, \"dispossessed\": 420.25, \"penalty_save\": 1.0, \"total_high_claim\": 59.25, \"punches\": 17.5}, {\"team\": \"Queens Park Rangers\", \"wins\": 7.333333333333333, \"losses\": 22.0, \"goals\": 38.333333333333336, \"total_yel_card\": 62.666666666666664, \"total_red_card\": 5.0, \"total_scoring_att\": 524.3333333333334, \"ontarget_scoring_att\": 148.66666666666666, \"hit_woodwork\": 13.333333333333334, \"att_hd_goal\": 8.0, \"att_pen_goal\": 2.0, \"att_freekick_goal\": 1.3333333333333333, \"att_ibox_goal\": 29.333333333333332, \"att_obox_goal\": 9.0, \"goal_fastbreak\": 1.3333333333333333, \"total_offside\": 90.66666666666667, \"clean_sheet\": 6.666666666666667, \"goals_conceded\": 66.33333333333333, \"saves\": 47.333333333333336, \"outfielder_block\": 173.33333333333334, \"interception\": 589.3333333333334, \"total_tackle\": 787.6666666666666, \"last_man_tackle\": 3.6666666666666665, \"total_clearance\": 1406.6666666666667, \"head_clearance\": 795.6666666666666, \"own_goals\": 3.6666666666666665, \"penalty_conceded\": 3.3333333333333335, \"pen_goals_conceded\": 2.6666666666666665, \"total_pass\": 13558.0, \"total_through_ball\": 36.333333333333336, \"total_long_balls\": 2317.6666666666665, \"backward_pass\": 1950.6666666666667, \"total_cross\": 745.0, \"corner_taken\": 181.33333333333334, \"touches\": 21719.0, \"big_chance_missed\": 31.333333333333332, \"clearance_off_line\": 7.333333333333333, \"dispossessed\": 450.0, \"penalty_save\": 0.6666666666666666, \"total_high_claim\": 46.333333333333336, \"punches\": 26.333333333333332}, {\"team\": \"Southampton\", \"wins\": 13.166666666666666, \"losses\": 14.0, \"goals\": 49.0, \"total_yel_card\": 56.5, \"total_red_card\": 2.5, \"total_scoring_att\": 513.0, \"ontarget_scoring_att\": 167.5, \"hit_woodwork\": 14.833333333333334, \"att_hd_goal\": 8.0, \"att_pen_goal\": 2.8333333333333335, \"att_freekick_goal\": 1.0, \"att_ibox_goal\": 44.166666666666664, \"att_obox_goal\": 4.833333333333333, \"goal_fastbreak\": 1.5, \"total_offside\": 86.66666666666667, \"clean_sheet\": 11.833333333333334, \"goals_conceded\": 47.333333333333336, \"saves\": 74.16666666666667, \"outfielder_block\": 110.16666666666667, \"interception\": 601.8333333333334, \"total_tackle\": 747.3333333333334, \"last_man_tackle\": 6.666666666666667, \"total_clearance\": 1053.1666666666667, \"head_clearance\": 522.1666666666666, \"own_goals\": 1.3333333333333333, \"penalty_conceded\": 3.6666666666666665, \"pen_goals_conceded\": 2.5, \"total_pass\": 17650.5, \"total_through_ball\": 87.33333333333333, \"total_long_balls\": 2390.3333333333335, \"backward_pass\": 2717.8333333333335, \"total_cross\": 908.1666666666666, \"corner_taken\": 212.0, \"touches\": 25574.333333333332, \"big_chance_missed\": 39.333333333333336, \"clearance_off_line\": 3.6666666666666665, \"dispossessed\": 446.6666666666667, \"penalty_save\": 0.8333333333333334, \"total_high_claim\": 41.166666666666664, \"punches\": 14.333333333333334}, {\"team\": \"Stoke City\", \"wins\": 11.625, \"losses\": 15.625, \"goals\": 40.75, \"total_yel_card\": 67.875, \"total_red_card\": 2.625, \"total_scoring_att\": 425.5, \"ontarget_scoring_att\": 127.625, \"hit_woodwork\": 11.125, \"att_hd_goal\": 9.25, \"att_pen_goal\": 3.25, \"att_freekick_goal\": 0.875, \"att_ibox_goal\": 34.625, \"att_obox_goal\": 6.25, \"goal_fastbreak\": 1.5, \"total_offside\": 79.875, \"clean_sheet\": 9.375, \"goals_conceded\": 52.75, \"saves\": 80.375, \"outfielder_block\": 151.125, \"interception\": 499.5, \"total_tackle\": 709.125, \"last_man_tackle\": 6.75, \"total_clearance\": 1204.375, \"head_clearance\": 644.375, \"own_goals\": 2.125, \"penalty_conceded\": 5.375, \"pen_goals_conceded\": 4.625, \"total_pass\": 13496.125, \"total_through_ball\": 39.0, \"total_long_balls\": 2257.25, \"backward_pass\": 2034.75, \"total_cross\": 758.0, \"corner_taken\": 169.75, \"touches\": 21228.75, \"big_chance_missed\": 35.5, \"clearance_off_line\": 3.5, \"dispossessed\": 422.375, \"penalty_save\": 0.625, \"total_high_claim\": 62.625, \"punches\": 16.25}, {\"team\": \"Sunderland\", \"wins\": 9.142857142857142, \"losses\": 17.714285714285715, \"goals\": 40.0, \"total_yel_card\": 69.14285714285714, \"total_red_card\": 3.857142857142857, \"total_scoring_att\": 447.42857142857144, \"ontarget_scoring_att\": 137.42857142857142, \"hit_woodwork\": 9.0, \"att_hd_goal\": 5.0, \"att_pen_goal\": 3.857142857142857, \"att_freekick_goal\": 2.0, \"att_ibox_goal\": 33.285714285714285, \"att_obox_goal\": 6.714285714285714, \"goal_fastbreak\": 2.2857142857142856, \"total_offside\": 78.14285714285714, \"clean_sheet\": 10.428571428571429, \"goals_conceded\": 57.142857142857146, \"saves\": 90.85714285714286, \"outfielder_block\": 161.85714285714286, \"interception\": 576.2857142857143, \"total_tackle\": 755.1428571428571, \"last_man_tackle\": 6.142857142857143, \"total_clearance\": 1135.4285714285713, \"head_clearance\": 594.2857142857143, \"own_goals\": 3.0, \"penalty_conceded\": 4.714285714285714, \"pen_goals_conceded\": 4.142857142857143, \"total_pass\": 13607.714285714286, \"total_through_ball\": 57.42857142857143, \"total_long_balls\": 2301.4285714285716, \"backward_pass\": 2068.5714285714284, \"total_cross\": 748.0, \"corner_taken\": 175.28571428571428, \"touches\": 21302.428571428572, \"big_chance_missed\": 29.142857142857142, \"clearance_off_line\": 7.142857142857143, \"dispossessed\": 410.42857142857144, \"penalty_save\": 0.14285714285714285, \"total_high_claim\": 64.71428571428571, \"punches\": 26.428571428571427}, {\"team\": \"Swansea City\", \"wins\": 11.714285714285714, \"losses\": 16.857142857142858, \"goals\": 43.714285714285715, \"total_yel_card\": 52.57142857142857, \"total_red_card\": 2.0, \"total_scoring_att\": 440.2857142857143, \"ontarget_scoring_att\": 143.42857142857142, \"hit_woodwork\": 10.857142857142858, \"att_hd_goal\": 7.428571428571429, \"att_pen_goal\": 2.857142857142857, \"att_freekick_goal\": 1.2857142857142858, \"att_ibox_goal\": 37.0, \"att_obox_goal\": 6.714285714285714, \"goal_fastbreak\": 1.1428571428571428, \"total_offside\": 68.42857142857143, \"clean_sheet\": 10.142857142857142, \"goals_conceded\": 54.714285714285715, \"saves\": 87.71428571428571, \"outfielder_block\": 137.14285714285714, \"interception\": 591.5714285714286, \"total_tackle\": 655.1428571428571, \"last_man_tackle\": 2.4285714285714284, \"total_clearance\": 1103.5714285714287, \"head_clearance\": 569.0, \"own_goals\": 2.4285714285714284, \"penalty_conceded\": 4.571428571428571, \"pen_goals_conceded\": 3.142857142857143, \"total_pass\": 18535.571428571428, \"total_through_ball\": 53.285714285714285, \"total_long_balls\": 2305.285714285714, \"backward_pass\": 3061.1428571428573, \"total_cross\": 761.4285714285714, \"corner_taken\": 182.85714285714286, \"touches\": 26176.571428571428, \"big_chance_missed\": 30.714285714285715, \"clearance_off_line\": 3.857142857142857, \"dispossessed\": 427.42857142857144, \"penalty_save\": 1.0, \"total_high_claim\": 65.28571428571429, \"punches\": 23.285714285714285}, {\"team\": \"Tottenham Hotspur\", \"wins\": 20.625, \"losses\": 8.125, \"goals\": 66.125, \"total_yel_card\": 59.75, \"total_red_card\": 2.125, \"total_scoring_att\": 638.125, \"ontarget_scoring_att\": 218.75, \"hit_woodwork\": 15.125, \"att_hd_goal\": 7.875, \"att_pen_goal\": 3.875, \"att_freekick_goal\": 1.5, \"att_ibox_goal\": 53.875, \"att_obox_goal\": 12.375, \"goal_fastbreak\": 4.25, \"total_offside\": 75.5, \"clean_sheet\": 12.5, \"goals_conceded\": 41.75, \"saves\": 61.5, \"outfielder_block\": 107.75, \"interception\": 583.875, \"total_tackle\": 735.125, \"last_man_tackle\": 6.375, \"total_clearance\": 1112.25, \"head_clearance\": 622.0, \"own_goals\": 1.625, \"penalty_conceded\": 3.625, \"pen_goals_conceded\": 2.75, \"total_pass\": 18839.5, \"total_through_ball\": 84.75, \"total_long_balls\": 2362.375, \"backward_pass\": 2730.25, \"total_cross\": 824.875, \"corner_taken\": 253.0, \"touches\": 27083.25, \"big_chance_missed\": 49.375, \"clearance_off_line\": 3.25, \"dispossessed\": 530.0, \"penalty_save\": 0.5, \"total_high_claim\": 38.875, \"punches\": 27.125}, {\"team\": \"Watford\", \"wins\": 11.333333333333334, \"losses\": 18.666666666666668, \"goals\": 41.333333333333336, \"total_yel_card\": 73.33333333333333, \"total_red_card\": 4.0, \"total_scoring_att\": 436.0, \"ontarget_scoring_att\": 138.33333333333334, \"hit_woodwork\": 8.0, \"att_hd_goal\": 7.666666666666667, \"att_pen_goal\": 4.0, \"att_freekick_goal\": 0.3333333333333333, \"att_ibox_goal\": 37.0, \"att_obox_goal\": 4.333333333333333, \"goal_fastbreak\": 0.3333333333333333, \"total_offside\": 62.333333333333336, \"clean_sheet\": 9.0, \"goals_conceded\": 60.666666666666664, \"saves\": 112.33333333333333, \"outfielder_block\": 116.33333333333333, \"interception\": 581.0, \"total_tackle\": 693.3333333333334, \"last_man_tackle\": 1.0, \"total_clearance\": 966.6666666666666, \"head_clearance\": 460.0, \"own_goals\": 1.6666666666666667, \"penalty_conceded\": 6.0, \"pen_goals_conceded\": 4.333333333333333, \"total_pass\": 14744.333333333334, \"total_through_ball\": 26.0, \"total_long_balls\": 2649.6666666666665, \"backward_pass\": 2201.6666666666665, \"total_cross\": 701.0, \"corner_taken\": 170.33333333333334, \"touches\": 22345.666666666668, \"big_chance_missed\": 30.666666666666668, \"clearance_off_line\": 3.3333333333333335, \"dispossessed\": 397.0, \"penalty_save\": 1.3333333333333333, \"total_high_claim\": 48.333333333333336, \"punches\": 43.0}, {\"team\": \"West Bromwich Albion\", \"wins\": 10.625, \"losses\": 16.5, \"goals\": 42.875, \"total_yel_card\": 64.0, \"total_red_card\": 2.375, \"total_scoring_att\": 463.875, \"ontarget_scoring_att\": 142.875, \"hit_woodwork\": 10.5, \"att_hd_goal\": 11.5, \"att_pen_goal\": 2.375, \"att_freekick_goal\": 0.75, \"att_ibox_goal\": 37.25, \"att_obox_goal\": 5.625, \"goal_fastbreak\": 2.25, \"total_offside\": 86.5, \"clean_sheet\": 8.75, \"goals_conceded\": 55.625, \"saves\": 72.25, \"outfielder_block\": 150.125, \"interception\": 562.75, \"total_tackle\": 669.25, \"last_man_tackle\": 3.0, \"total_clearance\": 1046.375, \"head_clearance\": 597.125, \"own_goals\": 2.25, \"penalty_conceded\": 5.625, \"pen_goals_conceded\": 4.625, \"total_pass\": 13720.5, \"total_through_ball\": 49.625, \"total_long_balls\": 2330.625, \"backward_pass\": 2001.875, \"total_cross\": 788.875, \"corner_taken\": 185.25, \"touches\": 21252.75, \"big_chance_missed\": 32.0, \"clearance_off_line\": 4.125, \"dispossessed\": 473.75, \"penalty_save\": 0.75, \"total_high_claim\": 57.875, \"punches\": 14.125}, {\"team\": \"West Ham United\", \"wins\": 11.428571428571429, \"losses\": 15.857142857142858, \"goals\": 47.42857142857143, \"total_yel_card\": 66.85714285714286, \"total_red_card\": 3.0, \"total_scoring_att\": 486.14285714285717, \"ontarget_scoring_att\": 151.71428571428572, \"hit_woodwork\": 14.0, \"att_hd_goal\": 10.428571428571429, \"att_pen_goal\": 3.0, \"att_freekick_goal\": 1.7142857142857142, \"att_ibox_goal\": 40.285714285714285, \"att_obox_goal\": 7.285714285714286, \"goal_fastbreak\": 2.142857142857143, \"total_offside\": 88.85714285714286, \"clean_sheet\": 10.0, \"goals_conceded\": 57.714285714285715, \"saves\": 90.85714285714286, \"outfielder_block\": 163.14285714285714, \"interception\": 530.7142857142857, \"total_tackle\": 673.5714285714286, \"last_man_tackle\": 6.142857142857143, \"total_clearance\": 1261.7142857142858, \"head_clearance\": 702.7142857142857, \"own_goals\": 1.2857142857142858, \"penalty_conceded\": 6.0, \"pen_goals_conceded\": 4.428571428571429, \"total_pass\": 13772.57142857143, \"total_through_ball\": 49.714285714285715, \"total_long_balls\": 2343.1428571428573, \"backward_pass\": 2133.5714285714284, \"total_cross\": 862.2857142857143, \"corner_taken\": 196.57142857142858, \"touches\": 21784.85714285714, \"big_chance_missed\": 34.857142857142854, \"clearance_off_line\": 5.571428571428571, \"dispossessed\": 426.85714285714283, \"penalty_save\": 1.1428571428571428, \"total_high_claim\": 42.42857142857143, \"punches\": 17.142857142857142}, {\"team\": \"Wigan Athletic\", \"wins\": 9.666666666666666, \"losses\": 17.0, \"goals\": 43.0, \"total_yel_card\": 66.66666666666667, \"total_red_card\": 3.0, \"total_scoring_att\": 510.0, \"ontarget_scoring_att\": 167.33333333333334, \"hit_woodwork\": 9.666666666666666, \"att_hd_goal\": 6.0, \"att_pen_goal\": 2.6666666666666665, \"att_freekick_goal\": 2.6666666666666665, \"att_ibox_goal\": 34.333333333333336, \"att_obox_goal\": 8.666666666666666, \"goal_fastbreak\": 3.3333333333333335, \"total_offside\": 75.0, \"clean_sheet\": 6.666666666666667, \"goals_conceded\": 65.33333333333333, \"saves\": 0.0, \"outfielder_block\": 126.66666666666667, \"interception\": 677.6666666666666, \"total_tackle\": 786.3333333333334, \"last_man_tackle\": 10.0, \"total_clearance\": 1007.3333333333334, \"head_clearance\": 488.0, \"own_goals\": 1.3333333333333333, \"penalty_conceded\": 7.0, \"pen_goals_conceded\": 4.666666666666667, \"total_pass\": 16274.0, \"total_through_ball\": 73.33333333333333, \"total_long_balls\": 2139.6666666666665, \"backward_pass\": 2426.0, \"total_cross\": 725.6666666666666, \"corner_taken\": 193.0, \"touches\": 23877.666666666668, \"big_chance_missed\": 38.666666666666664, \"clearance_off_line\": 4.333333333333333, \"dispossessed\": 457.3333333333333, \"penalty_save\": 2.0, \"total_high_claim\": 44.333333333333336, \"punches\": 25.333333333333332}]}}, {\"mode\": \"vega-lite\"});\n",
       "</script>"
      ],
      "text/plain": [
       "alt.VConcatChart(...)"
      ]
     },
     "execution_count": 11,
     "metadata": {},
     "output_type": "execute_result"
    }
   ],
   "source": [
    "chart_list = [make_chart(c) for c in selected_columns]\n",
    "total_chart = alt.vconcat(*chart_list)\n",
    "total_chart"
   ]
  },
  {
   "cell_type": "markdown",
   "metadata": {
    "cell_id": "42146352eaf842deb2f6fa0c497880c3",
    "deepnote_cell_type": "markdown"
   },
   "source": [
    "## Factor Importance Contribute to Wins"
   ]
  },
  {
   "cell_type": "markdown",
   "metadata": {
    "cell_id": "93e1781288f04ffd95686917dafdd708",
    "deepnote_cell_type": "markdown"
   },
   "source": [
    "I will use Random Forest to analyze the feature importance to wins in Premier League"
   ]
  },
  {
   "cell_type": "code",
   "execution_count": 12,
   "metadata": {
    "cell_id": "ca3e7b7430574d42b2ba11a0e8cf0e18",
    "deepnote_cell_type": "code",
    "deepnote_to_be_reexecuted": false,
    "execution_millis": 5,
    "execution_start": 1686816253760,
    "source_hash": "4daaeeb8"
   },
   "outputs": [],
   "source": [
    "X_train, X_test, y_train, y_test = train_test_split(df_avg[selected_columns], df_avg['wins'], test_size=0.3, random_state=22)"
   ]
  },
  {
   "cell_type": "markdown",
   "metadata": {
    "cell_id": "0afffff461014c9298a77a34760942a3",
    "deepnote_cell_type": "markdown"
   },
   "source": [
    "I used ChatGPT to find a code that could decide how many leaf nodes number I should take, and based on [this twitter](https://twitter.com/daniela_witten/status/1292293102103748609?s=20), I can choose an appropriate number to predict my data."
   ]
  },
  {
   "cell_type": "code",
   "execution_count": 13,
   "metadata": {
    "cell_id": "b030a9515506439f8b8d1b1ef2c38fc0",
    "deepnote_cell_type": "code",
    "deepnote_to_be_reexecuted": false,
    "execution_millis": 7009,
    "execution_start": 1686816253808,
    "source_hash": "1c5786c9"
   },
   "outputs": [
    {
     "name": "stdout",
     "output_type": "stream",
     "text": [
      "   leaves     error    set\n",
      "0       2  3.399707  train\n",
      "1       2  2.408625   test\n",
      "2       3  1.794364  train\n",
      "3       3  2.094462   test\n",
      "4       4  1.110214  train\n",
      "..    ...       ...    ...\n",
      "73     38  2.098586   test\n",
      "74     39  0.678814  train\n",
      "75     39  2.098586   test\n",
      "76     40  0.678814  train\n",
      "77     40  2.098586   test\n",
      "\n",
      "[78 rows x 3 columns]\n"
     ]
    },
    {
     "data": {
      "text/html": [
       "\n",
       "<div id=\"altair-viz-831fe7d61af14d088bf4d0097ccf0da2\"></div>\n",
       "<script type=\"text/javascript\">\n",
       "  var VEGA_DEBUG = (typeof VEGA_DEBUG == \"undefined\") ? {} : VEGA_DEBUG;\n",
       "  (function(spec, embedOpt){\n",
       "    let outputDiv = document.currentScript.previousElementSibling;\n",
       "    if (outputDiv.id !== \"altair-viz-831fe7d61af14d088bf4d0097ccf0da2\") {\n",
       "      outputDiv = document.getElementById(\"altair-viz-831fe7d61af14d088bf4d0097ccf0da2\");\n",
       "    }\n",
       "    const paths = {\n",
       "      \"vega\": \"https://cdn.jsdelivr.net/npm//vega@5?noext\",\n",
       "      \"vega-lib\": \"https://cdn.jsdelivr.net/npm//vega-lib?noext\",\n",
       "      \"vega-lite\": \"https://cdn.jsdelivr.net/npm//vega-lite@4.17.0?noext\",\n",
       "      \"vega-embed\": \"https://cdn.jsdelivr.net/npm//vega-embed@6?noext\",\n",
       "    };\n",
       "\n",
       "    function maybeLoadScript(lib, version) {\n",
       "      var key = `${lib.replace(\"-\", \"\")}_version`;\n",
       "      return (VEGA_DEBUG[key] == version) ?\n",
       "        Promise.resolve(paths[lib]) :\n",
       "        new Promise(function(resolve, reject) {\n",
       "          var s = document.createElement('script');\n",
       "          document.getElementsByTagName(\"head\")[0].appendChild(s);\n",
       "          s.async = true;\n",
       "          s.onload = () => {\n",
       "            VEGA_DEBUG[key] = version;\n",
       "            return resolve(paths[lib]);\n",
       "          };\n",
       "          s.onerror = () => reject(`Error loading script: ${paths[lib]}`);\n",
       "          s.src = paths[lib];\n",
       "        });\n",
       "    }\n",
       "\n",
       "    function showError(err) {\n",
       "      outputDiv.innerHTML = `<div class=\"error\" style=\"color:red;\">${err}</div>`;\n",
       "      throw err;\n",
       "    }\n",
       "\n",
       "    function displayChart(vegaEmbed) {\n",
       "      vegaEmbed(outputDiv, spec, embedOpt)\n",
       "        .catch(err => showError(`Javascript Error: ${err.message}<br>This usually means there's a typo in your chart specification. See the javascript console for the full traceback.`));\n",
       "    }\n",
       "\n",
       "    if(typeof define === \"function\" && define.amd) {\n",
       "      requirejs.config({paths});\n",
       "      require([\"vega-embed\"], displayChart, err => showError(`Error loading script: ${err.message}`));\n",
       "    } else {\n",
       "      maybeLoadScript(\"vega\", \"5\")\n",
       "        .then(() => maybeLoadScript(\"vega-lite\", \"4.17.0\"))\n",
       "        .then(() => maybeLoadScript(\"vega-embed\", \"6\"))\n",
       "        .catch(showError)\n",
       "        .then(() => displayChart(vegaEmbed));\n",
       "    }\n",
       "  })({\"config\": {\"view\": {\"continuousWidth\": 400, \"continuousHeight\": 300}}, \"data\": {\"name\": \"data-8f3c8de0e420f5ffc072e0da850930e8\"}, \"mark\": \"line\", \"encoding\": {\"color\": {\"field\": \"set\", \"type\": \"nominal\"}, \"x\": {\"field\": \"leaves\", \"type\": \"quantitative\"}, \"y\": {\"field\": \"error\", \"type\": \"quantitative\"}}, \"$schema\": \"https://vega.github.io/schema/vega-lite/v4.17.0.json\", \"datasets\": {\"data-8f3c8de0e420f5ffc072e0da850930e8\": [{\"leaves\": 2, \"error\": 3.3997066959610787, \"set\": \"train\"}, {\"leaves\": 2, \"error\": 2.4086247265216096, \"set\": \"test\"}, {\"leaves\": 3, \"error\": 1.794364318888679, \"set\": \"train\"}, {\"leaves\": 3, \"error\": 2.0944616966187706, \"set\": \"test\"}, {\"leaves\": 4, \"error\": 1.110213762403965, \"set\": \"train\"}, {\"leaves\": 4, \"error\": 2.1654526516611705, \"set\": \"test\"}, {\"leaves\": 5, \"error\": 0.9128735792232278, \"set\": \"train\"}, {\"leaves\": 5, \"error\": 2.0918479412903412, \"set\": \"test\"}, {\"leaves\": 6, \"error\": 0.7864510654015331, \"set\": \"train\"}, {\"leaves\": 6, \"error\": 2.0733478753247425, \"set\": \"test\"}, {\"leaves\": 7, \"error\": 0.718110475474913, \"set\": \"train\"}, {\"leaves\": 7, \"error\": 2.120181878433939, \"set\": \"test\"}, {\"leaves\": 8, \"error\": 0.6912960655816669, \"set\": \"train\"}, {\"leaves\": 8, \"error\": 2.1260460012575724, \"set\": \"test\"}, {\"leaves\": 9, \"error\": 0.6828921784083136, \"set\": \"train\"}, {\"leaves\": 9, \"error\": 2.11453861254131, \"set\": \"test\"}, {\"leaves\": 10, \"error\": 0.6816868873714997, \"set\": \"train\"}, {\"leaves\": 10, \"error\": 2.105459112856577, \"set\": \"test\"}, {\"leaves\": 11, \"error\": 0.6793197609951394, \"set\": \"train\"}, {\"leaves\": 11, \"error\": 2.0989705610015723, \"set\": \"test\"}, {\"leaves\": 12, \"error\": 0.6788987564586025, \"set\": \"train\"}, {\"leaves\": 12, \"error\": 2.098569215423438, \"set\": \"test\"}, {\"leaves\": 13, \"error\": 0.6788139116063097, \"set\": \"train\"}, {\"leaves\": 13, \"error\": 2.098585561047336, \"set\": \"test\"}, {\"leaves\": 14, \"error\": 0.6788139116063097, \"set\": \"train\"}, {\"leaves\": 14, \"error\": 2.098585561047336, \"set\": \"test\"}, {\"leaves\": 15, \"error\": 0.6788139116063097, \"set\": \"train\"}, {\"leaves\": 15, \"error\": 2.098585561047336, \"set\": \"test\"}, {\"leaves\": 16, \"error\": 0.6788139116063097, \"set\": \"train\"}, {\"leaves\": 16, \"error\": 2.098585561047336, \"set\": \"test\"}, {\"leaves\": 17, \"error\": 0.6788139116063097, \"set\": \"train\"}, {\"leaves\": 17, \"error\": 2.098585561047336, \"set\": \"test\"}, {\"leaves\": 18, \"error\": 0.6788139116063097, \"set\": \"train\"}, {\"leaves\": 18, \"error\": 2.098585561047336, \"set\": \"test\"}, {\"leaves\": 19, \"error\": 0.6788139116063097, \"set\": \"train\"}, {\"leaves\": 19, \"error\": 2.098585561047336, \"set\": \"test\"}, {\"leaves\": 20, \"error\": 0.6788139116063097, \"set\": \"train\"}, {\"leaves\": 20, \"error\": 2.098585561047336, \"set\": \"test\"}, {\"leaves\": 21, \"error\": 0.6788139116063097, \"set\": \"train\"}, {\"leaves\": 21, \"error\": 2.098585561047336, \"set\": \"test\"}, {\"leaves\": 22, \"error\": 0.6788139116063097, \"set\": \"train\"}, {\"leaves\": 22, \"error\": 2.098585561047336, \"set\": \"test\"}, {\"leaves\": 23, \"error\": 0.6788139116063097, \"set\": \"train\"}, {\"leaves\": 23, \"error\": 2.098585561047336, \"set\": \"test\"}, {\"leaves\": 24, \"error\": 0.6788139116063097, \"set\": \"train\"}, {\"leaves\": 24, \"error\": 2.098585561047336, \"set\": \"test\"}, {\"leaves\": 25, \"error\": 0.6788139116063097, \"set\": \"train\"}, {\"leaves\": 25, \"error\": 2.098585561047336, \"set\": \"test\"}, {\"leaves\": 26, \"error\": 0.6788139116063097, \"set\": \"train\"}, {\"leaves\": 26, \"error\": 2.098585561047336, \"set\": \"test\"}, {\"leaves\": 27, \"error\": 0.6788139116063097, \"set\": \"train\"}, {\"leaves\": 27, \"error\": 2.098585561047336, \"set\": \"test\"}, {\"leaves\": 28, \"error\": 0.6788139116063097, \"set\": \"train\"}, {\"leaves\": 28, \"error\": 2.098585561047336, \"set\": \"test\"}, {\"leaves\": 29, \"error\": 0.6788139116063097, \"set\": \"train\"}, {\"leaves\": 29, \"error\": 2.098585561047336, \"set\": \"test\"}, {\"leaves\": 30, \"error\": 0.6788139116063097, \"set\": \"train\"}, {\"leaves\": 30, \"error\": 2.098585561047336, \"set\": \"test\"}, {\"leaves\": 31, \"error\": 0.6788139116063097, \"set\": \"train\"}, {\"leaves\": 31, \"error\": 2.098585561047336, \"set\": \"test\"}, {\"leaves\": 32, \"error\": 0.6788139116063097, \"set\": \"train\"}, {\"leaves\": 32, \"error\": 2.098585561047336, \"set\": \"test\"}, {\"leaves\": 33, \"error\": 0.6788139116063097, \"set\": \"train\"}, {\"leaves\": 33, \"error\": 2.098585561047336, \"set\": \"test\"}, {\"leaves\": 34, \"error\": 0.6788139116063097, \"set\": \"train\"}, {\"leaves\": 34, \"error\": 2.098585561047336, \"set\": \"test\"}, {\"leaves\": 35, \"error\": 0.6788139116063097, \"set\": \"train\"}, {\"leaves\": 35, \"error\": 2.098585561047336, \"set\": \"test\"}, {\"leaves\": 36, \"error\": 0.6788139116063097, \"set\": \"train\"}, {\"leaves\": 36, \"error\": 2.098585561047336, \"set\": \"test\"}, {\"leaves\": 37, \"error\": 0.6788139116063097, \"set\": \"train\"}, {\"leaves\": 37, \"error\": 2.098585561047336, \"set\": \"test\"}, {\"leaves\": 38, \"error\": 0.6788139116063097, \"set\": \"train\"}, {\"leaves\": 38, \"error\": 2.098585561047336, \"set\": \"test\"}, {\"leaves\": 39, \"error\": 0.6788139116063097, \"set\": \"train\"}, {\"leaves\": 39, \"error\": 2.098585561047336, \"set\": \"test\"}, {\"leaves\": 40, \"error\": 0.6788139116063097, \"set\": \"train\"}, {\"leaves\": 40, \"error\": 2.098585561047336, \"set\": \"test\"}]}}, {\"mode\": \"vega-lite\"});\n",
       "</script>"
      ],
      "text/plain": [
       "alt.Chart(...)"
      ]
     },
     "execution_count": 13,
     "metadata": {},
     "output_type": "execute_result"
    }
   ],
   "source": [
    "df_err = pd.DataFrame(columns=['leaves', 'error', 'set'])\n",
    "\n",
    "for i in range(2, 41):\n",
    "    regressor = RandomForestRegressor(n_estimators=100, max_leaf_nodes=i, random_state=42)\n",
    "    regressor.fit(X_train, y_train)\n",
    "    \n",
    "    y_train_pred = regressor.predict(X_train)\n",
    "    train_error = mean_squared_error(y_train, y_train_pred)\n",
    "    \n",
    "    y_test_pred = regressor.predict(X_test)\n",
    "    test_error = mean_squared_error(y_test, y_test_pred)\n",
    "    \n",
    "    df_err.loc[len(df_err)] = {'leaves': i, 'error': train_error, 'set': 'train'}\n",
    "    df_err.loc[len(df_err)] = {'leaves': i, 'error': test_error, 'set': 'test'}\n",
    "\n",
    "print(df_err)\n",
    "c = alt.Chart(df_err).mark_line().encode(\n",
    "    x='leaves',\n",
    "    y='error',\n",
    "    color='set'\n",
    ")\n",
    "c"
   ]
  },
  {
   "cell_type": "markdown",
   "metadata": {
    "cell_id": "b713a9c2629b4ab3a7bcbe3e041b0c14",
    "deepnote_cell_type": "markdown"
   },
   "source": [
    "The best choice of max_leaf_nodes should be 5"
   ]
  },
  {
   "cell_type": "code",
   "execution_count": 14,
   "metadata": {
    "cell_id": "d561cf0b79474d05815ea10b030f26e3",
    "deepnote_cell_type": "code",
    "deepnote_to_be_reexecuted": false,
    "execution_millis": 1299,
    "execution_start": 1686816260886,
    "source_hash": "d3fd2911"
   },
   "outputs": [
    {
     "data": {
      "text/plain": [
       "RandomForestRegressor(max_leaf_nodes=5, n_estimators=1000, random_state=42)"
      ]
     },
     "execution_count": 14,
     "metadata": {},
     "output_type": "execute_result"
    }
   ],
   "source": [
    "rfr = RandomForestRegressor(n_estimators=1000, max_leaf_nodes=5,random_state=42)\n",
    "rfr.fit(X_train,y_train)"
   ]
  },
  {
   "cell_type": "code",
   "execution_count": 15,
   "metadata": {
    "cell_id": "4273f60cca5f4f839582f434331a938b",
    "deepnote_cell_type": "code",
    "deepnote_to_be_reexecuted": false,
    "execution_millis": 148,
    "execution_start": 1686816262171,
    "source_hash": "10437481"
   },
   "outputs": [
    {
     "data": {
      "text/plain": [
       "0.9724047981641236"
      ]
     },
     "execution_count": 15,
     "metadata": {},
     "output_type": "execute_result"
    }
   ],
   "source": [
    "rfr.score(X_train,y_train)"
   ]
  },
  {
   "cell_type": "code",
   "execution_count": 16,
   "metadata": {
    "cell_id": "14276c82fdda49c7923c3d161fe47686",
    "deepnote_cell_type": "code",
    "deepnote_to_be_reexecuted": false,
    "execution_millis": 111,
    "execution_start": 1686816262331,
    "source_hash": "371657ce"
   },
   "outputs": [
    {
     "data": {
      "text/plain": [
       "0.848250967199523"
      ]
     },
     "execution_count": 16,
     "metadata": {},
     "output_type": "execute_result"
    }
   ],
   "source": [
    "rfr.score(X_test,y_test)"
   ]
  },
  {
   "cell_type": "code",
   "execution_count": 17,
   "metadata": {
    "cell_id": "1ff8f9fcf12547bea237f02cac6b5d6f",
    "deepnote_cell_type": "code",
    "deepnote_to_be_reexecuted": false,
    "execution_millis": 91,
    "execution_start": 1686816262529,
    "source_hash": "c41c6c89"
   },
   "outputs": [
    {
     "data": {
      "text/plain": [
       "outfielder_block        0.090093\n",
       "goals_conceded          0.086272\n",
       "goals                   0.065844\n",
       "total_scoring_att       0.065017\n",
       "total_through_ball      0.062856\n",
       "backward_pass           0.059776\n",
       "att_ibox_goal           0.059725\n",
       "ontarget_scoring_att    0.059307\n",
       "clean_sheet             0.057036\n",
       "att_obox_goal           0.048713\n",
       "big_chance_missed       0.048022\n",
       "total_pass              0.042571\n",
       "touches                 0.041945\n",
       "corner_taken            0.033134\n",
       "clearance_off_line      0.029099\n",
       "hit_woodwork            0.025168\n",
       "att_freekick_goal       0.022858\n",
       "att_pen_goal            0.018243\n",
       "goal_fastbreak          0.016872\n",
       "penalty_conceded        0.009769\n",
       "total_clearance         0.006979\n",
       "own_goals               0.006838\n",
       "penalty_save            0.005824\n",
       "pen_goals_conceded      0.005630\n",
       "total_high_claim        0.005070\n",
       "dispossessed            0.004506\n",
       "total_tackle            0.003362\n",
       "att_hd_goal             0.003285\n",
       "total_yel_card          0.002817\n",
       "total_offside           0.002622\n",
       "interception            0.002109\n",
       "saves                   0.001893\n",
       "last_man_tackle         0.001621\n",
       "total_long_balls        0.001520\n",
       "total_cross             0.001337\n",
       "head_clearance          0.001103\n",
       "total_red_card          0.000681\n",
       "punches                 0.000482\n",
       "dtype: float64"
      ]
     },
     "execution_count": 17,
     "metadata": {},
     "output_type": "execute_result"
    }
   ],
   "source": [
    "pd.Series(rfr.feature_importances_, index=selected_columns).sort_values(ascending=False)"
   ]
  },
  {
   "cell_type": "markdown",
   "metadata": {
    "cell_id": "91fe2e4c5a11441594707bbf6bd42839",
    "deepnote_cell_type": "markdown"
   },
   "source": [
    "We can see that \"outfielder_block\" and \"goals_conceded\" have the most feature importance to wins. Both stats are defending stats. Thus, from Random Forest model, it shows that defending is the key to win."
   ]
  },
  {
   "cell_type": "markdown",
   "metadata": {
    "cell_id": "03984897f6114591a9f77b0f6a5cc1bc",
    "deepnote_cell_type": "markdown"
   },
   "source": [
    "## LinearRegression Model"
   ]
  },
  {
   "cell_type": "code",
   "execution_count": 18,
   "metadata": {
    "cell_id": "0bf34f7713384c579dfa292362d3f1b3",
    "deepnote_cell_type": "code",
    "deepnote_to_be_reexecuted": false,
    "execution_millis": 3,
    "execution_start": 1686816262637,
    "source_hash": "9b27ec4b"
   },
   "outputs": [
    {
     "data": {
      "text/plain": [
       "LinearRegression()"
      ]
     },
     "execution_count": 18,
     "metadata": {},
     "output_type": "execute_result"
    }
   ],
   "source": [
    "lin = LinearRegression()\n",
    "lin.fit(df_avg[selected_columns],df_avg['wins'])"
   ]
  },
  {
   "cell_type": "code",
   "execution_count": 19,
   "metadata": {
    "cell_id": "441682584f764cc5a99c1f2c4a5d3dc6",
    "deepnote_cell_type": "code",
    "deepnote_to_be_reexecuted": false,
    "execution_millis": 2,
    "execution_start": 1686816262638,
    "source_hash": "e879b671"
   },
   "outputs": [
    {
     "data": {
      "text/plain": [
       "goals                   0.170069\n",
       "total_yel_card         -0.008121\n",
       "total_red_card         -0.067695\n",
       "total_scoring_att      -0.004115\n",
       "ontarget_scoring_att    0.085436\n",
       "hit_woodwork           -0.033554\n",
       "att_hd_goal            -0.023789\n",
       "att_pen_goal           -0.039289\n",
       "att_freekick_goal      -0.021382\n",
       "att_ibox_goal           0.062600\n",
       "att_obox_goal           0.124503\n",
       "goal_fastbreak          0.091819\n",
       "total_offside          -0.031666\n",
       "clean_sheet             0.089106\n",
       "goals_conceded         -0.122839\n",
       "saves                   0.015306\n",
       "outfielder_block       -0.078234\n",
       "interception            0.001499\n",
       "total_tackle           -0.003998\n",
       "last_man_tackle         0.161247\n",
       "total_clearance        -0.005070\n",
       "head_clearance          0.022121\n",
       "own_goals               0.013613\n",
       "penalty_conceded        0.032624\n",
       "pen_goals_conceded      0.075956\n",
       "total_pass              0.001883\n",
       "total_through_ball     -0.028828\n",
       "total_long_balls       -0.001374\n",
       "backward_pass          -0.002561\n",
       "total_cross             0.002376\n",
       "corner_taken           -0.065405\n",
       "touches                -0.001482\n",
       "big_chance_missed      -0.021757\n",
       "clearance_off_line     -0.101263\n",
       "dispossessed           -0.011044\n",
       "penalty_save           -0.051346\n",
       "total_high_claim        0.011235\n",
       "punches                -0.012115\n",
       "dtype: float64"
      ]
     },
     "execution_count": 19,
     "metadata": {},
     "output_type": "execute_result"
    }
   ],
   "source": [
    "pd.Series(lin.coef_, index=lin.feature_names_in_)"
   ]
  },
  {
   "cell_type": "markdown",
   "metadata": {
    "cell_id": "b56a86ff122b4f0d96ecfc596cc58935",
    "deepnote_cell_type": "markdown"
   },
   "source": [
    "The results shows that \"goals\" infulence wins the most in positive way and espeically for \"att_ibox_goal\"(goals inside the penalty area),\"goal_fastbreak\"(goals from counter attack) and \"att_obox_goal\"(goals outside the penalty area). The \"goals_conceded\" shows a negative impact on wins and it is reasonable since it shows the defending level of a team. The coefficients that is unexpected for me is that \"passing\" inputs are not that significant to determine the wins."
   ]
  },
  {
   "cell_type": "markdown",
   "metadata": {
    "cell_id": "3a2c4854de874a7195b33df9a15baff3",
    "deepnote_cell_type": "markdown"
   },
   "source": [
    "## Passing Visualizing Map"
   ]
  },
  {
   "cell_type": "markdown",
   "metadata": {
    "cell_id": "6458bad5e5fc4bb199dbe8faaa11c548",
    "deepnote_cell_type": "markdown"
   },
   "source": [
    "After finding those key inputs contribute to wins, I am very curious about the passing inputs. Because we can see that the total_pass is contributing a positive effect to wins but the others except for total_cross did otherwise. So I want to go further on this topic by drawing the [Passing Plot](https://mplsoccer.readthedocs.io/en/latest/gallery/pitch_plots/plot_arrows.html#sphx-glr-gallery-pitch-plots-plot-arrows-py) on the pitch below."
   ]
  },
  {
   "cell_type": "code",
   "execution_count": 20,
   "metadata": {
    "cell_id": "358a7f69b9bc4a2a89068962748eba19",
    "deepnote_cell_type": "code",
    "deepnote_to_be_reexecuted": false,
    "execution_millis": 3,
    "execution_start": 1686816262681,
    "source_hash": "a4fb88ea"
   },
   "outputs": [],
   "source": [
    "# From here I choose KDB from Man City vs TOT to see what a top midfielder's passes looks like\n",
    "df2 = pd.read_csv('KDBpasses.csv')"
   ]
  },
  {
   "cell_type": "code",
   "execution_count": 21,
   "metadata": {
    "cell_id": "af04921bdc434943bef5bdffb2de7061",
    "deepnote_cell_type": "code",
    "deepnote_to_be_reexecuted": false,
    "execution_millis": 129,
    "execution_start": 1686816262682,
    "source_hash": "caa55e2e"
   },
   "outputs": [
    {
     "data": {
      "application/vnd.deepnote.dataframe.v3+json": {
       "column_count": 9,
       "columns": [
        {
         "dtype": "object",
         "name": "player",
         "stats": {
          "categories": [
           {
            "count": 49,
            "name": "KDB"
           }
          ],
          "nan_count": 0,
          "unique_count": 1
         }
        },
        {
         "dtype": "int64",
         "name": "minute",
         "stats": {
          "histogram": [
           {
            "bin_end": 49.9,
            "bin_start": 45,
            "count": 7
           },
           {
            "bin_end": 54.8,
            "bin_start": 49.9,
            "count": 3
           },
           {
            "bin_end": 59.7,
            "bin_start": 54.8,
            "count": 5
           },
           {
            "bin_end": 64.6,
            "bin_start": 59.7,
            "count": 7
           },
           {
            "bin_end": 69.5,
            "bin_start": 64.6,
            "count": 4
           },
           {
            "bin_end": 74.4,
            "bin_start": 69.5,
            "count": 3
           },
           {
            "bin_end": 79.30000000000001,
            "bin_start": 74.4,
            "count": 9
           },
           {
            "bin_end": 84.2,
            "bin_start": 79.30000000000001,
            "count": 5
           },
           {
            "bin_end": 89.1,
            "bin_start": 84.2,
            "count": 2
           },
           {
            "bin_end": 94,
            "bin_start": 89.1,
            "count": 4
           }
          ],
          "max": "94",
          "min": "45",
          "nan_count": 0,
          "unique_count": 28
         }
        },
        {
         "dtype": "int64",
         "name": "second",
         "stats": {
          "histogram": [
           {
            "bin_end": 5.9,
            "bin_start": 0,
            "count": 5
           },
           {
            "bin_end": 11.8,
            "bin_start": 5.9,
            "count": 5
           },
           {
            "bin_end": 17.700000000000003,
            "bin_start": 11.8,
            "count": 3
           },
           {
            "bin_end": 23.6,
            "bin_start": 17.700000000000003,
            "count": 7
           },
           {
            "bin_end": 29.5,
            "bin_start": 23.6,
            "count": 10
           },
           {
            "bin_end": 35.400000000000006,
            "bin_start": 29.5,
            "count": 3
           },
           {
            "bin_end": 41.300000000000004,
            "bin_start": 35.400000000000006,
            "count": 4
           },
           {
            "bin_end": 47.2,
            "bin_start": 41.300000000000004,
            "count": 8
           },
           {
            "bin_end": 53.1,
            "bin_start": 47.2,
            "count": 1
           },
           {
            "bin_end": 59,
            "bin_start": 53.1,
            "count": 3
           }
          ],
          "max": "59",
          "min": "0",
          "nan_count": 0,
          "unique_count": 33
         }
        },
        {
         "dtype": "int64",
         "name": "x",
         "stats": {
          "histogram": [
           {
            "bin_end": 37,
            "bin_start": 30,
            "count": 1
           },
           {
            "bin_end": 44,
            "bin_start": 37,
            "count": 1
           },
           {
            "bin_end": 51,
            "bin_start": 44,
            "count": 4
           },
           {
            "bin_end": 58,
            "bin_start": 51,
            "count": 2
           },
           {
            "bin_end": 65,
            "bin_start": 58,
            "count": 7
           },
           {
            "bin_end": 72,
            "bin_start": 65,
            "count": 12
           },
           {
            "bin_end": 79,
            "bin_start": 72,
            "count": 9
           },
           {
            "bin_end": 86,
            "bin_start": 79,
            "count": 6
           },
           {
            "bin_end": 93,
            "bin_start": 86,
            "count": 1
           },
           {
            "bin_end": 100,
            "bin_start": 93,
            "count": 6
           }
          ],
          "max": "100",
          "min": "30",
          "nan_count": 0,
          "unique_count": 32
         }
        },
        {
         "dtype": "int64",
         "name": "y",
         "stats": {
          "histogram": [
           {
            "bin_end": 10.9,
            "bin_start": 1,
            "count": 10
           },
           {
            "bin_end": 20.8,
            "bin_start": 10.9,
            "count": 1
           },
           {
            "bin_end": 30.700000000000003,
            "bin_start": 20.8,
            "count": 4
           },
           {
            "bin_end": 40.6,
            "bin_start": 30.700000000000003,
            "count": 7
           },
           {
            "bin_end": 50.5,
            "bin_start": 40.6,
            "count": 10
           },
           {
            "bin_end": 60.400000000000006,
            "bin_start": 50.5,
            "count": 6
           },
           {
            "bin_end": 70.3,
            "bin_start": 60.400000000000006,
            "count": 6
           },
           {
            "bin_end": 80.2,
            "bin_start": 70.3,
            "count": 1
           },
           {
            "bin_end": 90.10000000000001,
            "bin_start": 80.2,
            "count": 1
           },
           {
            "bin_end": 100,
            "bin_start": 90.10000000000001,
            "count": 3
           }
          ],
          "max": "100",
          "min": "1",
          "nan_count": 0,
          "unique_count": 35
         }
        },
        {
         "dtype": "object",
         "name": "type",
         "stats": {
          "categories": [
           {
            "count": 49,
            "name": "Pass"
           }
          ],
          "nan_count": 0,
          "unique_count": 1
         }
        },
        {
         "dtype": "object",
         "name": "outcome",
         "stats": {
          "categories": [
           {
            "count": 40,
            "name": "Successful"
           },
           {
            "count": 9,
            "name": "Unsuccessful"
           }
          ],
          "nan_count": 0,
          "unique_count": 2
         }
        },
        {
         "dtype": "int64",
         "name": "endX",
         "stats": {
          "histogram": [
           {
            "bin_end": 29.6,
            "bin_start": 22,
            "count": 1
           },
           {
            "bin_end": 37.2,
            "bin_start": 29.6,
            "count": 1
           },
           {
            "bin_end": 44.8,
            "bin_start": 37.2,
            "count": 3
           },
           {
            "bin_end": 52.4,
            "bin_start": 44.8,
            "count": 1
           },
           {
            "bin_end": 60,
            "bin_start": 52.4,
            "count": 0
           },
           {
            "bin_end": 67.6,
            "bin_start": 60,
            "count": 12
           },
           {
            "bin_end": 75.19999999999999,
            "bin_start": 67.6,
            "count": 10
           },
           {
            "bin_end": 82.8,
            "bin_start": 75.19999999999999,
            "count": 6
           },
           {
            "bin_end": 90.39999999999999,
            "bin_start": 82.8,
            "count": 6
           },
           {
            "bin_end": 98,
            "bin_start": 90.39999999999999,
            "count": 9
           }
          ],
          "max": "98",
          "min": "22",
          "nan_count": 0,
          "unique_count": 32
         }
        },
        {
         "dtype": "int64",
         "name": "endY",
         "stats": {
          "histogram": [
           {
            "bin_end": 13.2,
            "bin_start": 4,
            "count": 7
           },
           {
            "bin_end": 22.4,
            "bin_start": 13.2,
            "count": 3
           },
           {
            "bin_end": 31.599999999999998,
            "bin_start": 22.4,
            "count": 3
           },
           {
            "bin_end": 40.8,
            "bin_start": 31.599999999999998,
            "count": 5
           },
           {
            "bin_end": 50,
            "bin_start": 40.8,
            "count": 4
           },
           {
            "bin_end": 59.199999999999996,
            "bin_start": 50,
            "count": 8
           },
           {
            "bin_end": 68.39999999999999,
            "bin_start": 59.199999999999996,
            "count": 6
           },
           {
            "bin_end": 77.6,
            "bin_start": 68.39999999999999,
            "count": 5
           },
           {
            "bin_end": 86.8,
            "bin_start": 77.6,
            "count": 5
           },
           {
            "bin_end": 96,
            "bin_start": 86.8,
            "count": 3
           }
          ],
          "max": "96",
          "min": "4",
          "nan_count": 0,
          "unique_count": 35
         }
        },
        {
         "dtype": "int64",
         "name": "_deepnote_index_column"
        }
       ],
       "row_count": 49,
       "rows": [
        {
         "_deepnote_index_column": 0,
         "endX": 40,
         "endY": 43,
         "minute": 45,
         "outcome": "Successful",
         "player": "KDB",
         "second": 0,
         "type": "Pass",
         "x": 50,
         "y": 50
        },
        {
         "_deepnote_index_column": 1,
         "endX": 75,
         "endY": 83,
         "minute": 45,
         "outcome": "Successful",
         "player": "KDB",
         "second": 25,
         "type": "Pass",
         "x": 63,
         "y": 48
        },
        {
         "_deepnote_index_column": 2,
         "endX": 71,
         "endY": 65,
         "minute": 46,
         "outcome": "Successful",
         "player": "KDB",
         "second": 4,
         "type": "Pass",
         "x": 74,
         "y": 58
        },
        {
         "_deepnote_index_column": 3,
         "endX": 95,
         "endY": 78,
         "minute": 46,
         "outcome": "Successful",
         "player": "KDB",
         "second": 7,
         "type": "Pass",
         "x": 76,
         "y": 68
        },
        {
         "_deepnote_index_column": 4,
         "endX": 96,
         "endY": 38,
         "minute": 46,
         "outcome": "Unsuccessful",
         "player": "KDB",
         "second": 55,
         "type": "Pass",
         "x": 100,
         "y": 1
        },
        {
         "_deepnote_index_column": 5,
         "endX": 70,
         "endY": 54,
         "minute": 47,
         "outcome": "Successful",
         "player": "KDB",
         "second": 42,
         "type": "Pass",
         "x": 73,
         "y": 25
        },
        {
         "_deepnote_index_column": 6,
         "endX": 82,
         "endY": 38,
         "minute": 49,
         "outcome": "Unsuccessful",
         "player": "KDB",
         "second": 47,
         "type": "Pass",
         "x": 75,
         "y": 43
        },
        {
         "_deepnote_index_column": 7,
         "endX": 87,
         "endY": 24,
         "minute": 50,
         "outcome": "Successful",
         "player": "KDB",
         "second": 10,
         "type": "Pass",
         "x": 79,
         "y": 31
        },
        {
         "_deepnote_index_column": 8,
         "endX": 93,
         "endY": 68,
         "minute": 50,
         "outcome": "Successful",
         "player": "KDB",
         "second": 17,
         "type": "Pass",
         "x": 82,
         "y": 52
        },
        {
         "_deepnote_index_column": 9,
         "endX": 98,
         "endY": 61,
         "minute": 50,
         "outcome": "Unsuccessful",
         "player": "KDB",
         "second": 24,
         "type": "Pass",
         "x": 98,
         "y": 62
        }
       ]
      },
      "text/html": [
       "<div>\n",
       "<style scoped>\n",
       "    .dataframe tbody tr th:only-of-type {\n",
       "        vertical-align: middle;\n",
       "    }\n",
       "\n",
       "    .dataframe tbody tr th {\n",
       "        vertical-align: top;\n",
       "    }\n",
       "\n",
       "    .dataframe thead th {\n",
       "        text-align: right;\n",
       "    }\n",
       "</style>\n",
       "<table border=\"1\" class=\"dataframe\">\n",
       "  <thead>\n",
       "    <tr style=\"text-align: right;\">\n",
       "      <th></th>\n",
       "      <th>player</th>\n",
       "      <th>minute</th>\n",
       "      <th>second</th>\n",
       "      <th>x</th>\n",
       "      <th>y</th>\n",
       "      <th>type</th>\n",
       "      <th>outcome</th>\n",
       "      <th>endX</th>\n",
       "      <th>endY</th>\n",
       "    </tr>\n",
       "  </thead>\n",
       "  <tbody>\n",
       "    <tr>\n",
       "      <th>0</th>\n",
       "      <td>KDB</td>\n",
       "      <td>45</td>\n",
       "      <td>0</td>\n",
       "      <td>50</td>\n",
       "      <td>50</td>\n",
       "      <td>Pass</td>\n",
       "      <td>Successful</td>\n",
       "      <td>40</td>\n",
       "      <td>43</td>\n",
       "    </tr>\n",
       "    <tr>\n",
       "      <th>1</th>\n",
       "      <td>KDB</td>\n",
       "      <td>45</td>\n",
       "      <td>25</td>\n",
       "      <td>63</td>\n",
       "      <td>48</td>\n",
       "      <td>Pass</td>\n",
       "      <td>Successful</td>\n",
       "      <td>75</td>\n",
       "      <td>83</td>\n",
       "    </tr>\n",
       "    <tr>\n",
       "      <th>2</th>\n",
       "      <td>KDB</td>\n",
       "      <td>46</td>\n",
       "      <td>4</td>\n",
       "      <td>74</td>\n",
       "      <td>58</td>\n",
       "      <td>Pass</td>\n",
       "      <td>Successful</td>\n",
       "      <td>71</td>\n",
       "      <td>65</td>\n",
       "    </tr>\n",
       "    <tr>\n",
       "      <th>3</th>\n",
       "      <td>KDB</td>\n",
       "      <td>46</td>\n",
       "      <td>7</td>\n",
       "      <td>76</td>\n",
       "      <td>68</td>\n",
       "      <td>Pass</td>\n",
       "      <td>Successful</td>\n",
       "      <td>95</td>\n",
       "      <td>78</td>\n",
       "    </tr>\n",
       "    <tr>\n",
       "      <th>4</th>\n",
       "      <td>KDB</td>\n",
       "      <td>46</td>\n",
       "      <td>55</td>\n",
       "      <td>100</td>\n",
       "      <td>1</td>\n",
       "      <td>Pass</td>\n",
       "      <td>Unsuccessful</td>\n",
       "      <td>96</td>\n",
       "      <td>38</td>\n",
       "    </tr>\n",
       "    <tr>\n",
       "      <th>5</th>\n",
       "      <td>KDB</td>\n",
       "      <td>47</td>\n",
       "      <td>42</td>\n",
       "      <td>73</td>\n",
       "      <td>25</td>\n",
       "      <td>Pass</td>\n",
       "      <td>Successful</td>\n",
       "      <td>70</td>\n",
       "      <td>54</td>\n",
       "    </tr>\n",
       "    <tr>\n",
       "      <th>6</th>\n",
       "      <td>KDB</td>\n",
       "      <td>49</td>\n",
       "      <td>47</td>\n",
       "      <td>75</td>\n",
       "      <td>43</td>\n",
       "      <td>Pass</td>\n",
       "      <td>Unsuccessful</td>\n",
       "      <td>82</td>\n",
       "      <td>38</td>\n",
       "    </tr>\n",
       "    <tr>\n",
       "      <th>7</th>\n",
       "      <td>KDB</td>\n",
       "      <td>50</td>\n",
       "      <td>10</td>\n",
       "      <td>79</td>\n",
       "      <td>31</td>\n",
       "      <td>Pass</td>\n",
       "      <td>Successful</td>\n",
       "      <td>87</td>\n",
       "      <td>24</td>\n",
       "    </tr>\n",
       "    <tr>\n",
       "      <th>8</th>\n",
       "      <td>KDB</td>\n",
       "      <td>50</td>\n",
       "      <td>17</td>\n",
       "      <td>82</td>\n",
       "      <td>52</td>\n",
       "      <td>Pass</td>\n",
       "      <td>Successful</td>\n",
       "      <td>93</td>\n",
       "      <td>68</td>\n",
       "    </tr>\n",
       "    <tr>\n",
       "      <th>9</th>\n",
       "      <td>KDB</td>\n",
       "      <td>50</td>\n",
       "      <td>24</td>\n",
       "      <td>98</td>\n",
       "      <td>62</td>\n",
       "      <td>Pass</td>\n",
       "      <td>Unsuccessful</td>\n",
       "      <td>98</td>\n",
       "      <td>61</td>\n",
       "    </tr>\n",
       "    <tr>\n",
       "      <th>10</th>\n",
       "      <td>KDB</td>\n",
       "      <td>55</td>\n",
       "      <td>22</td>\n",
       "      <td>30</td>\n",
       "      <td>12</td>\n",
       "      <td>Pass</td>\n",
       "      <td>Successful</td>\n",
       "      <td>22</td>\n",
       "      <td>24</td>\n",
       "    </tr>\n",
       "    <tr>\n",
       "      <th>11</th>\n",
       "      <td>KDB</td>\n",
       "      <td>56</td>\n",
       "      <td>24</td>\n",
       "      <td>38</td>\n",
       "      <td>42</td>\n",
       "      <td>Pass</td>\n",
       "      <td>Successful</td>\n",
       "      <td>37</td>\n",
       "      <td>51</td>\n",
       "    </tr>\n",
       "    <tr>\n",
       "      <th>12</th>\n",
       "      <td>KDB</td>\n",
       "      <td>56</td>\n",
       "      <td>36</td>\n",
       "      <td>53</td>\n",
       "      <td>44</td>\n",
       "      <td>Pass</td>\n",
       "      <td>Successful</td>\n",
       "      <td>43</td>\n",
       "      <td>62</td>\n",
       "    </tr>\n",
       "    <tr>\n",
       "      <th>13</th>\n",
       "      <td>KDB</td>\n",
       "      <td>56</td>\n",
       "      <td>43</td>\n",
       "      <td>61</td>\n",
       "      <td>63</td>\n",
       "      <td>Pass</td>\n",
       "      <td>Successful</td>\n",
       "      <td>64</td>\n",
       "      <td>63</td>\n",
       "    </tr>\n",
       "    <tr>\n",
       "      <th>14</th>\n",
       "      <td>KDB</td>\n",
       "      <td>57</td>\n",
       "      <td>2</td>\n",
       "      <td>96</td>\n",
       "      <td>33</td>\n",
       "      <td>Pass</td>\n",
       "      <td>Successful</td>\n",
       "      <td>91</td>\n",
       "      <td>34</td>\n",
       "    </tr>\n",
       "    <tr>\n",
       "      <th>15</th>\n",
       "      <td>KDB</td>\n",
       "      <td>62</td>\n",
       "      <td>25</td>\n",
       "      <td>46</td>\n",
       "      <td>45</td>\n",
       "      <td>Pass</td>\n",
       "      <td>Successful</td>\n",
       "      <td>38</td>\n",
       "      <td>43</td>\n",
       "    </tr>\n",
       "    <tr>\n",
       "      <th>16</th>\n",
       "      <td>KDB</td>\n",
       "      <td>62</td>\n",
       "      <td>31</td>\n",
       "      <td>49</td>\n",
       "      <td>67</td>\n",
       "      <td>Pass</td>\n",
       "      <td>Successful</td>\n",
       "      <td>61</td>\n",
       "      <td>96</td>\n",
       "    </tr>\n",
       "    <tr>\n",
       "      <th>17</th>\n",
       "      <td>KDB</td>\n",
       "      <td>63</td>\n",
       "      <td>36</td>\n",
       "      <td>64</td>\n",
       "      <td>22</td>\n",
       "      <td>Pass</td>\n",
       "      <td>Successful</td>\n",
       "      <td>63</td>\n",
       "      <td>10</td>\n",
       "    </tr>\n",
       "    <tr>\n",
       "      <th>18</th>\n",
       "      <td>KDB</td>\n",
       "      <td>63</td>\n",
       "      <td>40</td>\n",
       "      <td>74</td>\n",
       "      <td>7</td>\n",
       "      <td>Pass</td>\n",
       "      <td>Successful</td>\n",
       "      <td>66</td>\n",
       "      <td>9</td>\n",
       "    </tr>\n",
       "    <tr>\n",
       "      <th>19</th>\n",
       "      <td>KDB</td>\n",
       "      <td>63</td>\n",
       "      <td>42</td>\n",
       "      <td>70</td>\n",
       "      <td>6</td>\n",
       "      <td>Pass</td>\n",
       "      <td>Successful</td>\n",
       "      <td>63</td>\n",
       "      <td>9</td>\n",
       "    </tr>\n",
       "    <tr>\n",
       "      <th>20</th>\n",
       "      <td>KDB</td>\n",
       "      <td>63</td>\n",
       "      <td>43</td>\n",
       "      <td>67</td>\n",
       "      <td>4</td>\n",
       "      <td>Pass</td>\n",
       "      <td>Successful</td>\n",
       "      <td>62</td>\n",
       "      <td>9</td>\n",
       "    </tr>\n",
       "    <tr>\n",
       "      <th>21</th>\n",
       "      <td>KDB</td>\n",
       "      <td>63</td>\n",
       "      <td>48</td>\n",
       "      <td>69</td>\n",
       "      <td>4</td>\n",
       "      <td>Pass</td>\n",
       "      <td>Successful</td>\n",
       "      <td>62</td>\n",
       "      <td>9</td>\n",
       "    </tr>\n",
       "    <tr>\n",
       "      <th>22</th>\n",
       "      <td>KDB</td>\n",
       "      <td>66</td>\n",
       "      <td>27</td>\n",
       "      <td>65</td>\n",
       "      <td>36</td>\n",
       "      <td>Pass</td>\n",
       "      <td>Successful</td>\n",
       "      <td>71</td>\n",
       "      <td>51</td>\n",
       "    </tr>\n",
       "    <tr>\n",
       "      <th>23</th>\n",
       "      <td>KDB</td>\n",
       "      <td>67</td>\n",
       "      <td>40</td>\n",
       "      <td>73</td>\n",
       "      <td>58</td>\n",
       "      <td>Pass</td>\n",
       "      <td>Unsuccessful</td>\n",
       "      <td>87</td>\n",
       "      <td>41</td>\n",
       "    </tr>\n",
       "    <tr>\n",
       "      <th>24</th>\n",
       "      <td>KDB</td>\n",
       "      <td>68</td>\n",
       "      <td>19</td>\n",
       "      <td>66</td>\n",
       "      <td>67</td>\n",
       "      <td>Pass</td>\n",
       "      <td>Successful</td>\n",
       "      <td>60</td>\n",
       "      <td>69</td>\n",
       "    </tr>\n",
       "    <tr>\n",
       "      <th>25</th>\n",
       "      <td>KDB</td>\n",
       "      <td>69</td>\n",
       "      <td>25</td>\n",
       "      <td>71</td>\n",
       "      <td>79</td>\n",
       "      <td>Pass</td>\n",
       "      <td>Successful</td>\n",
       "      <td>63</td>\n",
       "      <td>72</td>\n",
       "    </tr>\n",
       "    <tr>\n",
       "      <th>26</th>\n",
       "      <td>KDB</td>\n",
       "      <td>71</td>\n",
       "      <td>29</td>\n",
       "      <td>64</td>\n",
       "      <td>30</td>\n",
       "      <td>Pass</td>\n",
       "      <td>Successful</td>\n",
       "      <td>69</td>\n",
       "      <td>60</td>\n",
       "    </tr>\n",
       "    <tr>\n",
       "      <th>27</th>\n",
       "      <td>KDB</td>\n",
       "      <td>71</td>\n",
       "      <td>46</td>\n",
       "      <td>81</td>\n",
       "      <td>57</td>\n",
       "      <td>Pass</td>\n",
       "      <td>Successful</td>\n",
       "      <td>96</td>\n",
       "      <td>71</td>\n",
       "    </tr>\n",
       "    <tr>\n",
       "      <th>28</th>\n",
       "      <td>KDB</td>\n",
       "      <td>73</td>\n",
       "      <td>44</td>\n",
       "      <td>50</td>\n",
       "      <td>50</td>\n",
       "      <td>Pass</td>\n",
       "      <td>Successful</td>\n",
       "      <td>47</td>\n",
       "      <td>52</td>\n",
       "    </tr>\n",
       "    <tr>\n",
       "      <th>29</th>\n",
       "      <td>KDB</td>\n",
       "      <td>76</td>\n",
       "      <td>11</td>\n",
       "      <td>67</td>\n",
       "      <td>43</td>\n",
       "      <td>Pass</td>\n",
       "      <td>Successful</td>\n",
       "      <td>75</td>\n",
       "      <td>41</td>\n",
       "    </tr>\n",
       "    <tr>\n",
       "      <th>30</th>\n",
       "      <td>KDB</td>\n",
       "      <td>76</td>\n",
       "      <td>25</td>\n",
       "      <td>77</td>\n",
       "      <td>41</td>\n",
       "      <td>Pass</td>\n",
       "      <td>Unsuccessful</td>\n",
       "      <td>84</td>\n",
       "      <td>37</td>\n",
       "    </tr>\n",
       "    <tr>\n",
       "      <th>31</th>\n",
       "      <td>KDB</td>\n",
       "      <td>77</td>\n",
       "      <td>59</td>\n",
       "      <td>100</td>\n",
       "      <td>100</td>\n",
       "      <td>Pass</td>\n",
       "      <td>Successful</td>\n",
       "      <td>92</td>\n",
       "      <td>96</td>\n",
       "    </tr>\n",
       "    <tr>\n",
       "      <th>32</th>\n",
       "      <td>KDB</td>\n",
       "      <td>78</td>\n",
       "      <td>3</td>\n",
       "      <td>88</td>\n",
       "      <td>96</td>\n",
       "      <td>Pass</td>\n",
       "      <td>Successful</td>\n",
       "      <td>69</td>\n",
       "      <td>82</td>\n",
       "    </tr>\n",
       "    <tr>\n",
       "      <th>33</th>\n",
       "      <td>KDB</td>\n",
       "      <td>78</td>\n",
       "      <td>9</td>\n",
       "      <td>83</td>\n",
       "      <td>96</td>\n",
       "      <td>Pass</td>\n",
       "      <td>Successful</td>\n",
       "      <td>81</td>\n",
       "      <td>83</td>\n",
       "    </tr>\n",
       "    <tr>\n",
       "      <th>34</th>\n",
       "      <td>KDB</td>\n",
       "      <td>78</td>\n",
       "      <td>58</td>\n",
       "      <td>64</td>\n",
       "      <td>51</td>\n",
       "      <td>Pass</td>\n",
       "      <td>Successful</td>\n",
       "      <td>69</td>\n",
       "      <td>83</td>\n",
       "    </tr>\n",
       "    <tr>\n",
       "      <th>35</th>\n",
       "      <td>KDB</td>\n",
       "      <td>79</td>\n",
       "      <td>5</td>\n",
       "      <td>67</td>\n",
       "      <td>67</td>\n",
       "      <td>Pass</td>\n",
       "      <td>Successful</td>\n",
       "      <td>66</td>\n",
       "      <td>54</td>\n",
       "    </tr>\n",
       "    <tr>\n",
       "      <th>36</th>\n",
       "      <td>KDB</td>\n",
       "      <td>79</td>\n",
       "      <td>19</td>\n",
       "      <td>70</td>\n",
       "      <td>56</td>\n",
       "      <td>Pass</td>\n",
       "      <td>Successful</td>\n",
       "      <td>85</td>\n",
       "      <td>87</td>\n",
       "    </tr>\n",
       "    <tr>\n",
       "      <th>37</th>\n",
       "      <td>KDB</td>\n",
       "      <td>79</td>\n",
       "      <td>31</td>\n",
       "      <td>76</td>\n",
       "      <td>84</td>\n",
       "      <td>Pass</td>\n",
       "      <td>Successful</td>\n",
       "      <td>65</td>\n",
       "      <td>73</td>\n",
       "    </tr>\n",
       "    <tr>\n",
       "      <th>38</th>\n",
       "      <td>KDB</td>\n",
       "      <td>80</td>\n",
       "      <td>26</td>\n",
       "      <td>100</td>\n",
       "      <td>1</td>\n",
       "      <td>Pass</td>\n",
       "      <td>Successful</td>\n",
       "      <td>92</td>\n",
       "      <td>5</td>\n",
       "    </tr>\n",
       "    <tr>\n",
       "      <th>39</th>\n",
       "      <td>KDB</td>\n",
       "      <td>80</td>\n",
       "      <td>30</td>\n",
       "      <td>82</td>\n",
       "      <td>3</td>\n",
       "      <td>Pass</td>\n",
       "      <td>Successful</td>\n",
       "      <td>76</td>\n",
       "      <td>17</td>\n",
       "    </tr>\n",
       "    <tr>\n",
       "      <th>40</th>\n",
       "      <td>KDB</td>\n",
       "      <td>81</td>\n",
       "      <td>14</td>\n",
       "      <td>59</td>\n",
       "      <td>4</td>\n",
       "      <td>Pass</td>\n",
       "      <td>Successful</td>\n",
       "      <td>69</td>\n",
       "      <td>4</td>\n",
       "    </tr>\n",
       "    <tr>\n",
       "      <th>41</th>\n",
       "      <td>KDB</td>\n",
       "      <td>81</td>\n",
       "      <td>20</td>\n",
       "      <td>80</td>\n",
       "      <td>6</td>\n",
       "      <td>Pass</td>\n",
       "      <td>Successful</td>\n",
       "      <td>81</td>\n",
       "      <td>19</td>\n",
       "    </tr>\n",
       "    <tr>\n",
       "      <th>42</th>\n",
       "      <td>KDB</td>\n",
       "      <td>83</td>\n",
       "      <td>14</td>\n",
       "      <td>71</td>\n",
       "      <td>40</td>\n",
       "      <td>Pass</td>\n",
       "      <td>Unsuccessful</td>\n",
       "      <td>88</td>\n",
       "      <td>55</td>\n",
       "    </tr>\n",
       "    <tr>\n",
       "      <th>43</th>\n",
       "      <td>KDB</td>\n",
       "      <td>87</td>\n",
       "      <td>24</td>\n",
       "      <td>58</td>\n",
       "      <td>42</td>\n",
       "      <td>Pass</td>\n",
       "      <td>Successful</td>\n",
       "      <td>66</td>\n",
       "      <td>74</td>\n",
       "    </tr>\n",
       "    <tr>\n",
       "      <th>44</th>\n",
       "      <td>KDB</td>\n",
       "      <td>88</td>\n",
       "      <td>22</td>\n",
       "      <td>100</td>\n",
       "      <td>1</td>\n",
       "      <td>Pass</td>\n",
       "      <td>Successful</td>\n",
       "      <td>73</td>\n",
       "      <td>26</td>\n",
       "    </tr>\n",
       "    <tr>\n",
       "      <th>45</th>\n",
       "      <td>KDB</td>\n",
       "      <td>90</td>\n",
       "      <td>18</td>\n",
       "      <td>71</td>\n",
       "      <td>25</td>\n",
       "      <td>Pass</td>\n",
       "      <td>Unsuccessful</td>\n",
       "      <td>91</td>\n",
       "      <td>52</td>\n",
       "    </tr>\n",
       "    <tr>\n",
       "      <th>46</th>\n",
       "      <td>KDB</td>\n",
       "      <td>91</td>\n",
       "      <td>18</td>\n",
       "      <td>66</td>\n",
       "      <td>31</td>\n",
       "      <td>Pass</td>\n",
       "      <td>Successful</td>\n",
       "      <td>76</td>\n",
       "      <td>20</td>\n",
       "    </tr>\n",
       "    <tr>\n",
       "      <th>47</th>\n",
       "      <td>KDB</td>\n",
       "      <td>91</td>\n",
       "      <td>46</td>\n",
       "      <td>74</td>\n",
       "      <td>38</td>\n",
       "      <td>Pass</td>\n",
       "      <td>Unsuccessful</td>\n",
       "      <td>76</td>\n",
       "      <td>36</td>\n",
       "    </tr>\n",
       "    <tr>\n",
       "      <th>48</th>\n",
       "      <td>KDB</td>\n",
       "      <td>94</td>\n",
       "      <td>7</td>\n",
       "      <td>57</td>\n",
       "      <td>37</td>\n",
       "      <td>Pass</td>\n",
       "      <td>Unsuccessful</td>\n",
       "      <td>90</td>\n",
       "      <td>54</td>\n",
       "    </tr>\n",
       "  </tbody>\n",
       "</table>\n",
       "</div>"
      ],
      "text/plain": [
       "   player  minute  second    x    y  type       outcome  endX  endY\n",
       "0     KDB      45       0   50   50  Pass    Successful    40    43\n",
       "1     KDB      45      25   63   48  Pass    Successful    75    83\n",
       "2     KDB      46       4   74   58  Pass    Successful    71    65\n",
       "3     KDB      46       7   76   68  Pass    Successful    95    78\n",
       "4     KDB      46      55  100    1  Pass  Unsuccessful    96    38\n",
       "5     KDB      47      42   73   25  Pass    Successful    70    54\n",
       "6     KDB      49      47   75   43  Pass  Unsuccessful    82    38\n",
       "7     KDB      50      10   79   31  Pass    Successful    87    24\n",
       "8     KDB      50      17   82   52  Pass    Successful    93    68\n",
       "9     KDB      50      24   98   62  Pass  Unsuccessful    98    61\n",
       "10    KDB      55      22   30   12  Pass    Successful    22    24\n",
       "11    KDB      56      24   38   42  Pass    Successful    37    51\n",
       "12    KDB      56      36   53   44  Pass    Successful    43    62\n",
       "13    KDB      56      43   61   63  Pass    Successful    64    63\n",
       "14    KDB      57       2   96   33  Pass    Successful    91    34\n",
       "15    KDB      62      25   46   45  Pass    Successful    38    43\n",
       "16    KDB      62      31   49   67  Pass    Successful    61    96\n",
       "17    KDB      63      36   64   22  Pass    Successful    63    10\n",
       "18    KDB      63      40   74    7  Pass    Successful    66     9\n",
       "19    KDB      63      42   70    6  Pass    Successful    63     9\n",
       "20    KDB      63      43   67    4  Pass    Successful    62     9\n",
       "21    KDB      63      48   69    4  Pass    Successful    62     9\n",
       "22    KDB      66      27   65   36  Pass    Successful    71    51\n",
       "23    KDB      67      40   73   58  Pass  Unsuccessful    87    41\n",
       "24    KDB      68      19   66   67  Pass    Successful    60    69\n",
       "25    KDB      69      25   71   79  Pass    Successful    63    72\n",
       "26    KDB      71      29   64   30  Pass    Successful    69    60\n",
       "27    KDB      71      46   81   57  Pass    Successful    96    71\n",
       "28    KDB      73      44   50   50  Pass    Successful    47    52\n",
       "29    KDB      76      11   67   43  Pass    Successful    75    41\n",
       "30    KDB      76      25   77   41  Pass  Unsuccessful    84    37\n",
       "31    KDB      77      59  100  100  Pass    Successful    92    96\n",
       "32    KDB      78       3   88   96  Pass    Successful    69    82\n",
       "33    KDB      78       9   83   96  Pass    Successful    81    83\n",
       "34    KDB      78      58   64   51  Pass    Successful    69    83\n",
       "35    KDB      79       5   67   67  Pass    Successful    66    54\n",
       "36    KDB      79      19   70   56  Pass    Successful    85    87\n",
       "37    KDB      79      31   76   84  Pass    Successful    65    73\n",
       "38    KDB      80      26  100    1  Pass    Successful    92     5\n",
       "39    KDB      80      30   82    3  Pass    Successful    76    17\n",
       "40    KDB      81      14   59    4  Pass    Successful    69     4\n",
       "41    KDB      81      20   80    6  Pass    Successful    81    19\n",
       "42    KDB      83      14   71   40  Pass  Unsuccessful    88    55\n",
       "43    KDB      87      24   58   42  Pass    Successful    66    74\n",
       "44    KDB      88      22  100    1  Pass    Successful    73    26\n",
       "45    KDB      90      18   71   25  Pass  Unsuccessful    91    52\n",
       "46    KDB      91      18   66   31  Pass    Successful    76    20\n",
       "47    KDB      91      46   74   38  Pass  Unsuccessful    76    36\n",
       "48    KDB      94       7   57   37  Pass  Unsuccessful    90    54"
      ]
     },
     "execution_count": 21,
     "metadata": {},
     "output_type": "execute_result"
    }
   ],
   "source": [
    "df2"
   ]
  },
  {
   "cell_type": "code",
   "execution_count": 22,
   "metadata": {
    "cell_id": "546fe1046435425fbbb25a979f536952",
    "deepnote_cell_type": "code",
    "deepnote_to_be_reexecuted": false,
    "execution_millis": 26,
    "execution_start": 1686816262793,
    "source_hash": "b19af0ec"
   },
   "outputs": [
    {
     "data": {
      "application/vnd.deepnote.dataframe.v3+json": {
       "column_count": 9,
       "columns": [
        {
         "dtype": "object",
         "name": "player",
         "stats": {
          "categories": [
           {
            "count": 49,
            "name": "KDB"
           }
          ],
          "nan_count": 0,
          "unique_count": 1
         }
        },
        {
         "dtype": "int64",
         "name": "minute",
         "stats": {
          "histogram": [
           {
            "bin_end": 49.9,
            "bin_start": 45,
            "count": 7
           },
           {
            "bin_end": 54.8,
            "bin_start": 49.9,
            "count": 3
           },
           {
            "bin_end": 59.7,
            "bin_start": 54.8,
            "count": 5
           },
           {
            "bin_end": 64.6,
            "bin_start": 59.7,
            "count": 7
           },
           {
            "bin_end": 69.5,
            "bin_start": 64.6,
            "count": 4
           },
           {
            "bin_end": 74.4,
            "bin_start": 69.5,
            "count": 3
           },
           {
            "bin_end": 79.30000000000001,
            "bin_start": 74.4,
            "count": 9
           },
           {
            "bin_end": 84.2,
            "bin_start": 79.30000000000001,
            "count": 5
           },
           {
            "bin_end": 89.1,
            "bin_start": 84.2,
            "count": 2
           },
           {
            "bin_end": 94,
            "bin_start": 89.1,
            "count": 4
           }
          ],
          "max": "94",
          "min": "45",
          "nan_count": 0,
          "unique_count": 28
         }
        },
        {
         "dtype": "int64",
         "name": "second",
         "stats": {
          "histogram": [
           {
            "bin_end": 5.9,
            "bin_start": 0,
            "count": 5
           },
           {
            "bin_end": 11.8,
            "bin_start": 5.9,
            "count": 5
           },
           {
            "bin_end": 17.700000000000003,
            "bin_start": 11.8,
            "count": 3
           },
           {
            "bin_end": 23.6,
            "bin_start": 17.700000000000003,
            "count": 7
           },
           {
            "bin_end": 29.5,
            "bin_start": 23.6,
            "count": 10
           },
           {
            "bin_end": 35.400000000000006,
            "bin_start": 29.5,
            "count": 3
           },
           {
            "bin_end": 41.300000000000004,
            "bin_start": 35.400000000000006,
            "count": 4
           },
           {
            "bin_end": 47.2,
            "bin_start": 41.300000000000004,
            "count": 8
           },
           {
            "bin_end": 53.1,
            "bin_start": 47.2,
            "count": 1
           },
           {
            "bin_end": 59,
            "bin_start": 53.1,
            "count": 3
           }
          ],
          "max": "59",
          "min": "0",
          "nan_count": 0,
          "unique_count": 33
         }
        },
        {
         "dtype": "float64",
         "name": "x",
         "stats": {
          "histogram": [
           {
            "bin_end": 44.4,
            "bin_start": 36,
            "count": 1
           },
           {
            "bin_end": 52.8,
            "bin_start": 44.4,
            "count": 1
           },
           {
            "bin_end": 61.2,
            "bin_start": 52.8,
            "count": 4
           },
           {
            "bin_end": 69.6,
            "bin_start": 61.2,
            "count": 2
           },
           {
            "bin_end": 78,
            "bin_start": 69.6,
            "count": 7
           },
           {
            "bin_end": 86.4,
            "bin_start": 78,
            "count": 12
           },
           {
            "bin_end": 94.80000000000001,
            "bin_start": 86.4,
            "count": 10
           },
           {
            "bin_end": 103.2,
            "bin_start": 94.80000000000001,
            "count": 5
           },
           {
            "bin_end": 111.60000000000001,
            "bin_start": 103.2,
            "count": 1
           },
           {
            "bin_end": 120,
            "bin_start": 111.60000000000001,
            "count": 6
           }
          ],
          "max": "120.0",
          "min": "36.0",
          "nan_count": 0,
          "unique_count": 32
         }
        },
        {
         "dtype": "float64",
         "name": "y",
         "stats": {
          "histogram": [
           {
            "bin_end": 8.72,
            "bin_start": 0.8,
            "count": 10
           },
           {
            "bin_end": 16.64,
            "bin_start": 8.72,
            "count": 1
           },
           {
            "bin_end": 24.56,
            "bin_start": 16.64,
            "count": 4
           },
           {
            "bin_end": 32.48,
            "bin_start": 24.56,
            "count": 7
           },
           {
            "bin_end": 40.4,
            "bin_start": 32.48,
            "count": 10
           },
           {
            "bin_end": 48.31999999999999,
            "bin_start": 40.4,
            "count": 6
           },
           {
            "bin_end": 56.239999999999995,
            "bin_start": 48.31999999999999,
            "count": 6
           },
           {
            "bin_end": 64.16,
            "bin_start": 56.239999999999995,
            "count": 1
           },
           {
            "bin_end": 72.08,
            "bin_start": 64.16,
            "count": 1
           },
           {
            "bin_end": 80,
            "bin_start": 72.08,
            "count": 3
           }
          ],
          "max": "80.0",
          "min": "0.8",
          "nan_count": 0,
          "unique_count": 35
         }
        },
        {
         "dtype": "object",
         "name": "type",
         "stats": {
          "categories": [
           {
            "count": 49,
            "name": "Pass"
           }
          ],
          "nan_count": 0,
          "unique_count": 1
         }
        },
        {
         "dtype": "object",
         "name": "outcome",
         "stats": {
          "categories": [
           {
            "count": 40,
            "name": "Successful"
           },
           {
            "count": 9,
            "name": "Unsuccessful"
           }
          ],
          "nan_count": 0,
          "unique_count": 2
         }
        },
        {
         "dtype": "float64",
         "name": "endX",
         "stats": {
          "histogram": [
           {
            "bin_end": 35.519999999999996,
            "bin_start": 26.4,
            "count": 1
           },
           {
            "bin_end": 44.64,
            "bin_start": 35.519999999999996,
            "count": 1
           },
           {
            "bin_end": 53.76,
            "bin_start": 44.64,
            "count": 3
           },
           {
            "bin_end": 62.879999999999995,
            "bin_start": 53.76,
            "count": 1
           },
           {
            "bin_end": 72,
            "bin_start": 62.879999999999995,
            "count": 0
           },
           {
            "bin_end": 81.12,
            "bin_start": 72,
            "count": 12
           },
           {
            "bin_end": 90.24,
            "bin_start": 81.12,
            "count": 10
           },
           {
            "bin_end": 99.35999999999999,
            "bin_start": 90.24,
            "count": 6
           },
           {
            "bin_end": 108.47999999999999,
            "bin_start": 99.35999999999999,
            "count": 6
           },
           {
            "bin_end": 117.6,
            "bin_start": 108.47999999999999,
            "count": 9
           }
          ],
          "max": "117.6",
          "min": "26.4",
          "nan_count": 0,
          "unique_count": 32
         }
        },
        {
         "dtype": "float64",
         "name": "endY",
         "stats": {
          "histogram": [
           {
            "bin_end": 10.560000000000002,
            "bin_start": 3.2,
            "count": 7
           },
           {
            "bin_end": 17.92,
            "bin_start": 10.560000000000002,
            "count": 3
           },
           {
            "bin_end": 25.280000000000005,
            "bin_start": 17.92,
            "count": 3
           },
           {
            "bin_end": 32.64000000000001,
            "bin_start": 25.280000000000005,
            "count": 5
           },
           {
            "bin_end": 40.00000000000001,
            "bin_start": 32.64000000000001,
            "count": 4
           },
           {
            "bin_end": 47.360000000000014,
            "bin_start": 40.00000000000001,
            "count": 8
           },
           {
            "bin_end": 54.72000000000001,
            "bin_start": 47.360000000000014,
            "count": 6
           },
           {
            "bin_end": 62.08000000000001,
            "bin_start": 54.72000000000001,
            "count": 5
           },
           {
            "bin_end": 69.44000000000001,
            "bin_start": 62.08000000000001,
            "count": 5
           },
           {
            "bin_end": 76.80000000000001,
            "bin_start": 69.44000000000001,
            "count": 3
           }
          ],
          "max": "76.80000000000001",
          "min": "3.2",
          "nan_count": 0,
          "unique_count": 35
         }
        },
        {
         "dtype": "int64",
         "name": "_deepnote_index_column"
        }
       ],
       "row_count": 49,
       "rows": [
        {
         "_deepnote_index_column": 0,
         "endX": 48,
         "endY": 34.4,
         "minute": 45,
         "outcome": "Successful",
         "player": "KDB",
         "second": 0,
         "type": "Pass",
         "x": 60,
         "y": 40
        },
        {
         "_deepnote_index_column": 1,
         "endX": 90,
         "endY": 66.4,
         "minute": 45,
         "outcome": "Successful",
         "player": "KDB",
         "second": 25,
         "type": "Pass",
         "x": 75.6,
         "y": 38.400000000000006
        },
        {
         "_deepnote_index_column": 2,
         "endX": 85.2,
         "endY": 52,
         "minute": 46,
         "outcome": "Successful",
         "player": "KDB",
         "second": 4,
         "type": "Pass",
         "x": 88.8,
         "y": 46.400000000000006
        },
        {
         "_deepnote_index_column": 3,
         "endX": 114,
         "endY": 62.400000000000006,
         "minute": 46,
         "outcome": "Successful",
         "player": "KDB",
         "second": 7,
         "type": "Pass",
         "x": 91.2,
         "y": 54.400000000000006
        },
        {
         "_deepnote_index_column": 4,
         "endX": 115.19999999999999,
         "endY": 30.400000000000002,
         "minute": 46,
         "outcome": "Unsuccessful",
         "player": "KDB",
         "second": 55,
         "type": "Pass",
         "x": 120,
         "y": 0.8
        },
        {
         "_deepnote_index_column": 5,
         "endX": 84,
         "endY": 43.2,
         "minute": 47,
         "outcome": "Successful",
         "player": "KDB",
         "second": 42,
         "type": "Pass",
         "x": 87.6,
         "y": 20
        },
        {
         "_deepnote_index_column": 6,
         "endX": 98.39999999999999,
         "endY": 30.400000000000002,
         "minute": 49,
         "outcome": "Unsuccessful",
         "player": "KDB",
         "second": 47,
         "type": "Pass",
         "x": 90,
         "y": 34.4
        },
        {
         "_deepnote_index_column": 7,
         "endX": 104.39999999999999,
         "endY": 19.200000000000003,
         "minute": 50,
         "outcome": "Successful",
         "player": "KDB",
         "second": 10,
         "type": "Pass",
         "x": 94.8,
         "y": 24.8
        },
        {
         "_deepnote_index_column": 8,
         "endX": 111.6,
         "endY": 54.400000000000006,
         "minute": 50,
         "outcome": "Successful",
         "player": "KDB",
         "second": 17,
         "type": "Pass",
         "x": 98.39999999999999,
         "y": 41.6
        },
        {
         "_deepnote_index_column": 9,
         "endX": 117.6,
         "endY": 48.800000000000004,
         "minute": 50,
         "outcome": "Unsuccessful",
         "player": "KDB",
         "second": 24,
         "type": "Pass",
         "x": 117.6,
         "y": 49.6
        }
       ]
      },
      "text/html": [
       "<div>\n",
       "<style scoped>\n",
       "    .dataframe tbody tr th:only-of-type {\n",
       "        vertical-align: middle;\n",
       "    }\n",
       "\n",
       "    .dataframe tbody tr th {\n",
       "        vertical-align: top;\n",
       "    }\n",
       "\n",
       "    .dataframe thead th {\n",
       "        text-align: right;\n",
       "    }\n",
       "</style>\n",
       "<table border=\"1\" class=\"dataframe\">\n",
       "  <thead>\n",
       "    <tr style=\"text-align: right;\">\n",
       "      <th></th>\n",
       "      <th>player</th>\n",
       "      <th>minute</th>\n",
       "      <th>second</th>\n",
       "      <th>x</th>\n",
       "      <th>y</th>\n",
       "      <th>type</th>\n",
       "      <th>outcome</th>\n",
       "      <th>endX</th>\n",
       "      <th>endY</th>\n",
       "    </tr>\n",
       "  </thead>\n",
       "  <tbody>\n",
       "    <tr>\n",
       "      <th>0</th>\n",
       "      <td>KDB</td>\n",
       "      <td>45</td>\n",
       "      <td>0</td>\n",
       "      <td>60.0</td>\n",
       "      <td>40.0</td>\n",
       "      <td>Pass</td>\n",
       "      <td>Successful</td>\n",
       "      <td>48.0</td>\n",
       "      <td>34.4</td>\n",
       "    </tr>\n",
       "    <tr>\n",
       "      <th>1</th>\n",
       "      <td>KDB</td>\n",
       "      <td>45</td>\n",
       "      <td>25</td>\n",
       "      <td>75.6</td>\n",
       "      <td>38.4</td>\n",
       "      <td>Pass</td>\n",
       "      <td>Successful</td>\n",
       "      <td>90.0</td>\n",
       "      <td>66.4</td>\n",
       "    </tr>\n",
       "    <tr>\n",
       "      <th>2</th>\n",
       "      <td>KDB</td>\n",
       "      <td>46</td>\n",
       "      <td>4</td>\n",
       "      <td>88.8</td>\n",
       "      <td>46.4</td>\n",
       "      <td>Pass</td>\n",
       "      <td>Successful</td>\n",
       "      <td>85.2</td>\n",
       "      <td>52.0</td>\n",
       "    </tr>\n",
       "    <tr>\n",
       "      <th>3</th>\n",
       "      <td>KDB</td>\n",
       "      <td>46</td>\n",
       "      <td>7</td>\n",
       "      <td>91.2</td>\n",
       "      <td>54.4</td>\n",
       "      <td>Pass</td>\n",
       "      <td>Successful</td>\n",
       "      <td>114.0</td>\n",
       "      <td>62.4</td>\n",
       "    </tr>\n",
       "    <tr>\n",
       "      <th>4</th>\n",
       "      <td>KDB</td>\n",
       "      <td>46</td>\n",
       "      <td>55</td>\n",
       "      <td>120.0</td>\n",
       "      <td>0.8</td>\n",
       "      <td>Pass</td>\n",
       "      <td>Unsuccessful</td>\n",
       "      <td>115.2</td>\n",
       "      <td>30.4</td>\n",
       "    </tr>\n",
       "    <tr>\n",
       "      <th>5</th>\n",
       "      <td>KDB</td>\n",
       "      <td>47</td>\n",
       "      <td>42</td>\n",
       "      <td>87.6</td>\n",
       "      <td>20.0</td>\n",
       "      <td>Pass</td>\n",
       "      <td>Successful</td>\n",
       "      <td>84.0</td>\n",
       "      <td>43.2</td>\n",
       "    </tr>\n",
       "    <tr>\n",
       "      <th>6</th>\n",
       "      <td>KDB</td>\n",
       "      <td>49</td>\n",
       "      <td>47</td>\n",
       "      <td>90.0</td>\n",
       "      <td>34.4</td>\n",
       "      <td>Pass</td>\n",
       "      <td>Unsuccessful</td>\n",
       "      <td>98.4</td>\n",
       "      <td>30.4</td>\n",
       "    </tr>\n",
       "    <tr>\n",
       "      <th>7</th>\n",
       "      <td>KDB</td>\n",
       "      <td>50</td>\n",
       "      <td>10</td>\n",
       "      <td>94.8</td>\n",
       "      <td>24.8</td>\n",
       "      <td>Pass</td>\n",
       "      <td>Successful</td>\n",
       "      <td>104.4</td>\n",
       "      <td>19.2</td>\n",
       "    </tr>\n",
       "    <tr>\n",
       "      <th>8</th>\n",
       "      <td>KDB</td>\n",
       "      <td>50</td>\n",
       "      <td>17</td>\n",
       "      <td>98.4</td>\n",
       "      <td>41.6</td>\n",
       "      <td>Pass</td>\n",
       "      <td>Successful</td>\n",
       "      <td>111.6</td>\n",
       "      <td>54.4</td>\n",
       "    </tr>\n",
       "    <tr>\n",
       "      <th>9</th>\n",
       "      <td>KDB</td>\n",
       "      <td>50</td>\n",
       "      <td>24</td>\n",
       "      <td>117.6</td>\n",
       "      <td>49.6</td>\n",
       "      <td>Pass</td>\n",
       "      <td>Unsuccessful</td>\n",
       "      <td>117.6</td>\n",
       "      <td>48.8</td>\n",
       "    </tr>\n",
       "    <tr>\n",
       "      <th>10</th>\n",
       "      <td>KDB</td>\n",
       "      <td>55</td>\n",
       "      <td>22</td>\n",
       "      <td>36.0</td>\n",
       "      <td>9.6</td>\n",
       "      <td>Pass</td>\n",
       "      <td>Successful</td>\n",
       "      <td>26.4</td>\n",
       "      <td>19.2</td>\n",
       "    </tr>\n",
       "    <tr>\n",
       "      <th>11</th>\n",
       "      <td>KDB</td>\n",
       "      <td>56</td>\n",
       "      <td>24</td>\n",
       "      <td>45.6</td>\n",
       "      <td>33.6</td>\n",
       "      <td>Pass</td>\n",
       "      <td>Successful</td>\n",
       "      <td>44.4</td>\n",
       "      <td>40.8</td>\n",
       "    </tr>\n",
       "    <tr>\n",
       "      <th>12</th>\n",
       "      <td>KDB</td>\n",
       "      <td>56</td>\n",
       "      <td>36</td>\n",
       "      <td>63.6</td>\n",
       "      <td>35.2</td>\n",
       "      <td>Pass</td>\n",
       "      <td>Successful</td>\n",
       "      <td>51.6</td>\n",
       "      <td>49.6</td>\n",
       "    </tr>\n",
       "    <tr>\n",
       "      <th>13</th>\n",
       "      <td>KDB</td>\n",
       "      <td>56</td>\n",
       "      <td>43</td>\n",
       "      <td>73.2</td>\n",
       "      <td>50.4</td>\n",
       "      <td>Pass</td>\n",
       "      <td>Successful</td>\n",
       "      <td>76.8</td>\n",
       "      <td>50.4</td>\n",
       "    </tr>\n",
       "    <tr>\n",
       "      <th>14</th>\n",
       "      <td>KDB</td>\n",
       "      <td>57</td>\n",
       "      <td>2</td>\n",
       "      <td>115.2</td>\n",
       "      <td>26.4</td>\n",
       "      <td>Pass</td>\n",
       "      <td>Successful</td>\n",
       "      <td>109.2</td>\n",
       "      <td>27.2</td>\n",
       "    </tr>\n",
       "    <tr>\n",
       "      <th>15</th>\n",
       "      <td>KDB</td>\n",
       "      <td>62</td>\n",
       "      <td>25</td>\n",
       "      <td>55.2</td>\n",
       "      <td>36.0</td>\n",
       "      <td>Pass</td>\n",
       "      <td>Successful</td>\n",
       "      <td>45.6</td>\n",
       "      <td>34.4</td>\n",
       "    </tr>\n",
       "    <tr>\n",
       "      <th>16</th>\n",
       "      <td>KDB</td>\n",
       "      <td>62</td>\n",
       "      <td>31</td>\n",
       "      <td>58.8</td>\n",
       "      <td>53.6</td>\n",
       "      <td>Pass</td>\n",
       "      <td>Successful</td>\n",
       "      <td>73.2</td>\n",
       "      <td>76.8</td>\n",
       "    </tr>\n",
       "    <tr>\n",
       "      <th>17</th>\n",
       "      <td>KDB</td>\n",
       "      <td>63</td>\n",
       "      <td>36</td>\n",
       "      <td>76.8</td>\n",
       "      <td>17.6</td>\n",
       "      <td>Pass</td>\n",
       "      <td>Successful</td>\n",
       "      <td>75.6</td>\n",
       "      <td>8.0</td>\n",
       "    </tr>\n",
       "    <tr>\n",
       "      <th>18</th>\n",
       "      <td>KDB</td>\n",
       "      <td>63</td>\n",
       "      <td>40</td>\n",
       "      <td>88.8</td>\n",
       "      <td>5.6</td>\n",
       "      <td>Pass</td>\n",
       "      <td>Successful</td>\n",
       "      <td>79.2</td>\n",
       "      <td>7.2</td>\n",
       "    </tr>\n",
       "    <tr>\n",
       "      <th>19</th>\n",
       "      <td>KDB</td>\n",
       "      <td>63</td>\n",
       "      <td>42</td>\n",
       "      <td>84.0</td>\n",
       "      <td>4.8</td>\n",
       "      <td>Pass</td>\n",
       "      <td>Successful</td>\n",
       "      <td>75.6</td>\n",
       "      <td>7.2</td>\n",
       "    </tr>\n",
       "    <tr>\n",
       "      <th>20</th>\n",
       "      <td>KDB</td>\n",
       "      <td>63</td>\n",
       "      <td>43</td>\n",
       "      <td>80.4</td>\n",
       "      <td>3.2</td>\n",
       "      <td>Pass</td>\n",
       "      <td>Successful</td>\n",
       "      <td>74.4</td>\n",
       "      <td>7.2</td>\n",
       "    </tr>\n",
       "    <tr>\n",
       "      <th>21</th>\n",
       "      <td>KDB</td>\n",
       "      <td>63</td>\n",
       "      <td>48</td>\n",
       "      <td>82.8</td>\n",
       "      <td>3.2</td>\n",
       "      <td>Pass</td>\n",
       "      <td>Successful</td>\n",
       "      <td>74.4</td>\n",
       "      <td>7.2</td>\n",
       "    </tr>\n",
       "    <tr>\n",
       "      <th>22</th>\n",
       "      <td>KDB</td>\n",
       "      <td>66</td>\n",
       "      <td>27</td>\n",
       "      <td>78.0</td>\n",
       "      <td>28.8</td>\n",
       "      <td>Pass</td>\n",
       "      <td>Successful</td>\n",
       "      <td>85.2</td>\n",
       "      <td>40.8</td>\n",
       "    </tr>\n",
       "    <tr>\n",
       "      <th>23</th>\n",
       "      <td>KDB</td>\n",
       "      <td>67</td>\n",
       "      <td>40</td>\n",
       "      <td>87.6</td>\n",
       "      <td>46.4</td>\n",
       "      <td>Pass</td>\n",
       "      <td>Unsuccessful</td>\n",
       "      <td>104.4</td>\n",
       "      <td>32.8</td>\n",
       "    </tr>\n",
       "    <tr>\n",
       "      <th>24</th>\n",
       "      <td>KDB</td>\n",
       "      <td>68</td>\n",
       "      <td>19</td>\n",
       "      <td>79.2</td>\n",
       "      <td>53.6</td>\n",
       "      <td>Pass</td>\n",
       "      <td>Successful</td>\n",
       "      <td>72.0</td>\n",
       "      <td>55.2</td>\n",
       "    </tr>\n",
       "    <tr>\n",
       "      <th>25</th>\n",
       "      <td>KDB</td>\n",
       "      <td>69</td>\n",
       "      <td>25</td>\n",
       "      <td>85.2</td>\n",
       "      <td>63.2</td>\n",
       "      <td>Pass</td>\n",
       "      <td>Successful</td>\n",
       "      <td>75.6</td>\n",
       "      <td>57.6</td>\n",
       "    </tr>\n",
       "    <tr>\n",
       "      <th>26</th>\n",
       "      <td>KDB</td>\n",
       "      <td>71</td>\n",
       "      <td>29</td>\n",
       "      <td>76.8</td>\n",
       "      <td>24.0</td>\n",
       "      <td>Pass</td>\n",
       "      <td>Successful</td>\n",
       "      <td>82.8</td>\n",
       "      <td>48.0</td>\n",
       "    </tr>\n",
       "    <tr>\n",
       "      <th>27</th>\n",
       "      <td>KDB</td>\n",
       "      <td>71</td>\n",
       "      <td>46</td>\n",
       "      <td>97.2</td>\n",
       "      <td>45.6</td>\n",
       "      <td>Pass</td>\n",
       "      <td>Successful</td>\n",
       "      <td>115.2</td>\n",
       "      <td>56.8</td>\n",
       "    </tr>\n",
       "    <tr>\n",
       "      <th>28</th>\n",
       "      <td>KDB</td>\n",
       "      <td>73</td>\n",
       "      <td>44</td>\n",
       "      <td>60.0</td>\n",
       "      <td>40.0</td>\n",
       "      <td>Pass</td>\n",
       "      <td>Successful</td>\n",
       "      <td>56.4</td>\n",
       "      <td>41.6</td>\n",
       "    </tr>\n",
       "    <tr>\n",
       "      <th>29</th>\n",
       "      <td>KDB</td>\n",
       "      <td>76</td>\n",
       "      <td>11</td>\n",
       "      <td>80.4</td>\n",
       "      <td>34.4</td>\n",
       "      <td>Pass</td>\n",
       "      <td>Successful</td>\n",
       "      <td>90.0</td>\n",
       "      <td>32.8</td>\n",
       "    </tr>\n",
       "    <tr>\n",
       "      <th>30</th>\n",
       "      <td>KDB</td>\n",
       "      <td>76</td>\n",
       "      <td>25</td>\n",
       "      <td>92.4</td>\n",
       "      <td>32.8</td>\n",
       "      <td>Pass</td>\n",
       "      <td>Unsuccessful</td>\n",
       "      <td>100.8</td>\n",
       "      <td>29.6</td>\n",
       "    </tr>\n",
       "    <tr>\n",
       "      <th>31</th>\n",
       "      <td>KDB</td>\n",
       "      <td>77</td>\n",
       "      <td>59</td>\n",
       "      <td>120.0</td>\n",
       "      <td>80.0</td>\n",
       "      <td>Pass</td>\n",
       "      <td>Successful</td>\n",
       "      <td>110.4</td>\n",
       "      <td>76.8</td>\n",
       "    </tr>\n",
       "    <tr>\n",
       "      <th>32</th>\n",
       "      <td>KDB</td>\n",
       "      <td>78</td>\n",
       "      <td>3</td>\n",
       "      <td>105.6</td>\n",
       "      <td>76.8</td>\n",
       "      <td>Pass</td>\n",
       "      <td>Successful</td>\n",
       "      <td>82.8</td>\n",
       "      <td>65.6</td>\n",
       "    </tr>\n",
       "    <tr>\n",
       "      <th>33</th>\n",
       "      <td>KDB</td>\n",
       "      <td>78</td>\n",
       "      <td>9</td>\n",
       "      <td>99.6</td>\n",
       "      <td>76.8</td>\n",
       "      <td>Pass</td>\n",
       "      <td>Successful</td>\n",
       "      <td>97.2</td>\n",
       "      <td>66.4</td>\n",
       "    </tr>\n",
       "    <tr>\n",
       "      <th>34</th>\n",
       "      <td>KDB</td>\n",
       "      <td>78</td>\n",
       "      <td>58</td>\n",
       "      <td>76.8</td>\n",
       "      <td>40.8</td>\n",
       "      <td>Pass</td>\n",
       "      <td>Successful</td>\n",
       "      <td>82.8</td>\n",
       "      <td>66.4</td>\n",
       "    </tr>\n",
       "    <tr>\n",
       "      <th>35</th>\n",
       "      <td>KDB</td>\n",
       "      <td>79</td>\n",
       "      <td>5</td>\n",
       "      <td>80.4</td>\n",
       "      <td>53.6</td>\n",
       "      <td>Pass</td>\n",
       "      <td>Successful</td>\n",
       "      <td>79.2</td>\n",
       "      <td>43.2</td>\n",
       "    </tr>\n",
       "    <tr>\n",
       "      <th>36</th>\n",
       "      <td>KDB</td>\n",
       "      <td>79</td>\n",
       "      <td>19</td>\n",
       "      <td>84.0</td>\n",
       "      <td>44.8</td>\n",
       "      <td>Pass</td>\n",
       "      <td>Successful</td>\n",
       "      <td>102.0</td>\n",
       "      <td>69.6</td>\n",
       "    </tr>\n",
       "    <tr>\n",
       "      <th>37</th>\n",
       "      <td>KDB</td>\n",
       "      <td>79</td>\n",
       "      <td>31</td>\n",
       "      <td>91.2</td>\n",
       "      <td>67.2</td>\n",
       "      <td>Pass</td>\n",
       "      <td>Successful</td>\n",
       "      <td>78.0</td>\n",
       "      <td>58.4</td>\n",
       "    </tr>\n",
       "    <tr>\n",
       "      <th>38</th>\n",
       "      <td>KDB</td>\n",
       "      <td>80</td>\n",
       "      <td>26</td>\n",
       "      <td>120.0</td>\n",
       "      <td>0.8</td>\n",
       "      <td>Pass</td>\n",
       "      <td>Successful</td>\n",
       "      <td>110.4</td>\n",
       "      <td>4.0</td>\n",
       "    </tr>\n",
       "    <tr>\n",
       "      <th>39</th>\n",
       "      <td>KDB</td>\n",
       "      <td>80</td>\n",
       "      <td>30</td>\n",
       "      <td>98.4</td>\n",
       "      <td>2.4</td>\n",
       "      <td>Pass</td>\n",
       "      <td>Successful</td>\n",
       "      <td>91.2</td>\n",
       "      <td>13.6</td>\n",
       "    </tr>\n",
       "    <tr>\n",
       "      <th>40</th>\n",
       "      <td>KDB</td>\n",
       "      <td>81</td>\n",
       "      <td>14</td>\n",
       "      <td>70.8</td>\n",
       "      <td>3.2</td>\n",
       "      <td>Pass</td>\n",
       "      <td>Successful</td>\n",
       "      <td>82.8</td>\n",
       "      <td>3.2</td>\n",
       "    </tr>\n",
       "    <tr>\n",
       "      <th>41</th>\n",
       "      <td>KDB</td>\n",
       "      <td>81</td>\n",
       "      <td>20</td>\n",
       "      <td>96.0</td>\n",
       "      <td>4.8</td>\n",
       "      <td>Pass</td>\n",
       "      <td>Successful</td>\n",
       "      <td>97.2</td>\n",
       "      <td>15.2</td>\n",
       "    </tr>\n",
       "    <tr>\n",
       "      <th>42</th>\n",
       "      <td>KDB</td>\n",
       "      <td>83</td>\n",
       "      <td>14</td>\n",
       "      <td>85.2</td>\n",
       "      <td>32.0</td>\n",
       "      <td>Pass</td>\n",
       "      <td>Unsuccessful</td>\n",
       "      <td>105.6</td>\n",
       "      <td>44.0</td>\n",
       "    </tr>\n",
       "    <tr>\n",
       "      <th>43</th>\n",
       "      <td>KDB</td>\n",
       "      <td>87</td>\n",
       "      <td>24</td>\n",
       "      <td>69.6</td>\n",
       "      <td>33.6</td>\n",
       "      <td>Pass</td>\n",
       "      <td>Successful</td>\n",
       "      <td>79.2</td>\n",
       "      <td>59.2</td>\n",
       "    </tr>\n",
       "    <tr>\n",
       "      <th>44</th>\n",
       "      <td>KDB</td>\n",
       "      <td>88</td>\n",
       "      <td>22</td>\n",
       "      <td>120.0</td>\n",
       "      <td>0.8</td>\n",
       "      <td>Pass</td>\n",
       "      <td>Successful</td>\n",
       "      <td>87.6</td>\n",
       "      <td>20.8</td>\n",
       "    </tr>\n",
       "    <tr>\n",
       "      <th>45</th>\n",
       "      <td>KDB</td>\n",
       "      <td>90</td>\n",
       "      <td>18</td>\n",
       "      <td>85.2</td>\n",
       "      <td>20.0</td>\n",
       "      <td>Pass</td>\n",
       "      <td>Unsuccessful</td>\n",
       "      <td>109.2</td>\n",
       "      <td>41.6</td>\n",
       "    </tr>\n",
       "    <tr>\n",
       "      <th>46</th>\n",
       "      <td>KDB</td>\n",
       "      <td>91</td>\n",
       "      <td>18</td>\n",
       "      <td>79.2</td>\n",
       "      <td>24.8</td>\n",
       "      <td>Pass</td>\n",
       "      <td>Successful</td>\n",
       "      <td>91.2</td>\n",
       "      <td>16.0</td>\n",
       "    </tr>\n",
       "    <tr>\n",
       "      <th>47</th>\n",
       "      <td>KDB</td>\n",
       "      <td>91</td>\n",
       "      <td>46</td>\n",
       "      <td>88.8</td>\n",
       "      <td>30.4</td>\n",
       "      <td>Pass</td>\n",
       "      <td>Unsuccessful</td>\n",
       "      <td>91.2</td>\n",
       "      <td>28.8</td>\n",
       "    </tr>\n",
       "    <tr>\n",
       "      <th>48</th>\n",
       "      <td>KDB</td>\n",
       "      <td>94</td>\n",
       "      <td>7</td>\n",
       "      <td>68.4</td>\n",
       "      <td>29.6</td>\n",
       "      <td>Pass</td>\n",
       "      <td>Unsuccessful</td>\n",
       "      <td>108.0</td>\n",
       "      <td>43.2</td>\n",
       "    </tr>\n",
       "  </tbody>\n",
       "</table>\n",
       "</div>"
      ],
      "text/plain": [
       "   player  minute  second      x     y  type       outcome   endX  endY\n",
       "0     KDB      45       0   60.0  40.0  Pass    Successful   48.0  34.4\n",
       "1     KDB      45      25   75.6  38.4  Pass    Successful   90.0  66.4\n",
       "2     KDB      46       4   88.8  46.4  Pass    Successful   85.2  52.0\n",
       "3     KDB      46       7   91.2  54.4  Pass    Successful  114.0  62.4\n",
       "4     KDB      46      55  120.0   0.8  Pass  Unsuccessful  115.2  30.4\n",
       "5     KDB      47      42   87.6  20.0  Pass    Successful   84.0  43.2\n",
       "6     KDB      49      47   90.0  34.4  Pass  Unsuccessful   98.4  30.4\n",
       "7     KDB      50      10   94.8  24.8  Pass    Successful  104.4  19.2\n",
       "8     KDB      50      17   98.4  41.6  Pass    Successful  111.6  54.4\n",
       "9     KDB      50      24  117.6  49.6  Pass  Unsuccessful  117.6  48.8\n",
       "10    KDB      55      22   36.0   9.6  Pass    Successful   26.4  19.2\n",
       "11    KDB      56      24   45.6  33.6  Pass    Successful   44.4  40.8\n",
       "12    KDB      56      36   63.6  35.2  Pass    Successful   51.6  49.6\n",
       "13    KDB      56      43   73.2  50.4  Pass    Successful   76.8  50.4\n",
       "14    KDB      57       2  115.2  26.4  Pass    Successful  109.2  27.2\n",
       "15    KDB      62      25   55.2  36.0  Pass    Successful   45.6  34.4\n",
       "16    KDB      62      31   58.8  53.6  Pass    Successful   73.2  76.8\n",
       "17    KDB      63      36   76.8  17.6  Pass    Successful   75.6   8.0\n",
       "18    KDB      63      40   88.8   5.6  Pass    Successful   79.2   7.2\n",
       "19    KDB      63      42   84.0   4.8  Pass    Successful   75.6   7.2\n",
       "20    KDB      63      43   80.4   3.2  Pass    Successful   74.4   7.2\n",
       "21    KDB      63      48   82.8   3.2  Pass    Successful   74.4   7.2\n",
       "22    KDB      66      27   78.0  28.8  Pass    Successful   85.2  40.8\n",
       "23    KDB      67      40   87.6  46.4  Pass  Unsuccessful  104.4  32.8\n",
       "24    KDB      68      19   79.2  53.6  Pass    Successful   72.0  55.2\n",
       "25    KDB      69      25   85.2  63.2  Pass    Successful   75.6  57.6\n",
       "26    KDB      71      29   76.8  24.0  Pass    Successful   82.8  48.0\n",
       "27    KDB      71      46   97.2  45.6  Pass    Successful  115.2  56.8\n",
       "28    KDB      73      44   60.0  40.0  Pass    Successful   56.4  41.6\n",
       "29    KDB      76      11   80.4  34.4  Pass    Successful   90.0  32.8\n",
       "30    KDB      76      25   92.4  32.8  Pass  Unsuccessful  100.8  29.6\n",
       "31    KDB      77      59  120.0  80.0  Pass    Successful  110.4  76.8\n",
       "32    KDB      78       3  105.6  76.8  Pass    Successful   82.8  65.6\n",
       "33    KDB      78       9   99.6  76.8  Pass    Successful   97.2  66.4\n",
       "34    KDB      78      58   76.8  40.8  Pass    Successful   82.8  66.4\n",
       "35    KDB      79       5   80.4  53.6  Pass    Successful   79.2  43.2\n",
       "36    KDB      79      19   84.0  44.8  Pass    Successful  102.0  69.6\n",
       "37    KDB      79      31   91.2  67.2  Pass    Successful   78.0  58.4\n",
       "38    KDB      80      26  120.0   0.8  Pass    Successful  110.4   4.0\n",
       "39    KDB      80      30   98.4   2.4  Pass    Successful   91.2  13.6\n",
       "40    KDB      81      14   70.8   3.2  Pass    Successful   82.8   3.2\n",
       "41    KDB      81      20   96.0   4.8  Pass    Successful   97.2  15.2\n",
       "42    KDB      83      14   85.2  32.0  Pass  Unsuccessful  105.6  44.0\n",
       "43    KDB      87      24   69.6  33.6  Pass    Successful   79.2  59.2\n",
       "44    KDB      88      22  120.0   0.8  Pass    Successful   87.6  20.8\n",
       "45    KDB      90      18   85.2  20.0  Pass  Unsuccessful  109.2  41.6\n",
       "46    KDB      91      18   79.2  24.8  Pass    Successful   91.2  16.0\n",
       "47    KDB      91      46   88.8  30.4  Pass  Unsuccessful   91.2  28.8\n",
       "48    KDB      94       7   68.4  29.6  Pass  Unsuccessful  108.0  43.2"
      ]
     },
     "execution_count": 22,
     "metadata": {},
     "output_type": "execute_result"
    }
   ],
   "source": [
    "#Converting our data to fit the football map\n",
    "df2['x'] = df2['x']*1.2\n",
    "df2['y'] = df2['y']*0.8\n",
    "df2['endX'] = df2['endX']*1.2\n",
    "df2['endY'] = df2['endY']*0.8\n",
    "df2"
   ]
  },
  {
   "cell_type": "code",
   "execution_count": 23,
   "metadata": {
    "cell_id": "d7234ac812f74cbd9d3399d0226f18f1",
    "deepnote_cell_type": "code",
    "deepnote_to_be_reexecuted": false,
    "execution_millis": 213,
    "execution_start": 1686816262826,
    "source_hash": "7cd475c8"
   },
   "outputs": [
    {
     "data": {
      "text/plain": [
       "Text(0.5, 1.0, 'KDB Pass Map vs TOT')"
      ]
     },
     "execution_count": 23,
     "metadata": {},
     "output_type": "execute_result"
    },
    {
     "data": {
      "image/png": "[encoded data removed]",
      "text/plain": [
       "<Figure size 1600x1100 with 1 Axes>"
      ]
     },
     "metadata": {
      "image/png": {
       "height": 1111,
       "width": 1563
      }
     },
     "output_type": "display_data"
    }
   ],
   "source": [
    "# draw the pitch\n",
    "pitch = Pitch(pitch_type='statsbomb', pitch_color='#22312b', line_color='#c7d5cc')\n",
    "fig, ax = pitch.draw(figsize=(16, 11), constrained_layout=True, tight_layout=False)\n",
    "fig.set_facecolor('#22312b')\n",
    "plt.gca().invert_yaxis()\n",
    "\n",
    "for x in range(len(df2['x'])):\n",
    "    if df2['outcome'][x] == 'Successful':\n",
    "        plt.plot((df2['x'][x],df2['endX'][x]),(df2['y'][x],df2['endY'][x]),color='cyan')\n",
    "        plt.scatter(df2['x'][x],df2['y'][x],color='cyan')\n",
    "        # Successful passes are in color cyan\n",
    "    if df2['outcome'][x] == 'Unsuccessful':\n",
    "        plt.plot((df2['x'][x],df2['endX'][x]),(df2['y'][x],df2['endY'][x]),color='red')\n",
    "        plt.scatter(df2['x'][x],df2['y'][x],color='red')\n",
    "        # Unsuccessful passes are in color red\n",
    "\n",
    "plt.title('KDB Pass Map vs TOT',color='white',size=20)"
   ]
  },
  {
   "cell_type": "markdown",
   "metadata": {
    "cell_id": "5034735a7e174ce0b5f73afc681b30ff",
    "deepnote_cell_type": "markdown"
   },
   "source": [
    "From here, we can find that most of successful passes are backward passes which are less likely to affect a goal, while about half of the passes are forward passes that are close to the box. Therefore, from here we can say that those forward passes have more impact to score a goal which contribute the most as an attack input to win. After doing some researches, these passes are called [Progressive Paases](https://www.americansocceranalysis.com/home/2021/2/25/where-goals-come-from-the-five-progressive-passes). Therefore, I need to clarrified those progressive passes by following this [Tutorial](https://www.youtube.com/watch?v=kuD1yMwjCwE)"
   ]
  },
  {
   "cell_type": "code",
   "execution_count": 24,
   "metadata": {
    "cell_id": "f90d9ebe24b24876b7173e600316a0d2",
    "deepnote_cell_type": "code",
    "deepnote_to_be_reexecuted": false,
    "execution_millis": 55,
    "execution_start": 1686816264297,
    "source_hash": "b5269a91"
   },
   "outputs": [
    {
     "data": {
      "application/vnd.deepnote.dataframe.v3+json": {
       "column_count": 12,
       "columns": [
        {
         "dtype": "object",
         "name": "player",
         "stats": {
          "categories": [
           {
            "count": 5,
            "name": "KDB"
           }
          ],
          "nan_count": 0,
          "unique_count": 1
         }
        },
        {
         "dtype": "int64",
         "name": "minute",
         "stats": {
          "histogram": [
           {
            "bin_end": 45.1,
            "bin_start": 45,
            "count": 2
           },
           {
            "bin_end": 45.2,
            "bin_start": 45.1,
            "count": 0
           },
           {
            "bin_end": 45.3,
            "bin_start": 45.2,
            "count": 0
           },
           {
            "bin_end": 45.4,
            "bin_start": 45.3,
            "count": 0
           },
           {
            "bin_end": 45.5,
            "bin_start": 45.4,
            "count": 0
           },
           {
            "bin_end": 45.6,
            "bin_start": 45.5,
            "count": 0
           },
           {
            "bin_end": 45.7,
            "bin_start": 45.6,
            "count": 0
           },
           {
            "bin_end": 45.8,
            "bin_start": 45.7,
            "count": 0
           },
           {
            "bin_end": 45.9,
            "bin_start": 45.8,
            "count": 0
           },
           {
            "bin_end": 46,
            "bin_start": 45.9,
            "count": 3
           }
          ],
          "max": "46",
          "min": "45",
          "nan_count": 0,
          "unique_count": 2
         }
        },
        {
         "dtype": "int64",
         "name": "second",
         "stats": {
          "histogram": [
           {
            "bin_end": 5.5,
            "bin_start": 0,
            "count": 2
           },
           {
            "bin_end": 11,
            "bin_start": 5.5,
            "count": 1
           },
           {
            "bin_end": 16.5,
            "bin_start": 11,
            "count": 0
           },
           {
            "bin_end": 22,
            "bin_start": 16.5,
            "count": 0
           },
           {
            "bin_end": 27.5,
            "bin_start": 22,
            "count": 1
           },
           {
            "bin_end": 33,
            "bin_start": 27.5,
            "count": 0
           },
           {
            "bin_end": 38.5,
            "bin_start": 33,
            "count": 0
           },
           {
            "bin_end": 44,
            "bin_start": 38.5,
            "count": 0
           },
           {
            "bin_end": 49.5,
            "bin_start": 44,
            "count": 0
           },
           {
            "bin_end": 55,
            "bin_start": 49.5,
            "count": 1
           }
          ],
          "max": "55",
          "min": "0",
          "nan_count": 0,
          "unique_count": 5
         }
        },
        {
         "dtype": "float64",
         "name": "x",
         "stats": {
          "histogram": [
           {
            "bin_end": 66,
            "bin_start": 60,
            "count": 1
           },
           {
            "bin_end": 72,
            "bin_start": 66,
            "count": 0
           },
           {
            "bin_end": 78,
            "bin_start": 72,
            "count": 1
           },
           {
            "bin_end": 84,
            "bin_start": 78,
            "count": 0
           },
           {
            "bin_end": 90,
            "bin_start": 84,
            "count": 1
           },
           {
            "bin_end": 96,
            "bin_start": 90,
            "count": 1
           },
           {
            "bin_end": 102,
            "bin_start": 96,
            "count": 0
           },
           {
            "bin_end": 108,
            "bin_start": 102,
            "count": 0
           },
           {
            "bin_end": 114,
            "bin_start": 108,
            "count": 0
           },
           {
            "bin_end": 120,
            "bin_start": 114,
            "count": 1
           }
          ],
          "max": "120.0",
          "min": "60.0",
          "nan_count": 0,
          "unique_count": 5
         }
        },
        {
         "dtype": "float64",
         "name": "y",
         "stats": {
          "histogram": [
           {
            "bin_end": 6.160000000000001,
            "bin_start": 0.8,
            "count": 1
           },
           {
            "bin_end": 11.520000000000003,
            "bin_start": 6.160000000000001,
            "count": 0
           },
           {
            "bin_end": 16.880000000000006,
            "bin_start": 11.520000000000003,
            "count": 0
           },
           {
            "bin_end": 22.240000000000006,
            "bin_start": 16.880000000000006,
            "count": 0
           },
           {
            "bin_end": 27.600000000000005,
            "bin_start": 22.240000000000006,
            "count": 0
           },
           {
            "bin_end": 32.96000000000001,
            "bin_start": 27.600000000000005,
            "count": 0
           },
           {
            "bin_end": 38.32000000000001,
            "bin_start": 32.96000000000001,
            "count": 0
           },
           {
            "bin_end": 43.68000000000001,
            "bin_start": 38.32000000000001,
            "count": 2
           },
           {
            "bin_end": 49.040000000000006,
            "bin_start": 43.68000000000001,
            "count": 1
           },
           {
            "bin_end": 54.400000000000006,
            "bin_start": 49.040000000000006,
            "count": 1
           }
          ],
          "max": "54.400000000000006",
          "min": "0.8",
          "nan_count": 0,
          "unique_count": 5
         }
        },
        {
         "dtype": "object",
         "name": "type",
         "stats": {
          "categories": [
           {
            "count": 5,
            "name": "Pass"
           }
          ],
          "nan_count": 0,
          "unique_count": 1
         }
        },
        {
         "dtype": "object",
         "name": "outcome",
         "stats": {
          "categories": [
           {
            "count": 4,
            "name": "Successful"
           },
           {
            "count": 1,
            "name": "Unsuccessful"
           }
          ],
          "nan_count": 0,
          "unique_count": 2
         }
        },
        {
         "dtype": "float64",
         "name": "endX",
         "stats": {
          "histogram": [
           {
            "bin_end": 54.72,
            "bin_start": 48,
            "count": 1
           },
           {
            "bin_end": 61.44,
            "bin_start": 54.72,
            "count": 0
           },
           {
            "bin_end": 68.16,
            "bin_start": 61.44,
            "count": 0
           },
           {
            "bin_end": 74.88,
            "bin_start": 68.16,
            "count": 0
           },
           {
            "bin_end": 81.6,
            "bin_start": 74.88,
            "count": 0
           },
           {
            "bin_end": 88.32,
            "bin_start": 81.6,
            "count": 1
           },
           {
            "bin_end": 95.03999999999999,
            "bin_start": 88.32,
            "count": 1
           },
           {
            "bin_end": 101.75999999999999,
            "bin_start": 95.03999999999999,
            "count": 0
           },
           {
            "bin_end": 108.47999999999999,
            "bin_start": 101.75999999999999,
            "count": 0
           },
           {
            "bin_end": 115.19999999999999,
            "bin_start": 108.47999999999999,
            "count": 2
           }
          ],
          "max": "115.19999999999999",
          "min": "48.0",
          "nan_count": 0,
          "unique_count": 5
         }
        },
        {
         "dtype": "float64",
         "name": "endY",
         "stats": {
          "histogram": [
           {
            "bin_end": 34,
            "bin_start": 30.400000000000002,
            "count": 1
           },
           {
            "bin_end": 37.6,
            "bin_start": 34,
            "count": 1
           },
           {
            "bin_end": 41.2,
            "bin_start": 37.6,
            "count": 0
           },
           {
            "bin_end": 44.800000000000004,
            "bin_start": 41.2,
            "count": 0
           },
           {
            "bin_end": 48.400000000000006,
            "bin_start": 44.800000000000004,
            "count": 0
           },
           {
            "bin_end": 52,
            "bin_start": 48.400000000000006,
            "count": 0
           },
           {
            "bin_end": 55.6,
            "bin_start": 52,
            "count": 1
           },
           {
            "bin_end": 59.2,
            "bin_start": 55.6,
            "count": 0
           },
           {
            "bin_end": 62.8,
            "bin_start": 59.2,
            "count": 1
           },
           {
            "bin_end": 66.4,
            "bin_start": 62.8,
            "count": 1
           }
          ],
          "max": "66.4",
          "min": "30.400000000000002",
          "nan_count": 0,
          "unique_count": 5
         }
        },
        {
         "dtype": "float64",
         "name": "beginning",
         "stats": {
          "histogram": [
           {
            "bin_end": 34.664682101847916,
            "bin_start": 31.849646779831016,
            "count": 2
           },
           {
            "bin_end": 37.47971742386481,
            "bin_start": 34.664682101847916,
            "count": 0
           },
           {
            "bin_end": 40.29475274588171,
            "bin_start": 37.47971742386481,
            "count": 1
           },
           {
            "bin_end": 43.109788067898606,
            "bin_start": 40.29475274588171,
            "count": 0
           },
           {
            "bin_end": 45.92482338991551,
            "bin_start": 43.109788067898606,
            "count": 1
           },
           {
            "bin_end": 48.739858711932406,
            "bin_start": 45.92482338991551,
            "count": 0
           },
           {
            "bin_end": 51.55489403394931,
            "bin_start": 48.739858711932406,
            "count": 0
           },
           {
            "bin_end": 54.36992935596621,
            "bin_start": 51.55489403394931,
            "count": 0
           },
           {
            "bin_end": 57.1849646779831,
            "bin_start": 54.36992935596621,
            "count": 0
           },
           {
            "bin_end": 60,
            "bin_start": 57.1849646779831,
            "count": 1
           }
          ],
          "max": "60.0",
          "min": "31.849646779831016",
          "nan_count": 0,
          "unique_count": 5
         }
        },
        {
         "dtype": "float64",
         "name": "end",
         "stats": {
          "histogram": [
           {
            "bin_end": 16.881558604293495,
            "bin_start": 10.733126291998992,
            "count": 1
           },
           {
            "bin_end": 23.029990916587998,
            "bin_start": 16.881558604293495,
            "count": 0
           },
           {
            "bin_end": 29.178423228882505,
            "bin_start": 23.029990916587998,
            "count": 1
           },
           {
            "bin_end": 35.32685554117701,
            "bin_start": 29.178423228882505,
            "count": 0
           },
           {
            "bin_end": 41.475287853471514,
            "bin_start": 35.32685554117701,
            "count": 2
           },
           {
            "bin_end": 47.62372016576602,
            "bin_start": 41.475287853471514,
            "count": 0
           },
           {
            "bin_end": 53.77215247806052,
            "bin_start": 47.62372016576602,
            "count": 0
           },
           {
            "bin_end": 59.92058479035502,
            "bin_start": 53.77215247806052,
            "count": 0
           },
           {
            "bin_end": 66.06901710264952,
            "bin_start": 59.92058479035502,
            "count": 0
           },
           {
            "bin_end": 72.21744941494403,
            "bin_start": 66.06901710264952,
            "count": 1
           }
          ],
          "max": "72.21744941494403",
          "min": "10.733126291998992",
          "nan_count": 0,
          "unique_count": 5
         }
        },
        {
         "dtype": "bool",
         "name": "progressive",
         "stats": {
          "categories": [
           {
            "count": 3,
            "name": "False"
           },
           {
            "count": 2,
            "name": "True"
           }
          ],
          "nan_count": 0,
          "unique_count": 2
         }
        },
        {
         "dtype": "int64",
         "name": "_deepnote_index_column"
        }
       ],
       "row_count": 5,
       "rows": [
        {
         "_deepnote_index_column": 0,
         "beginning": 60,
         "end": 72.21744941494403,
         "endX": 48,
         "endY": 34.4,
         "minute": 45,
         "outcome": "Successful",
         "player": "KDB",
         "progressive": "False",
         "second": 0,
         "type": "Pass",
         "x": 60,
         "y": 40
        },
        {
         "_deepnote_index_column": 1,
         "beginning": 44.42881947565117,
         "end": 39.96198193283211,
         "endX": 90,
         "endY": 66.4,
         "minute": 45,
         "outcome": "Successful",
         "player": "KDB",
         "progressive": "False",
         "second": 25,
         "type": "Pass",
         "x": 75.6,
         "y": 38.400000000000006
        },
        {
         "_deepnote_index_column": 2,
         "beginning": 31.849646779831016,
         "end": 36.81086796042712,
         "endX": 85.2,
         "endY": 52,
         "minute": 46,
         "outcome": "Successful",
         "player": "KDB",
         "progressive": "False",
         "second": 4,
         "type": "Pass",
         "x": 88.8,
         "y": 46.400000000000006
        },
        {
         "_deepnote_index_column": 3,
         "beginning": 32.19937887599697,
         "end": 23.189652865017194,
         "endX": 114,
         "endY": 62.400000000000006,
         "minute": 46,
         "outcome": "Successful",
         "player": "KDB",
         "progressive": "True",
         "second": 7,
         "type": "Pass",
         "x": 91.2,
         "y": 54.400000000000006
        },
        {
         "_deepnote_index_column": 4,
         "beginning": 39.2,
         "end": 10.733126291998992,
         "endX": 115.19999999999999,
         "endY": 30.400000000000002,
         "minute": 46,
         "outcome": "Unsuccessful",
         "player": "KDB",
         "progressive": "True",
         "second": 55,
         "type": "Pass",
         "x": 120,
         "y": 0.8
        }
       ]
      },
      "text/html": [
       "<div>\n",
       "<style scoped>\n",
       "    .dataframe tbody tr th:only-of-type {\n",
       "        vertical-align: middle;\n",
       "    }\n",
       "\n",
       "    .dataframe tbody tr th {\n",
       "        vertical-align: top;\n",
       "    }\n",
       "\n",
       "    .dataframe thead th {\n",
       "        text-align: right;\n",
       "    }\n",
       "</style>\n",
       "<table border=\"1\" class=\"dataframe\">\n",
       "  <thead>\n",
       "    <tr style=\"text-align: right;\">\n",
       "      <th></th>\n",
       "      <th>player</th>\n",
       "      <th>minute</th>\n",
       "      <th>second</th>\n",
       "      <th>x</th>\n",
       "      <th>y</th>\n",
       "      <th>type</th>\n",
       "      <th>outcome</th>\n",
       "      <th>endX</th>\n",
       "      <th>endY</th>\n",
       "      <th>beginning</th>\n",
       "      <th>end</th>\n",
       "      <th>progressive</th>\n",
       "    </tr>\n",
       "  </thead>\n",
       "  <tbody>\n",
       "    <tr>\n",
       "      <th>0</th>\n",
       "      <td>KDB</td>\n",
       "      <td>45</td>\n",
       "      <td>0</td>\n",
       "      <td>60.0</td>\n",
       "      <td>40.0</td>\n",
       "      <td>Pass</td>\n",
       "      <td>Successful</td>\n",
       "      <td>48.0</td>\n",
       "      <td>34.4</td>\n",
       "      <td>60.000000</td>\n",
       "      <td>72.217449</td>\n",
       "      <td>False</td>\n",
       "    </tr>\n",
       "    <tr>\n",
       "      <th>1</th>\n",
       "      <td>KDB</td>\n",
       "      <td>45</td>\n",
       "      <td>25</td>\n",
       "      <td>75.6</td>\n",
       "      <td>38.4</td>\n",
       "      <td>Pass</td>\n",
       "      <td>Successful</td>\n",
       "      <td>90.0</td>\n",
       "      <td>66.4</td>\n",
       "      <td>44.428819</td>\n",
       "      <td>39.961982</td>\n",
       "      <td>False</td>\n",
       "    </tr>\n",
       "    <tr>\n",
       "      <th>2</th>\n",
       "      <td>KDB</td>\n",
       "      <td>46</td>\n",
       "      <td>4</td>\n",
       "      <td>88.8</td>\n",
       "      <td>46.4</td>\n",
       "      <td>Pass</td>\n",
       "      <td>Successful</td>\n",
       "      <td>85.2</td>\n",
       "      <td>52.0</td>\n",
       "      <td>31.849647</td>\n",
       "      <td>36.810868</td>\n",
       "      <td>False</td>\n",
       "    </tr>\n",
       "    <tr>\n",
       "      <th>3</th>\n",
       "      <td>KDB</td>\n",
       "      <td>46</td>\n",
       "      <td>7</td>\n",
       "      <td>91.2</td>\n",
       "      <td>54.4</td>\n",
       "      <td>Pass</td>\n",
       "      <td>Successful</td>\n",
       "      <td>114.0</td>\n",
       "      <td>62.4</td>\n",
       "      <td>32.199379</td>\n",
       "      <td>23.189653</td>\n",
       "      <td>True</td>\n",
       "    </tr>\n",
       "    <tr>\n",
       "      <th>4</th>\n",
       "      <td>KDB</td>\n",
       "      <td>46</td>\n",
       "      <td>55</td>\n",
       "      <td>120.0</td>\n",
       "      <td>0.8</td>\n",
       "      <td>Pass</td>\n",
       "      <td>Unsuccessful</td>\n",
       "      <td>115.2</td>\n",
       "      <td>30.4</td>\n",
       "      <td>39.200000</td>\n",
       "      <td>10.733126</td>\n",
       "      <td>True</td>\n",
       "    </tr>\n",
       "  </tbody>\n",
       "</table>\n",
       "</div>"
      ],
      "text/plain": [
       "  player  minute  second      x     y  type       outcome   endX  endY  \\\n",
       "0    KDB      45       0   60.0  40.0  Pass    Successful   48.0  34.4   \n",
       "1    KDB      45      25   75.6  38.4  Pass    Successful   90.0  66.4   \n",
       "2    KDB      46       4   88.8  46.4  Pass    Successful   85.2  52.0   \n",
       "3    KDB      46       7   91.2  54.4  Pass    Successful  114.0  62.4   \n",
       "4    KDB      46      55  120.0   0.8  Pass  Unsuccessful  115.2  30.4   \n",
       "\n",
       "   beginning        end  progressive  \n",
       "0  60.000000  72.217449        False  \n",
       "1  44.428819  39.961982        False  \n",
       "2  31.849647  36.810868        False  \n",
       "3  32.199379  23.189653         True  \n",
       "4  39.200000  10.733126         True  "
      ]
     },
     "execution_count": 24,
     "metadata": {},
     "output_type": "execute_result"
    }
   ],
   "source": [
    "# see the passing distance to determine which passes are progressive pass.\n",
    "df2['beginning'] = np.sqrt(np.square(120-df2['x'])+np.square(40-df2['y']))\n",
    "df2['end'] = np.sqrt(np.square(120 - df2['endX'])+np.square(40-df2['endY']))\n",
    "df2['progressive'] = [(df2['end'][x]) / (df2['beginning'][x]) < .75 for x in range(len(df2.beginning))]\n",
    "df2.head()"
   ]
  },
  {
   "cell_type": "code",
   "execution_count": 25,
   "metadata": {
    "cell_id": "ae5614a21acc49be8043720e7b9a4fdd",
    "deepnote_cell_type": "code",
    "deepnote_to_be_reexecuted": false,
    "execution_millis": 80,
    "execution_start": 1686816264365,
    "source_hash": "ac12dd55"
   },
   "outputs": [
    {
     "data": {
      "application/vnd.deepnote.dataframe.v3+json": {
       "column_count": 12,
       "columns": [
        {
         "dtype": "object",
         "name": "player",
         "stats": {
          "categories": [
           {
            "count": 7,
            "name": "KDB"
           }
          ],
          "nan_count": 0,
          "unique_count": 1
         }
        },
        {
         "dtype": "int64",
         "name": "minute",
         "stats": {
          "histogram": [
           {
            "bin_end": 50.8,
            "bin_start": 46,
            "count": 2
           },
           {
            "bin_end": 55.6,
            "bin_start": 50.8,
            "count": 0
           },
           {
            "bin_end": 60.4,
            "bin_start": 55.6,
            "count": 0
           },
           {
            "bin_end": 65.2,
            "bin_start": 60.4,
            "count": 0
           },
           {
            "bin_end": 70,
            "bin_start": 65.2,
            "count": 1
           },
           {
            "bin_end": 74.8,
            "bin_start": 70,
            "count": 1
           },
           {
            "bin_end": 79.6,
            "bin_start": 74.8,
            "count": 0
           },
           {
            "bin_end": 84.4,
            "bin_start": 79.6,
            "count": 1
           },
           {
            "bin_end": 89.19999999999999,
            "bin_start": 84.4,
            "count": 0
           },
           {
            "bin_end": 94,
            "bin_start": 89.19999999999999,
            "count": 2
           }
          ],
          "max": "94",
          "min": "46",
          "nan_count": 0,
          "unique_count": 6
         }
        },
        {
         "dtype": "int64",
         "name": "second",
         "stats": {
          "histogram": [
           {
            "bin_end": 11.8,
            "bin_start": 7,
            "count": 2
           },
           {
            "bin_end": 16.6,
            "bin_start": 11.8,
            "count": 1
           },
           {
            "bin_end": 21.4,
            "bin_start": 16.6,
            "count": 1
           },
           {
            "bin_end": 26.2,
            "bin_start": 21.4,
            "count": 0
           },
           {
            "bin_end": 31,
            "bin_start": 26.2,
            "count": 0
           },
           {
            "bin_end": 35.8,
            "bin_start": 31,
            "count": 0
           },
           {
            "bin_end": 40.6,
            "bin_start": 35.8,
            "count": 1
           },
           {
            "bin_end": 45.4,
            "bin_start": 40.6,
            "count": 0
           },
           {
            "bin_end": 50.199999999999996,
            "bin_start": 45.4,
            "count": 1
           },
           {
            "bin_end": 55,
            "bin_start": 50.199999999999996,
            "count": 1
           }
          ],
          "max": "55",
          "min": "7",
          "nan_count": 0,
          "unique_count": 6
         }
        },
        {
         "dtype": "float64",
         "name": "x",
         "stats": {
          "histogram": [
           {
            "bin_end": 73.55999999999999,
            "bin_start": 68.39999999999999,
            "count": 1
           },
           {
            "bin_end": 78.72,
            "bin_start": 73.55999999999999,
            "count": 0
           },
           {
            "bin_end": 83.88,
            "bin_start": 78.72,
            "count": 0
           },
           {
            "bin_end": 89.03999999999999,
            "bin_start": 83.88,
            "count": 3
           },
           {
            "bin_end": 94.19999999999999,
            "bin_start": 89.03999999999999,
            "count": 1
           },
           {
            "bin_end": 99.36,
            "bin_start": 94.19999999999999,
            "count": 1
           },
           {
            "bin_end": 104.52,
            "bin_start": 99.36,
            "count": 0
           },
           {
            "bin_end": 109.68,
            "bin_start": 104.52,
            "count": 0
           },
           {
            "bin_end": 114.84,
            "bin_start": 109.68,
            "count": 0
           },
           {
            "bin_end": 120,
            "bin_start": 114.84,
            "count": 1
           }
          ],
          "max": "120.0",
          "min": "68.39999999999999",
          "nan_count": 0,
          "unique_count": 6
         }
        },
        {
         "dtype": "float64",
         "name": "y",
         "stats": {
          "histogram": [
           {
            "bin_end": 6.160000000000001,
            "bin_start": 0.8,
            "count": 1
           },
           {
            "bin_end": 11.520000000000003,
            "bin_start": 6.160000000000001,
            "count": 0
           },
           {
            "bin_end": 16.880000000000006,
            "bin_start": 11.520000000000003,
            "count": 0
           },
           {
            "bin_end": 22.240000000000006,
            "bin_start": 16.880000000000006,
            "count": 1
           },
           {
            "bin_end": 27.600000000000005,
            "bin_start": 22.240000000000006,
            "count": 0
           },
           {
            "bin_end": 32.96000000000001,
            "bin_start": 27.600000000000005,
            "count": 2
           },
           {
            "bin_end": 38.32000000000001,
            "bin_start": 32.96000000000001,
            "count": 0
           },
           {
            "bin_end": 43.68000000000001,
            "bin_start": 38.32000000000001,
            "count": 0
           },
           {
            "bin_end": 49.040000000000006,
            "bin_start": 43.68000000000001,
            "count": 2
           },
           {
            "bin_end": 54.400000000000006,
            "bin_start": 49.040000000000006,
            "count": 1
           }
          ],
          "max": "54.400000000000006",
          "min": "0.8",
          "nan_count": 0,
          "unique_count": 7
         }
        },
        {
         "dtype": "object",
         "name": "type",
         "stats": {
          "categories": [
           {
            "count": 7,
            "name": "Pass"
           }
          ],
          "nan_count": 0,
          "unique_count": 1
         }
        },
        {
         "dtype": "object",
         "name": "outcome",
         "stats": {
          "categories": [
           {
            "count": 5,
            "name": "Unsuccessful"
           },
           {
            "count": 2,
            "name": "Successful"
           }
          ],
          "nan_count": 0,
          "unique_count": 2
         }
        },
        {
         "dtype": "float64",
         "name": "endX",
         "stats": {
          "histogram": [
           {
            "bin_end": 105.47999999999999,
            "bin_start": 104.39999999999999,
            "count": 1
           },
           {
            "bin_end": 106.55999999999999,
            "bin_start": 105.47999999999999,
            "count": 1
           },
           {
            "bin_end": 107.63999999999999,
            "bin_start": 106.55999999999999,
            "count": 0
           },
           {
            "bin_end": 108.71999999999998,
            "bin_start": 107.63999999999999,
            "count": 1
           },
           {
            "bin_end": 109.79999999999998,
            "bin_start": 108.71999999999998,
            "count": 1
           },
           {
            "bin_end": 110.88,
            "bin_start": 109.79999999999998,
            "count": 0
           },
           {
            "bin_end": 111.96,
            "bin_start": 110.88,
            "count": 0
           },
           {
            "bin_end": 113.03999999999999,
            "bin_start": 111.96,
            "count": 0
           },
           {
            "bin_end": 114.11999999999999,
            "bin_start": 113.03999999999999,
            "count": 1
           },
           {
            "bin_end": 115.19999999999999,
            "bin_start": 114.11999999999999,
            "count": 2
           }
          ],
          "max": "115.19999999999999",
          "min": "104.39999999999999",
          "nan_count": 0,
          "unique_count": 6
         }
        },
        {
         "dtype": "float64",
         "name": "endY",
         "stats": {
          "histogram": [
           {
            "bin_end": 33.6,
            "bin_start": 30.400000000000002,
            "count": 2
           },
           {
            "bin_end": 36.800000000000004,
            "bin_start": 33.6,
            "count": 0
           },
           {
            "bin_end": 40,
            "bin_start": 36.800000000000004,
            "count": 0
           },
           {
            "bin_end": 43.2,
            "bin_start": 40,
            "count": 1
           },
           {
            "bin_end": 46.400000000000006,
            "bin_start": 43.2,
            "count": 2
           },
           {
            "bin_end": 49.60000000000001,
            "bin_start": 46.400000000000006,
            "count": 0
           },
           {
            "bin_end": 52.800000000000004,
            "bin_start": 49.60000000000001,
            "count": 0
           },
           {
            "bin_end": 56,
            "bin_start": 52.800000000000004,
            "count": 0
           },
           {
            "bin_end": 59.2,
            "bin_start": 56,
            "count": 1
           },
           {
            "bin_end": 62.400000000000006,
            "bin_start": 59.2,
            "count": 1
           }
          ],
          "max": "62.400000000000006",
          "min": "30.400000000000002",
          "nan_count": 0,
          "unique_count": 7
         }
        },
        {
         "dtype": "float64",
         "name": "beginning",
         "stats": {
          "histogram": [
           {
            "bin_end": 26.393646963388022,
            "bin_start": 23.4776489453267,
            "count": 1
           },
           {
            "bin_end": 29.309644981449345,
            "bin_start": 26.393646963388022,
            "count": 0
           },
           {
            "bin_end": 32.22564299951067,
            "bin_start": 29.309644981449345,
            "count": 1
           },
           {
            "bin_end": 35.141641017572,
            "bin_start": 32.22564299951067,
            "count": 1
           },
           {
            "bin_end": 38.057639035633315,
            "bin_start": 35.141641017572,
            "count": 1
           },
           {
            "bin_end": 40.973637053694645,
            "bin_start": 38.057639035633315,
            "count": 2
           },
           {
            "bin_end": 43.88963507175597,
            "bin_start": 40.973637053694645,
            "count": 0
           },
           {
            "bin_end": 46.80563308981729,
            "bin_start": 43.88963507175597,
            "count": 0
           },
           {
            "bin_end": 49.721631107878615,
            "bin_start": 46.80563308981729,
            "count": 0
           },
           {
            "bin_end": 52.63762912593994,
            "bin_start": 49.721631107878615,
            "count": 1
           }
          ],
          "max": "52.63762912593994",
          "min": "23.4776489453267",
          "nan_count": 0,
          "unique_count": 7
         }
        },
        {
         "dtype": "float64",
         "name": "end",
         "stats": {
          "histogram": [
           {
            "bin_end": 11.978778949300812,
            "bin_start": 10.733126291998992,
            "count": 2
           },
           {
            "bin_end": 13.224431606602632,
            "bin_start": 11.978778949300812,
            "count": 1
           },
           {
            "bin_end": 14.470084263904454,
            "bin_start": 13.224431606602632,
            "count": 0
           },
           {
            "bin_end": 15.715736921206274,
            "bin_start": 14.470084263904454,
            "count": 1
           },
           {
            "bin_end": 16.961389578508093,
            "bin_start": 15.715736921206274,
            "count": 0
           },
           {
            "bin_end": 18.207042235809915,
            "bin_start": 16.961389578508093,
            "count": 2
           },
           {
            "bin_end": 19.452694893111733,
            "bin_start": 18.207042235809915,
            "count": 0
           },
           {
            "bin_end": 20.698347550413555,
            "bin_start": 19.452694893111733,
            "count": 0
           },
           {
            "bin_end": 21.944000207715376,
            "bin_start": 20.698347550413555,
            "count": 0
           },
           {
            "bin_end": 23.189652865017194,
            "bin_start": 21.944000207715376,
            "count": 1
           }
          ],
          "max": "23.189652865017194",
          "min": "10.733126291998992",
          "nan_count": 0,
          "unique_count": 7
         }
        },
        {
         "dtype": "bool",
         "name": "progressive",
         "stats": {
          "categories": [
           {
            "count": 7,
            "name": "True"
           }
          ],
          "nan_count": 0,
          "unique_count": 1
         }
        },
        {
         "dtype": "int64",
         "name": "_deepnote_index_column"
        }
       ],
       "row_count": 7,
       "rows": [
        {
         "_deepnote_index_column": 3,
         "beginning": 32.19937887599697,
         "end": 23.189652865017194,
         "endX": 114,
         "endY": 62.400000000000006,
         "minute": 46,
         "outcome": "Successful",
         "player": "KDB",
         "progressive": "True",
         "second": 7,
         "type": "Pass",
         "x": 91.2,
         "y": 54.400000000000006
        },
        {
         "_deepnote_index_column": 4,
         "beginning": 39.2,
         "end": 10.733126291998992,
         "endX": 115.19999999999999,
         "endY": 30.400000000000002,
         "minute": 46,
         "outcome": "Unsuccessful",
         "player": "KDB",
         "progressive": "True",
         "second": 55,
         "type": "Pass",
         "x": 120,
         "y": 0.8
        },
        {
         "_deepnote_index_column": 23,
         "beginning": 33.02605032394883,
         "end": 17.18138527593163,
         "endX": 104.39999999999999,
         "endY": 32.800000000000004,
         "minute": 67,
         "outcome": "Unsuccessful",
         "player": "KDB",
         "progressive": "True",
         "second": 40,
         "type": "Pass",
         "x": 87.6,
         "y": 46.400000000000006
        },
        {
         "_deepnote_index_column": 27,
         "beginning": 23.4776489453267,
         "end": 17.472263734273252,
         "endX": 115.19999999999999,
         "endY": 56.800000000000004,
         "minute": 71,
         "outcome": "Successful",
         "player": "KDB",
         "progressive": "True",
         "second": 46,
         "type": "Pass",
         "x": 97.2,
         "y": 45.6
        },
        {
         "_deepnote_index_column": 42,
         "beginning": 35.70770225035489,
         "end": 14.945233353815528,
         "endX": 105.6,
         "endY": 44,
         "minute": 83,
         "outcome": "Unsuccessful",
         "player": "KDB",
         "progressive": "True",
         "second": 14,
         "type": "Pass",
         "x": 85.2,
         "y": 32
        },
        {
         "_deepnote_index_column": 45,
         "beginning": 40.13776276774778,
         "end": 10.917875251164942,
         "endX": 109.2,
         "endY": 41.6,
         "minute": 90,
         "outcome": "Unsuccessful",
         "player": "KDB",
         "progressive": "True",
         "second": 18,
         "type": "Pass",
         "x": 85.2,
         "y": 20
        },
        {
         "_deepnote_index_column": 48,
         "beginning": 52.63762912593994,
         "end": 12.41933975700802,
         "endX": 108,
         "endY": 43.2,
         "minute": 94,
         "outcome": "Unsuccessful",
         "player": "KDB",
         "progressive": "True",
         "second": 7,
         "type": "Pass",
         "x": 68.39999999999999,
         "y": 29.6
        }
       ]
      },
      "text/html": [
       "<div>\n",
       "<style scoped>\n",
       "    .dataframe tbody tr th:only-of-type {\n",
       "        vertical-align: middle;\n",
       "    }\n",
       "\n",
       "    .dataframe tbody tr th {\n",
       "        vertical-align: top;\n",
       "    }\n",
       "\n",
       "    .dataframe thead th {\n",
       "        text-align: right;\n",
       "    }\n",
       "</style>\n",
       "<table border=\"1\" class=\"dataframe\">\n",
       "  <thead>\n",
       "    <tr style=\"text-align: right;\">\n",
       "      <th></th>\n",
       "      <th>player</th>\n",
       "      <th>minute</th>\n",
       "      <th>second</th>\n",
       "      <th>x</th>\n",
       "      <th>y</th>\n",
       "      <th>type</th>\n",
       "      <th>outcome</th>\n",
       "      <th>endX</th>\n",
       "      <th>endY</th>\n",
       "      <th>beginning</th>\n",
       "      <th>end</th>\n",
       "      <th>progressive</th>\n",
       "    </tr>\n",
       "  </thead>\n",
       "  <tbody>\n",
       "    <tr>\n",
       "      <th>3</th>\n",
       "      <td>KDB</td>\n",
       "      <td>46</td>\n",
       "      <td>7</td>\n",
       "      <td>91.2</td>\n",
       "      <td>54.4</td>\n",
       "      <td>Pass</td>\n",
       "      <td>Successful</td>\n",
       "      <td>114.0</td>\n",
       "      <td>62.4</td>\n",
       "      <td>32.199379</td>\n",
       "      <td>23.189653</td>\n",
       "      <td>True</td>\n",
       "    </tr>\n",
       "    <tr>\n",
       "      <th>4</th>\n",
       "      <td>KDB</td>\n",
       "      <td>46</td>\n",
       "      <td>55</td>\n",
       "      <td>120.0</td>\n",
       "      <td>0.8</td>\n",
       "      <td>Pass</td>\n",
       "      <td>Unsuccessful</td>\n",
       "      <td>115.2</td>\n",
       "      <td>30.4</td>\n",
       "      <td>39.200000</td>\n",
       "      <td>10.733126</td>\n",
       "      <td>True</td>\n",
       "    </tr>\n",
       "    <tr>\n",
       "      <th>23</th>\n",
       "      <td>KDB</td>\n",
       "      <td>67</td>\n",
       "      <td>40</td>\n",
       "      <td>87.6</td>\n",
       "      <td>46.4</td>\n",
       "      <td>Pass</td>\n",
       "      <td>Unsuccessful</td>\n",
       "      <td>104.4</td>\n",
       "      <td>32.8</td>\n",
       "      <td>33.026050</td>\n",
       "      <td>17.181385</td>\n",
       "      <td>True</td>\n",
       "    </tr>\n",
       "    <tr>\n",
       "      <th>27</th>\n",
       "      <td>KDB</td>\n",
       "      <td>71</td>\n",
       "      <td>46</td>\n",
       "      <td>97.2</td>\n",
       "      <td>45.6</td>\n",
       "      <td>Pass</td>\n",
       "      <td>Successful</td>\n",
       "      <td>115.2</td>\n",
       "      <td>56.8</td>\n",
       "      <td>23.477649</td>\n",
       "      <td>17.472264</td>\n",
       "      <td>True</td>\n",
       "    </tr>\n",
       "    <tr>\n",
       "      <th>42</th>\n",
       "      <td>KDB</td>\n",
       "      <td>83</td>\n",
       "      <td>14</td>\n",
       "      <td>85.2</td>\n",
       "      <td>32.0</td>\n",
       "      <td>Pass</td>\n",
       "      <td>Unsuccessful</td>\n",
       "      <td>105.6</td>\n",
       "      <td>44.0</td>\n",
       "      <td>35.707702</td>\n",
       "      <td>14.945233</td>\n",
       "      <td>True</td>\n",
       "    </tr>\n",
       "    <tr>\n",
       "      <th>45</th>\n",
       "      <td>KDB</td>\n",
       "      <td>90</td>\n",
       "      <td>18</td>\n",
       "      <td>85.2</td>\n",
       "      <td>20.0</td>\n",
       "      <td>Pass</td>\n",
       "      <td>Unsuccessful</td>\n",
       "      <td>109.2</td>\n",
       "      <td>41.6</td>\n",
       "      <td>40.137763</td>\n",
       "      <td>10.917875</td>\n",
       "      <td>True</td>\n",
       "    </tr>\n",
       "    <tr>\n",
       "      <th>48</th>\n",
       "      <td>KDB</td>\n",
       "      <td>94</td>\n",
       "      <td>7</td>\n",
       "      <td>68.4</td>\n",
       "      <td>29.6</td>\n",
       "      <td>Pass</td>\n",
       "      <td>Unsuccessful</td>\n",
       "      <td>108.0</td>\n",
       "      <td>43.2</td>\n",
       "      <td>52.637629</td>\n",
       "      <td>12.419340</td>\n",
       "      <td>True</td>\n",
       "    </tr>\n",
       "  </tbody>\n",
       "</table>\n",
       "</div>"
      ],
      "text/plain": [
       "   player  minute  second      x     y  type       outcome   endX  endY  \\\n",
       "3     KDB      46       7   91.2  54.4  Pass    Successful  114.0  62.4   \n",
       "4     KDB      46      55  120.0   0.8  Pass  Unsuccessful  115.2  30.4   \n",
       "23    KDB      67      40   87.6  46.4  Pass  Unsuccessful  104.4  32.8   \n",
       "27    KDB      71      46   97.2  45.6  Pass    Successful  115.2  56.8   \n",
       "42    KDB      83      14   85.2  32.0  Pass  Unsuccessful  105.6  44.0   \n",
       "45    KDB      90      18   85.2  20.0  Pass  Unsuccessful  109.2  41.6   \n",
       "48    KDB      94       7   68.4  29.6  Pass  Unsuccessful  108.0  43.2   \n",
       "\n",
       "    beginning        end  progressive  \n",
       "3   32.199379  23.189653         True  \n",
       "4   39.200000  10.733126         True  \n",
       "23  33.026050  17.181385         True  \n",
       "27  23.477649  17.472264         True  \n",
       "42  35.707702  14.945233         True  \n",
       "45  40.137763  10.917875         True  \n",
       "48  52.637629  12.419340         True  "
      ]
     },
     "execution_count": 25,
     "metadata": {},
     "output_type": "execute_result"
    }
   ],
   "source": [
    "df3 = df2.loc[df2['progressive'] == True]\n",
    "df3"
   ]
  },
  {
   "cell_type": "markdown",
   "metadata": {
    "cell_id": "976d95ea7e054d58b27813fbdc04f35f",
    "deepnote_cell_type": "markdown"
   },
   "source": [
    "As we can see, most the progressive passes that Kevin did are **unsuccessful** in the second half of this match."
   ]
  },
  {
   "cell_type": "code",
   "execution_count": 31,
   "metadata": {
    "cell_id": "02c3cfd0f3ed44cba1645e9d50ad0bc5",
    "deepnote_cell_type": "code",
    "deepnote_to_be_reexecuted": false,
    "execution_millis": 42,
    "execution_start": 1686816466873,
    "source_hash": "bbec11cb"
   },
   "outputs": [
    {
     "data": {
      "text/plain": [
       "<matplotlib.collections.LineCollection at 0x7fe204dc3650>"
      ]
     },
     "execution_count": 31,
     "metadata": {},
     "output_type": "execute_result"
    },
    {
     "data": {
      "image/png": "[encoded data removed]",
      "text/plain": [
       "<Figure size 1600x1100 with 1 Axes>"
      ]
     },
     "metadata": {
      "image/png": {
       "height": 1111,
       "width": 1607
      }
     },
     "output_type": "display_data"
    }
   ],
   "source": [
    "# Visualizing the progressive passes made by KDB\n",
    "pitch = Pitch(pitch_type='statsbomb',pitch_color='#22312b', line_color='#c7d5cc')\n",
    "fig,ax = pitch.draw(figsize=(16, 11), constrained_layout=True, tight_layout=False)\n",
    "fig.set_facecolor('#22312b')\n",
    "plt.gca().invert_yaxis()\n",
    "\n",
    "pitch.lines(df3.x,df3.y,df3.endX,df3.endY,comet=True,ax=ax,)"
   ]
  },
  {
   "cell_type": "markdown",
   "metadata": {
    "cell_id": "50831ad16ec749668527ef43c6cbdbb0",
    "deepnote_cell_type": "markdown"
   },
   "source": [
    "Therefore, not all passes are creating chances to score goals. Only progressive passes (like crossing) are the \"key\" passes. That's why passes like backward passes have a negative impact on winning a match, since it has an opposite relation with goals."
   ]
  },
  {
   "cell_type": "markdown",
   "metadata": {
    "cell_id": "a82e365dc13b45abb70c16c517f2cfb6",
    "deepnote_cell_type": "markdown",
    "tags": []
   },
   "source": [
    "## Summary\n",
    "\n",
    "Overall, this project I did are basically analyzing the important facotrs contributing to win a match in Premier League. Scoring a goal is the key attacking input for winning. outfielder_block and goals_conceded are the key defending inputs for winning."
   ]
  },
  {
   "cell_type": "markdown",
   "metadata": {
    "cell_id": "792746ae9f7d424692651ac3cd8ecf7f",
    "deepnote_cell_type": "markdown",
    "tags": []
   },
   "source": [
    "## References\n",
    "\n",
    "Your code above should include references.  Here is some additional space for references."
   ]
  },
  {
   "cell_type": "markdown",
   "metadata": {
    "cell_id": "747e44e4264243e39765c2cf96eea908",
    "deepnote_cell_type": "markdown",
    "tags": []
   },
   "source": [
    "* What is the source of your dataset(s)?"
   ]
  },
  {
   "cell_type": "markdown",
   "metadata": {
    "cell_id": "5ff21b5b75fe4047b54637714bb22847",
    "deepnote_cell_type": "markdown"
   },
   "source": [
    "[Data](https://www.kaggle.com/datasets/zaeemnalla/premier-league?select=stats.csv)"
   ]
  },
  {
   "cell_type": "markdown",
   "metadata": {
    "cell_id": "436e5e431a214183b8fa2ab6739313c7",
    "deepnote_cell_type": "markdown",
    "deepnote_to_be_reexecuted": false,
    "execution_millis": 0,
    "execution_start": 1652916033453,
    "source_hash": "aa45eba7",
    "tags": []
   },
   "source": [
    "* List any other references that you found helpful."
   ]
  },
  {
   "cell_type": "markdown",
   "metadata": {
    "cell_id": "21c3456685c8427caaf0cd320b0c2578",
    "deepnote_cell_type": "markdown"
   },
   "source": [
    "[Prgressive Pass Def](https://www.stlcitysc.com/news/soccer-stats-explained-progressive-passing)\n",
    "[Create a soccer pitch](https://www.youtube.com/watch?v=55k1mCRyd2k)"
   ]
  },
  {
   "cell_type": "markdown",
   "metadata": {
    "cell_id": "2c48dc1931904deab0246bfa8a76032e",
    "deepnote_cell_type": "markdown",
    "tags": []
   },
   "source": [
    "## Submission\n",
    "\n",
    "Using the Share button at the top right, **enable Comment privileges** for anyone with a link to the project. Then submit that link on Canvas."
   ]
  },
  {
   "cell_type": "markdown",
   "metadata": {
    "created_in_deepnote_cell": true,
    "deepnote_cell_type": "markdown"
   },
   "source": [
    "<a style='text-decoration:none;line-height:16px;display:flex;color:#5B5B62;padding:10px;justify-content:end;' href='https://deepnote.com?utm_source=created-in-deepnote-cell&projectId=c163aa9f-e454-4344-b4d7-80ed3f1e3d79' target=\"_blank\">\n",
    "<img alt='Created in deepnote.com' style='display:inline;max-height:16px;margin:0px;margin-right:7.5px;' src='data:image/svg+xml;base64,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' > </img>\n",
    "Created in <span style='font-weight:600;margin-left:4px;'>Deepnote</span></a>"
   ]
  }
 ],
 "metadata": {
  "deepnote": {
   "is_reactive": false
  },
  "deepnote_execution_queue": [],
  "deepnote_notebook_id": "f05be895e8ca4d3e9ea3441c9d41ec91",
  "deepnote_persisted_session": {
   "createdAt": "2023-06-15T08:31:55.613Z"
  },
  "kernelspec": {
   "display_name": "Python 3 (ipykernel)",
   "language": "python",
   "name": "python3"
  },
  "language_info": {
   "codemirror_mode": {
    "name": "ipython",
    "version": 3
   },
   "file_extension": ".py",
   "mimetype": "text/x-python",
   "name": "python",
   "nbconvert_exporter": "python",
   "pygments_lexer": "ipython3",
   "version": "3.9.16"
  }
 },
 "nbformat": 4,
 "nbformat_minor": 4
}
