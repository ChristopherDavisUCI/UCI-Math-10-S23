{
 "cells": [
  {
   "cell_type": "markdown",
   "metadata": {
    "cell_id": "fdacc53e920d4de296fb9024a3364ab6",
    "deepnote_cell_type": "markdown",
    "tags": []
   },
   "source": [
    "# Worksheet 15\n",
    "\n",
    "Authors (3 maximum; use your full names): **BLANK**"
   ]
  },
  {
   "cell_type": "markdown",
   "metadata": {
    "cell_id": "9f3d9785c8314ad083267e897d835a6c",
    "deepnote_cell_type": "markdown",
    "tags": []
   },
   "source": [
    "In this worksheet, we will use a random forest classifier to classify handwritten digits.\n",
    "\n",
    "When we used a single unconstrained decision tree in the [Week 8 videos](https://christopherdavisuci.github.io/UCI-Math-10-F22/Week8/Week8-Videos.html#using-a-decision-tree-with-mnist), we got a test accuracy of 88%.  That is already a good performance, but we will be able to do better using a random forest."
   ]
  },
  {
   "cell_type": "markdown",
   "metadata": {
    "cell_id": "1901d981480e427ab6ebccba08c758e9",
    "deepnote_cell_type": "markdown",
    "tags": []
   },
   "source": [
    "## Question 0 - Setting up the workspace\n",
    "\n",
    "Make sure you are working in a (free) Pro Deepnote workspace; see the [Worksheet 0 instructions](https://christopherdavisuci.github.io/UCI-Math-10-F22/Week0/Worksheet0.html#question).  The computations are more memory-intensive than usual in this worksheet.  It should say \"Pro\" or \"Education\" in the lower-left corner.\n",
    "\n",
    "![Pro logo](../images/pro.png)"
   ]
  },
  {
   "cell_type": "markdown",
   "metadata": {
    "cell_id": "417fbe0e39ac46478360a1081ae822bc",
    "deepnote_cell_type": "markdown",
    "tags": []
   },
   "source": [
    "## Question 1 - Loading the data\n",
    "\n",
    "* Load the handwritten digit dataset by executing the following code.  (**Warning**. This dataset is bigger than all of the other datasets we've used in Math 10. If you run this code multiple times, the system may restart.)\n",
    "```\n",
    "from sklearn.datasets import fetch_openml\n",
    "\n",
    "mnist = fetch_openml('mnist_784')\n",
    "```"
   ]
  },
  {
   "cell_type": "markdown",
   "metadata": {
    "cell_id": "28a26fdcce4e4c198c6414188e689420",
    "deepnote_cell_type": "markdown",
    "tags": []
   },
   "source": [
    "* How many input columns are there?  How many data points are there?  (You might want to review the [Week 8 videos](https://christopherdavisuci.github.io/UCI-Math-10-F22/Week8/Week8-Videos.html) for reminders about this dataset.)"
   ]
  },
  {
   "cell_type": "markdown",
   "metadata": {
    "cell_id": "4284ebd87d874d2889a0bc4e7ead4e97",
    "deepnote_cell_type": "markdown",
    "tags": []
   },
   "source": [
    "* Convert the pandas DataFrame `mnist.data` to a NumPy array by using the `to_numpy` method.  The entries are all positive integers between 0 and 255 (inclusive), so convert that NumPy array to an unsigned 8-bit integer dtype by using the NumPy array method `astype` with the argument `np.uint8` (be sure you import NumPy).  Name the resulting NumPy array `X`.  (Having to make these NumPy conversions is a little strange.  I'll point out below which step requires the conversions.)"
   ]
  },
  {
   "cell_type": "markdown",
   "metadata": {
    "cell_id": "9243b9f30e2546d0a04f624ef114a80b",
    "deepnote_cell_type": "markdown",
    "tags": []
   },
   "source": [
    "* Convert the pandas Series `mnist.target` to a NumPy array again by using the `to_numpy` method, and again convert the data type to unsigned 8-bit integers.  Name the resulting NumPy array `y`."
   ]
  },
  {
   "cell_type": "markdown",
   "metadata": {
    "cell_id": "3db90a3fce9e451ebe69cbd6687dfb63",
    "deepnote_cell_type": "markdown",
    "tags": []
   },
   "source": [
    "* How many bytes is `X`?  Use the `getsizeof` function from the `sys` module.  Make the number easier to read by using an f-string and including commas: `print(???\"The NumPy array X is {???:,} bytes.\")`.  This is significantly bigger than our usual datasets (but it still probably does not qualify as \"big data\")."
   ]
  },
  {
   "cell_type": "markdown",
   "metadata": {
    "cell_id": "75a113095bbf4be1ac8285bd149c9e04",
    "deepnote_cell_type": "markdown",
    "tags": []
   },
   "source": [
    "* Divide `X` and `y` into a training set and a test set, `X_train, X_test, y_train, y_test`, by using `train_test_split` with a `train_size` of `0.8` and a `random_state` of `0`."
   ]
  },
  {
   "cell_type": "markdown",
   "metadata": {
    "cell_id": "1be340c4f338487fa503c44df69bd7a5",
    "deepnote_cell_type": "markdown",
    "tags": []
   },
   "source": [
    "* Check your answer: `y_test` should be a length 14,000 NumPy array with a `dtype` of `uint8`.  The first three values in `y_test` should be `0`, `4`, `1`."
   ]
  },
  {
   "cell_type": "markdown",
   "metadata": {
    "cell_id": "6f23d51f1e1f4f2eba223bdfda0c82e1",
    "deepnote_cell_type": "markdown",
    "tags": []
   },
   "source": [
    "## Question 2 - Displaying a handwritten digit\n",
    "\n",
    "* We just saw that `y_test[1]` corresponds to the digit `4`.  Display the corresponding handwritten digit from `X_test` using `ax.imshow` where `ax` is a Matplotlib Axes object.  Again, see the Week 8 videos for a reminder of how to do this.  You will need to use `reshape` because the original handwritten digits are 28-by-28 pixels, whereas they are stored in `X_test` as one-dimensional NumPy arrays of length $28^2 = 784$."
   ]
  },
  {
   "cell_type": "markdown",
   "metadata": {
    "cell_id": "264d84535c9b4538975c69ba76d88583",
    "deepnote_cell_type": "markdown",
    "tags": []
   },
   "source": [
    "## Question 3 - Fitting a random forest classifier\n",
    "\n",
    "In the third [Week 8 video](https://youtu.be/TOFFhHO_NNk), we used a decision tree classifier with no restrictions and got a test accuracy of 88% (meaning 88% of handwritten digits were correctly identified).  Your goal in this question is to get a test accuracy of at least 92% using a random forest classifier.\n",
    "\n",
    "* Import the `RandomForestClassifier` class from scikit-learn's `ensemble` module.\n",
    "* Create an instance of this class and name it `rfc` (for random forest classifier).  Experiment with different values of `n_estimators`, `max_depth` and/or `max_leaf_nodes`.  Also use `random_state` to get reproducible results.  Fit the classifier to the training data.  Try to find values which yield a test score (`rfc.score(X_test, y_test)`) of at least `0.92`.  (**Warning**.  Start with small values and work your way up.  If you start with even medium-sized values, the computer may run out of memory and you will have to restart the notebook.  The `fit` step for my values took about 20 seconds.)\n"
   ]
  },
  {
   "cell_type": "markdown",
   "metadata": {
    "cell_id": "57def1899d3d4e0b9de58d8ac449f576",
    "deepnote_cell_type": "markdown",
    "tags": []
   },
   "source": [
    "## Question 4 - The individual trees in the random forest\n",
    "\n",
    "* What type of object is `rfc.estimators_`?\n",
    "* What is the length of `rfc.estimators_`?  (This and the following questions will only work if you have fit `rfc` in the previous step.)\n",
    "* How does the length of `rfc.estimators_` relate to the parameters you used above?\n",
    "* What is the type of the zero-th element in `rfc.estimators_`?\n",
    "* Using list comprehension, make a list `score_list` containing `clf.score(X_test, y_test)` for each classifier in `rfc.estimators_`.  (This is the step that would not work if we didn't convert to NumPy arrays above.)\n",
    "* What is the maximum value in `score_list`?\n",
    "* How does this result relate to the expression, \"greater than the sum of its parts\", or to the phrase, \"the wisdom of crowds\"?"
   ]
  },
  {
   "cell_type": "markdown",
   "metadata": {
    "cell_id": "258b90478905464eb839e38fe718a00d",
    "deepnote_cell_type": "markdown",
    "tags": []
   },
   "source": [
    "## Question 5 - A DataFrame containing the results\n",
    "\n",
    "We now return back to `rfc`.\n",
    "\n",
    "* Make a pandas DataFrame df containing two columns.  The first column should be called \"Digit\" and should contain the values from `y_test`.  The second column should be called \"Pred\" and should contain the values predicted by `rfc` for the input `X_test`.  (Reality check: `df` should have 14000 rows and 2 columns.)"
   ]
  },
  {
   "cell_type": "markdown",
   "metadata": {
    "cell_id": "9ca44ea54646480890c43ee063b65936",
    "deepnote_cell_type": "markdown",
    "tags": []
   },
   "source": [
    "## Question 6 - Confusion matrix\n",
    "\n",
    "* Begin making a confusion matrix for this DataFrame using the following code.  This code consists of two Altair charts, a rectangle chart and a text chart.  For now it will look a little strange.\n",
    "```\n",
    "import altair as alt\n",
    "alt.data_transformers.enable('default', max_rows=15000)\n",
    "\n",
    "c = alt.Chart(df).mark_rect().encode(\n",
    "    x=\"Digit:N\",\n",
    "    y=\"Pred:N\",\n",
    ")\n",
    "\n",
    "c_text = alt.Chart(df).mark_text(color=\"white\").encode(\n",
    "    x=\"Digit:N\",\n",
    "    y=\"Pred:N\",\n",
    "    text=\"Pred\"\n",
    ")\n",
    "\n",
    "(c+c_text).properties(\n",
    "    height=400,\n",
    "    width=400\n",
    ")\n",
    "```"
   ]
  },
  {
   "cell_type": "markdown",
   "metadata": {
    "cell_id": "b35ddd1dc8c8478bb3d82ca552c1b385",
    "deepnote_cell_type": "markdown",
    "tags": []
   },
   "source": [
    "* Specify that the color on the rectangle chart should correspond to `\"count()\"`, and use one of the [color schemes](https://vega.github.io/vega/docs/schemes/) that seems appropriate, as in `scale=alt.Scale(scheme=\"???\"))`.  (Don't use a categorical scheme and don't use a cyclical scheme.  Try to find a scheme where the differences among the smaller numbers are visible.)\n",
    "* You can also add `reverse=True` inside `alt.Scale` if you want the colors to go in the opposite order.  Feel free to change the text color from white if it makes it easier to see.\n",
    "* Change the text on the text chart from `\"Pred\"` to `\"count()\"`."
   ]
  },
  {
   "cell_type": "markdown",
   "metadata": {
    "cell_id": "7dc0db1d937449b6b68890fa8f7efae6",
    "deepnote_cell_type": "markdown",
    "tags": []
   },
   "source": [
    "## Question 7 - Interpreting the confusion matrix\n",
    "\n",
    "Use the above confusion matrix to answer the following questions.\n",
    "\n",
    "* What is an example of a (true digit, predicted digit) pair that never occurs in the test data?  (Hint/warning.  Pay attention to the order.  The \"Digit\" column corresponds to the true digit.)\n",
    "* What is the most common mistake made by the classifier when attempting to classify a 9 digit?\n",
    "* Does that mistake seem reasonable?  Why or why not?\n",
    "* Try evaluating the following code.  Do you see why the pandas Series it displays relates to the confusion matrix?\n",
    "```\n",
    "df.loc[df[\"Pred\"] == 9, \"Digit\"].value_counts(sort=False)\n",
    "```"
   ]
  },
  {
   "cell_type": "markdown",
   "metadata": {
    "cell_id": "7b339b65d6114defa4d15c5cf64b6d71",
    "deepnote_cell_type": "markdown",
    "tags": []
   },
   "source": [
    "## Question 8 - Feature importances\n",
    "\n",
    "In general, random forests are more difficult to interpret than decision trees.  (There is no corresponding diagram, for example.)  But random forests can still be used to identify feature importances.\n",
    "\n",
    "* Call the `reshape` method on the `feature_imporances_` attribute of `rfc` so that it becomes a 28-by-28 NumPy array.\n",
    "* Visualize the result by using the following, where `???` gets replaced by the 28-by-28 NumPy array.  (Here we are using the standard name of `plt` for the Pyplot module.)\n",
    "```\n",
    "fig, ax = plt.subplots()\n",
    "ax.imshow(???)\n",
    "```\n",
    "* Why do you think the pixels around the perimeter are all the same color?"
   ]
  },
  {
   "cell_type": "markdown",
   "metadata": {
    "cell_id": "7e7374d9874745f6a33a4adb386458fe",
    "deepnote_cell_type": "markdown",
    "tags": []
   },
   "source": [
    "## Question 9 - An incorrect digit\n",
    "\n",
    "* Find an example of a digit in the test set that was mis-classified by `rfc`.  (Hint.  Start by using `df[\"Digit\"] != df[\"Pred\"]`.  Then you could for example use Boolean indexing, or you could convert to a NumPy array and then use NumPy's `nonzero` function, which will return a length-1 tuple whose only element is a NumPy array containing the integer locations where the value is `True`.)\n",
    "* Display the mis-classified handwritten digit using `imshow`.\n",
    "* Display the true value (from `y_test` or from `df[\"Digit\"]`).\n",
    "* Display the predicted value (using `rfc.predict` or using `df[\"Pred\"]`).\n",
    "* Does the mistake by our random forest classifier seem reasonable?  (Some will, some won't.  Find an example where the mistake seems reasonable.)"
   ]
  },
  {
   "cell_type": "markdown",
   "metadata": {
    "cell_id": "ad3c9cb9b008455eb844612e955b05fd",
    "deepnote_cell_type": "markdown",
    "tags": []
   },
   "source": [
    "## Reminder\n",
    "\n",
    "Every group member needs to submit this on Canvas (even if you all submit the same link).\n",
    "\n",
    "Be sure you've included the (full) names of you and your group members at the top after \"Authors\".  You might consider restarting this notebook (the Deepnote refresh icon, not your browser refresh icon) and running it again to make sure it's working.\n"
   ]
  },
  {
   "cell_type": "markdown",
   "metadata": {
    "cell_id": "375ea24a9d5545f9999e7da202b74a2a",
    "deepnote_cell_type": "markdown",
    "tags": []
   },
   "source": [
    "## Submission\n",
    "\n",
    "Using the Share button at the top right, **enable Comment access level** for anyone with the link. Then submit that link on Canvas."
   ]
  },
  {
   "cell_type": "markdown",
   "metadata": {
    "created_in_deepnote_cell": true,
    "deepnote_cell_type": "markdown",
    "tags": []
   },
   "source": [
    "<a style='text-decoration:none;line-height:16px;display:flex;color:#5B5B62;padding:10px;justify-content:end;' href='https://deepnote.com?utm_source=created-in-deepnote-cell&projectId=b5575e63-6a41-4f29-bf1d-88636c6d01ec' target=\"_blank\">\n",
    "<img alt='Created in deepnote.com' style='display:inline;max-height:16px;margin:0px;margin-right:7.5px;' src='data:image/svg+xml;base64,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' > </img>\n",
    "Created in <span style='font-weight:600;margin-left:4px;'>Deepnote</span></a>"
   ]
  }
 ],
 "metadata": {
  "deepnote": {},
  "deepnote_execution_queue": [],
  "deepnote_notebook_id": "12039898db104a0d87406e9eaa108ec6",
  "kernelspec": {
   "display_name": "Python 3 (ipykernel)",
   "language": "python",
   "name": "python3"
  },
  "language_info": {
   "codemirror_mode": {
    "name": "ipython",
    "version": 3
   },
   "file_extension": ".py",
   "mimetype": "text/x-python",
   "name": "python",
   "nbconvert_exporter": "python",
   "pygments_lexer": "ipython3",
   "version": "3.9.13"
  }
 },
 "nbformat": 4,
 "nbformat_minor": 4
}
